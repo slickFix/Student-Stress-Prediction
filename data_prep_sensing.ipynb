{
 "cells": [
  {
   "cell_type": "code",
   "execution_count": 1,
   "metadata": {},
   "outputs": [],
   "source": [
    "### importing libraries\n",
    "\n",
    "from datetime import datetime,timedelta\n",
    "from collections import defaultdict\n",
    "from tqdm import tqdm\n",
    "\n",
    "import numpy as np\n",
    "import pandas as pd\n",
    "import seaborn as sns\n",
    "\n",
    "import json\n",
    "import os\n",
    "import gc"
   ]
  },
  {
   "cell_type": "code",
   "execution_count": 2,
   "metadata": {},
   "outputs": [],
   "source": [
    "### seting the data directory\n",
    "\n",
    "datset_rel_path = 'data/dataset/'"
   ]
  },
  {
   "cell_type": "code",
   "execution_count": 3,
   "metadata": {},
   "outputs": [
    {
     "data": {
      "text/plain": [
       "'/home/sidd/workspace/Student-Stress-Prediction'"
      ]
     },
     "execution_count": 3,
     "metadata": {},
     "output_type": "execute_result"
    }
   ],
   "source": [
    "cwd = os.getcwd()\n",
    "cwd"
   ]
  },
  {
   "cell_type": "code",
   "execution_count": 4,
   "metadata": {},
   "outputs": [
    {
     "data": {
      "text/html": [
       "<div>\n",
       "<style scoped>\n",
       "    .dataframe tbody tr th:only-of-type {\n",
       "        vertical-align: middle;\n",
       "    }\n",
       "\n",
       "    .dataframe tbody tr th {\n",
       "        vertical-align: top;\n",
       "    }\n",
       "\n",
       "    .dataframe thead th {\n",
       "        text-align: right;\n",
       "    }\n",
       "</style>\n",
       "<table border=\"1\" class=\"dataframe\">\n",
       "  <thead>\n",
       "    <tr style=\"text-align: right;\">\n",
       "      <th></th>\n",
       "      <th>user_id</th>\n",
       "      <th>date_time</th>\n",
       "      <th>year</th>\n",
       "      <th>month</th>\n",
       "      <th>day</th>\n",
       "      <th>hours</th>\n",
       "      <th>minute</th>\n",
       "      <th>weekday</th>\n",
       "      <th>weeknumber</th>\n",
       "      <th>label_source</th>\n",
       "      <th>rating</th>\n",
       "      <th>stress_label</th>\n",
       "    </tr>\n",
       "  </thead>\n",
       "  <tbody>\n",
       "    <tr>\n",
       "      <th>0</th>\n",
       "      <td>u00</td>\n",
       "      <td>2013-03-25 11:54:00</td>\n",
       "      <td>2013</td>\n",
       "      <td>3</td>\n",
       "      <td>25</td>\n",
       "      <td>11</td>\n",
       "      <td>54</td>\n",
       "      <td>Mon</td>\n",
       "      <td>12</td>\n",
       "      <td>stress_ema</td>\n",
       "      <td>2</td>\n",
       "      <td>1</td>\n",
       "    </tr>\n",
       "    <tr>\n",
       "      <th>1</th>\n",
       "      <td>u00</td>\n",
       "      <td>2013-03-25 20:33:00</td>\n",
       "      <td>2013</td>\n",
       "      <td>3</td>\n",
       "      <td>25</td>\n",
       "      <td>20</td>\n",
       "      <td>33</td>\n",
       "      <td>Mon</td>\n",
       "      <td>12</td>\n",
       "      <td>stress_ema</td>\n",
       "      <td>2</td>\n",
       "      <td>1</td>\n",
       "    </tr>\n",
       "    <tr>\n",
       "      <th>2</th>\n",
       "      <td>u00</td>\n",
       "      <td>2013-03-26 18:12:00</td>\n",
       "      <td>2013</td>\n",
       "      <td>3</td>\n",
       "      <td>26</td>\n",
       "      <td>18</td>\n",
       "      <td>12</td>\n",
       "      <td>Tue</td>\n",
       "      <td>12</td>\n",
       "      <td>stress_ema</td>\n",
       "      <td>1</td>\n",
       "      <td>0</td>\n",
       "    </tr>\n",
       "    <tr>\n",
       "      <th>3</th>\n",
       "      <td>u00</td>\n",
       "      <td>2013-03-27 19:25:00</td>\n",
       "      <td>2013</td>\n",
       "      <td>3</td>\n",
       "      <td>27</td>\n",
       "      <td>19</td>\n",
       "      <td>25</td>\n",
       "      <td>Wed</td>\n",
       "      <td>12</td>\n",
       "      <td>stress_ema</td>\n",
       "      <td>1</td>\n",
       "      <td>0</td>\n",
       "    </tr>\n",
       "    <tr>\n",
       "      <th>4</th>\n",
       "      <td>u00</td>\n",
       "      <td>2013-03-28 11:43:00</td>\n",
       "      <td>2013</td>\n",
       "      <td>3</td>\n",
       "      <td>28</td>\n",
       "      <td>11</td>\n",
       "      <td>43</td>\n",
       "      <td>Thu</td>\n",
       "      <td>12</td>\n",
       "      <td>stress_ema</td>\n",
       "      <td>2</td>\n",
       "      <td>1</td>\n",
       "    </tr>\n",
       "  </tbody>\n",
       "</table>\n",
       "</div>"
      ],
      "text/plain": [
       "  user_id            date_time  year  month  day  hours  minute weekday  \\\n",
       "0     u00  2013-03-25 11:54:00  2013      3   25     11      54     Mon   \n",
       "1     u00  2013-03-25 20:33:00  2013      3   25     20      33     Mon   \n",
       "2     u00  2013-03-26 18:12:00  2013      3   26     18      12     Tue   \n",
       "3     u00  2013-03-27 19:25:00  2013      3   27     19      25     Wed   \n",
       "4     u00  2013-03-28 11:43:00  2013      3   28     11      43     Thu   \n",
       "\n",
       "   weeknumber label_source  rating  stress_label  \n",
       "0          12   stress_ema       2             1  \n",
       "1          12   stress_ema       2             1  \n",
       "2          12   stress_ema       1             0  \n",
       "3          12   stress_ema       1             0  \n",
       "4          12   stress_ema       2             1  "
      ]
     },
     "execution_count": 4,
     "metadata": {},
     "output_type": "execute_result"
    }
   ],
   "source": [
    "label_df = pd.read_csv('./data/label_df.csv')\n",
    "label_df.head()"
   ]
  },
  {
   "cell_type": "code",
   "execution_count": 5,
   "metadata": {},
   "outputs": [
    {
     "name": "stdout",
     "output_type": "stream",
     "text": [
      "<class 'pandas.core.frame.DataFrame'>\n",
      "RangeIndex: 2455 entries, 0 to 2454\n",
      "Data columns (total 12 columns):\n",
      " #   Column        Non-Null Count  Dtype         \n",
      "---  ------        --------------  -----         \n",
      " 0   user_id       2455 non-null   object        \n",
      " 1   date_time     2455 non-null   datetime64[ns]\n",
      " 2   year          2455 non-null   int64         \n",
      " 3   month         2455 non-null   int64         \n",
      " 4   day           2455 non-null   int64         \n",
      " 5   hours         2455 non-null   int64         \n",
      " 6   minute        2455 non-null   int64         \n",
      " 7   weekday       2455 non-null   object        \n",
      " 8   weeknumber    2455 non-null   int64         \n",
      " 9   label_source  2455 non-null   object        \n",
      " 10  rating        2455 non-null   int64         \n",
      " 11  stress_label  2455 non-null   int64         \n",
      "dtypes: datetime64[ns](1), int64(8), object(3)\n",
      "memory usage: 230.3+ KB\n"
     ]
    }
   ],
   "source": [
    "label_df['date_time'] = pd.to_datetime(label_df['date_time'])\n",
    "label_df.info()"
   ]
  },
  {
   "cell_type": "markdown",
   "metadata": {},
   "source": [
    "## Utility function"
   ]
  },
  {
   "cell_type": "code",
   "execution_count": 6,
   "metadata": {},
   "outputs": [],
   "source": [
    "# # label_df['date_time'].nunique(),len(label_df)\n",
    "\n",
    "# dup_sum =0\n",
    "\n",
    "# for u in label_df['user_id'].unique():\n",
    "#     t_df = label_df[label_df['user_id'] == u ]\n",
    "#     uni_en = len(set(t_df['date_time']))\n",
    "#     en = len(t_df)\n",
    "#     if uni_en != en:\n",
    "#         print(u,uni_en,en)\n",
    "#         dup_sum += en-uni_en\n",
    "\n",
    "# dup_sum\n",
    "\n"
   ]
  },
  {
   "cell_type": "code",
   "execution_count": 7,
   "metadata": {},
   "outputs": [
    {
     "data": {
      "text/plain": [
       "'01/01/2013, 01:23:45'"
      ]
     },
     "execution_count": 7,
     "metadata": {},
     "output_type": "execute_result"
    }
   ],
   "source": [
    "start_time =  1357032225\n",
    "# end_time = 1371284625\n",
    "\n",
    "\n",
    "def get_date_time(timestamp):\n",
    "  return datetime.fromtimestamp(timestamp).strftime(\"%m/%d/%Y, %H:%M:%S\")\n",
    "\n",
    "get_date_time(start_time)#,get_date_time(end_time)"
   ]
  },
  {
   "cell_type": "code",
   "execution_count": 8,
   "metadata": {},
   "outputs": [
    {
     "data": {
      "text/plain": [
       "True"
      ]
     },
     "execution_count": 8,
     "metadata": {},
     "output_type": "execute_result"
    }
   ],
   "source": [
    "get_date_time(start_time) == get_date_time(start_time)"
   ]
  },
  {
   "cell_type": "markdown",
   "metadata": {},
   "source": [
    "## App usage"
   ]
  },
  {
   "cell_type": "code",
   "execution_count": 9,
   "metadata": {},
   "outputs": [
    {
     "data": {
      "text/plain": [
       "49"
      ]
     },
     "execution_count": 9,
     "metadata": {},
     "output_type": "execute_result"
    }
   ],
   "source": [
    "app_usage_path = os.path.join(datset_rel_path,'app_usage')\n",
    "\n",
    "app_usage_files = os.listdir(app_usage_path)\n",
    "len(app_usage_files)"
   ]
  },
  {
   "cell_type": "code",
   "execution_count": 10,
   "metadata": {},
   "outputs": [
    {
     "data": {
      "text/plain": [
       "'u53'"
      ]
     },
     "execution_count": 10,
     "metadata": {},
     "output_type": "execute_result"
    }
   ],
   "source": [
    "app_usage_files[0].split('_')[-1].split('.')[0]"
   ]
  },
  {
   "cell_type": "code",
   "execution_count": 11,
   "metadata": {},
   "outputs": [
    {
     "name": "stdout",
     "output_type": "stream",
     "text": [
      "u13\n"
     ]
    }
   ],
   "source": [
    "for app_usage_file in app_usage_files:\n",
    "    usr_id = app_usage_file.split('_')[-1].split('.')[0]\n",
    "\n",
    "    if usr_id not in set(label_df['user_id'].unique()):\n",
    "        print(usr_id)"
   ]
  },
  {
   "cell_type": "code",
   "execution_count": 12,
   "metadata": {},
   "outputs": [],
   "source": [
    "# tmp_li = [get_date_time(start_time)]\n",
    "# tmp_li.extend(list(label_df[label_df['user_id'] == usr_id].date_time))\n",
    "# len(tmp_li)"
   ]
  },
  {
   "cell_type": "code",
   "execution_count": 13,
   "metadata": {},
   "outputs": [
    {
     "name": "stderr",
     "output_type": "stream",
     "text": [
      "100%|██████████| 49/49 [00:17<00:00,  2.80it/s]\n"
     ]
    }
   ],
   "source": [
    "AGGREGATION_DAYS = 2\n",
    "\n",
    "\n",
    "app_usage_di = defaultdict(list)\n",
    "\n",
    "\n",
    "for app_usage_file in tqdm(app_usage_files):\n",
    "    usr_id = app_usage_file.split('_')[-1].split('.')[0]\n",
    "    \n",
    "    # print(usr_id)\n",
    "    \n",
    "    tmp_df = pd.read_csv(os.path.join(app_usage_path,app_usage_file))\n",
    "\n",
    "    tmp_df['timestamp'] = tmp_df['timestamp'].apply(lambda x : get_date_time(x))\n",
    "    tmp_df['timestamp'] = pd.to_datetime(tmp_df['timestamp'])\n",
    "\n",
    "    # time stamps\n",
    "    # tmp_li = [get_date_time(start_time)]\n",
    "    tmp_li = list(label_df[label_df['user_id'] == usr_id].date_time)\n",
    "    \n",
    "    for time_b in tmp_li:\n",
    "        # print(time_a,time_b)\n",
    "        # if time_a == time_b:\n",
    "        #     print(time_a,time_b)\n",
    "        \n",
    "        time_a = time_b - timedelta(days=AGGREGATION_DAYS)\n",
    "        slice_df = tmp_df[(time_a < tmp_df.timestamp) & (tmp_df.timestamp < time_b)]\n",
    "\n",
    "        app_usage_di['user_id'].append(usr_id)\n",
    "        app_usage_di['date_time'].append(time_b)\n",
    "\n",
    "        app_usage_di['app_usage_baseActivity_mClass'].append(len(set(slice_df['RUNNING_TASKS_baseActivity_mClass'])))\n",
    "        app_usage_di['app_usage_baseActivity_mPackage'].append(len(set(slice_df['RUNNING_TASKS_baseActivity_mPackage'])))\n",
    "        app_usage_di['app_usage_baseActivity_id_count'].append(len(set(slice_df['RUNNING_TASKS_id'])))\n",
    "\n",
    "        app_usage_di['app_usage_baseActivity_numActivities'].append(slice_df['RUNNING_TASKS_numActivities'].sum())\n",
    "        app_usage_di['app_usage_baseActivity_numRunning'].append(slice_df['RUNNING_TASKS_numRunning'].sum())\n",
    "\n",
    "        app_usage_di['app_usage_topActivity_mClass'].append(len(set(slice_df['RUNNING_TASKS_topActivity_mClass'])))\n",
    "        app_usage_di['app_usage_topActivity_mPackage'].append(len(set(slice_df['RUNNING_TASKS_topActivity_mPackage'])))\n",
    "\n"
   ]
  },
  {
   "cell_type": "code",
   "execution_count": 14,
   "metadata": {},
   "outputs": [
    {
     "name": "stdout",
     "output_type": "stream",
     "text": [
      "user_id 2455\n",
      "date_time 2455\n",
      "app_usage_baseActivity_mClass 2455\n",
      "app_usage_baseActivity_mPackage 2455\n",
      "app_usage_baseActivity_id_count 2455\n",
      "app_usage_baseActivity_numActivities 2455\n",
      "app_usage_baseActivity_numRunning 2455\n",
      "app_usage_topActivity_mClass 2455\n",
      "app_usage_topActivity_mPackage 2455\n"
     ]
    }
   ],
   "source": [
    "for k,val in app_usage_di.items():\n",
    "    print(k,len(val))"
   ]
  },
  {
   "cell_type": "code",
   "execution_count": 15,
   "metadata": {},
   "outputs": [],
   "source": [
    "app_usage_df = pd.DataFrame(app_usage_di)\n",
    "\n",
    "app_usage_df.to_csv('./data/app_usage_lag_'+str(AGGREGATION_DAYS)+'_df.csv',index = False)"
   ]
  },
  {
   "cell_type": "code",
   "execution_count": 16,
   "metadata": {},
   "outputs": [
    {
     "name": "stderr",
     "output_type": "stream",
     "text": [
      "/tmp/ipykernel_2484173/2405099644.py:1: FutureWarning: The default value of numeric_only in DataFrame.corr is deprecated. In a future version, it will default to False. Select only valid columns or specify the value of numeric_only to silence this warning.\n",
      "  sns.heatmap(app_usage_df.corr())\n"
     ]
    },
    {
     "data": {
      "text/plain": [
       "<AxesSubplot: >"
      ]
     },
     "execution_count": 16,
     "metadata": {},
     "output_type": "execute_result"
    },
    {
     "data": {
      "image/png": "[encoded data removed]",
      "text/plain": [
       "<Figure size 640x480 with 2 Axes>"
      ]
     },
     "metadata": {},
     "output_type": "display_data"
    }
   ],
   "source": [
    "sns.heatmap(app_usage_df.corr())"
   ]
  },
  {
   "cell_type": "markdown",
   "metadata": {},
   "source": [
    "## Activity"
   ]
  },
  {
   "cell_type": "code",
   "execution_count": 17,
   "metadata": {},
   "outputs": [
    {
     "data": {
      "text/plain": [
       "49"
      ]
     },
     "execution_count": 17,
     "metadata": {},
     "output_type": "execute_result"
    }
   ],
   "source": [
    "activity_path = os.path.join(datset_rel_path,'sensing','activity')\n",
    "\n",
    "activity_files = os.listdir(activity_path)\n",
    "len(activity_files)"
   ]
  },
  {
   "cell_type": "code",
   "execution_count": 18,
   "metadata": {},
   "outputs": [
    {
     "data": {
      "text/plain": [
       "'u17'"
      ]
     },
     "execution_count": 18,
     "metadata": {},
     "output_type": "execute_result"
    }
   ],
   "source": [
    "activity_files[0].split('_')[-1].split('.')[0]"
   ]
  },
  {
   "cell_type": "code",
   "execution_count": 19,
   "metadata": {},
   "outputs": [
    {
     "name": "stderr",
     "output_type": "stream",
     "text": [
      "100%|██████████| 49/49 [01:24<00:00,  1.72s/it]\n"
     ]
    }
   ],
   "source": [
    "AGGREGATION_DAYS = 2\n",
    "\n",
    "\n",
    "activity_di = defaultdict(list)\n",
    "\n",
    "\n",
    "for activity_file in tqdm(activity_files):\n",
    "    usr_id = activity_file.split('_')[-1].split('.')[0]\n",
    "    \n",
    "    # print(usr_id)\n",
    "    \n",
    "    tmp_df = pd.read_csv(os.path.join(activity_path,activity_file))\n",
    "\n",
    "    tmp_df['timestamp'] = tmp_df['timestamp'].apply(lambda x : get_date_time(x))\n",
    "    tmp_df['timestamp'] = pd.to_datetime(tmp_df['timestamp'],format = \"%m/%d/%Y, %H:%M:%S\")\n",
    "\n",
    "    # time stamps\n",
    "    \n",
    "    tmp_li = list(label_df[label_df['user_id'] == usr_id].date_time)\n",
    "\n",
    "    \n",
    "    for time_b in tmp_li:\n",
    "        # print(time_a,time_b)\n",
    "        # if time_a == time_b:\n",
    "        #     print(time_a,time_b)\n",
    "        \n",
    "        time_a = time_b - timedelta(days=AGGREGATION_DAYS)\n",
    "        slice_df = tmp_df[(time_a < tmp_df.timestamp) & (tmp_df.timestamp < time_b)]\n",
    "\n",
    "        activity_di['user_id'].append(usr_id)\n",
    "        activity_di['date_time'].append(time_b)\n",
    "\n",
    "        tmp_di = dict(slice_df[' activity inference'].value_counts())\n",
    "\n",
    "        activity_di['activity_inf_stationary_count'].append(tmp_di.get(0,0))\n",
    "        activity_di['activity_inf_walking_count'].append(tmp_di.get(1,0))\n",
    "        activity_di['activity_inf_running_count'].append(tmp_di.get(2,0))\n",
    "        activity_di['activity_inf_unknown_count'].append(tmp_di.get(3,0))\n",
    "\n",
    "\n",
    "    gc.collect()\n",
    "\n"
   ]
  },
  {
   "cell_type": "code",
   "execution_count": 20,
   "metadata": {},
   "outputs": [
    {
     "name": "stdout",
     "output_type": "stream",
     "text": [
      "user_id 2455\n",
      "date_time 2455\n",
      "activity_inf_stationary_count 2455\n",
      "activity_inf_walking_count 2455\n",
      "activity_inf_running_count 2455\n",
      "activity_inf_unknown_count 2455\n"
     ]
    }
   ],
   "source": [
    "for k,val in activity_di.items():\n",
    "    print(k,len(val))"
   ]
  },
  {
   "cell_type": "code",
   "execution_count": 21,
   "metadata": {},
   "outputs": [],
   "source": [
    "activity_df = pd.DataFrame(activity_di)"
   ]
  },
  {
   "cell_type": "code",
   "execution_count": 22,
   "metadata": {},
   "outputs": [],
   "source": [
    "activity_df = pd.DataFrame(activity_di)\n",
    "\n",
    "activity_df.to_csv('./data/activity_lag_'+str(AGGREGATION_DAYS)+'_df.csv',index = False)"
   ]
  },
  {
   "cell_type": "code",
   "execution_count": 23,
   "metadata": {},
   "outputs": [
    {
     "name": "stderr",
     "output_type": "stream",
     "text": [
      "/tmp/ipykernel_2484173/1194580611.py:1: FutureWarning: The default value of numeric_only in DataFrame.corr is deprecated. In a future version, it will default to False. Select only valid columns or specify the value of numeric_only to silence this warning.\n",
      "  sns.heatmap(activity_df.corr())\n"
     ]
    },
    {
     "data": {
      "text/plain": [
       "<AxesSubplot: >"
      ]
     },
     "execution_count": 23,
     "metadata": {},
     "output_type": "execute_result"
    },
    {
     "data": {
      "image/png": "[encoded data removed]",
      "text/plain": [
       "<Figure size 640x480 with 2 Axes>"
      ]
     },
     "metadata": {},
     "output_type": "display_data"
    }
   ],
   "source": [
    "sns.heatmap(activity_df.corr())"
   ]
  },
  {
   "cell_type": "code",
   "execution_count": 24,
   "metadata": {},
   "outputs": [
    {
     "data": {
      "text/plain": [
       "'u33'"
      ]
     },
     "execution_count": 24,
     "metadata": {},
     "output_type": "execute_result"
    }
   ],
   "source": [
    "usr_id"
   ]
  },
  {
   "cell_type": "code",
   "execution_count": 25,
   "metadata": {},
   "outputs": [
    {
     "name": "stdout",
     "output_type": "stream",
     "text": [
      "<class 'pandas.core.frame.DataFrame'>\n",
      "RangeIndex: 423140 entries, 0 to 423139\n",
      "Data columns (total 2 columns):\n",
      " #   Column               Non-Null Count   Dtype         \n",
      "---  ------               --------------   -----         \n",
      " 0   timestamp            423140 non-null  datetime64[ns]\n",
      " 1    activity inference  423140 non-null  int64         \n",
      "dtypes: datetime64[ns](1), int64(1)\n",
      "memory usage: 6.5 MB\n"
     ]
    }
   ],
   "source": [
    "tmp_df.info()"
   ]
  },
  {
   "cell_type": "markdown",
   "metadata": {},
   "source": [
    "## Audio"
   ]
  },
  {
   "cell_type": "code",
   "execution_count": 26,
   "metadata": {},
   "outputs": [
    {
     "data": {
      "text/plain": [
       "49"
      ]
     },
     "execution_count": 26,
     "metadata": {},
     "output_type": "execute_result"
    }
   ],
   "source": [
    "audio_path = os.path.join(datset_rel_path,'sensing','audio')\n",
    "\n",
    "audio_files = os.listdir(audio_path)\n",
    "len(audio_files)"
   ]
  },
  {
   "cell_type": "code",
   "execution_count": 27,
   "metadata": {},
   "outputs": [
    {
     "data": {
      "text/plain": [
       "'u14'"
      ]
     },
     "execution_count": 27,
     "metadata": {},
     "output_type": "execute_result"
    }
   ],
   "source": [
    "audio_files[0].split('_')[-1].split('.')[0]"
   ]
  },
  {
   "cell_type": "code",
   "execution_count": 28,
   "metadata": {},
   "outputs": [],
   "source": [
    "# AGGREGATION_DAYS = 1\n",
    "\n",
    "\n",
    "# audio_di = defaultdict(list)\n",
    "\n",
    "\n",
    "# for audio_file in tqdm(audio_files):\n",
    "#     usr_id = audio_file.split('_')[-1].split('.')[0]\n",
    "    \n",
    "#     # print(usr_id)\n",
    "    \n",
    "#     tmp_df = pd.read_csv(os.path.join(audio_path,audio_file))\n",
    "\n",
    "#     tmp_df['timestamp'] = tmp_df['timestamp'].apply(lambda x : get_date_time(x))\n",
    "#     tmp_df['timestamp'] = pd.to_datetime(tmp_df['timestamp'])\n",
    "\n",
    "#     # time stamps\n",
    "    \n",
    "#     tmp_li = list(label_df[label_df['user_id'] == usr_id].date_time)\n",
    "\n",
    "#     for time_b in tmp_li:\n",
    "#         # print(time_a,time_b)\n",
    "#         # if time_a == time_b:\n",
    "#         #     print(time_a,time_b)\n",
    "        \n",
    "#         time_a = time_b - timedelta(days=AGGREGATION_DAYS)\n",
    "#         slice_df = tmp_df[(time_a < tmp_df.timestamp) & (tmp_df.timestamp < time_b)]\n",
    "\n",
    "#         audio_di['user_id'].append(usr_id)\n",
    "#         audio_di['date_time'].append(time_b)\n",
    "\n",
    "#         tmp_di = dict(slice_df[' audio inference'].value_counts())\n",
    "\n",
    "#         audio_di['audio_inf_silence_count'].append(tmp_di.get(0,0))\n",
    "#         audio_di['audio_inf_voice_count'].append(tmp_di.get(1,0))\n",
    "#         audio_di['audio_inf_noise_count'].append(tmp_di.get(2,0))\n",
    "#         audio_di['audio_inf_unknown_count'].append(tmp_di.get(3,0))\n",
    "\n",
    "\n",
    "#     gc.collect()\n",
    "\n"
   ]
  },
  {
   "cell_type": "code",
   "execution_count": 29,
   "metadata": {},
   "outputs": [],
   "source": [
    "# for k,val in audio_di.items():\n",
    "#     print(k,len(val))"
   ]
  },
  {
   "cell_type": "code",
   "execution_count": 30,
   "metadata": {},
   "outputs": [],
   "source": [
    "# audio_df = pd.DataFrame(audio_di)"
   ]
  },
  {
   "cell_type": "code",
   "execution_count": 31,
   "metadata": {},
   "outputs": [],
   "source": [
    "# audio_df = pd.DataFrame(audio_di)\n",
    "\n",
    "# audio_df.to_csv('./data/audio_lag_'+str(AGGREGATION_DAYS)+'_df.csv',index = False)"
   ]
  },
  {
   "cell_type": "code",
   "execution_count": 32,
   "metadata": {},
   "outputs": [],
   "source": [
    "# sns.heatmap(activity_df.corr())"
   ]
  },
  {
   "cell_type": "markdown",
   "metadata": {},
   "source": [
    "## Conversation"
   ]
  },
  {
   "cell_type": "code",
   "execution_count": 33,
   "metadata": {},
   "outputs": [
    {
     "data": {
      "text/plain": [
       "49"
      ]
     },
     "execution_count": 33,
     "metadata": {},
     "output_type": "execute_result"
    }
   ],
   "source": [
    "conv_path = os.path.join(datset_rel_path,'sensing','conversation')\n",
    "\n",
    "conv_files = os.listdir(conv_path)\n",
    "len(conv_files)"
   ]
  },
  {
   "cell_type": "code",
   "execution_count": 34,
   "metadata": {},
   "outputs": [
    {
     "data": {
      "text/plain": [
       "'tion_u08'"
      ]
     },
     "execution_count": 34,
     "metadata": {},
     "output_type": "execute_result"
    }
   ],
   "source": [
    "conv_files[0].split('a')[-1].split('.')[0]"
   ]
  },
  {
   "cell_type": "code",
   "execution_count": 35,
   "metadata": {},
   "outputs": [
    {
     "name": "stderr",
     "output_type": "stream",
     "text": [
      "100%|██████████| 49/49 [00:14<00:00,  3.40it/s]\n"
     ]
    }
   ],
   "source": [
    "AGGREGATION_DAYS = 2\n",
    "\n",
    "\n",
    "conv_di = defaultdict(list)\n",
    "\n",
    "\n",
    "for conv_file in tqdm(conv_files):\n",
    "    usr_id = conv_file.split('_')[-1].split('.')[0]\n",
    "    \n",
    "    # print(usr_id)\n",
    "    \n",
    "    tmp_df = pd.read_csv(os.path.join(conv_path,conv_file))\n",
    "\n",
    "    tmp_df['start_timestamp'] = tmp_df['start_timestamp'].apply(lambda x : get_date_time(x))\n",
    "    tmp_df['start_timestamp'] = pd.to_datetime(tmp_df['start_timestamp'])\n",
    "\n",
    "    tmp_df[' end_timestamp'] = tmp_df[' end_timestamp'].apply(lambda x : get_date_time(x))\n",
    "    tmp_df[' end_timestamp'] = pd.to_datetime(tmp_df[' end_timestamp'])\n",
    "\n",
    "    tmp_df['conv_dur'] = tmp_df[' end_timestamp'] - tmp_df['start_timestamp']\n",
    "\n",
    "    # time stamps\n",
    "    \n",
    "    tmp_li = list(label_df[label_df['user_id'] == usr_id].date_time)\n",
    "\n",
    "    for time_b in tmp_li:\n",
    "        # print(time_a,time_b)\n",
    "        # if time_a == time_b:\n",
    "        #     print(time_a,time_b)\n",
    "        \n",
    "        time_a = time_b - timedelta(days=AGGREGATION_DAYS)\n",
    "        slice_df = tmp_df[(time_a < tmp_df.start_timestamp) & (tmp_df[' end_timestamp']< time_b)]\n",
    "\n",
    "        conv_di['user_id'].append(usr_id)\n",
    "        conv_di['date_time'].append(time_b)\n",
    "        conv_di['conversation_hours'].append(slice_df['conv_dur'].sum().seconds//3600)\n",
    "        conv_di['conversation_minutes'].append(slice_df['conv_dur'].sum().seconds//60)\n",
    "\n",
    "\n",
    "        # tmp_di = dict(slice_df[' audio inference'].value_counts())\n",
    "\n",
    "        # conv_di['audio_inf_silence_count'].append(tmp_di.get(0,0))\n",
    "        # conv_di['audio_inf_voice_count'].append(tmp_di.get(1,0))\n",
    "        # conv_di['audio_inf_noise_count'].append(tmp_di.get(2,0))\n",
    "        # conv_di['audio_inf_unknown_count'].append(tmp_di.get(3,0))\n",
    "\n",
    "\n",
    "    gc.collect()\n",
    "\n"
   ]
  },
  {
   "cell_type": "code",
   "execution_count": 36,
   "metadata": {},
   "outputs": [
    {
     "name": "stdout",
     "output_type": "stream",
     "text": [
      "user_id 2455\n",
      "date_time 2455\n",
      "conversation_hours 2455\n",
      "conversation_minutes 2455\n"
     ]
    }
   ],
   "source": [
    "for k,val in conv_di.items():\n",
    "    print(k,len(val))"
   ]
  },
  {
   "cell_type": "code",
   "execution_count": 37,
   "metadata": {},
   "outputs": [],
   "source": [
    "conv_df = pd.DataFrame(conv_di)"
   ]
  },
  {
   "cell_type": "code",
   "execution_count": 38,
   "metadata": {},
   "outputs": [
    {
     "data": {
      "text/html": [
       "<div>\n",
       "<style scoped>\n",
       "    .dataframe tbody tr th:only-of-type {\n",
       "        vertical-align: middle;\n",
       "    }\n",
       "\n",
       "    .dataframe tbody tr th {\n",
       "        vertical-align: top;\n",
       "    }\n",
       "\n",
       "    .dataframe thead th {\n",
       "        text-align: right;\n",
       "    }\n",
       "</style>\n",
       "<table border=\"1\" class=\"dataframe\">\n",
       "  <thead>\n",
       "    <tr style=\"text-align: right;\">\n",
       "      <th></th>\n",
       "      <th>user_id</th>\n",
       "      <th>date_time</th>\n",
       "      <th>conversation_hours</th>\n",
       "      <th>conversation_minutes</th>\n",
       "    </tr>\n",
       "  </thead>\n",
       "  <tbody>\n",
       "    <tr>\n",
       "      <th>0</th>\n",
       "      <td>u08</td>\n",
       "      <td>2013-03-26 19:04:00</td>\n",
       "      <td>0</td>\n",
       "      <td>0</td>\n",
       "    </tr>\n",
       "    <tr>\n",
       "      <th>1</th>\n",
       "      <td>u08</td>\n",
       "      <td>2013-03-26 20:16:00</td>\n",
       "      <td>0</td>\n",
       "      <td>0</td>\n",
       "    </tr>\n",
       "    <tr>\n",
       "      <th>2</th>\n",
       "      <td>u08</td>\n",
       "      <td>2013-03-26 23:15:00</td>\n",
       "      <td>0</td>\n",
       "      <td>11</td>\n",
       "    </tr>\n",
       "    <tr>\n",
       "      <th>3</th>\n",
       "      <td>u08</td>\n",
       "      <td>2013-03-27 02:11:00</td>\n",
       "      <td>0</td>\n",
       "      <td>11</td>\n",
       "    </tr>\n",
       "    <tr>\n",
       "      <th>4</th>\n",
       "      <td>u08</td>\n",
       "      <td>2013-03-27 10:06:00</td>\n",
       "      <td>2</td>\n",
       "      <td>157</td>\n",
       "    </tr>\n",
       "  </tbody>\n",
       "</table>\n",
       "</div>"
      ],
      "text/plain": [
       "  user_id           date_time  conversation_hours  conversation_minutes\n",
       "0     u08 2013-03-26 19:04:00                   0                     0\n",
       "1     u08 2013-03-26 20:16:00                   0                     0\n",
       "2     u08 2013-03-26 23:15:00                   0                    11\n",
       "3     u08 2013-03-27 02:11:00                   0                    11\n",
       "4     u08 2013-03-27 10:06:00                   2                   157"
      ]
     },
     "execution_count": 38,
     "metadata": {},
     "output_type": "execute_result"
    }
   ],
   "source": [
    "conv_df.head()"
   ]
  },
  {
   "cell_type": "code",
   "execution_count": 39,
   "metadata": {},
   "outputs": [],
   "source": [
    "conv_df.to_csv('./data/conv_lag_'+str(AGGREGATION_DAYS)+'_df.csv',index = False)"
   ]
  },
  {
   "cell_type": "code",
   "execution_count": 40,
   "metadata": {},
   "outputs": [
    {
     "name": "stderr",
     "output_type": "stream",
     "text": [
      "/tmp/ipykernel_2484173/930043110.py:1: FutureWarning: The default value of numeric_only in DataFrame.corr is deprecated. In a future version, it will default to False. Select only valid columns or specify the value of numeric_only to silence this warning.\n",
      "  sns.heatmap(conv_df.corr())\n"
     ]
    },
    {
     "data": {
      "text/plain": [
       "<AxesSubplot: >"
      ]
     },
     "execution_count": 40,
     "metadata": {},
     "output_type": "execute_result"
    },
    {
     "data": {
      "image/png": "[encoded data removed]",
      "text/plain": [
       "<Figure size 640x480 with 2 Axes>"
      ]
     },
     "metadata": {},
     "output_type": "display_data"
    }
   ],
   "source": [
    "sns.heatmap(conv_df.corr())"
   ]
  },
  {
   "cell_type": "markdown",
   "metadata": {},
   "source": [
    "## Dark"
   ]
  },
  {
   "cell_type": "code",
   "execution_count": 43,
   "metadata": {},
   "outputs": [
    {
     "data": {
      "text/plain": [
       "49"
      ]
     },
     "execution_count": 43,
     "metadata": {},
     "output_type": "execute_result"
    }
   ],
   "source": [
    "dark_path = os.path.join(datset_rel_path,'sensing','dark')\n",
    "\n",
    "dark_files = os.listdir(dark_path)\n",
    "len(dark_files)"
   ]
  },
  {
   "cell_type": "code",
   "execution_count": 57,
   "metadata": {},
   "outputs": [
    {
     "data": {
      "text/plain": [
       "'u41'"
      ]
     },
     "execution_count": 57,
     "metadata": {},
     "output_type": "execute_result"
    }
   ],
   "source": [
    "dark_files[0].split('_')[-1].split('.')[0]\n"
   ]
  },
  {
   "cell_type": "code",
   "execution_count": 52,
   "metadata": {},
   "outputs": [
    {
     "name": "stderr",
     "output_type": "stream",
     "text": [
      "100%|██████████| 49/49 [00:07<00:00,  6.20it/s]\n"
     ]
    }
   ],
   "source": [
    "AGGREGATION_DAYS = 2\n",
    "\n",
    "\n",
    "dark_di = defaultdict(list)\n",
    "\n",
    "\n",
    "for dark_file in tqdm(dark_files):\n",
    "    usr_id = dark_file.split('_')[-1].split('.')[0]\n",
    "    \n",
    "    # print(usr_id)\n",
    "    \n",
    "    tmp_df = pd.read_csv(os.path.join(dark_path,dark_file))\n",
    "\n",
    "    tmp_df['start'] = tmp_df['start'].apply(lambda x : get_date_time(x))\n",
    "    tmp_df['start'] = pd.to_datetime(tmp_df['start'])\n",
    "\n",
    "    tmp_df['end'] = tmp_df['end'].apply(lambda x : get_date_time(x))\n",
    "    tmp_df['end'] = pd.to_datetime(tmp_df['end'])\n",
    "\n",
    "    tmp_df['dark_dur'] = tmp_df['end'] - tmp_df['start']\n",
    "\n",
    "    # time stamps\n",
    "    \n",
    "    tmp_li = list(label_df[label_df['user_id'] == usr_id].date_time)\n",
    "\n",
    "    for time_b in tmp_li:\n",
    "        # print(time_a,time_b)\n",
    "        # if time_a == time_b:\n",
    "        #     print(time_a,time_b)\n",
    "        \n",
    "        time_a = time_b - timedelta(days=AGGREGATION_DAYS)\n",
    "        slice_df = tmp_df[(time_a < tmp_df.start) & (tmp_df['end']< time_b)]\n",
    "\n",
    "        dark_di['user_id'].append(usr_id)\n",
    "        dark_di['date_time'].append(time_b)\n",
    "        dark_di['dark_hours'].append(slice_df['dark_dur'].sum().seconds//3600)\n",
    "        dark_di['dark_minutes'].append(slice_df['dark_dur'].sum().seconds//60)\n",
    "        dark_di['dark_seconds'].append(slice_df['dark_dur'].sum().seconds)\n",
    "\n",
    "\n",
    "        # tmp_di = dict(slice_df[' audio inference'].value_counts())\n",
    "\n",
    "        # conv_di['audio_inf_silence_count'].append(tmp_di.get(0,0))\n",
    "        # conv_di['audio_inf_voice_count'].append(tmp_di.get(1,0))\n",
    "        # conv_di['audio_inf_noise_count'].append(tmp_di.get(2,0))\n",
    "        # conv_di['audio_inf_unknown_count'].append(tmp_di.get(3,0))\n",
    "\n",
    "\n",
    "    gc.collect()\n",
    "\n"
   ]
  },
  {
   "cell_type": "code",
   "execution_count": 53,
   "metadata": {},
   "outputs": [
    {
     "name": "stdout",
     "output_type": "stream",
     "text": [
      "user_id 2455\n",
      "date_time 2455\n",
      "dark_hours 2455\n",
      "dark_minutes 2455\n",
      "dark_seconds 2455\n"
     ]
    }
   ],
   "source": [
    "for k,val in dark_di.items():\n",
    "    print(k,len(val))"
   ]
  },
  {
   "cell_type": "code",
   "execution_count": 54,
   "metadata": {},
   "outputs": [],
   "source": [
    "dark_df = pd.DataFrame(dark_di)"
   ]
  },
  {
   "cell_type": "code",
   "execution_count": 55,
   "metadata": {},
   "outputs": [
    {
     "data": {
      "text/html": [
       "<div>\n",
       "<style scoped>\n",
       "    .dataframe tbody tr th:only-of-type {\n",
       "        vertical-align: middle;\n",
       "    }\n",
       "\n",
       "    .dataframe tbody tr th {\n",
       "        vertical-align: top;\n",
       "    }\n",
       "\n",
       "    .dataframe thead th {\n",
       "        text-align: right;\n",
       "    }\n",
       "</style>\n",
       "<table border=\"1\" class=\"dataframe\">\n",
       "  <thead>\n",
       "    <tr style=\"text-align: right;\">\n",
       "      <th></th>\n",
       "      <th>user_id</th>\n",
       "      <th>date_time</th>\n",
       "      <th>dark_hours</th>\n",
       "      <th>dark_minutes</th>\n",
       "      <th>dark_seconds</th>\n",
       "    </tr>\n",
       "  </thead>\n",
       "  <tbody>\n",
       "    <tr>\n",
       "      <th>0</th>\n",
       "      <td>u41</td>\n",
       "      <td>2013-03-31 16:12:00</td>\n",
       "      <td>4</td>\n",
       "      <td>286</td>\n",
       "      <td>17195</td>\n",
       "    </tr>\n",
       "    <tr>\n",
       "      <th>1</th>\n",
       "      <td>u41</td>\n",
       "      <td>2013-04-03 18:43:00</td>\n",
       "      <td>3</td>\n",
       "      <td>219</td>\n",
       "      <td>13140</td>\n",
       "    </tr>\n",
       "    <tr>\n",
       "      <th>2</th>\n",
       "      <td>u41</td>\n",
       "      <td>2013-04-03 23:00:00</td>\n",
       "      <td>4</td>\n",
       "      <td>296</td>\n",
       "      <td>17795</td>\n",
       "    </tr>\n",
       "    <tr>\n",
       "      <th>3</th>\n",
       "      <td>u41</td>\n",
       "      <td>2013-04-08 22:47:00</td>\n",
       "      <td>0</td>\n",
       "      <td>0</td>\n",
       "      <td>0</td>\n",
       "    </tr>\n",
       "    <tr>\n",
       "      <th>4</th>\n",
       "      <td>u41</td>\n",
       "      <td>2013-04-13 15:00:00</td>\n",
       "      <td>14</td>\n",
       "      <td>858</td>\n",
       "      <td>51484</td>\n",
       "    </tr>\n",
       "  </tbody>\n",
       "</table>\n",
       "</div>"
      ],
      "text/plain": [
       "  user_id           date_time  dark_hours  dark_minutes  dark_seconds\n",
       "0     u41 2013-03-31 16:12:00           4           286         17195\n",
       "1     u41 2013-04-03 18:43:00           3           219         13140\n",
       "2     u41 2013-04-03 23:00:00           4           296         17795\n",
       "3     u41 2013-04-08 22:47:00           0             0             0\n",
       "4     u41 2013-04-13 15:00:00          14           858         51484"
      ]
     },
     "execution_count": 55,
     "metadata": {},
     "output_type": "execute_result"
    }
   ],
   "source": [
    "dark_df.head()"
   ]
  },
  {
   "cell_type": "code",
   "execution_count": 56,
   "metadata": {},
   "outputs": [],
   "source": [
    "dark_df.to_csv('./data/dark_lag_'+str(AGGREGATION_DAYS)+'_df.csv',index = False)"
   ]
  },
  {
   "cell_type": "markdown",
   "metadata": {},
   "source": [
    "## Phone charge"
   ]
  },
  {
   "cell_type": "code",
   "execution_count": 58,
   "metadata": {},
   "outputs": [
    {
     "data": {
      "text/plain": [
       "49"
      ]
     },
     "execution_count": 58,
     "metadata": {},
     "output_type": "execute_result"
    }
   ],
   "source": [
    "phonecharge_path = os.path.join(datset_rel_path,'sensing','phonecharge')\n",
    "\n",
    "phonecharge_files = os.listdir(phonecharge_path)\n",
    "len(phonecharge_files)"
   ]
  },
  {
   "cell_type": "code",
   "execution_count": 59,
   "metadata": {},
   "outputs": [
    {
     "data": {
      "text/plain": [
       "'u46'"
      ]
     },
     "execution_count": 59,
     "metadata": {},
     "output_type": "execute_result"
    }
   ],
   "source": [
    "phonecharge_files[0].split('_')[-1].split('.')[0]\n"
   ]
  },
  {
   "cell_type": "code",
   "execution_count": 60,
   "metadata": {},
   "outputs": [
    {
     "name": "stderr",
     "output_type": "stream",
     "text": [
      "100%|██████████| 49/49 [00:07<00:00,  6.76it/s]\n"
     ]
    }
   ],
   "source": [
    "AGGREGATION_DAYS = 2\n",
    "\n",
    "\n",
    "phonecharge_di = defaultdict(list)\n",
    "\n",
    "\n",
    "for phonecharge_file in tqdm(phonecharge_files):\n",
    "    usr_id = phonecharge_file.split('_')[-1].split('.')[0]\n",
    "    \n",
    "    # print(usr_id)\n",
    "    \n",
    "    tmp_df = pd.read_csv(os.path.join(phonecharge_path,phonecharge_file))\n",
    "\n",
    "    tmp_df['start'] = tmp_df['start'].apply(lambda x : get_date_time(x))\n",
    "    tmp_df['start'] = pd.to_datetime(tmp_df['start'])\n",
    "\n",
    "    tmp_df['end'] = tmp_df['end'].apply(lambda x : get_date_time(x))\n",
    "    tmp_df['end'] = pd.to_datetime(tmp_df['end'])\n",
    "\n",
    "    tmp_df['phonecharge_dur'] = tmp_df['end'] - tmp_df['start']\n",
    "\n",
    "    # time stamps\n",
    "    \n",
    "    tmp_li = list(label_df[label_df['user_id'] == usr_id].date_time)\n",
    "\n",
    "    for time_b in tmp_li:\n",
    "        # print(time_a,time_b)\n",
    "        # if time_a == time_b:\n",
    "        #     print(time_a,time_b)\n",
    "        \n",
    "        time_a = time_b - timedelta(days=AGGREGATION_DAYS)\n",
    "        slice_df = tmp_df[(time_a < tmp_df.start) & (tmp_df['end']< time_b)]\n",
    "\n",
    "        phonecharge_di['user_id'].append(usr_id)\n",
    "        phonecharge_di['date_time'].append(time_b)\n",
    "        phonecharge_di['phonecharge_hours'].append(slice_df['phonecharge_dur'].sum().seconds//3600)\n",
    "        phonecharge_di['phonecharge_minutes'].append(slice_df['phonecharge_dur'].sum().seconds//60)\n",
    "        phonecharge_di['phonecharge_seconds'].append(slice_df['phonecharge_dur'].sum().seconds)\n",
    "\n",
    "\n",
    "        # tmp_di = dict(slice_df[' audio inference'].value_counts())\n",
    "\n",
    "        # conv_di['audio_inf_silence_count'].append(tmp_di.get(0,0))\n",
    "        # conv_di['audio_inf_voice_count'].append(tmp_di.get(1,0))\n",
    "        # conv_di['audio_inf_noise_count'].append(tmp_di.get(2,0))\n",
    "        # conv_di['audio_inf_unknown_count'].append(tmp_di.get(3,0))\n",
    "\n",
    "\n",
    "    gc.collect()\n",
    "\n"
   ]
  },
  {
   "cell_type": "code",
   "execution_count": 61,
   "metadata": {},
   "outputs": [
    {
     "name": "stdout",
     "output_type": "stream",
     "text": [
      "user_id 2455\n",
      "date_time 2455\n",
      "phonecharge_hours 2455\n",
      "phonecharge_minutes 2455\n",
      "phonecharge_seconds 2455\n"
     ]
    }
   ],
   "source": [
    "for k,val in phonecharge_di.items():\n",
    "    print(k,len(val))"
   ]
  },
  {
   "cell_type": "code",
   "execution_count": 62,
   "metadata": {},
   "outputs": [],
   "source": [
    "phonecharge_df = pd.DataFrame(phonecharge_di)"
   ]
  },
  {
   "cell_type": "code",
   "execution_count": 63,
   "metadata": {},
   "outputs": [
    {
     "data": {
      "text/html": [
       "<div>\n",
       "<style scoped>\n",
       "    .dataframe tbody tr th:only-of-type {\n",
       "        vertical-align: middle;\n",
       "    }\n",
       "\n",
       "    .dataframe tbody tr th {\n",
       "        vertical-align: top;\n",
       "    }\n",
       "\n",
       "    .dataframe thead th {\n",
       "        text-align: right;\n",
       "    }\n",
       "</style>\n",
       "<table border=\"1\" class=\"dataframe\">\n",
       "  <thead>\n",
       "    <tr style=\"text-align: right;\">\n",
       "      <th></th>\n",
       "      <th>user_id</th>\n",
       "      <th>date_time</th>\n",
       "      <th>phonecharge_hours</th>\n",
       "      <th>phonecharge_minutes</th>\n",
       "      <th>phonecharge_seconds</th>\n",
       "    </tr>\n",
       "  </thead>\n",
       "  <tbody>\n",
       "    <tr>\n",
       "      <th>0</th>\n",
       "      <td>u46</td>\n",
       "      <td>2013-03-31 17:20:00</td>\n",
       "      <td>1</td>\n",
       "      <td>60</td>\n",
       "      <td>3612</td>\n",
       "    </tr>\n",
       "    <tr>\n",
       "      <th>1</th>\n",
       "      <td>u46</td>\n",
       "      <td>2013-03-31 20:56:00</td>\n",
       "      <td>3</td>\n",
       "      <td>219</td>\n",
       "      <td>13172</td>\n",
       "    </tr>\n",
       "    <tr>\n",
       "      <th>2</th>\n",
       "      <td>u46</td>\n",
       "      <td>2013-03-31 22:05:00</td>\n",
       "      <td>3</td>\n",
       "      <td>219</td>\n",
       "      <td>13172</td>\n",
       "    </tr>\n",
       "    <tr>\n",
       "      <th>3</th>\n",
       "      <td>u46</td>\n",
       "      <td>2013-03-31 23:03:00</td>\n",
       "      <td>3</td>\n",
       "      <td>219</td>\n",
       "      <td>13172</td>\n",
       "    </tr>\n",
       "    <tr>\n",
       "      <th>4</th>\n",
       "      <td>u46</td>\n",
       "      <td>2013-04-01 02:05:00</td>\n",
       "      <td>5</td>\n",
       "      <td>305</td>\n",
       "      <td>18343</td>\n",
       "    </tr>\n",
       "  </tbody>\n",
       "</table>\n",
       "</div>"
      ],
      "text/plain": [
       "  user_id           date_time  phonecharge_hours  phonecharge_minutes  \\\n",
       "0     u46 2013-03-31 17:20:00                  1                   60   \n",
       "1     u46 2013-03-31 20:56:00                  3                  219   \n",
       "2     u46 2013-03-31 22:05:00                  3                  219   \n",
       "3     u46 2013-03-31 23:03:00                  3                  219   \n",
       "4     u46 2013-04-01 02:05:00                  5                  305   \n",
       "\n",
       "   phonecharge_seconds  \n",
       "0                 3612  \n",
       "1                13172  \n",
       "2                13172  \n",
       "3                13172  \n",
       "4                18343  "
      ]
     },
     "execution_count": 63,
     "metadata": {},
     "output_type": "execute_result"
    }
   ],
   "source": [
    "phonecharge_df.head()"
   ]
  },
  {
   "cell_type": "code",
   "execution_count": 64,
   "metadata": {},
   "outputs": [],
   "source": [
    "phonecharge_df.to_csv('./data/phonecharge_lag_'+str(AGGREGATION_DAYS)+'_df.csv',index = False)"
   ]
  },
  {
   "cell_type": "markdown",
   "metadata": {},
   "source": [
    "## Phone lock"
   ]
  },
  {
   "cell_type": "code",
   "execution_count": 65,
   "metadata": {},
   "outputs": [
    {
     "data": {
      "text/plain": [
       "49"
      ]
     },
     "execution_count": 65,
     "metadata": {},
     "output_type": "execute_result"
    }
   ],
   "source": [
    "phonelock_path = os.path.join(datset_rel_path,'sensing','phonelock')\n",
    "\n",
    "phonelock_files = os.listdir(phonelock_path)\n",
    "len(phonelock_files)"
   ]
  },
  {
   "cell_type": "code",
   "execution_count": 66,
   "metadata": {},
   "outputs": [
    {
     "data": {
      "text/plain": [
       "'u42'"
      ]
     },
     "execution_count": 66,
     "metadata": {},
     "output_type": "execute_result"
    }
   ],
   "source": [
    "phonelock_files[0].split('_')[-1].split('.')[0]\n"
   ]
  },
  {
   "cell_type": "code",
   "execution_count": 67,
   "metadata": {},
   "outputs": [
    {
     "name": "stderr",
     "output_type": "stream",
     "text": [
      "100%|██████████| 49/49 [00:07<00:00,  6.38it/s]\n"
     ]
    }
   ],
   "source": [
    "AGGREGATION_DAYS = 2\n",
    "\n",
    "\n",
    "phonelock_di = defaultdict(list)\n",
    "\n",
    "\n",
    "for phonelock_file in tqdm(phonelock_files):\n",
    "    usr_id = phonelock_file.split('_')[-1].split('.')[0]\n",
    "    \n",
    "    # print(usr_id)\n",
    "    \n",
    "    tmp_df = pd.read_csv(os.path.join(phonelock_path,phonelock_file))\n",
    "\n",
    "    tmp_df['start'] = tmp_df['start'].apply(lambda x : get_date_time(x))\n",
    "    tmp_df['start'] = pd.to_datetime(tmp_df['start'])\n",
    "\n",
    "    tmp_df['end'] = tmp_df['end'].apply(lambda x : get_date_time(x))\n",
    "    tmp_df['end'] = pd.to_datetime(tmp_df['end'])\n",
    "\n",
    "    tmp_df['phonelock_dur'] = tmp_df['end'] - tmp_df['start']\n",
    "\n",
    "    # time stamps\n",
    "    \n",
    "    tmp_li = list(label_df[label_df['user_id'] == usr_id].date_time)\n",
    "\n",
    "    for time_b in tmp_li:\n",
    "        # print(time_a,time_b)\n",
    "        # if time_a == time_b:\n",
    "        #     print(time_a,time_b)\n",
    "        \n",
    "        time_a = time_b - timedelta(days=AGGREGATION_DAYS)\n",
    "        slice_df = tmp_df[(time_a < tmp_df.start) & (tmp_df['end']< time_b)]\n",
    "\n",
    "        phonelock_di['user_id'].append(usr_id)\n",
    "        phonelock_di['date_time'].append(time_b)\n",
    "        phonelock_di['phonelock_hours'].append(slice_df['phonelock_dur'].sum().seconds//3600)\n",
    "        phonelock_di['phonelock_minutes'].append(slice_df['phonelock_dur'].sum().seconds//60)\n",
    "        phonelock_di['phonelock_seconds'].append(slice_df['phonelock_dur'].sum().seconds)\n",
    "\n",
    "\n",
    "    gc.collect()\n",
    "\n"
   ]
  },
  {
   "cell_type": "code",
   "execution_count": 68,
   "metadata": {},
   "outputs": [
    {
     "name": "stdout",
     "output_type": "stream",
     "text": [
      "user_id 2455\n",
      "date_time 2455\n",
      "phonelock_hours 2455\n",
      "phonelock_minutes 2455\n",
      "phonelock_seconds 2455\n"
     ]
    }
   ],
   "source": [
    "for k,val in phonelock_di.items():\n",
    "    print(k,len(val))"
   ]
  },
  {
   "cell_type": "code",
   "execution_count": 69,
   "metadata": {},
   "outputs": [],
   "source": [
    "phonelock_df = pd.DataFrame(phonelock_di)"
   ]
  },
  {
   "cell_type": "code",
   "execution_count": 70,
   "metadata": {},
   "outputs": [
    {
     "data": {
      "text/html": [
       "<div>\n",
       "<style scoped>\n",
       "    .dataframe tbody tr th:only-of-type {\n",
       "        vertical-align: middle;\n",
       "    }\n",
       "\n",
       "    .dataframe tbody tr th {\n",
       "        vertical-align: top;\n",
       "    }\n",
       "\n",
       "    .dataframe thead th {\n",
       "        text-align: right;\n",
       "    }\n",
       "</style>\n",
       "<table border=\"1\" class=\"dataframe\">\n",
       "  <thead>\n",
       "    <tr style=\"text-align: right;\">\n",
       "      <th></th>\n",
       "      <th>user_id</th>\n",
       "      <th>date_time</th>\n",
       "      <th>phonelock_hours</th>\n",
       "      <th>phonelock_minutes</th>\n",
       "      <th>phonelock_seconds</th>\n",
       "    </tr>\n",
       "  </thead>\n",
       "  <tbody>\n",
       "    <tr>\n",
       "      <th>0</th>\n",
       "      <td>u42</td>\n",
       "      <td>2013-04-02 05:10:00</td>\n",
       "      <td>9</td>\n",
       "      <td>540</td>\n",
       "      <td>32439</td>\n",
       "    </tr>\n",
       "    <tr>\n",
       "      <th>1</th>\n",
       "      <td>u42</td>\n",
       "      <td>2013-04-02 19:27:00</td>\n",
       "      <td>21</td>\n",
       "      <td>1279</td>\n",
       "      <td>76794</td>\n",
       "    </tr>\n",
       "    <tr>\n",
       "      <th>2</th>\n",
       "      <td>u42</td>\n",
       "      <td>2013-04-02 19:36:00</td>\n",
       "      <td>21</td>\n",
       "      <td>1279</td>\n",
       "      <td>76794</td>\n",
       "    </tr>\n",
       "    <tr>\n",
       "      <th>3</th>\n",
       "      <td>u42</td>\n",
       "      <td>2013-04-02 23:57:00</td>\n",
       "      <td>3</td>\n",
       "      <td>180</td>\n",
       "      <td>10813</td>\n",
       "    </tr>\n",
       "    <tr>\n",
       "      <th>4</th>\n",
       "      <td>u42</td>\n",
       "      <td>2013-04-03 17:14:00</td>\n",
       "      <td>14</td>\n",
       "      <td>882</td>\n",
       "      <td>52930</td>\n",
       "    </tr>\n",
       "  </tbody>\n",
       "</table>\n",
       "</div>"
      ],
      "text/plain": [
       "  user_id           date_time  phonelock_hours  phonelock_minutes  \\\n",
       "0     u42 2013-04-02 05:10:00                9                540   \n",
       "1     u42 2013-04-02 19:27:00               21               1279   \n",
       "2     u42 2013-04-02 19:36:00               21               1279   \n",
       "3     u42 2013-04-02 23:57:00                3                180   \n",
       "4     u42 2013-04-03 17:14:00               14                882   \n",
       "\n",
       "   phonelock_seconds  \n",
       "0              32439  \n",
       "1              76794  \n",
       "2              76794  \n",
       "3              10813  \n",
       "4              52930  "
      ]
     },
     "execution_count": 70,
     "metadata": {},
     "output_type": "execute_result"
    }
   ],
   "source": [
    "phonelock_df.head()"
   ]
  },
  {
   "cell_type": "code",
   "execution_count": 71,
   "metadata": {},
   "outputs": [],
   "source": [
    "phonelock_df.to_csv('./data/phonelock_lag_'+str(AGGREGATION_DAYS)+'_df.csv',index = False)"
   ]
  },
  {
   "cell_type": "code",
   "execution_count": 72,
   "metadata": {},
   "outputs": [
    {
     "data": {
      "text/html": [
       "<div>\n",
       "<style scoped>\n",
       "    .dataframe tbody tr th:only-of-type {\n",
       "        vertical-align: middle;\n",
       "    }\n",
       "\n",
       "    .dataframe tbody tr th {\n",
       "        vertical-align: top;\n",
       "    }\n",
       "\n",
       "    .dataframe thead th {\n",
       "        text-align: right;\n",
       "    }\n",
       "</style>\n",
       "<table border=\"1\" class=\"dataframe\">\n",
       "  <thead>\n",
       "    <tr style=\"text-align: right;\">\n",
       "      <th></th>\n",
       "      <th>user_id</th>\n",
       "      <th>date_time</th>\n",
       "      <th>audio_inf_silence_count</th>\n",
       "      <th>audio_inf_voice_count</th>\n",
       "      <th>audio_inf_noise_count</th>\n",
       "      <th>audio_inf_unknown_count</th>\n",
       "    </tr>\n",
       "  </thead>\n",
       "  <tbody>\n",
       "    <tr>\n",
       "      <th>0</th>\n",
       "      <td>u00</td>\n",
       "      <td>2013-03-25 11:54:00</td>\n",
       "      <td>0</td>\n",
       "      <td>0</td>\n",
       "      <td>0</td>\n",
       "      <td>0</td>\n",
       "    </tr>\n",
       "    <tr>\n",
       "      <th>1</th>\n",
       "      <td>u00</td>\n",
       "      <td>2013-03-25 20:33:00</td>\n",
       "      <td>0</td>\n",
       "      <td>0</td>\n",
       "      <td>0</td>\n",
       "      <td>0</td>\n",
       "    </tr>\n",
       "    <tr>\n",
       "      <th>2</th>\n",
       "      <td>u00</td>\n",
       "      <td>2013-03-26 18:12:00</td>\n",
       "      <td>0</td>\n",
       "      <td>0</td>\n",
       "      <td>0</td>\n",
       "      <td>0</td>\n",
       "    </tr>\n",
       "    <tr>\n",
       "      <th>3</th>\n",
       "      <td>u00</td>\n",
       "      <td>2013-03-27 19:25:00</td>\n",
       "      <td>9617</td>\n",
       "      <td>8924</td>\n",
       "      <td>3137</td>\n",
       "      <td>0</td>\n",
       "    </tr>\n",
       "    <tr>\n",
       "      <th>4</th>\n",
       "      <td>u00</td>\n",
       "      <td>2013-03-28 11:43:00</td>\n",
       "      <td>9173</td>\n",
       "      <td>1899</td>\n",
       "      <td>1377</td>\n",
       "      <td>0</td>\n",
       "    </tr>\n",
       "  </tbody>\n",
       "</table>\n",
       "</div>"
      ],
      "text/plain": [
       "  user_id            date_time  audio_inf_silence_count  \\\n",
       "0     u00  2013-03-25 11:54:00                        0   \n",
       "1     u00  2013-03-25 20:33:00                        0   \n",
       "2     u00  2013-03-26 18:12:00                        0   \n",
       "3     u00  2013-03-27 19:25:00                     9617   \n",
       "4     u00  2013-03-28 11:43:00                     9173   \n",
       "\n",
       "   audio_inf_voice_count  audio_inf_noise_count  audio_inf_unknown_count  \n",
       "0                      0                      0                        0  \n",
       "1                      0                      0                        0  \n",
       "2                      0                      0                        0  \n",
       "3                   8924                   3137                        0  \n",
       "4                   1899                   1377                        0  "
      ]
     },
     "execution_count": 72,
     "metadata": {},
     "output_type": "execute_result"
    }
   ],
   "source": [
    "audio_df = pd.read_csv('./data/sensing_agg_data_0.5_lag/audio_lag_0.5_df.csv')\n",
    "audio_df.head()"
   ]
  },
  {
   "cell_type": "code",
   "execution_count": 73,
   "metadata": {},
   "outputs": [
    {
     "name": "stdout",
     "output_type": "stream",
     "text": [
      "<class 'pandas.core.frame.DataFrame'>\n",
      "RangeIndex: 2455 entries, 0 to 2454\n",
      "Data columns (total 6 columns):\n",
      " #   Column                   Non-Null Count  Dtype \n",
      "---  ------                   --------------  ----- \n",
      " 0   user_id                  2455 non-null   object\n",
      " 1   date_time                2455 non-null   object\n",
      " 2   audio_inf_silence_count  2455 non-null   int64 \n",
      " 3   audio_inf_voice_count    2455 non-null   int64 \n",
      " 4   audio_inf_noise_count    2455 non-null   int64 \n",
      " 5   audio_inf_unknown_count  2455 non-null   int64 \n",
      "dtypes: int64(4), object(2)\n",
      "memory usage: 115.2+ KB\n"
     ]
    }
   ],
   "source": [
    "audio_df.info()"
   ]
  },
  {
   "cell_type": "code",
   "execution_count": 74,
   "metadata": {},
   "outputs": [],
   "source": [
    "audio_df['date_time'] = pd.to_datetime(audio_df['date_time'])"
   ]
  },
  {
   "cell_type": "markdown",
   "metadata": {},
   "source": [
    "## Merging sensing data"
   ]
  },
  {
   "cell_type": "code",
   "execution_count": 75,
   "metadata": {},
   "outputs": [
    {
     "data": {
      "text/plain": [
       "(2455, 2455, 2455)"
      ]
     },
     "execution_count": 75,
     "metadata": {},
     "output_type": "execute_result"
    }
   ],
   "source": [
    "len(label_df),len(activity_df),len(app_usage_df)"
   ]
  },
  {
   "cell_type": "code",
   "execution_count": 76,
   "metadata": {},
   "outputs": [
    {
     "data": {
      "text/html": [
       "<div>\n",
       "<style scoped>\n",
       "    .dataframe tbody tr th:only-of-type {\n",
       "        vertical-align: middle;\n",
       "    }\n",
       "\n",
       "    .dataframe tbody tr th {\n",
       "        vertical-align: top;\n",
       "    }\n",
       "\n",
       "    .dataframe thead th {\n",
       "        text-align: right;\n",
       "    }\n",
       "</style>\n",
       "<table border=\"1\" class=\"dataframe\">\n",
       "  <thead>\n",
       "    <tr style=\"text-align: right;\">\n",
       "      <th></th>\n",
       "      <th>user_id</th>\n",
       "      <th>date_time</th>\n",
       "      <th>activity_inf_stationary_count</th>\n",
       "      <th>activity_inf_walking_count</th>\n",
       "      <th>activity_inf_running_count</th>\n",
       "      <th>activity_inf_unknown_count</th>\n",
       "      <th>app_usage_baseActivity_mClass</th>\n",
       "      <th>app_usage_baseActivity_mPackage</th>\n",
       "      <th>app_usage_baseActivity_id_count</th>\n",
       "      <th>app_usage_baseActivity_numActivities</th>\n",
       "      <th>app_usage_baseActivity_numRunning</th>\n",
       "      <th>app_usage_topActivity_mClass</th>\n",
       "      <th>app_usage_topActivity_mPackage</th>\n",
       "    </tr>\n",
       "  </thead>\n",
       "  <tbody>\n",
       "    <tr>\n",
       "      <th>0</th>\n",
       "      <td>u17</td>\n",
       "      <td>2013-03-28 15:08:00</td>\n",
       "      <td>13383</td>\n",
       "      <td>720</td>\n",
       "      <td>109</td>\n",
       "      <td>254</td>\n",
       "      <td>8</td>\n",
       "      <td>7</td>\n",
       "      <td>19</td>\n",
       "      <td>409</td>\n",
       "      <td>408</td>\n",
       "      <td>9</td>\n",
       "      <td>7</td>\n",
       "    </tr>\n",
       "    <tr>\n",
       "      <th>1</th>\n",
       "      <td>u17</td>\n",
       "      <td>2013-03-30 16:06:00</td>\n",
       "      <td>15997</td>\n",
       "      <td>382</td>\n",
       "      <td>6</td>\n",
       "      <td>111</td>\n",
       "      <td>12</td>\n",
       "      <td>10</td>\n",
       "      <td>23</td>\n",
       "      <td>842</td>\n",
       "      <td>692</td>\n",
       "      <td>13</td>\n",
       "      <td>10</td>\n",
       "    </tr>\n",
       "    <tr>\n",
       "      <th>2</th>\n",
       "      <td>u17</td>\n",
       "      <td>2013-04-11 16:53:00</td>\n",
       "      <td>15634</td>\n",
       "      <td>738</td>\n",
       "      <td>15</td>\n",
       "      <td>128</td>\n",
       "      <td>11</td>\n",
       "      <td>10</td>\n",
       "      <td>13</td>\n",
       "      <td>736</td>\n",
       "      <td>736</td>\n",
       "      <td>11</td>\n",
       "      <td>10</td>\n",
       "    </tr>\n",
       "    <tr>\n",
       "      <th>3</th>\n",
       "      <td>u17</td>\n",
       "      <td>2013-04-14 15:33:00</td>\n",
       "      <td>16525</td>\n",
       "      <td>117</td>\n",
       "      <td>0</td>\n",
       "      <td>29</td>\n",
       "      <td>6</td>\n",
       "      <td>6</td>\n",
       "      <td>6</td>\n",
       "      <td>1809</td>\n",
       "      <td>1057</td>\n",
       "      <td>8</td>\n",
       "      <td>6</td>\n",
       "    </tr>\n",
       "    <tr>\n",
       "      <th>4</th>\n",
       "      <td>u17</td>\n",
       "      <td>2013-04-15 14:07:00</td>\n",
       "      <td>15631</td>\n",
       "      <td>669</td>\n",
       "      <td>83</td>\n",
       "      <td>187</td>\n",
       "      <td>15</td>\n",
       "      <td>14</td>\n",
       "      <td>22</td>\n",
       "      <td>1498</td>\n",
       "      <td>1067</td>\n",
       "      <td>17</td>\n",
       "      <td>14</td>\n",
       "    </tr>\n",
       "  </tbody>\n",
       "</table>\n",
       "</div>"
      ],
      "text/plain": [
       "  user_id           date_time  activity_inf_stationary_count  \\\n",
       "0     u17 2013-03-28 15:08:00                          13383   \n",
       "1     u17 2013-03-30 16:06:00                          15997   \n",
       "2     u17 2013-04-11 16:53:00                          15634   \n",
       "3     u17 2013-04-14 15:33:00                          16525   \n",
       "4     u17 2013-04-15 14:07:00                          15631   \n",
       "\n",
       "   activity_inf_walking_count  activity_inf_running_count  \\\n",
       "0                         720                         109   \n",
       "1                         382                           6   \n",
       "2                         738                          15   \n",
       "3                         117                           0   \n",
       "4                         669                          83   \n",
       "\n",
       "   activity_inf_unknown_count  app_usage_baseActivity_mClass  \\\n",
       "0                         254                              8   \n",
       "1                         111                             12   \n",
       "2                         128                             11   \n",
       "3                          29                              6   \n",
       "4                         187                             15   \n",
       "\n",
       "   app_usage_baseActivity_mPackage  app_usage_baseActivity_id_count  \\\n",
       "0                                7                               19   \n",
       "1                               10                               23   \n",
       "2                               10                               13   \n",
       "3                                6                                6   \n",
       "4                               14                               22   \n",
       "\n",
       "   app_usage_baseActivity_numActivities  app_usage_baseActivity_numRunning  \\\n",
       "0                                   409                                408   \n",
       "1                                   842                                692   \n",
       "2                                   736                                736   \n",
       "3                                  1809                               1057   \n",
       "4                                  1498                               1067   \n",
       "\n",
       "   app_usage_topActivity_mClass  app_usage_topActivity_mPackage  \n",
       "0                             9                               7  \n",
       "1                            13                              10  \n",
       "2                            11                              10  \n",
       "3                             8                               6  \n",
       "4                            17                              14  "
      ]
     },
     "execution_count": 76,
     "metadata": {},
     "output_type": "execute_result"
    }
   ],
   "source": [
    "merged_sensing_df = activity_df.merge(app_usage_df,on=['user_id','date_time'])\n",
    "\n",
    "merged_sensing_df.head()"
   ]
  },
  {
   "cell_type": "code",
   "execution_count": 77,
   "metadata": {},
   "outputs": [
    {
     "data": {
      "text/plain": [
       "2455"
      ]
     },
     "execution_count": 77,
     "metadata": {},
     "output_type": "execute_result"
    }
   ],
   "source": [
    "len(merged_sensing_df)"
   ]
  },
  {
   "cell_type": "code",
   "execution_count": 78,
   "metadata": {},
   "outputs": [
    {
     "data": {
      "text/html": [
       "<div>\n",
       "<style scoped>\n",
       "    .dataframe tbody tr th:only-of-type {\n",
       "        vertical-align: middle;\n",
       "    }\n",
       "\n",
       "    .dataframe tbody tr th {\n",
       "        vertical-align: top;\n",
       "    }\n",
       "\n",
       "    .dataframe thead th {\n",
       "        text-align: right;\n",
       "    }\n",
       "</style>\n",
       "<table border=\"1\" class=\"dataframe\">\n",
       "  <thead>\n",
       "    <tr style=\"text-align: right;\">\n",
       "      <th></th>\n",
       "      <th>user_id</th>\n",
       "      <th>date_time</th>\n",
       "      <th>activity_inf_stationary_count</th>\n",
       "      <th>activity_inf_walking_count</th>\n",
       "      <th>activity_inf_running_count</th>\n",
       "      <th>activity_inf_unknown_count</th>\n",
       "      <th>app_usage_baseActivity_mClass</th>\n",
       "      <th>app_usage_baseActivity_mPackage</th>\n",
       "      <th>app_usage_baseActivity_id_count</th>\n",
       "      <th>app_usage_baseActivity_numActivities</th>\n",
       "      <th>app_usage_baseActivity_numRunning</th>\n",
       "      <th>app_usage_topActivity_mClass</th>\n",
       "      <th>app_usage_topActivity_mPackage</th>\n",
       "      <th>audio_inf_silence_count</th>\n",
       "      <th>audio_inf_voice_count</th>\n",
       "      <th>audio_inf_noise_count</th>\n",
       "      <th>audio_inf_unknown_count</th>\n",
       "    </tr>\n",
       "  </thead>\n",
       "  <tbody>\n",
       "    <tr>\n",
       "      <th>0</th>\n",
       "      <td>u17</td>\n",
       "      <td>2013-03-28 15:08:00</td>\n",
       "      <td>13383</td>\n",
       "      <td>720</td>\n",
       "      <td>109</td>\n",
       "      <td>254</td>\n",
       "      <td>8</td>\n",
       "      <td>7</td>\n",
       "      <td>19</td>\n",
       "      <td>409</td>\n",
       "      <td>408</td>\n",
       "      <td>9</td>\n",
       "      <td>7</td>\n",
       "      <td>11053</td>\n",
       "      <td>468</td>\n",
       "      <td>359</td>\n",
       "      <td>0</td>\n",
       "    </tr>\n",
       "    <tr>\n",
       "      <th>1</th>\n",
       "      <td>u17</td>\n",
       "      <td>2013-03-30 16:06:00</td>\n",
       "      <td>15997</td>\n",
       "      <td>382</td>\n",
       "      <td>6</td>\n",
       "      <td>111</td>\n",
       "      <td>12</td>\n",
       "      <td>10</td>\n",
       "      <td>23</td>\n",
       "      <td>842</td>\n",
       "      <td>692</td>\n",
       "      <td>13</td>\n",
       "      <td>10</td>\n",
       "      <td>10789</td>\n",
       "      <td>131</td>\n",
       "      <td>288</td>\n",
       "      <td>0</td>\n",
       "    </tr>\n",
       "    <tr>\n",
       "      <th>2</th>\n",
       "      <td>u17</td>\n",
       "      <td>2013-04-11 16:53:00</td>\n",
       "      <td>15634</td>\n",
       "      <td>738</td>\n",
       "      <td>15</td>\n",
       "      <td>128</td>\n",
       "      <td>11</td>\n",
       "      <td>10</td>\n",
       "      <td>13</td>\n",
       "      <td>736</td>\n",
       "      <td>736</td>\n",
       "      <td>11</td>\n",
       "      <td>10</td>\n",
       "      <td>10868</td>\n",
       "      <td>4669</td>\n",
       "      <td>1399</td>\n",
       "      <td>0</td>\n",
       "    </tr>\n",
       "    <tr>\n",
       "      <th>3</th>\n",
       "      <td>u17</td>\n",
       "      <td>2013-04-14 15:33:00</td>\n",
       "      <td>16525</td>\n",
       "      <td>117</td>\n",
       "      <td>0</td>\n",
       "      <td>29</td>\n",
       "      <td>6</td>\n",
       "      <td>6</td>\n",
       "      <td>6</td>\n",
       "      <td>1809</td>\n",
       "      <td>1057</td>\n",
       "      <td>8</td>\n",
       "      <td>6</td>\n",
       "      <td>8673</td>\n",
       "      <td>510</td>\n",
       "      <td>2367</td>\n",
       "      <td>0</td>\n",
       "    </tr>\n",
       "    <tr>\n",
       "      <th>4</th>\n",
       "      <td>u17</td>\n",
       "      <td>2013-04-15 14:07:00</td>\n",
       "      <td>15631</td>\n",
       "      <td>669</td>\n",
       "      <td>83</td>\n",
       "      <td>187</td>\n",
       "      <td>15</td>\n",
       "      <td>14</td>\n",
       "      <td>22</td>\n",
       "      <td>1498</td>\n",
       "      <td>1067</td>\n",
       "      <td>17</td>\n",
       "      <td>14</td>\n",
       "      <td>9609</td>\n",
       "      <td>2132</td>\n",
       "      <td>1704</td>\n",
       "      <td>0</td>\n",
       "    </tr>\n",
       "  </tbody>\n",
       "</table>\n",
       "</div>"
      ],
      "text/plain": [
       "  user_id           date_time  activity_inf_stationary_count  \\\n",
       "0     u17 2013-03-28 15:08:00                          13383   \n",
       "1     u17 2013-03-30 16:06:00                          15997   \n",
       "2     u17 2013-04-11 16:53:00                          15634   \n",
       "3     u17 2013-04-14 15:33:00                          16525   \n",
       "4     u17 2013-04-15 14:07:00                          15631   \n",
       "\n",
       "   activity_inf_walking_count  activity_inf_running_count  \\\n",
       "0                         720                         109   \n",
       "1                         382                           6   \n",
       "2                         738                          15   \n",
       "3                         117                           0   \n",
       "4                         669                          83   \n",
       "\n",
       "   activity_inf_unknown_count  app_usage_baseActivity_mClass  \\\n",
       "0                         254                              8   \n",
       "1                         111                             12   \n",
       "2                         128                             11   \n",
       "3                          29                              6   \n",
       "4                         187                             15   \n",
       "\n",
       "   app_usage_baseActivity_mPackage  app_usage_baseActivity_id_count  \\\n",
       "0                                7                               19   \n",
       "1                               10                               23   \n",
       "2                               10                               13   \n",
       "3                                6                                6   \n",
       "4                               14                               22   \n",
       "\n",
       "   app_usage_baseActivity_numActivities  app_usage_baseActivity_numRunning  \\\n",
       "0                                   409                                408   \n",
       "1                                   842                                692   \n",
       "2                                   736                                736   \n",
       "3                                  1809                               1057   \n",
       "4                                  1498                               1067   \n",
       "\n",
       "   app_usage_topActivity_mClass  app_usage_topActivity_mPackage  \\\n",
       "0                             9                               7   \n",
       "1                            13                              10   \n",
       "2                            11                              10   \n",
       "3                             8                               6   \n",
       "4                            17                              14   \n",
       "\n",
       "   audio_inf_silence_count  audio_inf_voice_count  audio_inf_noise_count  \\\n",
       "0                    11053                    468                    359   \n",
       "1                    10789                    131                    288   \n",
       "2                    10868                   4669                   1399   \n",
       "3                     8673                    510                   2367   \n",
       "4                     9609                   2132                   1704   \n",
       "\n",
       "   audio_inf_unknown_count  \n",
       "0                        0  \n",
       "1                        0  \n",
       "2                        0  \n",
       "3                        0  \n",
       "4                        0  "
      ]
     },
     "execution_count": 78,
     "metadata": {},
     "output_type": "execute_result"
    }
   ],
   "source": [
    "merged_sensing_df = merged_sensing_df.merge(audio_df,on=['user_id','date_time'])\n",
    "\n",
    "merged_sensing_df.head()"
   ]
  },
  {
   "cell_type": "code",
   "execution_count": 79,
   "metadata": {},
   "outputs": [
    {
     "data": {
      "text/plain": [
       "(2455, 17)"
      ]
     },
     "execution_count": 79,
     "metadata": {},
     "output_type": "execute_result"
    }
   ],
   "source": [
    "len(merged_sensing_df),len(merged_sensing_df.columns)"
   ]
  },
  {
   "cell_type": "code",
   "execution_count": 81,
   "metadata": {},
   "outputs": [
    {
     "data": {
      "text/plain": [
       "48"
      ]
     },
     "execution_count": 81,
     "metadata": {},
     "output_type": "execute_result"
    }
   ],
   "source": [
    "merged_sensing_df['user_id'].nunique()"
   ]
  },
  {
   "cell_type": "code",
   "execution_count": 82,
   "metadata": {},
   "outputs": [
    {
     "data": {
      "text/html": [
       "<div>\n",
       "<style scoped>\n",
       "    .dataframe tbody tr th:only-of-type {\n",
       "        vertical-align: middle;\n",
       "    }\n",
       "\n",
       "    .dataframe tbody tr th {\n",
       "        vertical-align: top;\n",
       "    }\n",
       "\n",
       "    .dataframe thead th {\n",
       "        text-align: right;\n",
       "    }\n",
       "</style>\n",
       "<table border=\"1\" class=\"dataframe\">\n",
       "  <thead>\n",
       "    <tr style=\"text-align: right;\">\n",
       "      <th></th>\n",
       "      <th>user_id</th>\n",
       "      <th>date_time</th>\n",
       "      <th>activity_inf_stationary_count</th>\n",
       "      <th>activity_inf_walking_count</th>\n",
       "      <th>activity_inf_running_count</th>\n",
       "      <th>activity_inf_unknown_count</th>\n",
       "      <th>app_usage_baseActivity_mClass</th>\n",
       "      <th>app_usage_baseActivity_mPackage</th>\n",
       "      <th>app_usage_baseActivity_id_count</th>\n",
       "      <th>app_usage_baseActivity_numActivities</th>\n",
       "      <th>app_usage_baseActivity_numRunning</th>\n",
       "      <th>app_usage_topActivity_mClass</th>\n",
       "      <th>app_usage_topActivity_mPackage</th>\n",
       "      <th>audio_inf_silence_count</th>\n",
       "      <th>audio_inf_voice_count</th>\n",
       "      <th>audio_inf_noise_count</th>\n",
       "      <th>audio_inf_unknown_count</th>\n",
       "      <th>conversation_hours</th>\n",
       "      <th>conversation_minutes</th>\n",
       "    </tr>\n",
       "  </thead>\n",
       "  <tbody>\n",
       "    <tr>\n",
       "      <th>0</th>\n",
       "      <td>u17</td>\n",
       "      <td>2013-03-28 15:08:00</td>\n",
       "      <td>13383</td>\n",
       "      <td>720</td>\n",
       "      <td>109</td>\n",
       "      <td>254</td>\n",
       "      <td>8</td>\n",
       "      <td>7</td>\n",
       "      <td>19</td>\n",
       "      <td>409</td>\n",
       "      <td>408</td>\n",
       "      <td>9</td>\n",
       "      <td>7</td>\n",
       "      <td>11053</td>\n",
       "      <td>468</td>\n",
       "      <td>359</td>\n",
       "      <td>0</td>\n",
       "      <td>8</td>\n",
       "      <td>500</td>\n",
       "    </tr>\n",
       "    <tr>\n",
       "      <th>1</th>\n",
       "      <td>u17</td>\n",
       "      <td>2013-03-30 16:06:00</td>\n",
       "      <td>15997</td>\n",
       "      <td>382</td>\n",
       "      <td>6</td>\n",
       "      <td>111</td>\n",
       "      <td>12</td>\n",
       "      <td>10</td>\n",
       "      <td>23</td>\n",
       "      <td>842</td>\n",
       "      <td>692</td>\n",
       "      <td>13</td>\n",
       "      <td>10</td>\n",
       "      <td>10789</td>\n",
       "      <td>131</td>\n",
       "      <td>288</td>\n",
       "      <td>0</td>\n",
       "      <td>8</td>\n",
       "      <td>484</td>\n",
       "    </tr>\n",
       "    <tr>\n",
       "      <th>2</th>\n",
       "      <td>u17</td>\n",
       "      <td>2013-04-11 16:53:00</td>\n",
       "      <td>15634</td>\n",
       "      <td>738</td>\n",
       "      <td>15</td>\n",
       "      <td>128</td>\n",
       "      <td>11</td>\n",
       "      <td>10</td>\n",
       "      <td>13</td>\n",
       "      <td>736</td>\n",
       "      <td>736</td>\n",
       "      <td>11</td>\n",
       "      <td>10</td>\n",
       "      <td>10868</td>\n",
       "      <td>4669</td>\n",
       "      <td>1399</td>\n",
       "      <td>0</td>\n",
       "      <td>9</td>\n",
       "      <td>563</td>\n",
       "    </tr>\n",
       "    <tr>\n",
       "      <th>3</th>\n",
       "      <td>u17</td>\n",
       "      <td>2013-04-14 15:33:00</td>\n",
       "      <td>16525</td>\n",
       "      <td>117</td>\n",
       "      <td>0</td>\n",
       "      <td>29</td>\n",
       "      <td>6</td>\n",
       "      <td>6</td>\n",
       "      <td>6</td>\n",
       "      <td>1809</td>\n",
       "      <td>1057</td>\n",
       "      <td>8</td>\n",
       "      <td>6</td>\n",
       "      <td>8673</td>\n",
       "      <td>510</td>\n",
       "      <td>2367</td>\n",
       "      <td>0</td>\n",
       "      <td>3</td>\n",
       "      <td>193</td>\n",
       "    </tr>\n",
       "    <tr>\n",
       "      <th>4</th>\n",
       "      <td>u17</td>\n",
       "      <td>2013-04-15 14:07:00</td>\n",
       "      <td>15631</td>\n",
       "      <td>669</td>\n",
       "      <td>83</td>\n",
       "      <td>187</td>\n",
       "      <td>15</td>\n",
       "      <td>14</td>\n",
       "      <td>22</td>\n",
       "      <td>1498</td>\n",
       "      <td>1067</td>\n",
       "      <td>17</td>\n",
       "      <td>14</td>\n",
       "      <td>9609</td>\n",
       "      <td>2132</td>\n",
       "      <td>1704</td>\n",
       "      <td>0</td>\n",
       "      <td>8</td>\n",
       "      <td>533</td>\n",
       "    </tr>\n",
       "  </tbody>\n",
       "</table>\n",
       "</div>"
      ],
      "text/plain": [
       "  user_id           date_time  activity_inf_stationary_count  \\\n",
       "0     u17 2013-03-28 15:08:00                          13383   \n",
       "1     u17 2013-03-30 16:06:00                          15997   \n",
       "2     u17 2013-04-11 16:53:00                          15634   \n",
       "3     u17 2013-04-14 15:33:00                          16525   \n",
       "4     u17 2013-04-15 14:07:00                          15631   \n",
       "\n",
       "   activity_inf_walking_count  activity_inf_running_count  \\\n",
       "0                         720                         109   \n",
       "1                         382                           6   \n",
       "2                         738                          15   \n",
       "3                         117                           0   \n",
       "4                         669                          83   \n",
       "\n",
       "   activity_inf_unknown_count  app_usage_baseActivity_mClass  \\\n",
       "0                         254                              8   \n",
       "1                         111                             12   \n",
       "2                         128                             11   \n",
       "3                          29                              6   \n",
       "4                         187                             15   \n",
       "\n",
       "   app_usage_baseActivity_mPackage  app_usage_baseActivity_id_count  \\\n",
       "0                                7                               19   \n",
       "1                               10                               23   \n",
       "2                               10                               13   \n",
       "3                                6                                6   \n",
       "4                               14                               22   \n",
       "\n",
       "   app_usage_baseActivity_numActivities  app_usage_baseActivity_numRunning  \\\n",
       "0                                   409                                408   \n",
       "1                                   842                                692   \n",
       "2                                   736                                736   \n",
       "3                                  1809                               1057   \n",
       "4                                  1498                               1067   \n",
       "\n",
       "   app_usage_topActivity_mClass  app_usage_topActivity_mPackage  \\\n",
       "0                             9                               7   \n",
       "1                            13                              10   \n",
       "2                            11                              10   \n",
       "3                             8                               6   \n",
       "4                            17                              14   \n",
       "\n",
       "   audio_inf_silence_count  audio_inf_voice_count  audio_inf_noise_count  \\\n",
       "0                    11053                    468                    359   \n",
       "1                    10789                    131                    288   \n",
       "2                    10868                   4669                   1399   \n",
       "3                     8673                    510                   2367   \n",
       "4                     9609                   2132                   1704   \n",
       "\n",
       "   audio_inf_unknown_count  conversation_hours  conversation_minutes  \n",
       "0                        0                   8                   500  \n",
       "1                        0                   8                   484  \n",
       "2                        0                   9                   563  \n",
       "3                        0                   3                   193  \n",
       "4                        0                   8                   533  "
      ]
     },
     "execution_count": 82,
     "metadata": {},
     "output_type": "execute_result"
    }
   ],
   "source": [
    "merged_sensing_df = merged_sensing_df.merge(conv_df,on=['user_id','date_time'])\n",
    "\n",
    "merged_sensing_df.head()"
   ]
  },
  {
   "cell_type": "code",
   "execution_count": 83,
   "metadata": {},
   "outputs": [
    {
     "data": {
      "text/plain": [
       "(2455, 19)"
      ]
     },
     "execution_count": 83,
     "metadata": {},
     "output_type": "execute_result"
    }
   ],
   "source": [
    "len(merged_sensing_df),len(merged_sensing_df.columns)"
   ]
  },
  {
   "cell_type": "code",
   "execution_count": 84,
   "metadata": {},
   "outputs": [
    {
     "data": {
      "text/html": [
       "<div>\n",
       "<style scoped>\n",
       "    .dataframe tbody tr th:only-of-type {\n",
       "        vertical-align: middle;\n",
       "    }\n",
       "\n",
       "    .dataframe tbody tr th {\n",
       "        vertical-align: top;\n",
       "    }\n",
       "\n",
       "    .dataframe thead th {\n",
       "        text-align: right;\n",
       "    }\n",
       "</style>\n",
       "<table border=\"1\" class=\"dataframe\">\n",
       "  <thead>\n",
       "    <tr style=\"text-align: right;\">\n",
       "      <th></th>\n",
       "      <th>user_id</th>\n",
       "      <th>date_time</th>\n",
       "      <th>activity_inf_stationary_count</th>\n",
       "      <th>activity_inf_walking_count</th>\n",
       "      <th>activity_inf_running_count</th>\n",
       "      <th>activity_inf_unknown_count</th>\n",
       "      <th>app_usage_baseActivity_mClass</th>\n",
       "      <th>app_usage_baseActivity_mPackage</th>\n",
       "      <th>app_usage_baseActivity_id_count</th>\n",
       "      <th>app_usage_baseActivity_numActivities</th>\n",
       "      <th>...</th>\n",
       "      <th>app_usage_topActivity_mPackage</th>\n",
       "      <th>audio_inf_silence_count</th>\n",
       "      <th>audio_inf_voice_count</th>\n",
       "      <th>audio_inf_noise_count</th>\n",
       "      <th>audio_inf_unknown_count</th>\n",
       "      <th>conversation_hours</th>\n",
       "      <th>conversation_minutes</th>\n",
       "      <th>dark_hours</th>\n",
       "      <th>dark_minutes</th>\n",
       "      <th>dark_seconds</th>\n",
       "    </tr>\n",
       "  </thead>\n",
       "  <tbody>\n",
       "    <tr>\n",
       "      <th>0</th>\n",
       "      <td>u17</td>\n",
       "      <td>2013-03-28 15:08:00</td>\n",
       "      <td>13383</td>\n",
       "      <td>720</td>\n",
       "      <td>109</td>\n",
       "      <td>254</td>\n",
       "      <td>8</td>\n",
       "      <td>7</td>\n",
       "      <td>19</td>\n",
       "      <td>409</td>\n",
       "      <td>...</td>\n",
       "      <td>7</td>\n",
       "      <td>11053</td>\n",
       "      <td>468</td>\n",
       "      <td>359</td>\n",
       "      <td>0</td>\n",
       "      <td>8</td>\n",
       "      <td>500</td>\n",
       "      <td>0</td>\n",
       "      <td>55</td>\n",
       "      <td>3342</td>\n",
       "    </tr>\n",
       "    <tr>\n",
       "      <th>1</th>\n",
       "      <td>u17</td>\n",
       "      <td>2013-03-30 16:06:00</td>\n",
       "      <td>15997</td>\n",
       "      <td>382</td>\n",
       "      <td>6</td>\n",
       "      <td>111</td>\n",
       "      <td>12</td>\n",
       "      <td>10</td>\n",
       "      <td>23</td>\n",
       "      <td>842</td>\n",
       "      <td>...</td>\n",
       "      <td>10</td>\n",
       "      <td>10789</td>\n",
       "      <td>131</td>\n",
       "      <td>288</td>\n",
       "      <td>0</td>\n",
       "      <td>8</td>\n",
       "      <td>484</td>\n",
       "      <td>1</td>\n",
       "      <td>62</td>\n",
       "      <td>3729</td>\n",
       "    </tr>\n",
       "    <tr>\n",
       "      <th>2</th>\n",
       "      <td>u17</td>\n",
       "      <td>2013-04-11 16:53:00</td>\n",
       "      <td>15634</td>\n",
       "      <td>738</td>\n",
       "      <td>15</td>\n",
       "      <td>128</td>\n",
       "      <td>11</td>\n",
       "      <td>10</td>\n",
       "      <td>13</td>\n",
       "      <td>736</td>\n",
       "      <td>...</td>\n",
       "      <td>10</td>\n",
       "      <td>10868</td>\n",
       "      <td>4669</td>\n",
       "      <td>1399</td>\n",
       "      <td>0</td>\n",
       "      <td>9</td>\n",
       "      <td>563</td>\n",
       "      <td>12</td>\n",
       "      <td>726</td>\n",
       "      <td>43616</td>\n",
       "    </tr>\n",
       "    <tr>\n",
       "      <th>3</th>\n",
       "      <td>u17</td>\n",
       "      <td>2013-04-14 15:33:00</td>\n",
       "      <td>16525</td>\n",
       "      <td>117</td>\n",
       "      <td>0</td>\n",
       "      <td>29</td>\n",
       "      <td>6</td>\n",
       "      <td>6</td>\n",
       "      <td>6</td>\n",
       "      <td>1809</td>\n",
       "      <td>...</td>\n",
       "      <td>6</td>\n",
       "      <td>8673</td>\n",
       "      <td>510</td>\n",
       "      <td>2367</td>\n",
       "      <td>0</td>\n",
       "      <td>3</td>\n",
       "      <td>193</td>\n",
       "      <td>1</td>\n",
       "      <td>75</td>\n",
       "      <td>4527</td>\n",
       "    </tr>\n",
       "    <tr>\n",
       "      <th>4</th>\n",
       "      <td>u17</td>\n",
       "      <td>2013-04-15 14:07:00</td>\n",
       "      <td>15631</td>\n",
       "      <td>669</td>\n",
       "      <td>83</td>\n",
       "      <td>187</td>\n",
       "      <td>15</td>\n",
       "      <td>14</td>\n",
       "      <td>22</td>\n",
       "      <td>1498</td>\n",
       "      <td>...</td>\n",
       "      <td>14</td>\n",
       "      <td>9609</td>\n",
       "      <td>2132</td>\n",
       "      <td>1704</td>\n",
       "      <td>0</td>\n",
       "      <td>8</td>\n",
       "      <td>533</td>\n",
       "      <td>4</td>\n",
       "      <td>272</td>\n",
       "      <td>16329</td>\n",
       "    </tr>\n",
       "  </tbody>\n",
       "</table>\n",
       "<p>5 rows × 22 columns</p>\n",
       "</div>"
      ],
      "text/plain": [
       "  user_id           date_time  activity_inf_stationary_count  \\\n",
       "0     u17 2013-03-28 15:08:00                          13383   \n",
       "1     u17 2013-03-30 16:06:00                          15997   \n",
       "2     u17 2013-04-11 16:53:00                          15634   \n",
       "3     u17 2013-04-14 15:33:00                          16525   \n",
       "4     u17 2013-04-15 14:07:00                          15631   \n",
       "\n",
       "   activity_inf_walking_count  activity_inf_running_count  \\\n",
       "0                         720                         109   \n",
       "1                         382                           6   \n",
       "2                         738                          15   \n",
       "3                         117                           0   \n",
       "4                         669                          83   \n",
       "\n",
       "   activity_inf_unknown_count  app_usage_baseActivity_mClass  \\\n",
       "0                         254                              8   \n",
       "1                         111                             12   \n",
       "2                         128                             11   \n",
       "3                          29                              6   \n",
       "4                         187                             15   \n",
       "\n",
       "   app_usage_baseActivity_mPackage  app_usage_baseActivity_id_count  \\\n",
       "0                                7                               19   \n",
       "1                               10                               23   \n",
       "2                               10                               13   \n",
       "3                                6                                6   \n",
       "4                               14                               22   \n",
       "\n",
       "   app_usage_baseActivity_numActivities  ...  app_usage_topActivity_mPackage  \\\n",
       "0                                   409  ...                               7   \n",
       "1                                   842  ...                              10   \n",
       "2                                   736  ...                              10   \n",
       "3                                  1809  ...                               6   \n",
       "4                                  1498  ...                              14   \n",
       "\n",
       "   audio_inf_silence_count  audio_inf_voice_count  audio_inf_noise_count  \\\n",
       "0                    11053                    468                    359   \n",
       "1                    10789                    131                    288   \n",
       "2                    10868                   4669                   1399   \n",
       "3                     8673                    510                   2367   \n",
       "4                     9609                   2132                   1704   \n",
       "\n",
       "   audio_inf_unknown_count  conversation_hours  conversation_minutes  \\\n",
       "0                        0                   8                   500   \n",
       "1                        0                   8                   484   \n",
       "2                        0                   9                   563   \n",
       "3                        0                   3                   193   \n",
       "4                        0                   8                   533   \n",
       "\n",
       "   dark_hours  dark_minutes  dark_seconds  \n",
       "0           0            55          3342  \n",
       "1           1            62          3729  \n",
       "2          12           726         43616  \n",
       "3           1            75          4527  \n",
       "4           4           272         16329  \n",
       "\n",
       "[5 rows x 22 columns]"
      ]
     },
     "execution_count": 84,
     "metadata": {},
     "output_type": "execute_result"
    }
   ],
   "source": [
    "merged_sensing_df = merged_sensing_df.merge(dark_df,on=['user_id','date_time'])\n",
    "\n",
    "merged_sensing_df.head()"
   ]
  },
  {
   "cell_type": "code",
   "execution_count": 85,
   "metadata": {},
   "outputs": [
    {
     "data": {
      "text/plain": [
       "2455"
      ]
     },
     "execution_count": 85,
     "metadata": {},
     "output_type": "execute_result"
    }
   ],
   "source": [
    "len(merged_sensing_df)"
   ]
  },
  {
   "cell_type": "code",
   "execution_count": 86,
   "metadata": {},
   "outputs": [
    {
     "data": {
      "text/html": [
       "<div>\n",
       "<style scoped>\n",
       "    .dataframe tbody tr th:only-of-type {\n",
       "        vertical-align: middle;\n",
       "    }\n",
       "\n",
       "    .dataframe tbody tr th {\n",
       "        vertical-align: top;\n",
       "    }\n",
       "\n",
       "    .dataframe thead th {\n",
       "        text-align: right;\n",
       "    }\n",
       "</style>\n",
       "<table border=\"1\" class=\"dataframe\">\n",
       "  <thead>\n",
       "    <tr style=\"text-align: right;\">\n",
       "      <th></th>\n",
       "      <th>user_id</th>\n",
       "      <th>date_time</th>\n",
       "      <th>activity_inf_stationary_count</th>\n",
       "      <th>activity_inf_walking_count</th>\n",
       "      <th>activity_inf_running_count</th>\n",
       "      <th>activity_inf_unknown_count</th>\n",
       "      <th>app_usage_baseActivity_mClass</th>\n",
       "      <th>app_usage_baseActivity_mPackage</th>\n",
       "      <th>app_usage_baseActivity_id_count</th>\n",
       "      <th>app_usage_baseActivity_numActivities</th>\n",
       "      <th>...</th>\n",
       "      <th>audio_inf_noise_count</th>\n",
       "      <th>audio_inf_unknown_count</th>\n",
       "      <th>conversation_hours</th>\n",
       "      <th>conversation_minutes</th>\n",
       "      <th>dark_hours</th>\n",
       "      <th>dark_minutes</th>\n",
       "      <th>dark_seconds</th>\n",
       "      <th>phonecharge_hours</th>\n",
       "      <th>phonecharge_minutes</th>\n",
       "      <th>phonecharge_seconds</th>\n",
       "    </tr>\n",
       "  </thead>\n",
       "  <tbody>\n",
       "    <tr>\n",
       "      <th>0</th>\n",
       "      <td>u17</td>\n",
       "      <td>2013-03-28 15:08:00</td>\n",
       "      <td>13383</td>\n",
       "      <td>720</td>\n",
       "      <td>109</td>\n",
       "      <td>254</td>\n",
       "      <td>8</td>\n",
       "      <td>7</td>\n",
       "      <td>19</td>\n",
       "      <td>409</td>\n",
       "      <td>...</td>\n",
       "      <td>359</td>\n",
       "      <td>0</td>\n",
       "      <td>8</td>\n",
       "      <td>500</td>\n",
       "      <td>0</td>\n",
       "      <td>55</td>\n",
       "      <td>3342</td>\n",
       "      <td>1</td>\n",
       "      <td>67</td>\n",
       "      <td>4044</td>\n",
       "    </tr>\n",
       "    <tr>\n",
       "      <th>1</th>\n",
       "      <td>u17</td>\n",
       "      <td>2013-03-30 16:06:00</td>\n",
       "      <td>15997</td>\n",
       "      <td>382</td>\n",
       "      <td>6</td>\n",
       "      <td>111</td>\n",
       "      <td>12</td>\n",
       "      <td>10</td>\n",
       "      <td>23</td>\n",
       "      <td>842</td>\n",
       "      <td>...</td>\n",
       "      <td>288</td>\n",
       "      <td>0</td>\n",
       "      <td>8</td>\n",
       "      <td>484</td>\n",
       "      <td>1</td>\n",
       "      <td>62</td>\n",
       "      <td>3729</td>\n",
       "      <td>2</td>\n",
       "      <td>170</td>\n",
       "      <td>10253</td>\n",
       "    </tr>\n",
       "    <tr>\n",
       "      <th>2</th>\n",
       "      <td>u17</td>\n",
       "      <td>2013-04-11 16:53:00</td>\n",
       "      <td>15634</td>\n",
       "      <td>738</td>\n",
       "      <td>15</td>\n",
       "      <td>128</td>\n",
       "      <td>11</td>\n",
       "      <td>10</td>\n",
       "      <td>13</td>\n",
       "      <td>736</td>\n",
       "      <td>...</td>\n",
       "      <td>1399</td>\n",
       "      <td>0</td>\n",
       "      <td>9</td>\n",
       "      <td>563</td>\n",
       "      <td>12</td>\n",
       "      <td>726</td>\n",
       "      <td>43616</td>\n",
       "      <td>1</td>\n",
       "      <td>108</td>\n",
       "      <td>6485</td>\n",
       "    </tr>\n",
       "    <tr>\n",
       "      <th>3</th>\n",
       "      <td>u17</td>\n",
       "      <td>2013-04-14 15:33:00</td>\n",
       "      <td>16525</td>\n",
       "      <td>117</td>\n",
       "      <td>0</td>\n",
       "      <td>29</td>\n",
       "      <td>6</td>\n",
       "      <td>6</td>\n",
       "      <td>6</td>\n",
       "      <td>1809</td>\n",
       "      <td>...</td>\n",
       "      <td>2367</td>\n",
       "      <td>0</td>\n",
       "      <td>3</td>\n",
       "      <td>193</td>\n",
       "      <td>1</td>\n",
       "      <td>75</td>\n",
       "      <td>4527</td>\n",
       "      <td>5</td>\n",
       "      <td>336</td>\n",
       "      <td>20179</td>\n",
       "    </tr>\n",
       "    <tr>\n",
       "      <th>4</th>\n",
       "      <td>u17</td>\n",
       "      <td>2013-04-15 14:07:00</td>\n",
       "      <td>15631</td>\n",
       "      <td>669</td>\n",
       "      <td>83</td>\n",
       "      <td>187</td>\n",
       "      <td>15</td>\n",
       "      <td>14</td>\n",
       "      <td>22</td>\n",
       "      <td>1498</td>\n",
       "      <td>...</td>\n",
       "      <td>1704</td>\n",
       "      <td>0</td>\n",
       "      <td>8</td>\n",
       "      <td>533</td>\n",
       "      <td>4</td>\n",
       "      <td>272</td>\n",
       "      <td>16329</td>\n",
       "      <td>15</td>\n",
       "      <td>957</td>\n",
       "      <td>57454</td>\n",
       "    </tr>\n",
       "  </tbody>\n",
       "</table>\n",
       "<p>5 rows × 25 columns</p>\n",
       "</div>"
      ],
      "text/plain": [
       "  user_id           date_time  activity_inf_stationary_count  \\\n",
       "0     u17 2013-03-28 15:08:00                          13383   \n",
       "1     u17 2013-03-30 16:06:00                          15997   \n",
       "2     u17 2013-04-11 16:53:00                          15634   \n",
       "3     u17 2013-04-14 15:33:00                          16525   \n",
       "4     u17 2013-04-15 14:07:00                          15631   \n",
       "\n",
       "   activity_inf_walking_count  activity_inf_running_count  \\\n",
       "0                         720                         109   \n",
       "1                         382                           6   \n",
       "2                         738                          15   \n",
       "3                         117                           0   \n",
       "4                         669                          83   \n",
       "\n",
       "   activity_inf_unknown_count  app_usage_baseActivity_mClass  \\\n",
       "0                         254                              8   \n",
       "1                         111                             12   \n",
       "2                         128                             11   \n",
       "3                          29                              6   \n",
       "4                         187                             15   \n",
       "\n",
       "   app_usage_baseActivity_mPackage  app_usage_baseActivity_id_count  \\\n",
       "0                                7                               19   \n",
       "1                               10                               23   \n",
       "2                               10                               13   \n",
       "3                                6                                6   \n",
       "4                               14                               22   \n",
       "\n",
       "   app_usage_baseActivity_numActivities  ...  audio_inf_noise_count  \\\n",
       "0                                   409  ...                    359   \n",
       "1                                   842  ...                    288   \n",
       "2                                   736  ...                   1399   \n",
       "3                                  1809  ...                   2367   \n",
       "4                                  1498  ...                   1704   \n",
       "\n",
       "   audio_inf_unknown_count  conversation_hours  conversation_minutes  \\\n",
       "0                        0                   8                   500   \n",
       "1                        0                   8                   484   \n",
       "2                        0                   9                   563   \n",
       "3                        0                   3                   193   \n",
       "4                        0                   8                   533   \n",
       "\n",
       "   dark_hours  dark_minutes  dark_seconds  phonecharge_hours  \\\n",
       "0           0            55          3342                  1   \n",
       "1           1            62          3729                  2   \n",
       "2          12           726         43616                  1   \n",
       "3           1            75          4527                  5   \n",
       "4           4           272         16329                 15   \n",
       "\n",
       "   phonecharge_minutes  phonecharge_seconds  \n",
       "0                   67                 4044  \n",
       "1                  170                10253  \n",
       "2                  108                 6485  \n",
       "3                  336                20179  \n",
       "4                  957                57454  \n",
       "\n",
       "[5 rows x 25 columns]"
      ]
     },
     "execution_count": 86,
     "metadata": {},
     "output_type": "execute_result"
    }
   ],
   "source": [
    "merged_sensing_df = merged_sensing_df.merge(phonecharge_df,on=['user_id','date_time'])\n",
    "\n",
    "merged_sensing_df.head()"
   ]
  },
  {
   "cell_type": "code",
   "execution_count": 87,
   "metadata": {},
   "outputs": [
    {
     "data": {
      "text/html": [
       "<div>\n",
       "<style scoped>\n",
       "    .dataframe tbody tr th:only-of-type {\n",
       "        vertical-align: middle;\n",
       "    }\n",
       "\n",
       "    .dataframe tbody tr th {\n",
       "        vertical-align: top;\n",
       "    }\n",
       "\n",
       "    .dataframe thead th {\n",
       "        text-align: right;\n",
       "    }\n",
       "</style>\n",
       "<table border=\"1\" class=\"dataframe\">\n",
       "  <thead>\n",
       "    <tr style=\"text-align: right;\">\n",
       "      <th></th>\n",
       "      <th>user_id</th>\n",
       "      <th>date_time</th>\n",
       "      <th>activity_inf_stationary_count</th>\n",
       "      <th>activity_inf_walking_count</th>\n",
       "      <th>activity_inf_running_count</th>\n",
       "      <th>activity_inf_unknown_count</th>\n",
       "      <th>app_usage_baseActivity_mClass</th>\n",
       "      <th>app_usage_baseActivity_mPackage</th>\n",
       "      <th>app_usage_baseActivity_id_count</th>\n",
       "      <th>app_usage_baseActivity_numActivities</th>\n",
       "      <th>...</th>\n",
       "      <th>conversation_minutes</th>\n",
       "      <th>dark_hours</th>\n",
       "      <th>dark_minutes</th>\n",
       "      <th>dark_seconds</th>\n",
       "      <th>phonecharge_hours</th>\n",
       "      <th>phonecharge_minutes</th>\n",
       "      <th>phonecharge_seconds</th>\n",
       "      <th>phonelock_hours</th>\n",
       "      <th>phonelock_minutes</th>\n",
       "      <th>phonelock_seconds</th>\n",
       "    </tr>\n",
       "  </thead>\n",
       "  <tbody>\n",
       "    <tr>\n",
       "      <th>0</th>\n",
       "      <td>u17</td>\n",
       "      <td>2013-03-28 15:08:00</td>\n",
       "      <td>13383</td>\n",
       "      <td>720</td>\n",
       "      <td>109</td>\n",
       "      <td>254</td>\n",
       "      <td>8</td>\n",
       "      <td>7</td>\n",
       "      <td>19</td>\n",
       "      <td>409</td>\n",
       "      <td>...</td>\n",
       "      <td>500</td>\n",
       "      <td>0</td>\n",
       "      <td>55</td>\n",
       "      <td>3342</td>\n",
       "      <td>1</td>\n",
       "      <td>67</td>\n",
       "      <td>4044</td>\n",
       "      <td>1</td>\n",
       "      <td>105</td>\n",
       "      <td>6327</td>\n",
       "    </tr>\n",
       "    <tr>\n",
       "      <th>1</th>\n",
       "      <td>u17</td>\n",
       "      <td>2013-03-30 16:06:00</td>\n",
       "      <td>15997</td>\n",
       "      <td>382</td>\n",
       "      <td>6</td>\n",
       "      <td>111</td>\n",
       "      <td>12</td>\n",
       "      <td>10</td>\n",
       "      <td>23</td>\n",
       "      <td>842</td>\n",
       "      <td>...</td>\n",
       "      <td>484</td>\n",
       "      <td>1</td>\n",
       "      <td>62</td>\n",
       "      <td>3729</td>\n",
       "      <td>2</td>\n",
       "      <td>170</td>\n",
       "      <td>10253</td>\n",
       "      <td>2</td>\n",
       "      <td>127</td>\n",
       "      <td>7660</td>\n",
       "    </tr>\n",
       "    <tr>\n",
       "      <th>2</th>\n",
       "      <td>u17</td>\n",
       "      <td>2013-04-11 16:53:00</td>\n",
       "      <td>15634</td>\n",
       "      <td>738</td>\n",
       "      <td>15</td>\n",
       "      <td>128</td>\n",
       "      <td>11</td>\n",
       "      <td>10</td>\n",
       "      <td>13</td>\n",
       "      <td>736</td>\n",
       "      <td>...</td>\n",
       "      <td>563</td>\n",
       "      <td>12</td>\n",
       "      <td>726</td>\n",
       "      <td>43616</td>\n",
       "      <td>1</td>\n",
       "      <td>108</td>\n",
       "      <td>6485</td>\n",
       "      <td>1</td>\n",
       "      <td>78</td>\n",
       "      <td>4699</td>\n",
       "    </tr>\n",
       "    <tr>\n",
       "      <th>3</th>\n",
       "      <td>u17</td>\n",
       "      <td>2013-04-14 15:33:00</td>\n",
       "      <td>16525</td>\n",
       "      <td>117</td>\n",
       "      <td>0</td>\n",
       "      <td>29</td>\n",
       "      <td>6</td>\n",
       "      <td>6</td>\n",
       "      <td>6</td>\n",
       "      <td>1809</td>\n",
       "      <td>...</td>\n",
       "      <td>193</td>\n",
       "      <td>1</td>\n",
       "      <td>75</td>\n",
       "      <td>4527</td>\n",
       "      <td>5</td>\n",
       "      <td>336</td>\n",
       "      <td>20179</td>\n",
       "      <td>1</td>\n",
       "      <td>63</td>\n",
       "      <td>3796</td>\n",
       "    </tr>\n",
       "    <tr>\n",
       "      <th>4</th>\n",
       "      <td>u17</td>\n",
       "      <td>2013-04-15 14:07:00</td>\n",
       "      <td>15631</td>\n",
       "      <td>669</td>\n",
       "      <td>83</td>\n",
       "      <td>187</td>\n",
       "      <td>15</td>\n",
       "      <td>14</td>\n",
       "      <td>22</td>\n",
       "      <td>1498</td>\n",
       "      <td>...</td>\n",
       "      <td>533</td>\n",
       "      <td>4</td>\n",
       "      <td>272</td>\n",
       "      <td>16329</td>\n",
       "      <td>15</td>\n",
       "      <td>957</td>\n",
       "      <td>57454</td>\n",
       "      <td>3</td>\n",
       "      <td>226</td>\n",
       "      <td>13574</td>\n",
       "    </tr>\n",
       "  </tbody>\n",
       "</table>\n",
       "<p>5 rows × 28 columns</p>\n",
       "</div>"
      ],
      "text/plain": [
       "  user_id           date_time  activity_inf_stationary_count  \\\n",
       "0     u17 2013-03-28 15:08:00                          13383   \n",
       "1     u17 2013-03-30 16:06:00                          15997   \n",
       "2     u17 2013-04-11 16:53:00                          15634   \n",
       "3     u17 2013-04-14 15:33:00                          16525   \n",
       "4     u17 2013-04-15 14:07:00                          15631   \n",
       "\n",
       "   activity_inf_walking_count  activity_inf_running_count  \\\n",
       "0                         720                         109   \n",
       "1                         382                           6   \n",
       "2                         738                          15   \n",
       "3                         117                           0   \n",
       "4                         669                          83   \n",
       "\n",
       "   activity_inf_unknown_count  app_usage_baseActivity_mClass  \\\n",
       "0                         254                              8   \n",
       "1                         111                             12   \n",
       "2                         128                             11   \n",
       "3                          29                              6   \n",
       "4                         187                             15   \n",
       "\n",
       "   app_usage_baseActivity_mPackage  app_usage_baseActivity_id_count  \\\n",
       "0                                7                               19   \n",
       "1                               10                               23   \n",
       "2                               10                               13   \n",
       "3                                6                                6   \n",
       "4                               14                               22   \n",
       "\n",
       "   app_usage_baseActivity_numActivities  ...  conversation_minutes  \\\n",
       "0                                   409  ...                   500   \n",
       "1                                   842  ...                   484   \n",
       "2                                   736  ...                   563   \n",
       "3                                  1809  ...                   193   \n",
       "4                                  1498  ...                   533   \n",
       "\n",
       "   dark_hours  dark_minutes  dark_seconds  phonecharge_hours  \\\n",
       "0           0            55          3342                  1   \n",
       "1           1            62          3729                  2   \n",
       "2          12           726         43616                  1   \n",
       "3           1            75          4527                  5   \n",
       "4           4           272         16329                 15   \n",
       "\n",
       "   phonecharge_minutes  phonecharge_seconds  phonelock_hours  \\\n",
       "0                   67                 4044                1   \n",
       "1                  170                10253                2   \n",
       "2                  108                 6485                1   \n",
       "3                  336                20179                1   \n",
       "4                  957                57454                3   \n",
       "\n",
       "   phonelock_minutes  phonelock_seconds  \n",
       "0                105               6327  \n",
       "1                127               7660  \n",
       "2                 78               4699  \n",
       "3                 63               3796  \n",
       "4                226              13574  \n",
       "\n",
       "[5 rows x 28 columns]"
      ]
     },
     "execution_count": 87,
     "metadata": {},
     "output_type": "execute_result"
    }
   ],
   "source": [
    "merged_sensing_df = merged_sensing_df.merge(phonelock_df,on=['user_id','date_time'])\n",
    "\n",
    "merged_sensing_df.head()"
   ]
  },
  {
   "cell_type": "code",
   "execution_count": 88,
   "metadata": {},
   "outputs": [
    {
     "data": {
      "text/html": [
       "<div>\n",
       "<style scoped>\n",
       "    .dataframe tbody tr th:only-of-type {\n",
       "        vertical-align: middle;\n",
       "    }\n",
       "\n",
       "    .dataframe tbody tr th {\n",
       "        vertical-align: top;\n",
       "    }\n",
       "\n",
       "    .dataframe thead th {\n",
       "        text-align: right;\n",
       "    }\n",
       "</style>\n",
       "<table border=\"1\" class=\"dataframe\">\n",
       "  <thead>\n",
       "    <tr style=\"text-align: right;\">\n",
       "      <th></th>\n",
       "      <th>user_id</th>\n",
       "      <th>date_time</th>\n",
       "      <th>activity_inf_stationary_count</th>\n",
       "      <th>activity_inf_walking_count</th>\n",
       "      <th>activity_inf_running_count</th>\n",
       "      <th>activity_inf_unknown_count</th>\n",
       "      <th>app_usage_baseActivity_mClass</th>\n",
       "      <th>app_usage_baseActivity_mPackage</th>\n",
       "      <th>app_usage_baseActivity_id_count</th>\n",
       "      <th>app_usage_baseActivity_numActivities</th>\n",
       "      <th>...</th>\n",
       "      <th>year</th>\n",
       "      <th>month</th>\n",
       "      <th>day</th>\n",
       "      <th>hours</th>\n",
       "      <th>minute</th>\n",
       "      <th>weekday</th>\n",
       "      <th>weeknumber</th>\n",
       "      <th>label_source</th>\n",
       "      <th>rating</th>\n",
       "      <th>stress_label</th>\n",
       "    </tr>\n",
       "  </thead>\n",
       "  <tbody>\n",
       "    <tr>\n",
       "      <th>0</th>\n",
       "      <td>u17</td>\n",
       "      <td>2013-03-28 15:08:00</td>\n",
       "      <td>13383</td>\n",
       "      <td>720</td>\n",
       "      <td>109</td>\n",
       "      <td>254</td>\n",
       "      <td>8</td>\n",
       "      <td>7</td>\n",
       "      <td>19</td>\n",
       "      <td>409</td>\n",
       "      <td>...</td>\n",
       "      <td>2013</td>\n",
       "      <td>3</td>\n",
       "      <td>28</td>\n",
       "      <td>15</td>\n",
       "      <td>8</td>\n",
       "      <td>Thu</td>\n",
       "      <td>12</td>\n",
       "      <td>stress_ema</td>\n",
       "      <td>1</td>\n",
       "      <td>0</td>\n",
       "    </tr>\n",
       "    <tr>\n",
       "      <th>1</th>\n",
       "      <td>u17</td>\n",
       "      <td>2013-03-30 16:06:00</td>\n",
       "      <td>15997</td>\n",
       "      <td>382</td>\n",
       "      <td>6</td>\n",
       "      <td>111</td>\n",
       "      <td>12</td>\n",
       "      <td>10</td>\n",
       "      <td>23</td>\n",
       "      <td>842</td>\n",
       "      <td>...</td>\n",
       "      <td>2013</td>\n",
       "      <td>3</td>\n",
       "      <td>30</td>\n",
       "      <td>16</td>\n",
       "      <td>6</td>\n",
       "      <td>Sat</td>\n",
       "      <td>12</td>\n",
       "      <td>stress_ema</td>\n",
       "      <td>2</td>\n",
       "      <td>1</td>\n",
       "    </tr>\n",
       "    <tr>\n",
       "      <th>2</th>\n",
       "      <td>u17</td>\n",
       "      <td>2013-04-11 16:53:00</td>\n",
       "      <td>15634</td>\n",
       "      <td>738</td>\n",
       "      <td>15</td>\n",
       "      <td>128</td>\n",
       "      <td>11</td>\n",
       "      <td>10</td>\n",
       "      <td>13</td>\n",
       "      <td>736</td>\n",
       "      <td>...</td>\n",
       "      <td>2013</td>\n",
       "      <td>4</td>\n",
       "      <td>11</td>\n",
       "      <td>16</td>\n",
       "      <td>53</td>\n",
       "      <td>Thu</td>\n",
       "      <td>14</td>\n",
       "      <td>stress_ema</td>\n",
       "      <td>3</td>\n",
       "      <td>1</td>\n",
       "    </tr>\n",
       "    <tr>\n",
       "      <th>3</th>\n",
       "      <td>u17</td>\n",
       "      <td>2013-04-14 15:33:00</td>\n",
       "      <td>16525</td>\n",
       "      <td>117</td>\n",
       "      <td>0</td>\n",
       "      <td>29</td>\n",
       "      <td>6</td>\n",
       "      <td>6</td>\n",
       "      <td>6</td>\n",
       "      <td>1809</td>\n",
       "      <td>...</td>\n",
       "      <td>2013</td>\n",
       "      <td>4</td>\n",
       "      <td>14</td>\n",
       "      <td>15</td>\n",
       "      <td>33</td>\n",
       "      <td>Sun</td>\n",
       "      <td>14</td>\n",
       "      <td>stress_ema</td>\n",
       "      <td>3</td>\n",
       "      <td>1</td>\n",
       "    </tr>\n",
       "    <tr>\n",
       "      <th>4</th>\n",
       "      <td>u17</td>\n",
       "      <td>2013-04-15 14:07:00</td>\n",
       "      <td>15631</td>\n",
       "      <td>669</td>\n",
       "      <td>83</td>\n",
       "      <td>187</td>\n",
       "      <td>15</td>\n",
       "      <td>14</td>\n",
       "      <td>22</td>\n",
       "      <td>1498</td>\n",
       "      <td>...</td>\n",
       "      <td>2013</td>\n",
       "      <td>4</td>\n",
       "      <td>15</td>\n",
       "      <td>14</td>\n",
       "      <td>7</td>\n",
       "      <td>Mon</td>\n",
       "      <td>15</td>\n",
       "      <td>stress_ema</td>\n",
       "      <td>3</td>\n",
       "      <td>1</td>\n",
       "    </tr>\n",
       "  </tbody>\n",
       "</table>\n",
       "<p>5 rows × 38 columns</p>\n",
       "</div>"
      ],
      "text/plain": [
       "  user_id           date_time  activity_inf_stationary_count  \\\n",
       "0     u17 2013-03-28 15:08:00                          13383   \n",
       "1     u17 2013-03-30 16:06:00                          15997   \n",
       "2     u17 2013-04-11 16:53:00                          15634   \n",
       "3     u17 2013-04-14 15:33:00                          16525   \n",
       "4     u17 2013-04-15 14:07:00                          15631   \n",
       "\n",
       "   activity_inf_walking_count  activity_inf_running_count  \\\n",
       "0                         720                         109   \n",
       "1                         382                           6   \n",
       "2                         738                          15   \n",
       "3                         117                           0   \n",
       "4                         669                          83   \n",
       "\n",
       "   activity_inf_unknown_count  app_usage_baseActivity_mClass  \\\n",
       "0                         254                              8   \n",
       "1                         111                             12   \n",
       "2                         128                             11   \n",
       "3                          29                              6   \n",
       "4                         187                             15   \n",
       "\n",
       "   app_usage_baseActivity_mPackage  app_usage_baseActivity_id_count  \\\n",
       "0                                7                               19   \n",
       "1                               10                               23   \n",
       "2                               10                               13   \n",
       "3                                6                                6   \n",
       "4                               14                               22   \n",
       "\n",
       "   app_usage_baseActivity_numActivities  ...  year  month  day  hours  minute  \\\n",
       "0                                   409  ...  2013      3   28     15       8   \n",
       "1                                   842  ...  2013      3   30     16       6   \n",
       "2                                   736  ...  2013      4   11     16      53   \n",
       "3                                  1809  ...  2013      4   14     15      33   \n",
       "4                                  1498  ...  2013      4   15     14       7   \n",
       "\n",
       "   weekday  weeknumber  label_source  rating  stress_label  \n",
       "0      Thu          12    stress_ema       1             0  \n",
       "1      Sat          12    stress_ema       2             1  \n",
       "2      Thu          14    stress_ema       3             1  \n",
       "3      Sun          14    stress_ema       3             1  \n",
       "4      Mon          15    stress_ema       3             1  \n",
       "\n",
       "[5 rows x 38 columns]"
      ]
     },
     "execution_count": 88,
     "metadata": {},
     "output_type": "execute_result"
    }
   ],
   "source": [
    "merged_sensing_df = merged_sensing_df.merge(label_df,on=['user_id','date_time'])\n",
    "\n",
    "merged_sensing_df.head()"
   ]
  },
  {
   "cell_type": "code",
   "execution_count": 89,
   "metadata": {},
   "outputs": [
    {
     "data": {
      "text/plain": [
       "(2455, 38)"
      ]
     },
     "execution_count": 89,
     "metadata": {},
     "output_type": "execute_result"
    }
   ],
   "source": [
    "len(merged_sensing_df),len(merged_sensing_df.columns)"
   ]
  },
  {
   "cell_type": "code",
   "execution_count": 90,
   "metadata": {},
   "outputs": [],
   "source": [
    "merged_sensing_df.to_csv('./data/sensing_data_2.csv',index=False)"
   ]
  },
  {
   "cell_type": "code",
   "execution_count": null,
   "metadata": {},
   "outputs": [],
   "source": []
  },
  {
   "cell_type": "code",
   "execution_count": null,
   "metadata": {},
   "outputs": [],
   "source": []
  },
  {
   "cell_type": "code",
   "execution_count": null,
   "metadata": {},
   "outputs": [],
   "source": []
  },
  {
   "cell_type": "code",
   "execution_count": null,
   "metadata": {},
   "outputs": [],
   "source": []
  },
  {
   "cell_type": "code",
   "execution_count": null,
   "metadata": {},
   "outputs": [],
   "source": []
  },
  {
   "cell_type": "code",
   "execution_count": null,
   "metadata": {},
   "outputs": [],
   "source": []
  },
  {
   "cell_type": "code",
   "execution_count": null,
   "metadata": {},
   "outputs": [],
   "source": []
  },
  {
   "cell_type": "code",
   "execution_count": null,
   "metadata": {},
   "outputs": [],
   "source": []
  },
  {
   "cell_type": "code",
   "execution_count": null,
   "metadata": {},
   "outputs": [],
   "source": [
    "tmp_df.columns"
   ]
  },
  {
   "cell_type": "code",
   "execution_count": null,
   "metadata": {},
   "outputs": [],
   "source": [
    "tmp_df.head()"
   ]
  },
  {
   "cell_type": "code",
   "execution_count": null,
   "metadata": {},
   "outputs": [],
   "source": [
    "time_a,time_b"
   ]
  },
  {
   "cell_type": "code",
   "execution_count": null,
   "metadata": {},
   "outputs": [],
   "source": [
    "tmp_df[time_a < tmp_df.start_timestamp]"
   ]
  },
  {
   "cell_type": "code",
   "execution_count": null,
   "metadata": {},
   "outputs": [],
   "source": [
    "tmp_df[time_a < tmp_df.start_timestamp]"
   ]
  },
  {
   "cell_type": "code",
   "execution_count": null,
   "metadata": {},
   "outputs": [],
   "source": [
    "slice_df['conv_dur'].sum(),slice_df['conv_dur'].sum().seconds//60 ,slice_df['conv_dur'].sum().seconds//3600 "
   ]
  },
  {
   "cell_type": "code",
   "execution_count": null,
   "metadata": {},
   "outputs": [],
   "source": []
  },
  {
   "cell_type": "code",
   "execution_count": null,
   "metadata": {},
   "outputs": [],
   "source": [
    "slice_df.columns"
   ]
  },
  {
   "cell_type": "code",
   "execution_count": null,
   "metadata": {},
   "outputs": [],
   "source": [
    "dict(slice_df[' activity inference'].value_counts()).get(0)"
   ]
  },
  {
   "cell_type": "code",
   "execution_count": null,
   "metadata": {},
   "outputs": [],
   "source": [
    "pd.DataFrame(activity_di)"
   ]
  },
  {
   "cell_type": "code",
   "execution_count": null,
   "metadata": {},
   "outputs": [],
   "source": [
    "tmp_df.info()"
   ]
  },
  {
   "cell_type": "code",
   "execution_count": null,
   "metadata": {},
   "outputs": [],
   "source": []
  },
  {
   "cell_type": "code",
   "execution_count": null,
   "metadata": {},
   "outputs": [],
   "source": []
  },
  {
   "cell_type": "code",
   "execution_count": null,
   "metadata": {},
   "outputs": [],
   "source": [
    "tmp_df.info()"
   ]
  },
  {
   "cell_type": "code",
   "execution_count": null,
   "metadata": {},
   "outputs": [],
   "source": [
    "tmp_li[0]"
   ]
  },
  {
   "cell_type": "code",
   "execution_count": null,
   "metadata": {},
   "outputs": [],
   "source": [
    "tmp_li[0] - timedelta(days=1)"
   ]
  },
  {
   "cell_type": "code",
   "execution_count": null,
   "metadata": {},
   "outputs": [],
   "source": [
    "for t in tmp_li:\n",
    "\n",
    "    a = t - timedelta(days=1)\n",
    "\n",
    "    tmp_df"
   ]
  },
  {
   "cell_type": "code",
   "execution_count": null,
   "metadata": {},
   "outputs": [],
   "source": [
    "\n",
    "for time_b in tmp_li:\n",
    "    # print(time_a,time_b)\n",
    "    # if time_a == time_b:\n",
    "    #     print(time_a,time_b)\n",
    "    time_a = t - timedelta(days=1)\n",
    "    tmp_df[(time_a < tmp_df.timestamp) & (tmp_df.timestamp < time_b)]\n",
    "\n",
    "\n",
    "# tmp_df['timestamp']"
   ]
  },
  {
   "cell_type": "code",
   "execution_count": null,
   "metadata": {},
   "outputs": [],
   "source": [
    "tmp_df[(time_a < tmp_df.timestamp) & (tmp_df.timestamp < time_b)]#['RUNNING_TASKS_numActivities'].sum()"
   ]
  },
  {
   "cell_type": "code",
   "execution_count": null,
   "metadata": {},
   "outputs": [],
   "source": [
    "# # label_df['date_time'].nunique(),len(label_df)\n",
    "\n",
    "# dup_sum =0\n",
    "\n",
    "# for u in label_df['user_id'].unique():\n",
    "#     t_df = label_df[label_df['user_id'] == u ]\n",
    "#     uni_en = len(set(t_df['date_time']))\n",
    "#     en = len(t_df)\n",
    "#     if uni_en != en:\n",
    "#         print(u,uni_en,en)\n",
    "#         dup_sum += en-uni_en\n",
    "\n",
    "# dup_sum\n",
    "\n"
   ]
  },
  {
   "cell_type": "code",
   "execution_count": null,
   "metadata": {},
   "outputs": [],
   "source": []
  },
  {
   "cell_type": "code",
   "execution_count": null,
   "metadata": {},
   "outputs": [],
   "source": []
  },
  {
   "cell_type": "code",
   "execution_count": null,
   "metadata": {},
   "outputs": [],
   "source": []
  }
 ],
 "metadata": {
  "kernelspec": {
   "display_name": "Python 3.10.4 ('ucsd_hw')",
   "language": "python",
   "name": "python3"
  },
  "language_info": {
   "codemirror_mode": {
    "name": "ipython",
    "version": 3
   },
   "file_extension": ".py",
   "mimetype": "text/x-python",
   "name": "python",
   "nbconvert_exporter": "python",
   "pygments_lexer": "ipython3",
   "version": "3.10.4"
  },
  "orig_nbformat": 4,
  "vscode": {
   "interpreter": {
    "hash": "b527c3883f97d0c80049be9d21bf79bee304fc8cc62c9f8bd8d0aa656b2e9faa"
   }
  }
 },
 "nbformat": 4,
 "nbformat_minor": 2
}
