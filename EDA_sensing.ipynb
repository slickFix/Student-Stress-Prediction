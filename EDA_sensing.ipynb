{
 "cells": [
  {
   "cell_type": "code",
   "execution_count": 104,
   "metadata": {},
   "outputs": [],
   "source": [
    "### importing libraries\n",
    "\n",
    "from datetime import datetime,timedelta\n",
    "from collections import defaultdict\n",
    "from tqdm import tqdm\n",
    "\n",
    "import numpy as np\n",
    "import pandas as pd\n",
    "import seaborn as sns\n",
    "\n",
    "import json\n",
    "import os\n",
    "import gc"
   ]
  },
  {
   "cell_type": "code",
   "execution_count": 26,
   "metadata": {},
   "outputs": [],
   "source": [
    "### seting the data directory\n",
    "\n",
    "datset_rel_path = 'data/dataset/'"
   ]
  },
  {
   "cell_type": "code",
   "execution_count": 27,
   "metadata": {},
   "outputs": [
    {
     "data": {
      "text/plain": [
       "'/home/sidd/workspace/Student-Stress-Prediction'"
      ]
     },
     "execution_count": 27,
     "metadata": {},
     "output_type": "execute_result"
    }
   ],
   "source": [
    "cwd = os.getcwd()\n",
    "cwd"
   ]
  },
  {
   "cell_type": "code",
   "execution_count": 28,
   "metadata": {},
   "outputs": [
    {
     "data": {
      "text/html": [
       "<div>\n",
       "<style scoped>\n",
       "    .dataframe tbody tr th:only-of-type {\n",
       "        vertical-align: middle;\n",
       "    }\n",
       "\n",
       "    .dataframe tbody tr th {\n",
       "        vertical-align: top;\n",
       "    }\n",
       "\n",
       "    .dataframe thead th {\n",
       "        text-align: right;\n",
       "    }\n",
       "</style>\n",
       "<table border=\"1\" class=\"dataframe\">\n",
       "  <thead>\n",
       "    <tr style=\"text-align: right;\">\n",
       "      <th></th>\n",
       "      <th>user_id</th>\n",
       "      <th>date_time</th>\n",
       "      <th>year</th>\n",
       "      <th>month</th>\n",
       "      <th>day</th>\n",
       "      <th>hours</th>\n",
       "      <th>minute</th>\n",
       "      <th>weekday</th>\n",
       "      <th>weeknumber</th>\n",
       "      <th>label_source</th>\n",
       "      <th>rating</th>\n",
       "      <th>stress_label</th>\n",
       "    </tr>\n",
       "  </thead>\n",
       "  <tbody>\n",
       "    <tr>\n",
       "      <th>0</th>\n",
       "      <td>u00</td>\n",
       "      <td>2013-03-25 11:54:00</td>\n",
       "      <td>2013</td>\n",
       "      <td>3</td>\n",
       "      <td>25</td>\n",
       "      <td>11</td>\n",
       "      <td>54</td>\n",
       "      <td>Mon</td>\n",
       "      <td>12</td>\n",
       "      <td>stress_ema</td>\n",
       "      <td>2</td>\n",
       "      <td>1</td>\n",
       "    </tr>\n",
       "    <tr>\n",
       "      <th>1</th>\n",
       "      <td>u00</td>\n",
       "      <td>2013-03-25 20:33:00</td>\n",
       "      <td>2013</td>\n",
       "      <td>3</td>\n",
       "      <td>25</td>\n",
       "      <td>20</td>\n",
       "      <td>33</td>\n",
       "      <td>Mon</td>\n",
       "      <td>12</td>\n",
       "      <td>stress_ema</td>\n",
       "      <td>2</td>\n",
       "      <td>1</td>\n",
       "    </tr>\n",
       "    <tr>\n",
       "      <th>2</th>\n",
       "      <td>u00</td>\n",
       "      <td>2013-03-26 18:12:00</td>\n",
       "      <td>2013</td>\n",
       "      <td>3</td>\n",
       "      <td>26</td>\n",
       "      <td>18</td>\n",
       "      <td>12</td>\n",
       "      <td>Tue</td>\n",
       "      <td>12</td>\n",
       "      <td>stress_ema</td>\n",
       "      <td>1</td>\n",
       "      <td>0</td>\n",
       "    </tr>\n",
       "    <tr>\n",
       "      <th>3</th>\n",
       "      <td>u00</td>\n",
       "      <td>2013-03-27 19:25:00</td>\n",
       "      <td>2013</td>\n",
       "      <td>3</td>\n",
       "      <td>27</td>\n",
       "      <td>19</td>\n",
       "      <td>25</td>\n",
       "      <td>Wed</td>\n",
       "      <td>12</td>\n",
       "      <td>stress_ema</td>\n",
       "      <td>1</td>\n",
       "      <td>0</td>\n",
       "    </tr>\n",
       "    <tr>\n",
       "      <th>4</th>\n",
       "      <td>u00</td>\n",
       "      <td>2013-03-28 11:43:00</td>\n",
       "      <td>2013</td>\n",
       "      <td>3</td>\n",
       "      <td>28</td>\n",
       "      <td>11</td>\n",
       "      <td>43</td>\n",
       "      <td>Thu</td>\n",
       "      <td>12</td>\n",
       "      <td>stress_ema</td>\n",
       "      <td>2</td>\n",
       "      <td>1</td>\n",
       "    </tr>\n",
       "  </tbody>\n",
       "</table>\n",
       "</div>"
      ],
      "text/plain": [
       "  user_id            date_time  year  month  day  hours  minute weekday  \\\n",
       "0     u00  2013-03-25 11:54:00  2013      3   25     11      54     Mon   \n",
       "1     u00  2013-03-25 20:33:00  2013      3   25     20      33     Mon   \n",
       "2     u00  2013-03-26 18:12:00  2013      3   26     18      12     Tue   \n",
       "3     u00  2013-03-27 19:25:00  2013      3   27     19      25     Wed   \n",
       "4     u00  2013-03-28 11:43:00  2013      3   28     11      43     Thu   \n",
       "\n",
       "   weeknumber label_source  rating  stress_label  \n",
       "0          12   stress_ema       2             1  \n",
       "1          12   stress_ema       2             1  \n",
       "2          12   stress_ema       1             0  \n",
       "3          12   stress_ema       1             0  \n",
       "4          12   stress_ema       2             1  "
      ]
     },
     "execution_count": 28,
     "metadata": {},
     "output_type": "execute_result"
    }
   ],
   "source": [
    "label_df = pd.read_csv('./data/label_df.csv')\n",
    "label_df.head()"
   ]
  },
  {
   "cell_type": "code",
   "execution_count": 29,
   "metadata": {},
   "outputs": [
    {
     "name": "stdout",
     "output_type": "stream",
     "text": [
      "<class 'pandas.core.frame.DataFrame'>\n",
      "RangeIndex: 2455 entries, 0 to 2454\n",
      "Data columns (total 12 columns):\n",
      " #   Column        Non-Null Count  Dtype         \n",
      "---  ------        --------------  -----         \n",
      " 0   user_id       2455 non-null   object        \n",
      " 1   date_time     2455 non-null   datetime64[ns]\n",
      " 2   year          2455 non-null   int64         \n",
      " 3   month         2455 non-null   int64         \n",
      " 4   day           2455 non-null   int64         \n",
      " 5   hours         2455 non-null   int64         \n",
      " 6   minute        2455 non-null   int64         \n",
      " 7   weekday       2455 non-null   object        \n",
      " 8   weeknumber    2455 non-null   int64         \n",
      " 9   label_source  2455 non-null   object        \n",
      " 10  rating        2455 non-null   int64         \n",
      " 11  stress_label  2455 non-null   int64         \n",
      "dtypes: datetime64[ns](1), int64(8), object(3)\n",
      "memory usage: 230.3+ KB\n"
     ]
    }
   ],
   "source": [
    "label_df['date_time'] = pd.to_datetime(label_df['date_time'])\n",
    "label_df.info()"
   ]
  },
  {
   "cell_type": "markdown",
   "metadata": {},
   "source": [
    "## Utility function"
   ]
  },
  {
   "cell_type": "code",
   "execution_count": 30,
   "metadata": {},
   "outputs": [],
   "source": [
    "# # label_df['date_time'].nunique(),len(label_df)\n",
    "\n",
    "# dup_sum =0\n",
    "\n",
    "# for u in label_df['user_id'].unique():\n",
    "#     t_df = label_df[label_df['user_id'] == u ]\n",
    "#     uni_en = len(set(t_df['date_time']))\n",
    "#     en = len(t_df)\n",
    "#     if uni_en != en:\n",
    "#         print(u,uni_en,en)\n",
    "#         dup_sum += en-uni_en\n",
    "\n",
    "# dup_sum\n",
    "\n"
   ]
  },
  {
   "cell_type": "code",
   "execution_count": 31,
   "metadata": {},
   "outputs": [
    {
     "data": {
      "text/plain": [
       "'01/01/2013, 01:23:45'"
      ]
     },
     "execution_count": 31,
     "metadata": {},
     "output_type": "execute_result"
    }
   ],
   "source": [
    "start_time =  1357032225\n",
    "# end_time = 1371284625\n",
    "\n",
    "\n",
    "def get_date_time(timestamp):\n",
    "  return datetime.fromtimestamp(timestamp).strftime(\"%m/%d/%Y, %H:%M:%S\")\n",
    "\n",
    "get_date_time(start_time)#,get_date_time(end_time)"
   ]
  },
  {
   "cell_type": "code",
   "execution_count": 32,
   "metadata": {},
   "outputs": [
    {
     "data": {
      "text/plain": [
       "True"
      ]
     },
     "execution_count": 32,
     "metadata": {},
     "output_type": "execute_result"
    }
   ],
   "source": [
    "get_date_time(start_time) == get_date_time(start_time)"
   ]
  },
  {
   "cell_type": "markdown",
   "metadata": {},
   "source": [
    "## App usage"
   ]
  },
  {
   "cell_type": "code",
   "execution_count": 67,
   "metadata": {},
   "outputs": [
    {
     "data": {
      "text/plain": [
       "49"
      ]
     },
     "execution_count": 67,
     "metadata": {},
     "output_type": "execute_result"
    }
   ],
   "source": [
    "app_usage_path = os.path.join(datset_rel_path,'app_usage')\n",
    "\n",
    "app_usage_files = os.listdir(app_usage_path)\n",
    "len(app_usage_files)"
   ]
  },
  {
   "cell_type": "code",
   "execution_count": 68,
   "metadata": {},
   "outputs": [
    {
     "data": {
      "text/plain": [
       "'u53'"
      ]
     },
     "execution_count": 68,
     "metadata": {},
     "output_type": "execute_result"
    }
   ],
   "source": [
    "app_usage_files[0].split('_')[-1].split('.')[0]"
   ]
  },
  {
   "cell_type": "code",
   "execution_count": 69,
   "metadata": {},
   "outputs": [],
   "source": [
    "# tmp_li = [get_date_time(start_time)]\n",
    "# tmp_li.extend(list(label_df[label_df['user_id'] == usr_id].date_time))\n",
    "# len(tmp_li)"
   ]
  },
  {
   "cell_type": "code",
   "execution_count": 74,
   "metadata": {},
   "outputs": [
    {
     "name": "stderr",
     "output_type": "stream",
     "text": [
      "100%|██████████| 49/49 [00:17<00:00,  2.76it/s]\n"
     ]
    }
   ],
   "source": [
    "AGGREGATION_DAYS = 1\n",
    "\n",
    "\n",
    "app_usage_di = defaultdict(list)\n",
    "\n",
    "\n",
    "for app_usage_file in tqdm(app_usage_files):\n",
    "    usr_id = app_usage_file.split('_')[-1].split('.')[0]\n",
    "    \n",
    "    # print(usr_id)\n",
    "    \n",
    "    tmp_df = pd.read_csv(os.path.join(app_usage_path,app_usage_file))\n",
    "\n",
    "    tmp_df['timestamp'] = tmp_df['timestamp'].apply(lambda x : get_date_time(x))\n",
    "    tmp_df['timestamp'] = pd.to_datetime(tmp_df['timestamp'])\n",
    "\n",
    "    # time stamps\n",
    "    # tmp_li = [get_date_time(start_time)]\n",
    "    tmp_li = list(label_df[label_df['user_id'] == usr_id].date_time)\n",
    "    \n",
    "    for time_b in tmp_li:\n",
    "        # print(time_a,time_b)\n",
    "        # if time_a == time_b:\n",
    "        #     print(time_a,time_b)\n",
    "        \n",
    "        time_a = time_b - timedelta(days=AGGREGATION_DAYS)\n",
    "        slice_df = tmp_df[(time_a < tmp_df.timestamp) & (tmp_df.timestamp < time_b)]\n",
    "\n",
    "        app_usage_di['user_id'].append(usr_id)\n",
    "        app_usage_di['date_time'].append(time_b)\n",
    "\n",
    "        app_usage_di['app_usage_baseActivity_mClass'].append(len(set(slice_df['RUNNING_TASKS_baseActivity_mClass'])))\n",
    "        app_usage_di['app_usage_baseActivity_mPackage'].append(len(set(slice_df['RUNNING_TASKS_baseActivity_mPackage'])))\n",
    "        app_usage_di['app_usage_baseActivity_id_count'].append(len(set(slice_df['RUNNING_TASKS_id'])))\n",
    "\n",
    "        app_usage_di['app_usage_baseActivity_numActivities'].append(slice_df['RUNNING_TASKS_numActivities'].sum())\n",
    "        app_usage_di['app_usage_baseActivity_numRunning'].append(slice_df['RUNNING_TASKS_numRunning'].sum())\n",
    "\n",
    "        app_usage_di['app_usage_topActivity_mClass'].append(len(set(slice_df['RUNNING_TASKS_topActivity_mClass'])))\n",
    "        app_usage_di['app_usage_topActivity_mPackage'].append(len(set(slice_df['RUNNING_TASKS_topActivity_mPackage'])))\n",
    "\n"
   ]
  },
  {
   "cell_type": "code",
   "execution_count": 75,
   "metadata": {},
   "outputs": [
    {
     "name": "stdout",
     "output_type": "stream",
     "text": [
      "user_id 2455\n",
      "date_time 2455\n",
      "app_usage_baseActivity_mClass 2455\n",
      "app_usage_baseActivity_mPackage 2455\n",
      "app_usage_baseActivity_id_count 2455\n",
      "app_usage_baseActivity_numActivities 2455\n",
      "app_usage_baseActivity_numRunning 2455\n",
      "app_usage_topActivity_mClass 2455\n",
      "app_usage_topActivity_mPackage 2455\n"
     ]
    }
   ],
   "source": [
    "for k,val in app_usage_di.items():\n",
    "    print(k,len(val))"
   ]
  },
  {
   "cell_type": "code",
   "execution_count": 82,
   "metadata": {},
   "outputs": [],
   "source": [
    "app_usage_df = pd.DataFrame(app_usage_di)\n",
    "\n",
    "app_usage_df.to_csv('./data/app_usage_lag_'+str(AGGREGATION_DAYS)+'_df.csv',index = False)"
   ]
  },
  {
   "cell_type": "code",
   "execution_count": 80,
   "metadata": {},
   "outputs": [
    {
     "name": "stderr",
     "output_type": "stream",
     "text": [
      "/tmp/ipykernel_2385507/2405099644.py:1: FutureWarning: The default value of numeric_only in DataFrame.corr is deprecated. In a future version, it will default to False. Select only valid columns or specify the value of numeric_only to silence this warning.\n",
      "  sns.heatmap(app_usage_df.corr())\n"
     ]
    },
    {
     "data": {
      "text/plain": [
       "<AxesSubplot: >"
      ]
     },
     "execution_count": 80,
     "metadata": {},
     "output_type": "execute_result"
    },
    {
     "data": {
      "image/png": "[encoded data removed]",
      "text/plain": [
       "<Figure size 640x480 with 2 Axes>"
      ]
     },
     "metadata": {},
     "output_type": "display_data"
    }
   ],
   "source": [
    "sns.heatmap(app_usage_df.corr())"
   ]
  },
  {
   "cell_type": "markdown",
   "metadata": {},
   "source": [
    "## Activity"
   ]
  },
  {
   "cell_type": "code",
   "execution_count": 83,
   "metadata": {},
   "outputs": [
    {
     "data": {
      "text/plain": [
       "49"
      ]
     },
     "execution_count": 83,
     "metadata": {},
     "output_type": "execute_result"
    }
   ],
   "source": [
    "activity_path = os.path.join(datset_rel_path,'sensing','activity')\n",
    "\n",
    "activity_files = os.listdir(activity_path)\n",
    "len(activity_files)"
   ]
  },
  {
   "cell_type": "code",
   "execution_count": 84,
   "metadata": {},
   "outputs": [
    {
     "data": {
      "text/plain": [
       "'u17'"
      ]
     },
     "execution_count": 84,
     "metadata": {},
     "output_type": "execute_result"
    }
   ],
   "source": [
    "activity_files[0].split('_')[-1].split('.')[0]"
   ]
  },
  {
   "cell_type": "code",
   "execution_count": 105,
   "metadata": {},
   "outputs": [
    {
     "name": "stderr",
     "output_type": "stream",
     "text": [
      "100%|██████████| 49/49 [18:16<00:00, 22.38s/it]\n"
     ]
    }
   ],
   "source": [
    "AGGREGATION_DAYS = 1\n",
    "\n",
    "\n",
    "activity_di = defaultdict(list)\n",
    "\n",
    "\n",
    "for activity_file in tqdm(activity_files):\n",
    "    usr_id = activity_file.split('_')[-1].split('.')[0]\n",
    "    \n",
    "    # print(usr_id)\n",
    "    \n",
    "    tmp_df = pd.read_csv(os.path.join(activity_path,activity_file))\n",
    "\n",
    "    tmp_df['timestamp'] = tmp_df['timestamp'].apply(lambda x : get_date_time(x))\n",
    "    tmp_df['timestamp'] = pd.to_datetime(tmp_df['timestamp'])\n",
    "\n",
    "    # time stamps\n",
    "    \n",
    "    tmp_li = list(label_df[label_df['user_id'] == usr_id].date_time)\n",
    "\n",
    "    \n",
    "    for time_b in tmp_li:\n",
    "        # print(time_a,time_b)\n",
    "        # if time_a == time_b:\n",
    "        #     print(time_a,time_b)\n",
    "        \n",
    "        time_a = time_b - timedelta(days=AGGREGATION_DAYS)\n",
    "        slice_df = tmp_df[(time_a < tmp_df.timestamp) & (tmp_df.timestamp < time_b)]\n",
    "\n",
    "        activity_di['user_id'].append(usr_id)\n",
    "        activity_di['date_time'].append(time_b)\n",
    "\n",
    "        tmp_di = dict(slice_df[' activity inference'].value_counts())\n",
    "\n",
    "        activity_di['activity_inf_stationary_count'].append(tmp_di.get(0,0))\n",
    "        activity_di['activity_inf_walking_count'].append(tmp_di.get(1,0))\n",
    "        activity_di['activity_inf_running_count'].append(tmp_di.get(2,0))\n",
    "        activity_di['activity_inf_unknown_count'].append(tmp_di.get(3,0))\n",
    "\n",
    "\n",
    "    gc.collect()\n",
    "\n"
   ]
  },
  {
   "cell_type": "code",
   "execution_count": 109,
   "metadata": {},
   "outputs": [
    {
     "name": "stdout",
     "output_type": "stream",
     "text": [
      "user_id 2455\n",
      "date_time 2455\n",
      "activity_inf_stationary_count 2455\n",
      "activity_inf_walking_count 2455\n",
      "activity_inf_running_count 2455\n",
      "activity_inf_unknown_count 2455\n"
     ]
    }
   ],
   "source": [
    "for k,val in activity_di.items():\n",
    "    print(k,len(val))"
   ]
  },
  {
   "cell_type": "code",
   "execution_count": 106,
   "metadata": {},
   "outputs": [],
   "source": [
    "activity_df = pd.DataFrame(activity_di)"
   ]
  },
  {
   "cell_type": "code",
   "execution_count": 107,
   "metadata": {},
   "outputs": [],
   "source": [
    "activity_df = pd.DataFrame(activity_di)\n",
    "\n",
    "activity_df.to_csv('./data/activity_lag_'+str(AGGREGATION_DAYS)+'_df.csv',index = False)"
   ]
  },
  {
   "cell_type": "code",
   "execution_count": 108,
   "metadata": {},
   "outputs": [
    {
     "name": "stderr",
     "output_type": "stream",
     "text": [
      "/tmp/ipykernel_2385507/1194580611.py:1: FutureWarning: The default value of numeric_only in DataFrame.corr is deprecated. In a future version, it will default to False. Select only valid columns or specify the value of numeric_only to silence this warning.\n",
      "  sns.heatmap(activity_df.corr())\n"
     ]
    },
    {
     "data": {
      "text/plain": [
       "<AxesSubplot: >"
      ]
     },
     "execution_count": 108,
     "metadata": {},
     "output_type": "execute_result"
    },
    {
     "data": {
      "image/png": "[encoded data removed]",
      "text/plain": [
       "<Figure size 640x480 with 2 Axes>"
      ]
     },
     "metadata": {},
     "output_type": "display_data"
    }
   ],
   "source": [
    "sns.heatmap(activity_df.corr())"
   ]
  },
  {
   "cell_type": "code",
   "execution_count": 111,
   "metadata": {},
   "outputs": [
    {
     "data": {
      "text/plain": [
       "'u33'"
      ]
     },
     "execution_count": 111,
     "metadata": {},
     "output_type": "execute_result"
    }
   ],
   "source": [
    "usr_id"
   ]
  },
  {
   "cell_type": "code",
   "execution_count": 110,
   "metadata": {},
   "outputs": [
    {
     "name": "stdout",
     "output_type": "stream",
     "text": [
      "<class 'pandas.core.frame.DataFrame'>\n",
      "RangeIndex: 423140 entries, 0 to 423139\n",
      "Data columns (total 2 columns):\n",
      " #   Column               Non-Null Count   Dtype         \n",
      "---  ------               --------------   -----         \n",
      " 0   timestamp            423140 non-null  datetime64[ns]\n",
      " 1    activity inference  423140 non-null  int64         \n",
      "dtypes: datetime64[ns](1), int64(1)\n",
      "memory usage: 6.5 MB\n"
     ]
    }
   ],
   "source": [
    "tmp_df.info()"
   ]
  },
  {
   "cell_type": "markdown",
   "metadata": {},
   "source": [
    "## Audio"
   ]
  },
  {
   "cell_type": "code",
   "execution_count": 112,
   "metadata": {},
   "outputs": [
    {
     "data": {
      "text/plain": [
       "49"
      ]
     },
     "execution_count": 112,
     "metadata": {},
     "output_type": "execute_result"
    }
   ],
   "source": [
    "audio_path = os.path.join(datset_rel_path,'sensing','audio')\n",
    "\n",
    "audio_files = os.listdir(audio_path)\n",
    "len(audio_files)"
   ]
  },
  {
   "cell_type": "code",
   "execution_count": 113,
   "metadata": {},
   "outputs": [
    {
     "data": {
      "text/plain": [
       "'u14'"
      ]
     },
     "execution_count": 113,
     "metadata": {},
     "output_type": "execute_result"
    }
   ],
   "source": [
    "audio_files[0].split('_')[-1].split('.')[0]"
   ]
  },
  {
   "cell_type": "code",
   "execution_count": 154,
   "metadata": {},
   "outputs": [],
   "source": [
    "AGGREGATION_DAYS = 1\n",
    "\n",
    "\n",
    "audio_di = defaultdict(list)\n",
    "\n",
    "\n",
    "for audio_file in tqdm(audio_files):\n",
    "    usr_id = audio_file.split('_')[-1].split('.')[0]\n",
    "    \n",
    "    # print(usr_id)\n",
    "    \n",
    "    tmp_df = pd.read_csv(os.path.join(audio_path,audio_file))\n",
    "\n",
    "    tmp_df['timestamp'] = tmp_df['timestamp'].apply(lambda x : get_date_time(x))\n",
    "    tmp_df['timestamp'] = pd.to_datetime(tmp_df['timestamp'])\n",
    "\n",
    "    # time stamps\n",
    "    \n",
    "    tmp_li = list(label_df[label_df['user_id'] == usr_id].date_time)\n",
    "\n",
    "    for time_b in tmp_li:\n",
    "        # print(time_a,time_b)\n",
    "        # if time_a == time_b:\n",
    "        #     print(time_a,time_b)\n",
    "        \n",
    "        time_a = time_b - timedelta(days=AGGREGATION_DAYS)\n",
    "        slice_df = tmp_df[(time_a < tmp_df.timestamp) & (tmp_df.timestamp < time_b)]\n",
    "\n",
    "        audio_di['user_id'].append(usr_id)\n",
    "        audio_di['date_time'].append(time_b)\n",
    "\n",
    "        tmp_di = dict(slice_df[' audio inference'].value_counts())\n",
    "\n",
    "        audio_di['audio_inf_silence_count'].append(tmp_di.get(0,0))\n",
    "        audio_di['audio_inf_voice_count'].append(tmp_di.get(1,0))\n",
    "        audio_di['audio_inf_noise_count'].append(tmp_di.get(2,0))\n",
    "        audio_di['audio_inf_unknown_count'].append(tmp_di.get(3,0))\n",
    "\n",
    "\n",
    "    gc.collect()\n",
    "\n"
   ]
  },
  {
   "cell_type": "code",
   "execution_count": null,
   "metadata": {},
   "outputs": [
    {
     "name": "stdout",
     "output_type": "stream",
     "text": [
      "user_id 47\n",
      "date_time 47\n",
      "audio_inf_silence_count 47\n",
      "audio_inf_voice_count 47\n",
      "audio_inf_noise_count 47\n",
      "audio_inf_unknown_count 47\n"
     ]
    }
   ],
   "source": [
    "for k,val in audio_di.items():\n",
    "    print(k,len(val))"
   ]
  },
  {
   "cell_type": "code",
   "execution_count": 118,
   "metadata": {},
   "outputs": [],
   "source": [
    "audio_df = pd.DataFrame(audio_di)"
   ]
  },
  {
   "cell_type": "code",
   "execution_count": null,
   "metadata": {},
   "outputs": [],
   "source": [
    "audio_df = pd.DataFrame(audio_di)\n",
    "\n",
    "audio_df.to_csv('./data/audio_lag_'+str(AGGREGATION_DAYS)+'_df.csv',index = False)"
   ]
  },
  {
   "cell_type": "code",
   "execution_count": null,
   "metadata": {},
   "outputs": [],
   "source": [
    "sns.heatmap(activity_df.corr())"
   ]
  },
  {
   "cell_type": "markdown",
   "metadata": {},
   "source": [
    "## Conversation"
   ]
  },
  {
   "cell_type": "code",
   "execution_count": 121,
   "metadata": {},
   "outputs": [
    {
     "data": {
      "text/plain": [
       "49"
      ]
     },
     "execution_count": 121,
     "metadata": {},
     "output_type": "execute_result"
    }
   ],
   "source": [
    "conv_path = os.path.join(datset_rel_path,'sensing','conversation')\n",
    "\n",
    "conv_files = os.listdir(conv_path)\n",
    "len(conv_files)"
   ]
  },
  {
   "cell_type": "code",
   "execution_count": 122,
   "metadata": {},
   "outputs": [
    {
     "data": {
      "text/plain": [
       "'u08'"
      ]
     },
     "execution_count": 122,
     "metadata": {},
     "output_type": "execute_result"
    }
   ],
   "source": [
    "conv_files[0].split('a')[-1].split('.')[0]"
   ]
  },
  {
   "cell_type": "code",
   "execution_count": 173,
   "metadata": {},
   "outputs": [
    {
     "name": "stderr",
     "output_type": "stream",
     "text": [
      "100%|██████████| 49/49 [00:19<00:00,  2.53it/s]\n"
     ]
    }
   ],
   "source": [
    "AGGREGATION_DAYS = 1\n",
    "\n",
    "\n",
    "conv_di = defaultdict(list)\n",
    "\n",
    "\n",
    "for conv_file in tqdm(conv_files):\n",
    "    usr_id = conv_file.split('_')[-1].split('.')[0]\n",
    "    \n",
    "    # print(usr_id)\n",
    "    \n",
    "    tmp_df = pd.read_csv(os.path.join(conv_path,conv_file))\n",
    "\n",
    "    tmp_df['start_timestamp'] = tmp_df['start_timestamp'].apply(lambda x : get_date_time(x))\n",
    "    tmp_df['start_timestamp'] = pd.to_datetime(tmp_df['start_timestamp'])\n",
    "\n",
    "    tmp_df[' end_timestamp'] = tmp_df[' end_timestamp'].apply(lambda x : get_date_time(x))\n",
    "    tmp_df[' end_timestamp'] = pd.to_datetime(tmp_df[' end_timestamp'])\n",
    "\n",
    "    tmp_df['conv_dur'] = tmp_df[' end_timestamp'] - tmp_df['start_timestamp']\n",
    "\n",
    "    # time stamps\n",
    "    \n",
    "    tmp_li = list(label_df[label_df['user_id'] == usr_id].date_time)\n",
    "\n",
    "    for time_b in tmp_li:\n",
    "        # print(time_a,time_b)\n",
    "        # if time_a == time_b:\n",
    "        #     print(time_a,time_b)\n",
    "        \n",
    "        time_a = time_b - timedelta(days=AGGREGATION_DAYS)\n",
    "        slice_df = tmp_df[(time_a < tmp_df.start_timestamp) & (tmp_df[' end_timestamp']< time_b)]\n",
    "\n",
    "        conv_di['user_id'].append(usr_id)\n",
    "        conv_di['date_time'].append(time_b)\n",
    "        conv_di['conversation_hours'].append(slice_df['conv_dur'].sum().seconds//3600)\n",
    "        conv_di['conversation_minutes'].append(slice_df['conv_dur'].sum().seconds//60)\n",
    "\n",
    "\n",
    "        # tmp_di = dict(slice_df[' audio inference'].value_counts())\n",
    "\n",
    "        # conv_di['audio_inf_silence_count'].append(tmp_di.get(0,0))\n",
    "        # conv_di['audio_inf_voice_count'].append(tmp_di.get(1,0))\n",
    "        # conv_di['audio_inf_noise_count'].append(tmp_di.get(2,0))\n",
    "        # conv_di['audio_inf_unknown_count'].append(tmp_di.get(3,0))\n",
    "\n",
    "\n",
    "    gc.collect()\n",
    "\n"
   ]
  },
  {
   "cell_type": "code",
   "execution_count": 174,
   "metadata": {},
   "outputs": [
    {
     "name": "stdout",
     "output_type": "stream",
     "text": [
      "user_id 2455\n",
      "date_time 2455\n",
      "conversation_hours 2455\n",
      "conversation_minutes 2455\n"
     ]
    }
   ],
   "source": [
    "for k,val in conv_di.items():\n",
    "    print(k,len(val))"
   ]
  },
  {
   "cell_type": "code",
   "execution_count": 175,
   "metadata": {},
   "outputs": [],
   "source": [
    "conv_df = pd.DataFrame(conv_di)"
   ]
  },
  {
   "cell_type": "code",
   "execution_count": 176,
   "metadata": {},
   "outputs": [
    {
     "data": {
      "text/html": [
       "<div>\n",
       "<style scoped>\n",
       "    .dataframe tbody tr th:only-of-type {\n",
       "        vertical-align: middle;\n",
       "    }\n",
       "\n",
       "    .dataframe tbody tr th {\n",
       "        vertical-align: top;\n",
       "    }\n",
       "\n",
       "    .dataframe thead th {\n",
       "        text-align: right;\n",
       "    }\n",
       "</style>\n",
       "<table border=\"1\" class=\"dataframe\">\n",
       "  <thead>\n",
       "    <tr style=\"text-align: right;\">\n",
       "      <th></th>\n",
       "      <th>user_id</th>\n",
       "      <th>date_time</th>\n",
       "      <th>conversation_hours</th>\n",
       "      <th>conversation_minutes</th>\n",
       "    </tr>\n",
       "  </thead>\n",
       "  <tbody>\n",
       "    <tr>\n",
       "      <th>0</th>\n",
       "      <td>u08</td>\n",
       "      <td>2013-03-26 19:04:00</td>\n",
       "      <td>0</td>\n",
       "      <td>0</td>\n",
       "    </tr>\n",
       "    <tr>\n",
       "      <th>1</th>\n",
       "      <td>u08</td>\n",
       "      <td>2013-03-26 20:16:00</td>\n",
       "      <td>0</td>\n",
       "      <td>0</td>\n",
       "    </tr>\n",
       "    <tr>\n",
       "      <th>2</th>\n",
       "      <td>u08</td>\n",
       "      <td>2013-03-26 23:15:00</td>\n",
       "      <td>0</td>\n",
       "      <td>11</td>\n",
       "    </tr>\n",
       "    <tr>\n",
       "      <th>3</th>\n",
       "      <td>u08</td>\n",
       "      <td>2013-03-27 02:11:00</td>\n",
       "      <td>0</td>\n",
       "      <td>11</td>\n",
       "    </tr>\n",
       "    <tr>\n",
       "      <th>4</th>\n",
       "      <td>u08</td>\n",
       "      <td>2013-03-27 10:06:00</td>\n",
       "      <td>2</td>\n",
       "      <td>157</td>\n",
       "    </tr>\n",
       "  </tbody>\n",
       "</table>\n",
       "</div>"
      ],
      "text/plain": [
       "  user_id           date_time  conversation_hours  conversation_minutes\n",
       "0     u08 2013-03-26 19:04:00                   0                     0\n",
       "1     u08 2013-03-26 20:16:00                   0                     0\n",
       "2     u08 2013-03-26 23:15:00                   0                    11\n",
       "3     u08 2013-03-27 02:11:00                   0                    11\n",
       "4     u08 2013-03-27 10:06:00                   2                   157"
      ]
     },
     "execution_count": 176,
     "metadata": {},
     "output_type": "execute_result"
    }
   ],
   "source": [
    "conv_df.head()"
   ]
  },
  {
   "cell_type": "code",
   "execution_count": 177,
   "metadata": {},
   "outputs": [],
   "source": [
    "conv_df.to_csv('./data/conv_lag_'+str(AGGREGATION_DAYS)+'_df.csv',index = False)"
   ]
  },
  {
   "cell_type": "code",
   "execution_count": 178,
   "metadata": {},
   "outputs": [
    {
     "name": "stderr",
     "output_type": "stream",
     "text": [
      "/tmp/ipykernel_2385507/930043110.py:1: FutureWarning: The default value of numeric_only in DataFrame.corr is deprecated. In a future version, it will default to False. Select only valid columns or specify the value of numeric_only to silence this warning.\n",
      "  sns.heatmap(conv_df.corr())\n"
     ]
    },
    {
     "data": {
      "text/plain": [
       "<AxesSubplot: >"
      ]
     },
     "execution_count": 178,
     "metadata": {},
     "output_type": "execute_result"
    },
    {
     "data": {
      "image/png": "[encoded data removed]",
      "text/plain": [
       "<Figure size 640x480 with 2 Axes>"
      ]
     },
     "metadata": {},
     "output_type": "display_data"
    }
   ],
   "source": [
    "sns.heatmap(conv_df.corr())"
   ]
  },
  {
   "cell_type": "markdown",
   "metadata": {},
   "source": [
    "## Dark"
   ]
  },
  {
   "cell_type": "code",
   "execution_count": 160,
   "metadata": {},
   "outputs": [
    {
     "data": {
      "text/plain": [
       "49"
      ]
     },
     "execution_count": 160,
     "metadata": {},
     "output_type": "execute_result"
    }
   ],
   "source": [
    "dark_path = os.path.join(datset_rel_path,'sensing','dark')\n",
    "\n",
    "dark_files = os.listdir(dark_path)\n",
    "len(dark_files)"
   ]
  },
  {
   "cell_type": "code",
   "execution_count": null,
   "metadata": {},
   "outputs": [],
   "source": [
    "dark_files[0].split('a')[-1].split('.')[0]\n"
   ]
  },
  {
   "cell_type": "code",
   "execution_count": 171,
   "metadata": {},
   "outputs": [
    {
     "name": "stderr",
     "output_type": "stream",
     "text": [
      "100%|██████████| 49/49 [00:13<00:00,  3.65it/s]\n"
     ]
    }
   ],
   "source": [
    "AGGREGATION_DAYS = 1\n",
    "\n",
    "\n",
    "dark_di = defaultdict(list)\n",
    "\n",
    "\n",
    "for dark_file in tqdm(dark_files):\n",
    "    usr_id = dark_file.split('_')[-1].split('.')[0]\n",
    "    \n",
    "    # print(usr_id)\n",
    "    \n",
    "    tmp_df = pd.read_csv(os.path.join(dark_path,dark_file))\n",
    "\n",
    "    tmp_df['start'] = tmp_df['start'].apply(lambda x : get_date_time(x))\n",
    "    tmp_df['start'] = pd.to_datetime(tmp_df['start'])\n",
    "\n",
    "    tmp_df['end'] = tmp_df['end'].apply(lambda x : get_date_time(x))\n",
    "    tmp_df['end'] = pd.to_datetime(tmp_df['end'])\n",
    "\n",
    "    tmp_df['dark_dur'] = tmp_df['end'] - tmp_df['start']\n",
    "\n",
    "    # time stamps\n",
    "    \n",
    "    tmp_li = list(label_df[label_df['user_id'] == usr_id].date_time)\n",
    "\n",
    "    for time_b in tmp_li:\n",
    "        # print(time_a,time_b)\n",
    "        # if time_a == time_b:\n",
    "        #     print(time_a,time_b)\n",
    "        \n",
    "        time_a = time_b - timedelta(days=AGGREGATION_DAYS)\n",
    "        slice_df = tmp_df[(time_a < tmp_df.start) & (tmp_df['end']< time_b)]\n",
    "\n",
    "        dark_di['user_id'].append(usr_id)\n",
    "        dark_di['date_time'].append(time_b)\n",
    "        dark_di['dark_hours'].append(slice_df['dark_dur'].sum().seconds//3600)\n",
    "        dark_di['dark_minutes'].append(slice_df['dark_dur'].sum().seconds//60)\n",
    "        dark_di['dark_seconds'].append(slice_df['dark_dur'].sum().seconds)\n",
    "\n",
    "\n",
    "        # tmp_di = dict(slice_df[' audio inference'].value_counts())\n",
    "\n",
    "        # conv_di['audio_inf_silence_count'].append(tmp_di.get(0,0))\n",
    "        # conv_di['audio_inf_voice_count'].append(tmp_di.get(1,0))\n",
    "        # conv_di['audio_inf_noise_count'].append(tmp_di.get(2,0))\n",
    "        # conv_di['audio_inf_unknown_count'].append(tmp_di.get(3,0))\n",
    "\n",
    "\n",
    "    gc.collect()\n",
    "\n"
   ]
  },
  {
   "cell_type": "code",
   "execution_count": 179,
   "metadata": {},
   "outputs": [
    {
     "name": "stdout",
     "output_type": "stream",
     "text": [
      "user_id 2455\n",
      "date_time 2455\n",
      "dark_hours 2455\n",
      "dark_minutes 2455\n",
      "dark_seconds 2455\n"
     ]
    }
   ],
   "source": [
    "for k,val in dark_di.items():\n",
    "    print(k,len(val))"
   ]
  },
  {
   "cell_type": "code",
   "execution_count": 182,
   "metadata": {},
   "outputs": [],
   "source": [
    "dark_df = pd.DataFrame(dark_di)"
   ]
  },
  {
   "cell_type": "code",
   "execution_count": 183,
   "metadata": {},
   "outputs": [
    {
     "data": {
      "text/html": [
       "<div>\n",
       "<style scoped>\n",
       "    .dataframe tbody tr th:only-of-type {\n",
       "        vertical-align: middle;\n",
       "    }\n",
       "\n",
       "    .dataframe tbody tr th {\n",
       "        vertical-align: top;\n",
       "    }\n",
       "\n",
       "    .dataframe thead th {\n",
       "        text-align: right;\n",
       "    }\n",
       "</style>\n",
       "<table border=\"1\" class=\"dataframe\">\n",
       "  <thead>\n",
       "    <tr style=\"text-align: right;\">\n",
       "      <th></th>\n",
       "      <th>user_id</th>\n",
       "      <th>date_time</th>\n",
       "      <th>dark_hours</th>\n",
       "      <th>dark_minutes</th>\n",
       "      <th>dark_seconds</th>\n",
       "    </tr>\n",
       "  </thead>\n",
       "  <tbody>\n",
       "    <tr>\n",
       "      <th>0</th>\n",
       "      <td>u41</td>\n",
       "      <td>2013-03-31 16:12:00</td>\n",
       "      <td>2</td>\n",
       "      <td>149</td>\n",
       "      <td>8989</td>\n",
       "    </tr>\n",
       "    <tr>\n",
       "      <th>1</th>\n",
       "      <td>u41</td>\n",
       "      <td>2013-04-03 18:43:00</td>\n",
       "      <td>3</td>\n",
       "      <td>219</td>\n",
       "      <td>13140</td>\n",
       "    </tr>\n",
       "    <tr>\n",
       "      <th>2</th>\n",
       "      <td>u41</td>\n",
       "      <td>2013-04-03 23:00:00</td>\n",
       "      <td>4</td>\n",
       "      <td>296</td>\n",
       "      <td>17795</td>\n",
       "    </tr>\n",
       "    <tr>\n",
       "      <th>3</th>\n",
       "      <td>u41</td>\n",
       "      <td>2013-04-08 22:47:00</td>\n",
       "      <td>0</td>\n",
       "      <td>0</td>\n",
       "      <td>0</td>\n",
       "    </tr>\n",
       "    <tr>\n",
       "      <th>4</th>\n",
       "      <td>u41</td>\n",
       "      <td>2013-04-13 15:00:00</td>\n",
       "      <td>5</td>\n",
       "      <td>315</td>\n",
       "      <td>18944</td>\n",
       "    </tr>\n",
       "  </tbody>\n",
       "</table>\n",
       "</div>"
      ],
      "text/plain": [
       "  user_id           date_time  dark_hours  dark_minutes  dark_seconds\n",
       "0     u41 2013-03-31 16:12:00           2           149          8989\n",
       "1     u41 2013-04-03 18:43:00           3           219         13140\n",
       "2     u41 2013-04-03 23:00:00           4           296         17795\n",
       "3     u41 2013-04-08 22:47:00           0             0             0\n",
       "4     u41 2013-04-13 15:00:00           5           315         18944"
      ]
     },
     "execution_count": 183,
     "metadata": {},
     "output_type": "execute_result"
    }
   ],
   "source": [
    "dark_df.head()"
   ]
  },
  {
   "cell_type": "code",
   "execution_count": 184,
   "metadata": {},
   "outputs": [],
   "source": [
    "dark_df.to_csv('./data/dark_lag_'+str(AGGREGATION_DAYS)+'_df.csv',index = False)"
   ]
  },
  {
   "cell_type": "markdown",
   "metadata": {},
   "source": [
    "## Phone charge"
   ]
  },
  {
   "cell_type": "code",
   "execution_count": 185,
   "metadata": {},
   "outputs": [
    {
     "data": {
      "text/plain": [
       "49"
      ]
     },
     "execution_count": 185,
     "metadata": {},
     "output_type": "execute_result"
    }
   ],
   "source": [
    "phonecharge_path = os.path.join(datset_rel_path,'sensing','phonecharge')\n",
    "\n",
    "phonecharge_files = os.listdir(phonecharge_path)\n",
    "len(phonecharge_files)"
   ]
  },
  {
   "cell_type": "code",
   "execution_count": 187,
   "metadata": {},
   "outputs": [
    {
     "data": {
      "text/plain": [
       "'u46'"
      ]
     },
     "execution_count": 187,
     "metadata": {},
     "output_type": "execute_result"
    }
   ],
   "source": [
    "phonecharge_files[0].split('_')[-1].split('.')[0]\n"
   ]
  },
  {
   "cell_type": "code",
   "execution_count": 188,
   "metadata": {},
   "outputs": [
    {
     "name": "stderr",
     "output_type": "stream",
     "text": [
      "100%|██████████| 49/49 [00:13<00:00,  3.64it/s]\n"
     ]
    }
   ],
   "source": [
    "AGGREGATION_DAYS = 1\n",
    "\n",
    "\n",
    "phonecharge_di = defaultdict(list)\n",
    "\n",
    "\n",
    "for phonecharge_file in tqdm(phonecharge_files):\n",
    "    usr_id = phonecharge_file.split('_')[-1].split('.')[0]\n",
    "    \n",
    "    # print(usr_id)\n",
    "    \n",
    "    tmp_df = pd.read_csv(os.path.join(phonecharge_path,phonecharge_file))\n",
    "\n",
    "    tmp_df['start'] = tmp_df['start'].apply(lambda x : get_date_time(x))\n",
    "    tmp_df['start'] = pd.to_datetime(tmp_df['start'])\n",
    "\n",
    "    tmp_df['end'] = tmp_df['end'].apply(lambda x : get_date_time(x))\n",
    "    tmp_df['end'] = pd.to_datetime(tmp_df['end'])\n",
    "\n",
    "    tmp_df['phonecharge_dur'] = tmp_df['end'] - tmp_df['start']\n",
    "\n",
    "    # time stamps\n",
    "    \n",
    "    tmp_li = list(label_df[label_df['user_id'] == usr_id].date_time)\n",
    "\n",
    "    for time_b in tmp_li:\n",
    "        # print(time_a,time_b)\n",
    "        # if time_a == time_b:\n",
    "        #     print(time_a,time_b)\n",
    "        \n",
    "        time_a = time_b - timedelta(days=AGGREGATION_DAYS)\n",
    "        slice_df = tmp_df[(time_a < tmp_df.start) & (tmp_df['end']< time_b)]\n",
    "\n",
    "        phonecharge_di['user_id'].append(usr_id)\n",
    "        phonecharge_di['date_time'].append(time_b)\n",
    "        phonecharge_di['phonecharge_hours'].append(slice_df['phonecharge_dur'].sum().seconds//3600)\n",
    "        phonecharge_di['phonecharge_minutes'].append(slice_df['phonecharge_dur'].sum().seconds//60)\n",
    "        phonecharge_di['phonecharge_seconds'].append(slice_df['phonecharge_dur'].sum().seconds)\n",
    "\n",
    "\n",
    "        # tmp_di = dict(slice_df[' audio inference'].value_counts())\n",
    "\n",
    "        # conv_di['audio_inf_silence_count'].append(tmp_di.get(0,0))\n",
    "        # conv_di['audio_inf_voice_count'].append(tmp_di.get(1,0))\n",
    "        # conv_di['audio_inf_noise_count'].append(tmp_di.get(2,0))\n",
    "        # conv_di['audio_inf_unknown_count'].append(tmp_di.get(3,0))\n",
    "\n",
    "\n",
    "    gc.collect()\n",
    "\n"
   ]
  },
  {
   "cell_type": "code",
   "execution_count": 189,
   "metadata": {},
   "outputs": [
    {
     "name": "stdout",
     "output_type": "stream",
     "text": [
      "user_id 2455\n",
      "date_time 2455\n",
      "phonecharge_hours 2455\n",
      "phonecharge_minutes 2455\n",
      "phonecharge_seconds 2455\n"
     ]
    }
   ],
   "source": [
    "for k,val in phonecharge_di.items():\n",
    "    print(k,len(val))"
   ]
  },
  {
   "cell_type": "code",
   "execution_count": 190,
   "metadata": {},
   "outputs": [],
   "source": [
    "phonecharge_df = pd.DataFrame(phonecharge_di)"
   ]
  },
  {
   "cell_type": "code",
   "execution_count": 191,
   "metadata": {},
   "outputs": [
    {
     "data": {
      "text/html": [
       "<div>\n",
       "<style scoped>\n",
       "    .dataframe tbody tr th:only-of-type {\n",
       "        vertical-align: middle;\n",
       "    }\n",
       "\n",
       "    .dataframe tbody tr th {\n",
       "        vertical-align: top;\n",
       "    }\n",
       "\n",
       "    .dataframe thead th {\n",
       "        text-align: right;\n",
       "    }\n",
       "</style>\n",
       "<table border=\"1\" class=\"dataframe\">\n",
       "  <thead>\n",
       "    <tr style=\"text-align: right;\">\n",
       "      <th></th>\n",
       "      <th>user_id</th>\n",
       "      <th>date_time</th>\n",
       "      <th>phonecharge_hours</th>\n",
       "      <th>phonecharge_minutes</th>\n",
       "      <th>phonecharge_seconds</th>\n",
       "    </tr>\n",
       "  </thead>\n",
       "  <tbody>\n",
       "    <tr>\n",
       "      <th>0</th>\n",
       "      <td>u46</td>\n",
       "      <td>2013-03-31 17:20:00</td>\n",
       "      <td>1</td>\n",
       "      <td>60</td>\n",
       "      <td>3612</td>\n",
       "    </tr>\n",
       "    <tr>\n",
       "      <th>1</th>\n",
       "      <td>u46</td>\n",
       "      <td>2013-03-31 20:56:00</td>\n",
       "      <td>3</td>\n",
       "      <td>219</td>\n",
       "      <td>13172</td>\n",
       "    </tr>\n",
       "    <tr>\n",
       "      <th>2</th>\n",
       "      <td>u46</td>\n",
       "      <td>2013-03-31 22:05:00</td>\n",
       "      <td>3</td>\n",
       "      <td>219</td>\n",
       "      <td>13172</td>\n",
       "    </tr>\n",
       "    <tr>\n",
       "      <th>3</th>\n",
       "      <td>u46</td>\n",
       "      <td>2013-03-31 23:03:00</td>\n",
       "      <td>3</td>\n",
       "      <td>219</td>\n",
       "      <td>13172</td>\n",
       "    </tr>\n",
       "    <tr>\n",
       "      <th>4</th>\n",
       "      <td>u46</td>\n",
       "      <td>2013-04-01 02:05:00</td>\n",
       "      <td>5</td>\n",
       "      <td>305</td>\n",
       "      <td>18343</td>\n",
       "    </tr>\n",
       "  </tbody>\n",
       "</table>\n",
       "</div>"
      ],
      "text/plain": [
       "  user_id           date_time  phonecharge_hours  phonecharge_minutes  \\\n",
       "0     u46 2013-03-31 17:20:00                  1                   60   \n",
       "1     u46 2013-03-31 20:56:00                  3                  219   \n",
       "2     u46 2013-03-31 22:05:00                  3                  219   \n",
       "3     u46 2013-03-31 23:03:00                  3                  219   \n",
       "4     u46 2013-04-01 02:05:00                  5                  305   \n",
       "\n",
       "   phonecharge_seconds  \n",
       "0                 3612  \n",
       "1                13172  \n",
       "2                13172  \n",
       "3                13172  \n",
       "4                18343  "
      ]
     },
     "execution_count": 191,
     "metadata": {},
     "output_type": "execute_result"
    }
   ],
   "source": [
    "phonecharge_df.head()"
   ]
  },
  {
   "cell_type": "code",
   "execution_count": 192,
   "metadata": {},
   "outputs": [],
   "source": [
    "phonecharge_df.to_csv('./data/phonecharge_lag_'+str(AGGREGATION_DAYS)+'_df.csv',index = False)"
   ]
  },
  {
   "cell_type": "markdown",
   "metadata": {},
   "source": [
    "## Phone lock"
   ]
  },
  {
   "cell_type": "code",
   "execution_count": 193,
   "metadata": {},
   "outputs": [
    {
     "data": {
      "text/plain": [
       "49"
      ]
     },
     "execution_count": 193,
     "metadata": {},
     "output_type": "execute_result"
    }
   ],
   "source": [
    "phonelock_path = os.path.join(datset_rel_path,'sensing','phonelock')\n",
    "\n",
    "phonelock_files = os.listdir(phonelock_path)\n",
    "len(phonelock_files)"
   ]
  },
  {
   "cell_type": "code",
   "execution_count": 194,
   "metadata": {},
   "outputs": [
    {
     "data": {
      "text/plain": [
       "'u42'"
      ]
     },
     "execution_count": 194,
     "metadata": {},
     "output_type": "execute_result"
    }
   ],
   "source": [
    "phonelock_files[0].split('_')[-1].split('.')[0]\n"
   ]
  },
  {
   "cell_type": "code",
   "execution_count": 195,
   "metadata": {},
   "outputs": [
    {
     "name": "stderr",
     "output_type": "stream",
     "text": [
      "100%|██████████| 49/49 [00:13<00:00,  3.63it/s]\n"
     ]
    }
   ],
   "source": [
    "AGGREGATION_DAYS = 1\n",
    "\n",
    "\n",
    "phonelock_di = defaultdict(list)\n",
    "\n",
    "\n",
    "for phonelock_file in tqdm(phonelock_files):\n",
    "    usr_id = phonelock_file.split('_')[-1].split('.')[0]\n",
    "    \n",
    "    # print(usr_id)\n",
    "    \n",
    "    tmp_df = pd.read_csv(os.path.join(phonelock_path,phonelock_file))\n",
    "\n",
    "    tmp_df['start'] = tmp_df['start'].apply(lambda x : get_date_time(x))\n",
    "    tmp_df['start'] = pd.to_datetime(tmp_df['start'])\n",
    "\n",
    "    tmp_df['end'] = tmp_df['end'].apply(lambda x : get_date_time(x))\n",
    "    tmp_df['end'] = pd.to_datetime(tmp_df['end'])\n",
    "\n",
    "    tmp_df['phonelock_dur'] = tmp_df['end'] - tmp_df['start']\n",
    "\n",
    "    # time stamps\n",
    "    \n",
    "    tmp_li = list(label_df[label_df['user_id'] == usr_id].date_time)\n",
    "\n",
    "    for time_b in tmp_li:\n",
    "        # print(time_a,time_b)\n",
    "        # if time_a == time_b:\n",
    "        #     print(time_a,time_b)\n",
    "        \n",
    "        time_a = time_b - timedelta(days=AGGREGATION_DAYS)\n",
    "        slice_df = tmp_df[(time_a < tmp_df.start) & (tmp_df['end']< time_b)]\n",
    "\n",
    "        phonelock_di['user_id'].append(usr_id)\n",
    "        phonelock_di['date_time'].append(time_b)\n",
    "        phonelock_di['phonelock_hours'].append(slice_df['phonelock_dur'].sum().seconds//3600)\n",
    "        phonelock_di['phonelock_minutes'].append(slice_df['phonelock_dur'].sum().seconds//60)\n",
    "        phonelock_di['phonelock_seconds'].append(slice_df['phonelock_dur'].sum().seconds)\n",
    "\n",
    "\n",
    "    gc.collect()\n",
    "\n"
   ]
  },
  {
   "cell_type": "code",
   "execution_count": 196,
   "metadata": {},
   "outputs": [
    {
     "name": "stdout",
     "output_type": "stream",
     "text": [
      "user_id 2455\n",
      "date_time 2455\n",
      "phonelock_hours 2455\n",
      "phonelock_minutes 2455\n",
      "phonelock_seconds 2455\n"
     ]
    }
   ],
   "source": [
    "for k,val in phonelock_di.items():\n",
    "    print(k,len(val))"
   ]
  },
  {
   "cell_type": "code",
   "execution_count": 197,
   "metadata": {},
   "outputs": [],
   "source": [
    "phonelock_df = pd.DataFrame(phonelock_di)"
   ]
  },
  {
   "cell_type": "code",
   "execution_count": 198,
   "metadata": {},
   "outputs": [
    {
     "data": {
      "text/html": [
       "<div>\n",
       "<style scoped>\n",
       "    .dataframe tbody tr th:only-of-type {\n",
       "        vertical-align: middle;\n",
       "    }\n",
       "\n",
       "    .dataframe tbody tr th {\n",
       "        vertical-align: top;\n",
       "    }\n",
       "\n",
       "    .dataframe thead th {\n",
       "        text-align: right;\n",
       "    }\n",
       "</style>\n",
       "<table border=\"1\" class=\"dataframe\">\n",
       "  <thead>\n",
       "    <tr style=\"text-align: right;\">\n",
       "      <th></th>\n",
       "      <th>user_id</th>\n",
       "      <th>date_time</th>\n",
       "      <th>phonelock_hours</th>\n",
       "      <th>phonelock_minutes</th>\n",
       "      <th>phonelock_seconds</th>\n",
       "    </tr>\n",
       "  </thead>\n",
       "  <tbody>\n",
       "    <tr>\n",
       "      <th>0</th>\n",
       "      <td>u42</td>\n",
       "      <td>2013-04-02 05:10:00</td>\n",
       "      <td>9</td>\n",
       "      <td>540</td>\n",
       "      <td>32439</td>\n",
       "    </tr>\n",
       "    <tr>\n",
       "      <th>1</th>\n",
       "      <td>u42</td>\n",
       "      <td>2013-04-02 19:27:00</td>\n",
       "      <td>16</td>\n",
       "      <td>979</td>\n",
       "      <td>58798</td>\n",
       "    </tr>\n",
       "    <tr>\n",
       "      <th>2</th>\n",
       "      <td>u42</td>\n",
       "      <td>2013-04-02 19:36:00</td>\n",
       "      <td>16</td>\n",
       "      <td>979</td>\n",
       "      <td>58798</td>\n",
       "    </tr>\n",
       "    <tr>\n",
       "      <th>3</th>\n",
       "      <td>u42</td>\n",
       "      <td>2013-04-02 23:57:00</td>\n",
       "      <td>17</td>\n",
       "      <td>1079</td>\n",
       "      <td>64774</td>\n",
       "    </tr>\n",
       "    <tr>\n",
       "      <th>4</th>\n",
       "      <td>u42</td>\n",
       "      <td>2013-04-03 17:14:00</td>\n",
       "      <td>19</td>\n",
       "      <td>1162</td>\n",
       "      <td>69724</td>\n",
       "    </tr>\n",
       "  </tbody>\n",
       "</table>\n",
       "</div>"
      ],
      "text/plain": [
       "  user_id           date_time  phonelock_hours  phonelock_minutes  \\\n",
       "0     u42 2013-04-02 05:10:00                9                540   \n",
       "1     u42 2013-04-02 19:27:00               16                979   \n",
       "2     u42 2013-04-02 19:36:00               16                979   \n",
       "3     u42 2013-04-02 23:57:00               17               1079   \n",
       "4     u42 2013-04-03 17:14:00               19               1162   \n",
       "\n",
       "   phonelock_seconds  \n",
       "0              32439  \n",
       "1              58798  \n",
       "2              58798  \n",
       "3              64774  \n",
       "4              69724  "
      ]
     },
     "execution_count": 198,
     "metadata": {},
     "output_type": "execute_result"
    }
   ],
   "source": [
    "phonelock_df.head()"
   ]
  },
  {
   "cell_type": "code",
   "execution_count": 199,
   "metadata": {},
   "outputs": [],
   "source": [
    "phonelock_df.to_csv('./data/phonelock_lag_'+str(AGGREGATION_DAYS)+'_df.csv',index = False)"
   ]
  },
  {
   "cell_type": "code",
   "execution_count": 200,
   "metadata": {},
   "outputs": [
    {
     "data": {
      "text/html": [
       "<div>\n",
       "<style scoped>\n",
       "    .dataframe tbody tr th:only-of-type {\n",
       "        vertical-align: middle;\n",
       "    }\n",
       "\n",
       "    .dataframe tbody tr th {\n",
       "        vertical-align: top;\n",
       "    }\n",
       "\n",
       "    .dataframe thead th {\n",
       "        text-align: right;\n",
       "    }\n",
       "</style>\n",
       "<table border=\"1\" class=\"dataframe\">\n",
       "  <thead>\n",
       "    <tr style=\"text-align: right;\">\n",
       "      <th></th>\n",
       "      <th>user_id</th>\n",
       "      <th>date_time</th>\n",
       "      <th>audio_inf_silence_count</th>\n",
       "      <th>audio_inf_voice_count</th>\n",
       "      <th>audio_inf_noise_count</th>\n",
       "      <th>audio_inf_unknown_count</th>\n",
       "    </tr>\n",
       "  </thead>\n",
       "  <tbody>\n",
       "    <tr>\n",
       "      <th>0</th>\n",
       "      <td>u00</td>\n",
       "      <td>2013-03-25 11:54:00</td>\n",
       "      <td>0</td>\n",
       "      <td>0</td>\n",
       "      <td>0</td>\n",
       "      <td>0</td>\n",
       "    </tr>\n",
       "    <tr>\n",
       "      <th>1</th>\n",
       "      <td>u00</td>\n",
       "      <td>2013-03-25 20:33:00</td>\n",
       "      <td>0</td>\n",
       "      <td>0</td>\n",
       "      <td>0</td>\n",
       "      <td>0</td>\n",
       "    </tr>\n",
       "    <tr>\n",
       "      <th>2</th>\n",
       "      <td>u00</td>\n",
       "      <td>2013-03-26 18:12:00</td>\n",
       "      <td>0</td>\n",
       "      <td>0</td>\n",
       "      <td>0</td>\n",
       "      <td>0</td>\n",
       "    </tr>\n",
       "    <tr>\n",
       "      <th>3</th>\n",
       "      <td>u00</td>\n",
       "      <td>2013-03-27 19:25:00</td>\n",
       "      <td>12685</td>\n",
       "      <td>9036</td>\n",
       "      <td>3231</td>\n",
       "      <td>0</td>\n",
       "    </tr>\n",
       "    <tr>\n",
       "      <th>4</th>\n",
       "      <td>u00</td>\n",
       "      <td>2013-03-28 11:43:00</td>\n",
       "      <td>17686</td>\n",
       "      <td>15644</td>\n",
       "      <td>6832</td>\n",
       "      <td>0</td>\n",
       "    </tr>\n",
       "  </tbody>\n",
       "</table>\n",
       "</div>"
      ],
      "text/plain": [
       "  user_id            date_time  audio_inf_silence_count  \\\n",
       "0     u00  2013-03-25 11:54:00                        0   \n",
       "1     u00  2013-03-25 20:33:00                        0   \n",
       "2     u00  2013-03-26 18:12:00                        0   \n",
       "3     u00  2013-03-27 19:25:00                    12685   \n",
       "4     u00  2013-03-28 11:43:00                    17686   \n",
       "\n",
       "   audio_inf_voice_count  audio_inf_noise_count  audio_inf_unknown_count  \n",
       "0                      0                      0                        0  \n",
       "1                      0                      0                        0  \n",
       "2                      0                      0                        0  \n",
       "3                   9036                   3231                        0  \n",
       "4                  15644                   6832                        0  "
      ]
     },
     "execution_count": 200,
     "metadata": {},
     "output_type": "execute_result"
    }
   ],
   "source": [
    "audio_df = pd.read_csv('./data/audio_lag_1_df.csv')\n",
    "audio_df.head()"
   ]
  },
  {
   "cell_type": "code",
   "execution_count": 207,
   "metadata": {},
   "outputs": [
    {
     "name": "stdout",
     "output_type": "stream",
     "text": [
      "<class 'pandas.core.frame.DataFrame'>\n",
      "RangeIndex: 2455 entries, 0 to 2454\n",
      "Data columns (total 6 columns):\n",
      " #   Column                   Non-Null Count  Dtype         \n",
      "---  ------                   --------------  -----         \n",
      " 0   user_id                  2455 non-null   object        \n",
      " 1   date_time                2455 non-null   datetime64[ns]\n",
      " 2   audio_inf_silence_count  2455 non-null   int64         \n",
      " 3   audio_inf_voice_count    2455 non-null   int64         \n",
      " 4   audio_inf_noise_count    2455 non-null   int64         \n",
      " 5   audio_inf_unknown_count  2455 non-null   int64         \n",
      "dtypes: datetime64[ns](1), int64(4), object(1)\n",
      "memory usage: 115.2+ KB\n"
     ]
    }
   ],
   "source": [
    "audio_df.info()"
   ]
  },
  {
   "cell_type": "code",
   "execution_count": 206,
   "metadata": {},
   "outputs": [],
   "source": [
    "audio_df['date_time'] = pd.to_datetime(audio_df['date_time'])"
   ]
  },
  {
   "cell_type": "markdown",
   "metadata": {},
   "source": [
    "## Merging sensing data"
   ]
  },
  {
   "cell_type": "code",
   "execution_count": 204,
   "metadata": {},
   "outputs": [
    {
     "data": {
      "text/plain": [
       "(2455, 2455, 2455)"
      ]
     },
     "execution_count": 204,
     "metadata": {},
     "output_type": "execute_result"
    }
   ],
   "source": [
    "len(label_df),len(activity_df),len(app_usage_df)"
   ]
  },
  {
   "cell_type": "code",
   "execution_count": 221,
   "metadata": {},
   "outputs": [
    {
     "data": {
      "text/html": [
       "<div>\n",
       "<style scoped>\n",
       "    .dataframe tbody tr th:only-of-type {\n",
       "        vertical-align: middle;\n",
       "    }\n",
       "\n",
       "    .dataframe tbody tr th {\n",
       "        vertical-align: top;\n",
       "    }\n",
       "\n",
       "    .dataframe thead th {\n",
       "        text-align: right;\n",
       "    }\n",
       "</style>\n",
       "<table border=\"1\" class=\"dataframe\">\n",
       "  <thead>\n",
       "    <tr style=\"text-align: right;\">\n",
       "      <th></th>\n",
       "      <th>user_id</th>\n",
       "      <th>date_time</th>\n",
       "      <th>activity_inf_stationary_count</th>\n",
       "      <th>activity_inf_walking_count</th>\n",
       "      <th>activity_inf_running_count</th>\n",
       "      <th>activity_inf_unknown_count</th>\n",
       "      <th>app_usage_baseActivity_mClass</th>\n",
       "      <th>app_usage_baseActivity_mPackage</th>\n",
       "      <th>app_usage_baseActivity_id_count</th>\n",
       "      <th>app_usage_baseActivity_numActivities</th>\n",
       "      <th>app_usage_baseActivity_numRunning</th>\n",
       "      <th>app_usage_topActivity_mClass</th>\n",
       "      <th>app_usage_topActivity_mPackage</th>\n",
       "    </tr>\n",
       "  </thead>\n",
       "  <tbody>\n",
       "    <tr>\n",
       "      <th>0</th>\n",
       "      <td>u17</td>\n",
       "      <td>2013-03-28 15:08:00</td>\n",
       "      <td>7712</td>\n",
       "      <td>372</td>\n",
       "      <td>64</td>\n",
       "      <td>105</td>\n",
       "      <td>6</td>\n",
       "      <td>6</td>\n",
       "      <td>10</td>\n",
       "      <td>295</td>\n",
       "      <td>294</td>\n",
       "      <td>8</td>\n",
       "      <td>6</td>\n",
       "    </tr>\n",
       "    <tr>\n",
       "      <th>1</th>\n",
       "      <td>u17</td>\n",
       "      <td>2013-03-30 16:06:00</td>\n",
       "      <td>8090</td>\n",
       "      <td>103</td>\n",
       "      <td>0</td>\n",
       "      <td>28</td>\n",
       "      <td>10</td>\n",
       "      <td>9</td>\n",
       "      <td>19</td>\n",
       "      <td>456</td>\n",
       "      <td>378</td>\n",
       "      <td>11</td>\n",
       "      <td>9</td>\n",
       "    </tr>\n",
       "    <tr>\n",
       "      <th>2</th>\n",
       "      <td>u17</td>\n",
       "      <td>2013-04-11 16:53:00</td>\n",
       "      <td>7808</td>\n",
       "      <td>362</td>\n",
       "      <td>15</td>\n",
       "      <td>78</td>\n",
       "      <td>7</td>\n",
       "      <td>6</td>\n",
       "      <td>8</td>\n",
       "      <td>372</td>\n",
       "      <td>372</td>\n",
       "      <td>7</td>\n",
       "      <td>6</td>\n",
       "    </tr>\n",
       "    <tr>\n",
       "      <th>3</th>\n",
       "      <td>u17</td>\n",
       "      <td>2013-04-14 15:33:00</td>\n",
       "      <td>8181</td>\n",
       "      <td>117</td>\n",
       "      <td>0</td>\n",
       "      <td>29</td>\n",
       "      <td>6</td>\n",
       "      <td>6</td>\n",
       "      <td>6</td>\n",
       "      <td>895</td>\n",
       "      <td>517</td>\n",
       "      <td>8</td>\n",
       "      <td>6</td>\n",
       "    </tr>\n",
       "    <tr>\n",
       "      <th>4</th>\n",
       "      <td>u17</td>\n",
       "      <td>2013-04-15 14:07:00</td>\n",
       "      <td>7413</td>\n",
       "      <td>572</td>\n",
       "      <td>83</td>\n",
       "      <td>158</td>\n",
       "      <td>15</td>\n",
       "      <td>14</td>\n",
       "      <td>22</td>\n",
       "      <td>608</td>\n",
       "      <td>550</td>\n",
       "      <td>16</td>\n",
       "      <td>14</td>\n",
       "    </tr>\n",
       "  </tbody>\n",
       "</table>\n",
       "</div>"
      ],
      "text/plain": [
       "  user_id           date_time  activity_inf_stationary_count  \\\n",
       "0     u17 2013-03-28 15:08:00                           7712   \n",
       "1     u17 2013-03-30 16:06:00                           8090   \n",
       "2     u17 2013-04-11 16:53:00                           7808   \n",
       "3     u17 2013-04-14 15:33:00                           8181   \n",
       "4     u17 2013-04-15 14:07:00                           7413   \n",
       "\n",
       "   activity_inf_walking_count  activity_inf_running_count  \\\n",
       "0                         372                          64   \n",
       "1                         103                           0   \n",
       "2                         362                          15   \n",
       "3                         117                           0   \n",
       "4                         572                          83   \n",
       "\n",
       "   activity_inf_unknown_count  app_usage_baseActivity_mClass  \\\n",
       "0                         105                              6   \n",
       "1                          28                             10   \n",
       "2                          78                              7   \n",
       "3                          29                              6   \n",
       "4                         158                             15   \n",
       "\n",
       "   app_usage_baseActivity_mPackage  app_usage_baseActivity_id_count  \\\n",
       "0                                6                               10   \n",
       "1                                9                               19   \n",
       "2                                6                                8   \n",
       "3                                6                                6   \n",
       "4                               14                               22   \n",
       "\n",
       "   app_usage_baseActivity_numActivities  app_usage_baseActivity_numRunning  \\\n",
       "0                                   295                                294   \n",
       "1                                   456                                378   \n",
       "2                                   372                                372   \n",
       "3                                   895                                517   \n",
       "4                                   608                                550   \n",
       "\n",
       "   app_usage_topActivity_mClass  app_usage_topActivity_mPackage  \n",
       "0                             8                               6  \n",
       "1                            11                               9  \n",
       "2                             7                               6  \n",
       "3                             8                               6  \n",
       "4                            16                              14  "
      ]
     },
     "execution_count": 221,
     "metadata": {},
     "output_type": "execute_result"
    }
   ],
   "source": [
    "merged_sensing_df = activity_df.merge(app_usage_df,on=['user_id','date_time'])\n",
    "\n",
    "merged_sensing_df.head()"
   ]
  },
  {
   "cell_type": "code",
   "execution_count": 222,
   "metadata": {},
   "outputs": [
    {
     "data": {
      "text/plain": [
       "2455"
      ]
     },
     "execution_count": 222,
     "metadata": {},
     "output_type": "execute_result"
    }
   ],
   "source": [
    "len(merged_sensing_df)"
   ]
  },
  {
   "cell_type": "code",
   "execution_count": 223,
   "metadata": {},
   "outputs": [
    {
     "data": {
      "text/html": [
       "<div>\n",
       "<style scoped>\n",
       "    .dataframe tbody tr th:only-of-type {\n",
       "        vertical-align: middle;\n",
       "    }\n",
       "\n",
       "    .dataframe tbody tr th {\n",
       "        vertical-align: top;\n",
       "    }\n",
       "\n",
       "    .dataframe thead th {\n",
       "        text-align: right;\n",
       "    }\n",
       "</style>\n",
       "<table border=\"1\" class=\"dataframe\">\n",
       "  <thead>\n",
       "    <tr style=\"text-align: right;\">\n",
       "      <th></th>\n",
       "      <th>user_id</th>\n",
       "      <th>date_time</th>\n",
       "      <th>activity_inf_stationary_count</th>\n",
       "      <th>activity_inf_walking_count</th>\n",
       "      <th>activity_inf_running_count</th>\n",
       "      <th>activity_inf_unknown_count</th>\n",
       "      <th>app_usage_baseActivity_mClass</th>\n",
       "      <th>app_usage_baseActivity_mPackage</th>\n",
       "      <th>app_usage_baseActivity_id_count</th>\n",
       "      <th>app_usage_baseActivity_numActivities</th>\n",
       "      <th>app_usage_baseActivity_numRunning</th>\n",
       "      <th>app_usage_topActivity_mClass</th>\n",
       "      <th>app_usage_topActivity_mPackage</th>\n",
       "      <th>audio_inf_silence_count</th>\n",
       "      <th>audio_inf_voice_count</th>\n",
       "      <th>audio_inf_noise_count</th>\n",
       "      <th>audio_inf_unknown_count</th>\n",
       "    </tr>\n",
       "  </thead>\n",
       "  <tbody>\n",
       "    <tr>\n",
       "      <th>0</th>\n",
       "      <td>u17</td>\n",
       "      <td>2013-03-28 15:08:00</td>\n",
       "      <td>7712</td>\n",
       "      <td>372</td>\n",
       "      <td>64</td>\n",
       "      <td>105</td>\n",
       "      <td>6</td>\n",
       "      <td>6</td>\n",
       "      <td>10</td>\n",
       "      <td>295</td>\n",
       "      <td>294</td>\n",
       "      <td>8</td>\n",
       "      <td>6</td>\n",
       "      <td>20608</td>\n",
       "      <td>9849</td>\n",
       "      <td>3073</td>\n",
       "      <td>0</td>\n",
       "    </tr>\n",
       "    <tr>\n",
       "      <th>1</th>\n",
       "      <td>u17</td>\n",
       "      <td>2013-03-30 16:06:00</td>\n",
       "      <td>8090</td>\n",
       "      <td>103</td>\n",
       "      <td>0</td>\n",
       "      <td>28</td>\n",
       "      <td>10</td>\n",
       "      <td>9</td>\n",
       "      <td>19</td>\n",
       "      <td>456</td>\n",
       "      <td>378</td>\n",
       "      <td>11</td>\n",
       "      <td>9</td>\n",
       "      <td>19975</td>\n",
       "      <td>12252</td>\n",
       "      <td>2197</td>\n",
       "      <td>0</td>\n",
       "    </tr>\n",
       "    <tr>\n",
       "      <th>2</th>\n",
       "      <td>u17</td>\n",
       "      <td>2013-04-11 16:53:00</td>\n",
       "      <td>7808</td>\n",
       "      <td>362</td>\n",
       "      <td>15</td>\n",
       "      <td>78</td>\n",
       "      <td>7</td>\n",
       "      <td>6</td>\n",
       "      <td>8</td>\n",
       "      <td>372</td>\n",
       "      <td>372</td>\n",
       "      <td>7</td>\n",
       "      <td>6</td>\n",
       "      <td>21027</td>\n",
       "      <td>9877</td>\n",
       "      <td>3789</td>\n",
       "      <td>0</td>\n",
       "    </tr>\n",
       "    <tr>\n",
       "      <th>3</th>\n",
       "      <td>u17</td>\n",
       "      <td>2013-04-14 15:33:00</td>\n",
       "      <td>8181</td>\n",
       "      <td>117</td>\n",
       "      <td>0</td>\n",
       "      <td>29</td>\n",
       "      <td>6</td>\n",
       "      <td>6</td>\n",
       "      <td>6</td>\n",
       "      <td>895</td>\n",
       "      <td>517</td>\n",
       "      <td>8</td>\n",
       "      <td>6</td>\n",
       "      <td>17791</td>\n",
       "      <td>3995</td>\n",
       "      <td>6022</td>\n",
       "      <td>0</td>\n",
       "    </tr>\n",
       "    <tr>\n",
       "      <th>4</th>\n",
       "      <td>u17</td>\n",
       "      <td>2013-04-15 14:07:00</td>\n",
       "      <td>7413</td>\n",
       "      <td>572</td>\n",
       "      <td>83</td>\n",
       "      <td>158</td>\n",
       "      <td>15</td>\n",
       "      <td>14</td>\n",
       "      <td>22</td>\n",
       "      <td>608</td>\n",
       "      <td>550</td>\n",
       "      <td>16</td>\n",
       "      <td>14</td>\n",
       "      <td>17780</td>\n",
       "      <td>8824</td>\n",
       "      <td>7129</td>\n",
       "      <td>0</td>\n",
       "    </tr>\n",
       "  </tbody>\n",
       "</table>\n",
       "</div>"
      ],
      "text/plain": [
       "  user_id           date_time  activity_inf_stationary_count  \\\n",
       "0     u17 2013-03-28 15:08:00                           7712   \n",
       "1     u17 2013-03-30 16:06:00                           8090   \n",
       "2     u17 2013-04-11 16:53:00                           7808   \n",
       "3     u17 2013-04-14 15:33:00                           8181   \n",
       "4     u17 2013-04-15 14:07:00                           7413   \n",
       "\n",
       "   activity_inf_walking_count  activity_inf_running_count  \\\n",
       "0                         372                          64   \n",
       "1                         103                           0   \n",
       "2                         362                          15   \n",
       "3                         117                           0   \n",
       "4                         572                          83   \n",
       "\n",
       "   activity_inf_unknown_count  app_usage_baseActivity_mClass  \\\n",
       "0                         105                              6   \n",
       "1                          28                             10   \n",
       "2                          78                              7   \n",
       "3                          29                              6   \n",
       "4                         158                             15   \n",
       "\n",
       "   app_usage_baseActivity_mPackage  app_usage_baseActivity_id_count  \\\n",
       "0                                6                               10   \n",
       "1                                9                               19   \n",
       "2                                6                                8   \n",
       "3                                6                                6   \n",
       "4                               14                               22   \n",
       "\n",
       "   app_usage_baseActivity_numActivities  app_usage_baseActivity_numRunning  \\\n",
       "0                                   295                                294   \n",
       "1                                   456                                378   \n",
       "2                                   372                                372   \n",
       "3                                   895                                517   \n",
       "4                                   608                                550   \n",
       "\n",
       "   app_usage_topActivity_mClass  app_usage_topActivity_mPackage  \\\n",
       "0                             8                               6   \n",
       "1                            11                               9   \n",
       "2                             7                               6   \n",
       "3                             8                               6   \n",
       "4                            16                              14   \n",
       "\n",
       "   audio_inf_silence_count  audio_inf_voice_count  audio_inf_noise_count  \\\n",
       "0                    20608                   9849                   3073   \n",
       "1                    19975                  12252                   2197   \n",
       "2                    21027                   9877                   3789   \n",
       "3                    17791                   3995                   6022   \n",
       "4                    17780                   8824                   7129   \n",
       "\n",
       "   audio_inf_unknown_count  \n",
       "0                        0  \n",
       "1                        0  \n",
       "2                        0  \n",
       "3                        0  \n",
       "4                        0  "
      ]
     },
     "execution_count": 223,
     "metadata": {},
     "output_type": "execute_result"
    }
   ],
   "source": [
    "merged_sensing_df = merged_sensing_df.merge(audio_df,on=['user_id','date_time'])\n",
    "\n",
    "merged_sensing_df.head()"
   ]
  },
  {
   "cell_type": "code",
   "execution_count": 224,
   "metadata": {},
   "outputs": [
    {
     "data": {
      "text/plain": [
       "(2455, 17)"
      ]
     },
     "execution_count": 224,
     "metadata": {},
     "output_type": "execute_result"
    }
   ],
   "source": [
    "len(merged_sensing_df),len(merged_sensing_df.columns)"
   ]
  },
  {
   "cell_type": "code",
   "execution_count": 225,
   "metadata": {},
   "outputs": [
    {
     "data": {
      "text/html": [
       "<div>\n",
       "<style scoped>\n",
       "    .dataframe tbody tr th:only-of-type {\n",
       "        vertical-align: middle;\n",
       "    }\n",
       "\n",
       "    .dataframe tbody tr th {\n",
       "        vertical-align: top;\n",
       "    }\n",
       "\n",
       "    .dataframe thead th {\n",
       "        text-align: right;\n",
       "    }\n",
       "</style>\n",
       "<table border=\"1\" class=\"dataframe\">\n",
       "  <thead>\n",
       "    <tr style=\"text-align: right;\">\n",
       "      <th></th>\n",
       "      <th>user_id</th>\n",
       "      <th>date_time</th>\n",
       "      <th>activity_inf_stationary_count</th>\n",
       "      <th>activity_inf_walking_count</th>\n",
       "      <th>activity_inf_running_count</th>\n",
       "      <th>activity_inf_unknown_count</th>\n",
       "      <th>app_usage_baseActivity_mClass</th>\n",
       "      <th>app_usage_baseActivity_mPackage</th>\n",
       "      <th>app_usage_baseActivity_id_count</th>\n",
       "      <th>app_usage_baseActivity_numActivities</th>\n",
       "      <th>app_usage_baseActivity_numRunning</th>\n",
       "      <th>app_usage_topActivity_mClass</th>\n",
       "      <th>app_usage_topActivity_mPackage</th>\n",
       "      <th>audio_inf_silence_count</th>\n",
       "      <th>audio_inf_voice_count</th>\n",
       "      <th>audio_inf_noise_count</th>\n",
       "      <th>audio_inf_unknown_count</th>\n",
       "      <th>conversation_hours</th>\n",
       "      <th>conversation_minutes</th>\n",
       "    </tr>\n",
       "  </thead>\n",
       "  <tbody>\n",
       "    <tr>\n",
       "      <th>0</th>\n",
       "      <td>u17</td>\n",
       "      <td>2013-03-28 15:08:00</td>\n",
       "      <td>7712</td>\n",
       "      <td>372</td>\n",
       "      <td>64</td>\n",
       "      <td>105</td>\n",
       "      <td>6</td>\n",
       "      <td>6</td>\n",
       "      <td>10</td>\n",
       "      <td>295</td>\n",
       "      <td>294</td>\n",
       "      <td>8</td>\n",
       "      <td>6</td>\n",
       "      <td>20608</td>\n",
       "      <td>9849</td>\n",
       "      <td>3073</td>\n",
       "      <td>0</td>\n",
       "      <td>4</td>\n",
       "      <td>260</td>\n",
       "    </tr>\n",
       "    <tr>\n",
       "      <th>1</th>\n",
       "      <td>u17</td>\n",
       "      <td>2013-03-30 16:06:00</td>\n",
       "      <td>8090</td>\n",
       "      <td>103</td>\n",
       "      <td>0</td>\n",
       "      <td>28</td>\n",
       "      <td>10</td>\n",
       "      <td>9</td>\n",
       "      <td>19</td>\n",
       "      <td>456</td>\n",
       "      <td>378</td>\n",
       "      <td>11</td>\n",
       "      <td>9</td>\n",
       "      <td>19975</td>\n",
       "      <td>12252</td>\n",
       "      <td>2197</td>\n",
       "      <td>0</td>\n",
       "      <td>3</td>\n",
       "      <td>217</td>\n",
       "    </tr>\n",
       "    <tr>\n",
       "      <th>2</th>\n",
       "      <td>u17</td>\n",
       "      <td>2013-04-11 16:53:00</td>\n",
       "      <td>7808</td>\n",
       "      <td>362</td>\n",
       "      <td>15</td>\n",
       "      <td>78</td>\n",
       "      <td>7</td>\n",
       "      <td>6</td>\n",
       "      <td>8</td>\n",
       "      <td>372</td>\n",
       "      <td>372</td>\n",
       "      <td>7</td>\n",
       "      <td>6</td>\n",
       "      <td>21027</td>\n",
       "      <td>9877</td>\n",
       "      <td>3789</td>\n",
       "      <td>0</td>\n",
       "      <td>4</td>\n",
       "      <td>244</td>\n",
       "    </tr>\n",
       "    <tr>\n",
       "      <th>3</th>\n",
       "      <td>u17</td>\n",
       "      <td>2013-04-14 15:33:00</td>\n",
       "      <td>8181</td>\n",
       "      <td>117</td>\n",
       "      <td>0</td>\n",
       "      <td>29</td>\n",
       "      <td>6</td>\n",
       "      <td>6</td>\n",
       "      <td>6</td>\n",
       "      <td>895</td>\n",
       "      <td>517</td>\n",
       "      <td>8</td>\n",
       "      <td>6</td>\n",
       "      <td>17791</td>\n",
       "      <td>3995</td>\n",
       "      <td>6022</td>\n",
       "      <td>0</td>\n",
       "      <td>1</td>\n",
       "      <td>118</td>\n",
       "    </tr>\n",
       "    <tr>\n",
       "      <th>4</th>\n",
       "      <td>u17</td>\n",
       "      <td>2013-04-15 14:07:00</td>\n",
       "      <td>7413</td>\n",
       "      <td>572</td>\n",
       "      <td>83</td>\n",
       "      <td>158</td>\n",
       "      <td>15</td>\n",
       "      <td>14</td>\n",
       "      <td>22</td>\n",
       "      <td>608</td>\n",
       "      <td>550</td>\n",
       "      <td>16</td>\n",
       "      <td>14</td>\n",
       "      <td>17780</td>\n",
       "      <td>8824</td>\n",
       "      <td>7129</td>\n",
       "      <td>0</td>\n",
       "      <td>7</td>\n",
       "      <td>450</td>\n",
       "    </tr>\n",
       "  </tbody>\n",
       "</table>\n",
       "</div>"
      ],
      "text/plain": [
       "  user_id           date_time  activity_inf_stationary_count  \\\n",
       "0     u17 2013-03-28 15:08:00                           7712   \n",
       "1     u17 2013-03-30 16:06:00                           8090   \n",
       "2     u17 2013-04-11 16:53:00                           7808   \n",
       "3     u17 2013-04-14 15:33:00                           8181   \n",
       "4     u17 2013-04-15 14:07:00                           7413   \n",
       "\n",
       "   activity_inf_walking_count  activity_inf_running_count  \\\n",
       "0                         372                          64   \n",
       "1                         103                           0   \n",
       "2                         362                          15   \n",
       "3                         117                           0   \n",
       "4                         572                          83   \n",
       "\n",
       "   activity_inf_unknown_count  app_usage_baseActivity_mClass  \\\n",
       "0                         105                              6   \n",
       "1                          28                             10   \n",
       "2                          78                              7   \n",
       "3                          29                              6   \n",
       "4                         158                             15   \n",
       "\n",
       "   app_usage_baseActivity_mPackage  app_usage_baseActivity_id_count  \\\n",
       "0                                6                               10   \n",
       "1                                9                               19   \n",
       "2                                6                                8   \n",
       "3                                6                                6   \n",
       "4                               14                               22   \n",
       "\n",
       "   app_usage_baseActivity_numActivities  app_usage_baseActivity_numRunning  \\\n",
       "0                                   295                                294   \n",
       "1                                   456                                378   \n",
       "2                                   372                                372   \n",
       "3                                   895                                517   \n",
       "4                                   608                                550   \n",
       "\n",
       "   app_usage_topActivity_mClass  app_usage_topActivity_mPackage  \\\n",
       "0                             8                               6   \n",
       "1                            11                               9   \n",
       "2                             7                               6   \n",
       "3                             8                               6   \n",
       "4                            16                              14   \n",
       "\n",
       "   audio_inf_silence_count  audio_inf_voice_count  audio_inf_noise_count  \\\n",
       "0                    20608                   9849                   3073   \n",
       "1                    19975                  12252                   2197   \n",
       "2                    21027                   9877                   3789   \n",
       "3                    17791                   3995                   6022   \n",
       "4                    17780                   8824                   7129   \n",
       "\n",
       "   audio_inf_unknown_count  conversation_hours  conversation_minutes  \n",
       "0                        0                   4                   260  \n",
       "1                        0                   3                   217  \n",
       "2                        0                   4                   244  \n",
       "3                        0                   1                   118  \n",
       "4                        0                   7                   450  "
      ]
     },
     "execution_count": 225,
     "metadata": {},
     "output_type": "execute_result"
    }
   ],
   "source": [
    "merged_sensing_df = merged_sensing_df.merge(conv_df,on=['user_id','date_time'])\n",
    "\n",
    "merged_sensing_df.head()"
   ]
  },
  {
   "cell_type": "code",
   "execution_count": 226,
   "metadata": {},
   "outputs": [
    {
     "data": {
      "text/plain": [
       "(2455, 19)"
      ]
     },
     "execution_count": 226,
     "metadata": {},
     "output_type": "execute_result"
    }
   ],
   "source": [
    "len(merged_sensing_df),len(merged_sensing_df.columns)"
   ]
  },
  {
   "cell_type": "code",
   "execution_count": 227,
   "metadata": {},
   "outputs": [
    {
     "data": {
      "text/html": [
       "<div>\n",
       "<style scoped>\n",
       "    .dataframe tbody tr th:only-of-type {\n",
       "        vertical-align: middle;\n",
       "    }\n",
       "\n",
       "    .dataframe tbody tr th {\n",
       "        vertical-align: top;\n",
       "    }\n",
       "\n",
       "    .dataframe thead th {\n",
       "        text-align: right;\n",
       "    }\n",
       "</style>\n",
       "<table border=\"1\" class=\"dataframe\">\n",
       "  <thead>\n",
       "    <tr style=\"text-align: right;\">\n",
       "      <th></th>\n",
       "      <th>user_id</th>\n",
       "      <th>date_time</th>\n",
       "      <th>activity_inf_stationary_count</th>\n",
       "      <th>activity_inf_walking_count</th>\n",
       "      <th>activity_inf_running_count</th>\n",
       "      <th>activity_inf_unknown_count</th>\n",
       "      <th>app_usage_baseActivity_mClass</th>\n",
       "      <th>app_usage_baseActivity_mPackage</th>\n",
       "      <th>app_usage_baseActivity_id_count</th>\n",
       "      <th>app_usage_baseActivity_numActivities</th>\n",
       "      <th>...</th>\n",
       "      <th>app_usage_topActivity_mPackage</th>\n",
       "      <th>audio_inf_silence_count</th>\n",
       "      <th>audio_inf_voice_count</th>\n",
       "      <th>audio_inf_noise_count</th>\n",
       "      <th>audio_inf_unknown_count</th>\n",
       "      <th>conversation_hours</th>\n",
       "      <th>conversation_minutes</th>\n",
       "      <th>dark_hours</th>\n",
       "      <th>dark_minutes</th>\n",
       "      <th>dark_seconds</th>\n",
       "    </tr>\n",
       "  </thead>\n",
       "  <tbody>\n",
       "    <tr>\n",
       "      <th>0</th>\n",
       "      <td>u17</td>\n",
       "      <td>2013-03-28 15:08:00</td>\n",
       "      <td>7712</td>\n",
       "      <td>372</td>\n",
       "      <td>64</td>\n",
       "      <td>105</td>\n",
       "      <td>6</td>\n",
       "      <td>6</td>\n",
       "      <td>10</td>\n",
       "      <td>295</td>\n",
       "      <td>...</td>\n",
       "      <td>6</td>\n",
       "      <td>20608</td>\n",
       "      <td>9849</td>\n",
       "      <td>3073</td>\n",
       "      <td>0</td>\n",
       "      <td>4</td>\n",
       "      <td>260</td>\n",
       "      <td>7</td>\n",
       "      <td>455</td>\n",
       "      <td>27345</td>\n",
       "    </tr>\n",
       "    <tr>\n",
       "      <th>1</th>\n",
       "      <td>u17</td>\n",
       "      <td>2013-03-30 16:06:00</td>\n",
       "      <td>8090</td>\n",
       "      <td>103</td>\n",
       "      <td>0</td>\n",
       "      <td>28</td>\n",
       "      <td>10</td>\n",
       "      <td>9</td>\n",
       "      <td>19</td>\n",
       "      <td>456</td>\n",
       "      <td>...</td>\n",
       "      <td>9</td>\n",
       "      <td>19975</td>\n",
       "      <td>12252</td>\n",
       "      <td>2197</td>\n",
       "      <td>0</td>\n",
       "      <td>3</td>\n",
       "      <td>217</td>\n",
       "      <td>14</td>\n",
       "      <td>844</td>\n",
       "      <td>50648</td>\n",
       "    </tr>\n",
       "    <tr>\n",
       "      <th>2</th>\n",
       "      <td>u17</td>\n",
       "      <td>2013-04-11 16:53:00</td>\n",
       "      <td>7808</td>\n",
       "      <td>362</td>\n",
       "      <td>15</td>\n",
       "      <td>78</td>\n",
       "      <td>7</td>\n",
       "      <td>6</td>\n",
       "      <td>8</td>\n",
       "      <td>372</td>\n",
       "      <td>...</td>\n",
       "      <td>6</td>\n",
       "      <td>21027</td>\n",
       "      <td>9877</td>\n",
       "      <td>3789</td>\n",
       "      <td>0</td>\n",
       "      <td>4</td>\n",
       "      <td>244</td>\n",
       "      <td>12</td>\n",
       "      <td>774</td>\n",
       "      <td>46467</td>\n",
       "    </tr>\n",
       "    <tr>\n",
       "      <th>3</th>\n",
       "      <td>u17</td>\n",
       "      <td>2013-04-14 15:33:00</td>\n",
       "      <td>8181</td>\n",
       "      <td>117</td>\n",
       "      <td>0</td>\n",
       "      <td>29</td>\n",
       "      <td>6</td>\n",
       "      <td>6</td>\n",
       "      <td>6</td>\n",
       "      <td>895</td>\n",
       "      <td>...</td>\n",
       "      <td>6</td>\n",
       "      <td>17791</td>\n",
       "      <td>3995</td>\n",
       "      <td>6022</td>\n",
       "      <td>0</td>\n",
       "      <td>1</td>\n",
       "      <td>118</td>\n",
       "      <td>18</td>\n",
       "      <td>1086</td>\n",
       "      <td>65194</td>\n",
       "    </tr>\n",
       "    <tr>\n",
       "      <th>4</th>\n",
       "      <td>u17</td>\n",
       "      <td>2013-04-15 14:07:00</td>\n",
       "      <td>7413</td>\n",
       "      <td>572</td>\n",
       "      <td>83</td>\n",
       "      <td>158</td>\n",
       "      <td>15</td>\n",
       "      <td>14</td>\n",
       "      <td>22</td>\n",
       "      <td>608</td>\n",
       "      <td>...</td>\n",
       "      <td>14</td>\n",
       "      <td>17780</td>\n",
       "      <td>8824</td>\n",
       "      <td>7129</td>\n",
       "      <td>0</td>\n",
       "      <td>7</td>\n",
       "      <td>450</td>\n",
       "      <td>10</td>\n",
       "      <td>625</td>\n",
       "      <td>37535</td>\n",
       "    </tr>\n",
       "  </tbody>\n",
       "</table>\n",
       "<p>5 rows × 22 columns</p>\n",
       "</div>"
      ],
      "text/plain": [
       "  user_id           date_time  activity_inf_stationary_count  \\\n",
       "0     u17 2013-03-28 15:08:00                           7712   \n",
       "1     u17 2013-03-30 16:06:00                           8090   \n",
       "2     u17 2013-04-11 16:53:00                           7808   \n",
       "3     u17 2013-04-14 15:33:00                           8181   \n",
       "4     u17 2013-04-15 14:07:00                           7413   \n",
       "\n",
       "   activity_inf_walking_count  activity_inf_running_count  \\\n",
       "0                         372                          64   \n",
       "1                         103                           0   \n",
       "2                         362                          15   \n",
       "3                         117                           0   \n",
       "4                         572                          83   \n",
       "\n",
       "   activity_inf_unknown_count  app_usage_baseActivity_mClass  \\\n",
       "0                         105                              6   \n",
       "1                          28                             10   \n",
       "2                          78                              7   \n",
       "3                          29                              6   \n",
       "4                         158                             15   \n",
       "\n",
       "   app_usage_baseActivity_mPackage  app_usage_baseActivity_id_count  \\\n",
       "0                                6                               10   \n",
       "1                                9                               19   \n",
       "2                                6                                8   \n",
       "3                                6                                6   \n",
       "4                               14                               22   \n",
       "\n",
       "   app_usage_baseActivity_numActivities  ...  app_usage_topActivity_mPackage  \\\n",
       "0                                   295  ...                               6   \n",
       "1                                   456  ...                               9   \n",
       "2                                   372  ...                               6   \n",
       "3                                   895  ...                               6   \n",
       "4                                   608  ...                              14   \n",
       "\n",
       "   audio_inf_silence_count  audio_inf_voice_count  audio_inf_noise_count  \\\n",
       "0                    20608                   9849                   3073   \n",
       "1                    19975                  12252                   2197   \n",
       "2                    21027                   9877                   3789   \n",
       "3                    17791                   3995                   6022   \n",
       "4                    17780                   8824                   7129   \n",
       "\n",
       "   audio_inf_unknown_count  conversation_hours  conversation_minutes  \\\n",
       "0                        0                   4                   260   \n",
       "1                        0                   3                   217   \n",
       "2                        0                   4                   244   \n",
       "3                        0                   1                   118   \n",
       "4                        0                   7                   450   \n",
       "\n",
       "   dark_hours  dark_minutes  dark_seconds  \n",
       "0           7           455         27345  \n",
       "1          14           844         50648  \n",
       "2          12           774         46467  \n",
       "3          18          1086         65194  \n",
       "4          10           625         37535  \n",
       "\n",
       "[5 rows x 22 columns]"
      ]
     },
     "execution_count": 227,
     "metadata": {},
     "output_type": "execute_result"
    }
   ],
   "source": [
    "merged_sensing_df = merged_sensing_df.merge(dark_df,on=['user_id','date_time'])\n",
    "\n",
    "merged_sensing_df.head()"
   ]
  },
  {
   "cell_type": "code",
   "execution_count": 228,
   "metadata": {},
   "outputs": [
    {
     "data": {
      "text/plain": [
       "2455"
      ]
     },
     "execution_count": 228,
     "metadata": {},
     "output_type": "execute_result"
    }
   ],
   "source": [
    "len(merged_sensing_df)"
   ]
  },
  {
   "cell_type": "code",
   "execution_count": 229,
   "metadata": {},
   "outputs": [
    {
     "data": {
      "text/html": [
       "<div>\n",
       "<style scoped>\n",
       "    .dataframe tbody tr th:only-of-type {\n",
       "        vertical-align: middle;\n",
       "    }\n",
       "\n",
       "    .dataframe tbody tr th {\n",
       "        vertical-align: top;\n",
       "    }\n",
       "\n",
       "    .dataframe thead th {\n",
       "        text-align: right;\n",
       "    }\n",
       "</style>\n",
       "<table border=\"1\" class=\"dataframe\">\n",
       "  <thead>\n",
       "    <tr style=\"text-align: right;\">\n",
       "      <th></th>\n",
       "      <th>user_id</th>\n",
       "      <th>date_time</th>\n",
       "      <th>activity_inf_stationary_count</th>\n",
       "      <th>activity_inf_walking_count</th>\n",
       "      <th>activity_inf_running_count</th>\n",
       "      <th>activity_inf_unknown_count</th>\n",
       "      <th>app_usage_baseActivity_mClass</th>\n",
       "      <th>app_usage_baseActivity_mPackage</th>\n",
       "      <th>app_usage_baseActivity_id_count</th>\n",
       "      <th>app_usage_baseActivity_numActivities</th>\n",
       "      <th>...</th>\n",
       "      <th>audio_inf_noise_count</th>\n",
       "      <th>audio_inf_unknown_count</th>\n",
       "      <th>conversation_hours</th>\n",
       "      <th>conversation_minutes</th>\n",
       "      <th>dark_hours</th>\n",
       "      <th>dark_minutes</th>\n",
       "      <th>dark_seconds</th>\n",
       "      <th>phonecharge_hours</th>\n",
       "      <th>phonecharge_minutes</th>\n",
       "      <th>phonecharge_seconds</th>\n",
       "    </tr>\n",
       "  </thead>\n",
       "  <tbody>\n",
       "    <tr>\n",
       "      <th>0</th>\n",
       "      <td>u17</td>\n",
       "      <td>2013-03-28 15:08:00</td>\n",
       "      <td>7712</td>\n",
       "      <td>372</td>\n",
       "      <td>64</td>\n",
       "      <td>105</td>\n",
       "      <td>6</td>\n",
       "      <td>6</td>\n",
       "      <td>10</td>\n",
       "      <td>295</td>\n",
       "      <td>...</td>\n",
       "      <td>3073</td>\n",
       "      <td>0</td>\n",
       "      <td>4</td>\n",
       "      <td>260</td>\n",
       "      <td>7</td>\n",
       "      <td>455</td>\n",
       "      <td>27345</td>\n",
       "      <td>0</td>\n",
       "      <td>0</td>\n",
       "      <td>0</td>\n",
       "    </tr>\n",
       "    <tr>\n",
       "      <th>1</th>\n",
       "      <td>u17</td>\n",
       "      <td>2013-03-30 16:06:00</td>\n",
       "      <td>8090</td>\n",
       "      <td>103</td>\n",
       "      <td>0</td>\n",
       "      <td>28</td>\n",
       "      <td>10</td>\n",
       "      <td>9</td>\n",
       "      <td>19</td>\n",
       "      <td>456</td>\n",
       "      <td>...</td>\n",
       "      <td>2197</td>\n",
       "      <td>0</td>\n",
       "      <td>3</td>\n",
       "      <td>217</td>\n",
       "      <td>14</td>\n",
       "      <td>844</td>\n",
       "      <td>50648</td>\n",
       "      <td>1</td>\n",
       "      <td>107</td>\n",
       "      <td>6478</td>\n",
       "    </tr>\n",
       "    <tr>\n",
       "      <th>2</th>\n",
       "      <td>u17</td>\n",
       "      <td>2013-04-11 16:53:00</td>\n",
       "      <td>7808</td>\n",
       "      <td>362</td>\n",
       "      <td>15</td>\n",
       "      <td>78</td>\n",
       "      <td>7</td>\n",
       "      <td>6</td>\n",
       "      <td>8</td>\n",
       "      <td>372</td>\n",
       "      <td>...</td>\n",
       "      <td>3789</td>\n",
       "      <td>0</td>\n",
       "      <td>4</td>\n",
       "      <td>244</td>\n",
       "      <td>12</td>\n",
       "      <td>774</td>\n",
       "      <td>46467</td>\n",
       "      <td>0</td>\n",
       "      <td>0</td>\n",
       "      <td>0</td>\n",
       "    </tr>\n",
       "    <tr>\n",
       "      <th>3</th>\n",
       "      <td>u17</td>\n",
       "      <td>2013-04-14 15:33:00</td>\n",
       "      <td>8181</td>\n",
       "      <td>117</td>\n",
       "      <td>0</td>\n",
       "      <td>29</td>\n",
       "      <td>6</td>\n",
       "      <td>6</td>\n",
       "      <td>6</td>\n",
       "      <td>895</td>\n",
       "      <td>...</td>\n",
       "      <td>6022</td>\n",
       "      <td>0</td>\n",
       "      <td>1</td>\n",
       "      <td>118</td>\n",
       "      <td>18</td>\n",
       "      <td>1086</td>\n",
       "      <td>65194</td>\n",
       "      <td>5</td>\n",
       "      <td>336</td>\n",
       "      <td>20179</td>\n",
       "    </tr>\n",
       "    <tr>\n",
       "      <th>4</th>\n",
       "      <td>u17</td>\n",
       "      <td>2013-04-15 14:07:00</td>\n",
       "      <td>7413</td>\n",
       "      <td>572</td>\n",
       "      <td>83</td>\n",
       "      <td>158</td>\n",
       "      <td>15</td>\n",
       "      <td>14</td>\n",
       "      <td>22</td>\n",
       "      <td>608</td>\n",
       "      <td>...</td>\n",
       "      <td>7129</td>\n",
       "      <td>0</td>\n",
       "      <td>7</td>\n",
       "      <td>450</td>\n",
       "      <td>10</td>\n",
       "      <td>625</td>\n",
       "      <td>37535</td>\n",
       "      <td>10</td>\n",
       "      <td>621</td>\n",
       "      <td>37275</td>\n",
       "    </tr>\n",
       "  </tbody>\n",
       "</table>\n",
       "<p>5 rows × 25 columns</p>\n",
       "</div>"
      ],
      "text/plain": [
       "  user_id           date_time  activity_inf_stationary_count  \\\n",
       "0     u17 2013-03-28 15:08:00                           7712   \n",
       "1     u17 2013-03-30 16:06:00                           8090   \n",
       "2     u17 2013-04-11 16:53:00                           7808   \n",
       "3     u17 2013-04-14 15:33:00                           8181   \n",
       "4     u17 2013-04-15 14:07:00                           7413   \n",
       "\n",
       "   activity_inf_walking_count  activity_inf_running_count  \\\n",
       "0                         372                          64   \n",
       "1                         103                           0   \n",
       "2                         362                          15   \n",
       "3                         117                           0   \n",
       "4                         572                          83   \n",
       "\n",
       "   activity_inf_unknown_count  app_usage_baseActivity_mClass  \\\n",
       "0                         105                              6   \n",
       "1                          28                             10   \n",
       "2                          78                              7   \n",
       "3                          29                              6   \n",
       "4                         158                             15   \n",
       "\n",
       "   app_usage_baseActivity_mPackage  app_usage_baseActivity_id_count  \\\n",
       "0                                6                               10   \n",
       "1                                9                               19   \n",
       "2                                6                                8   \n",
       "3                                6                                6   \n",
       "4                               14                               22   \n",
       "\n",
       "   app_usage_baseActivity_numActivities  ...  audio_inf_noise_count  \\\n",
       "0                                   295  ...                   3073   \n",
       "1                                   456  ...                   2197   \n",
       "2                                   372  ...                   3789   \n",
       "3                                   895  ...                   6022   \n",
       "4                                   608  ...                   7129   \n",
       "\n",
       "   audio_inf_unknown_count  conversation_hours  conversation_minutes  \\\n",
       "0                        0                   4                   260   \n",
       "1                        0                   3                   217   \n",
       "2                        0                   4                   244   \n",
       "3                        0                   1                   118   \n",
       "4                        0                   7                   450   \n",
       "\n",
       "   dark_hours  dark_minutes  dark_seconds  phonecharge_hours  \\\n",
       "0           7           455         27345                  0   \n",
       "1          14           844         50648                  1   \n",
       "2          12           774         46467                  0   \n",
       "3          18          1086         65194                  5   \n",
       "4          10           625         37535                 10   \n",
       "\n",
       "   phonecharge_minutes  phonecharge_seconds  \n",
       "0                    0                    0  \n",
       "1                  107                 6478  \n",
       "2                    0                    0  \n",
       "3                  336                20179  \n",
       "4                  621                37275  \n",
       "\n",
       "[5 rows x 25 columns]"
      ]
     },
     "execution_count": 229,
     "metadata": {},
     "output_type": "execute_result"
    }
   ],
   "source": [
    "merged_sensing_df = merged_sensing_df.merge(phonecharge_df,on=['user_id','date_time'])\n",
    "\n",
    "merged_sensing_df.head()"
   ]
  },
  {
   "cell_type": "code",
   "execution_count": 230,
   "metadata": {},
   "outputs": [
    {
     "data": {
      "text/html": [
       "<div>\n",
       "<style scoped>\n",
       "    .dataframe tbody tr th:only-of-type {\n",
       "        vertical-align: middle;\n",
       "    }\n",
       "\n",
       "    .dataframe tbody tr th {\n",
       "        vertical-align: top;\n",
       "    }\n",
       "\n",
       "    .dataframe thead th {\n",
       "        text-align: right;\n",
       "    }\n",
       "</style>\n",
       "<table border=\"1\" class=\"dataframe\">\n",
       "  <thead>\n",
       "    <tr style=\"text-align: right;\">\n",
       "      <th></th>\n",
       "      <th>user_id</th>\n",
       "      <th>date_time</th>\n",
       "      <th>activity_inf_stationary_count</th>\n",
       "      <th>activity_inf_walking_count</th>\n",
       "      <th>activity_inf_running_count</th>\n",
       "      <th>activity_inf_unknown_count</th>\n",
       "      <th>app_usage_baseActivity_mClass</th>\n",
       "      <th>app_usage_baseActivity_mPackage</th>\n",
       "      <th>app_usage_baseActivity_id_count</th>\n",
       "      <th>app_usage_baseActivity_numActivities</th>\n",
       "      <th>...</th>\n",
       "      <th>conversation_minutes</th>\n",
       "      <th>dark_hours</th>\n",
       "      <th>dark_minutes</th>\n",
       "      <th>dark_seconds</th>\n",
       "      <th>phonecharge_hours</th>\n",
       "      <th>phonecharge_minutes</th>\n",
       "      <th>phonecharge_seconds</th>\n",
       "      <th>phonelock_hours</th>\n",
       "      <th>phonelock_minutes</th>\n",
       "      <th>phonelock_seconds</th>\n",
       "    </tr>\n",
       "  </thead>\n",
       "  <tbody>\n",
       "    <tr>\n",
       "      <th>0</th>\n",
       "      <td>u17</td>\n",
       "      <td>2013-03-28 15:08:00</td>\n",
       "      <td>7712</td>\n",
       "      <td>372</td>\n",
       "      <td>64</td>\n",
       "      <td>105</td>\n",
       "      <td>6</td>\n",
       "      <td>6</td>\n",
       "      <td>10</td>\n",
       "      <td>295</td>\n",
       "      <td>...</td>\n",
       "      <td>260</td>\n",
       "      <td>7</td>\n",
       "      <td>455</td>\n",
       "      <td>27345</td>\n",
       "      <td>0</td>\n",
       "      <td>0</td>\n",
       "      <td>0</td>\n",
       "      <td>7</td>\n",
       "      <td>455</td>\n",
       "      <td>27316</td>\n",
       "    </tr>\n",
       "    <tr>\n",
       "      <th>1</th>\n",
       "      <td>u17</td>\n",
       "      <td>2013-03-30 16:06:00</td>\n",
       "      <td>8090</td>\n",
       "      <td>103</td>\n",
       "      <td>0</td>\n",
       "      <td>28</td>\n",
       "      <td>10</td>\n",
       "      <td>9</td>\n",
       "      <td>19</td>\n",
       "      <td>456</td>\n",
       "      <td>...</td>\n",
       "      <td>217</td>\n",
       "      <td>14</td>\n",
       "      <td>844</td>\n",
       "      <td>50648</td>\n",
       "      <td>1</td>\n",
       "      <td>107</td>\n",
       "      <td>6478</td>\n",
       "      <td>17</td>\n",
       "      <td>1071</td>\n",
       "      <td>64301</td>\n",
       "    </tr>\n",
       "    <tr>\n",
       "      <th>2</th>\n",
       "      <td>u17</td>\n",
       "      <td>2013-04-11 16:53:00</td>\n",
       "      <td>7808</td>\n",
       "      <td>362</td>\n",
       "      <td>15</td>\n",
       "      <td>78</td>\n",
       "      <td>7</td>\n",
       "      <td>6</td>\n",
       "      <td>8</td>\n",
       "      <td>372</td>\n",
       "      <td>...</td>\n",
       "      <td>244</td>\n",
       "      <td>12</td>\n",
       "      <td>774</td>\n",
       "      <td>46467</td>\n",
       "      <td>0</td>\n",
       "      <td>0</td>\n",
       "      <td>0</td>\n",
       "      <td>14</td>\n",
       "      <td>871</td>\n",
       "      <td>52316</td>\n",
       "    </tr>\n",
       "    <tr>\n",
       "      <th>3</th>\n",
       "      <td>u17</td>\n",
       "      <td>2013-04-14 15:33:00</td>\n",
       "      <td>8181</td>\n",
       "      <td>117</td>\n",
       "      <td>0</td>\n",
       "      <td>29</td>\n",
       "      <td>6</td>\n",
       "      <td>6</td>\n",
       "      <td>6</td>\n",
       "      <td>895</td>\n",
       "      <td>...</td>\n",
       "      <td>118</td>\n",
       "      <td>18</td>\n",
       "      <td>1086</td>\n",
       "      <td>65194</td>\n",
       "      <td>5</td>\n",
       "      <td>336</td>\n",
       "      <td>20179</td>\n",
       "      <td>16</td>\n",
       "      <td>1006</td>\n",
       "      <td>60406</td>\n",
       "    </tr>\n",
       "    <tr>\n",
       "      <th>4</th>\n",
       "      <td>u17</td>\n",
       "      <td>2013-04-15 14:07:00</td>\n",
       "      <td>7413</td>\n",
       "      <td>572</td>\n",
       "      <td>83</td>\n",
       "      <td>158</td>\n",
       "      <td>15</td>\n",
       "      <td>14</td>\n",
       "      <td>22</td>\n",
       "      <td>608</td>\n",
       "      <td>...</td>\n",
       "      <td>450</td>\n",
       "      <td>10</td>\n",
       "      <td>625</td>\n",
       "      <td>37535</td>\n",
       "      <td>10</td>\n",
       "      <td>621</td>\n",
       "      <td>37275</td>\n",
       "      <td>10</td>\n",
       "      <td>659</td>\n",
       "      <td>39568</td>\n",
       "    </tr>\n",
       "  </tbody>\n",
       "</table>\n",
       "<p>5 rows × 28 columns</p>\n",
       "</div>"
      ],
      "text/plain": [
       "  user_id           date_time  activity_inf_stationary_count  \\\n",
       "0     u17 2013-03-28 15:08:00                           7712   \n",
       "1     u17 2013-03-30 16:06:00                           8090   \n",
       "2     u17 2013-04-11 16:53:00                           7808   \n",
       "3     u17 2013-04-14 15:33:00                           8181   \n",
       "4     u17 2013-04-15 14:07:00                           7413   \n",
       "\n",
       "   activity_inf_walking_count  activity_inf_running_count  \\\n",
       "0                         372                          64   \n",
       "1                         103                           0   \n",
       "2                         362                          15   \n",
       "3                         117                           0   \n",
       "4                         572                          83   \n",
       "\n",
       "   activity_inf_unknown_count  app_usage_baseActivity_mClass  \\\n",
       "0                         105                              6   \n",
       "1                          28                             10   \n",
       "2                          78                              7   \n",
       "3                          29                              6   \n",
       "4                         158                             15   \n",
       "\n",
       "   app_usage_baseActivity_mPackage  app_usage_baseActivity_id_count  \\\n",
       "0                                6                               10   \n",
       "1                                9                               19   \n",
       "2                                6                                8   \n",
       "3                                6                                6   \n",
       "4                               14                               22   \n",
       "\n",
       "   app_usage_baseActivity_numActivities  ...  conversation_minutes  \\\n",
       "0                                   295  ...                   260   \n",
       "1                                   456  ...                   217   \n",
       "2                                   372  ...                   244   \n",
       "3                                   895  ...                   118   \n",
       "4                                   608  ...                   450   \n",
       "\n",
       "   dark_hours  dark_minutes  dark_seconds  phonecharge_hours  \\\n",
       "0           7           455         27345                  0   \n",
       "1          14           844         50648                  1   \n",
       "2          12           774         46467                  0   \n",
       "3          18          1086         65194                  5   \n",
       "4          10           625         37535                 10   \n",
       "\n",
       "   phonecharge_minutes  phonecharge_seconds  phonelock_hours  \\\n",
       "0                    0                    0                7   \n",
       "1                  107                 6478               17   \n",
       "2                    0                    0               14   \n",
       "3                  336                20179               16   \n",
       "4                  621                37275               10   \n",
       "\n",
       "   phonelock_minutes  phonelock_seconds  \n",
       "0                455              27316  \n",
       "1               1071              64301  \n",
       "2                871              52316  \n",
       "3               1006              60406  \n",
       "4                659              39568  \n",
       "\n",
       "[5 rows x 28 columns]"
      ]
     },
     "execution_count": 230,
     "metadata": {},
     "output_type": "execute_result"
    }
   ],
   "source": [
    "merged_sensing_df = merged_sensing_df.merge(phonelock_df,on=['user_id','date_time'])\n",
    "\n",
    "merged_sensing_df.head()"
   ]
  },
  {
   "cell_type": "code",
   "execution_count": null,
   "metadata": {},
   "outputs": [],
   "source": []
  },
  {
   "cell_type": "code",
   "execution_count": null,
   "metadata": {},
   "outputs": [],
   "source": []
  },
  {
   "cell_type": "code",
   "execution_count": null,
   "metadata": {},
   "outputs": [],
   "source": []
  },
  {
   "cell_type": "code",
   "execution_count": 139,
   "metadata": {},
   "outputs": [
    {
     "data": {
      "text/plain": [
       "Index(['start_timestamp', ' end_timestamp', 'conv_dur'], dtype='object')"
      ]
     },
     "execution_count": 139,
     "metadata": {},
     "output_type": "execute_result"
    }
   ],
   "source": [
    "tmp_df.columns"
   ]
  },
  {
   "cell_type": "code",
   "execution_count": 140,
   "metadata": {},
   "outputs": [
    {
     "data": {
      "text/html": [
       "<div>\n",
       "<style scoped>\n",
       "    .dataframe tbody tr th:only-of-type {\n",
       "        vertical-align: middle;\n",
       "    }\n",
       "\n",
       "    .dataframe tbody tr th {\n",
       "        vertical-align: top;\n",
       "    }\n",
       "\n",
       "    .dataframe thead th {\n",
       "        text-align: right;\n",
       "    }\n",
       "</style>\n",
       "<table border=\"1\" class=\"dataframe\">\n",
       "  <thead>\n",
       "    <tr style=\"text-align: right;\">\n",
       "      <th></th>\n",
       "      <th>start_timestamp</th>\n",
       "      <th>end_timestamp</th>\n",
       "      <th>conv_dur</th>\n",
       "    </tr>\n",
       "  </thead>\n",
       "  <tbody>\n",
       "    <tr>\n",
       "      <th>0</th>\n",
       "      <td>2013-03-26 21:15:17</td>\n",
       "      <td>2013-03-26 21:16:28</td>\n",
       "      <td>0 days 00:01:11</td>\n",
       "    </tr>\n",
       "    <tr>\n",
       "      <th>1</th>\n",
       "      <td>2013-03-26 21:40:40</td>\n",
       "      <td>2013-03-26 21:43:11</td>\n",
       "      <td>0 days 00:02:31</td>\n",
       "    </tr>\n",
       "    <tr>\n",
       "      <th>2</th>\n",
       "      <td>2013-03-26 21:51:13</td>\n",
       "      <td>2013-03-26 21:54:44</td>\n",
       "      <td>0 days 00:03:31</td>\n",
       "    </tr>\n",
       "    <tr>\n",
       "      <th>3</th>\n",
       "      <td>2013-03-26 22:02:15</td>\n",
       "      <td>2013-03-26 22:06:07</td>\n",
       "      <td>0 days 00:03:52</td>\n",
       "    </tr>\n",
       "    <tr>\n",
       "      <th>4</th>\n",
       "      <td>2013-03-27 06:54:57</td>\n",
       "      <td>2013-03-27 07:11:45</td>\n",
       "      <td>0 days 00:16:48</td>\n",
       "    </tr>\n",
       "  </tbody>\n",
       "</table>\n",
       "</div>"
      ],
      "text/plain": [
       "      start_timestamp       end_timestamp        conv_dur\n",
       "0 2013-03-26 21:15:17 2013-03-26 21:16:28 0 days 00:01:11\n",
       "1 2013-03-26 21:40:40 2013-03-26 21:43:11 0 days 00:02:31\n",
       "2 2013-03-26 21:51:13 2013-03-26 21:54:44 0 days 00:03:31\n",
       "3 2013-03-26 22:02:15 2013-03-26 22:06:07 0 days 00:03:52\n",
       "4 2013-03-27 06:54:57 2013-03-27 07:11:45 0 days 00:16:48"
      ]
     },
     "execution_count": 140,
     "metadata": {},
     "output_type": "execute_result"
    }
   ],
   "source": [
    "tmp_df.head()"
   ]
  },
  {
   "cell_type": "code",
   "execution_count": 141,
   "metadata": {},
   "outputs": [
    {
     "data": {
      "text/plain": [
       "(Timestamp('2013-03-25 19:04:00'), Timestamp('2013-03-26 19:04:00'))"
      ]
     },
     "execution_count": 141,
     "metadata": {},
     "output_type": "execute_result"
    }
   ],
   "source": [
    "time_a,time_b"
   ]
  },
  {
   "cell_type": "code",
   "execution_count": 142,
   "metadata": {},
   "outputs": [
    {
     "data": {
      "text/html": [
       "<div>\n",
       "<style scoped>\n",
       "    .dataframe tbody tr th:only-of-type {\n",
       "        vertical-align: middle;\n",
       "    }\n",
       "\n",
       "    .dataframe tbody tr th {\n",
       "        vertical-align: top;\n",
       "    }\n",
       "\n",
       "    .dataframe thead th {\n",
       "        text-align: right;\n",
       "    }\n",
       "</style>\n",
       "<table border=\"1\" class=\"dataframe\">\n",
       "  <thead>\n",
       "    <tr style=\"text-align: right;\">\n",
       "      <th></th>\n",
       "      <th>start_timestamp</th>\n",
       "      <th>end_timestamp</th>\n",
       "      <th>conv_dur</th>\n",
       "    </tr>\n",
       "  </thead>\n",
       "  <tbody>\n",
       "    <tr>\n",
       "      <th>0</th>\n",
       "      <td>2013-03-26 21:15:17</td>\n",
       "      <td>2013-03-26 21:16:28</td>\n",
       "      <td>0 days 00:01:11</td>\n",
       "    </tr>\n",
       "    <tr>\n",
       "      <th>1</th>\n",
       "      <td>2013-03-26 21:40:40</td>\n",
       "      <td>2013-03-26 21:43:11</td>\n",
       "      <td>0 days 00:02:31</td>\n",
       "    </tr>\n",
       "    <tr>\n",
       "      <th>2</th>\n",
       "      <td>2013-03-26 21:51:13</td>\n",
       "      <td>2013-03-26 21:54:44</td>\n",
       "      <td>0 days 00:03:31</td>\n",
       "    </tr>\n",
       "    <tr>\n",
       "      <th>3</th>\n",
       "      <td>2013-03-26 22:02:15</td>\n",
       "      <td>2013-03-26 22:06:07</td>\n",
       "      <td>0 days 00:03:52</td>\n",
       "    </tr>\n",
       "    <tr>\n",
       "      <th>4</th>\n",
       "      <td>2013-03-27 06:54:57</td>\n",
       "      <td>2013-03-27 07:11:45</td>\n",
       "      <td>0 days 00:16:48</td>\n",
       "    </tr>\n",
       "    <tr>\n",
       "      <th>...</th>\n",
       "      <td>...</td>\n",
       "      <td>...</td>\n",
       "      <td>...</td>\n",
       "    </tr>\n",
       "    <tr>\n",
       "      <th>2555</th>\n",
       "      <td>2013-05-29 03:11:03</td>\n",
       "      <td>2013-05-29 03:33:37</td>\n",
       "      <td>0 days 00:22:34</td>\n",
       "    </tr>\n",
       "    <tr>\n",
       "      <th>2556</th>\n",
       "      <td>2013-05-29 03:36:47</td>\n",
       "      <td>2013-05-29 03:42:40</td>\n",
       "      <td>0 days 00:05:53</td>\n",
       "    </tr>\n",
       "    <tr>\n",
       "      <th>2557</th>\n",
       "      <td>2013-05-29 03:47:11</td>\n",
       "      <td>2013-05-29 03:48:32</td>\n",
       "      <td>0 days 00:01:21</td>\n",
       "    </tr>\n",
       "    <tr>\n",
       "      <th>2558</th>\n",
       "      <td>2013-05-29 03:51:52</td>\n",
       "      <td>2013-05-29 04:04:08</td>\n",
       "      <td>0 days 00:12:16</td>\n",
       "    </tr>\n",
       "    <tr>\n",
       "      <th>2559</th>\n",
       "      <td>2013-05-29 04:08:09</td>\n",
       "      <td>2013-05-29 04:11:41</td>\n",
       "      <td>0 days 00:03:32</td>\n",
       "    </tr>\n",
       "  </tbody>\n",
       "</table>\n",
       "<p>2560 rows × 3 columns</p>\n",
       "</div>"
      ],
      "text/plain": [
       "         start_timestamp       end_timestamp        conv_dur\n",
       "0    2013-03-26 21:15:17 2013-03-26 21:16:28 0 days 00:01:11\n",
       "1    2013-03-26 21:40:40 2013-03-26 21:43:11 0 days 00:02:31\n",
       "2    2013-03-26 21:51:13 2013-03-26 21:54:44 0 days 00:03:31\n",
       "3    2013-03-26 22:02:15 2013-03-26 22:06:07 0 days 00:03:52\n",
       "4    2013-03-27 06:54:57 2013-03-27 07:11:45 0 days 00:16:48\n",
       "...                  ...                 ...             ...\n",
       "2555 2013-05-29 03:11:03 2013-05-29 03:33:37 0 days 00:22:34\n",
       "2556 2013-05-29 03:36:47 2013-05-29 03:42:40 0 days 00:05:53\n",
       "2557 2013-05-29 03:47:11 2013-05-29 03:48:32 0 days 00:01:21\n",
       "2558 2013-05-29 03:51:52 2013-05-29 04:04:08 0 days 00:12:16\n",
       "2559 2013-05-29 04:08:09 2013-05-29 04:11:41 0 days 00:03:32\n",
       "\n",
       "[2560 rows x 3 columns]"
      ]
     },
     "execution_count": 142,
     "metadata": {},
     "output_type": "execute_result"
    }
   ],
   "source": [
    "tmp_df[time_a < tmp_df.start_timestamp]"
   ]
  },
  {
   "cell_type": "code",
   "execution_count": 143,
   "metadata": {},
   "outputs": [
    {
     "data": {
      "text/html": [
       "<div>\n",
       "<style scoped>\n",
       "    .dataframe tbody tr th:only-of-type {\n",
       "        vertical-align: middle;\n",
       "    }\n",
       "\n",
       "    .dataframe tbody tr th {\n",
       "        vertical-align: top;\n",
       "    }\n",
       "\n",
       "    .dataframe thead th {\n",
       "        text-align: right;\n",
       "    }\n",
       "</style>\n",
       "<table border=\"1\" class=\"dataframe\">\n",
       "  <thead>\n",
       "    <tr style=\"text-align: right;\">\n",
       "      <th></th>\n",
       "      <th>start_timestamp</th>\n",
       "      <th>end_timestamp</th>\n",
       "      <th>conv_dur</th>\n",
       "    </tr>\n",
       "  </thead>\n",
       "  <tbody>\n",
       "    <tr>\n",
       "      <th>0</th>\n",
       "      <td>2013-03-26 21:15:17</td>\n",
       "      <td>2013-03-26 21:16:28</td>\n",
       "      <td>0 days 00:01:11</td>\n",
       "    </tr>\n",
       "    <tr>\n",
       "      <th>1</th>\n",
       "      <td>2013-03-26 21:40:40</td>\n",
       "      <td>2013-03-26 21:43:11</td>\n",
       "      <td>0 days 00:02:31</td>\n",
       "    </tr>\n",
       "    <tr>\n",
       "      <th>2</th>\n",
       "      <td>2013-03-26 21:51:13</td>\n",
       "      <td>2013-03-26 21:54:44</td>\n",
       "      <td>0 days 00:03:31</td>\n",
       "    </tr>\n",
       "    <tr>\n",
       "      <th>3</th>\n",
       "      <td>2013-03-26 22:02:15</td>\n",
       "      <td>2013-03-26 22:06:07</td>\n",
       "      <td>0 days 00:03:52</td>\n",
       "    </tr>\n",
       "    <tr>\n",
       "      <th>4</th>\n",
       "      <td>2013-03-27 06:54:57</td>\n",
       "      <td>2013-03-27 07:11:45</td>\n",
       "      <td>0 days 00:16:48</td>\n",
       "    </tr>\n",
       "    <tr>\n",
       "      <th>...</th>\n",
       "      <td>...</td>\n",
       "      <td>...</td>\n",
       "      <td>...</td>\n",
       "    </tr>\n",
       "    <tr>\n",
       "      <th>2555</th>\n",
       "      <td>2013-05-29 03:11:03</td>\n",
       "      <td>2013-05-29 03:33:37</td>\n",
       "      <td>0 days 00:22:34</td>\n",
       "    </tr>\n",
       "    <tr>\n",
       "      <th>2556</th>\n",
       "      <td>2013-05-29 03:36:47</td>\n",
       "      <td>2013-05-29 03:42:40</td>\n",
       "      <td>0 days 00:05:53</td>\n",
       "    </tr>\n",
       "    <tr>\n",
       "      <th>2557</th>\n",
       "      <td>2013-05-29 03:47:11</td>\n",
       "      <td>2013-05-29 03:48:32</td>\n",
       "      <td>0 days 00:01:21</td>\n",
       "    </tr>\n",
       "    <tr>\n",
       "      <th>2558</th>\n",
       "      <td>2013-05-29 03:51:52</td>\n",
       "      <td>2013-05-29 04:04:08</td>\n",
       "      <td>0 days 00:12:16</td>\n",
       "    </tr>\n",
       "    <tr>\n",
       "      <th>2559</th>\n",
       "      <td>2013-05-29 04:08:09</td>\n",
       "      <td>2013-05-29 04:11:41</td>\n",
       "      <td>0 days 00:03:32</td>\n",
       "    </tr>\n",
       "  </tbody>\n",
       "</table>\n",
       "<p>2560 rows × 3 columns</p>\n",
       "</div>"
      ],
      "text/plain": [
       "         start_timestamp       end_timestamp        conv_dur\n",
       "0    2013-03-26 21:15:17 2013-03-26 21:16:28 0 days 00:01:11\n",
       "1    2013-03-26 21:40:40 2013-03-26 21:43:11 0 days 00:02:31\n",
       "2    2013-03-26 21:51:13 2013-03-26 21:54:44 0 days 00:03:31\n",
       "3    2013-03-26 22:02:15 2013-03-26 22:06:07 0 days 00:03:52\n",
       "4    2013-03-27 06:54:57 2013-03-27 07:11:45 0 days 00:16:48\n",
       "...                  ...                 ...             ...\n",
       "2555 2013-05-29 03:11:03 2013-05-29 03:33:37 0 days 00:22:34\n",
       "2556 2013-05-29 03:36:47 2013-05-29 03:42:40 0 days 00:05:53\n",
       "2557 2013-05-29 03:47:11 2013-05-29 03:48:32 0 days 00:01:21\n",
       "2558 2013-05-29 03:51:52 2013-05-29 04:04:08 0 days 00:12:16\n",
       "2559 2013-05-29 04:08:09 2013-05-29 04:11:41 0 days 00:03:32\n",
       "\n",
       "[2560 rows x 3 columns]"
      ]
     },
     "execution_count": 143,
     "metadata": {},
     "output_type": "execute_result"
    }
   ],
   "source": [
    "tmp_df[time_a < tmp_df.start_timestamp]"
   ]
  },
  {
   "cell_type": "code",
   "execution_count": 152,
   "metadata": {},
   "outputs": [
    {
     "data": {
      "text/plain": [
       "(Timedelta('0 days 07:38:31'), 458, 7)"
      ]
     },
     "execution_count": 152,
     "metadata": {},
     "output_type": "execute_result"
    }
   ],
   "source": [
    "slice_df['conv_dur'].sum(),slice_df['conv_dur'].sum().seconds//60 ,slice_df['conv_dur'].sum().seconds//3600 "
   ]
  },
  {
   "cell_type": "code",
   "execution_count": null,
   "metadata": {},
   "outputs": [],
   "source": []
  },
  {
   "cell_type": "code",
   "execution_count": 95,
   "metadata": {},
   "outputs": [
    {
     "data": {
      "text/plain": [
       "Index(['timestamp', ' activity inference'], dtype='object')"
      ]
     },
     "execution_count": 95,
     "metadata": {},
     "output_type": "execute_result"
    }
   ],
   "source": [
    "slice_df.columns"
   ]
  },
  {
   "cell_type": "code",
   "execution_count": 99,
   "metadata": {},
   "outputs": [
    {
     "data": {
      "text/plain": [
       "7712"
      ]
     },
     "execution_count": 99,
     "metadata": {},
     "output_type": "execute_result"
    }
   ],
   "source": [
    "dict(slice_df[' activity inference'].value_counts()).get(0)"
   ]
  },
  {
   "cell_type": "code",
   "execution_count": 101,
   "metadata": {},
   "outputs": [
    {
     "data": {
      "text/html": [
       "<div>\n",
       "<style scoped>\n",
       "    .dataframe tbody tr th:only-of-type {\n",
       "        vertical-align: middle;\n",
       "    }\n",
       "\n",
       "    .dataframe tbody tr th {\n",
       "        vertical-align: top;\n",
       "    }\n",
       "\n",
       "    .dataframe thead th {\n",
       "        text-align: right;\n",
       "    }\n",
       "</style>\n",
       "<table border=\"1\" class=\"dataframe\">\n",
       "  <thead>\n",
       "    <tr style=\"text-align: right;\">\n",
       "      <th></th>\n",
       "      <th>user_id</th>\n",
       "      <th>date_time</th>\n",
       "      <th>activity_inf_stationary_count</th>\n",
       "      <th>activity_inf_walking_count</th>\n",
       "      <th>activity_inf_running_count</th>\n",
       "      <th>activity_inf_unknown_count</th>\n",
       "    </tr>\n",
       "  </thead>\n",
       "  <tbody>\n",
       "    <tr>\n",
       "      <th>0</th>\n",
       "      <td>u17</td>\n",
       "      <td>2013-03-28 15:08:00</td>\n",
       "      <td>7712</td>\n",
       "      <td>372</td>\n",
       "      <td>64</td>\n",
       "      <td>105</td>\n",
       "    </tr>\n",
       "  </tbody>\n",
       "</table>\n",
       "</div>"
      ],
      "text/plain": [
       "  user_id           date_time  activity_inf_stationary_count  \\\n",
       "0     u17 2013-03-28 15:08:00                           7712   \n",
       "\n",
       "   activity_inf_walking_count  activity_inf_running_count  \\\n",
       "0                         372                          64   \n",
       "\n",
       "   activity_inf_unknown_count  \n",
       "0                         105  "
      ]
     },
     "execution_count": 101,
     "metadata": {},
     "output_type": "execute_result"
    }
   ],
   "source": [
    "pd.DataFrame(activity_di)"
   ]
  },
  {
   "cell_type": "code",
   "execution_count": 90,
   "metadata": {},
   "outputs": [
    {
     "name": "stdout",
     "output_type": "stream",
     "text": [
      "<class 'pandas.core.frame.DataFrame'>\n",
      "RangeIndex: 526248 entries, 0 to 526247\n",
      "Data columns (total 2 columns):\n",
      " #   Column               Non-Null Count   Dtype         \n",
      "---  ------               --------------   -----         \n",
      " 0   timestamp            526248 non-null  datetime64[ns]\n",
      " 1    activity inference  526248 non-null  int64         \n",
      "dtypes: datetime64[ns](1), int64(1)\n",
      "memory usage: 8.0 MB\n"
     ]
    }
   ],
   "source": [
    "tmp_df.info()"
   ]
  },
  {
   "cell_type": "code",
   "execution_count": null,
   "metadata": {},
   "outputs": [],
   "source": []
  },
  {
   "cell_type": "code",
   "execution_count": null,
   "metadata": {},
   "outputs": [],
   "source": []
  },
  {
   "cell_type": "code",
   "execution_count": 51,
   "metadata": {},
   "outputs": [
    {
     "name": "stdout",
     "output_type": "stream",
     "text": [
      "<class 'pandas.core.frame.DataFrame'>\n",
      "RangeIndex: 52526 entries, 0 to 52525\n",
      "Data columns (total 10 columns):\n",
      " #   Column                               Non-Null Count  Dtype         \n",
      "---  ------                               --------------  -----         \n",
      " 0   id                                   52526 non-null  object        \n",
      " 1   device                               52526 non-null  object        \n",
      " 2   timestamp                            52526 non-null  datetime64[ns]\n",
      " 3   RUNNING_TASKS_baseActivity_mClass    52526 non-null  object        \n",
      " 4   RUNNING_TASKS_baseActivity_mPackage  52526 non-null  object        \n",
      " 5   RUNNING_TASKS_id                     52526 non-null  int64         \n",
      " 6   RUNNING_TASKS_numActivities          52526 non-null  int64         \n",
      " 7   RUNNING_TASKS_numRunning             52526 non-null  int64         \n",
      " 8   RUNNING_TASKS_topActivity_mClass     52526 non-null  object        \n",
      " 9   RUNNING_TASKS_topActivity_mPackage   52526 non-null  object        \n",
      "dtypes: datetime64[ns](1), int64(3), object(6)\n",
      "memory usage: 4.0+ MB\n"
     ]
    }
   ],
   "source": [
    "tmp_df.info()"
   ]
  },
  {
   "cell_type": "code",
   "execution_count": 49,
   "metadata": {},
   "outputs": [
    {
     "data": {
      "text/plain": [
       "Timestamp('2013-03-27 16:51:00')"
      ]
     },
     "execution_count": 49,
     "metadata": {},
     "output_type": "execute_result"
    }
   ],
   "source": [
    "tmp_li[0]"
   ]
  },
  {
   "cell_type": "code",
   "execution_count": 48,
   "metadata": {},
   "outputs": [
    {
     "data": {
      "text/plain": [
       "Timestamp('2013-03-26 16:51:00')"
      ]
     },
     "execution_count": 48,
     "metadata": {},
     "output_type": "execute_result"
    }
   ],
   "source": [
    "tmp_li[0] - timedelta(days=1)"
   ]
  },
  {
   "cell_type": "code",
   "execution_count": 52,
   "metadata": {},
   "outputs": [],
   "source": [
    "for t in tmp_li:\n",
    "\n",
    "    a = t - timedelta(days=1)\n",
    "\n",
    "    tmp_df"
   ]
  },
  {
   "cell_type": "code",
   "execution_count": 53,
   "metadata": {},
   "outputs": [],
   "source": [
    "\n",
    "for time_b in tmp_li:\n",
    "    # print(time_a,time_b)\n",
    "    # if time_a == time_b:\n",
    "    #     print(time_a,time_b)\n",
    "    time_a = t - timedelta(days=1)\n",
    "    tmp_df[(time_a < tmp_df.timestamp) & (tmp_df.timestamp < time_b)]\n",
    "\n",
    "\n",
    "# tmp_df['timestamp']"
   ]
  },
  {
   "cell_type": "code",
   "execution_count": 56,
   "metadata": {},
   "outputs": [
    {
     "data": {
      "text/html": [
       "<div>\n",
       "<style scoped>\n",
       "    .dataframe tbody tr th:only-of-type {\n",
       "        vertical-align: middle;\n",
       "    }\n",
       "\n",
       "    .dataframe tbody tr th {\n",
       "        vertical-align: top;\n",
       "    }\n",
       "\n",
       "    .dataframe thead th {\n",
       "        text-align: right;\n",
       "    }\n",
       "</style>\n",
       "<table border=\"1\" class=\"dataframe\">\n",
       "  <thead>\n",
       "    <tr style=\"text-align: right;\">\n",
       "      <th></th>\n",
       "      <th>id</th>\n",
       "      <th>device</th>\n",
       "      <th>timestamp</th>\n",
       "      <th>RUNNING_TASKS_baseActivity_mClass</th>\n",
       "      <th>RUNNING_TASKS_baseActivity_mPackage</th>\n",
       "      <th>RUNNING_TASKS_id</th>\n",
       "      <th>RUNNING_TASKS_numActivities</th>\n",
       "      <th>RUNNING_TASKS_numRunning</th>\n",
       "      <th>RUNNING_TASKS_topActivity_mClass</th>\n",
       "      <th>RUNNING_TASKS_topActivity_mPackage</th>\n",
       "    </tr>\n",
       "  </thead>\n",
       "  <tbody>\n",
       "    <tr>\n",
       "      <th>49005</th>\n",
       "      <td>c7f14fae-0091-4dae-abb6-131e211b0aa5-25</td>\n",
       "      <td>b726971b-0950-4a03-8d04-d384063548cf</td>\n",
       "      <td>2013-05-27 01:09:31</td>\n",
       "      <td>com.google.android.apps.paco.PAM</td>\n",
       "      <td>com.google.android.apps.paco</td>\n",
       "      <td>8</td>\n",
       "      <td>1</td>\n",
       "      <td>1</td>\n",
       "      <td>com.google.android.apps.paco.PAM</td>\n",
       "      <td>com.google.android.apps.paco</td>\n",
       "    </tr>\n",
       "    <tr>\n",
       "      <th>49006</th>\n",
       "      <td>c7f14fae-0091-4dae-abb6-131e211b0aa5-25</td>\n",
       "      <td>b726971b-0950-4a03-8d04-d384063548cf</td>\n",
       "      <td>2013-05-27 01:09:31</td>\n",
       "      <td>com.android.launcher2.Launcher</td>\n",
       "      <td>com.android.launcher</td>\n",
       "      <td>2</td>\n",
       "      <td>1</td>\n",
       "      <td>1</td>\n",
       "      <td>com.android.launcher2.Launcher</td>\n",
       "      <td>com.android.launcher</td>\n",
       "    </tr>\n",
       "    <tr>\n",
       "      <th>49007</th>\n",
       "      <td>c7f14fae-0091-4dae-abb6-131e211b0aa5-25</td>\n",
       "      <td>b726971b-0950-4a03-8d04-d384063548cf</td>\n",
       "      <td>2013-05-27 01:09:31</td>\n",
       "      <td>com.google.android.gm.ConversationListActivity...</td>\n",
       "      <td>com.google.android.gm</td>\n",
       "      <td>9</td>\n",
       "      <td>1</td>\n",
       "      <td>1</td>\n",
       "      <td>com.google.android.gm.ConversationListActivity...</td>\n",
       "      <td>com.google.android.gm</td>\n",
       "    </tr>\n",
       "    <tr>\n",
       "      <th>49008</th>\n",
       "      <td>c7f14fae-0091-4dae-abb6-131e211b0aa5-25</td>\n",
       "      <td>b726971b-0950-4a03-8d04-d384063548cf</td>\n",
       "      <td>2013-05-27 01:09:31</td>\n",
       "      <td>com.android.mms.ui.ConversationList</td>\n",
       "      <td>com.android.mms</td>\n",
       "      <td>7</td>\n",
       "      <td>1</td>\n",
       "      <td>1</td>\n",
       "      <td>com.android.mms.ui.ConversationList</td>\n",
       "      <td>com.android.mms</td>\n",
       "    </tr>\n",
       "    <tr>\n",
       "      <th>49009</th>\n",
       "      <td>c7f14fae-0091-4dae-abb6-131e211b0aa5-25</td>\n",
       "      <td>b726971b-0950-4a03-8d04-d384063548cf</td>\n",
       "      <td>2013-05-27 01:09:31</td>\n",
       "      <td>com.android.deskclock.DeskClock</td>\n",
       "      <td>com.google.android.deskclock</td>\n",
       "      <td>6</td>\n",
       "      <td>1</td>\n",
       "      <td>1</td>\n",
       "      <td>com.android.deskclock.DeskClock</td>\n",
       "      <td>com.google.android.deskclock</td>\n",
       "    </tr>\n",
       "    <tr>\n",
       "      <th>...</th>\n",
       "      <td>...</td>\n",
       "      <td>...</td>\n",
       "      <td>...</td>\n",
       "      <td>...</td>\n",
       "      <td>...</td>\n",
       "      <td>...</td>\n",
       "      <td>...</td>\n",
       "      <td>...</td>\n",
       "      <td>...</td>\n",
       "      <td>...</td>\n",
       "    </tr>\n",
       "    <tr>\n",
       "      <th>49861</th>\n",
       "      <td>c20654f7-b519-430c-84a9-6347d467140e-52</td>\n",
       "      <td>b726971b-0950-4a03-8d04-d384063548cf</td>\n",
       "      <td>2013-05-27 07:49:31</td>\n",
       "      <td>com.google.android.gm.ConversationListActivity...</td>\n",
       "      <td>com.google.android.gm</td>\n",
       "      <td>9</td>\n",
       "      <td>1</td>\n",
       "      <td>1</td>\n",
       "      <td>com.google.android.gm.ConversationListActivity...</td>\n",
       "      <td>com.google.android.gm</td>\n",
       "    </tr>\n",
       "    <tr>\n",
       "      <th>49862</th>\n",
       "      <td>c20654f7-b519-430c-84a9-6347d467140e-52</td>\n",
       "      <td>b726971b-0950-4a03-8d04-d384063548cf</td>\n",
       "      <td>2013-05-27 07:49:31</td>\n",
       "      <td>com.android.mms.ui.ConversationList</td>\n",
       "      <td>com.android.mms</td>\n",
       "      <td>7</td>\n",
       "      <td>1</td>\n",
       "      <td>1</td>\n",
       "      <td>com.android.mms.ui.ConversationList</td>\n",
       "      <td>com.android.mms</td>\n",
       "    </tr>\n",
       "    <tr>\n",
       "      <th>49863</th>\n",
       "      <td>c20654f7-b519-430c-84a9-6347d467140e-52</td>\n",
       "      <td>b726971b-0950-4a03-8d04-d384063548cf</td>\n",
       "      <td>2013-05-27 07:49:31</td>\n",
       "      <td>com.android.deskclock.DeskClock</td>\n",
       "      <td>com.google.android.deskclock</td>\n",
       "      <td>6</td>\n",
       "      <td>1</td>\n",
       "      <td>1</td>\n",
       "      <td>com.android.deskclock.DeskClock</td>\n",
       "      <td>com.google.android.deskclock</td>\n",
       "    </tr>\n",
       "    <tr>\n",
       "      <th>49864</th>\n",
       "      <td>c20654f7-b519-430c-84a9-6347d467140e-52</td>\n",
       "      <td>b726971b-0950-4a03-8d04-d384063548cf</td>\n",
       "      <td>2013-05-27 07:49:31</td>\n",
       "      <td>com.google.android.apps.genie.geniewidget.acti...</td>\n",
       "      <td>com.google.android.apps.genie.geniewidget</td>\n",
       "      <td>5</td>\n",
       "      <td>1</td>\n",
       "      <td>1</td>\n",
       "      <td>com.google.android.apps.genie.geniewidget.acti...</td>\n",
       "      <td>com.google.android.apps.genie.geniewidget</td>\n",
       "    </tr>\n",
       "    <tr>\n",
       "      <th>49865</th>\n",
       "      <td>c20654f7-b519-430c-84a9-6347d467140e-52</td>\n",
       "      <td>b726971b-0950-4a03-8d04-d384063548cf</td>\n",
       "      <td>2013-05-27 07:49:31</td>\n",
       "      <td>com.android.settings.Settings</td>\n",
       "      <td>com.android.settings</td>\n",
       "      <td>3</td>\n",
       "      <td>1</td>\n",
       "      <td>1</td>\n",
       "      <td>com.android.settings.Settings</td>\n",
       "      <td>com.android.settings</td>\n",
       "    </tr>\n",
       "  </tbody>\n",
       "</table>\n",
       "<p>504 rows × 10 columns</p>\n",
       "</div>"
      ],
      "text/plain": [
       "                                            id  \\\n",
       "49005  c7f14fae-0091-4dae-abb6-131e211b0aa5-25   \n",
       "49006  c7f14fae-0091-4dae-abb6-131e211b0aa5-25   \n",
       "49007  c7f14fae-0091-4dae-abb6-131e211b0aa5-25   \n",
       "49008  c7f14fae-0091-4dae-abb6-131e211b0aa5-25   \n",
       "49009  c7f14fae-0091-4dae-abb6-131e211b0aa5-25   \n",
       "...                                        ...   \n",
       "49861  c20654f7-b519-430c-84a9-6347d467140e-52   \n",
       "49862  c20654f7-b519-430c-84a9-6347d467140e-52   \n",
       "49863  c20654f7-b519-430c-84a9-6347d467140e-52   \n",
       "49864  c20654f7-b519-430c-84a9-6347d467140e-52   \n",
       "49865  c20654f7-b519-430c-84a9-6347d467140e-52   \n",
       "\n",
       "                                     device           timestamp  \\\n",
       "49005  b726971b-0950-4a03-8d04-d384063548cf 2013-05-27 01:09:31   \n",
       "49006  b726971b-0950-4a03-8d04-d384063548cf 2013-05-27 01:09:31   \n",
       "49007  b726971b-0950-4a03-8d04-d384063548cf 2013-05-27 01:09:31   \n",
       "49008  b726971b-0950-4a03-8d04-d384063548cf 2013-05-27 01:09:31   \n",
       "49009  b726971b-0950-4a03-8d04-d384063548cf 2013-05-27 01:09:31   \n",
       "...                                     ...                 ...   \n",
       "49861  b726971b-0950-4a03-8d04-d384063548cf 2013-05-27 07:49:31   \n",
       "49862  b726971b-0950-4a03-8d04-d384063548cf 2013-05-27 07:49:31   \n",
       "49863  b726971b-0950-4a03-8d04-d384063548cf 2013-05-27 07:49:31   \n",
       "49864  b726971b-0950-4a03-8d04-d384063548cf 2013-05-27 07:49:31   \n",
       "49865  b726971b-0950-4a03-8d04-d384063548cf 2013-05-27 07:49:31   \n",
       "\n",
       "                       RUNNING_TASKS_baseActivity_mClass  \\\n",
       "49005                   com.google.android.apps.paco.PAM   \n",
       "49006                     com.android.launcher2.Launcher   \n",
       "49007  com.google.android.gm.ConversationListActivity...   \n",
       "49008                com.android.mms.ui.ConversationList   \n",
       "49009                    com.android.deskclock.DeskClock   \n",
       "...                                                  ...   \n",
       "49861  com.google.android.gm.ConversationListActivity...   \n",
       "49862                com.android.mms.ui.ConversationList   \n",
       "49863                    com.android.deskclock.DeskClock   \n",
       "49864  com.google.android.apps.genie.geniewidget.acti...   \n",
       "49865                      com.android.settings.Settings   \n",
       "\n",
       "             RUNNING_TASKS_baseActivity_mPackage  RUNNING_TASKS_id  \\\n",
       "49005               com.google.android.apps.paco                 8   \n",
       "49006                       com.android.launcher                 2   \n",
       "49007                      com.google.android.gm                 9   \n",
       "49008                            com.android.mms                 7   \n",
       "49009               com.google.android.deskclock                 6   \n",
       "...                                          ...               ...   \n",
       "49861                      com.google.android.gm                 9   \n",
       "49862                            com.android.mms                 7   \n",
       "49863               com.google.android.deskclock                 6   \n",
       "49864  com.google.android.apps.genie.geniewidget                 5   \n",
       "49865                       com.android.settings                 3   \n",
       "\n",
       "       RUNNING_TASKS_numActivities  RUNNING_TASKS_numRunning  \\\n",
       "49005                            1                         1   \n",
       "49006                            1                         1   \n",
       "49007                            1                         1   \n",
       "49008                            1                         1   \n",
       "49009                            1                         1   \n",
       "...                            ...                       ...   \n",
       "49861                            1                         1   \n",
       "49862                            1                         1   \n",
       "49863                            1                         1   \n",
       "49864                            1                         1   \n",
       "49865                            1                         1   \n",
       "\n",
       "                        RUNNING_TASKS_topActivity_mClass  \\\n",
       "49005                   com.google.android.apps.paco.PAM   \n",
       "49006                     com.android.launcher2.Launcher   \n",
       "49007  com.google.android.gm.ConversationListActivity...   \n",
       "49008                com.android.mms.ui.ConversationList   \n",
       "49009                    com.android.deskclock.DeskClock   \n",
       "...                                                  ...   \n",
       "49861  com.google.android.gm.ConversationListActivity...   \n",
       "49862                com.android.mms.ui.ConversationList   \n",
       "49863                    com.android.deskclock.DeskClock   \n",
       "49864  com.google.android.apps.genie.geniewidget.acti...   \n",
       "49865                      com.android.settings.Settings   \n",
       "\n",
       "              RUNNING_TASKS_topActivity_mPackage  \n",
       "49005               com.google.android.apps.paco  \n",
       "49006                       com.android.launcher  \n",
       "49007                      com.google.android.gm  \n",
       "49008                            com.android.mms  \n",
       "49009               com.google.android.deskclock  \n",
       "...                                          ...  \n",
       "49861                      com.google.android.gm  \n",
       "49862                            com.android.mms  \n",
       "49863               com.google.android.deskclock  \n",
       "49864  com.google.android.apps.genie.geniewidget  \n",
       "49865                       com.android.settings  \n",
       "\n",
       "[504 rows x 10 columns]"
      ]
     },
     "execution_count": 56,
     "metadata": {},
     "output_type": "execute_result"
    }
   ],
   "source": [
    "tmp_df[(time_a < tmp_df.timestamp) & (tmp_df.timestamp < time_b)]#['RUNNING_TASKS_numActivities'].sum()"
   ]
  },
  {
   "cell_type": "code",
   "execution_count": 37,
   "metadata": {},
   "outputs": [],
   "source": [
    "# # label_df['date_time'].nunique(),len(label_df)\n",
    "\n",
    "# dup_sum =0\n",
    "\n",
    "# for u in label_df['user_id'].unique():\n",
    "#     t_df = label_df[label_df['user_id'] == u ]\n",
    "#     uni_en = len(set(t_df['date_time']))\n",
    "#     en = len(t_df)\n",
    "#     if uni_en != en:\n",
    "#         print(u,uni_en,en)\n",
    "#         dup_sum += en-uni_en\n",
    "\n",
    "# dup_sum\n",
    "\n"
   ]
  },
  {
   "cell_type": "code",
   "execution_count": null,
   "metadata": {},
   "outputs": [],
   "source": []
  },
  {
   "cell_type": "code",
   "execution_count": null,
   "metadata": {},
   "outputs": [],
   "source": []
  },
  {
   "cell_type": "code",
   "execution_count": null,
   "metadata": {},
   "outputs": [],
   "source": []
  }
 ],
 "metadata": {
  "kernelspec": {
   "display_name": "Python 3.10.4 ('ucsd_hw')",
   "language": "python",
   "name": "python3"
  },
  "language_info": {
   "codemirror_mode": {
    "name": "ipython",
    "version": 3
   },
   "file_extension": ".py",
   "mimetype": "text/x-python",
   "name": "python",
   "nbconvert_exporter": "python",
   "pygments_lexer": "ipython3",
   "version": "3.10.4"
  },
  "orig_nbformat": 4,
  "vscode": {
   "interpreter": {
    "hash": "b527c3883f97d0c80049be9d21bf79bee304fc8cc62c9f8bd8d0aa656b2e9faa"
   }
  }
 },
 "nbformat": 4,
 "nbformat_minor": 2
}
