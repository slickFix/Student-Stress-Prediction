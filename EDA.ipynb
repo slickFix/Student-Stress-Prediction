{
 "cells": [
  {
   "cell_type": "markdown",
   "metadata": {},
   "source": [
    "## Importing libraries"
   ]
  },
  {
   "cell_type": "code",
   "execution_count": 1,
   "metadata": {},
   "outputs": [],
   "source": [
    "### importing libraries\n",
    "\n",
    "from datetime import datetime\n",
    "from collections import defaultdict\n",
    "from tqdm import tqdm\n",
    "\n",
    "import numpy as np\n",
    "import pandas as pd\n",
    "\n",
    "import json\n",
    "import os"
   ]
  },
  {
   "cell_type": "markdown",
   "metadata": {},
   "source": [
    "## Utility functions"
   ]
  },
  {
   "cell_type": "code",
   "execution_count": 2,
   "metadata": {},
   "outputs": [],
   "source": [
    "def get_info_from_timestamp(timestamp,date_and_time = True,year=True,month=True,day=True,hour=True,minute=True,second=False,weekday=True,weeknumber=True):\n",
    "    base = datetime.fromtimestamp(timestamp)\n",
    "    return_di = {}\n",
    "    if date_and_time:\n",
    "        return_di['date_time'] = base.strftime(\"%m/%d/%Y, %H:%M\")\n",
    "    if year:\n",
    "        return_di['year'] = base.strftime('%Y')\n",
    "    if month:\n",
    "        return_di['month'] = base.strftime(\"%m\")\n",
    "    if day:\n",
    "        return_di['day'] = base.strftime(\"%d\")\n",
    "    if hour:\n",
    "        return_di['hours'] = base.strftime(\"%H\")\n",
    "    if minute:\n",
    "        return_di['minute'] = base.strftime(\"%M\")\n",
    "    if second:\n",
    "        return_di['second'] = base.strftime(\"%S\")\n",
    "    if weekday:\n",
    "        return_di['weekday'] = base.strftime(\"%a\")\n",
    "    if weeknumber:\n",
    "        return_di['weeknumber'] = base.strftime(\"%W\")\n",
    "\n",
    "    return return_di"
   ]
  },
  {
   "cell_type": "markdown",
   "metadata": {
    "tags": []
   },
   "source": [
    "## Data Setup"
   ]
  },
  {
   "cell_type": "code",
   "execution_count": 3,
   "metadata": {},
   "outputs": [],
   "source": [
    "### seting the data directory\n",
    "\n",
    "EMA_rel_path = 'data/dataset/EMA/response/'"
   ]
  },
  {
   "cell_type": "code",
   "execution_count": 4,
   "metadata": {},
   "outputs": [
    {
     "data": {
      "text/plain": [
       "'/home/sidd/workspace/Student-Stress-Prediction'"
      ]
     },
     "execution_count": 4,
     "metadata": {},
     "output_type": "execute_result"
    }
   ],
   "source": [
    "cwd = os.getcwd()\n",
    "cwd"
   ]
  },
  {
   "cell_type": "code",
   "execution_count": 5,
   "metadata": {},
   "outputs": [
    {
     "data": {
      "text/plain": [
       "'/home/sidd/workspace/Student-Stress-Prediction/data/dataset/EMA/response/'"
      ]
     },
     "execution_count": 5,
     "metadata": {},
     "output_type": "execute_result"
    }
   ],
   "source": [
    "EMA_abs_path = os.path.join(cwd,EMA_rel_path)\n",
    "EMA_abs_path"
   ]
  },
  {
   "cell_type": "markdown",
   "metadata": {},
   "source": [
    "### Different \"LABEL\" EMA files"
   ]
  },
  {
   "cell_type": "code",
   "execution_count": 6,
   "metadata": {},
   "outputs": [
    {
     "data": {
      "text/plain": [
       "(49, 49)"
      ]
     },
     "execution_count": 6,
     "metadata": {},
     "output_type": "execute_result"
    }
   ],
   "source": [
    "### counting length of different \"category\" EMA files\n",
    "\n",
    "stress_EMA_usr_files = os.listdir(os.path.join(EMA_abs_path,'Stress'))\n",
    "mood2_EMA_usr_files = os.listdir(os.path.join(EMA_abs_path,'Mood 2'))\n",
    "\n",
    "\n",
    "len(stress_EMA_usr_files),len(mood2_EMA_usr_files)"
   ]
  },
  {
   "cell_type": "code",
   "execution_count": 7,
   "metadata": {},
   "outputs": [
    {
     "data": {
      "text/plain": [
       "('Stress_u52.json', 'Mood 2_u30.json')"
      ]
     },
     "execution_count": 7,
     "metadata": {},
     "output_type": "execute_result"
    }
   ],
   "source": [
    "stress_EMA_usr_files[0],mood2_EMA_usr_files[0]"
   ]
  },
  {
   "cell_type": "code",
   "execution_count": 8,
   "metadata": {},
   "outputs": [],
   "source": [
    "### Loading and Reading stress EMA files\n",
    "\n",
    "def get_json_di(EMA_usr_files_li,ema_abs_path,EMA_folder_name):\n",
    "    json_di = {}\n",
    "\n",
    "    for filename in EMA_usr_files_li:\n",
    "        filename_abs_path = os.path.join(ema_abs_path,EMA_folder_name,filename)\n",
    "        #print(filename_abs_path)\n",
    "        with open(filename_abs_path) as f:\n",
    "            json_di[filename] = json.load(f)\n",
    "\n",
    "\n",
    "    print(\"No of EMA files in : \", EMA_folder_name,\" : \", len(json_di))\n",
    "\n",
    "    return json_di\n",
    "\n"
   ]
  },
  {
   "cell_type": "code",
   "execution_count": 9,
   "metadata": {},
   "outputs": [
    {
     "name": "stdout",
     "output_type": "stream",
     "text": [
      "No of EMA files in :  Stress  :  49\n",
      "No of EMA files in :  Mood 2  :  49\n"
     ]
    }
   ],
   "source": [
    "### Loading and Reading EMA files\n",
    "\n",
    "stress_json_di = get_json_di(stress_EMA_usr_files,EMA_abs_path,'Stress')\n",
    "mood2_json_di = get_json_di(mood2_EMA_usr_files,EMA_abs_path,'Mood 2')"
   ]
  },
  {
   "cell_type": "code",
   "execution_count": 10,
   "metadata": {},
   "outputs": [],
   "source": [
    "# ### Loading and Reading mood 2 EMA files\n",
    "\n",
    "# mood2_json_di = {}\n",
    "\n",
    "# for filename in mood2_EMA_usr_files:\n",
    "#     filename_abs_path = os.path.join(EMA_abs_path,'Mood 2',filename)\n",
    "#     #print(filename_abs_path)\n",
    "#     with open(filename_abs_path) as f:\n",
    "#         stress_json_di[filename] = json.load(f)\n",
    "\n",
    "\n",
    "# print(len(stress_json_di))"
   ]
  },
  {
   "cell_type": "markdown",
   "metadata": {},
   "source": [
    "### Extracting different EMA files data"
   ]
  },
  {
   "cell_type": "code",
   "execution_count": 11,
   "metadata": {},
   "outputs": [],
   "source": [
    "def get_mood2_ema_df(json_di):\n",
    "    \n",
    "    ema_mood2_data_di = defaultdict(list)\n",
    "\n",
    "\n",
    "    for user, val in tqdm(json_di.items()):\n",
    "        usr_id = user.split('.')[0].split('_')[1]\n",
    "        \n",
    "\n",
    "        for json_val in val:\n",
    "            if 'how' in json_val:\n",
    "                \n",
    "                ema_mood2_data_di['user_id'].append(usr_id)\n",
    "                \n",
    "\n",
    "                time_info_di = get_info_from_timestamp(json_val['resp_time'])\n",
    "                for k,v in time_info_di.items():\n",
    "                    ema_mood2_data_di[k].append(v)\n",
    "\n",
    "                ema_mood2_data_di['label_source'].append(\"mood2_ema\")                \n",
    "                ema_mood2_data_di['rating'].append(json_val['how'])\n",
    "\n",
    "    return pd.DataFrame(ema_mood2_data_di)"
   ]
  },
  {
   "cell_type": "code",
   "execution_count": null,
   "metadata": {},
   "outputs": [],
   "source": []
  },
  {
   "cell_type": "code",
   "execution_count": 12,
   "metadata": {},
   "outputs": [],
   "source": [
    "def get_stress_ema_df(stress_json_di):\n",
    "    \n",
    "    ema_stress_data_di = defaultdict(list)\n",
    "\n",
    "\n",
    "    for user, val in tqdm(stress_json_di.items()):\n",
    "        usr_id = user.split('.')[0].split('_')[1]\n",
    "        \n",
    "\n",
    "        for json_val in val:\n",
    "            if 'level' in json_val:\n",
    "                \n",
    "                ema_stress_data_di['user_id'].append(usr_id)\n",
    "                \n",
    "\n",
    "                time_info_di = get_info_from_timestamp(json_val['resp_time'])\n",
    "                for k,v in time_info_di.items():\n",
    "                    ema_stress_data_di[k].append(v)\n",
    "\n",
    "                ema_stress_data_di['label_source'].append(\"stress_ema\")                \n",
    "                ema_stress_data_di['rating'].append(json_val['level'])\n",
    "\n",
    "    return pd.DataFrame(ema_stress_data_di)"
   ]
  },
  {
   "cell_type": "markdown",
   "metadata": {},
   "source": [
    "### Stress and Mood 2 EMA df's info"
   ]
  },
  {
   "cell_type": "code",
   "execution_count": 13,
   "metadata": {},
   "outputs": [
    {
     "name": "stderr",
     "output_type": "stream",
     "text": [
      "100%|██████████| 49/49 [00:00<00:00, 1120.95it/s]\n"
     ]
    },
    {
     "data": {
      "text/html": [
       "<div>\n",
       "<style scoped>\n",
       "    .dataframe tbody tr th:only-of-type {\n",
       "        vertical-align: middle;\n",
       "    }\n",
       "\n",
       "    .dataframe tbody tr th {\n",
       "        vertical-align: top;\n",
       "    }\n",
       "\n",
       "    .dataframe thead th {\n",
       "        text-align: right;\n",
       "    }\n",
       "</style>\n",
       "<table border=\"1\" class=\"dataframe\">\n",
       "  <thead>\n",
       "    <tr style=\"text-align: right;\">\n",
       "      <th></th>\n",
       "      <th>user_id</th>\n",
       "      <th>date_time</th>\n",
       "      <th>year</th>\n",
       "      <th>month</th>\n",
       "      <th>day</th>\n",
       "      <th>hours</th>\n",
       "      <th>minute</th>\n",
       "      <th>weekday</th>\n",
       "      <th>weeknumber</th>\n",
       "      <th>label_source</th>\n",
       "      <th>rating</th>\n",
       "    </tr>\n",
       "  </thead>\n",
       "  <tbody>\n",
       "    <tr>\n",
       "      <th>0</th>\n",
       "      <td>u52</td>\n",
       "      <td>03/30/2013, 15:24</td>\n",
       "      <td>2013</td>\n",
       "      <td>03</td>\n",
       "      <td>30</td>\n",
       "      <td>15</td>\n",
       "      <td>24</td>\n",
       "      <td>Sat</td>\n",
       "      <td>12</td>\n",
       "      <td>stress_ema</td>\n",
       "      <td>2</td>\n",
       "    </tr>\n",
       "    <tr>\n",
       "      <th>1</th>\n",
       "      <td>u52</td>\n",
       "      <td>03/28/2013, 15:03</td>\n",
       "      <td>2013</td>\n",
       "      <td>03</td>\n",
       "      <td>28</td>\n",
       "      <td>15</td>\n",
       "      <td>03</td>\n",
       "      <td>Thu</td>\n",
       "      <td>12</td>\n",
       "      <td>stress_ema</td>\n",
       "      <td>1</td>\n",
       "    </tr>\n",
       "    <tr>\n",
       "      <th>2</th>\n",
       "      <td>u52</td>\n",
       "      <td>03/31/2013, 15:11</td>\n",
       "      <td>2013</td>\n",
       "      <td>03</td>\n",
       "      <td>31</td>\n",
       "      <td>15</td>\n",
       "      <td>11</td>\n",
       "      <td>Sun</td>\n",
       "      <td>12</td>\n",
       "      <td>stress_ema</td>\n",
       "      <td>2</td>\n",
       "    </tr>\n",
       "    <tr>\n",
       "      <th>3</th>\n",
       "      <td>u52</td>\n",
       "      <td>04/02/2013, 17:24</td>\n",
       "      <td>2013</td>\n",
       "      <td>04</td>\n",
       "      <td>02</td>\n",
       "      <td>17</td>\n",
       "      <td>24</td>\n",
       "      <td>Tue</td>\n",
       "      <td>13</td>\n",
       "      <td>stress_ema</td>\n",
       "      <td>1</td>\n",
       "    </tr>\n",
       "    <tr>\n",
       "      <th>4</th>\n",
       "      <td>u52</td>\n",
       "      <td>04/02/2013, 23:44</td>\n",
       "      <td>2013</td>\n",
       "      <td>04</td>\n",
       "      <td>02</td>\n",
       "      <td>23</td>\n",
       "      <td>44</td>\n",
       "      <td>Tue</td>\n",
       "      <td>13</td>\n",
       "      <td>stress_ema</td>\n",
       "      <td>5</td>\n",
       "    </tr>\n",
       "  </tbody>\n",
       "</table>\n",
       "</div>"
      ],
      "text/plain": [
       "  user_id          date_time  year month day hours minute weekday weeknumber  \\\n",
       "0     u52  03/30/2013, 15:24  2013    03  30    15     24     Sat         12   \n",
       "1     u52  03/28/2013, 15:03  2013    03  28    15     03     Thu         12   \n",
       "2     u52  03/31/2013, 15:11  2013    03  31    15     11     Sun         12   \n",
       "3     u52  04/02/2013, 17:24  2013    04  02    17     24     Tue         13   \n",
       "4     u52  04/02/2013, 23:44  2013    04  02    23     44     Tue         13   \n",
       "\n",
       "  label_source rating  \n",
       "0   stress_ema      2  \n",
       "1   stress_ema      1  \n",
       "2   stress_ema      2  \n",
       "3   stress_ema      1  \n",
       "4   stress_ema      5  "
      ]
     },
     "execution_count": 13,
     "metadata": {},
     "output_type": "execute_result"
    }
   ],
   "source": [
    "stress_ema_df = get_stress_ema_df(stress_json_di)\n",
    "\n",
    "stress_ema_df.head()"
   ]
  },
  {
   "cell_type": "code",
   "execution_count": 14,
   "metadata": {},
   "outputs": [],
   "source": [
    "# for a,b in ema_stress_data_di.items():\n",
    "#     print(a,len(b))"
   ]
  },
  {
   "cell_type": "code",
   "execution_count": 15,
   "metadata": {},
   "outputs": [
    {
     "name": "stdout",
     "output_type": "stream",
     "text": [
      "<class 'pandas.core.frame.DataFrame'>\n",
      "RangeIndex: 2167 entries, 0 to 2166\n",
      "Data columns (total 11 columns):\n",
      " #   Column        Non-Null Count  Dtype \n",
      "---  ------        --------------  ----- \n",
      " 0   user_id       2167 non-null   object\n",
      " 1   date_time     2167 non-null   object\n",
      " 2   year          2167 non-null   object\n",
      " 3   month         2167 non-null   object\n",
      " 4   day           2167 non-null   object\n",
      " 5   hours         2167 non-null   object\n",
      " 6   minute        2167 non-null   object\n",
      " 7   weekday       2167 non-null   object\n",
      " 8   weeknumber    2167 non-null   object\n",
      " 9   label_source  2167 non-null   object\n",
      " 10  rating        2167 non-null   object\n",
      "dtypes: object(11)\n",
      "memory usage: 186.4+ KB\n"
     ]
    }
   ],
   "source": [
    "stress_ema_df.info()"
   ]
  },
  {
   "cell_type": "code",
   "execution_count": 16,
   "metadata": {},
   "outputs": [
    {
     "data": {
      "text/html": [
       "<div>\n",
       "<style scoped>\n",
       "    .dataframe tbody tr th:only-of-type {\n",
       "        vertical-align: middle;\n",
       "    }\n",
       "\n",
       "    .dataframe tbody tr th {\n",
       "        vertical-align: top;\n",
       "    }\n",
       "\n",
       "    .dataframe thead th {\n",
       "        text-align: right;\n",
       "    }\n",
       "</style>\n",
       "<table border=\"1\" class=\"dataframe\">\n",
       "  <thead>\n",
       "    <tr style=\"text-align: right;\">\n",
       "      <th></th>\n",
       "      <th>user_id</th>\n",
       "      <th>date_time</th>\n",
       "      <th>year</th>\n",
       "      <th>month</th>\n",
       "      <th>day</th>\n",
       "      <th>hours</th>\n",
       "      <th>minute</th>\n",
       "      <th>weekday</th>\n",
       "      <th>weeknumber</th>\n",
       "      <th>label_source</th>\n",
       "      <th>rating</th>\n",
       "    </tr>\n",
       "  </thead>\n",
       "  <tbody>\n",
       "    <tr>\n",
       "      <th>count</th>\n",
       "      <td>2167</td>\n",
       "      <td>2167</td>\n",
       "      <td>2167</td>\n",
       "      <td>2167</td>\n",
       "      <td>2167</td>\n",
       "      <td>2167</td>\n",
       "      <td>2167</td>\n",
       "      <td>2167</td>\n",
       "      <td>2167</td>\n",
       "      <td>2167</td>\n",
       "      <td>2167</td>\n",
       "    </tr>\n",
       "    <tr>\n",
       "      <th>unique</th>\n",
       "      <td>48</td>\n",
       "      <td>1907</td>\n",
       "      <td>1</td>\n",
       "      <td>5</td>\n",
       "      <td>31</td>\n",
       "      <td>24</td>\n",
       "      <td>60</td>\n",
       "      <td>7</td>\n",
       "      <td>13</td>\n",
       "      <td>1</td>\n",
       "      <td>5</td>\n",
       "    </tr>\n",
       "    <tr>\n",
       "      <th>top</th>\n",
       "      <td>u59</td>\n",
       "      <td>05/01/2013, 02:16</td>\n",
       "      <td>2013</td>\n",
       "      <td>04</td>\n",
       "      <td>29</td>\n",
       "      <td>21</td>\n",
       "      <td>00</td>\n",
       "      <td>Wed</td>\n",
       "      <td>13</td>\n",
       "      <td>stress_ema</td>\n",
       "      <td>1</td>\n",
       "    </tr>\n",
       "    <tr>\n",
       "      <th>freq</th>\n",
       "      <td>269</td>\n",
       "      <td>8</td>\n",
       "      <td>2167</td>\n",
       "      <td>1328</td>\n",
       "      <td>134</td>\n",
       "      <td>215</td>\n",
       "      <td>166</td>\n",
       "      <td>374</td>\n",
       "      <td>429</td>\n",
       "      <td>2167</td>\n",
       "      <td>974</td>\n",
       "    </tr>\n",
       "  </tbody>\n",
       "</table>\n",
       "</div>"
      ],
      "text/plain": [
       "       user_id          date_time  year month   day hours minute weekday  \\\n",
       "count     2167               2167  2167  2167  2167  2167   2167    2167   \n",
       "unique      48               1907     1     5    31    24     60       7   \n",
       "top        u59  05/01/2013, 02:16  2013    04    29    21     00     Wed   \n",
       "freq       269                  8  2167  1328   134   215    166     374   \n",
       "\n",
       "       weeknumber label_source rating  \n",
       "count        2167         2167   2167  \n",
       "unique         13            1      5  \n",
       "top            13   stress_ema      1  \n",
       "freq          429         2167    974  "
      ]
     },
     "execution_count": 16,
     "metadata": {},
     "output_type": "execute_result"
    }
   ],
   "source": [
    "stress_ema_df.describe()"
   ]
  },
  {
   "cell_type": "code",
   "execution_count": null,
   "metadata": {},
   "outputs": [],
   "source": []
  },
  {
   "cell_type": "code",
   "execution_count": 17,
   "metadata": {},
   "outputs": [
    {
     "name": "stderr",
     "output_type": "stream",
     "text": [
      "100%|██████████| 49/49 [00:00<00:00, 4671.57it/s]\n"
     ]
    },
    {
     "data": {
      "text/html": [
       "<div>\n",
       "<style scoped>\n",
       "    .dataframe tbody tr th:only-of-type {\n",
       "        vertical-align: middle;\n",
       "    }\n",
       "\n",
       "    .dataframe tbody tr th {\n",
       "        vertical-align: top;\n",
       "    }\n",
       "\n",
       "    .dataframe thead th {\n",
       "        text-align: right;\n",
       "    }\n",
       "</style>\n",
       "<table border=\"1\" class=\"dataframe\">\n",
       "  <thead>\n",
       "    <tr style=\"text-align: right;\">\n",
       "      <th></th>\n",
       "      <th>user_id</th>\n",
       "      <th>date_time</th>\n",
       "      <th>year</th>\n",
       "      <th>month</th>\n",
       "      <th>day</th>\n",
       "      <th>hours</th>\n",
       "      <th>minute</th>\n",
       "      <th>weekday</th>\n",
       "      <th>weeknumber</th>\n",
       "      <th>label_source</th>\n",
       "      <th>rating</th>\n",
       "    </tr>\n",
       "  </thead>\n",
       "  <tbody>\n",
       "    <tr>\n",
       "      <th>0</th>\n",
       "      <td>u17</td>\n",
       "      <td>04/26/2013, 16:09</td>\n",
       "      <td>2013</td>\n",
       "      <td>04</td>\n",
       "      <td>26</td>\n",
       "      <td>16</td>\n",
       "      <td>09</td>\n",
       "      <td>Fri</td>\n",
       "      <td>16</td>\n",
       "      <td>mood2_ema</td>\n",
       "      <td>2</td>\n",
       "    </tr>\n",
       "    <tr>\n",
       "      <th>1</th>\n",
       "      <td>u17</td>\n",
       "      <td>04/26/2013, 00:27</td>\n",
       "      <td>2013</td>\n",
       "      <td>04</td>\n",
       "      <td>26</td>\n",
       "      <td>00</td>\n",
       "      <td>27</td>\n",
       "      <td>Fri</td>\n",
       "      <td>16</td>\n",
       "      <td>mood2_ema</td>\n",
       "      <td>2</td>\n",
       "    </tr>\n",
       "    <tr>\n",
       "      <th>2</th>\n",
       "      <td>u17</td>\n",
       "      <td>04/27/2013, 17:23</td>\n",
       "      <td>2013</td>\n",
       "      <td>04</td>\n",
       "      <td>27</td>\n",
       "      <td>17</td>\n",
       "      <td>23</td>\n",
       "      <td>Sat</td>\n",
       "      <td>16</td>\n",
       "      <td>mood2_ema</td>\n",
       "      <td>3</td>\n",
       "    </tr>\n",
       "    <tr>\n",
       "      <th>3</th>\n",
       "      <td>u17</td>\n",
       "      <td>04/28/2013, 21:33</td>\n",
       "      <td>2013</td>\n",
       "      <td>04</td>\n",
       "      <td>28</td>\n",
       "      <td>21</td>\n",
       "      <td>33</td>\n",
       "      <td>Sun</td>\n",
       "      <td>16</td>\n",
       "      <td>mood2_ema</td>\n",
       "      <td>2</td>\n",
       "    </tr>\n",
       "    <tr>\n",
       "      <th>4</th>\n",
       "      <td>u17</td>\n",
       "      <td>05/13/2013, 20:59</td>\n",
       "      <td>2013</td>\n",
       "      <td>05</td>\n",
       "      <td>13</td>\n",
       "      <td>20</td>\n",
       "      <td>59</td>\n",
       "      <td>Mon</td>\n",
       "      <td>19</td>\n",
       "      <td>mood2_ema</td>\n",
       "      <td>2</td>\n",
       "    </tr>\n",
       "  </tbody>\n",
       "</table>\n",
       "</div>"
      ],
      "text/plain": [
       "  user_id          date_time  year month day hours minute weekday weeknumber  \\\n",
       "0     u17  04/26/2013, 16:09  2013    04  26    16     09     Fri         16   \n",
       "1     u17  04/26/2013, 00:27  2013    04  26    00     27     Fri         16   \n",
       "2     u17  04/27/2013, 17:23  2013    04  27    17     23     Sat         16   \n",
       "3     u17  04/28/2013, 21:33  2013    04  28    21     33     Sun         16   \n",
       "4     u17  05/13/2013, 20:59  2013    05  13    20     59     Mon         19   \n",
       "\n",
       "  label_source rating  \n",
       "0    mood2_ema      2  \n",
       "1    mood2_ema      2  \n",
       "2    mood2_ema      3  \n",
       "3    mood2_ema      2  \n",
       "4    mood2_ema      2  "
      ]
     },
     "execution_count": 17,
     "metadata": {},
     "output_type": "execute_result"
    }
   ],
   "source": [
    "mood2_ema_df = get_mood2_ema_df(mood2_json_di)\n",
    "\n",
    "mood2_ema_df.head()"
   ]
  },
  {
   "cell_type": "code",
   "execution_count": 18,
   "metadata": {},
   "outputs": [
    {
     "name": "stdout",
     "output_type": "stream",
     "text": [
      "<class 'pandas.core.frame.DataFrame'>\n",
      "RangeIndex: 417 entries, 0 to 416\n",
      "Data columns (total 11 columns):\n",
      " #   Column        Non-Null Count  Dtype \n",
      "---  ------        --------------  ----- \n",
      " 0   user_id       417 non-null    object\n",
      " 1   date_time     417 non-null    object\n",
      " 2   year          417 non-null    object\n",
      " 3   month         417 non-null    object\n",
      " 4   day           417 non-null    object\n",
      " 5   hours         417 non-null    object\n",
      " 6   minute        417 non-null    object\n",
      " 7   weekday       417 non-null    object\n",
      " 8   weeknumber    417 non-null    object\n",
      " 9   label_source  417 non-null    object\n",
      " 10  rating        417 non-null    object\n",
      "dtypes: object(11)\n",
      "memory usage: 36.0+ KB\n"
     ]
    }
   ],
   "source": [
    "mood2_ema_df.info()"
   ]
  },
  {
   "cell_type": "code",
   "execution_count": 19,
   "metadata": {},
   "outputs": [
    {
     "data": {
      "text/html": [
       "<div>\n",
       "<style scoped>\n",
       "    .dataframe tbody tr th:only-of-type {\n",
       "        vertical-align: middle;\n",
       "    }\n",
       "\n",
       "    .dataframe tbody tr th {\n",
       "        vertical-align: top;\n",
       "    }\n",
       "\n",
       "    .dataframe thead th {\n",
       "        text-align: right;\n",
       "    }\n",
       "</style>\n",
       "<table border=\"1\" class=\"dataframe\">\n",
       "  <thead>\n",
       "    <tr style=\"text-align: right;\">\n",
       "      <th></th>\n",
       "      <th>user_id</th>\n",
       "      <th>date_time</th>\n",
       "      <th>year</th>\n",
       "      <th>month</th>\n",
       "      <th>day</th>\n",
       "      <th>hours</th>\n",
       "      <th>minute</th>\n",
       "      <th>weekday</th>\n",
       "      <th>weeknumber</th>\n",
       "      <th>label_source</th>\n",
       "      <th>rating</th>\n",
       "    </tr>\n",
       "  </thead>\n",
       "  <tbody>\n",
       "    <tr>\n",
       "      <th>count</th>\n",
       "      <td>417</td>\n",
       "      <td>417</td>\n",
       "      <td>417</td>\n",
       "      <td>417</td>\n",
       "      <td>417</td>\n",
       "      <td>417</td>\n",
       "      <td>417</td>\n",
       "      <td>417</td>\n",
       "      <td>417</td>\n",
       "      <td>417</td>\n",
       "      <td>417</td>\n",
       "    </tr>\n",
       "    <tr>\n",
       "      <th>unique</th>\n",
       "      <td>37</td>\n",
       "      <td>398</td>\n",
       "      <td>1</td>\n",
       "      <td>3</td>\n",
       "      <td>31</td>\n",
       "      <td>22</td>\n",
       "      <td>60</td>\n",
       "      <td>7</td>\n",
       "      <td>7</td>\n",
       "      <td>1</td>\n",
       "      <td>3</td>\n",
       "    </tr>\n",
       "    <tr>\n",
       "      <th>top</th>\n",
       "      <td>u59</td>\n",
       "      <td>05/10/2013, 17:00</td>\n",
       "      <td>2013</td>\n",
       "      <td>05</td>\n",
       "      <td>26</td>\n",
       "      <td>17</td>\n",
       "      <td>00</td>\n",
       "      <td>Fri</td>\n",
       "      <td>18</td>\n",
       "      <td>mood2_ema</td>\n",
       "      <td>1</td>\n",
       "    </tr>\n",
       "    <tr>\n",
       "      <th>freq</th>\n",
       "      <td>98</td>\n",
       "      <td>3</td>\n",
       "      <td>417</td>\n",
       "      <td>338</td>\n",
       "      <td>30</td>\n",
       "      <td>124</td>\n",
       "      <td>30</td>\n",
       "      <td>81</td>\n",
       "      <td>109</td>\n",
       "      <td>417</td>\n",
       "      <td>180</td>\n",
       "    </tr>\n",
       "  </tbody>\n",
       "</table>\n",
       "</div>"
      ],
      "text/plain": [
       "       user_id          date_time  year month  day hours minute weekday  \\\n",
       "count      417                417   417   417  417   417    417     417   \n",
       "unique      37                398     1     3   31    22     60       7   \n",
       "top        u59  05/10/2013, 17:00  2013    05   26    17     00     Fri   \n",
       "freq        98                  3   417   338   30   124     30      81   \n",
       "\n",
       "       weeknumber label_source rating  \n",
       "count         417          417    417  \n",
       "unique          7            1      3  \n",
       "top            18    mood2_ema      1  \n",
       "freq          109          417    180  "
      ]
     },
     "execution_count": 19,
     "metadata": {},
     "output_type": "execute_result"
    }
   ],
   "source": [
    "mood2_ema_df.describe()"
   ]
  },
  {
   "cell_type": "markdown",
   "metadata": {},
   "source": [
    "### Plotting Stress and Mood 2 df value spread"
   ]
  },
  {
   "cell_type": "code",
   "execution_count": 20,
   "metadata": {},
   "outputs": [
    {
     "data": {
      "text/plain": [
       "[Text(0, 0, '98'),\n",
       " Text(0, 0, '36'),\n",
       " Text(0, 0, '24'),\n",
       " Text(0, 0, '19'),\n",
       " Text(0, 0, '18'),\n",
       " Text(0, 0, '18'),\n",
       " Text(0, 0, '16'),\n",
       " Text(0, 0, '15'),\n",
       " Text(0, 0, '15'),\n",
       " Text(0, 0, '13'),\n",
       " Text(0, 0, '12'),\n",
       " Text(0, 0, '12'),\n",
       " Text(0, 0, '12'),\n",
       " Text(0, 0, '11'),\n",
       " Text(0, 0, '11'),\n",
       " Text(0, 0, '8'),\n",
       " Text(0, 0, '7'),\n",
       " Text(0, 0, '7'),\n",
       " Text(0, 0, '7'),\n",
       " Text(0, 0, '7'),\n",
       " Text(0, 0, '6'),\n",
       " Text(0, 0, '6'),\n",
       " Text(0, 0, '4'),\n",
       " Text(0, 0, '4'),\n",
       " Text(0, 0, '4'),\n",
       " Text(0, 0, '4'),\n",
       " Text(0, 0, '3'),\n",
       " Text(0, 0, '3'),\n",
       " Text(0, 0, '3'),\n",
       " Text(0, 0, '3'),\n",
       " Text(0, 0, '2'),\n",
       " Text(0, 0, '2'),\n",
       " Text(0, 0, '2'),\n",
       " Text(0, 0, '2'),\n",
       " Text(0, 0, '1'),\n",
       " Text(0, 0, '1'),\n",
       " Text(0, 0, '1')]"
      ]
     },
     "execution_count": 20,
     "metadata": {},
     "output_type": "execute_result"
    },
    {
     "data": {
      "image/png": "[encoded data removed]",
      "text/plain": [
       "<Figure size 2500x1000 with 1 Axes>"
      ]
     },
     "metadata": {},
     "output_type": "display_data"
    }
   ],
   "source": [
    "ax = mood2_ema_df['user_id'].value_counts().plot.bar(figsize=(25, 10))\n",
    "ax.bar_label(ax.containers[0])"
   ]
  },
  {
   "cell_type": "code",
   "execution_count": 21,
   "metadata": {},
   "outputs": [
    {
     "data": {
      "text/plain": [
       "[Text(0, 0, '180'), Text(0, 0, '131'), Text(0, 0, '106')]"
      ]
     },
     "execution_count": 21,
     "metadata": {},
     "output_type": "execute_result"
    },
    {
     "data": {
      "image/png": "[encoded data removed]",
      "text/plain": [
       "<Figure size 2500x1000 with 1 Axes>"
      ]
     },
     "metadata": {},
     "output_type": "display_data"
    }
   ],
   "source": [
    "ax = mood2_ema_df['rating'].value_counts().plot.bar(figsize=(25, 10))\n",
    "ax.bar_label(ax.containers[0])"
   ]
  },
  {
   "cell_type": "code",
   "execution_count": null,
   "metadata": {},
   "outputs": [],
   "source": []
  },
  {
   "cell_type": "code",
   "execution_count": 22,
   "metadata": {},
   "outputs": [],
   "source": [
    "# ### Data processing\n",
    "\n",
    "\n",
    "# stress_ema_df['date_time'] = pd.to_datetime(stress_ema_df['date_time'])\n",
    "# stress_ema_df = stress_ema_df.set_index('date_time')\n"
   ]
  },
  {
   "cell_type": "code",
   "execution_count": 23,
   "metadata": {},
   "outputs": [
    {
     "data": {
      "text/html": [
       "<div>\n",
       "<style scoped>\n",
       "    .dataframe tbody tr th:only-of-type {\n",
       "        vertical-align: middle;\n",
       "    }\n",
       "\n",
       "    .dataframe tbody tr th {\n",
       "        vertical-align: top;\n",
       "    }\n",
       "\n",
       "    .dataframe thead th {\n",
       "        text-align: right;\n",
       "    }\n",
       "</style>\n",
       "<table border=\"1\" class=\"dataframe\">\n",
       "  <thead>\n",
       "    <tr style=\"text-align: right;\">\n",
       "      <th></th>\n",
       "      <th>user_id</th>\n",
       "      <th>date_time</th>\n",
       "      <th>year</th>\n",
       "      <th>month</th>\n",
       "      <th>day</th>\n",
       "      <th>hours</th>\n",
       "      <th>minute</th>\n",
       "      <th>weekday</th>\n",
       "      <th>weeknumber</th>\n",
       "      <th>label_source</th>\n",
       "      <th>rating</th>\n",
       "    </tr>\n",
       "  </thead>\n",
       "  <tbody>\n",
       "    <tr>\n",
       "      <th>0</th>\n",
       "      <td>u52</td>\n",
       "      <td>03/30/2013, 15:24</td>\n",
       "      <td>2013</td>\n",
       "      <td>03</td>\n",
       "      <td>30</td>\n",
       "      <td>15</td>\n",
       "      <td>24</td>\n",
       "      <td>Sat</td>\n",
       "      <td>12</td>\n",
       "      <td>stress_ema</td>\n",
       "      <td>2</td>\n",
       "    </tr>\n",
       "    <tr>\n",
       "      <th>1</th>\n",
       "      <td>u52</td>\n",
       "      <td>03/28/2013, 15:03</td>\n",
       "      <td>2013</td>\n",
       "      <td>03</td>\n",
       "      <td>28</td>\n",
       "      <td>15</td>\n",
       "      <td>03</td>\n",
       "      <td>Thu</td>\n",
       "      <td>12</td>\n",
       "      <td>stress_ema</td>\n",
       "      <td>1</td>\n",
       "    </tr>\n",
       "    <tr>\n",
       "      <th>2</th>\n",
       "      <td>u52</td>\n",
       "      <td>03/31/2013, 15:11</td>\n",
       "      <td>2013</td>\n",
       "      <td>03</td>\n",
       "      <td>31</td>\n",
       "      <td>15</td>\n",
       "      <td>11</td>\n",
       "      <td>Sun</td>\n",
       "      <td>12</td>\n",
       "      <td>stress_ema</td>\n",
       "      <td>2</td>\n",
       "    </tr>\n",
       "    <tr>\n",
       "      <th>3</th>\n",
       "      <td>u52</td>\n",
       "      <td>04/02/2013, 17:24</td>\n",
       "      <td>2013</td>\n",
       "      <td>04</td>\n",
       "      <td>02</td>\n",
       "      <td>17</td>\n",
       "      <td>24</td>\n",
       "      <td>Tue</td>\n",
       "      <td>13</td>\n",
       "      <td>stress_ema</td>\n",
       "      <td>1</td>\n",
       "    </tr>\n",
       "    <tr>\n",
       "      <th>4</th>\n",
       "      <td>u52</td>\n",
       "      <td>04/02/2013, 23:44</td>\n",
       "      <td>2013</td>\n",
       "      <td>04</td>\n",
       "      <td>02</td>\n",
       "      <td>23</td>\n",
       "      <td>44</td>\n",
       "      <td>Tue</td>\n",
       "      <td>13</td>\n",
       "      <td>stress_ema</td>\n",
       "      <td>5</td>\n",
       "    </tr>\n",
       "  </tbody>\n",
       "</table>\n",
       "</div>"
      ],
      "text/plain": [
       "  user_id          date_time  year month day hours minute weekday weeknumber  \\\n",
       "0     u52  03/30/2013, 15:24  2013    03  30    15     24     Sat         12   \n",
       "1     u52  03/28/2013, 15:03  2013    03  28    15     03     Thu         12   \n",
       "2     u52  03/31/2013, 15:11  2013    03  31    15     11     Sun         12   \n",
       "3     u52  04/02/2013, 17:24  2013    04  02    17     24     Tue         13   \n",
       "4     u52  04/02/2013, 23:44  2013    04  02    23     44     Tue         13   \n",
       "\n",
       "  label_source rating  \n",
       "0   stress_ema      2  \n",
       "1   stress_ema      1  \n",
       "2   stress_ema      2  \n",
       "3   stress_ema      1  \n",
       "4   stress_ema      5  "
      ]
     },
     "execution_count": 23,
     "metadata": {},
     "output_type": "execute_result"
    }
   ],
   "source": [
    "stress_ema_df.head()"
   ]
  },
  {
   "cell_type": "code",
   "execution_count": 24,
   "metadata": {},
   "outputs": [
    {
     "data": {
      "text/plain": [
       "48"
      ]
     },
     "execution_count": 24,
     "metadata": {},
     "output_type": "execute_result"
    }
   ],
   "source": [
    "len(stress_ema_df['user_id'].value_counts())"
   ]
  },
  {
   "cell_type": "code",
   "execution_count": 25,
   "metadata": {},
   "outputs": [
    {
     "data": {
      "text/plain": [
       "[Text(0, 0, '269'),\n",
       " Text(0, 0, '107'),\n",
       " Text(0, 0, '106'),\n",
       " Text(0, 0, '91'),\n",
       " Text(0, 0, '90'),\n",
       " Text(0, 0, '87'),\n",
       " Text(0, 0, '77'),\n",
       " Text(0, 0, '74'),\n",
       " Text(0, 0, '67'),\n",
       " Text(0, 0, '66'),\n",
       " Text(0, 0, '61'),\n",
       " Text(0, 0, '58'),\n",
       " Text(0, 0, '56'),\n",
       " Text(0, 0, '55'),\n",
       " Text(0, 0, '55'),\n",
       " Text(0, 0, '53'),\n",
       " Text(0, 0, '44'),\n",
       " Text(0, 0, '44'),\n",
       " Text(0, 0, '43'),\n",
       " Text(0, 0, '42'),\n",
       " Text(0, 0, '41'),\n",
       " Text(0, 0, '39'),\n",
       " Text(0, 0, '39'),\n",
       " Text(0, 0, '38'),\n",
       " Text(0, 0, '37'),\n",
       " Text(0, 0, '33'),\n",
       " Text(0, 0, '32'),\n",
       " Text(0, 0, '30'),\n",
       " Text(0, 0, '30'),\n",
       " Text(0, 0, '30'),\n",
       " Text(0, 0, '29'),\n",
       " Text(0, 0, '29'),\n",
       " Text(0, 0, '28'),\n",
       " Text(0, 0, '25'),\n",
       " Text(0, 0, '20'),\n",
       " Text(0, 0, '20'),\n",
       " Text(0, 0, '19'),\n",
       " Text(0, 0, '16'),\n",
       " Text(0, 0, '13'),\n",
       " Text(0, 0, '12'),\n",
       " Text(0, 0, '11'),\n",
       " Text(0, 0, '10'),\n",
       " Text(0, 0, '10'),\n",
       " Text(0, 0, '10'),\n",
       " Text(0, 0, '8'),\n",
       " Text(0, 0, '6'),\n",
       " Text(0, 0, '4'),\n",
       " Text(0, 0, '3')]"
      ]
     },
     "execution_count": 25,
     "metadata": {},
     "output_type": "execute_result"
    },
    {
     "data": {
      "image/png": "[encoded data removed]",
      "text/plain": [
       "<Figure size 2500x1000 with 1 Axes>"
      ]
     },
     "metadata": {},
     "output_type": "display_data"
    }
   ],
   "source": [
    "ax = stress_ema_df['user_id'].value_counts().plot.bar(figsize=(25, 10))\n",
    "ax.bar_label(ax.containers[0])"
   ]
  },
  {
   "cell_type": "code",
   "execution_count": 26,
   "metadata": {},
   "outputs": [
    {
     "data": {
      "text/html": [
       "<div>\n",
       "<style scoped>\n",
       "    .dataframe tbody tr th:only-of-type {\n",
       "        vertical-align: middle;\n",
       "    }\n",
       "\n",
       "    .dataframe tbody tr th {\n",
       "        vertical-align: top;\n",
       "    }\n",
       "\n",
       "    .dataframe thead th {\n",
       "        text-align: right;\n",
       "    }\n",
       "</style>\n",
       "<table border=\"1\" class=\"dataframe\">\n",
       "  <thead>\n",
       "    <tr style=\"text-align: right;\">\n",
       "      <th></th>\n",
       "      <th>user_id</th>\n",
       "      <th>date_time</th>\n",
       "      <th>year</th>\n",
       "      <th>month</th>\n",
       "      <th>day</th>\n",
       "      <th>hours</th>\n",
       "      <th>minute</th>\n",
       "      <th>weekday</th>\n",
       "      <th>weeknumber</th>\n",
       "      <th>label_source</th>\n",
       "      <th>rating</th>\n",
       "    </tr>\n",
       "  </thead>\n",
       "  <tbody>\n",
       "    <tr>\n",
       "      <th>0</th>\n",
       "      <td>u52</td>\n",
       "      <td>03/30/2013, 15:24</td>\n",
       "      <td>2013</td>\n",
       "      <td>03</td>\n",
       "      <td>30</td>\n",
       "      <td>15</td>\n",
       "      <td>24</td>\n",
       "      <td>Sat</td>\n",
       "      <td>12</td>\n",
       "      <td>stress_ema</td>\n",
       "      <td>2</td>\n",
       "    </tr>\n",
       "    <tr>\n",
       "      <th>1</th>\n",
       "      <td>u52</td>\n",
       "      <td>03/28/2013, 15:03</td>\n",
       "      <td>2013</td>\n",
       "      <td>03</td>\n",
       "      <td>28</td>\n",
       "      <td>15</td>\n",
       "      <td>03</td>\n",
       "      <td>Thu</td>\n",
       "      <td>12</td>\n",
       "      <td>stress_ema</td>\n",
       "      <td>1</td>\n",
       "    </tr>\n",
       "    <tr>\n",
       "      <th>2</th>\n",
       "      <td>u52</td>\n",
       "      <td>03/31/2013, 15:11</td>\n",
       "      <td>2013</td>\n",
       "      <td>03</td>\n",
       "      <td>31</td>\n",
       "      <td>15</td>\n",
       "      <td>11</td>\n",
       "      <td>Sun</td>\n",
       "      <td>12</td>\n",
       "      <td>stress_ema</td>\n",
       "      <td>2</td>\n",
       "    </tr>\n",
       "    <tr>\n",
       "      <th>3</th>\n",
       "      <td>u52</td>\n",
       "      <td>04/02/2013, 17:24</td>\n",
       "      <td>2013</td>\n",
       "      <td>04</td>\n",
       "      <td>02</td>\n",
       "      <td>17</td>\n",
       "      <td>24</td>\n",
       "      <td>Tue</td>\n",
       "      <td>13</td>\n",
       "      <td>stress_ema</td>\n",
       "      <td>1</td>\n",
       "    </tr>\n",
       "    <tr>\n",
       "      <th>4</th>\n",
       "      <td>u52</td>\n",
       "      <td>04/02/2013, 23:44</td>\n",
       "      <td>2013</td>\n",
       "      <td>04</td>\n",
       "      <td>02</td>\n",
       "      <td>23</td>\n",
       "      <td>44</td>\n",
       "      <td>Tue</td>\n",
       "      <td>13</td>\n",
       "      <td>stress_ema</td>\n",
       "      <td>5</td>\n",
       "    </tr>\n",
       "  </tbody>\n",
       "</table>\n",
       "</div>"
      ],
      "text/plain": [
       "  user_id          date_time  year month day hours minute weekday weeknumber  \\\n",
       "0     u52  03/30/2013, 15:24  2013    03  30    15     24     Sat         12   \n",
       "1     u52  03/28/2013, 15:03  2013    03  28    15     03     Thu         12   \n",
       "2     u52  03/31/2013, 15:11  2013    03  31    15     11     Sun         12   \n",
       "3     u52  04/02/2013, 17:24  2013    04  02    17     24     Tue         13   \n",
       "4     u52  04/02/2013, 23:44  2013    04  02    23     44     Tue         13   \n",
       "\n",
       "  label_source rating  \n",
       "0   stress_ema      2  \n",
       "1   stress_ema      1  \n",
       "2   stress_ema      2  \n",
       "3   stress_ema      1  \n",
       "4   stress_ema      5  "
      ]
     },
     "execution_count": 26,
     "metadata": {},
     "output_type": "execute_result"
    }
   ],
   "source": [
    "stress_ema_df.head()"
   ]
  },
  {
   "cell_type": "code",
   "execution_count": 27,
   "metadata": {},
   "outputs": [
    {
     "data": {
      "text/plain": [
       "[Text(0, 0, '974'),\n",
       " Text(0, 0, '457'),\n",
       " Text(0, 0, '347'),\n",
       " Text(0, 0, '266'),\n",
       " Text(0, 0, '123')]"
      ]
     },
     "execution_count": 27,
     "metadata": {},
     "output_type": "execute_result"
    },
    {
     "data": {
      "image/png": "[encoded data removed]",
      "text/plain": [
       "<Figure size 640x480 with 1 Axes>"
      ]
     },
     "metadata": {},
     "output_type": "display_data"
    }
   ],
   "source": [
    "ax = stress_ema_df['rating'].value_counts().plot.bar()\n",
    "ax.bar_label(ax.containers[0])"
   ]
  },
  {
   "cell_type": "markdown",
   "metadata": {},
   "source": [
    "### Getting Predictor dfs"
   ]
  },
  {
   "cell_type": "code",
   "execution_count": 28,
   "metadata": {},
   "outputs": [],
   "source": [
    "# social_EMA_usr_files = os.listdir(os.path.join(EMA_abs_path,'Social')) ## number\n",
    "# class_EMA_usr_files = os.listdir(os.path.join(EMA_abs_path,'Class')) ## course_id,experience ## due\n",
    "# sleep_EMA_usr_files = os.listdir(os.path.join(EMA_abs_path,'Sleep')) ## hour, rate, social\n",
    "# activity_EMA_usr_files = os.listdir(os.path.join(EMA_abs_path,'Activity')) ## working, relaxing, other_working, other_relaxing\n",
    "# exercise_EMA_usr_files = os.listdir(os.path.join(EMA_abs_path,'Exercise')) ## have, schedule, exercise, walk\n",
    "# study_space_EMA_usr_files = os.listdir(os.path.join(EMA_abs_path,'Study Spaces')) ## productivity, noise\n",
    "# events_EMA_usr_files = os.listdir(os.path.join(EMA_abs_path,'Events')) ## positive, negative\n",
    "# dining_halls_EMA_usr_files = os.listdir(os.path.join(EMA_abs_path,'Dining Halls')) # breakfast, lunch, dinner\n",
    "# lab_EMA_usr_files = os.listdir(os.path.join(EMA_abs_path,'Lab')) # enjoy\n",
    "# mood_EMA_usr_files = os.listdir(os.path.join(EMA_abs_path,'Mood')) # happyornot, happy, sadornot, sad\n",
    "# class_2_EMA_usr_files = os.listdir(os.path.join(EMA_abs_path,'Class 2')) # challenge, effort, grade\n",
    "\n",
    "# len(social_EMA_usr_files),len(class_EMA_usr_files),len(sleep_EMA_usr_files),len(activity_EMA_usr_files),len(exercise_EMA_usr_files),len(study_space_EMA_usr_files),len(events_EMA_usr_files),len(dining_halls_EMA_usr_files),len(lab_EMA_usr_files),len(mood_EMA_usr_files),len(class_2_EMA_usr_files)\n"
   ]
  },
  {
   "cell_type": "code",
   "execution_count": 29,
   "metadata": {},
   "outputs": [
    {
     "name": "stdout",
     "output_type": "stream",
     "text": [
      "Social  EMA number of user files :  49\n",
      "Social  EMA number of question ID used :  1\n",
      "\n",
      "Class  EMA number of user files :  49\n",
      "Class  EMA number of question ID used :  3\n",
      "\n",
      "Sleep  EMA number of user files :  49\n",
      "Sleep  EMA number of question ID used :  3\n",
      "\n",
      "Activity  EMA number of user files :  49\n",
      "Activity  EMA number of question ID used :  4\n",
      "\n",
      "Exercise  EMA number of user files :  49\n",
      "Exercise  EMA number of question ID used :  4\n",
      "\n",
      "Study Spaces  EMA number of user files :  49\n",
      "Study Spaces  EMA number of question ID used :  2\n",
      "\n",
      "Events  EMA number of user files :  49\n",
      "Events  EMA number of question ID used :  2\n",
      "\n",
      "Dining Halls  EMA number of user files :  49\n",
      "Dining Halls  EMA number of question ID used :  3\n",
      "\n",
      "Lab  EMA number of user files :  49\n",
      "Lab  EMA number of question ID used :  1\n",
      "\n",
      "Mood  EMA number of user files :  49\n",
      "Mood  EMA number of question ID used :  4\n",
      "\n",
      "Class 2  EMA number of user files :  49\n",
      "Class 2  EMA number of question ID used :  3\n",
      "\n"
     ]
    },
    {
     "data": {
      "text/plain": [
       "(11, 11)"
      ]
     },
     "execution_count": 29,
     "metadata": {},
     "output_type": "execute_result"
    }
   ],
   "source": [
    "# gettting predictor dfs\n",
    "\n",
    "ema_folder_name_usr_files_di  = {}\n",
    "ema_folder_name_questions_id_li_di = {} \n",
    "ema_folder_name_li = ['Social','Class','Sleep','Activity','Exercise','Study Spaces','Events','Dining Halls','Lab' ,'Mood','Class 2']\n",
    "ema_questions_id_li = [['number'],['course_id','experience','due'],['hour','rate','social'],['working','relaxing','other_working','other_relaxing'],['have','schedule','exercise','walk'],['productivity','noise'],['positive','negative'],['breakfast','lunch','dinner'],['enjoy'],['happyornot','happy','sadornot','sad'],['challenge','effort','grade']]\n",
    "\n",
    "\n",
    "for ema_folder_name,ema_questions_id in zip(ema_folder_name_li,ema_questions_id_li):\n",
    "    ema_folder_name_usr_files_di[ema_folder_name] = os.listdir(os.path.join(EMA_abs_path,ema_folder_name)) \n",
    "    ema_folder_name_questions_id_li_di[ema_folder_name] = ema_questions_id\n",
    "    print(ema_folder_name,\" EMA number of user files : \", len(ema_folder_name_usr_files_di[ema_folder_name]))\n",
    "    print(ema_folder_name,\" EMA number of question ID used : \", len(ema_folder_name_questions_id_li_di[ema_folder_name]))\n",
    "    print()\n",
    "\n",
    "len(ema_folder_name_usr_files_di),len(ema_folder_name_questions_id_li_di)"
   ]
  },
  {
   "cell_type": "code",
   "execution_count": 30,
   "metadata": {},
   "outputs": [],
   "source": [
    "def get_ema_df(json_di,ema_type,question_id_li):\n",
    "    print(question_id_li)\n",
    "    print()\n",
    "    ema_data_di = defaultdict(list)\n",
    "\n",
    "\n",
    "    for user, val in tqdm(json_di.items()):\n",
    "        usr_id = user.split('.')[0].split('_')[1]\n",
    "        \n",
    "\n",
    "        for json_val in val:\n",
    "            if \"null\" in json_val: continue\n",
    "\n",
    "            ema_data_di['user_id'].append(usr_id)\n",
    "\n",
    "            for question_id in question_id_li:\n",
    "                if question_id in json_val:                \n",
    "                    ema_data_di[question_id+'_'+ ema_type].append(json_val[question_id])\n",
    "                else:\n",
    "                    ema_data_di[question_id+'_'+ ema_type].append('N/A')                    \n",
    "            \n",
    "            # store resp time info\n",
    "            time_info_di = get_info_from_timestamp(json_val['resp_time'])\n",
    "            for k,v in time_info_di.items():\n",
    "                ema_data_di[k].append(v)\n",
    "\n",
    "            # if len(ema_data_di['hour']) != len(ema_data_di['rate']) :\n",
    "            #     print(json_val)\n",
    "            #     print(usr_id)\n",
    "            #     break\n",
    "\n",
    "    # [print(k,len(v)) for k,v in ema_data_di.items()]\n",
    "\n",
    "    return pd.DataFrame(ema_data_di)"
   ]
  },
  {
   "cell_type": "code",
   "execution_count": 31,
   "metadata": {},
   "outputs": [],
   "source": [
    "# get_ema_df(get_json_di(ema_folder_name_usr_files_di['Sleep'],EMA_abs_path,'Sleep'),ema_folder_name_questions_id_li_di['Sleep'])"
   ]
  },
  {
   "cell_type": "code",
   "execution_count": 32,
   "metadata": {},
   "outputs": [],
   "source": [
    "# get_ema_df(get_json_di(ema_folder_name_usr_files_di[k],EMA_abs_path,k),v)"
   ]
  },
  {
   "cell_type": "code",
   "execution_count": 33,
   "metadata": {},
   "outputs": [
    {
     "name": "stdout",
     "output_type": "stream",
     "text": [
      "Social\n",
      "No of EMA files in :  Social  :  49\n",
      "['number']\n",
      "\n"
     ]
    },
    {
     "name": "stderr",
     "output_type": "stream",
     "text": [
      "100%|██████████| 49/49 [00:00<00:00, 2721.23it/s]\n"
     ]
    },
    {
     "name": "stdout",
     "output_type": "stream",
     "text": [
      "Class\n",
      "No of EMA files in :  Class  :  49\n",
      "['course_id', 'experience', 'due']\n",
      "\n"
     ]
    },
    {
     "name": "stderr",
     "output_type": "stream",
     "text": [
      "100%|██████████| 49/49 [00:00<00:00, 4116.84it/s]\n"
     ]
    },
    {
     "name": "stdout",
     "output_type": "stream",
     "text": [
      "Sleep\n",
      "No of EMA files in :  Sleep  :  49\n",
      "['hour', 'rate', 'social']\n",
      "\n"
     ]
    },
    {
     "name": "stderr",
     "output_type": "stream",
     "text": [
      "100%|██████████| 49/49 [00:00<00:00, 3196.83it/s]\n"
     ]
    },
    {
     "name": "stdout",
     "output_type": "stream",
     "text": [
      "Activity\n",
      "No of EMA files in :  Activity  :  49\n",
      "['working', 'relaxing', 'other_working', 'other_relaxing']\n",
      "\n"
     ]
    },
    {
     "name": "stderr",
     "output_type": "stream",
     "text": [
      "100%|██████████| 49/49 [00:00<00:00, 6531.73it/s]\n"
     ]
    },
    {
     "name": "stdout",
     "output_type": "stream",
     "text": [
      "Exercise\n",
      "No of EMA files in :  Exercise  :  49\n",
      "['have', 'schedule', 'exercise', 'walk']\n",
      "\n"
     ]
    },
    {
     "name": "stderr",
     "output_type": "stream",
     "text": [
      "100%|██████████| 49/49 [00:00<00:00, 5214.94it/s]\n"
     ]
    },
    {
     "name": "stdout",
     "output_type": "stream",
     "text": [
      "Study Spaces\n",
      "No of EMA files in :  Study Spaces  :  49\n",
      "['productivity', 'noise']\n",
      "\n"
     ]
    },
    {
     "name": "stderr",
     "output_type": "stream",
     "text": [
      "100%|██████████| 49/49 [00:00<00:00, 21332.87it/s]\n"
     ]
    },
    {
     "name": "stdout",
     "output_type": "stream",
     "text": [
      "Events\n",
      "No of EMA files in :  Events  :  49\n",
      "['positive', 'negative']\n",
      "\n"
     ]
    },
    {
     "name": "stderr",
     "output_type": "stream",
     "text": [
      "100%|██████████| 49/49 [00:00<00:00, 14837.98it/s]\n"
     ]
    },
    {
     "name": "stdout",
     "output_type": "stream",
     "text": [
      "Dining Halls\n",
      "No of EMA files in :  Dining Halls  :  49\n",
      "['breakfast', 'lunch', 'dinner']\n",
      "\n"
     ]
    },
    {
     "name": "stderr",
     "output_type": "stream",
     "text": [
      "100%|██████████| 49/49 [00:00<00:00, 18678.62it/s]\n"
     ]
    },
    {
     "name": "stdout",
     "output_type": "stream",
     "text": [
      "Lab\n",
      "No of EMA files in :  Lab  :  49\n",
      "['enjoy']\n",
      "\n"
     ]
    },
    {
     "name": "stderr",
     "output_type": "stream",
     "text": [
      "100%|██████████| 49/49 [00:00<00:00, 29976.79it/s]\n"
     ]
    },
    {
     "name": "stdout",
     "output_type": "stream",
     "text": [
      "Mood\n",
      "No of EMA files in :  Mood  :  49\n",
      "['happyornot', 'happy', 'sadornot', 'sad']\n",
      "\n"
     ]
    },
    {
     "name": "stderr",
     "output_type": "stream",
     "text": [
      "100%|██████████| 49/49 [00:00<00:00, 15250.88it/s]\n"
     ]
    },
    {
     "name": "stdout",
     "output_type": "stream",
     "text": [
      "Class 2\n",
      "No of EMA files in :  Class 2  :  49\n",
      "['challenge', 'effort', 'grade']\n",
      "\n"
     ]
    },
    {
     "name": "stderr",
     "output_type": "stream",
     "text": [
      "100%|██████████| 49/49 [00:00<00:00, 43176.66it/s]\n"
     ]
    }
   ],
   "source": [
    "ema_df_di = {}\n",
    "\n",
    "for k,v in ema_folder_name_questions_id_li_di.items():\n",
    "    print(k)\n",
    "    ema_df_di[k] = get_ema_df(get_json_di(ema_folder_name_usr_files_di[k],EMA_abs_path,k),k,v)\n"
   ]
  },
  {
   "cell_type": "markdown",
   "metadata": {},
   "source": [
    "## Plotting events on time line"
   ]
  },
  {
   "cell_type": "code",
   "execution_count": 34,
   "metadata": {},
   "outputs": [
    {
     "name": "stdout",
     "output_type": "stream",
     "text": [
      "Social  data points :  1169\n",
      "Class  data points :  1097\n",
      "Sleep  data points :  1390\n",
      "Activity  data points :  538\n",
      "Exercise  data points :  763\n",
      "Study Spaces  data points :  200\n",
      "Events  data points :  232\n",
      "Dining Halls  data points :  214\n",
      "Lab  data points :  142\n",
      "Mood  data points :  277\n",
      "Class 2  data points :  97\n"
     ]
    }
   ],
   "source": [
    "for k,v in ema_df_di.items():\n",
    "    print(k,' data points : ',len(v))"
   ]
  },
  {
   "cell_type": "code",
   "execution_count": 35,
   "metadata": {},
   "outputs": [],
   "source": [
    "# stress_ema_df\n",
    "# mood2_ema_df"
   ]
  },
  {
   "cell_type": "code",
   "execution_count": 36,
   "metadata": {},
   "outputs": [
    {
     "data": {
      "text/html": [
       "<div>\n",
       "<style scoped>\n",
       "    .dataframe tbody tr th:only-of-type {\n",
       "        vertical-align: middle;\n",
       "    }\n",
       "\n",
       "    .dataframe tbody tr th {\n",
       "        vertical-align: top;\n",
       "    }\n",
       "\n",
       "    .dataframe thead th {\n",
       "        text-align: right;\n",
       "    }\n",
       "</style>\n",
       "<table border=\"1\" class=\"dataframe\">\n",
       "  <thead>\n",
       "    <tr style=\"text-align: right;\">\n",
       "      <th></th>\n",
       "      <th>user_id</th>\n",
       "      <th>date_time</th>\n",
       "      <th>year</th>\n",
       "      <th>month</th>\n",
       "      <th>day</th>\n",
       "      <th>hours</th>\n",
       "      <th>minute</th>\n",
       "      <th>weekday</th>\n",
       "      <th>weeknumber</th>\n",
       "      <th>label_source</th>\n",
       "      <th>rating</th>\n",
       "    </tr>\n",
       "  </thead>\n",
       "  <tbody>\n",
       "    <tr>\n",
       "      <th>0</th>\n",
       "      <td>u52</td>\n",
       "      <td>2013-03-30 15:24:00</td>\n",
       "      <td>2013</td>\n",
       "      <td>03</td>\n",
       "      <td>30</td>\n",
       "      <td>15</td>\n",
       "      <td>24</td>\n",
       "      <td>Sat</td>\n",
       "      <td>12</td>\n",
       "      <td>stress_ema</td>\n",
       "      <td>2</td>\n",
       "    </tr>\n",
       "    <tr>\n",
       "      <th>1</th>\n",
       "      <td>u52</td>\n",
       "      <td>2013-03-28 15:03:00</td>\n",
       "      <td>2013</td>\n",
       "      <td>03</td>\n",
       "      <td>28</td>\n",
       "      <td>15</td>\n",
       "      <td>03</td>\n",
       "      <td>Thu</td>\n",
       "      <td>12</td>\n",
       "      <td>stress_ema</td>\n",
       "      <td>1</td>\n",
       "    </tr>\n",
       "    <tr>\n",
       "      <th>2</th>\n",
       "      <td>u52</td>\n",
       "      <td>2013-03-31 15:11:00</td>\n",
       "      <td>2013</td>\n",
       "      <td>03</td>\n",
       "      <td>31</td>\n",
       "      <td>15</td>\n",
       "      <td>11</td>\n",
       "      <td>Sun</td>\n",
       "      <td>12</td>\n",
       "      <td>stress_ema</td>\n",
       "      <td>2</td>\n",
       "    </tr>\n",
       "    <tr>\n",
       "      <th>3</th>\n",
       "      <td>u52</td>\n",
       "      <td>2013-04-02 17:24:00</td>\n",
       "      <td>2013</td>\n",
       "      <td>04</td>\n",
       "      <td>02</td>\n",
       "      <td>17</td>\n",
       "      <td>24</td>\n",
       "      <td>Tue</td>\n",
       "      <td>13</td>\n",
       "      <td>stress_ema</td>\n",
       "      <td>1</td>\n",
       "    </tr>\n",
       "    <tr>\n",
       "      <th>4</th>\n",
       "      <td>u52</td>\n",
       "      <td>2013-04-02 23:44:00</td>\n",
       "      <td>2013</td>\n",
       "      <td>04</td>\n",
       "      <td>02</td>\n",
       "      <td>23</td>\n",
       "      <td>44</td>\n",
       "      <td>Tue</td>\n",
       "      <td>13</td>\n",
       "      <td>stress_ema</td>\n",
       "      <td>5</td>\n",
       "    </tr>\n",
       "  </tbody>\n",
       "</table>\n",
       "</div>"
      ],
      "text/plain": [
       "  user_id           date_time  year month day hours minute weekday weeknumber  \\\n",
       "0     u52 2013-03-30 15:24:00  2013    03  30    15     24     Sat         12   \n",
       "1     u52 2013-03-28 15:03:00  2013    03  28    15     03     Thu         12   \n",
       "2     u52 2013-03-31 15:11:00  2013    03  31    15     11     Sun         12   \n",
       "3     u52 2013-04-02 17:24:00  2013    04  02    17     24     Tue         13   \n",
       "4     u52 2013-04-02 23:44:00  2013    04  02    23     44     Tue         13   \n",
       "\n",
       "  label_source rating  \n",
       "0   stress_ema      2  \n",
       "1   stress_ema      1  \n",
       "2   stress_ema      2  \n",
       "3   stress_ema      1  \n",
       "4   stress_ema      5  "
      ]
     },
     "execution_count": 36,
     "metadata": {},
     "output_type": "execute_result"
    }
   ],
   "source": [
    "stress_ema_df['date_time'] = pd.to_datetime(stress_ema_df['date_time'])\n",
    "stress_ema_df.head()"
   ]
  },
  {
   "cell_type": "code",
   "execution_count": 37,
   "metadata": {},
   "outputs": [
    {
     "name": "stdout",
     "output_type": "stream",
     "text": [
      "<class 'pandas.core.frame.DataFrame'>\n",
      "RangeIndex: 2167 entries, 0 to 2166\n",
      "Data columns (total 11 columns):\n",
      " #   Column        Non-Null Count  Dtype         \n",
      "---  ------        --------------  -----         \n",
      " 0   user_id       2167 non-null   object        \n",
      " 1   date_time     2167 non-null   datetime64[ns]\n",
      " 2   year          2167 non-null   object        \n",
      " 3   month         2167 non-null   object        \n",
      " 4   day           2167 non-null   object        \n",
      " 5   hours         2167 non-null   object        \n",
      " 6   minute        2167 non-null   object        \n",
      " 7   weekday       2167 non-null   object        \n",
      " 8   weeknumber    2167 non-null   object        \n",
      " 9   label_source  2167 non-null   object        \n",
      " 10  rating        2167 non-null   object        \n",
      "dtypes: datetime64[ns](1), object(10)\n",
      "memory usage: 186.4+ KB\n"
     ]
    }
   ],
   "source": [
    "stress_ema_df.info()"
   ]
  },
  {
   "cell_type": "code",
   "execution_count": 38,
   "metadata": {},
   "outputs": [
    {
     "data": {
      "text/html": [
       "<div>\n",
       "<style scoped>\n",
       "    .dataframe tbody tr th:only-of-type {\n",
       "        vertical-align: middle;\n",
       "    }\n",
       "\n",
       "    .dataframe tbody tr th {\n",
       "        vertical-align: top;\n",
       "    }\n",
       "\n",
       "    .dataframe thead th {\n",
       "        text-align: right;\n",
       "    }\n",
       "</style>\n",
       "<table border=\"1\" class=\"dataframe\">\n",
       "  <thead>\n",
       "    <tr style=\"text-align: right;\">\n",
       "      <th></th>\n",
       "      <th>user_id</th>\n",
       "      <th>date_time</th>\n",
       "      <th>year</th>\n",
       "      <th>month</th>\n",
       "      <th>day</th>\n",
       "      <th>hours</th>\n",
       "      <th>minute</th>\n",
       "      <th>weekday</th>\n",
       "      <th>weeknumber</th>\n",
       "      <th>label_source</th>\n",
       "      <th>rating</th>\n",
       "    </tr>\n",
       "  </thead>\n",
       "  <tbody>\n",
       "    <tr>\n",
       "      <th>0</th>\n",
       "      <td>u00</td>\n",
       "      <td>2013-03-25 11:54:00</td>\n",
       "      <td>2013</td>\n",
       "      <td>03</td>\n",
       "      <td>25</td>\n",
       "      <td>11</td>\n",
       "      <td>54</td>\n",
       "      <td>Mon</td>\n",
       "      <td>12</td>\n",
       "      <td>stress_ema</td>\n",
       "      <td>2</td>\n",
       "    </tr>\n",
       "    <tr>\n",
       "      <th>1</th>\n",
       "      <td>u00</td>\n",
       "      <td>2013-03-25 20:33:00</td>\n",
       "      <td>2013</td>\n",
       "      <td>03</td>\n",
       "      <td>25</td>\n",
       "      <td>20</td>\n",
       "      <td>33</td>\n",
       "      <td>Mon</td>\n",
       "      <td>12</td>\n",
       "      <td>stress_ema</td>\n",
       "      <td>2</td>\n",
       "    </tr>\n",
       "    <tr>\n",
       "      <th>2</th>\n",
       "      <td>u00</td>\n",
       "      <td>2013-03-25 20:33:00</td>\n",
       "      <td>2013</td>\n",
       "      <td>03</td>\n",
       "      <td>25</td>\n",
       "      <td>20</td>\n",
       "      <td>33</td>\n",
       "      <td>Mon</td>\n",
       "      <td>12</td>\n",
       "      <td>stress_ema</td>\n",
       "      <td>2</td>\n",
       "    </tr>\n",
       "    <tr>\n",
       "      <th>3</th>\n",
       "      <td>u00</td>\n",
       "      <td>2013-03-26 18:12:00</td>\n",
       "      <td>2013</td>\n",
       "      <td>03</td>\n",
       "      <td>26</td>\n",
       "      <td>18</td>\n",
       "      <td>12</td>\n",
       "      <td>Tue</td>\n",
       "      <td>12</td>\n",
       "      <td>stress_ema</td>\n",
       "      <td>1</td>\n",
       "    </tr>\n",
       "    <tr>\n",
       "      <th>4</th>\n",
       "      <td>u00</td>\n",
       "      <td>2013-03-27 19:25:00</td>\n",
       "      <td>2013</td>\n",
       "      <td>03</td>\n",
       "      <td>27</td>\n",
       "      <td>19</td>\n",
       "      <td>25</td>\n",
       "      <td>Wed</td>\n",
       "      <td>12</td>\n",
       "      <td>stress_ema</td>\n",
       "      <td>1</td>\n",
       "    </tr>\n",
       "  </tbody>\n",
       "</table>\n",
       "</div>"
      ],
      "text/plain": [
       "  user_id           date_time  year month day hours minute weekday weeknumber  \\\n",
       "0     u00 2013-03-25 11:54:00  2013    03  25    11     54     Mon         12   \n",
       "1     u00 2013-03-25 20:33:00  2013    03  25    20     33     Mon         12   \n",
       "2     u00 2013-03-25 20:33:00  2013    03  25    20     33     Mon         12   \n",
       "3     u00 2013-03-26 18:12:00  2013    03  26    18     12     Tue         12   \n",
       "4     u00 2013-03-27 19:25:00  2013    03  27    19     25     Wed         12   \n",
       "\n",
       "  label_source rating  \n",
       "0   stress_ema      2  \n",
       "1   stress_ema      2  \n",
       "2   stress_ema      2  \n",
       "3   stress_ema      1  \n",
       "4   stress_ema      1  "
      ]
     },
     "execution_count": 38,
     "metadata": {},
     "output_type": "execute_result"
    }
   ],
   "source": [
    "stress_ema_sort_df = stress_ema_df.groupby('user_id').apply(lambda x : x.sort_values(['date_time'])).reset_index(drop=True)\n",
    "stress_ema_sort_df.head()"
   ]
  },
  {
   "cell_type": "markdown",
   "metadata": {},
   "source": [
    "### Dropping duplicates !!!!\n",
    "\n",
    "Exact same value in one row"
   ]
  },
  {
   "cell_type": "code",
   "execution_count": 39,
   "metadata": {},
   "outputs": [
    {
     "data": {
      "text/plain": [
       "2167"
      ]
     },
     "execution_count": 39,
     "metadata": {},
     "output_type": "execute_result"
    }
   ],
   "source": [
    "len(stress_ema_sort_df)"
   ]
  },
  {
   "cell_type": "code",
   "execution_count": 40,
   "metadata": {},
   "outputs": [
    {
     "data": {
      "text/plain": [
       "2132"
      ]
     },
     "execution_count": 40,
     "metadata": {},
     "output_type": "execute_result"
    }
   ],
   "source": [
    "stress_ema_sort_df.drop_duplicates(inplace=True)\n",
    "len(stress_ema_sort_df)"
   ]
  },
  {
   "cell_type": "markdown",
   "metadata": {},
   "source": [
    "### Removing outliers\n",
    "\n",
    "Data from other time zone (ex: u00)"
   ]
  },
  {
   "cell_type": "code",
   "execution_count": 41,
   "metadata": {},
   "outputs": [
    {
     "data": {
      "text/html": [
       "<div>\n",
       "<style scoped>\n",
       "    .dataframe tbody tr th:only-of-type {\n",
       "        vertical-align: middle;\n",
       "    }\n",
       "\n",
       "    .dataframe tbody tr th {\n",
       "        vertical-align: top;\n",
       "    }\n",
       "\n",
       "    .dataframe thead th {\n",
       "        text-align: right;\n",
       "    }\n",
       "</style>\n",
       "<table border=\"1\" class=\"dataframe\">\n",
       "  <thead>\n",
       "    <tr style=\"text-align: right;\">\n",
       "      <th></th>\n",
       "      <th>user_id</th>\n",
       "      <th>date_time</th>\n",
       "      <th>year</th>\n",
       "      <th>month</th>\n",
       "      <th>day</th>\n",
       "      <th>hours</th>\n",
       "      <th>minute</th>\n",
       "      <th>weekday</th>\n",
       "      <th>weeknumber</th>\n",
       "      <th>label_source</th>\n",
       "      <th>rating</th>\n",
       "    </tr>\n",
       "  </thead>\n",
       "  <tbody>\n",
       "    <tr>\n",
       "      <th>70</th>\n",
       "      <td>u00</td>\n",
       "      <td>2013-08-06 18:48:00</td>\n",
       "      <td>2013</td>\n",
       "      <td>08</td>\n",
       "      <td>06</td>\n",
       "      <td>18</td>\n",
       "      <td>48</td>\n",
       "      <td>Tue</td>\n",
       "      <td>31</td>\n",
       "      <td>stress_ema</td>\n",
       "      <td>1</td>\n",
       "    </tr>\n",
       "    <tr>\n",
       "      <th>71</th>\n",
       "      <td>u00</td>\n",
       "      <td>2013-08-07 17:47:00</td>\n",
       "      <td>2013</td>\n",
       "      <td>08</td>\n",
       "      <td>07</td>\n",
       "      <td>17</td>\n",
       "      <td>47</td>\n",
       "      <td>Wed</td>\n",
       "      <td>31</td>\n",
       "      <td>stress_ema</td>\n",
       "      <td>3</td>\n",
       "    </tr>\n",
       "    <tr>\n",
       "      <th>72</th>\n",
       "      <td>u00</td>\n",
       "      <td>2013-08-09 20:44:00</td>\n",
       "      <td>2013</td>\n",
       "      <td>08</td>\n",
       "      <td>09</td>\n",
       "      <td>20</td>\n",
       "      <td>44</td>\n",
       "      <td>Fri</td>\n",
       "      <td>31</td>\n",
       "      <td>stress_ema</td>\n",
       "      <td>1</td>\n",
       "    </tr>\n",
       "    <tr>\n",
       "      <th>73</th>\n",
       "      <td>u00</td>\n",
       "      <td>2013-08-15 17:56:00</td>\n",
       "      <td>2013</td>\n",
       "      <td>08</td>\n",
       "      <td>15</td>\n",
       "      <td>17</td>\n",
       "      <td>56</td>\n",
       "      <td>Thu</td>\n",
       "      <td>32</td>\n",
       "      <td>stress_ema</td>\n",
       "      <td>2</td>\n",
       "    </tr>\n",
       "  </tbody>\n",
       "</table>\n",
       "</div>"
      ],
      "text/plain": [
       "   user_id           date_time  year month day hours minute weekday  \\\n",
       "70     u00 2013-08-06 18:48:00  2013    08  06    18     48     Tue   \n",
       "71     u00 2013-08-07 17:47:00  2013    08  07    17     47     Wed   \n",
       "72     u00 2013-08-09 20:44:00  2013    08  09    20     44     Fri   \n",
       "73     u00 2013-08-15 17:56:00  2013    08  15    17     56     Thu   \n",
       "\n",
       "   weeknumber label_source rating  \n",
       "70         31   stress_ema      1  \n",
       "71         31   stress_ema      3  \n",
       "72         31   stress_ema      1  \n",
       "73         32   stress_ema      2  "
      ]
     },
     "execution_count": 41,
     "metadata": {},
     "output_type": "execute_result"
    }
   ],
   "source": [
    "stress_ema_sort_df[stress_ema_sort_df['date_time'] >  datetime(2013,6,8)] ## for finding the threshold for date (so that other users are not removed)"
   ]
  },
  {
   "cell_type": "code",
   "execution_count": 42,
   "metadata": {},
   "outputs": [
    {
     "data": {
      "text/plain": [
       "Int64Index([70, 71, 72, 73], dtype='int64')"
      ]
     },
     "execution_count": 42,
     "metadata": {},
     "output_type": "execute_result"
    }
   ],
   "source": [
    "user00_df = stress_ema_sort_df[stress_ema_sort_df['user_id'] == 'u00']\n",
    "\n",
    "drop_ind = user00_df[user00_df['date_time']> datetime(2013,6,8)].index\n",
    "drop_ind"
   ]
  },
  {
   "cell_type": "code",
   "execution_count": 43,
   "metadata": {},
   "outputs": [
    {
     "data": {
      "text/plain": [
       "2132"
      ]
     },
     "execution_count": 43,
     "metadata": {},
     "output_type": "execute_result"
    }
   ],
   "source": [
    "len(stress_ema_sort_df)"
   ]
  },
  {
   "cell_type": "code",
   "execution_count": 44,
   "metadata": {},
   "outputs": [
    {
     "data": {
      "text/plain": [
       "2128"
      ]
     },
     "execution_count": 44,
     "metadata": {},
     "output_type": "execute_result"
    }
   ],
   "source": [
    "stress_ema_sort_df.drop(index = drop_ind,inplace=True)\n",
    "\n",
    "len(stress_ema_sort_df)"
   ]
  },
  {
   "cell_type": "code",
   "execution_count": 45,
   "metadata": {},
   "outputs": [
    {
     "ename": "ConnectTimeout",
     "evalue": "timed out",
     "output_type": "error",
     "traceback": [
      "\u001b[0;31m---------------------------------------------------------------------------\u001b[0m",
      "\u001b[0;31mTimeoutError\u001b[0m                              Traceback (most recent call last)",
      "File \u001b[0;32m~/anaconda3/envs/ucsd_hw/lib/python3.10/site-packages/httpcore/_exceptions.py:8\u001b[0m, in \u001b[0;36mmap_exceptions\u001b[0;34m(map)\u001b[0m\n\u001b[1;32m      7\u001b[0m \u001b[39mtry\u001b[39;00m:\n\u001b[0;32m----> 8\u001b[0m     \u001b[39myield\u001b[39;00m\n\u001b[1;32m      9\u001b[0m \u001b[39mexcept\u001b[39;00m \u001b[39mException\u001b[39;00m \u001b[39mas\u001b[39;00m exc:  \u001b[39m# noqa: PIE786\u001b[39;00m\n",
      "File \u001b[0;32m~/anaconda3/envs/ucsd_hw/lib/python3.10/site-packages/httpcore/backends/sync.py:86\u001b[0m, in \u001b[0;36mSyncBackend.connect_tcp\u001b[0;34m(self, host, port, timeout, local_address)\u001b[0m\n\u001b[1;32m     85\u001b[0m \u001b[39mwith\u001b[39;00m map_exceptions(exc_map):\n\u001b[0;32m---> 86\u001b[0m     sock \u001b[39m=\u001b[39m socket\u001b[39m.\u001b[39;49mcreate_connection(\n\u001b[1;32m     87\u001b[0m         address, timeout, source_address\u001b[39m=\u001b[39;49msource_address\n\u001b[1;32m     88\u001b[0m     )\n\u001b[1;32m     89\u001b[0m \u001b[39mreturn\u001b[39;00m SyncStream(sock)\n",
      "File \u001b[0;32m~/anaconda3/envs/ucsd_hw/lib/python3.10/socket.py:845\u001b[0m, in \u001b[0;36mcreate_connection\u001b[0;34m(address, timeout, source_address)\u001b[0m\n\u001b[1;32m    844\u001b[0m \u001b[39mtry\u001b[39;00m:\n\u001b[0;32m--> 845\u001b[0m     \u001b[39mraise\u001b[39;00m err\n\u001b[1;32m    846\u001b[0m \u001b[39mfinally\u001b[39;00m:\n\u001b[1;32m    847\u001b[0m     \u001b[39m# Break explicitly a reference cycle\u001b[39;00m\n",
      "File \u001b[0;32m~/anaconda3/envs/ucsd_hw/lib/python3.10/socket.py:833\u001b[0m, in \u001b[0;36mcreate_connection\u001b[0;34m(address, timeout, source_address)\u001b[0m\n\u001b[1;32m    832\u001b[0m     sock\u001b[39m.\u001b[39mbind(source_address)\n\u001b[0;32m--> 833\u001b[0m sock\u001b[39m.\u001b[39;49mconnect(sa)\n\u001b[1;32m    834\u001b[0m \u001b[39m# Break explicitly a reference cycle\u001b[39;00m\n",
      "\u001b[0;31mTimeoutError\u001b[0m: timed out",
      "\nDuring handling of the above exception, another exception occurred:\n",
      "\u001b[0;31mConnectTimeout\u001b[0m                            Traceback (most recent call last)",
      "File \u001b[0;32m~/anaconda3/envs/ucsd_hw/lib/python3.10/site-packages/httpx/_transports/default.py:60\u001b[0m, in \u001b[0;36mmap_httpcore_exceptions\u001b[0;34m()\u001b[0m\n\u001b[1;32m     59\u001b[0m \u001b[39mtry\u001b[39;00m:\n\u001b[0;32m---> 60\u001b[0m     \u001b[39myield\u001b[39;00m\n\u001b[1;32m     61\u001b[0m \u001b[39mexcept\u001b[39;00m \u001b[39mException\u001b[39;00m \u001b[39mas\u001b[39;00m exc:  \u001b[39m# noqa: PIE-786\u001b[39;00m\n",
      "File \u001b[0;32m~/anaconda3/envs/ucsd_hw/lib/python3.10/site-packages/httpx/_transports/default.py:218\u001b[0m, in \u001b[0;36mHTTPTransport.handle_request\u001b[0;34m(self, request)\u001b[0m\n\u001b[1;32m    217\u001b[0m \u001b[39mwith\u001b[39;00m map_httpcore_exceptions():\n\u001b[0;32m--> 218\u001b[0m     resp \u001b[39m=\u001b[39m \u001b[39mself\u001b[39;49m\u001b[39m.\u001b[39;49m_pool\u001b[39m.\u001b[39;49mhandle_request(req)\n\u001b[1;32m    220\u001b[0m \u001b[39massert\u001b[39;00m \u001b[39misinstance\u001b[39m(resp\u001b[39m.\u001b[39mstream, typing\u001b[39m.\u001b[39mIterable)\n",
      "File \u001b[0;32m~/anaconda3/envs/ucsd_hw/lib/python3.10/site-packages/httpcore/_sync/connection_pool.py:253\u001b[0m, in \u001b[0;36mConnectionPool.handle_request\u001b[0;34m(self, request)\u001b[0m\n\u001b[1;32m    252\u001b[0m     \u001b[39mself\u001b[39m\u001b[39m.\u001b[39mresponse_closed(status)\n\u001b[0;32m--> 253\u001b[0m     \u001b[39mraise\u001b[39;00m exc\n\u001b[1;32m    254\u001b[0m \u001b[39melse\u001b[39;00m:\n",
      "File \u001b[0;32m~/anaconda3/envs/ucsd_hw/lib/python3.10/site-packages/httpcore/_sync/connection_pool.py:237\u001b[0m, in \u001b[0;36mConnectionPool.handle_request\u001b[0;34m(self, request)\u001b[0m\n\u001b[1;32m    236\u001b[0m \u001b[39mtry\u001b[39;00m:\n\u001b[0;32m--> 237\u001b[0m     response \u001b[39m=\u001b[39m connection\u001b[39m.\u001b[39;49mhandle_request(request)\n\u001b[1;32m    238\u001b[0m \u001b[39mexcept\u001b[39;00m ConnectionNotAvailable:\n\u001b[1;32m    239\u001b[0m     \u001b[39m# The ConnectionNotAvailable exception is a special case, that\u001b[39;00m\n\u001b[1;32m    240\u001b[0m     \u001b[39m# indicates we need to retry the request on a new connection.\u001b[39;00m\n\u001b[0;32m   (...)\u001b[0m\n\u001b[1;32m    244\u001b[0m     \u001b[39m# might end up as an HTTP/2 connection, but which actually ends\u001b[39;00m\n\u001b[1;32m    245\u001b[0m     \u001b[39m# up as HTTP/1.1.\u001b[39;00m\n",
      "File \u001b[0;32m~/anaconda3/envs/ucsd_hw/lib/python3.10/site-packages/httpcore/_sync/connection.py:86\u001b[0m, in \u001b[0;36mHTTPConnection.handle_request\u001b[0;34m(self, request)\u001b[0m\n\u001b[1;32m     85\u001b[0m         \u001b[39mself\u001b[39m\u001b[39m.\u001b[39m_connect_failed \u001b[39m=\u001b[39m \u001b[39mTrue\u001b[39;00m\n\u001b[0;32m---> 86\u001b[0m         \u001b[39mraise\u001b[39;00m exc\n\u001b[1;32m     87\u001b[0m \u001b[39melif\u001b[39;00m \u001b[39mnot\u001b[39;00m \u001b[39mself\u001b[39m\u001b[39m.\u001b[39m_connection\u001b[39m.\u001b[39mis_available():\n",
      "File \u001b[0;32m~/anaconda3/envs/ucsd_hw/lib/python3.10/site-packages/httpcore/_sync/connection.py:63\u001b[0m, in \u001b[0;36mHTTPConnection.handle_request\u001b[0;34m(self, request)\u001b[0m\n\u001b[1;32m     62\u001b[0m \u001b[39mtry\u001b[39;00m:\n\u001b[0;32m---> 63\u001b[0m     stream \u001b[39m=\u001b[39m \u001b[39mself\u001b[39;49m\u001b[39m.\u001b[39;49m_connect(request)\n\u001b[1;32m     65\u001b[0m     ssl_object \u001b[39m=\u001b[39m stream\u001b[39m.\u001b[39mget_extra_info(\u001b[39m\"\u001b[39m\u001b[39mssl_object\u001b[39m\u001b[39m\"\u001b[39m)\n",
      "File \u001b[0;32m~/anaconda3/envs/ucsd_hw/lib/python3.10/site-packages/httpcore/_sync/connection.py:111\u001b[0m, in \u001b[0;36mHTTPConnection._connect\u001b[0;34m(self, request)\u001b[0m\n\u001b[1;32m    108\u001b[0m \u001b[39mwith\u001b[39;00m Trace(\n\u001b[1;32m    109\u001b[0m     \u001b[39m\"\u001b[39m\u001b[39mconnection.connect_tcp\u001b[39m\u001b[39m\"\u001b[39m, request, kwargs\n\u001b[1;32m    110\u001b[0m ) \u001b[39mas\u001b[39;00m trace:\n\u001b[0;32m--> 111\u001b[0m     stream \u001b[39m=\u001b[39m \u001b[39mself\u001b[39;49m\u001b[39m.\u001b[39;49m_network_backend\u001b[39m.\u001b[39;49mconnect_tcp(\u001b[39m*\u001b[39;49m\u001b[39m*\u001b[39;49mkwargs)\n\u001b[1;32m    112\u001b[0m     trace\u001b[39m.\u001b[39mreturn_value \u001b[39m=\u001b[39m stream\n",
      "File \u001b[0;32m~/anaconda3/envs/ucsd_hw/lib/python3.10/site-packages/httpcore/backends/sync.py:85\u001b[0m, in \u001b[0;36mSyncBackend.connect_tcp\u001b[0;34m(self, host, port, timeout, local_address)\u001b[0m\n\u001b[1;32m     84\u001b[0m exc_map \u001b[39m=\u001b[39m {socket\u001b[39m.\u001b[39mtimeout: ConnectTimeout, socket\u001b[39m.\u001b[39merror: ConnectError}\n\u001b[0;32m---> 85\u001b[0m \u001b[39mwith\u001b[39;00m map_exceptions(exc_map):\n\u001b[1;32m     86\u001b[0m     sock \u001b[39m=\u001b[39m socket\u001b[39m.\u001b[39mcreate_connection(\n\u001b[1;32m     87\u001b[0m         address, timeout, source_address\u001b[39m=\u001b[39msource_address\n\u001b[1;32m     88\u001b[0m     )\n",
      "File \u001b[0;32m~/anaconda3/envs/ucsd_hw/lib/python3.10/contextlib.py:153\u001b[0m, in \u001b[0;36m_GeneratorContextManager.__exit__\u001b[0;34m(self, typ, value, traceback)\u001b[0m\n\u001b[1;32m    152\u001b[0m \u001b[39mtry\u001b[39;00m:\n\u001b[0;32m--> 153\u001b[0m     \u001b[39mself\u001b[39;49m\u001b[39m.\u001b[39;49mgen\u001b[39m.\u001b[39;49mthrow(typ, value, traceback)\n\u001b[1;32m    154\u001b[0m \u001b[39mexcept\u001b[39;00m \u001b[39mStopIteration\u001b[39;00m \u001b[39mas\u001b[39;00m exc:\n\u001b[1;32m    155\u001b[0m     \u001b[39m# Suppress StopIteration *unless* it's the same exception that\u001b[39;00m\n\u001b[1;32m    156\u001b[0m     \u001b[39m# was passed to throw().  This prevents a StopIteration\u001b[39;00m\n\u001b[1;32m    157\u001b[0m     \u001b[39m# raised inside the \"with\" statement from being suppressed.\u001b[39;00m\n",
      "File \u001b[0;32m~/anaconda3/envs/ucsd_hw/lib/python3.10/site-packages/httpcore/_exceptions.py:12\u001b[0m, in \u001b[0;36mmap_exceptions\u001b[0;34m(map)\u001b[0m\n\u001b[1;32m     11\u001b[0m     \u001b[39mif\u001b[39;00m \u001b[39misinstance\u001b[39m(exc, from_exc):\n\u001b[0;32m---> 12\u001b[0m         \u001b[39mraise\u001b[39;00m to_exc(exc)\n\u001b[1;32m     13\u001b[0m \u001b[39mraise\u001b[39;00m\n",
      "\u001b[0;31mConnectTimeout\u001b[0m: timed out",
      "\nThe above exception was the direct cause of the following exception:\n",
      "\u001b[0;31mConnectTimeout\u001b[0m                            Traceback (most recent call last)",
      "Cell \u001b[0;32mIn [45], line 1\u001b[0m\n\u001b[0;32m----> 1\u001b[0m \u001b[39mfrom\u001b[39;00m \u001b[39mmsticpy\u001b[39;00m\u001b[39m.\u001b[39;00m\u001b[39mvis\u001b[39;00m\u001b[39m.\u001b[39;00m\u001b[39mtimeline\u001b[39;00m \u001b[39mimport\u001b[39;00m display_timeline\n",
      "File \u001b[0;32m~/anaconda3/envs/ucsd_hw/lib/python3.10/site-packages/msticpy/__init__.py:69\u001b[0m\n\u001b[1;32m     67\u001b[0m \u001b[39mfrom\u001b[39;00m \u001b[39m.\u001b[39;00m\u001b[39mcommon\u001b[39;00m\u001b[39m.\u001b[39;00m\u001b[39mutility\u001b[39;00m \u001b[39mimport\u001b[39;00m search_name \u001b[39mas\u001b[39;00m search\n\u001b[1;32m     68\u001b[0m \u001b[39mfrom\u001b[39;00m \u001b[39m.\u001b[39;00m\u001b[39mdatamodel\u001b[39;00m \u001b[39mimport\u001b[39;00m entities\n\u001b[0;32m---> 69\u001b[0m \u001b[39mfrom\u001b[39;00m \u001b[39m.\u001b[39;00m\u001b[39minit\u001b[39;00m\u001b[39m.\u001b[39;00m\u001b[39mpivot\u001b[39;00m \u001b[39mimport\u001b[39;00m Pivot\n\u001b[1;32m     71\u001b[0m __version__ \u001b[39m=\u001b[39m VERSION\n\u001b[1;32m     72\u001b[0m __author__ \u001b[39m=\u001b[39m \u001b[39m\"\u001b[39m\u001b[39mIan Hellen, Pete Bryan, Ashwin Patil\u001b[39m\u001b[39m\"\u001b[39m\n",
      "File \u001b[0;32m~/anaconda3/envs/ucsd_hw/lib/python3.10/site-packages/msticpy/init/pivot.py:22\u001b[0m\n\u001b[1;32m     20\u001b[0m \u001b[39mfrom\u001b[39;00m \u001b[39m.\u001b[39;00m\u001b[39m.\u001b[39;00m\u001b[39m_version\u001b[39;00m \u001b[39mimport\u001b[39;00m VERSION\n\u001b[1;32m     21\u001b[0m \u001b[39mfrom\u001b[39;00m \u001b[39m.\u001b[39;00m\u001b[39m.\u001b[39;00m\u001b[39mcommon\u001b[39;00m\u001b[39m.\u001b[39;00m\u001b[39mtimespan\u001b[39;00m \u001b[39mimport\u001b[39;00m TimeSpan\n\u001b[0;32m---> 22\u001b[0m \u001b[39mfrom\u001b[39;00m \u001b[39m.\u001b[39;00m\u001b[39m.\u001b[39;00m\u001b[39mcontext\u001b[39;00m\u001b[39m.\u001b[39;00m\u001b[39mtilookup\u001b[39;00m \u001b[39mimport\u001b[39;00m TILookup\n\u001b[1;32m     23\u001b[0m \u001b[39mfrom\u001b[39;00m \u001b[39m.\u001b[39;00m\u001b[39m.\u001b[39;00m\u001b[39mdata\u001b[39;00m \u001b[39mimport\u001b[39;00m QueryProvider\n\u001b[1;32m     24\u001b[0m \u001b[39mfrom\u001b[39;00m \u001b[39m.\u001b[39;00m\u001b[39m.\u001b[39;00m\u001b[39mdatamodel\u001b[39;00m \u001b[39mimport\u001b[39;00m entities\n",
      "File \u001b[0;32m~/anaconda3/envs/ucsd_hw/lib/python3.10/site-packages/msticpy/context/__init__.py:11\u001b[0m\n\u001b[1;32m      9\u001b[0m \u001b[39m# flake8: noqa: F403\u001b[39;00m\n\u001b[1;32m     10\u001b[0m \u001b[39mfrom\u001b[39;00m \u001b[39m.\u001b[39;00m\u001b[39m.\u001b[39;00m\u001b[39mcommon\u001b[39;00m\u001b[39m.\u001b[39;00m\u001b[39mutility\u001b[39;00m \u001b[39mimport\u001b[39;00m ImportPlaceholder\n\u001b[0;32m---> 11\u001b[0m \u001b[39mfrom\u001b[39;00m \u001b[39m.\u001b[39;00m\u001b[39mgeoip\u001b[39;00m \u001b[39mimport\u001b[39;00m GeoLiteLookup, IPStackLookup\n\u001b[1;32m     12\u001b[0m \u001b[39mfrom\u001b[39;00m \u001b[39m.\u001b[39;00m\u001b[39mtilookup\u001b[39;00m \u001b[39mimport\u001b[39;00m TILookup\n\u001b[1;32m     13\u001b[0m \u001b[39mfrom\u001b[39;00m \u001b[39m.\u001b[39;00m\u001b[39mvtlookupv3\u001b[39;00m \u001b[39mimport\u001b[39;00m VT3_AVAILABLE\n",
      "File \u001b[0;32m~/anaconda3/envs/ucsd_hw/lib/python3.10/site-packages/msticpy/context/geoip.py:47\u001b[0m\n\u001b[1;32m     45\u001b[0m \u001b[39mfrom\u001b[39;00m \u001b[39m.\u001b[39;00m\u001b[39m.\u001b[39;00m\u001b[39mcommon\u001b[39;00m\u001b[39m.\u001b[39;00m\u001b[39mutility\u001b[39;00m \u001b[39mimport\u001b[39;00m SingletonArgsClass, export, is_ipython, mp_ua_header\n\u001b[1;32m     46\u001b[0m \u001b[39mfrom\u001b[39;00m \u001b[39m.\u001b[39;00m\u001b[39m.\u001b[39;00m\u001b[39mdatamodel\u001b[39;00m\u001b[39m.\u001b[39;00m\u001b[39mentities\u001b[39;00m \u001b[39mimport\u001b[39;00m GeoLocation, IpAddress\n\u001b[0;32m---> 47\u001b[0m \u001b[39mfrom\u001b[39;00m \u001b[39m.\u001b[39;00m\u001b[39mip_utils\u001b[39;00m \u001b[39mimport\u001b[39;00m get_ip_type\n\u001b[1;32m     49\u001b[0m __version__ \u001b[39m=\u001b[39m VERSION\n\u001b[1;32m     50\u001b[0m __author__ \u001b[39m=\u001b[39m \u001b[39m\"\u001b[39m\u001b[39mIan Hellen\u001b[39m\u001b[39m\"\u001b[39m\n",
      "File \u001b[0;32m~/anaconda3/envs/ucsd_hw/lib/python3.10/site-packages/msticpy/context/ip_utils.py:54\u001b[0m\n\u001b[1;32m     34\u001b[0m __author__ \u001b[39m=\u001b[39m \u001b[39m\"\u001b[39m\u001b[39mAshwin Patil\u001b[39m\u001b[39m\"\u001b[39m\n\u001b[1;32m     37\u001b[0m _REGISTRIES \u001b[39m=\u001b[39m {\n\u001b[1;32m     38\u001b[0m     \u001b[39m\"\u001b[39m\u001b[39marin\u001b[39m\u001b[39m\"\u001b[39m: {\n\u001b[1;32m     39\u001b[0m         \u001b[39m\"\u001b[39m\u001b[39murl\u001b[39m\u001b[39m\"\u001b[39m: \u001b[39m\"\u001b[39m\u001b[39mhttp://rdap.arin.net/registry/ip/\u001b[39m\u001b[39m\"\u001b[39m,\n\u001b[0;32m   (...)\u001b[0m\n\u001b[1;32m     52\u001b[0m     },\n\u001b[1;32m     53\u001b[0m }\n\u001b[0;32m---> 54\u001b[0m _ASNS \u001b[39m=\u001b[39m httpx\u001b[39m.\u001b[39;49mget(\u001b[39m\"\u001b[39;49m\u001b[39mhttps://bgp.potaroo.net/cidr/autnums.html\u001b[39;49m\u001b[39m\"\u001b[39;49m)\n\u001b[1;32m     55\u001b[0m _ASNS_SOUP \u001b[39m=\u001b[39m BeautifulSoup(_ASNS\u001b[39m.\u001b[39mcontent, features\u001b[39m=\u001b[39m\u001b[39m\"\u001b[39m\u001b[39mlxml\u001b[39m\u001b[39m\"\u001b[39m)\n\u001b[1;32m     58\u001b[0m \u001b[39m@export\u001b[39m  \u001b[39m# noqa: MC0001\u001b[39;00m\n\u001b[1;32m     59\u001b[0m \u001b[39mdef\u001b[39;00m \u001b[39mconvert_to_ip_entities\u001b[39m(  \u001b[39m# noqa: MC0001\u001b[39;00m\n\u001b[1;32m     60\u001b[0m     ip_str: Optional[\u001b[39mstr\u001b[39m] \u001b[39m=\u001b[39m \u001b[39mNone\u001b[39;00m,\n\u001b[0;32m   (...)\u001b[0m\n\u001b[1;32m     63\u001b[0m     geo_lookup: \u001b[39mbool\u001b[39m \u001b[39m=\u001b[39m \u001b[39mTrue\u001b[39;00m,\n\u001b[1;32m     64\u001b[0m ) \u001b[39m-\u001b[39m\u001b[39m>\u001b[39m List[IpAddress]:  \u001b[39m# noqa: MC0001\u001b[39;00m\n",
      "File \u001b[0;32m~/anaconda3/envs/ucsd_hw/lib/python3.10/site-packages/httpx/_api.py:189\u001b[0m, in \u001b[0;36mget\u001b[0;34m(url, params, headers, cookies, auth, proxies, follow_redirects, cert, verify, timeout, trust_env)\u001b[0m\n\u001b[1;32m    167\u001b[0m \u001b[39mdef\u001b[39;00m \u001b[39mget\u001b[39m(\n\u001b[1;32m    168\u001b[0m     url: URLTypes,\n\u001b[1;32m    169\u001b[0m     \u001b[39m*\u001b[39m,\n\u001b[0;32m   (...)\u001b[0m\n\u001b[1;32m    179\u001b[0m     trust_env: \u001b[39mbool\u001b[39m \u001b[39m=\u001b[39m \u001b[39mTrue\u001b[39;00m,\n\u001b[1;32m    180\u001b[0m ) \u001b[39m-\u001b[39m\u001b[39m>\u001b[39m Response:\n\u001b[1;32m    181\u001b[0m     \u001b[39m\"\"\"\u001b[39;00m\n\u001b[1;32m    182\u001b[0m \u001b[39m    Sends a `GET` request.\u001b[39;00m\n\u001b[1;32m    183\u001b[0m \n\u001b[0;32m   (...)\u001b[0m\n\u001b[1;32m    187\u001b[0m \u001b[39m    on this function, as `GET` requests should not include a request body.\u001b[39;00m\n\u001b[1;32m    188\u001b[0m \u001b[39m    \"\"\"\u001b[39;00m\n\u001b[0;32m--> 189\u001b[0m     \u001b[39mreturn\u001b[39;00m request(\n\u001b[1;32m    190\u001b[0m         \u001b[39m\"\u001b[39;49m\u001b[39mGET\u001b[39;49m\u001b[39m\"\u001b[39;49m,\n\u001b[1;32m    191\u001b[0m         url,\n\u001b[1;32m    192\u001b[0m         params\u001b[39m=\u001b[39;49mparams,\n\u001b[1;32m    193\u001b[0m         headers\u001b[39m=\u001b[39;49mheaders,\n\u001b[1;32m    194\u001b[0m         cookies\u001b[39m=\u001b[39;49mcookies,\n\u001b[1;32m    195\u001b[0m         auth\u001b[39m=\u001b[39;49mauth,\n\u001b[1;32m    196\u001b[0m         proxies\u001b[39m=\u001b[39;49mproxies,\n\u001b[1;32m    197\u001b[0m         follow_redirects\u001b[39m=\u001b[39;49mfollow_redirects,\n\u001b[1;32m    198\u001b[0m         cert\u001b[39m=\u001b[39;49mcert,\n\u001b[1;32m    199\u001b[0m         verify\u001b[39m=\u001b[39;49mverify,\n\u001b[1;32m    200\u001b[0m         timeout\u001b[39m=\u001b[39;49mtimeout,\n\u001b[1;32m    201\u001b[0m         trust_env\u001b[39m=\u001b[39;49mtrust_env,\n\u001b[1;32m    202\u001b[0m     )\n",
      "File \u001b[0;32m~/anaconda3/envs/ucsd_hw/lib/python3.10/site-packages/httpx/_api.py:100\u001b[0m, in \u001b[0;36mrequest\u001b[0;34m(method, url, params, content, data, files, json, headers, cookies, auth, proxies, timeout, follow_redirects, verify, cert, trust_env)\u001b[0m\n\u001b[1;32m     42\u001b[0m \u001b[39m\"\"\"\u001b[39;00m\n\u001b[1;32m     43\u001b[0m \u001b[39mSends an HTTP request.\u001b[39;00m\n\u001b[1;32m     44\u001b[0m \n\u001b[0;32m   (...)\u001b[0m\n\u001b[1;32m     90\u001b[0m \u001b[39m```\u001b[39;00m\n\u001b[1;32m     91\u001b[0m \u001b[39m\"\"\"\u001b[39;00m\n\u001b[1;32m     92\u001b[0m \u001b[39mwith\u001b[39;00m Client(\n\u001b[1;32m     93\u001b[0m     cookies\u001b[39m=\u001b[39mcookies,\n\u001b[1;32m     94\u001b[0m     proxies\u001b[39m=\u001b[39mproxies,\n\u001b[0;32m   (...)\u001b[0m\n\u001b[1;32m     98\u001b[0m     trust_env\u001b[39m=\u001b[39mtrust_env,\n\u001b[1;32m     99\u001b[0m ) \u001b[39mas\u001b[39;00m client:\n\u001b[0;32m--> 100\u001b[0m     \u001b[39mreturn\u001b[39;00m client\u001b[39m.\u001b[39;49mrequest(\n\u001b[1;32m    101\u001b[0m         method\u001b[39m=\u001b[39;49mmethod,\n\u001b[1;32m    102\u001b[0m         url\u001b[39m=\u001b[39;49murl,\n\u001b[1;32m    103\u001b[0m         content\u001b[39m=\u001b[39;49mcontent,\n\u001b[1;32m    104\u001b[0m         data\u001b[39m=\u001b[39;49mdata,\n\u001b[1;32m    105\u001b[0m         files\u001b[39m=\u001b[39;49mfiles,\n\u001b[1;32m    106\u001b[0m         json\u001b[39m=\u001b[39;49mjson,\n\u001b[1;32m    107\u001b[0m         params\u001b[39m=\u001b[39;49mparams,\n\u001b[1;32m    108\u001b[0m         headers\u001b[39m=\u001b[39;49mheaders,\n\u001b[1;32m    109\u001b[0m         auth\u001b[39m=\u001b[39;49mauth,\n\u001b[1;32m    110\u001b[0m         follow_redirects\u001b[39m=\u001b[39;49mfollow_redirects,\n\u001b[1;32m    111\u001b[0m     )\n",
      "File \u001b[0;32m~/anaconda3/envs/ucsd_hw/lib/python3.10/site-packages/httpx/_client.py:815\u001b[0m, in \u001b[0;36mClient.request\u001b[0;34m(self, method, url, content, data, files, json, params, headers, cookies, auth, follow_redirects, timeout, extensions)\u001b[0m\n\u001b[1;32m    800\u001b[0m     warnings\u001b[39m.\u001b[39mwarn(message, \u001b[39mDeprecationWarning\u001b[39;00m)\n\u001b[1;32m    802\u001b[0m request \u001b[39m=\u001b[39m \u001b[39mself\u001b[39m\u001b[39m.\u001b[39mbuild_request(\n\u001b[1;32m    803\u001b[0m     method\u001b[39m=\u001b[39mmethod,\n\u001b[1;32m    804\u001b[0m     url\u001b[39m=\u001b[39murl,\n\u001b[0;32m   (...)\u001b[0m\n\u001b[1;32m    813\u001b[0m     extensions\u001b[39m=\u001b[39mextensions,\n\u001b[1;32m    814\u001b[0m )\n\u001b[0;32m--> 815\u001b[0m \u001b[39mreturn\u001b[39;00m \u001b[39mself\u001b[39;49m\u001b[39m.\u001b[39;49msend(request, auth\u001b[39m=\u001b[39;49mauth, follow_redirects\u001b[39m=\u001b[39;49mfollow_redirects)\n",
      "File \u001b[0;32m~/anaconda3/envs/ucsd_hw/lib/python3.10/site-packages/httpx/_client.py:902\u001b[0m, in \u001b[0;36mClient.send\u001b[0;34m(self, request, stream, auth, follow_redirects)\u001b[0m\n\u001b[1;32m    894\u001b[0m follow_redirects \u001b[39m=\u001b[39m (\n\u001b[1;32m    895\u001b[0m     \u001b[39mself\u001b[39m\u001b[39m.\u001b[39mfollow_redirects\n\u001b[1;32m    896\u001b[0m     \u001b[39mif\u001b[39;00m \u001b[39misinstance\u001b[39m(follow_redirects, UseClientDefault)\n\u001b[1;32m    897\u001b[0m     \u001b[39melse\u001b[39;00m follow_redirects\n\u001b[1;32m    898\u001b[0m )\n\u001b[1;32m    900\u001b[0m auth \u001b[39m=\u001b[39m \u001b[39mself\u001b[39m\u001b[39m.\u001b[39m_build_request_auth(request, auth)\n\u001b[0;32m--> 902\u001b[0m response \u001b[39m=\u001b[39m \u001b[39mself\u001b[39;49m\u001b[39m.\u001b[39;49m_send_handling_auth(\n\u001b[1;32m    903\u001b[0m     request,\n\u001b[1;32m    904\u001b[0m     auth\u001b[39m=\u001b[39;49mauth,\n\u001b[1;32m    905\u001b[0m     follow_redirects\u001b[39m=\u001b[39;49mfollow_redirects,\n\u001b[1;32m    906\u001b[0m     history\u001b[39m=\u001b[39;49m[],\n\u001b[1;32m    907\u001b[0m )\n\u001b[1;32m    908\u001b[0m \u001b[39mtry\u001b[39;00m:\n\u001b[1;32m    909\u001b[0m     \u001b[39mif\u001b[39;00m \u001b[39mnot\u001b[39;00m stream:\n",
      "File \u001b[0;32m~/anaconda3/envs/ucsd_hw/lib/python3.10/site-packages/httpx/_client.py:930\u001b[0m, in \u001b[0;36mClient._send_handling_auth\u001b[0;34m(self, request, auth, follow_redirects, history)\u001b[0m\n\u001b[1;32m    927\u001b[0m request \u001b[39m=\u001b[39m \u001b[39mnext\u001b[39m(auth_flow)\n\u001b[1;32m    929\u001b[0m \u001b[39mwhile\u001b[39;00m \u001b[39mTrue\u001b[39;00m:\n\u001b[0;32m--> 930\u001b[0m     response \u001b[39m=\u001b[39m \u001b[39mself\u001b[39;49m\u001b[39m.\u001b[39;49m_send_handling_redirects(\n\u001b[1;32m    931\u001b[0m         request,\n\u001b[1;32m    932\u001b[0m         follow_redirects\u001b[39m=\u001b[39;49mfollow_redirects,\n\u001b[1;32m    933\u001b[0m         history\u001b[39m=\u001b[39;49mhistory,\n\u001b[1;32m    934\u001b[0m     )\n\u001b[1;32m    935\u001b[0m     \u001b[39mtry\u001b[39;00m:\n\u001b[1;32m    936\u001b[0m         \u001b[39mtry\u001b[39;00m:\n",
      "File \u001b[0;32m~/anaconda3/envs/ucsd_hw/lib/python3.10/site-packages/httpx/_client.py:967\u001b[0m, in \u001b[0;36mClient._send_handling_redirects\u001b[0;34m(self, request, follow_redirects, history)\u001b[0m\n\u001b[1;32m    964\u001b[0m \u001b[39mfor\u001b[39;00m hook \u001b[39min\u001b[39;00m \u001b[39mself\u001b[39m\u001b[39m.\u001b[39m_event_hooks[\u001b[39m\"\u001b[39m\u001b[39mrequest\u001b[39m\u001b[39m\"\u001b[39m]:\n\u001b[1;32m    965\u001b[0m     hook(request)\n\u001b[0;32m--> 967\u001b[0m response \u001b[39m=\u001b[39m \u001b[39mself\u001b[39;49m\u001b[39m.\u001b[39;49m_send_single_request(request)\n\u001b[1;32m    968\u001b[0m \u001b[39mtry\u001b[39;00m:\n\u001b[1;32m    969\u001b[0m     \u001b[39mfor\u001b[39;00m hook \u001b[39min\u001b[39;00m \u001b[39mself\u001b[39m\u001b[39m.\u001b[39m_event_hooks[\u001b[39m\"\u001b[39m\u001b[39mresponse\u001b[39m\u001b[39m\"\u001b[39m]:\n",
      "File \u001b[0;32m~/anaconda3/envs/ucsd_hw/lib/python3.10/site-packages/httpx/_client.py:1003\u001b[0m, in \u001b[0;36mClient._send_single_request\u001b[0;34m(self, request)\u001b[0m\n\u001b[1;32m    998\u001b[0m     \u001b[39mraise\u001b[39;00m \u001b[39mRuntimeError\u001b[39;00m(\n\u001b[1;32m    999\u001b[0m         \u001b[39m\"\u001b[39m\u001b[39mAttempted to send an async request with a sync Client instance.\u001b[39m\u001b[39m\"\u001b[39m\n\u001b[1;32m   1000\u001b[0m     )\n\u001b[1;32m   1002\u001b[0m \u001b[39mwith\u001b[39;00m request_context(request\u001b[39m=\u001b[39mrequest):\n\u001b[0;32m-> 1003\u001b[0m     response \u001b[39m=\u001b[39m transport\u001b[39m.\u001b[39;49mhandle_request(request)\n\u001b[1;32m   1005\u001b[0m \u001b[39massert\u001b[39;00m \u001b[39misinstance\u001b[39m(response\u001b[39m.\u001b[39mstream, SyncByteStream)\n\u001b[1;32m   1007\u001b[0m response\u001b[39m.\u001b[39mrequest \u001b[39m=\u001b[39m request\n",
      "File \u001b[0;32m~/anaconda3/envs/ucsd_hw/lib/python3.10/site-packages/httpx/_transports/default.py:217\u001b[0m, in \u001b[0;36mHTTPTransport.handle_request\u001b[0;34m(self, request)\u001b[0m\n\u001b[1;32m    203\u001b[0m \u001b[39massert\u001b[39;00m \u001b[39misinstance\u001b[39m(request\u001b[39m.\u001b[39mstream, SyncByteStream)\n\u001b[1;32m    205\u001b[0m req \u001b[39m=\u001b[39m httpcore\u001b[39m.\u001b[39mRequest(\n\u001b[1;32m    206\u001b[0m     method\u001b[39m=\u001b[39mrequest\u001b[39m.\u001b[39mmethod,\n\u001b[1;32m    207\u001b[0m     url\u001b[39m=\u001b[39mhttpcore\u001b[39m.\u001b[39mURL(\n\u001b[0;32m   (...)\u001b[0m\n\u001b[1;32m    215\u001b[0m     extensions\u001b[39m=\u001b[39mrequest\u001b[39m.\u001b[39mextensions,\n\u001b[1;32m    216\u001b[0m )\n\u001b[0;32m--> 217\u001b[0m \u001b[39mwith\u001b[39;00m map_httpcore_exceptions():\n\u001b[1;32m    218\u001b[0m     resp \u001b[39m=\u001b[39m \u001b[39mself\u001b[39m\u001b[39m.\u001b[39m_pool\u001b[39m.\u001b[39mhandle_request(req)\n\u001b[1;32m    220\u001b[0m \u001b[39massert\u001b[39;00m \u001b[39misinstance\u001b[39m(resp\u001b[39m.\u001b[39mstream, typing\u001b[39m.\u001b[39mIterable)\n",
      "File \u001b[0;32m~/anaconda3/envs/ucsd_hw/lib/python3.10/contextlib.py:153\u001b[0m, in \u001b[0;36m_GeneratorContextManager.__exit__\u001b[0;34m(self, typ, value, traceback)\u001b[0m\n\u001b[1;32m    151\u001b[0m     value \u001b[39m=\u001b[39m typ()\n\u001b[1;32m    152\u001b[0m \u001b[39mtry\u001b[39;00m:\n\u001b[0;32m--> 153\u001b[0m     \u001b[39mself\u001b[39;49m\u001b[39m.\u001b[39;49mgen\u001b[39m.\u001b[39;49mthrow(typ, value, traceback)\n\u001b[1;32m    154\u001b[0m \u001b[39mexcept\u001b[39;00m \u001b[39mStopIteration\u001b[39;00m \u001b[39mas\u001b[39;00m exc:\n\u001b[1;32m    155\u001b[0m     \u001b[39m# Suppress StopIteration *unless* it's the same exception that\u001b[39;00m\n\u001b[1;32m    156\u001b[0m     \u001b[39m# was passed to throw().  This prevents a StopIteration\u001b[39;00m\n\u001b[1;32m    157\u001b[0m     \u001b[39m# raised inside the \"with\" statement from being suppressed.\u001b[39;00m\n\u001b[1;32m    158\u001b[0m     \u001b[39mreturn\u001b[39;00m exc \u001b[39mis\u001b[39;00m \u001b[39mnot\u001b[39;00m value\n",
      "File \u001b[0;32m~/anaconda3/envs/ucsd_hw/lib/python3.10/site-packages/httpx/_transports/default.py:77\u001b[0m, in \u001b[0;36mmap_httpcore_exceptions\u001b[0;34m()\u001b[0m\n\u001b[1;32m     74\u001b[0m     \u001b[39mraise\u001b[39;00m\n\u001b[1;32m     76\u001b[0m message \u001b[39m=\u001b[39m \u001b[39mstr\u001b[39m(exc)\n\u001b[0;32m---> 77\u001b[0m \u001b[39mraise\u001b[39;00m mapped_exc(message) \u001b[39mfrom\u001b[39;00m \u001b[39mexc\u001b[39;00m\n",
      "\u001b[0;31mConnectTimeout\u001b[0m: timed out"
     ]
    }
   ],
   "source": [
    "from msticpy.vis.timeline import display_timeline"
   ]
  },
  {
   "cell_type": "code",
   "execution_count": null,
   "metadata": {},
   "outputs": [
    {
     "data": {
      "text/html": [
       "<div>\n",
       "<style scoped>\n",
       "    .dataframe tbody tr th:only-of-type {\n",
       "        vertical-align: middle;\n",
       "    }\n",
       "\n",
       "    .dataframe tbody tr th {\n",
       "        vertical-align: top;\n",
       "    }\n",
       "\n",
       "    .dataframe thead th {\n",
       "        text-align: right;\n",
       "    }\n",
       "</style>\n",
       "<table border=\"1\" class=\"dataframe\">\n",
       "  <thead>\n",
       "    <tr style=\"text-align: right;\">\n",
       "      <th></th>\n",
       "      <th>user_id</th>\n",
       "      <th>date_time</th>\n",
       "      <th>year</th>\n",
       "      <th>month</th>\n",
       "      <th>day</th>\n",
       "      <th>hours</th>\n",
       "      <th>minute</th>\n",
       "      <th>weekday</th>\n",
       "      <th>weeknumber</th>\n",
       "      <th>label_source</th>\n",
       "      <th>rating</th>\n",
       "    </tr>\n",
       "  </thead>\n",
       "  <tbody>\n",
       "    <tr>\n",
       "      <th>0</th>\n",
       "      <td>u00</td>\n",
       "      <td>2013-03-25 11:54:00</td>\n",
       "      <td>2013</td>\n",
       "      <td>03</td>\n",
       "      <td>25</td>\n",
       "      <td>11</td>\n",
       "      <td>54</td>\n",
       "      <td>Mon</td>\n",
       "      <td>12</td>\n",
       "      <td>stress_ema</td>\n",
       "      <td>2</td>\n",
       "    </tr>\n",
       "    <tr>\n",
       "      <th>1</th>\n",
       "      <td>u00</td>\n",
       "      <td>2013-03-25 20:33:00</td>\n",
       "      <td>2013</td>\n",
       "      <td>03</td>\n",
       "      <td>25</td>\n",
       "      <td>20</td>\n",
       "      <td>33</td>\n",
       "      <td>Mon</td>\n",
       "      <td>12</td>\n",
       "      <td>stress_ema</td>\n",
       "      <td>2</td>\n",
       "    </tr>\n",
       "    <tr>\n",
       "      <th>3</th>\n",
       "      <td>u00</td>\n",
       "      <td>2013-03-26 18:12:00</td>\n",
       "      <td>2013</td>\n",
       "      <td>03</td>\n",
       "      <td>26</td>\n",
       "      <td>18</td>\n",
       "      <td>12</td>\n",
       "      <td>Tue</td>\n",
       "      <td>12</td>\n",
       "      <td>stress_ema</td>\n",
       "      <td>1</td>\n",
       "    </tr>\n",
       "    <tr>\n",
       "      <th>4</th>\n",
       "      <td>u00</td>\n",
       "      <td>2013-03-27 19:25:00</td>\n",
       "      <td>2013</td>\n",
       "      <td>03</td>\n",
       "      <td>27</td>\n",
       "      <td>19</td>\n",
       "      <td>25</td>\n",
       "      <td>Wed</td>\n",
       "      <td>12</td>\n",
       "      <td>stress_ema</td>\n",
       "      <td>1</td>\n",
       "    </tr>\n",
       "    <tr>\n",
       "      <th>5</th>\n",
       "      <td>u00</td>\n",
       "      <td>2013-03-28 11:43:00</td>\n",
       "      <td>2013</td>\n",
       "      <td>03</td>\n",
       "      <td>28</td>\n",
       "      <td>11</td>\n",
       "      <td>43</td>\n",
       "      <td>Thu</td>\n",
       "      <td>12</td>\n",
       "      <td>stress_ema</td>\n",
       "      <td>2</td>\n",
       "    </tr>\n",
       "    <tr>\n",
       "      <th>...</th>\n",
       "      <td>...</td>\n",
       "      <td>...</td>\n",
       "      <td>...</td>\n",
       "      <td>...</td>\n",
       "      <td>...</td>\n",
       "      <td>...</td>\n",
       "      <td>...</td>\n",
       "      <td>...</td>\n",
       "      <td>...</td>\n",
       "      <td>...</td>\n",
       "      <td>...</td>\n",
       "    </tr>\n",
       "    <tr>\n",
       "      <th>65</th>\n",
       "      <td>u00</td>\n",
       "      <td>2013-05-24 21:00:00</td>\n",
       "      <td>2013</td>\n",
       "      <td>05</td>\n",
       "      <td>24</td>\n",
       "      <td>21</td>\n",
       "      <td>00</td>\n",
       "      <td>Fri</td>\n",
       "      <td>20</td>\n",
       "      <td>stress_ema</td>\n",
       "      <td>2</td>\n",
       "    </tr>\n",
       "    <tr>\n",
       "      <th>66</th>\n",
       "      <td>u00</td>\n",
       "      <td>2013-05-24 23:14:00</td>\n",
       "      <td>2013</td>\n",
       "      <td>05</td>\n",
       "      <td>24</td>\n",
       "      <td>23</td>\n",
       "      <td>14</td>\n",
       "      <td>Fri</td>\n",
       "      <td>20</td>\n",
       "      <td>stress_ema</td>\n",
       "      <td>1</td>\n",
       "    </tr>\n",
       "    <tr>\n",
       "      <th>67</th>\n",
       "      <td>u00</td>\n",
       "      <td>2013-05-25 08:53:00</td>\n",
       "      <td>2013</td>\n",
       "      <td>05</td>\n",
       "      <td>25</td>\n",
       "      <td>08</td>\n",
       "      <td>53</td>\n",
       "      <td>Sat</td>\n",
       "      <td>20</td>\n",
       "      <td>stress_ema</td>\n",
       "      <td>2</td>\n",
       "    </tr>\n",
       "    <tr>\n",
       "      <th>68</th>\n",
       "      <td>u00</td>\n",
       "      <td>2013-05-25 09:39:00</td>\n",
       "      <td>2013</td>\n",
       "      <td>05</td>\n",
       "      <td>25</td>\n",
       "      <td>09</td>\n",
       "      <td>39</td>\n",
       "      <td>Sat</td>\n",
       "      <td>20</td>\n",
       "      <td>stress_ema</td>\n",
       "      <td>3</td>\n",
       "    </tr>\n",
       "    <tr>\n",
       "      <th>69</th>\n",
       "      <td>u00</td>\n",
       "      <td>2013-06-02 23:00:00</td>\n",
       "      <td>2013</td>\n",
       "      <td>06</td>\n",
       "      <td>02</td>\n",
       "      <td>23</td>\n",
       "      <td>00</td>\n",
       "      <td>Sun</td>\n",
       "      <td>21</td>\n",
       "      <td>stress_ema</td>\n",
       "      <td>1</td>\n",
       "    </tr>\n",
       "  </tbody>\n",
       "</table>\n",
       "<p>69 rows × 11 columns</p>\n",
       "</div>"
      ],
      "text/plain": [
       "   user_id           date_time  year month day hours minute weekday  \\\n",
       "0      u00 2013-03-25 11:54:00  2013    03  25    11     54     Mon   \n",
       "1      u00 2013-03-25 20:33:00  2013    03  25    20     33     Mon   \n",
       "3      u00 2013-03-26 18:12:00  2013    03  26    18     12     Tue   \n",
       "4      u00 2013-03-27 19:25:00  2013    03  27    19     25     Wed   \n",
       "5      u00 2013-03-28 11:43:00  2013    03  28    11     43     Thu   \n",
       "..     ...                 ...   ...   ...  ..   ...    ...     ...   \n",
       "65     u00 2013-05-24 21:00:00  2013    05  24    21     00     Fri   \n",
       "66     u00 2013-05-24 23:14:00  2013    05  24    23     14     Fri   \n",
       "67     u00 2013-05-25 08:53:00  2013    05  25    08     53     Sat   \n",
       "68     u00 2013-05-25 09:39:00  2013    05  25    09     39     Sat   \n",
       "69     u00 2013-06-02 23:00:00  2013    06  02    23     00     Sun   \n",
       "\n",
       "   weeknumber label_source rating  \n",
       "0          12   stress_ema      2  \n",
       "1          12   stress_ema      2  \n",
       "3          12   stress_ema      1  \n",
       "4          12   stress_ema      1  \n",
       "5          12   stress_ema      2  \n",
       "..        ...          ...    ...  \n",
       "65         20   stress_ema      2  \n",
       "66         20   stress_ema      1  \n",
       "67         20   stress_ema      2  \n",
       "68         20   stress_ema      3  \n",
       "69         21   stress_ema      1  \n",
       "\n",
       "[69 rows x 11 columns]"
      ]
     },
     "execution_count": 48,
     "metadata": {},
     "output_type": "execute_result"
    }
   ],
   "source": [
    "stress_ema_sort_df[stress_ema_sort_df['user_id'] == 'u00']"
   ]
  },
  {
   "cell_type": "code",
   "execution_count": null,
   "metadata": {},
   "outputs": [
    {
     "data": {
      "text/plain": [
       "Timestamp('2013-06-07 16:46:00')"
      ]
     },
     "execution_count": 49,
     "metadata": {},
     "output_type": "execute_result"
    }
   ],
   "source": [
    "max(stress_ema_sort_df['date_time'])"
   ]
  },
  {
   "cell_type": "code",
   "execution_count": null,
   "metadata": {},
   "outputs": [
    {
     "ename": "NameError",
     "evalue": "name 'display_timeline' is not defined",
     "output_type": "error",
     "traceback": [
      "\u001b[0;31m---------------------------------------------------------------------------\u001b[0m",
      "\u001b[0;31mNameError\u001b[0m                                 Traceback (most recent call last)",
      "Cell \u001b[0;32mIn [53], line 1\u001b[0m\n\u001b[0;32m----> 1\u001b[0m display_timeline(stress_ema_sort_df[[\u001b[39m'\u001b[39m\u001b[39muser_id\u001b[39m\u001b[39m'\u001b[39m,\u001b[39m'\u001b[39m\u001b[39mdate_time\u001b[39m\u001b[39m'\u001b[39m]],time_column\u001b[39m=\u001b[39m\u001b[39m\"\u001b[39m\u001b[39mdate_time\u001b[39m\u001b[39m\"\u001b[39m,group_by\u001b[39m=\u001b[39m\u001b[39m'\u001b[39m\u001b[39muser_id\u001b[39m\u001b[39m'\u001b[39m)\n",
      "\u001b[0;31mNameError\u001b[0m: name 'display_timeline' is not defined"
     ]
    }
   ],
   "source": [
    "display_timeline(stress_ema_sort_df[['user_id','date_time']],time_column=\"date_time\",group_by='user_id')"
   ]
  },
  {
   "cell_type": "code",
   "execution_count": 46,
   "metadata": {},
   "outputs": [
    {
     "data": {
      "text/html": [
       "<div>\n",
       "<style scoped>\n",
       "    .dataframe tbody tr th:only-of-type {\n",
       "        vertical-align: middle;\n",
       "    }\n",
       "\n",
       "    .dataframe tbody tr th {\n",
       "        vertical-align: top;\n",
       "    }\n",
       "\n",
       "    .dataframe thead th {\n",
       "        text-align: right;\n",
       "    }\n",
       "</style>\n",
       "<table border=\"1\" class=\"dataframe\">\n",
       "  <thead>\n",
       "    <tr style=\"text-align: right;\">\n",
       "      <th></th>\n",
       "      <th>user_id</th>\n",
       "      <th>date_time</th>\n",
       "      <th>year</th>\n",
       "      <th>month</th>\n",
       "      <th>day</th>\n",
       "      <th>hours</th>\n",
       "      <th>minute</th>\n",
       "      <th>weekday</th>\n",
       "      <th>weeknumber</th>\n",
       "      <th>label_source</th>\n",
       "      <th>rating</th>\n",
       "    </tr>\n",
       "  </thead>\n",
       "  <tbody>\n",
       "    <tr>\n",
       "      <th>362</th>\n",
       "      <td>u10</td>\n",
       "      <td>2013-03-27 17:01:00</td>\n",
       "      <td>2013</td>\n",
       "      <td>03</td>\n",
       "      <td>27</td>\n",
       "      <td>17</td>\n",
       "      <td>01</td>\n",
       "      <td>Wed</td>\n",
       "      <td>12</td>\n",
       "      <td>stress_ema</td>\n",
       "      <td>2</td>\n",
       "    </tr>\n",
       "    <tr>\n",
       "      <th>363</th>\n",
       "      <td>u10</td>\n",
       "      <td>2013-03-29 19:07:00</td>\n",
       "      <td>2013</td>\n",
       "      <td>03</td>\n",
       "      <td>29</td>\n",
       "      <td>19</td>\n",
       "      <td>07</td>\n",
       "      <td>Fri</td>\n",
       "      <td>12</td>\n",
       "      <td>stress_ema</td>\n",
       "      <td>2</td>\n",
       "    </tr>\n",
       "    <tr>\n",
       "      <th>364</th>\n",
       "      <td>u10</td>\n",
       "      <td>2013-03-29 19:07:00</td>\n",
       "      <td>2013</td>\n",
       "      <td>03</td>\n",
       "      <td>29</td>\n",
       "      <td>19</td>\n",
       "      <td>07</td>\n",
       "      <td>Fri</td>\n",
       "      <td>12</td>\n",
       "      <td>stress_ema</td>\n",
       "      <td>4</td>\n",
       "    </tr>\n",
       "    <tr>\n",
       "      <th>365</th>\n",
       "      <td>u10</td>\n",
       "      <td>2013-03-29 19:07:00</td>\n",
       "      <td>2013</td>\n",
       "      <td>03</td>\n",
       "      <td>29</td>\n",
       "      <td>19</td>\n",
       "      <td>07</td>\n",
       "      <td>Fri</td>\n",
       "      <td>12</td>\n",
       "      <td>stress_ema</td>\n",
       "      <td>1</td>\n",
       "    </tr>\n",
       "    <tr>\n",
       "      <th>367</th>\n",
       "      <td>u10</td>\n",
       "      <td>2013-03-29 21:28:00</td>\n",
       "      <td>2013</td>\n",
       "      <td>03</td>\n",
       "      <td>29</td>\n",
       "      <td>21</td>\n",
       "      <td>28</td>\n",
       "      <td>Fri</td>\n",
       "      <td>12</td>\n",
       "      <td>stress_ema</td>\n",
       "      <td>1</td>\n",
       "    </tr>\n",
       "    <tr>\n",
       "      <th>...</th>\n",
       "      <td>...</td>\n",
       "      <td>...</td>\n",
       "      <td>...</td>\n",
       "      <td>...</td>\n",
       "      <td>...</td>\n",
       "      <td>...</td>\n",
       "      <td>...</td>\n",
       "      <td>...</td>\n",
       "      <td>...</td>\n",
       "      <td>...</td>\n",
       "      <td>...</td>\n",
       "    </tr>\n",
       "    <tr>\n",
       "      <th>463</th>\n",
       "      <td>u10</td>\n",
       "      <td>2013-05-15 14:16:00</td>\n",
       "      <td>2013</td>\n",
       "      <td>05</td>\n",
       "      <td>15</td>\n",
       "      <td>14</td>\n",
       "      <td>16</td>\n",
       "      <td>Wed</td>\n",
       "      <td>19</td>\n",
       "      <td>stress_ema</td>\n",
       "      <td>4</td>\n",
       "    </tr>\n",
       "    <tr>\n",
       "      <th>464</th>\n",
       "      <td>u10</td>\n",
       "      <td>2013-05-15 14:17:00</td>\n",
       "      <td>2013</td>\n",
       "      <td>05</td>\n",
       "      <td>15</td>\n",
       "      <td>14</td>\n",
       "      <td>17</td>\n",
       "      <td>Wed</td>\n",
       "      <td>19</td>\n",
       "      <td>stress_ema</td>\n",
       "      <td>4</td>\n",
       "    </tr>\n",
       "    <tr>\n",
       "      <th>465</th>\n",
       "      <td>u10</td>\n",
       "      <td>2013-05-17 13:17:00</td>\n",
       "      <td>2013</td>\n",
       "      <td>05</td>\n",
       "      <td>17</td>\n",
       "      <td>13</td>\n",
       "      <td>17</td>\n",
       "      <td>Fri</td>\n",
       "      <td>19</td>\n",
       "      <td>stress_ema</td>\n",
       "      <td>1</td>\n",
       "    </tr>\n",
       "    <tr>\n",
       "      <th>466</th>\n",
       "      <td>u10</td>\n",
       "      <td>2013-05-18 13:15:00</td>\n",
       "      <td>2013</td>\n",
       "      <td>05</td>\n",
       "      <td>18</td>\n",
       "      <td>13</td>\n",
       "      <td>15</td>\n",
       "      <td>Sat</td>\n",
       "      <td>19</td>\n",
       "      <td>stress_ema</td>\n",
       "      <td>2</td>\n",
       "    </tr>\n",
       "    <tr>\n",
       "      <th>467</th>\n",
       "      <td>u10</td>\n",
       "      <td>2013-05-23 09:46:00</td>\n",
       "      <td>2013</td>\n",
       "      <td>05</td>\n",
       "      <td>23</td>\n",
       "      <td>09</td>\n",
       "      <td>46</td>\n",
       "      <td>Thu</td>\n",
       "      <td>20</td>\n",
       "      <td>stress_ema</td>\n",
       "      <td>4</td>\n",
       "    </tr>\n",
       "  </tbody>\n",
       "</table>\n",
       "<p>104 rows × 11 columns</p>\n",
       "</div>"
      ],
      "text/plain": [
       "    user_id           date_time  year month day hours minute weekday  \\\n",
       "362     u10 2013-03-27 17:01:00  2013    03  27    17     01     Wed   \n",
       "363     u10 2013-03-29 19:07:00  2013    03  29    19     07     Fri   \n",
       "364     u10 2013-03-29 19:07:00  2013    03  29    19     07     Fri   \n",
       "365     u10 2013-03-29 19:07:00  2013    03  29    19     07     Fri   \n",
       "367     u10 2013-03-29 21:28:00  2013    03  29    21     28     Fri   \n",
       "..      ...                 ...   ...   ...  ..   ...    ...     ...   \n",
       "463     u10 2013-05-15 14:16:00  2013    05  15    14     16     Wed   \n",
       "464     u10 2013-05-15 14:17:00  2013    05  15    14     17     Wed   \n",
       "465     u10 2013-05-17 13:17:00  2013    05  17    13     17     Fri   \n",
       "466     u10 2013-05-18 13:15:00  2013    05  18    13     15     Sat   \n",
       "467     u10 2013-05-23 09:46:00  2013    05  23    09     46     Thu   \n",
       "\n",
       "    weeknumber label_source rating  \n",
       "362         12   stress_ema      2  \n",
       "363         12   stress_ema      2  \n",
       "364         12   stress_ema      4  \n",
       "365         12   stress_ema      1  \n",
       "367         12   stress_ema      1  \n",
       "..         ...          ...    ...  \n",
       "463         19   stress_ema      4  \n",
       "464         19   stress_ema      4  \n",
       "465         19   stress_ema      1  \n",
       "466         19   stress_ema      2  \n",
       "467         20   stress_ema      4  \n",
       "\n",
       "[104 rows x 11 columns]"
      ]
     },
     "execution_count": 46,
     "metadata": {},
     "output_type": "execute_result"
    }
   ],
   "source": [
    "stress_ema_sort_df[stress_ema_sort_df['user_id'] == 'u10']"
   ]
  },
  {
   "cell_type": "code",
   "execution_count": 47,
   "metadata": {},
   "outputs": [
    {
     "data": {
      "text/html": [
       "<div>\n",
       "<style scoped>\n",
       "    .dataframe tbody tr th:only-of-type {\n",
       "        vertical-align: middle;\n",
       "    }\n",
       "\n",
       "    .dataframe tbody tr th {\n",
       "        vertical-align: top;\n",
       "    }\n",
       "\n",
       "    .dataframe thead th {\n",
       "        text-align: right;\n",
       "    }\n",
       "</style>\n",
       "<table border=\"1\" class=\"dataframe\">\n",
       "  <thead>\n",
       "    <tr style=\"text-align: right;\">\n",
       "      <th></th>\n",
       "      <th>user_id</th>\n",
       "      <th>date_time</th>\n",
       "      <th>year</th>\n",
       "      <th>month</th>\n",
       "      <th>day</th>\n",
       "      <th>hours</th>\n",
       "      <th>minute</th>\n",
       "      <th>weekday</th>\n",
       "      <th>weeknumber</th>\n",
       "      <th>label_source</th>\n",
       "      <th>rating</th>\n",
       "    </tr>\n",
       "  </thead>\n",
       "  <tbody>\n",
       "    <tr>\n",
       "      <th>0</th>\n",
       "      <td>u00</td>\n",
       "      <td>2013-03-25 11:54:00</td>\n",
       "      <td>2013</td>\n",
       "      <td>03</td>\n",
       "      <td>25</td>\n",
       "      <td>11</td>\n",
       "      <td>54</td>\n",
       "      <td>Mon</td>\n",
       "      <td>12</td>\n",
       "      <td>stress_ema</td>\n",
       "      <td>2</td>\n",
       "    </tr>\n",
       "    <tr>\n",
       "      <th>1</th>\n",
       "      <td>u00</td>\n",
       "      <td>2013-03-25 20:33:00</td>\n",
       "      <td>2013</td>\n",
       "      <td>03</td>\n",
       "      <td>25</td>\n",
       "      <td>20</td>\n",
       "      <td>33</td>\n",
       "      <td>Mon</td>\n",
       "      <td>12</td>\n",
       "      <td>stress_ema</td>\n",
       "      <td>2</td>\n",
       "    </tr>\n",
       "    <tr>\n",
       "      <th>3</th>\n",
       "      <td>u00</td>\n",
       "      <td>2013-03-26 18:12:00</td>\n",
       "      <td>2013</td>\n",
       "      <td>03</td>\n",
       "      <td>26</td>\n",
       "      <td>18</td>\n",
       "      <td>12</td>\n",
       "      <td>Tue</td>\n",
       "      <td>12</td>\n",
       "      <td>stress_ema</td>\n",
       "      <td>1</td>\n",
       "    </tr>\n",
       "    <tr>\n",
       "      <th>4</th>\n",
       "      <td>u00</td>\n",
       "      <td>2013-03-27 19:25:00</td>\n",
       "      <td>2013</td>\n",
       "      <td>03</td>\n",
       "      <td>27</td>\n",
       "      <td>19</td>\n",
       "      <td>25</td>\n",
       "      <td>Wed</td>\n",
       "      <td>12</td>\n",
       "      <td>stress_ema</td>\n",
       "      <td>1</td>\n",
       "    </tr>\n",
       "    <tr>\n",
       "      <th>5</th>\n",
       "      <td>u00</td>\n",
       "      <td>2013-03-28 11:43:00</td>\n",
       "      <td>2013</td>\n",
       "      <td>03</td>\n",
       "      <td>28</td>\n",
       "      <td>11</td>\n",
       "      <td>43</td>\n",
       "      <td>Thu</td>\n",
       "      <td>12</td>\n",
       "      <td>stress_ema</td>\n",
       "      <td>2</td>\n",
       "    </tr>\n",
       "    <tr>\n",
       "      <th>...</th>\n",
       "      <td>...</td>\n",
       "      <td>...</td>\n",
       "      <td>...</td>\n",
       "      <td>...</td>\n",
       "      <td>...</td>\n",
       "      <td>...</td>\n",
       "      <td>...</td>\n",
       "      <td>...</td>\n",
       "      <td>...</td>\n",
       "      <td>...</td>\n",
       "      <td>...</td>\n",
       "    </tr>\n",
       "    <tr>\n",
       "      <th>65</th>\n",
       "      <td>u00</td>\n",
       "      <td>2013-05-24 21:00:00</td>\n",
       "      <td>2013</td>\n",
       "      <td>05</td>\n",
       "      <td>24</td>\n",
       "      <td>21</td>\n",
       "      <td>00</td>\n",
       "      <td>Fri</td>\n",
       "      <td>20</td>\n",
       "      <td>stress_ema</td>\n",
       "      <td>2</td>\n",
       "    </tr>\n",
       "    <tr>\n",
       "      <th>66</th>\n",
       "      <td>u00</td>\n",
       "      <td>2013-05-24 23:14:00</td>\n",
       "      <td>2013</td>\n",
       "      <td>05</td>\n",
       "      <td>24</td>\n",
       "      <td>23</td>\n",
       "      <td>14</td>\n",
       "      <td>Fri</td>\n",
       "      <td>20</td>\n",
       "      <td>stress_ema</td>\n",
       "      <td>1</td>\n",
       "    </tr>\n",
       "    <tr>\n",
       "      <th>67</th>\n",
       "      <td>u00</td>\n",
       "      <td>2013-05-25 08:53:00</td>\n",
       "      <td>2013</td>\n",
       "      <td>05</td>\n",
       "      <td>25</td>\n",
       "      <td>08</td>\n",
       "      <td>53</td>\n",
       "      <td>Sat</td>\n",
       "      <td>20</td>\n",
       "      <td>stress_ema</td>\n",
       "      <td>2</td>\n",
       "    </tr>\n",
       "    <tr>\n",
       "      <th>68</th>\n",
       "      <td>u00</td>\n",
       "      <td>2013-05-25 09:39:00</td>\n",
       "      <td>2013</td>\n",
       "      <td>05</td>\n",
       "      <td>25</td>\n",
       "      <td>09</td>\n",
       "      <td>39</td>\n",
       "      <td>Sat</td>\n",
       "      <td>20</td>\n",
       "      <td>stress_ema</td>\n",
       "      <td>3</td>\n",
       "    </tr>\n",
       "    <tr>\n",
       "      <th>69</th>\n",
       "      <td>u00</td>\n",
       "      <td>2013-06-02 23:00:00</td>\n",
       "      <td>2013</td>\n",
       "      <td>06</td>\n",
       "      <td>02</td>\n",
       "      <td>23</td>\n",
       "      <td>00</td>\n",
       "      <td>Sun</td>\n",
       "      <td>21</td>\n",
       "      <td>stress_ema</td>\n",
       "      <td>1</td>\n",
       "    </tr>\n",
       "  </tbody>\n",
       "</table>\n",
       "<p>69 rows × 11 columns</p>\n",
       "</div>"
      ],
      "text/plain": [
       "   user_id           date_time  year month day hours minute weekday  \\\n",
       "0      u00 2013-03-25 11:54:00  2013    03  25    11     54     Mon   \n",
       "1      u00 2013-03-25 20:33:00  2013    03  25    20     33     Mon   \n",
       "3      u00 2013-03-26 18:12:00  2013    03  26    18     12     Tue   \n",
       "4      u00 2013-03-27 19:25:00  2013    03  27    19     25     Wed   \n",
       "5      u00 2013-03-28 11:43:00  2013    03  28    11     43     Thu   \n",
       "..     ...                 ...   ...   ...  ..   ...    ...     ...   \n",
       "65     u00 2013-05-24 21:00:00  2013    05  24    21     00     Fri   \n",
       "66     u00 2013-05-24 23:14:00  2013    05  24    23     14     Fri   \n",
       "67     u00 2013-05-25 08:53:00  2013    05  25    08     53     Sat   \n",
       "68     u00 2013-05-25 09:39:00  2013    05  25    09     39     Sat   \n",
       "69     u00 2013-06-02 23:00:00  2013    06  02    23     00     Sun   \n",
       "\n",
       "   weeknumber label_source rating  \n",
       "0          12   stress_ema      2  \n",
       "1          12   stress_ema      2  \n",
       "3          12   stress_ema      1  \n",
       "4          12   stress_ema      1  \n",
       "5          12   stress_ema      2  \n",
       "..        ...          ...    ...  \n",
       "65         20   stress_ema      2  \n",
       "66         20   stress_ema      1  \n",
       "67         20   stress_ema      2  \n",
       "68         20   stress_ema      3  \n",
       "69         21   stress_ema      1  \n",
       "\n",
       "[69 rows x 11 columns]"
      ]
     },
     "execution_count": 47,
     "metadata": {},
     "output_type": "execute_result"
    }
   ],
   "source": [
    "stress_ema_sort_df[stress_ema_sort_df['user_id'] == 'u00']"
   ]
  },
  {
   "cell_type": "code",
   "execution_count": 48,
   "metadata": {},
   "outputs": [
    {
     "data": {
      "text/plain": [
       "417"
      ]
     },
     "execution_count": 48,
     "metadata": {},
     "output_type": "execute_result"
    }
   ],
   "source": [
    "len(mood2_ema_df)"
   ]
  },
  {
   "cell_type": "code",
   "execution_count": 49,
   "metadata": {},
   "outputs": [
    {
     "data": {
      "text/plain": [
       "414"
      ]
     },
     "execution_count": 49,
     "metadata": {},
     "output_type": "execute_result"
    }
   ],
   "source": [
    "mood2_ema_df.drop_duplicates(inplace=True)\n",
    "len(mood2_ema_df)"
   ]
  },
  {
   "cell_type": "code",
   "execution_count": null,
   "metadata": {},
   "outputs": [
    {
     "data": {
      "text/html": [
       "<div class=\"bk-root\">\n",
       "        <a href=\"https://bokeh.org\" target=\"_blank\" class=\"bk-logo bk-logo-small bk-logo-notebook\"></a>\n",
       "        <span id=\"7388\">Loading BokehJS ...</span>\n",
       "    </div>\n"
      ]
     },
     "metadata": {},
     "output_type": "display_data"
    },
    {
     "data": {
      "application/javascript": "(function(root) {\n  function now() {\n    return new Date();\n  }\n\n  const force = true;\n\n  if (typeof root._bokeh_onload_callbacks === \"undefined\" || force === true) {\n    root._bokeh_onload_callbacks = [];\n    root._bokeh_is_loading = undefined;\n  }\n\nconst JS_MIME_TYPE = 'application/javascript';\n  const HTML_MIME_TYPE = 'text/html';\n  const EXEC_MIME_TYPE = 'application/vnd.bokehjs_exec.v0+json';\n  const CLASS_NAME = 'output_bokeh rendered_html';\n\n  /**\n   * Render data to the DOM node\n   */\n  function render(props, node) {\n    const script = document.createElement(\"script\");\n    node.appendChild(script);\n  }\n\n  /**\n   * Handle when an output is cleared or removed\n   */\n  function handleClearOutput(event, handle) {\n    const cell = handle.cell;\n\n    const id = cell.output_area._bokeh_element_id;\n    const server_id = cell.output_area._bokeh_server_id;\n    // Clean up Bokeh references\n    if (id != null && id in Bokeh.index) {\n      Bokeh.index[id].model.document.clear();\n      delete Bokeh.index[id];\n    }\n\n    if (server_id !== undefined) {\n      // Clean up Bokeh references\n      const cmd_clean = \"from bokeh.io.state import curstate; print(curstate().uuid_to_server['\" + server_id + \"'].get_sessions()[0].document.roots[0]._id)\";\n      cell.notebook.kernel.execute(cmd_clean, {\n        iopub: {\n          output: function(msg) {\n            const id = msg.content.text.trim();\n            if (id in Bokeh.index) {\n              Bokeh.index[id].model.document.clear();\n              delete Bokeh.index[id];\n            }\n          }\n        }\n      });\n      // Destroy server and session\n      const cmd_destroy = \"import bokeh.io.notebook as ion; ion.destroy_server('\" + server_id + \"')\";\n      cell.notebook.kernel.execute(cmd_destroy);\n    }\n  }\n\n  /**\n   * Handle when a new output is added\n   */\n  function handleAddOutput(event, handle) {\n    const output_area = handle.output_area;\n    const output = handle.output;\n\n    // limit handleAddOutput to display_data with EXEC_MIME_TYPE content only\n    if ((output.output_type != \"display_data\") || (!Object.prototype.hasOwnProperty.call(output.data, EXEC_MIME_TYPE))) {\n      return\n    }\n\n    const toinsert = output_area.element.find(\".\" + CLASS_NAME.split(' ')[0]);\n\n    if (output.metadata[EXEC_MIME_TYPE][\"id\"] !== undefined) {\n      toinsert[toinsert.length - 1].firstChild.textContent = output.data[JS_MIME_TYPE];\n      // store reference to embed id on output_area\n      output_area._bokeh_element_id = output.metadata[EXEC_MIME_TYPE][\"id\"];\n    }\n    if (output.metadata[EXEC_MIME_TYPE][\"server_id\"] !== undefined) {\n      const bk_div = document.createElement(\"div\");\n      bk_div.innerHTML = output.data[HTML_MIME_TYPE];\n      const script_attrs = bk_div.children[0].attributes;\n      for (let i = 0; i < script_attrs.length; i++) {\n        toinsert[toinsert.length - 1].firstChild.setAttribute(script_attrs[i].name, script_attrs[i].value);\n        toinsert[toinsert.length - 1].firstChild.textContent = bk_div.children[0].textContent\n      }\n      // store reference to server id on output_area\n      output_area._bokeh_server_id = output.metadata[EXEC_MIME_TYPE][\"server_id\"];\n    }\n  }\n\n  function register_renderer(events, OutputArea) {\n\n    function append_mime(data, metadata, element) {\n      // create a DOM node to render to\n      const toinsert = this.create_output_subarea(\n        metadata,\n        CLASS_NAME,\n        EXEC_MIME_TYPE\n      );\n      this.keyboard_manager.register_events(toinsert);\n      // Render to node\n      const props = {data: data, metadata: metadata[EXEC_MIME_TYPE]};\n      render(props, toinsert[toinsert.length - 1]);\n      element.append(toinsert);\n      return toinsert\n    }\n\n    /* Handle when an output is cleared or removed */\n    events.on('clear_output.CodeCell', handleClearOutput);\n    events.on('delete.Cell', handleClearOutput);\n\n    /* Handle when a new output is added */\n    events.on('output_added.OutputArea', handleAddOutput);\n\n    /**\n     * Register the mime type and append_mime function with output_area\n     */\n    OutputArea.prototype.register_mime_type(EXEC_MIME_TYPE, append_mime, {\n      /* Is output safe? */\n      safe: true,\n      /* Index of renderer in `output_area.display_order` */\n      index: 0\n    });\n  }\n\n  // register the mime type if in Jupyter Notebook environment and previously unregistered\n  if (root.Jupyter !== undefined) {\n    const events = require('base/js/events');\n    const OutputArea = require('notebook/js/outputarea').OutputArea;\n\n    if (OutputArea.prototype.mime_types().indexOf(EXEC_MIME_TYPE) == -1) {\n      register_renderer(events, OutputArea);\n    }\n  }\n  if (typeof (root._bokeh_timeout) === \"undefined\" || force === true) {\n    root._bokeh_timeout = Date.now() + 5000;\n    root._bokeh_failed_load = false;\n  }\n\n  const NB_LOAD_WARNING = {'data': {'text/html':\n     \"<div style='background-color: #fdd'>\\n\"+\n     \"<p>\\n\"+\n     \"BokehJS does not appear to have successfully loaded. If loading BokehJS from CDN, this \\n\"+\n     \"may be due to a slow or bad network connection. Possible fixes:\\n\"+\n     \"</p>\\n\"+\n     \"<ul>\\n\"+\n     \"<li>re-rerun `output_notebook()` to attempt to load from CDN again, or</li>\\n\"+\n     \"<li>use INLINE resources instead, as so:</li>\\n\"+\n     \"</ul>\\n\"+\n     \"<code>\\n\"+\n     \"from bokeh.resources import INLINE\\n\"+\n     \"output_notebook(resources=INLINE)\\n\"+\n     \"</code>\\n\"+\n     \"</div>\"}};\n\n  function display_loaded() {\n    const el = document.getElementById(\"7388\");\n    if (el != null) {\n      el.textContent = \"BokehJS is loading...\";\n    }\n    if (root.Bokeh !== undefined) {\n      if (el != null) {\n        el.textContent = \"BokehJS \" + root.Bokeh.version + \" successfully loaded.\";\n      }\n    } else if (Date.now() < root._bokeh_timeout) {\n      setTimeout(display_loaded, 100)\n    }\n  }\n\n  function run_callbacks() {\n    try {\n      root._bokeh_onload_callbacks.forEach(function(callback) {\n        if (callback != null)\n          callback();\n      });\n    } finally {\n      delete root._bokeh_onload_callbacks\n    }\n    console.debug(\"Bokeh: all callbacks have finished\");\n  }\n\n  function load_libs(css_urls, js_urls, callback) {\n    if (css_urls == null) css_urls = [];\n    if (js_urls == null) js_urls = [];\n\n    root._bokeh_onload_callbacks.push(callback);\n    if (root._bokeh_is_loading > 0) {\n      console.debug(\"Bokeh: BokehJS is being loaded, scheduling callback at\", now());\n      return null;\n    }\n    if (js_urls == null || js_urls.length === 0) {\n      run_callbacks();\n      return null;\n    }\n    console.debug(\"Bokeh: BokehJS not loaded, scheduling load and callback at\", now());\n    root._bokeh_is_loading = css_urls.length + js_urls.length;\n\n    function on_load() {\n      root._bokeh_is_loading--;\n      if (root._bokeh_is_loading === 0) {\n        console.debug(\"Bokeh: all BokehJS libraries/stylesheets loaded\");\n        run_callbacks()\n      }\n    }\n\n    function on_error(url) {\n      console.error(\"failed to load \" + url);\n    }\n\n    for (let i = 0; i < css_urls.length; i++) {\n      const url = css_urls[i];\n      const element = document.createElement(\"link\");\n      element.onload = on_load;\n      element.onerror = on_error.bind(null, url);\n      element.rel = \"stylesheet\";\n      element.type = \"text/css\";\n      element.href = url;\n      console.debug(\"Bokeh: injecting link tag for BokehJS stylesheet: \", url);\n      document.body.appendChild(element);\n    }\n\n    for (let i = 0; i < js_urls.length; i++) {\n      const url = js_urls[i];\n      const element = document.createElement('script');\n      element.onload = on_load;\n      element.onerror = on_error.bind(null, url);\n      element.async = false;\n      element.src = url;\n      console.debug(\"Bokeh: injecting script tag for BokehJS library: \", url);\n      document.head.appendChild(element);\n    }\n  };\n\n  function inject_raw_css(css) {\n    const element = document.createElement(\"style\");\n    element.appendChild(document.createTextNode(css));\n    document.body.appendChild(element);\n  }\n\n  const js_urls = [\"https://cdn.bokeh.org/bokeh/release/bokeh-2.4.3.min.js\", \"https://cdn.bokeh.org/bokeh/release/bokeh-gl-2.4.3.min.js\", \"https://cdn.bokeh.org/bokeh/release/bokeh-widgets-2.4.3.min.js\", \"https://cdn.bokeh.org/bokeh/release/bokeh-tables-2.4.3.min.js\", \"https://cdn.bokeh.org/bokeh/release/bokeh-mathjax-2.4.3.min.js\"];\n  const css_urls = [];\n\n  const inline_js = [    function(Bokeh) {\n      Bokeh.set_log_level(\"info\");\n    },\nfunction(Bokeh) {\n    }\n  ];\n\n  function run_inline_js() {\n    if (root.Bokeh !== undefined || force === true) {\n          for (let i = 0; i < inline_js.length; i++) {\n      inline_js[i].call(root, root.Bokeh);\n    }\nif (force === true) {\n        display_loaded();\n      }} else if (Date.now() < root._bokeh_timeout) {\n      setTimeout(run_inline_js, 100);\n    } else if (!root._bokeh_failed_load) {\n      console.log(\"Bokeh: BokehJS failed to load within specified timeout.\");\n      root._bokeh_failed_load = true;\n    } else if (force !== true) {\n      const cell = $(document.getElementById(\"7388\")).parents('.cell').data().cell;\n      cell.output_area.append_execute_result(NB_LOAD_WARNING)\n    }\n  }\n\n  if (root._bokeh_is_loading === 0) {\n    console.debug(\"Bokeh: BokehJS loaded, going straight to plotting\");\n    run_inline_js();\n  } else {\n    load_libs(css_urls, js_urls, function() {\n      console.debug(\"Bokeh: BokehJS plotting callback run at\", now());\n      run_inline_js();\n    });\n  }\n}(window));",
      "application/vnd.bokehjs_load.v0+json": ""
     },
     "metadata": {},
     "output_type": "display_data"
    },
    {
     "data": {
      "text/html": [
       "\n",
       "  <div class=\"bk-root\" id=\"c69b483d-b8ae-42f6-85e8-052d9d18d384\" data-root-id=\"7967\"></div>\n"
      ]
     },
     "metadata": {},
     "output_type": "display_data"
    },
    {
     "data": {
      "application/javascript": "(function(root) {\n  function embed_document(root) {\n  const docs_json = {\"d89a5618-34e2-494d-ab81-ebc72bca3c53\":{\"defs\":[],\"roots\":{\"references\":[{\"attributes\":{\"children\":[{\"id\":\"7427\"},{\"id\":\"7459\"}]},\"id\":\"7967\",\"type\":\"Column\"},{\"attributes\":{},\"id\":\"8037\",\"type\":\"UnionRenderers\"},{\"attributes\":{},\"id\":\"8038\",\"type\":\"Selection\"},{\"attributes\":{\"data\":{\"date_time\":{\"__ndarray__\":\"AAC49oTlc0IAAF6zbuRzQgAArply5nNCAADKEAznc0IAANSA+udzQgAAvHpV53NCAACOaO3pc0IAAJrfTehzQgAAwJ1K6XNCAAACSInrc0IAANwELuxzQgAAlCbL7XNCAACwuBvvc0IAAKgbZu9zQgAAptCx8HNC\",\"dtype\":\"float64\",\"order\":\"little\",\"shape\":[15]},\"index\":[19,20,21,22,23,24,25,26,27,28,29,30,31,32,33],\"y_index\":[18,18,18,18,18,18,18,18,18,18,18,18,18,18,18]},\"selected\":{\"id\":\"8014\"},\"selection_policy\":{\"id\":\"8013\"}},\"id\":\"7407\",\"type\":\"ColumnDataSource\"},{\"attributes\":{},\"id\":\"8005\",\"type\":\"UnionRenderers\"},{\"attributes\":{},\"id\":\"8006\",\"type\":\"Selection\"},{\"attributes\":{\"data\":{\"date_time\":{\"__ndarray__\":\"AAA6wcDkc0IAAILJ8ulzQgAAhMGf6HNCAAA671Pnc0IAAI4kq+hzQgAA9hFF6nNCAADe6f7oc0I=\",\"dtype\":\"float64\",\"order\":\"little\",\"shape\":[7]},\"index\":[162,163,164,165,166,167,168],\"y_index\":[4,4,4,4,4,4,4]},\"selected\":{\"id\":\"7986\"},\"selection_policy\":{\"id\":\"7985\"}},\"id\":\"7393\",\"type\":\"ColumnDataSource\"},{\"attributes\":{},\"id\":\"8039\",\"type\":\"UnionRenderers\"},{\"attributes\":{},\"id\":\"8040\",\"type\":\"Selection\"},{\"attributes\":{},\"id\":\"8007\",\"type\":\"UnionRenderers\"},{\"attributes\":{},\"id\":\"8008\",\"type\":\"Selection\"},{\"attributes\":{\"data\":{\"date_time\":{\"__ndarray__\":\"AACIpkvqc0IAAOSroOhzQgAAmBn453NCAACk6Lrvc0I=\",\"dtype\":\"float64\",\"order\":\"little\",\"shape\":[4]},\"index\":[379,380,381,382],\"y_index\":[16,16,16,16]},\"selected\":{\"id\":\"8010\"},\"selection_policy\":{\"id\":\"8009\"}},\"id\":\"7405\",\"type\":\"ColumnDataSource\"},{\"attributes\":{},\"id\":\"8041\",\"type\":\"UnionRenderers\"},{\"attributes\":{},\"id\":\"7976\",\"type\":\"AllLabels\"},{\"attributes\":{},\"id\":\"8042\",\"type\":\"Selection\"},{\"attributes\":{\"data\":{\"date_time\":{\"__ndarray__\":\"AADo3kvoc0IAADYVqehzQgAAzk+p6HNCAACoKPboc0IAAFYM/OdzQgAA1umL63NC\",\"dtype\":\"float64\",\"order\":\"little\",\"shape\":[6]},\"index\":[337,338,339,340,341,342],\"y_index\":[13,13,13,13,13,13]},\"selected\":{\"id\":\"8004\"},\"selection_policy\":{\"id\":\"8003\"}},\"id\":\"7402\",\"type\":\"ColumnDataSource\"},{\"attributes\":{},\"id\":\"8009\",\"type\":\"UnionRenderers\"},{\"attributes\":{\"data\":{\"date_time\":{\"__ndarray__\":\"AAC62XPkc0IAAIjYouhzQg==\",\"dtype\":\"float64\",\"order\":\"little\",\"shape\":[2]},\"index\":[249,250],\"y_index\":[1,1]},\"selected\":{\"id\":\"7980\"},\"selection_policy\":{\"id\":\"7979\"}},\"id\":\"7390\",\"type\":\"ColumnDataSource\"},{\"attributes\":{\"data\":{\"date_time\":{\"__ndarray__\":\"AACG3sDkc0IAAFxAIORzQgAAsMlv5HNCAACagjbkc0IAAB6+3uVzQgAALvBu5nNCAABwmq3oc0IAAP4Lv+ZzQgAAAJH46XNCAACE5SLnc0IAACKPveZzQgAA+AP553NCAACcq5zpc0IAAMBfAelzQgAAtgH+6nNCAAAokd3rc0IAAHbc+OtzQgAAGLhN7HNCAACkkZzsc0IAAGjOxu5zQgAACLVB7XNCAADI037vc0IAAMbQ0O1zQgAAiEC773NC\",\"dtype\":\"float64\",\"order\":\"little\",\"shape\":[24]},\"index\":[220,221,222,223,224,225,226,227,228,229,230,231,232,233,234,235,236,237,238,239,240,241,242,243],\"y_index\":[12,12,12,12,12,12,12,12,12,12,12,12,12,12,12,12,12,12,12,12,12,12,12,12]},\"selected\":{\"id\":\"8002\"},\"selection_policy\":{\"id\":\"8001\"}},\"id\":\"7401\",\"type\":\"ColumnDataSource\"},{\"attributes\":{},\"id\":\"8010\",\"type\":\"Selection\"},{\"attributes\":{},\"id\":\"7977\",\"type\":\"UnionRenderers\"},{\"attributes\":{\"data\":{\"date_time\":{\"__ndarray__\":\"AAAWrXHkc0IAAELGO+RzQgAA0k7I5HNCAACuAinlc0IAAOIG++lzQgAAWMxY53NCAABunfjnc0IAAO4UpelzQgAAzjAu7HNCAABG9XXvc0I=\",\"dtype\":\"float64\",\"order\":\"little\",\"shape\":[10]},\"index\":[0,1,2,3,4,5,6,7,8,10],\"y_index\":[10,10,10,10,10,10,10,10,10,10]},\"selected\":{\"id\":\"7998\"},\"selection_policy\":{\"id\":\"7997\"}},\"id\":\"7399\",\"type\":\"ColumnDataSource\"},{\"attributes\":{},\"id\":\"7978\",\"type\":\"Selection\"},{\"attributes\":{\"data\":{\"date_time\":{\"__ndarray__\":\"AACwWsDkc0I=\",\"dtype\":\"float64\",\"order\":\"little\",\"shape\":[1]},\"index\":[383],\"y_index\":[14]},\"selected\":{\"id\":\"8006\"},\"selection_policy\":{\"id\":\"8005\"}},\"id\":\"7403\",\"type\":\"ColumnDataSource\"},{\"attributes\":{},\"id\":\"8043\",\"type\":\"UnionRenderers\"},{\"attributes\":{\"data\":{\"date_time\":{\"__ndarray__\":\"AAAOEvHpc0I=\",\"dtype\":\"float64\",\"order\":\"little\",\"shape\":[1]},\"index\":[262],\"y_index\":[8]},\"selected\":{\"id\":\"7994\"},\"selection_policy\":{\"id\":\"7993\"}},\"id\":\"7397\",\"type\":\"ColumnDataSource\"},{\"attributes\":{\"coordinates\":null,\"data_source\":{\"id\":\"7412\"},\"glyph\":{\"id\":\"7617\"},\"group\":null,\"hover_glyph\":null,\"muted_glyph\":{\"id\":\"7619\"},\"nonselection_glyph\":{\"id\":\"7618\"},\"view\":{\"id\":\"7621\"}},\"id\":\"7620\",\"type\":\"GlyphRenderer\"},{\"attributes\":{},\"id\":\"8044\",\"type\":\"Selection\"},{\"attributes\":{\"fill_alpha\":{\"value\":0.2},\"fill_color\":{\"value\":\"#1E988A\"},\"hatch_alpha\":{\"value\":0.2},\"hatch_color\":{\"value\":\"#1E988A\"},\"line_alpha\":{\"value\":0.2},\"line_color\":{\"value\":\"#1E988A\"},\"x\":{\"field\":\"date_time\"},\"y\":{\"field\":\"y_index\"}},\"id\":\"7619\",\"type\":\"Circle\"},{\"attributes\":{\"coordinates\":null,\"data_source\":{\"id\":\"7396\"},\"glyph\":{\"id\":\"7757\"},\"group\":null,\"hover_glyph\":null,\"muted_glyph\":{\"id\":\"7759\"},\"nonselection_glyph\":{\"id\":\"7758\"},\"view\":{\"id\":\"7761\"}},\"id\":\"7760\",\"type\":\"GlyphRenderer\"},{\"attributes\":{\"fill_color\":{\"value\":\"#1E9D88\"},\"hatch_color\":{\"value\":\"#1E9D88\"},\"line_color\":{\"value\":\"#1E9D88\"},\"x\":{\"field\":\"date_time\"},\"y\":{\"field\":\"y_index\"}},\"id\":\"7623\",\"type\":\"Circle\"},{\"attributes\":{\"data\":{\"date_time\":{\"__ndarray__\":\"AAAkgXHkc0IAAKQFAedzQgAApkb46HNCAACohBzuc0I=\",\"dtype\":\"float64\",\"order\":\"little\",\"shape\":[4]},\"index\":[303,304,305,306],\"y_index\":[11,11,11,11]},\"selected\":{\"id\":\"8000\"},\"selection_policy\":{\"id\":\"7999\"}},\"id\":\"7400\",\"type\":\"ColumnDataSource\"},{\"attributes\":{\"fill_color\":{\"value\":\"#287B8E\"},\"hatch_color\":{\"value\":\"#287B8E\"},\"line_color\":{\"value\":\"#287B8E\"},\"x\":{\"field\":\"date_time\"},\"y\":{\"field\":\"y_index\"}},\"id\":\"7587\",\"type\":\"Circle\"},{\"attributes\":{\"source\":{\"id\":\"7412\"}},\"id\":\"7621\",\"type\":\"CDSView\"},{\"attributes\":{\"fill_alpha\":{\"value\":0.1},\"fill_color\":{\"value\":\"#1FA386\"},\"hatch_alpha\":{\"value\":0.1},\"hatch_color\":{\"value\":\"#1FA386\"},\"line_alpha\":{\"value\":0.1},\"line_color\":{\"value\":\"#1FA386\"},\"x\":{\"field\":\"date_time\"},\"y\":{\"field\":\"y_index\"}},\"id\":\"7630\",\"type\":\"Circle\"},{\"attributes\":{},\"id\":\"8011\",\"type\":\"UnionRenderers\"},{\"attributes\":{\"fill_color\":{\"value\":\"#1FA386\"},\"hatch_color\":{\"value\":\"#1FA386\"},\"line_color\":{\"value\":\"#1FA386\"},\"x\":{\"field\":\"date_time\"},\"y\":{\"field\":\"y_index\"}},\"id\":\"7629\",\"type\":\"Circle\"},{\"attributes\":{\"source\":{\"id\":\"7413\"}},\"id\":\"7627\",\"type\":\"CDSView\"},{\"attributes\":{\"coordinates\":null,\"data_source\":{\"id\":\"7413\"},\"glyph\":{\"id\":\"7623\"},\"group\":null,\"hover_glyph\":null,\"muted_glyph\":{\"id\":\"7625\"},\"nonselection_glyph\":{\"id\":\"7624\"},\"view\":{\"id\":\"7627\"}},\"id\":\"7626\",\"type\":\"GlyphRenderer\"},{\"attributes\":{},\"id\":\"8012\",\"type\":\"Selection\"},{\"attributes\":{\"fill_alpha\":{\"value\":0.2},\"fill_color\":{\"value\":\"#1E9D88\"},\"hatch_alpha\":{\"value\":0.2},\"hatch_color\":{\"value\":\"#1E9D88\"},\"line_alpha\":{\"value\":0.2},\"line_color\":{\"value\":\"#1E9D88\"},\"x\":{\"field\":\"date_time\"},\"y\":{\"field\":\"y_index\"}},\"id\":\"7625\",\"type\":\"Circle\"},{\"attributes\":{},\"id\":\"7979\",\"type\":\"UnionRenderers\"},{\"attributes\":{\"fill_alpha\":{\"value\":0.2},\"fill_color\":{\"value\":\"#4BC26C\"},\"hatch_alpha\":{\"value\":0.2},\"hatch_color\":{\"value\":\"#4BC26C\"},\"line_alpha\":{\"value\":0.2},\"line_color\":{\"value\":\"#4BC26C\"},\"x\":{\"field\":\"date_time\"},\"y\":{\"field\":\"y_index\"}},\"id\":\"7667\",\"type\":\"Circle\"},{\"attributes\":{\"fill_alpha\":{\"value\":0.1},\"fill_color\":{\"value\":\"#287B8E\"},\"hatch_alpha\":{\"value\":0.1},\"hatch_color\":{\"value\":\"#287B8E\"},\"line_alpha\":{\"value\":0.1},\"line_color\":{\"value\":\"#287B8E\"},\"x\":{\"field\":\"date_time\"},\"y\":{\"field\":\"y_index\"}},\"id\":\"7588\",\"type\":\"Circle\"},{\"attributes\":{\"fill_color\":{\"value\":\"#57C665\"},\"hatch_color\":{\"value\":\"#57C665\"},\"line_color\":{\"value\":\"#57C665\"},\"x\":{\"field\":\"date_time\"},\"y\":{\"field\":\"y_index\"}},\"id\":\"7671\",\"type\":\"Circle\"},{\"attributes\":{\"fill_alpha\":{\"value\":0.1},\"fill_color\":{\"value\":\"#1E9D88\"},\"hatch_alpha\":{\"value\":0.1},\"hatch_color\":{\"value\":\"#1E9D88\"},\"line_alpha\":{\"value\":0.1},\"line_color\":{\"value\":\"#1E9D88\"},\"x\":{\"field\":\"date_time\"},\"y\":{\"field\":\"y_index\"}},\"id\":\"7624\",\"type\":\"Circle\"},{\"attributes\":{},\"id\":\"7980\",\"type\":\"Selection\"},{\"attributes\":{\"source\":{\"id\":\"7420\"}},\"id\":\"7669\",\"type\":\"CDSView\"},{\"attributes\":{\"fill_alpha\":{\"value\":0.1},\"fill_color\":{\"value\":\"#23A883\"},\"hatch_alpha\":{\"value\":0.1},\"hatch_color\":{\"value\":\"#23A883\"},\"line_alpha\":{\"value\":0.1},\"line_color\":{\"value\":\"#23A883\"},\"x\":{\"field\":\"date_time\"},\"y\":{\"field\":\"y_index\"}},\"id\":\"7636\",\"type\":\"Circle\"},{\"attributes\":{\"label\":{\"value\":\"u12\"},\"renderers\":[{\"id\":\"7760\"}]},\"id\":\"7762\",\"type\":\"LegendItem\"},{\"attributes\":{},\"id\":\"8045\",\"type\":\"UnionRenderers\"},{\"attributes\":{\"fill_color\":{\"value\":\"#4BC26C\"},\"hatch_color\":{\"value\":\"#4BC26C\"},\"line_color\":{\"value\":\"#4BC26C\"},\"x\":{\"field\":\"date_time\"},\"y\":{\"field\":\"y_index\"}},\"id\":\"7665\",\"type\":\"Circle\"},{\"attributes\":{\"source\":{\"id\":\"7415\"}},\"id\":\"7639\",\"type\":\"CDSView\"},{\"attributes\":{\"data\":{\"date_time\":{\"__ndarray__\":\"AAA+Yxvkc0IAAPr9h+RzQgAAaqp45nNCAACYGfjnc0I=\",\"dtype\":\"float64\",\"order\":\"little\",\"shape\":[4]},\"index\":[251,252,253,254],\"y_index\":[2,2,2,2]},\"selected\":{\"id\":\"7982\"},\"selection_policy\":{\"id\":\"7981\"}},\"id\":\"7391\",\"type\":\"ColumnDataSource\"},{\"attributes\":{\"fill_alpha\":{\"value\":0.1},\"fill_color\":{\"value\":\"#1E988A\"},\"hatch_alpha\":{\"value\":0.1},\"hatch_color\":{\"value\":\"#1E988A\"},\"line_alpha\":{\"value\":0.1},\"line_color\":{\"value\":\"#1E988A\"},\"x\":{\"field\":\"date_time\"},\"y\":{\"field\":\"y_index\"}},\"id\":\"7618\",\"type\":\"Circle\"},{\"attributes\":{},\"id\":\"8046\",\"type\":\"Selection\"},{\"attributes\":{\"fill_color\":{\"value\":\"#23A883\"},\"hatch_color\":{\"value\":\"#23A883\"},\"line_color\":{\"value\":\"#23A883\"},\"x\":{\"field\":\"date_time\"},\"y\":{\"field\":\"y_index\"}},\"id\":\"7635\",\"type\":\"Circle\"},{\"attributes\":{\"coordinates\":null,\"data_source\":{\"id\":\"7414\"},\"glyph\":{\"id\":\"7629\"},\"group\":null,\"hover_glyph\":null,\"muted_glyph\":{\"id\":\"7631\"},\"nonselection_glyph\":{\"id\":\"7630\"},\"view\":{\"id\":\"7633\"}},\"id\":\"7632\",\"type\":\"GlyphRenderer\"},{\"attributes\":{\"fill_alpha\":{\"value\":0.2},\"fill_color\":{\"value\":\"#23A883\"},\"hatch_alpha\":{\"value\":0.2},\"hatch_color\":{\"value\":\"#23A883\"},\"line_alpha\":{\"value\":0.2},\"line_color\":{\"value\":\"#23A883\"},\"x\":{\"field\":\"date_time\"},\"y\":{\"field\":\"y_index\"}},\"id\":\"7637\",\"type\":\"Circle\"},{\"attributes\":{\"fill_alpha\":{\"value\":0.1},\"fill_color\":{\"value\":\"#423E85\"},\"hatch_alpha\":{\"value\":0.1},\"hatch_color\":{\"value\":\"#423E85\"},\"line_alpha\":{\"value\":0.1},\"line_color\":{\"value\":\"#423E85\"},\"marker\":{\"value\":\"diamond\"},\"size\":{\"value\":10},\"x\":{\"field\":\"date_time\"},\"y\":{\"field\":\"y_index\"}},\"id\":\"7765\",\"type\":\"Scatter\"},{\"attributes\":{\"fill_alpha\":{\"value\":0.2},\"fill_color\":{\"value\":\"#1FA386\"},\"hatch_alpha\":{\"value\":0.2},\"hatch_color\":{\"value\":\"#1FA386\"},\"line_alpha\":{\"value\":0.2},\"line_color\":{\"value\":\"#1FA386\"},\"x\":{\"field\":\"date_time\"},\"y\":{\"field\":\"y_index\"}},\"id\":\"7631\",\"type\":\"Circle\"},{\"attributes\":{\"source\":{\"id\":\"7414\"}},\"id\":\"7633\",\"type\":\"CDSView\"},{\"attributes\":{\"coordinates\":null,\"data_source\":{\"id\":\"7420\"},\"glyph\":{\"id\":\"7665\"},\"group\":null,\"hover_glyph\":null,\"muted_glyph\":{\"id\":\"7667\"},\"nonselection_glyph\":{\"id\":\"7666\"},\"view\":{\"id\":\"7669\"}},\"id\":\"7668\",\"type\":\"GlyphRenderer\"},{\"attributes\":{\"coordinates\":null,\"data_source\":{\"id\":\"7415\"},\"glyph\":{\"id\":\"7635\"},\"group\":null,\"hover_glyph\":null,\"muted_glyph\":{\"id\":\"7637\"},\"nonselection_glyph\":{\"id\":\"7636\"},\"view\":{\"id\":\"7639\"}},\"id\":\"7638\",\"type\":\"GlyphRenderer\"},{\"attributes\":{},\"id\":\"8013\",\"type\":\"UnionRenderers\"},{\"attributes\":{\"fill_alpha\":{\"value\":0.1},\"fill_color\":{\"value\":\"#4BC26C\"},\"hatch_alpha\":{\"value\":0.1},\"hatch_color\":{\"value\":\"#4BC26C\"},\"line_alpha\":{\"value\":0.1},\"line_color\":{\"value\":\"#4BC26C\"},\"x\":{\"field\":\"date_time\"},\"y\":{\"field\":\"y_index\"}},\"id\":\"7666\",\"type\":\"Circle\"},{\"attributes\":{},\"id\":\"8014\",\"type\":\"Selection\"},{\"attributes\":{\"days\":[\"%m-%d %H:%M\"],\"hours\":[\"%H:%M:%S\"],\"milliseconds\":[\"%H:%M:%S.%3N\"],\"minutes\":[\"%H:%M:%S\"],\"seconds\":[\"%H:%M:%S\"]},\"id\":\"7705\",\"type\":\"DatetimeTickFormatter\"},{\"attributes\":{},\"id\":\"7981\",\"type\":\"UnionRenderers\"},{\"attributes\":{\"fill_alpha\":{\"value\":0.1},\"fill_color\":{\"value\":\"#57C665\"},\"hatch_alpha\":{\"value\":0.1},\"hatch_color\":{\"value\":\"#57C665\"},\"line_alpha\":{\"value\":0.1},\"line_color\":{\"value\":\"#57C665\"},\"x\":{\"field\":\"date_time\"},\"y\":{\"field\":\"y_index\"}},\"id\":\"7672\",\"type\":\"Circle\"},{\"attributes\":{\"fill_alpha\":{\"value\":0.1},\"fill_color\":{\"value\":\"#64CB5D\"},\"hatch_alpha\":{\"value\":0.1},\"hatch_color\":{\"value\":\"#64CB5D\"},\"line_alpha\":{\"value\":0.1},\"line_color\":{\"value\":\"#64CB5D\"},\"x\":{\"field\":\"date_time\"},\"y\":{\"field\":\"y_index\"}},\"id\":\"7678\",\"type\":\"Circle\"},{\"attributes\":{\"fill_color\":{\"value\":\"#64CB5D\"},\"hatch_color\":{\"value\":\"#64CB5D\"},\"line_color\":{\"value\":\"#64CB5D\"},\"x\":{\"field\":\"date_time\"},\"y\":{\"field\":\"y_index\"}},\"id\":\"7677\",\"type\":\"Circle\"},{\"attributes\":{},\"id\":\"7982\",\"type\":\"Selection\"},{\"attributes\":{\"data\":{\"date_time\":{\"__ndarray__\":\"AABkGEznc0IAAMrJ9uhzQgAAtKtI6XNCAACUYe7pc0IAAApqnelzQgAAMMbN63NCAADWetzrc0IAALy60+xzQgAAIsZv7nNCAADoHsrtc0IAAATTu+9zQgAA5mRm73NCAAB+FA/wc0IAADjUZ/BzQgAAQO2v8HNC\",\"dtype\":\"float64\",\"order\":\"little\",\"shape\":[15]},\"index\":[144,145,146,147,148,149,150,151,152,153,154,155,156,157,158],\"y_index\":[0,0,0,0,0,0,0,0,0,0,0,0,0,0,0]},\"selected\":{\"id\":\"7978\"},\"selection_policy\":{\"id\":\"7977\"}},\"id\":\"7389\",\"type\":\"ColumnDataSource\"},{\"attributes\":{\"source\":{\"id\":\"7421\"}},\"id\":\"7675\",\"type\":\"CDSView\"},{\"attributes\":{\"coordinates\":null,\"data_source\":{\"id\":\"7421\"},\"glyph\":{\"id\":\"7671\"},\"group\":null,\"hover_glyph\":null,\"muted_glyph\":{\"id\":\"7673\"},\"nonselection_glyph\":{\"id\":\"7672\"},\"view\":{\"id\":\"7675\"}},\"id\":\"7674\",\"type\":\"GlyphRenderer\"},{\"attributes\":{\"fill_alpha\":{\"value\":0.2},\"fill_color\":{\"value\":\"#57C665\"},\"hatch_alpha\":{\"value\":0.2},\"hatch_color\":{\"value\":\"#57C665\"},\"line_alpha\":{\"value\":0.2},\"line_color\":{\"value\":\"#57C665\"},\"x\":{\"field\":\"date_time\"},\"y\":{\"field\":\"y_index\"}},\"id\":\"7673\",\"type\":\"Circle\"},{\"attributes\":{},\"id\":\"8047\",\"type\":\"UnionRenderers\"},{\"attributes\":{\"fill_alpha\":{\"value\":0.2},\"fill_color\":{\"value\":\"#4BC26C\"},\"hatch_alpha\":{\"value\":0.2},\"hatch_color\":{\"value\":\"#4BC26C\"},\"line_alpha\":{\"value\":0.2},\"line_color\":{\"value\":\"#4BC26C\"},\"marker\":{\"value\":\"diamond\"},\"size\":{\"value\":10},\"x\":{\"field\":\"date_time\"},\"y\":{\"field\":\"y_index\"}},\"id\":\"7927\",\"type\":\"Scatter\"},{\"attributes\":{\"fill_alpha\":{\"value\":0.2},\"fill_color\":{\"value\":\"#443781\"},\"hatch_alpha\":{\"value\":0.2},\"hatch_color\":{\"value\":\"#443781\"},\"line_alpha\":{\"value\":0.2},\"line_color\":{\"value\":\"#443781\"},\"marker\":{\"value\":\"diamond\"},\"size\":{\"value\":10},\"x\":{\"field\":\"date_time\"},\"y\":{\"field\":\"y_index\"}},\"id\":\"7759\",\"type\":\"Scatter\"},{\"attributes\":{\"fill_alpha\":{\"value\":0.1},\"fill_color\":{\"value\":\"#72CF55\"},\"hatch_alpha\":{\"value\":0.1},\"hatch_color\":{\"value\":\"#72CF55\"},\"line_alpha\":{\"value\":0.1},\"line_color\":{\"value\":\"#72CF55\"},\"x\":{\"field\":\"date_time\"},\"y\":{\"field\":\"y_index\"}},\"id\":\"7684\",\"type\":\"Circle\"},{\"attributes\":{},\"id\":\"8048\",\"type\":\"Selection\"},{\"attributes\":{\"fill_color\":{\"value\":\"#72CF55\"},\"hatch_color\":{\"value\":\"#72CF55\"},\"line_color\":{\"value\":\"#72CF55\"},\"x\":{\"field\":\"date_time\"},\"y\":{\"field\":\"y_index\"}},\"id\":\"7683\",\"type\":\"Circle\"},{\"attributes\":{\"source\":{\"id\":\"7422\"}},\"id\":\"7681\",\"type\":\"CDSView\"},{\"attributes\":{\"coordinates\":null,\"data_source\":{\"id\":\"7422\"},\"glyph\":{\"id\":\"7677\"},\"group\":null,\"hover_glyph\":null,\"muted_glyph\":{\"id\":\"7679\"},\"nonselection_glyph\":{\"id\":\"7678\"},\"view\":{\"id\":\"7681\"}},\"id\":\"7680\",\"type\":\"GlyphRenderer\"},{\"attributes\":{\"data\":{\"date_time\":{\"__ndarray__\":\"AABaCxvkc0IAAEJeduRzQgAAVg7e5XNCAABI0Sfnc0IAAL7muedzQgAA0i9N6HNCAADoh4Dsc0I=\",\"dtype\":\"float64\",\"order\":\"little\",\"shape\":[7]},\"index\":[255,256,257,258,259,260,261],\"y_index\":[5,5,5,5,5,5,5]},\"selected\":{\"id\":\"7988\"},\"selection_policy\":{\"id\":\"7987\"}},\"id\":\"7394\",\"type\":\"ColumnDataSource\"},{\"attributes\":{\"fill_alpha\":{\"value\":0.2},\"fill_color\":{\"value\":\"#64CB5D\"},\"hatch_alpha\":{\"value\":0.2},\"hatch_color\":{\"value\":\"#64CB5D\"},\"line_alpha\":{\"value\":0.2},\"line_color\":{\"value\":\"#64CB5D\"},\"x\":{\"field\":\"date_time\"},\"y\":{\"field\":\"y_index\"}},\"id\":\"7679\",\"type\":\"Circle\"},{\"attributes\":{\"fill_alpha\":{\"value\":0.1},\"fill_color\":{\"value\":\"#443781\"},\"hatch_alpha\":{\"value\":0.1},\"hatch_color\":{\"value\":\"#443781\"},\"line_alpha\":{\"value\":0.1},\"line_color\":{\"value\":\"#443781\"},\"marker\":{\"value\":\"diamond\"},\"size\":{\"value\":10},\"x\":{\"field\":\"date_time\"},\"y\":{\"field\":\"y_index\"}},\"id\":\"7758\",\"type\":\"Scatter\"},{\"attributes\":{\"data\":{\"date_time\":{\"__ndarray__\":\"AAAmY2/kc0IAAJLQwuRzQgAArLd05nNCAADaO7Lnc0IAALLDUehzQgAAst/553NCAABAtv3oc0IAANYqqOhzQgAAdkag6XNCAADexIrrc0IAAJT+MOxzQgAAIp7V7HNCAACewSbtc0IAAHjteu1zQgAAAJQe7nNCAAACfBXvc0I=\",\"dtype\":\"float64\",\"order\":\"little\",\"shape\":[16]},\"index\":[309,310,311,312,313,314,315,316,317,318,319,320,321,322,323,324],\"y_index\":[21,21,21,21,21,21,21,21,21,21,21,21,21,21,21,21]},\"selected\":{\"id\":\"8020\"},\"selection_policy\":{\"id\":\"8019\"}},\"id\":\"7410\",\"type\":\"ColumnDataSource\"},{\"attributes\":{\"fill_alpha\":{\"value\":0.1},\"fill_color\":{\"value\":\"#81D34C\"},\"hatch_alpha\":{\"value\":0.1},\"hatch_color\":{\"value\":\"#81D34C\"},\"line_alpha\":{\"value\":0.1},\"line_color\":{\"value\":\"#81D34C\"},\"x\":{\"field\":\"date_time\"},\"y\":{\"field\":\"y_index\"}},\"id\":\"7690\",\"type\":\"Circle\"},{\"attributes\":{\"fill_color\":{\"value\":\"#81D34C\"},\"hatch_color\":{\"value\":\"#81D34C\"},\"line_color\":{\"value\":\"#81D34C\"},\"x\":{\"field\":\"date_time\"},\"y\":{\"field\":\"y_index\"}},\"id\":\"7689\",\"type\":\"Circle\"},{\"attributes\":{},\"id\":\"8015\",\"type\":\"UnionRenderers\"},{\"attributes\":{\"source\":{\"id\":\"7423\"}},\"id\":\"7687\",\"type\":\"CDSView\"},{\"attributes\":{\"coordinates\":null,\"data_source\":{\"id\":\"7423\"},\"glyph\":{\"id\":\"7683\"},\"group\":null,\"hover_glyph\":null,\"muted_glyph\":{\"id\":\"7685\"},\"nonselection_glyph\":{\"id\":\"7684\"},\"view\":{\"id\":\"7687\"}},\"id\":\"7686\",\"type\":\"GlyphRenderer\"},{\"attributes\":{\"fill_alpha\":{\"value\":0.2},\"fill_color\":{\"value\":\"#72CF55\"},\"hatch_alpha\":{\"value\":0.2},\"hatch_color\":{\"value\":\"#72CF55\"},\"line_alpha\":{\"value\":0.2},\"line_color\":{\"value\":\"#72CF55\"},\"x\":{\"field\":\"date_time\"},\"y\":{\"field\":\"y_index\"}},\"id\":\"7685\",\"type\":\"Circle\"},{\"attributes\":{},\"id\":\"8016\",\"type\":\"Selection\"},{\"attributes\":{},\"id\":\"7983\",\"type\":\"UnionRenderers\"},{\"attributes\":{\"source\":{\"id\":\"7395\"}},\"id\":\"7754\",\"type\":\"CDSView\"},{\"attributes\":{\"fill_alpha\":{\"value\":0.1},\"fill_color\":{\"value\":\"#90D643\"},\"hatch_alpha\":{\"value\":0.1},\"hatch_color\":{\"value\":\"#90D643\"},\"line_alpha\":{\"value\":0.1},\"line_color\":{\"value\":\"#90D643\"},\"x\":{\"field\":\"date_time\"},\"y\":{\"field\":\"y_index\"}},\"id\":\"7696\",\"type\":\"Circle\"},{\"attributes\":{\"fill_color\":{\"value\":\"#90D643\"},\"hatch_color\":{\"value\":\"#90D643\"},\"line_color\":{\"value\":\"#90D643\"},\"x\":{\"field\":\"date_time\"},\"y\":{\"field\":\"y_index\"}},\"id\":\"7695\",\"type\":\"Circle\"},{\"attributes\":{},\"id\":\"7984\",\"type\":\"Selection\"},{\"attributes\":{\"source\":{\"id\":\"7424\"}},\"id\":\"7693\",\"type\":\"CDSView\"},{\"attributes\":{\"coordinates\":null,\"data_source\":{\"id\":\"7424\"},\"glyph\":{\"id\":\"7689\"},\"group\":null,\"hover_glyph\":null,\"muted_glyph\":{\"id\":\"7691\"},\"nonselection_glyph\":{\"id\":\"7690\"},\"view\":{\"id\":\"7693\"}},\"id\":\"7692\",\"type\":\"GlyphRenderer\"},{\"attributes\":{\"fill_alpha\":{\"value\":0.2},\"fill_color\":{\"value\":\"#81D34C\"},\"hatch_alpha\":{\"value\":0.2},\"hatch_color\":{\"value\":\"#81D34C\"},\"line_alpha\":{\"value\":0.2},\"line_color\":{\"value\":\"#81D34C\"},\"x\":{\"field\":\"date_time\"},\"y\":{\"field\":\"y_index\"}},\"id\":\"7691\",\"type\":\"Circle\"},{\"attributes\":{},\"id\":\"8049\",\"type\":\"UnionRenderers\"},{\"attributes\":{\"label\":{\"value\":\"u10\"},\"renderers\":[{\"id\":\"7753\"}]},\"id\":\"7755\",\"type\":\"LegendItem\"},{\"attributes\":{},\"id\":\"8050\",\"type\":\"Selection\"},{\"attributes\":{\"overlay\":{\"id\":\"7701\"},\"x_range\":{\"id\":\"7430\"},\"y_range\":null},\"id\":\"7700\",\"type\":\"RangeTool\"},{\"attributes\":{\"source\":{\"id\":\"7425\"}},\"id\":\"7699\",\"type\":\"CDSView\"},{\"attributes\":{\"coordinates\":null,\"data_source\":{\"id\":\"7425\"},\"glyph\":{\"id\":\"7695\"},\"group\":null,\"hover_glyph\":null,\"muted_glyph\":{\"id\":\"7697\"},\"nonselection_glyph\":{\"id\":\"7696\"},\"view\":{\"id\":\"7699\"}},\"id\":\"7698\",\"type\":\"GlyphRenderer\"},{\"attributes\":{\"fill_alpha\":{\"value\":0.2},\"fill_color\":{\"value\":\"#90D643\"},\"hatch_alpha\":{\"value\":0.2},\"hatch_color\":{\"value\":\"#90D643\"},\"line_alpha\":{\"value\":0.2},\"line_color\":{\"value\":\"#90D643\"},\"x\":{\"field\":\"date_time\"},\"y\":{\"field\":\"y_index\"}},\"id\":\"7697\",\"type\":\"Circle\"},{\"attributes\":{\"coordinates\":null,\"fill_alpha\":0.2,\"fill_color\":\"navy\",\"group\":null,\"level\":\"overlay\",\"line_alpha\":1.0,\"line_color\":\"black\",\"line_dash\":[2,2],\"line_width\":0.5,\"syncable\":false},\"id\":\"7701\",\"type\":\"BoxAnnotation\"},{\"attributes\":{\"fill_alpha\":{\"value\":0.5},\"fill_color\":{\"value\":\"#440154\"},\"hatch_alpha\":{\"value\":0.5},\"hatch_color\":{\"value\":\"#440154\"},\"line_alpha\":{\"value\":0.5},\"line_color\":{\"value\":\"#440154\"},\"marker\":{\"value\":\"diamond\"},\"size\":{\"value\":10},\"x\":{\"field\":\"date_time\"},\"y\":{\"field\":\"y_index\"}},\"id\":\"7708\",\"type\":\"Scatter\"},{\"attributes\":{},\"id\":\"8017\",\"type\":\"UnionRenderers\"},{\"attributes\":{},\"id\":\"8018\",\"type\":\"Selection\"},{\"attributes\":{\"coordinates\":null,\"data_source\":{\"id\":\"7389\"},\"glyph\":{\"id\":\"7708\"},\"group\":null,\"hover_glyph\":null,\"muted_glyph\":{\"id\":\"7710\"},\"nonselection_glyph\":{\"id\":\"7709\"},\"view\":{\"id\":\"7712\"}},\"id\":\"7711\",\"type\":\"GlyphRenderer\"},{\"attributes\":{},\"id\":\"7985\",\"type\":\"UnionRenderers\"},{\"attributes\":{\"coordinates\":null,\"data_source\":{\"id\":\"7395\"},\"glyph\":{\"id\":\"7750\"},\"group\":null,\"hover_glyph\":null,\"muted_glyph\":{\"id\":\"7752\"},\"nonselection_glyph\":{\"id\":\"7751\"},\"view\":{\"id\":\"7754\"}},\"id\":\"7753\",\"type\":\"GlyphRenderer\"},{\"attributes\":{},\"id\":\"7986\",\"type\":\"Selection\"},{\"attributes\":{\"fill_alpha\":{\"value\":0.1},\"fill_color\":{\"value\":\"#440154\"},\"hatch_alpha\":{\"value\":0.1},\"hatch_color\":{\"value\":\"#440154\"},\"line_alpha\":{\"value\":0.1},\"line_color\":{\"value\":\"#440154\"},\"marker\":{\"value\":\"diamond\"},\"size\":{\"value\":10},\"x\":{\"field\":\"date_time\"},\"y\":{\"field\":\"y_index\"}},\"id\":\"7709\",\"type\":\"Scatter\"},{\"attributes\":{\"fill_alpha\":{\"value\":0.2},\"fill_color\":{\"value\":\"#440154\"},\"hatch_alpha\":{\"value\":0.2},\"hatch_color\":{\"value\":\"#440154\"},\"line_alpha\":{\"value\":0.2},\"line_color\":{\"value\":\"#440154\"},\"marker\":{\"value\":\"diamond\"},\"size\":{\"value\":10},\"x\":{\"field\":\"date_time\"},\"y\":{\"field\":\"y_index\"}},\"id\":\"7710\",\"type\":\"Scatter\"},{\"attributes\":{\"fill_alpha\":{\"value\":0.5},\"fill_color\":{\"value\":\"#443781\"},\"hatch_alpha\":{\"value\":0.5},\"hatch_color\":{\"value\":\"#443781\"},\"line_alpha\":{\"value\":0.5},\"line_color\":{\"value\":\"#443781\"},\"marker\":{\"value\":\"diamond\"},\"size\":{\"value\":10},\"x\":{\"field\":\"date_time\"},\"y\":{\"field\":\"y_index\"}},\"id\":\"7757\",\"type\":\"Scatter\"},{\"attributes\":{\"label\":{\"value\":\"u00\"},\"renderers\":[{\"id\":\"7711\"}]},\"id\":\"7713\",\"type\":\"LegendItem\"},{\"attributes\":{\"source\":{\"id\":\"7389\"}},\"id\":\"7712\",\"type\":\"CDSView\"},{\"attributes\":{\"fill_alpha\":{\"value\":0.1},\"fill_color\":{\"value\":\"#45085B\"},\"hatch_alpha\":{\"value\":0.1},\"hatch_color\":{\"value\":\"#45085B\"},\"line_alpha\":{\"value\":0.1},\"line_color\":{\"value\":\"#45085B\"},\"marker\":{\"value\":\"diamond\"},\"size\":{\"value\":10},\"x\":{\"field\":\"date_time\"},\"y\":{\"field\":\"y_index\"}},\"id\":\"7716\",\"type\":\"Scatter\"},{\"attributes\":{\"fill_alpha\":{\"value\":0.5},\"fill_color\":{\"value\":\"#45085B\"},\"hatch_alpha\":{\"value\":0.5},\"hatch_color\":{\"value\":\"#45085B\"},\"line_alpha\":{\"value\":0.5},\"line_color\":{\"value\":\"#45085B\"},\"marker\":{\"value\":\"diamond\"},\"size\":{\"value\":10},\"x\":{\"field\":\"date_time\"},\"y\":{\"field\":\"y_index\"}},\"id\":\"7715\",\"type\":\"Scatter\"},{\"attributes\":{\"fill_alpha\":{\"value\":0.2},\"fill_color\":{\"value\":\"#23878D\"},\"hatch_alpha\":{\"value\":0.2},\"hatch_color\":{\"value\":\"#23878D\"},\"line_alpha\":{\"value\":0.2},\"line_color\":{\"value\":\"#23878D\"},\"marker\":{\"value\":\"diamond\"},\"size\":{\"value\":10},\"x\":{\"field\":\"date_time\"},\"y\":{\"field\":\"y_index\"}},\"id\":\"7850\",\"type\":\"Scatter\"},{\"attributes\":{\"fill_alpha\":{\"value\":0.2},\"fill_color\":{\"value\":\"#45085B\"},\"hatch_alpha\":{\"value\":0.2},\"hatch_color\":{\"value\":\"#45085B\"},\"line_alpha\":{\"value\":0.2},\"line_color\":{\"value\":\"#45085B\"},\"marker\":{\"value\":\"diamond\"},\"size\":{\"value\":10},\"x\":{\"field\":\"date_time\"},\"y\":{\"field\":\"y_index\"}},\"id\":\"7717\",\"type\":\"Scatter\"},{\"attributes\":{\"fill_alpha\":{\"value\":0.2},\"fill_color\":{\"value\":\"#46307D\"},\"hatch_alpha\":{\"value\":0.2},\"hatch_color\":{\"value\":\"#46307D\"},\"line_alpha\":{\"value\":0.2},\"line_color\":{\"value\":\"#46307D\"},\"marker\":{\"value\":\"diamond\"},\"size\":{\"value\":10},\"x\":{\"field\":\"date_time\"},\"y\":{\"field\":\"y_index\"}},\"id\":\"7752\",\"type\":\"Scatter\"},{\"attributes\":{\"coordinates\":null,\"data_source\":{\"id\":\"7390\"},\"glyph\":{\"id\":\"7715\"},\"group\":null,\"hover_glyph\":null,\"muted_glyph\":{\"id\":\"7717\"},\"nonselection_glyph\":{\"id\":\"7716\"},\"view\":{\"id\":\"7719\"}},\"id\":\"7718\",\"type\":\"GlyphRenderer\"},{\"attributes\":{},\"id\":\"8019\",\"type\":\"UnionRenderers\"},{\"attributes\":{\"fill_alpha\":{\"value\":0.1},\"fill_color\":{\"value\":\"#471163\"},\"hatch_alpha\":{\"value\":0.1},\"hatch_color\":{\"value\":\"#471163\"},\"line_alpha\":{\"value\":0.1},\"line_color\":{\"value\":\"#471163\"},\"marker\":{\"value\":\"diamond\"},\"size\":{\"value\":10},\"x\":{\"field\":\"date_time\"},\"y\":{\"field\":\"y_index\"}},\"id\":\"7723\",\"type\":\"Scatter\"},{\"attributes\":{\"label\":{\"value\":\"u01\"},\"renderers\":[{\"id\":\"7718\"}]},\"id\":\"7720\",\"type\":\"LegendItem\"},{\"attributes\":{},\"id\":\"8020\",\"type\":\"Selection\"},{\"attributes\":{\"source\":{\"id\":\"7390\"}},\"id\":\"7719\",\"type\":\"CDSView\"},{\"attributes\":{},\"id\":\"7987\",\"type\":\"UnionRenderers\"},{\"attributes\":{\"fill_alpha\":{\"value\":0.5},\"fill_color\":{\"value\":\"#471163\"},\"hatch_alpha\":{\"value\":0.5},\"hatch_color\":{\"value\":\"#471163\"},\"line_alpha\":{\"value\":0.5},\"line_color\":{\"value\":\"#471163\"},\"marker\":{\"value\":\"diamond\"},\"size\":{\"value\":10},\"x\":{\"field\":\"date_time\"},\"y\":{\"field\":\"y_index\"}},\"id\":\"7722\",\"type\":\"Scatter\"},{\"attributes\":{\"data\":{\"date_time\":{\"__ndarray__\":\"AAAAyUjpc0IAACj0mulzQg==\",\"dtype\":\"float64\",\"order\":\"little\",\"shape\":[2]},\"index\":[301,302],\"y_index\":[22,22]},\"selected\":{\"id\":\"8022\"},\"selection_policy\":{\"id\":\"8021\"}},\"id\":\"7411\",\"type\":\"ColumnDataSource\"},{\"attributes\":{},\"id\":\"7988\",\"type\":\"Selection\"},{\"attributes\":{\"fill_alpha\":{\"value\":0.2},\"fill_color\":{\"value\":\"#471163\"},\"hatch_alpha\":{\"value\":0.2},\"hatch_color\":{\"value\":\"#471163\"},\"line_alpha\":{\"value\":0.2},\"line_color\":{\"value\":\"#471163\"},\"marker\":{\"value\":\"diamond\"},\"size\":{\"value\":10},\"x\":{\"field\":\"date_time\"},\"y\":{\"field\":\"y_index\"}},\"id\":\"7724\",\"type\":\"Scatter\"},{\"attributes\":{\"fill_alpha\":{\"value\":0.1},\"fill_color\":{\"value\":\"#46307D\"},\"hatch_alpha\":{\"value\":0.1},\"hatch_color\":{\"value\":\"#46307D\"},\"line_alpha\":{\"value\":0.1},\"line_color\":{\"value\":\"#46307D\"},\"marker\":{\"value\":\"diamond\"},\"size\":{\"value\":10},\"x\":{\"field\":\"date_time\"},\"y\":{\"field\":\"y_index\"}},\"id\":\"7751\",\"type\":\"Scatter\"},{\"attributes\":{\"data\":{\"date_time\":{\"__ndarray__\":\"AAAW8MLmc0IAACiR3etzQgAA/qUu7HNCAACo7dLsc0IAAKacJe1zQgAA4EPL7XNCAAB+7HTuc0I=\",\"dtype\":\"float64\",\"order\":\"little\",\"shape\":[7]},\"index\":[213,214,215,216,217,218,219],\"y_index\":[28,28,28,28,28,28,28]},\"selected\":{\"id\":\"8034\"},\"selection_policy\":{\"id\":\"8033\"}},\"id\":\"7417\",\"type\":\"ColumnDataSource\"},{\"attributes\":{\"coordinates\":null,\"data_source\":{\"id\":\"7391\"},\"glyph\":{\"id\":\"7722\"},\"group\":null,\"hover_glyph\":null,\"muted_glyph\":{\"id\":\"7724\"},\"nonselection_glyph\":{\"id\":\"7723\"},\"view\":{\"id\":\"7726\"}},\"id\":\"7725\",\"type\":\"GlyphRenderer\"},{\"attributes\":{\"fill_alpha\":{\"value\":0.1},\"fill_color\":{\"value\":\"#48196B\"},\"hatch_alpha\":{\"value\":0.1},\"hatch_color\":{\"value\":\"#48196B\"},\"line_alpha\":{\"value\":0.1},\"line_color\":{\"value\":\"#48196B\"},\"marker\":{\"value\":\"diamond\"},\"size\":{\"value\":10},\"x\":{\"field\":\"date_time\"},\"y\":{\"field\":\"y_index\"}},\"id\":\"7730\",\"type\":\"Scatter\"},{\"attributes\":{\"label\":{\"value\":\"u02\"},\"renderers\":[{\"id\":\"7725\"}]},\"id\":\"7727\",\"type\":\"LegendItem\"},{\"attributes\":{\"source\":{\"id\":\"7391\"}},\"id\":\"7726\",\"type\":\"CDSView\"},{\"attributes\":{\"data\":{\"date_time\":{\"__ndarray__\":\"AADU3/Ppc0IAACCbJ+tzQg==\",\"dtype\":\"float64\",\"order\":\"little\",\"shape\":[2]},\"index\":[247,248],\"y_index\":[15,15]},\"selected\":{\"id\":\"8008\"},\"selection_policy\":{\"id\":\"8007\"}},\"id\":\"7404\",\"type\":\"ColumnDataSource\"},{\"attributes\":{\"fill_alpha\":{\"value\":0.5},\"fill_color\":{\"value\":\"#48196B\"},\"hatch_alpha\":{\"value\":0.5},\"hatch_color\":{\"value\":\"#48196B\"},\"line_alpha\":{\"value\":0.5},\"line_color\":{\"value\":\"#48196B\"},\"marker\":{\"value\":\"diamond\"},\"size\":{\"value\":10},\"x\":{\"field\":\"date_time\"},\"y\":{\"field\":\"y_index\"}},\"id\":\"7729\",\"type\":\"Scatter\"},{\"attributes\":{\"label\":{\"value\":\"u08\"},\"renderers\":[{\"id\":\"7746\"}]},\"id\":\"7748\",\"type\":\"LegendItem\"},{\"attributes\":{\"fill_alpha\":{\"value\":0.2},\"fill_color\":{\"value\":\"#48196B\"},\"hatch_alpha\":{\"value\":0.2},\"hatch_color\":{\"value\":\"#48196B\"},\"line_alpha\":{\"value\":0.2},\"line_color\":{\"value\":\"#48196B\"},\"marker\":{\"value\":\"diamond\"},\"size\":{\"value\":10},\"x\":{\"field\":\"date_time\"},\"y\":{\"field\":\"y_index\"}},\"id\":\"7731\",\"type\":\"Scatter\"},{\"attributes\":{\"source\":{\"id\":\"7394\"}},\"id\":\"7747\",\"type\":\"CDSView\"},{\"attributes\":{\"coordinates\":null,\"data_source\":{\"id\":\"7392\"},\"glyph\":{\"id\":\"7729\"},\"group\":null,\"hover_glyph\":null,\"muted_glyph\":{\"id\":\"7731\"},\"nonselection_glyph\":{\"id\":\"7730\"},\"view\":{\"id\":\"7733\"}},\"id\":\"7732\",\"type\":\"GlyphRenderer\"},{\"attributes\":{\"fill_alpha\":{\"value\":0.1},\"fill_color\":{\"value\":\"#482172\"},\"hatch_alpha\":{\"value\":0.1},\"hatch_color\":{\"value\":\"#482172\"},\"line_alpha\":{\"value\":0.1},\"line_color\":{\"value\":\"#482172\"},\"marker\":{\"value\":\"diamond\"},\"size\":{\"value\":10},\"x\":{\"field\":\"date_time\"},\"y\":{\"field\":\"y_index\"}},\"id\":\"7737\",\"type\":\"Scatter\"},{\"attributes\":{},\"id\":\"8021\",\"type\":\"UnionRenderers\"},{\"attributes\":{\"label\":{\"value\":\"u03\"},\"renderers\":[{\"id\":\"7732\"}]},\"id\":\"7734\",\"type\":\"LegendItem\"},{\"attributes\":{\"source\":{\"id\":\"7392\"}},\"id\":\"7733\",\"type\":\"CDSView\"},{\"attributes\":{},\"id\":\"8022\",\"type\":\"Selection\"},{\"attributes\":{\"fill_alpha\":{\"value\":0.5},\"fill_color\":{\"value\":\"#482172\"},\"hatch_alpha\":{\"value\":0.5},\"hatch_color\":{\"value\":\"#482172\"},\"line_alpha\":{\"value\":0.5},\"line_color\":{\"value\":\"#482172\"},\"marker\":{\"value\":\"diamond\"},\"size\":{\"value\":10},\"x\":{\"field\":\"date_time\"},\"y\":{\"field\":\"y_index\"}},\"id\":\"7736\",\"type\":\"Scatter\"},{\"attributes\":{\"data\":{\"date_time\":{\"__ndarray__\":\"AAAgam7kc0IAAHjYaeZzQgAA0g2s53NCAABkSMHnc0IAACaj7elzQgAAWOgA53NCAADkfBznc0IAAAi0/eZzQgAAkP++6HNCAABW2qTpc0IAANzB3OlzQgAAGF9N63NCAADqtozrc0IAAGqBQO1zQgAAuB2B73NCAADsNc3tc0IAAETWH+5zQgAAnOsa73NC\",\"dtype\":\"float64\",\"order\":\"little\",\"shape\":[18]},\"index\":[184,185,186,187,188,189,190,191,192,193,194,195,196,197,198,199,200,201],\"y_index\":[29,29,29,29,29,29,29,29,29,29,29,29,29,29,29,29,29,29]},\"selected\":{\"id\":\"8036\"},\"selection_policy\":{\"id\":\"8035\"}},\"id\":\"7418\",\"type\":\"ColumnDataSource\"},{\"attributes\":{},\"id\":\"7989\",\"type\":\"UnionRenderers\"},{\"attributes\":{\"coordinates\":null,\"data_source\":{\"id\":\"7394\"},\"glyph\":{\"id\":\"7743\"},\"group\":null,\"hover_glyph\":null,\"muted_glyph\":{\"id\":\"7745\"},\"nonselection_glyph\":{\"id\":\"7744\"},\"view\":{\"id\":\"7747\"}},\"id\":\"7746\",\"type\":\"GlyphRenderer\"},{\"attributes\":{\"fill_alpha\":{\"value\":0.2},\"fill_color\":{\"value\":\"#482172\"},\"hatch_alpha\":{\"value\":0.2},\"hatch_color\":{\"value\":\"#482172\"},\"line_alpha\":{\"value\":0.2},\"line_color\":{\"value\":\"#482172\"},\"marker\":{\"value\":\"diamond\"},\"size\":{\"value\":10},\"x\":{\"field\":\"date_time\"},\"y\":{\"field\":\"y_index\"}},\"id\":\"7738\",\"type\":\"Scatter\"},{\"attributes\":{},\"id\":\"7990\",\"type\":\"Selection\"},{\"attributes\":{\"fill_alpha\":{\"value\":0.1},\"fill_color\":{\"value\":\"#472878\"},\"hatch_alpha\":{\"value\":0.1},\"hatch_color\":{\"value\":\"#472878\"},\"line_alpha\":{\"value\":0.1},\"line_color\":{\"value\":\"#472878\"},\"marker\":{\"value\":\"diamond\"},\"size\":{\"value\":10},\"x\":{\"field\":\"date_time\"},\"y\":{\"field\":\"y_index\"}},\"id\":\"7744\",\"type\":\"Scatter\"},{\"attributes\":{\"fill_alpha\":{\"value\":0.2},\"fill_color\":{\"value\":\"#472878\"},\"hatch_alpha\":{\"value\":0.2},\"hatch_color\":{\"value\":\"#472878\"},\"line_alpha\":{\"value\":0.2},\"line_color\":{\"value\":\"#472878\"},\"marker\":{\"value\":\"diamond\"},\"size\":{\"value\":10},\"x\":{\"field\":\"date_time\"},\"y\":{\"field\":\"y_index\"}},\"id\":\"7745\",\"type\":\"Scatter\"},{\"attributes\":{\"fill_alpha\":{\"value\":0.1},\"fill_color\":{\"value\":\"#218C8D\"},\"hatch_alpha\":{\"value\":0.1},\"hatch_color\":{\"value\":\"#218C8D\"},\"line_alpha\":{\"value\":0.1},\"line_color\":{\"value\":\"#218C8D\"},\"marker\":{\"value\":\"diamond\"},\"size\":{\"value\":10},\"x\":{\"field\":\"date_time\"},\"y\":{\"field\":\"y_index\"}},\"id\":\"7856\",\"type\":\"Scatter\"},{\"attributes\":{\"coordinates\":null,\"data_source\":{\"id\":\"7409\"},\"glyph\":{\"id\":\"7848\"},\"group\":null,\"hover_glyph\":null,\"muted_glyph\":{\"id\":\"7850\"},\"nonselection_glyph\":{\"id\":\"7849\"},\"view\":{\"id\":\"7852\"}},\"id\":\"7851\",\"type\":\"GlyphRenderer\"},{\"attributes\":{\"fill_alpha\":{\"value\":0.5},\"fill_color\":{\"value\":\"#46307D\"},\"hatch_alpha\":{\"value\":0.5},\"hatch_color\":{\"value\":\"#46307D\"},\"line_alpha\":{\"value\":0.5},\"line_color\":{\"value\":\"#46307D\"},\"marker\":{\"value\":\"diamond\"},\"size\":{\"value\":10},\"x\":{\"field\":\"date_time\"},\"y\":{\"field\":\"y_index\"}},\"id\":\"7750\",\"type\":\"Scatter\"},{\"attributes\":{\"source\":{\"id\":\"7396\"}},\"id\":\"7761\",\"type\":\"CDSView\"},{\"attributes\":{\"fill_alpha\":{\"value\":0.5},\"fill_color\":{\"value\":\"#423E85\"},\"hatch_alpha\":{\"value\":0.5},\"hatch_color\":{\"value\":\"#423E85\"},\"line_alpha\":{\"value\":0.5},\"line_color\":{\"value\":\"#423E85\"},\"marker\":{\"value\":\"diamond\"},\"size\":{\"value\":10},\"x\":{\"field\":\"date_time\"},\"y\":{\"field\":\"y_index\"}},\"id\":\"7764\",\"type\":\"Scatter\"},{\"attributes\":{\"source\":{\"id\":\"7408\"}},\"id\":\"7845\",\"type\":\"CDSView\"},{\"attributes\":{\"fill_alpha\":{\"value\":0.2},\"fill_color\":{\"value\":\"#423E85\"},\"hatch_alpha\":{\"value\":0.2},\"hatch_color\":{\"value\":\"#423E85\"},\"line_alpha\":{\"value\":0.2},\"line_color\":{\"value\":\"#423E85\"},\"marker\":{\"value\":\"diamond\"},\"size\":{\"value\":10},\"x\":{\"field\":\"date_time\"},\"y\":{\"field\":\"y_index\"}},\"id\":\"7766\",\"type\":\"Scatter\"},{\"attributes\":{\"fill_alpha\":{\"value\":0.5},\"fill_color\":{\"value\":\"#23878D\"},\"hatch_alpha\":{\"value\":0.5},\"hatch_color\":{\"value\":\"#23878D\"},\"line_alpha\":{\"value\":0.5},\"line_color\":{\"value\":\"#23878D\"},\"marker\":{\"value\":\"diamond\"},\"size\":{\"value\":10},\"x\":{\"field\":\"date_time\"},\"y\":{\"field\":\"y_index\"}},\"id\":\"7848\",\"type\":\"Scatter\"},{\"attributes\":{\"coordinates\":null,\"data_source\":{\"id\":\"7397\"},\"glyph\":{\"id\":\"7764\"},\"group\":null,\"hover_glyph\":null,\"muted_glyph\":{\"id\":\"7766\"},\"nonselection_glyph\":{\"id\":\"7765\"},\"view\":{\"id\":\"7768\"}},\"id\":\"7767\",\"type\":\"GlyphRenderer\"},{\"attributes\":{},\"id\":\"8023\",\"type\":\"UnionRenderers\"},{\"attributes\":{\"fill_alpha\":{\"value\":0.1},\"fill_color\":{\"value\":\"#3F4587\"},\"hatch_alpha\":{\"value\":0.1},\"hatch_color\":{\"value\":\"#3F4587\"},\"line_alpha\":{\"value\":0.1},\"line_color\":{\"value\":\"#3F4587\"},\"marker\":{\"value\":\"diamond\"},\"size\":{\"value\":10},\"x\":{\"field\":\"date_time\"},\"y\":{\"field\":\"y_index\"}},\"id\":\"7772\",\"type\":\"Scatter\"},{\"attributes\":{\"label\":{\"value\":\"u14\"},\"renderers\":[{\"id\":\"7767\"}]},\"id\":\"7769\",\"type\":\"LegendItem\"},{\"attributes\":{},\"id\":\"8024\",\"type\":\"Selection\"},{\"attributes\":{\"source\":{\"id\":\"7397\"}},\"id\":\"7768\",\"type\":\"CDSView\"},{\"attributes\":{},\"id\":\"7991\",\"type\":\"UnionRenderers\"},{\"attributes\":{\"fill_alpha\":{\"value\":0.5},\"fill_color\":{\"value\":\"#3F4587\"},\"hatch_alpha\":{\"value\":0.5},\"hatch_color\":{\"value\":\"#3F4587\"},\"line_alpha\":{\"value\":0.5},\"line_color\":{\"value\":\"#3F4587\"},\"marker\":{\"value\":\"diamond\"},\"size\":{\"value\":10},\"x\":{\"field\":\"date_time\"},\"y\":{\"field\":\"y_index\"}},\"id\":\"7771\",\"type\":\"Scatter\"},{\"attributes\":{\"label\":{\"value\":\"u34\"},\"renderers\":[{\"id\":\"7844\"}]},\"id\":\"7846\",\"type\":\"LegendItem\"},{\"attributes\":{},\"id\":\"7992\",\"type\":\"Selection\"},{\"attributes\":{\"fill_alpha\":{\"value\":0.2},\"fill_color\":{\"value\":\"#3F4587\"},\"hatch_alpha\":{\"value\":0.2},\"hatch_color\":{\"value\":\"#3F4587\"},\"line_alpha\":{\"value\":0.2},\"line_color\":{\"value\":\"#3F4587\"},\"marker\":{\"value\":\"diamond\"},\"size\":{\"value\":10},\"x\":{\"field\":\"date_time\"},\"y\":{\"field\":\"y_index\"}},\"id\":\"7773\",\"type\":\"Scatter\"},{\"attributes\":{\"coordinates\":null,\"data_source\":{\"id\":\"7398\"},\"glyph\":{\"id\":\"7771\"},\"group\":null,\"hover_glyph\":null,\"muted_glyph\":{\"id\":\"7773\"},\"nonselection_glyph\":{\"id\":\"7772\"},\"view\":{\"id\":\"7775\"}},\"id\":\"7774\",\"type\":\"GlyphRenderer\"},{\"attributes\":{\"fill_alpha\":{\"value\":0.1},\"fill_color\":{\"value\":\"#3D4C89\"},\"hatch_alpha\":{\"value\":0.1},\"hatch_color\":{\"value\":\"#3D4C89\"},\"line_alpha\":{\"value\":0.1},\"line_color\":{\"value\":\"#3D4C89\"},\"marker\":{\"value\":\"diamond\"},\"size\":{\"value\":10},\"x\":{\"field\":\"date_time\"},\"y\":{\"field\":\"y_index\"}},\"id\":\"7779\",\"type\":\"Scatter\"},{\"attributes\":{\"label\":{\"value\":\"u16\"},\"renderers\":[{\"id\":\"7774\"}]},\"id\":\"7776\",\"type\":\"LegendItem\"},{\"attributes\":{\"source\":{\"id\":\"7398\"}},\"id\":\"7775\",\"type\":\"CDSView\"},{\"attributes\":{\"fill_alpha\":{\"value\":0.5},\"fill_color\":{\"value\":\"#3D4C89\"},\"hatch_alpha\":{\"value\":0.5},\"hatch_color\":{\"value\":\"#3D4C89\"},\"line_alpha\":{\"value\":0.5},\"line_color\":{\"value\":\"#3D4C89\"},\"marker\":{\"value\":\"diamond\"},\"size\":{\"value\":10},\"x\":{\"field\":\"date_time\"},\"y\":{\"field\":\"y_index\"}},\"id\":\"7778\",\"type\":\"Scatter\"},{\"attributes\":{\"coordinates\":null,\"data_source\":{\"id\":\"7408\"},\"glyph\":{\"id\":\"7841\"},\"group\":null,\"hover_glyph\":null,\"muted_glyph\":{\"id\":\"7843\"},\"nonselection_glyph\":{\"id\":\"7842\"},\"view\":{\"id\":\"7845\"}},\"id\":\"7844\",\"type\":\"GlyphRenderer\"},{\"attributes\":{\"fill_alpha\":{\"value\":0.2},\"fill_color\":{\"value\":\"#3D4C89\"},\"hatch_alpha\":{\"value\":0.2},\"hatch_color\":{\"value\":\"#3D4C89\"},\"line_alpha\":{\"value\":0.2},\"line_color\":{\"value\":\"#3D4C89\"},\"marker\":{\"value\":\"diamond\"},\"size\":{\"value\":10},\"x\":{\"field\":\"date_time\"},\"y\":{\"field\":\"y_index\"}},\"id\":\"7780\",\"type\":\"Scatter\"},{\"attributes\":{\"fill_alpha\":{\"value\":0.1},\"fill_color\":{\"value\":\"#23878D\"},\"hatch_alpha\":{\"value\":0.1},\"hatch_color\":{\"value\":\"#23878D\"},\"line_alpha\":{\"value\":0.1},\"line_color\":{\"value\":\"#23878D\"},\"marker\":{\"value\":\"diamond\"},\"size\":{\"value\":10},\"x\":{\"field\":\"date_time\"},\"y\":{\"field\":\"y_index\"}},\"id\":\"7849\",\"type\":\"Scatter\"},{\"attributes\":{\"coordinates\":null,\"data_source\":{\"id\":\"7399\"},\"glyph\":{\"id\":\"7778\"},\"group\":null,\"hover_glyph\":null,\"muted_glyph\":{\"id\":\"7780\"},\"nonselection_glyph\":{\"id\":\"7779\"},\"view\":{\"id\":\"7782\"}},\"id\":\"7781\",\"type\":\"GlyphRenderer\"},{\"attributes\":{\"fill_alpha\":{\"value\":0.1},\"fill_color\":{\"value\":\"#3A538B\"},\"hatch_alpha\":{\"value\":0.1},\"hatch_color\":{\"value\":\"#3A538B\"},\"line_alpha\":{\"value\":0.1},\"line_color\":{\"value\":\"#3A538B\"},\"marker\":{\"value\":\"diamond\"},\"size\":{\"value\":10},\"x\":{\"field\":\"date_time\"},\"y\":{\"field\":\"y_index\"}},\"id\":\"7786\",\"type\":\"Scatter\"},{\"attributes\":{},\"id\":\"8025\",\"type\":\"UnionRenderers\"},{\"attributes\":{\"label\":{\"value\":\"u17\"},\"renderers\":[{\"id\":\"7781\"}]},\"id\":\"7783\",\"type\":\"LegendItem\"},{\"attributes\":{\"source\":{\"id\":\"7399\"}},\"id\":\"7782\",\"type\":\"CDSView\"},{\"attributes\":{},\"id\":\"8026\",\"type\":\"Selection\"},{\"attributes\":{\"fill_alpha\":{\"value\":0.5},\"fill_color\":{\"value\":\"#3A538B\"},\"hatch_alpha\":{\"value\":0.5},\"hatch_color\":{\"value\":\"#3A538B\"},\"line_alpha\":{\"value\":0.5},\"line_color\":{\"value\":\"#3A538B\"},\"marker\":{\"value\":\"diamond\"},\"size\":{\"value\":10},\"x\":{\"field\":\"date_time\"},\"y\":{\"field\":\"y_index\"}},\"id\":\"7785\",\"type\":\"Scatter\"},{\"attributes\":{},\"id\":\"7993\",\"type\":\"UnionRenderers\"},{\"attributes\":{\"fill_alpha\":{\"value\":0.2},\"fill_color\":{\"value\":\"#26818E\"},\"hatch_alpha\":{\"value\":0.2},\"hatch_color\":{\"value\":\"#26818E\"},\"line_alpha\":{\"value\":0.2},\"line_color\":{\"value\":\"#26818E\"},\"marker\":{\"value\":\"diamond\"},\"size\":{\"value\":10},\"x\":{\"field\":\"date_time\"},\"y\":{\"field\":\"y_index\"}},\"id\":\"7843\",\"type\":\"Scatter\"},{\"attributes\":{\"fill_alpha\":{\"value\":0.2},\"fill_color\":{\"value\":\"#3A538B\"},\"hatch_alpha\":{\"value\":0.2},\"hatch_color\":{\"value\":\"#3A538B\"},\"line_alpha\":{\"value\":0.2},\"line_color\":{\"value\":\"#3A538B\"},\"marker\":{\"value\":\"diamond\"},\"size\":{\"value\":10},\"x\":{\"field\":\"date_time\"},\"y\":{\"field\":\"y_index\"}},\"id\":\"7787\",\"type\":\"Scatter\"},{\"attributes\":{},\"id\":\"7994\",\"type\":\"Selection\"},{\"attributes\":{\"fill_alpha\":{\"value\":0.5},\"fill_color\":{\"value\":\"#57C665\"},\"hatch_alpha\":{\"value\":0.5},\"hatch_color\":{\"value\":\"#57C665\"},\"line_alpha\":{\"value\":0.5},\"line_color\":{\"value\":\"#57C665\"},\"marker\":{\"value\":\"diamond\"},\"size\":{\"value\":10},\"x\":{\"field\":\"date_time\"},\"y\":{\"field\":\"y_index\"}},\"id\":\"7932\",\"type\":\"Scatter\"},{\"attributes\":{\"coordinates\":null,\"data_source\":{\"id\":\"7400\"},\"glyph\":{\"id\":\"7785\"},\"group\":null,\"hover_glyph\":null,\"muted_glyph\":{\"id\":\"7787\"},\"nonselection_glyph\":{\"id\":\"7786\"},\"view\":{\"id\":\"7789\"}},\"id\":\"7788\",\"type\":\"GlyphRenderer\"},{\"attributes\":{\"fill_alpha\":{\"value\":0.1},\"fill_color\":{\"value\":\"#37598C\"},\"hatch_alpha\":{\"value\":0.1},\"hatch_color\":{\"value\":\"#37598C\"},\"line_alpha\":{\"value\":0.1},\"line_color\":{\"value\":\"#37598C\"},\"marker\":{\"value\":\"diamond\"},\"size\":{\"value\":10},\"x\":{\"field\":\"date_time\"},\"y\":{\"field\":\"y_index\"}},\"id\":\"7793\",\"type\":\"Scatter\"},{\"attributes\":{\"label\":{\"value\":\"u18\"},\"renderers\":[{\"id\":\"7788\"}]},\"id\":\"7790\",\"type\":\"LegendItem\"},{\"attributes\":{\"source\":{\"id\":\"7400\"}},\"id\":\"7789\",\"type\":\"CDSView\"},{\"attributes\":{\"fill_alpha\":{\"value\":0.5},\"fill_color\":{\"value\":\"#37598C\"},\"hatch_alpha\":{\"value\":0.5},\"hatch_color\":{\"value\":\"#37598C\"},\"line_alpha\":{\"value\":0.5},\"line_color\":{\"value\":\"#37598C\"},\"marker\":{\"value\":\"diamond\"},\"size\":{\"value\":10},\"x\":{\"field\":\"date_time\"},\"y\":{\"field\":\"y_index\"}},\"id\":\"7792\",\"type\":\"Scatter\"},{\"attributes\":{},\"id\":\"8027\",\"type\":\"UnionRenderers\"},{\"attributes\":{\"data\":{\"date_time\":{\"__ndarray__\":\"AABYum3kc0IAAJp5auZzQgAAMGO95nNCAACQPvnnc0I=\",\"dtype\":\"float64\",\"order\":\"little\",\"shape\":[4]},\"index\":[202,203,204,205],\"y_index\":[27,27,27,27]},\"selected\":{\"id\":\"8032\"},\"selection_policy\":{\"id\":\"8031\"}},\"id\":\"7416\",\"type\":\"ColumnDataSource\"},{\"attributes\":{\"fill_alpha\":{\"value\":0.2},\"fill_color\":{\"value\":\"#37598C\"},\"hatch_alpha\":{\"value\":0.2},\"hatch_color\":{\"value\":\"#37598C\"},\"line_alpha\":{\"value\":0.2},\"line_color\":{\"value\":\"#37598C\"},\"marker\":{\"value\":\"diamond\"},\"size\":{\"value\":10},\"x\":{\"field\":\"date_time\"},\"y\":{\"field\":\"y_index\"}},\"id\":\"7794\",\"type\":\"Scatter\"},{\"attributes\":{},\"id\":\"8028\",\"type\":\"Selection\"},{\"attributes\":{\"coordinates\":null,\"data_source\":{\"id\":\"7420\"},\"glyph\":{\"id\":\"7925\"},\"group\":null,\"hover_glyph\":null,\"muted_glyph\":{\"id\":\"7927\"},\"nonselection_glyph\":{\"id\":\"7926\"},\"view\":{\"id\":\"7929\"}},\"id\":\"7928\",\"type\":\"GlyphRenderer\"},{\"attributes\":{\"coordinates\":null,\"data_source\":{\"id\":\"7401\"},\"glyph\":{\"id\":\"7792\"},\"group\":null,\"hover_glyph\":null,\"muted_glyph\":{\"id\":\"7794\"},\"nonselection_glyph\":{\"id\":\"7793\"},\"view\":{\"id\":\"7796\"}},\"id\":\"7795\",\"type\":\"GlyphRenderer\"},{\"attributes\":{\"fill_alpha\":{\"value\":0.1},\"fill_color\":{\"value\":\"#345F8D\"},\"hatch_alpha\":{\"value\":0.1},\"hatch_color\":{\"value\":\"#345F8D\"},\"line_alpha\":{\"value\":0.1},\"line_color\":{\"value\":\"#345F8D\"},\"marker\":{\"value\":\"diamond\"},\"size\":{\"value\":10},\"x\":{\"field\":\"date_time\"},\"y\":{\"field\":\"y_index\"}},\"id\":\"7800\",\"type\":\"Scatter\"},{\"attributes\":{\"label\":{\"value\":\"u19\"},\"renderers\":[{\"id\":\"7795\"}]},\"id\":\"7797\",\"type\":\"LegendItem\"},{\"attributes\":{\"source\":{\"id\":\"7401\"}},\"id\":\"7796\",\"type\":\"CDSView\"},{\"attributes\":{\"fill_alpha\":{\"value\":0.5},\"fill_color\":{\"value\":\"#345F8D\"},\"hatch_alpha\":{\"value\":0.5},\"hatch_color\":{\"value\":\"#345F8D\"},\"line_alpha\":{\"value\":0.5},\"line_color\":{\"value\":\"#345F8D\"},\"marker\":{\"value\":\"diamond\"},\"size\":{\"value\":10},\"x\":{\"field\":\"date_time\"},\"y\":{\"field\":\"y_index\"}},\"id\":\"7799\",\"type\":\"Scatter\"},{\"attributes\":{},\"id\":\"7995\",\"type\":\"UnionRenderers\"},{\"attributes\":{\"source\":{\"id\":\"7407\"}},\"id\":\"7838\",\"type\":\"CDSView\"},{\"attributes\":{\"fill_alpha\":{\"value\":0.2},\"fill_color\":{\"value\":\"#345F8D\"},\"hatch_alpha\":{\"value\":0.2},\"hatch_color\":{\"value\":\"#345F8D\"},\"line_alpha\":{\"value\":0.2},\"line_color\":{\"value\":\"#345F8D\"},\"marker\":{\"value\":\"diamond\"},\"size\":{\"value\":10},\"x\":{\"field\":\"date_time\"},\"y\":{\"field\":\"y_index\"}},\"id\":\"7801\",\"type\":\"Scatter\"},{\"attributes\":{\"fill_alpha\":{\"value\":0.5},\"fill_color\":{\"value\":\"#26818E\"},\"hatch_alpha\":{\"value\":0.5},\"hatch_color\":{\"value\":\"#26818E\"},\"line_alpha\":{\"value\":0.5},\"line_color\":{\"value\":\"#26818E\"},\"marker\":{\"value\":\"diamond\"},\"size\":{\"value\":10},\"x\":{\"field\":\"date_time\"},\"y\":{\"field\":\"y_index\"}},\"id\":\"7841\",\"type\":\"Scatter\"},{\"attributes\":{},\"id\":\"7996\",\"type\":\"Selection\"},{\"attributes\":{\"coordinates\":null,\"data_source\":{\"id\":\"7402\"},\"glyph\":{\"id\":\"7799\"},\"group\":null,\"hover_glyph\":null,\"muted_glyph\":{\"id\":\"7801\"},\"nonselection_glyph\":{\"id\":\"7800\"},\"view\":{\"id\":\"7803\"}},\"id\":\"7802\",\"type\":\"GlyphRenderer\"},{\"attributes\":{\"fill_alpha\":{\"value\":0.1},\"fill_color\":{\"value\":\"#31658D\"},\"hatch_alpha\":{\"value\":0.1},\"hatch_color\":{\"value\":\"#31658D\"},\"line_alpha\":{\"value\":0.1},\"line_color\":{\"value\":\"#31658D\"},\"marker\":{\"value\":\"diamond\"},\"size\":{\"value\":10},\"x\":{\"field\":\"date_time\"},\"y\":{\"field\":\"y_index\"}},\"id\":\"7807\",\"type\":\"Scatter\"},{\"attributes\":{\"label\":{\"value\":\"u22\"},\"renderers\":[{\"id\":\"7802\"}]},\"id\":\"7804\",\"type\":\"LegendItem\"},{\"attributes\":{\"data\":{\"date_time\":{\"__ndarray__\":\"AACccgjkc0IAAERAdORzQgAAIoD453NCAACUZMHmc0IAAGA4qOdzQgAADtHU7HNCAADOx3ftc0I=\",\"dtype\":\"float64\",\"order\":\"little\",\"shape\":[7]},\"index\":[206,207,208,209,210,211,212],\"y_index\":[25,25,25,25,25,25,25]},\"selected\":{\"id\":\"8028\"},\"selection_policy\":{\"id\":\"8027\"}},\"id\":\"7414\",\"type\":\"ColumnDataSource\"},{\"attributes\":{\"source\":{\"id\":\"7402\"}},\"id\":\"7803\",\"type\":\"CDSView\"},{\"attributes\":{\"fill_alpha\":{\"value\":0.5},\"fill_color\":{\"value\":\"#31658D\"},\"hatch_alpha\":{\"value\":0.5},\"hatch_color\":{\"value\":\"#31658D\"},\"line_alpha\":{\"value\":0.5},\"line_color\":{\"value\":\"#31658D\"},\"marker\":{\"value\":\"diamond\"},\"size\":{\"value\":10},\"x\":{\"field\":\"date_time\"},\"y\":{\"field\":\"y_index\"}},\"id\":\"7806\",\"type\":\"Scatter\"},{\"attributes\":{\"data\":{\"date_time\":{\"__ndarray__\":\"AAAiw0nqc0I=\",\"dtype\":\"float64\",\"order\":\"little\",\"shape\":[1]},\"index\":[300],\"y_index\":[19]},\"selected\":{\"id\":\"8016\"},\"selection_policy\":{\"id\":\"8015\"}},\"id\":\"7408\",\"type\":\"ColumnDataSource\"},{\"attributes\":{},\"id\":\"8029\",\"type\":\"UnionRenderers\"},{\"attributes\":{\"label\":{\"value\":\"u33\"},\"renderers\":[{\"id\":\"7837\"}]},\"id\":\"7839\",\"type\":\"LegendItem\"},{\"attributes\":{\"fill_alpha\":{\"value\":0.2},\"fill_color\":{\"value\":\"#31658D\"},\"hatch_alpha\":{\"value\":0.2},\"hatch_color\":{\"value\":\"#31658D\"},\"line_alpha\":{\"value\":0.2},\"line_color\":{\"value\":\"#31658D\"},\"marker\":{\"value\":\"diamond\"},\"size\":{\"value\":10},\"x\":{\"field\":\"date_time\"},\"y\":{\"field\":\"y_index\"}},\"id\":\"7808\",\"type\":\"Scatter\"},{\"attributes\":{},\"id\":\"8030\",\"type\":\"Selection\"},{\"attributes\":{\"coordinates\":null,\"data_source\":{\"id\":\"7403\"},\"glyph\":{\"id\":\"7806\"},\"group\":null,\"hover_glyph\":null,\"muted_glyph\":{\"id\":\"7808\"},\"nonselection_glyph\":{\"id\":\"7807\"},\"view\":{\"id\":\"7810\"}},\"id\":\"7809\",\"type\":\"GlyphRenderer\"},{\"attributes\":{\"fill_alpha\":{\"value\":0.1},\"fill_color\":{\"value\":\"#2F6A8D\"},\"hatch_alpha\":{\"value\":0.1},\"hatch_color\":{\"value\":\"#2F6A8D\"},\"line_alpha\":{\"value\":0.1},\"line_color\":{\"value\":\"#2F6A8D\"},\"marker\":{\"value\":\"diamond\"},\"size\":{\"value\":10},\"x\":{\"field\":\"date_time\"},\"y\":{\"field\":\"y_index\"}},\"id\":\"7814\",\"type\":\"Scatter\"},{\"attributes\":{\"label\":{\"value\":\"u23\"},\"renderers\":[{\"id\":\"7809\"}]},\"id\":\"7811\",\"type\":\"LegendItem\"},{\"attributes\":{\"source\":{\"id\":\"7403\"}},\"id\":\"7810\",\"type\":\"CDSView\"},{\"attributes\":{\"fill_alpha\":{\"value\":0.5},\"fill_color\":{\"value\":\"#2F6A8D\"},\"hatch_alpha\":{\"value\":0.5},\"hatch_color\":{\"value\":\"#2F6A8D\"},\"line_alpha\":{\"value\":0.5},\"line_color\":{\"value\":\"#2F6A8D\"},\"marker\":{\"value\":\"diamond\"},\"size\":{\"value\":10},\"x\":{\"field\":\"date_time\"},\"y\":{\"field\":\"y_index\"}},\"id\":\"7813\",\"type\":\"Scatter\"},{\"attributes\":{\"coordinates\":null,\"data_source\":{\"id\":\"7407\"},\"glyph\":{\"id\":\"7834\"},\"group\":null,\"hover_glyph\":null,\"muted_glyph\":{\"id\":\"7836\"},\"nonselection_glyph\":{\"id\":\"7835\"},\"view\":{\"id\":\"7838\"}},\"id\":\"7837\",\"type\":\"GlyphRenderer\"},{\"attributes\":{},\"id\":\"7997\",\"type\":\"UnionRenderers\"},{\"attributes\":{\"mantissas\":[1,2,5],\"max_interval\":500.0,\"num_minor_ticks\":0},\"id\":\"8052\",\"type\":\"AdaptiveTicker\"},{\"attributes\":{\"fill_alpha\":{\"value\":0.2},\"fill_color\":{\"value\":\"#2F6A8D\"},\"hatch_alpha\":{\"value\":0.2},\"hatch_color\":{\"value\":\"#2F6A8D\"},\"line_alpha\":{\"value\":0.2},\"line_color\":{\"value\":\"#2F6A8D\"},\"marker\":{\"value\":\"diamond\"},\"size\":{\"value\":10},\"x\":{\"field\":\"date_time\"},\"y\":{\"field\":\"y_index\"}},\"id\":\"7815\",\"type\":\"Scatter\"},{\"attributes\":{\"fill_alpha\":{\"value\":0.1},\"fill_color\":{\"value\":\"#26818E\"},\"hatch_alpha\":{\"value\":0.1},\"hatch_color\":{\"value\":\"#26818E\"},\"line_alpha\":{\"value\":0.1},\"line_color\":{\"value\":\"#26818E\"},\"marker\":{\"value\":\"diamond\"},\"size\":{\"value\":10},\"x\":{\"field\":\"date_time\"},\"y\":{\"field\":\"y_index\"}},\"id\":\"7842\",\"type\":\"Scatter\"},{\"attributes\":{\"coordinates\":null,\"data_source\":{\"id\":\"7404\"},\"glyph\":{\"id\":\"7813\"},\"group\":null,\"hover_glyph\":null,\"muted_glyph\":{\"id\":\"7815\"},\"nonselection_glyph\":{\"id\":\"7814\"},\"view\":{\"id\":\"7817\"}},\"id\":\"7816\",\"type\":\"GlyphRenderer\"},{\"attributes\":{},\"id\":\"7998\",\"type\":\"Selection\"},{\"attributes\":{\"base\":60,\"mantissas\":[1,2,5,10,15,20,30],\"max_interval\":1800000.0,\"min_interval\":1000.0,\"num_minor_ticks\":0},\"id\":\"8053\",\"type\":\"AdaptiveTicker\"},{\"attributes\":{\"fill_alpha\":{\"value\":0.1},\"fill_color\":{\"value\":\"#2C708E\"},\"hatch_alpha\":{\"value\":0.1},\"hatch_color\":{\"value\":\"#2C708E\"},\"line_alpha\":{\"value\":0.1},\"line_color\":{\"value\":\"#2C708E\"},\"marker\":{\"value\":\"diamond\"},\"size\":{\"value\":10},\"x\":{\"field\":\"date_time\"},\"y\":{\"field\":\"y_index\"}},\"id\":\"7821\",\"type\":\"Scatter\"},{\"attributes\":{\"base\":24,\"mantissas\":[1,2,4,6,8,12],\"max_interval\":43200000.0,\"min_interval\":3600000.0,\"num_minor_ticks\":0},\"id\":\"8054\",\"type\":\"AdaptiveTicker\"},{\"attributes\":{\"data\":{\"date_time\":{\"__ndarray__\":\"AAAwVPjnc0IAABjP7elzQgAAbExL6HNCAAB8yvjoc0IAANRqS+lzQgAATGun53NCAAAwIqHpc0IAACi5d+1zQg==\",\"dtype\":\"float64\",\"order\":\"little\",\"shape\":[8]},\"index\":[11,12,13,14,15,16,17,18],\"y_index\":[26,26,26,26,26,26,26,26]},\"selected\":{\"id\":\"8030\"},\"selection_policy\":{\"id\":\"8029\"}},\"id\":\"7415\",\"type\":\"ColumnDataSource\"},{\"attributes\":{\"label\":{\"value\":\"u24\"},\"renderers\":[{\"id\":\"7816\"}]},\"id\":\"7818\",\"type\":\"LegendItem\"},{\"attributes\":{},\"id\":\"8063\",\"type\":\"YearsTicker\"},{\"attributes\":{\"months\":[0,1,2,3,4,5,6,7,8,9,10,11]},\"id\":\"8059\",\"type\":\"MonthsTicker\"},{\"attributes\":{\"source\":{\"id\":\"7404\"}},\"id\":\"7817\",\"type\":\"CDSView\"},{\"attributes\":{\"days\":[1,15]},\"id\":\"8058\",\"type\":\"DaysTicker\"},{\"attributes\":{\"fill_alpha\":{\"value\":0.5},\"fill_color\":{\"value\":\"#2C708E\"},\"hatch_alpha\":{\"value\":0.5},\"hatch_color\":{\"value\":\"#2C708E\"},\"line_alpha\":{\"value\":0.5},\"line_color\":{\"value\":\"#2C708E\"},\"marker\":{\"value\":\"diamond\"},\"size\":{\"value\":10},\"x\":{\"field\":\"date_time\"},\"y\":{\"field\":\"y_index\"}},\"id\":\"7820\",\"type\":\"Scatter\"},{\"attributes\":{\"days\":[1,2,3,4,5,6,7,8,9,10,11,12,13,14,15,16,17,18,19,20,21,22,23,24,25,26,27,28,29,30,31]},\"id\":\"8055\",\"type\":\"DaysTicker\"},{\"attributes\":{\"days\":[1,4,7,10,13,16,19,22,25,28]},\"id\":\"8056\",\"type\":\"DaysTicker\"},{\"attributes\":{\"data\":{\"date_time\":{\"__ndarray__\":\"AAC2wnDkc0IAAIjSqedzQgAA5sYy7nNC\",\"dtype\":\"float64\",\"order\":\"little\",\"shape\":[3]},\"index\":[181,182,183],\"y_index\":[17,17,17]},\"selected\":{\"id\":\"8012\"},\"selection_policy\":{\"id\":\"8011\"}},\"id\":\"7406\",\"type\":\"ColumnDataSource\"},{\"attributes\":{\"fill_alpha\":{\"value\":0.2},\"fill_color\":{\"value\":\"#287B8E\"},\"hatch_alpha\":{\"value\":0.2},\"hatch_color\":{\"value\":\"#287B8E\"},\"line_alpha\":{\"value\":0.2},\"line_color\":{\"value\":\"#287B8E\"},\"marker\":{\"value\":\"diamond\"},\"size\":{\"value\":10},\"x\":{\"field\":\"date_time\"},\"y\":{\"field\":\"y_index\"}},\"id\":\"7836\",\"type\":\"Scatter\"},{\"attributes\":{},\"id\":\"8031\",\"type\":\"UnionRenderers\"},{\"attributes\":{\"fill_alpha\":{\"value\":0.2},\"fill_color\":{\"value\":\"#2C708E\"},\"hatch_alpha\":{\"value\":0.2},\"hatch_color\":{\"value\":\"#2C708E\"},\"line_alpha\":{\"value\":0.2},\"line_color\":{\"value\":\"#2C708E\"},\"marker\":{\"value\":\"diamond\"},\"size\":{\"value\":10},\"x\":{\"field\":\"date_time\"},\"y\":{\"field\":\"y_index\"}},\"id\":\"7822\",\"type\":\"Scatter\"},{\"attributes\":{\"days\":[1,8,15,22]},\"id\":\"8057\",\"type\":\"DaysTicker\"},{\"attributes\":{\"months\":[0,6]},\"id\":\"8062\",\"type\":\"MonthsTicker\"},{\"attributes\":{\"months\":[0,2,4,6,8,10]},\"id\":\"8060\",\"type\":\"MonthsTicker\"},{\"attributes\":{\"coordinates\":null,\"data_source\":{\"id\":\"7405\"},\"glyph\":{\"id\":\"7820\"},\"group\":null,\"hover_glyph\":null,\"muted_glyph\":{\"id\":\"7822\"},\"nonselection_glyph\":{\"id\":\"7821\"},\"view\":{\"id\":\"7824\"}},\"id\":\"7823\",\"type\":\"GlyphRenderer\"},{\"attributes\":{},\"id\":\"8032\",\"type\":\"Selection\"},{\"attributes\":{\"fill_alpha\":{\"value\":0.1},\"fill_color\":{\"value\":\"#2A768E\"},\"hatch_alpha\":{\"value\":0.1},\"hatch_color\":{\"value\":\"#2A768E\"},\"line_alpha\":{\"value\":0.1},\"line_color\":{\"value\":\"#2A768E\"},\"marker\":{\"value\":\"diamond\"},\"size\":{\"value\":10},\"x\":{\"field\":\"date_time\"},\"y\":{\"field\":\"y_index\"}},\"id\":\"7828\",\"type\":\"Scatter\"},{\"attributes\":{\"label\":{\"value\":\"u27\"},\"renderers\":[{\"id\":\"7823\"}]},\"id\":\"7825\",\"type\":\"LegendItem\"},{\"attributes\":{\"months\":[0,4,8]},\"id\":\"8061\",\"type\":\"MonthsTicker\"},{\"attributes\":{\"source\":{\"id\":\"7405\"}},\"id\":\"7824\",\"type\":\"CDSView\"},{\"attributes\":{\"fill_alpha\":{\"value\":0.5},\"fill_color\":{\"value\":\"#2A768E\"},\"hatch_alpha\":{\"value\":0.5},\"hatch_color\":{\"value\":\"#2A768E\"},\"line_alpha\":{\"value\":0.5},\"line_color\":{\"value\":\"#2A768E\"},\"marker\":{\"value\":\"diamond\"},\"size\":{\"value\":10},\"x\":{\"field\":\"date_time\"},\"y\":{\"field\":\"y_index\"}},\"id\":\"7827\",\"type\":\"Scatter\"},{\"attributes\":{\"source\":{\"id\":\"7406\"}},\"id\":\"7831\",\"type\":\"CDSView\"},{\"attributes\":{\"fill_alpha\":{\"value\":0.2},\"fill_color\":{\"value\":\"#2A768E\"},\"hatch_alpha\":{\"value\":0.2},\"hatch_color\":{\"value\":\"#2A768E\"},\"line_alpha\":{\"value\":0.2},\"line_color\":{\"value\":\"#2A768E\"},\"marker\":{\"value\":\"diamond\"},\"size\":{\"value\":10},\"x\":{\"field\":\"date_time\"},\"y\":{\"field\":\"y_index\"}},\"id\":\"7829\",\"type\":\"Scatter\"},{\"attributes\":{},\"id\":\"7999\",\"type\":\"UnionRenderers\"},{\"attributes\":{\"source\":{\"id\":\"7420\"}},\"id\":\"7929\",\"type\":\"CDSView\"},{\"attributes\":{\"label\":{\"value\":\"u32\"},\"renderers\":[{\"id\":\"7830\"}]},\"id\":\"7832\",\"type\":\"LegendItem\"},{\"attributes\":{\"fill_alpha\":{\"value\":0.5},\"fill_color\":{\"value\":\"#287B8E\"},\"hatch_alpha\":{\"value\":0.5},\"hatch_color\":{\"value\":\"#287B8E\"},\"line_alpha\":{\"value\":0.5},\"line_color\":{\"value\":\"#287B8E\"},\"marker\":{\"value\":\"diamond\"},\"size\":{\"value\":10},\"x\":{\"field\":\"date_time\"},\"y\":{\"field\":\"y_index\"}},\"id\":\"7834\",\"type\":\"Scatter\"},{\"attributes\":{},\"id\":\"8000\",\"type\":\"Selection\"},{\"attributes\":{\"data\":{\"date_time\":{\"__ndarray__\":\"AAAkDv7oc0IAACaRAudzQgAA2rOA7HNC\",\"dtype\":\"float64\",\"order\":\"little\",\"shape\":[3]},\"index\":[159,160,161],\"y_index\":[7,7,7]},\"selected\":{\"id\":\"7992\"},\"selection_policy\":{\"id\":\"7991\"}},\"id\":\"7396\",\"type\":\"ColumnDataSource\"},{\"attributes\":{\"fill_alpha\":{\"value\":0.1},\"fill_color\":{\"value\":\"#287B8E\"},\"hatch_alpha\":{\"value\":0.1},\"hatch_color\":{\"value\":\"#287B8E\"},\"line_alpha\":{\"value\":0.1},\"line_color\":{\"value\":\"#287B8E\"},\"marker\":{\"value\":\"diamond\"},\"size\":{\"value\":10},\"x\":{\"field\":\"date_time\"},\"y\":{\"field\":\"y_index\"}},\"id\":\"7835\",\"type\":\"Scatter\"},{\"attributes\":{\"label\":{\"value\":\"u52\"},\"renderers\":[{\"id\":\"7928\"}]},\"id\":\"7930\",\"type\":\"LegendItem\"},{\"attributes\":{\"label\":{\"value\":\"u35\"},\"renderers\":[{\"id\":\"7851\"}]},\"id\":\"7853\",\"type\":\"LegendItem\"},{\"attributes\":{\"source\":{\"id\":\"7409\"}},\"id\":\"7852\",\"type\":\"CDSView\"},{\"attributes\":{},\"id\":\"8033\",\"type\":\"UnionRenderers\"},{\"attributes\":{\"fill_alpha\":{\"value\":0.5},\"fill_color\":{\"value\":\"#218C8D\"},\"hatch_alpha\":{\"value\":0.5},\"hatch_color\":{\"value\":\"#218C8D\"},\"line_alpha\":{\"value\":0.5},\"line_color\":{\"value\":\"#218C8D\"},\"marker\":{\"value\":\"diamond\"},\"size\":{\"value\":10},\"x\":{\"field\":\"date_time\"},\"y\":{\"field\":\"y_index\"}},\"id\":\"7855\",\"type\":\"Scatter\"},{\"attributes\":{},\"id\":\"8034\",\"type\":\"Selection\"},{\"attributes\":{\"data\":{\"date_time\":{\"__ndarray__\":\"AAB2k67oc0IAAHogS+hzQgAAcMwE53NCAAAo9Jrpc0IAAPJj+OhzQgAA+lSm53NCAAAsek3pc0IAAMgVjOtzQgAA1Jje63NCAAAmaMrtc0IAAMbseO1zQgAAyqC+73NC\",\"dtype\":\"float64\",\"order\":\"little\",\"shape\":[12]},\"index\":[169,170,171,172,173,174,175,176,177,178,179,180],\"y_index\":[20,20,20,20,20,20,20,20,20,20,20,20]},\"selected\":{\"id\":\"8018\"},\"selection_policy\":{\"id\":\"8017\"}},\"id\":\"7409\",\"type\":\"ColumnDataSource\"},{\"attributes\":{\"fill_alpha\":{\"value\":0.2},\"fill_color\":{\"value\":\"#218C8D\"},\"hatch_alpha\":{\"value\":0.2},\"hatch_color\":{\"value\":\"#218C8D\"},\"line_alpha\":{\"value\":0.2},\"line_color\":{\"value\":\"#218C8D\"},\"marker\":{\"value\":\"diamond\"},\"size\":{\"value\":10},\"x\":{\"field\":\"date_time\"},\"y\":{\"field\":\"y_index\"}},\"id\":\"7857\",\"type\":\"Scatter\"},{\"attributes\":{\"coordinates\":null,\"data_source\":{\"id\":\"7410\"},\"glyph\":{\"id\":\"7855\"},\"group\":null,\"hover_glyph\":null,\"muted_glyph\":{\"id\":\"7857\"},\"nonselection_glyph\":{\"id\":\"7856\"},\"view\":{\"id\":\"7859\"}},\"id\":\"7858\",\"type\":\"GlyphRenderer\"},{\"attributes\":{\"fill_alpha\":{\"value\":0.1},\"fill_color\":{\"value\":\"#1F928C\"},\"hatch_alpha\":{\"value\":0.1},\"hatch_color\":{\"value\":\"#1F928C\"},\"line_alpha\":{\"value\":0.1},\"line_color\":{\"value\":\"#1F928C\"},\"marker\":{\"value\":\"diamond\"},\"size\":{\"value\":10},\"x\":{\"field\":\"date_time\"},\"y\":{\"field\":\"y_index\"}},\"id\":\"7863\",\"type\":\"Scatter\"},{\"attributes\":{\"label\":{\"value\":\"u36\"},\"renderers\":[{\"id\":\"7858\"}]},\"id\":\"7860\",\"type\":\"LegendItem\"},{\"attributes\":{\"source\":{\"id\":\"7410\"}},\"id\":\"7859\",\"type\":\"CDSView\"},{\"attributes\":{\"fill_alpha\":{\"value\":0.5},\"fill_color\":{\"value\":\"#1F928C\"},\"hatch_alpha\":{\"value\":0.5},\"hatch_color\":{\"value\":\"#1F928C\"},\"line_alpha\":{\"value\":0.5},\"line_color\":{\"value\":\"#1F928C\"},\"marker\":{\"value\":\"diamond\"},\"size\":{\"value\":10},\"x\":{\"field\":\"date_time\"},\"y\":{\"field\":\"y_index\"}},\"id\":\"7862\",\"type\":\"Scatter\"},{\"attributes\":{},\"id\":\"8001\",\"type\":\"UnionRenderers\"},{\"attributes\":{\"source\":{\"id\":\"7419\"}},\"id\":\"7922\",\"type\":\"CDSView\"},{\"attributes\":{\"fill_alpha\":{\"value\":0.2},\"fill_color\":{\"value\":\"#1F928C\"},\"hatch_alpha\":{\"value\":0.2},\"hatch_color\":{\"value\":\"#1F928C\"},\"line_alpha\":{\"value\":0.2},\"line_color\":{\"value\":\"#1F928C\"},\"marker\":{\"value\":\"diamond\"},\"size\":{\"value\":10},\"x\":{\"field\":\"date_time\"},\"y\":{\"field\":\"y_index\"}},\"id\":\"7864\",\"type\":\"Scatter\"},{\"attributes\":{},\"id\":\"8002\",\"type\":\"Selection\"},{\"attributes\":{\"coordinates\":null,\"data_source\":{\"id\":\"7411\"},\"glyph\":{\"id\":\"7862\"},\"group\":null,\"hover_glyph\":null,\"muted_glyph\":{\"id\":\"7864\"},\"nonselection_glyph\":{\"id\":\"7863\"},\"view\":{\"id\":\"7866\"}},\"id\":\"7865\",\"type\":\"GlyphRenderer\"},{\"attributes\":{\"fill_alpha\":{\"value\":0.1},\"fill_color\":{\"value\":\"#1E988A\"},\"hatch_alpha\":{\"value\":0.1},\"hatch_color\":{\"value\":\"#1E988A\"},\"line_alpha\":{\"value\":0.1},\"line_color\":{\"value\":\"#1E988A\"},\"marker\":{\"value\":\"diamond\"},\"size\":{\"value\":10},\"x\":{\"field\":\"date_time\"},\"y\":{\"field\":\"y_index\"}},\"id\":\"7870\",\"type\":\"Scatter\"},{\"attributes\":{\"label\":{\"value\":\"u41\"},\"renderers\":[{\"id\":\"7865\"}]},\"id\":\"7867\",\"type\":\"LegendItem\"},{\"attributes\":{\"data\":{\"date_time\":{\"__ndarray__\":\"AADIv17nc0IAAI4qpOlzQgAArLuL6XNC\",\"dtype\":\"float64\",\"order\":\"little\",\"shape\":[3]},\"index\":[403,404,405],\"y_index\":[3,3,3]},\"selected\":{\"id\":\"7984\"},\"selection_policy\":{\"id\":\"7983\"}},\"id\":\"7392\",\"type\":\"ColumnDataSource\"},{\"attributes\":{\"source\":{\"id\":\"7411\"}},\"id\":\"7866\",\"type\":\"CDSView\"},{\"attributes\":{\"fill_alpha\":{\"value\":0.5},\"fill_color\":{\"value\":\"#1E988A\"},\"hatch_alpha\":{\"value\":0.5},\"hatch_color\":{\"value\":\"#1E988A\"},\"line_alpha\":{\"value\":0.5},\"line_color\":{\"value\":\"#1E988A\"},\"marker\":{\"value\":\"diamond\"},\"size\":{\"value\":10},\"x\":{\"field\":\"date_time\"},\"y\":{\"field\":\"y_index\"}},\"id\":\"7869\",\"type\":\"Scatter\"},{\"attributes\":{},\"id\":\"8035\",\"type\":\"UnionRenderers\"},{\"attributes\":{\"fill_alpha\":{\"value\":0.5},\"fill_color\":{\"value\":\"#4BC26C\"},\"hatch_alpha\":{\"value\":0.5},\"hatch_color\":{\"value\":\"#4BC26C\"},\"line_alpha\":{\"value\":0.5},\"line_color\":{\"value\":\"#4BC26C\"},\"marker\":{\"value\":\"diamond\"},\"size\":{\"value\":10},\"x\":{\"field\":\"date_time\"},\"y\":{\"field\":\"y_index\"}},\"id\":\"7925\",\"type\":\"Scatter\"},{\"attributes\":{\"fill_alpha\":{\"value\":0.2},\"fill_color\":{\"value\":\"#1E988A\"},\"hatch_alpha\":{\"value\":0.2},\"hatch_color\":{\"value\":\"#1E988A\"},\"line_alpha\":{\"value\":0.2},\"line_color\":{\"value\":\"#1E988A\"},\"marker\":{\"value\":\"diamond\"},\"size\":{\"value\":10},\"x\":{\"field\":\"date_time\"},\"y\":{\"field\":\"y_index\"}},\"id\":\"7871\",\"type\":\"Scatter\"},{\"attributes\":{},\"id\":\"8036\",\"type\":\"Selection\"},{\"attributes\":{\"data\":{\"date_time\":{\"__ndarray__\":\"AACSpzfkc0IAAO4ScORzQgAAelSE5HNCAAASQ2fkc0IAAJjWpuVzQgAAgl4H5nNCAAAQE2rmc0IAAGoEauZzQgAAfHH453NCAABKj6Loc0IAALBR9OZzQgAA6MKj6HNCAAD8efXpc0IAAFaCledzQgAAip/p53NCAADOcUrpc0IAALSWiulzQgAAXHSs53NCAACAJi/pc0IAAJ5r+ehzQgAAymBA6nNCAAD2GwLnc0IAAPjnUOhzQgAAZqdC53NCAABEh9zpc0IAAAjoiepzQgAAisyL63NCAABysDfsc0IAAHDAZexzQgAATvzS7HNCAACg9ivtc0IAAArAyu1zQgAAzsd37XNCAACCR7rvc0IAAF4YtO5zQgAAaF8X73NC\",\"dtype\":\"float64\",\"order\":\"little\",\"shape\":[36]},\"index\":[343,344,345,346,347,348,349,350,351,352,353,354,355,356,357,358,359,360,361,362,363,364,365,366,367,368,369,370,371,372,373,374,375,376,377,378],\"y_index\":[9,9,9,9,9,9,9,9,9,9,9,9,9,9,9,9,9,9,9,9,9,9,9,9,9,9,9,9,9,9,9,9,9,9,9,9]},\"selected\":{\"id\":\"7996\"},\"selection_policy\":{\"id\":\"7995\"}},\"id\":\"7398\",\"type\":\"ColumnDataSource\"},{\"attributes\":{\"coordinates\":null,\"data_source\":{\"id\":\"7412\"},\"glyph\":{\"id\":\"7869\"},\"group\":null,\"hover_glyph\":null,\"muted_glyph\":{\"id\":\"7871\"},\"nonselection_glyph\":{\"id\":\"7870\"},\"view\":{\"id\":\"7873\"}},\"id\":\"7872\",\"type\":\"GlyphRenderer\"},{\"attributes\":{\"fill_alpha\":{\"value\":0.1},\"fill_color\":{\"value\":\"#1E9D88\"},\"hatch_alpha\":{\"value\":0.1},\"hatch_color\":{\"value\":\"#1E9D88\"},\"line_alpha\":{\"value\":0.1},\"line_color\":{\"value\":\"#1E9D88\"},\"marker\":{\"value\":\"diamond\"},\"size\":{\"value\":10},\"x\":{\"field\":\"date_time\"},\"y\":{\"field\":\"y_index\"}},\"id\":\"7877\",\"type\":\"Scatter\"},{\"attributes\":{\"label\":{\"value\":\"u42\"},\"renderers\":[{\"id\":\"7872\"}]},\"id\":\"7874\",\"type\":\"LegendItem\"},{\"attributes\":{\"data\":{\"date_time\":{\"__ndarray__\":\"AADcW/nnc0IAAIr0Je1zQg==\",\"dtype\":\"float64\",\"order\":\"little\",\"shape\":[2]},\"index\":[307,308],\"y_index\":[24,24]},\"selected\":{\"id\":\"8026\"},\"selection_policy\":{\"id\":\"8025\"}},\"id\":\"7413\",\"type\":\"ColumnDataSource\"},{\"attributes\":{\"source\":{\"id\":\"7412\"}},\"id\":\"7873\",\"type\":\"CDSView\"},{\"attributes\":{\"fill_alpha\":{\"value\":0.5},\"fill_color\":{\"value\":\"#1E9D88\"},\"hatch_alpha\":{\"value\":0.5},\"hatch_color\":{\"value\":\"#1E9D88\"},\"line_alpha\":{\"value\":0.5},\"line_color\":{\"value\":\"#1E9D88\"},\"marker\":{\"value\":\"diamond\"},\"size\":{\"value\":10},\"x\":{\"field\":\"date_time\"},\"y\":{\"field\":\"y_index\"}},\"id\":\"7876\",\"type\":\"Scatter\"},{\"attributes\":{},\"id\":\"8003\",\"type\":\"UnionRenderers\"},{\"attributes\":{\"label\":{\"value\":\"u51\"},\"renderers\":[{\"id\":\"7921\"}]},\"id\":\"7923\",\"type\":\"LegendItem\"},{\"attributes\":{\"fill_alpha\":{\"value\":0.2},\"fill_color\":{\"value\":\"#1E9D88\"},\"hatch_alpha\":{\"value\":0.2},\"hatch_color\":{\"value\":\"#1E9D88\"},\"line_alpha\":{\"value\":0.2},\"line_color\":{\"value\":\"#1E9D88\"},\"marker\":{\"value\":\"diamond\"},\"size\":{\"value\":10},\"x\":{\"field\":\"date_time\"},\"y\":{\"field\":\"y_index\"}},\"id\":\"7878\",\"type\":\"Scatter\"},{\"attributes\":{\"fill_alpha\":{\"value\":0.1},\"fill_color\":{\"value\":\"#4BC26C\"},\"hatch_alpha\":{\"value\":0.1},\"hatch_color\":{\"value\":\"#4BC26C\"},\"line_alpha\":{\"value\":0.1},\"line_color\":{\"value\":\"#4BC26C\"},\"marker\":{\"value\":\"diamond\"},\"size\":{\"value\":10},\"x\":{\"field\":\"date_time\"},\"y\":{\"field\":\"y_index\"}},\"id\":\"7926\",\"type\":\"Scatter\"},{\"attributes\":{},\"id\":\"8004\",\"type\":\"Selection\"},{\"attributes\":{\"coordinates\":null,\"data_source\":{\"id\":\"7413\"},\"glyph\":{\"id\":\"7876\"},\"group\":null,\"hover_glyph\":null,\"muted_glyph\":{\"id\":\"7878\"},\"nonselection_glyph\":{\"id\":\"7877\"},\"view\":{\"id\":\"7880\"}},\"id\":\"7879\",\"type\":\"GlyphRenderer\"},{\"attributes\":{\"coordinates\":null,\"data_source\":{\"id\":\"7419\"},\"glyph\":{\"id\":\"7918\"},\"group\":null,\"hover_glyph\":null,\"muted_glyph\":{\"id\":\"7920\"},\"nonselection_glyph\":{\"id\":\"7919\"},\"view\":{\"id\":\"7922\"}},\"id\":\"7921\",\"type\":\"GlyphRenderer\"},{\"attributes\":{\"data\":{\"date_time\":{\"__ndarray__\":\"AAAC51rkc0IAAKTXbeRzQgAAdFuD5HNCAAC4oKroc0IAANB4vOZzQgAA1N/z6XNCAAA4pJ/oc0IAAPyJq+dzQgAA4EnE7nNCAABeM2vvc0IAAKY/YfBzQg==\",\"dtype\":\"float64\",\"order\":\"little\",\"shape\":[11]},\"index\":[406,407,408,409,410,411,412,413,414,415,416],\"y_index\":[6,6,6,6,6,6,6,6,6,6,6]},\"selected\":{\"id\":\"7990\"},\"selection_policy\":{\"id\":\"7989\"}},\"id\":\"7395\",\"type\":\"ColumnDataSource\"},{\"attributes\":{\"label\":{\"value\":\"u43\"},\"renderers\":[{\"id\":\"7879\"}]},\"id\":\"7881\",\"type\":\"LegendItem\"},{\"attributes\":{\"source\":{\"id\":\"7413\"}},\"id\":\"7880\",\"type\":\"CDSView\"},{\"attributes\":{\"data\":{\"date_time\":{\"__ndarray__\":\"AACaOE7pc0IAAFB53ulzQgAAqpVL6HNCAABWLp3oc0IAAEIdWudzQgAA2vSc6XNCAACGcUbqc0IAAISr8OlzQgAAWujb63NCAADKjtPsc0IAAKRRce5zQgAAuLW773NC\",\"dtype\":\"float64\",\"order\":\"little\",\"shape\":[12]},\"index\":[390,391,392,393,394,395,397,398,399,400,401,402],\"y_index\":[23,23,23,23,23,23,23,23,23,23,23,23]},\"selected\":{\"id\":\"8024\"},\"selection_policy\":{\"id\":\"8023\"}},\"id\":\"7412\",\"type\":\"ColumnDataSource\"},{\"attributes\":{\"fill_alpha\":{\"value\":0.5},\"fill_color\":{\"value\":\"#1FA386\"},\"hatch_alpha\":{\"value\":0.5},\"hatch_color\":{\"value\":\"#1FA386\"},\"line_alpha\":{\"value\":0.5},\"line_color\":{\"value\":\"#1FA386\"},\"marker\":{\"value\":\"diamond\"},\"size\":{\"value\":10},\"x\":{\"field\":\"date_time\"},\"y\":{\"field\":\"y_index\"}},\"id\":\"7883\",\"type\":\"Scatter\"},{\"attributes\":{\"fill_alpha\":{\"value\":0.1},\"fill_color\":{\"value\":\"#1FA386\"},\"hatch_alpha\":{\"value\":0.1},\"hatch_color\":{\"value\":\"#1FA386\"},\"line_alpha\":{\"value\":0.1},\"line_color\":{\"value\":\"#1FA386\"},\"marker\":{\"value\":\"diamond\"},\"size\":{\"value\":10},\"x\":{\"field\":\"date_time\"},\"y\":{\"field\":\"y_index\"}},\"id\":\"7884\",\"type\":\"Scatter\"},{\"attributes\":{\"fill_alpha\":{\"value\":0.1},\"fill_color\":{\"value\":\"#72CF55\"},\"hatch_alpha\":{\"value\":0.1},\"hatch_color\":{\"value\":\"#72CF55\"},\"line_alpha\":{\"value\":0.1},\"line_color\":{\"value\":\"#72CF55\"},\"marker\":{\"value\":\"diamond\"},\"size\":{\"value\":10},\"x\":{\"field\":\"date_time\"},\"y\":{\"field\":\"y_index\"}},\"id\":\"7947\",\"type\":\"Scatter\"},{\"attributes\":{\"fill_alpha\":{\"value\":0.2},\"fill_color\":{\"value\":\"#1FA386\"},\"hatch_alpha\":{\"value\":0.2},\"hatch_color\":{\"value\":\"#1FA386\"},\"line_alpha\":{\"value\":0.2},\"line_color\":{\"value\":\"#1FA386\"},\"marker\":{\"value\":\"diamond\"},\"size\":{\"value\":10},\"x\":{\"field\":\"date_time\"},\"y\":{\"field\":\"y_index\"}},\"id\":\"7885\",\"type\":\"Scatter\"},{\"attributes\":{\"coordinates\":null,\"data_source\":{\"id\":\"7414\"},\"glyph\":{\"id\":\"7883\"},\"group\":null,\"hover_glyph\":null,\"muted_glyph\":{\"id\":\"7885\"},\"nonselection_glyph\":{\"id\":\"7884\"},\"view\":{\"id\":\"7887\"}},\"id\":\"7886\",\"type\":\"GlyphRenderer\"},{\"attributes\":{\"fill_alpha\":{\"value\":0.1},\"fill_color\":{\"value\":\"#23A883\"},\"hatch_alpha\":{\"value\":0.1},\"hatch_color\":{\"value\":\"#23A883\"},\"line_alpha\":{\"value\":0.1},\"line_color\":{\"value\":\"#23A883\"},\"marker\":{\"value\":\"diamond\"},\"size\":{\"value\":10},\"x\":{\"field\":\"date_time\"},\"y\":{\"field\":\"y_index\"}},\"id\":\"7891\",\"type\":\"Scatter\"},{\"attributes\":{\"label\":{\"value\":\"u44\"},\"renderers\":[{\"id\":\"7886\"}]},\"id\":\"7888\",\"type\":\"LegendItem\"},{\"attributes\":{\"source\":{\"id\":\"7414\"}},\"id\":\"7887\",\"type\":\"CDSView\"},{\"attributes\":{\"fill_alpha\":{\"value\":0.5},\"fill_color\":{\"value\":\"#23A883\"},\"hatch_alpha\":{\"value\":0.5},\"hatch_color\":{\"value\":\"#23A883\"},\"line_alpha\":{\"value\":0.5},\"line_color\":{\"value\":\"#23A883\"},\"marker\":{\"value\":\"diamond\"},\"size\":{\"value\":10},\"x\":{\"field\":\"date_time\"},\"y\":{\"field\":\"y_index\"}},\"id\":\"7890\",\"type\":\"Scatter\"},{\"attributes\":{\"fill_alpha\":{\"value\":0.2},\"fill_color\":{\"value\":\"#23A883\"},\"hatch_alpha\":{\"value\":0.2},\"hatch_color\":{\"value\":\"#23A883\"},\"line_alpha\":{\"value\":0.2},\"line_color\":{\"value\":\"#23A883\"},\"marker\":{\"value\":\"diamond\"},\"size\":{\"value\":10},\"x\":{\"field\":\"date_time\"},\"y\":{\"field\":\"y_index\"}},\"id\":\"7892\",\"type\":\"Scatter\"},{\"attributes\":{\"coordinates\":null,\"data_source\":{\"id\":\"7422\"},\"glyph\":{\"id\":\"7939\"},\"group\":null,\"hover_glyph\":null,\"muted_glyph\":{\"id\":\"7941\"},\"nonselection_glyph\":{\"id\":\"7940\"},\"view\":{\"id\":\"7943\"}},\"id\":\"7942\",\"type\":\"GlyphRenderer\"},{\"attributes\":{\"coordinates\":null,\"data_source\":{\"id\":\"7415\"},\"glyph\":{\"id\":\"7890\"},\"group\":null,\"hover_glyph\":null,\"muted_glyph\":{\"id\":\"7892\"},\"nonselection_glyph\":{\"id\":\"7891\"},\"view\":{\"id\":\"7894\"}},\"id\":\"7893\",\"type\":\"GlyphRenderer\"},{\"attributes\":{\"fill_alpha\":{\"value\":0.1},\"fill_color\":{\"value\":\"#28AE7F\"},\"hatch_alpha\":{\"value\":0.1},\"hatch_color\":{\"value\":\"#28AE7F\"},\"line_alpha\":{\"value\":0.1},\"line_color\":{\"value\":\"#28AE7F\"},\"marker\":{\"value\":\"diamond\"},\"size\":{\"value\":10},\"x\":{\"field\":\"date_time\"},\"y\":{\"field\":\"y_index\"}},\"id\":\"7898\",\"type\":\"Scatter\"},{\"attributes\":{\"label\":{\"value\":\"u45\"},\"renderers\":[{\"id\":\"7893\"}]},\"id\":\"7895\",\"type\":\"LegendItem\"},{\"attributes\":{\"source\":{\"id\":\"7415\"}},\"id\":\"7894\",\"type\":\"CDSView\"},{\"attributes\":{\"fill_alpha\":{\"value\":0.5},\"fill_color\":{\"value\":\"#28AE7F\"},\"hatch_alpha\":{\"value\":0.5},\"hatch_color\":{\"value\":\"#28AE7F\"},\"line_alpha\":{\"value\":0.5},\"line_color\":{\"value\":\"#28AE7F\"},\"marker\":{\"value\":\"diamond\"},\"size\":{\"value\":10},\"x\":{\"field\":\"date_time\"},\"y\":{\"field\":\"y_index\"}},\"id\":\"7897\",\"type\":\"Scatter\"},{\"attributes\":{\"fill_alpha\":{\"value\":0.2},\"fill_color\":{\"value\":\"#28AE7F\"},\"hatch_alpha\":{\"value\":0.2},\"hatch_color\":{\"value\":\"#28AE7F\"},\"line_alpha\":{\"value\":0.2},\"line_color\":{\"value\":\"#28AE7F\"},\"marker\":{\"value\":\"diamond\"},\"size\":{\"value\":10},\"x\":{\"field\":\"date_time\"},\"y\":{\"field\":\"y_index\"}},\"id\":\"7899\",\"type\":\"Scatter\"},{\"attributes\":{\"fill_alpha\":{\"value\":0.2},\"fill_color\":{\"value\":\"#64CB5D\"},\"hatch_alpha\":{\"value\":0.2},\"hatch_color\":{\"value\":\"#64CB5D\"},\"line_alpha\":{\"value\":0.2},\"line_color\":{\"value\":\"#64CB5D\"},\"marker\":{\"value\":\"diamond\"},\"size\":{\"value\":10},\"x\":{\"field\":\"date_time\"},\"y\":{\"field\":\"y_index\"}},\"id\":\"7941\",\"type\":\"Scatter\"},{\"attributes\":{\"coordinates\":null,\"data_source\":{\"id\":\"7416\"},\"glyph\":{\"id\":\"7897\"},\"group\":null,\"hover_glyph\":null,\"muted_glyph\":{\"id\":\"7899\"},\"nonselection_glyph\":{\"id\":\"7898\"},\"view\":{\"id\":\"7901\"}},\"id\":\"7900\",\"type\":\"GlyphRenderer\"},{\"attributes\":{\"fill_alpha\":{\"value\":0.1},\"fill_color\":{\"value\":\"#2FB37B\"},\"hatch_alpha\":{\"value\":0.1},\"hatch_color\":{\"value\":\"#2FB37B\"},\"line_alpha\":{\"value\":0.1},\"line_color\":{\"value\":\"#2FB37B\"},\"marker\":{\"value\":\"diamond\"},\"size\":{\"value\":10},\"x\":{\"field\":\"date_time\"},\"y\":{\"field\":\"y_index\"}},\"id\":\"7905\",\"type\":\"Scatter\"},{\"attributes\":{\"label\":{\"value\":\"u46\"},\"renderers\":[{\"id\":\"7900\"}]},\"id\":\"7902\",\"type\":\"LegendItem\"},{\"attributes\":{\"source\":{\"id\":\"7416\"}},\"id\":\"7901\",\"type\":\"CDSView\"},{\"attributes\":{\"fill_alpha\":{\"value\":0.5},\"fill_color\":{\"value\":\"#2FB37B\"},\"hatch_alpha\":{\"value\":0.5},\"hatch_color\":{\"value\":\"#2FB37B\"},\"line_alpha\":{\"value\":0.5},\"line_color\":{\"value\":\"#2FB37B\"},\"marker\":{\"value\":\"diamond\"},\"size\":{\"value\":10},\"x\":{\"field\":\"date_time\"},\"y\":{\"field\":\"y_index\"}},\"id\":\"7904\",\"type\":\"Scatter\"},{\"attributes\":{\"fill_alpha\":{\"value\":0.5},\"fill_color\":{\"value\":\"#64CB5D\"},\"hatch_alpha\":{\"value\":0.5},\"hatch_color\":{\"value\":\"#64CB5D\"},\"line_alpha\":{\"value\":0.5},\"line_color\":{\"value\":\"#64CB5D\"},\"marker\":{\"value\":\"diamond\"},\"size\":{\"value\":10},\"x\":{\"field\":\"date_time\"},\"y\":{\"field\":\"y_index\"}},\"id\":\"7939\",\"type\":\"Scatter\"},{\"attributes\":{\"fill_alpha\":{\"value\":0.2},\"fill_color\":{\"value\":\"#2F6A8D\"},\"hatch_alpha\":{\"value\":0.2},\"hatch_color\":{\"value\":\"#2F6A8D\"},\"line_alpha\":{\"value\":0.2},\"line_color\":{\"value\":\"#2F6A8D\"},\"x\":{\"field\":\"date_time\"},\"y\":{\"field\":\"y_index\"}},\"id\":\"7571\",\"type\":\"Circle\"},{\"attributes\":{\"fill_alpha\":{\"value\":0.2},\"fill_color\":{\"value\":\"#2FB37B\"},\"hatch_alpha\":{\"value\":0.2},\"hatch_color\":{\"value\":\"#2FB37B\"},\"line_alpha\":{\"value\":0.2},\"line_color\":{\"value\":\"#2FB37B\"},\"marker\":{\"value\":\"diamond\"},\"size\":{\"value\":10},\"x\":{\"field\":\"date_time\"},\"y\":{\"field\":\"y_index\"}},\"id\":\"7906\",\"type\":\"Scatter\"},{\"attributes\":{\"coordinates\":null,\"data_source\":{\"id\":\"7417\"},\"glyph\":{\"id\":\"7904\"},\"group\":null,\"hover_glyph\":null,\"muted_glyph\":{\"id\":\"7906\"},\"nonselection_glyph\":{\"id\":\"7905\"},\"view\":{\"id\":\"7908\"}},\"id\":\"7907\",\"type\":\"GlyphRenderer\"},{\"attributes\":{\"fill_alpha\":{\"value\":0.1},\"fill_color\":{\"value\":\"#36B877\"},\"hatch_alpha\":{\"value\":0.1},\"hatch_color\":{\"value\":\"#36B877\"},\"line_alpha\":{\"value\":0.1},\"line_color\":{\"value\":\"#36B877\"},\"marker\":{\"value\":\"diamond\"},\"size\":{\"value\":10},\"x\":{\"field\":\"date_time\"},\"y\":{\"field\":\"y_index\"}},\"id\":\"7912\",\"type\":\"Scatter\"},{\"attributes\":{\"fill_alpha\":{\"value\":0.1},\"fill_color\":{\"value\":\"#345F8D\"},\"hatch_alpha\":{\"value\":0.1},\"hatch_color\":{\"value\":\"#345F8D\"},\"line_alpha\":{\"value\":0.1},\"line_color\":{\"value\":\"#345F8D\"},\"x\":{\"field\":\"date_time\"},\"y\":{\"field\":\"y_index\"}},\"id\":\"7558\",\"type\":\"Circle\"},{\"attributes\":{\"label\":{\"value\":\"u47\"},\"renderers\":[{\"id\":\"7907\"}]},\"id\":\"7909\",\"type\":\"LegendItem\"},{\"attributes\":{\"source\":{\"id\":\"7417\"}},\"id\":\"7908\",\"type\":\"CDSView\"},{\"attributes\":{},\"id\":\"7464\",\"type\":\"DataRange1d\"},{\"attributes\":{\"fill_alpha\":{\"value\":0.5},\"fill_color\":{\"value\":\"#36B877\"},\"hatch_alpha\":{\"value\":0.5},\"hatch_color\":{\"value\":\"#36B877\"},\"line_alpha\":{\"value\":0.5},\"line_color\":{\"value\":\"#36B877\"},\"marker\":{\"value\":\"diamond\"},\"size\":{\"value\":10},\"x\":{\"field\":\"date_time\"},\"y\":{\"field\":\"y_index\"}},\"id\":\"7911\",\"type\":\"Scatter\"},{\"attributes\":{\"fill_alpha\":{\"value\":0.1},\"fill_color\":{\"value\":\"#423E85\"},\"hatch_alpha\":{\"value\":0.1},\"hatch_color\":{\"value\":\"#423E85\"},\"line_alpha\":{\"value\":0.1},\"line_color\":{\"value\":\"#423E85\"},\"x\":{\"field\":\"date_time\"},\"y\":{\"field\":\"y_index\"}},\"id\":\"7528\",\"type\":\"Circle\"},{\"attributes\":{\"fill_alpha\":{\"value\":0.1},\"fill_color\":{\"value\":\"#31658D\"},\"hatch_alpha\":{\"value\":0.1},\"hatch_color\":{\"value\":\"#31658D\"},\"line_alpha\":{\"value\":0.1},\"line_color\":{\"value\":\"#31658D\"},\"x\":{\"field\":\"date_time\"},\"y\":{\"field\":\"y_index\"}},\"id\":\"7564\",\"type\":\"Circle\"},{\"attributes\":{\"coordinates\":null,\"data_source\":{\"id\":\"7406\"},\"glyph\":{\"id\":\"7581\"},\"group\":null,\"hover_glyph\":null,\"muted_glyph\":{\"id\":\"7583\"},\"nonselection_glyph\":{\"id\":\"7582\"},\"view\":{\"id\":\"7585\"}},\"id\":\"7584\",\"type\":\"GlyphRenderer\"},{\"attributes\":{\"coordinates\":null,\"data_source\":{\"id\":\"7394\"},\"glyph\":{\"id\":\"7509\"},\"group\":null,\"hover_glyph\":null,\"muted_glyph\":{\"id\":\"7511\"},\"nonselection_glyph\":{\"id\":\"7510\"},\"view\":{\"id\":\"7513\"}},\"id\":\"7512\",\"type\":\"GlyphRenderer\"},{\"attributes\":{\"fill_alpha\":{\"value\":0.2},\"fill_color\":{\"value\":\"#36B877\"},\"hatch_alpha\":{\"value\":0.2},\"hatch_color\":{\"value\":\"#36B877\"},\"line_alpha\":{\"value\":0.2},\"line_color\":{\"value\":\"#36B877\"},\"marker\":{\"value\":\"diamond\"},\"size\":{\"value\":10},\"x\":{\"field\":\"date_time\"},\"y\":{\"field\":\"y_index\"}},\"id\":\"7913\",\"type\":\"Scatter\"},{\"attributes\":{\"source\":{\"id\":\"7421\"}},\"id\":\"7936\",\"type\":\"CDSView\"},{\"attributes\":{\"coordinates\":null,\"data_source\":{\"id\":\"7418\"},\"glyph\":{\"id\":\"7911\"},\"group\":null,\"hover_glyph\":null,\"muted_glyph\":{\"id\":\"7913\"},\"nonselection_glyph\":{\"id\":\"7912\"},\"view\":{\"id\":\"7915\"}},\"id\":\"7914\",\"type\":\"GlyphRenderer\"},{\"attributes\":{\"fill_alpha\":{\"value\":0.1},\"fill_color\":{\"value\":\"#40BD72\"},\"hatch_alpha\":{\"value\":0.1},\"hatch_color\":{\"value\":\"#40BD72\"},\"line_alpha\":{\"value\":0.1},\"line_color\":{\"value\":\"#40BD72\"},\"marker\":{\"value\":\"diamond\"},\"size\":{\"value\":10},\"x\":{\"field\":\"date_time\"},\"y\":{\"field\":\"y_index\"}},\"id\":\"7919\",\"type\":\"Scatter\"},{\"attributes\":{\"label\":{\"value\":\"u49\"},\"renderers\":[{\"id\":\"7914\"}]},\"id\":\"7916\",\"type\":\"LegendItem\"},{\"attributes\":{\"source\":{\"id\":\"7418\"}},\"id\":\"7915\",\"type\":\"CDSView\"},{\"attributes\":{\"fill_alpha\":{\"value\":0.5},\"fill_color\":{\"value\":\"#40BD72\"},\"hatch_alpha\":{\"value\":0.5},\"hatch_color\":{\"value\":\"#40BD72\"},\"line_alpha\":{\"value\":0.5},\"line_color\":{\"value\":\"#40BD72\"},\"marker\":{\"value\":\"diamond\"},\"size\":{\"value\":10},\"x\":{\"field\":\"date_time\"},\"y\":{\"field\":\"y_index\"}},\"id\":\"7918\",\"type\":\"Scatter\"},{\"attributes\":{\"fill_alpha\":{\"value\":0.1},\"fill_color\":{\"value\":\"#40BD72\"},\"hatch_alpha\":{\"value\":0.1},\"hatch_color\":{\"value\":\"#40BD72\"},\"line_alpha\":{\"value\":0.1},\"line_color\":{\"value\":\"#40BD72\"},\"x\":{\"field\":\"date_time\"},\"y\":{\"field\":\"y_index\"}},\"id\":\"7660\",\"type\":\"Circle\"},{\"attributes\":{},\"id\":\"7468\",\"type\":\"LinearScale\"},{\"attributes\":{\"coordinates\":null,\"data_source\":{\"id\":\"7399\"},\"glyph\":{\"id\":\"7539\"},\"group\":null,\"hover_glyph\":null,\"muted_glyph\":{\"id\":\"7541\"},\"nonselection_glyph\":{\"id\":\"7540\"},\"view\":{\"id\":\"7543\"}},\"id\":\"7542\",\"type\":\"GlyphRenderer\"},{\"attributes\":{\"fill_alpha\":{\"value\":0.2},\"fill_color\":{\"value\":\"#57C665\"},\"hatch_alpha\":{\"value\":0.2},\"hatch_color\":{\"value\":\"#57C665\"},\"line_alpha\":{\"value\":0.2},\"line_color\":{\"value\":\"#57C665\"},\"marker\":{\"value\":\"diamond\"},\"size\":{\"value\":10},\"x\":{\"field\":\"date_time\"},\"y\":{\"field\":\"y_index\"}},\"id\":\"7934\",\"type\":\"Scatter\"},{\"attributes\":{\"fill_alpha\":{\"value\":0.2},\"fill_color\":{\"value\":\"#40BD72\"},\"hatch_alpha\":{\"value\":0.2},\"hatch_color\":{\"value\":\"#40BD72\"},\"line_alpha\":{\"value\":0.2},\"line_color\":{\"value\":\"#40BD72\"},\"marker\":{\"value\":\"diamond\"},\"size\":{\"value\":10},\"x\":{\"field\":\"date_time\"},\"y\":{\"field\":\"y_index\"}},\"id\":\"7920\",\"type\":\"Scatter\"},{\"attributes\":{\"fill_color\":{\"value\":\"#45085B\"},\"hatch_color\":{\"value\":\"#45085B\"},\"line_color\":{\"value\":\"#45085B\"},\"x\":{\"field\":\"date_time\"},\"y\":{\"field\":\"y_index\"}},\"id\":\"7485\",\"type\":\"Circle\"},{\"attributes\":{\"label\":{\"value\":\"u53\"},\"renderers\":[{\"id\":\"7935\"}]},\"id\":\"7937\",\"type\":\"LegendItem\"},{\"attributes\":{\"source\":{\"id\":\"7403\"}},\"id\":\"7567\",\"type\":\"CDSView\"},{\"attributes\":{\"fill_alpha\":{\"value\":0.1},\"fill_color\":{\"value\":\"#57C665\"},\"hatch_alpha\":{\"value\":0.1},\"hatch_color\":{\"value\":\"#57C665\"},\"line_alpha\":{\"value\":0.1},\"line_color\":{\"value\":\"#57C665\"},\"marker\":{\"value\":\"diamond\"},\"size\":{\"value\":10},\"x\":{\"field\":\"date_time\"},\"y\":{\"field\":\"y_index\"}},\"id\":\"7933\",\"type\":\"Scatter\"},{\"attributes\":{\"fill_alpha\":{\"value\":0.2},\"fill_color\":{\"value\":\"#440154\"},\"hatch_alpha\":{\"value\":0.2},\"hatch_color\":{\"value\":\"#440154\"},\"line_alpha\":{\"value\":0.2},\"line_color\":{\"value\":\"#440154\"},\"x\":{\"field\":\"date_time\"},\"y\":{\"field\":\"y_index\"}},\"id\":\"7481\",\"type\":\"Circle\"},{\"attributes\":{\"fill_alpha\":{\"value\":0.1},\"fill_color\":{\"value\":\"#37598C\"},\"hatch_alpha\":{\"value\":0.1},\"hatch_color\":{\"value\":\"#37598C\"},\"line_alpha\":{\"value\":0.1},\"line_color\":{\"value\":\"#37598C\"},\"x\":{\"field\":\"date_time\"},\"y\":{\"field\":\"y_index\"}},\"id\":\"7552\",\"type\":\"Circle\"},{\"attributes\":{\"source\":{\"id\":\"7393\"}},\"id\":\"7740\",\"type\":\"CDSView\"},{\"attributes\":{\"fill_alpha\":{\"value\":0.1},\"fill_color\":{\"value\":\"#64CB5D\"},\"hatch_alpha\":{\"value\":0.1},\"hatch_color\":{\"value\":\"#64CB5D\"},\"line_alpha\":{\"value\":0.1},\"line_color\":{\"value\":\"#64CB5D\"},\"marker\":{\"value\":\"diamond\"},\"size\":{\"value\":10},\"x\":{\"field\":\"date_time\"},\"y\":{\"field\":\"y_index\"}},\"id\":\"7940\",\"type\":\"Scatter\"},{\"attributes\":{\"coordinates\":null,\"data_source\":{\"id\":\"7421\"},\"glyph\":{\"id\":\"7932\"},\"group\":null,\"hover_glyph\":null,\"muted_glyph\":{\"id\":\"7934\"},\"nonselection_glyph\":{\"id\":\"7933\"},\"view\":{\"id\":\"7936\"}},\"id\":\"7935\",\"type\":\"GlyphRenderer\"},{\"attributes\":{\"label\":{\"value\":\"u04\"},\"renderers\":[{\"id\":\"7739\"}]},\"id\":\"7741\",\"type\":\"LegendItem\"},{\"attributes\":{\"coordinates\":null,\"data_source\":{\"id\":\"7410\"},\"glyph\":{\"id\":\"7605\"},\"group\":null,\"hover_glyph\":null,\"muted_glyph\":{\"id\":\"7607\"},\"nonselection_glyph\":{\"id\":\"7606\"},\"view\":{\"id\":\"7609\"}},\"id\":\"7608\",\"type\":\"GlyphRenderer\"},{\"attributes\":{\"label\":{\"value\":\"u56\"},\"renderers\":[{\"id\":\"7942\"}]},\"id\":\"7944\",\"type\":\"LegendItem\"},{\"attributes\":{\"dimensions\":\"width\"},\"id\":\"7446\",\"type\":\"WheelZoomTool\"},{\"attributes\":{\"source\":{\"id\":\"7422\"}},\"id\":\"7943\",\"type\":\"CDSView\"},{\"attributes\":{\"fill_alpha\":{\"value\":0.5},\"fill_color\":{\"value\":\"#72CF55\"},\"hatch_alpha\":{\"value\":0.5},\"hatch_color\":{\"value\":\"#72CF55\"},\"line_alpha\":{\"value\":0.5},\"line_color\":{\"value\":\"#72CF55\"},\"marker\":{\"value\":\"diamond\"},\"size\":{\"value\":10},\"x\":{\"field\":\"date_time\"},\"y\":{\"field\":\"y_index\"}},\"id\":\"7946\",\"type\":\"Scatter\"},{\"attributes\":{\"fill_alpha\":{\"value\":0.1},\"fill_color\":{\"value\":\"#3F4587\"},\"hatch_alpha\":{\"value\":0.1},\"hatch_color\":{\"value\":\"#3F4587\"},\"line_alpha\":{\"value\":0.1},\"line_color\":{\"value\":\"#3F4587\"},\"x\":{\"field\":\"date_time\"},\"y\":{\"field\":\"y_index\"}},\"id\":\"7534\",\"type\":\"Circle\"},{\"attributes\":{\"fill_alpha\":{\"value\":0.2},\"fill_color\":{\"value\":\"#72CF55\"},\"hatch_alpha\":{\"value\":0.2},\"hatch_color\":{\"value\":\"#72CF55\"},\"line_alpha\":{\"value\":0.2},\"line_color\":{\"value\":\"#72CF55\"},\"marker\":{\"value\":\"diamond\"},\"size\":{\"value\":10},\"x\":{\"field\":\"date_time\"},\"y\":{\"field\":\"y_index\"}},\"id\":\"7948\",\"type\":\"Scatter\"},{\"attributes\":{\"coordinates\":null,\"data_source\":{\"id\":\"7423\"},\"glyph\":{\"id\":\"7946\"},\"group\":null,\"hover_glyph\":null,\"muted_glyph\":{\"id\":\"7948\"},\"nonselection_glyph\":{\"id\":\"7947\"},\"view\":{\"id\":\"7950\"}},\"id\":\"7949\",\"type\":\"GlyphRenderer\"},{\"attributes\":{\"coordinates\":null,\"data_source\":{\"id\":\"7389\"},\"glyph\":{\"id\":\"7479\"},\"group\":null,\"hover_glyph\":null,\"muted_glyph\":{\"id\":\"7481\"},\"nonselection_glyph\":{\"id\":\"7480\"},\"view\":{\"id\":\"7483\"}},\"id\":\"7482\",\"type\":\"GlyphRenderer\"},{\"attributes\":{\"fill_alpha\":{\"value\":0.1},\"fill_color\":{\"value\":\"#81D34C\"},\"hatch_alpha\":{\"value\":0.1},\"hatch_color\":{\"value\":\"#81D34C\"},\"line_alpha\":{\"value\":0.1},\"line_color\":{\"value\":\"#81D34C\"},\"marker\":{\"value\":\"diamond\"},\"size\":{\"value\":10},\"x\":{\"field\":\"date_time\"},\"y\":{\"field\":\"y_index\"}},\"id\":\"7954\",\"type\":\"Scatter\"},{\"attributes\":{\"coordinates\":null,\"data_source\":{\"id\":\"7393\"},\"glyph\":{\"id\":\"7736\"},\"group\":null,\"hover_glyph\":null,\"muted_glyph\":{\"id\":\"7738\"},\"nonselection_glyph\":{\"id\":\"7737\"},\"view\":{\"id\":\"7740\"}},\"id\":\"7739\",\"type\":\"GlyphRenderer\"},{\"attributes\":{\"label\":{\"value\":\"u57\"},\"renderers\":[{\"id\":\"7949\"}]},\"id\":\"7951\",\"type\":\"LegendItem\"},{\"attributes\":{\"source\":{\"id\":\"7423\"}},\"id\":\"7950\",\"type\":\"CDSView\"},{\"attributes\":{\"fill_alpha\":{\"value\":0.5},\"fill_color\":{\"value\":\"#81D34C\"},\"hatch_alpha\":{\"value\":0.5},\"hatch_color\":{\"value\":\"#81D34C\"},\"line_alpha\":{\"value\":0.5},\"line_color\":{\"value\":\"#81D34C\"},\"marker\":{\"value\":\"diamond\"},\"size\":{\"value\":10},\"x\":{\"field\":\"date_time\"},\"y\":{\"field\":\"y_index\"}},\"id\":\"7953\",\"type\":\"Scatter\"},{\"attributes\":{\"coordinates\":null,\"data_source\":{\"id\":\"7393\"},\"glyph\":{\"id\":\"7503\"},\"group\":null,\"hover_glyph\":null,\"muted_glyph\":{\"id\":\"7505\"},\"nonselection_glyph\":{\"id\":\"7504\"},\"view\":{\"id\":\"7507\"}},\"id\":\"7506\",\"type\":\"GlyphRenderer\"},{\"attributes\":{\"source\":{\"id\":\"7399\"}},\"id\":\"7543\",\"type\":\"CDSView\"},{\"attributes\":{},\"id\":\"7466\",\"type\":\"LinearScale\"},{\"attributes\":{\"fill_alpha\":{\"value\":0.2},\"fill_color\":{\"value\":\"#81D34C\"},\"hatch_alpha\":{\"value\":0.2},\"hatch_color\":{\"value\":\"#81D34C\"},\"line_alpha\":{\"value\":0.2},\"line_color\":{\"value\":\"#81D34C\"},\"marker\":{\"value\":\"diamond\"},\"size\":{\"value\":10},\"x\":{\"field\":\"date_time\"},\"y\":{\"field\":\"y_index\"}},\"id\":\"7955\",\"type\":\"Scatter\"},{\"attributes\":{\"fill_alpha\":{\"value\":0.2},\"fill_color\":{\"value\":\"#472878\"},\"hatch_alpha\":{\"value\":0.2},\"hatch_color\":{\"value\":\"#472878\"},\"line_alpha\":{\"value\":0.2},\"line_color\":{\"value\":\"#472878\"},\"x\":{\"field\":\"date_time\"},\"y\":{\"field\":\"y_index\"}},\"id\":\"7511\",\"type\":\"Circle\"},{\"attributes\":{\"coordinates\":null,\"data_source\":{\"id\":\"7424\"},\"glyph\":{\"id\":\"7953\"},\"group\":null,\"hover_glyph\":null,\"muted_glyph\":{\"id\":\"7955\"},\"nonselection_glyph\":{\"id\":\"7954\"},\"view\":{\"id\":\"7957\"}},\"id\":\"7956\",\"type\":\"GlyphRenderer\"},{\"attributes\":{\"fill_alpha\":{\"value\":0.1},\"fill_color\":{\"value\":\"#90D643\"},\"hatch_alpha\":{\"value\":0.1},\"hatch_color\":{\"value\":\"#90D643\"},\"line_alpha\":{\"value\":0.1},\"line_color\":{\"value\":\"#90D643\"},\"marker\":{\"value\":\"diamond\"},\"size\":{\"value\":10},\"x\":{\"field\":\"date_time\"},\"y\":{\"field\":\"y_index\"}},\"id\":\"7961\",\"type\":\"Scatter\"},{\"attributes\":{\"source\":{\"id\":\"7419\"}},\"id\":\"7663\",\"type\":\"CDSView\"},{\"attributes\":{\"label\":{\"value\":\"u58\"},\"renderers\":[{\"id\":\"7956\"}]},\"id\":\"7958\",\"type\":\"LegendItem\"},{\"attributes\":{\"coordinates\":null,\"data_source\":{\"id\":\"7395\"},\"glyph\":{\"id\":\"7515\"},\"group\":null,\"hover_glyph\":null,\"muted_glyph\":{\"id\":\"7517\"},\"nonselection_glyph\":{\"id\":\"7516\"},\"view\":{\"id\":\"7519\"}},\"id\":\"7518\",\"type\":\"GlyphRenderer\"},{\"attributes\":{\"source\":{\"id\":\"7424\"}},\"id\":\"7957\",\"type\":\"CDSView\"},{\"attributes\":{\"fill_alpha\":{\"value\":0.5},\"fill_color\":{\"value\":\"#90D643\"},\"hatch_alpha\":{\"value\":0.5},\"hatch_color\":{\"value\":\"#90D643\"},\"line_alpha\":{\"value\":0.5},\"line_color\":{\"value\":\"#90D643\"},\"marker\":{\"value\":\"diamond\"},\"size\":{\"value\":10},\"x\":{\"field\":\"date_time\"},\"y\":{\"field\":\"y_index\"}},\"id\":\"7960\",\"type\":\"Scatter\"},{\"attributes\":{\"fill_alpha\":{\"value\":0.1},\"fill_color\":{\"value\":\"#2A768E\"},\"hatch_alpha\":{\"value\":0.1},\"hatch_color\":{\"value\":\"#2A768E\"},\"line_alpha\":{\"value\":0.1},\"line_color\":{\"value\":\"#2A768E\"},\"x\":{\"field\":\"date_time\"},\"y\":{\"field\":\"y_index\"}},\"id\":\"7582\",\"type\":\"Circle\"},{\"attributes\":{\"coordinates\":null,\"data_source\":{\"id\":\"7398\"},\"glyph\":{\"id\":\"7533\"},\"group\":null,\"hover_glyph\":null,\"muted_glyph\":{\"id\":\"7535\"},\"nonselection_glyph\":{\"id\":\"7534\"},\"view\":{\"id\":\"7537\"}},\"id\":\"7536\",\"type\":\"GlyphRenderer\"},{\"attributes\":{\"fill_alpha\":{\"value\":0.2},\"fill_color\":{\"value\":\"#90D643\"},\"hatch_alpha\":{\"value\":0.2},\"hatch_color\":{\"value\":\"#90D643\"},\"line_alpha\":{\"value\":0.2},\"line_color\":{\"value\":\"#90D643\"},\"marker\":{\"value\":\"diamond\"},\"size\":{\"value\":10},\"x\":{\"field\":\"date_time\"},\"y\":{\"field\":\"y_index\"}},\"id\":\"7962\",\"type\":\"Scatter\"},{\"attributes\":{\"coordinates\":null,\"data_source\":{\"id\":\"7425\"},\"glyph\":{\"id\":\"7960\"},\"group\":null,\"hover_glyph\":null,\"muted_glyph\":{\"id\":\"7962\"},\"nonselection_glyph\":{\"id\":\"7961\"},\"view\":{\"id\":\"7964\"}},\"id\":\"7963\",\"type\":\"GlyphRenderer\"},{\"attributes\":{\"label\":{\"value\":\"u59\"},\"renderers\":[{\"id\":\"7963\"}]},\"id\":\"7965\",\"type\":\"LegendItem\"},{\"attributes\":{\"fill_color\":{\"value\":\"#40BD72\"},\"hatch_color\":{\"value\":\"#40BD72\"},\"line_color\":{\"value\":\"#40BD72\"},\"x\":{\"field\":\"date_time\"},\"y\":{\"field\":\"y_index\"}},\"id\":\"7659\",\"type\":\"Circle\"},{\"attributes\":{\"coordinates\":null,\"data_source\":{\"id\":\"7408\"},\"glyph\":{\"id\":\"7593\"},\"group\":null,\"hover_glyph\":null,\"muted_glyph\":{\"id\":\"7595\"},\"nonselection_glyph\":{\"id\":\"7594\"},\"view\":{\"id\":\"7597\"}},\"id\":\"7596\",\"type\":\"GlyphRenderer\"},{\"attributes\":{\"source\":{\"id\":\"7425\"}},\"id\":\"7964\",\"type\":\"CDSView\"},{\"attributes\":{\"fill_alpha\":{\"value\":0.2},\"fill_color\":{\"value\":\"#482172\"},\"hatch_alpha\":{\"value\":0.2},\"hatch_color\":{\"value\":\"#482172\"},\"line_alpha\":{\"value\":0.2},\"line_color\":{\"value\":\"#482172\"},\"x\":{\"field\":\"date_time\"},\"y\":{\"field\":\"y_index\"}},\"id\":\"7505\",\"type\":\"Circle\"},{\"attributes\":{\"source\":{\"id\":\"7416\"}},\"id\":\"7645\",\"type\":\"CDSView\"},{\"attributes\":{\"fill_color\":{\"value\":\"#2F6A8D\"},\"hatch_color\":{\"value\":\"#2F6A8D\"},\"line_color\":{\"value\":\"#2F6A8D\"},\"x\":{\"field\":\"date_time\"},\"y\":{\"field\":\"y_index\"}},\"id\":\"7569\",\"type\":\"Circle\"},{\"attributes\":{\"fill_color\":{\"value\":\"#2C708E\"},\"hatch_color\":{\"value\":\"#2C708E\"},\"line_color\":{\"value\":\"#2C708E\"},\"x\":{\"field\":\"date_time\"},\"y\":{\"field\":\"y_index\"}},\"id\":\"7575\",\"type\":\"Circle\"},{\"attributes\":{\"click_policy\":\"hide\",\"coordinates\":null,\"group\":null,\"items\":[{\"id\":\"7965\"},{\"id\":\"7958\"},{\"id\":\"7951\"},{\"id\":\"7944\"},{\"id\":\"7937\"},{\"id\":\"7930\"},{\"id\":\"7923\"},{\"id\":\"7916\"},{\"id\":\"7909\"},{\"id\":\"7902\"},{\"id\":\"7895\"},{\"id\":\"7888\"},{\"id\":\"7881\"},{\"id\":\"7874\"},{\"id\":\"7867\"},{\"id\":\"7860\"},{\"id\":\"7853\"},{\"id\":\"7846\"},{\"id\":\"7839\"},{\"id\":\"7832\"},{\"id\":\"7825\"},{\"id\":\"7818\"},{\"id\":\"7811\"},{\"id\":\"7804\"},{\"id\":\"7797\"},{\"id\":\"7790\"},{\"id\":\"7783\"},{\"id\":\"7776\"},{\"id\":\"7769\"},{\"id\":\"7762\"},{\"id\":\"7755\"},{\"id\":\"7748\"},{\"id\":\"7741\"},{\"id\":\"7734\"},{\"id\":\"7727\"},{\"id\":\"7720\"},{\"id\":\"7713\"}],\"label_text_font_size\":\"8pt\",\"location\":\"center\"},\"id\":\"7966\",\"type\":\"Legend\"},{\"attributes\":{\"fill_alpha\":{\"value\":0.1},\"fill_color\":{\"value\":\"#45085B\"},\"hatch_alpha\":{\"value\":0.1},\"hatch_color\":{\"value\":\"#45085B\"},\"line_alpha\":{\"value\":0.1},\"line_color\":{\"value\":\"#45085B\"},\"x\":{\"field\":\"date_time\"},\"y\":{\"field\":\"y_index\"}},\"id\":\"7486\",\"type\":\"Circle\"},{\"attributes\":{\"coordinates\":null,\"data_source\":{\"id\":\"7404\"},\"glyph\":{\"id\":\"7569\"},\"group\":null,\"hover_glyph\":null,\"muted_glyph\":{\"id\":\"7571\"},\"nonselection_glyph\":{\"id\":\"7570\"},\"view\":{\"id\":\"7573\"}},\"id\":\"7572\",\"type\":\"GlyphRenderer\"},{\"attributes\":{\"fill_color\":{\"value\":\"#37598C\"},\"hatch_color\":{\"value\":\"#37598C\"},\"line_color\":{\"value\":\"#37598C\"},\"x\":{\"field\":\"date_time\"},\"y\":{\"field\":\"y_index\"}},\"id\":\"7551\",\"type\":\"Circle\"},{\"attributes\":{\"source\":{\"id\":\"7410\"}},\"id\":\"7609\",\"type\":\"CDSView\"},{\"attributes\":{\"fill_alpha\":{\"value\":0.2},\"fill_color\":{\"value\":\"#443781\"},\"hatch_alpha\":{\"value\":0.2},\"hatch_color\":{\"value\":\"#443781\"},\"line_alpha\":{\"value\":0.2},\"line_color\":{\"value\":\"#443781\"},\"x\":{\"field\":\"date_time\"},\"y\":{\"field\":\"y_index\"}},\"id\":\"7523\",\"type\":\"Circle\"},{\"attributes\":{\"fill_alpha\":{\"value\":0.2},\"fill_color\":{\"value\":\"#3F4587\"},\"hatch_alpha\":{\"value\":0.2},\"hatch_color\":{\"value\":\"#3F4587\"},\"line_alpha\":{\"value\":0.2},\"line_color\":{\"value\":\"#3F4587\"},\"x\":{\"field\":\"date_time\"},\"y\":{\"field\":\"y_index\"}},\"id\":\"7535\",\"type\":\"Circle\"},{\"attributes\":{\"coordinates\":null,\"data_source\":{\"id\":\"7397\"},\"glyph\":{\"id\":\"7527\"},\"group\":null,\"hover_glyph\":null,\"muted_glyph\":{\"id\":\"7529\"},\"nonselection_glyph\":{\"id\":\"7528\"},\"view\":{\"id\":\"7531\"}},\"id\":\"7530\",\"type\":\"GlyphRenderer\"},{\"attributes\":{\"coordinates\":null,\"group\":null,\"text\":\"Range Selector\"},\"id\":\"7460\",\"type\":\"Title\"},{\"attributes\":{\"source\":{\"id\":\"7394\"}},\"id\":\"7513\",\"type\":\"CDSView\"},{\"attributes\":{\"fill_alpha\":{\"value\":0.2},\"fill_color\":{\"value\":\"#471163\"},\"hatch_alpha\":{\"value\":0.2},\"hatch_color\":{\"value\":\"#471163\"},\"line_alpha\":{\"value\":0.2},\"line_color\":{\"value\":\"#471163\"},\"x\":{\"field\":\"date_time\"},\"y\":{\"field\":\"y_index\"}},\"id\":\"7493\",\"type\":\"Circle\"},{\"attributes\":{\"end\":1371184488000.0,\"start\":1366321032000.0},\"id\":\"7462\",\"type\":\"Range1d\"},{\"attributes\":{\"fill_color\":{\"value\":\"#3A538B\"},\"hatch_color\":{\"value\":\"#3A538B\"},\"line_color\":{\"value\":\"#3A538B\"},\"x\":{\"field\":\"date_time\"},\"y\":{\"field\":\"y_index\"}},\"id\":\"7545\",\"type\":\"Circle\"},{\"attributes\":{\"fill_alpha\":{\"value\":0.2},\"fill_color\":{\"value\":\"#37598C\"},\"hatch_alpha\":{\"value\":0.2},\"hatch_color\":{\"value\":\"#37598C\"},\"line_alpha\":{\"value\":0.2},\"line_color\":{\"value\":\"#37598C\"},\"x\":{\"field\":\"date_time\"},\"y\":{\"field\":\"y_index\"}},\"id\":\"7553\",\"type\":\"Circle\"},{\"attributes\":{\"fill_alpha\":{\"value\":0.1},\"fill_color\":{\"value\":\"#443781\"},\"hatch_alpha\":{\"value\":0.1},\"hatch_color\":{\"value\":\"#443781\"},\"line_alpha\":{\"value\":0.1},\"line_color\":{\"value\":\"#443781\"},\"x\":{\"field\":\"date_time\"},\"y\":{\"field\":\"y_index\"}},\"id\":\"7522\",\"type\":\"Circle\"},{\"attributes\":{\"fill_color\":{\"value\":\"#423E85\"},\"hatch_color\":{\"value\":\"#423E85\"},\"line_color\":{\"value\":\"#423E85\"},\"x\":{\"field\":\"date_time\"},\"y\":{\"field\":\"y_index\"}},\"id\":\"7527\",\"type\":\"Circle\"},{\"attributes\":{\"fill_alpha\":{\"value\":0.2},\"fill_color\":{\"value\":\"#423E85\"},\"hatch_alpha\":{\"value\":0.2},\"hatch_color\":{\"value\":\"#423E85\"},\"line_alpha\":{\"value\":0.2},\"line_color\":{\"value\":\"#423E85\"},\"x\":{\"field\":\"date_time\"},\"y\":{\"field\":\"y_index\"}},\"id\":\"7529\",\"type\":\"Circle\"},{\"attributes\":{\"coordinates\":null,\"data_source\":{\"id\":\"7417\"},\"glyph\":{\"id\":\"7647\"},\"group\":null,\"hover_glyph\":null,\"muted_glyph\":{\"id\":\"7649\"},\"nonselection_glyph\":{\"id\":\"7648\"},\"view\":{\"id\":\"7651\"}},\"id\":\"7650\",\"type\":\"GlyphRenderer\"},{\"attributes\":{\"fill_alpha\":{\"value\":0.2},\"fill_color\":{\"value\":\"#31658D\"},\"hatch_alpha\":{\"value\":0.2},\"hatch_color\":{\"value\":\"#31658D\"},\"line_alpha\":{\"value\":0.2},\"line_color\":{\"value\":\"#31658D\"},\"x\":{\"field\":\"date_time\"},\"y\":{\"field\":\"y_index\"}},\"id\":\"7565\",\"type\":\"Circle\"},{\"attributes\":{\"fill_alpha\":{\"value\":0.2},\"fill_color\":{\"value\":\"#48196B\"},\"hatch_alpha\":{\"value\":0.2},\"hatch_color\":{\"value\":\"#48196B\"},\"line_alpha\":{\"value\":0.2},\"line_color\":{\"value\":\"#48196B\"},\"x\":{\"field\":\"date_time\"},\"y\":{\"field\":\"y_index\"}},\"id\":\"7499\",\"type\":\"Circle\"},{\"attributes\":{\"fill_alpha\":{\"value\":0.2},\"fill_color\":{\"value\":\"#218C8D\"},\"hatch_alpha\":{\"value\":0.2},\"hatch_color\":{\"value\":\"#218C8D\"},\"line_alpha\":{\"value\":0.2},\"line_color\":{\"value\":\"#218C8D\"},\"x\":{\"field\":\"date_time\"},\"y\":{\"field\":\"y_index\"}},\"id\":\"7607\",\"type\":\"Circle\"},{\"attributes\":{\"coordinates\":null,\"data_source\":{\"id\":\"7419\"},\"glyph\":{\"id\":\"7659\"},\"group\":null,\"hover_glyph\":null,\"muted_glyph\":{\"id\":\"7661\"},\"nonselection_glyph\":{\"id\":\"7660\"},\"view\":{\"id\":\"7663\"}},\"id\":\"7662\",\"type\":\"GlyphRenderer\"},{\"attributes\":{\"source\":{\"id\":\"7401\"}},\"id\":\"7555\",\"type\":\"CDSView\"},{\"attributes\":{\"coordinates\":null,\"data_source\":{\"id\":\"7392\"},\"glyph\":{\"id\":\"7497\"},\"group\":null,\"hover_glyph\":null,\"muted_glyph\":{\"id\":\"7499\"},\"nonselection_glyph\":{\"id\":\"7498\"},\"view\":{\"id\":\"7501\"}},\"id\":\"7500\",\"type\":\"GlyphRenderer\"},{\"attributes\":{\"fill_alpha\":{\"value\":0.2},\"fill_color\":{\"value\":\"#287B8E\"},\"hatch_alpha\":{\"value\":0.2},\"hatch_color\":{\"value\":\"#287B8E\"},\"line_alpha\":{\"value\":0.2},\"line_color\":{\"value\":\"#287B8E\"},\"x\":{\"field\":\"date_time\"},\"y\":{\"field\":\"y_index\"}},\"id\":\"7589\",\"type\":\"Circle\"},{\"attributes\":{\"source\":{\"id\":\"7398\"}},\"id\":\"7537\",\"type\":\"CDSView\"},{\"attributes\":{\"fill_alpha\":{\"value\":0.2},\"fill_color\":{\"value\":\"#2C708E\"},\"hatch_alpha\":{\"value\":0.2},\"hatch_color\":{\"value\":\"#2C708E\"},\"line_alpha\":{\"value\":0.2},\"line_color\":{\"value\":\"#2C708E\"},\"x\":{\"field\":\"date_time\"},\"y\":{\"field\":\"y_index\"}},\"id\":\"7577\",\"type\":\"Circle\"},{\"attributes\":{\"source\":{\"id\":\"7406\"}},\"id\":\"7585\",\"type\":\"CDSView\"},{\"attributes\":{\"coordinates\":null,\"data_source\":{\"id\":\"7407\"},\"glyph\":{\"id\":\"7587\"},\"group\":null,\"hover_glyph\":null,\"muted_glyph\":{\"id\":\"7589\"},\"nonselection_glyph\":{\"id\":\"7588\"},\"view\":{\"id\":\"7591\"}},\"id\":\"7590\",\"type\":\"GlyphRenderer\"},{\"attributes\":{\"fill_color\":{\"value\":\"#28AE7F\"},\"hatch_color\":{\"value\":\"#28AE7F\"},\"line_color\":{\"value\":\"#28AE7F\"},\"x\":{\"field\":\"date_time\"},\"y\":{\"field\":\"y_index\"}},\"id\":\"7641\",\"type\":\"Circle\"},{\"attributes\":{\"fill_alpha\":{\"value\":0.2},\"fill_color\":{\"value\":\"#3D4C89\"},\"hatch_alpha\":{\"value\":0.2},\"hatch_color\":{\"value\":\"#3D4C89\"},\"line_alpha\":{\"value\":0.2},\"line_color\":{\"value\":\"#3D4C89\"},\"x\":{\"field\":\"date_time\"},\"y\":{\"field\":\"y_index\"}},\"id\":\"7541\",\"type\":\"Circle\"},{\"attributes\":{\"fill_alpha\":{\"value\":0.2},\"fill_color\":{\"value\":\"#28AE7F\"},\"hatch_alpha\":{\"value\":0.2},\"hatch_color\":{\"value\":\"#28AE7F\"},\"line_alpha\":{\"value\":0.2},\"line_color\":{\"value\":\"#28AE7F\"},\"x\":{\"field\":\"date_time\"},\"y\":{\"field\":\"y_index\"}},\"id\":\"7643\",\"type\":\"Circle\"},{\"attributes\":{\"source\":{\"id\":\"7407\"}},\"id\":\"7591\",\"type\":\"CDSView\"},{\"attributes\":{\"fill_alpha\":{\"value\":0.1},\"fill_color\":{\"value\":\"#2FB37B\"},\"hatch_alpha\":{\"value\":0.1},\"hatch_color\":{\"value\":\"#2FB37B\"},\"line_alpha\":{\"value\":0.1},\"line_color\":{\"value\":\"#2FB37B\"},\"x\":{\"field\":\"date_time\"},\"y\":{\"field\":\"y_index\"}},\"id\":\"7648\",\"type\":\"Circle\"},{\"attributes\":{\"fill_alpha\":{\"value\":0.2},\"fill_color\":{\"value\":\"#2A768E\"},\"hatch_alpha\":{\"value\":0.2},\"hatch_color\":{\"value\":\"#2A768E\"},\"line_alpha\":{\"value\":0.2},\"line_color\":{\"value\":\"#2A768E\"},\"x\":{\"field\":\"date_time\"},\"y\":{\"field\":\"y_index\"}},\"id\":\"7583\",\"type\":\"Circle\"},{\"attributes\":{\"coordinates\":null,\"data_source\":{\"id\":\"7405\"},\"glyph\":{\"id\":\"7575\"},\"group\":null,\"hover_glyph\":null,\"muted_glyph\":{\"id\":\"7577\"},\"nonselection_glyph\":{\"id\":\"7576\"},\"view\":{\"id\":\"7579\"}},\"id\":\"7578\",\"type\":\"GlyphRenderer\"},{\"attributes\":{\"source\":{\"id\":\"7417\"}},\"id\":\"7651\",\"type\":\"CDSView\"},{\"attributes\":{\"source\":{\"id\":\"7395\"}},\"id\":\"7519\",\"type\":\"CDSView\"},{\"attributes\":{\"axis\":{\"id\":\"7442\"},\"coordinates\":null,\"dimension\":1,\"grid_line_color\":null,\"group\":null,\"ticker\":null},\"id\":\"7445\",\"type\":\"Grid\"},{\"attributes\":{\"coordinates\":null,\"data_source\":{\"id\":\"7396\"},\"glyph\":{\"id\":\"7521\"},\"group\":null,\"hover_glyph\":null,\"muted_glyph\":{\"id\":\"7523\"},\"nonselection_glyph\":{\"id\":\"7522\"},\"view\":{\"id\":\"7525\"}},\"id\":\"7524\",\"type\":\"GlyphRenderer\"},{\"attributes\":{\"fill_alpha\":{\"value\":0.1},\"fill_color\":{\"value\":\"#36B877\"},\"hatch_alpha\":{\"value\":0.1},\"hatch_color\":{\"value\":\"#36B877\"},\"line_alpha\":{\"value\":0.1},\"line_color\":{\"value\":\"#36B877\"},\"x\":{\"field\":\"date_time\"},\"y\":{\"field\":\"y_index\"}},\"id\":\"7654\",\"type\":\"Circle\"},{\"attributes\":{\"fill_alpha\":{\"value\":0.2},\"fill_color\":{\"value\":\"#40BD72\"},\"hatch_alpha\":{\"value\":0.2},\"hatch_color\":{\"value\":\"#40BD72\"},\"line_alpha\":{\"value\":0.2},\"line_color\":{\"value\":\"#40BD72\"},\"x\":{\"field\":\"date_time\"},\"y\":{\"field\":\"y_index\"}},\"id\":\"7661\",\"type\":\"Circle\"},{\"attributes\":{\"fill_alpha\":{\"value\":0.1},\"fill_color\":{\"value\":\"#482172\"},\"hatch_alpha\":{\"value\":0.1},\"hatch_color\":{\"value\":\"#482172\"},\"line_alpha\":{\"value\":0.1},\"line_color\":{\"value\":\"#482172\"},\"x\":{\"field\":\"date_time\"},\"y\":{\"field\":\"y_index\"}},\"id\":\"7504\",\"type\":\"Circle\"},{\"attributes\":{\"fill_color\":{\"value\":\"#3D4C89\"},\"hatch_color\":{\"value\":\"#3D4C89\"},\"line_color\":{\"value\":\"#3D4C89\"},\"x\":{\"field\":\"date_time\"},\"y\":{\"field\":\"y_index\"}},\"id\":\"7539\",\"type\":\"Circle\"},{\"attributes\":{\"fill_alpha\":{\"value\":0.1},\"fill_color\":{\"value\":\"#3D4C89\"},\"hatch_alpha\":{\"value\":0.1},\"hatch_color\":{\"value\":\"#3D4C89\"},\"line_alpha\":{\"value\":0.1},\"line_color\":{\"value\":\"#3D4C89\"},\"x\":{\"field\":\"date_time\"},\"y\":{\"field\":\"y_index\"}},\"id\":\"7540\",\"type\":\"Circle\"},{\"attributes\":{\"coordinates\":null,\"data_source\":{\"id\":\"7401\"},\"glyph\":{\"id\":\"7551\"},\"group\":null,\"hover_glyph\":null,\"muted_glyph\":{\"id\":\"7553\"},\"nonselection_glyph\":{\"id\":\"7552\"},\"view\":{\"id\":\"7555\"}},\"id\":\"7554\",\"type\":\"GlyphRenderer\"},{\"attributes\":{\"fill_color\":{\"value\":\"#482172\"},\"hatch_color\":{\"value\":\"#482172\"},\"line_color\":{\"value\":\"#482172\"},\"x\":{\"field\":\"date_time\"},\"y\":{\"field\":\"y_index\"}},\"id\":\"7503\",\"type\":\"Circle\"},{\"attributes\":{\"source\":{\"id\":\"7392\"}},\"id\":\"7501\",\"type\":\"CDSView\"},{\"attributes\":{\"fill_alpha\":{\"value\":0.1},\"fill_color\":{\"value\":\"#3A538B\"},\"hatch_alpha\":{\"value\":0.1},\"hatch_color\":{\"value\":\"#3A538B\"},\"line_alpha\":{\"value\":0.1},\"line_color\":{\"value\":\"#3A538B\"},\"x\":{\"field\":\"date_time\"},\"y\":{\"field\":\"y_index\"}},\"id\":\"7546\",\"type\":\"Circle\"},{\"attributes\":{\"fill_alpha\":{\"value\":0.1},\"fill_color\":{\"value\":\"#2F6A8D\"},\"hatch_alpha\":{\"value\":0.1},\"hatch_color\":{\"value\":\"#2F6A8D\"},\"line_alpha\":{\"value\":0.1},\"line_color\":{\"value\":\"#2F6A8D\"},\"x\":{\"field\":\"date_time\"},\"y\":{\"field\":\"y_index\"}},\"id\":\"7570\",\"type\":\"Circle\"},{\"attributes\":{\"source\":{\"id\":\"7418\"}},\"id\":\"7657\",\"type\":\"CDSView\"},{\"attributes\":{\"coordinates\":null,\"data_source\":{\"id\":\"7403\"},\"glyph\":{\"id\":\"7563\"},\"group\":null,\"hover_glyph\":null,\"muted_glyph\":{\"id\":\"7565\"},\"nonselection_glyph\":{\"id\":\"7564\"},\"view\":{\"id\":\"7567\"}},\"id\":\"7566\",\"type\":\"GlyphRenderer\"},{\"attributes\":{\"fill_color\":{\"value\":\"#26818E\"},\"hatch_color\":{\"value\":\"#26818E\"},\"line_color\":{\"value\":\"#26818E\"},\"x\":{\"field\":\"date_time\"},\"y\":{\"field\":\"y_index\"}},\"id\":\"7593\",\"type\":\"Circle\"},{\"attributes\":{\"fill_color\":{\"value\":\"#36B877\"},\"hatch_color\":{\"value\":\"#36B877\"},\"line_color\":{\"value\":\"#36B877\"},\"x\":{\"field\":\"date_time\"},\"y\":{\"field\":\"y_index\"}},\"id\":\"7653\",\"type\":\"Circle\"},{\"attributes\":{\"coordinates\":null,\"data_source\":{\"id\":\"7418\"},\"glyph\":{\"id\":\"7653\"},\"group\":null,\"hover_glyph\":null,\"muted_glyph\":{\"id\":\"7655\"},\"nonselection_glyph\":{\"id\":\"7654\"},\"view\":{\"id\":\"7657\"}},\"id\":\"7656\",\"type\":\"GlyphRenderer\"},{\"attributes\":{\"source\":{\"id\":\"7404\"}},\"id\":\"7573\",\"type\":\"CDSView\"},{\"attributes\":{\"fill_alpha\":{\"value\":0.5},\"fill_color\":{\"value\":\"#472878\"},\"hatch_alpha\":{\"value\":0.5},\"hatch_color\":{\"value\":\"#472878\"},\"line_alpha\":{\"value\":0.5},\"line_color\":{\"value\":\"#472878\"},\"marker\":{\"value\":\"diamond\"},\"size\":{\"value\":10},\"x\":{\"field\":\"date_time\"},\"y\":{\"field\":\"y_index\"}},\"id\":\"7743\",\"type\":\"Scatter\"},{\"attributes\":{\"fill_alpha\":{\"value\":0.1},\"fill_color\":{\"value\":\"#48196B\"},\"hatch_alpha\":{\"value\":0.1},\"hatch_color\":{\"value\":\"#48196B\"},\"line_alpha\":{\"value\":0.1},\"line_color\":{\"value\":\"#48196B\"},\"x\":{\"field\":\"date_time\"},\"y\":{\"field\":\"y_index\"}},\"id\":\"7498\",\"type\":\"Circle\"},{\"attributes\":{\"fill_alpha\":{\"value\":0.2},\"fill_color\":{\"value\":\"#36B877\"},\"hatch_alpha\":{\"value\":0.2},\"hatch_color\":{\"value\":\"#36B877\"},\"line_alpha\":{\"value\":0.2},\"line_color\":{\"value\":\"#36B877\"},\"x\":{\"field\":\"date_time\"},\"y\":{\"field\":\"y_index\"}},\"id\":\"7655\",\"type\":\"Circle\"},{\"attributes\":{\"coordinates\":null,\"data_source\":{\"id\":\"7411\"},\"glyph\":{\"id\":\"7611\"},\"group\":null,\"hover_glyph\":null,\"muted_glyph\":{\"id\":\"7613\"},\"nonselection_glyph\":{\"id\":\"7612\"},\"view\":{\"id\":\"7615\"}},\"id\":\"7614\",\"type\":\"GlyphRenderer\"},{\"attributes\":{\"fill_alpha\":{\"value\":0.2},\"fill_color\":{\"value\":\"#46307D\"},\"hatch_alpha\":{\"value\":0.2},\"hatch_color\":{\"value\":\"#46307D\"},\"line_alpha\":{\"value\":0.2},\"line_color\":{\"value\":\"#46307D\"},\"x\":{\"field\":\"date_time\"},\"y\":{\"field\":\"y_index\"}},\"id\":\"7517\",\"type\":\"Circle\"},{\"attributes\":{\"fill_color\":{\"value\":\"#46307D\"},\"hatch_color\":{\"value\":\"#46307D\"},\"line_color\":{\"value\":\"#46307D\"},\"x\":{\"field\":\"date_time\"},\"y\":{\"field\":\"y_index\"}},\"id\":\"7515\",\"type\":\"Circle\"},{\"attributes\":{\"fill_alpha\":{\"value\":0.1},\"fill_color\":{\"value\":\"#46307D\"},\"hatch_alpha\":{\"value\":0.1},\"hatch_color\":{\"value\":\"#46307D\"},\"line_alpha\":{\"value\":0.1},\"line_color\":{\"value\":\"#46307D\"},\"x\":{\"field\":\"date_time\"},\"y\":{\"field\":\"y_index\"}},\"id\":\"7516\",\"type\":\"Circle\"},{\"attributes\":{\"source\":{\"id\":\"7396\"}},\"id\":\"7525\",\"type\":\"CDSView\"},{\"attributes\":{\"coordinates\":null,\"data_source\":{\"id\":\"7400\"},\"glyph\":{\"id\":\"7545\"},\"group\":null,\"hover_glyph\":null,\"muted_glyph\":{\"id\":\"7547\"},\"nonselection_glyph\":{\"id\":\"7546\"},\"view\":{\"id\":\"7549\"}},\"id\":\"7548\",\"type\":\"GlyphRenderer\"},{\"attributes\":{\"fill_color\":{\"value\":\"#443781\"},\"hatch_color\":{\"value\":\"#443781\"},\"line_color\":{\"value\":\"#443781\"},\"x\":{\"field\":\"date_time\"},\"y\":{\"field\":\"y_index\"}},\"id\":\"7521\",\"type\":\"Circle\"},{\"attributes\":{\"coordinates\":null,\"data_source\":{\"id\":\"7406\"},\"glyph\":{\"id\":\"7827\"},\"group\":null,\"hover_glyph\":null,\"muted_glyph\":{\"id\":\"7829\"},\"nonselection_glyph\":{\"id\":\"7828\"},\"view\":{\"id\":\"7831\"}},\"id\":\"7830\",\"type\":\"GlyphRenderer\"},{\"attributes\":{\"fill_alpha\":{\"value\":0.2},\"fill_color\":{\"value\":\"#23878D\"},\"hatch_alpha\":{\"value\":0.2},\"hatch_color\":{\"value\":\"#23878D\"},\"line_alpha\":{\"value\":0.2},\"line_color\":{\"value\":\"#23878D\"},\"x\":{\"field\":\"date_time\"},\"y\":{\"field\":\"y_index\"}},\"id\":\"7601\",\"type\":\"Circle\"},{\"attributes\":{\"fill_color\":{\"value\":\"#2A768E\"},\"hatch_color\":{\"value\":\"#2A768E\"},\"line_color\":{\"value\":\"#2A768E\"},\"x\":{\"field\":\"date_time\"},\"y\":{\"field\":\"y_index\"}},\"id\":\"7581\",\"type\":\"Circle\"},{\"attributes\":{\"fill_color\":{\"value\":\"#2FB37B\"},\"hatch_color\":{\"value\":\"#2FB37B\"},\"line_color\":{\"value\":\"#2FB37B\"},\"x\":{\"field\":\"date_time\"},\"y\":{\"field\":\"y_index\"}},\"id\":\"7647\",\"type\":\"Circle\"},{\"attributes\":{\"source\":{\"id\":\"7390\"}},\"id\":\"7489\",\"type\":\"CDSView\"},{\"attributes\":{\"fill_color\":{\"value\":\"#3F4587\"},\"hatch_color\":{\"value\":\"#3F4587\"},\"line_color\":{\"value\":\"#3F4587\"},\"x\":{\"field\":\"date_time\"},\"y\":{\"field\":\"y_index\"}},\"id\":\"7533\",\"type\":\"Circle\"},{\"attributes\":{\"fill_alpha\":{\"value\":0.1},\"fill_color\":{\"value\":\"#471163\"},\"hatch_alpha\":{\"value\":0.1},\"hatch_color\":{\"value\":\"#471163\"},\"line_alpha\":{\"value\":0.1},\"line_color\":{\"value\":\"#471163\"},\"x\":{\"field\":\"date_time\"},\"y\":{\"field\":\"y_index\"}},\"id\":\"7492\",\"type\":\"Circle\"},{\"attributes\":{\"source\":{\"id\":\"7397\"}},\"id\":\"7531\",\"type\":\"CDSView\"},{\"attributes\":{\"fill_color\":{\"value\":\"#471163\"},\"hatch_color\":{\"value\":\"#471163\"},\"line_color\":{\"value\":\"#471163\"},\"x\":{\"field\":\"date_time\"},\"y\":{\"field\":\"y_index\"}},\"id\":\"7491\",\"type\":\"Circle\"},{\"attributes\":{\"fill_color\":{\"value\":\"#1E988A\"},\"hatch_color\":{\"value\":\"#1E988A\"},\"line_color\":{\"value\":\"#1E988A\"},\"x\":{\"field\":\"date_time\"},\"y\":{\"field\":\"y_index\"}},\"id\":\"7617\",\"type\":\"Circle\"},{\"attributes\":{\"source\":{\"id\":\"7393\"}},\"id\":\"7507\",\"type\":\"CDSView\"},{\"attributes\":{\"fill_alpha\":{\"value\":0.2},\"fill_color\":{\"value\":\"#3A538B\"},\"hatch_alpha\":{\"value\":0.2},\"hatch_color\":{\"value\":\"#3A538B\"},\"line_alpha\":{\"value\":0.2},\"line_color\":{\"value\":\"#3A538B\"},\"x\":{\"field\":\"date_time\"},\"y\":{\"field\":\"y_index\"}},\"id\":\"7547\",\"type\":\"Circle\"},{\"attributes\":{\"source\":{\"id\":\"7400\"}},\"id\":\"7549\",\"type\":\"CDSView\"},{\"attributes\":{\"fill_alpha\":{\"value\":0.1},\"fill_color\":{\"value\":\"#472878\"},\"hatch_alpha\":{\"value\":0.1},\"hatch_color\":{\"value\":\"#472878\"},\"line_alpha\":{\"value\":0.1},\"line_color\":{\"value\":\"#472878\"},\"x\":{\"field\":\"date_time\"},\"y\":{\"field\":\"y_index\"}},\"id\":\"7510\",\"type\":\"Circle\"},{\"attributes\":{\"mantissas\":[1,2,5],\"max_interval\":500.0,\"num_minor_ticks\":0},\"id\":\"8065\",\"type\":\"AdaptiveTicker\"},{\"attributes\":{\"fill_alpha\":{\"value\":0.2},\"fill_color\":{\"value\":\"#345F8D\"},\"hatch_alpha\":{\"value\":0.2},\"hatch_color\":{\"value\":\"#345F8D\"},\"line_alpha\":{\"value\":0.2},\"line_color\":{\"value\":\"#345F8D\"},\"x\":{\"field\":\"date_time\"},\"y\":{\"field\":\"y_index\"}},\"id\":\"7559\",\"type\":\"Circle\"},{\"attributes\":{\"base\":60,\"mantissas\":[1,2,5,10,15,20,30],\"max_interval\":1800000.0,\"min_interval\":1000.0,\"num_minor_ticks\":0},\"id\":\"8066\",\"type\":\"AdaptiveTicker\"},{\"attributes\":{\"fill_alpha\":{\"value\":0.1},\"fill_color\":{\"value\":\"#440154\"},\"hatch_alpha\":{\"value\":0.1},\"hatch_color\":{\"value\":\"#440154\"},\"line_alpha\":{\"value\":0.1},\"line_color\":{\"value\":\"#440154\"},\"x\":{\"field\":\"date_time\"},\"y\":{\"field\":\"y_index\"}},\"id\":\"7480\",\"type\":\"Circle\"},{\"attributes\":{\"coordinates\":null,\"data_source\":{\"id\":\"7402\"},\"glyph\":{\"id\":\"7557\"},\"group\":null,\"hover_glyph\":null,\"muted_glyph\":{\"id\":\"7559\"},\"nonselection_glyph\":{\"id\":\"7558\"},\"view\":{\"id\":\"7561\"}},\"id\":\"7560\",\"type\":\"GlyphRenderer\"},{\"attributes\":{\"base\":24,\"mantissas\":[1,2,4,6,8,12],\"max_interval\":43200000.0,\"min_interval\":3600000.0,\"num_minor_ticks\":0},\"id\":\"8067\",\"type\":\"AdaptiveTicker\"},{\"attributes\":{\"coordinates\":null,\"data_source\":{\"id\":\"7390\"},\"glyph\":{\"id\":\"7485\"},\"group\":null,\"hover_glyph\":null,\"muted_glyph\":{\"id\":\"7487\"},\"nonselection_glyph\":{\"id\":\"7486\"},\"view\":{\"id\":\"7489\"}},\"id\":\"7488\",\"type\":\"GlyphRenderer\"},{\"attributes\":{\"fill_color\":{\"value\":\"#472878\"},\"hatch_color\":{\"value\":\"#472878\"},\"line_color\":{\"value\":\"#472878\"},\"x\":{\"field\":\"date_time\"},\"y\":{\"field\":\"y_index\"}},\"id\":\"7509\",\"type\":\"Circle\"},{\"attributes\":{},\"id\":\"8076\",\"type\":\"YearsTicker\"},{\"attributes\":{\"fill_color\":{\"value\":\"#48196B\"},\"hatch_color\":{\"value\":\"#48196B\"},\"line_color\":{\"value\":\"#48196B\"},\"x\":{\"field\":\"date_time\"},\"y\":{\"field\":\"y_index\"}},\"id\":\"7497\",\"type\":\"Circle\"},{\"attributes\":{\"months\":[0,1,2,3,4,5,6,7,8,9,10,11]},\"id\":\"8072\",\"type\":\"MonthsTicker\"},{\"attributes\":{\"source\":{\"id\":\"7391\"}},\"id\":\"7495\",\"type\":\"CDSView\"},{\"attributes\":{\"fill_alpha\":{\"value\":0.1},\"fill_color\":{\"value\":\"#26818E\"},\"hatch_alpha\":{\"value\":0.1},\"hatch_color\":{\"value\":\"#26818E\"},\"line_alpha\":{\"value\":0.1},\"line_color\":{\"value\":\"#26818E\"},\"x\":{\"field\":\"date_time\"},\"y\":{\"field\":\"y_index\"}},\"id\":\"7594\",\"type\":\"Circle\"},{\"attributes\":{\"days\":[1,15]},\"id\":\"8071\",\"type\":\"DaysTicker\"},{\"attributes\":{\"source\":{\"id\":\"7405\"}},\"id\":\"7579\",\"type\":\"CDSView\"},{\"attributes\":{\"days\":[1,2,3,4,5,6,7,8,9,10,11,12,13,14,15,16,17,18,19,20,21,22,23,24,25,26,27,28,29,30,31]},\"id\":\"8068\",\"type\":\"DaysTicker\"},{\"attributes\":{\"fill_alpha\":{\"value\":0.2},\"fill_color\":{\"value\":\"#45085B\"},\"hatch_alpha\":{\"value\":0.2},\"hatch_color\":{\"value\":\"#45085B\"},\"line_alpha\":{\"value\":0.2},\"line_color\":{\"value\":\"#45085B\"},\"x\":{\"field\":\"date_time\"},\"y\":{\"field\":\"y_index\"}},\"id\":\"7487\",\"type\":\"Circle\"},{\"attributes\":{\"days\":[1,4,7,10,13,16,19,22,25,28]},\"id\":\"8069\",\"type\":\"DaysTicker\"},{\"attributes\":{\"fill_color\":{\"value\":\"#345F8D\"},\"hatch_color\":{\"value\":\"#345F8D\"},\"line_color\":{\"value\":\"#345F8D\"},\"x\":{\"field\":\"date_time\"},\"y\":{\"field\":\"y_index\"}},\"id\":\"7557\",\"type\":\"Circle\"},{\"attributes\":{\"days\":[1,8,15,22]},\"id\":\"8070\",\"type\":\"DaysTicker\"},{\"attributes\":{\"source\":{\"id\":\"7389\"}},\"id\":\"7483\",\"type\":\"CDSView\"},{\"attributes\":{\"months\":[0,6]},\"id\":\"8075\",\"type\":\"MonthsTicker\"},{\"attributes\":{\"fill_alpha\":{\"value\":0.1},\"fill_color\":{\"value\":\"#2C708E\"},\"hatch_alpha\":{\"value\":0.1},\"hatch_color\":{\"value\":\"#2C708E\"},\"line_alpha\":{\"value\":0.1},\"line_color\":{\"value\":\"#2C708E\"},\"x\":{\"field\":\"date_time\"},\"y\":{\"field\":\"y_index\"}},\"id\":\"7576\",\"type\":\"Circle\"},{\"attributes\":{\"months\":[0,2,4,6,8,10]},\"id\":\"8073\",\"type\":\"MonthsTicker\"},{\"attributes\":{\"fill_color\":{\"value\":\"#440154\"},\"hatch_color\":{\"value\":\"#440154\"},\"line_color\":{\"value\":\"#440154\"},\"x\":{\"field\":\"date_time\"},\"y\":{\"field\":\"y_index\"}},\"id\":\"7479\",\"type\":\"Circle\"},{\"attributes\":{\"align\":\"right\",\"coordinates\":null,\"group\":null,\"text\":\"Drag the middle or edges of the selection box to change the range in the main chart\",\"text_font_size\":\"10px\"},\"id\":\"7475\",\"type\":\"Title\"},{\"attributes\":{\"months\":[0,4,8]},\"id\":\"8074\",\"type\":\"MonthsTicker\"},{\"attributes\":{\"coordinates\":null,\"data_source\":{\"id\":\"7391\"},\"glyph\":{\"id\":\"7491\"},\"group\":null,\"hover_glyph\":null,\"muted_glyph\":{\"id\":\"7493\"},\"nonselection_glyph\":{\"id\":\"7492\"},\"view\":{\"id\":\"7495\"}},\"id\":\"7494\",\"type\":\"GlyphRenderer\"},{\"attributes\":{\"coordinates\":null,\"data_source\":{\"id\":\"7409\"},\"glyph\":{\"id\":\"7599\"},\"group\":null,\"hover_glyph\":null,\"muted_glyph\":{\"id\":\"7601\"},\"nonselection_glyph\":{\"id\":\"7600\"},\"view\":{\"id\":\"7603\"}},\"id\":\"7602\",\"type\":\"GlyphRenderer\"},{\"attributes\":{\"source\":{\"id\":\"7402\"}},\"id\":\"7561\",\"type\":\"CDSView\"},{\"attributes\":{\"fill_color\":{\"value\":\"#31658D\"},\"hatch_color\":{\"value\":\"#31658D\"},\"line_color\":{\"value\":\"#31658D\"},\"x\":{\"field\":\"date_time\"},\"y\":{\"field\":\"y_index\"}},\"id\":\"7563\",\"type\":\"Circle\"},{\"attributes\":{\"coordinates\":null,\"data_source\":{\"id\":\"7416\"},\"glyph\":{\"id\":\"7641\"},\"group\":null,\"hover_glyph\":null,\"muted_glyph\":{\"id\":\"7643\"},\"nonselection_glyph\":{\"id\":\"7642\"},\"view\":{\"id\":\"7645\"}},\"id\":\"7644\",\"type\":\"GlyphRenderer\"},{\"attributes\":{\"active_multi\":{\"id\":\"7700\"},\"tools\":[{\"id\":\"7700\"}]},\"id\":\"7474\",\"type\":\"Toolbar\"},{\"attributes\":{\"days\":[\"%m-%d %H:%M\"],\"hours\":[\"%H:%M:%S\"],\"milliseconds\":[\"%H:%M:%S.%3N\"],\"minutes\":[\"%H:%M:%S\"],\"seconds\":[\"%H:%M:%S\"]},\"id\":\"7476\",\"type\":\"DatetimeTickFormatter\"},{\"attributes\":{\"source\":{\"id\":\"7411\"}},\"id\":\"7615\",\"type\":\"CDSView\"},{\"attributes\":{\"axis\":{\"id\":\"7470\"},\"coordinates\":null,\"group\":null,\"ticker\":null},\"id\":\"7473\",\"type\":\"Grid\"},{\"attributes\":{\"num_minor_ticks\":10,\"tickers\":[{\"id\":\"8052\"},{\"id\":\"8053\"},{\"id\":\"8054\"},{\"id\":\"8055\"},{\"id\":\"8056\"},{\"id\":\"8057\"},{\"id\":\"8058\"},{\"id\":\"8059\"},{\"id\":\"8060\"},{\"id\":\"8061\"},{\"id\":\"8062\"},{\"id\":\"8063\"}]},\"id\":\"7439\",\"type\":\"DatetimeTicker\"},{\"attributes\":{},\"id\":\"7971\",\"type\":\"BasicTickFormatter\"},{\"attributes\":{},\"id\":\"7972\",\"type\":\"AllLabels\"},{\"attributes\":{\"fill_alpha\":{\"value\":0.2},\"fill_color\":{\"value\":\"#26818E\"},\"hatch_alpha\":{\"value\":0.2},\"hatch_color\":{\"value\":\"#26818E\"},\"line_alpha\":{\"value\":0.2},\"line_color\":{\"value\":\"#26818E\"},\"x\":{\"field\":\"date_time\"},\"y\":{\"field\":\"y_index\"}},\"id\":\"7595\",\"type\":\"Circle\"},{\"attributes\":{},\"id\":\"7449\",\"type\":\"SaveTool\"},{\"attributes\":{\"bottom_units\":\"screen\",\"coordinates\":null,\"fill_alpha\":0.5,\"fill_color\":\"lightgrey\",\"group\":null,\"left_units\":\"screen\",\"level\":\"overlay\",\"line_alpha\":1.0,\"line_color\":\"black\",\"line_dash\":[4,4],\"line_width\":2,\"right_units\":\"screen\",\"syncable\":false,\"top_units\":\"screen\"},\"id\":\"7451\",\"type\":\"BoxAnnotation\"},{\"attributes\":{\"end\":36.027027027027025,\"start\":-0.02702702702702703},\"id\":\"7432\",\"type\":\"Range1d\"},{\"attributes\":{\"dimensions\":\"width\"},\"id\":\"7450\",\"type\":\"PanTool\"},{\"attributes\":{},\"id\":\"7443\",\"type\":\"BasicTicker\"},{\"attributes\":{},\"id\":\"7974\",\"type\":\"AllLabels\"},{\"attributes\":{\"below\":[{\"id\":\"7438\"}],\"center\":[{\"id\":\"7441\"},{\"id\":\"7445\"}],\"height\":925,\"left\":[{\"id\":\"7442\"},{\"id\":\"7966\"}],\"min_border_left\":50,\"renderers\":[{\"id\":\"7711\"},{\"id\":\"7718\"},{\"id\":\"7725\"},{\"id\":\"7732\"},{\"id\":\"7739\"},{\"id\":\"7746\"},{\"id\":\"7753\"},{\"id\":\"7760\"},{\"id\":\"7767\"},{\"id\":\"7774\"},{\"id\":\"7781\"},{\"id\":\"7788\"},{\"id\":\"7795\"},{\"id\":\"7802\"},{\"id\":\"7809\"},{\"id\":\"7816\"},{\"id\":\"7823\"},{\"id\":\"7830\"},{\"id\":\"7837\"},{\"id\":\"7844\"},{\"id\":\"7851\"},{\"id\":\"7858\"},{\"id\":\"7865\"},{\"id\":\"7872\"},{\"id\":\"7879\"},{\"id\":\"7886\"},{\"id\":\"7893\"},{\"id\":\"7900\"},{\"id\":\"7907\"},{\"id\":\"7914\"},{\"id\":\"7921\"},{\"id\":\"7928\"},{\"id\":\"7935\"},{\"id\":\"7942\"},{\"id\":\"7949\"},{\"id\":\"7956\"},{\"id\":\"7963\"}],\"title\":{\"id\":\"7428\"},\"toolbar\":{\"id\":\"7452\"},\"width\":900,\"x_range\":{\"id\":\"7430\"},\"x_scale\":{\"id\":\"7434\"},\"y_range\":{\"id\":\"7432\"},\"y_scale\":{\"id\":\"7436\"}},\"id\":\"7427\",\"subtype\":\"Figure\",\"type\":\"Plot\"},{\"attributes\":{\"axis\":{\"id\":\"7438\"},\"coordinates\":null,\"group\":null,\"minor_grid_line_alpha\":0.3,\"minor_grid_line_color\":\"navy\",\"ticker\":null},\"id\":\"7441\",\"type\":\"Grid\"},{\"attributes\":{\"tools\":[{\"id\":\"7426\"},{\"id\":\"7446\"},{\"id\":\"7447\"},{\"id\":\"7448\"},{\"id\":\"7449\"},{\"id\":\"7450\"}]},\"id\":\"7452\",\"type\":\"Toolbar\"},{\"attributes\":{\"overlay\":{\"id\":\"7451\"}},\"id\":\"7447\",\"type\":\"BoxZoomTool\"},{\"attributes\":{\"below\":[{\"id\":\"7470\"},{\"id\":\"7475\"}],\"center\":[{\"id\":\"7473\"}],\"height\":185,\"renderers\":[{\"id\":\"7482\"},{\"id\":\"7488\"},{\"id\":\"7494\"},{\"id\":\"7500\"},{\"id\":\"7506\"},{\"id\":\"7512\"},{\"id\":\"7518\"},{\"id\":\"7524\"},{\"id\":\"7530\"},{\"id\":\"7536\"},{\"id\":\"7542\"},{\"id\":\"7548\"},{\"id\":\"7554\"},{\"id\":\"7560\"},{\"id\":\"7566\"},{\"id\":\"7572\"},{\"id\":\"7578\"},{\"id\":\"7584\"},{\"id\":\"7590\"},{\"id\":\"7596\"},{\"id\":\"7602\"},{\"id\":\"7608\"},{\"id\":\"7614\"},{\"id\":\"7620\"},{\"id\":\"7626\"},{\"id\":\"7632\"},{\"id\":\"7638\"},{\"id\":\"7644\"},{\"id\":\"7650\"},{\"id\":\"7656\"},{\"id\":\"7662\"},{\"id\":\"7668\"},{\"id\":\"7674\"},{\"id\":\"7680\"},{\"id\":\"7686\"},{\"id\":\"7692\"},{\"id\":\"7698\"}],\"title\":{\"id\":\"7460\"},\"toolbar\":{\"id\":\"7474\"},\"toolbar_location\":null,\"width\":900,\"x_range\":{\"id\":\"7462\"},\"x_scale\":{\"id\":\"7466\"},\"y_range\":{\"id\":\"7464\"},\"y_scale\":{\"id\":\"7468\"}},\"id\":\"7459\",\"subtype\":\"Figure\",\"type\":\"Plot\"},{\"attributes\":{\"fill_color\":{\"value\":\"#218C8D\"},\"hatch_color\":{\"value\":\"#218C8D\"},\"line_color\":{\"value\":\"#218C8D\"},\"x\":{\"field\":\"date_time\"},\"y\":{\"field\":\"y_index\"}},\"id\":\"7605\",\"type\":\"Circle\"},{\"attributes\":{\"coordinates\":null,\"formatter\":{\"id\":\"7971\"},\"group\":null,\"major_label_overrides\":{\"0\":\"u00\",\"1\":\"u01\",\"10\":\"u17\",\"11\":\"u18\",\"12\":\"u19\",\"13\":\"u22\",\"14\":\"u23\",\"15\":\"u24\",\"16\":\"u27\",\"17\":\"u32\",\"18\":\"u33\",\"19\":\"u34\",\"2\":\"u02\",\"20\":\"u35\",\"21\":\"u36\",\"22\":\"u41\",\"23\":\"u42\",\"24\":\"u43\",\"25\":\"u44\",\"26\":\"u45\",\"27\":\"u46\",\"28\":\"u47\",\"29\":\"u49\",\"3\":\"u03\",\"30\":\"u51\",\"31\":\"u52\",\"32\":\"u53\",\"33\":\"u56\",\"34\":\"u57\",\"35\":\"u58\",\"36\":\"u59\",\"4\":\"u04\",\"5\":\"u08\",\"6\":\"u10\",\"7\":\"u12\",\"8\":\"u14\",\"9\":\"u16\"},\"major_label_policy\":{\"id\":\"7972\"},\"ticker\":{\"id\":\"7443\"}},\"id\":\"7442\",\"type\":\"LinearAxis\"},{\"attributes\":{\"fill_color\":{\"value\":\"#23878D\"},\"hatch_color\":{\"value\":\"#23878D\"},\"line_color\":{\"value\":\"#23878D\"},\"x\":{\"field\":\"date_time\"},\"y\":{\"field\":\"y_index\"}},\"id\":\"7599\",\"type\":\"Circle\"},{\"attributes\":{\"callback\":null,\"tooltips\":[[\"date_time\",\"@date_time\"]]},\"id\":\"7426\",\"type\":\"HoverTool\"},{\"attributes\":{\"axis_label\":\"Event Time\",\"coordinates\":null,\"formatter\":{\"id\":\"7705\"},\"group\":null,\"major_label_policy\":{\"id\":\"7974\"},\"ticker\":{\"id\":\"7439\"}},\"id\":\"7438\",\"type\":\"DatetimeAxis\"},{\"attributes\":{\"end\":1370997432000.0,\"start\":1366508088000.0},\"id\":\"7430\",\"type\":\"Range1d\"},{\"attributes\":{\"source\":{\"id\":\"7409\"}},\"id\":\"7603\",\"type\":\"CDSView\"},{\"attributes\":{\"coordinates\":null,\"formatter\":{\"id\":\"7476\"},\"group\":null,\"major_label_policy\":{\"id\":\"7976\"},\"ticker\":{\"id\":\"7471\"}},\"id\":\"7470\",\"type\":\"DatetimeAxis\"},{\"attributes\":{},\"id\":\"7434\",\"type\":\"LinearScale\"},{\"attributes\":{\"fill_alpha\":{\"value\":0.1},\"fill_color\":{\"value\":\"#23878D\"},\"hatch_alpha\":{\"value\":0.1},\"hatch_color\":{\"value\":\"#23878D\"},\"line_alpha\":{\"value\":0.1},\"line_color\":{\"value\":\"#23878D\"},\"x\":{\"field\":\"date_time\"},\"y\":{\"field\":\"y_index\"}},\"id\":\"7600\",\"type\":\"Circle\"},{\"attributes\":{\"source\":{\"id\":\"7408\"}},\"id\":\"7597\",\"type\":\"CDSView\"},{\"attributes\":{\"num_minor_ticks\":5,\"tickers\":[{\"id\":\"8065\"},{\"id\":\"8066\"},{\"id\":\"8067\"},{\"id\":\"8068\"},{\"id\":\"8069\"},{\"id\":\"8070\"},{\"id\":\"8071\"},{\"id\":\"8072\"},{\"id\":\"8073\"},{\"id\":\"8074\"},{\"id\":\"8075\"},{\"id\":\"8076\"}]},\"id\":\"7471\",\"type\":\"DatetimeTicker\"},{\"attributes\":{\"fill_alpha\":{\"value\":0.2},\"fill_color\":{\"value\":\"#1F928C\"},\"hatch_alpha\":{\"value\":0.2},\"hatch_color\":{\"value\":\"#1F928C\"},\"line_alpha\":{\"value\":0.2},\"line_color\":{\"value\":\"#1F928C\"},\"x\":{\"field\":\"date_time\"},\"y\":{\"field\":\"y_index\"}},\"id\":\"7613\",\"type\":\"Circle\"},{\"attributes\":{\"coordinates\":null,\"group\":null,\"text\":\"Timeline: Events\"},\"id\":\"7428\",\"type\":\"Title\"},{\"attributes\":{\"fill_color\":{\"value\":\"#1F928C\"},\"hatch_color\":{\"value\":\"#1F928C\"},\"line_color\":{\"value\":\"#1F928C\"},\"x\":{\"field\":\"date_time\"},\"y\":{\"field\":\"y_index\"}},\"id\":\"7611\",\"type\":\"Circle\"},{\"attributes\":{\"data\":{\"date_time\":{\"__ndarray__\":\"AADcNFDlc0IAAAYMMuRzQgAA3ssh5HNCAACu2Z3kc0IAAK6iPuRzQgAAcJ5x5HNCAADqjL3kc0IAAD7skOVzQgAAErgP5XNCAAA6RD3lc0IAAPynNeVzQgAAHuha5XNCAACGWlPlc0IAAJIwreVzQgAAsFnP5XNCAABiPinmc0IAAASQF+ZzQgAAtKBH5nNCAACSUk7mc0IAAKj6YuZzQgAAMCV05nNCAABcebTpc0IAAPpA2eZzQgAAgAV/53NCAAA8DMjqc0IAAAxxD+dzQgAA0pAo6HNCAACsFm7oc0IAAJCEHedzQgAAYN+n5nNCAADsJrXnc0IAAEADDOhzQgAARr+05nNCAACAggLnc0IAAJTRjuhzQgAA0idy6XNCAACYpE/nc0IAAChkO+hzQgAAsJNU6nNCAACuKsPmc0IAALDmW+pzQgAAHsPm53NCAACoKPboc0IAABjlnOhzQgAAHHgy6XNCAACAKzfrc0IAADzNjetzQgAA+Bvd63NCAADsg8zrc0IAACB/f+tzQgAAAhcj7HNCAAC2TCrsc0IAAL7GTexzQgAAzN+A7HNCAAAiFG/sc0IAABTfk+xzQgAAqiLY7HNCAADUpcHsc0IAAJoZ0+xzQgAAYlM67XNCAAAwAybtc0IAAPi5EO1zQgAAEvuz7nNCAADQsF/tc0IAAHL0ee1zQgAATipm73NCAAAGp+Xvc0IAAEaBvu1zQgAA5Hxv7nNCAACKRUvvc0IAADr2kO5zQgAAJlMM7nNCAADKcTruc0IAALZDXu5zQgAA+C3I7nNCAAAIpnzuc0IAAAZVz+5zQgAAfg4W73NCAAD6i1jvc0IAACA2iO9zQgAANiq673NCAAAoXaTvc0IAAPpoxu9zQgAAEHiv8HNCAADYc83wc0IAAJiAH/BzQgAAKq1g8HNCAAA2mHjwc0IAAHr8GvFzQgAAJgsG8XNCAABmx1Txc0IAAErGVPBzQgAA1JoT8XNCAAAaSmrwc0IAACyx//BzQgAAXsq08HNCAADWBnjxc0IAAPxB+PFzQg==\",\"dtype\":\"float64\",\"order\":\"little\",\"shape\":[98]},\"index\":[46,47,48,49,50,51,52,53,54,55,56,57,58,59,60,61,62,63,64,65,66,67,68,69,70,71,72,73,74,75,76,77,78,79,80,81,82,83,84,85,86,87,88,89,90,91,92,93,94,95,96,97,98,99,100,101,102,103,104,105,106,107,108,109,110,111,112,113,114,115,116,117,118,119,120,121,122,123,124,125,126,127,128,129,130,131,132,133,134,135,136,137,138,139,140,141,142,143],\"y_index\":[36,36,36,36,36,36,36,36,36,36,36,36,36,36,36,36,36,36,36,36,36,36,36,36,36,36,36,36,36,36,36,36,36,36,36,36,36,36,36,36,36,36,36,36,36,36,36,36,36,36,36,36,36,36,36,36,36,36,36,36,36,36,36,36,36,36,36,36,36,36,36,36,36,36,36,36,36,36,36,36,36,36,36,36,36,36,36,36,36,36,36,36,36,36,36,36,36,36]},\"selected\":{\"id\":\"8050\"},\"selection_policy\":{\"id\":\"8049\"}},\"id\":\"7425\",\"type\":\"ColumnDataSource\"},{\"attributes\":{\"fill_alpha\":{\"value\":0.1},\"fill_color\":{\"value\":\"#1F928C\"},\"hatch_alpha\":{\"value\":0.1},\"hatch_color\":{\"value\":\"#1F928C\"},\"line_alpha\":{\"value\":0.1},\"line_color\":{\"value\":\"#1F928C\"},\"x\":{\"field\":\"date_time\"},\"y\":{\"field\":\"y_index\"}},\"id\":\"7612\",\"type\":\"Circle\"},{\"attributes\":{\"data\":{\"date_time\":{\"__ndarray__\":\"AAACccHkc0IAAAT88+hzQgAAngJD6nNCAACYMdzrc0IAAIqRaO9zQgAAmt6v8HNC\",\"dtype\":\"float64\",\"order\":\"little\",\"shape\":[6]},\"index\":[384,385,386,387,388,389],\"y_index\":[33,33,33,33,33,33]},\"selected\":{\"id\":\"8044\"},\"selection_policy\":{\"id\":\"8043\"}},\"id\":\"7422\",\"type\":\"ColumnDataSource\"},{\"attributes\":{\"fill_alpha\":{\"value\":0.2},\"fill_color\":{\"value\":\"#2FB37B\"},\"hatch_alpha\":{\"value\":0.2},\"hatch_color\":{\"value\":\"#2FB37B\"},\"line_alpha\":{\"value\":0.2},\"line_color\":{\"value\":\"#2FB37B\"},\"x\":{\"field\":\"date_time\"},\"y\":{\"field\":\"y_index\"}},\"id\":\"7649\",\"type\":\"Circle\"},{\"attributes\":{},\"id\":\"7436\",\"type\":\"LinearScale\"},{\"attributes\":{\"fill_alpha\":{\"value\":0.1},\"fill_color\":{\"value\":\"#218C8D\"},\"hatch_alpha\":{\"value\":0.1},\"hatch_color\":{\"value\":\"#218C8D\"},\"line_alpha\":{\"value\":0.1},\"line_color\":{\"value\":\"#218C8D\"},\"x\":{\"field\":\"date_time\"},\"y\":{\"field\":\"y_index\"}},\"id\":\"7606\",\"type\":\"Circle\"},{\"attributes\":{\"data\":{\"date_time\":{\"__ndarray__\":\"AACy2+Lkc0IAAHb2a+ZzQgAA1mL453NCAADYs6Xnc0IAAKIZRupzQgAAlMqk6HNCAACOaO3pc0IAAMYF++hzQgAA5CBJ6XNCAAAMei7sc0IAAB6Ny+1zQgAAZghx7nNC\",\"dtype\":\"float64\",\"order\":\"little\",\"shape\":[12]},\"index\":[34,35,36,37,38,39,40,41,42,43,44,45],\"y_index\":[32,32,32,32,32,32,32,32,32,32,32,32]},\"selected\":{\"id\":\"8042\"},\"selection_policy\":{\"id\":\"8041\"}},\"id\":\"7421\",\"type\":\"ColumnDataSource\"},{\"attributes\":{\"fill_alpha\":{\"value\":0.1},\"fill_color\":{\"value\":\"#28AE7F\"},\"hatch_alpha\":{\"value\":0.1},\"hatch_color\":{\"value\":\"#28AE7F\"},\"line_alpha\":{\"value\":0.1},\"line_color\":{\"value\":\"#28AE7F\"},\"x\":{\"field\":\"date_time\"},\"y\":{\"field\":\"y_index\"}},\"id\":\"7642\",\"type\":\"Circle\"},{\"attributes\":{\"data\":{\"date_time\":{\"__ndarray__\":\"AAAMT27mc0IAAKriWedzQgAAuOvW6XNCAACq4lnnc0IAAAKJpehzQgAAkD7553NCAAB+//3oc0IAAORekulzQgAANHft6XNCAABYly7sc0IAAHy9aO9zQgAAxDIV73NC\",\"dtype\":\"float64\",\"order\":\"little\",\"shape\":[12]},\"index\":[325,326,327,328,329,330,331,332,333,334,335,336],\"y_index\":[30,30,30,30,30,30,30,30,30,30,30,30]},\"selected\":{\"id\":\"8038\"},\"selection_policy\":{\"id\":\"8037\"}},\"id\":\"7419\",\"type\":\"ColumnDataSource\"},{\"attributes\":{\"data\":{\"date_time\":{\"__ndarray__\":\"AACo7nDkc0IAANr3b+ZzQgAAdlxP6HNCAABMa6fnc0IAAIhdAedzQgAAcNj26HNCAAAE9vrnc0IAADA+SelzQgAAbqy95nNCAACyraLpc0IAAOhZ7elzQgAAPkDc63NCAABa7tTsc0IAAM7Hd+1zQgAADBdx7nNCAADSb8vtc0IAAAgGZ+9zQgAAQO2v8HNCAADSnV7wc0I=\",\"dtype\":\"float64\",\"order\":\"little\",\"shape\":[19]},\"index\":[281,282,283,284,285,286,287,288,289,290,291,292,293,294,295,296,297,298,299],\"y_index\":[34,34,34,34,34,34,34,34,34,34,34,34,34,34,34,34,34,34,34]},\"selected\":{\"id\":\"8046\"},\"selection_policy\":{\"id\":\"8045\"}},\"id\":\"7423\",\"type\":\"ColumnDataSource\"},{\"attributes\":{\"data\":{\"date_time\":{\"__ndarray__\":\"AAD85m/kc0IAAD51BudzQgAA6IeA7HNC\",\"dtype\":\"float64\",\"order\":\"little\",\"shape\":[3]},\"index\":[244,245,246],\"y_index\":[31,31,31]},\"selected\":{\"id\":\"8040\"},\"selection_policy\":{\"id\":\"8039\"}},\"id\":\"7420\",\"type\":\"ColumnDataSource\"},{\"attributes\":{},\"id\":\"7448\",\"type\":\"ResetTool\"},{\"attributes\":{\"data\":{\"date_time\":{\"__ndarray__\":\"AACG+mjkc0IAAP7IbeRzQgAANOlv5nNCAAD8KcHmc0IAABSKV+dzQgAAqCj26HNCAABcZPbpc0IAAFK9qOhzQgAADtSn6XNCAADS2IHsc0IAAALDKu1zQgAA5mRm73NCAADG0NDtc0IAAJSFxO9zQgAARA1/7nNCAACytsHuc0IAAAw/C/BzQg==\",\"dtype\":\"float64\",\"order\":\"little\",\"shape\":[17]},\"index\":[263,264,265,266,267,268,269,270,271,273,274,275,276,277,278,279,280],\"y_index\":[35,35,35,35,35,35,35,35,35,35,35,35,35,35,35,35,35]},\"selected\":{\"id\":\"8048\"},\"selection_policy\":{\"id\":\"8047\"}},\"id\":\"7424\",\"type\":\"ColumnDataSource\"}],\"root_ids\":[\"7967\"]},\"title\":\"Bokeh Application\",\"version\":\"2.4.3\"}};\n  const render_items = [{\"docid\":\"d89a5618-34e2-494d-ab81-ebc72bca3c53\",\"root_ids\":[\"7967\"],\"roots\":{\"7967\":\"c69b483d-b8ae-42f6-85e8-052d9d18d384\"}}];\n  root.Bokeh.embed.embed_items_notebook(docs_json, render_items);\n  }\n  if (root.Bokeh !== undefined) {\n    embed_document(root);\n  } else {\n    let attempts = 0;\n    const timer = setInterval(function(root) {\n      if (root.Bokeh !== undefined) {\n        clearInterval(timer);\n        embed_document(root);\n      } else {\n        attempts++;\n        if (attempts > 100) {\n          clearInterval(timer);\n          console.log(\"Bokeh: ERROR: Unable to run BokehJS code because BokehJS library is missing\");\n        }\n      }\n    }, 10, root)\n  }\n})(window);",
      "application/vnd.bokehjs_exec.v0+json": ""
     },
     "metadata": {
      "application/vnd.bokehjs_exec.v0+json": {
       "id": "7967"
      }
     },
     "output_type": "display_data"
    },
    {
     "data": {
      "text/html": [
       "<div style=\"display: table;\"><div style=\"display: table-row;\"><div style=\"display: table-cell;\"><b title=\"bokeh.models.layouts.Column\">Column</b>(</div><div style=\"display: table-cell;\">id&nbsp;=&nbsp;'7967', <span id=\"8623\" style=\"cursor: pointer;\">&hellip;)</span></div></div><div class=\"8622\" style=\"display: none;\"><div style=\"display: table-cell;\"></div><div style=\"display: table-cell;\">align&nbsp;=&nbsp;'start',</div></div><div class=\"8622\" style=\"display: none;\"><div style=\"display: table-cell;\"></div><div style=\"display: table-cell;\">aspect_ratio&nbsp;=&nbsp;None,</div></div><div class=\"8622\" style=\"display: none;\"><div style=\"display: table-cell;\"></div><div style=\"display: table-cell;\">background&nbsp;=&nbsp;None,</div></div><div class=\"8622\" style=\"display: none;\"><div style=\"display: table-cell;\"></div><div style=\"display: table-cell;\">children&nbsp;=&nbsp;[Figure(id='7427', ...), Figure(id='7459', ...)],</div></div><div class=\"8622\" style=\"display: none;\"><div style=\"display: table-cell;\"></div><div style=\"display: table-cell;\">css_classes&nbsp;=&nbsp;[],</div></div><div class=\"8622\" style=\"display: none;\"><div style=\"display: table-cell;\"></div><div style=\"display: table-cell;\">disabled&nbsp;=&nbsp;False,</div></div><div class=\"8622\" style=\"display: none;\"><div style=\"display: table-cell;\"></div><div style=\"display: table-cell;\">height&nbsp;=&nbsp;None,</div></div><div class=\"8622\" style=\"display: none;\"><div style=\"display: table-cell;\"></div><div style=\"display: table-cell;\">height_policy&nbsp;=&nbsp;'auto',</div></div><div class=\"8622\" style=\"display: none;\"><div style=\"display: table-cell;\"></div><div style=\"display: table-cell;\">js_event_callbacks&nbsp;=&nbsp;{},</div></div><div class=\"8622\" style=\"display: none;\"><div style=\"display: table-cell;\"></div><div style=\"display: table-cell;\">js_property_callbacks&nbsp;=&nbsp;{},</div></div><div class=\"8622\" style=\"display: none;\"><div style=\"display: table-cell;\"></div><div style=\"display: table-cell;\">margin&nbsp;=&nbsp;(0, 0, 0, 0),</div></div><div class=\"8622\" style=\"display: none;\"><div style=\"display: table-cell;\"></div><div style=\"display: table-cell;\">max_height&nbsp;=&nbsp;None,</div></div><div class=\"8622\" style=\"display: none;\"><div style=\"display: table-cell;\"></div><div style=\"display: table-cell;\">max_width&nbsp;=&nbsp;None,</div></div><div class=\"8622\" style=\"display: none;\"><div style=\"display: table-cell;\"></div><div style=\"display: table-cell;\">min_height&nbsp;=&nbsp;None,</div></div><div class=\"8622\" style=\"display: none;\"><div style=\"display: table-cell;\"></div><div style=\"display: table-cell;\">min_width&nbsp;=&nbsp;None,</div></div><div class=\"8622\" style=\"display: none;\"><div style=\"display: table-cell;\"></div><div style=\"display: table-cell;\">name&nbsp;=&nbsp;None,</div></div><div class=\"8622\" style=\"display: none;\"><div style=\"display: table-cell;\"></div><div style=\"display: table-cell;\">rows&nbsp;=&nbsp;'auto',</div></div><div class=\"8622\" style=\"display: none;\"><div style=\"display: table-cell;\"></div><div style=\"display: table-cell;\">sizing_mode&nbsp;=&nbsp;None,</div></div><div class=\"8622\" style=\"display: none;\"><div style=\"display: table-cell;\"></div><div style=\"display: table-cell;\">spacing&nbsp;=&nbsp;0,</div></div><div class=\"8622\" style=\"display: none;\"><div style=\"display: table-cell;\"></div><div style=\"display: table-cell;\">subscribed_events&nbsp;=&nbsp;[],</div></div><div class=\"8622\" style=\"display: none;\"><div style=\"display: table-cell;\"></div><div style=\"display: table-cell;\">syncable&nbsp;=&nbsp;True,</div></div><div class=\"8622\" style=\"display: none;\"><div style=\"display: table-cell;\"></div><div style=\"display: table-cell;\">tags&nbsp;=&nbsp;[],</div></div><div class=\"8622\" style=\"display: none;\"><div style=\"display: table-cell;\"></div><div style=\"display: table-cell;\">visible&nbsp;=&nbsp;True,</div></div><div class=\"8622\" style=\"display: none;\"><div style=\"display: table-cell;\"></div><div style=\"display: table-cell;\">width&nbsp;=&nbsp;None,</div></div><div class=\"8622\" style=\"display: none;\"><div style=\"display: table-cell;\"></div><div style=\"display: table-cell;\">width_policy&nbsp;=&nbsp;'auto')</div></div></div>\n",
       "<script>\n",
       "(function() {\n",
       "  let expanded = false;\n",
       "  const ellipsis = document.getElementById(\"8623\");\n",
       "  ellipsis.addEventListener(\"click\", function() {\n",
       "    const rows = document.getElementsByClassName(\"8622\");\n",
       "    for (let i = 0; i < rows.length; i++) {\n",
       "      const el = rows[i];\n",
       "      el.style.display = expanded ? \"none\" : \"table-row\";\n",
       "    }\n",
       "    ellipsis.innerHTML = expanded ? \"&hellip;)\" : \"&lsaquo;&lsaquo;&lsaquo;\";\n",
       "    expanded = !expanded;\n",
       "  });\n",
       "})();\n",
       "</script>\n"
      ],
      "text/plain": [
       "Column(id='7967', ...)"
      ]
     },
     "execution_count": 97,
     "metadata": {},
     "output_type": "execute_result"
    }
   ],
   "source": [
    "display_timeline(mood2_ema_df[['user_id','date_time']],time_column=\"date_time\",group_by='user_id')"
   ]
  },
  {
   "cell_type": "code",
   "execution_count": 50,
   "metadata": {},
   "outputs": [
    {
     "data": {
      "text/html": [
       "<div>\n",
       "<style scoped>\n",
       "    .dataframe tbody tr th:only-of-type {\n",
       "        vertical-align: middle;\n",
       "    }\n",
       "\n",
       "    .dataframe tbody tr th {\n",
       "        vertical-align: top;\n",
       "    }\n",
       "\n",
       "    .dataframe thead th {\n",
       "        text-align: right;\n",
       "    }\n",
       "</style>\n",
       "<table border=\"1\" class=\"dataframe\">\n",
       "  <thead>\n",
       "    <tr style=\"text-align: right;\">\n",
       "      <th></th>\n",
       "      <th>user_id</th>\n",
       "      <th>date_time</th>\n",
       "      <th>year</th>\n",
       "      <th>month</th>\n",
       "      <th>day</th>\n",
       "      <th>hours</th>\n",
       "      <th>minute</th>\n",
       "      <th>weekday</th>\n",
       "      <th>weeknumber</th>\n",
       "      <th>label_source</th>\n",
       "      <th>rating</th>\n",
       "    </tr>\n",
       "  </thead>\n",
       "  <tbody>\n",
       "    <tr>\n",
       "      <th>0</th>\n",
       "      <td>u00</td>\n",
       "      <td>2013-03-25 11:54:00</td>\n",
       "      <td>2013</td>\n",
       "      <td>03</td>\n",
       "      <td>25</td>\n",
       "      <td>11</td>\n",
       "      <td>54</td>\n",
       "      <td>Mon</td>\n",
       "      <td>12</td>\n",
       "      <td>stress_ema</td>\n",
       "      <td>2</td>\n",
       "    </tr>\n",
       "    <tr>\n",
       "      <th>1</th>\n",
       "      <td>u00</td>\n",
       "      <td>2013-03-25 20:33:00</td>\n",
       "      <td>2013</td>\n",
       "      <td>03</td>\n",
       "      <td>25</td>\n",
       "      <td>20</td>\n",
       "      <td>33</td>\n",
       "      <td>Mon</td>\n",
       "      <td>12</td>\n",
       "      <td>stress_ema</td>\n",
       "      <td>2</td>\n",
       "    </tr>\n",
       "    <tr>\n",
       "      <th>3</th>\n",
       "      <td>u00</td>\n",
       "      <td>2013-03-26 18:12:00</td>\n",
       "      <td>2013</td>\n",
       "      <td>03</td>\n",
       "      <td>26</td>\n",
       "      <td>18</td>\n",
       "      <td>12</td>\n",
       "      <td>Tue</td>\n",
       "      <td>12</td>\n",
       "      <td>stress_ema</td>\n",
       "      <td>1</td>\n",
       "    </tr>\n",
       "    <tr>\n",
       "      <th>4</th>\n",
       "      <td>u00</td>\n",
       "      <td>2013-03-27 19:25:00</td>\n",
       "      <td>2013</td>\n",
       "      <td>03</td>\n",
       "      <td>27</td>\n",
       "      <td>19</td>\n",
       "      <td>25</td>\n",
       "      <td>Wed</td>\n",
       "      <td>12</td>\n",
       "      <td>stress_ema</td>\n",
       "      <td>1</td>\n",
       "    </tr>\n",
       "    <tr>\n",
       "      <th>5</th>\n",
       "      <td>u00</td>\n",
       "      <td>2013-03-28 11:43:00</td>\n",
       "      <td>2013</td>\n",
       "      <td>03</td>\n",
       "      <td>28</td>\n",
       "      <td>11</td>\n",
       "      <td>43</td>\n",
       "      <td>Thu</td>\n",
       "      <td>12</td>\n",
       "      <td>stress_ema</td>\n",
       "      <td>2</td>\n",
       "    </tr>\n",
       "  </tbody>\n",
       "</table>\n",
       "</div>"
      ],
      "text/plain": [
       "  user_id           date_time  year month day hours minute weekday weeknumber  \\\n",
       "0     u00 2013-03-25 11:54:00  2013    03  25    11     54     Mon         12   \n",
       "1     u00 2013-03-25 20:33:00  2013    03  25    20     33     Mon         12   \n",
       "3     u00 2013-03-26 18:12:00  2013    03  26    18     12     Tue         12   \n",
       "4     u00 2013-03-27 19:25:00  2013    03  27    19     25     Wed         12   \n",
       "5     u00 2013-03-28 11:43:00  2013    03  28    11     43     Thu         12   \n",
       "\n",
       "  label_source rating  \n",
       "0   stress_ema      2  \n",
       "1   stress_ema      2  \n",
       "3   stress_ema      1  \n",
       "4   stress_ema      1  \n",
       "5   stress_ema      2  "
      ]
     },
     "execution_count": 50,
     "metadata": {},
     "output_type": "execute_result"
    }
   ],
   "source": [
    "stress_ema_sort_df.head()"
   ]
  },
  {
   "cell_type": "code",
   "execution_count": 51,
   "metadata": {},
   "outputs": [
    {
     "data": {
      "text/html": [
       "<div>\n",
       "<style scoped>\n",
       "    .dataframe tbody tr th:only-of-type {\n",
       "        vertical-align: middle;\n",
       "    }\n",
       "\n",
       "    .dataframe tbody tr th {\n",
       "        vertical-align: top;\n",
       "    }\n",
       "\n",
       "    .dataframe thead th {\n",
       "        text-align: right;\n",
       "    }\n",
       "</style>\n",
       "<table border=\"1\" class=\"dataframe\">\n",
       "  <thead>\n",
       "    <tr style=\"text-align: right;\">\n",
       "      <th></th>\n",
       "      <th>user_id</th>\n",
       "      <th>date_time</th>\n",
       "      <th>year</th>\n",
       "      <th>month</th>\n",
       "      <th>day</th>\n",
       "      <th>hours</th>\n",
       "      <th>minute</th>\n",
       "      <th>weekday</th>\n",
       "      <th>weeknumber</th>\n",
       "      <th>label_source</th>\n",
       "      <th>rating</th>\n",
       "    </tr>\n",
       "  </thead>\n",
       "  <tbody>\n",
       "    <tr>\n",
       "      <th>0</th>\n",
       "      <td>u17</td>\n",
       "      <td>04/26/2013, 16:09</td>\n",
       "      <td>2013</td>\n",
       "      <td>04</td>\n",
       "      <td>26</td>\n",
       "      <td>16</td>\n",
       "      <td>09</td>\n",
       "      <td>Fri</td>\n",
       "      <td>16</td>\n",
       "      <td>mood2_ema</td>\n",
       "      <td>2</td>\n",
       "    </tr>\n",
       "    <tr>\n",
       "      <th>1</th>\n",
       "      <td>u17</td>\n",
       "      <td>04/26/2013, 00:27</td>\n",
       "      <td>2013</td>\n",
       "      <td>04</td>\n",
       "      <td>26</td>\n",
       "      <td>00</td>\n",
       "      <td>27</td>\n",
       "      <td>Fri</td>\n",
       "      <td>16</td>\n",
       "      <td>mood2_ema</td>\n",
       "      <td>2</td>\n",
       "    </tr>\n",
       "    <tr>\n",
       "      <th>2</th>\n",
       "      <td>u17</td>\n",
       "      <td>04/27/2013, 17:23</td>\n",
       "      <td>2013</td>\n",
       "      <td>04</td>\n",
       "      <td>27</td>\n",
       "      <td>17</td>\n",
       "      <td>23</td>\n",
       "      <td>Sat</td>\n",
       "      <td>16</td>\n",
       "      <td>mood2_ema</td>\n",
       "      <td>3</td>\n",
       "    </tr>\n",
       "    <tr>\n",
       "      <th>3</th>\n",
       "      <td>u17</td>\n",
       "      <td>04/28/2013, 21:33</td>\n",
       "      <td>2013</td>\n",
       "      <td>04</td>\n",
       "      <td>28</td>\n",
       "      <td>21</td>\n",
       "      <td>33</td>\n",
       "      <td>Sun</td>\n",
       "      <td>16</td>\n",
       "      <td>mood2_ema</td>\n",
       "      <td>2</td>\n",
       "    </tr>\n",
       "    <tr>\n",
       "      <th>4</th>\n",
       "      <td>u17</td>\n",
       "      <td>05/13/2013, 20:59</td>\n",
       "      <td>2013</td>\n",
       "      <td>05</td>\n",
       "      <td>13</td>\n",
       "      <td>20</td>\n",
       "      <td>59</td>\n",
       "      <td>Mon</td>\n",
       "      <td>19</td>\n",
       "      <td>mood2_ema</td>\n",
       "      <td>2</td>\n",
       "    </tr>\n",
       "  </tbody>\n",
       "</table>\n",
       "</div>"
      ],
      "text/plain": [
       "  user_id          date_time  year month day hours minute weekday weeknumber  \\\n",
       "0     u17  04/26/2013, 16:09  2013    04  26    16     09     Fri         16   \n",
       "1     u17  04/26/2013, 00:27  2013    04  26    00     27     Fri         16   \n",
       "2     u17  04/27/2013, 17:23  2013    04  27    17     23     Sat         16   \n",
       "3     u17  04/28/2013, 21:33  2013    04  28    21     33     Sun         16   \n",
       "4     u17  05/13/2013, 20:59  2013    05  13    20     59     Mon         19   \n",
       "\n",
       "  label_source rating  \n",
       "0    mood2_ema      2  \n",
       "1    mood2_ema      2  \n",
       "2    mood2_ema      3  \n",
       "3    mood2_ema      2  \n",
       "4    mood2_ema      2  "
      ]
     },
     "execution_count": 51,
     "metadata": {},
     "output_type": "execute_result"
    }
   ],
   "source": [
    "mood2_ema_df.head()"
   ]
  },
  {
   "cell_type": "code",
   "execution_count": 52,
   "metadata": {},
   "outputs": [
    {
     "data": {
      "text/plain": [
       "(2128, 414, 2542)"
      ]
     },
     "execution_count": 52,
     "metadata": {},
     "output_type": "execute_result"
    }
   ],
   "source": [
    "len(stress_ema_sort_df),len(mood2_ema_df),len(stress_ema_sort_df)+len(mood2_ema_df)"
   ]
  },
  {
   "cell_type": "code",
   "execution_count": 53,
   "metadata": {},
   "outputs": [
    {
     "data": {
      "text/html": [
       "<div>\n",
       "<style scoped>\n",
       "    .dataframe tbody tr th:only-of-type {\n",
       "        vertical-align: middle;\n",
       "    }\n",
       "\n",
       "    .dataframe tbody tr th {\n",
       "        vertical-align: top;\n",
       "    }\n",
       "\n",
       "    .dataframe thead th {\n",
       "        text-align: right;\n",
       "    }\n",
       "</style>\n",
       "<table border=\"1\" class=\"dataframe\">\n",
       "  <thead>\n",
       "    <tr style=\"text-align: right;\">\n",
       "      <th></th>\n",
       "      <th>user_id</th>\n",
       "      <th>date_time</th>\n",
       "      <th>year</th>\n",
       "      <th>month</th>\n",
       "      <th>day</th>\n",
       "      <th>hours</th>\n",
       "      <th>minute</th>\n",
       "      <th>weekday</th>\n",
       "      <th>weeknumber</th>\n",
       "      <th>label_source</th>\n",
       "      <th>rating</th>\n",
       "    </tr>\n",
       "  </thead>\n",
       "  <tbody>\n",
       "    <tr>\n",
       "      <th>0</th>\n",
       "      <td>u00</td>\n",
       "      <td>2013-03-25 11:54:00</td>\n",
       "      <td>2013</td>\n",
       "      <td>03</td>\n",
       "      <td>25</td>\n",
       "      <td>11</td>\n",
       "      <td>54</td>\n",
       "      <td>Mon</td>\n",
       "      <td>12</td>\n",
       "      <td>stress_ema</td>\n",
       "      <td>2</td>\n",
       "    </tr>\n",
       "    <tr>\n",
       "      <th>1</th>\n",
       "      <td>u00</td>\n",
       "      <td>2013-03-25 20:33:00</td>\n",
       "      <td>2013</td>\n",
       "      <td>03</td>\n",
       "      <td>25</td>\n",
       "      <td>20</td>\n",
       "      <td>33</td>\n",
       "      <td>Mon</td>\n",
       "      <td>12</td>\n",
       "      <td>stress_ema</td>\n",
       "      <td>2</td>\n",
       "    </tr>\n",
       "    <tr>\n",
       "      <th>2</th>\n",
       "      <td>u00</td>\n",
       "      <td>2013-03-26 18:12:00</td>\n",
       "      <td>2013</td>\n",
       "      <td>03</td>\n",
       "      <td>26</td>\n",
       "      <td>18</td>\n",
       "      <td>12</td>\n",
       "      <td>Tue</td>\n",
       "      <td>12</td>\n",
       "      <td>stress_ema</td>\n",
       "      <td>1</td>\n",
       "    </tr>\n",
       "    <tr>\n",
       "      <th>3</th>\n",
       "      <td>u00</td>\n",
       "      <td>2013-03-27 19:25:00</td>\n",
       "      <td>2013</td>\n",
       "      <td>03</td>\n",
       "      <td>27</td>\n",
       "      <td>19</td>\n",
       "      <td>25</td>\n",
       "      <td>Wed</td>\n",
       "      <td>12</td>\n",
       "      <td>stress_ema</td>\n",
       "      <td>1</td>\n",
       "    </tr>\n",
       "    <tr>\n",
       "      <th>4</th>\n",
       "      <td>u00</td>\n",
       "      <td>2013-03-28 11:43:00</td>\n",
       "      <td>2013</td>\n",
       "      <td>03</td>\n",
       "      <td>28</td>\n",
       "      <td>11</td>\n",
       "      <td>43</td>\n",
       "      <td>Thu</td>\n",
       "      <td>12</td>\n",
       "      <td>stress_ema</td>\n",
       "      <td>2</td>\n",
       "    </tr>\n",
       "    <tr>\n",
       "      <th>...</th>\n",
       "      <td>...</td>\n",
       "      <td>...</td>\n",
       "      <td>...</td>\n",
       "      <td>...</td>\n",
       "      <td>...</td>\n",
       "      <td>...</td>\n",
       "      <td>...</td>\n",
       "      <td>...</td>\n",
       "      <td>...</td>\n",
       "      <td>...</td>\n",
       "      <td>...</td>\n",
       "    </tr>\n",
       "    <tr>\n",
       "      <th>2537</th>\n",
       "      <td>u10</td>\n",
       "      <td>05/09/2013, 15:48</td>\n",
       "      <td>2013</td>\n",
       "      <td>05</td>\n",
       "      <td>09</td>\n",
       "      <td>15</td>\n",
       "      <td>48</td>\n",
       "      <td>Thu</td>\n",
       "      <td>18</td>\n",
       "      <td>mood2_ema</td>\n",
       "      <td>2</td>\n",
       "    </tr>\n",
       "    <tr>\n",
       "      <th>2538</th>\n",
       "      <td>u10</td>\n",
       "      <td>05/06/2013, 16:42</td>\n",
       "      <td>2013</td>\n",
       "      <td>05</td>\n",
       "      <td>06</td>\n",
       "      <td>16</td>\n",
       "      <td>42</td>\n",
       "      <td>Mon</td>\n",
       "      <td>18</td>\n",
       "      <td>mood2_ema</td>\n",
       "      <td>3</td>\n",
       "    </tr>\n",
       "    <tr>\n",
       "      <th>2539</th>\n",
       "      <td>u10</td>\n",
       "      <td>05/28/2013, 17:52</td>\n",
       "      <td>2013</td>\n",
       "      <td>05</td>\n",
       "      <td>28</td>\n",
       "      <td>17</td>\n",
       "      <td>52</td>\n",
       "      <td>Tue</td>\n",
       "      <td>21</td>\n",
       "      <td>mood2_ema</td>\n",
       "      <td>3</td>\n",
       "    </tr>\n",
       "    <tr>\n",
       "      <th>2540</th>\n",
       "      <td>u10</td>\n",
       "      <td>05/30/2013, 18:29</td>\n",
       "      <td>2013</td>\n",
       "      <td>05</td>\n",
       "      <td>30</td>\n",
       "      <td>18</td>\n",
       "      <td>29</td>\n",
       "      <td>Thu</td>\n",
       "      <td>21</td>\n",
       "      <td>mood2_ema</td>\n",
       "      <td>1</td>\n",
       "    </tr>\n",
       "    <tr>\n",
       "      <th>2541</th>\n",
       "      <td>u10</td>\n",
       "      <td>06/02/2013, 18:09</td>\n",
       "      <td>2013</td>\n",
       "      <td>06</td>\n",
       "      <td>02</td>\n",
       "      <td>18</td>\n",
       "      <td>09</td>\n",
       "      <td>Sun</td>\n",
       "      <td>21</td>\n",
       "      <td>mood2_ema</td>\n",
       "      <td>1</td>\n",
       "    </tr>\n",
       "  </tbody>\n",
       "</table>\n",
       "<p>2542 rows × 11 columns</p>\n",
       "</div>"
      ],
      "text/plain": [
       "     user_id            date_time  year month day hours minute weekday  \\\n",
       "0        u00  2013-03-25 11:54:00  2013    03  25    11     54     Mon   \n",
       "1        u00  2013-03-25 20:33:00  2013    03  25    20     33     Mon   \n",
       "2        u00  2013-03-26 18:12:00  2013    03  26    18     12     Tue   \n",
       "3        u00  2013-03-27 19:25:00  2013    03  27    19     25     Wed   \n",
       "4        u00  2013-03-28 11:43:00  2013    03  28    11     43     Thu   \n",
       "...      ...                  ...   ...   ...  ..   ...    ...     ...   \n",
       "2537     u10    05/09/2013, 15:48  2013    05  09    15     48     Thu   \n",
       "2538     u10    05/06/2013, 16:42  2013    05  06    16     42     Mon   \n",
       "2539     u10    05/28/2013, 17:52  2013    05  28    17     52     Tue   \n",
       "2540     u10    05/30/2013, 18:29  2013    05  30    18     29     Thu   \n",
       "2541     u10    06/02/2013, 18:09  2013    06  02    18     09     Sun   \n",
       "\n",
       "     weeknumber label_source rating  \n",
       "0            12   stress_ema      2  \n",
       "1            12   stress_ema      2  \n",
       "2            12   stress_ema      1  \n",
       "3            12   stress_ema      1  \n",
       "4            12   stress_ema      2  \n",
       "...         ...          ...    ...  \n",
       "2537         18    mood2_ema      2  \n",
       "2538         18    mood2_ema      3  \n",
       "2539         21    mood2_ema      3  \n",
       "2540         21    mood2_ema      1  \n",
       "2541         21    mood2_ema      1  \n",
       "\n",
       "[2542 rows x 11 columns]"
      ]
     },
     "execution_count": 53,
     "metadata": {},
     "output_type": "execute_result"
    }
   ],
   "source": [
    "label_df = pd.concat([stress_ema_sort_df,mood2_ema_df],ignore_index=True)\n",
    "\n",
    "label_df"
   ]
  },
  {
   "cell_type": "code",
   "execution_count": 57,
   "metadata": {},
   "outputs": [],
   "source": [
    "label_df.to_csv('./data/label_df.csv',index= False)"
   ]
  },
  {
   "cell_type": "code",
   "execution_count": null,
   "metadata": {},
   "outputs": [
    {
     "data": {
      "text/html": [
       "<div class=\"bk-root\">\n",
       "        <a href=\"https://bokeh.org\" target=\"_blank\" class=\"bk-logo bk-logo-small bk-logo-notebook\"></a>\n",
       "        <span id=\"8624\">Loading BokehJS ...</span>\n",
       "    </div>\n"
      ]
     },
     "metadata": {},
     "output_type": "display_data"
    },
    {
     "data": {
      "application/javascript": "(function(root) {\n  function now() {\n    return new Date();\n  }\n\n  const force = true;\n\n  if (typeof root._bokeh_onload_callbacks === \"undefined\" || force === true) {\n    root._bokeh_onload_callbacks = [];\n    root._bokeh_is_loading = undefined;\n  }\n\nconst JS_MIME_TYPE = 'application/javascript';\n  const HTML_MIME_TYPE = 'text/html';\n  const EXEC_MIME_TYPE = 'application/vnd.bokehjs_exec.v0+json';\n  const CLASS_NAME = 'output_bokeh rendered_html';\n\n  /**\n   * Render data to the DOM node\n   */\n  function render(props, node) {\n    const script = document.createElement(\"script\");\n    node.appendChild(script);\n  }\n\n  /**\n   * Handle when an output is cleared or removed\n   */\n  function handleClearOutput(event, handle) {\n    const cell = handle.cell;\n\n    const id = cell.output_area._bokeh_element_id;\n    const server_id = cell.output_area._bokeh_server_id;\n    // Clean up Bokeh references\n    if (id != null && id in Bokeh.index) {\n      Bokeh.index[id].model.document.clear();\n      delete Bokeh.index[id];\n    }\n\n    if (server_id !== undefined) {\n      // Clean up Bokeh references\n      const cmd_clean = \"from bokeh.io.state import curstate; print(curstate().uuid_to_server['\" + server_id + \"'].get_sessions()[0].document.roots[0]._id)\";\n      cell.notebook.kernel.execute(cmd_clean, {\n        iopub: {\n          output: function(msg) {\n            const id = msg.content.text.trim();\n            if (id in Bokeh.index) {\n              Bokeh.index[id].model.document.clear();\n              delete Bokeh.index[id];\n            }\n          }\n        }\n      });\n      // Destroy server and session\n      const cmd_destroy = \"import bokeh.io.notebook as ion; ion.destroy_server('\" + server_id + \"')\";\n      cell.notebook.kernel.execute(cmd_destroy);\n    }\n  }\n\n  /**\n   * Handle when a new output is added\n   */\n  function handleAddOutput(event, handle) {\n    const output_area = handle.output_area;\n    const output = handle.output;\n\n    // limit handleAddOutput to display_data with EXEC_MIME_TYPE content only\n    if ((output.output_type != \"display_data\") || (!Object.prototype.hasOwnProperty.call(output.data, EXEC_MIME_TYPE))) {\n      return\n    }\n\n    const toinsert = output_area.element.find(\".\" + CLASS_NAME.split(' ')[0]);\n\n    if (output.metadata[EXEC_MIME_TYPE][\"id\"] !== undefined) {\n      toinsert[toinsert.length - 1].firstChild.textContent = output.data[JS_MIME_TYPE];\n      // store reference to embed id on output_area\n      output_area._bokeh_element_id = output.metadata[EXEC_MIME_TYPE][\"id\"];\n    }\n    if (output.metadata[EXEC_MIME_TYPE][\"server_id\"] !== undefined) {\n      const bk_div = document.createElement(\"div\");\n      bk_div.innerHTML = output.data[HTML_MIME_TYPE];\n      const script_attrs = bk_div.children[0].attributes;\n      for (let i = 0; i < script_attrs.length; i++) {\n        toinsert[toinsert.length - 1].firstChild.setAttribute(script_attrs[i].name, script_attrs[i].value);\n        toinsert[toinsert.length - 1].firstChild.textContent = bk_div.children[0].textContent\n      }\n      // store reference to server id on output_area\n      output_area._bokeh_server_id = output.metadata[EXEC_MIME_TYPE][\"server_id\"];\n    }\n  }\n\n  function register_renderer(events, OutputArea) {\n\n    function append_mime(data, metadata, element) {\n      // create a DOM node to render to\n      const toinsert = this.create_output_subarea(\n        metadata,\n        CLASS_NAME,\n        EXEC_MIME_TYPE\n      );\n      this.keyboard_manager.register_events(toinsert);\n      // Render to node\n      const props = {data: data, metadata: metadata[EXEC_MIME_TYPE]};\n      render(props, toinsert[toinsert.length - 1]);\n      element.append(toinsert);\n      return toinsert\n    }\n\n    /* Handle when an output is cleared or removed */\n    events.on('clear_output.CodeCell', handleClearOutput);\n    events.on('delete.Cell', handleClearOutput);\n\n    /* Handle when a new output is added */\n    events.on('output_added.OutputArea', handleAddOutput);\n\n    /**\n     * Register the mime type and append_mime function with output_area\n     */\n    OutputArea.prototype.register_mime_type(EXEC_MIME_TYPE, append_mime, {\n      /* Is output safe? */\n      safe: true,\n      /* Index of renderer in `output_area.display_order` */\n      index: 0\n    });\n  }\n\n  // register the mime type if in Jupyter Notebook environment and previously unregistered\n  if (root.Jupyter !== undefined) {\n    const events = require('base/js/events');\n    const OutputArea = require('notebook/js/outputarea').OutputArea;\n\n    if (OutputArea.prototype.mime_types().indexOf(EXEC_MIME_TYPE) == -1) {\n      register_renderer(events, OutputArea);\n    }\n  }\n  if (typeof (root._bokeh_timeout) === \"undefined\" || force === true) {\n    root._bokeh_timeout = Date.now() + 5000;\n    root._bokeh_failed_load = false;\n  }\n\n  const NB_LOAD_WARNING = {'data': {'text/html':\n     \"<div style='background-color: #fdd'>\\n\"+\n     \"<p>\\n\"+\n     \"BokehJS does not appear to have successfully loaded. If loading BokehJS from CDN, this \\n\"+\n     \"may be due to a slow or bad network connection. Possible fixes:\\n\"+\n     \"</p>\\n\"+\n     \"<ul>\\n\"+\n     \"<li>re-rerun `output_notebook()` to attempt to load from CDN again, or</li>\\n\"+\n     \"<li>use INLINE resources instead, as so:</li>\\n\"+\n     \"</ul>\\n\"+\n     \"<code>\\n\"+\n     \"from bokeh.resources import INLINE\\n\"+\n     \"output_notebook(resources=INLINE)\\n\"+\n     \"</code>\\n\"+\n     \"</div>\"}};\n\n  function display_loaded() {\n    const el = document.getElementById(\"8624\");\n    if (el != null) {\n      el.textContent = \"BokehJS is loading...\";\n    }\n    if (root.Bokeh !== undefined) {\n      if (el != null) {\n        el.textContent = \"BokehJS \" + root.Bokeh.version + \" successfully loaded.\";\n      }\n    } else if (Date.now() < root._bokeh_timeout) {\n      setTimeout(display_loaded, 100)\n    }\n  }\n\n  function run_callbacks() {\n    try {\n      root._bokeh_onload_callbacks.forEach(function(callback) {\n        if (callback != null)\n          callback();\n      });\n    } finally {\n      delete root._bokeh_onload_callbacks\n    }\n    console.debug(\"Bokeh: all callbacks have finished\");\n  }\n\n  function load_libs(css_urls, js_urls, callback) {\n    if (css_urls == null) css_urls = [];\n    if (js_urls == null) js_urls = [];\n\n    root._bokeh_onload_callbacks.push(callback);\n    if (root._bokeh_is_loading > 0) {\n      console.debug(\"Bokeh: BokehJS is being loaded, scheduling callback at\", now());\n      return null;\n    }\n    if (js_urls == null || js_urls.length === 0) {\n      run_callbacks();\n      return null;\n    }\n    console.debug(\"Bokeh: BokehJS not loaded, scheduling load and callback at\", now());\n    root._bokeh_is_loading = css_urls.length + js_urls.length;\n\n    function on_load() {\n      root._bokeh_is_loading--;\n      if (root._bokeh_is_loading === 0) {\n        console.debug(\"Bokeh: all BokehJS libraries/stylesheets loaded\");\n        run_callbacks()\n      }\n    }\n\n    function on_error(url) {\n      console.error(\"failed to load \" + url);\n    }\n\n    for (let i = 0; i < css_urls.length; i++) {\n      const url = css_urls[i];\n      const element = document.createElement(\"link\");\n      element.onload = on_load;\n      element.onerror = on_error.bind(null, url);\n      element.rel = \"stylesheet\";\n      element.type = \"text/css\";\n      element.href = url;\n      console.debug(\"Bokeh: injecting link tag for BokehJS stylesheet: \", url);\n      document.body.appendChild(element);\n    }\n\n    for (let i = 0; i < js_urls.length; i++) {\n      const url = js_urls[i];\n      const element = document.createElement('script');\n      element.onload = on_load;\n      element.onerror = on_error.bind(null, url);\n      element.async = false;\n      element.src = url;\n      console.debug(\"Bokeh: injecting script tag for BokehJS library: \", url);\n      document.head.appendChild(element);\n    }\n  };\n\n  function inject_raw_css(css) {\n    const element = document.createElement(\"style\");\n    element.appendChild(document.createTextNode(css));\n    document.body.appendChild(element);\n  }\n\n  const js_urls = [\"https://cdn.bokeh.org/bokeh/release/bokeh-2.4.3.min.js\", \"https://cdn.bokeh.org/bokeh/release/bokeh-gl-2.4.3.min.js\", \"https://cdn.bokeh.org/bokeh/release/bokeh-widgets-2.4.3.min.js\", \"https://cdn.bokeh.org/bokeh/release/bokeh-tables-2.4.3.min.js\", \"https://cdn.bokeh.org/bokeh/release/bokeh-mathjax-2.4.3.min.js\"];\n  const css_urls = [];\n\n  const inline_js = [    function(Bokeh) {\n      Bokeh.set_log_level(\"info\");\n    },\nfunction(Bokeh) {\n    }\n  ];\n\n  function run_inline_js() {\n    if (root.Bokeh !== undefined || force === true) {\n          for (let i = 0; i < inline_js.length; i++) {\n      inline_js[i].call(root, root.Bokeh);\n    }\nif (force === true) {\n        display_loaded();\n      }} else if (Date.now() < root._bokeh_timeout) {\n      setTimeout(run_inline_js, 100);\n    } else if (!root._bokeh_failed_load) {\n      console.log(\"Bokeh: BokehJS failed to load within specified timeout.\");\n      root._bokeh_failed_load = true;\n    } else if (force !== true) {\n      const cell = $(document.getElementById(\"8624\")).parents('.cell').data().cell;\n      cell.output_area.append_execute_result(NB_LOAD_WARNING)\n    }\n  }\n\n  if (root._bokeh_is_loading === 0) {\n    console.debug(\"Bokeh: BokehJS loaded, going straight to plotting\");\n    run_inline_js();\n  } else {\n    load_libs(css_urls, js_urls, function() {\n      console.debug(\"Bokeh: BokehJS plotting callback run at\", now());\n      run_inline_js();\n    });\n  }\n}(window));",
      "application/vnd.bokehjs_load.v0+json": ""
     },
     "metadata": {},
     "output_type": "display_data"
    },
    {
     "data": {
      "text/html": [
       "\n",
       "  <div class=\"bk-root\" id=\"5bd8c0ec-aa3a-4bf9-b7f6-816f0c694345\" data-root-id=\"9357\"></div>\n"
      ]
     },
     "metadata": {},
     "output_type": "display_data"
    },
    {
     "data": {
      "application/javascript": "(function(root) {\n  function embed_document(root) {\n  const docs_json = {\"71302433-19ff-44e3-9739-f0cf0130f8fd\":{\"defs\":[],\"roots\":{\"references\":[{\"attributes\":{\"children\":[{\"id\":\"8674\"},{\"id\":\"8706\"}]},\"id\":\"9357\",\"type\":\"Column\"},{\"attributes\":{\"fill_alpha\":{\"value\":0.1},\"fill_color\":{\"value\":\"#433C84\"},\"hatch_alpha\":{\"value\":0.1},\"hatch_color\":{\"value\":\"#433C84\"},\"line_alpha\":{\"value\":0.1},\"line_color\":{\"value\":\"#433C84\"},\"marker\":{\"value\":\"diamond\"},\"size\":{\"value\":10},\"x\":{\"field\":\"date_time\"},\"y\":{\"field\":\"y_index\"}},\"id\":\"9092\",\"type\":\"Scatter\"},{\"attributes\":{},\"id\":\"9433\",\"type\":\"UnionRenderers\"},{\"attributes\":{\"label\":{\"value\":\"u10\"},\"renderers\":[{\"id\":\"9087\"}]},\"id\":\"9089\",\"type\":\"LegendItem\"},{\"attributes\":{},\"id\":\"9434\",\"type\":\"Selection\"},{\"attributes\":{\"source\":{\"id\":\"8634\"}},\"id\":\"9088\",\"type\":\"CDSView\"},{\"attributes\":{\"fill_alpha\":{\"value\":0.5},\"fill_color\":{\"value\":\"#433C84\"},\"hatch_alpha\":{\"value\":0.5},\"hatch_color\":{\"value\":\"#433C84\"},\"line_alpha\":{\"value\":0.5},\"line_color\":{\"value\":\"#433C84\"},\"marker\":{\"value\":\"diamond\"},\"size\":{\"value\":10},\"x\":{\"field\":\"date_time\"},\"y\":{\"field\":\"y_index\"}},\"id\":\"9091\",\"type\":\"Scatter\"},{\"attributes\":{\"fill_alpha\":{\"value\":0.5},\"fill_color\":{\"value\":\"#38568B\"},\"hatch_alpha\":{\"value\":0.5},\"hatch_color\":{\"value\":\"#38568B\"},\"line_alpha\":{\"value\":0.5},\"line_color\":{\"value\":\"#38568B\"},\"marker\":{\"value\":\"diamond\"},\"size\":{\"value\":10},\"x\":{\"field\":\"date_time\"},\"y\":{\"field\":\"y_index\"}},\"id\":\"9126\",\"type\":\"Scatter\"},{\"attributes\":{\"fill_alpha\":{\"value\":0.2},\"fill_color\":{\"value\":\"#433C84\"},\"hatch_alpha\":{\"value\":0.2},\"hatch_color\":{\"value\":\"#433C84\"},\"line_alpha\":{\"value\":0.2},\"line_color\":{\"value\":\"#433C84\"},\"marker\":{\"value\":\"diamond\"},\"size\":{\"value\":10},\"x\":{\"field\":\"date_time\"},\"y\":{\"field\":\"y_index\"}},\"id\":\"9093\",\"type\":\"Scatter\"},{\"attributes\":{\"data\":{\"date_time\":{\"__ndarray__\":\"AAC8XRbac0IAAEYQNNpzQgAAmGR+2nNCAACu99Tac0IAANrtDNtzQgAA5t8O23NCAAAWVQ/bc0IAAOA5FdtzQgAA6kkZ23NCAAB2OCbbc0IAAPbTVdtzQgAAjNJm23NCAABwfW7bc0IAABpJgNtzQgAAVFEB3HNCAACCihLcc0IAAF4ptdxzQgAAGFi93HNCAACEefPcc0IAAGr/Dt1zQgAA2uRA3XNCAAC46U7dc0IAAPbYXd1zQgAAjHaT3XNCAADaG6Ddc0IAAEq1tN1zQgAA9vMU3nNCAAAGO2Pec0IAAJZ+vN5zQgAAem733nNCAAD+Lv7ec0IAADYy799zQgAAhoiT4HNCAABwF97gc0IAAC4D+OBzQgAA4osG4XNCAAAM7F3hc0IAAEwCnuFzQgAAiurC4XNCAABsj0njc0IAAOrEDeRzQgAABBxg5HNCAAAIqAvlc0IAAB6jJ+VzQgAAihB75XNCAADCV67nc0IAABiuPehzQgAAGK496HNCAABoLl7oc0IAAA72SOpzQgAAjjeH6nNCAABapJnqc0IAAPho6+pzQgAAjlko63NCAACGdz/rc0IAAPqj6etzQgAAtuRk7HNCAACq5I7sc0IAALYbxOxzQgAA+l3F7HNCAAD0og3tc0IAADI/Fe1zQgAA8NA97XNCAABM6W7tc0IAAMh0he1zQgAArB+N7XNCAAAeQa7tc0IAAPLisO1zQgAAWOZx8HNCAABkGEznc0IAAMrJ9uhzQgAAtKtI6XNCAACUYe7pc0IAAApqnelzQgAAMMbN63NCAADWetzrc0IAALy60+xzQgAAIsZv7nNCAADoHsrtc0IAAATTu+9zQgAA5mRm73NCAAB+FA/wc0IAADjUZ/BzQgAAQO2v8HNC\",\"dtype\":\"float64\",\"order\":\"little\",\"shape\":[84]},\"index\":[0,1,2,3,4,5,6,7,8,9,10,11,12,13,14,15,16,17,18,19,20,21,22,23,24,25,26,27,28,29,30,31,32,33,34,35,36,37,38,39,40,41,42,43,44,45,46,47,48,49,50,51,52,53,54,55,56,57,58,59,60,61,62,63,64,65,66,67,68,2271,2272,2273,2274,2275,2276,2277,2278,2279,2280,2281,2282,2283,2284,2285],\"y_index\":[0,0,0,0,0,0,0,0,0,0,0,0,0,0,0,0,0,0,0,0,0,0,0,0,0,0,0,0,0,0,0,0,0,0,0,0,0,0,0,0,0,0,0,0,0,0,0,0,0,0,0,0,0,0,0,0,0,0,0,0,0,0,0,0,0,0,0,0,0,0,0,0,0,0,0,0,0,0,0,0,0,0,0,0]},\"selected\":{\"id\":\"9368\"},\"selection_policy\":{\"id\":\"9367\"}},\"id\":\"8625\",\"type\":\"ColumnDataSource\"},{\"attributes\":{\"coordinates\":null,\"data_source\":{\"id\":\"8635\"},\"glyph\":{\"id\":\"9091\"},\"group\":null,\"hover_glyph\":null,\"muted_glyph\":{\"id\":\"9093\"},\"nonselection_glyph\":{\"id\":\"9092\"},\"view\":{\"id\":\"9095\"}},\"id\":\"9094\",\"type\":\"GlyphRenderer\"},{\"attributes\":{\"fill_alpha\":{\"value\":0.1},\"fill_color\":{\"value\":\"#414286\"},\"hatch_alpha\":{\"value\":0.1},\"hatch_color\":{\"value\":\"#414286\"},\"line_alpha\":{\"value\":0.1},\"line_color\":{\"value\":\"#414286\"},\"marker\":{\"value\":\"diamond\"},\"size\":{\"value\":10},\"x\":{\"field\":\"date_time\"},\"y\":{\"field\":\"y_index\"}},\"id\":\"9099\",\"type\":\"Scatter\"},{\"attributes\":{\"label\":{\"value\":\"u12\"},\"renderers\":[{\"id\":\"9094\"}]},\"id\":\"9096\",\"type\":\"LegendItem\"},{\"attributes\":{\"source\":{\"id\":\"8635\"}},\"id\":\"9095\",\"type\":\"CDSView\"},{\"attributes\":{\"fill_alpha\":{\"value\":0.5},\"fill_color\":{\"value\":\"#414286\"},\"hatch_alpha\":{\"value\":0.5},\"hatch_color\":{\"value\":\"#414286\"},\"line_alpha\":{\"value\":0.5},\"line_color\":{\"value\":\"#414286\"},\"marker\":{\"value\":\"diamond\"},\"size\":{\"value\":10},\"x\":{\"field\":\"date_time\"},\"y\":{\"field\":\"y_index\"}},\"id\":\"9098\",\"type\":\"Scatter\"},{\"attributes\":{\"fill_alpha\":{\"value\":0.2},\"fill_color\":{\"value\":\"#414286\"},\"hatch_alpha\":{\"value\":0.2},\"hatch_color\":{\"value\":\"#414286\"},\"line_alpha\":{\"value\":0.2},\"line_color\":{\"value\":\"#414286\"},\"marker\":{\"value\":\"diamond\"},\"size\":{\"value\":10},\"x\":{\"field\":\"date_time\"},\"y\":{\"field\":\"y_index\"}},\"id\":\"9100\",\"type\":\"Scatter\"},{\"attributes\":{\"data\":{\"date_time\":{\"__ndarray__\":\"AACCCIfac0IAAIinltpzQgAAFiWa2nNCAAD8qrXac0IAAFIrwdpzQgAARozG2nNCAABqCNvac0IAAEAy6tpzQgAAkLIK23NCAABOSx3bc0IAAH7AHdtzQgAAgtcg23NCAAAwFCfbc0IAACZXKttzQgAAilgu23NCAAAynDPbc0IAAA64WdtzQgAA1Nhj23NCAACOB2zbc0IAADjTfdtzQgAA3tqT23NCAABCIcvbc0IAAHBa3NtzQgAAuujl23NCAABEou3bc0IAAO4TDtxzQgAAREES3HNCAABa6Sbcc0IAALQtLtxzQgAAPNTR3HNCAAAAE97cc0IAAIau+NxzQgAAiNwT3XNCAABcHTvdc0IAACyTfN1zQgAARG+l3nNCAAAQ927fc0IAANwJkN9zQgAA4CCT33NCAABABKrfc0IAAPrK7N9zQgAAguA/4HNCAABIfdzgc0IAAIj09+BzQgAABBhJ4XNCAABkqFjhc0IAAHT2kOFzQgAAAN6z4XNCAACuQ0Xic0IAAEhfUuNzQgAA8O5043NC\",\"dtype\":\"float64\",\"order\":\"little\",\"shape\":[51]},\"index\":[205,206,207,208,209,210,211,212,213,214,215,216,217,218,219,220,221,222,223,224,225,226,227,228,229,230,231,232,233,234,235,236,237,238,239,240,241,242,243,244,245,246,247,248,249,250,251,252,253,254,255],\"y_index\":[6,6,6,6,6,6,6,6,6,6,6,6,6,6,6,6,6,6,6,6,6,6,6,6,6,6,6,6,6,6,6,6,6,6,6,6,6,6,6,6,6,6,6,6,6,6,6,6,6,6,6]},\"selected\":{\"id\":\"9380\"},\"selection_policy\":{\"id\":\"9379\"}},\"id\":\"8631\",\"type\":\"ColumnDataSource\"},{\"attributes\":{\"source\":{\"id\":\"8639\"}},\"id\":\"9123\",\"type\":\"CDSView\"},{\"attributes\":{\"coordinates\":null,\"data_source\":{\"id\":\"8636\"},\"glyph\":{\"id\":\"9098\"},\"group\":null,\"hover_glyph\":null,\"muted_glyph\":{\"id\":\"9100\"},\"nonselection_glyph\":{\"id\":\"9099\"},\"view\":{\"id\":\"9102\"}},\"id\":\"9101\",\"type\":\"GlyphRenderer\"},{\"attributes\":{},\"id\":\"9435\",\"type\":\"UnionRenderers\"},{\"attributes\":{\"data\":{\"date_time\":{\"__ndarray__\":\"AAAeWorac0IAAFpZx9pzQgAAvMvU2nNCAAB8I1Pbc0IAANorVttzQgAA5hZu23NCAADK/77bc0IAAIb7BtxzQgAAYJYK3HNCAABq+RXcc0IAAJaOctxzQgAAulak3HNCAAAuB7zcc0IAAO4g8dxzQgAAJCBD3XNCAAB2x5Tdc0IAAOz/uN1zQgAAbOcF3nNCAABuYT7ec0IAAKoUXt5zQgAARund3nNCAADkip3fc0IAAJ6/nuBzQgAA8vXm4HNCAAAuA/jgc0IAAGb5BeFzQgAASABZ4XNCAADcB67hc0IAAHhK7OJzQgAA8Bjx4nNCAACG0d3jc0IAAKbHP+RzQgAAvvdg5HNCAAAE5A/lc0IAAJ7rT+VzQgAAtJNk5XNCAADK6HHlc0IAALbBf+VzQgAAOnm653NCAACebOrnc0IAAIJjD+hzQgAApspl6HNCAAA6wcDkc0IAAILJ8ulzQgAAhMGf6HNCAAA671Pnc0IAAI4kq+hzQgAA9hFF6nNCAADe6f7oc0I=\",\"dtype\":\"float64\",\"order\":\"little\",\"shape\":[49]},\"index\":[155,156,157,158,159,160,161,162,163,164,165,166,167,168,169,170,171,172,173,174,175,176,177,178,179,180,181,182,183,184,185,186,187,188,189,190,191,192,193,194,195,196,2289,2290,2291,2292,2293,2294,2295],\"y_index\":[4,4,4,4,4,4,4,4,4,4,4,4,4,4,4,4,4,4,4,4,4,4,4,4,4,4,4,4,4,4,4,4,4,4,4,4,4,4,4,4,4,4,4,4,4,4,4,4,4]},\"selected\":{\"id\":\"9376\"},\"selection_policy\":{\"id\":\"9375\"}},\"id\":\"8629\",\"type\":\"ColumnDataSource\"},{\"attributes\":{\"fill_alpha\":{\"value\":0.1},\"fill_color\":{\"value\":\"#3B518A\"},\"hatch_alpha\":{\"value\":0.1},\"hatch_color\":{\"value\":\"#3B518A\"},\"line_alpha\":{\"value\":0.1},\"line_color\":{\"value\":\"#3B518A\"},\"marker\":{\"value\":\"diamond\"},\"size\":{\"value\":10},\"x\":{\"field\":\"date_time\"},\"y\":{\"field\":\"y_index\"}},\"id\":\"9120\",\"type\":\"Scatter\"},{\"attributes\":{\"label\":{\"value\":\"u14\"},\"renderers\":[{\"id\":\"9101\"}]},\"id\":\"9103\",\"type\":\"LegendItem\"},{\"attributes\":{},\"id\":\"9436\",\"type\":\"Selection\"},{\"attributes\":{\"source\":{\"id\":\"8636\"}},\"id\":\"9102\",\"type\":\"CDSView\"},{\"attributes\":{\"fill_alpha\":{\"value\":0.5},\"fill_color\":{\"value\":\"#3F4788\"},\"hatch_alpha\":{\"value\":0.5},\"hatch_color\":{\"value\":\"#3F4788\"},\"line_alpha\":{\"value\":0.5},\"line_color\":{\"value\":\"#3F4788\"},\"marker\":{\"value\":\"diamond\"},\"size\":{\"value\":10},\"x\":{\"field\":\"date_time\"},\"y\":{\"field\":\"y_index\"}},\"id\":\"9105\",\"type\":\"Scatter\"},{\"attributes\":{\"fill_alpha\":{\"value\":0.2},\"fill_color\":{\"value\":\"#38568B\"},\"hatch_alpha\":{\"value\":0.2},\"hatch_color\":{\"value\":\"#38568B\"},\"line_alpha\":{\"value\":0.2},\"line_color\":{\"value\":\"#38568B\"},\"marker\":{\"value\":\"diamond\"},\"size\":{\"value\":10},\"x\":{\"field\":\"date_time\"},\"y\":{\"field\":\"y_index\"}},\"id\":\"9128\",\"type\":\"Scatter\"},{\"attributes\":{\"source\":{\"id\":\"8665\"}},\"id\":\"9305\",\"type\":\"CDSView\"},{\"attributes\":{\"data\":{\"date_time\":{\"__ndarray__\":\"AADyTpTac0IAAMr5xdpzQgAARFDX2nNCAAD42OXac0IAALgA79pzQgAAeBok23NCAADwLVzbc0IAAOQ0cNtzQgAAxqpy23NCAABei4Hbc0IAAKgEzdtzQgAAqATN23NCAACyDefbc0IAAG5qCtxzQgAAYssP3HNCAAAWTTTcc0IAAFDEZNxzQgAAkOh43HNCAADOHLvcc0IAAOAA1NxzQgAAwrQf3XNCAADGyyLdc0IAAD6MU91zQgAAqNlf3XNCAAAMbLTdc0IAAGbnGt5zQgAAUCNe3nNCAAD0lJPec0IAABCCxt5zQgAANiz23nNCAADuEDvfc0IAALKiTt9zQgAAhFtp33NCAAAi1J3fc0IAAIrlut9zQgAAAMTt33NCAAAAavzfc0IAAGpPQ+BzQgAA+AqQ4HNCAAA+gpbgc0IAAASO4uBzQgAA5lbs4HNCAAAosAXhc0IAAILfTuFzQgAA+uuc4XNCAAB+/6rhc0IAADSv6uFzQgAAcPpE4nNCAAAOh0bjc0IAAJTZaedzQgAA9tzH53NCAADMUvTnc0IAAI7sWulzQgAADoeZ6nNCAABwiBXtc0IAAOjeS+hzQgAANhWp6HNCAADOT6noc0IAAKgo9uhzQgAAVgz853NCAADW6Yvrc0I=\",\"dtype\":\"float64\",\"order\":\"little\",\"shape\":[61]},\"index\":[787,788,789,790,791,792,793,794,795,796,797,798,799,800,801,802,803,804,805,806,807,808,809,810,811,812,813,814,815,816,817,818,819,820,821,822,823,824,825,826,827,828,829,830,831,832,833,834,835,836,837,838,839,840,841,2463,2464,2465,2466,2467,2468],\"y_index\":[18,18,18,18,18,18,18,18,18,18,18,18,18,18,18,18,18,18,18,18,18,18,18,18,18,18,18,18,18,18,18,18,18,18,18,18,18,18,18,18,18,18,18,18,18,18,18,18,18,18,18,18,18,18,18,18,18,18,18,18,18]},\"selected\":{\"id\":\"9404\"},\"selection_policy\":{\"id\":\"9403\"}},\"id\":\"8643\",\"type\":\"ColumnDataSource\"},{\"attributes\":{\"label\":{\"value\":\"u17\"},\"renderers\":[{\"id\":\"9122\"}]},\"id\":\"9124\",\"type\":\"LegendItem\"},{\"attributes\":{\"fill_alpha\":{\"value\":0.2},\"fill_color\":{\"value\":\"#208F8C\"},\"hatch_alpha\":{\"value\":0.2},\"hatch_color\":{\"value\":\"#208F8C\"},\"line_alpha\":{\"value\":0.2},\"line_color\":{\"value\":\"#208F8C\"},\"marker\":{\"value\":\"diamond\"},\"size\":{\"value\":10},\"x\":{\"field\":\"date_time\"},\"y\":{\"field\":\"y_index\"}},\"id\":\"9219\",\"type\":\"Scatter\"},{\"attributes\":{\"fill_alpha\":{\"value\":0.2},\"fill_color\":{\"value\":\"#3B518A\"},\"hatch_alpha\":{\"value\":0.2},\"hatch_color\":{\"value\":\"#3B518A\"},\"line_alpha\":{\"value\":0.2},\"line_color\":{\"value\":\"#3B518A\"},\"marker\":{\"value\":\"diamond\"},\"size\":{\"value\":10},\"x\":{\"field\":\"date_time\"},\"y\":{\"field\":\"y_index\"}},\"id\":\"9121\",\"type\":\"Scatter\"},{\"attributes\":{\"coordinates\":null,\"data_source\":{\"id\":\"8639\"},\"glyph\":{\"id\":\"9119\"},\"group\":null,\"hover_glyph\":null,\"muted_glyph\":{\"id\":\"9121\"},\"nonselection_glyph\":{\"id\":\"9120\"},\"view\":{\"id\":\"9123\"}},\"id\":\"9122\",\"type\":\"GlyphRenderer\"},{\"attributes\":{\"fill_alpha\":{\"value\":0.1},\"fill_color\":{\"value\":\"#38568B\"},\"hatch_alpha\":{\"value\":0.1},\"hatch_color\":{\"value\":\"#38568B\"},\"line_alpha\":{\"value\":0.1},\"line_color\":{\"value\":\"#38568B\"},\"marker\":{\"value\":\"diamond\"},\"size\":{\"value\":10},\"x\":{\"field\":\"date_time\"},\"y\":{\"field\":\"y_index\"}},\"id\":\"9127\",\"type\":\"Scatter\"},{\"attributes\":{\"coordinates\":null,\"data_source\":{\"id\":\"8640\"},\"glyph\":{\"id\":\"9126\"},\"group\":null,\"hover_glyph\":null,\"muted_glyph\":{\"id\":\"9128\"},\"nonselection_glyph\":{\"id\":\"9127\"},\"view\":{\"id\":\"9130\"}},\"id\":\"9129\",\"type\":\"GlyphRenderer\"},{\"attributes\":{\"fill_alpha\":{\"value\":0.1},\"fill_color\":{\"value\":\"#365A8C\"},\"hatch_alpha\":{\"value\":0.1},\"hatch_color\":{\"value\":\"#365A8C\"},\"line_alpha\":{\"value\":0.1},\"line_color\":{\"value\":\"#365A8C\"},\"marker\":{\"value\":\"diamond\"},\"size\":{\"value\":10},\"x\":{\"field\":\"date_time\"},\"y\":{\"field\":\"y_index\"}},\"id\":\"9134\",\"type\":\"Scatter\"},{\"attributes\":{\"data\":{\"date_time\":{\"__ndarray__\":\"AAAWF8bac0IAALjyGttzQgAAnhBx23NCAACair7bc0IAAA7TENxzQgAAmKfP3HNCAADIBxLdc0IAANJOdd1zQgAAwDIM3nNCAAAEBl7ec0IAAAi1m95zQgAAck7F3nNCAAAYxJnfc0IAAESXP+BzQgAASD+T4HNCAAC2O93gc0IAADT8+OBzQgAAcAkK4XNCAACAUFjhc0IAAAjAnOFzQgAAMHVV4nNCAAAOh0bjc0IAALJ0DuRzQgAATnIZ5XNCAADgWSflc0IAAJLreeVzQgAAxJt45nNCAABMJnTnc0IAAASj8+dzQgAAmLgc6HNCAAA+Yxvkc0IAAPr9h+RzQgAAaqp45nNCAACYGfjnc0I=\",\"dtype\":\"float64\",\"order\":\"little\",\"shape\":[34]},\"index\":[101,102,103,104,105,106,107,108,109,110,111,112,113,114,115,116,117,118,119,120,121,122,123,124,125,126,127,128,129,130,2378,2379,2380,2381],\"y_index\":[2,2,2,2,2,2,2,2,2,2,2,2,2,2,2,2,2,2,2,2,2,2,2,2,2,2,2,2,2,2,2,2,2,2]},\"selected\":{\"id\":\"9372\"},\"selection_policy\":{\"id\":\"9371\"}},\"id\":\"8627\",\"type\":\"ColumnDataSource\"},{\"attributes\":{\"label\":{\"value\":\"u18\"},\"renderers\":[{\"id\":\"9129\"}]},\"id\":\"9131\",\"type\":\"LegendItem\"},{\"attributes\":{\"source\":{\"id\":\"8640\"}},\"id\":\"9130\",\"type\":\"CDSView\"},{\"attributes\":{\"fill_alpha\":{\"value\":0.5},\"fill_color\":{\"value\":\"#365A8C\"},\"hatch_alpha\":{\"value\":0.5},\"hatch_color\":{\"value\":\"#365A8C\"},\"line_alpha\":{\"value\":0.5},\"line_color\":{\"value\":\"#365A8C\"},\"marker\":{\"value\":\"diamond\"},\"size\":{\"value\":10},\"x\":{\"field\":\"date_time\"},\"y\":{\"field\":\"y_index\"}},\"id\":\"9133\",\"type\":\"Scatter\"},{\"attributes\":{\"data\":{\"date_time\":{\"__ndarray__\":\"AABsRMrac0IAAMICH9tzQgAA5I5h23NCAAA6D23bc0IAAAhXk9tzQgAAFJWy23NCAAD82Tncc0IAAMZBvNxzQgAA1GHZ3HNCAAAKFQ7dc0IAADSKI91zQgAAdoJh3XNCAAAqldbdc0IAAAQGXt5zQgAAOHa53nNCAAA6/sXec0IAAP5sR99zQgAAknSc33NCAADYKezfc0IAAD6ePuBzQgAAWPWQ4HNCAABMlN/gc0IAAIwL++BzQgAAYiBM4XNCAAA2YXPhc0IAAMKbneFzQgAAKJpW4nNCAAC4/l/kc0IAADT/HuVzQgAAKugw5XNCAADIDV7lc0IAALAicOVzQgAAuoV75XNCAADaETboc0IAAAThPOhzQgAARuBk6HNCAADiEu3rc0IAAA4S8elzQg==\",\"dtype\":\"float64\",\"order\":\"little\",\"shape\":[38]},\"index\":[476,477,478,479,480,481,482,483,484,485,486,487,488,489,490,491,492,493,494,495,496,497,498,499,500,501,502,503,504,505,506,507,508,509,510,511,512,2389],\"y_index\":[11,11,11,11,11,11,11,11,11,11,11,11,11,11,11,11,11,11,11,11,11,11,11,11,11,11,11,11,11,11,11,11,11,11,11,11,11,11]},\"selected\":{\"id\":\"9390\"},\"selection_policy\":{\"id\":\"9389\"}},\"id\":\"8636\",\"type\":\"ColumnDataSource\"},{\"attributes\":{\"fill_alpha\":{\"value\":0.5},\"fill_color\":{\"value\":\"#208F8C\"},\"hatch_alpha\":{\"value\":0.5},\"hatch_color\":{\"value\":\"#208F8C\"},\"line_alpha\":{\"value\":0.5},\"line_color\":{\"value\":\"#208F8C\"},\"marker\":{\"value\":\"diamond\"},\"size\":{\"value\":10},\"x\":{\"field\":\"date_time\"},\"y\":{\"field\":\"y_index\"}},\"id\":\"9217\",\"type\":\"Scatter\"},{\"attributes\":{},\"id\":\"9437\",\"type\":\"UnionRenderers\"},{\"attributes\":{\"data\":{\"date_time\":{\"__ndarray__\":\"AADIqBjbc0IAAOTFwNtzQgAAXjug33NCAAC+2JLgc0IAALpS4OBzQgAAGtwF4XNCAADkUVzhc0IAAHizouFzQgAAqHuq4XNCAABQV+rhc0IAAMAuSOJzQgAAmrt34nNCAACE/qTic0IAABh1qeJzQgAAFFDS4nNCAADuGkvjc0IAAJR7YeRzQgAAVBEp5XNCAABGznnlc0IAAPx2z+VzQgAATDwj5nNCAAB8xfDmc0IAABb2u+dzQgAAcm/I53NCAACebOrnc0IAAK7BDOhzQgAAXJ036HNCAACmymXoc0IAAFZeEulzQgAAVvxF6nNCAACueQbrc0IAAPouQetzQgAAPBmr63NCAACedvrrc0IAANCxUOxzQgAA2p7C7HNCAADS7E7tc0IAAC5Dye1zQgAAxJvL7XNCAADKTqjuc0IAAEb1de9zQgAA/h7u73NCAAAWrXHkc0IAAELGO+RzQgAA0k7I5HNCAACuAinlc0IAAOIG++lzQgAAWMxY53NCAABunfjnc0IAAO4UpelzQgAAzjAu7HNCAABG9XXvc0I=\",\"dtype\":\"float64\",\"order\":\"little\",\"shape\":[52]},\"index\":[629,630,631,632,633,634,635,636,637,638,639,640,641,642,643,644,645,646,647,648,649,650,651,652,653,654,655,656,657,658,659,660,661,662,663,664,665,666,667,668,669,670,2128,2129,2130,2131,2132,2133,2134,2135,2136,2137],\"y_index\":[14,14,14,14,14,14,14,14,14,14,14,14,14,14,14,14,14,14,14,14,14,14,14,14,14,14,14,14,14,14,14,14,14,14,14,14,14,14,14,14,14,14,14,14,14,14,14,14,14,14,14,14]},\"selected\":{\"id\":\"9396\"},\"selection_policy\":{\"id\":\"9395\"}},\"id\":\"8639\",\"type\":\"ColumnDataSource\"},{\"attributes\":{\"fill_alpha\":{\"value\":0.2},\"fill_color\":{\"value\":\"#365A8C\"},\"hatch_alpha\":{\"value\":0.2},\"hatch_color\":{\"value\":\"#365A8C\"},\"line_alpha\":{\"value\":0.2},\"line_color\":{\"value\":\"#365A8C\"},\"marker\":{\"value\":\"diamond\"},\"size\":{\"value\":10},\"x\":{\"field\":\"date_time\"},\"y\":{\"field\":\"y_index\"}},\"id\":\"9135\",\"type\":\"Scatter\"},{\"attributes\":{\"coordinates\":null,\"data_source\":{\"id\":\"8641\"},\"glyph\":{\"id\":\"9133\"},\"group\":null,\"hover_glyph\":null,\"muted_glyph\":{\"id\":\"9135\"},\"nonselection_glyph\":{\"id\":\"9134\"},\"view\":{\"id\":\"9137\"}},\"id\":\"9136\",\"type\":\"GlyphRenderer\"},{\"attributes\":{},\"id\":\"9438\",\"type\":\"Selection\"},{\"attributes\":{\"fill_alpha\":{\"value\":0.1},\"fill_color\":{\"value\":\"#345F8D\"},\"hatch_alpha\":{\"value\":0.1},\"hatch_color\":{\"value\":\"#345F8D\"},\"line_alpha\":{\"value\":0.1},\"line_color\":{\"value\":\"#345F8D\"},\"marker\":{\"value\":\"diamond\"},\"size\":{\"value\":10},\"x\":{\"field\":\"date_time\"},\"y\":{\"field\":\"y_index\"}},\"id\":\"9141\",\"type\":\"Scatter\"},{\"attributes\":{\"label\":{\"value\":\"u19\"},\"renderers\":[{\"id\":\"9136\"}]},\"id\":\"9138\",\"type\":\"LegendItem\"},{\"attributes\":{\"data\":{\"date_time\":{\"__ndarray__\":\"AAAAmDzbc0IAAD4fhttzQgAAQiHL23NCAAAcpxDcc0IAAP6K0dxzQgAAcNV93XNCAAB4k+Pec0IAAFIXR+FzQgAA0N5M4XNC\",\"dtype\":\"float64\",\"order\":\"little\",\"shape\":[9]},\"index\":[513,514,515,516,517,518,519,520,521],\"y_index\":[12,12,12,12,12,12,12,12,12]},\"selected\":{\"id\":\"9392\"},\"selection_policy\":{\"id\":\"9391\"}},\"id\":\"8637\",\"type\":\"ColumnDataSource\"},{\"attributes\":{\"source\":{\"id\":\"8641\"}},\"id\":\"9137\",\"type\":\"CDSView\"},{\"attributes\":{\"fill_alpha\":{\"value\":0.5},\"fill_color\":{\"value\":\"#345F8D\"},\"hatch_alpha\":{\"value\":0.5},\"hatch_color\":{\"value\":\"#345F8D\"},\"line_alpha\":{\"value\":0.5},\"line_color\":{\"value\":\"#345F8D\"},\"marker\":{\"value\":\"diamond\"},\"size\":{\"value\":10},\"x\":{\"field\":\"date_time\"},\"y\":{\"field\":\"y_index\"}},\"id\":\"9140\",\"type\":\"Scatter\"},{\"attributes\":{\"fill_alpha\":{\"value\":0.2},\"fill_color\":{\"value\":\"#345F8D\"},\"hatch_alpha\":{\"value\":0.2},\"hatch_color\":{\"value\":\"#345F8D\"},\"line_alpha\":{\"value\":0.2},\"line_color\":{\"value\":\"#345F8D\"},\"marker\":{\"value\":\"diamond\"},\"size\":{\"value\":10},\"x\":{\"field\":\"date_time\"},\"y\":{\"field\":\"y_index\"}},\"id\":\"9142\",\"type\":\"Scatter\"},{\"attributes\":{\"source\":{\"id\":\"8652\"}},\"id\":\"9214\",\"type\":\"CDSView\"},{\"attributes\":{\"coordinates\":null,\"data_source\":{\"id\":\"8642\"},\"glyph\":{\"id\":\"9140\"},\"group\":null,\"hover_glyph\":null,\"muted_glyph\":{\"id\":\"9142\"},\"nonselection_glyph\":{\"id\":\"9141\"},\"view\":{\"id\":\"9144\"}},\"id\":\"9143\",\"type\":\"GlyphRenderer\"},{\"attributes\":{\"fill_alpha\":{\"value\":0.1},\"fill_color\":{\"value\":\"#32638D\"},\"hatch_alpha\":{\"value\":0.1},\"hatch_color\":{\"value\":\"#32638D\"},\"line_alpha\":{\"value\":0.1},\"line_color\":{\"value\":\"#32638D\"},\"marker\":{\"value\":\"diamond\"},\"size\":{\"value\":10},\"x\":{\"field\":\"date_time\"},\"y\":{\"field\":\"y_index\"}},\"id\":\"9148\",\"type\":\"Scatter\"},{\"attributes\":{\"label\":{\"value\":\"u20\"},\"renderers\":[{\"id\":\"9143\"}]},\"id\":\"9145\",\"type\":\"LegendItem\"},{\"attributes\":{\"source\":{\"id\":\"8642\"}},\"id\":\"9144\",\"type\":\"CDSView\"},{\"attributes\":{\"fill_alpha\":{\"value\":0.5},\"fill_color\":{\"value\":\"#32638D\"},\"hatch_alpha\":{\"value\":0.5},\"hatch_color\":{\"value\":\"#32638D\"},\"line_alpha\":{\"value\":0.5},\"line_color\":{\"value\":\"#32638D\"},\"marker\":{\"value\":\"diamond\"},\"size\":{\"value\":10},\"x\":{\"field\":\"date_time\"},\"y\":{\"field\":\"y_index\"}},\"id\":\"9147\",\"type\":\"Scatter\"},{\"attributes\":{\"data\":{\"date_time\":{\"__ndarray__\":\"AADW68fac0IAAPRZHdtzQgAAWJlq23NCAABAmb7bc0IAAJxQFNxzQgAAltOl3HNCAABySb3cc0IAALzJ8txzQgAAvqQG3XNCAACArg3dc0IAANj7WN1zQgAA9itl3XNCAACMwrDdc0IAAL5stt1zQgAABkJN3nNCAACARVfec0IAAFhRZN5zQgAAQjqg3nNCAAAMH6bec0IAAEgst95zQgAAYjfs3nNCAABSegTfc0IAAChRDN9zQgAAiIBA33NCAABWfEnfc0IAAJRrWN9zQgAAbvGd33NCAAAs3bffc0IAADpJ8t9zQgAASpBA4HNCAABYt0fgc0IAANoti+BzQgAAWPWQ4HNCAAA8ma7gc0IAAAJS8+BzQgAALgP44HNCAAA6hkrhc0IAAETUl+FzQgAACMCc4XNCAAD4r63hc0IAAGok1uFzQgAAnvz24XNCAACMsBjic0IAANRcJOJzQgAAxidJ4nNCAAB058vic0IAAMb9zOJzQgAADv3f4nNCAAC0C+Dic0IAAAjaYuNzQgAA7Jg35HNCAAAEHGDkc0IAACIbBuVzQgAARvEL5XNCAAAcGxvlc0IAALbdJ+VzQgAAnK9g5XNCAABoyWvlc0IAAAiFeeVzQgAAmNam5XNCAAAaPxbmc0IAAEZDIuZzQgAA0n1M5nNCAADQjXrmc0IAAApD9OZzQgAAiLAI53NCAAAMtkLnc0IAAKbEbOdzQgAATNNs53NCAABWgpXnc0IAAEhNuudzQgAA8C/k53NCAACkZevnc0IAAHZxDehzQgAAqu886HNCAACMXlXoc0IAAAiXZOhzQgAAXBLg6HNCAABY7Qjpc0IAADQJL+lzQgAAFtI46XNCAAC0lorpc0IAAObK9ulzQgAAYvUx6nNCAAAkUkDqc0IAAKgSR+pzQgAAxoeG6nNCAAAYl53qc0IAAJY0J+tzQgAA0pQ/63NCAAA0+Xjrc0IAAHq8nOtzQgAAGhfP63NCAAByH+frc0IAAHIf5+tzQgAA7M/p63NCAABuoB7sc0IAAMyhN+xzQgAAuCc+7HNCAAAMBJXsc0IAACy1w+xzQgAA9LDh7HNCAAC4NCHtc0IAAN6SM+1zQgAAjBRt7XNCAACGbYLuc0IAAFRpi+5zQgAAkqc35HNCAADuEnDkc0IAAHpUhORzQgAAEkNn5HNCAACY1qblc0IAAIJeB+ZzQgAAEBNq5nNCAABqBGrmc0IAAHxx+OdzQgAASo+i6HNCAACwUfTmc0IAAOjCo+hzQgAA/Hn16XNCAABWgpXnc0IAAIqf6edzQgAAznFK6XNCAAC0lorpc0IAAFx0rOdzQgAAgCYv6XNCAACea/noc0IAAMpgQOpzQgAA9hsC53NCAAD451Doc0IAAGanQudzQgAARIfc6XNCAAAI6Inqc0IAAIrMi+tzQgAAcrA37HNCAABwwGXsc0IAAE780uxzQgAAoPYr7XNCAAAKwMrtc0IAAM7Hd+1zQgAAgke673NCAABeGLTuc0IAAGhfF+9zQg==\",\"dtype\":\"float64\",\"order\":\"little\",\"shape\":[143]},\"index\":[522,523,524,525,526,527,528,529,530,531,532,533,534,535,536,537,538,539,540,541,542,543,544,545,546,547,548,549,550,551,552,553,554,555,556,557,558,559,560,561,562,563,564,565,566,567,568,569,570,571,572,573,574,575,576,577,578,579,580,581,582,583,584,585,586,587,588,589,590,591,592,593,594,595,596,597,598,599,600,601,602,603,604,605,606,607,608,609,610,611,612,613,614,615,616,617,618,619,620,621,622,623,624,625,626,627,628,2469,2470,2471,2472,2473,2474,2475,2476,2477,2478,2479,2480,2481,2482,2483,2484,2485,2486,2487,2488,2489,2490,2491,2492,2493,2494,2495,2496,2497,2498,2499,2500,2501,2502,2503,2504],\"y_index\":[13,13,13,13,13,13,13,13,13,13,13,13,13,13,13,13,13,13,13,13,13,13,13,13,13,13,13,13,13,13,13,13,13,13,13,13,13,13,13,13,13,13,13,13,13,13,13,13,13,13,13,13,13,13,13,13,13,13,13,13,13,13,13,13,13,13,13,13,13,13,13,13,13,13,13,13,13,13,13,13,13,13,13,13,13,13,13,13,13,13,13,13,13,13,13,13,13,13,13,13,13,13,13,13,13,13,13,13,13,13,13,13,13,13,13,13,13,13,13,13,13,13,13,13,13,13,13,13,13,13,13,13,13,13,13,13,13,13,13,13,13,13,13]},\"selected\":{\"id\":\"9394\"},\"selection_policy\":{\"id\":\"9393\"}},\"id\":\"8638\",\"type\":\"ColumnDataSource\"},{\"attributes\":{\"fill_alpha\":{\"value\":0.1},\"fill_color\":{\"value\":\"#208F8C\"},\"hatch_alpha\":{\"value\":0.1},\"hatch_color\":{\"value\":\"#208F8C\"},\"line_alpha\":{\"value\":0.1},\"line_color\":{\"value\":\"#208F8C\"},\"marker\":{\"value\":\"diamond\"},\"size\":{\"value\":10},\"x\":{\"field\":\"date_time\"},\"y\":{\"field\":\"y_index\"}},\"id\":\"9218\",\"type\":\"Scatter\"},{\"attributes\":{\"fill_alpha\":{\"value\":0.2},\"fill_color\":{\"value\":\"#32638D\"},\"hatch_alpha\":{\"value\":0.2},\"hatch_color\":{\"value\":\"#32638D\"},\"line_alpha\":{\"value\":0.2},\"line_color\":{\"value\":\"#32638D\"},\"marker\":{\"value\":\"diamond\"},\"size\":{\"value\":10},\"x\":{\"field\":\"date_time\"},\"y\":{\"field\":\"y_index\"}},\"id\":\"9149\",\"type\":\"Scatter\"},{\"attributes\":{},\"id\":\"9439\",\"type\":\"UnionRenderers\"},{\"attributes\":{\"label\":{\"value\":\"u34\"},\"renderers\":[{\"id\":\"9213\"}]},\"id\":\"9215\",\"type\":\"LegendItem\"},{\"attributes\":{\"coordinates\":null,\"data_source\":{\"id\":\"8643\"},\"glyph\":{\"id\":\"9147\"},\"group\":null,\"hover_glyph\":null,\"muted_glyph\":{\"id\":\"9149\"},\"nonselection_glyph\":{\"id\":\"9148\"},\"view\":{\"id\":\"9151\"}},\"id\":\"9150\",\"type\":\"GlyphRenderer\"},{\"attributes\":{\"fill_alpha\":{\"value\":0.1},\"fill_color\":{\"value\":\"#30688D\"},\"hatch_alpha\":{\"value\":0.1},\"hatch_color\":{\"value\":\"#30688D\"},\"line_alpha\":{\"value\":0.1},\"line_color\":{\"value\":\"#30688D\"},\"marker\":{\"value\":\"diamond\"},\"size\":{\"value\":10},\"x\":{\"field\":\"date_time\"},\"y\":{\"field\":\"y_index\"}},\"id\":\"9155\",\"type\":\"Scatter\"},{\"attributes\":{},\"id\":\"9440\",\"type\":\"Selection\"},{\"attributes\":{\"label\":{\"value\":\"u22\"},\"renderers\":[{\"id\":\"9150\"}]},\"id\":\"9152\",\"type\":\"LegendItem\"},{\"attributes\":{\"source\":{\"id\":\"8643\"}},\"id\":\"9151\",\"type\":\"CDSView\"},{\"attributes\":{\"fill_alpha\":{\"value\":0.5},\"fill_color\":{\"value\":\"#30688D\"},\"hatch_alpha\":{\"value\":0.5},\"hatch_color\":{\"value\":\"#30688D\"},\"line_alpha\":{\"value\":0.5},\"line_color\":{\"value\":\"#30688D\"},\"marker\":{\"value\":\"diamond\"},\"size\":{\"value\":10},\"x\":{\"field\":\"date_time\"},\"y\":{\"field\":\"y_index\"}},\"id\":\"9154\",\"type\":\"Scatter\"},{\"attributes\":{\"fill_alpha\":{\"value\":0.2},\"fill_color\":{\"value\":\"#30688D\"},\"hatch_alpha\":{\"value\":0.2},\"hatch_color\":{\"value\":\"#30688D\"},\"line_alpha\":{\"value\":0.2},\"line_color\":{\"value\":\"#30688D\"},\"marker\":{\"value\":\"diamond\"},\"size\":{\"value\":10},\"x\":{\"field\":\"date_time\"},\"y\":{\"field\":\"y_index\"}},\"id\":\"9156\",\"type\":\"Scatter\"},{\"attributes\":{\"coordinates\":null,\"data_source\":{\"id\":\"8652\"},\"glyph\":{\"id\":\"9210\"},\"group\":null,\"hover_glyph\":null,\"muted_glyph\":{\"id\":\"9212\"},\"nonselection_glyph\":{\"id\":\"9211\"},\"view\":{\"id\":\"9214\"}},\"id\":\"9213\",\"type\":\"GlyphRenderer\"},{\"attributes\":{\"coordinates\":null,\"data_source\":{\"id\":\"8644\"},\"glyph\":{\"id\":\"9154\"},\"group\":null,\"hover_glyph\":null,\"muted_glyph\":{\"id\":\"9156\"},\"nonselection_glyph\":{\"id\":\"9155\"},\"view\":{\"id\":\"9158\"}},\"id\":\"9157\",\"type\":\"GlyphRenderer\"},{\"attributes\":{\"fill_alpha\":{\"value\":0.1},\"fill_color\":{\"value\":\"#2E6D8E\"},\"hatch_alpha\":{\"value\":0.1},\"hatch_color\":{\"value\":\"#2E6D8E\"},\"line_alpha\":{\"value\":0.1},\"line_color\":{\"value\":\"#2E6D8E\"},\"marker\":{\"value\":\"diamond\"},\"size\":{\"value\":10},\"x\":{\"field\":\"date_time\"},\"y\":{\"field\":\"y_index\"}},\"id\":\"9162\",\"type\":\"Scatter\"},{\"attributes\":{\"label\":{\"value\":\"u23\"},\"renderers\":[{\"id\":\"9157\"}]},\"id\":\"9159\",\"type\":\"LegendItem\"},{\"attributes\":{\"source\":{\"id\":\"8644\"}},\"id\":\"9158\",\"type\":\"CDSView\"},{\"attributes\":{\"fill_alpha\":{\"value\":0.5},\"fill_color\":{\"value\":\"#2E6D8E\"},\"hatch_alpha\":{\"value\":0.5},\"hatch_color\":{\"value\":\"#2E6D8E\"},\"line_alpha\":{\"value\":0.5},\"line_color\":{\"value\":\"#2E6D8E\"},\"marker\":{\"value\":\"diamond\"},\"size\":{\"value\":10},\"x\":{\"field\":\"date_time\"},\"y\":{\"field\":\"y_index\"}},\"id\":\"9161\",\"type\":\"Scatter\"},{\"attributes\":{\"data\":{\"date_time\":{\"__ndarray__\":\"AABOuszac0IAAIK7eNtzQgAAgrt423NCAACCu3jbc0IAAPDMgNtzQgAAvg2923NCAAC4Z8Pbc0IAAMLKzttzQgAAEv/R23NCAACCkfzbc0IAAMrqANxzQgAAzqcS3HNCAAASkCLcc0IAAFJhL9xzQgAAVJY03HNCAADoBU/cc0IAAPhacdxzQgAACKmp3HNCAADOHLvcc0IAAFpez9xzQgAA6r3Q3HNCAABsNBTdc0IAAM75KN1zQgAAcJBK3XNCAACkHE7dc0IAAMp6YN1zQgAABABl3XNCAACAi3vdc0IAANrImN1zQgAAIhuz3XNCAAA4Hbndc0IAADr4zN1zQgAAFsHr3XNCAABSdAvec0IAAKZlIN5zQgAAou1B3nNCAAC+4V7ec0IAAL40Zt5zQgAA3BFr3nNCAADcsI/ec0IAAIwbsd5zQgAA4Ga33nNCAABo67nec0IAAATc4d5zQgAAlI7q3nNCAACyvvbec0IAABoqBd9zQgAAXldI33NCAADWy1vfc0IAAIbqX99zQgAA1nFq33NCAAAiLo/fc0IAAER1nt9zQgAADMut33NCAABUvOzfc0IAABZXROBzQgAAghef4HNCAAAWJt7gc0IAADx9BuFzQgAASAdD4XNCAADc0E7hc0IAAJxEdeFzQgAAwpud4XNCAADEb8fhc0IAAI6EQuJzQgAAhMdF4nNCAAB69Yric0IAAAqav+JzQgAA+i/f4nNCAAAm4ePic0IAANKO8+JzQgAA2NMR43NCAACELhrjc0IAAEr1MuNzQgAAFNo443NCAAB2TEbjc0IAACp7Y+NzQgAAyK5k43NCAADgkmjjc0IAAGAumONzQgAA8Nm243NCAAB6jNTjc0IAAHoy4+NzQgAANK0I5HNCAABkdRDkc0IAAALnWuRzQgAABBxg5HNCAADOTIPkc0IAAK62C+VzQgAA4Fkn5XNCAAD+e1/lc0IAANi8ceVzQgAArpN55XNCAADilCXmc0IAAM5YdeZzQgAAyDvx53NCAAD01zfoc0IAAJbBYOhzQgAAUFZM6nNCAAAQw4jqc0IAALbRiOpzQgAATi4q63NCAADCdnzrc0IAAPx9DO1zQgAAAuda5HNCAACk123kc0IAAHRbg+RzQgAAuKCq6HNCAADQeLzmc0IAANTf8+lzQgAAOKSf6HNCAAD8iavnc0IAAOBJxO5zQgAAXjNr73NCAACmP2Hwc0I=\",\"dtype\":\"float64\",\"order\":\"little\",\"shape\":[115]},\"index\":[342,343,344,345,346,347,348,349,350,351,352,353,354,355,356,357,358,359,360,361,362,363,364,365,366,367,368,369,370,371,372,373,374,375,376,377,378,379,380,381,382,383,384,385,386,387,388,389,390,391,392,393,394,395,396,397,398,399,400,401,402,403,404,405,406,407,408,409,410,411,412,413,414,415,416,417,418,419,420,421,422,423,424,425,426,427,428,429,430,431,432,433,434,435,436,437,438,439,440,441,442,443,444,445,2531,2532,2533,2534,2535,2536,2537,2538,2539,2540,2541],\"y_index\":[9,9,9,9,9,9,9,9,9,9,9,9,9,9,9,9,9,9,9,9,9,9,9,9,9,9,9,9,9,9,9,9,9,9,9,9,9,9,9,9,9,9,9,9,9,9,9,9,9,9,9,9,9,9,9,9,9,9,9,9,9,9,9,9,9,9,9,9,9,9,9,9,9,9,9,9,9,9,9,9,9,9,9,9,9,9,9,9,9,9,9,9,9,9,9,9,9,9,9,9,9,9,9,9,9,9,9,9,9,9,9,9,9,9,9]},\"selected\":{\"id\":\"9386\"},\"selection_policy\":{\"id\":\"9385\"}},\"id\":\"8634\",\"type\":\"ColumnDataSource\"},{\"attributes\":{\"fill_alpha\":{\"value\":0.5},\"fill_color\":{\"value\":\"#51C468\"},\"hatch_alpha\":{\"value\":0.5},\"hatch_color\":{\"value\":\"#51C468\"},\"line_alpha\":{\"value\":0.5},\"line_color\":{\"value\":\"#51C468\"},\"marker\":{\"value\":\"diamond\"},\"size\":{\"value\":10},\"x\":{\"field\":\"date_time\"},\"y\":{\"field\":\"y_index\"}},\"id\":\"9308\",\"type\":\"Scatter\"},{\"attributes\":{\"fill_alpha\":{\"value\":0.2},\"fill_color\":{\"value\":\"#2E6D8E\"},\"hatch_alpha\":{\"value\":0.2},\"hatch_color\":{\"value\":\"#2E6D8E\"},\"line_alpha\":{\"value\":0.2},\"line_color\":{\"value\":\"#2E6D8E\"},\"marker\":{\"value\":\"diamond\"},\"size\":{\"value\":10},\"x\":{\"field\":\"date_time\"},\"y\":{\"field\":\"y_index\"}},\"id\":\"9163\",\"type\":\"Scatter\"},{\"attributes\":{\"fill_alpha\":{\"value\":0.2},\"fill_color\":{\"value\":\"#228A8D\"},\"hatch_alpha\":{\"value\":0.2},\"hatch_color\":{\"value\":\"#228A8D\"},\"line_alpha\":{\"value\":0.2},\"line_color\":{\"value\":\"#228A8D\"},\"marker\":{\"value\":\"diamond\"},\"size\":{\"value\":10},\"x\":{\"field\":\"date_time\"},\"y\":{\"field\":\"y_index\"}},\"id\":\"9212\",\"type\":\"Scatter\"},{\"attributes\":{},\"id\":\"9441\",\"type\":\"UnionRenderers\"},{\"attributes\":{\"coordinates\":null,\"data_source\":{\"id\":\"8645\"},\"glyph\":{\"id\":\"9161\"},\"group\":null,\"hover_glyph\":null,\"muted_glyph\":{\"id\":\"9163\"},\"nonselection_glyph\":{\"id\":\"9162\"},\"view\":{\"id\":\"9165\"}},\"id\":\"9164\",\"type\":\"GlyphRenderer\"},{\"attributes\":{\"fill_alpha\":{\"value\":0.1},\"fill_color\":{\"value\":\"#2C718E\"},\"hatch_alpha\":{\"value\":0.1},\"hatch_color\":{\"value\":\"#2C718E\"},\"line_alpha\":{\"value\":0.1},\"line_color\":{\"value\":\"#2C718E\"},\"marker\":{\"value\":\"diamond\"},\"size\":{\"value\":10},\"x\":{\"field\":\"date_time\"},\"y\":{\"field\":\"y_index\"}},\"id\":\"9169\",\"type\":\"Scatter\"},{\"attributes\":{\"label\":{\"value\":\"u24\"},\"renderers\":[{\"id\":\"9164\"}]},\"id\":\"9166\",\"type\":\"LegendItem\"},{\"attributes\":{},\"id\":\"9442\",\"type\":\"Selection\"},{\"attributes\":{\"source\":{\"id\":\"8645\"}},\"id\":\"9165\",\"type\":\"CDSView\"},{\"attributes\":{\"fill_alpha\":{\"value\":0.5},\"fill_color\":{\"value\":\"#2C718E\"},\"hatch_alpha\":{\"value\":0.5},\"hatch_color\":{\"value\":\"#2C718E\"},\"line_alpha\":{\"value\":0.5},\"line_color\":{\"value\":\"#2C718E\"},\"marker\":{\"value\":\"diamond\"},\"size\":{\"value\":10},\"x\":{\"field\":\"date_time\"},\"y\":{\"field\":\"y_index\"}},\"id\":\"9168\",\"type\":\"Scatter\"},{\"attributes\":{\"fill_alpha\":{\"value\":0.5},\"fill_color\":{\"value\":\"#228A8D\"},\"hatch_alpha\":{\"value\":0.5},\"hatch_color\":{\"value\":\"#228A8D\"},\"line_alpha\":{\"value\":0.5},\"line_color\":{\"value\":\"#228A8D\"},\"marker\":{\"value\":\"diamond\"},\"size\":{\"value\":10},\"x\":{\"field\":\"date_time\"},\"y\":{\"field\":\"y_index\"}},\"id\":\"9210\",\"type\":\"Scatter\"},{\"attributes\":{\"fill_alpha\":{\"value\":0.2},\"fill_color\":{\"value\":\"#2C718E\"},\"hatch_alpha\":{\"value\":0.2},\"hatch_color\":{\"value\":\"#2C718E\"},\"line_alpha\":{\"value\":0.2},\"line_color\":{\"value\":\"#2C718E\"},\"marker\":{\"value\":\"diamond\"},\"size\":{\"value\":10},\"x\":{\"field\":\"date_time\"},\"y\":{\"field\":\"y_index\"}},\"id\":\"9170\",\"type\":\"Scatter\"},{\"attributes\":{\"coordinates\":null,\"data_source\":{\"id\":\"8646\"},\"glyph\":{\"id\":\"9168\"},\"group\":null,\"hover_glyph\":null,\"muted_glyph\":{\"id\":\"9170\"},\"nonselection_glyph\":{\"id\":\"9169\"},\"view\":{\"id\":\"9172\"}},\"id\":\"9171\",\"type\":\"GlyphRenderer\"},{\"attributes\":{\"fill_alpha\":{\"value\":0.1},\"fill_color\":{\"value\":\"#2A768E\"},\"hatch_alpha\":{\"value\":0.1},\"hatch_color\":{\"value\":\"#2A768E\"},\"line_alpha\":{\"value\":0.1},\"line_color\":{\"value\":\"#2A768E\"},\"marker\":{\"value\":\"diamond\"},\"size\":{\"value\":10},\"x\":{\"field\":\"date_time\"},\"y\":{\"field\":\"y_index\"}},\"id\":\"9176\",\"type\":\"Scatter\"},{\"attributes\":{\"label\":{\"value\":\"u25\"},\"renderers\":[{\"id\":\"9171\"}]},\"id\":\"9173\",\"type\":\"LegendItem\"},{\"attributes\":{\"data\":{\"date_time\":{\"__ndarray__\":\"AABaWcfac0IAAJgzGNtzQgAAWJlq23NC\",\"dtype\":\"float64\",\"order\":\"little\",\"shape\":[3]},\"index\":[339,340,341],\"y_index\":[8,8,8]},\"selected\":{\"id\":\"9384\"},\"selection_policy\":{\"id\":\"9383\"}},\"id\":\"8633\",\"type\":\"ColumnDataSource\"},{\"attributes\":{\"source\":{\"id\":\"8646\"}},\"id\":\"9172\",\"type\":\"CDSView\"},{\"attributes\":{\"fill_alpha\":{\"value\":0.5},\"fill_color\":{\"value\":\"#2A768E\"},\"hatch_alpha\":{\"value\":0.5},\"hatch_color\":{\"value\":\"#2A768E\"},\"line_alpha\":{\"value\":0.5},\"line_color\":{\"value\":\"#2A768E\"},\"marker\":{\"value\":\"diamond\"},\"size\":{\"value\":10},\"x\":{\"field\":\"date_time\"},\"y\":{\"field\":\"y_index\"}},\"id\":\"9175\",\"type\":\"Scatter\"},{\"attributes\":{\"fill_alpha\":{\"value\":0.2},\"fill_color\":{\"value\":\"#2A768E\"},\"hatch_alpha\":{\"value\":0.2},\"hatch_color\":{\"value\":\"#2A768E\"},\"line_alpha\":{\"value\":0.2},\"line_color\":{\"value\":\"#2A768E\"},\"marker\":{\"value\":\"diamond\"},\"size\":{\"value\":10},\"x\":{\"field\":\"date_time\"},\"y\":{\"field\":\"y_index\"}},\"id\":\"9177\",\"type\":\"Scatter\"},{\"attributes\":{\"source\":{\"id\":\"8651\"}},\"id\":\"9207\",\"type\":\"CDSView\"},{\"attributes\":{\"coordinates\":null,\"data_source\":{\"id\":\"8647\"},\"glyph\":{\"id\":\"9175\"},\"group\":null,\"hover_glyph\":null,\"muted_glyph\":{\"id\":\"9177\"},\"nonselection_glyph\":{\"id\":\"9176\"},\"view\":{\"id\":\"9179\"}},\"id\":\"9178\",\"type\":\"GlyphRenderer\"},{\"attributes\":{},\"id\":\"9443\",\"type\":\"UnionRenderers\"},{\"attributes\":{\"data\":{\"date_time\":{\"__ndarray__\":\"AAAqn5Pac0IAAEgbvdpzQgAAwh7H2nNCAACQE+bac0IAACiTGdtzQgAAlK1l23NCAACqr2vbc0IAANxEs9tzQgAAGP+823NCAABOnTPcc0IAANKbg9xzQgAA1BW83HNCAABgV9Dcc0IAAO5sDt1zQgAAWA0i3XNCAAA8uCndc0IAAADpYd1zQgAAflZ23XNCAACYrcjdc0IAAKiaJd5zQgAA6FZ03nNCAAC0vJzec0IAAOJItd5zQgAA8lG63nNCAADgDMbec0IAALqZ9d5zQgAAqnRI33NCAAD2MG3fc0IAAAIVm99zQgAAhDHt33NCAAAGTj/gc0IAAGgTVOBzQgAAxgaZ4HNCAABUHNfgc0IAAO6L3OBzQgAAVLv74HNCAAAsxwjhc0IAACYMUeFzQgAAgFBY4XNCAAAIwJzhc0IAAErGruFzQgAA8GX/4XNCAABWa6Lic0IAAAiOReNzQgAAsnQO5HNCAABQOWDkc0IAAPSAGeVzQgAABIM05XNCAADIDV7lc0IAAHiv3uVzQgAAXEUo5nNCAAAiUXTmc0IAAFj9vuZzQgAAhOUi53NCAABa+nPnc0IAAPRUu+dzQgAAXF/u53NCAAAang/oc0IAAKhuGuhzQgAAuMM86HNCAAAoA2Doc0IAAAoRnehzQgAAdMxn6XNCAADKKeHpc0IAAOKsCepzQgAAkmNI6nNCAAD0x4Hqc0IAAOQKmupzQgAAjtar6nNCAACCz+vqc0IAALYB/upzQgAAPI9E63NCAAAWAMzrc0IAAISw+OtzQgAAgm0f7HNCAAA+ykLsc0IAABi4TexzQgAAdCpw7HNCAAD2AY/sc0IAAKSRnOxzQgAActnC7HNCAADia+3sc0IAACRrFe1zQgAAztw17XNCAAAgOGrtc0IAAFLbhe1zQgAAUoGU7XNCAABuDeztc0IAAJLiAO9zQgAAyNN+73NCAACk4dDvc0IAAIbewORzQgAAXEAg5HNCAACwyW/kc0IAAJqCNuRzQgAAHr7e5XNCAAAu8G7mc0IAAHCarehzQgAA/gu/5nNCAAAAkfjpc0IAAITlIudzQgAAIo+95nNCAAD4A/nnc0IAAJyrnOlzQgAAwF8B6XNCAAC2Af7qc0IAACiR3etzQgAAdtz463NCAAAYuE3sc0IAAKSRnOxzQgAAaM7G7nNCAAAItUHtc0IAAMjTfu9zQgAAxtDQ7XNCAACIQLvvc0I=\",\"dtype\":\"float64\",\"order\":\"little\",\"shape\":[115]},\"index\":[687,688,689,690,691,692,693,694,695,696,697,698,699,700,701,702,703,704,705,706,707,708,709,710,711,712,713,714,715,716,717,718,719,720,721,722,723,724,725,726,727,728,729,730,731,732,733,734,735,736,737,738,739,740,741,742,743,744,745,746,747,748,749,750,751,752,753,754,755,756,757,758,759,760,761,762,763,764,765,766,767,768,769,770,771,772,773,774,775,776,777,2347,2348,2349,2350,2351,2352,2353,2354,2355,2356,2357,2358,2359,2360,2361,2362,2363,2364,2365,2366,2367,2368,2369,2370],\"y_index\":[16,16,16,16,16,16,16,16,16,16,16,16,16,16,16,16,16,16,16,16,16,16,16,16,16,16,16,16,16,16,16,16,16,16,16,16,16,16,16,16,16,16,16,16,16,16,16,16,16,16,16,16,16,16,16,16,16,16,16,16,16,16,16,16,16,16,16,16,16,16,16,16,16,16,16,16,16,16,16,16,16,16,16,16,16,16,16,16,16,16,16,16,16,16,16,16,16,16,16,16,16,16,16,16,16,16,16,16,16,16,16,16,16,16,16]},\"selected\":{\"id\":\"9400\"},\"selection_policy\":{\"id\":\"9399\"}},\"id\":\"8641\",\"type\":\"ColumnDataSource\"},{\"attributes\":{\"fill_alpha\":{\"value\":0.1},\"fill_color\":{\"value\":\"#287A8E\"},\"hatch_alpha\":{\"value\":0.1},\"hatch_color\":{\"value\":\"#287A8E\"},\"line_alpha\":{\"value\":0.1},\"line_color\":{\"value\":\"#287A8E\"},\"marker\":{\"value\":\"diamond\"},\"size\":{\"value\":10},\"x\":{\"field\":\"date_time\"},\"y\":{\"field\":\"y_index\"}},\"id\":\"9183\",\"type\":\"Scatter\"},{\"attributes\":{\"label\":{\"value\":\"u27\"},\"renderers\":[{\"id\":\"9178\"}]},\"id\":\"9180\",\"type\":\"LegendItem\"},{\"attributes\":{},\"id\":\"9444\",\"type\":\"Selection\"},{\"attributes\":{\"source\":{\"id\":\"8647\"}},\"id\":\"9179\",\"type\":\"CDSView\"},{\"attributes\":{\"fill_alpha\":{\"value\":0.5},\"fill_color\":{\"value\":\"#287A8E\"},\"hatch_alpha\":{\"value\":0.5},\"hatch_color\":{\"value\":\"#287A8E\"},\"line_alpha\":{\"value\":0.5},\"line_color\":{\"value\":\"#287A8E\"},\"marker\":{\"value\":\"diamond\"},\"size\":{\"value\":10},\"x\":{\"field\":\"date_time\"},\"y\":{\"field\":\"y_index\"}},\"id\":\"9182\",\"type\":\"Scatter\"},{\"attributes\":{\"fill_alpha\":{\"value\":0.1},\"fill_color\":{\"value\":\"#228A8D\"},\"hatch_alpha\":{\"value\":0.1},\"hatch_color\":{\"value\":\"#228A8D\"},\"line_alpha\":{\"value\":0.1},\"line_color\":{\"value\":\"#228A8D\"},\"marker\":{\"value\":\"diamond\"},\"size\":{\"value\":10},\"x\":{\"field\":\"date_time\"},\"y\":{\"field\":\"y_index\"}},\"id\":\"9211\",\"type\":\"Scatter\"},{\"attributes\":{\"fill_alpha\":{\"value\":0.2},\"fill_color\":{\"value\":\"#287A8E\"},\"hatch_alpha\":{\"value\":0.2},\"hatch_color\":{\"value\":\"#287A8E\"},\"line_alpha\":{\"value\":0.2},\"line_color\":{\"value\":\"#287A8E\"},\"marker\":{\"value\":\"diamond\"},\"size\":{\"value\":10},\"x\":{\"field\":\"date_time\"},\"y\":{\"field\":\"y_index\"}},\"id\":\"9184\",\"type\":\"Scatter\"},{\"attributes\":{\"label\":{\"value\":\"u33\"},\"renderers\":[{\"id\":\"9206\"}]},\"id\":\"9208\",\"type\":\"LegendItem\"},{\"attributes\":{\"coordinates\":null,\"data_source\":{\"id\":\"8648\"},\"glyph\":{\"id\":\"9182\"},\"group\":null,\"hover_glyph\":null,\"muted_glyph\":{\"id\":\"9184\"},\"nonselection_glyph\":{\"id\":\"9183\"},\"view\":{\"id\":\"9186\"}},\"id\":\"9185\",\"type\":\"GlyphRenderer\"},{\"attributes\":{\"fill_alpha\":{\"value\":0.1},\"fill_color\":{\"value\":\"#277E8E\"},\"hatch_alpha\":{\"value\":0.1},\"hatch_color\":{\"value\":\"#277E8E\"},\"line_alpha\":{\"value\":0.1},\"line_color\":{\"value\":\"#277E8E\"},\"marker\":{\"value\":\"diamond\"},\"size\":{\"value\":10},\"x\":{\"field\":\"date_time\"},\"y\":{\"field\":\"y_index\"}},\"id\":\"9190\",\"type\":\"Scatter\"},{\"attributes\":{\"data\":{\"date_time\":{\"__ndarray__\":\"AAB0JrPac0IAAKLUbNtzQgAAOqC923NCAADwCdncc0IAAEZZft1zQgAAZmSe3XNCAADkMZ3ec0IAAIZ1t95zQgAAhH773nNCAAB+693gc0IAABYl7eFzQgAAEkVJ4nNCAAAMfL3ic0IAAHjTYeRzQgAAPk1s5XNCAAAIhXnlc0IAACSBceRzQgAApAUB53NCAACmRvjoc0IAAKiEHO5zQg==\",\"dtype\":\"float64\",\"order\":\"little\",\"shape\":[20]},\"index\":[671,672,673,674,675,676,677,678,679,680,681,682,683,684,685,686,2429,2430,2431,2432],\"y_index\":[15,15,15,15,15,15,15,15,15,15,15,15,15,15,15,15,15,15,15,15]},\"selected\":{\"id\":\"9398\"},\"selection_policy\":{\"id\":\"9397\"}},\"id\":\"8640\",\"type\":\"ColumnDataSource\"},{\"attributes\":{\"label\":{\"value\":\"u30\"},\"renderers\":[{\"id\":\"9185\"}]},\"id\":\"9187\",\"type\":\"LegendItem\"},{\"attributes\":{\"source\":{\"id\":\"8648\"}},\"id\":\"9186\",\"type\":\"CDSView\"},{\"attributes\":{\"fill_alpha\":{\"value\":0.5},\"fill_color\":{\"value\":\"#277E8E\"},\"hatch_alpha\":{\"value\":0.5},\"hatch_color\":{\"value\":\"#277E8E\"},\"line_alpha\":{\"value\":0.5},\"line_color\":{\"value\":\"#277E8E\"},\"marker\":{\"value\":\"diamond\"},\"size\":{\"value\":10},\"x\":{\"field\":\"date_time\"},\"y\":{\"field\":\"y_index\"}},\"id\":\"9189\",\"type\":\"Scatter\"},{\"attributes\":{\"fill_alpha\":{\"value\":0.2},\"fill_color\":{\"value\":\"#51C468\"},\"hatch_alpha\":{\"value\":0.2},\"hatch_color\":{\"value\":\"#51C468\"},\"line_alpha\":{\"value\":0.2},\"line_color\":{\"value\":\"#51C468\"},\"marker\":{\"value\":\"diamond\"},\"size\":{\"value\":10},\"x\":{\"field\":\"date_time\"},\"y\":{\"field\":\"y_index\"}},\"id\":\"9310\",\"type\":\"Scatter\"},{\"attributes\":{\"fill_alpha\":{\"value\":0.2},\"fill_color\":{\"value\":\"#277E8E\"},\"hatch_alpha\":{\"value\":0.2},\"hatch_color\":{\"value\":\"#277E8E\"},\"line_alpha\":{\"value\":0.2},\"line_color\":{\"value\":\"#277E8E\"},\"marker\":{\"value\":\"diamond\"},\"size\":{\"value\":10},\"x\":{\"field\":\"date_time\"},\"y\":{\"field\":\"y_index\"}},\"id\":\"9191\",\"type\":\"Scatter\"},{\"attributes\":{\"coordinates\":null,\"data_source\":{\"id\":\"8651\"},\"glyph\":{\"id\":\"9203\"},\"group\":null,\"hover_glyph\":null,\"muted_glyph\":{\"id\":\"9205\"},\"nonselection_glyph\":{\"id\":\"9204\"},\"view\":{\"id\":\"9207\"}},\"id\":\"9206\",\"type\":\"GlyphRenderer\"},{\"attributes\":{\"coordinates\":null,\"data_source\":{\"id\":\"8649\"},\"glyph\":{\"id\":\"9189\"},\"group\":null,\"hover_glyph\":null,\"muted_glyph\":{\"id\":\"9191\"},\"nonselection_glyph\":{\"id\":\"9190\"},\"view\":{\"id\":\"9193\"}},\"id\":\"9192\",\"type\":\"GlyphRenderer\"},{\"attributes\":{},\"id\":\"9445\",\"type\":\"UnionRenderers\"},{\"attributes\":{\"label\":{\"value\":\"u31\"},\"renderers\":[{\"id\":\"9192\"}]},\"id\":\"9194\",\"type\":\"LegendItem\"},{\"attributes\":{\"source\":{\"id\":\"8649\"}},\"id\":\"9193\",\"type\":\"CDSView\"},{\"attributes\":{},\"id\":\"9446\",\"type\":\"Selection\"},{\"attributes\":{\"fill_alpha\":{\"value\":0.5},\"fill_color\":{\"value\":\"#25828E\"},\"hatch_alpha\":{\"value\":0.5},\"hatch_color\":{\"value\":\"#25828E\"},\"line_alpha\":{\"value\":0.5},\"line_color\":{\"value\":\"#25828E\"},\"marker\":{\"value\":\"diamond\"},\"size\":{\"value\":10},\"x\":{\"field\":\"date_time\"},\"y\":{\"field\":\"y_index\"}},\"id\":\"9196\",\"type\":\"Scatter\"},{\"attributes\":{},\"id\":\"9361\",\"type\":\"BasicTickFormatter\"},{\"attributes\":{\"fill_alpha\":{\"value\":0.2},\"fill_color\":{\"value\":\"#23878D\"},\"hatch_alpha\":{\"value\":0.2},\"hatch_color\":{\"value\":\"#23878D\"},\"line_alpha\":{\"value\":0.2},\"line_color\":{\"value\":\"#23878D\"},\"marker\":{\"value\":\"diamond\"},\"size\":{\"value\":10},\"x\":{\"field\":\"date_time\"},\"y\":{\"field\":\"y_index\"}},\"id\":\"9205\",\"type\":\"Scatter\"},{\"attributes\":{},\"id\":\"9362\",\"type\":\"AllLabels\"},{\"attributes\":{\"label\":{\"value\":\"u32\"},\"renderers\":[{\"id\":\"9199\"}]},\"id\":\"9201\",\"type\":\"LegendItem\"},{\"attributes\":{\"fill_alpha\":{\"value\":0.1},\"fill_color\":{\"value\":\"#23878D\"},\"hatch_alpha\":{\"value\":0.1},\"hatch_color\":{\"value\":\"#23878D\"},\"line_alpha\":{\"value\":0.1},\"line_color\":{\"value\":\"#23878D\"},\"marker\":{\"value\":\"diamond\"},\"size\":{\"value\":10},\"x\":{\"field\":\"date_time\"},\"y\":{\"field\":\"y_index\"}},\"id\":\"9204\",\"type\":\"Scatter\"},{\"attributes\":{\"fill_alpha\":{\"value\":0.5},\"fill_color\":{\"value\":\"#23878D\"},\"hatch_alpha\":{\"value\":0.5},\"hatch_color\":{\"value\":\"#23878D\"},\"line_alpha\":{\"value\":0.5},\"line_color\":{\"value\":\"#23878D\"},\"marker\":{\"value\":\"diamond\"},\"size\":{\"value\":10},\"x\":{\"field\":\"date_time\"},\"y\":{\"field\":\"y_index\"}},\"id\":\"9203\",\"type\":\"Scatter\"},{\"attributes\":{\"coordinates\":null,\"data_source\":{\"id\":\"8653\"},\"glyph\":{\"id\":\"9217\"},\"group\":null,\"hover_glyph\":null,\"muted_glyph\":{\"id\":\"9219\"},\"nonselection_glyph\":{\"id\":\"9218\"},\"view\":{\"id\":\"9221\"}},\"id\":\"9220\",\"type\":\"GlyphRenderer\"},{\"attributes\":{\"tools\":[{\"id\":\"8673\"},{\"id\":\"8693\"},{\"id\":\"8694\"},{\"id\":\"8695\"},{\"id\":\"8696\"},{\"id\":\"8697\"}]},\"id\":\"8699\",\"type\":\"Toolbar\"},{\"attributes\":{\"fill_alpha\":{\"value\":0.1},\"fill_color\":{\"value\":\"#1F948B\"},\"hatch_alpha\":{\"value\":0.1},\"hatch_color\":{\"value\":\"#1F948B\"},\"line_alpha\":{\"value\":0.1},\"line_color\":{\"value\":\"#1F948B\"},\"marker\":{\"value\":\"diamond\"},\"size\":{\"value\":10},\"x\":{\"field\":\"date_time\"},\"y\":{\"field\":\"y_index\"}},\"id\":\"9225\",\"type\":\"Scatter\"},{\"attributes\":{},\"id\":\"9364\",\"type\":\"AllLabels\"},{\"attributes\":{\"label\":{\"value\":\"u35\"},\"renderers\":[{\"id\":\"9220\"}]},\"id\":\"9222\",\"type\":\"LegendItem\"},{\"attributes\":{\"source\":{\"id\":\"8653\"}},\"id\":\"9221\",\"type\":\"CDSView\"},{\"attributes\":{\"fill_alpha\":{\"value\":0.5},\"fill_color\":{\"value\":\"#1F948B\"},\"hatch_alpha\":{\"value\":0.5},\"hatch_color\":{\"value\":\"#1F948B\"},\"line_alpha\":{\"value\":0.5},\"line_color\":{\"value\":\"#1F948B\"},\"marker\":{\"value\":\"diamond\"},\"size\":{\"value\":10},\"x\":{\"field\":\"date_time\"},\"y\":{\"field\":\"y_index\"}},\"id\":\"9224\",\"type\":\"Scatter\"},{\"attributes\":{\"fill_alpha\":{\"value\":0.1},\"fill_color\":{\"value\":\"#51C468\"},\"hatch_alpha\":{\"value\":0.1},\"hatch_color\":{\"value\":\"#51C468\"},\"line_alpha\":{\"value\":0.1},\"line_color\":{\"value\":\"#51C468\"},\"marker\":{\"value\":\"diamond\"},\"size\":{\"value\":10},\"x\":{\"field\":\"date_time\"},\"y\":{\"field\":\"y_index\"}},\"id\":\"9309\",\"type\":\"Scatter\"},{\"attributes\":{\"data\":{\"date_time\":{\"__ndarray__\":\"AAAMWsnac0IAAJphM9tzQgAArsZu23NCAAAqPNbcc0IAAJptJd1zQgAAvDDH3XNCAACsCxrec0IAAE5BYN5zQgAAgr6e33NC\",\"dtype\":\"float64\",\"order\":\"little\",\"shape\":[9]},\"index\":[778,779,780,781,782,783,784,785,786],\"y_index\":[17,17,17,17,17,17,17,17,17]},\"selected\":{\"id\":\"9402\"},\"selection_policy\":{\"id\":\"9401\"}},\"id\":\"8642\",\"type\":\"ColumnDataSource\"},{\"attributes\":{\"fill_alpha\":{\"value\":0.2},\"fill_color\":{\"value\":\"#1F948B\"},\"hatch_alpha\":{\"value\":0.2},\"hatch_color\":{\"value\":\"#1F948B\"},\"line_alpha\":{\"value\":0.2},\"line_color\":{\"value\":\"#1F948B\"},\"marker\":{\"value\":\"diamond\"},\"size\":{\"value\":10},\"x\":{\"field\":\"date_time\"},\"y\":{\"field\":\"y_index\"}},\"id\":\"9226\",\"type\":\"Scatter\"},{\"attributes\":{},\"id\":\"9447\",\"type\":\"UnionRenderers\"},{\"attributes\":{\"label\":{\"value\":\"u51\"},\"renderers\":[{\"id\":\"9304\"}]},\"id\":\"9306\",\"type\":\"LegendItem\"},{\"attributes\":{\"coordinates\":null,\"data_source\":{\"id\":\"8654\"},\"glyph\":{\"id\":\"9224\"},\"group\":null,\"hover_glyph\":null,\"muted_glyph\":{\"id\":\"9226\"},\"nonselection_glyph\":{\"id\":\"9225\"},\"view\":{\"id\":\"9228\"}},\"id\":\"9227\",\"type\":\"GlyphRenderer\"},{\"attributes\":{\"fill_alpha\":{\"value\":0.1},\"fill_color\":{\"value\":\"#1E988A\"},\"hatch_alpha\":{\"value\":0.1},\"hatch_color\":{\"value\":\"#1E988A\"},\"line_alpha\":{\"value\":0.1},\"line_color\":{\"value\":\"#1E988A\"},\"marker\":{\"value\":\"diamond\"},\"size\":{\"value\":10},\"x\":{\"field\":\"date_time\"},\"y\":{\"field\":\"y_index\"}},\"id\":\"9232\",\"type\":\"Scatter\"},{\"attributes\":{},\"id\":\"9448\",\"type\":\"Selection\"},{\"attributes\":{\"label\":{\"value\":\"u36\"},\"renderers\":[{\"id\":\"9227\"}]},\"id\":\"9229\",\"type\":\"LegendItem\"},{\"attributes\":{\"source\":{\"id\":\"8654\"}},\"id\":\"9228\",\"type\":\"CDSView\"},{\"attributes\":{\"fill_alpha\":{\"value\":0.5},\"fill_color\":{\"value\":\"#1E988A\"},\"hatch_alpha\":{\"value\":0.5},\"hatch_color\":{\"value\":\"#1E988A\"},\"line_alpha\":{\"value\":0.5},\"line_color\":{\"value\":\"#1E988A\"},\"marker\":{\"value\":\"diamond\"},\"size\":{\"value\":10},\"x\":{\"field\":\"date_time\"},\"y\":{\"field\":\"y_index\"}},\"id\":\"9231\",\"type\":\"Scatter\"},{\"attributes\":{\"fill_alpha\":{\"value\":0.2},\"fill_color\":{\"value\":\"#1E988A\"},\"hatch_alpha\":{\"value\":0.2},\"hatch_color\":{\"value\":\"#1E988A\"},\"line_alpha\":{\"value\":0.2},\"line_color\":{\"value\":\"#1E988A\"},\"marker\":{\"value\":\"diamond\"},\"size\":{\"value\":10},\"x\":{\"field\":\"date_time\"},\"y\":{\"field\":\"y_index\"}},\"id\":\"9233\",\"type\":\"Scatter\"},{\"attributes\":{\"coordinates\":null,\"data_source\":{\"id\":\"8665\"},\"glyph\":{\"id\":\"9301\"},\"group\":null,\"hover_glyph\":null,\"muted_glyph\":{\"id\":\"9303\"},\"nonselection_glyph\":{\"id\":\"9302\"},\"view\":{\"id\":\"9305\"}},\"id\":\"9304\",\"type\":\"GlyphRenderer\"},{\"attributes\":{\"coordinates\":null,\"data_source\":{\"id\":\"8655\"},\"glyph\":{\"id\":\"9231\"},\"group\":null,\"hover_glyph\":null,\"muted_glyph\":{\"id\":\"9233\"},\"nonselection_glyph\":{\"id\":\"9232\"},\"view\":{\"id\":\"9235\"}},\"id\":\"9234\",\"type\":\"GlyphRenderer\"},{\"attributes\":{\"fill_alpha\":{\"value\":0.1},\"fill_color\":{\"value\":\"#1E9C89\"},\"hatch_alpha\":{\"value\":0.1},\"hatch_color\":{\"value\":\"#1E9C89\"},\"line_alpha\":{\"value\":0.1},\"line_color\":{\"value\":\"#1E9C89\"},\"marker\":{\"value\":\"diamond\"},\"size\":{\"value\":10},\"x\":{\"field\":\"date_time\"},\"y\":{\"field\":\"y_index\"}},\"id\":\"9239\",\"type\":\"Scatter\"},{\"attributes\":{\"label\":{\"value\":\"u39\"},\"renderers\":[{\"id\":\"9234\"}]},\"id\":\"9236\",\"type\":\"LegendItem\"},{\"attributes\":{\"source\":{\"id\":\"8655\"}},\"id\":\"9235\",\"type\":\"CDSView\"},{\"attributes\":{\"data\":{\"date_time\":{\"__ndarray__\":\"AAC2lIrac0IAAN6qHttzQgAAzt9i23NCAADoS3Pbc0IAAJqKvttzQgAA/nYE3HNCAACmsx/cc0IAAIrTz9xzQgAAaBYn3XNCAABI6HTdc0IAACwrt91zQgAA2mDT3XNCAADO8U3ec0IAALQIut5zQgAAehQG33NCAAC+QUnfc0IAAOpFVd9zQgAAQASq33NCAACcpkHgc0IAAFQxleBzQgAAiKHw4HNCAAAYVPngc0IAAO5oSuFzQgAA6D7j4XNCAADg7Uric0IAAKoqYORzQgAAurbh5HNCAAAsKwrlc0IAAHibEeVzQgAAnGot5XNCAACMRYDlc0IAAMj2vedzQgAAutlz5HNCAACI2KLoc0I=\",\"dtype\":\"float64\",\"order\":\"little\",\"shape\":[34]},\"index\":[69,70,71,72,73,74,75,76,77,78,79,80,81,82,83,84,85,86,87,88,89,90,91,92,93,94,95,96,97,98,99,100,2376,2377],\"y_index\":[1,1,1,1,1,1,1,1,1,1,1,1,1,1,1,1,1,1,1,1,1,1,1,1,1,1,1,1,1,1,1,1,1,1]},\"selected\":{\"id\":\"9370\"},\"selection_policy\":{\"id\":\"9369\"}},\"id\":\"8626\",\"type\":\"ColumnDataSource\"},{\"attributes\":{\"fill_alpha\":{\"value\":0.5},\"fill_color\":{\"value\":\"#1E9C89\"},\"hatch_alpha\":{\"value\":0.5},\"hatch_color\":{\"value\":\"#1E9C89\"},\"line_alpha\":{\"value\":0.5},\"line_color\":{\"value\":\"#1E9C89\"},\"marker\":{\"value\":\"diamond\"},\"size\":{\"value\":10},\"x\":{\"field\":\"date_time\"},\"y\":{\"field\":\"y_index\"}},\"id\":\"9238\",\"type\":\"Scatter\"},{\"attributes\":{\"fill_alpha\":{\"value\":0.2},\"fill_color\":{\"value\":\"#1E9C89\"},\"hatch_alpha\":{\"value\":0.2},\"hatch_color\":{\"value\":\"#1E9C89\"},\"line_alpha\":{\"value\":0.2},\"line_color\":{\"value\":\"#1E9C89\"},\"marker\":{\"value\":\"diamond\"},\"size\":{\"value\":10},\"x\":{\"field\":\"date_time\"},\"y\":{\"field\":\"y_index\"}},\"id\":\"9240\",\"type\":\"Scatter\"},{\"attributes\":{\"fill_alpha\":{\"value\":0.2},\"fill_color\":{\"value\":\"#49C16D\"},\"hatch_alpha\":{\"value\":0.2},\"hatch_color\":{\"value\":\"#49C16D\"},\"line_alpha\":{\"value\":0.2},\"line_color\":{\"value\":\"#49C16D\"},\"marker\":{\"value\":\"diamond\"},\"size\":{\"value\":10},\"x\":{\"field\":\"date_time\"},\"y\":{\"field\":\"y_index\"}},\"id\":\"9303\",\"type\":\"Scatter\"},{\"attributes\":{},\"id\":\"9449\",\"type\":\"UnionRenderers\"},{\"attributes\":{\"coordinates\":null,\"data_source\":{\"id\":\"8656\"},\"glyph\":{\"id\":\"9238\"},\"group\":null,\"hover_glyph\":null,\"muted_glyph\":{\"id\":\"9240\"},\"nonselection_glyph\":{\"id\":\"9239\"},\"view\":{\"id\":\"9242\"}},\"id\":\"9241\",\"type\":\"GlyphRenderer\"},{\"attributes\":{\"fill_alpha\":{\"value\":0.1},\"fill_color\":{\"value\":\"#1EA087\"},\"hatch_alpha\":{\"value\":0.1},\"hatch_color\":{\"value\":\"#1EA087\"},\"line_alpha\":{\"value\":0.1},\"line_color\":{\"value\":\"#1EA087\"},\"marker\":{\"value\":\"diamond\"},\"size\":{\"value\":10},\"x\":{\"field\":\"date_time\"},\"y\":{\"field\":\"y_index\"}},\"id\":\"9246\",\"type\":\"Scatter\"},{\"attributes\":{\"label\":{\"value\":\"u41\"},\"renderers\":[{\"id\":\"9241\"}]},\"id\":\"9243\",\"type\":\"LegendItem\"},{\"attributes\":{},\"id\":\"9450\",\"type\":\"Selection\"},{\"attributes\":{\"source\":{\"id\":\"8656\"}},\"id\":\"9242\",\"type\":\"CDSView\"},{\"attributes\":{\"fill_alpha\":{\"value\":0.5},\"fill_color\":{\"value\":\"#1EA087\"},\"hatch_alpha\":{\"value\":0.5},\"hatch_color\":{\"value\":\"#1EA087\"},\"line_alpha\":{\"value\":0.5},\"line_color\":{\"value\":\"#1EA087\"},\"marker\":{\"value\":\"diamond\"},\"size\":{\"value\":10},\"x\":{\"field\":\"date_time\"},\"y\":{\"field\":\"y_index\"}},\"id\":\"9245\",\"type\":\"Scatter\"},{\"attributes\":{\"fill_alpha\":{\"value\":0.5},\"fill_color\":{\"value\":\"#49C16D\"},\"hatch_alpha\":{\"value\":0.5},\"hatch_color\":{\"value\":\"#49C16D\"},\"line_alpha\":{\"value\":0.5},\"line_color\":{\"value\":\"#49C16D\"},\"marker\":{\"value\":\"diamond\"},\"size\":{\"value\":10},\"x\":{\"field\":\"date_time\"},\"y\":{\"field\":\"y_index\"}},\"id\":\"9301\",\"type\":\"Scatter\"},{\"attributes\":{\"fill_alpha\":{\"value\":0.2},\"fill_color\":{\"value\":\"#1EA087\"},\"hatch_alpha\":{\"value\":0.2},\"hatch_color\":{\"value\":\"#1EA087\"},\"line_alpha\":{\"value\":0.2},\"line_color\":{\"value\":\"#1EA087\"},\"marker\":{\"value\":\"diamond\"},\"size\":{\"value\":10},\"x\":{\"field\":\"date_time\"},\"y\":{\"field\":\"y_index\"}},\"id\":\"9247\",\"type\":\"Scatter\"},{\"attributes\":{\"coordinates\":null,\"data_source\":{\"id\":\"8657\"},\"glyph\":{\"id\":\"9245\"},\"group\":null,\"hover_glyph\":null,\"muted_glyph\":{\"id\":\"9247\"},\"nonselection_glyph\":{\"id\":\"9246\"},\"view\":{\"id\":\"9249\"}},\"id\":\"9248\",\"type\":\"GlyphRenderer\"},{\"attributes\":{\"fill_alpha\":{\"value\":0.1},\"fill_color\":{\"value\":\"#20A585\"},\"hatch_alpha\":{\"value\":0.1},\"hatch_color\":{\"value\":\"#20A585\"},\"line_alpha\":{\"value\":0.1},\"line_color\":{\"value\":\"#20A585\"},\"marker\":{\"value\":\"diamond\"},\"size\":{\"value\":10},\"x\":{\"field\":\"date_time\"},\"y\":{\"field\":\"y_index\"}},\"id\":\"9253\",\"type\":\"Scatter\"},{\"attributes\":{\"label\":{\"value\":\"u42\"},\"renderers\":[{\"id\":\"9248\"}]},\"id\":\"9250\",\"type\":\"LegendItem\"},{\"attributes\":{\"source\":{\"id\":\"8657\"}},\"id\":\"9249\",\"type\":\"CDSView\"},{\"attributes\":{\"fill_alpha\":{\"value\":0.5},\"fill_color\":{\"value\":\"#20A585\"},\"hatch_alpha\":{\"value\":0.5},\"hatch_color\":{\"value\":\"#20A585\"},\"line_alpha\":{\"value\":0.5},\"line_color\":{\"value\":\"#20A585\"},\"marker\":{\"value\":\"diamond\"},\"size\":{\"value\":10},\"x\":{\"field\":\"date_time\"},\"y\":{\"field\":\"y_index\"}},\"id\":\"9252\",\"type\":\"Scatter\"},{\"attributes\":{\"data\":{\"date_time\":{\"__ndarray__\":\"AABQXoHac0IAAAB9hdpzQgAAEruP2nNCAAAyzZnac0IAADT7tNpzQgAAINTC2nNCAAC0Ssfac0IAALTw1dpzQgAApm/d2nNCAABQ6Ofac0IAAFzMFdtzQgAAIpoY23NCAABIUhzbc0IAAOSjH9tzQgAAVJcl23NCAAAM1lvbc0IAAAhlZ9tzQgAA7E2423NCAAAWw83bc0IAAID7G9xzQgAA9Fgs3HNCAABuXDbcc0IAAO7+T9xzQgAAPKRc3HNCAAAm7nPcc0IAACgOu9xzQgAAErLD3HNCAAA81NHcc0IAAI6J99xzQgAA7mwO3XNCAAAgFxTdc0IAAIKJId1zQgAAWA0i3XNCAACoM1Hdc0IAAKjZX91zQgAAWJCe3XNCAAAQg7fdc0IAAFRrx91zQgAAkp8J3nNCAADU/wzec0IAALz/YN5zQgAAKGbK3nNCAADIbfXec0IAAIQdIN9zQgAAlgE533NCAADeplrfc0IAALCkqN9zQgAAjqm233NCAAB61cvfc0IAAOCq+d9zQgAArL0a4HNCAACUxFjgc0IAAFL1peBzQgAAHg+x4HNCAADmsN3gc0IAAO7X+eBzQgAAui9O4XNCAAC89aPhc0IAAJSg1eFzQgAAAJ954nNCAABmE8zic0IAAAxSQeNzQgAALkZJ43NCAACmBnrjc0IAAJ4P0+NzQgAAABob5HNCAADUBzvkc0IAAPq/PuRzQgAAoG1j5HNCAABCXnbkc0IAAOasGeVzQgAADFBf5XNCAACW7b7lc0IAALD/3eVzQgAA2m0J5nNCAAB6zyXmc0IAAKLCJ+dzQgAAvua553NCAACuBkDoc0IAAHLWnOhzQgAA8O3W63NCAAC6ygHtc0IAADzuPe1zQgAAWgsb5HNCAABCXnbkc0IAAFYO3uVzQgAASNEn53NCAAC+5rnnc0IAANIvTehzQgAA6IeA7HNC\",\"dtype\":\"float64\",\"order\":\"little\",\"shape\":[90]},\"index\":[256,257,258,259,260,261,262,263,264,265,266,267,268,269,270,271,272,273,274,275,276,277,278,279,280,281,282,283,284,285,286,287,288,289,290,291,292,293,294,295,296,297,298,299,300,301,302,303,304,305,306,307,308,309,310,311,312,313,314,315,316,317,318,319,320,321,322,323,324,325,326,327,328,329,330,331,332,333,334,335,336,337,338,2382,2383,2384,2385,2386,2387,2388],\"y_index\":[7,7,7,7,7,7,7,7,7,7,7,7,7,7,7,7,7,7,7,7,7,7,7,7,7,7,7,7,7,7,7,7,7,7,7,7,7,7,7,7,7,7,7,7,7,7,7,7,7,7,7,7,7,7,7,7,7,7,7,7,7,7,7,7,7,7,7,7,7,7,7,7,7,7,7,7,7,7,7,7,7,7,7,7,7,7,7,7,7,7]},\"selected\":{\"id\":\"9382\"},\"selection_policy\":{\"id\":\"9381\"}},\"id\":\"8632\",\"type\":\"ColumnDataSource\"},{\"attributes\":{\"fill_alpha\":{\"value\":0.2},\"fill_color\":{\"value\":\"#20A585\"},\"hatch_alpha\":{\"value\":0.2},\"hatch_color\":{\"value\":\"#20A585\"},\"line_alpha\":{\"value\":0.2},\"line_color\":{\"value\":\"#20A585\"},\"marker\":{\"value\":\"diamond\"},\"size\":{\"value\":10},\"x\":{\"field\":\"date_time\"},\"y\":{\"field\":\"y_index\"}},\"id\":\"9254\",\"type\":\"Scatter\"},{\"attributes\":{\"source\":{\"id\":\"8664\"}},\"id\":\"9298\",\"type\":\"CDSView\"},{\"attributes\":{\"coordinates\":null,\"data_source\":{\"id\":\"8658\"},\"glyph\":{\"id\":\"9252\"},\"group\":null,\"hover_glyph\":null,\"muted_glyph\":{\"id\":\"9254\"},\"nonselection_glyph\":{\"id\":\"9253\"},\"view\":{\"id\":\"9256\"}},\"id\":\"9255\",\"type\":\"GlyphRenderer\"},{\"attributes\":{},\"id\":\"9451\",\"type\":\"UnionRenderers\"},{\"attributes\":{\"fill_alpha\":{\"value\":0.1},\"fill_color\":{\"value\":\"#23A883\"},\"hatch_alpha\":{\"value\":0.1},\"hatch_color\":{\"value\":\"#23A883\"},\"line_alpha\":{\"value\":0.1},\"line_color\":{\"value\":\"#23A883\"},\"marker\":{\"value\":\"diamond\"},\"size\":{\"value\":10},\"x\":{\"field\":\"date_time\"},\"y\":{\"field\":\"y_index\"}},\"id\":\"9260\",\"type\":\"Scatter\"},{\"attributes\":{\"label\":{\"value\":\"u43\"},\"renderers\":[{\"id\":\"9255\"}]},\"id\":\"9257\",\"type\":\"LegendItem\"},{\"attributes\":{},\"id\":\"9452\",\"type\":\"Selection\"},{\"attributes\":{\"source\":{\"id\":\"8658\"}},\"id\":\"9256\",\"type\":\"CDSView\"},{\"attributes\":{\"fill_alpha\":{\"value\":0.5},\"fill_color\":{\"value\":\"#23A883\"},\"hatch_alpha\":{\"value\":0.5},\"hatch_color\":{\"value\":\"#23A883\"},\"line_alpha\":{\"value\":0.5},\"line_color\":{\"value\":\"#23A883\"},\"marker\":{\"value\":\"diamond\"},\"size\":{\"value\":10},\"x\":{\"field\":\"date_time\"},\"y\":{\"field\":\"y_index\"}},\"id\":\"9259\",\"type\":\"Scatter\"},{\"attributes\":{\"fill_alpha\":{\"value\":0.1},\"fill_color\":{\"value\":\"#49C16D\"},\"hatch_alpha\":{\"value\":0.1},\"hatch_color\":{\"value\":\"#49C16D\"},\"line_alpha\":{\"value\":0.1},\"line_color\":{\"value\":\"#49C16D\"},\"marker\":{\"value\":\"diamond\"},\"size\":{\"value\":10},\"x\":{\"field\":\"date_time\"},\"y\":{\"field\":\"y_index\"}},\"id\":\"9302\",\"type\":\"Scatter\"},{\"attributes\":{\"fill_alpha\":{\"value\":0.2},\"fill_color\":{\"value\":\"#23A883\"},\"hatch_alpha\":{\"value\":0.2},\"hatch_color\":{\"value\":\"#23A883\"},\"line_alpha\":{\"value\":0.2},\"line_color\":{\"value\":\"#23A883\"},\"marker\":{\"value\":\"diamond\"},\"size\":{\"value\":10},\"x\":{\"field\":\"date_time\"},\"y\":{\"field\":\"y_index\"}},\"id\":\"9261\",\"type\":\"Scatter\"},{\"attributes\":{\"label\":{\"value\":\"u50\"},\"renderers\":[{\"id\":\"9297\"}]},\"id\":\"9299\",\"type\":\"LegendItem\"},{\"attributes\":{\"coordinates\":null,\"data_source\":{\"id\":\"8659\"},\"glyph\":{\"id\":\"9259\"},\"group\":null,\"hover_glyph\":null,\"muted_glyph\":{\"id\":\"9261\"},\"nonselection_glyph\":{\"id\":\"9260\"},\"view\":{\"id\":\"9263\"}},\"id\":\"9262\",\"type\":\"GlyphRenderer\"},{\"attributes\":{\"fill_alpha\":{\"value\":0.1},\"fill_color\":{\"value\":\"#27AD80\"},\"hatch_alpha\":{\"value\":0.1},\"hatch_color\":{\"value\":\"#27AD80\"},\"line_alpha\":{\"value\":0.1},\"line_color\":{\"value\":\"#27AD80\"},\"marker\":{\"value\":\"diamond\"},\"size\":{\"value\":10},\"x\":{\"field\":\"date_time\"},\"y\":{\"field\":\"y_index\"}},\"id\":\"9267\",\"type\":\"Scatter\"},{\"attributes\":{\"data\":{\"date_time\":{\"__ndarray__\":\"AACywrrac0IAALLCutpzQgAAMhLN2nNCAAAssBXcc0IAACywFdxzQgAALLAV3HNCAABIVyTdc0IAAGAfgN1zQgAAvrHp3XNCAAA0kBzec0IAAPJtYt5zQgAAvInH3nNCAABY9ZDgc0IAAKI9duFzQgAACLjB4nNCAAACNGnjc0IAAP6RDuRzQgAA6HNg5HNCAAAIqAvlc0IAAKhjGeVzQgAASB8n5XNCAAB0FV/lc0IAAPzlfuVzQgAAUsqL6XNCAADIv17nc0IAAI4qpOlzQgAArLuL6XNC\",\"dtype\":\"float64\",\"order\":\"little\",\"shape\":[27]},\"index\":[131,132,133,134,135,136,137,138,139,140,141,142,143,144,145,146,147,148,149,150,151,152,153,154,2528,2529,2530],\"y_index\":[3,3,3,3,3,3,3,3,3,3,3,3,3,3,3,3,3,3,3,3,3,3,3,3,3,3,3]},\"selected\":{\"id\":\"9374\"},\"selection_policy\":{\"id\":\"9373\"}},\"id\":\"8628\",\"type\":\"ColumnDataSource\"},{\"attributes\":{\"label\":{\"value\":\"u44\"},\"renderers\":[{\"id\":\"9262\"}]},\"id\":\"9264\",\"type\":\"LegendItem\"},{\"attributes\":{\"source\":{\"id\":\"8659\"}},\"id\":\"9263\",\"type\":\"CDSView\"},{\"attributes\":{\"fill_alpha\":{\"value\":0.5},\"fill_color\":{\"value\":\"#27AD80\"},\"hatch_alpha\":{\"value\":0.5},\"hatch_color\":{\"value\":\"#27AD80\"},\"line_alpha\":{\"value\":0.5},\"line_color\":{\"value\":\"#27AD80\"},\"marker\":{\"value\":\"diamond\"},\"size\":{\"value\":10},\"x\":{\"field\":\"date_time\"},\"y\":{\"field\":\"y_index\"}},\"id\":\"9266\",\"type\":\"Scatter\"},{\"attributes\":{\"fill_alpha\":{\"value\":0.2},\"fill_color\":{\"value\":\"#27AD80\"},\"hatch_alpha\":{\"value\":0.2},\"hatch_color\":{\"value\":\"#27AD80\"},\"line_alpha\":{\"value\":0.2},\"line_color\":{\"value\":\"#27AD80\"},\"marker\":{\"value\":\"diamond\"},\"size\":{\"value\":10},\"x\":{\"field\":\"date_time\"},\"y\":{\"field\":\"y_index\"}},\"id\":\"9268\",\"type\":\"Scatter\"},{\"attributes\":{\"coordinates\":null,\"data_source\":{\"id\":\"8664\"},\"glyph\":{\"id\":\"9294\"},\"group\":null,\"hover_glyph\":null,\"muted_glyph\":{\"id\":\"9296\"},\"nonselection_glyph\":{\"id\":\"9295\"},\"view\":{\"id\":\"9298\"}},\"id\":\"9297\",\"type\":\"GlyphRenderer\"},{\"attributes\":{\"coordinates\":null,\"data_source\":{\"id\":\"8660\"},\"glyph\":{\"id\":\"9266\"},\"group\":null,\"hover_glyph\":null,\"muted_glyph\":{\"id\":\"9268\"},\"nonselection_glyph\":{\"id\":\"9267\"},\"view\":{\"id\":\"9270\"}},\"id\":\"9269\",\"type\":\"GlyphRenderer\"},{\"attributes\":{\"fill_alpha\":{\"value\":0.1},\"fill_color\":{\"value\":\"#2BB17D\"},\"hatch_alpha\":{\"value\":0.1},\"hatch_color\":{\"value\":\"#2BB17D\"},\"line_alpha\":{\"value\":0.1},\"line_color\":{\"value\":\"#2BB17D\"},\"marker\":{\"value\":\"diamond\"},\"size\":{\"value\":10},\"x\":{\"field\":\"date_time\"},\"y\":{\"field\":\"y_index\"}},\"id\":\"9274\",\"type\":\"Scatter\"},{\"attributes\":{},\"id\":\"9453\",\"type\":\"UnionRenderers\"},{\"attributes\":{\"label\":{\"value\":\"u45\"},\"renderers\":[{\"id\":\"9269\"}]},\"id\":\"9271\",\"type\":\"LegendItem\"},{\"attributes\":{\"source\":{\"id\":\"8660\"}},\"id\":\"9270\",\"type\":\"CDSView\"},{\"attributes\":{},\"id\":\"9454\",\"type\":\"Selection\"},{\"attributes\":{\"fill_alpha\":{\"value\":0.5},\"fill_color\":{\"value\":\"#2BB17D\"},\"hatch_alpha\":{\"value\":0.5},\"hatch_color\":{\"value\":\"#2BB17D\"},\"line_alpha\":{\"value\":0.5},\"line_color\":{\"value\":\"#2BB17D\"},\"marker\":{\"value\":\"diamond\"},\"size\":{\"value\":10},\"x\":{\"field\":\"date_time\"},\"y\":{\"field\":\"y_index\"}},\"id\":\"9273\",\"type\":\"Scatter\"},{\"attributes\":{\"fill_alpha\":{\"value\":0.2},\"fill_color\":{\"value\":\"#2BB17D\"},\"hatch_alpha\":{\"value\":0.2},\"hatch_color\":{\"value\":\"#2BB17D\"},\"line_alpha\":{\"value\":0.2},\"line_color\":{\"value\":\"#2BB17D\"},\"marker\":{\"value\":\"diamond\"},\"size\":{\"value\":10},\"x\":{\"field\":\"date_time\"},\"y\":{\"field\":\"y_index\"}},\"id\":\"9275\",\"type\":\"Scatter\"},{\"attributes\":{\"fill_alpha\":{\"value\":0.2},\"fill_color\":{\"value\":\"#40BD72\"},\"hatch_alpha\":{\"value\":0.2},\"hatch_color\":{\"value\":\"#40BD72\"},\"line_alpha\":{\"value\":0.2},\"line_color\":{\"value\":\"#40BD72\"},\"marker\":{\"value\":\"diamond\"},\"size\":{\"value\":10},\"x\":{\"field\":\"date_time\"},\"y\":{\"field\":\"y_index\"}},\"id\":\"9296\",\"type\":\"Scatter\"},{\"attributes\":{\"coordinates\":null,\"data_source\":{\"id\":\"8661\"},\"glyph\":{\"id\":\"9273\"},\"group\":null,\"hover_glyph\":null,\"muted_glyph\":{\"id\":\"9275\"},\"nonselection_glyph\":{\"id\":\"9274\"},\"view\":{\"id\":\"9277\"}},\"id\":\"9276\",\"type\":\"GlyphRenderer\"},{\"attributes\":{\"fill_alpha\":{\"value\":0.1},\"fill_color\":{\"value\":\"#32B57A\"},\"hatch_alpha\":{\"value\":0.1},\"hatch_color\":{\"value\":\"#32B57A\"},\"line_alpha\":{\"value\":0.1},\"line_color\":{\"value\":\"#32B57A\"},\"marker\":{\"value\":\"diamond\"},\"size\":{\"value\":10},\"x\":{\"field\":\"date_time\"},\"y\":{\"field\":\"y_index\"}},\"id\":\"9281\",\"type\":\"Scatter\"},{\"attributes\":{\"label\":{\"value\":\"u46\"},\"renderers\":[{\"id\":\"9276\"}]},\"id\":\"9278\",\"type\":\"LegendItem\"},{\"attributes\":{\"source\":{\"id\":\"8661\"}},\"id\":\"9277\",\"type\":\"CDSView\"},{\"attributes\":{\"fill_alpha\":{\"value\":0.5},\"fill_color\":{\"value\":\"#32B57A\"},\"hatch_alpha\":{\"value\":0.5},\"hatch_color\":{\"value\":\"#32B57A\"},\"line_alpha\":{\"value\":0.5},\"line_color\":{\"value\":\"#32B57A\"},\"marker\":{\"value\":\"diamond\"},\"size\":{\"value\":10},\"x\":{\"field\":\"date_time\"},\"y\":{\"field\":\"y_index\"}},\"id\":\"9280\",\"type\":\"Scatter\"},{\"attributes\":{\"fill_alpha\":{\"value\":0.5},\"fill_color\":{\"value\":\"#40BD72\"},\"hatch_alpha\":{\"value\":0.5},\"hatch_color\":{\"value\":\"#40BD72\"},\"line_alpha\":{\"value\":0.5},\"line_color\":{\"value\":\"#40BD72\"},\"marker\":{\"value\":\"diamond\"},\"size\":{\"value\":10},\"x\":{\"field\":\"date_time\"},\"y\":{\"field\":\"y_index\"}},\"id\":\"9294\",\"type\":\"Scatter\"},{\"attributes\":{\"fill_alpha\":{\"value\":0.2},\"fill_color\":{\"value\":\"#32B57A\"},\"hatch_alpha\":{\"value\":0.2},\"hatch_color\":{\"value\":\"#32B57A\"},\"line_alpha\":{\"value\":0.2},\"line_color\":{\"value\":\"#32B57A\"},\"marker\":{\"value\":\"diamond\"},\"size\":{\"value\":10},\"x\":{\"field\":\"date_time\"},\"y\":{\"field\":\"y_index\"}},\"id\":\"9282\",\"type\":\"Scatter\"},{\"attributes\":{\"coordinates\":null,\"data_source\":{\"id\":\"8662\"},\"glyph\":{\"id\":\"9280\"},\"group\":null,\"hover_glyph\":null,\"muted_glyph\":{\"id\":\"9282\"},\"nonselection_glyph\":{\"id\":\"9281\"},\"view\":{\"id\":\"9284\"}},\"id\":\"9283\",\"type\":\"GlyphRenderer\"},{\"attributes\":{\"fill_alpha\":{\"value\":0.1},\"fill_color\":{\"value\":\"#39B976\"},\"hatch_alpha\":{\"value\":0.1},\"hatch_color\":{\"value\":\"#39B976\"},\"line_alpha\":{\"value\":0.1},\"line_color\":{\"value\":\"#39B976\"},\"marker\":{\"value\":\"diamond\"},\"size\":{\"value\":10},\"x\":{\"field\":\"date_time\"},\"y\":{\"field\":\"y_index\"}},\"id\":\"9288\",\"type\":\"Scatter\"},{\"attributes\":{\"label\":{\"value\":\"u47\"},\"renderers\":[{\"id\":\"9283\"}]},\"id\":\"9285\",\"type\":\"LegendItem\"},{\"attributes\":{},\"id\":\"9455\",\"type\":\"UnionRenderers\"},{\"attributes\":{\"source\":{\"id\":\"8662\"}},\"id\":\"9284\",\"type\":\"CDSView\"},{\"attributes\":{\"fill_alpha\":{\"value\":0.5},\"fill_color\":{\"value\":\"#39B976\"},\"hatch_alpha\":{\"value\":0.5},\"hatch_color\":{\"value\":\"#39B976\"},\"line_alpha\":{\"value\":0.5},\"line_color\":{\"value\":\"#39B976\"},\"marker\":{\"value\":\"diamond\"},\"size\":{\"value\":10},\"x\":{\"field\":\"date_time\"},\"y\":{\"field\":\"y_index\"}},\"id\":\"9287\",\"type\":\"Scatter\"},{\"attributes\":{},\"id\":\"9456\",\"type\":\"Selection\"},{\"attributes\":{\"fill_alpha\":{\"value\":0.2},\"fill_color\":{\"value\":\"#39B976\"},\"hatch_alpha\":{\"value\":0.2},\"hatch_color\":{\"value\":\"#39B976\"},\"line_alpha\":{\"value\":0.2},\"line_color\":{\"value\":\"#39B976\"},\"marker\":{\"value\":\"diamond\"},\"size\":{\"value\":10},\"x\":{\"field\":\"date_time\"},\"y\":{\"field\":\"y_index\"}},\"id\":\"9289\",\"type\":\"Scatter\"},{\"attributes\":{\"source\":{\"id\":\"8663\"}},\"id\":\"9291\",\"type\":\"CDSView\"},{\"attributes\":{\"coordinates\":null,\"data_source\":{\"id\":\"8663\"},\"glyph\":{\"id\":\"9287\"},\"group\":null,\"hover_glyph\":null,\"muted_glyph\":{\"id\":\"9289\"},\"nonselection_glyph\":{\"id\":\"9288\"},\"view\":{\"id\":\"9291\"}},\"id\":\"9290\",\"type\":\"GlyphRenderer\"},{\"attributes\":{\"fill_alpha\":{\"value\":0.1},\"fill_color\":{\"value\":\"#40BD72\"},\"hatch_alpha\":{\"value\":0.1},\"hatch_color\":{\"value\":\"#40BD72\"},\"line_alpha\":{\"value\":0.1},\"line_color\":{\"value\":\"#40BD72\"},\"marker\":{\"value\":\"diamond\"},\"size\":{\"value\":10},\"x\":{\"field\":\"date_time\"},\"y\":{\"field\":\"y_index\"}},\"id\":\"9295\",\"type\":\"Scatter\"},{\"attributes\":{\"label\":{\"value\":\"u49\"},\"renderers\":[{\"id\":\"9290\"}]},\"id\":\"9292\",\"type\":\"LegendItem\"},{\"attributes\":{\"mantissas\":[1,2,5],\"max_interval\":500.0,\"num_minor_ticks\":0},\"id\":\"9477\",\"type\":\"AdaptiveTicker\"},{\"attributes\":{\"base\":60,\"mantissas\":[1,2,5,10,15,20,30],\"max_interval\":1800000.0,\"min_interval\":1000.0,\"num_minor_ticks\":0},\"id\":\"9478\",\"type\":\"AdaptiveTicker\"},{\"attributes\":{\"coordinates\":null,\"data_source\":{\"id\":\"8666\"},\"glyph\":{\"id\":\"9308\"},\"group\":null,\"hover_glyph\":null,\"muted_glyph\":{\"id\":\"9310\"},\"nonselection_glyph\":{\"id\":\"9309\"},\"view\":{\"id\":\"9312\"}},\"id\":\"9311\",\"type\":\"GlyphRenderer\"},{\"attributes\":{\"fill_alpha\":{\"value\":0.1},\"fill_color\":{\"value\":\"#5BC862\"},\"hatch_alpha\":{\"value\":0.1},\"hatch_color\":{\"value\":\"#5BC862\"},\"line_alpha\":{\"value\":0.1},\"line_color\":{\"value\":\"#5BC862\"},\"marker\":{\"value\":\"diamond\"},\"size\":{\"value\":10},\"x\":{\"field\":\"date_time\"},\"y\":{\"field\":\"y_index\"}},\"id\":\"9316\",\"type\":\"Scatter\"},{\"attributes\":{\"base\":24,\"mantissas\":[1,2,4,6,8,12],\"max_interval\":43200000.0,\"min_interval\":3600000.0,\"num_minor_ticks\":0},\"id\":\"9479\",\"type\":\"AdaptiveTicker\"},{\"attributes\":{\"label\":{\"value\":\"u52\"},\"renderers\":[{\"id\":\"9311\"}]},\"id\":\"9313\",\"type\":\"LegendItem\"},{\"attributes\":{},\"id\":\"9488\",\"type\":\"YearsTicker\"},{\"attributes\":{\"source\":{\"id\":\"8666\"}},\"id\":\"9312\",\"type\":\"CDSView\"},{\"attributes\":{\"months\":[0,1,2,3,4,5,6,7,8,9,10,11]},\"id\":\"9484\",\"type\":\"MonthsTicker\"},{\"attributes\":{\"fill_alpha\":{\"value\":0.5},\"fill_color\":{\"value\":\"#5BC862\"},\"hatch_alpha\":{\"value\":0.5},\"hatch_color\":{\"value\":\"#5BC862\"},\"line_alpha\":{\"value\":0.5},\"line_color\":{\"value\":\"#5BC862\"},\"marker\":{\"value\":\"diamond\"},\"size\":{\"value\":10},\"x\":{\"field\":\"date_time\"},\"y\":{\"field\":\"y_index\"}},\"id\":\"9315\",\"type\":\"Scatter\"},{\"attributes\":{\"days\":[1,15]},\"id\":\"9483\",\"type\":\"DaysTicker\"},{\"attributes\":{\"days\":[1,2,3,4,5,6,7,8,9,10,11,12,13,14,15,16,17,18,19,20,21,22,23,24,25,26,27,28,29,30,31]},\"id\":\"9480\",\"type\":\"DaysTicker\"},{\"attributes\":{\"days\":[1,4,7,10,13,16,19,22,25,28]},\"id\":\"9481\",\"type\":\"DaysTicker\"},{\"attributes\":{\"fill_alpha\":{\"value\":0.2},\"fill_color\":{\"value\":\"#5BC862\"},\"hatch_alpha\":{\"value\":0.2},\"hatch_color\":{\"value\":\"#5BC862\"},\"line_alpha\":{\"value\":0.2},\"line_color\":{\"value\":\"#5BC862\"},\"marker\":{\"value\":\"diamond\"},\"size\":{\"value\":10},\"x\":{\"field\":\"date_time\"},\"y\":{\"field\":\"y_index\"}},\"id\":\"9317\",\"type\":\"Scatter\"},{\"attributes\":{\"days\":[1,8,15,22]},\"id\":\"9482\",\"type\":\"DaysTicker\"},{\"attributes\":{},\"id\":\"9457\",\"type\":\"UnionRenderers\"},{\"attributes\":{\"months\":[0,6]},\"id\":\"9487\",\"type\":\"MonthsTicker\"},{\"attributes\":{\"coordinates\":null,\"data_source\":{\"id\":\"8667\"},\"glyph\":{\"id\":\"9315\"},\"group\":null,\"hover_glyph\":null,\"muted_glyph\":{\"id\":\"9317\"},\"nonselection_glyph\":{\"id\":\"9316\"},\"view\":{\"id\":\"9319\"}},\"id\":\"9318\",\"type\":\"GlyphRenderer\"},{\"attributes\":{\"months\":[0,2,4,6,8,10]},\"id\":\"9485\",\"type\":\"MonthsTicker\"},{\"attributes\":{\"fill_alpha\":{\"value\":0.1},\"fill_color\":{\"value\":\"#64CB5D\"},\"hatch_alpha\":{\"value\":0.1},\"hatch_color\":{\"value\":\"#64CB5D\"},\"line_alpha\":{\"value\":0.1},\"line_color\":{\"value\":\"#64CB5D\"},\"marker\":{\"value\":\"diamond\"},\"size\":{\"value\":10},\"x\":{\"field\":\"date_time\"},\"y\":{\"field\":\"y_index\"}},\"id\":\"9323\",\"type\":\"Scatter\"},{\"attributes\":{\"label\":{\"value\":\"u53\"},\"renderers\":[{\"id\":\"9318\"}]},\"id\":\"9320\",\"type\":\"LegendItem\"},{\"attributes\":{},\"id\":\"9458\",\"type\":\"Selection\"},{\"attributes\":{\"months\":[0,4,8]},\"id\":\"9486\",\"type\":\"MonthsTicker\"},{\"attributes\":{\"source\":{\"id\":\"8667\"}},\"id\":\"9319\",\"type\":\"CDSView\"},{\"attributes\":{\"fill_alpha\":{\"value\":0.5},\"fill_color\":{\"value\":\"#64CB5D\"},\"hatch_alpha\":{\"value\":0.5},\"hatch_color\":{\"value\":\"#64CB5D\"},\"line_alpha\":{\"value\":0.5},\"line_color\":{\"value\":\"#64CB5D\"},\"marker\":{\"value\":\"diamond\"},\"size\":{\"value\":10},\"x\":{\"field\":\"date_time\"},\"y\":{\"field\":\"y_index\"}},\"id\":\"9322\",\"type\":\"Scatter\"},{\"attributes\":{\"fill_alpha\":{\"value\":0.2},\"fill_color\":{\"value\":\"#64CB5D\"},\"hatch_alpha\":{\"value\":0.2},\"hatch_color\":{\"value\":\"#64CB5D\"},\"line_alpha\":{\"value\":0.2},\"line_color\":{\"value\":\"#64CB5D\"},\"marker\":{\"value\":\"diamond\"},\"size\":{\"value\":10},\"x\":{\"field\":\"date_time\"},\"y\":{\"field\":\"y_index\"}},\"id\":\"9324\",\"type\":\"Scatter\"},{\"attributes\":{\"coordinates\":null,\"data_source\":{\"id\":\"8668\"},\"glyph\":{\"id\":\"9322\"},\"group\":null,\"hover_glyph\":null,\"muted_glyph\":{\"id\":\"9324\"},\"nonselection_glyph\":{\"id\":\"9323\"},\"view\":{\"id\":\"9326\"}},\"id\":\"9325\",\"type\":\"GlyphRenderer\"},{\"attributes\":{\"fill_alpha\":{\"value\":0.1},\"fill_color\":{\"value\":\"#70CE56\"},\"hatch_alpha\":{\"value\":0.1},\"hatch_color\":{\"value\":\"#70CE56\"},\"line_alpha\":{\"value\":0.1},\"line_color\":{\"value\":\"#70CE56\"},\"marker\":{\"value\":\"diamond\"},\"size\":{\"value\":10},\"x\":{\"field\":\"date_time\"},\"y\":{\"field\":\"y_index\"}},\"id\":\"9330\",\"type\":\"Scatter\"},{\"attributes\":{\"label\":{\"value\":\"u54\"},\"renderers\":[{\"id\":\"9325\"}]},\"id\":\"9327\",\"type\":\"LegendItem\"},{\"attributes\":{\"source\":{\"id\":\"8668\"}},\"id\":\"9326\",\"type\":\"CDSView\"},{\"attributes\":{\"fill_alpha\":{\"value\":0.5},\"fill_color\":{\"value\":\"#70CE56\"},\"hatch_alpha\":{\"value\":0.5},\"hatch_color\":{\"value\":\"#70CE56\"},\"line_alpha\":{\"value\":0.5},\"line_color\":{\"value\":\"#70CE56\"},\"marker\":{\"value\":\"diamond\"},\"size\":{\"value\":10},\"x\":{\"field\":\"date_time\"},\"y\":{\"field\":\"y_index\"}},\"id\":\"9329\",\"type\":\"Scatter\"},{\"attributes\":{\"fill_alpha\":{\"value\":0.2},\"fill_color\":{\"value\":\"#70CE56\"},\"hatch_alpha\":{\"value\":0.2},\"hatch_color\":{\"value\":\"#70CE56\"},\"line_alpha\":{\"value\":0.2},\"line_color\":{\"value\":\"#70CE56\"},\"marker\":{\"value\":\"diamond\"},\"size\":{\"value\":10},\"x\":{\"field\":\"date_time\"},\"y\":{\"field\":\"y_index\"}},\"id\":\"9331\",\"type\":\"Scatter\"},{\"attributes\":{\"coordinates\":null,\"data_source\":{\"id\":\"8669\"},\"glyph\":{\"id\":\"9329\"},\"group\":null,\"hover_glyph\":null,\"muted_glyph\":{\"id\":\"9331\"},\"nonselection_glyph\":{\"id\":\"9330\"},\"view\":{\"id\":\"9333\"}},\"id\":\"9332\",\"type\":\"GlyphRenderer\"},{\"attributes\":{},\"id\":\"9459\",\"type\":\"UnionRenderers\"},{\"attributes\":{\"fill_alpha\":{\"value\":0.1},\"fill_color\":{\"value\":\"#79D151\"},\"hatch_alpha\":{\"value\":0.1},\"hatch_color\":{\"value\":\"#79D151\"},\"line_alpha\":{\"value\":0.1},\"line_color\":{\"value\":\"#79D151\"},\"marker\":{\"value\":\"diamond\"},\"size\":{\"value\":10},\"x\":{\"field\":\"date_time\"},\"y\":{\"field\":\"y_index\"}},\"id\":\"9337\",\"type\":\"Scatter\"},{\"attributes\":{\"label\":{\"value\":\"u56\"},\"renderers\":[{\"id\":\"9332\"}]},\"id\":\"9334\",\"type\":\"LegendItem\"},{\"attributes\":{},\"id\":\"9460\",\"type\":\"Selection\"},{\"attributes\":{\"source\":{\"id\":\"8669\"}},\"id\":\"9333\",\"type\":\"CDSView\"},{\"attributes\":{\"fill_alpha\":{\"value\":0.5},\"fill_color\":{\"value\":\"#79D151\"},\"hatch_alpha\":{\"value\":0.5},\"hatch_color\":{\"value\":\"#79D151\"},\"line_alpha\":{\"value\":0.5},\"line_color\":{\"value\":\"#79D151\"},\"marker\":{\"value\":\"diamond\"},\"size\":{\"value\":10},\"x\":{\"field\":\"date_time\"},\"y\":{\"field\":\"y_index\"}},\"id\":\"9336\",\"type\":\"Scatter\"},{\"attributes\":{\"fill_alpha\":{\"value\":0.2},\"fill_color\":{\"value\":\"#79D151\"},\"hatch_alpha\":{\"value\":0.2},\"hatch_color\":{\"value\":\"#79D151\"},\"line_alpha\":{\"value\":0.2},\"line_color\":{\"value\":\"#79D151\"},\"marker\":{\"value\":\"diamond\"},\"size\":{\"value\":10},\"x\":{\"field\":\"date_time\"},\"y\":{\"field\":\"y_index\"}},\"id\":\"9338\",\"type\":\"Scatter\"},{\"attributes\":{\"coordinates\":null,\"data_source\":{\"id\":\"8670\"},\"glyph\":{\"id\":\"9336\"},\"group\":null,\"hover_glyph\":null,\"muted_glyph\":{\"id\":\"9338\"},\"nonselection_glyph\":{\"id\":\"9337\"},\"view\":{\"id\":\"9340\"}},\"id\":\"9339\",\"type\":\"GlyphRenderer\"},{\"attributes\":{\"fill_alpha\":{\"value\":0.1},\"fill_color\":{\"value\":\"#86D449\"},\"hatch_alpha\":{\"value\":0.1},\"hatch_color\":{\"value\":\"#86D449\"},\"line_alpha\":{\"value\":0.1},\"line_color\":{\"value\":\"#86D449\"},\"marker\":{\"value\":\"diamond\"},\"size\":{\"value\":10},\"x\":{\"field\":\"date_time\"},\"y\":{\"field\":\"y_index\"}},\"id\":\"9344\",\"type\":\"Scatter\"},{\"attributes\":{\"label\":{\"value\":\"u57\"},\"renderers\":[{\"id\":\"9339\"}]},\"id\":\"9341\",\"type\":\"LegendItem\"},{\"attributes\":{\"source\":{\"id\":\"8670\"}},\"id\":\"9340\",\"type\":\"CDSView\"},{\"attributes\":{\"fill_alpha\":{\"value\":0.5},\"fill_color\":{\"value\":\"#86D449\"},\"hatch_alpha\":{\"value\":0.5},\"hatch_color\":{\"value\":\"#86D449\"},\"line_alpha\":{\"value\":0.5},\"line_color\":{\"value\":\"#86D449\"},\"marker\":{\"value\":\"diamond\"},\"size\":{\"value\":10},\"x\":{\"field\":\"date_time\"},\"y\":{\"field\":\"y_index\"}},\"id\":\"9343\",\"type\":\"Scatter\"},{\"attributes\":{\"fill_alpha\":{\"value\":0.2},\"fill_color\":{\"value\":\"#86D449\"},\"hatch_alpha\":{\"value\":0.2},\"hatch_color\":{\"value\":\"#86D449\"},\"line_alpha\":{\"value\":0.2},\"line_color\":{\"value\":\"#86D449\"},\"marker\":{\"value\":\"diamond\"},\"size\":{\"value\":10},\"x\":{\"field\":\"date_time\"},\"y\":{\"field\":\"y_index\"}},\"id\":\"9345\",\"type\":\"Scatter\"},{\"attributes\":{\"coordinates\":null,\"data_source\":{\"id\":\"8671\"},\"glyph\":{\"id\":\"9343\"},\"group\":null,\"hover_glyph\":null,\"muted_glyph\":{\"id\":\"9345\"},\"nonselection_glyph\":{\"id\":\"9344\"},\"view\":{\"id\":\"9347\"}},\"id\":\"9346\",\"type\":\"GlyphRenderer\"},{\"attributes\":{\"fill_alpha\":{\"value\":0.1},\"fill_color\":{\"value\":\"#92D741\"},\"hatch_alpha\":{\"value\":0.1},\"hatch_color\":{\"value\":\"#92D741\"},\"line_alpha\":{\"value\":0.1},\"line_color\":{\"value\":\"#92D741\"},\"marker\":{\"value\":\"diamond\"},\"size\":{\"value\":10},\"x\":{\"field\":\"date_time\"},\"y\":{\"field\":\"y_index\"}},\"id\":\"9351\",\"type\":\"Scatter\"},{\"attributes\":{},\"id\":\"9461\",\"type\":\"UnionRenderers\"},{\"attributes\":{\"label\":{\"value\":\"u58\"},\"renderers\":[{\"id\":\"9346\"}]},\"id\":\"9348\",\"type\":\"LegendItem\"},{\"attributes\":{\"source\":{\"id\":\"8671\"}},\"id\":\"9347\",\"type\":\"CDSView\"},{\"attributes\":{},\"id\":\"9462\",\"type\":\"Selection\"},{\"attributes\":{\"fill_alpha\":{\"value\":0.5},\"fill_color\":{\"value\":\"#92D741\"},\"hatch_alpha\":{\"value\":0.5},\"hatch_color\":{\"value\":\"#92D741\"},\"line_alpha\":{\"value\":0.5},\"line_color\":{\"value\":\"#92D741\"},\"marker\":{\"value\":\"diamond\"},\"size\":{\"value\":10},\"x\":{\"field\":\"date_time\"},\"y\":{\"field\":\"y_index\"}},\"id\":\"9350\",\"type\":\"Scatter\"},{\"attributes\":{\"fill_alpha\":{\"value\":0.2},\"fill_color\":{\"value\":\"#92D741\"},\"hatch_alpha\":{\"value\":0.2},\"hatch_color\":{\"value\":\"#92D741\"},\"line_alpha\":{\"value\":0.2},\"line_color\":{\"value\":\"#92D741\"},\"marker\":{\"value\":\"diamond\"},\"size\":{\"value\":10},\"x\":{\"field\":\"date_time\"},\"y\":{\"field\":\"y_index\"}},\"id\":\"9352\",\"type\":\"Scatter\"},{\"attributes\":{\"coordinates\":null,\"data_source\":{\"id\":\"8672\"},\"glyph\":{\"id\":\"9350\"},\"group\":null,\"hover_glyph\":null,\"muted_glyph\":{\"id\":\"9352\"},\"nonselection_glyph\":{\"id\":\"9351\"},\"view\":{\"id\":\"9354\"}},\"id\":\"9353\",\"type\":\"GlyphRenderer\"},{\"attributes\":{\"label\":{\"value\":\"u59\"},\"renderers\":[{\"id\":\"9353\"}]},\"id\":\"9355\",\"type\":\"LegendItem\"},{\"attributes\":{\"source\":{\"id\":\"8672\"}},\"id\":\"9354\",\"type\":\"CDSView\"},{\"attributes\":{\"click_policy\":\"hide\",\"coordinates\":null,\"group\":null,\"items\":[{\"id\":\"9355\"},{\"id\":\"9348\"},{\"id\":\"9341\"},{\"id\":\"9334\"},{\"id\":\"9327\"},{\"id\":\"9320\"},{\"id\":\"9313\"},{\"id\":\"9306\"},{\"id\":\"9299\"},{\"id\":\"9292\"},{\"id\":\"9285\"},{\"id\":\"9278\"},{\"id\":\"9271\"},{\"id\":\"9264\"},{\"id\":\"9257\"},{\"id\":\"9250\"},{\"id\":\"9243\"},{\"id\":\"9236\"},{\"id\":\"9229\"},{\"id\":\"9222\"},{\"id\":\"9215\"},{\"id\":\"9208\"},{\"id\":\"9201\"},{\"id\":\"9194\"},{\"id\":\"9187\"},{\"id\":\"9180\"},{\"id\":\"9173\"},{\"id\":\"9166\"},{\"id\":\"9159\"},{\"id\":\"9152\"},{\"id\":\"9145\"},{\"id\":\"9138\"},{\"id\":\"9131\"},{\"id\":\"9124\"},{\"id\":\"9117\"},{\"id\":\"9110\"},{\"id\":\"9103\"},{\"id\":\"9096\"},{\"id\":\"9089\"},{\"id\":\"9082\"},{\"id\":\"9075\"},{\"id\":\"9068\"},{\"id\":\"9061\"},{\"id\":\"9054\"},{\"id\":\"9047\"},{\"id\":\"9040\"},{\"id\":\"9033\"},{\"id\":\"9026\"}],\"label_text_font_size\":\"8pt\",\"location\":\"center\"},\"id\":\"9356\",\"type\":\"Legend\"},{\"attributes\":{},\"id\":\"9366\",\"type\":\"AllLabels\"},{\"attributes\":{\"data\":{\"date_time\":{\"__ndarray__\":\"AADYzcXac0IAAEZ3CNtzQgAAWpcQ23NCAADeozTbc0IAACBJa9tzQgAAjpi823NCAAAQWx3cc0IAAHQru9xzQgAAJnHw3HNCAABs6Pbcc0IAAEB8Jd1zQgAAwph33XNCAAAKg8zdc0IAAMq3uN5zQgAA9kwV33NCAACWp0ffc0IAAMg8j99zQgAAguA/4HNCAACMv93gc0IAAJhJGuFzQgAAnF8s4nNCAAD8rxDkc0IAAAxQX+VzQgAAjid+5XNCAAAe0brnc0IAAHJo3udzQgAArEDq53NCAAC6sw7oc0IAAMQPMOhzQgAACgbv7HNCAAAkDv7oc0IAACaRAudzQgAA2rOA7HNC\",\"dtype\":\"float64\",\"order\":\"little\",\"shape\":[33]},\"index\":[446,447,448,449,450,451,452,453,454,455,456,457,458,459,460,461,462,463,464,465,466,467,468,469,470,471,472,473,474,475,2286,2287,2288],\"y_index\":[10,10,10,10,10,10,10,10,10,10,10,10,10,10,10,10,10,10,10,10,10,10,10,10,10,10,10,10,10,10,10,10,10]},\"selected\":{\"id\":\"9388\"},\"selection_policy\":{\"id\":\"9387\"}},\"id\":\"8635\",\"type\":\"ColumnDataSource\"},{\"attributes\":{},\"id\":\"9367\",\"type\":\"UnionRenderers\"},{\"attributes\":{},\"id\":\"9368\",\"type\":\"Selection\"},{\"attributes\":{\"data\":{\"date_time\":{\"__ndarray__\":\"AADqErrac0IAACqRv9pzQgAAiOzJ2nNCAAD4yhHbc0IAAIpfGNtzQgAAAhJ123NCAAAKK73bc0IAABZp3NtzQg==\",\"dtype\":\"float64\",\"order\":\"little\",\"shape\":[8]},\"index\":[197,198,199,200,201,202,203,204],\"y_index\":[5,5,5,5,5,5,5,5]},\"selected\":{\"id\":\"9378\"},\"selection_policy\":{\"id\":\"9377\"}},\"id\":\"8630\",\"type\":\"ColumnDataSource\"},{\"attributes\":{\"fill_color\":{\"value\":\"#45065A\"},\"hatch_color\":{\"value\":\"#45065A\"},\"line_color\":{\"value\":\"#45065A\"},\"x\":{\"field\":\"date_time\"},\"y\":{\"field\":\"y_index\"}},\"id\":\"8732\",\"type\":\"Circle\"},{\"attributes\":{\"fill_alpha\":{\"value\":0.1},\"fill_color\":{\"value\":\"#32B57A\"},\"hatch_alpha\":{\"value\":0.1},\"hatch_color\":{\"value\":\"#32B57A\"},\"line_alpha\":{\"value\":0.1},\"line_color\":{\"value\":\"#32B57A\"},\"x\":{\"field\":\"date_time\"},\"y\":{\"field\":\"y_index\"}},\"id\":\"8949\",\"type\":\"Circle\"},{\"attributes\":{\"data\":{\"date_time\":{\"__ndarray__\":\"AAAMZrvcc0IAAEqo0dxzQgAAOooO3XNCAAAaHhPdc0IAAHquIt1zQgAAfC9F3XNCAAAwZUzdc0IAAPSjWN1zQgAAwp9h3XNCAAAW62fdc0IAAFa8dN1zQgAAVluZ3XNCAADGk9Ldc0IAAFzl6t1zQgAAXMlC3nNCAAAOaWnec0IAAFhDkN5zQgAAng2e3nNCAADkfbrec0IAANoTxd5zQgAAzIvi3nNCAAAMsPbec0IAAHw7N99zQgAAjOpK33NCAACCxYjfc0IAAGThmd9zQgAARkLe33NCAABsoPDfc0IAAO7DLOBzQgAA5Fk34HNCAACgvUTgc0IAAHwXtOBzQgAARvXP4HNCAAAk8/Pgc0IAAMw2+eBzQgAAkMEi4XNCAACa88fhc0IAAKxhR+JzQgAAzqFs4nNCAADmFsHic0IAAL4NEONzQgAAgutA43NCAAA4T2Pjc0IAAHZ10eNzQgAA9mMI5HNCAADEnVrkc0IAAAQcYORzQgAADIiv5HNCAAC81ijlc0IAAAiTTeVzQgAAVjFw5XNCAAD6sHnlc0IAACjjoOVzQgAAWOnx5XNCAACSYCLmc0IAAOoOSeZzQgAATGyY5nNCAADyXvDmc0IAAGTFROdzQgAABHpo53NCAACEaJ/nc0IAAIi96+dzQgAAanE36HNCAACq7zzoc0IAANr1jehzQgAAfAFY6XNCAAAONYPpc0IAALLy1elzQgAAan0p6nNCAAAyeUfqc0IAAO57eepzQgAAlhKG6nNCAADy3pnqc0IAAJZQz+pzQgAAzvPV6nNCAAAYbSHrc0IAAECYc+tzQgAAOKHM63NCAABwLxXsc0IAACzfP+xzQgAAJJWR7HNCAADmPb3sc0IAAH4JDu1zQgAAyNVg7XNCAAA4fFjuc0IAAGoQr+9zQgAAnHII5HNCAABEQHTkc0IAACKA+OdzQgAAlGTB5nNCAABgOKjnc0IAAA7R1OxzQgAAzsd37XNC\",\"dtype\":\"float64\",\"order\":\"little\",\"shape\":[93]},\"index\":[1355,1356,1357,1358,1359,1360,1361,1362,1363,1364,1365,1366,1367,1368,1369,1370,1371,1372,1373,1374,1375,1376,1377,1378,1379,1380,1381,1382,1383,1384,1385,1386,1387,1388,1389,1390,1391,1392,1393,1394,1395,1396,1397,1398,1399,1400,1401,1402,1403,1404,1405,1406,1407,1408,1409,1410,1411,1412,1413,1414,1415,1416,1417,1418,1419,1420,1421,1422,1423,1424,1425,1426,1427,1428,1429,1430,1431,1432,1433,1434,1435,1436,1437,1438,1439,1440,2333,2334,2335,2336,2337,2338,2339],\"y_index\":[34,34,34,34,34,34,34,34,34,34,34,34,34,34,34,34,34,34,34,34,34,34,34,34,34,34,34,34,34,34,34,34,34,34,34,34,34,34,34,34,34,34,34,34,34,34,34,34,34,34,34,34,34,34,34,34,34,34,34,34,34,34,34,34,34,34,34,34,34,34,34,34,34,34,34,34,34,34,34,34,34,34,34,34,34,34,34,34,34,34,34,34,34]},\"selected\":{\"id\":\"9436\"},\"selection_policy\":{\"id\":\"9435\"}},\"id\":\"8659\",\"type\":\"ColumnDataSource\"},{\"attributes\":{\"fill_alpha\":{\"value\":0.1},\"fill_color\":{\"value\":\"#45065A\"},\"hatch_alpha\":{\"value\":0.1},\"hatch_color\":{\"value\":\"#45065A\"},\"line_alpha\":{\"value\":0.1},\"line_color\":{\"value\":\"#45065A\"},\"x\":{\"field\":\"date_time\"},\"y\":{\"field\":\"y_index\"}},\"id\":\"8733\",\"type\":\"Circle\"},{\"attributes\":{\"fill_alpha\":{\"value\":0.1},\"fill_color\":{\"value\":\"#2E6D8E\"},\"hatch_alpha\":{\"value\":0.1},\"hatch_color\":{\"value\":\"#2E6D8E\"},\"line_alpha\":{\"value\":0.1},\"line_color\":{\"value\":\"#2E6D8E\"},\"x\":{\"field\":\"date_time\"},\"y\":{\"field\":\"y_index\"}},\"id\":\"8847\",\"type\":\"Circle\"},{\"attributes\":{},\"id\":\"9401\",\"type\":\"UnionRenderers\"},{\"attributes\":{\"fill_alpha\":{\"value\":0.5},\"fill_color\":{\"value\":\"#460E61\"},\"hatch_alpha\":{\"value\":0.5},\"hatch_color\":{\"value\":\"#460E61\"},\"line_alpha\":{\"value\":0.5},\"line_color\":{\"value\":\"#460E61\"},\"marker\":{\"value\":\"diamond\"},\"size\":{\"value\":10},\"x\":{\"field\":\"date_time\"},\"y\":{\"field\":\"y_index\"}},\"id\":\"9035\",\"type\":\"Scatter\"},{\"attributes\":{\"days\":[\"%m-%d %H:%M\"],\"hours\":[\"%H:%M:%S\"],\"milliseconds\":[\"%H:%M:%S.%3N\"],\"minutes\":[\"%H:%M:%S\"],\"seconds\":[\"%H:%M:%S\"]},\"id\":\"8723\",\"type\":\"DatetimeTickFormatter\"},{\"attributes\":{\"fill_alpha\":{\"value\":0.1},\"fill_color\":{\"value\":\"#460E61\"},\"hatch_alpha\":{\"value\":0.1},\"hatch_color\":{\"value\":\"#460E61\"},\"line_alpha\":{\"value\":0.1},\"line_color\":{\"value\":\"#460E61\"},\"x\":{\"field\":\"date_time\"},\"y\":{\"field\":\"y_index\"}},\"id\":\"8739\",\"type\":\"Circle\"},{\"attributes\":{\"fill_color\":{\"value\":\"#460E61\"},\"hatch_color\":{\"value\":\"#460E61\"},\"line_color\":{\"value\":\"#460E61\"},\"x\":{\"field\":\"date_time\"},\"y\":{\"field\":\"y_index\"}},\"id\":\"8738\",\"type\":\"Circle\"},{\"attributes\":{},\"id\":\"9402\",\"type\":\"Selection\"},{\"attributes\":{\"source\":{\"id\":\"8626\"}},\"id\":\"8736\",\"type\":\"CDSView\"},{\"attributes\":{},\"id\":\"9369\",\"type\":\"UnionRenderers\"},{\"attributes\":{\"coordinates\":null,\"data_source\":{\"id\":\"8626\"},\"glyph\":{\"id\":\"8732\"},\"group\":null,\"hover_glyph\":null,\"muted_glyph\":{\"id\":\"8734\"},\"nonselection_glyph\":{\"id\":\"8733\"},\"view\":{\"id\":\"8736\"}},\"id\":\"8735\",\"type\":\"GlyphRenderer\"},{\"attributes\":{\"fill_alpha\":{\"value\":0.2},\"fill_color\":{\"value\":\"#45065A\"},\"hatch_alpha\":{\"value\":0.2},\"hatch_color\":{\"value\":\"#45065A\"},\"line_alpha\":{\"value\":0.2},\"line_color\":{\"value\":\"#45065A\"},\"x\":{\"field\":\"date_time\"},\"y\":{\"field\":\"y_index\"}},\"id\":\"8734\",\"type\":\"Circle\"},{\"attributes\":{\"fill_alpha\":{\"value\":0.1},\"fill_color\":{\"value\":\"#2BB17D\"},\"hatch_alpha\":{\"value\":0.1},\"hatch_color\":{\"value\":\"#2BB17D\"},\"line_alpha\":{\"value\":0.1},\"line_color\":{\"value\":\"#2BB17D\"},\"x\":{\"field\":\"date_time\"},\"y\":{\"field\":\"y_index\"}},\"id\":\"8943\",\"type\":\"Circle\"},{\"attributes\":{},\"id\":\"9370\",\"type\":\"Selection\"},{\"attributes\":{\"fill_alpha\":{\"value\":0.2},\"fill_color\":{\"value\":\"#32638D\"},\"hatch_alpha\":{\"value\":0.2},\"hatch_color\":{\"value\":\"#32638D\"},\"line_alpha\":{\"value\":0.2},\"line_color\":{\"value\":\"#32638D\"},\"x\":{\"field\":\"date_time\"},\"y\":{\"field\":\"y_index\"}},\"id\":\"8836\",\"type\":\"Circle\"},{\"attributes\":{\"fill_alpha\":{\"value\":0.1},\"fill_color\":{\"value\":\"#471466\"},\"hatch_alpha\":{\"value\":0.1},\"hatch_color\":{\"value\":\"#471466\"},\"line_alpha\":{\"value\":0.1},\"line_color\":{\"value\":\"#471466\"},\"x\":{\"field\":\"date_time\"},\"y\":{\"field\":\"y_index\"}},\"id\":\"8745\",\"type\":\"Circle\"},{\"attributes\":{\"fill_color\":{\"value\":\"#471466\"},\"hatch_color\":{\"value\":\"#471466\"},\"line_color\":{\"value\":\"#471466\"},\"x\":{\"field\":\"date_time\"},\"y\":{\"field\":\"y_index\"}},\"id\":\"8744\",\"type\":\"Circle\"},{\"attributes\":{\"data\":{\"date_time\":{\"__ndarray__\":\"AACMabDcc0IAAE62CN9zQgAAmPEK33NCAABW6gfgc0IAACYo+eBzQgAAJCpT4XNCAACISxbkc0I=\",\"dtype\":\"float64\",\"order\":\"little\",\"shape\":[7]},\"index\":[1232,1233,1234,1235,1236,1237,1238],\"y_index\":[30,30,30,30,30,30,30]},\"selected\":{\"id\":\"9428\"},\"selection_policy\":{\"id\":\"9427\"}},\"id\":\"8655\",\"type\":\"ColumnDataSource\"},{\"attributes\":{\"source\":{\"id\":\"8627\"}},\"id\":\"8742\",\"type\":\"CDSView\"},{\"attributes\":{\"coordinates\":null,\"data_source\":{\"id\":\"8627\"},\"glyph\":{\"id\":\"8738\"},\"group\":null,\"hover_glyph\":null,\"muted_glyph\":{\"id\":\"8740\"},\"nonselection_glyph\":{\"id\":\"8739\"},\"view\":{\"id\":\"8742\"}},\"id\":\"8741\",\"type\":\"GlyphRenderer\"},{\"attributes\":{\"data\":{\"date_time\":{\"__ndarray__\":\"AAD6427bc0IAAKLZdN1zQgAA8A3w33NCAACwc0Lgc0IAAMDOXeFzQgAA+Amf4XNCAAAiLK3hc0IAAGjJa+VzQgAAIkt75XNCAAC4qXbmc0IAAMZq7etzQgAAJGsV7XNCAACYs2ftc0IAABbwwuZzQgAAKJHd63NCAAD+pS7sc0IAAKjt0uxzQgAAppwl7XNCAADgQ8vtc0IAAH7sdO5zQg==\",\"dtype\":\"float64\",\"order\":\"little\",\"shape\":[20]},\"index\":[1501,1502,1503,1504,1505,1506,1507,1508,1509,1510,1511,1512,1513,2340,2341,2342,2343,2344,2345,2346],\"y_index\":[37,37,37,37,37,37,37,37,37,37,37,37,37,37,37,37,37,37,37,37]},\"selected\":{\"id\":\"9442\"},\"selection_policy\":{\"id\":\"9441\"}},\"id\":\"8662\",\"type\":\"ColumnDataSource\"},{\"attributes\":{\"fill_alpha\":{\"value\":0.2},\"fill_color\":{\"value\":\"#460E61\"},\"hatch_alpha\":{\"value\":0.2},\"hatch_color\":{\"value\":\"#460E61\"},\"line_alpha\":{\"value\":0.2},\"line_color\":{\"value\":\"#460E61\"},\"x\":{\"field\":\"date_time\"},\"y\":{\"field\":\"y_index\"}},\"id\":\"8740\",\"type\":\"Circle\"},{\"attributes\":{\"coordinates\":null,\"data_source\":{\"id\":\"8643\"},\"glyph\":{\"id\":\"8834\"},\"group\":null,\"hover_glyph\":null,\"muted_glyph\":{\"id\":\"8836\"},\"nonselection_glyph\":{\"id\":\"8835\"},\"view\":{\"id\":\"8838\"}},\"id\":\"8837\",\"type\":\"GlyphRenderer\"},{\"attributes\":{\"source\":{\"id\":\"8643\"}},\"id\":\"8838\",\"type\":\"CDSView\"},{\"attributes\":{\"fill_alpha\":{\"value\":0.1},\"fill_color\":{\"value\":\"#481A6C\"},\"hatch_alpha\":{\"value\":0.1},\"hatch_color\":{\"value\":\"#481A6C\"},\"line_alpha\":{\"value\":0.1},\"line_color\":{\"value\":\"#481A6C\"},\"x\":{\"field\":\"date_time\"},\"y\":{\"field\":\"y_index\"}},\"id\":\"8751\",\"type\":\"Circle\"},{\"attributes\":{\"fill_color\":{\"value\":\"#481A6C\"},\"hatch_color\":{\"value\":\"#481A6C\"},\"line_color\":{\"value\":\"#481A6C\"},\"x\":{\"field\":\"date_time\"},\"y\":{\"field\":\"y_index\"}},\"id\":\"8750\",\"type\":\"Circle\"},{\"attributes\":{\"source\":{\"id\":\"8628\"}},\"id\":\"8748\",\"type\":\"CDSView\"},{\"attributes\":{\"coordinates\":null,\"data_source\":{\"id\":\"8628\"},\"glyph\":{\"id\":\"8744\"},\"group\":null,\"hover_glyph\":null,\"muted_glyph\":{\"id\":\"8746\"},\"nonselection_glyph\":{\"id\":\"8745\"},\"view\":{\"id\":\"8748\"}},\"id\":\"8747\",\"type\":\"GlyphRenderer\"},{\"attributes\":{\"fill_alpha\":{\"value\":0.2},\"fill_color\":{\"value\":\"#471466\"},\"hatch_alpha\":{\"value\":0.2},\"hatch_color\":{\"value\":\"#471466\"},\"line_alpha\":{\"value\":0.2},\"line_color\":{\"value\":\"#471466\"},\"x\":{\"field\":\"date_time\"},\"y\":{\"field\":\"y_index\"}},\"id\":\"8746\",\"type\":\"Circle\"},{\"attributes\":{\"fill_color\":{\"value\":\"#30688D\"},\"hatch_color\":{\"value\":\"#30688D\"},\"line_color\":{\"value\":\"#30688D\"},\"x\":{\"field\":\"date_time\"},\"y\":{\"field\":\"y_index\"}},\"id\":\"8840\",\"type\":\"Circle\"},{\"attributes\":{},\"id\":\"9403\",\"type\":\"UnionRenderers\"},{\"attributes\":{\"fill_alpha\":{\"value\":0.1},\"fill_color\":{\"value\":\"#30688D\"},\"hatch_alpha\":{\"value\":0.1},\"hatch_color\":{\"value\":\"#30688D\"},\"line_alpha\":{\"value\":0.1},\"line_color\":{\"value\":\"#30688D\"},\"x\":{\"field\":\"date_time\"},\"y\":{\"field\":\"y_index\"}},\"id\":\"8841\",\"type\":\"Circle\"},{\"attributes\":{\"fill_alpha\":{\"value\":0.1},\"fill_color\":{\"value\":\"#482071\"},\"hatch_alpha\":{\"value\":0.1},\"hatch_color\":{\"value\":\"#482071\"},\"line_alpha\":{\"value\":0.1},\"line_color\":{\"value\":\"#482071\"},\"x\":{\"field\":\"date_time\"},\"y\":{\"field\":\"y_index\"}},\"id\":\"8757\",\"type\":\"Circle\"},{\"attributes\":{\"fill_color\":{\"value\":\"#482071\"},\"hatch_color\":{\"value\":\"#482071\"},\"line_color\":{\"value\":\"#482071\"},\"x\":{\"field\":\"date_time\"},\"y\":{\"field\":\"y_index\"}},\"id\":\"8756\",\"type\":\"Circle\"},{\"attributes\":{},\"id\":\"9404\",\"type\":\"Selection\"},{\"attributes\":{\"source\":{\"id\":\"8629\"}},\"id\":\"8754\",\"type\":\"CDSView\"},{\"attributes\":{},\"id\":\"9371\",\"type\":\"UnionRenderers\"},{\"attributes\":{\"coordinates\":null,\"data_source\":{\"id\":\"8629\"},\"glyph\":{\"id\":\"8750\"},\"group\":null,\"hover_glyph\":null,\"muted_glyph\":{\"id\":\"8752\"},\"nonselection_glyph\":{\"id\":\"8751\"},\"view\":{\"id\":\"8754\"}},\"id\":\"8753\",\"type\":\"GlyphRenderer\"},{\"attributes\":{\"fill_alpha\":{\"value\":0.2},\"fill_color\":{\"value\":\"#481A6C\"},\"hatch_alpha\":{\"value\":0.2},\"hatch_color\":{\"value\":\"#481A6C\"},\"line_alpha\":{\"value\":0.2},\"line_color\":{\"value\":\"#481A6C\"},\"x\":{\"field\":\"date_time\"},\"y\":{\"field\":\"y_index\"}},\"id\":\"8752\",\"type\":\"Circle\"},{\"attributes\":{\"fill_color\":{\"value\":\"#2BB17D\"},\"hatch_color\":{\"value\":\"#2BB17D\"},\"line_color\":{\"value\":\"#2BB17D\"},\"x\":{\"field\":\"date_time\"},\"y\":{\"field\":\"y_index\"}},\"id\":\"8942\",\"type\":\"Circle\"},{\"attributes\":{},\"id\":\"9372\",\"type\":\"Selection\"},{\"attributes\":{\"source\":{\"id\":\"8660\"}},\"id\":\"8940\",\"type\":\"CDSView\"},{\"attributes\":{\"coordinates\":null,\"data_source\":{\"id\":\"8642\"},\"glyph\":{\"id\":\"8828\"},\"group\":null,\"hover_glyph\":null,\"muted_glyph\":{\"id\":\"8830\"},\"nonselection_glyph\":{\"id\":\"8829\"},\"view\":{\"id\":\"8832\"}},\"id\":\"8831\",\"type\":\"GlyphRenderer\"},{\"attributes\":{\"data\":{\"date_time\":{\"__ndarray__\":\"AADKdGfcc0IAAPRDbtxzQgAAXoOm3HNCAAAO9bHcc0IAAKi3vtxzQgAAFDrQ3HNCAABYfNHcc0IAAJ7z19xzQgAA6lz13HNCAAD87Qbdc0IAACy2Dt1zQgAAgKcj3XNCAADAF1Xdc0IAAKjZX91zQgAA1mxi3XNCAAAYc3Tdc0IAADpnfN1zQgAA2hug3XNCAAB6KrXdc0IAAPJLwd1zQgAAYj/H3XNCAADgBs3dc0IAAET6/N1zQgAA/EYH3nNCAABIXR3ec0IAAAZQId5zQgAA8iFF3nNCAADsdGHec0IAABItZd5zQgAApuic3nNCAABQYafec0IAAGTUtt5zQgAAdr+53nNCAACm097ec0IAAGiD9N5zQgAAVjcW33NCAABYC0Dfc0IAAErBpt9zQgAAFKas33NCAAA4bt7fc0IAAFLa7t9zQgAAdHQF4HNCAABcKDzgc0IAADL/Q+BzQgAApL+J4HNCAACIapHgc0IAAJqT3eBzQgAAJi/j4HNCAACK1vXgc0IAAMY9+OBzQgAAAFRN4XNCAADsLFvhc0IAAGrmjOFzQgAAdn6d4XNCAADKHKvhc0IAADqv1eFzQgAA5IDg4nNCAADkgODic0IAAOQKR+NzQgAAAMcT5HNCAAAEHGDkc0IAAOasGeVzQgAAaMlr5XNCAACuk3nlc0IAAIbdz+VzQgAANKsm5nNCAAAGqXTmc0IAADb68edzQgAAKMUW6HNCAAA0Vj3oc0IAAJrYY+hzQgAADKyF6nNCAACo9p7qc0IAACoZ6utzQgAAbuw77HNCAACuHTPtc0IAANZPb+1zQgAA3Fv553NCAACK9CXtc0I=\",\"dtype\":\"float64\",\"order\":\"little\",\"shape\":[79]},\"index\":[1278,1279,1280,1281,1282,1283,1284,1285,1286,1287,1288,1289,1290,1291,1292,1293,1294,1295,1296,1297,1298,1299,1300,1301,1302,1303,1304,1305,1306,1307,1308,1309,1310,1311,1312,1313,1314,1315,1316,1317,1318,1319,1320,1321,1322,1323,1324,1325,1326,1327,1328,1329,1330,1331,1332,1333,1334,1335,1336,1337,1338,1339,1340,1341,1342,1343,1344,1345,1346,1347,1348,1349,1350,1351,1352,1353,1354,2433,2434],\"y_index\":[33,33,33,33,33,33,33,33,33,33,33,33,33,33,33,33,33,33,33,33,33,33,33,33,33,33,33,33,33,33,33,33,33,33,33,33,33,33,33,33,33,33,33,33,33,33,33,33,33,33,33,33,33,33,33,33,33,33,33,33,33,33,33,33,33,33,33,33,33,33,33,33,33,33,33,33,33,33,33]},\"selected\":{\"id\":\"9434\"},\"selection_policy\":{\"id\":\"9433\"}},\"id\":\"8658\",\"type\":\"ColumnDataSource\"},{\"attributes\":{\"fill_color\":{\"value\":\"#32638D\"},\"hatch_color\":{\"value\":\"#32638D\"},\"line_color\":{\"value\":\"#32638D\"},\"x\":{\"field\":\"date_time\"},\"y\":{\"field\":\"y_index\"}},\"id\":\"8834\",\"type\":\"Circle\"},{\"attributes\":{\"source\":{\"id\":\"8630\"}},\"id\":\"8760\",\"type\":\"CDSView\"},{\"attributes\":{\"coordinates\":null,\"data_source\":{\"id\":\"8630\"},\"glyph\":{\"id\":\"8756\"},\"group\":null,\"hover_glyph\":null,\"muted_glyph\":{\"id\":\"8758\"},\"nonselection_glyph\":{\"id\":\"8757\"},\"view\":{\"id\":\"8760\"}},\"id\":\"8759\",\"type\":\"GlyphRenderer\"},{\"attributes\":{\"fill_alpha\":{\"value\":0.2},\"fill_color\":{\"value\":\"#482071\"},\"hatch_alpha\":{\"value\":0.2},\"hatch_color\":{\"value\":\"#482071\"},\"line_alpha\":{\"value\":0.2},\"line_color\":{\"value\":\"#482071\"},\"x\":{\"field\":\"date_time\"},\"y\":{\"field\":\"y_index\"}},\"id\":\"8758\",\"type\":\"Circle\"},{\"attributes\":{\"fill_color\":{\"value\":\"#472676\"},\"hatch_color\":{\"value\":\"#472676\"},\"line_color\":{\"value\":\"#472676\"},\"x\":{\"field\":\"date_time\"},\"y\":{\"field\":\"y_index\"}},\"id\":\"8762\",\"type\":\"Circle\"},{\"attributes\":{\"data\":{\"date_time\":{\"__ndarray__\":\"AAC0ZI3cc0IAALRkjdxzQgAArMfX3HNCAACsx9fcc0IAAFRQEN1zQgAAMFd43XNCAAAOTrLdc0IAAMoEx91zQgAA+o2U3nNCAAAaoJ7ec0IAAEgst95zQgAAylXs33NCAABuEz/gc0IAAFj1kOBzQgAAWCUG4XNCAACWbgbhc0IAAFSDq+FzQgAAuFdg5XNCAAByP1Pnc0IAAPyeaedzQgAA6onq53NCAADsCg3oc0IAAI5HPehzQgAAuM4963NCAAAAnerrc0IAALTEHexzQgAAWgmM7XNCAAAwVPjnc0IAABjP7elzQgAAbExL6HNCAAB8yvjoc0IAANRqS+lzQgAATGun53NCAAAwIqHpc0IAACi5d+1zQg==\",\"dtype\":\"float64\",\"order\":\"little\",\"shape\":[35]},\"index\":[1441,1442,1443,1444,1445,1446,1447,1448,1449,1450,1451,1452,1453,1454,1455,1456,1457,1458,1459,1460,1461,1462,1463,1464,1465,1466,1467,2138,2139,2140,2141,2142,2143,2144,2145],\"y_index\":[35,35,35,35,35,35,35,35,35,35,35,35,35,35,35,35,35,35,35,35,35,35,35,35,35,35,35,35,35,35,35,35,35,35,35]},\"selected\":{\"id\":\"9438\"},\"selection_policy\":{\"id\":\"9437\"}},\"id\":\"8660\",\"type\":\"ColumnDataSource\"},{\"attributes\":{\"fill_alpha\":{\"value\":0.2},\"fill_color\":{\"value\":\"#345F8D\"},\"hatch_alpha\":{\"value\":0.2},\"hatch_color\":{\"value\":\"#345F8D\"},\"line_alpha\":{\"value\":0.2},\"line_color\":{\"value\":\"#345F8D\"},\"x\":{\"field\":\"date_time\"},\"y\":{\"field\":\"y_index\"}},\"id\":\"8830\",\"type\":\"Circle\"},{\"attributes\":{\"fill_alpha\":{\"value\":0.1},\"fill_color\":{\"value\":\"#472676\"},\"hatch_alpha\":{\"value\":0.1},\"hatch_color\":{\"value\":\"#472676\"},\"line_alpha\":{\"value\":0.1},\"line_color\":{\"value\":\"#472676\"},\"x\":{\"field\":\"date_time\"},\"y\":{\"field\":\"y_index\"}},\"id\":\"8763\",\"type\":\"Circle\"},{\"attributes\":{\"fill_alpha\":{\"value\":0.1},\"fill_color\":{\"value\":\"#46317E\"},\"hatch_alpha\":{\"value\":0.1},\"hatch_color\":{\"value\":\"#46317E\"},\"line_alpha\":{\"value\":0.1},\"line_color\":{\"value\":\"#46317E\"},\"x\":{\"field\":\"date_time\"},\"y\":{\"field\":\"y_index\"}},\"id\":\"8775\",\"type\":\"Circle\"},{\"attributes\":{\"source\":{\"id\":\"8631\"}},\"id\":\"8766\",\"type\":\"CDSView\"},{\"attributes\":{\"coordinates\":null,\"data_source\":{\"id\":\"8631\"},\"glyph\":{\"id\":\"8762\"},\"group\":null,\"hover_glyph\":null,\"muted_glyph\":{\"id\":\"8764\"},\"nonselection_glyph\":{\"id\":\"8763\"},\"view\":{\"id\":\"8766\"}},\"id\":\"8765\",\"type\":\"GlyphRenderer\"},{\"attributes\":{\"fill_alpha\":{\"value\":0.2},\"fill_color\":{\"value\":\"#472676\"},\"hatch_alpha\":{\"value\":0.2},\"hatch_color\":{\"value\":\"#472676\"},\"line_alpha\":{\"value\":0.2},\"line_color\":{\"value\":\"#472676\"},\"x\":{\"field\":\"date_time\"},\"y\":{\"field\":\"y_index\"}},\"id\":\"8764\",\"type\":\"Circle\"},{\"attributes\":{\"fill_color\":{\"value\":\"#472B7A\"},\"hatch_color\":{\"value\":\"#472B7A\"},\"line_color\":{\"value\":\"#472B7A\"},\"x\":{\"field\":\"date_time\"},\"y\":{\"field\":\"y_index\"}},\"id\":\"8768\",\"type\":\"Circle\"},{\"attributes\":{},\"id\":\"9405\",\"type\":\"UnionRenderers\"},{\"attributes\":{\"source\":{\"id\":\"8642\"}},\"id\":\"8832\",\"type\":\"CDSView\"},{\"attributes\":{\"data\":{\"date_time\":{\"__ndarray__\":\"AACgZxfcc0IAALDDI9xzQgAAbrYn3HNCAAAKCCvcc0IAAA5yNdxzQgAAwBFc3HNCAAC+IYrcc0IAAC4HvNxzQgAAFDrQ3HNCAABWMg7dc0IAADqDJN1zQgAAjDFg3XNCAABop3fdc0IAAFprst1zQgAABIrL3XNCAABKmQzec0IAANbFYt5zQgAACLWb3nNCAACO9sTec0IAAOZsm99zQgAAkgXt33NCAACKuz7gc0IAAFrC0OBzQgAA6BVY4XNCAAC4/l/kc0IAAJK0GuVzQgAAOksn5XNCAADIDV7lc0IAAFSieeVzQgAArggi5nNCAABkZGnnc0IAAFbHyOdzQgAA6rlf6HNCAABYum3kc0IAAJp5auZzQgAAMGO95nNCAACQPvnnc0I=\",\"dtype\":\"float64\",\"order\":\"little\",\"shape\":[37]},\"index\":[1468,1469,1470,1471,1472,1473,1474,1475,1476,1477,1478,1479,1480,1481,1482,1483,1484,1485,1486,1487,1488,1489,1490,1491,1492,1493,1494,1495,1496,1497,1498,1499,1500,2329,2330,2331,2332],\"y_index\":[36,36,36,36,36,36,36,36,36,36,36,36,36,36,36,36,36,36,36,36,36,36,36,36,36,36,36,36,36,36,36,36,36,36,36,36,36]},\"selected\":{\"id\":\"9440\"},\"selection_policy\":{\"id\":\"9439\"}},\"id\":\"8661\",\"type\":\"ColumnDataSource\"},{\"attributes\":{\"fill_alpha\":{\"value\":0.1},\"fill_color\":{\"value\":\"#472B7A\"},\"hatch_alpha\":{\"value\":0.1},\"hatch_color\":{\"value\":\"#472B7A\"},\"line_alpha\":{\"value\":0.1},\"line_color\":{\"value\":\"#472B7A\"},\"x\":{\"field\":\"date_time\"},\"y\":{\"field\":\"y_index\"}},\"id\":\"8769\",\"type\":\"Circle\"},{\"attributes\":{\"fill_color\":{\"value\":\"#46317E\"},\"hatch_color\":{\"value\":\"#46317E\"},\"line_color\":{\"value\":\"#46317E\"},\"x\":{\"field\":\"date_time\"},\"y\":{\"field\":\"y_index\"}},\"id\":\"8774\",\"type\":\"Circle\"},{\"attributes\":{},\"id\":\"9406\",\"type\":\"Selection\"},{\"attributes\":{\"source\":{\"id\":\"8632\"}},\"id\":\"8772\",\"type\":\"CDSView\"},{\"attributes\":{},\"id\":\"9373\",\"type\":\"UnionRenderers\"},{\"attributes\":{\"coordinates\":null,\"data_source\":{\"id\":\"8632\"},\"glyph\":{\"id\":\"8768\"},\"group\":null,\"hover_glyph\":null,\"muted_glyph\":{\"id\":\"8770\"},\"nonselection_glyph\":{\"id\":\"8769\"},\"view\":{\"id\":\"8772\"}},\"id\":\"8771\",\"type\":\"GlyphRenderer\"},{\"attributes\":{\"fill_alpha\":{\"value\":0.2},\"fill_color\":{\"value\":\"#472B7A\"},\"hatch_alpha\":{\"value\":0.2},\"hatch_color\":{\"value\":\"#472B7A\"},\"line_alpha\":{\"value\":0.2},\"line_color\":{\"value\":\"#472B7A\"},\"x\":{\"field\":\"date_time\"},\"y\":{\"field\":\"y_index\"}},\"id\":\"8770\",\"type\":\"Circle\"},{\"attributes\":{\"fill_alpha\":{\"value\":0.1},\"fill_color\":{\"value\":\"#32638D\"},\"hatch_alpha\":{\"value\":0.1},\"hatch_color\":{\"value\":\"#32638D\"},\"line_alpha\":{\"value\":0.1},\"line_color\":{\"value\":\"#32638D\"},\"x\":{\"field\":\"date_time\"},\"y\":{\"field\":\"y_index\"}},\"id\":\"8835\",\"type\":\"Circle\"},{\"attributes\":{},\"id\":\"9374\",\"type\":\"Selection\"},{\"attributes\":{\"coordinates\":null,\"data_source\":{\"id\":\"8660\"},\"glyph\":{\"id\":\"8936\"},\"group\":null,\"hover_glyph\":null,\"muted_glyph\":{\"id\":\"8938\"},\"nonselection_glyph\":{\"id\":\"8937\"},\"view\":{\"id\":\"8940\"}},\"id\":\"8939\",\"type\":\"GlyphRenderer\"},{\"attributes\":{\"data\":{\"date_time\":{\"__ndarray__\":\"AADEbZLcc0IAAHp3w9xzQgAAUPvD3HNCAACO6tLcc0IAAPxADt1zQgAACg4k3XNCAABEK2Pdc0IAAOYbdt1zQgAAiuCy3XNCAABCT17ec0IAAI6jvd5zQgAA7rxC4HNCAACUy0Lgc0IAAHqWkeBzQgAAcKZM43NCAADetmPkc0IAALpOHOVzQgAAJJwo5XNCAAB8ag7oc0IAAEq5HuhzQgAApElD6HNCAABQed7pc0IAAOYPKupzQgAAjB4q6nNCAAC8yonqc0IAAPJ8zetzQgAAsEw/7HNCAADEo6bsc0IAAJo4TulzQgAAUHne6XNCAACqlUvoc0IAAFYunehzQgAAQh1a53NCAADa9Jzpc0IAAIZxRupzQgAAhKvw6XNCAABa6Nvrc0IAAMqO0+xzQgAApFFx7nNCAAC4tbvvc0I=\",\"dtype\":\"float64\",\"order\":\"little\",\"shape\":[40]},\"index\":[1250,1251,1252,1253,1254,1255,1256,1257,1258,1259,1260,1261,1262,1263,1264,1265,1266,1267,1268,1269,1270,1271,1272,1273,1274,1275,1276,1277,2516,2517,2518,2519,2520,2521,2522,2523,2524,2525,2526,2527],\"y_index\":[32,32,32,32,32,32,32,32,32,32,32,32,32,32,32,32,32,32,32,32,32,32,32,32,32,32,32,32,32,32,32,32,32,32,32,32,32,32,32,32]},\"selected\":{\"id\":\"9432\"},\"selection_policy\":{\"id\":\"9431\"}},\"id\":\"8657\",\"type\":\"ColumnDataSource\"},{\"attributes\":{\"fill_alpha\":{\"value\":0.1},\"fill_color\":{\"value\":\"#453681\"},\"hatch_alpha\":{\"value\":0.1},\"hatch_color\":{\"value\":\"#453681\"},\"line_alpha\":{\"value\":0.1},\"line_color\":{\"value\":\"#453681\"},\"x\":{\"field\":\"date_time\"},\"y\":{\"field\":\"y_index\"}},\"id\":\"8781\",\"type\":\"Circle\"},{\"attributes\":{\"fill_color\":{\"value\":\"#453681\"},\"hatch_color\":{\"value\":\"#453681\"},\"line_color\":{\"value\":\"#453681\"},\"x\":{\"field\":\"date_time\"},\"y\":{\"field\":\"y_index\"}},\"id\":\"8780\",\"type\":\"Circle\"},{\"attributes\":{\"source\":{\"id\":\"8633\"}},\"id\":\"8778\",\"type\":\"CDSView\"},{\"attributes\":{\"coordinates\":null,\"data_source\":{\"id\":\"8633\"},\"glyph\":{\"id\":\"8774\"},\"group\":null,\"hover_glyph\":null,\"muted_glyph\":{\"id\":\"8776\"},\"nonselection_glyph\":{\"id\":\"8775\"},\"view\":{\"id\":\"8778\"}},\"id\":\"8777\",\"type\":\"GlyphRenderer\"},{\"attributes\":{\"fill_alpha\":{\"value\":0.2},\"fill_color\":{\"value\":\"#46317E\"},\"hatch_alpha\":{\"value\":0.2},\"hatch_color\":{\"value\":\"#46317E\"},\"line_alpha\":{\"value\":0.2},\"line_color\":{\"value\":\"#46317E\"},\"x\":{\"field\":\"date_time\"},\"y\":{\"field\":\"y_index\"}},\"id\":\"8776\",\"type\":\"Circle\"},{\"attributes\":{\"fill_alpha\":{\"value\":0.2},\"fill_color\":{\"value\":\"#27AD80\"},\"hatch_alpha\":{\"value\":0.2},\"hatch_color\":{\"value\":\"#27AD80\"},\"line_alpha\":{\"value\":0.2},\"line_color\":{\"value\":\"#27AD80\"},\"x\":{\"field\":\"date_time\"},\"y\":{\"field\":\"y_index\"}},\"id\":\"8938\",\"type\":\"Circle\"},{\"attributes\":{\"fill_alpha\":{\"value\":0.2},\"fill_color\":{\"value\":\"#365A8C\"},\"hatch_alpha\":{\"value\":0.2},\"hatch_color\":{\"value\":\"#365A8C\"},\"line_alpha\":{\"value\":0.2},\"line_color\":{\"value\":\"#365A8C\"},\"x\":{\"field\":\"date_time\"},\"y\":{\"field\":\"y_index\"}},\"id\":\"8824\",\"type\":\"Circle\"},{\"attributes\":{\"fill_alpha\":{\"value\":0.1},\"fill_color\":{\"value\":\"#433C84\"},\"hatch_alpha\":{\"value\":0.1},\"hatch_color\":{\"value\":\"#433C84\"},\"line_alpha\":{\"value\":0.1},\"line_color\":{\"value\":\"#433C84\"},\"x\":{\"field\":\"date_time\"},\"y\":{\"field\":\"y_index\"}},\"id\":\"8787\",\"type\":\"Circle\"},{\"attributes\":{\"fill_color\":{\"value\":\"#433C84\"},\"hatch_color\":{\"value\":\"#433C84\"},\"line_color\":{\"value\":\"#433C84\"},\"x\":{\"field\":\"date_time\"},\"y\":{\"field\":\"y_index\"}},\"id\":\"8786\",\"type\":\"Circle\"},{\"attributes\":{\"source\":{\"id\":\"8634\"}},\"id\":\"8784\",\"type\":\"CDSView\"},{\"attributes\":{\"coordinates\":null,\"data_source\":{\"id\":\"8634\"},\"glyph\":{\"id\":\"8780\"},\"group\":null,\"hover_glyph\":null,\"muted_glyph\":{\"id\":\"8782\"},\"nonselection_glyph\":{\"id\":\"8781\"},\"view\":{\"id\":\"8784\"}},\"id\":\"8783\",\"type\":\"GlyphRenderer\"},{\"attributes\":{\"fill_alpha\":{\"value\":0.2},\"fill_color\":{\"value\":\"#453681\"},\"hatch_alpha\":{\"value\":0.2},\"hatch_color\":{\"value\":\"#453681\"},\"line_alpha\":{\"value\":0.2},\"line_color\":{\"value\":\"#453681\"},\"x\":{\"field\":\"date_time\"},\"y\":{\"field\":\"y_index\"}},\"id\":\"8782\",\"type\":\"Circle\"},{\"attributes\":{\"coordinates\":null,\"data_source\":{\"id\":\"8641\"},\"glyph\":{\"id\":\"8822\"},\"group\":null,\"hover_glyph\":null,\"muted_glyph\":{\"id\":\"8824\"},\"nonselection_glyph\":{\"id\":\"8823\"},\"view\":{\"id\":\"8826\"}},\"id\":\"8825\",\"type\":\"GlyphRenderer\"},{\"attributes\":{},\"id\":\"9407\",\"type\":\"UnionRenderers\"},{\"attributes\":{\"source\":{\"id\":\"8641\"}},\"id\":\"8826\",\"type\":\"CDSView\"},{\"attributes\":{\"fill_alpha\":{\"value\":0.1},\"fill_color\":{\"value\":\"#414286\"},\"hatch_alpha\":{\"value\":0.1},\"hatch_color\":{\"value\":\"#414286\"},\"line_alpha\":{\"value\":0.1},\"line_color\":{\"value\":\"#414286\"},\"x\":{\"field\":\"date_time\"},\"y\":{\"field\":\"y_index\"}},\"id\":\"8793\",\"type\":\"Circle\"},{\"attributes\":{\"fill_color\":{\"value\":\"#414286\"},\"hatch_color\":{\"value\":\"#414286\"},\"line_color\":{\"value\":\"#414286\"},\"x\":{\"field\":\"date_time\"},\"y\":{\"field\":\"y_index\"}},\"id\":\"8792\",\"type\":\"Circle\"},{\"attributes\":{},\"id\":\"9408\",\"type\":\"Selection\"},{\"attributes\":{\"source\":{\"id\":\"8635\"}},\"id\":\"8790\",\"type\":\"CDSView\"},{\"attributes\":{},\"id\":\"9375\",\"type\":\"UnionRenderers\"},{\"attributes\":{\"coordinates\":null,\"data_source\":{\"id\":\"8635\"},\"glyph\":{\"id\":\"8786\"},\"group\":null,\"hover_glyph\":null,\"muted_glyph\":{\"id\":\"8788\"},\"nonselection_glyph\":{\"id\":\"8787\"},\"view\":{\"id\":\"8790\"}},\"id\":\"8789\",\"type\":\"GlyphRenderer\"},{\"attributes\":{\"fill_alpha\":{\"value\":0.2},\"fill_color\":{\"value\":\"#433C84\"},\"hatch_alpha\":{\"value\":0.2},\"hatch_color\":{\"value\":\"#433C84\"},\"line_alpha\":{\"value\":0.2},\"line_color\":{\"value\":\"#433C84\"},\"x\":{\"field\":\"date_time\"},\"y\":{\"field\":\"y_index\"}},\"id\":\"8788\",\"type\":\"Circle\"},{\"attributes\":{\"fill_color\":{\"value\":\"#345F8D\"},\"hatch_color\":{\"value\":\"#345F8D\"},\"line_color\":{\"value\":\"#345F8D\"},\"x\":{\"field\":\"date_time\"},\"y\":{\"field\":\"y_index\"}},\"id\":\"8828\",\"type\":\"Circle\"},{\"attributes\":{},\"id\":\"9376\",\"type\":\"Selection\"},{\"attributes\":{\"fill_alpha\":{\"value\":0.1},\"fill_color\":{\"value\":\"#345F8D\"},\"hatch_alpha\":{\"value\":0.1},\"hatch_color\":{\"value\":\"#345F8D\"},\"line_alpha\":{\"value\":0.1},\"line_color\":{\"value\":\"#345F8D\"},\"x\":{\"field\":\"date_time\"},\"y\":{\"field\":\"y_index\"}},\"id\":\"8829\",\"type\":\"Circle\"},{\"attributes\":{\"fill_alpha\":{\"value\":0.1},\"fill_color\":{\"value\":\"#3F4788\"},\"hatch_alpha\":{\"value\":0.1},\"hatch_color\":{\"value\":\"#3F4788\"},\"line_alpha\":{\"value\":0.1},\"line_color\":{\"value\":\"#3F4788\"},\"x\":{\"field\":\"date_time\"},\"y\":{\"field\":\"y_index\"}},\"id\":\"8799\",\"type\":\"Circle\"},{\"attributes\":{\"fill_color\":{\"value\":\"#3F4788\"},\"hatch_color\":{\"value\":\"#3F4788\"},\"line_color\":{\"value\":\"#3F4788\"},\"x\":{\"field\":\"date_time\"},\"y\":{\"field\":\"y_index\"}},\"id\":\"8798\",\"type\":\"Circle\"},{\"attributes\":{\"data\":{\"date_time\":{\"__ndarray__\":\"AAB+uTPbc0IAAP6nattzQgAA/Fa923NCAAAQcNvbc0IAADKwANxzQgAAMHQR3HNCAADK3Czcc0IAAED5qNxzQgAAckm93HNCAACO6tLcc0IAAFCMFN1zQgAA/hsi3XNCAACaBWDdc0IAAGiSud1zQgAADBLD3XNCAAB6Dg3ec0IAAJ4pRt5zQgAAXBVg3nNCAABU0pvec0IAAL5rxd5zQgAA9K9K33NCAAAc25zfc0IAANgp7N9zQgAAZL4H4HNCAABuwDfgc0IAANbYPuBzQgAAPE2R4HNCAAAWJt7gc0IAAAYIG+FzQgAAoA9b4XNCAACs7J7hc0IAABwzrOFzQgAAFglF4nNCAABapEbjc0IAAKoqYORzQgAASB8n5XNCAABa9Wvlc0IAAJLreeVzQgAAEETQ5XNCAABwvyHmc0IAAP72AOdzQgAAjP5q53NCAABkSMHnc0IAANy16udzQgAA+iNA6HNCAABE4r7oc0IAAIT/6OhzQgAAyK+o6XNCAAB+lkfqc0IAABoK7OpzQgAAnCY+63NCAAAYX03rc0IAAAKieutzQgAAZjTP63NCAABaeSzsc0IAAJTG4OxzQgAA9PUU7XNCAADwfTbtc0IAAOrkH+5zQgAA2KUk73NCAAC4HYHvc0IAACBqbuRzQgAAeNhp5nNCAADSDaznc0IAAGRIwedzQgAAJqPt6XNCAABY6ADnc0IAAOR8HOdzQgAACLT95nNCAACQ/77oc0IAAFbapOlzQgAA3MHc6XNCAAAYX03rc0IAAOq2jOtzQgAAaoFA7XNCAAC4HYHvc0IAAOw1ze1zQgAARNYf7nNCAACc6xrvc0I=\",\"dtype\":\"float64\",\"order\":\"little\",\"shape\":[79]},\"index\":[1514,1515,1516,1517,1518,1519,1520,1521,1522,1523,1524,1525,1526,1527,1528,1529,1530,1531,1532,1533,1534,1535,1536,1537,1538,1539,1540,1541,1542,1543,1544,1545,1546,1547,1548,1549,1550,1551,1552,1553,1554,1555,1556,1557,1558,1559,1560,1561,1562,1563,1564,1565,1566,1567,1568,1569,1570,1571,1572,1573,1574,2311,2312,2313,2314,2315,2316,2317,2318,2319,2320,2321,2322,2323,2324,2325,2326,2327,2328],\"y_index\":[38,38,38,38,38,38,38,38,38,38,38,38,38,38,38,38,38,38,38,38,38,38,38,38,38,38,38,38,38,38,38,38,38,38,38,38,38,38,38,38,38,38,38,38,38,38,38,38,38,38,38,38,38,38,38,38,38,38,38,38,38,38,38,38,38,38,38,38,38,38,38,38,38,38,38,38,38,38,38]},\"selected\":{\"id\":\"9444\"},\"selection_policy\":{\"id\":\"9443\"}},\"id\":\"8663\",\"type\":\"ColumnDataSource\"},{\"attributes\":{\"source\":{\"id\":\"8636\"}},\"id\":\"8796\",\"type\":\"CDSView\"},{\"attributes\":{\"coordinates\":null,\"data_source\":{\"id\":\"8636\"},\"glyph\":{\"id\":\"8792\"},\"group\":null,\"hover_glyph\":null,\"muted_glyph\":{\"id\":\"8794\"},\"nonselection_glyph\":{\"id\":\"8793\"},\"view\":{\"id\":\"8796\"}},\"id\":\"8795\",\"type\":\"GlyphRenderer\"},{\"attributes\":{\"fill_alpha\":{\"value\":0.2},\"fill_color\":{\"value\":\"#414286\"},\"hatch_alpha\":{\"value\":0.2},\"hatch_color\":{\"value\":\"#414286\"},\"line_alpha\":{\"value\":0.2},\"line_color\":{\"value\":\"#414286\"},\"x\":{\"field\":\"date_time\"},\"y\":{\"field\":\"y_index\"}},\"id\":\"8794\",\"type\":\"Circle\"},{\"attributes\":{\"source\":{\"id\":\"8626\"}},\"id\":\"9032\",\"type\":\"CDSView\"},{\"attributes\":{\"fill_alpha\":{\"value\":0.1},\"fill_color\":{\"value\":\"#3D4C89\"},\"hatch_alpha\":{\"value\":0.1},\"hatch_color\":{\"value\":\"#3D4C89\"},\"line_alpha\":{\"value\":0.1},\"line_color\":{\"value\":\"#3D4C89\"},\"x\":{\"field\":\"date_time\"},\"y\":{\"field\":\"y_index\"}},\"id\":\"8805\",\"type\":\"Circle\"},{\"attributes\":{\"fill_color\":{\"value\":\"#3D4C89\"},\"hatch_color\":{\"value\":\"#3D4C89\"},\"line_color\":{\"value\":\"#3D4C89\"},\"x\":{\"field\":\"date_time\"},\"y\":{\"field\":\"y_index\"}},\"id\":\"8804\",\"type\":\"Circle\"},{\"attributes\":{\"source\":{\"id\":\"8637\"}},\"id\":\"8802\",\"type\":\"CDSView\"},{\"attributes\":{\"coordinates\":null,\"data_source\":{\"id\":\"8637\"},\"glyph\":{\"id\":\"8798\"},\"group\":null,\"hover_glyph\":null,\"muted_glyph\":{\"id\":\"8800\"},\"nonselection_glyph\":{\"id\":\"8799\"},\"view\":{\"id\":\"8802\"}},\"id\":\"8801\",\"type\":\"GlyphRenderer\"},{\"attributes\":{\"fill_alpha\":{\"value\":0.2},\"fill_color\":{\"value\":\"#3F4788\"},\"hatch_alpha\":{\"value\":0.2},\"hatch_color\":{\"value\":\"#3F4788\"},\"line_alpha\":{\"value\":0.2},\"line_color\":{\"value\":\"#3F4788\"},\"x\":{\"field\":\"date_time\"},\"y\":{\"field\":\"y_index\"}},\"id\":\"8800\",\"type\":\"Circle\"},{\"attributes\":{\"fill_alpha\":{\"value\":0.2},\"fill_color\":{\"value\":\"#38568B\"},\"hatch_alpha\":{\"value\":0.2},\"hatch_color\":{\"value\":\"#38568B\"},\"line_alpha\":{\"value\":0.2},\"line_color\":{\"value\":\"#38568B\"},\"x\":{\"field\":\"date_time\"},\"y\":{\"field\":\"y_index\"}},\"id\":\"8818\",\"type\":\"Circle\"},{\"attributes\":{},\"id\":\"9409\",\"type\":\"UnionRenderers\"},{\"attributes\":{\"coordinates\":null,\"data_source\":{\"id\":\"8640\"},\"glyph\":{\"id\":\"8816\"},\"group\":null,\"hover_glyph\":null,\"muted_glyph\":{\"id\":\"8818\"},\"nonselection_glyph\":{\"id\":\"8817\"},\"view\":{\"id\":\"8820\"}},\"id\":\"8819\",\"type\":\"GlyphRenderer\"},{\"attributes\":{\"axis\":{\"id\":\"8685\"},\"coordinates\":null,\"group\":null,\"minor_grid_line_alpha\":0.3,\"minor_grid_line_color\":\"navy\",\"ticker\":null},\"id\":\"8688\",\"type\":\"Grid\"},{\"attributes\":{\"fill_alpha\":{\"value\":0.1},\"fill_color\":{\"value\":\"#3B518A\"},\"hatch_alpha\":{\"value\":0.1},\"hatch_color\":{\"value\":\"#3B518A\"},\"line_alpha\":{\"value\":0.1},\"line_color\":{\"value\":\"#3B518A\"},\"x\":{\"field\":\"date_time\"},\"y\":{\"field\":\"y_index\"}},\"id\":\"8811\",\"type\":\"Circle\"},{\"attributes\":{\"fill_color\":{\"value\":\"#3B518A\"},\"hatch_color\":{\"value\":\"#3B518A\"},\"line_color\":{\"value\":\"#3B518A\"},\"x\":{\"field\":\"date_time\"},\"y\":{\"field\":\"y_index\"}},\"id\":\"8810\",\"type\":\"Circle\"},{\"attributes\":{},\"id\":\"9410\",\"type\":\"Selection\"},{\"attributes\":{\"data\":{\"date_time\":{\"__ndarray__\":\"AACGYtvcc0IAAE4ym99zQgAAAN+k4HNCAAB0gejgc0I=\",\"dtype\":\"float64\",\"order\":\"little\",\"shape\":[4]},\"index\":[1575,1576,1577,1578],\"y_index\":[39,39,39,39]},\"selected\":{\"id\":\"9446\"},\"selection_policy\":{\"id\":\"9445\"}},\"id\":\"8664\",\"type\":\"ColumnDataSource\"},{\"attributes\":{\"source\":{\"id\":\"8638\"}},\"id\":\"8808\",\"type\":\"CDSView\"},{\"attributes\":{},\"id\":\"9377\",\"type\":\"UnionRenderers\"},{\"attributes\":{\"coordinates\":null,\"data_source\":{\"id\":\"8638\"},\"glyph\":{\"id\":\"8804\"},\"group\":null,\"hover_glyph\":null,\"muted_glyph\":{\"id\":\"8806\"},\"nonselection_glyph\":{\"id\":\"8805\"},\"view\":{\"id\":\"8808\"}},\"id\":\"8807\",\"type\":\"GlyphRenderer\"},{\"attributes\":{\"fill_alpha\":{\"value\":0.2},\"fill_color\":{\"value\":\"#3D4C89\"},\"hatch_alpha\":{\"value\":0.2},\"hatch_color\":{\"value\":\"#3D4C89\"},\"line_alpha\":{\"value\":0.2},\"line_color\":{\"value\":\"#3D4C89\"},\"x\":{\"field\":\"date_time\"},\"y\":{\"field\":\"y_index\"}},\"id\":\"8806\",\"type\":\"Circle\"},{\"attributes\":{\"source\":{\"id\":\"8640\"}},\"id\":\"8820\",\"type\":\"CDSView\"},{\"attributes\":{},\"id\":\"9378\",\"type\":\"Selection\"},{\"attributes\":{\"fill_color\":{\"value\":\"#365A8C\"},\"hatch_color\":{\"value\":\"#365A8C\"},\"line_color\":{\"value\":\"#365A8C\"},\"x\":{\"field\":\"date_time\"},\"y\":{\"field\":\"y_index\"}},\"id\":\"8822\",\"type\":\"Circle\"},{\"attributes\":{\"fill_color\":{\"value\":\"#32B57A\"},\"hatch_color\":{\"value\":\"#32B57A\"},\"line_color\":{\"value\":\"#32B57A\"},\"x\":{\"field\":\"date_time\"},\"y\":{\"field\":\"y_index\"}},\"id\":\"8948\",\"type\":\"Circle\"},{\"attributes\":{\"source\":{\"id\":\"8639\"}},\"id\":\"8814\",\"type\":\"CDSView\"},{\"attributes\":{\"fill_alpha\":{\"value\":0.1},\"fill_color\":{\"value\":\"#38568B\"},\"hatch_alpha\":{\"value\":0.1},\"hatch_color\":{\"value\":\"#38568B\"},\"line_alpha\":{\"value\":0.1},\"line_color\":{\"value\":\"#38568B\"},\"x\":{\"field\":\"date_time\"},\"y\":{\"field\":\"y_index\"}},\"id\":\"8817\",\"type\":\"Circle\"},{\"attributes\":{\"source\":{\"id\":\"8661\"}},\"id\":\"8946\",\"type\":\"CDSView\"},{\"attributes\":{\"fill_color\":{\"value\":\"#38568B\"},\"hatch_color\":{\"value\":\"#38568B\"},\"line_color\":{\"value\":\"#38568B\"},\"x\":{\"field\":\"date_time\"},\"y\":{\"field\":\"y_index\"}},\"id\":\"8816\",\"type\":\"Circle\"},{\"attributes\":{\"fill_alpha\":{\"value\":0.1},\"fill_color\":{\"value\":\"#365A8C\"},\"hatch_alpha\":{\"value\":0.1},\"hatch_color\":{\"value\":\"#365A8C\"},\"line_alpha\":{\"value\":0.1},\"line_color\":{\"value\":\"#365A8C\"},\"x\":{\"field\":\"date_time\"},\"y\":{\"field\":\"y_index\"}},\"id\":\"8823\",\"type\":\"Circle\"},{\"attributes\":{\"fill_color\":{\"value\":\"#2E6D8E\"},\"hatch_color\":{\"value\":\"#2E6D8E\"},\"line_color\":{\"value\":\"#2E6D8E\"},\"x\":{\"field\":\"date_time\"},\"y\":{\"field\":\"y_index\"}},\"id\":\"8846\",\"type\":\"Circle\"},{\"attributes\":{\"source\":{\"id\":\"8644\"}},\"id\":\"8844\",\"type\":\"CDSView\"},{\"attributes\":{\"coordinates\":null,\"data_source\":{\"id\":\"8644\"},\"glyph\":{\"id\":\"8840\"},\"group\":null,\"hover_glyph\":null,\"muted_glyph\":{\"id\":\"8842\"},\"nonselection_glyph\":{\"id\":\"8841\"},\"view\":{\"id\":\"8844\"}},\"id\":\"8843\",\"type\":\"GlyphRenderer\"},{\"attributes\":{\"data\":{\"date_time\":{\"__ndarray__\":\"AADsoL/bc0IAANIzvtxzQgAA9q/S3HNCAABaQifdc0IAADR1Zd1zQgAAwut+3XNCAABoP7Ldc0IAAK5cx91zQgAAojlf3nNCAAC0CLrec0IAAP7pyt5zQgAAUINI33NCAAA2wz/gc0IAAOJbkeBzQgAAAMrm4HNCAABM4Pzgc0IAADx9BuFzQgAATHg34XNCAABqoVnhc0IAADg1neFzQgAALDyx4XNCAAC+n1Hic0IAAPQTTONzQgAAvIQS5HNCAADmkWLkc0IAAAyHvuVzQgAAOqQn5nNCAABmk3Xmc0IAANBiDehzQgAARqIb6HNCAADC00Doc0IAAOZbR+pzQgAA9MeB6nNCAACEIJnqc0IAAPSr2epzQgAAjlko63NCAAC27D/rc0IAAEzPqOtzQgAAriz463NCAAAsMkfsc0IAADhikuxzQgAApIPI7HNCAACe1uTsc0IAAAgPM+1zQgAADE9u5nNCAACq4lnnc0IAALjr1ulzQgAAquJZ53NCAAACiaXoc0IAAJA++edzQgAAfv/96HNCAADkXpLpc0IAADR37elzQgAAWJcu7HNCAAB8vWjvc0IAAMQyFe9zQg==\",\"dtype\":\"float64\",\"order\":\"little\",\"shape\":[56]},\"index\":[1579,1580,1581,1582,1583,1584,1585,1586,1587,1588,1589,1590,1591,1592,1593,1594,1595,1596,1597,1598,1599,1600,1601,1602,1603,1604,1605,1606,1607,1608,1609,1610,1611,1612,1613,1614,1615,1616,1617,1618,1619,1620,1621,1622,2451,2452,2453,2454,2455,2456,2457,2458,2459,2460,2461,2462],\"y_index\":[40,40,40,40,40,40,40,40,40,40,40,40,40,40,40,40,40,40,40,40,40,40,40,40,40,40,40,40,40,40,40,40,40,40,40,40,40,40,40,40,40,40,40,40,40,40,40,40,40,40,40,40,40,40,40,40]},\"selected\":{\"id\":\"9448\"},\"selection_policy\":{\"id\":\"9447\"}},\"id\":\"8665\",\"type\":\"ColumnDataSource\"},{\"attributes\":{\"fill_alpha\":{\"value\":0.2},\"fill_color\":{\"value\":\"#30688D\"},\"hatch_alpha\":{\"value\":0.2},\"hatch_color\":{\"value\":\"#30688D\"},\"line_alpha\":{\"value\":0.2},\"line_color\":{\"value\":\"#30688D\"},\"x\":{\"field\":\"date_time\"},\"y\":{\"field\":\"y_index\"}},\"id\":\"8842\",\"type\":\"Circle\"},{\"attributes\":{\"fill_alpha\":{\"value\":0.2},\"fill_color\":{\"value\":\"#23A883\"},\"hatch_alpha\":{\"value\":0.2},\"hatch_color\":{\"value\":\"#23A883\"},\"line_alpha\":{\"value\":0.2},\"line_color\":{\"value\":\"#23A883\"},\"x\":{\"field\":\"date_time\"},\"y\":{\"field\":\"y_index\"}},\"id\":\"8932\",\"type\":\"Circle\"},{\"attributes\":{\"fill_alpha\":{\"value\":0.1},\"fill_color\":{\"value\":\"#2C718E\"},\"hatch_alpha\":{\"value\":0.1},\"hatch_color\":{\"value\":\"#2C718E\"},\"line_alpha\":{\"value\":0.1},\"line_color\":{\"value\":\"#2C718E\"},\"x\":{\"field\":\"date_time\"},\"y\":{\"field\":\"y_index\"}},\"id\":\"8853\",\"type\":\"Circle\"},{\"attributes\":{},\"id\":\"9411\",\"type\":\"UnionRenderers\"},{\"attributes\":{\"fill_color\":{\"value\":\"#2C718E\"},\"hatch_color\":{\"value\":\"#2C718E\"},\"line_color\":{\"value\":\"#2C718E\"},\"x\":{\"field\":\"date_time\"},\"y\":{\"field\":\"y_index\"}},\"id\":\"8852\",\"type\":\"Circle\"},{\"attributes\":{\"source\":{\"id\":\"8645\"}},\"id\":\"8850\",\"type\":\"CDSView\"},{\"attributes\":{\"coordinates\":null,\"data_source\":{\"id\":\"8645\"},\"glyph\":{\"id\":\"8846\"},\"group\":null,\"hover_glyph\":null,\"muted_glyph\":{\"id\":\"8848\"},\"nonselection_glyph\":{\"id\":\"8847\"},\"view\":{\"id\":\"8850\"}},\"id\":\"8849\",\"type\":\"GlyphRenderer\"},{\"attributes\":{},\"id\":\"9412\",\"type\":\"Selection\"},{\"attributes\":{\"fill_alpha\":{\"value\":0.2},\"fill_color\":{\"value\":\"#2E6D8E\"},\"hatch_alpha\":{\"value\":0.2},\"hatch_color\":{\"value\":\"#2E6D8E\"},\"line_alpha\":{\"value\":0.2},\"line_color\":{\"value\":\"#2E6D8E\"},\"x\":{\"field\":\"date_time\"},\"y\":{\"field\":\"y_index\"}},\"id\":\"8848\",\"type\":\"Circle\"},{\"attributes\":{},\"id\":\"9379\",\"type\":\"UnionRenderers\"},{\"attributes\":{\"coordinates\":null,\"data_source\":{\"id\":\"8659\"},\"glyph\":{\"id\":\"8930\"},\"group\":null,\"hover_glyph\":null,\"muted_glyph\":{\"id\":\"8932\"},\"nonselection_glyph\":{\"id\":\"8931\"},\"view\":{\"id\":\"8934\"}},\"id\":\"8933\",\"type\":\"GlyphRenderer\"},{\"attributes\":{\"source\":{\"id\":\"8659\"}},\"id\":\"8934\",\"type\":\"CDSView\"},{\"attributes\":{\"fill_alpha\":{\"value\":0.1},\"fill_color\":{\"value\":\"#2A768E\"},\"hatch_alpha\":{\"value\":0.1},\"hatch_color\":{\"value\":\"#2A768E\"},\"line_alpha\":{\"value\":0.1},\"line_color\":{\"value\":\"#2A768E\"},\"x\":{\"field\":\"date_time\"},\"y\":{\"field\":\"y_index\"}},\"id\":\"8859\",\"type\":\"Circle\"},{\"attributes\":{},\"id\":\"9380\",\"type\":\"Selection\"},{\"attributes\":{\"fill_color\":{\"value\":\"#2A768E\"},\"hatch_color\":{\"value\":\"#2A768E\"},\"line_color\":{\"value\":\"#2A768E\"},\"x\":{\"field\":\"date_time\"},\"y\":{\"field\":\"y_index\"}},\"id\":\"8858\",\"type\":\"Circle\"},{\"attributes\":{\"source\":{\"id\":\"8646\"}},\"id\":\"8856\",\"type\":\"CDSView\"},{\"attributes\":{\"coordinates\":null,\"data_source\":{\"id\":\"8646\"},\"glyph\":{\"id\":\"8852\"},\"group\":null,\"hover_glyph\":null,\"muted_glyph\":{\"id\":\"8854\"},\"nonselection_glyph\":{\"id\":\"8853\"},\"view\":{\"id\":\"8856\"}},\"id\":\"8855\",\"type\":\"GlyphRenderer\"},{\"attributes\":{\"data\":{\"date_time\":{\"__ndarray__\":\"AACKXxjbc0IAAKhevttzQgAA+gUQ3HNCAAC4bbzcc0IAACAs0txzQgAAQIMP3XNCAAAeLizdc0IAANZsYt1zQgAAMoWT3XNCAACW0rTdc0IAAAhA891zQgAAykIQ3nNCAADyBZ3ec0IAAB5Wxt5zQgAA0g5K33NCAADgc5rfc0IAADIb7N9zQgAAEF5D4HNCAAB20pXgc0IAAEh93OBzQgAAKLAF4XNCAAAsskrhc0IAAOgVWOFzQgAA3GGf4XNCAAD6kavhc0IAAFqkRuNzQgAAnFZg5HNCAADu2h/lc0IAABAiL+VzQgAAjJiH5XNCAABmcdTlc0IAAJYLnOpzQgAA3MfV6nNCAAAOAyzrc0IAAEgSl+tzQgAAvA7M63NCAAA0DUbsc0IAABo5cOxzQgAAXseO7HNCAABy2cLsc0IAAEQHhu1zQgAA/OZv5HNCAAA+dQbnc0IAAOiHgOxzQg==\",\"dtype\":\"float64\",\"order\":\"little\",\"shape\":[44]},\"index\":[1623,1624,1625,1626,1627,1628,1629,1630,1631,1632,1633,1634,1635,1636,1637,1638,1639,1640,1641,1642,1643,1644,1645,1646,1647,1648,1649,1650,1651,1652,1653,1654,1655,1656,1657,1658,1659,1660,1661,1662,1663,2371,2372,2373],\"y_index\":[41,41,41,41,41,41,41,41,41,41,41,41,41,41,41,41,41,41,41,41,41,41,41,41,41,41,41,41,41,41,41,41,41,41,41,41,41,41,41,41,41,41,41,41]},\"selected\":{\"id\":\"9450\"},\"selection_policy\":{\"id\":\"9449\"}},\"id\":\"8666\",\"type\":\"ColumnDataSource\"},{\"attributes\":{\"fill_alpha\":{\"value\":0.2},\"fill_color\":{\"value\":\"#2C718E\"},\"hatch_alpha\":{\"value\":0.2},\"hatch_color\":{\"value\":\"#2C718E\"},\"line_alpha\":{\"value\":0.2},\"line_color\":{\"value\":\"#2C718E\"},\"x\":{\"field\":\"date_time\"},\"y\":{\"field\":\"y_index\"}},\"id\":\"8854\",\"type\":\"Circle\"},{\"attributes\":{\"fill_color\":{\"value\":\"#27AD80\"},\"hatch_color\":{\"value\":\"#27AD80\"},\"line_color\":{\"value\":\"#27AD80\"},\"x\":{\"field\":\"date_time\"},\"y\":{\"field\":\"y_index\"}},\"id\":\"8936\",\"type\":\"Circle\"},{\"attributes\":{\"fill_alpha\":{\"value\":0.1},\"fill_color\":{\"value\":\"#27AD80\"},\"hatch_alpha\":{\"value\":0.1},\"hatch_color\":{\"value\":\"#27AD80\"},\"line_alpha\":{\"value\":0.1},\"line_color\":{\"value\":\"#27AD80\"},\"x\":{\"field\":\"date_time\"},\"y\":{\"field\":\"y_index\"}},\"id\":\"8937\",\"type\":\"Circle\"},{\"attributes\":{\"fill_alpha\":{\"value\":0.1},\"fill_color\":{\"value\":\"#287A8E\"},\"hatch_alpha\":{\"value\":0.1},\"hatch_color\":{\"value\":\"#287A8E\"},\"line_alpha\":{\"value\":0.1},\"line_color\":{\"value\":\"#287A8E\"},\"x\":{\"field\":\"date_time\"},\"y\":{\"field\":\"y_index\"}},\"id\":\"8865\",\"type\":\"Circle\"},{\"attributes\":{\"fill_color\":{\"value\":\"#287A8E\"},\"hatch_color\":{\"value\":\"#287A8E\"},\"line_color\":{\"value\":\"#287A8E\"},\"x\":{\"field\":\"date_time\"},\"y\":{\"field\":\"y_index\"}},\"id\":\"8864\",\"type\":\"Circle\"},{\"attributes\":{\"source\":{\"id\":\"8647\"}},\"id\":\"8862\",\"type\":\"CDSView\"},{\"attributes\":{\"coordinates\":null,\"data_source\":{\"id\":\"8647\"},\"glyph\":{\"id\":\"8858\"},\"group\":null,\"hover_glyph\":null,\"muted_glyph\":{\"id\":\"8860\"},\"nonselection_glyph\":{\"id\":\"8859\"},\"view\":{\"id\":\"8862\"}},\"id\":\"8861\",\"type\":\"GlyphRenderer\"},{\"attributes\":{\"fill_alpha\":{\"value\":0.2},\"fill_color\":{\"value\":\"#2A768E\"},\"hatch_alpha\":{\"value\":0.2},\"hatch_color\":{\"value\":\"#2A768E\"},\"line_alpha\":{\"value\":0.2},\"line_color\":{\"value\":\"#2A768E\"},\"x\":{\"field\":\"date_time\"},\"y\":{\"field\":\"y_index\"}},\"id\":\"8860\",\"type\":\"Circle\"},{\"attributes\":{\"coordinates\":null,\"data_source\":{\"id\":\"8638\"},\"glyph\":{\"id\":\"9112\"},\"group\":null,\"hover_glyph\":null,\"muted_glyph\":{\"id\":\"9114\"},\"nonselection_glyph\":{\"id\":\"9113\"},\"view\":{\"id\":\"9116\"}},\"id\":\"9115\",\"type\":\"GlyphRenderer\"},{\"attributes\":{\"mantissas\":[1,2,5],\"max_interval\":500.0,\"num_minor_ticks\":0},\"id\":\"9464\",\"type\":\"AdaptiveTicker\"},{\"attributes\":{\"fill_alpha\":{\"value\":0.2},\"fill_color\":{\"value\":\"#460E61\"},\"hatch_alpha\":{\"value\":0.2},\"hatch_color\":{\"value\":\"#460E61\"},\"line_alpha\":{\"value\":0.2},\"line_color\":{\"value\":\"#460E61\"},\"marker\":{\"value\":\"diamond\"},\"size\":{\"value\":10},\"x\":{\"field\":\"date_time\"},\"y\":{\"field\":\"y_index\"}},\"id\":\"9037\",\"type\":\"Scatter\"},{\"attributes\":{\"fill_alpha\":{\"value\":0.1},\"fill_color\":{\"value\":\"#277E8E\"},\"hatch_alpha\":{\"value\":0.1},\"hatch_color\":{\"value\":\"#277E8E\"},\"line_alpha\":{\"value\":0.1},\"line_color\":{\"value\":\"#277E8E\"},\"x\":{\"field\":\"date_time\"},\"y\":{\"field\":\"y_index\"}},\"id\":\"8871\",\"type\":\"Circle\"},{\"attributes\":{},\"id\":\"9413\",\"type\":\"UnionRenderers\"},{\"attributes\":{\"fill_color\":{\"value\":\"#277E8E\"},\"hatch_color\":{\"value\":\"#277E8E\"},\"line_color\":{\"value\":\"#277E8E\"},\"x\":{\"field\":\"date_time\"},\"y\":{\"field\":\"y_index\"}},\"id\":\"8870\",\"type\":\"Circle\"},{\"attributes\":{\"base\":60,\"mantissas\":[1,2,5,10,15,20,30],\"max_interval\":1800000.0,\"min_interval\":1000.0,\"num_minor_ticks\":0},\"id\":\"9465\",\"type\":\"AdaptiveTicker\"},{\"attributes\":{\"source\":{\"id\":\"8648\"}},\"id\":\"8868\",\"type\":\"CDSView\"},{\"attributes\":{\"base\":24,\"mantissas\":[1,2,4,6,8,12],\"max_interval\":43200000.0,\"min_interval\":3600000.0,\"num_minor_ticks\":0},\"id\":\"9466\",\"type\":\"AdaptiveTicker\"},{\"attributes\":{\"coordinates\":null,\"data_source\":{\"id\":\"8648\"},\"glyph\":{\"id\":\"8864\"},\"group\":null,\"hover_glyph\":null,\"muted_glyph\":{\"id\":\"8866\"},\"nonselection_glyph\":{\"id\":\"8865\"},\"view\":{\"id\":\"8868\"}},\"id\":\"8867\",\"type\":\"GlyphRenderer\"},{\"attributes\":{},\"id\":\"9414\",\"type\":\"Selection\"},{\"attributes\":{},\"id\":\"9475\",\"type\":\"YearsTicker\"},{\"attributes\":{\"data\":{\"date_time\":{\"__ndarray__\":\"AADSJ8zac0IAAHw4EdtzQgAAwgIf23NCAAAw/2jbc0IAAFiZattzQgAAgqa623NCAABcHizcc0IAAFweLNxzQgAAfFnB3HNCAACO6tLcc0IAAPT2X91zQgAAKl533XNCAABe1bzdc0IAAJwdzN5zQgAAnKZB4HNCAAAMfp/gc0IAANxG6OBzQgAApOgU4XNCAAA8MPjhc0IAALCh1eJzQgAA9khR43NCAABmVw7kc0IAAMA5SeVzQgAAkvJj5XNCAAD85X7lc0IAAFKk0+VzQgAAcL8h5nNCAAD0TdHnc0IAACbx7OdzQgAAcp896HNCAACklWDoc0IAADAvhOpzQgAAmO2Z6nNCAADORt3qc0IAADpaP+tzQgAATkL363NCAADansLsc0IAALLb4uRzQgAAdvZr5nNCAADWYvjnc0IAANizpedzQgAAohlG6nNCAACUyqToc0IAAI5o7elzQgAAxgX76HNCAADkIEnpc0IAAAx6LuxzQgAAHo3L7XNCAABmCHHuc0I=\",\"dtype\":\"float64\",\"order\":\"little\",\"shape\":[49]},\"index\":[1664,1665,1666,1667,1668,1669,1670,1671,1672,1673,1674,1675,1676,1677,1678,1679,1680,1681,1682,1683,1684,1685,1686,1687,1688,1689,1690,1691,1692,1693,1694,1695,1696,1697,1698,1699,1700,2161,2162,2163,2164,2165,2166,2167,2168,2169,2170,2171,2172],\"y_index\":[42,42,42,42,42,42,42,42,42,42,42,42,42,42,42,42,42,42,42,42,42,42,42,42,42,42,42,42,42,42,42,42,42,42,42,42,42,42,42,42,42,42,42,42,42,42,42,42,42]},\"selected\":{\"id\":\"9452\"},\"selection_policy\":{\"id\":\"9451\"}},\"id\":\"8667\",\"type\":\"ColumnDataSource\"},{\"attributes\":{\"fill_alpha\":{\"value\":0.2},\"fill_color\":{\"value\":\"#287A8E\"},\"hatch_alpha\":{\"value\":0.2},\"hatch_color\":{\"value\":\"#287A8E\"},\"line_alpha\":{\"value\":0.2},\"line_color\":{\"value\":\"#287A8E\"},\"x\":{\"field\":\"date_time\"},\"y\":{\"field\":\"y_index\"}},\"id\":\"8866\",\"type\":\"Circle\"},{\"attributes\":{},\"id\":\"9381\",\"type\":\"UnionRenderers\"},{\"attributes\":{\"fill_alpha\":{\"value\":0.2},\"fill_color\":{\"value\":\"#20A585\"},\"hatch_alpha\":{\"value\":0.2},\"hatch_color\":{\"value\":\"#20A585\"},\"line_alpha\":{\"value\":0.2},\"line_color\":{\"value\":\"#20A585\"},\"x\":{\"field\":\"date_time\"},\"y\":{\"field\":\"y_index\"}},\"id\":\"8926\",\"type\":\"Circle\"},{\"attributes\":{\"days\":[1,15]},\"id\":\"9470\",\"type\":\"DaysTicker\"},{\"attributes\":{\"months\":[0,1,2,3,4,5,6,7,8,9,10,11]},\"id\":\"9471\",\"type\":\"MonthsTicker\"},{\"attributes\":{\"coordinates\":null,\"data_source\":{\"id\":\"8658\"},\"glyph\":{\"id\":\"8924\"},\"group\":null,\"hover_glyph\":null,\"muted_glyph\":{\"id\":\"8926\"},\"nonselection_glyph\":{\"id\":\"8925\"},\"view\":{\"id\":\"8928\"}},\"id\":\"8927\",\"type\":\"GlyphRenderer\"},{\"attributes\":{\"days\":[1,2,3,4,5,6,7,8,9,10,11,12,13,14,15,16,17,18,19,20,21,22,23,24,25,26,27,28,29,30,31]},\"id\":\"9467\",\"type\":\"DaysTicker\"},{\"attributes\":{\"fill_alpha\":{\"value\":0.1},\"fill_color\":{\"value\":\"#25828E\"},\"hatch_alpha\":{\"value\":0.1},\"hatch_color\":{\"value\":\"#25828E\"},\"line_alpha\":{\"value\":0.1},\"line_color\":{\"value\":\"#25828E\"},\"x\":{\"field\":\"date_time\"},\"y\":{\"field\":\"y_index\"}},\"id\":\"8877\",\"type\":\"Circle\"},{\"attributes\":{},\"id\":\"9382\",\"type\":\"Selection\"},{\"attributes\":{\"days\":[1,4,7,10,13,16,19,22,25,28]},\"id\":\"9468\",\"type\":\"DaysTicker\"},{\"attributes\":{\"fill_color\":{\"value\":\"#25828E\"},\"hatch_color\":{\"value\":\"#25828E\"},\"line_color\":{\"value\":\"#25828E\"},\"x\":{\"field\":\"date_time\"},\"y\":{\"field\":\"y_index\"}},\"id\":\"8876\",\"type\":\"Circle\"},{\"attributes\":{\"days\":[1,8,15,22]},\"id\":\"9469\",\"type\":\"DaysTicker\"},{\"attributes\":{\"source\":{\"id\":\"8649\"}},\"id\":\"8874\",\"type\":\"CDSView\"},{\"attributes\":{\"months\":[0,6]},\"id\":\"9474\",\"type\":\"MonthsTicker\"},{\"attributes\":{\"coordinates\":null,\"data_source\":{\"id\":\"8649\"},\"glyph\":{\"id\":\"8870\"},\"group\":null,\"hover_glyph\":null,\"muted_glyph\":{\"id\":\"8872\"},\"nonselection_glyph\":{\"id\":\"8871\"},\"view\":{\"id\":\"8874\"}},\"id\":\"8873\",\"type\":\"GlyphRenderer\"},{\"attributes\":{\"months\":[0,2,4,6,8,10]},\"id\":\"9472\",\"type\":\"MonthsTicker\"},{\"attributes\":{\"fill_alpha\":{\"value\":0.2},\"fill_color\":{\"value\":\"#277E8E\"},\"hatch_alpha\":{\"value\":0.2},\"hatch_color\":{\"value\":\"#277E8E\"},\"line_alpha\":{\"value\":0.2},\"line_color\":{\"value\":\"#277E8E\"},\"x\":{\"field\":\"date_time\"},\"y\":{\"field\":\"y_index\"}},\"id\":\"8872\",\"type\":\"Circle\"},{\"attributes\":{\"source\":{\"id\":\"8658\"}},\"id\":\"8928\",\"type\":\"CDSView\"},{\"attributes\":{\"fill_color\":{\"value\":\"#23A883\"},\"hatch_color\":{\"value\":\"#23A883\"},\"line_color\":{\"value\":\"#23A883\"},\"x\":{\"field\":\"date_time\"},\"y\":{\"field\":\"y_index\"}},\"id\":\"8930\",\"type\":\"Circle\"},{\"attributes\":{\"months\":[0,4,8]},\"id\":\"9473\",\"type\":\"MonthsTicker\"},{\"attributes\":{\"fill_alpha\":{\"value\":0.1},\"fill_color\":{\"value\":\"#23878D\"},\"hatch_alpha\":{\"value\":0.1},\"hatch_color\":{\"value\":\"#23878D\"},\"line_alpha\":{\"value\":0.1},\"line_color\":{\"value\":\"#23878D\"},\"x\":{\"field\":\"date_time\"},\"y\":{\"field\":\"y_index\"}},\"id\":\"8883\",\"type\":\"Circle\"},{\"attributes\":{\"fill_color\":{\"value\":\"#23878D\"},\"hatch_color\":{\"value\":\"#23878D\"},\"line_color\":{\"value\":\"#23878D\"},\"x\":{\"field\":\"date_time\"},\"y\":{\"field\":\"y_index\"}},\"id\":\"8882\",\"type\":\"Circle\"},{\"attributes\":{\"source\":{\"id\":\"8650\"}},\"id\":\"8880\",\"type\":\"CDSView\"},{\"attributes\":{\"coordinates\":null,\"data_source\":{\"id\":\"8650\"},\"glyph\":{\"id\":\"8876\"},\"group\":null,\"hover_glyph\":null,\"muted_glyph\":{\"id\":\"8878\"},\"nonselection_glyph\":{\"id\":\"8877\"},\"view\":{\"id\":\"8880\"}},\"id\":\"8879\",\"type\":\"GlyphRenderer\"},{\"attributes\":{\"data\":{\"date_time\":{\"__ndarray__\":\"AABYCBrbc0IAAOp5jttzQgAASjki3XNCAABO6F/dc0IAAEpwgd1zQgAATJey3XNCAABQmffdc0IAAFw3Ad9zQgAAWF5H33NCAABytZnfc0IAAEr/799zQgAAnog/4HNCAADui9zgc0IAAJxnB+FzQgAA/OJY4XNCAAAOh0bjc0IAAGjJa+VzQgAAkmAi5nNCAADIGF/oc0IAAK6XkOhzQg==\",\"dtype\":\"float64\",\"order\":\"little\",\"shape\":[20]},\"index\":[1701,1702,1703,1704,1705,1706,1707,1708,1709,1710,1711,1712,1713,1714,1715,1716,1717,1718,1719,1720],\"y_index\":[43,43,43,43,43,43,43,43,43,43,43,43,43,43,43,43,43,43,43,43]},\"selected\":{\"id\":\"9454\"},\"selection_policy\":{\"id\":\"9453\"}},\"id\":\"8668\",\"type\":\"ColumnDataSource\"},{\"attributes\":{\"fill_alpha\":{\"value\":0.2},\"fill_color\":{\"value\":\"#25828E\"},\"hatch_alpha\":{\"value\":0.2},\"hatch_color\":{\"value\":\"#25828E\"},\"line_alpha\":{\"value\":0.2},\"line_color\":{\"value\":\"#25828E\"},\"x\":{\"field\":\"date_time\"},\"y\":{\"field\":\"y_index\"}},\"id\":\"8878\",\"type\":\"Circle\"},{\"attributes\":{\"fill_alpha\":{\"value\":0.1},\"fill_color\":{\"value\":\"#23A883\"},\"hatch_alpha\":{\"value\":0.1},\"hatch_color\":{\"value\":\"#23A883\"},\"line_alpha\":{\"value\":0.1},\"line_color\":{\"value\":\"#23A883\"},\"x\":{\"field\":\"date_time\"},\"y\":{\"field\":\"y_index\"}},\"id\":\"8931\",\"type\":\"Circle\"},{\"attributes\":{\"fill_alpha\":{\"value\":0.1},\"fill_color\":{\"value\":\"#25828E\"},\"hatch_alpha\":{\"value\":0.1},\"hatch_color\":{\"value\":\"#25828E\"},\"line_alpha\":{\"value\":0.1},\"line_color\":{\"value\":\"#25828E\"},\"marker\":{\"value\":\"diamond\"},\"size\":{\"value\":10},\"x\":{\"field\":\"date_time\"},\"y\":{\"field\":\"y_index\"}},\"id\":\"9197\",\"type\":\"Scatter\"},{\"attributes\":{\"fill_alpha\":{\"value\":0.1},\"fill_color\":{\"value\":\"#228A8D\"},\"hatch_alpha\":{\"value\":0.1},\"hatch_color\":{\"value\":\"#228A8D\"},\"line_alpha\":{\"value\":0.1},\"line_color\":{\"value\":\"#228A8D\"},\"x\":{\"field\":\"date_time\"},\"y\":{\"field\":\"y_index\"}},\"id\":\"8889\",\"type\":\"Circle\"},{\"attributes\":{},\"id\":\"9415\",\"type\":\"UnionRenderers\"},{\"attributes\":{\"fill_color\":{\"value\":\"#228A8D\"},\"hatch_color\":{\"value\":\"#228A8D\"},\"line_color\":{\"value\":\"#228A8D\"},\"x\":{\"field\":\"date_time\"},\"y\":{\"field\":\"y_index\"}},\"id\":\"8888\",\"type\":\"Circle\"},{\"attributes\":{\"source\":{\"id\":\"8651\"}},\"id\":\"8886\",\"type\":\"CDSView\"},{\"attributes\":{\"coordinates\":null,\"data_source\":{\"id\":\"8651\"},\"glyph\":{\"id\":\"8882\"},\"group\":null,\"hover_glyph\":null,\"muted_glyph\":{\"id\":\"8884\"},\"nonselection_glyph\":{\"id\":\"8883\"},\"view\":{\"id\":\"8886\"}},\"id\":\"8885\",\"type\":\"GlyphRenderer\"},{\"attributes\":{},\"id\":\"9416\",\"type\":\"Selection\"},{\"attributes\":{\"fill_alpha\":{\"value\":0.2},\"fill_color\":{\"value\":\"#23878D\"},\"hatch_alpha\":{\"value\":0.2},\"hatch_color\":{\"value\":\"#23878D\"},\"line_alpha\":{\"value\":0.2},\"line_color\":{\"value\":\"#23878D\"},\"x\":{\"field\":\"date_time\"},\"y\":{\"field\":\"y_index\"}},\"id\":\"8884\",\"type\":\"Circle\"},{\"attributes\":{},\"id\":\"9383\",\"type\":\"UnionRenderers\"},{\"attributes\":{\"coordinates\":null,\"data_source\":{\"id\":\"8627\"},\"glyph\":{\"id\":\"9035\"},\"group\":null,\"hover_glyph\":null,\"muted_glyph\":{\"id\":\"9037\"},\"nonselection_glyph\":{\"id\":\"9036\"},\"view\":{\"id\":\"9039\"}},\"id\":\"9038\",\"type\":\"GlyphRenderer\"},{\"attributes\":{\"fill_alpha\":{\"value\":0.2},\"fill_color\":{\"value\":\"#1EA087\"},\"hatch_alpha\":{\"value\":0.2},\"hatch_color\":{\"value\":\"#1EA087\"},\"line_alpha\":{\"value\":0.2},\"line_color\":{\"value\":\"#1EA087\"},\"x\":{\"field\":\"date_time\"},\"y\":{\"field\":\"y_index\"}},\"id\":\"8920\",\"type\":\"Circle\"},{\"attributes\":{\"fill_alpha\":{\"value\":0.1},\"fill_color\":{\"value\":\"#208F8C\"},\"hatch_alpha\":{\"value\":0.1},\"hatch_color\":{\"value\":\"#208F8C\"},\"line_alpha\":{\"value\":0.1},\"line_color\":{\"value\":\"#208F8C\"},\"x\":{\"field\":\"date_time\"},\"y\":{\"field\":\"y_index\"}},\"id\":\"8895\",\"type\":\"Circle\"},{\"attributes\":{},\"id\":\"9384\",\"type\":\"Selection\"},{\"attributes\":{\"fill_color\":{\"value\":\"#208F8C\"},\"hatch_color\":{\"value\":\"#208F8C\"},\"line_color\":{\"value\":\"#208F8C\"},\"x\":{\"field\":\"date_time\"},\"y\":{\"field\":\"y_index\"}},\"id\":\"8894\",\"type\":\"Circle\"},{\"attributes\":{\"source\":{\"id\":\"8652\"}},\"id\":\"8892\",\"type\":\"CDSView\"},{\"attributes\":{\"coordinates\":null,\"data_source\":{\"id\":\"8652\"},\"glyph\":{\"id\":\"8888\"},\"group\":null,\"hover_glyph\":null,\"muted_glyph\":{\"id\":\"8890\"},\"nonselection_glyph\":{\"id\":\"8889\"},\"view\":{\"id\":\"8892\"}},\"id\":\"8891\",\"type\":\"GlyphRenderer\"},{\"attributes\":{\"data\":{\"date_time\":{\"__ndarray__\":\"AAAkclnec0IAAKRuZN5zQgAAbuuk3nNCAAA6WLfec0IAACRPx95zQgAA2GE833NCAACgClPfc0IAAERZ9t9zQgAAosHj4HNCAADSL/rgc0IAAM78TuFzQgAAMM9G4nNCAAASKaHic0IAAGQGYeRzQgAAAlQo5nNCAACmosvmc0IAAH7Fy+tzQgAARA1/7nNCAAAeRcXwc0IAAAJxweRzQgAABPzz6HNCAACeAkPqc0IAAJgx3OtzQgAAipFo73NCAACa3q/wc0I=\",\"dtype\":\"float64\",\"order\":\"little\",\"shape\":[25]},\"index\":[1721,1722,1723,1724,1725,1726,1727,1728,1729,1730,1731,1732,1733,1734,1735,1736,1737,1738,1739,2510,2511,2512,2513,2514,2515],\"y_index\":[44,44,44,44,44,44,44,44,44,44,44,44,44,44,44,44,44,44,44,44,44,44,44,44,44]},\"selected\":{\"id\":\"9456\"},\"selection_policy\":{\"id\":\"9455\"}},\"id\":\"8669\",\"type\":\"ColumnDataSource\"},{\"attributes\":{\"fill_alpha\":{\"value\":0.2},\"fill_color\":{\"value\":\"#228A8D\"},\"hatch_alpha\":{\"value\":0.2},\"hatch_color\":{\"value\":\"#228A8D\"},\"line_alpha\":{\"value\":0.2},\"line_color\":{\"value\":\"#228A8D\"},\"x\":{\"field\":\"date_time\"},\"y\":{\"field\":\"y_index\"}},\"id\":\"8890\",\"type\":\"Circle\"},{\"attributes\":{\"coordinates\":null,\"data_source\":{\"id\":\"8657\"},\"glyph\":{\"id\":\"8918\"},\"group\":null,\"hover_glyph\":null,\"muted_glyph\":{\"id\":\"8920\"},\"nonselection_glyph\":{\"id\":\"8919\"},\"view\":{\"id\":\"8922\"}},\"id\":\"8921\",\"type\":\"GlyphRenderer\"},{\"attributes\":{\"source\":{\"id\":\"8657\"}},\"id\":\"8922\",\"type\":\"CDSView\"},{\"attributes\":{\"fill_alpha\":{\"value\":0.1},\"fill_color\":{\"value\":\"#1F948B\"},\"hatch_alpha\":{\"value\":0.1},\"hatch_color\":{\"value\":\"#1F948B\"},\"line_alpha\":{\"value\":0.1},\"line_color\":{\"value\":\"#1F948B\"},\"x\":{\"field\":\"date_time\"},\"y\":{\"field\":\"y_index\"}},\"id\":\"8901\",\"type\":\"Circle\"},{\"attributes\":{\"fill_color\":{\"value\":\"#1F948B\"},\"hatch_color\":{\"value\":\"#1F948B\"},\"line_color\":{\"value\":\"#1F948B\"},\"x\":{\"field\":\"date_time\"},\"y\":{\"field\":\"y_index\"}},\"id\":\"8900\",\"type\":\"Circle\"},{\"attributes\":{\"source\":{\"id\":\"8653\"}},\"id\":\"8898\",\"type\":\"CDSView\"},{\"attributes\":{\"coordinates\":null,\"data_source\":{\"id\":\"8653\"},\"glyph\":{\"id\":\"8894\"},\"group\":null,\"hover_glyph\":null,\"muted_glyph\":{\"id\":\"8896\"},\"nonselection_glyph\":{\"id\":\"8895\"},\"view\":{\"id\":\"8898\"}},\"id\":\"8897\",\"type\":\"GlyphRenderer\"},{\"attributes\":{\"fill_alpha\":{\"value\":0.2},\"fill_color\":{\"value\":\"#208F8C\"},\"hatch_alpha\":{\"value\":0.2},\"hatch_color\":{\"value\":\"#208F8C\"},\"line_alpha\":{\"value\":0.2},\"line_color\":{\"value\":\"#208F8C\"},\"x\":{\"field\":\"date_time\"},\"y\":{\"field\":\"y_index\"}},\"id\":\"8896\",\"type\":\"Circle\"},{\"attributes\":{\"fill_color\":{\"value\":\"#20A585\"},\"hatch_color\":{\"value\":\"#20A585\"},\"line_color\":{\"value\":\"#20A585\"},\"x\":{\"field\":\"date_time\"},\"y\":{\"field\":\"y_index\"}},\"id\":\"8924\",\"type\":\"Circle\"},{\"attributes\":{\"fill_alpha\":{\"value\":0.1},\"fill_color\":{\"value\":\"#20A585\"},\"hatch_alpha\":{\"value\":0.1},\"hatch_color\":{\"value\":\"#20A585\"},\"line_alpha\":{\"value\":0.1},\"line_color\":{\"value\":\"#20A585\"},\"x\":{\"field\":\"date_time\"},\"y\":{\"field\":\"y_index\"}},\"id\":\"8925\",\"type\":\"Circle\"},{\"attributes\":{\"fill_alpha\":{\"value\":0.1},\"fill_color\":{\"value\":\"#1E988A\"},\"hatch_alpha\":{\"value\":0.1},\"hatch_color\":{\"value\":\"#1E988A\"},\"line_alpha\":{\"value\":0.1},\"line_color\":{\"value\":\"#1E988A\"},\"x\":{\"field\":\"date_time\"},\"y\":{\"field\":\"y_index\"}},\"id\":\"8907\",\"type\":\"Circle\"},{\"attributes\":{},\"id\":\"9417\",\"type\":\"UnionRenderers\"},{\"attributes\":{\"fill_color\":{\"value\":\"#1E988A\"},\"hatch_color\":{\"value\":\"#1E988A\"},\"line_color\":{\"value\":\"#1E988A\"},\"x\":{\"field\":\"date_time\"},\"y\":{\"field\":\"y_index\"}},\"id\":\"8906\",\"type\":\"Circle\"},{\"attributes\":{\"source\":{\"id\":\"8654\"}},\"id\":\"8904\",\"type\":\"CDSView\"},{\"attributes\":{\"coordinates\":null,\"data_source\":{\"id\":\"8654\"},\"glyph\":{\"id\":\"8900\"},\"group\":null,\"hover_glyph\":null,\"muted_glyph\":{\"id\":\"8902\"},\"nonselection_glyph\":{\"id\":\"8901\"},\"view\":{\"id\":\"8904\"}},\"id\":\"8903\",\"type\":\"GlyphRenderer\"},{\"attributes\":{},\"id\":\"9418\",\"type\":\"Selection\"},{\"attributes\":{\"data\":{\"date_time\":{\"__ndarray__\":\"AACgKr/ac0IAAAxaydpzQgAAmDMY23NCAABACG7bc0IAAHCfD9xzQgAAWhKy3HNCAADGQbzcc0IAALpI0NxzQgAAaB0R3XNCAABKOSLdc0IAAAjEYN1zQgAAjCp23XNCAABegrXdc0IAAN7Rx91zQgAA2jZX3nNCAAA0e17ec0IAAKDvm95zQgAAvmvF3nNCAAAGt/Xec0IAADL5St9zQgAACvCZ33NCAAC86bHfc0IAAFbx8d9zQgAACs0H4HNCAADkrD7gc0IAAGxviuBzQgAAXAyU4HNCAABsrdPgc0IAAGoe3eBzQgAAElv44HNCAABoIDfhc0IAAEhaSuFzQgAAjh1u4XNCAADWDq3hc0IAAHD6ROJzQgAAhJ3J4nNCAAAGrEfjc0IAAE7iueNzQgAAIDMP5HNCAAAEHGDkc0IAAE5yGeVzQgAAjGEo5XNCAACekV7lc0IAAPqweeVzQgAA5sfQ5XNCAACEjCLmc0IAADAldOZzQgAAiOdn53NCAAAynrvnc0IAADZbzedzQgAA4Mzt53NCAACobhroc0IAAKrvPOhzQgAAukRf6HNCAACAfy/qc0IAAPTHgepzQgAAtC3U6nNCAADwJSfrc0IAAATsPetzQgAA5kWY63NCAAAAUc3rc0IAAFrTHexzQgAANpw87HNCAAAaOXDsc0IAAO634OxzQgAACMMV7XNCAADGpHLwc0IAAKjucORzQgAA2vdv5nNCAAB2XE/oc0IAAExrp+dzQgAAiF0B53NCAABw2Pboc0IAAAT2+udzQgAAMD5J6XNCAABurL3mc0IAALKtoulzQgAA6Fnt6XNCAAA+QNzrc0IAAFru1OxzQgAAzsd37XNCAAAMF3Huc0IAANJvy+1zQgAACAZn73NCAABA7a/wc0IAANKdXvBzQg==\",\"dtype\":\"float64\",\"order\":\"little\",\"shape\":[86]},\"index\":[1740,1741,1742,1743,1744,1745,1746,1747,1748,1749,1750,1751,1752,1753,1754,1755,1756,1757,1758,1759,1760,1761,1762,1763,1764,1765,1766,1767,1768,1769,1770,1771,1772,1773,1774,1775,1776,1777,1778,1779,1780,1781,1782,1783,1784,1785,1786,1787,1788,1789,1790,1791,1792,1793,1794,1795,1796,1797,1798,1799,1800,1801,1802,1803,1804,1805,1806,2407,2408,2409,2410,2411,2412,2413,2414,2415,2416,2417,2418,2419,2420,2421,2422,2423,2424,2425],\"y_index\":[45,45,45,45,45,45,45,45,45,45,45,45,45,45,45,45,45,45,45,45,45,45,45,45,45,45,45,45,45,45,45,45,45,45,45,45,45,45,45,45,45,45,45,45,45,45,45,45,45,45,45,45,45,45,45,45,45,45,45,45,45,45,45,45,45,45,45,45,45,45,45,45,45,45,45,45,45,45,45,45,45,45,45,45,45,45]},\"selected\":{\"id\":\"9458\"},\"selection_policy\":{\"id\":\"9457\"}},\"id\":\"8670\",\"type\":\"ColumnDataSource\"},{\"attributes\":{\"fill_alpha\":{\"value\":0.2},\"fill_color\":{\"value\":\"#1F948B\"},\"hatch_alpha\":{\"value\":0.2},\"hatch_color\":{\"value\":\"#1F948B\"},\"line_alpha\":{\"value\":0.2},\"line_color\":{\"value\":\"#1F948B\"},\"x\":{\"field\":\"date_time\"},\"y\":{\"field\":\"y_index\"}},\"id\":\"8902\",\"type\":\"Circle\"},{\"attributes\":{},\"id\":\"9385\",\"type\":\"UnionRenderers\"},{\"attributes\":{\"fill_alpha\":{\"value\":0.1},\"fill_color\":{\"value\":\"#471466\"},\"hatch_alpha\":{\"value\":0.1},\"hatch_color\":{\"value\":\"#471466\"},\"line_alpha\":{\"value\":0.1},\"line_color\":{\"value\":\"#471466\"},\"marker\":{\"value\":\"diamond\"},\"size\":{\"value\":10},\"x\":{\"field\":\"date_time\"},\"y\":{\"field\":\"y_index\"}},\"id\":\"9043\",\"type\":\"Scatter\"},{\"attributes\":{\"label\":{\"value\":\"u02\"},\"renderers\":[{\"id\":\"9038\"}]},\"id\":\"9040\",\"type\":\"LegendItem\"},{\"attributes\":{\"fill_alpha\":{\"value\":0.1},\"fill_color\":{\"value\":\"#1E9C89\"},\"hatch_alpha\":{\"value\":0.1},\"hatch_color\":{\"value\":\"#1E9C89\"},\"line_alpha\":{\"value\":0.1},\"line_color\":{\"value\":\"#1E9C89\"},\"x\":{\"field\":\"date_time\"},\"y\":{\"field\":\"y_index\"}},\"id\":\"8913\",\"type\":\"Circle\"},{\"attributes\":{},\"id\":\"9386\",\"type\":\"Selection\"},{\"attributes\":{\"fill_color\":{\"value\":\"#1E9C89\"},\"hatch_color\":{\"value\":\"#1E9C89\"},\"line_color\":{\"value\":\"#1E9C89\"},\"x\":{\"field\":\"date_time\"},\"y\":{\"field\":\"y_index\"}},\"id\":\"8912\",\"type\":\"Circle\"},{\"attributes\":{\"source\":{\"id\":\"8655\"}},\"id\":\"8910\",\"type\":\"CDSView\"},{\"attributes\":{\"coordinates\":null,\"data_source\":{\"id\":\"8655\"},\"glyph\":{\"id\":\"8906\"},\"group\":null,\"hover_glyph\":null,\"muted_glyph\":{\"id\":\"8908\"},\"nonselection_glyph\":{\"id\":\"8907\"},\"view\":{\"id\":\"8910\"}},\"id\":\"8909\",\"type\":\"GlyphRenderer\"},{\"attributes\":{\"fill_alpha\":{\"value\":0.2},\"fill_color\":{\"value\":\"#1E988A\"},\"hatch_alpha\":{\"value\":0.2},\"hatch_color\":{\"value\":\"#1E988A\"},\"line_alpha\":{\"value\":0.2},\"line_color\":{\"value\":\"#1E988A\"},\"x\":{\"field\":\"date_time\"},\"y\":{\"field\":\"y_index\"}},\"id\":\"8908\",\"type\":\"Circle\"},{\"attributes\":{\"fill_color\":{\"value\":\"#1EA087\"},\"hatch_color\":{\"value\":\"#1EA087\"},\"line_color\":{\"value\":\"#1EA087\"},\"x\":{\"field\":\"date_time\"},\"y\":{\"field\":\"y_index\"}},\"id\":\"8918\",\"type\":\"Circle\"},{\"attributes\":{\"days\":[\"%m-%d %H:%M\"],\"hours\":[\"%H:%M:%S\"],\"milliseconds\":[\"%H:%M:%S.%3N\"],\"minutes\":[\"%H:%M:%S\"],\"seconds\":[\"%H:%M:%S\"]},\"id\":\"9018\",\"type\":\"DatetimeTickFormatter\"},{\"attributes\":{\"fill_alpha\":{\"value\":0.1},\"fill_color\":{\"value\":\"#1EA087\"},\"hatch_alpha\":{\"value\":0.1},\"hatch_color\":{\"value\":\"#1EA087\"},\"line_alpha\":{\"value\":0.1},\"line_color\":{\"value\":\"#1EA087\"},\"x\":{\"field\":\"date_time\"},\"y\":{\"field\":\"y_index\"}},\"id\":\"8919\",\"type\":\"Circle\"},{\"attributes\":{\"coordinates\":null,\"data_source\":{\"id\":\"8661\"},\"glyph\":{\"id\":\"8942\"},\"group\":null,\"hover_glyph\":null,\"muted_glyph\":{\"id\":\"8944\"},\"nonselection_glyph\":{\"id\":\"8943\"},\"view\":{\"id\":\"8946\"}},\"id\":\"8945\",\"type\":\"GlyphRenderer\"},{\"attributes\":{\"source\":{\"id\":\"8656\"}},\"id\":\"8916\",\"type\":\"CDSView\"},{\"attributes\":{\"coordinates\":null,\"data_source\":{\"id\":\"8656\"},\"glyph\":{\"id\":\"8912\"},\"group\":null,\"hover_glyph\":null,\"muted_glyph\":{\"id\":\"8914\"},\"nonselection_glyph\":{\"id\":\"8913\"},\"view\":{\"id\":\"8916\"}},\"id\":\"8915\",\"type\":\"GlyphRenderer\"},{\"attributes\":{\"data\":{\"date_time\":{\"__ndarray__\":\"AADCcc7ac0IAAJgzGNtzQgAAIElr23NCAAAWHb/bc0IAAJZXE9xzQgAAqLe+3HNCAACYp8/cc0IAADSRDd1zQgAAMF5i3XNCAACMKnbdc0IAAJDZs91zQgAA2ole3nNCAAD0M7jec0IAAOjnxN5zQgAAVuv43nNCAADKxJvfc0IAAMhz7t9zQgAAmI8+4HNCAACuz43gc0IAAB4Wm+BzQgAA3ijm4HNCAABoJyHhc0IAADhRReFzQgAALoZ04XNCAAAqYZ3hc0IAAKh7quFzQgAABNIk4nNCAAD68ZXic0IAAK4S3+JzQgAAMNU/43NCAACQC17jc0IAABagjuNzQgAAuP5f5HNCAAAIqAvlc0IAAIKkK+VzQgAArppj5XNCAADgPX/lc0IAAIjnZ+dzQgAAAs/J53NCAADKHe/nc0IAAChrJehzQgAAqu886HNCAAAO1Kfpc0IAANiOMepzQgAAoM+C6nNCAAAaZN3qc0IAAEKk7epzQgAAvs4o63NCAACedvrrc0IAAAqRRuxzQgAASMxy7HNCAADwrpzsc0IAANDT8exzQgAAfHoX7XNCAABea7vuc0IAAIb6aORzQgAA/sht5HNCAAA06W/mc0IAAPwpweZzQgAAFIpX53NCAACoKPboc0IAAFxk9ulzQgAAUr2o6HNCAAAO1Kfpc0IAANLYgexzQgAAAsMq7XNCAADmZGbvc0IAAMbQ0O1zQgAAlIXE73NCAABEDX/uc0IAALK2we5zQgAADD8L8HNC\",\"dtype\":\"float64\",\"order\":\"little\",\"shape\":[72]},\"index\":[1807,1808,1809,1810,1811,1812,1813,1814,1815,1816,1817,1818,1819,1820,1821,1822,1823,1824,1825,1826,1827,1828,1829,1830,1831,1832,1833,1834,1835,1836,1837,1838,1839,1840,1841,1842,1843,1844,1845,1846,1847,1848,1849,1850,1851,1852,1853,1854,1855,1856,1857,1858,1859,1860,1861,2390,2391,2392,2393,2394,2395,2396,2397,2398,2399,2400,2401,2402,2403,2404,2405,2406],\"y_index\":[46,46,46,46,46,46,46,46,46,46,46,46,46,46,46,46,46,46,46,46,46,46,46,46,46,46,46,46,46,46,46,46,46,46,46,46,46,46,46,46,46,46,46,46,46,46,46,46,46,46,46,46,46,46,46,46,46,46,46,46,46,46,46,46,46,46,46,46,46,46,46,46]},\"selected\":{\"id\":\"9460\"},\"selection_policy\":{\"id\":\"9459\"}},\"id\":\"8671\",\"type\":\"ColumnDataSource\"},{\"attributes\":{\"fill_alpha\":{\"value\":0.2},\"fill_color\":{\"value\":\"#1E9C89\"},\"hatch_alpha\":{\"value\":0.2},\"hatch_color\":{\"value\":\"#1E9C89\"},\"line_alpha\":{\"value\":0.2},\"line_color\":{\"value\":\"#1E9C89\"},\"x\":{\"field\":\"date_time\"},\"y\":{\"field\":\"y_index\"}},\"id\":\"8914\",\"type\":\"Circle\"},{\"attributes\":{\"fill_alpha\":{\"value\":0.2},\"fill_color\":{\"value\":\"#2BB17D\"},\"hatch_alpha\":{\"value\":0.2},\"hatch_color\":{\"value\":\"#2BB17D\"},\"line_alpha\":{\"value\":0.2},\"line_color\":{\"value\":\"#2BB17D\"},\"x\":{\"field\":\"date_time\"},\"y\":{\"field\":\"y_index\"}},\"id\":\"8944\",\"type\":\"Circle\"},{\"attributes\":{\"data\":{\"date_time\":{\"__ndarray__\":\"AADSJ8zac0IAADy6C9tzQgAAqDwd23NCAAD4wyfbc0IAANiqM9tzQgAAbqJa23NCAADGV2vbc0IAADBLhttzQgAASrCs23NCAAAOQsDbc0IAABjq/ttzQgAA2GQP3HNCAADCWx/cc0IAANxfatxzQgAAZHW93HNCAAA+ts/cc0IAAEJs99xzQgAActMj3XNCAACaBWDdc0IAAL6BdN1zQgAAzEC23XNCAAAuWdLdc0IAAESgC95zQgAAKEsT3nNCAABw4mDec0IAAK7Dm95zQgAAwoLI3nNCAAA6Q/nec0IAAJDDBN9zQgAA/mxH33NCAABugu7fc0IAAD6ePuBzQgAAsuaQ4HNCAABO+Vnhc0IAAK7OnOFzQgAAMuKq4XNCAABiJkXic0IAABLwX+RzQgAACIV55XNCAABWaM/lc0IAALBawORzQg==\",\"dtype\":\"float64\",\"order\":\"little\",\"shape\":[41]},\"index\":[842,843,844,845,846,847,848,849,850,851,852,853,854,855,856,857,858,859,860,861,862,863,864,865,866,867,868,869,870,871,872,873,874,875,876,877,878,879,880,881,2509],\"y_index\":[19,19,19,19,19,19,19,19,19,19,19,19,19,19,19,19,19,19,19,19,19,19,19,19,19,19,19,19,19,19,19,19,19,19,19,19,19,19,19,19,19]},\"selected\":{\"id\":\"9406\"},\"selection_policy\":{\"id\":\"9405\"}},\"id\":\"8644\",\"type\":\"ColumnDataSource\"},{\"attributes\":{\"label\":{\"value\":\"u01\"},\"renderers\":[{\"id\":\"9031\"}]},\"id\":\"9033\",\"type\":\"LegendItem\"},{\"attributes\":{\"fill_alpha\":{\"value\":0.1},\"fill_color\":{\"value\":\"#460E61\"},\"hatch_alpha\":{\"value\":0.1},\"hatch_color\":{\"value\":\"#460E61\"},\"line_alpha\":{\"value\":0.1},\"line_color\":{\"value\":\"#460E61\"},\"marker\":{\"value\":\"diamond\"},\"size\":{\"value\":10},\"x\":{\"field\":\"date_time\"},\"y\":{\"field\":\"y_index\"}},\"id\":\"9036\",\"type\":\"Scatter\"},{\"attributes\":{},\"id\":\"9419\",\"type\":\"UnionRenderers\"},{\"attributes\":{\"fill_alpha\":{\"value\":0.1},\"fill_color\":{\"value\":\"#39B976\"},\"hatch_alpha\":{\"value\":0.1},\"hatch_color\":{\"value\":\"#39B976\"},\"line_alpha\":{\"value\":0.1},\"line_color\":{\"value\":\"#39B976\"},\"x\":{\"field\":\"date_time\"},\"y\":{\"field\":\"y_index\"}},\"id\":\"8955\",\"type\":\"Circle\"},{\"attributes\":{\"fill_color\":{\"value\":\"#39B976\"},\"hatch_color\":{\"value\":\"#39B976\"},\"line_color\":{\"value\":\"#39B976\"},\"x\":{\"field\":\"date_time\"},\"y\":{\"field\":\"y_index\"}},\"id\":\"8954\",\"type\":\"Circle\"},{\"attributes\":{\"source\":{\"id\":\"8662\"}},\"id\":\"8952\",\"type\":\"CDSView\"},{\"attributes\":{},\"id\":\"9420\",\"type\":\"Selection\"},{\"attributes\":{\"coordinates\":null,\"data_source\":{\"id\":\"8662\"},\"glyph\":{\"id\":\"8948\"},\"group\":null,\"hover_glyph\":null,\"muted_glyph\":{\"id\":\"8950\"},\"nonselection_glyph\":{\"id\":\"8949\"},\"view\":{\"id\":\"8952\"}},\"id\":\"8951\",\"type\":\"GlyphRenderer\"},{\"attributes\":{},\"id\":\"9387\",\"type\":\"UnionRenderers\"},{\"attributes\":{\"data\":{\"date_time\":{\"__ndarray__\":\"AACQx8jac0IAALJMIdtzQgAANrM223NCAABYpz7bc0IAABY5Z9tzQgAAmpiS23NCAAB6eLTbc0IAAJTd2ttzQgAASGbp23NCAAAEwwzcc0IAAAh5NNxzQgAAat1t3HNCAAA0s67dc0IAABZ8uN1zQgAA1knQ3XNCAABA1SXec0IAACagdN5zQgAA5DGd3nNCAABILLfec0IAAFpc7d5zQgAAzmb23nNCAAA85rzfc0IAAGR51N9zQgAAUFLi33NCAABkAzvgc0IAAL6aSeBzQgAADJNd4HNCAAD+EWXgc0IAAP4DkeBzQgAAfuvd4HNCAAAKt1jhc0IAAN7wleFzQgAASB8n5XNCAAC2Cdnpc0IAAMhphOpzQgAAYBJD63NCAADs8nvrc0IAALoe+utzQgAAbJuO7HNCAADU3/Ppc0IAACCbJ+tzQg==\",\"dtype\":\"float64\",\"order\":\"little\",\"shape\":[41]},\"index\":[882,883,884,885,886,887,888,889,890,891,892,893,894,895,896,897,898,899,900,901,902,903,904,905,906,907,908,909,910,911,912,913,914,915,916,917,918,919,920,2374,2375],\"y_index\":[20,20,20,20,20,20,20,20,20,20,20,20,20,20,20,20,20,20,20,20,20,20,20,20,20,20,20,20,20,20,20,20,20,20,20,20,20,20,20,20,20]},\"selected\":{\"id\":\"9408\"},\"selection_policy\":{\"id\":\"9407\"}},\"id\":\"8645\",\"type\":\"ColumnDataSource\"},{\"attributes\":{\"fill_alpha\":{\"value\":0.2},\"fill_color\":{\"value\":\"#32B57A\"},\"hatch_alpha\":{\"value\":0.2},\"hatch_color\":{\"value\":\"#32B57A\"},\"line_alpha\":{\"value\":0.2},\"line_color\":{\"value\":\"#32B57A\"},\"x\":{\"field\":\"date_time\"},\"y\":{\"field\":\"y_index\"}},\"id\":\"8950\",\"type\":\"Circle\"},{\"attributes\":{\"coordinates\":null,\"data_source\":{\"id\":\"8626\"},\"glyph\":{\"id\":\"9028\"},\"group\":null,\"hover_glyph\":null,\"muted_glyph\":{\"id\":\"9030\"},\"nonselection_glyph\":{\"id\":\"9029\"},\"view\":{\"id\":\"9032\"}},\"id\":\"9031\",\"type\":\"GlyphRenderer\"},{\"attributes\":{},\"id\":\"9388\",\"type\":\"Selection\"},{\"attributes\":{\"fill_alpha\":{\"value\":0.1},\"fill_color\":{\"value\":\"#40BD72\"},\"hatch_alpha\":{\"value\":0.1},\"hatch_color\":{\"value\":\"#40BD72\"},\"line_alpha\":{\"value\":0.1},\"line_color\":{\"value\":\"#40BD72\"},\"x\":{\"field\":\"date_time\"},\"y\":{\"field\":\"y_index\"}},\"id\":\"8961\",\"type\":\"Circle\"},{\"attributes\":{\"fill_color\":{\"value\":\"#40BD72\"},\"hatch_color\":{\"value\":\"#40BD72\"},\"line_color\":{\"value\":\"#40BD72\"},\"x\":{\"field\":\"date_time\"},\"y\":{\"field\":\"y_index\"}},\"id\":\"8960\",\"type\":\"Circle\"},{\"attributes\":{\"source\":{\"id\":\"8663\"}},\"id\":\"8958\",\"type\":\"CDSView\"},{\"attributes\":{\"coordinates\":null,\"data_source\":{\"id\":\"8663\"},\"glyph\":{\"id\":\"8954\"},\"group\":null,\"hover_glyph\":null,\"muted_glyph\":{\"id\":\"8956\"},\"nonselection_glyph\":{\"id\":\"8955\"},\"view\":{\"id\":\"8958\"}},\"id\":\"8957\",\"type\":\"GlyphRenderer\"},{\"attributes\":{\"data\":{\"date_time\":{\"__ndarray__\":\"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\",\"dtype\":\"float64\",\"order\":\"little\",\"shape\":[364]},\"index\":[1862,1863,1864,1865,1866,1867,1868,1869,1870,1871,1872,1873,1874,1875,1876,1877,1878,1879,1880,1881,1882,1883,1884,1885,1886,1887,1888,1889,1890,1891,1892,1893,1894,1895,1896,1897,1898,1899,1900,1901,1902,1903,1904,1905,1906,1907,1908,1909,1910,1911,1912,1913,1914,1915,1916,1917,1918,1919,1920,1921,1922,1923,1924,1925,1926,1927,1928,1929,1930,1931,1932,1933,1934,1935,1936,1937,1938,1939,1940,1941,1942,1943,1944,1945,1946,1947,1948,1949,1950,1951,1952,1953,1954,1955,1956,1957,1958,1959,1960,1961,1962,1963,1964,1965,1966,1967,1968,1969,1970,1971,1972,1973,1974,1975,1976,1977,1978,1979,1980,1981,1982,1983,1984,1985,1986,1987,1988,1989,1990,1991,1992,1993,1994,1995,1996,1997,1998,1999,2000,2001,2002,2003,2004,2005,2006,2007,2008,2009,2010,2011,2012,2013,2014,2015,2016,2017,2018,2019,2020,2021,2022,2023,2024,2025,2026,2027,2028,2029,2030,2031,2032,2033,2034,2035,2036,2037,2038,2039,2040,2041,2042,2043,2044,2045,2046,2047,2048,2049,2050,2051,2052,2053,2054,2055,2056,2057,2058,2059,2060,2061,2062,2063,2064,2065,2066,2067,2068,2069,2070,2071,2072,2073,2074,2075,2076,2077,2078,2079,2080,2081,2082,2083,2084,2085,2086,2087,2088,2089,2090,2091,2092,2093,2094,2095,2096,2097,2098,2099,2100,2101,2102,2103,2104,2105,2106,2107,2108,2109,2110,2111,2112,2113,2114,2115,2116,2117,2118,2119,2120,2121,2122,2123,2124,2125,2126,2127,2173,2174,2175,2176,2177,2178,2179,2180,2181,2182,2183,2184,2185,2186,2187,2188,2189,2190,2191,2192,2193,2194,2195,2196,2197,2198,2199,2200,2201,2202,2203,2204,2205,2206,2207,2208,2209,2210,2211,2212,2213,2214,2215,2216,2217,2218,2219,2220,2221,2222,2223,2224,2225,2226,2227,2228,2229,2230,2231,2232,2233,2234,2235,2236,2237,2238,2239,2240,2241,2242,2243,2244,2245,2246,2247,2248,2249,2250,2251,2252,2253,2254,2255,2256,2257,2258,2259,2260,2261,2262,2263,2264,2265,2266,2267,2268,2269,2270],\"y_index\":[47,47,47,47,47,47,47,47,47,47,47,47,47,47,47,47,47,47,47,47,47,47,47,47,47,47,47,47,47,47,47,47,47,47,47,47,47,47,47,47,47,47,47,47,47,47,47,47,47,47,47,47,47,47,47,47,47,47,47,47,47,47,47,47,47,47,47,47,47,47,47,47,47,47,47,47,47,47,47,47,47,47,47,47,47,47,47,47,47,47,47,47,47,47,47,47,47,47,47,47,47,47,47,47,47,47,47,47,47,47,47,47,47,47,47,47,47,47,47,47,47,47,47,47,47,47,47,47,47,47,47,47,47,47,47,47,47,47,47,47,47,47,47,47,47,47,47,47,47,47,47,47,47,47,47,47,47,47,47,47,47,47,47,47,47,47,47,47,47,47,47,47,47,47,47,47,47,47,47,47,47,47,47,47,47,47,47,47,47,47,47,47,47,47,47,47,47,47,47,47,47,47,47,47,47,47,47,47,47,47,47,47,47,47,47,47,47,47,47,47,47,47,47,47,47,47,47,47,47,47,47,47,47,47,47,47,47,47,47,47,47,47,47,47,47,47,47,47,47,47,47,47,47,47,47,47,47,47,47,47,47,47,47,47,47,47,47,47,47,47,47,47,47,47,47,47,47,47,47,47,47,47,47,47,47,47,47,47,47,47,47,47,47,47,47,47,47,47,47,47,47,47,47,47,47,47,47,47,47,47,47,47,47,47,47,47,47,47,47,47,47,47,47,47,47,47,47,47,47,47,47,47,47,47,47,47,47,47,47,47,47,47,47,47,47,47,47,47,47,47,47,47,47,47,47,47,47,47,47,47,47,47,47,47]},\"selected\":{\"id\":\"9462\"},\"selection_policy\":{\"id\":\"9461\"}},\"id\":\"8672\",\"type\":\"ColumnDataSource\"},{\"attributes\":{\"fill_alpha\":{\"value\":0.2},\"fill_color\":{\"value\":\"#39B976\"},\"hatch_alpha\":{\"value\":0.2},\"hatch_color\":{\"value\":\"#39B976\"},\"line_alpha\":{\"value\":0.2},\"line_color\":{\"value\":\"#39B976\"},\"x\":{\"field\":\"date_time\"},\"y\":{\"field\":\"y_index\"}},\"id\":\"8956\",\"type\":\"Circle\"},{\"attributes\":{\"fill_alpha\":{\"value\":0.2},\"fill_color\":{\"value\":\"#45065A\"},\"hatch_alpha\":{\"value\":0.2},\"hatch_color\":{\"value\":\"#45065A\"},\"line_alpha\":{\"value\":0.2},\"line_color\":{\"value\":\"#45065A\"},\"marker\":{\"value\":\"diamond\"},\"size\":{\"value\":10},\"x\":{\"field\":\"date_time\"},\"y\":{\"field\":\"y_index\"}},\"id\":\"9030\",\"type\":\"Scatter\"},{\"attributes\":{\"label\":{\"value\":\"u16\"},\"renderers\":[{\"id\":\"9115\"}]},\"id\":\"9117\",\"type\":\"LegendItem\"},{\"attributes\":{\"fill_alpha\":{\"value\":0.1},\"fill_color\":{\"value\":\"#49C16D\"},\"hatch_alpha\":{\"value\":0.1},\"hatch_color\":{\"value\":\"#49C16D\"},\"line_alpha\":{\"value\":0.1},\"line_color\":{\"value\":\"#49C16D\"},\"x\":{\"field\":\"date_time\"},\"y\":{\"field\":\"y_index\"}},\"id\":\"8967\",\"type\":\"Circle\"},{\"attributes\":{\"fill_color\":{\"value\":\"#49C16D\"},\"hatch_color\":{\"value\":\"#49C16D\"},\"line_color\":{\"value\":\"#49C16D\"},\"x\":{\"field\":\"date_time\"},\"y\":{\"field\":\"y_index\"}},\"id\":\"8966\",\"type\":\"Circle\"},{\"attributes\":{\"source\":{\"id\":\"8664\"}},\"id\":\"8964\",\"type\":\"CDSView\"},{\"attributes\":{\"coordinates\":null,\"data_source\":{\"id\":\"8664\"},\"glyph\":{\"id\":\"8960\"},\"group\":null,\"hover_glyph\":null,\"muted_glyph\":{\"id\":\"8962\"},\"nonselection_glyph\":{\"id\":\"8961\"},\"view\":{\"id\":\"8964\"}},\"id\":\"8963\",\"type\":\"GlyphRenderer\"},{\"attributes\":{\"data\":{\"date_time\":{\"__ndarray__\":\"AACmAC7bc0IAAKYALttzQgAAHvi923NCAAAcpxDcc0IAAIIUedxzQgAAenfD3HNCAAAAwNbcc0IAAEgLB91zQgAA/EAO3XNCAAD+GyLdc0IAALymYN1zQgAANG573XNCAABOzLfdc0IAAELTy91zQgAAsJfF3nNCAABYXkffc0IAAARKoN9zQgAAYK7u33NCAADkrD7gc0IAAAIblOBzQgAA5rDd4HNCAAA2Mf7gc0IAANKkouFzQgAAjNOq4XNCAAB2oD7ic0IAANB1luJzQgAAjHjI4nNCAAD43jHjc0IAAEgfJ+VzQgAAZkFf5XNCAADkW2zlc0IAAKwmJOZzQgAAXLL153NCAADkdEHoc0IAACKokulzQgAAWkLN63NCAAD2Fk3sc0IAAI7wcexzQgAALLXD7HNCAAB2k67oc0IAAHogS+hzQgAAcMwE53NCAAAo9Jrpc0IAAPJj+OhzQgAA+lSm53NCAAAsek3pc0IAAMgVjOtzQgAA1Jje63NCAAAmaMrtc0IAAMbseO1zQgAAyqC+73NC\",\"dtype\":\"float64\",\"order\":\"little\",\"shape\":[51]},\"index\":[1137,1138,1139,1140,1141,1142,1143,1144,1145,1146,1147,1148,1149,1150,1151,1152,1153,1154,1155,1156,1157,1158,1159,1160,1161,1162,1163,1164,1165,1166,1167,1168,1169,1170,1171,1172,1173,1174,1175,2296,2297,2298,2299,2300,2301,2302,2303,2304,2305,2306,2307],\"y_index\":[28,28,28,28,28,28,28,28,28,28,28,28,28,28,28,28,28,28,28,28,28,28,28,28,28,28,28,28,28,28,28,28,28,28,28,28,28,28,28,28,28,28,28,28,28,28,28,28,28,28,28]},\"selected\":{\"id\":\"9424\"},\"selection_policy\":{\"id\":\"9423\"}},\"id\":\"8653\",\"type\":\"ColumnDataSource\"},{\"attributes\":{\"fill_alpha\":{\"value\":0.2},\"fill_color\":{\"value\":\"#40BD72\"},\"hatch_alpha\":{\"value\":0.2},\"hatch_color\":{\"value\":\"#40BD72\"},\"line_alpha\":{\"value\":0.2},\"line_color\":{\"value\":\"#40BD72\"},\"x\":{\"field\":\"date_time\"},\"y\":{\"field\":\"y_index\"}},\"id\":\"8962\",\"type\":\"Circle\"},{\"attributes\":{\"fill_alpha\":{\"value\":0.5},\"fill_color\":{\"value\":\"#45065A\"},\"hatch_alpha\":{\"value\":0.5},\"hatch_color\":{\"value\":\"#45065A\"},\"line_alpha\":{\"value\":0.5},\"line_color\":{\"value\":\"#45065A\"},\"marker\":{\"value\":\"diamond\"},\"size\":{\"value\":10},\"x\":{\"field\":\"date_time\"},\"y\":{\"field\":\"y_index\"}},\"id\":\"9028\",\"type\":\"Scatter\"},{\"attributes\":{},\"id\":\"9421\",\"type\":\"UnionRenderers\"},{\"attributes\":{\"fill_alpha\":{\"value\":0.1},\"fill_color\":{\"value\":\"#51C468\"},\"hatch_alpha\":{\"value\":0.1},\"hatch_color\":{\"value\":\"#51C468\"},\"line_alpha\":{\"value\":0.1},\"line_color\":{\"value\":\"#51C468\"},\"x\":{\"field\":\"date_time\"},\"y\":{\"field\":\"y_index\"}},\"id\":\"8973\",\"type\":\"Circle\"},{\"attributes\":{\"fill_color\":{\"value\":\"#51C468\"},\"hatch_color\":{\"value\":\"#51C468\"},\"line_color\":{\"value\":\"#51C468\"},\"x\":{\"field\":\"date_time\"},\"y\":{\"field\":\"y_index\"}},\"id\":\"8972\",\"type\":\"Circle\"},{\"attributes\":{\"source\":{\"id\":\"8665\"}},\"id\":\"8970\",\"type\":\"CDSView\"},{\"attributes\":{},\"id\":\"9422\",\"type\":\"Selection\"},{\"attributes\":{\"coordinates\":null,\"data_source\":{\"id\":\"8665\"},\"glyph\":{\"id\":\"8966\"},\"group\":null,\"hover_glyph\":null,\"muted_glyph\":{\"id\":\"8968\"},\"nonselection_glyph\":{\"id\":\"8967\"},\"view\":{\"id\":\"8970\"}},\"id\":\"8969\",\"type\":\"GlyphRenderer\"},{\"attributes\":{\"data\":{\"date_time\":{\"__ndarray__\":\"AAAKryrbc0IAAAqvKttzQgAAmHFh23NCAACktmrbc0IAAJgXcNtzQgAAogTi23NCAAC+Swbcc0IAAMgO/NxzQgAA/tX93XNCAAD+1f3dc0IAAP7V/d1zQgAApOT93XNCAABSbSHec0IAAAiSCd9zQgAAMHE+33NCAAAYxJnfc0IAAGJ0ROBzQgAA5Dal4HNCAAAa3AXhc0IAAEhaSuFzQgAAcsh14XNCAABMTrvhc0IAAMjS5+FzQgAArtt/4nNCAADo6uric0IAAO6W3eNzQgAAUDlg5HNCAACePlflc0IAAOY8eeZzQg==\",\"dtype\":\"float64\",\"order\":\"little\",\"shape\":[29]},\"index\":[966,967,968,969,970,971,972,973,974,975,976,977,978,979,980,981,982,983,984,985,986,987,988,989,990,991,992,993,994],\"y_index\":[23,23,23,23,23,23,23,23,23,23,23,23,23,23,23,23,23,23,23,23,23,23,23,23,23,23,23,23,23]},\"selected\":{\"id\":\"9414\"},\"selection_policy\":{\"id\":\"9413\"}},\"id\":\"8648\",\"type\":\"ColumnDataSource\"},{\"attributes\":{},\"id\":\"9389\",\"type\":\"UnionRenderers\"},{\"attributes\":{\"fill_alpha\":{\"value\":0.2},\"fill_color\":{\"value\":\"#49C16D\"},\"hatch_alpha\":{\"value\":0.2},\"hatch_color\":{\"value\":\"#49C16D\"},\"line_alpha\":{\"value\":0.2},\"line_color\":{\"value\":\"#49C16D\"},\"x\":{\"field\":\"date_time\"},\"y\":{\"field\":\"y_index\"}},\"id\":\"8968\",\"type\":\"Circle\"},{\"attributes\":{\"fill_alpha\":{\"value\":0.1},\"fill_color\":{\"value\":\"#45065A\"},\"hatch_alpha\":{\"value\":0.1},\"hatch_color\":{\"value\":\"#45065A\"},\"line_alpha\":{\"value\":0.1},\"line_color\":{\"value\":\"#45065A\"},\"marker\":{\"value\":\"diamond\"},\"size\":{\"value\":10},\"x\":{\"field\":\"date_time\"},\"y\":{\"field\":\"y_index\"}},\"id\":\"9029\",\"type\":\"Scatter\"},{\"attributes\":{\"source\":{\"id\":\"8625\"}},\"id\":\"9025\",\"type\":\"CDSView\"},{\"attributes\":{},\"id\":\"9390\",\"type\":\"Selection\"},{\"attributes\":{\"data\":{\"date_time\":{\"__ndarray__\":\"AADGcxPbc0IAAMZzE9tzQgAAGgs323NCAADMUGzbc0IAAJ6hwdtzQgAAKA673HNCAAB8/8/cc0IAAAoVDt1zQgAAqNlf3XNCAADQEobdc0IAAPDQl95zQgAApDYU33NCAADU2pjgc0IAANzz4OBzQgAAiPT34HNCAADOvgXhc0IAAI4kWOFzQgAACMCc4XNCAACoe6rhc0IAAPxl1eFzQgAARusS5HNCAABq/2Hkc0IAAKhjGeVzQgAAJqXP53NCAABQ/jzoc0IAAIimS+pzQgAA5Kug6HNCAACYGfjnc0IAAKTouu9zQg==\",\"dtype\":\"float64\",\"order\":\"little\",\"shape\":[29]},\"index\":[941,942,943,944,945,946,947,948,949,950,951,952,953,954,955,956,957,958,959,960,961,962,963,964,965,2505,2506,2507,2508],\"y_index\":[22,22,22,22,22,22,22,22,22,22,22,22,22,22,22,22,22,22,22,22,22,22,22,22,22,22,22,22,22]},\"selected\":{\"id\":\"9412\"},\"selection_policy\":{\"id\":\"9411\"}},\"id\":\"8647\",\"type\":\"ColumnDataSource\"},{\"attributes\":{\"fill_alpha\":{\"value\":0.1},\"fill_color\":{\"value\":\"#5BC862\"},\"hatch_alpha\":{\"value\":0.1},\"hatch_color\":{\"value\":\"#5BC862\"},\"line_alpha\":{\"value\":0.1},\"line_color\":{\"value\":\"#5BC862\"},\"x\":{\"field\":\"date_time\"},\"y\":{\"field\":\"y_index\"}},\"id\":\"8979\",\"type\":\"Circle\"},{\"attributes\":{\"fill_color\":{\"value\":\"#5BC862\"},\"hatch_color\":{\"value\":\"#5BC862\"},\"line_color\":{\"value\":\"#5BC862\"},\"x\":{\"field\":\"date_time\"},\"y\":{\"field\":\"y_index\"}},\"id\":\"8978\",\"type\":\"Circle\"},{\"attributes\":{\"source\":{\"id\":\"8666\"}},\"id\":\"8976\",\"type\":\"CDSView\"},{\"attributes\":{\"coordinates\":null,\"data_source\":{\"id\":\"8666\"},\"glyph\":{\"id\":\"8972\"},\"group\":null,\"hover_glyph\":null,\"muted_glyph\":{\"id\":\"8974\"},\"nonselection_glyph\":{\"id\":\"8973\"},\"view\":{\"id\":\"8976\"}},\"id\":\"8975\",\"type\":\"GlyphRenderer\"},{\"attributes\":{\"data\":{\"date_time\":{\"__ndarray__\":\"AACYMxjbc0IAAFiZattzQgAADkLA23NCAAB0K7vcc0IAAPBHIt1zQgAAFphg3XNCAABoP7Ldc0IAANgp7N9zQgAAlj6R4HNCAABIfdzgc0IAAIj09+BzQgAAlHdK4XNC\",\"dtype\":\"float64\",\"order\":\"little\",\"shape\":[12]},\"index\":[995,996,997,998,999,1000,1001,1002,1003,1004,1005,1006],\"y_index\":[24,24,24,24,24,24,24,24,24,24,24,24]},\"selected\":{\"id\":\"9416\"},\"selection_policy\":{\"id\":\"9415\"}},\"id\":\"8649\",\"type\":\"ColumnDataSource\"},{\"attributes\":{\"callback\":null,\"tooltips\":[[\"date_time\",\"@date_time\"]]},\"id\":\"8673\",\"type\":\"HoverTool\"},{\"attributes\":{\"fill_alpha\":{\"value\":0.2},\"fill_color\":{\"value\":\"#51C468\"},\"hatch_alpha\":{\"value\":0.2},\"hatch_color\":{\"value\":\"#51C468\"},\"line_alpha\":{\"value\":0.2},\"line_color\":{\"value\":\"#51C468\"},\"x\":{\"field\":\"date_time\"},\"y\":{\"field\":\"y_index\"}},\"id\":\"8974\",\"type\":\"Circle\"},{\"attributes\":{\"source\":{\"id\":\"8638\"}},\"id\":\"9116\",\"type\":\"CDSView\"},{\"attributes\":{\"data\":{\"date_time\":{\"__ndarray__\":\"AAAkPs3ac0IAADBuGNtzQgAAkOlp23NCAABum3Dbc0IAANgtsNtzQgAAap8k3HNCAABYByncc0IAAGDUU9xzQgAA0FHA3HNCAADeHtbcc0IAAFgNIt1zQgAA+uh23XNCAAACr7fdc0IAANb2yN1zQgAAANqc3nNCAAAczrnec0IAAMSv8t9zQgAAnMji4HNCAACg2Pvgc0IAAHo7r+FzQg==\",\"dtype\":\"float64\",\"order\":\"little\",\"shape\":[20]},\"index\":[921,922,923,924,925,926,927,928,929,930,931,932,933,934,935,936,937,938,939,940],\"y_index\":[21,21,21,21,21,21,21,21,21,21,21,21,21,21,21,21,21,21,21,21]},\"selected\":{\"id\":\"9410\"},\"selection_policy\":{\"id\":\"9409\"}},\"id\":\"8646\",\"type\":\"ColumnDataSource\"},{\"attributes\":{\"fill_alpha\":{\"value\":0.1},\"fill_color\":{\"value\":\"#64CB5D\"},\"hatch_alpha\":{\"value\":0.1},\"hatch_color\":{\"value\":\"#64CB5D\"},\"line_alpha\":{\"value\":0.1},\"line_color\":{\"value\":\"#64CB5D\"},\"x\":{\"field\":\"date_time\"},\"y\":{\"field\":\"y_index\"}},\"id\":\"8985\",\"type\":\"Circle\"},{\"attributes\":{\"fill_color\":{\"value\":\"#64CB5D\"},\"hatch_color\":{\"value\":\"#64CB5D\"},\"line_color\":{\"value\":\"#64CB5D\"},\"x\":{\"field\":\"date_time\"},\"y\":{\"field\":\"y_index\"}},\"id\":\"8984\",\"type\":\"Circle\"},{\"attributes\":{\"source\":{\"id\":\"8667\"}},\"id\":\"8982\",\"type\":\"CDSView\"},{\"attributes\":{\"coordinates\":null,\"data_source\":{\"id\":\"8667\"},\"glyph\":{\"id\":\"8978\"},\"group\":null,\"hover_glyph\":null,\"muted_glyph\":{\"id\":\"8980\"},\"nonselection_glyph\":{\"id\":\"8979\"},\"view\":{\"id\":\"8982\"}},\"id\":\"8981\",\"type\":\"GlyphRenderer\"},{\"attributes\":{\"fill_alpha\":{\"value\":0.2},\"fill_color\":{\"value\":\"#5BC862\"},\"hatch_alpha\":{\"value\":0.2},\"hatch_color\":{\"value\":\"#5BC862\"},\"line_alpha\":{\"value\":0.2},\"line_color\":{\"value\":\"#5BC862\"},\"x\":{\"field\":\"date_time\"},\"y\":{\"field\":\"y_index\"}},\"id\":\"8980\",\"type\":\"Circle\"},{\"attributes\":{\"label\":{\"value\":\"u00\"},\"renderers\":[{\"id\":\"9024\"}]},\"id\":\"9026\",\"type\":\"LegendItem\"},{\"attributes\":{},\"id\":\"9423\",\"type\":\"UnionRenderers\"},{\"attributes\":{\"fill_alpha\":{\"value\":0.1},\"fill_color\":{\"value\":\"#70CE56\"},\"hatch_alpha\":{\"value\":0.1},\"hatch_color\":{\"value\":\"#70CE56\"},\"line_alpha\":{\"value\":0.1},\"line_color\":{\"value\":\"#70CE56\"},\"x\":{\"field\":\"date_time\"},\"y\":{\"field\":\"y_index\"}},\"id\":\"8991\",\"type\":\"Circle\"},{\"attributes\":{\"fill_color\":{\"value\":\"#70CE56\"},\"hatch_color\":{\"value\":\"#70CE56\"},\"line_color\":{\"value\":\"#70CE56\"},\"x\":{\"field\":\"date_time\"},\"y\":{\"field\":\"y_index\"}},\"id\":\"8990\",\"type\":\"Circle\"},{\"attributes\":{\"axis_label\":\"Event Time\",\"coordinates\":null,\"formatter\":{\"id\":\"9018\"},\"group\":null,\"major_label_policy\":{\"id\":\"9364\"},\"ticker\":{\"id\":\"8686\"}},\"id\":\"8685\",\"type\":\"DatetimeAxis\"},{\"attributes\":{\"source\":{\"id\":\"8668\"}},\"id\":\"8988\",\"type\":\"CDSView\"},{\"attributes\":{},\"id\":\"9424\",\"type\":\"Selection\"},{\"attributes\":{\"coordinates\":null,\"data_source\":{\"id\":\"8668\"},\"glyph\":{\"id\":\"8984\"},\"group\":null,\"hover_glyph\":null,\"muted_glyph\":{\"id\":\"8986\"},\"nonselection_glyph\":{\"id\":\"8985\"},\"view\":{\"id\":\"8988\"}},\"id\":\"8987\",\"type\":\"GlyphRenderer\"},{\"attributes\":{},\"id\":\"9391\",\"type\":\"UnionRenderers\"},{\"attributes\":{\"bottom_units\":\"screen\",\"coordinates\":null,\"fill_alpha\":0.5,\"fill_color\":\"lightgrey\",\"group\":null,\"left_units\":\"screen\",\"level\":\"overlay\",\"line_alpha\":1.0,\"line_color\":\"black\",\"line_dash\":[4,4],\"line_width\":2,\"right_units\":\"screen\",\"syncable\":false,\"top_units\":\"screen\"},\"id\":\"8698\",\"type\":\"BoxAnnotation\"},{\"attributes\":{\"fill_alpha\":{\"value\":0.2},\"fill_color\":{\"value\":\"#64CB5D\"},\"hatch_alpha\":{\"value\":0.2},\"hatch_color\":{\"value\":\"#64CB5D\"},\"line_alpha\":{\"value\":0.2},\"line_color\":{\"value\":\"#64CB5D\"},\"x\":{\"field\":\"date_time\"},\"y\":{\"field\":\"y_index\"}},\"id\":\"8986\",\"type\":\"Circle\"},{\"attributes\":{\"fill_alpha\":{\"value\":0.2},\"fill_color\":{\"value\":\"#440154\"},\"hatch_alpha\":{\"value\":0.2},\"hatch_color\":{\"value\":\"#440154\"},\"line_alpha\":{\"value\":0.2},\"line_color\":{\"value\":\"#440154\"},\"marker\":{\"value\":\"diamond\"},\"size\":{\"value\":10},\"x\":{\"field\":\"date_time\"},\"y\":{\"field\":\"y_index\"}},\"id\":\"9023\",\"type\":\"Scatter\"},{\"attributes\":{\"fill_alpha\":{\"value\":0.1},\"fill_color\":{\"value\":\"#440154\"},\"hatch_alpha\":{\"value\":0.1},\"hatch_color\":{\"value\":\"#440154\"},\"line_alpha\":{\"value\":0.1},\"line_color\":{\"value\":\"#440154\"},\"marker\":{\"value\":\"diamond\"},\"size\":{\"value\":10},\"x\":{\"field\":\"date_time\"},\"y\":{\"field\":\"y_index\"}},\"id\":\"9022\",\"type\":\"Scatter\"},{\"attributes\":{},\"id\":\"9392\",\"type\":\"Selection\"},{\"attributes\":{\"data\":{\"date_time\":{\"__ndarray__\":\"AAAC9szbc0IAACSXzdtzQgAAfiAI3HNCAAAS1VXcc0IAAM4cu9xzQgAASgLD3HNCAAD+itHcc0IAABAV+dxzQgAAwg4R3XNCAACyUSndc0IAALrEYt1zQgAAAsR13XNCAACKcQPec0IAAIC0Bt5zQgAA0h0P3nNCAADI+Ezec0IAALANX95zQgAAjgSZ3nNCAACKQJ3ec0IAANyppd5zQgAA/unK3nNCAAA2LPbec0IAAFwwF99zQgAADtA933NCAAAu4kffc0IAACqvnN9zQgAAjGbd33NCAAAUke7fc0IAAATUBuBzQgAAPHcN4HNCAACukUTgc0IAACBgXuBzQgAA/gOR4HNCAAAwmdjgc0IAACrz3uBzQgAAiPT34HNCAAASAQfhc0IAAK6XPeFzQgAAHPxM4XNCAABqoVnhc0IAAPrrnOFzQgAAKlqz4XNCAADU+0jic0IAACyOx+JzQgAAlnr44nNCAACiCx/jc0IAAIwCL+NzQgAAphRO43NCAAC43L7jc0IAAPyhPORzQgAAuP5f5HNCAAA2Ow7lc0IAAE5yGeVzQgAA8i9s5XNCAABUonnlc0IAABihWudzQgAAEGxq53NCAACYvwboc0IAABiuPehzQgAApGvk6HNCAAAygDHqc0IAAPQvR+pzQgAACn1563NCAADkCLjsc0IAAEyWZ+1zQgAA5sYy7nNCAAC2wnDkc0IAAIjSqedzQgAA5sYy7nNC\",\"dtype\":\"float64\",\"order\":\"little\",\"shape\":[69]},\"index\":[1007,1008,1009,1010,1011,1012,1013,1014,1015,1016,1017,1018,1019,1020,1021,1022,1023,1024,1025,1026,1027,1028,1029,1030,1031,1032,1033,1034,1035,1036,1037,1038,1039,1040,1041,1042,1043,1044,1045,1046,1047,1048,1049,1050,1051,1052,1053,1054,1055,1056,1057,1058,1059,1060,1061,1062,1063,1064,1065,1066,1067,1068,1069,1070,1071,1072,2308,2309,2310],\"y_index\":[25,25,25,25,25,25,25,25,25,25,25,25,25,25,25,25,25,25,25,25,25,25,25,25,25,25,25,25,25,25,25,25,25,25,25,25,25,25,25,25,25,25,25,25,25,25,25,25,25,25,25,25,25,25,25,25,25,25,25,25,25,25,25,25,25,25,25,25,25]},\"selected\":{\"id\":\"9418\"},\"selection_policy\":{\"id\":\"9417\"}},\"id\":\"8650\",\"type\":\"ColumnDataSource\"},{\"attributes\":{\"fill_alpha\":{\"value\":0.1},\"fill_color\":{\"value\":\"#79D151\"},\"hatch_alpha\":{\"value\":0.1},\"hatch_color\":{\"value\":\"#79D151\"},\"line_alpha\":{\"value\":0.1},\"line_color\":{\"value\":\"#79D151\"},\"x\":{\"field\":\"date_time\"},\"y\":{\"field\":\"y_index\"}},\"id\":\"8997\",\"type\":\"Circle\"},{\"attributes\":{\"fill_color\":{\"value\":\"#79D151\"},\"hatch_color\":{\"value\":\"#79D151\"},\"line_color\":{\"value\":\"#79D151\"},\"x\":{\"field\":\"date_time\"},\"y\":{\"field\":\"y_index\"}},\"id\":\"8996\",\"type\":\"Circle\"},{\"attributes\":{\"source\":{\"id\":\"8669\"}},\"id\":\"8994\",\"type\":\"CDSView\"},{\"attributes\":{\"coordinates\":null,\"data_source\":{\"id\":\"8669\"},\"glyph\":{\"id\":\"8990\"},\"group\":null,\"hover_glyph\":null,\"muted_glyph\":{\"id\":\"8992\"},\"nonselection_glyph\":{\"id\":\"8991\"},\"view\":{\"id\":\"8994\"}},\"id\":\"8993\",\"type\":\"GlyphRenderer\"},{\"attributes\":{\"fill_alpha\":{\"value\":0.2},\"fill_color\":{\"value\":\"#70CE56\"},\"hatch_alpha\":{\"value\":0.2},\"hatch_color\":{\"value\":\"#70CE56\"},\"line_alpha\":{\"value\":0.2},\"line_color\":{\"value\":\"#70CE56\"},\"x\":{\"field\":\"date_time\"},\"y\":{\"field\":\"y_index\"}},\"id\":\"8992\",\"type\":\"Circle\"},{\"attributes\":{\"fill_alpha\":{\"value\":0.5},\"fill_color\":{\"value\":\"#3B518A\"},\"hatch_alpha\":{\"value\":0.5},\"hatch_color\":{\"value\":\"#3B518A\"},\"line_alpha\":{\"value\":0.5},\"line_color\":{\"value\":\"#3B518A\"},\"marker\":{\"value\":\"diamond\"},\"size\":{\"value\":10},\"x\":{\"field\":\"date_time\"},\"y\":{\"field\":\"y_index\"}},\"id\":\"9119\",\"type\":\"Scatter\"},{\"attributes\":{\"fill_alpha\":{\"value\":0.1},\"fill_color\":{\"value\":\"#86D449\"},\"hatch_alpha\":{\"value\":0.1},\"hatch_color\":{\"value\":\"#86D449\"},\"line_alpha\":{\"value\":0.1},\"line_color\":{\"value\":\"#86D449\"},\"x\":{\"field\":\"date_time\"},\"y\":{\"field\":\"y_index\"}},\"id\":\"9003\",\"type\":\"Circle\"},{\"attributes\":{\"fill_color\":{\"value\":\"#86D449\"},\"hatch_color\":{\"value\":\"#86D449\"},\"line_color\":{\"value\":\"#86D449\"},\"x\":{\"field\":\"date_time\"},\"y\":{\"field\":\"y_index\"}},\"id\":\"9002\",\"type\":\"Circle\"},{\"attributes\":{\"source\":{\"id\":\"8670\"}},\"id\":\"9000\",\"type\":\"CDSView\"},{\"attributes\":{},\"id\":\"8681\",\"type\":\"LinearScale\"},{\"attributes\":{\"coordinates\":null,\"data_source\":{\"id\":\"8670\"},\"glyph\":{\"id\":\"8996\"},\"group\":null,\"hover_glyph\":null,\"muted_glyph\":{\"id\":\"8998\"},\"nonselection_glyph\":{\"id\":\"8997\"},\"view\":{\"id\":\"9000\"}},\"id\":\"8999\",\"type\":\"GlyphRenderer\"},{\"attributes\":{\"fill_alpha\":{\"value\":0.2},\"fill_color\":{\"value\":\"#79D151\"},\"hatch_alpha\":{\"value\":0.2},\"hatch_color\":{\"value\":\"#79D151\"},\"line_alpha\":{\"value\":0.2},\"line_color\":{\"value\":\"#79D151\"},\"x\":{\"field\":\"date_time\"},\"y\":{\"field\":\"y_index\"}},\"id\":\"8998\",\"type\":\"Circle\"},{\"attributes\":{\"coordinates\":null,\"group\":null,\"text\":\"Timeline: Events\"},\"id\":\"8675\",\"type\":\"Title\"},{\"attributes\":{\"coordinates\":null,\"data_source\":{\"id\":\"8625\"},\"glyph\":{\"id\":\"9021\"},\"group\":null,\"hover_glyph\":null,\"muted_glyph\":{\"id\":\"9023\"},\"nonselection_glyph\":{\"id\":\"9022\"},\"view\":{\"id\":\"9025\"}},\"id\":\"9024\",\"type\":\"GlyphRenderer\"},{\"attributes\":{},\"id\":\"9425\",\"type\":\"UnionRenderers\"},{\"attributes\":{\"data\":{\"date_time\":{\"__ndarray__\":\"AABEOxnbc0IAANQra9tzQgAA7oK923NCAADYZA/cc0IAAJZCVdxzQgAAfFnB3HNCAADIHNDcc0IAAFgNIt1zQgAAVNp23XNCAACO97Xdc0IAAIrZyN1zQgAAuOhd3nNCAACg75vec0IAADpYt95zQgAAck7F3nNCAACscu7ec0IAAJj49N5zQgAAGEgH33NCAABubiHfc0IAAFheR99zQgAAhA9M33NCAAC2DFnfc0IAAL7Smd9zQgAAdnKr33NCAAB63LXfc0IAAP7h799zQgAApIFA4HNCAABY9ZDgc0IAAAhS3uBzQgAAJs4H4XNCAADuaErhc0IAAORRXOFzQgAACMCc4XNCAACoe6rhc0IAAJKbReJzQgAAqGMZ5XNCAABIHyflc0IAAMgNXuVzQgAAaMlr5XNCAAAS6ITlc0IAAKoiheVzQgAAooXP5XNCAAAAHyPmc0IAAPyeaedzQgAA9onA53NCAABYm/Lnc0IAAOQvDuhzQgAAqkJE6HNCAAAYBk3qc0IAAE65gepzQgAABkTV6nNCAAAIA0Hrc0IAAGCqfetzQgAA5kWY63NCAADUYI7sc0IAAAgPM+1zQgAAPDNx7XNCAACwuBvvc0IAALj2hOVzQgAAXrNu5HNCAACumXLmc0IAAMoQDOdzQgAA1ID653NCAAC8elXnc0IAAI5o7elzQgAAmt9N6HNCAADAnUrpc0IAAAJIietzQgAA3AQu7HNCAACUJsvtc0IAALC4G+9zQgAAqBtm73NCAACm0LHwc0I=\",\"dtype\":\"float64\",\"order\":\"little\",\"shape\":[73]},\"index\":[1073,1074,1075,1076,1077,1078,1079,1080,1081,1082,1083,1084,1085,1086,1087,1088,1089,1090,1091,1092,1093,1094,1095,1096,1097,1098,1099,1100,1101,1102,1103,1104,1105,1106,1107,1108,1109,1110,1111,1112,1113,1114,1115,1116,1117,1118,1119,1120,1121,1122,1123,1124,1125,1126,1127,1128,1129,1130,2146,2147,2148,2149,2150,2151,2152,2153,2154,2155,2156,2157,2158,2159,2160],\"y_index\":[26,26,26,26,26,26,26,26,26,26,26,26,26,26,26,26,26,26,26,26,26,26,26,26,26,26,26,26,26,26,26,26,26,26,26,26,26,26,26,26,26,26,26,26,26,26,26,26,26,26,26,26,26,26,26,26,26,26,26,26,26,26,26,26,26,26,26,26,26,26,26,26,26]},\"selected\":{\"id\":\"9420\"},\"selection_policy\":{\"id\":\"9419\"}},\"id\":\"8651\",\"type\":\"ColumnDataSource\"},{\"attributes\":{\"fill_alpha\":{\"value\":0.1},\"fill_color\":{\"value\":\"#92D741\"},\"hatch_alpha\":{\"value\":0.1},\"hatch_color\":{\"value\":\"#92D741\"},\"line_alpha\":{\"value\":0.1},\"line_color\":{\"value\":\"#92D741\"},\"x\":{\"field\":\"date_time\"},\"y\":{\"field\":\"y_index\"}},\"id\":\"9009\",\"type\":\"Circle\"},{\"attributes\":{\"fill_color\":{\"value\":\"#92D741\"},\"hatch_color\":{\"value\":\"#92D741\"},\"line_color\":{\"value\":\"#92D741\"},\"x\":{\"field\":\"date_time\"},\"y\":{\"field\":\"y_index\"}},\"id\":\"9008\",\"type\":\"Circle\"},{\"attributes\":{\"num_minor_ticks\":10,\"tickers\":[{\"id\":\"9464\"},{\"id\":\"9465\"},{\"id\":\"9466\"},{\"id\":\"9467\"},{\"id\":\"9468\"},{\"id\":\"9469\"},{\"id\":\"9470\"},{\"id\":\"9471\"},{\"id\":\"9472\"},{\"id\":\"9473\"},{\"id\":\"9474\"},{\"id\":\"9475\"}]},\"id\":\"8686\",\"type\":\"DatetimeTicker\"},{\"attributes\":{\"source\":{\"id\":\"8671\"}},\"id\":\"9006\",\"type\":\"CDSView\"},{\"attributes\":{},\"id\":\"9426\",\"type\":\"Selection\"},{\"attributes\":{\"coordinates\":null,\"formatter\":{\"id\":\"9361\"},\"group\":null,\"major_label_overrides\":{\"0\":\"u00\",\"1\":\"u01\",\"10\":\"u12\",\"11\":\"u14\",\"12\":\"u15\",\"13\":\"u16\",\"14\":\"u17\",\"15\":\"u18\",\"16\":\"u19\",\"17\":\"u20\",\"18\":\"u22\",\"19\":\"u23\",\"2\":\"u02\",\"20\":\"u24\",\"21\":\"u25\",\"22\":\"u27\",\"23\":\"u30\",\"24\":\"u31\",\"25\":\"u32\",\"26\":\"u33\",\"27\":\"u34\",\"28\":\"u35\",\"29\":\"u36\",\"3\":\"u03\",\"30\":\"u39\",\"31\":\"u41\",\"32\":\"u42\",\"33\":\"u43\",\"34\":\"u44\",\"35\":\"u45\",\"36\":\"u46\",\"37\":\"u47\",\"38\":\"u49\",\"39\":\"u50\",\"4\":\"u04\",\"40\":\"u51\",\"41\":\"u52\",\"42\":\"u53\",\"43\":\"u54\",\"44\":\"u56\",\"45\":\"u57\",\"46\":\"u58\",\"47\":\"u59\",\"5\":\"u05\",\"6\":\"u07\",\"7\":\"u08\",\"8\":\"u09\",\"9\":\"u10\"},\"major_label_policy\":{\"id\":\"9362\"},\"ticker\":{\"id\":\"8690\"}},\"id\":\"8689\",\"type\":\"LinearAxis\"},{\"attributes\":{\"coordinates\":null,\"data_source\":{\"id\":\"8671\"},\"glyph\":{\"id\":\"9002\"},\"group\":null,\"hover_glyph\":null,\"muted_glyph\":{\"id\":\"9004\"},\"nonselection_glyph\":{\"id\":\"9003\"},\"view\":{\"id\":\"9006\"}},\"id\":\"9005\",\"type\":\"GlyphRenderer\"},{\"attributes\":{},\"id\":\"9393\",\"type\":\"UnionRenderers\"},{\"attributes\":{\"fill_alpha\":{\"value\":0.2},\"fill_color\":{\"value\":\"#86D449\"},\"hatch_alpha\":{\"value\":0.2},\"hatch_color\":{\"value\":\"#86D449\"},\"line_alpha\":{\"value\":0.2},\"line_color\":{\"value\":\"#86D449\"},\"x\":{\"field\":\"date_time\"},\"y\":{\"field\":\"y_index\"}},\"id\":\"9004\",\"type\":\"Circle\"},{\"attributes\":{},\"id\":\"9394\",\"type\":\"Selection\"},{\"attributes\":{\"overlay\":{\"id\":\"9014\"},\"x_range\":{\"id\":\"8677\"},\"y_range\":null},\"id\":\"9013\",\"type\":\"RangeTool\"},{\"attributes\":{\"below\":[{\"id\":\"8717\"},{\"id\":\"8722\"}],\"center\":[{\"id\":\"8720\"}],\"height\":240,\"renderers\":[{\"id\":\"8729\"},{\"id\":\"8735\"},{\"id\":\"8741\"},{\"id\":\"8747\"},{\"id\":\"8753\"},{\"id\":\"8759\"},{\"id\":\"8765\"},{\"id\":\"8771\"},{\"id\":\"8777\"},{\"id\":\"8783\"},{\"id\":\"8789\"},{\"id\":\"8795\"},{\"id\":\"8801\"},{\"id\":\"8807\"},{\"id\":\"8813\"},{\"id\":\"8819\"},{\"id\":\"8825\"},{\"id\":\"8831\"},{\"id\":\"8837\"},{\"id\":\"8843\"},{\"id\":\"8849\"},{\"id\":\"8855\"},{\"id\":\"8861\"},{\"id\":\"8867\"},{\"id\":\"8873\"},{\"id\":\"8879\"},{\"id\":\"8885\"},{\"id\":\"8891\"},{\"id\":\"8897\"},{\"id\":\"8903\"},{\"id\":\"8909\"},{\"id\":\"8915\"},{\"id\":\"8921\"},{\"id\":\"8927\"},{\"id\":\"8933\"},{\"id\":\"8939\"},{\"id\":\"8945\"},{\"id\":\"8951\"},{\"id\":\"8957\"},{\"id\":\"8963\"},{\"id\":\"8969\"},{\"id\":\"8975\"},{\"id\":\"8981\"},{\"id\":\"8987\"},{\"id\":\"8993\"},{\"id\":\"8999\"},{\"id\":\"9005\"},{\"id\":\"9011\"}],\"title\":{\"id\":\"8707\"},\"toolbar\":{\"id\":\"8721\"},\"toolbar_location\":null,\"width\":900,\"x_range\":{\"id\":\"8709\"},\"x_scale\":{\"id\":\"8713\"},\"y_range\":{\"id\":\"8711\"},\"y_scale\":{\"id\":\"8715\"}},\"id\":\"8706\",\"subtype\":\"Figure\",\"type\":\"Plot\"},{\"attributes\":{\"source\":{\"id\":\"8672\"}},\"id\":\"9012\",\"type\":\"CDSView\"},{\"attributes\":{\"coordinates\":null,\"data_source\":{\"id\":\"8672\"},\"glyph\":{\"id\":\"9008\"},\"group\":null,\"hover_glyph\":null,\"muted_glyph\":{\"id\":\"9010\"},\"nonselection_glyph\":{\"id\":\"9009\"},\"view\":{\"id\":\"9012\"}},\"id\":\"9011\",\"type\":\"GlyphRenderer\"},{\"attributes\":{\"source\":{\"id\":\"8625\"}},\"id\":\"8730\",\"type\":\"CDSView\"},{\"attributes\":{\"fill_alpha\":{\"value\":0.2},\"fill_color\":{\"value\":\"#92D741\"},\"hatch_alpha\":{\"value\":0.2},\"hatch_color\":{\"value\":\"#92D741\"},\"line_alpha\":{\"value\":0.2},\"line_color\":{\"value\":\"#92D741\"},\"x\":{\"field\":\"date_time\"},\"y\":{\"field\":\"y_index\"}},\"id\":\"9010\",\"type\":\"Circle\"},{\"attributes\":{\"axis\":{\"id\":\"8689\"},\"coordinates\":null,\"dimension\":1,\"grid_line_color\":null,\"group\":null,\"ticker\":null},\"id\":\"8692\",\"type\":\"Grid\"},{\"attributes\":{\"coordinates\":null,\"fill_alpha\":0.2,\"fill_color\":\"navy\",\"group\":null,\"level\":\"overlay\",\"line_alpha\":1.0,\"line_color\":\"black\",\"line_dash\":[2,2],\"line_width\":0.5,\"syncable\":false},\"id\":\"9014\",\"type\":\"BoxAnnotation\"},{\"attributes\":{\"fill_alpha\":{\"value\":0.5},\"fill_color\":{\"value\":\"#440154\"},\"hatch_alpha\":{\"value\":0.5},\"hatch_color\":{\"value\":\"#440154\"},\"line_alpha\":{\"value\":0.5},\"line_color\":{\"value\":\"#440154\"},\"marker\":{\"value\":\"diamond\"},\"size\":{\"value\":10},\"x\":{\"field\":\"date_time\"},\"y\":{\"field\":\"y_index\"}},\"id\":\"9021\",\"type\":\"Scatter\"},{\"attributes\":{\"data\":{\"date_time\":{\"__ndarray__\":\"AAA4TxDcc0IAANRow9xzQgAAQs3S3HNCAAD672Ddc0IAAAKs5OBzQgAA/ntf5XNCAAAiw0nqc0I=\",\"dtype\":\"float64\",\"order\":\"little\",\"shape\":[7]},\"index\":[1131,1132,1133,1134,1135,1136,2426],\"y_index\":[27,27,27,27,27,27,27]},\"selected\":{\"id\":\"9422\"},\"selection_policy\":{\"id\":\"9421\"}},\"id\":\"8652\",\"type\":\"ColumnDataSource\"},{\"attributes\":{\"dimensions\":\"width\"},\"id\":\"8693\",\"type\":\"WheelZoomTool\"},{\"attributes\":{\"source\":{\"id\":\"8627\"}},\"id\":\"9039\",\"type\":\"CDSView\"},{\"attributes\":{\"fill_alpha\":{\"value\":0.5},\"fill_color\":{\"value\":\"#471466\"},\"hatch_alpha\":{\"value\":0.5},\"hatch_color\":{\"value\":\"#471466\"},\"line_alpha\":{\"value\":0.5},\"line_color\":{\"value\":\"#471466\"},\"marker\":{\"value\":\"diamond\"},\"size\":{\"value\":10},\"x\":{\"field\":\"date_time\"},\"y\":{\"field\":\"y_index\"}},\"id\":\"9042\",\"type\":\"Scatter\"},{\"attributes\":{\"overlay\":{\"id\":\"8698\"}},\"id\":\"8694\",\"type\":\"BoxZoomTool\"},{\"attributes\":{},\"id\":\"9427\",\"type\":\"UnionRenderers\"},{\"attributes\":{\"fill_alpha\":{\"value\":0.2},\"fill_color\":{\"value\":\"#3D4C89\"},\"hatch_alpha\":{\"value\":0.2},\"hatch_color\":{\"value\":\"#3D4C89\"},\"line_alpha\":{\"value\":0.2},\"line_color\":{\"value\":\"#3D4C89\"},\"marker\":{\"value\":\"diamond\"},\"size\":{\"value\":10},\"x\":{\"field\":\"date_time\"},\"y\":{\"field\":\"y_index\"}},\"id\":\"9114\",\"type\":\"Scatter\"},{\"attributes\":{\"fill_alpha\":{\"value\":0.2},\"fill_color\":{\"value\":\"#471466\"},\"hatch_alpha\":{\"value\":0.2},\"hatch_color\":{\"value\":\"#471466\"},\"line_alpha\":{\"value\":0.2},\"line_color\":{\"value\":\"#471466\"},\"marker\":{\"value\":\"diamond\"},\"size\":{\"value\":10},\"x\":{\"field\":\"date_time\"},\"y\":{\"field\":\"y_index\"}},\"id\":\"9044\",\"type\":\"Scatter\"},{\"attributes\":{\"source\":{\"id\":\"8650\"}},\"id\":\"9200\",\"type\":\"CDSView\"},{\"attributes\":{},\"id\":\"9428\",\"type\":\"Selection\"},{\"attributes\":{\"end\":1371264672000.0,\"start\":1363571328000.0},\"id\":\"8677\",\"type\":\"Range1d\"},{\"attributes\":{\"coordinates\":null,\"data_source\":{\"id\":\"8628\"},\"glyph\":{\"id\":\"9042\"},\"group\":null,\"hover_glyph\":null,\"muted_glyph\":{\"id\":\"9044\"},\"nonselection_glyph\":{\"id\":\"9043\"},\"view\":{\"id\":\"9046\"}},\"id\":\"9045\",\"type\":\"GlyphRenderer\"},{\"attributes\":{},\"id\":\"9395\",\"type\":\"UnionRenderers\"},{\"attributes\":{\"fill_alpha\":{\"value\":0.1},\"fill_color\":{\"value\":\"#481A6C\"},\"hatch_alpha\":{\"value\":0.1},\"hatch_color\":{\"value\":\"#481A6C\"},\"line_alpha\":{\"value\":0.1},\"line_color\":{\"value\":\"#481A6C\"},\"marker\":{\"value\":\"diamond\"},\"size\":{\"value\":10},\"x\":{\"field\":\"date_time\"},\"y\":{\"field\":\"y_index\"}},\"id\":\"9050\",\"type\":\"Scatter\"},{\"attributes\":{\"dimensions\":\"width\"},\"id\":\"8697\",\"type\":\"PanTool\"},{\"attributes\":{\"label\":{\"value\":\"u03\"},\"renderers\":[{\"id\":\"9045\"}]},\"id\":\"9047\",\"type\":\"LegendItem\"},{\"attributes\":{},\"id\":\"8683\",\"type\":\"LinearScale\"},{\"attributes\":{},\"id\":\"9396\",\"type\":\"Selection\"},{\"attributes\":{\"source\":{\"id\":\"8628\"}},\"id\":\"9046\",\"type\":\"CDSView\"},{\"attributes\":{\"fill_alpha\":{\"value\":0.5},\"fill_color\":{\"value\":\"#481A6C\"},\"hatch_alpha\":{\"value\":0.5},\"hatch_color\":{\"value\":\"#481A6C\"},\"line_alpha\":{\"value\":0.5},\"line_color\":{\"value\":\"#481A6C\"},\"marker\":{\"value\":\"diamond\"},\"size\":{\"value\":10},\"x\":{\"field\":\"date_time\"},\"y\":{\"field\":\"y_index\"}},\"id\":\"9049\",\"type\":\"Scatter\"},{\"attributes\":{},\"id\":\"8696\",\"type\":\"SaveTool\"},{\"attributes\":{\"end\":47.020833333333336,\"start\":-0.020833333333333332},\"id\":\"8679\",\"type\":\"Range1d\"},{\"attributes\":{\"fill_alpha\":{\"value\":0.2},\"fill_color\":{\"value\":\"#481A6C\"},\"hatch_alpha\":{\"value\":0.2},\"hatch_color\":{\"value\":\"#481A6C\"},\"line_alpha\":{\"value\":0.2},\"line_color\":{\"value\":\"#481A6C\"},\"marker\":{\"value\":\"diamond\"},\"size\":{\"value\":10},\"x\":{\"field\":\"date_time\"},\"y\":{\"field\":\"y_index\"}},\"id\":\"9051\",\"type\":\"Scatter\"},{\"attributes\":{},\"id\":\"8695\",\"type\":\"ResetTool\"},{\"attributes\":{\"coordinates\":null,\"data_source\":{\"id\":\"8650\"},\"glyph\":{\"id\":\"9196\"},\"group\":null,\"hover_glyph\":null,\"muted_glyph\":{\"id\":\"9198\"},\"nonselection_glyph\":{\"id\":\"9197\"},\"view\":{\"id\":\"9200\"}},\"id\":\"9199\",\"type\":\"GlyphRenderer\"},{\"attributes\":{\"coordinates\":null,\"data_source\":{\"id\":\"8629\"},\"glyph\":{\"id\":\"9049\"},\"group\":null,\"hover_glyph\":null,\"muted_glyph\":{\"id\":\"9051\"},\"nonselection_glyph\":{\"id\":\"9050\"},\"view\":{\"id\":\"9053\"}},\"id\":\"9052\",\"type\":\"GlyphRenderer\"},{\"attributes\":{},\"id\":\"8690\",\"type\":\"BasicTicker\"},{\"attributes\":{\"below\":[{\"id\":\"8685\"}],\"center\":[{\"id\":\"8688\"},{\"id\":\"8692\"}],\"height\":1200,\"left\":[{\"id\":\"8689\"},{\"id\":\"9356\"}],\"min_border_left\":50,\"renderers\":[{\"id\":\"9024\"},{\"id\":\"9031\"},{\"id\":\"9038\"},{\"id\":\"9045\"},{\"id\":\"9052\"},{\"id\":\"9059\"},{\"id\":\"9066\"},{\"id\":\"9073\"},{\"id\":\"9080\"},{\"id\":\"9087\"},{\"id\":\"9094\"},{\"id\":\"9101\"},{\"id\":\"9108\"},{\"id\":\"9115\"},{\"id\":\"9122\"},{\"id\":\"9129\"},{\"id\":\"9136\"},{\"id\":\"9143\"},{\"id\":\"9150\"},{\"id\":\"9157\"},{\"id\":\"9164\"},{\"id\":\"9171\"},{\"id\":\"9178\"},{\"id\":\"9185\"},{\"id\":\"9192\"},{\"id\":\"9199\"},{\"id\":\"9206\"},{\"id\":\"9213\"},{\"id\":\"9220\"},{\"id\":\"9227\"},{\"id\":\"9234\"},{\"id\":\"9241\"},{\"id\":\"9248\"},{\"id\":\"9255\"},{\"id\":\"9262\"},{\"id\":\"9269\"},{\"id\":\"9276\"},{\"id\":\"9283\"},{\"id\":\"9290\"},{\"id\":\"9297\"},{\"id\":\"9304\"},{\"id\":\"9311\"},{\"id\":\"9318\"},{\"id\":\"9325\"},{\"id\":\"9332\"},{\"id\":\"9339\"},{\"id\":\"9346\"},{\"id\":\"9353\"}],\"title\":{\"id\":\"8675\"},\"toolbar\":{\"id\":\"8699\"},\"width\":900,\"x_range\":{\"id\":\"8677\"},\"x_scale\":{\"id\":\"8681\"},\"y_range\":{\"id\":\"8679\"},\"y_scale\":{\"id\":\"8683\"}},\"id\":\"8674\",\"subtype\":\"Figure\",\"type\":\"Plot\"},{\"attributes\":{\"fill_alpha\":{\"value\":0.1},\"fill_color\":{\"value\":\"#482071\"},\"hatch_alpha\":{\"value\":0.1},\"hatch_color\":{\"value\":\"#482071\"},\"line_alpha\":{\"value\":0.1},\"line_color\":{\"value\":\"#482071\"},\"marker\":{\"value\":\"diamond\"},\"size\":{\"value\":10},\"x\":{\"field\":\"date_time\"},\"y\":{\"field\":\"y_index\"}},\"id\":\"9057\",\"type\":\"Scatter\"},{\"attributes\":{\"label\":{\"value\":\"u04\"},\"renderers\":[{\"id\":\"9052\"}]},\"id\":\"9054\",\"type\":\"LegendItem\"},{\"attributes\":{\"source\":{\"id\":\"8629\"}},\"id\":\"9053\",\"type\":\"CDSView\"},{\"attributes\":{\"end\":1371585228000.0,\"start\":1363250772000.0},\"id\":\"8709\",\"type\":\"Range1d\"},{\"attributes\":{\"fill_alpha\":{\"value\":0.5},\"fill_color\":{\"value\":\"#482071\"},\"hatch_alpha\":{\"value\":0.5},\"hatch_color\":{\"value\":\"#482071\"},\"line_alpha\":{\"value\":0.5},\"line_color\":{\"value\":\"#482071\"},\"marker\":{\"value\":\"diamond\"},\"size\":{\"value\":10},\"x\":{\"field\":\"date_time\"},\"y\":{\"field\":\"y_index\"}},\"id\":\"9056\",\"type\":\"Scatter\"},{\"attributes\":{\"align\":\"right\",\"coordinates\":null,\"group\":null,\"text\":\"Drag the middle or edges of the selection box to change the range in the main chart\",\"text_font_size\":\"10px\"},\"id\":\"8722\",\"type\":\"Title\"},{\"attributes\":{\"source\":{\"id\":\"8637\"}},\"id\":\"9109\",\"type\":\"CDSView\"},{\"attributes\":{},\"id\":\"9429\",\"type\":\"UnionRenderers\"},{\"attributes\":{\"fill_alpha\":{\"value\":0.2},\"fill_color\":{\"value\":\"#482071\"},\"hatch_alpha\":{\"value\":0.2},\"hatch_color\":{\"value\":\"#482071\"},\"line_alpha\":{\"value\":0.2},\"line_color\":{\"value\":\"#482071\"},\"marker\":{\"value\":\"diamond\"},\"size\":{\"value\":10},\"x\":{\"field\":\"date_time\"},\"y\":{\"field\":\"y_index\"}},\"id\":\"9058\",\"type\":\"Scatter\"},{\"attributes\":{\"fill_alpha\":{\"value\":0.2},\"fill_color\":{\"value\":\"#440154\"},\"hatch_alpha\":{\"value\":0.2},\"hatch_color\":{\"value\":\"#440154\"},\"line_alpha\":{\"value\":0.2},\"line_color\":{\"value\":\"#440154\"},\"x\":{\"field\":\"date_time\"},\"y\":{\"field\":\"y_index\"}},\"id\":\"8728\",\"type\":\"Circle\"},{\"attributes\":{\"fill_alpha\":{\"value\":0.5},\"fill_color\":{\"value\":\"#3D4C89\"},\"hatch_alpha\":{\"value\":0.5},\"hatch_color\":{\"value\":\"#3D4C89\"},\"line_alpha\":{\"value\":0.5},\"line_color\":{\"value\":\"#3D4C89\"},\"marker\":{\"value\":\"diamond\"},\"size\":{\"value\":10},\"x\":{\"field\":\"date_time\"},\"y\":{\"field\":\"y_index\"}},\"id\":\"9112\",\"type\":\"Scatter\"},{\"attributes\":{\"coordinates\":null,\"data_source\":{\"id\":\"8630\"},\"glyph\":{\"id\":\"9056\"},\"group\":null,\"hover_glyph\":null,\"muted_glyph\":{\"id\":\"9058\"},\"nonselection_glyph\":{\"id\":\"9057\"},\"view\":{\"id\":\"9060\"}},\"id\":\"9059\",\"type\":\"GlyphRenderer\"},{\"attributes\":{},\"id\":\"9430\",\"type\":\"Selection\"},{\"attributes\":{\"fill_alpha\":{\"value\":0.5},\"fill_color\":{\"value\":\"#472676\"},\"hatch_alpha\":{\"value\":0.5},\"hatch_color\":{\"value\":\"#472676\"},\"line_alpha\":{\"value\":0.5},\"line_color\":{\"value\":\"#472676\"},\"marker\":{\"value\":\"diamond\"},\"size\":{\"value\":10},\"x\":{\"field\":\"date_time\"},\"y\":{\"field\":\"y_index\"}},\"id\":\"9063\",\"type\":\"Scatter\"},{\"attributes\":{\"fill_color\":{\"value\":\"#440154\"},\"hatch_color\":{\"value\":\"#440154\"},\"line_color\":{\"value\":\"#440154\"},\"x\":{\"field\":\"date_time\"},\"y\":{\"field\":\"y_index\"}},\"id\":\"8726\",\"type\":\"Circle\"},{\"attributes\":{},\"id\":\"9397\",\"type\":\"UnionRenderers\"},{\"attributes\":{\"label\":{\"value\":\"u05\"},\"renderers\":[{\"id\":\"9059\"}]},\"id\":\"9061\",\"type\":\"LegendItem\"},{\"attributes\":{\"source\":{\"id\":\"8630\"}},\"id\":\"9060\",\"type\":\"CDSView\"},{\"attributes\":{},\"id\":\"9398\",\"type\":\"Selection\"},{\"attributes\":{\"active_multi\":{\"id\":\"9013\"},\"tools\":[{\"id\":\"9013\"}]},\"id\":\"8721\",\"type\":\"Toolbar\"},{\"attributes\":{\"fill_alpha\":{\"value\":0.1},\"fill_color\":{\"value\":\"#472676\"},\"hatch_alpha\":{\"value\":0.1},\"hatch_color\":{\"value\":\"#472676\"},\"line_alpha\":{\"value\":0.1},\"line_color\":{\"value\":\"#472676\"},\"marker\":{\"value\":\"diamond\"},\"size\":{\"value\":10},\"x\":{\"field\":\"date_time\"},\"y\":{\"field\":\"y_index\"}},\"id\":\"9064\",\"type\":\"Scatter\"},{\"attributes\":{\"fill_alpha\":{\"value\":0.1},\"fill_color\":{\"value\":\"#440154\"},\"hatch_alpha\":{\"value\":0.1},\"hatch_color\":{\"value\":\"#440154\"},\"line_alpha\":{\"value\":0.1},\"line_color\":{\"value\":\"#440154\"},\"x\":{\"field\":\"date_time\"},\"y\":{\"field\":\"y_index\"}},\"id\":\"8727\",\"type\":\"Circle\"},{\"attributes\":{\"coordinates\":null,\"data_source\":{\"id\":\"8625\"},\"glyph\":{\"id\":\"8726\"},\"group\":null,\"hover_glyph\":null,\"muted_glyph\":{\"id\":\"8728\"},\"nonselection_glyph\":{\"id\":\"8727\"},\"view\":{\"id\":\"8730\"}},\"id\":\"8729\",\"type\":\"GlyphRenderer\"},{\"attributes\":{\"fill_alpha\":{\"value\":0.2},\"fill_color\":{\"value\":\"#472676\"},\"hatch_alpha\":{\"value\":0.2},\"hatch_color\":{\"value\":\"#472676\"},\"line_alpha\":{\"value\":0.2},\"line_color\":{\"value\":\"#472676\"},\"marker\":{\"value\":\"diamond\"},\"size\":{\"value\":10},\"x\":{\"field\":\"date_time\"},\"y\":{\"field\":\"y_index\"}},\"id\":\"9065\",\"type\":\"Scatter\"},{\"attributes\":{\"axis\":{\"id\":\"8717\"},\"coordinates\":null,\"group\":null,\"ticker\":null},\"id\":\"8720\",\"type\":\"Grid\"},{\"attributes\":{\"label\":{\"value\":\"u15\"},\"renderers\":[{\"id\":\"9108\"}]},\"id\":\"9110\",\"type\":\"LegendItem\"},{\"attributes\":{\"coordinates\":null,\"data_source\":{\"id\":\"8631\"},\"glyph\":{\"id\":\"9063\"},\"group\":null,\"hover_glyph\":null,\"muted_glyph\":{\"id\":\"9065\"},\"nonselection_glyph\":{\"id\":\"9064\"},\"view\":{\"id\":\"9067\"}},\"id\":\"9066\",\"type\":\"GlyphRenderer\"},{\"attributes\":{\"coordinates\":null,\"formatter\":{\"id\":\"8723\"},\"group\":null,\"major_label_policy\":{\"id\":\"9366\"},\"ticker\":{\"id\":\"8718\"}},\"id\":\"8717\",\"type\":\"DatetimeAxis\"},{\"attributes\":{\"fill_alpha\":{\"value\":0.5},\"fill_color\":{\"value\":\"#472B7A\"},\"hatch_alpha\":{\"value\":0.5},\"hatch_color\":{\"value\":\"#472B7A\"},\"line_alpha\":{\"value\":0.5},\"line_color\":{\"value\":\"#472B7A\"},\"marker\":{\"value\":\"diamond\"},\"size\":{\"value\":10},\"x\":{\"field\":\"date_time\"},\"y\":{\"field\":\"y_index\"}},\"id\":\"9070\",\"type\":\"Scatter\"},{\"attributes\":{},\"id\":\"8713\",\"type\":\"LinearScale\"},{\"attributes\":{\"label\":{\"value\":\"u07\"},\"renderers\":[{\"id\":\"9066\"}]},\"id\":\"9068\",\"type\":\"LegendItem\"},{\"attributes\":{\"source\":{\"id\":\"8631\"}},\"id\":\"9067\",\"type\":\"CDSView\"},{\"attributes\":{\"fill_alpha\":{\"value\":0.1},\"fill_color\":{\"value\":\"#472B7A\"},\"hatch_alpha\":{\"value\":0.1},\"hatch_color\":{\"value\":\"#472B7A\"},\"line_alpha\":{\"value\":0.1},\"line_color\":{\"value\":\"#472B7A\"},\"marker\":{\"value\":\"diamond\"},\"size\":{\"value\":10},\"x\":{\"field\":\"date_time\"},\"y\":{\"field\":\"y_index\"}},\"id\":\"9071\",\"type\":\"Scatter\"},{\"attributes\":{\"fill_alpha\":{\"value\":0.1},\"fill_color\":{\"value\":\"#3D4C89\"},\"hatch_alpha\":{\"value\":0.1},\"hatch_color\":{\"value\":\"#3D4C89\"},\"line_alpha\":{\"value\":0.1},\"line_color\":{\"value\":\"#3D4C89\"},\"marker\":{\"value\":\"diamond\"},\"size\":{\"value\":10},\"x\":{\"field\":\"date_time\"},\"y\":{\"field\":\"y_index\"}},\"id\":\"9113\",\"type\":\"Scatter\"},{\"attributes\":{\"fill_alpha\":{\"value\":0.2},\"fill_color\":{\"value\":\"#472B7A\"},\"hatch_alpha\":{\"value\":0.2},\"hatch_color\":{\"value\":\"#472B7A\"},\"line_alpha\":{\"value\":0.2},\"line_color\":{\"value\":\"#472B7A\"},\"marker\":{\"value\":\"diamond\"},\"size\":{\"value\":10},\"x\":{\"field\":\"date_time\"},\"y\":{\"field\":\"y_index\"}},\"id\":\"9072\",\"type\":\"Scatter\"},{\"attributes\":{},\"id\":\"9431\",\"type\":\"UnionRenderers\"},{\"attributes\":{\"coordinates\":null,\"data_source\":{\"id\":\"8637\"},\"glyph\":{\"id\":\"9105\"},\"group\":null,\"hover_glyph\":null,\"muted_glyph\":{\"id\":\"9107\"},\"nonselection_glyph\":{\"id\":\"9106\"},\"view\":{\"id\":\"9109\"}},\"id\":\"9108\",\"type\":\"GlyphRenderer\"},{\"attributes\":{\"coordinates\":null,\"data_source\":{\"id\":\"8632\"},\"glyph\":{\"id\":\"9070\"},\"group\":null,\"hover_glyph\":null,\"muted_glyph\":{\"id\":\"9072\"},\"nonselection_glyph\":{\"id\":\"9071\"},\"view\":{\"id\":\"9074\"}},\"id\":\"9073\",\"type\":\"GlyphRenderer\"},{\"attributes\":{},\"id\":\"8715\",\"type\":\"LinearScale\"},{\"attributes\":{\"coordinates\":null,\"group\":null,\"text\":\"Range Selector\"},\"id\":\"8707\",\"type\":\"Title\"},{\"attributes\":{\"fill_alpha\":{\"value\":0.1},\"fill_color\":{\"value\":\"#46317E\"},\"hatch_alpha\":{\"value\":0.1},\"hatch_color\":{\"value\":\"#46317E\"},\"line_alpha\":{\"value\":0.1},\"line_color\":{\"value\":\"#46317E\"},\"marker\":{\"value\":\"diamond\"},\"size\":{\"value\":10},\"x\":{\"field\":\"date_time\"},\"y\":{\"field\":\"y_index\"}},\"id\":\"9078\",\"type\":\"Scatter\"},{\"attributes\":{\"data\":{\"date_time\":{\"__ndarray__\":\"AAAY/7zbc0IAAOwxENxzQgAAHlG+3HNCAABIxtPcc0IAAPxADt1zQgAA1J8i3XNCAAAwV3jdc0IAAJbStN1zQgAA6OHL3XNCAAAo+Avec0IAABbxYN5zQgAAPm+63nNCAAB4R8bec0IAAFBF/95zQgAAiNNH33NCAACoI5vfc0IAAIKp4N9zQgAACJ/s33NCAAAYTgDgc0IAAPgfTuBzQgAAPoKW4HNCAACs0efgc0IAABhU+eBzQgAAahAJ4XNCAAB4z0rhc0IAAJI7W+FzQgAAQuuv4XNCAADuFFLic0IAAGLlKOVzQgAA8txk5XNCAAACOXHlc0IAAComeuVzQgAAOsDP5XNCAACst3Tmc0IAABhHaedzQgAARmu853NCAAByb8jnc0IAABY77+dzQgAAMtUa6HNCAAB4mD7oc0IAAFS0ZOhzQgAANiGb6nNCAAA8stbqc0IAAO6r7upzQgAAlFIp63NCAADQskHrc0IAAO7UeetzQgAAGtKb63NCAAC0M83rc0IAAHi+9utzQgAAaE0s7HNCAAAuBnHsc0IAALT0kuxzQgAAQvz87HNCAAAQRCPtc0IAAHIJOO1zQgAAJmNv5HNCAACS0MLkc0IAAKy3dOZzQgAA2juy53NCAACyw1Hoc0IAALLf+edzQgAAQLb96HNCAADWKqjoc0IAAHZGoOlzQgAA3sSK63NCAACU/jDsc0IAACKe1exzQgAAnsEm7XNCAAB47Xrtc0IAAACUHu5zQgAAAnwV73NC\",\"dtype\":\"float64\",\"order\":\"little\",\"shape\":[72]},\"index\":[1176,1177,1178,1179,1180,1181,1182,1183,1184,1185,1186,1187,1188,1189,1190,1191,1192,1193,1194,1195,1196,1197,1198,1199,1200,1201,1202,1203,1204,1205,1206,1207,1208,1209,1210,1211,1212,1213,1214,1215,1216,1217,1218,1219,1220,1221,1222,1223,1224,1225,1226,1227,1228,1229,1230,1231,2435,2436,2437,2438,2439,2440,2441,2442,2443,2444,2445,2446,2447,2448,2449,2450],\"y_index\":[29,29,29,29,29,29,29,29,29,29,29,29,29,29,29,29,29,29,29,29,29,29,29,29,29,29,29,29,29,29,29,29,29,29,29,29,29,29,29,29,29,29,29,29,29,29,29,29,29,29,29,29,29,29,29,29,29,29,29,29,29,29,29,29,29,29,29,29,29,29,29,29]},\"selected\":{\"id\":\"9426\"},\"selection_policy\":{\"id\":\"9425\"}},\"id\":\"8654\",\"type\":\"ColumnDataSource\"},{\"attributes\":{\"label\":{\"value\":\"u08\"},\"renderers\":[{\"id\":\"9073\"}]},\"id\":\"9075\",\"type\":\"LegendItem\"},{\"attributes\":{},\"id\":\"9399\",\"type\":\"UnionRenderers\"},{\"attributes\":{},\"id\":\"9432\",\"type\":\"Selection\"},{\"attributes\":{\"coordinates\":null,\"data_source\":{\"id\":\"8639\"},\"glyph\":{\"id\":\"8810\"},\"group\":null,\"hover_glyph\":null,\"muted_glyph\":{\"id\":\"8812\"},\"nonselection_glyph\":{\"id\":\"8811\"},\"view\":{\"id\":\"8814\"}},\"id\":\"8813\",\"type\":\"GlyphRenderer\"},{\"attributes\":{\"source\":{\"id\":\"8632\"}},\"id\":\"9074\",\"type\":\"CDSView\"},{\"attributes\":{\"fill_alpha\":{\"value\":0.2},\"fill_color\":{\"value\":\"#3B518A\"},\"hatch_alpha\":{\"value\":0.2},\"hatch_color\":{\"value\":\"#3B518A\"},\"line_alpha\":{\"value\":0.2},\"line_color\":{\"value\":\"#3B518A\"},\"x\":{\"field\":\"date_time\"},\"y\":{\"field\":\"y_index\"}},\"id\":\"8812\",\"type\":\"Circle\"},{\"attributes\":{\"fill_alpha\":{\"value\":0.5},\"fill_color\":{\"value\":\"#46317E\"},\"hatch_alpha\":{\"value\":0.5},\"hatch_color\":{\"value\":\"#46317E\"},\"line_alpha\":{\"value\":0.5},\"line_color\":{\"value\":\"#46317E\"},\"marker\":{\"value\":\"diamond\"},\"size\":{\"value\":10},\"x\":{\"field\":\"date_time\"},\"y\":{\"field\":\"y_index\"}},\"id\":\"9077\",\"type\":\"Scatter\"},{\"attributes\":{},\"id\":\"9400\",\"type\":\"Selection\"},{\"attributes\":{\"data\":{\"date_time\":{\"__ndarray__\":\"AACIgxPcc0IAALJYE91zQgAAWA0i3XNCAACqS73ec0IAAJiPPuBzQgAAIKWR4HNCAAASW/jgc0IAAKZmZORzQgAAqGMZ5XNCAABmM4vlc0IAAOa3GuhzQgAAAMlI6XNCAAAo9Jrpc0I=\",\"dtype\":\"float64\",\"order\":\"little\",\"shape\":[13]},\"index\":[1239,1240,1241,1242,1243,1244,1245,1246,1247,1248,1249,2427,2428],\"y_index\":[31,31,31,31,31,31,31,31,31,31,31,31,31]},\"selected\":{\"id\":\"9430\"},\"selection_policy\":{\"id\":\"9429\"}},\"id\":\"8656\",\"type\":\"ColumnDataSource\"},{\"attributes\":{\"fill_alpha\":{\"value\":0.1},\"fill_color\":{\"value\":\"#3F4788\"},\"hatch_alpha\":{\"value\":0.1},\"hatch_color\":{\"value\":\"#3F4788\"},\"line_alpha\":{\"value\":0.1},\"line_color\":{\"value\":\"#3F4788\"},\"marker\":{\"value\":\"diamond\"},\"size\":{\"value\":10},\"x\":{\"field\":\"date_time\"},\"y\":{\"field\":\"y_index\"}},\"id\":\"9106\",\"type\":\"Scatter\"},{\"attributes\":{\"fill_alpha\":{\"value\":0.2},\"fill_color\":{\"value\":\"#46317E\"},\"hatch_alpha\":{\"value\":0.2},\"hatch_color\":{\"value\":\"#46317E\"},\"line_alpha\":{\"value\":0.2},\"line_color\":{\"value\":\"#46317E\"},\"marker\":{\"value\":\"diamond\"},\"size\":{\"value\":10},\"x\":{\"field\":\"date_time\"},\"y\":{\"field\":\"y_index\"}},\"id\":\"9079\",\"type\":\"Scatter\"},{\"attributes\":{\"fill_alpha\":{\"value\":0.2},\"fill_color\":{\"value\":\"#3F4788\"},\"hatch_alpha\":{\"value\":0.2},\"hatch_color\":{\"value\":\"#3F4788\"},\"line_alpha\":{\"value\":0.2},\"line_color\":{\"value\":\"#3F4788\"},\"marker\":{\"value\":\"diamond\"},\"size\":{\"value\":10},\"x\":{\"field\":\"date_time\"},\"y\":{\"field\":\"y_index\"}},\"id\":\"9107\",\"type\":\"Scatter\"},{\"attributes\":{\"coordinates\":null,\"data_source\":{\"id\":\"8633\"},\"glyph\":{\"id\":\"9077\"},\"group\":null,\"hover_glyph\":null,\"muted_glyph\":{\"id\":\"9079\"},\"nonselection_glyph\":{\"id\":\"9078\"},\"view\":{\"id\":\"9081\"}},\"id\":\"9080\",\"type\":\"GlyphRenderer\"},{\"attributes\":{},\"id\":\"8711\",\"type\":\"DataRange1d\"},{\"attributes\":{\"fill_alpha\":{\"value\":0.1},\"fill_color\":{\"value\":\"#453681\"},\"hatch_alpha\":{\"value\":0.1},\"hatch_color\":{\"value\":\"#453681\"},\"line_alpha\":{\"value\":0.1},\"line_color\":{\"value\":\"#453681\"},\"marker\":{\"value\":\"diamond\"},\"size\":{\"value\":10},\"x\":{\"field\":\"date_time\"},\"y\":{\"field\":\"y_index\"}},\"id\":\"9085\",\"type\":\"Scatter\"},{\"attributes\":{\"label\":{\"value\":\"u09\"},\"renderers\":[{\"id\":\"9080\"}]},\"id\":\"9082\",\"type\":\"LegendItem\"},{\"attributes\":{\"source\":{\"id\":\"8633\"}},\"id\":\"9081\",\"type\":\"CDSView\"},{\"attributes\":{\"fill_alpha\":{\"value\":0.5},\"fill_color\":{\"value\":\"#453681\"},\"hatch_alpha\":{\"value\":0.5},\"hatch_color\":{\"value\":\"#453681\"},\"line_alpha\":{\"value\":0.5},\"line_color\":{\"value\":\"#453681\"},\"marker\":{\"value\":\"diamond\"},\"size\":{\"value\":10},\"x\":{\"field\":\"date_time\"},\"y\":{\"field\":\"y_index\"}},\"id\":\"9084\",\"type\":\"Scatter\"},{\"attributes\":{\"num_minor_ticks\":5,\"tickers\":[{\"id\":\"9477\"},{\"id\":\"9478\"},{\"id\":\"9479\"},{\"id\":\"9480\"},{\"id\":\"9481\"},{\"id\":\"9482\"},{\"id\":\"9483\"},{\"id\":\"9484\"},{\"id\":\"9485\"},{\"id\":\"9486\"},{\"id\":\"9487\"},{\"id\":\"9488\"}]},\"id\":\"8718\",\"type\":\"DatetimeTicker\"},{\"attributes\":{\"coordinates\":null,\"data_source\":{\"id\":\"8634\"},\"glyph\":{\"id\":\"9084\"},\"group\":null,\"hover_glyph\":null,\"muted_glyph\":{\"id\":\"9086\"},\"nonselection_glyph\":{\"id\":\"9085\"},\"view\":{\"id\":\"9088\"}},\"id\":\"9087\",\"type\":\"GlyphRenderer\"},{\"attributes\":{\"fill_alpha\":{\"value\":0.2},\"fill_color\":{\"value\":\"#453681\"},\"hatch_alpha\":{\"value\":0.2},\"hatch_color\":{\"value\":\"#453681\"},\"line_alpha\":{\"value\":0.2},\"line_color\":{\"value\":\"#453681\"},\"marker\":{\"value\":\"diamond\"},\"size\":{\"value\":10},\"x\":{\"field\":\"date_time\"},\"y\":{\"field\":\"y_index\"}},\"id\":\"9086\",\"type\":\"Scatter\"},{\"attributes\":{\"fill_alpha\":{\"value\":0.2},\"fill_color\":{\"value\":\"#25828E\"},\"hatch_alpha\":{\"value\":0.2},\"hatch_color\":{\"value\":\"#25828E\"},\"line_alpha\":{\"value\":0.2},\"line_color\":{\"value\":\"#25828E\"},\"marker\":{\"value\":\"diamond\"},\"size\":{\"value\":10},\"x\":{\"field\":\"date_time\"},\"y\":{\"field\":\"y_index\"}},\"id\":\"9198\",\"type\":\"Scatter\"}],\"root_ids\":[\"9357\"]},\"title\":\"Bokeh Application\",\"version\":\"2.4.3\"}};\n  const render_items = [{\"docid\":\"71302433-19ff-44e3-9739-f0cf0130f8fd\",\"root_ids\":[\"9357\"],\"roots\":{\"9357\":\"5bd8c0ec-aa3a-4bf9-b7f6-816f0c694345\"}}];\n  root.Bokeh.embed.embed_items_notebook(docs_json, render_items);\n  }\n  if (root.Bokeh !== undefined) {\n    embed_document(root);\n  } else {\n    let attempts = 0;\n    const timer = setInterval(function(root) {\n      if (root.Bokeh !== undefined) {\n        clearInterval(timer);\n        embed_document(root);\n      } else {\n        attempts++;\n        if (attempts > 100) {\n          clearInterval(timer);\n          console.log(\"Bokeh: ERROR: Unable to run BokehJS code because BokehJS library is missing\");\n        }\n      }\n    }, 10, root)\n  }\n})(window);",
      "application/vnd.bokehjs_exec.v0+json": ""
     },
     "metadata": {
      "application/vnd.bokehjs_exec.v0+json": {
       "id": "9357"
      }
     },
     "output_type": "display_data"
    },
    {
     "data": {
      "text/html": [
       "<div style=\"display: table;\"><div style=\"display: table-row;\"><div style=\"display: table-cell;\"><b title=\"bokeh.models.layouts.Column\">Column</b>(</div><div style=\"display: table-cell;\">id&nbsp;=&nbsp;'9357', <span id=\"10145\" style=\"cursor: pointer;\">&hellip;)</span></div></div><div class=\"10144\" style=\"display: none;\"><div style=\"display: table-cell;\"></div><div style=\"display: table-cell;\">align&nbsp;=&nbsp;'start',</div></div><div class=\"10144\" style=\"display: none;\"><div style=\"display: table-cell;\"></div><div style=\"display: table-cell;\">aspect_ratio&nbsp;=&nbsp;None,</div></div><div class=\"10144\" style=\"display: none;\"><div style=\"display: table-cell;\"></div><div style=\"display: table-cell;\">background&nbsp;=&nbsp;None,</div></div><div class=\"10144\" style=\"display: none;\"><div style=\"display: table-cell;\"></div><div style=\"display: table-cell;\">children&nbsp;=&nbsp;[Figure(id='8674', ...), Figure(id='8706', ...)],</div></div><div class=\"10144\" style=\"display: none;\"><div style=\"display: table-cell;\"></div><div style=\"display: table-cell;\">css_classes&nbsp;=&nbsp;[],</div></div><div class=\"10144\" style=\"display: none;\"><div style=\"display: table-cell;\"></div><div style=\"display: table-cell;\">disabled&nbsp;=&nbsp;False,</div></div><div class=\"10144\" style=\"display: none;\"><div style=\"display: table-cell;\"></div><div style=\"display: table-cell;\">height&nbsp;=&nbsp;None,</div></div><div class=\"10144\" style=\"display: none;\"><div style=\"display: table-cell;\"></div><div style=\"display: table-cell;\">height_policy&nbsp;=&nbsp;'auto',</div></div><div class=\"10144\" style=\"display: none;\"><div style=\"display: table-cell;\"></div><div style=\"display: table-cell;\">js_event_callbacks&nbsp;=&nbsp;{},</div></div><div class=\"10144\" style=\"display: none;\"><div style=\"display: table-cell;\"></div><div style=\"display: table-cell;\">js_property_callbacks&nbsp;=&nbsp;{},</div></div><div class=\"10144\" style=\"display: none;\"><div style=\"display: table-cell;\"></div><div style=\"display: table-cell;\">margin&nbsp;=&nbsp;(0, 0, 0, 0),</div></div><div class=\"10144\" style=\"display: none;\"><div style=\"display: table-cell;\"></div><div style=\"display: table-cell;\">max_height&nbsp;=&nbsp;None,</div></div><div class=\"10144\" style=\"display: none;\"><div style=\"display: table-cell;\"></div><div style=\"display: table-cell;\">max_width&nbsp;=&nbsp;None,</div></div><div class=\"10144\" style=\"display: none;\"><div style=\"display: table-cell;\"></div><div style=\"display: table-cell;\">min_height&nbsp;=&nbsp;None,</div></div><div class=\"10144\" style=\"display: none;\"><div style=\"display: table-cell;\"></div><div style=\"display: table-cell;\">min_width&nbsp;=&nbsp;None,</div></div><div class=\"10144\" style=\"display: none;\"><div style=\"display: table-cell;\"></div><div style=\"display: table-cell;\">name&nbsp;=&nbsp;None,</div></div><div class=\"10144\" style=\"display: none;\"><div style=\"display: table-cell;\"></div><div style=\"display: table-cell;\">rows&nbsp;=&nbsp;'auto',</div></div><div class=\"10144\" style=\"display: none;\"><div style=\"display: table-cell;\"></div><div style=\"display: table-cell;\">sizing_mode&nbsp;=&nbsp;None,</div></div><div class=\"10144\" style=\"display: none;\"><div style=\"display: table-cell;\"></div><div style=\"display: table-cell;\">spacing&nbsp;=&nbsp;0,</div></div><div class=\"10144\" style=\"display: none;\"><div style=\"display: table-cell;\"></div><div style=\"display: table-cell;\">subscribed_events&nbsp;=&nbsp;[],</div></div><div class=\"10144\" style=\"display: none;\"><div style=\"display: table-cell;\"></div><div style=\"display: table-cell;\">syncable&nbsp;=&nbsp;True,</div></div><div class=\"10144\" style=\"display: none;\"><div style=\"display: table-cell;\"></div><div style=\"display: table-cell;\">tags&nbsp;=&nbsp;[],</div></div><div class=\"10144\" style=\"display: none;\"><div style=\"display: table-cell;\"></div><div style=\"display: table-cell;\">visible&nbsp;=&nbsp;True,</div></div><div class=\"10144\" style=\"display: none;\"><div style=\"display: table-cell;\"></div><div style=\"display: table-cell;\">width&nbsp;=&nbsp;None,</div></div><div class=\"10144\" style=\"display: none;\"><div style=\"display: table-cell;\"></div><div style=\"display: table-cell;\">width_policy&nbsp;=&nbsp;'auto')</div></div></div>\n",
       "<script>\n",
       "(function() {\n",
       "  let expanded = false;\n",
       "  const ellipsis = document.getElementById(\"10145\");\n",
       "  ellipsis.addEventListener(\"click\", function() {\n",
       "    const rows = document.getElementsByClassName(\"10144\");\n",
       "    for (let i = 0; i < rows.length; i++) {\n",
       "      const el = rows[i];\n",
       "      el.style.display = expanded ? \"none\" : \"table-row\";\n",
       "    }\n",
       "    ellipsis.innerHTML = expanded ? \"&hellip;)\" : \"&lsaquo;&lsaquo;&lsaquo;\";\n",
       "    expanded = !expanded;\n",
       "  });\n",
       "})();\n",
       "</script>\n"
      ],
      "text/plain": [
       "Column(id='9357', ...)"
      ]
     },
     "execution_count": 104,
     "metadata": {},
     "output_type": "execute_result"
    }
   ],
   "source": [
    "display_timeline(label_df[['user_id','date_time']],time_column=\"date_time\",group_by='user_id')"
   ]
  },
  {
   "cell_type": "code",
   "execution_count": 56,
   "metadata": {},
   "outputs": [],
   "source": [
    "import pickle as pkl\n",
    "\n",
    "with open('./data/ema_df_di.pkl','wb') as f:\n",
    "\n",
    "    pkl.dump(ema_df_di,f)"
   ]
  },
  {
   "cell_type": "code",
   "execution_count": null,
   "metadata": {},
   "outputs": [
    {
     "data": {
      "text/html": [
       "<div>\n",
       "<style scoped>\n",
       "    .dataframe tbody tr th:only-of-type {\n",
       "        vertical-align: middle;\n",
       "    }\n",
       "\n",
       "    .dataframe tbody tr th {\n",
       "        vertical-align: top;\n",
       "    }\n",
       "\n",
       "    .dataframe thead th {\n",
       "        text-align: right;\n",
       "    }\n",
       "</style>\n",
       "<table border=\"1\" class=\"dataframe\">\n",
       "  <thead>\n",
       "    <tr style=\"text-align: right;\">\n",
       "      <th></th>\n",
       "      <th>user_id</th>\n",
       "      <th>have_Exercise</th>\n",
       "      <th>schedule_Exercise</th>\n",
       "      <th>exercise_Exercise</th>\n",
       "      <th>walk_Exercise</th>\n",
       "      <th>date_time</th>\n",
       "      <th>year</th>\n",
       "      <th>month</th>\n",
       "      <th>day</th>\n",
       "      <th>hours</th>\n",
       "      <th>minute</th>\n",
       "      <th>weekday</th>\n",
       "      <th>weeknumber</th>\n",
       "    </tr>\n",
       "  </thead>\n",
       "  <tbody>\n",
       "    <tr>\n",
       "      <th>0</th>\n",
       "      <td>u03</td>\n",
       "      <td>2</td>\n",
       "      <td>2</td>\n",
       "      <td>2</td>\n",
       "      <td>2</td>\n",
       "      <td>04/05/2013, 10:29</td>\n",
       "      <td>2013</td>\n",
       "      <td>04</td>\n",
       "      <td>05</td>\n",
       "      <td>10</td>\n",
       "      <td>29</td>\n",
       "      <td>Fri</td>\n",
       "      <td>13</td>\n",
       "    </tr>\n",
       "    <tr>\n",
       "      <th>1</th>\n",
       "      <td>u03</td>\n",
       "      <td>2</td>\n",
       "      <td>2</td>\n",
       "      <td>2</td>\n",
       "      <td>2</td>\n",
       "      <td>04/07/2013, 11:12</td>\n",
       "      <td>2013</td>\n",
       "      <td>04</td>\n",
       "      <td>07</td>\n",
       "      <td>11</td>\n",
       "      <td>12</td>\n",
       "      <td>Sun</td>\n",
       "      <td>13</td>\n",
       "    </tr>\n",
       "    <tr>\n",
       "      <th>2</th>\n",
       "      <td>u03</td>\n",
       "      <td>1</td>\n",
       "      <td>2</td>\n",
       "      <td>2</td>\n",
       "      <td>2</td>\n",
       "      <td>04/11/2013, 12:44</td>\n",
       "      <td>2013</td>\n",
       "      <td>04</td>\n",
       "      <td>11</td>\n",
       "      <td>12</td>\n",
       "      <td>44</td>\n",
       "      <td>Thu</td>\n",
       "      <td>14</td>\n",
       "    </tr>\n",
       "    <tr>\n",
       "      <th>3</th>\n",
       "      <td>u03</td>\n",
       "      <td>2</td>\n",
       "      <td>2</td>\n",
       "      <td>1</td>\n",
       "      <td>2</td>\n",
       "      <td>04/21/2013, 21:00</td>\n",
       "      <td>2013</td>\n",
       "      <td>04</td>\n",
       "      <td>21</td>\n",
       "      <td>21</td>\n",
       "      <td>00</td>\n",
       "      <td>Sun</td>\n",
       "      <td>15</td>\n",
       "    </tr>\n",
       "    <tr>\n",
       "      <th>4</th>\n",
       "      <td>u03</td>\n",
       "      <td>2</td>\n",
       "      <td>2</td>\n",
       "      <td>2</td>\n",
       "      <td>2</td>\n",
       "      <td>04/28/2013, 20:20</td>\n",
       "      <td>2013</td>\n",
       "      <td>04</td>\n",
       "      <td>28</td>\n",
       "      <td>20</td>\n",
       "      <td>20</td>\n",
       "      <td>Sun</td>\n",
       "      <td>16</td>\n",
       "    </tr>\n",
       "    <tr>\n",
       "      <th>...</th>\n",
       "      <td>...</td>\n",
       "      <td>...</td>\n",
       "      <td>...</td>\n",
       "      <td>...</td>\n",
       "      <td>...</td>\n",
       "      <td>...</td>\n",
       "      <td>...</td>\n",
       "      <td>...</td>\n",
       "      <td>...</td>\n",
       "      <td>...</td>\n",
       "      <td>...</td>\n",
       "      <td>...</td>\n",
       "      <td>...</td>\n",
       "    </tr>\n",
       "    <tr>\n",
       "      <th>758</th>\n",
       "      <td>u08</td>\n",
       "      <td>2</td>\n",
       "      <td>1</td>\n",
       "      <td>1</td>\n",
       "      <td>3</td>\n",
       "      <td>05/19/2013, 15:36</td>\n",
       "      <td>2013</td>\n",
       "      <td>05</td>\n",
       "      <td>19</td>\n",
       "      <td>15</td>\n",
       "      <td>36</td>\n",
       "      <td>Sun</td>\n",
       "      <td>19</td>\n",
       "    </tr>\n",
       "    <tr>\n",
       "      <th>759</th>\n",
       "      <td>u34</td>\n",
       "      <td>2</td>\n",
       "      <td>2</td>\n",
       "      <td>1</td>\n",
       "      <td>3</td>\n",
       "      <td>04/03/2013, 20:25</td>\n",
       "      <td>2013</td>\n",
       "      <td>04</td>\n",
       "      <td>03</td>\n",
       "      <td>20</td>\n",
       "      <td>25</td>\n",
       "      <td>Wed</td>\n",
       "      <td>13</td>\n",
       "    </tr>\n",
       "    <tr>\n",
       "      <th>760</th>\n",
       "      <td>u34</td>\n",
       "      <td>2</td>\n",
       "      <td>2</td>\n",
       "      <td>3</td>\n",
       "      <td>4</td>\n",
       "      <td>04/05/2013, 19:57</td>\n",
       "      <td>2013</td>\n",
       "      <td>04</td>\n",
       "      <td>05</td>\n",
       "      <td>19</td>\n",
       "      <td>57</td>\n",
       "      <td>Fri</td>\n",
       "      <td>13</td>\n",
       "    </tr>\n",
       "    <tr>\n",
       "      <th>761</th>\n",
       "      <td>u34</td>\n",
       "      <td>2</td>\n",
       "      <td>2</td>\n",
       "      <td>1</td>\n",
       "      <td>3</td>\n",
       "      <td>04/27/2013, 17:27</td>\n",
       "      <td>2013</td>\n",
       "      <td>04</td>\n",
       "      <td>27</td>\n",
       "      <td>17</td>\n",
       "      <td>27</td>\n",
       "      <td>Sat</td>\n",
       "      <td>16</td>\n",
       "    </tr>\n",
       "    <tr>\n",
       "      <th>762</th>\n",
       "      <td>u41</td>\n",
       "      <td>1</td>\n",
       "      <td>2</td>\n",
       "      <td>3</td>\n",
       "      <td>3</td>\n",
       "      <td>04/03/2013, 19:03</td>\n",
       "      <td>2013</td>\n",
       "      <td>04</td>\n",
       "      <td>03</td>\n",
       "      <td>19</td>\n",
       "      <td>03</td>\n",
       "      <td>Wed</td>\n",
       "      <td>13</td>\n",
       "    </tr>\n",
       "  </tbody>\n",
       "</table>\n",
       "<p>763 rows × 13 columns</p>\n",
       "</div>"
      ],
      "text/plain": [
       "    user_id have_Exercise schedule_Exercise exercise_Exercise walk_Exercise  \\\n",
       "0       u03             2                 2                 2             2   \n",
       "1       u03             2                 2                 2             2   \n",
       "2       u03             1                 2                 2             2   \n",
       "3       u03             2                 2                 1             2   \n",
       "4       u03             2                 2                 2             2   \n",
       "..      ...           ...               ...               ...           ...   \n",
       "758     u08             2                 1                 1             3   \n",
       "759     u34             2                 2                 1             3   \n",
       "760     u34             2                 2                 3             4   \n",
       "761     u34             2                 2                 1             3   \n",
       "762     u41             1                 2                 3             3   \n",
       "\n",
       "             date_time  year month day hours minute weekday weeknumber  \n",
       "0    04/05/2013, 10:29  2013    04  05    10     29     Fri         13  \n",
       "1    04/07/2013, 11:12  2013    04  07    11     12     Sun         13  \n",
       "2    04/11/2013, 12:44  2013    04  11    12     44     Thu         14  \n",
       "3    04/21/2013, 21:00  2013    04  21    21     00     Sun         15  \n",
       "4    04/28/2013, 20:20  2013    04  28    20     20     Sun         16  \n",
       "..                 ...   ...   ...  ..   ...    ...     ...        ...  \n",
       "758  05/19/2013, 15:36  2013    05  19    15     36     Sun         19  \n",
       "759  04/03/2013, 20:25  2013    04  03    20     25     Wed         13  \n",
       "760  04/05/2013, 19:57  2013    04  05    19     57     Fri         13  \n",
       "761  04/27/2013, 17:27  2013    04  27    17     27     Sat         16  \n",
       "762  04/03/2013, 19:03  2013    04  03    19     03     Wed         13  \n",
       "\n",
       "[763 rows x 13 columns]"
      ]
     },
     "execution_count": 109,
     "metadata": {},
     "output_type": "execute_result"
    }
   ],
   "source": [
    "ema_df_di['Exercise']"
   ]
  },
  {
   "cell_type": "code",
   "execution_count": null,
   "metadata": {},
   "outputs": [
    {
     "data": {
      "text/html": [
       "<div class=\"bk-root\">\n",
       "        <a href=\"https://bokeh.org\" target=\"_blank\" class=\"bk-logo bk-logo-small bk-logo-notebook\"></a>\n",
       "        <span id=\"10146\">Loading BokehJS ...</span>\n",
       "    </div>\n"
      ]
     },
     "metadata": {},
     "output_type": "display_data"
    },
    {
     "data": {
      "application/javascript": "(function(root) {\n  function now() {\n    return new Date();\n  }\n\n  const force = true;\n\n  if (typeof root._bokeh_onload_callbacks === \"undefined\" || force === true) {\n    root._bokeh_onload_callbacks = [];\n    root._bokeh_is_loading = undefined;\n  }\n\nconst JS_MIME_TYPE = 'application/javascript';\n  const HTML_MIME_TYPE = 'text/html';\n  const EXEC_MIME_TYPE = 'application/vnd.bokehjs_exec.v0+json';\n  const CLASS_NAME = 'output_bokeh rendered_html';\n\n  /**\n   * Render data to the DOM node\n   */\n  function render(props, node) {\n    const script = document.createElement(\"script\");\n    node.appendChild(script);\n  }\n\n  /**\n   * Handle when an output is cleared or removed\n   */\n  function handleClearOutput(event, handle) {\n    const cell = handle.cell;\n\n    const id = cell.output_area._bokeh_element_id;\n    const server_id = cell.output_area._bokeh_server_id;\n    // Clean up Bokeh references\n    if (id != null && id in Bokeh.index) {\n      Bokeh.index[id].model.document.clear();\n      delete Bokeh.index[id];\n    }\n\n    if (server_id !== undefined) {\n      // Clean up Bokeh references\n      const cmd_clean = \"from bokeh.io.state import curstate; print(curstate().uuid_to_server['\" + server_id + \"'].get_sessions()[0].document.roots[0]._id)\";\n      cell.notebook.kernel.execute(cmd_clean, {\n        iopub: {\n          output: function(msg) {\n            const id = msg.content.text.trim();\n            if (id in Bokeh.index) {\n              Bokeh.index[id].model.document.clear();\n              delete Bokeh.index[id];\n            }\n          }\n        }\n      });\n      // Destroy server and session\n      const cmd_destroy = \"import bokeh.io.notebook as ion; ion.destroy_server('\" + server_id + \"')\";\n      cell.notebook.kernel.execute(cmd_destroy);\n    }\n  }\n\n  /**\n   * Handle when a new output is added\n   */\n  function handleAddOutput(event, handle) {\n    const output_area = handle.output_area;\n    const output = handle.output;\n\n    // limit handleAddOutput to display_data with EXEC_MIME_TYPE content only\n    if ((output.output_type != \"display_data\") || (!Object.prototype.hasOwnProperty.call(output.data, EXEC_MIME_TYPE))) {\n      return\n    }\n\n    const toinsert = output_area.element.find(\".\" + CLASS_NAME.split(' ')[0]);\n\n    if (output.metadata[EXEC_MIME_TYPE][\"id\"] !== undefined) {\n      toinsert[toinsert.length - 1].firstChild.textContent = output.data[JS_MIME_TYPE];\n      // store reference to embed id on output_area\n      output_area._bokeh_element_id = output.metadata[EXEC_MIME_TYPE][\"id\"];\n    }\n    if (output.metadata[EXEC_MIME_TYPE][\"server_id\"] !== undefined) {\n      const bk_div = document.createElement(\"div\");\n      bk_div.innerHTML = output.data[HTML_MIME_TYPE];\n      const script_attrs = bk_div.children[0].attributes;\n      for (let i = 0; i < script_attrs.length; i++) {\n        toinsert[toinsert.length - 1].firstChild.setAttribute(script_attrs[i].name, script_attrs[i].value);\n        toinsert[toinsert.length - 1].firstChild.textContent = bk_div.children[0].textContent\n      }\n      // store reference to server id on output_area\n      output_area._bokeh_server_id = output.metadata[EXEC_MIME_TYPE][\"server_id\"];\n    }\n  }\n\n  function register_renderer(events, OutputArea) {\n\n    function append_mime(data, metadata, element) {\n      // create a DOM node to render to\n      const toinsert = this.create_output_subarea(\n        metadata,\n        CLASS_NAME,\n        EXEC_MIME_TYPE\n      );\n      this.keyboard_manager.register_events(toinsert);\n      // Render to node\n      const props = {data: data, metadata: metadata[EXEC_MIME_TYPE]};\n      render(props, toinsert[toinsert.length - 1]);\n      element.append(toinsert);\n      return toinsert\n    }\n\n    /* Handle when an output is cleared or removed */\n    events.on('clear_output.CodeCell', handleClearOutput);\n    events.on('delete.Cell', handleClearOutput);\n\n    /* Handle when a new output is added */\n    events.on('output_added.OutputArea', handleAddOutput);\n\n    /**\n     * Register the mime type and append_mime function with output_area\n     */\n    OutputArea.prototype.register_mime_type(EXEC_MIME_TYPE, append_mime, {\n      /* Is output safe? */\n      safe: true,\n      /* Index of renderer in `output_area.display_order` */\n      index: 0\n    });\n  }\n\n  // register the mime type if in Jupyter Notebook environment and previously unregistered\n  if (root.Jupyter !== undefined) {\n    const events = require('base/js/events');\n    const OutputArea = require('notebook/js/outputarea').OutputArea;\n\n    if (OutputArea.prototype.mime_types().indexOf(EXEC_MIME_TYPE) == -1) {\n      register_renderer(events, OutputArea);\n    }\n  }\n  if (typeof (root._bokeh_timeout) === \"undefined\" || force === true) {\n    root._bokeh_timeout = Date.now() + 5000;\n    root._bokeh_failed_load = false;\n  }\n\n  const NB_LOAD_WARNING = {'data': {'text/html':\n     \"<div style='background-color: #fdd'>\\n\"+\n     \"<p>\\n\"+\n     \"BokehJS does not appear to have successfully loaded. If loading BokehJS from CDN, this \\n\"+\n     \"may be due to a slow or bad network connection. Possible fixes:\\n\"+\n     \"</p>\\n\"+\n     \"<ul>\\n\"+\n     \"<li>re-rerun `output_notebook()` to attempt to load from CDN again, or</li>\\n\"+\n     \"<li>use INLINE resources instead, as so:</li>\\n\"+\n     \"</ul>\\n\"+\n     \"<code>\\n\"+\n     \"from bokeh.resources import INLINE\\n\"+\n     \"output_notebook(resources=INLINE)\\n\"+\n     \"</code>\\n\"+\n     \"</div>\"}};\n\n  function display_loaded() {\n    const el = document.getElementById(\"10146\");\n    if (el != null) {\n      el.textContent = \"BokehJS is loading...\";\n    }\n    if (root.Bokeh !== undefined) {\n      if (el != null) {\n        el.textContent = \"BokehJS \" + root.Bokeh.version + \" successfully loaded.\";\n      }\n    } else if (Date.now() < root._bokeh_timeout) {\n      setTimeout(display_loaded, 100)\n    }\n  }\n\n  function run_callbacks() {\n    try {\n      root._bokeh_onload_callbacks.forEach(function(callback) {\n        if (callback != null)\n          callback();\n      });\n    } finally {\n      delete root._bokeh_onload_callbacks\n    }\n    console.debug(\"Bokeh: all callbacks have finished\");\n  }\n\n  function load_libs(css_urls, js_urls, callback) {\n    if (css_urls == null) css_urls = [];\n    if (js_urls == null) js_urls = [];\n\n    root._bokeh_onload_callbacks.push(callback);\n    if (root._bokeh_is_loading > 0) {\n      console.debug(\"Bokeh: BokehJS is being loaded, scheduling callback at\", now());\n      return null;\n    }\n    if (js_urls == null || js_urls.length === 0) {\n      run_callbacks();\n      return null;\n    }\n    console.debug(\"Bokeh: BokehJS not loaded, scheduling load and callback at\", now());\n    root._bokeh_is_loading = css_urls.length + js_urls.length;\n\n    function on_load() {\n      root._bokeh_is_loading--;\n      if (root._bokeh_is_loading === 0) {\n        console.debug(\"Bokeh: all BokehJS libraries/stylesheets loaded\");\n        run_callbacks()\n      }\n    }\n\n    function on_error(url) {\n      console.error(\"failed to load \" + url);\n    }\n\n    for (let i = 0; i < css_urls.length; i++) {\n      const url = css_urls[i];\n      const element = document.createElement(\"link\");\n      element.onload = on_load;\n      element.onerror = on_error.bind(null, url);\n      element.rel = \"stylesheet\";\n      element.type = \"text/css\";\n      element.href = url;\n      console.debug(\"Bokeh: injecting link tag for BokehJS stylesheet: \", url);\n      document.body.appendChild(element);\n    }\n\n    for (let i = 0; i < js_urls.length; i++) {\n      const url = js_urls[i];\n      const element = document.createElement('script');\n      element.onload = on_load;\n      element.onerror = on_error.bind(null, url);\n      element.async = false;\n      element.src = url;\n      console.debug(\"Bokeh: injecting script tag for BokehJS library: \", url);\n      document.head.appendChild(element);\n    }\n  };\n\n  function inject_raw_css(css) {\n    const element = document.createElement(\"style\");\n    element.appendChild(document.createTextNode(css));\n    document.body.appendChild(element);\n  }\n\n  const js_urls = [\"https://cdn.bokeh.org/bokeh/release/bokeh-2.4.3.min.js\", \"https://cdn.bokeh.org/bokeh/release/bokeh-gl-2.4.3.min.js\", \"https://cdn.bokeh.org/bokeh/release/bokeh-widgets-2.4.3.min.js\", \"https://cdn.bokeh.org/bokeh/release/bokeh-tables-2.4.3.min.js\", \"https://cdn.bokeh.org/bokeh/release/bokeh-mathjax-2.4.3.min.js\"];\n  const css_urls = [];\n\n  const inline_js = [    function(Bokeh) {\n      Bokeh.set_log_level(\"info\");\n    },\nfunction(Bokeh) {\n    }\n  ];\n\n  function run_inline_js() {\n    if (root.Bokeh !== undefined || force === true) {\n          for (let i = 0; i < inline_js.length; i++) {\n      inline_js[i].call(root, root.Bokeh);\n    }\nif (force === true) {\n        display_loaded();\n      }} else if (Date.now() < root._bokeh_timeout) {\n      setTimeout(run_inline_js, 100);\n    } else if (!root._bokeh_failed_load) {\n      console.log(\"Bokeh: BokehJS failed to load within specified timeout.\");\n      root._bokeh_failed_load = true;\n    } else if (force !== true) {\n      const cell = $(document.getElementById(\"10146\")).parents('.cell').data().cell;\n      cell.output_area.append_execute_result(NB_LOAD_WARNING)\n    }\n  }\n\n  if (root._bokeh_is_loading === 0) {\n    console.debug(\"Bokeh: BokehJS loaded, going straight to plotting\");\n    run_inline_js();\n  } else {\n    load_libs(css_urls, js_urls, function() {\n      console.debug(\"Bokeh: BokehJS plotting callback run at\", now());\n      run_inline_js();\n    });\n  }\n}(window));",
      "application/vnd.bokehjs_load.v0+json": ""
     },
     "metadata": {},
     "output_type": "display_data"
    },
    {
     "data": {
      "text/html": [
       "\n",
       "  <div class=\"bk-root\" id=\"1fa9462c-2eee-44f9-af80-0c0491a57558\" data-root-id=\"10851\"></div>\n"
      ]
     },
     "metadata": {},
     "output_type": "display_data"
    },
    {
     "data": {
      "application/javascript": "(function(root) {\n  function embed_document(root) {\n  const docs_json = {\"6d23a091-1dd9-4b34-95a7-04b676e16f1e\":{\"defs\":[],\"roots\":{\"references\":[{\"attributes\":{\"children\":[{\"id\":\"10194\"},{\"id\":\"10226\"}]},\"id\":\"10851\",\"type\":\"Column\"},{\"attributes\":{\"data\":{\"date_time\":{\"__ndarray__\":\"AABs/bTcc0IAAHR+wtxzQgAA2vIU3XNCAADAhgTdc0IAAI4TXt1zQgAAFutn3XNCAABWW5ndc0IAAMbYBd5zQgAAxpPS3XNCAABcyULec0IAAHSmXN5zQgAA8qTB3nNCAACo8UPhc0IAADB/Et9zQgAABAxX33NCAACQ5LTgc0IAAOYQyOFzQgAAYGDv4XNCAABSJCric0IAAIzgjeJzQgAA5hbB4nNCAADk0+fic0IAACTHleNzQgAAPnjZ43NCAAD2Ai3kc0IAAOA3huRzQgAAHmzI5HNCAAB8WCPlc0IAAFAcx+VzQgAAMiMa5nNCAACUZMHmc0IAAMhrZuhzQgAAmBIO6HNCAABo1V3nc0IAAAIvtOhzQgAA1omh6nNCAAB8AVjpc0IAAADq+OpzQgAAkC5D6nNCAAAKdo/rc0IAACzfP+xzQgAAJJWR7HNCAADI1WDtc0IAAGoQr+9zQg==\",\"dtype\":\"float64\",\"order\":\"little\",\"shape\":[44]},\"index\":[200,201,202,203,204,205,206,207,208,209,210,211,212,213,214,215,216,217,218,219,220,221,222,223,224,225,226,227,228,229,230,231,232,233,234,235,236,237,238,239,240,241,242,243],\"y_index\":[32,32,32,32,32,32,32,32,32,32,32,32,32,32,32,32,32,32,32,32,32,32,32,32,32,32,32,32,32,32,32,32,32,32,32,32,32,32,32,32,32,32,32,32]},\"selected\":{\"id\":\"10926\"},\"selection_policy\":{\"id\":\"10925\"}},\"id\":\"10179\",\"type\":\"ColumnDataSource\"},{\"attributes\":{\"data\":{\"date_time\":{\"__ndarray__\":\"AADI+Ezec0IAAOqndOVzQg==\",\"dtype\":\"float64\",\"order\":\"little\",\"shape\":[2]},\"index\":[300,301],\"y_index\":[41,41]},\"selected\":{\"id\":\"10944\"},\"selection_policy\":{\"id\":\"10943\"}},\"id\":\"10188\",\"type\":\"ColumnDataSource\"},{\"attributes\":{\"data\":{\"date_time\":{\"__ndarray__\":\"AAAIZHbcc0IAAMLyaN1zQgAApBtd3nNCAAA8Hg3fc0IAABC3Q+FzQgAAGliY4XNCAABojvXhc0IAAFTjleJzQgAArhLf4nNCAADCMufic0IAAFJamONzQgAAMNU/43NCAABwkY7jc0IAANp8zuRzQgAADtSn6XNCAADuORnnc0IAALxeredzQgAAHhX96HNCAAAc6cPmc0IAABpd8+pzQgAANJKk6nNCAAAGdErrc0IAAFK61etzQgAAxjC77nNCAADuhYnuc0IAABCqBu9zQgAAVH1Y73NCAACyFqzvc0IAAMg6U/BzQgAAZKj+73NC\",\"dtype\":\"float64\",\"order\":\"little\",\"shape\":[30]},\"index\":[569,570,571,572,573,574,575,576,577,578,579,580,581,582,583,584,585,586,587,588,589,590,591,592,593,594,595,596,597,598],\"y_index\":[44,44,44,44,44,44,44,44,44,44,44,44,44,44,44,44,44,44,44,44,44,44,44,44,44,44,44,44,44,44]},\"selected\":{\"id\":\"10950\"},\"selection_policy\":{\"id\":\"10949\"}},\"id\":\"10191\",\"type\":\"ColumnDataSource\"},{\"attributes\":{\"data\":{\"date_time\":{\"__ndarray__\":\"AAAIZHbcc0IAAFztxdxzQgAAHFMY3XNCAAB+sGfdc0IAANo2V95zQgAAaJK53XNCAACyCwXec0IAAJYPDd9zQgAAvOmx33NCAAAKzQfgc0IAABJb+OBzQgAActZJ4XNCAADIJe/hc0IAAHgTjeJzQgAAIDvq4nNCAABYAJLjc0IAALL+dORzQgAANBvH5HNCAAAQfCDlc0IAAKC/eeVzQgAAmr2s53NCAADyXf/nc0IAAFLoFedzQgAAhK7D5nNCAAD4u/Lqc0IAACzTTepzQgAAiKxE63NCAAAIYFjvc0IAAH7Rve1zQgAAlIa17nNCAACyb6zwc0IAAEz7WfBzQg==\",\"dtype\":\"float64\",\"order\":\"little\",\"shape\":[32]},\"index\":[8,9,10,11,12,13,14,15,16,17,18,19,20,21,22,23,24,25,26,27,28,29,30,31,32,33,34,35,36,37,38,39],\"y_index\":[43,43,43,43,43,43,43,43,43,43,43,43,43,43,43,43,43,43,43,43,43,43,43,43,43,43,43,43,43,43,43,43]},\"selected\":{\"id\":\"10948\"},\"selection_policy\":{\"id\":\"10947\"}},\"id\":\"10190\",\"type\":\"ColumnDataSource\"},{\"attributes\":{\"axis\":{\"id\":\"10205\"},\"coordinates\":null,\"group\":null,\"minor_grid_line_alpha\":0.3,\"minor_grid_line_color\":\"navy\",\"ticker\":null},\"id\":\"10208\",\"type\":\"Grid\"},{\"attributes\":{\"data\":{\"date_time\":{\"__ndarray__\":\"AACWAxvdc0IAAO4uxdxzQgAAqmdl3nNCAABmZJ7dc0IAAKpnZd5zQgAAeKG33nNCAACEfvvec0IAAJr1qd9zQgAAPiDK4XNCAAAWJe3hc0I=\",\"dtype\":\"float64\",\"order\":\"little\",\"shape\":[10]},\"index\":[696,697,698,699,700,701,702,703,704,705],\"y_index\":[13,13,13,13,13,13,13,13,13,13]},\"selected\":{\"id\":\"10888\"},\"selection_policy\":{\"id\":\"10887\"}},\"id\":\"10160\",\"type\":\"ColumnDataSource\"},{\"attributes\":{\"data\":{\"date_time\":{\"__ndarray__\":\"AAB+Y1nec0IAAH51ROFzQgAA1JKS43NC\",\"dtype\":\"float64\",\"order\":\"little\",\"shape\":[3]},\"index\":[259,260,261],\"y_index\":[42,42,42]},\"selected\":{\"id\":\"10946\"},\"selection_policy\":{\"id\":\"10945\"}},\"id\":\"10189\",\"type\":\"ColumnDataSource\"},{\"attributes\":{\"fill_alpha\":{\"value\":0.1},\"fill_color\":{\"value\":\"#471567\"},\"hatch_alpha\":{\"value\":0.1},\"hatch_color\":{\"value\":\"#471567\"},\"line_alpha\":{\"value\":0.1},\"line_color\":{\"value\":\"#471567\"},\"x\":{\"field\":\"date_time\"},\"y\":{\"field\":\"y_index\"}},\"id\":\"10265\",\"type\":\"Circle\"},{\"attributes\":{\"data\":{\"date_time\":{\"__ndarray__\":\"AAA2SoDcc0IAABRWeNxzQgAA1p3I3HNCAADg6xXdc0IAAGCOL91zQgAAEPJm3XNCAACWYwXec0IAAPKCIN5zQgAA3iu53XNCAACOGVfec0IAAP6ya95zQgAAvmvF3nNCAAAuSg3fc0IAAEoUrt9zQgAAPvFF4HNCAADGYIrgc0IAAIxJROFzQgAAOOKV4XNCAABOZxjic0IAAFigp+JzQgAACFfm4nNCAADg3oXjc0IAAJZJkuNzQgAArBoy5HNCAADaKcfkc0IAAMbLdeRzQgAASMU15XNCAACuKsPmc0IAAFaiVOpzQgAAqCUj7HNCAAC67ZPsc0IAAEaBvu1zQgAAbOyz7nNCAAB4bwbvc0IAAKS3VPBzQgAAfBV48XNC\",\"dtype\":\"float64\",\"order\":\"little\",\"shape\":[36]},\"index\":[40,41,42,43,44,45,46,47,48,49,50,51,52,53,54,55,56,57,58,59,60,61,62,63,64,65,66,67,68,69,70,71,72,73,74,75],\"y_index\":[45,45,45,45,45,45,45,45,45,45,45,45,45,45,45,45,45,45,45,45,45,45,45,45,45,45,45,45,45,45,45,45,45,45,45,45]},\"selected\":{\"id\":\"10952\"},\"selection_policy\":{\"id\":\"10951\"}},\"id\":\"10192\",\"type\":\"ColumnDataSource\"},{\"attributes\":{\"data\":{\"date_time\":{\"__ndarray__\":\"AAAmxPfcc0IAADSyvd5zQgAANLK93nNCAAA0sr3ec0IAADSyvd5zQgAANLK93nNCAACgFzbgc0IAALDv1OBzQgAAkkJF4XNCAADSGjzhc0IAAFBX6uFzQgAA9Kx34nNCAAAYdanic0IAABRQ0uJzQgAAlHR35HNCAAAI9Cjlc0IAANJOyORzQgAATql45XNCAAA8mQHoc0IAALz+Fe5zQgAARvV173NC\",\"dtype\":\"float64\",\"order\":\"little\",\"shape\":[21]},\"index\":[650,651,652,653,654,655,656,657,658,659,660,661,662,663,664,665,666,667,668,669,670],\"y_index\":[12,12,12,12,12,12,12,12,12,12,12,12,12,12,12,12,12,12,12,12,12]},\"selected\":{\"id\":\"10886\"},\"selection_policy\":{\"id\":\"10885\"}},\"id\":\"10159\",\"type\":\"ColumnDataSource\"},{\"attributes\":{\"tools\":[{\"id\":\"10193\"},{\"id\":\"10213\"},{\"id\":\"10214\"},{\"id\":\"10215\"},{\"id\":\"10216\"},{\"id\":\"10217\"}]},\"id\":\"10219\",\"type\":\"Toolbar\"},{\"attributes\":{\"data\":{\"date_time\":{\"__ndarray__\":\"AADWLhndc0IAAC5gvN1zQgAAaonI5HNC\",\"dtype\":\"float64\",\"order\":\"little\",\"shape\":[3]},\"index\":[759,760,761],\"y_index\":[25,25,25]},\"selected\":{\"id\":\"10912\"},\"selection_policy\":{\"id\":\"10911\"}},\"id\":\"10172\",\"type\":\"ColumnDataSource\"},{\"attributes\":{\"callback\":null,\"tooltips\":[[\"date_time\",\"@date_time\"]]},\"id\":\"10193\",\"type\":\"HoverTool\"},{\"attributes\":{\"axis_label\":\"Event Time\",\"coordinates\":null,\"formatter\":{\"id\":\"10526\"},\"group\":null,\"major_label_policy\":{\"id\":\"10858\"},\"ticker\":{\"id\":\"10206\"}},\"id\":\"10205\",\"type\":\"DatetimeAxis\"},{\"attributes\":{\"bottom_units\":\"screen\",\"coordinates\":null,\"fill_alpha\":0.5,\"fill_color\":\"lightgrey\",\"group\":null,\"left_units\":\"screen\",\"level\":\"overlay\",\"line_alpha\":1.0,\"line_color\":\"black\",\"line_dash\":[4,4],\"line_width\":2,\"right_units\":\"screen\",\"syncable\":false,\"top_units\":\"screen\"},\"id\":\"10218\",\"type\":\"BoxAnnotation\"},{\"attributes\":{\"data\":{\"date_time\":{\"__ndarray__\":\"AACCFHncc0IAACQuF91zQgAAzj1r3nNCAADoqmzdc0IAAM49a95zQgAAzj1r3nNCAADOPWvec0IAAIIO0+JzQgAA+A225HNCAACavaznc0I=\",\"dtype\":\"float64\",\"order\":\"little\",\"shape\":[10]},\"index\":[244,245,246,247,248,249,250,251,252,253],\"y_index\":[26,26,26,26,26,26,26,26,26,26]},\"selected\":{\"id\":\"10914\"},\"selection_policy\":{\"id\":\"10913\"}},\"id\":\"10173\",\"type\":\"ColumnDataSource\"},{\"attributes\":{\"data\":{\"date_time\":{\"__ndarray__\":\"AABgJ1vcc0IAAK5ydtxzQgAABG8U3XNCAAA+hWndc0IAAGSdV95zQgAAzFia4XNCAADIJe/hc0IAADincuVzQg==\",\"dtype\":\"float64\",\"order\":\"little\",\"shape\":[8]},\"index\":[130,131,132,133,134,135,136,137],\"y_index\":[9,9,9,9,9,9,9,9]},\"selected\":{\"id\":\"10880\"},\"selection_policy\":{\"id\":\"10879\"}},\"id\":\"10156\",\"type\":\"ColumnDataSource\"},{\"attributes\":{},\"id\":\"10201\",\"type\":\"LinearScale\"},{\"attributes\":{\"coordinates\":null,\"group\":null,\"text\":\"Timeline: Events\"},\"id\":\"10195\",\"type\":\"Title\"},{\"attributes\":{\"num_minor_ticks\":10,\"tickers\":[{\"id\":\"10954\"},{\"id\":\"10955\"},{\"id\":\"10956\"},{\"id\":\"10957\"},{\"id\":\"10958\"},{\"id\":\"10959\"},{\"id\":\"10960\"},{\"id\":\"10961\"},{\"id\":\"10962\"},{\"id\":\"10963\"},{\"id\":\"10964\"},{\"id\":\"10965\"}]},\"id\":\"10206\",\"type\":\"DatetimeTicker\"},{\"attributes\":{\"coordinates\":null,\"formatter\":{\"id\":\"10855\"},\"group\":null,\"major_label_overrides\":{\"0\":\"u00\",\"1\":\"u01\",\"10\":\"u15\",\"11\":\"u16\",\"12\":\"u17\",\"13\":\"u18\",\"14\":\"u19\",\"15\":\"u20\",\"16\":\"u22\",\"17\":\"u23\",\"18\":\"u24\",\"19\":\"u25\",\"2\":\"u02\",\"20\":\"u27\",\"21\":\"u30\",\"22\":\"u31\",\"23\":\"u32\",\"24\":\"u33\",\"25\":\"u34\",\"26\":\"u35\",\"27\":\"u36\",\"28\":\"u39\",\"29\":\"u41\",\"3\":\"u03\",\"30\":\"u42\",\"31\":\"u43\",\"32\":\"u44\",\"33\":\"u45\",\"34\":\"u46\",\"35\":\"u47\",\"36\":\"u49\",\"37\":\"u50\",\"38\":\"u51\",\"39\":\"u52\",\"4\":\"u04\",\"40\":\"u53\",\"41\":\"u54\",\"42\":\"u56\",\"43\":\"u57\",\"44\":\"u58\",\"45\":\"u59\",\"5\":\"u07\",\"6\":\"u08\",\"7\":\"u10\",\"8\":\"u12\",\"9\":\"u14\"},\"major_label_policy\":{\"id\":\"10856\"},\"ticker\":{\"id\":\"10210\"}},\"id\":\"10209\",\"type\":\"LinearAxis\"},{\"attributes\":{\"data\":{\"date_time\":{\"__ndarray__\":\"AACqfRTdc0I=\",\"dtype\":\"float64\",\"order\":\"little\",\"shape\":[1]},\"index\":[762],\"y_index\":[29]},\"selected\":{\"id\":\"10920\"},\"selection_policy\":{\"id\":\"10919\"}},\"id\":\"10176\",\"type\":\"ColumnDataSource\"},{\"attributes\":{\"below\":[{\"id\":\"10237\"},{\"id\":\"10242\"}],\"center\":[{\"id\":\"10240\"}],\"height\":230,\"renderers\":[{\"id\":\"10249\"},{\"id\":\"10255\"},{\"id\":\"10261\"},{\"id\":\"10267\"},{\"id\":\"10273\"},{\"id\":\"10279\"},{\"id\":\"10285\"},{\"id\":\"10291\"},{\"id\":\"10297\"},{\"id\":\"10303\"},{\"id\":\"10309\"},{\"id\":\"10315\"},{\"id\":\"10321\"},{\"id\":\"10327\"},{\"id\":\"10333\"},{\"id\":\"10339\"},{\"id\":\"10345\"},{\"id\":\"10351\"},{\"id\":\"10357\"},{\"id\":\"10363\"},{\"id\":\"10369\"},{\"id\":\"10375\"},{\"id\":\"10381\"},{\"id\":\"10387\"},{\"id\":\"10393\"},{\"id\":\"10399\"},{\"id\":\"10405\"},{\"id\":\"10411\"},{\"id\":\"10417\"},{\"id\":\"10423\"},{\"id\":\"10429\"},{\"id\":\"10435\"},{\"id\":\"10441\"},{\"id\":\"10447\"},{\"id\":\"10453\"},{\"id\":\"10459\"},{\"id\":\"10465\"},{\"id\":\"10471\"},{\"id\":\"10477\"},{\"id\":\"10483\"},{\"id\":\"10489\"},{\"id\":\"10495\"},{\"id\":\"10501\"},{\"id\":\"10507\"},{\"id\":\"10513\"},{\"id\":\"10519\"}],\"title\":{\"id\":\"10227\"},\"toolbar\":{\"id\":\"10241\"},\"toolbar_location\":null,\"width\":900,\"x_range\":{\"id\":\"10229\"},\"x_scale\":{\"id\":\"10233\"},\"y_range\":{\"id\":\"10231\"},\"y_scale\":{\"id\":\"10235\"}},\"id\":\"10226\",\"subtype\":\"Figure\",\"type\":\"Plot\"},{\"attributes\":{\"fill_alpha\":{\"value\":0.2},\"fill_color\":{\"value\":\"#2EB27C\"},\"hatch_alpha\":{\"value\":0.2},\"hatch_color\":{\"value\":\"#2EB27C\"},\"line_alpha\":{\"value\":0.2},\"line_color\":{\"value\":\"#2EB27C\"},\"x\":{\"field\":\"date_time\"},\"y\":{\"field\":\"y_index\"}},\"id\":\"10458\",\"type\":\"Circle\"},{\"attributes\":{\"axis\":{\"id\":\"10209\"},\"coordinates\":null,\"dimension\":1,\"grid_line_color\":null,\"group\":null,\"ticker\":null},\"id\":\"10212\",\"type\":\"Grid\"},{\"attributes\":{\"data\":{\"date_time\":{\"__ndarray__\":\"AADsu3bcc0IAAKTzwtxzQgAAyjwX3XNCAABisZzhc0IAAIo+u+BzQgAArH3v4XNCAADKKY7ic0IAAFpt5+JzQgAAbqDL5HNCAABOxSDlc0IAAJCgxeZzQg==\",\"dtype\":\"float64\",\"order\":\"little\",\"shape\":[11]},\"index\":[119,120,121,122,123,124,125,126,127,128,129],\"y_index\":[20,20,20,20,20,20,20,20,20,20,20]},\"selected\":{\"id\":\"10902\"},\"selection_policy\":{\"id\":\"10901\"}},\"id\":\"10167\",\"type\":\"ColumnDataSource\"},{\"attributes\":{\"dimensions\":\"width\"},\"id\":\"10213\",\"type\":\"WheelZoomTool\"},{\"attributes\":{},\"id\":\"10860\",\"type\":\"AllLabels\"},{\"attributes\":{\"overlay\":{\"id\":\"10218\"}},\"id\":\"10214\",\"type\":\"BoxZoomTool\"},{\"attributes\":{\"end\":1376916012000.0,\"start\":1363701708000.0},\"id\":\"10197\",\"type\":\"Range1d\"},{\"attributes\":{\"data\":{\"date_time\":{\"__ndarray__\":\"AABWb2bec0IAAFZvZt5zQgAA8AAN33NCAABSF0fhc0IAAEKK1OFzQg==\",\"dtype\":\"float64\",\"order\":\"little\",\"shape\":[5]},\"index\":[616,617,618,619,620],\"y_index\":[10,10,10,10,10]},\"selected\":{\"id\":\"10882\"},\"selection_policy\":{\"id\":\"10881\"}},\"id\":\"10157\",\"type\":\"ColumnDataSource\"},{\"attributes\":{\"dimensions\":\"width\"},\"id\":\"10217\",\"type\":\"PanTool\"},{\"attributes\":{\"below\":[{\"id\":\"10205\"}],\"center\":[{\"id\":\"10208\"},{\"id\":\"10212\"}],\"height\":1150,\"left\":[{\"id\":\"10209\"},{\"id\":\"10850\"}],\"min_border_left\":50,\"renderers\":[{\"id\":\"10532\"},{\"id\":\"10539\"},{\"id\":\"10546\"},{\"id\":\"10553\"},{\"id\":\"10560\"},{\"id\":\"10567\"},{\"id\":\"10574\"},{\"id\":\"10581\"},{\"id\":\"10588\"},{\"id\":\"10595\"},{\"id\":\"10602\"},{\"id\":\"10609\"},{\"id\":\"10616\"},{\"id\":\"10623\"},{\"id\":\"10630\"},{\"id\":\"10637\"},{\"id\":\"10644\"},{\"id\":\"10651\"},{\"id\":\"10658\"},{\"id\":\"10665\"},{\"id\":\"10672\"},{\"id\":\"10679\"},{\"id\":\"10686\"},{\"id\":\"10693\"},{\"id\":\"10700\"},{\"id\":\"10707\"},{\"id\":\"10714\"},{\"id\":\"10721\"},{\"id\":\"10728\"},{\"id\":\"10735\"},{\"id\":\"10742\"},{\"id\":\"10749\"},{\"id\":\"10756\"},{\"id\":\"10763\"},{\"id\":\"10770\"},{\"id\":\"10777\"},{\"id\":\"10784\"},{\"id\":\"10791\"},{\"id\":\"10798\"},{\"id\":\"10805\"},{\"id\":\"10812\"},{\"id\":\"10819\"},{\"id\":\"10826\"},{\"id\":\"10833\"},{\"id\":\"10840\"},{\"id\":\"10847\"}],\"title\":{\"id\":\"10195\"},\"toolbar\":{\"id\":\"10219\"},\"width\":900,\"x_range\":{\"id\":\"10197\"},\"x_scale\":{\"id\":\"10201\"},\"y_range\":{\"id\":\"10199\"},\"y_scale\":{\"id\":\"10203\"}},\"id\":\"10194\",\"subtype\":\"Figure\",\"type\":\"Plot\"},{\"attributes\":{},\"id\":\"10216\",\"type\":\"SaveTool\"},{\"attributes\":{\"end\":45.02173913043478,\"start\":-0.021739130434782608},\"id\":\"10199\",\"type\":\"Range1d\"},{\"attributes\":{},\"id\":\"10210\",\"type\":\"BasicTicker\"},{\"attributes\":{},\"id\":\"10861\",\"type\":\"UnionRenderers\"},{\"attributes\":{},\"id\":\"10215\",\"type\":\"ResetTool\"},{\"attributes\":{},\"id\":\"10203\",\"type\":\"LinearScale\"},{\"attributes\":{},\"id\":\"10862\",\"type\":\"Selection\"},{\"attributes\":{\"coordinates\":null,\"formatter\":{\"id\":\"10243\"},\"group\":null,\"major_label_policy\":{\"id\":\"10860\"},\"ticker\":{\"id\":\"10238\"}},\"id\":\"10237\",\"type\":\"DatetimeAxis\"},{\"attributes\":{\"end\":1377466608000.0,\"start\":1363151112000.0},\"id\":\"10229\",\"type\":\"Range1d\"},{\"attributes\":{\"num_minor_ticks\":5,\"tickers\":[{\"id\":\"10967\"},{\"id\":\"10968\"},{\"id\":\"10969\"},{\"id\":\"10970\"},{\"id\":\"10971\"},{\"id\":\"10972\"},{\"id\":\"10973\"},{\"id\":\"10974\"},{\"id\":\"10975\"},{\"id\":\"10976\"},{\"id\":\"10977\"},{\"id\":\"10978\"}]},\"id\":\"10238\",\"type\":\"DatetimeTicker\"},{\"attributes\":{\"coordinates\":null,\"data_source\":{\"id\":\"10159\"},\"glyph\":{\"id\":\"10318\"},\"group\":null,\"hover_glyph\":null,\"muted_glyph\":{\"id\":\"10320\"},\"nonselection_glyph\":{\"id\":\"10319\"},\"view\":{\"id\":\"10322\"}},\"id\":\"10321\",\"type\":\"GlyphRenderer\"},{\"attributes\":{\"active_multi\":{\"id\":\"10521\"},\"tools\":[{\"id\":\"10521\"}]},\"id\":\"10241\",\"type\":\"Toolbar\"},{\"attributes\":{\"axis\":{\"id\":\"10237\"},\"coordinates\":null,\"group\":null,\"ticker\":null},\"id\":\"10240\",\"type\":\"Grid\"},{\"attributes\":{\"fill_alpha\":{\"value\":0.1},\"fill_color\":{\"value\":\"#2EB27C\"},\"hatch_alpha\":{\"value\":0.1},\"hatch_color\":{\"value\":\"#2EB27C\"},\"line_alpha\":{\"value\":0.1},\"line_color\":{\"value\":\"#2EB27C\"},\"x\":{\"field\":\"date_time\"},\"y\":{\"field\":\"y_index\"}},\"id\":\"10457\",\"type\":\"Circle\"},{\"attributes\":{\"days\":[\"%m-%d %H:%M\"],\"hours\":[\"%H:%M:%S\"],\"milliseconds\":[\"%H:%M:%S.%3N\"],\"minutes\":[\"%H:%M:%S\"],\"seconds\":[\"%H:%M:%S\"]},\"id\":\"10243\",\"type\":\"DatetimeTickFormatter\"},{\"attributes\":{\"fill_color\":{\"value\":\"#440154\"},\"hatch_color\":{\"value\":\"#440154\"},\"line_color\":{\"value\":\"#440154\"},\"x\":{\"field\":\"date_time\"},\"y\":{\"field\":\"y_index\"}},\"id\":\"10246\",\"type\":\"Circle\"},{\"attributes\":{},\"id\":\"10863\",\"type\":\"UnionRenderers\"},{\"attributes\":{\"align\":\"right\",\"coordinates\":null,\"group\":null,\"text\":\"Drag the middle or edges of the selection box to change the range in the main chart\",\"text_font_size\":\"10px\"},\"id\":\"10242\",\"type\":\"Title\"},{\"attributes\":{\"coordinates\":null,\"data_source\":{\"id\":\"10158\"},\"glyph\":{\"id\":\"10312\"},\"group\":null,\"hover_glyph\":null,\"muted_glyph\":{\"id\":\"10314\"},\"nonselection_glyph\":{\"id\":\"10313\"},\"view\":{\"id\":\"10316\"}},\"id\":\"10315\",\"type\":\"GlyphRenderer\"},{\"attributes\":{\"data\":{\"date_time\":{\"__ndarray__\":\"AAC0ZI3cc0IAACwJFt1zQgAARH5q3XNCAADeK7ndc0IAANb/5+JzQgAAPEnN5HNCAAA0wSjsc0I=\",\"dtype\":\"float64\",\"order\":\"little\",\"shape\":[7]},\"index\":[314,315,316,317,318,319,320],\"y_index\":[33,33,33,33,33,33,33]},\"selected\":{\"id\":\"10928\"},\"selection_policy\":{\"id\":\"10927\"}},\"id\":\"10180\",\"type\":\"ColumnDataSource\"},{\"attributes\":{},\"id\":\"10864\",\"type\":\"Selection\"},{\"attributes\":{\"coordinates\":null,\"data_source\":{\"id\":\"10149\"},\"glyph\":{\"id\":\"10258\"},\"group\":null,\"hover_glyph\":null,\"muted_glyph\":{\"id\":\"10260\"},\"nonselection_glyph\":{\"id\":\"10259\"},\"view\":{\"id\":\"10262\"}},\"id\":\"10261\",\"type\":\"GlyphRenderer\"},{\"attributes\":{\"data\":{\"date_time\":{\"__ndarray__\":\"AACYcHDcc0IAABBhFt1zQgAAnI1s3XNCAABGUaPec0IAADjM5uJzQg==\",\"dtype\":\"float64\",\"order\":\"little\",\"shape\":[5]},\"index\":[723,724,725,726,727],\"y_index\":[19,19,19,19,19]},\"selected\":{\"id\":\"10900\"},\"selection_policy\":{\"id\":\"10899\"}},\"id\":\"10166\",\"type\":\"ColumnDataSource\"},{\"attributes\":{\"coordinates\":null,\"data_source\":{\"id\":\"10148\"},\"glyph\":{\"id\":\"10536\"},\"group\":null,\"hover_glyph\":null,\"muted_glyph\":{\"id\":\"10538\"},\"nonselection_glyph\":{\"id\":\"10537\"},\"view\":{\"id\":\"10540\"}},\"id\":\"10539\",\"type\":\"GlyphRenderer\"},{\"attributes\":{\"source\":{\"id\":\"10147\"}},\"id\":\"10250\",\"type\":\"CDSView\"},{\"attributes\":{\"fill_alpha\":{\"value\":0.1},\"fill_color\":{\"value\":\"#440154\"},\"hatch_alpha\":{\"value\":0.1},\"hatch_color\":{\"value\":\"#440154\"},\"line_alpha\":{\"value\":0.1},\"line_color\":{\"value\":\"#440154\"},\"x\":{\"field\":\"date_time\"},\"y\":{\"field\":\"y_index\"}},\"id\":\"10247\",\"type\":\"Circle\"},{\"attributes\":{\"fill_color\":{\"value\":\"#2C708E\"},\"hatch_color\":{\"value\":\"#2C708E\"},\"line_color\":{\"value\":\"#2C708E\"},\"x\":{\"field\":\"date_time\"},\"y\":{\"field\":\"y_index\"}},\"id\":\"10366\",\"type\":\"Circle\"},{\"attributes\":{\"fill_alpha\":{\"value\":0.1},\"fill_color\":{\"value\":\"#2C708E\"},\"hatch_alpha\":{\"value\":0.1},\"hatch_color\":{\"value\":\"#2C708E\"},\"line_alpha\":{\"value\":0.1},\"line_color\":{\"value\":\"#2C708E\"},\"x\":{\"field\":\"date_time\"},\"y\":{\"field\":\"y_index\"}},\"id\":\"10367\",\"type\":\"Circle\"},{\"attributes\":{\"fill_alpha\":{\"value\":0.1},\"fill_color\":{\"value\":\"#482172\"},\"hatch_alpha\":{\"value\":0.1},\"hatch_color\":{\"value\":\"#482172\"},\"line_alpha\":{\"value\":0.1},\"line_color\":{\"value\":\"#482172\"},\"x\":{\"field\":\"date_time\"},\"y\":{\"field\":\"y_index\"}},\"id\":\"10277\",\"type\":\"Circle\"},{\"attributes\":{\"coordinates\":null,\"data_source\":{\"id\":\"10148\"},\"glyph\":{\"id\":\"10252\"},\"group\":null,\"hover_glyph\":null,\"muted_glyph\":{\"id\":\"10254\"},\"nonselection_glyph\":{\"id\":\"10253\"},\"view\":{\"id\":\"10256\"}},\"id\":\"10255\",\"type\":\"GlyphRenderer\"},{\"attributes\":{\"fill_color\":{\"value\":\"#482172\"},\"hatch_color\":{\"value\":\"#482172\"},\"line_color\":{\"value\":\"#482172\"},\"x\":{\"field\":\"date_time\"},\"y\":{\"field\":\"y_index\"}},\"id\":\"10276\",\"type\":\"Circle\"},{\"attributes\":{\"source\":{\"id\":\"10151\"}},\"id\":\"10274\",\"type\":\"CDSView\"},{\"attributes\":{\"coordinates\":null,\"data_source\":{\"id\":\"10151\"},\"glyph\":{\"id\":\"10270\"},\"group\":null,\"hover_glyph\":null,\"muted_glyph\":{\"id\":\"10272\"},\"nonselection_glyph\":{\"id\":\"10271\"},\"view\":{\"id\":\"10274\"}},\"id\":\"10273\",\"type\":\"GlyphRenderer\"},{\"attributes\":{\"fill_alpha\":{\"value\":0.2},\"fill_color\":{\"value\":\"#481A6C\"},\"hatch_alpha\":{\"value\":0.2},\"hatch_color\":{\"value\":\"#481A6C\"},\"line_alpha\":{\"value\":0.2},\"line_color\":{\"value\":\"#481A6C\"},\"x\":{\"field\":\"date_time\"},\"y\":{\"field\":\"y_index\"}},\"id\":\"10272\",\"type\":\"Circle\"},{\"attributes\":{\"fill_alpha\":{\"value\":0.2},\"fill_color\":{\"value\":\"#32628D\"},\"hatch_alpha\":{\"value\":0.2},\"hatch_color\":{\"value\":\"#32628D\"},\"line_alpha\":{\"value\":0.2},\"line_color\":{\"value\":\"#32628D\"},\"x\":{\"field\":\"date_time\"},\"y\":{\"field\":\"y_index\"}},\"id\":\"10350\",\"type\":\"Circle\"},{\"attributes\":{\"coordinates\":null,\"data_source\":{\"id\":\"10164\"},\"glyph\":{\"id\":\"10348\"},\"group\":null,\"hover_glyph\":null,\"muted_glyph\":{\"id\":\"10350\"},\"nonselection_glyph\":{\"id\":\"10349\"},\"view\":{\"id\":\"10352\"}},\"id\":\"10351\",\"type\":\"GlyphRenderer\"},{\"attributes\":{\"fill_color\":{\"value\":\"#30678D\"},\"hatch_color\":{\"value\":\"#30678D\"},\"line_color\":{\"value\":\"#30678D\"},\"x\":{\"field\":\"date_time\"},\"y\":{\"field\":\"y_index\"}},\"id\":\"10354\",\"type\":\"Circle\"},{\"attributes\":{\"coordinates\":null,\"data_source\":{\"id\":\"10155\"},\"glyph\":{\"id\":\"10294\"},\"group\":null,\"hover_glyph\":null,\"muted_glyph\":{\"id\":\"10296\"},\"nonselection_glyph\":{\"id\":\"10295\"},\"view\":{\"id\":\"10298\"}},\"id\":\"10297\",\"type\":\"GlyphRenderer\"},{\"attributes\":{},\"id\":\"10865\",\"type\":\"UnionRenderers\"},{\"attributes\":{\"coordinates\":null,\"data_source\":{\"id\":\"10152\"},\"glyph\":{\"id\":\"10276\"},\"group\":null,\"hover_glyph\":null,\"muted_glyph\":{\"id\":\"10278\"},\"nonselection_glyph\":{\"id\":\"10277\"},\"view\":{\"id\":\"10280\"}},\"id\":\"10279\",\"type\":\"GlyphRenderer\"},{\"attributes\":{\"fill_alpha\":{\"value\":0.2},\"fill_color\":{\"value\":\"#482172\"},\"hatch_alpha\":{\"value\":0.2},\"hatch_color\":{\"value\":\"#482172\"},\"line_alpha\":{\"value\":0.2},\"line_color\":{\"value\":\"#482172\"},\"x\":{\"field\":\"date_time\"},\"y\":{\"field\":\"y_index\"}},\"id\":\"10278\",\"type\":\"Circle\"},{\"attributes\":{\"fill_color\":{\"value\":\"#472777\"},\"hatch_color\":{\"value\":\"#472777\"},\"line_color\":{\"value\":\"#472777\"},\"x\":{\"field\":\"date_time\"},\"y\":{\"field\":\"y_index\"}},\"id\":\"10282\",\"type\":\"Circle\"},{\"attributes\":{},\"id\":\"10866\",\"type\":\"Selection\"},{\"attributes\":{\"source\":{\"id\":\"10164\"}},\"id\":\"10352\",\"type\":\"CDSView\"},{\"attributes\":{\"fill_alpha\":{\"value\":0.1},\"fill_color\":{\"value\":\"#472777\"},\"hatch_alpha\":{\"value\":0.1},\"hatch_color\":{\"value\":\"#472777\"},\"line_alpha\":{\"value\":0.1},\"line_color\":{\"value\":\"#472777\"},\"x\":{\"field\":\"date_time\"},\"y\":{\"field\":\"y_index\"}},\"id\":\"10283\",\"type\":\"Circle\"},{\"attributes\":{\"source\":{\"id\":\"10155\"}},\"id\":\"10298\",\"type\":\"CDSView\"},{\"attributes\":{\"coordinates\":null,\"data_source\":{\"id\":\"10181\"},\"glyph\":{\"id\":\"10450\"},\"group\":null,\"hover_glyph\":null,\"muted_glyph\":{\"id\":\"10452\"},\"nonselection_glyph\":{\"id\":\"10451\"},\"view\":{\"id\":\"10454\"}},\"id\":\"10453\",\"type\":\"GlyphRenderer\"},{\"attributes\":{\"source\":{\"id\":\"10148\"}},\"id\":\"10256\",\"type\":\"CDSView\"},{\"attributes\":{\"source\":{\"id\":\"10159\"}},\"id\":\"10322\",\"type\":\"CDSView\"},{\"attributes\":{\"coordinates\":null,\"data_source\":{\"id\":\"10154\"},\"glyph\":{\"id\":\"10288\"},\"group\":null,\"hover_glyph\":null,\"muted_glyph\":{\"id\":\"10290\"},\"nonselection_glyph\":{\"id\":\"10289\"},\"view\":{\"id\":\"10292\"}},\"id\":\"10291\",\"type\":\"GlyphRenderer\"},{\"attributes\":{\"source\":{\"id\":\"10152\"}},\"id\":\"10280\",\"type\":\"CDSView\"},{\"attributes\":{\"fill_alpha\":{\"value\":0.2},\"fill_color\":{\"value\":\"#45327F\"},\"hatch_alpha\":{\"value\":0.2},\"hatch_color\":{\"value\":\"#45327F\"},\"line_alpha\":{\"value\":0.2},\"line_color\":{\"value\":\"#45327F\"},\"x\":{\"field\":\"date_time\"},\"y\":{\"field\":\"y_index\"}},\"id\":\"10296\",\"type\":\"Circle\"},{\"attributes\":{\"fill_alpha\":{\"value\":0.2},\"fill_color\":{\"value\":\"#462D7C\"},\"hatch_alpha\":{\"value\":0.2},\"hatch_color\":{\"value\":\"#462D7C\"},\"line_alpha\":{\"value\":0.2},\"line_color\":{\"value\":\"#462D7C\"},\"x\":{\"field\":\"date_time\"},\"y\":{\"field\":\"y_index\"}},\"id\":\"10290\",\"type\":\"Circle\"},{\"attributes\":{},\"id\":\"10231\",\"type\":\"DataRange1d\"},{\"attributes\":{\"fill_color\":{\"value\":\"#3E4989\"},\"hatch_color\":{\"value\":\"#3E4989\"},\"line_color\":{\"value\":\"#3E4989\"},\"x\":{\"field\":\"date_time\"},\"y\":{\"field\":\"y_index\"}},\"id\":\"10318\",\"type\":\"Circle\"},{\"attributes\":{\"fill_alpha\":{\"value\":0.2},\"fill_color\":{\"value\":\"#28AE7F\"},\"hatch_alpha\":{\"value\":0.2},\"hatch_color\":{\"value\":\"#28AE7F\"},\"line_alpha\":{\"value\":0.2},\"line_color\":{\"value\":\"#28AE7F\"},\"x\":{\"field\":\"date_time\"},\"y\":{\"field\":\"y_index\"}},\"id\":\"10452\",\"type\":\"Circle\"},{\"attributes\":{\"source\":{\"id\":\"10158\"}},\"id\":\"10316\",\"type\":\"CDSView\"},{\"attributes\":{\"fill_color\":{\"value\":\"#443982\"},\"hatch_color\":{\"value\":\"#443982\"},\"line_color\":{\"value\":\"#443982\"},\"x\":{\"field\":\"date_time\"},\"y\":{\"field\":\"y_index\"}},\"id\":\"10300\",\"type\":\"Circle\"},{\"attributes\":{},\"id\":\"10867\",\"type\":\"UnionRenderers\"},{\"attributes\":{\"source\":{\"id\":\"10149\"}},\"id\":\"10262\",\"type\":\"CDSView\"},{\"attributes\":{\"fill_color\":{\"value\":\"#471567\"},\"hatch_color\":{\"value\":\"#471567\"},\"line_color\":{\"value\":\"#471567\"},\"x\":{\"field\":\"date_time\"},\"y\":{\"field\":\"y_index\"}},\"id\":\"10264\",\"type\":\"Circle\"},{\"attributes\":{\"fill_alpha\":{\"value\":0.2},\"fill_color\":{\"value\":\"#45065A\"},\"hatch_alpha\":{\"value\":0.2},\"hatch_color\":{\"value\":\"#45065A\"},\"line_alpha\":{\"value\":0.2},\"line_color\":{\"value\":\"#45065A\"},\"x\":{\"field\":\"date_time\"},\"y\":{\"field\":\"y_index\"}},\"id\":\"10254\",\"type\":\"Circle\"},{\"attributes\":{},\"id\":\"10868\",\"type\":\"Selection\"},{\"attributes\":{\"fill_alpha\":{\"value\":0.1},\"fill_color\":{\"value\":\"#443982\"},\"hatch_alpha\":{\"value\":0.1},\"hatch_color\":{\"value\":\"#443982\"},\"line_alpha\":{\"value\":0.1},\"line_color\":{\"value\":\"#443982\"},\"x\":{\"field\":\"date_time\"},\"y\":{\"field\":\"y_index\"}},\"id\":\"10301\",\"type\":\"Circle\"},{\"attributes\":{\"fill_alpha\":{\"value\":0.1},\"fill_color\":{\"value\":\"#460E61\"},\"hatch_alpha\":{\"value\":0.1},\"hatch_color\":{\"value\":\"#460E61\"},\"line_alpha\":{\"value\":0.1},\"line_color\":{\"value\":\"#460E61\"},\"x\":{\"field\":\"date_time\"},\"y\":{\"field\":\"y_index\"}},\"id\":\"10259\",\"type\":\"Circle\"},{\"attributes\":{\"data\":{\"date_time\":{\"__ndarray__\":\"AAAyccbcc0IAAEQsVNxzQgAAvqQG3XNCAAD0uBbdc0IAADiMaN1zQgAAEJCa3nNCAACMwrDdc0IAACL/Ct5zQgAAgEVX3nNCAABSegTfc0IAADwQOd9zQgAAug6e33NCAAACUvPgc0IAAKjxQ+FzQgAA0unV4XNCAACexZfhc0IAAEag5uJzQgAA4m5t4nNCAAASG83ic0IAADR9k+NzQgAA7Jg35HNCAACkKnXkc0IAACRlyeRzQgAAHlAg5XNCAAA4p3Llc0IAAOC1TepzQgAAbsSh6nNCAACUDfbqc0IAABRur+dzQgAAWqWK6XNCAABc8D7oc0IAAJ543OlzQgAAljQn63NCAAD+Uifsc0IAAE5cve1zQgAANHoT7nNCAABO0WXuc0IAAAIpDu9zQg==\",\"dtype\":\"float64\",\"order\":\"little\",\"shape\":[38]},\"index\":[262,263,264,265,266,267,268,269,270,271,272,273,274,275,276,277,278,279,280,281,282,283,284,285,286,287,288,289,290,291,292,293,294,295,296,297,298,299],\"y_index\":[11,11,11,11,11,11,11,11,11,11,11,11,11,11,11,11,11,11,11,11,11,11,11,11,11,11,11,11,11,11,11,11,11,11,11,11,11,11]},\"selected\":{\"id\":\"10884\"},\"selection_policy\":{\"id\":\"10883\"}},\"id\":\"10158\",\"type\":\"ColumnDataSource\"},{\"attributes\":{\"data\":{\"date_time\":{\"__ndarray__\":\"AADE1Vfcc0IAAOInBd1zQgAAQpxs3XNCAAD8hFDec0IAADzmvN9zQgAAErba33NCAABkAzvgc0IAAOZylOBzQgAAOOKV4XNC\",\"dtype\":\"float64\",\"order\":\"little\",\"shape\":[9]},\"index\":[621,622,623,624,625,626,627,628,629],\"y_index\":[18,18,18,18,18,18,18,18,18]},\"selected\":{\"id\":\"10898\"},\"selection_policy\":{\"id\":\"10897\"}},\"id\":\"10165\",\"type\":\"ColumnDataSource\"},{\"attributes\":{\"fill_color\":{\"value\":\"#460E61\"},\"hatch_color\":{\"value\":\"#460E61\"},\"line_color\":{\"value\":\"#460E61\"},\"x\":{\"field\":\"date_time\"},\"y\":{\"field\":\"y_index\"}},\"id\":\"10258\",\"type\":\"Circle\"},{\"attributes\":{\"fill_alpha\":{\"value\":0.5},\"fill_color\":{\"value\":\"#45065A\"},\"hatch_alpha\":{\"value\":0.5},\"hatch_color\":{\"value\":\"#45065A\"},\"line_alpha\":{\"value\":0.5},\"line_color\":{\"value\":\"#45065A\"},\"marker\":{\"value\":\"diamond\"},\"size\":{\"value\":10},\"x\":{\"field\":\"date_time\"},\"y\":{\"field\":\"y_index\"}},\"id\":\"10536\",\"type\":\"Scatter\"},{\"attributes\":{\"data\":{\"date_time\":{\"__ndarray__\":\"AACSynbcc0IAAKp9FN1zQgAATjVu3HNCAADGlMPcc0IAANi9D91zQgAA2vn+3HNCAABq42bdc0IAADz9XN1zQgAAjlGn3XNCAADyS8Hdc0IAAOibp95zQgAAzNEG3nNCAAD+DF3ec0IAALAoFt9zQgAAEPWM4XNCAADQJWLfc0IAAH5Nqt9zQgAADH6f4HNCAAAagwXgc0IAADDl9eBzQgAAHKlF4XNCAACE/5Xhc0IAAGBg7+FzQgAAopt+5HNCAADkgODic0IAAOrM6OJzQgAAcsaT43NCAABMdHPlc0IAABhzx+RzQgAAPIAs5XNCAAAIHMPmc0IAAFoEhOtzQgAAun/V63NCAABIY7ztc0I=\",\"dtype\":\"float64\",\"order\":\"little\",\"shape\":[34]},\"index\":[76,77,78,79,80,81,82,83,84,85,86,87,88,89,90,91,92,93,94,95,96,97,98,99,100,101,102,103,104,105,106,107,108,109],\"y_index\":[31,31,31,31,31,31,31,31,31,31,31,31,31,31,31,31,31,31,31,31,31,31,31,31,31,31,31,31,31,31,31,31,31,31]},\"selected\":{\"id\":\"10924\"},\"selection_policy\":{\"id\":\"10923\"}},\"id\":\"10178\",\"type\":\"ColumnDataSource\"},{\"attributes\":{\"source\":{\"id\":\"10154\"}},\"id\":\"10292\",\"type\":\"CDSView\"},{\"attributes\":{\"source\":{\"id\":\"10181\"}},\"id\":\"10454\",\"type\":\"CDSView\"},{\"attributes\":{\"fill_color\":{\"value\":\"#45327F\"},\"hatch_color\":{\"value\":\"#45327F\"},\"line_color\":{\"value\":\"#45327F\"},\"x\":{\"field\":\"date_time\"},\"y\":{\"field\":\"y_index\"}},\"id\":\"10294\",\"type\":\"Circle\"},{\"attributes\":{\"fill_alpha\":{\"value\":0.1},\"fill_color\":{\"value\":\"#462D7C\"},\"hatch_alpha\":{\"value\":0.1},\"hatch_color\":{\"value\":\"#462D7C\"},\"line_alpha\":{\"value\":0.1},\"line_color\":{\"value\":\"#462D7C\"},\"x\":{\"field\":\"date_time\"},\"y\":{\"field\":\"y_index\"}},\"id\":\"10289\",\"type\":\"Circle\"},{\"attributes\":{\"fill_alpha\":{\"value\":0.1},\"fill_color\":{\"value\":\"#45327F\"},\"hatch_alpha\":{\"value\":0.1},\"hatch_color\":{\"value\":\"#45327F\"},\"line_alpha\":{\"value\":0.1},\"line_color\":{\"value\":\"#45327F\"},\"x\":{\"field\":\"date_time\"},\"y\":{\"field\":\"y_index\"}},\"id\":\"10295\",\"type\":\"Circle\"},{\"attributes\":{\"data\":{\"date_time\":{\"__ndarray__\":\"AABeYBTdc0IAAPo8b9xzQgAAeLdm3XNCAADeK7ndc0IAAIZaAN5zQgAAXNRD4XNCAADS3PLgc0IAAHYrluFzQg==\",\"dtype\":\"float64\",\"order\":\"little\",\"shape\":[8]},\"index\":[168,169,170,171,172,173,174,175],\"y_index\":[22,22,22,22,22,22,22,22]},\"selected\":{\"id\":\"10906\"},\"selection_policy\":{\"id\":\"10905\"}},\"id\":\"10169\",\"type\":\"ColumnDataSource\"},{\"attributes\":{\"source\":{\"id\":\"10153\"}},\"id\":\"10286\",\"type\":\"CDSView\"},{\"attributes\":{\"coordinates\":null,\"data_source\":{\"id\":\"10153\"},\"glyph\":{\"id\":\"10282\"},\"group\":null,\"hover_glyph\":null,\"muted_glyph\":{\"id\":\"10284\"},\"nonselection_glyph\":{\"id\":\"10283\"},\"view\":{\"id\":\"10286\"}},\"id\":\"10285\",\"type\":\"GlyphRenderer\"},{\"attributes\":{\"fill_alpha\":{\"value\":0.2},\"fill_color\":{\"value\":\"#472777\"},\"hatch_alpha\":{\"value\":0.2},\"hatch_color\":{\"value\":\"#472777\"},\"line_alpha\":{\"value\":0.2},\"line_color\":{\"value\":\"#472777\"},\"x\":{\"field\":\"date_time\"},\"y\":{\"field\":\"y_index\"}},\"id\":\"10284\",\"type\":\"Circle\"},{\"attributes\":{\"fill_color\":{\"value\":\"#462D7C\"},\"hatch_color\":{\"value\":\"#462D7C\"},\"line_color\":{\"value\":\"#462D7C\"},\"x\":{\"field\":\"date_time\"},\"y\":{\"field\":\"y_index\"}},\"id\":\"10288\",\"type\":\"Circle\"},{\"attributes\":{},\"id\":\"10869\",\"type\":\"UnionRenderers\"},{\"attributes\":{\"fill_alpha\":{\"value\":0.1},\"fill_color\":{\"value\":\"#3E4989\"},\"hatch_alpha\":{\"value\":0.1},\"hatch_color\":{\"value\":\"#3E4989\"},\"line_alpha\":{\"value\":0.1},\"line_color\":{\"value\":\"#3E4989\"},\"x\":{\"field\":\"date_time\"},\"y\":{\"field\":\"y_index\"}},\"id\":\"10319\",\"type\":\"Circle\"},{\"attributes\":{\"fill_alpha\":{\"value\":0.2},\"fill_color\":{\"value\":\"#355D8C\"},\"hatch_alpha\":{\"value\":0.2},\"hatch_color\":{\"value\":\"#355D8C\"},\"line_alpha\":{\"value\":0.2},\"line_color\":{\"value\":\"#355D8C\"},\"x\":{\"field\":\"date_time\"},\"y\":{\"field\":\"y_index\"}},\"id\":\"10344\",\"type\":\"Circle\"},{\"attributes\":{},\"id\":\"10870\",\"type\":\"Selection\"},{\"attributes\":{\"fill_alpha\":{\"value\":0.1},\"fill_color\":{\"value\":\"#30678D\"},\"hatch_alpha\":{\"value\":0.1},\"hatch_color\":{\"value\":\"#30678D\"},\"line_alpha\":{\"value\":0.1},\"line_color\":{\"value\":\"#30678D\"},\"x\":{\"field\":\"date_time\"},\"y\":{\"field\":\"y_index\"}},\"id\":\"10355\",\"type\":\"Circle\"},{\"attributes\":{\"coordinates\":null,\"group\":null,\"text\":\"Range Selector\"},\"id\":\"10227\",\"type\":\"Title\"},{\"attributes\":{},\"id\":\"10235\",\"type\":\"LinearScale\"},{\"attributes\":{\"data\":{\"date_time\":{\"__ndarray__\":\"AACORMTcc0IAADTkFN1zQgAALmC83XNCAADQBufic0IAAPh7dOVzQgAA9O/I5HNCAAB4QSDlc0IAAG7w/+dzQgAAUHne6XNCAABQed7pc0IAAEj6Be9zQg==\",\"dtype\":\"float64\",\"order\":\"little\",\"shape\":[11]},\"index\":[599,600,601,602,603,604,605,606,607,608,609],\"y_index\":[30,30,30,30,30,30,30,30,30,30,30]},\"selected\":{\"id\":\"10922\"},\"selection_policy\":{\"id\":\"10921\"}},\"id\":\"10177\",\"type\":\"ColumnDataSource\"},{\"attributes\":{},\"id\":\"10233\",\"type\":\"LinearScale\"},{\"attributes\":{\"source\":{\"id\":\"10165\"}},\"id\":\"10358\",\"type\":\"CDSView\"},{\"attributes\":{\"fill_alpha\":{\"value\":0.2},\"fill_color\":{\"value\":\"#404387\"},\"hatch_alpha\":{\"value\":0.2},\"hatch_color\":{\"value\":\"#404387\"},\"line_alpha\":{\"value\":0.2},\"line_color\":{\"value\":\"#404387\"},\"x\":{\"field\":\"date_time\"},\"y\":{\"field\":\"y_index\"}},\"id\":\"10314\",\"type\":\"Circle\"},{\"attributes\":{\"fill_alpha\":{\"value\":0.2},\"fill_color\":{\"value\":\"#37588C\"},\"hatch_alpha\":{\"value\":0.2},\"hatch_color\":{\"value\":\"#37588C\"},\"line_alpha\":{\"value\":0.2},\"line_color\":{\"value\":\"#37588C\"},\"x\":{\"field\":\"date_time\"},\"y\":{\"field\":\"y_index\"}},\"id\":\"10338\",\"type\":\"Circle\"},{\"attributes\":{\"coordinates\":null,\"data_source\":{\"id\":\"10162\"},\"glyph\":{\"id\":\"10336\"},\"group\":null,\"hover_glyph\":null,\"muted_glyph\":{\"id\":\"10338\"},\"nonselection_glyph\":{\"id\":\"10337\"},\"view\":{\"id\":\"10340\"}},\"id\":\"10339\",\"type\":\"GlyphRenderer\"},{\"attributes\":{\"coordinates\":null,\"data_source\":{\"id\":\"10147\"},\"glyph\":{\"id\":\"10246\"},\"group\":null,\"hover_glyph\":null,\"muted_glyph\":{\"id\":\"10248\"},\"nonselection_glyph\":{\"id\":\"10247\"},\"view\":{\"id\":\"10250\"}},\"id\":\"10249\",\"type\":\"GlyphRenderer\"},{\"attributes\":{\"fill_alpha\":{\"value\":0.2},\"fill_color\":{\"value\":\"#423E85\"},\"hatch_alpha\":{\"value\":0.2},\"hatch_color\":{\"value\":\"#423E85\"},\"line_alpha\":{\"value\":0.2},\"line_color\":{\"value\":\"#423E85\"},\"x\":{\"field\":\"date_time\"},\"y\":{\"field\":\"y_index\"}},\"id\":\"10308\",\"type\":\"Circle\"},{\"attributes\":{\"source\":{\"id\":\"10166\"}},\"id\":\"10364\",\"type\":\"CDSView\"},{\"attributes\":{\"fill_alpha\":{\"value\":0.2},\"fill_color\":{\"value\":\"#2E6B8E\"},\"hatch_alpha\":{\"value\":0.2},\"hatch_color\":{\"value\":\"#2E6B8E\"},\"line_alpha\":{\"value\":0.2},\"line_color\":{\"value\":\"#2E6B8E\"},\"x\":{\"field\":\"date_time\"},\"y\":{\"field\":\"y_index\"}},\"id\":\"10362\",\"type\":\"Circle\"},{\"attributes\":{},\"id\":\"10871\",\"type\":\"UnionRenderers\"},{\"attributes\":{\"coordinates\":null,\"data_source\":{\"id\":\"10166\"},\"glyph\":{\"id\":\"10360\"},\"group\":null,\"hover_glyph\":null,\"muted_glyph\":{\"id\":\"10362\"},\"nonselection_glyph\":{\"id\":\"10361\"},\"view\":{\"id\":\"10364\"}},\"id\":\"10363\",\"type\":\"GlyphRenderer\"},{\"attributes\":{\"coordinates\":null,\"data_source\":{\"id\":\"10157\"},\"glyph\":{\"id\":\"10306\"},\"group\":null,\"hover_glyph\":null,\"muted_glyph\":{\"id\":\"10308\"},\"nonselection_glyph\":{\"id\":\"10307\"},\"view\":{\"id\":\"10310\"}},\"id\":\"10309\",\"type\":\"GlyphRenderer\"},{\"attributes\":{\"source\":{\"id\":\"10157\"}},\"id\":\"10310\",\"type\":\"CDSView\"},{\"attributes\":{},\"id\":\"10872\",\"type\":\"Selection\"},{\"attributes\":{\"fill_alpha\":{\"value\":0.2},\"fill_color\":{\"value\":\"#440154\"},\"hatch_alpha\":{\"value\":0.2},\"hatch_color\":{\"value\":\"#440154\"},\"line_alpha\":{\"value\":0.2},\"line_color\":{\"value\":\"#440154\"},\"x\":{\"field\":\"date_time\"},\"y\":{\"field\":\"y_index\"}},\"id\":\"10248\",\"type\":\"Circle\"},{\"attributes\":{\"fill_alpha\":{\"value\":0.1},\"fill_color\":{\"value\":\"#45065A\"},\"hatch_alpha\":{\"value\":0.1},\"hatch_color\":{\"value\":\"#45065A\"},\"line_alpha\":{\"value\":0.1},\"line_color\":{\"value\":\"#45065A\"},\"x\":{\"field\":\"date_time\"},\"y\":{\"field\":\"y_index\"}},\"id\":\"10253\",\"type\":\"Circle\"},{\"attributes\":{\"fill_alpha\":{\"value\":0.2},\"fill_color\":{\"value\":\"#30678D\"},\"hatch_alpha\":{\"value\":0.2},\"hatch_color\":{\"value\":\"#30678D\"},\"line_alpha\":{\"value\":0.2},\"line_color\":{\"value\":\"#30678D\"},\"x\":{\"field\":\"date_time\"},\"y\":{\"field\":\"y_index\"}},\"id\":\"10356\",\"type\":\"Circle\"},{\"attributes\":{\"fill_color\":{\"value\":\"#404387\"},\"hatch_color\":{\"value\":\"#404387\"},\"line_color\":{\"value\":\"#404387\"},\"x\":{\"field\":\"date_time\"},\"y\":{\"field\":\"y_index\"}},\"id\":\"10312\",\"type\":\"Circle\"},{\"attributes\":{\"data\":{\"date_time\":{\"__ndarray__\":\"AABs6Pbcc0IAAHi3Zt1zQgAAbsIZ3nNCAAAQ1r7dc0IAACBSiuBzQgAAguA/4HNCAAAiLo/fc0IAAHC+3d9zQgAAmt+g73NC\",\"dtype\":\"float64\",\"order\":\"little\",\"shape\":[9]},\"index\":[138,139,140,141,142,143,144,145,146],\"y_index\":[8,8,8,8,8,8,8,8,8]},\"selected\":{\"id\":\"10878\"},\"selection_policy\":{\"id\":\"10877\"}},\"id\":\"10155\",\"type\":\"ColumnDataSource\"},{\"attributes\":{\"fill_alpha\":{\"value\":0.1},\"fill_color\":{\"value\":\"#404387\"},\"hatch_alpha\":{\"value\":0.1},\"hatch_color\":{\"value\":\"#404387\"},\"line_alpha\":{\"value\":0.1},\"line_color\":{\"value\":\"#404387\"},\"x\":{\"field\":\"date_time\"},\"y\":{\"field\":\"y_index\"}},\"id\":\"10313\",\"type\":\"Circle\"},{\"attributes\":{\"fill_alpha\":{\"value\":0.1},\"fill_color\":{\"value\":\"#32628D\"},\"hatch_alpha\":{\"value\":0.1},\"hatch_color\":{\"value\":\"#32628D\"},\"line_alpha\":{\"value\":0.1},\"line_color\":{\"value\":\"#32628D\"},\"x\":{\"field\":\"date_time\"},\"y\":{\"field\":\"y_index\"}},\"id\":\"10349\",\"type\":\"Circle\"},{\"attributes\":{\"coordinates\":null,\"data_source\":{\"id\":\"10165\"},\"glyph\":{\"id\":\"10354\"},\"group\":null,\"hover_glyph\":null,\"muted_glyph\":{\"id\":\"10356\"},\"nonselection_glyph\":{\"id\":\"10355\"},\"view\":{\"id\":\"10358\"}},\"id\":\"10357\",\"type\":\"GlyphRenderer\"},{\"attributes\":{\"fill_alpha\":{\"value\":0.5},\"fill_color\":{\"value\":\"#208F8C\"},\"hatch_alpha\":{\"value\":0.5},\"hatch_color\":{\"value\":\"#208F8C\"},\"line_alpha\":{\"value\":0.5},\"line_color\":{\"value\":\"#208F8C\"},\"marker\":{\"value\":\"diamond\"},\"size\":{\"value\":10},\"x\":{\"field\":\"date_time\"},\"y\":{\"field\":\"y_index\"}},\"id\":\"10718\",\"type\":\"Scatter\"},{\"attributes\":{\"fill_color\":{\"value\":\"#32628D\"},\"hatch_color\":{\"value\":\"#32628D\"},\"line_color\":{\"value\":\"#32628D\"},\"x\":{\"field\":\"date_time\"},\"y\":{\"field\":\"y_index\"}},\"id\":\"10348\",\"type\":\"Circle\"},{\"attributes\":{\"fill_alpha\":{\"value\":0.2},\"fill_color\":{\"value\":\"#443982\"},\"hatch_alpha\":{\"value\":0.2},\"hatch_color\":{\"value\":\"#443982\"},\"line_alpha\":{\"value\":0.2},\"line_color\":{\"value\":\"#443982\"},\"x\":{\"field\":\"date_time\"},\"y\":{\"field\":\"y_index\"}},\"id\":\"10302\",\"type\":\"Circle\"},{\"attributes\":{\"coordinates\":null,\"data_source\":{\"id\":\"10163\"},\"glyph\":{\"id\":\"10342\"},\"group\":null,\"hover_glyph\":null,\"muted_glyph\":{\"id\":\"10344\"},\"nonselection_glyph\":{\"id\":\"10343\"},\"view\":{\"id\":\"10346\"}},\"id\":\"10345\",\"type\":\"GlyphRenderer\"},{\"attributes\":{\"source\":{\"id\":\"10163\"}},\"id\":\"10346\",\"type\":\"CDSView\"},{\"attributes\":{\"fill_alpha\":{\"value\":0.1},\"fill_color\":{\"value\":\"#423E85\"},\"hatch_alpha\":{\"value\":0.1},\"hatch_color\":{\"value\":\"#423E85\"},\"line_alpha\":{\"value\":0.1},\"line_color\":{\"value\":\"#423E85\"},\"x\":{\"field\":\"date_time\"},\"y\":{\"field\":\"y_index\"}},\"id\":\"10307\",\"type\":\"Circle\"},{\"attributes\":{\"fill_color\":{\"value\":\"#423E85\"},\"hatch_color\":{\"value\":\"#423E85\"},\"line_color\":{\"value\":\"#423E85\"},\"x\":{\"field\":\"date_time\"},\"y\":{\"field\":\"y_index\"}},\"id\":\"10306\",\"type\":\"Circle\"},{\"attributes\":{\"source\":{\"id\":\"10156\"}},\"id\":\"10304\",\"type\":\"CDSView\"},{\"attributes\":{\"fill_color\":{\"value\":\"#45065A\"},\"hatch_color\":{\"value\":\"#45065A\"},\"line_color\":{\"value\":\"#45065A\"},\"x\":{\"field\":\"date_time\"},\"y\":{\"field\":\"y_index\"}},\"id\":\"10252\",\"type\":\"Circle\"},{\"attributes\":{\"fill_color\":{\"value\":\"#3C4E8A\"},\"hatch_color\":{\"value\":\"#3C4E8A\"},\"line_color\":{\"value\":\"#3C4E8A\"},\"x\":{\"field\":\"date_time\"},\"y\":{\"field\":\"y_index\"}},\"id\":\"10324\",\"type\":\"Circle\"},{\"attributes\":{},\"id\":\"10873\",\"type\":\"UnionRenderers\"},{\"attributes\":{\"fill_alpha\":{\"value\":0.1},\"fill_color\":{\"value\":\"#3C4E8A\"},\"hatch_alpha\":{\"value\":0.1},\"hatch_color\":{\"value\":\"#3C4E8A\"},\"line_alpha\":{\"value\":0.1},\"line_color\":{\"value\":\"#3C4E8A\"},\"x\":{\"field\":\"date_time\"},\"y\":{\"field\":\"y_index\"}},\"id\":\"10325\",\"type\":\"Circle\"},{\"attributes\":{\"coordinates\":null,\"data_source\":{\"id\":\"10156\"},\"glyph\":{\"id\":\"10300\"},\"group\":null,\"hover_glyph\":null,\"muted_glyph\":{\"id\":\"10302\"},\"nonselection_glyph\":{\"id\":\"10301\"},\"view\":{\"id\":\"10304\"}},\"id\":\"10303\",\"type\":\"GlyphRenderer\"},{\"attributes\":{\"data\":{\"date_time\":{\"__ndarray__\":\"AADcX2rcc0IAANxfatxzQgAAwj933HNCAABCbPfcc0IAAAqEvdxzQgAApNca3XNCAAAexmbdc0IAAMxAtt1zQgAAgjwT3nNCAAAW8WDec0IAAI4ZV95zQgAA8AAN33NCAADYBlrgc0IAADJYROFzQgAAFnj04XNCAAAIV+bic0IAALLxkeNzQg==\",\"dtype\":\"float64\",\"order\":\"little\",\"shape\":[17]},\"index\":[706,707,708,709,710,711,712,713,714,715,716,717,718,719,720,721,722],\"y_index\":[17,17,17,17,17,17,17,17,17,17,17,17,17,17,17,17,17]},\"selected\":{\"id\":\"10896\"},\"selection_policy\":{\"id\":\"10895\"}},\"id\":\"10164\",\"type\":\"ColumnDataSource\"},{\"attributes\":{\"fill_alpha\":{\"value\":0.2},\"fill_color\":{\"value\":\"#460E61\"},\"hatch_alpha\":{\"value\":0.2},\"hatch_color\":{\"value\":\"#460E61\"},\"line_alpha\":{\"value\":0.2},\"line_color\":{\"value\":\"#460E61\"},\"x\":{\"field\":\"date_time\"},\"y\":{\"field\":\"y_index\"}},\"id\":\"10260\",\"type\":\"Circle\"},{\"attributes\":{},\"id\":\"10874\",\"type\":\"Selection\"},{\"attributes\":{\"fill_color\":{\"value\":\"#2E6B8E\"},\"hatch_color\":{\"value\":\"#2E6B8E\"},\"line_color\":{\"value\":\"#2E6B8E\"},\"x\":{\"field\":\"date_time\"},\"y\":{\"field\":\"y_index\"}},\"id\":\"10360\",\"type\":\"Circle\"},{\"attributes\":{\"fill_alpha\":{\"value\":0.1},\"fill_color\":{\"value\":\"#2E6B8E\"},\"hatch_alpha\":{\"value\":0.1},\"hatch_color\":{\"value\":\"#2E6B8E\"},\"line_alpha\":{\"value\":0.1},\"line_color\":{\"value\":\"#2E6B8E\"},\"x\":{\"field\":\"date_time\"},\"y\":{\"field\":\"y_index\"}},\"id\":\"10361\",\"type\":\"Circle\"},{\"attributes\":{\"fill_alpha\":{\"value\":0.1},\"fill_color\":{\"value\":\"#481A6C\"},\"hatch_alpha\":{\"value\":0.1},\"hatch_color\":{\"value\":\"#481A6C\"},\"line_alpha\":{\"value\":0.1},\"line_color\":{\"value\":\"#481A6C\"},\"x\":{\"field\":\"date_time\"},\"y\":{\"field\":\"y_index\"}},\"id\":\"10271\",\"type\":\"Circle\"},{\"attributes\":{\"fill_color\":{\"value\":\"#481A6C\"},\"hatch_color\":{\"value\":\"#481A6C\"},\"line_color\":{\"value\":\"#481A6C\"},\"x\":{\"field\":\"date_time\"},\"y\":{\"field\":\"y_index\"}},\"id\":\"10270\",\"type\":\"Circle\"},{\"attributes\":{\"source\":{\"id\":\"10150\"}},\"id\":\"10268\",\"type\":\"CDSView\"},{\"attributes\":{\"coordinates\":null,\"data_source\":{\"id\":\"10150\"},\"glyph\":{\"id\":\"10264\"},\"group\":null,\"hover_glyph\":null,\"muted_glyph\":{\"id\":\"10266\"},\"nonselection_glyph\":{\"id\":\"10265\"},\"view\":{\"id\":\"10268\"}},\"id\":\"10267\",\"type\":\"GlyphRenderer\"},{\"attributes\":{\"fill_alpha\":{\"value\":0.2},\"fill_color\":{\"value\":\"#471567\"},\"hatch_alpha\":{\"value\":0.2},\"hatch_color\":{\"value\":\"#471567\"},\"line_alpha\":{\"value\":0.2},\"line_color\":{\"value\":\"#471567\"},\"x\":{\"field\":\"date_time\"},\"y\":{\"field\":\"y_index\"}},\"id\":\"10266\",\"type\":\"Circle\"},{\"attributes\":{\"fill_color\":{\"value\":\"#2EB27C\"},\"hatch_color\":{\"value\":\"#2EB27C\"},\"line_color\":{\"value\":\"#2EB27C\"},\"x\":{\"field\":\"date_time\"},\"y\":{\"field\":\"y_index\"}},\"id\":\"10456\",\"type\":\"Circle\"},{\"attributes\":{\"fill_alpha\":{\"value\":0.2},\"fill_color\":{\"value\":\"#3E4989\"},\"hatch_alpha\":{\"value\":0.2},\"hatch_color\":{\"value\":\"#3E4989\"},\"line_alpha\":{\"value\":0.2},\"line_color\":{\"value\":\"#3E4989\"},\"x\":{\"field\":\"date_time\"},\"y\":{\"field\":\"y_index\"}},\"id\":\"10320\",\"type\":\"Circle\"},{\"attributes\":{\"source\":{\"id\":\"10162\"}},\"id\":\"10340\",\"type\":\"CDSView\"},{\"attributes\":{\"fill_color\":{\"value\":\"#355D8C\"},\"hatch_color\":{\"value\":\"#355D8C\"},\"line_color\":{\"value\":\"#355D8C\"},\"x\":{\"field\":\"date_time\"},\"y\":{\"field\":\"y_index\"}},\"id\":\"10342\",\"type\":\"Circle\"},{\"attributes\":{\"fill_alpha\":{\"value\":0.1},\"fill_color\":{\"value\":\"#39548B\"},\"hatch_alpha\":{\"value\":0.1},\"hatch_color\":{\"value\":\"#39548B\"},\"line_alpha\":{\"value\":0.1},\"line_color\":{\"value\":\"#39548B\"},\"x\":{\"field\":\"date_time\"},\"y\":{\"field\":\"y_index\"}},\"id\":\"10331\",\"type\":\"Circle\"},{\"attributes\":{\"fill_color\":{\"value\":\"#39548B\"},\"hatch_color\":{\"value\":\"#39548B\"},\"line_color\":{\"value\":\"#39548B\"},\"x\":{\"field\":\"date_time\"},\"y\":{\"field\":\"y_index\"}},\"id\":\"10330\",\"type\":\"Circle\"},{\"attributes\":{\"source\":{\"id\":\"10160\"}},\"id\":\"10328\",\"type\":\"CDSView\"},{\"attributes\":{\"coordinates\":null,\"data_source\":{\"id\":\"10160\"},\"glyph\":{\"id\":\"10324\"},\"group\":null,\"hover_glyph\":null,\"muted_glyph\":{\"id\":\"10326\"},\"nonselection_glyph\":{\"id\":\"10325\"},\"view\":{\"id\":\"10328\"}},\"id\":\"10327\",\"type\":\"GlyphRenderer\"},{\"attributes\":{\"fill_alpha\":{\"value\":0.2},\"fill_color\":{\"value\":\"#3C4E8A\"},\"hatch_alpha\":{\"value\":0.2},\"hatch_color\":{\"value\":\"#3C4E8A\"},\"line_alpha\":{\"value\":0.2},\"line_color\":{\"value\":\"#3C4E8A\"},\"x\":{\"field\":\"date_time\"},\"y\":{\"field\":\"y_index\"}},\"id\":\"10326\",\"type\":\"Circle\"},{\"attributes\":{\"fill_alpha\":{\"value\":0.1},\"fill_color\":{\"value\":\"#355D8C\"},\"hatch_alpha\":{\"value\":0.1},\"hatch_color\":{\"value\":\"#355D8C\"},\"line_alpha\":{\"value\":0.1},\"line_color\":{\"value\":\"#355D8C\"},\"x\":{\"field\":\"date_time\"},\"y\":{\"field\":\"y_index\"}},\"id\":\"10343\",\"type\":\"Circle\"},{\"attributes\":{\"source\":{\"id\":\"10182\"}},\"id\":\"10460\",\"type\":\"CDSView\"},{\"attributes\":{},\"id\":\"10875\",\"type\":\"UnionRenderers\"},{\"attributes\":{\"data\":{\"date_time\":{\"__ndarray__\":\"AADq2Xjcc0IAAMaUw9xzQgAAXmAU3XNCAADy+Lndc0IAAOzIWd1zQgAAeLdm3XNCAAA6kAfec0IAACiJXN5zQgAApjuk3nNCAADUgKfgc0IAANCb+95zQgAAONaj33NCAACyok7fc0IAAAjcROFzQgAAyCXv4XNCAACS2Y7ic0IAAILPmONzQgAAKJh05HNCAAC0FP/nc0IAAAZ4Ye5zQg==\",\"dtype\":\"float64\",\"order\":\"little\",\"shape\":[20]},\"index\":[460,461,462,463,464,465,466,467,468,469,470,471,472,473,474,475,476,477,478,479],\"y_index\":[16,16,16,16,16,16,16,16,16,16,16,16,16,16,16,16,16,16,16,16]},\"selected\":{\"id\":\"10894\"},\"selection_policy\":{\"id\":\"10893\"}},\"id\":\"10163\",\"type\":\"ColumnDataSource\"},{\"attributes\":{\"fill_alpha\":{\"value\":0.1},\"fill_color\":{\"value\":\"#37588C\"},\"hatch_alpha\":{\"value\":0.1},\"hatch_color\":{\"value\":\"#37588C\"},\"line_alpha\":{\"value\":0.1},\"line_color\":{\"value\":\"#37588C\"},\"x\":{\"field\":\"date_time\"},\"y\":{\"field\":\"y_index\"}},\"id\":\"10337\",\"type\":\"Circle\"},{\"attributes\":{\"fill_color\":{\"value\":\"#37588C\"},\"hatch_color\":{\"value\":\"#37588C\"},\"line_color\":{\"value\":\"#37588C\"},\"x\":{\"field\":\"date_time\"},\"y\":{\"field\":\"y_index\"}},\"id\":\"10336\",\"type\":\"Circle\"},{\"attributes\":{\"source\":{\"id\":\"10161\"}},\"id\":\"10334\",\"type\":\"CDSView\"},{\"attributes\":{},\"id\":\"10876\",\"type\":\"Selection\"},{\"attributes\":{\"coordinates\":null,\"data_source\":{\"id\":\"10161\"},\"glyph\":{\"id\":\"10330\"},\"group\":null,\"hover_glyph\":null,\"muted_glyph\":{\"id\":\"10332\"},\"nonselection_glyph\":{\"id\":\"10331\"},\"view\":{\"id\":\"10334\"}},\"id\":\"10333\",\"type\":\"GlyphRenderer\"},{\"attributes\":{\"fill_alpha\":{\"value\":0.2},\"fill_color\":{\"value\":\"#39548B\"},\"hatch_alpha\":{\"value\":0.2},\"hatch_color\":{\"value\":\"#39548B\"},\"line_alpha\":{\"value\":0.2},\"line_color\":{\"value\":\"#39548B\"},\"x\":{\"field\":\"date_time\"},\"y\":{\"field\":\"y_index\"}},\"id\":\"10332\",\"type\":\"Circle\"},{\"attributes\":{\"coordinates\":null,\"data_source\":{\"id\":\"10182\"},\"glyph\":{\"id\":\"10456\"},\"group\":null,\"hover_glyph\":null,\"muted_glyph\":{\"id\":\"10458\"},\"nonselection_glyph\":{\"id\":\"10457\"},\"view\":{\"id\":\"10460\"}},\"id\":\"10459\",\"type\":\"GlyphRenderer\"},{\"attributes\":{\"fill_alpha\":{\"value\":0.2},\"fill_color\":{\"value\":\"#23A982\"},\"hatch_alpha\":{\"value\":0.2},\"hatch_color\":{\"value\":\"#23A982\"},\"line_alpha\":{\"value\":0.2},\"line_color\":{\"value\":\"#23A982\"},\"x\":{\"field\":\"date_time\"},\"y\":{\"field\":\"y_index\"}},\"id\":\"10446\",\"type\":\"Circle\"},{\"attributes\":{\"data\":{\"date_time\":{\"__ndarray__\":\"AAAIZHbcc0IAAJYfw9xzQgAA/gxd3nNC\",\"dtype\":\"float64\",\"order\":\"little\",\"shape\":[3]},\"index\":[554,555,556],\"y_index\":[15,15,15]},\"selected\":{\"id\":\"10892\"},\"selection_policy\":{\"id\":\"10891\"}},\"id\":\"10162\",\"type\":\"ColumnDataSource\"},{\"attributes\":{\"fill_alpha\":{\"value\":0.1},\"fill_color\":{\"value\":\"#2A758E\"},\"hatch_alpha\":{\"value\":0.1},\"hatch_color\":{\"value\":\"#2A758E\"},\"line_alpha\":{\"value\":0.1},\"line_color\":{\"value\":\"#2A758E\"},\"x\":{\"field\":\"date_time\"},\"y\":{\"field\":\"y_index\"}},\"id\":\"10373\",\"type\":\"Circle\"},{\"attributes\":{\"fill_color\":{\"value\":\"#2A758E\"},\"hatch_color\":{\"value\":\"#2A758E\"},\"line_color\":{\"value\":\"#2A758E\"},\"x\":{\"field\":\"date_time\"},\"y\":{\"field\":\"y_index\"}},\"id\":\"10372\",\"type\":\"Circle\"},{\"attributes\":{\"data\":{\"date_time\":{\"__ndarray__\":\"AACY8Qrfc0IAAJjxCt9zQgAATrYI33NCAABOtgjfc0IAAFbqB+BzQgAAJCpT4XNCAAAmKPngc0IAAPAsvuNzQgAAiEsW5HNC\",\"dtype\":\"float64\",\"order\":\"little\",\"shape\":[9]},\"index\":[480,481,482,483,484,485,486,487,488],\"y_index\":[28,28,28,28,28,28,28,28,28]},\"selected\":{\"id\":\"10918\"},\"selection_policy\":{\"id\":\"10917\"}},\"id\":\"10175\",\"type\":\"ColumnDataSource\"},{\"attributes\":{\"source\":{\"id\":\"10167\"}},\"id\":\"10370\",\"type\":\"CDSView\"},{\"attributes\":{\"coordinates\":null,\"data_source\":{\"id\":\"10167\"},\"glyph\":{\"id\":\"10366\"},\"group\":null,\"hover_glyph\":null,\"muted_glyph\":{\"id\":\"10368\"},\"nonselection_glyph\":{\"id\":\"10367\"},\"view\":{\"id\":\"10370\"}},\"id\":\"10369\",\"type\":\"GlyphRenderer\"},{\"attributes\":{\"fill_alpha\":{\"value\":0.2},\"fill_color\":{\"value\":\"#2C708E\"},\"hatch_alpha\":{\"value\":0.2},\"hatch_color\":{\"value\":\"#2C708E\"},\"line_alpha\":{\"value\":0.2},\"line_color\":{\"value\":\"#2C708E\"},\"x\":{\"field\":\"date_time\"},\"y\":{\"field\":\"y_index\"}},\"id\":\"10368\",\"type\":\"Circle\"},{\"attributes\":{\"coordinates\":null,\"data_source\":{\"id\":\"10180\"},\"glyph\":{\"id\":\"10444\"},\"group\":null,\"hover_glyph\":null,\"muted_glyph\":{\"id\":\"10446\"},\"nonselection_glyph\":{\"id\":\"10445\"},\"view\":{\"id\":\"10448\"}},\"id\":\"10447\",\"type\":\"GlyphRenderer\"},{\"attributes\":{\"source\":{\"id\":\"10180\"}},\"id\":\"10448\",\"type\":\"CDSView\"},{\"attributes\":{\"fill_alpha\":{\"value\":0.1},\"fill_color\":{\"value\":\"#29798E\"},\"hatch_alpha\":{\"value\":0.1},\"hatch_color\":{\"value\":\"#29798E\"},\"line_alpha\":{\"value\":0.1},\"line_color\":{\"value\":\"#29798E\"},\"x\":{\"field\":\"date_time\"},\"y\":{\"field\":\"y_index\"}},\"id\":\"10379\",\"type\":\"Circle\"},{\"attributes\":{\"fill_color\":{\"value\":\"#29798E\"},\"hatch_color\":{\"value\":\"#29798E\"},\"line_color\":{\"value\":\"#29798E\"},\"x\":{\"field\":\"date_time\"},\"y\":{\"field\":\"y_index\"}},\"id\":\"10378\",\"type\":\"Circle\"},{\"attributes\":{\"source\":{\"id\":\"10168\"}},\"id\":\"10376\",\"type\":\"CDSView\"},{\"attributes\":{\"coordinates\":null,\"data_source\":{\"id\":\"10168\"},\"glyph\":{\"id\":\"10372\"},\"group\":null,\"hover_glyph\":null,\"muted_glyph\":{\"id\":\"10374\"},\"nonselection_glyph\":{\"id\":\"10373\"},\"view\":{\"id\":\"10376\"}},\"id\":\"10375\",\"type\":\"GlyphRenderer\"},{\"attributes\":{\"fill_alpha\":{\"value\":0.2},\"fill_color\":{\"value\":\"#2A758E\"},\"hatch_alpha\":{\"value\":0.2},\"hatch_color\":{\"value\":\"#2A758E\"},\"line_alpha\":{\"value\":0.2},\"line_color\":{\"value\":\"#2A758E\"},\"x\":{\"field\":\"date_time\"},\"y\":{\"field\":\"y_index\"}},\"id\":\"10374\",\"type\":\"Circle\"},{\"attributes\":{\"data\":{\"date_time\":{\"__ndarray__\":\"AAAMucLcc0IAAPqPdtxzQgAAqg9W3HNCAACwdhXdc0IAAHi3Zt1zQgAA4C9Y3nNCAAAS9gXec0IAAD4cs95zQgAAVuQO33NCAAC0s9Dgc0IAAIIB8OFzQgAA+ld55HNCAAB4QSDlc0I=\",\"dtype\":\"float64\",\"order\":\"little\",\"shape\":[13]},\"index\":[381,382,383,384,385,386,387,388,389,390,391,392,393],\"y_index\":[34,34,34,34,34,34,34,34,34,34,34,34,34]},\"selected\":{\"id\":\"10930\"},\"selection_policy\":{\"id\":\"10929\"}},\"id\":\"10181\",\"type\":\"ColumnDataSource\"},{\"attributes\":{\"fill_color\":{\"value\":\"#28AE7F\"},\"hatch_color\":{\"value\":\"#28AE7F\"},\"line_color\":{\"value\":\"#28AE7F\"},\"x\":{\"field\":\"date_time\"},\"y\":{\"field\":\"y_index\"}},\"id\":\"10450\",\"type\":\"Circle\"},{\"attributes\":{\"fill_alpha\":{\"value\":0.1},\"fill_color\":{\"value\":\"#28AE7F\"},\"hatch_alpha\":{\"value\":0.1},\"hatch_color\":{\"value\":\"#28AE7F\"},\"line_alpha\":{\"value\":0.1},\"line_color\":{\"value\":\"#28AE7F\"},\"x\":{\"field\":\"date_time\"},\"y\":{\"field\":\"y_index\"}},\"id\":\"10451\",\"type\":\"Circle\"},{\"attributes\":{},\"id\":\"10877\",\"type\":\"UnionRenderers\"},{\"attributes\":{\"fill_alpha\":{\"value\":0.1},\"fill_color\":{\"value\":\"#277D8E\"},\"hatch_alpha\":{\"value\":0.1},\"hatch_color\":{\"value\":\"#277D8E\"},\"line_alpha\":{\"value\":0.1},\"line_color\":{\"value\":\"#277D8E\"},\"x\":{\"field\":\"date_time\"},\"y\":{\"field\":\"y_index\"}},\"id\":\"10385\",\"type\":\"Circle\"},{\"attributes\":{\"fill_color\":{\"value\":\"#277D8E\"},\"hatch_color\":{\"value\":\"#277D8E\"},\"line_color\":{\"value\":\"#277D8E\"},\"x\":{\"field\":\"date_time\"},\"y\":{\"field\":\"y_index\"}},\"id\":\"10384\",\"type\":\"Circle\"},{\"attributes\":{\"source\":{\"id\":\"10169\"}},\"id\":\"10382\",\"type\":\"CDSView\"},{\"attributes\":{},\"id\":\"10878\",\"type\":\"Selection\"},{\"attributes\":{\"coordinates\":null,\"data_source\":{\"id\":\"10169\"},\"glyph\":{\"id\":\"10378\"},\"group\":null,\"hover_glyph\":null,\"muted_glyph\":{\"id\":\"10380\"},\"nonselection_glyph\":{\"id\":\"10379\"},\"view\":{\"id\":\"10382\"}},\"id\":\"10381\",\"type\":\"GlyphRenderer\"},{\"attributes\":{\"data\":{\"date_time\":{\"__ndarray__\":\"AADQE3fcc0IAAJ76wdxzQgAAlqkp3XNCAAByvmXdc0IAABbrZ91zQgAAsOu93XNCAADoVnTec0IAAIg7Dd9zQgAARBW03nNCAABUd7nfc0IAADx4/t5zQgAA9jBt33NCAACiYfnfc0IAAEyN9eBzQgAArupE4XNCAABempnhc0IAABo88OFzQgAAVmui4nNCAAC2yzzic0IAAHBEgORzQgAAWACS43NCAADuzi3jc0IAAMzmF+VzQgAAuFB25XNCAAAUqwfpc0IAAEDMrOdzQgAAvpSj5nNCAAAAkfjpc0IAABRk8upzQgAA3tYi53NCAABG2mvnc0IAAKZA/+dzQgAAsu6+5nNCAAAUQlHqc0IAAAAThOtzQgAAqk1F63NCAAA+ykLsc0IAAP6CnOxzQgAANILu7HNCAAC8l0Htc0IAAOCdvO1zQgAAyP7r7XNCAACEDgHvc0IAAMjTfu9zQg==\",\"dtype\":\"float64\",\"order\":\"little\",\"shape\":[44]},\"index\":[489,490,491,492,493,494,495,496,497,498,499,500,501,502,503,504,505,506,507,508,509,510,511,512,513,514,515,516,517,518,519,520,521,522,523,524,525,526,527,528,529,530,531,532],\"y_index\":[14,14,14,14,14,14,14,14,14,14,14,14,14,14,14,14,14,14,14,14,14,14,14,14,14,14,14,14,14,14,14,14,14,14,14,14,14,14,14,14,14,14,14,14]},\"selected\":{\"id\":\"10890\"},\"selection_policy\":{\"id\":\"10889\"}},\"id\":\"10161\",\"type\":\"ColumnDataSource\"},{\"attributes\":{\"data\":{\"date_time\":{\"__ndarray__\":\"AACk88Lcc0IAAOosgNxzQgAAJhAV3XNCAADQV7ndc0IAAGrjZt1zQgAAZAwH3nNCAAD69Vnec0IAAAbD5+BzQgAA/PIO33NCAACK+Jbhc0IAAPgfTuBzQgAAvlwA4HNCAAB4fEPhc0IAAGLlKOVzQgAACp/H5HNCAACqI3bkc0IAAAZQdOVzQgAAxgjO5XNCAADaO7Lnc0IAABRk8upzQgAAxPGl6nNCAAAYDEbrc0IAAOhcE+5zQgAAeoJq7nNC\",\"dtype\":\"float64\",\"order\":\"little\",\"shape\":[24]},\"index\":[176,177,178,179,180,181,182,183,184,185,186,187,188,189,190,191,192,193,194,195,196,197,198,199],\"y_index\":[27,27,27,27,27,27,27,27,27,27,27,27,27,27,27,27,27,27,27,27,27,27,27,27]},\"selected\":{\"id\":\"10916\"},\"selection_policy\":{\"id\":\"10915\"}},\"id\":\"10174\",\"type\":\"ColumnDataSource\"},{\"attributes\":{\"fill_alpha\":{\"value\":0.2},\"fill_color\":{\"value\":\"#29798E\"},\"hatch_alpha\":{\"value\":0.2},\"hatch_color\":{\"value\":\"#29798E\"},\"line_alpha\":{\"value\":0.2},\"line_color\":{\"value\":\"#29798E\"},\"x\":{\"field\":\"date_time\"},\"y\":{\"field\":\"y_index\"}},\"id\":\"10380\",\"type\":\"Circle\"},{\"attributes\":{\"fill_alpha\":{\"value\":0.1},\"fill_color\":{\"value\":\"#45065A\"},\"hatch_alpha\":{\"value\":0.1},\"hatch_color\":{\"value\":\"#45065A\"},\"line_alpha\":{\"value\":0.1},\"line_color\":{\"value\":\"#45065A\"},\"marker\":{\"value\":\"diamond\"},\"size\":{\"value\":10},\"x\":{\"field\":\"date_time\"},\"y\":{\"field\":\"y_index\"}},\"id\":\"10537\",\"type\":\"Scatter\"},{\"attributes\":{\"fill_alpha\":{\"value\":0.1},\"fill_color\":{\"value\":\"#25828E\"},\"hatch_alpha\":{\"value\":0.1},\"hatch_color\":{\"value\":\"#25828E\"},\"line_alpha\":{\"value\":0.1},\"line_color\":{\"value\":\"#25828E\"},\"x\":{\"field\":\"date_time\"},\"y\":{\"field\":\"y_index\"}},\"id\":\"10391\",\"type\":\"Circle\"},{\"attributes\":{\"fill_color\":{\"value\":\"#25828E\"},\"hatch_color\":{\"value\":\"#25828E\"},\"line_color\":{\"value\":\"#25828E\"},\"x\":{\"field\":\"date_time\"},\"y\":{\"field\":\"y_index\"}},\"id\":\"10390\",\"type\":\"Circle\"},{\"attributes\":{\"source\":{\"id\":\"10170\"}},\"id\":\"10388\",\"type\":\"CDSView\"},{\"attributes\":{\"coordinates\":null,\"data_source\":{\"id\":\"10170\"},\"glyph\":{\"id\":\"10384\"},\"group\":null,\"hover_glyph\":null,\"muted_glyph\":{\"id\":\"10386\"},\"nonselection_glyph\":{\"id\":\"10385\"},\"view\":{\"id\":\"10388\"}},\"id\":\"10387\",\"type\":\"GlyphRenderer\"},{\"attributes\":{\"fill_alpha\":{\"value\":0.2},\"fill_color\":{\"value\":\"#277D8E\"},\"hatch_alpha\":{\"value\":0.2},\"hatch_color\":{\"value\":\"#277D8E\"},\"line_alpha\":{\"value\":0.2},\"line_color\":{\"value\":\"#277D8E\"},\"x\":{\"field\":\"date_time\"},\"y\":{\"field\":\"y_index\"}},\"id\":\"10386\",\"type\":\"Circle\"},{\"attributes\":{\"fill_alpha\":{\"value\":0.2},\"fill_color\":{\"value\":\"#21A685\"},\"hatch_alpha\":{\"value\":0.2},\"hatch_color\":{\"value\":\"#21A685\"},\"line_alpha\":{\"value\":0.2},\"line_color\":{\"value\":\"#21A685\"},\"x\":{\"field\":\"date_time\"},\"y\":{\"field\":\"y_index\"}},\"id\":\"10440\",\"type\":\"Circle\"},{\"attributes\":{\"coordinates\":null,\"data_source\":{\"id\":\"10179\"},\"glyph\":{\"id\":\"10438\"},\"group\":null,\"hover_glyph\":null,\"muted_glyph\":{\"id\":\"10440\"},\"nonselection_glyph\":{\"id\":\"10439\"},\"view\":{\"id\":\"10442\"}},\"id\":\"10441\",\"type\":\"GlyphRenderer\"},{\"attributes\":{\"data\":{\"date_time\":{\"__ndarray__\":\"AACQChrdc0IAAMjrad1zQgAAnpEL3nNCAABevw3fc0IAAPiZUepzQg==\",\"dtype\":\"float64\",\"order\":\"little\",\"shape\":[5]},\"index\":[254,255,256,257,258],\"y_index\":[37,37,37,37,37]},\"selected\":{\"id\":\"10936\"},\"selection_policy\":{\"id\":\"10935\"}},\"id\":\"10184\",\"type\":\"ColumnDataSource\"},{\"attributes\":{\"fill_alpha\":{\"value\":0.1},\"fill_color\":{\"value\":\"#23878D\"},\"hatch_alpha\":{\"value\":0.1},\"hatch_color\":{\"value\":\"#23878D\"},\"line_alpha\":{\"value\":0.1},\"line_color\":{\"value\":\"#23878D\"},\"x\":{\"field\":\"date_time\"},\"y\":{\"field\":\"y_index\"}},\"id\":\"10397\",\"type\":\"Circle\"},{\"attributes\":{\"fill_color\":{\"value\":\"#23878D\"},\"hatch_color\":{\"value\":\"#23878D\"},\"line_color\":{\"value\":\"#23878D\"},\"x\":{\"field\":\"date_time\"},\"y\":{\"field\":\"y_index\"}},\"id\":\"10396\",\"type\":\"Circle\"},{\"attributes\":{\"source\":{\"id\":\"10171\"}},\"id\":\"10394\",\"type\":\"CDSView\"},{\"attributes\":{\"coordinates\":null,\"data_source\":{\"id\":\"10171\"},\"glyph\":{\"id\":\"10390\"},\"group\":null,\"hover_glyph\":null,\"muted_glyph\":{\"id\":\"10392\"},\"nonselection_glyph\":{\"id\":\"10391\"},\"view\":{\"id\":\"10394\"}},\"id\":\"10393\",\"type\":\"GlyphRenderer\"},{\"attributes\":{\"fill_alpha\":{\"value\":0.2},\"fill_color\":{\"value\":\"#25828E\"},\"hatch_alpha\":{\"value\":0.2},\"hatch_color\":{\"value\":\"#25828E\"},\"line_alpha\":{\"value\":0.2},\"line_color\":{\"value\":\"#25828E\"},\"x\":{\"field\":\"date_time\"},\"y\":{\"field\":\"y_index\"}},\"id\":\"10392\",\"type\":\"Circle\"},{\"attributes\":{\"source\":{\"id\":\"10179\"}},\"id\":\"10442\",\"type\":\"CDSView\"},{\"attributes\":{\"fill_color\":{\"value\":\"#23A982\"},\"hatch_color\":{\"value\":\"#23A982\"},\"line_color\":{\"value\":\"#23A982\"},\"x\":{\"field\":\"date_time\"},\"y\":{\"field\":\"y_index\"}},\"id\":\"10444\",\"type\":\"Circle\"},{\"attributes\":{},\"id\":\"10879\",\"type\":\"UnionRenderers\"},{\"attributes\":{\"fill_alpha\":{\"value\":0.1},\"fill_color\":{\"value\":\"#228A8D\"},\"hatch_alpha\":{\"value\":0.1},\"hatch_color\":{\"value\":\"#228A8D\"},\"line_alpha\":{\"value\":0.1},\"line_color\":{\"value\":\"#228A8D\"},\"x\":{\"field\":\"date_time\"},\"y\":{\"field\":\"y_index\"}},\"id\":\"10403\",\"type\":\"Circle\"},{\"attributes\":{\"fill_color\":{\"value\":\"#228A8D\"},\"hatch_color\":{\"value\":\"#228A8D\"},\"line_color\":{\"value\":\"#228A8D\"},\"x\":{\"field\":\"date_time\"},\"y\":{\"field\":\"y_index\"}},\"id\":\"10402\",\"type\":\"Circle\"},{\"attributes\":{\"source\":{\"id\":\"10172\"}},\"id\":\"10400\",\"type\":\"CDSView\"},{\"attributes\":{},\"id\":\"10880\",\"type\":\"Selection\"},{\"attributes\":{\"coordinates\":null,\"data_source\":{\"id\":\"10172\"},\"glyph\":{\"id\":\"10396\"},\"group\":null,\"hover_glyph\":null,\"muted_glyph\":{\"id\":\"10398\"},\"nonselection_glyph\":{\"id\":\"10397\"},\"view\":{\"id\":\"10400\"}},\"id\":\"10399\",\"type\":\"GlyphRenderer\"},{\"attributes\":{\"data\":{\"date_time\":{\"__ndarray__\":\"AADIDvzcc0IAAKTk/d1zQgAA/tX93XNCAAAwcT7fc0IAAKwIR+FzQgAAOtZ+5HNC\",\"dtype\":\"float64\",\"order\":\"little\",\"shape\":[6]},\"index\":[610,611,612,613,614,615],\"y_index\":[21,21,21,21,21,21]},\"selected\":{\"id\":\"10904\"},\"selection_policy\":{\"id\":\"10903\"}},\"id\":\"10168\",\"type\":\"ColumnDataSource\"},{\"attributes\":{\"data\":{\"date_time\":{\"__ndarray__\":\"AAD8Vczcc0IAAAhkdtxzQgAAJoW93XNCAABu+mndc0IAALysWd5zQgAAUOsN33NCAACeNEfhc0IAAMgl7+FzQgAAqIiN4nNCAAAsQbnjc0IAADDqUOpzQgAA/G0D6HNCAAAKUcjmc0IAAKriWedzQgAA0lb26nNCAABcOYnrc0IAAFw5ietzQgAAyC5h7nNCAACIxRnuc0IAAIjFGe5zQgAA+Dqr73NC\",\"dtype\":\"float64\",\"order\":\"little\",\"shape\":[21]},\"index\":[147,148,149,150,151,152,153,154,155,156,157,158,159,160,161,162,163,164,165,166,167],\"y_index\":[38,38,38,38,38,38,38,38,38,38,38,38,38,38,38,38,38,38,38,38,38]},\"selected\":{\"id\":\"10938\"},\"selection_policy\":{\"id\":\"10937\"}},\"id\":\"10185\",\"type\":\"ColumnDataSource\"},{\"attributes\":{\"fill_alpha\":{\"value\":0.2},\"fill_color\":{\"value\":\"#23878D\"},\"hatch_alpha\":{\"value\":0.2},\"hatch_color\":{\"value\":\"#23878D\"},\"line_alpha\":{\"value\":0.2},\"line_color\":{\"value\":\"#23878D\"},\"x\":{\"field\":\"date_time\"},\"y\":{\"field\":\"y_index\"}},\"id\":\"10398\",\"type\":\"Circle\"},{\"attributes\":{\"fill_alpha\":{\"value\":0.1},\"fill_color\":{\"value\":\"#23A982\"},\"hatch_alpha\":{\"value\":0.1},\"hatch_color\":{\"value\":\"#23A982\"},\"line_alpha\":{\"value\":0.1},\"line_color\":{\"value\":\"#23A982\"},\"x\":{\"field\":\"date_time\"},\"y\":{\"field\":\"y_index\"}},\"id\":\"10445\",\"type\":\"Circle\"},{\"attributes\":{\"fill_alpha\":{\"value\":0.2},\"fill_color\":{\"value\":\"#45065A\"},\"hatch_alpha\":{\"value\":0.2},\"hatch_color\":{\"value\":\"#45065A\"},\"line_alpha\":{\"value\":0.2},\"line_color\":{\"value\":\"#45065A\"},\"marker\":{\"value\":\"diamond\"},\"size\":{\"value\":10},\"x\":{\"field\":\"date_time\"},\"y\":{\"field\":\"y_index\"}},\"id\":\"10538\",\"type\":\"Scatter\"},{\"attributes\":{\"data\":{\"date_time\":{\"__ndarray__\":\"AAAoYcLcc0IAAKCedtxzQgAAkF0h3XNCAABiCGjdc0IAAOgKV95zQgAAJFC43XNCAAAopQTec0IAAPxhvt5zQgAAemcN33NCAABcC6Phc0IAAIK3tN9zQgAA8sZi33NCAAAa8cPgc0IAAIATAOBzQgAAIu9U4HNCAAB4fEPhc0IAAJj2EuFzQgAANALy4XNCAADyK1Xic0IAAGhdj+JzQgAACFfm4nNCAAA2BaDjc0IAAPBHdeRzQgAA1tpz5XNCAAAGKwDoc0IAAHYty+ZzQgAANg+w53NCAABGxa3nc0IAAKJsTepzQgAAyIEV53NCAABAFujpc0IAAKAog+tzQgAA/NUb73NCAAAY+q3vc0I=\",\"dtype\":\"float64\",\"order\":\"little\",\"shape\":[34]},\"index\":[394,395,396,397,398,399,400,401,402,403,404,405,406,407,408,409,410,411,412,413,414,415,416,417,418,419,420,421,422,423,424,425,426,427],\"y_index\":[24,24,24,24,24,24,24,24,24,24,24,24,24,24,24,24,24,24,24,24,24,24,24,24,24,24,24,24,24,24,24,24,24,24]},\"selected\":{\"id\":\"10910\"},\"selection_policy\":{\"id\":\"10909\"}},\"id\":\"10171\",\"type\":\"ColumnDataSource\"},{\"attributes\":{\"fill_alpha\":{\"value\":0.1},\"fill_color\":{\"value\":\"#208F8C\"},\"hatch_alpha\":{\"value\":0.1},\"hatch_color\":{\"value\":\"#208F8C\"},\"line_alpha\":{\"value\":0.1},\"line_color\":{\"value\":\"#208F8C\"},\"x\":{\"field\":\"date_time\"},\"y\":{\"field\":\"y_index\"}},\"id\":\"10409\",\"type\":\"Circle\"},{\"attributes\":{\"fill_color\":{\"value\":\"#208F8C\"},\"hatch_color\":{\"value\":\"#208F8C\"},\"line_color\":{\"value\":\"#208F8C\"},\"x\":{\"field\":\"date_time\"},\"y\":{\"field\":\"y_index\"}},\"id\":\"10408\",\"type\":\"Circle\"},{\"attributes\":{\"source\":{\"id\":\"10173\"}},\"id\":\"10406\",\"type\":\"CDSView\"},{\"attributes\":{\"coordinates\":null,\"data_source\":{\"id\":\"10173\"},\"glyph\":{\"id\":\"10402\"},\"group\":null,\"hover_glyph\":null,\"muted_glyph\":{\"id\":\"10404\"},\"nonselection_glyph\":{\"id\":\"10403\"},\"view\":{\"id\":\"10406\"}},\"id\":\"10405\",\"type\":\"GlyphRenderer\"},{\"attributes\":{\"fill_alpha\":{\"value\":0.2},\"fill_color\":{\"value\":\"#228A8D\"},\"hatch_alpha\":{\"value\":0.2},\"hatch_color\":{\"value\":\"#228A8D\"},\"line_alpha\":{\"value\":0.2},\"line_color\":{\"value\":\"#228A8D\"},\"x\":{\"field\":\"date_time\"},\"y\":{\"field\":\"y_index\"}},\"id\":\"10404\",\"type\":\"Circle\"},{\"attributes\":{\"fill_alpha\":{\"value\":0.5},\"fill_color\":{\"value\":\"#39548B\"},\"hatch_alpha\":{\"value\":0.5},\"hatch_color\":{\"value\":\"#39548B\"},\"line_alpha\":{\"value\":0.5},\"line_color\":{\"value\":\"#39548B\"},\"marker\":{\"value\":\"diamond\"},\"size\":{\"value\":10},\"x\":{\"field\":\"date_time\"},\"y\":{\"field\":\"y_index\"}},\"id\":\"10627\",\"type\":\"Scatter\"},{\"attributes\":{\"coordinates\":null,\"data_source\":{\"id\":\"10178\"},\"glyph\":{\"id\":\"10432\"},\"group\":null,\"hover_glyph\":null,\"muted_glyph\":{\"id\":\"10434\"},\"nonselection_glyph\":{\"id\":\"10433\"},\"view\":{\"id\":\"10436\"}},\"id\":\"10435\",\"type\":\"GlyphRenderer\"},{\"attributes\":{\"fill_alpha\":{\"value\":0.1},\"fill_color\":{\"value\":\"#1F948B\"},\"hatch_alpha\":{\"value\":0.1},\"hatch_color\":{\"value\":\"#1F948B\"},\"line_alpha\":{\"value\":0.1},\"line_color\":{\"value\":\"#1F948B\"},\"x\":{\"field\":\"date_time\"},\"y\":{\"field\":\"y_index\"}},\"id\":\"10415\",\"type\":\"Circle\"},{\"attributes\":{\"data\":{\"date_time\":{\"__ndarray__\":\"AAB6d8Pcc0IAAFx+Ft1zQgAAYjHz3XNCAACcHr3dc0IAAIx2k91zQgAASGQH3nNCAABiu1nec0IAAGQCSuFzQgAA/q+Y4XNCAAACxMjkc0I=\",\"dtype\":\"float64\",\"order\":\"little\",\"shape\":[10]},\"index\":[321,322,323,324,325,326,327,328,329,330],\"y_index\":[39,39,39,39,39,39,39,39,39,39]},\"selected\":{\"id\":\"10940\"},\"selection_policy\":{\"id\":\"10939\"}},\"id\":\"10186\",\"type\":\"ColumnDataSource\"},{\"attributes\":{\"fill_color\":{\"value\":\"#1F948B\"},\"hatch_color\":{\"value\":\"#1F948B\"},\"line_color\":{\"value\":\"#1F948B\"},\"x\":{\"field\":\"date_time\"},\"y\":{\"field\":\"y_index\"}},\"id\":\"10414\",\"type\":\"Circle\"},{\"attributes\":{\"source\":{\"id\":\"10174\"}},\"id\":\"10412\",\"type\":\"CDSView\"},{\"attributes\":{\"coordinates\":null,\"data_source\":{\"id\":\"10174\"},\"glyph\":{\"id\":\"10408\"},\"group\":null,\"hover_glyph\":null,\"muted_glyph\":{\"id\":\"10410\"},\"nonselection_glyph\":{\"id\":\"10409\"},\"view\":{\"id\":\"10412\"}},\"id\":\"10411\",\"type\":\"GlyphRenderer\"},{\"attributes\":{\"fill_alpha\":{\"value\":0.2},\"fill_color\":{\"value\":\"#208F8C\"},\"hatch_alpha\":{\"value\":0.2},\"hatch_color\":{\"value\":\"#208F8C\"},\"line_alpha\":{\"value\":0.2},\"line_color\":{\"value\":\"#208F8C\"},\"x\":{\"field\":\"date_time\"},\"y\":{\"field\":\"y_index\"}},\"id\":\"10410\",\"type\":\"Circle\"},{\"attributes\":{\"fill_alpha\":{\"value\":0.2},\"fill_color\":{\"value\":\"#1FA187\"},\"hatch_alpha\":{\"value\":0.2},\"hatch_color\":{\"value\":\"#1FA187\"},\"line_alpha\":{\"value\":0.2},\"line_color\":{\"value\":\"#1FA187\"},\"x\":{\"field\":\"date_time\"},\"y\":{\"field\":\"y_index\"}},\"id\":\"10434\",\"type\":\"Circle\"},{\"attributes\":{\"data\":{\"date_time\":{\"__ndarray__\":\"AABaIIbcc0IAAPjrwdxzQgAAZFkV3XNCAAAW62fdc0IAAF7VvN1zQgAAXtW83XNCAAAwJhLec0IAAKJ+kt5zQgAAnKZB4HNCAADk6Zbhc0IAAOg3+eFzQgAAAqvz4XNCAACy2+Lkc0IAAMBroONzQgAAzDkf5XNCAAAamBbnc0IAALSDrudzQgAA6AX16nNCAADsOKDqc0IAAJ4nCu9zQgAAAkW27nNC\",\"dtype\":\"float64\",\"order\":\"little\",\"shape\":[21]},\"index\":[533,534,535,536,537,538,539,540,541,542,543,544,545,546,547,548,549,550,551,552,553],\"y_index\":[40,40,40,40,40,40,40,40,40,40,40,40,40,40,40,40,40,40,40,40,40]},\"selected\":{\"id\":\"10942\"},\"selection_policy\":{\"id\":\"10941\"}},\"id\":\"10187\",\"type\":\"ColumnDataSource\"},{\"attributes\":{\"fill_color\":{\"value\":\"#21A685\"},\"hatch_color\":{\"value\":\"#21A685\"},\"line_color\":{\"value\":\"#21A685\"},\"x\":{\"field\":\"date_time\"},\"y\":{\"field\":\"y_index\"}},\"id\":\"10438\",\"type\":\"Circle\"},{\"attributes\":{},\"id\":\"10881\",\"type\":\"UnionRenderers\"},{\"attributes\":{\"fill_alpha\":{\"value\":0.1},\"fill_color\":{\"value\":\"#1E988A\"},\"hatch_alpha\":{\"value\":0.1},\"hatch_color\":{\"value\":\"#1E988A\"},\"line_alpha\":{\"value\":0.1},\"line_color\":{\"value\":\"#1E988A\"},\"x\":{\"field\":\"date_time\"},\"y\":{\"field\":\"y_index\"}},\"id\":\"10421\",\"type\":\"Circle\"},{\"attributes\":{\"fill_color\":{\"value\":\"#1E988A\"},\"hatch_color\":{\"value\":\"#1E988A\"},\"line_color\":{\"value\":\"#1E988A\"},\"x\":{\"field\":\"date_time\"},\"y\":{\"field\":\"y_index\"}},\"id\":\"10420\",\"type\":\"Circle\"},{\"attributes\":{\"source\":{\"id\":\"10175\"}},\"id\":\"10418\",\"type\":\"CDSView\"},{\"attributes\":{},\"id\":\"10882\",\"type\":\"Selection\"},{\"attributes\":{\"coordinates\":null,\"data_source\":{\"id\":\"10175\"},\"glyph\":{\"id\":\"10414\"},\"group\":null,\"hover_glyph\":null,\"muted_glyph\":{\"id\":\"10416\"},\"nonselection_glyph\":{\"id\":\"10415\"},\"view\":{\"id\":\"10418\"}},\"id\":\"10417\",\"type\":\"GlyphRenderer\"},{\"attributes\":{\"data\":{\"date_time\":{\"__ndarray__\":\"AABKAsPcc0IAAGhOd9xzQgAAMCAZ3XNCAAAQRW7dc0IAAFbJV95zQgAAksay4HNCAAAQExffc0IAAIxm3d9zQgAA4oUN4HNCAABqoVnhc0IAAFREceJzQgAA5O+P4nNCAAC+buvic0IAAGbwOeNzQgAAFnUh5XNCAAD8oTzkc0IAABZ1IeVzQgAAmL8G6HNCAADgnHjnc0IAACigoupzQgAAsqTW63NCAACypNbrc0IAAP4RC+9zQgAA9lK07nNCAABS7mHvc0I=\",\"dtype\":\"float64\",\"order\":\"little\",\"shape\":[25]},\"index\":[428,429,430,431,432,433,434,435,436,437,438,439,440,441,442,443,444,445,446,447,448,449,450,451,452],\"y_index\":[23,23,23,23,23,23,23,23,23,23,23,23,23,23,23,23,23,23,23,23,23,23,23,23,23]},\"selected\":{\"id\":\"10908\"},\"selection_policy\":{\"id\":\"10907\"}},\"id\":\"10170\",\"type\":\"ColumnDataSource\"},{\"attributes\":{\"fill_alpha\":{\"value\":0.2},\"fill_color\":{\"value\":\"#1F948B\"},\"hatch_alpha\":{\"value\":0.2},\"hatch_color\":{\"value\":\"#1F948B\"},\"line_alpha\":{\"value\":0.2},\"line_color\":{\"value\":\"#1F948B\"},\"x\":{\"field\":\"date_time\"},\"y\":{\"field\":\"y_index\"}},\"id\":\"10416\",\"type\":\"Circle\"},{\"attributes\":{\"source\":{\"id\":\"10178\"}},\"id\":\"10436\",\"type\":\"CDSView\"},{\"attributes\":{\"fill_alpha\":{\"value\":0.1},\"fill_color\":{\"value\":\"#21A685\"},\"hatch_alpha\":{\"value\":0.1},\"hatch_color\":{\"value\":\"#21A685\"},\"line_alpha\":{\"value\":0.1},\"line_color\":{\"value\":\"#21A685\"},\"x\":{\"field\":\"date_time\"},\"y\":{\"field\":\"y_index\"}},\"id\":\"10439\",\"type\":\"Circle\"},{\"attributes\":{\"fill_alpha\":{\"value\":0.2},\"fill_color\":{\"value\":\"#1E9C89\"},\"hatch_alpha\":{\"value\":0.2},\"hatch_color\":{\"value\":\"#1E9C89\"},\"line_alpha\":{\"value\":0.2},\"line_color\":{\"value\":\"#1E9C89\"},\"x\":{\"field\":\"date_time\"},\"y\":{\"field\":\"y_index\"}},\"id\":\"10428\",\"type\":\"Circle\"},{\"attributes\":{\"fill_color\":{\"value\":\"#1E9C89\"},\"hatch_color\":{\"value\":\"#1E9C89\"},\"line_color\":{\"value\":\"#1E9C89\"},\"x\":{\"field\":\"date_time\"},\"y\":{\"field\":\"y_index\"}},\"id\":\"10426\",\"type\":\"Circle\"},{\"attributes\":{\"source\":{\"id\":\"10176\"}},\"id\":\"10424\",\"type\":\"CDSView\"},{\"attributes\":{\"coordinates\":null,\"data_source\":{\"id\":\"10176\"},\"glyph\":{\"id\":\"10420\"},\"group\":null,\"hover_glyph\":null,\"muted_glyph\":{\"id\":\"10422\"},\"nonselection_glyph\":{\"id\":\"10421\"},\"view\":{\"id\":\"10424\"}},\"id\":\"10423\",\"type\":\"GlyphRenderer\"},{\"attributes\":{\"fill_alpha\":{\"value\":0.2},\"fill_color\":{\"value\":\"#1E988A\"},\"hatch_alpha\":{\"value\":0.2},\"hatch_color\":{\"value\":\"#1E988A\"},\"line_alpha\":{\"value\":0.2},\"line_color\":{\"value\":\"#1E988A\"},\"x\":{\"field\":\"date_time\"},\"y\":{\"field\":\"y_index\"}},\"id\":\"10422\",\"type\":\"Circle\"},{\"attributes\":{\"fill_alpha\":{\"value\":0.1},\"fill_color\":{\"value\":\"#1FA187\"},\"hatch_alpha\":{\"value\":0.1},\"hatch_color\":{\"value\":\"#1FA187\"},\"line_alpha\":{\"value\":0.1},\"line_color\":{\"value\":\"#1FA187\"},\"x\":{\"field\":\"date_time\"},\"y\":{\"field\":\"y_index\"}},\"id\":\"10433\",\"type\":\"Circle\"},{\"attributes\":{\"fill_alpha\":{\"value\":0.1},\"fill_color\":{\"value\":\"#1E9C89\"},\"hatch_alpha\":{\"value\":0.1},\"hatch_color\":{\"value\":\"#1E9C89\"},\"line_alpha\":{\"value\":0.1},\"line_color\":{\"value\":\"#1E9C89\"},\"x\":{\"field\":\"date_time\"},\"y\":{\"field\":\"y_index\"}},\"id\":\"10427\",\"type\":\"Circle\"},{\"attributes\":{\"fill_alpha\":{\"value\":0.5},\"fill_color\":{\"value\":\"#77D052\"},\"hatch_alpha\":{\"value\":0.5},\"hatch_color\":{\"value\":\"#77D052\"},\"line_alpha\":{\"value\":0.5},\"line_color\":{\"value\":\"#77D052\"},\"marker\":{\"value\":\"diamond\"},\"size\":{\"value\":10},\"x\":{\"field\":\"date_time\"},\"y\":{\"field\":\"y_index\"}},\"id\":\"10830\",\"type\":\"Scatter\"},{\"attributes\":{\"fill_color\":{\"value\":\"#1FA187\"},\"hatch_color\":{\"value\":\"#1FA187\"},\"line_color\":{\"value\":\"#1FA187\"},\"x\":{\"field\":\"date_time\"},\"y\":{\"field\":\"y_index\"}},\"id\":\"10432\",\"type\":\"Circle\"},{\"attributes\":{},\"id\":\"10947\",\"type\":\"UnionRenderers\"},{\"attributes\":{\"fill_alpha\":{\"value\":0.1},\"fill_color\":{\"value\":\"#28AE7F\"},\"hatch_alpha\":{\"value\":0.1},\"hatch_color\":{\"value\":\"#28AE7F\"},\"line_alpha\":{\"value\":0.1},\"line_color\":{\"value\":\"#28AE7F\"},\"marker\":{\"value\":\"diamond\"},\"size\":{\"value\":10},\"x\":{\"field\":\"date_time\"},\"y\":{\"field\":\"y_index\"}},\"id\":\"10768\",\"type\":\"Scatter\"},{\"attributes\":{\"source\":{\"id\":\"10177\"}},\"id\":\"10430\",\"type\":\"CDSView\"},{\"attributes\":{},\"id\":\"10948\",\"type\":\"Selection\"},{\"attributes\":{\"fill_alpha\":{\"value\":0.5},\"fill_color\":{\"value\":\"#28AE7F\"},\"hatch_alpha\":{\"value\":0.5},\"hatch_color\":{\"value\":\"#28AE7F\"},\"line_alpha\":{\"value\":0.5},\"line_color\":{\"value\":\"#28AE7F\"},\"marker\":{\"value\":\"diamond\"},\"size\":{\"value\":10},\"x\":{\"field\":\"date_time\"},\"y\":{\"field\":\"y_index\"}},\"id\":\"10767\",\"type\":\"Scatter\"},{\"attributes\":{\"source\":{\"id\":\"10183\"}},\"id\":\"10466\",\"type\":\"CDSView\"},{\"attributes\":{},\"id\":\"10915\",\"type\":\"UnionRenderers\"},{\"attributes\":{\"fill_color\":{\"value\":\"#35B778\"},\"hatch_color\":{\"value\":\"#35B778\"},\"line_color\":{\"value\":\"#35B778\"},\"x\":{\"field\":\"date_time\"},\"y\":{\"field\":\"y_index\"}},\"id\":\"10462\",\"type\":\"Circle\"},{\"attributes\":{\"coordinates\":null,\"data_source\":{\"id\":\"10177\"},\"glyph\":{\"id\":\"10426\"},\"group\":null,\"hover_glyph\":null,\"muted_glyph\":{\"id\":\"10428\"},\"nonselection_glyph\":{\"id\":\"10427\"},\"view\":{\"id\":\"10430\"}},\"id\":\"10429\",\"type\":\"GlyphRenderer\"},{\"attributes\":{\"fill_color\":{\"value\":\"#3BBA75\"},\"hatch_color\":{\"value\":\"#3BBA75\"},\"line_color\":{\"value\":\"#3BBA75\"},\"x\":{\"field\":\"date_time\"},\"y\":{\"field\":\"y_index\"}},\"id\":\"10468\",\"type\":\"Circle\"},{\"attributes\":{},\"id\":\"10916\",\"type\":\"Selection\"},{\"attributes\":{\"fill_alpha\":{\"value\":0.2},\"fill_color\":{\"value\":\"#28AE7F\"},\"hatch_alpha\":{\"value\":0.2},\"hatch_color\":{\"value\":\"#28AE7F\"},\"line_alpha\":{\"value\":0.2},\"line_color\":{\"value\":\"#28AE7F\"},\"marker\":{\"value\":\"diamond\"},\"size\":{\"value\":10},\"x\":{\"field\":\"date_time\"},\"y\":{\"field\":\"y_index\"}},\"id\":\"10769\",\"type\":\"Scatter\"},{\"attributes\":{\"fill_alpha\":{\"value\":0.1},\"fill_color\":{\"value\":\"#3BBA75\"},\"hatch_alpha\":{\"value\":0.1},\"hatch_color\":{\"value\":\"#3BBA75\"},\"line_alpha\":{\"value\":0.1},\"line_color\":{\"value\":\"#3BBA75\"},\"x\":{\"field\":\"date_time\"},\"y\":{\"field\":\"y_index\"}},\"id\":\"10469\",\"type\":\"Circle\"},{\"attributes\":{},\"id\":\"10883\",\"type\":\"UnionRenderers\"},{\"attributes\":{\"source\":{\"id\":\"10189\"}},\"id\":\"10827\",\"type\":\"CDSView\"},{\"attributes\":{\"fill_alpha\":{\"value\":0.1},\"fill_color\":{\"value\":\"#35B778\"},\"hatch_alpha\":{\"value\":0.1},\"hatch_color\":{\"value\":\"#35B778\"},\"line_alpha\":{\"value\":0.1},\"line_color\":{\"value\":\"#35B778\"},\"x\":{\"field\":\"date_time\"},\"y\":{\"field\":\"y_index\"}},\"id\":\"10463\",\"type\":\"Circle\"},{\"attributes\":{\"coordinates\":null,\"data_source\":{\"id\":\"10181\"},\"glyph\":{\"id\":\"10767\"},\"group\":null,\"hover_glyph\":null,\"muted_glyph\":{\"id\":\"10769\"},\"nonselection_glyph\":{\"id\":\"10768\"},\"view\":{\"id\":\"10771\"}},\"id\":\"10770\",\"type\":\"GlyphRenderer\"},{\"attributes\":{\"coordinates\":null,\"data_source\":{\"id\":\"10183\"},\"glyph\":{\"id\":\"10462\"},\"group\":null,\"hover_glyph\":null,\"muted_glyph\":{\"id\":\"10464\"},\"nonselection_glyph\":{\"id\":\"10463\"},\"view\":{\"id\":\"10466\"}},\"id\":\"10465\",\"type\":\"GlyphRenderer\"},{\"attributes\":{\"fill_alpha\":{\"value\":0.1},\"fill_color\":{\"value\":\"#2EB27C\"},\"hatch_alpha\":{\"value\":0.1},\"hatch_color\":{\"value\":\"#2EB27C\"},\"line_alpha\":{\"value\":0.1},\"line_color\":{\"value\":\"#2EB27C\"},\"marker\":{\"value\":\"diamond\"},\"size\":{\"value\":10},\"x\":{\"field\":\"date_time\"},\"y\":{\"field\":\"y_index\"}},\"id\":\"10775\",\"type\":\"Scatter\"},{\"attributes\":{},\"id\":\"10884\",\"type\":\"Selection\"},{\"attributes\":{\"fill_alpha\":{\"value\":0.1},\"fill_color\":{\"value\":\"#1E9C89\"},\"hatch_alpha\":{\"value\":0.1},\"hatch_color\":{\"value\":\"#1E9C89\"},\"line_alpha\":{\"value\":0.1},\"line_color\":{\"value\":\"#1E9C89\"},\"marker\":{\"value\":\"diamond\"},\"size\":{\"value\":10},\"x\":{\"field\":\"date_time\"},\"y\":{\"field\":\"y_index\"}},\"id\":\"10740\",\"type\":\"Scatter\"},{\"attributes\":{\"label\":{\"value\":\"u46\"},\"renderers\":[{\"id\":\"10770\"}]},\"id\":\"10772\",\"type\":\"LegendItem\"},{\"attributes\":{\"days\":[\"%m-%d %H:%M\"],\"hours\":[\"%H:%M:%S\"],\"milliseconds\":[\"%H:%M:%S.%3N\"],\"minutes\":[\"%H:%M:%S\"],\"seconds\":[\"%H:%M:%S\"]},\"id\":\"10526\",\"type\":\"DatetimeTickFormatter\"},{\"attributes\":{\"source\":{\"id\":\"10181\"}},\"id\":\"10771\",\"type\":\"CDSView\"},{\"attributes\":{\"fill_alpha\":{\"value\":0.2},\"fill_color\":{\"value\":\"#35B778\"},\"hatch_alpha\":{\"value\":0.2},\"hatch_color\":{\"value\":\"#35B778\"},\"line_alpha\":{\"value\":0.2},\"line_color\":{\"value\":\"#35B778\"},\"x\":{\"field\":\"date_time\"},\"y\":{\"field\":\"y_index\"}},\"id\":\"10464\",\"type\":\"Circle\"},{\"attributes\":{\"fill_alpha\":{\"value\":0.5},\"fill_color\":{\"value\":\"#481A6C\"},\"hatch_alpha\":{\"value\":0.5},\"hatch_color\":{\"value\":\"#481A6C\"},\"line_alpha\":{\"value\":0.5},\"line_color\":{\"value\":\"#481A6C\"},\"marker\":{\"value\":\"diamond\"},\"size\":{\"value\":10},\"x\":{\"field\":\"date_time\"},\"y\":{\"field\":\"y_index\"}},\"id\":\"10557\",\"type\":\"Scatter\"},{\"attributes\":{\"fill_alpha\":{\"value\":0.5},\"fill_color\":{\"value\":\"#2EB27C\"},\"hatch_alpha\":{\"value\":0.5},\"hatch_color\":{\"value\":\"#2EB27C\"},\"line_alpha\":{\"value\":0.5},\"line_color\":{\"value\":\"#2EB27C\"},\"marker\":{\"value\":\"diamond\"},\"size\":{\"value\":10},\"x\":{\"field\":\"date_time\"},\"y\":{\"field\":\"y_index\"}},\"id\":\"10774\",\"type\":\"Scatter\"},{\"attributes\":{\"source\":{\"id\":\"10150\"}},\"id\":\"10554\",\"type\":\"CDSView\"},{\"attributes\":{\"fill_alpha\":{\"value\":0.1},\"fill_color\":{\"value\":\"#77D052\"},\"hatch_alpha\":{\"value\":0.1},\"hatch_color\":{\"value\":\"#77D052\"},\"line_alpha\":{\"value\":0.1},\"line_color\":{\"value\":\"#77D052\"},\"marker\":{\"value\":\"diamond\"},\"size\":{\"value\":10},\"x\":{\"field\":\"date_time\"},\"y\":{\"field\":\"y_index\"}},\"id\":\"10831\",\"type\":\"Scatter\"},{\"attributes\":{\"fill_alpha\":{\"value\":0.1},\"fill_color\":{\"value\":\"#44BE70\"},\"hatch_alpha\":{\"value\":0.1},\"hatch_color\":{\"value\":\"#44BE70\"},\"line_alpha\":{\"value\":0.1},\"line_color\":{\"value\":\"#44BE70\"},\"x\":{\"field\":\"date_time\"},\"y\":{\"field\":\"y_index\"}},\"id\":\"10475\",\"type\":\"Circle\"},{\"attributes\":{\"fill_alpha\":{\"value\":0.2},\"fill_color\":{\"value\":\"#2EB27C\"},\"hatch_alpha\":{\"value\":0.2},\"hatch_color\":{\"value\":\"#2EB27C\"},\"line_alpha\":{\"value\":0.2},\"line_color\":{\"value\":\"#2EB27C\"},\"marker\":{\"value\":\"diamond\"},\"size\":{\"value\":10},\"x\":{\"field\":\"date_time\"},\"y\":{\"field\":\"y_index\"}},\"id\":\"10776\",\"type\":\"Scatter\"},{\"attributes\":{\"fill_color\":{\"value\":\"#44BE70\"},\"hatch_color\":{\"value\":\"#44BE70\"},\"line_color\":{\"value\":\"#44BE70\"},\"x\":{\"field\":\"date_time\"},\"y\":{\"field\":\"y_index\"}},\"id\":\"10474\",\"type\":\"Circle\"},{\"attributes\":{\"label\":{\"value\":\"u56\"},\"renderers\":[{\"id\":\"10826\"}]},\"id\":\"10828\",\"type\":\"LegendItem\"},{\"attributes\":{\"source\":{\"id\":\"10184\"}},\"id\":\"10472\",\"type\":\"CDSView\"},{\"attributes\":{\"coordinates\":null,\"data_source\":{\"id\":\"10182\"},\"glyph\":{\"id\":\"10774\"},\"group\":null,\"hover_glyph\":null,\"muted_glyph\":{\"id\":\"10776\"},\"nonselection_glyph\":{\"id\":\"10775\"},\"view\":{\"id\":\"10778\"}},\"id\":\"10777\",\"type\":\"GlyphRenderer\"},{\"attributes\":{\"coordinates\":null,\"data_source\":{\"id\":\"10184\"},\"glyph\":{\"id\":\"10468\"},\"group\":null,\"hover_glyph\":null,\"muted_glyph\":{\"id\":\"10470\"},\"nonselection_glyph\":{\"id\":\"10469\"},\"view\":{\"id\":\"10472\"}},\"id\":\"10471\",\"type\":\"GlyphRenderer\"},{\"attributes\":{\"fill_alpha\":{\"value\":0.1},\"fill_color\":{\"value\":\"#35B778\"},\"hatch_alpha\":{\"value\":0.1},\"hatch_color\":{\"value\":\"#35B778\"},\"line_alpha\":{\"value\":0.1},\"line_color\":{\"value\":\"#35B778\"},\"marker\":{\"value\":\"diamond\"},\"size\":{\"value\":10},\"x\":{\"field\":\"date_time\"},\"y\":{\"field\":\"y_index\"}},\"id\":\"10782\",\"type\":\"Scatter\"},{\"attributes\":{\"fill_alpha\":{\"value\":0.2},\"fill_color\":{\"value\":\"#3BBA75\"},\"hatch_alpha\":{\"value\":0.2},\"hatch_color\":{\"value\":\"#3BBA75\"},\"line_alpha\":{\"value\":0.2},\"line_color\":{\"value\":\"#3BBA75\"},\"x\":{\"field\":\"date_time\"},\"y\":{\"field\":\"y_index\"}},\"id\":\"10470\",\"type\":\"Circle\"},{\"attributes\":{},\"id\":\"10949\",\"type\":\"UnionRenderers\"},{\"attributes\":{\"label\":{\"value\":\"u47\"},\"renderers\":[{\"id\":\"10777\"}]},\"id\":\"10779\",\"type\":\"LegendItem\"},{\"attributes\":{\"label\":{\"value\":\"u03\"},\"renderers\":[{\"id\":\"10553\"}]},\"id\":\"10555\",\"type\":\"LegendItem\"},{\"attributes\":{\"source\":{\"id\":\"10182\"}},\"id\":\"10778\",\"type\":\"CDSView\"},{\"attributes\":{\"fill_alpha\":{\"value\":0.1},\"fill_color\":{\"value\":\"#4DC26B\"},\"hatch_alpha\":{\"value\":0.1},\"hatch_color\":{\"value\":\"#4DC26B\"},\"line_alpha\":{\"value\":0.1},\"line_color\":{\"value\":\"#4DC26B\"},\"x\":{\"field\":\"date_time\"},\"y\":{\"field\":\"y_index\"}},\"id\":\"10481\",\"type\":\"Circle\"},{\"attributes\":{},\"id\":\"10950\",\"type\":\"Selection\"},{\"attributes\":{\"fill_alpha\":{\"value\":0.5},\"fill_color\":{\"value\":\"#35B778\"},\"hatch_alpha\":{\"value\":0.5},\"hatch_color\":{\"value\":\"#35B778\"},\"line_alpha\":{\"value\":0.5},\"line_color\":{\"value\":\"#35B778\"},\"marker\":{\"value\":\"diamond\"},\"size\":{\"value\":10},\"x\":{\"field\":\"date_time\"},\"y\":{\"field\":\"y_index\"}},\"id\":\"10781\",\"type\":\"Scatter\"},{\"attributes\":{\"fill_color\":{\"value\":\"#4DC26B\"},\"hatch_color\":{\"value\":\"#4DC26B\"},\"line_color\":{\"value\":\"#4DC26B\"},\"x\":{\"field\":\"date_time\"},\"y\":{\"field\":\"y_index\"}},\"id\":\"10480\",\"type\":\"Circle\"},{\"attributes\":{},\"id\":\"10917\",\"type\":\"UnionRenderers\"},{\"attributes\":{\"source\":{\"id\":\"10185\"}},\"id\":\"10478\",\"type\":\"CDSView\"},{\"attributes\":{\"coordinates\":null,\"data_source\":{\"id\":\"10185\"},\"glyph\":{\"id\":\"10474\"},\"group\":null,\"hover_glyph\":null,\"muted_glyph\":{\"id\":\"10476\"},\"nonselection_glyph\":{\"id\":\"10475\"},\"view\":{\"id\":\"10478\"}},\"id\":\"10477\",\"type\":\"GlyphRenderer\"},{\"attributes\":{\"fill_alpha\":{\"value\":0.2},\"fill_color\":{\"value\":\"#35B778\"},\"hatch_alpha\":{\"value\":0.2},\"hatch_color\":{\"value\":\"#35B778\"},\"line_alpha\":{\"value\":0.2},\"line_color\":{\"value\":\"#35B778\"},\"marker\":{\"value\":\"diamond\"},\"size\":{\"value\":10},\"x\":{\"field\":\"date_time\"},\"y\":{\"field\":\"y_index\"}},\"id\":\"10783\",\"type\":\"Scatter\"},{\"attributes\":{\"fill_alpha\":{\"value\":0.2},\"fill_color\":{\"value\":\"#44BE70\"},\"hatch_alpha\":{\"value\":0.2},\"hatch_color\":{\"value\":\"#44BE70\"},\"line_alpha\":{\"value\":0.2},\"line_color\":{\"value\":\"#44BE70\"},\"x\":{\"field\":\"date_time\"},\"y\":{\"field\":\"y_index\"}},\"id\":\"10476\",\"type\":\"Circle\"},{\"attributes\":{},\"id\":\"10918\",\"type\":\"Selection\"},{\"attributes\":{\"coordinates\":null,\"data_source\":{\"id\":\"10189\"},\"glyph\":{\"id\":\"10823\"},\"group\":null,\"hover_glyph\":null,\"muted_glyph\":{\"id\":\"10825\"},\"nonselection_glyph\":{\"id\":\"10824\"},\"view\":{\"id\":\"10827\"}},\"id\":\"10826\",\"type\":\"GlyphRenderer\"},{\"attributes\":{\"fill_alpha\":{\"value\":0.1},\"fill_color\":{\"value\":\"#481A6C\"},\"hatch_alpha\":{\"value\":0.1},\"hatch_color\":{\"value\":\"#481A6C\"},\"line_alpha\":{\"value\":0.1},\"line_color\":{\"value\":\"#481A6C\"},\"marker\":{\"value\":\"diamond\"},\"size\":{\"value\":10},\"x\":{\"field\":\"date_time\"},\"y\":{\"field\":\"y_index\"}},\"id\":\"10558\",\"type\":\"Scatter\"},{\"attributes\":{},\"id\":\"10885\",\"type\":\"UnionRenderers\"},{\"attributes\":{\"coordinates\":null,\"data_source\":{\"id\":\"10150\"},\"glyph\":{\"id\":\"10550\"},\"group\":null,\"hover_glyph\":null,\"muted_glyph\":{\"id\":\"10552\"},\"nonselection_glyph\":{\"id\":\"10551\"},\"view\":{\"id\":\"10554\"}},\"id\":\"10553\",\"type\":\"GlyphRenderer\"},{\"attributes\":{\"coordinates\":null,\"data_source\":{\"id\":\"10183\"},\"glyph\":{\"id\":\"10781\"},\"group\":null,\"hover_glyph\":null,\"muted_glyph\":{\"id\":\"10783\"},\"nonselection_glyph\":{\"id\":\"10782\"},\"view\":{\"id\":\"10785\"}},\"id\":\"10784\",\"type\":\"GlyphRenderer\"},{\"attributes\":{\"fill_alpha\":{\"value\":0.1},\"fill_color\":{\"value\":\"#3BBA75\"},\"hatch_alpha\":{\"value\":0.1},\"hatch_color\":{\"value\":\"#3BBA75\"},\"line_alpha\":{\"value\":0.1},\"line_color\":{\"value\":\"#3BBA75\"},\"marker\":{\"value\":\"diamond\"},\"size\":{\"value\":10},\"x\":{\"field\":\"date_time\"},\"y\":{\"field\":\"y_index\"}},\"id\":\"10789\",\"type\":\"Scatter\"},{\"attributes\":{\"fill_alpha\":{\"value\":0.1},\"fill_color\":{\"value\":\"#55C666\"},\"hatch_alpha\":{\"value\":0.1},\"hatch_color\":{\"value\":\"#55C666\"},\"line_alpha\":{\"value\":0.1},\"line_color\":{\"value\":\"#55C666\"},\"x\":{\"field\":\"date_time\"},\"y\":{\"field\":\"y_index\"}},\"id\":\"10487\",\"type\":\"Circle\"},{\"attributes\":{\"label\":{\"value\":\"u49\"},\"renderers\":[{\"id\":\"10784\"}]},\"id\":\"10786\",\"type\":\"LegendItem\"},{\"attributes\":{\"fill_color\":{\"value\":\"#55C666\"},\"hatch_color\":{\"value\":\"#55C666\"},\"line_color\":{\"value\":\"#55C666\"},\"x\":{\"field\":\"date_time\"},\"y\":{\"field\":\"y_index\"}},\"id\":\"10486\",\"type\":\"Circle\"},{\"attributes\":{},\"id\":\"10886\",\"type\":\"Selection\"},{\"attributes\":{\"source\":{\"id\":\"10186\"}},\"id\":\"10484\",\"type\":\"CDSView\"},{\"attributes\":{\"coordinates\":null,\"data_source\":{\"id\":\"10186\"},\"glyph\":{\"id\":\"10480\"},\"group\":null,\"hover_glyph\":null,\"muted_glyph\":{\"id\":\"10482\"},\"nonselection_glyph\":{\"id\":\"10481\"},\"view\":{\"id\":\"10484\"}},\"id\":\"10483\",\"type\":\"GlyphRenderer\"},{\"attributes\":{\"source\":{\"id\":\"10183\"}},\"id\":\"10785\",\"type\":\"CDSView\"},{\"attributes\":{\"fill_alpha\":{\"value\":0.5},\"fill_color\":{\"value\":\"#3BBA75\"},\"hatch_alpha\":{\"value\":0.5},\"hatch_color\":{\"value\":\"#3BBA75\"},\"line_alpha\":{\"value\":0.5},\"line_color\":{\"value\":\"#3BBA75\"},\"marker\":{\"value\":\"diamond\"},\"size\":{\"value\":10},\"x\":{\"field\":\"date_time\"},\"y\":{\"field\":\"y_index\"}},\"id\":\"10788\",\"type\":\"Scatter\"},{\"attributes\":{\"fill_alpha\":{\"value\":0.2},\"fill_color\":{\"value\":\"#4DC26B\"},\"hatch_alpha\":{\"value\":0.2},\"hatch_color\":{\"value\":\"#4DC26B\"},\"line_alpha\":{\"value\":0.2},\"line_color\":{\"value\":\"#4DC26B\"},\"x\":{\"field\":\"date_time\"},\"y\":{\"field\":\"y_index\"}},\"id\":\"10482\",\"type\":\"Circle\"},{\"attributes\":{\"label\":{\"value\":\"u22\"},\"renderers\":[{\"id\":\"10644\"}]},\"id\":\"10646\",\"type\":\"LegendItem\"},{\"attributes\":{\"fill_alpha\":{\"value\":0.2},\"fill_color\":{\"value\":\"#471567\"},\"hatch_alpha\":{\"value\":0.2},\"hatch_color\":{\"value\":\"#471567\"},\"line_alpha\":{\"value\":0.2},\"line_color\":{\"value\":\"#471567\"},\"marker\":{\"value\":\"diamond\"},\"size\":{\"value\":10},\"x\":{\"field\":\"date_time\"},\"y\":{\"field\":\"y_index\"}},\"id\":\"10552\",\"type\":\"Scatter\"},{\"attributes\":{\"fill_alpha\":{\"value\":0.2},\"fill_color\":{\"value\":\"#3BBA75\"},\"hatch_alpha\":{\"value\":0.2},\"hatch_color\":{\"value\":\"#3BBA75\"},\"line_alpha\":{\"value\":0.2},\"line_color\":{\"value\":\"#3BBA75\"},\"marker\":{\"value\":\"diamond\"},\"size\":{\"value\":10},\"x\":{\"field\":\"date_time\"},\"y\":{\"field\":\"y_index\"}},\"id\":\"10790\",\"type\":\"Scatter\"},{\"attributes\":{\"fill_alpha\":{\"value\":0.1},\"fill_color\":{\"value\":\"#60C960\"},\"hatch_alpha\":{\"value\":0.1},\"hatch_color\":{\"value\":\"#60C960\"},\"line_alpha\":{\"value\":0.1},\"line_color\":{\"value\":\"#60C960\"},\"x\":{\"field\":\"date_time\"},\"y\":{\"field\":\"y_index\"}},\"id\":\"10493\",\"type\":\"Circle\"},{\"attributes\":{\"fill_alpha\":{\"value\":0.2},\"fill_color\":{\"value\":\"#6BCD59\"},\"hatch_alpha\":{\"value\":0.2},\"hatch_color\":{\"value\":\"#6BCD59\"},\"line_alpha\":{\"value\":0.2},\"line_color\":{\"value\":\"#6BCD59\"},\"marker\":{\"value\":\"diamond\"},\"size\":{\"value\":10},\"x\":{\"field\":\"date_time\"},\"y\":{\"field\":\"y_index\"}},\"id\":\"10825\",\"type\":\"Scatter\"},{\"attributes\":{\"fill_color\":{\"value\":\"#60C960\"},\"hatch_color\":{\"value\":\"#60C960\"},\"line_color\":{\"value\":\"#60C960\"},\"x\":{\"field\":\"date_time\"},\"y\":{\"field\":\"y_index\"}},\"id\":\"10492\",\"type\":\"Circle\"},{\"attributes\":{\"coordinates\":null,\"data_source\":{\"id\":\"10184\"},\"glyph\":{\"id\":\"10788\"},\"group\":null,\"hover_glyph\":null,\"muted_glyph\":{\"id\":\"10790\"},\"nonselection_glyph\":{\"id\":\"10789\"},\"view\":{\"id\":\"10792\"}},\"id\":\"10791\",\"type\":\"GlyphRenderer\"},{\"attributes\":{\"source\":{\"id\":\"10187\"}},\"id\":\"10490\",\"type\":\"CDSView\"},{\"attributes\":{\"coordinates\":null,\"data_source\":{\"id\":\"10187\"},\"glyph\":{\"id\":\"10486\"},\"group\":null,\"hover_glyph\":null,\"muted_glyph\":{\"id\":\"10488\"},\"nonselection_glyph\":{\"id\":\"10487\"},\"view\":{\"id\":\"10490\"}},\"id\":\"10489\",\"type\":\"GlyphRenderer\"},{\"attributes\":{\"fill_alpha\":{\"value\":0.1},\"fill_color\":{\"value\":\"#44BE70\"},\"hatch_alpha\":{\"value\":0.1},\"hatch_color\":{\"value\":\"#44BE70\"},\"line_alpha\":{\"value\":0.1},\"line_color\":{\"value\":\"#44BE70\"},\"marker\":{\"value\":\"diamond\"},\"size\":{\"value\":10},\"x\":{\"field\":\"date_time\"},\"y\":{\"field\":\"y_index\"}},\"id\":\"10796\",\"type\":\"Scatter\"},{\"attributes\":{\"label\":{\"value\":\"u50\"},\"renderers\":[{\"id\":\"10791\"}]},\"id\":\"10793\",\"type\":\"LegendItem\"},{\"attributes\":{\"fill_alpha\":{\"value\":0.2},\"fill_color\":{\"value\":\"#55C666\"},\"hatch_alpha\":{\"value\":0.2},\"hatch_color\":{\"value\":\"#55C666\"},\"line_alpha\":{\"value\":0.2},\"line_color\":{\"value\":\"#55C666\"},\"x\":{\"field\":\"date_time\"},\"y\":{\"field\":\"y_index\"}},\"id\":\"10488\",\"type\":\"Circle\"},{\"attributes\":{},\"id\":\"10951\",\"type\":\"UnionRenderers\"},{\"attributes\":{\"fill_alpha\":{\"value\":0.1},\"fill_color\":{\"value\":\"#32628D\"},\"hatch_alpha\":{\"value\":0.1},\"hatch_color\":{\"value\":\"#32628D\"},\"line_alpha\":{\"value\":0.1},\"line_color\":{\"value\":\"#32628D\"},\"marker\":{\"value\":\"diamond\"},\"size\":{\"value\":10},\"x\":{\"field\":\"date_time\"},\"y\":{\"field\":\"y_index\"}},\"id\":\"10649\",\"type\":\"Scatter\"},{\"attributes\":{\"source\":{\"id\":\"10184\"}},\"id\":\"10792\",\"type\":\"CDSView\"},{\"attributes\":{\"fill_alpha\":{\"value\":0.5},\"fill_color\":{\"value\":\"#44BE70\"},\"hatch_alpha\":{\"value\":0.5},\"hatch_color\":{\"value\":\"#44BE70\"},\"line_alpha\":{\"value\":0.5},\"line_color\":{\"value\":\"#44BE70\"},\"marker\":{\"value\":\"diamond\"},\"size\":{\"value\":10},\"x\":{\"field\":\"date_time\"},\"y\":{\"field\":\"y_index\"}},\"id\":\"10795\",\"type\":\"Scatter\"},{\"attributes\":{\"fill_alpha\":{\"value\":0.1},\"fill_color\":{\"value\":\"#6BCD59\"},\"hatch_alpha\":{\"value\":0.1},\"hatch_color\":{\"value\":\"#6BCD59\"},\"line_alpha\":{\"value\":0.1},\"line_color\":{\"value\":\"#6BCD59\"},\"x\":{\"field\":\"date_time\"},\"y\":{\"field\":\"y_index\"}},\"id\":\"10499\",\"type\":\"Circle\"},{\"attributes\":{},\"id\":\"10952\",\"type\":\"Selection\"},{\"attributes\":{\"fill_color\":{\"value\":\"#6BCD59\"},\"hatch_color\":{\"value\":\"#6BCD59\"},\"line_color\":{\"value\":\"#6BCD59\"},\"x\":{\"field\":\"date_time\"},\"y\":{\"field\":\"y_index\"}},\"id\":\"10498\",\"type\":\"Circle\"},{\"attributes\":{},\"id\":\"10919\",\"type\":\"UnionRenderers\"},{\"attributes\":{\"fill_alpha\":{\"value\":0.5},\"fill_color\":{\"value\":\"#6BCD59\"},\"hatch_alpha\":{\"value\":0.5},\"hatch_color\":{\"value\":\"#6BCD59\"},\"line_alpha\":{\"value\":0.5},\"line_color\":{\"value\":\"#6BCD59\"},\"marker\":{\"value\":\"diamond\"},\"size\":{\"value\":10},\"x\":{\"field\":\"date_time\"},\"y\":{\"field\":\"y_index\"}},\"id\":\"10823\",\"type\":\"Scatter\"},{\"attributes\":{\"source\":{\"id\":\"10188\"}},\"id\":\"10496\",\"type\":\"CDSView\"},{\"attributes\":{\"coordinates\":null,\"data_source\":{\"id\":\"10188\"},\"glyph\":{\"id\":\"10492\"},\"group\":null,\"hover_glyph\":null,\"muted_glyph\":{\"id\":\"10494\"},\"nonselection_glyph\":{\"id\":\"10493\"},\"view\":{\"id\":\"10496\"}},\"id\":\"10495\",\"type\":\"GlyphRenderer\"},{\"attributes\":{\"fill_alpha\":{\"value\":0.2},\"fill_color\":{\"value\":\"#44BE70\"},\"hatch_alpha\":{\"value\":0.2},\"hatch_color\":{\"value\":\"#44BE70\"},\"line_alpha\":{\"value\":0.2},\"line_color\":{\"value\":\"#44BE70\"},\"marker\":{\"value\":\"diamond\"},\"size\":{\"value\":10},\"x\":{\"field\":\"date_time\"},\"y\":{\"field\":\"y_index\"}},\"id\":\"10797\",\"type\":\"Scatter\"},{\"attributes\":{\"fill_alpha\":{\"value\":0.2},\"fill_color\":{\"value\":\"#60C960\"},\"hatch_alpha\":{\"value\":0.2},\"hatch_color\":{\"value\":\"#60C960\"},\"line_alpha\":{\"value\":0.2},\"line_color\":{\"value\":\"#60C960\"},\"x\":{\"field\":\"date_time\"},\"y\":{\"field\":\"y_index\"}},\"id\":\"10494\",\"type\":\"Circle\"},{\"attributes\":{},\"id\":\"10920\",\"type\":\"Selection\"},{\"attributes\":{\"coordinates\":null,\"data_source\":{\"id\":\"10185\"},\"glyph\":{\"id\":\"10795\"},\"group\":null,\"hover_glyph\":null,\"muted_glyph\":{\"id\":\"10797\"},\"nonselection_glyph\":{\"id\":\"10796\"},\"view\":{\"id\":\"10799\"}},\"id\":\"10798\",\"type\":\"GlyphRenderer\"},{\"attributes\":{\"fill_alpha\":{\"value\":0.5},\"fill_color\":{\"value\":\"#471567\"},\"hatch_alpha\":{\"value\":0.5},\"hatch_color\":{\"value\":\"#471567\"},\"line_alpha\":{\"value\":0.5},\"line_color\":{\"value\":\"#471567\"},\"marker\":{\"value\":\"diamond\"},\"size\":{\"value\":10},\"x\":{\"field\":\"date_time\"},\"y\":{\"field\":\"y_index\"}},\"id\":\"10550\",\"type\":\"Scatter\"},{\"attributes\":{},\"id\":\"10887\",\"type\":\"UnionRenderers\"},{\"attributes\":{\"source\":{\"id\":\"10149\"}},\"id\":\"10547\",\"type\":\"CDSView\"},{\"attributes\":{\"fill_alpha\":{\"value\":0.1},\"fill_color\":{\"value\":\"#4DC26B\"},\"hatch_alpha\":{\"value\":0.1},\"hatch_color\":{\"value\":\"#4DC26B\"},\"line_alpha\":{\"value\":0.1},\"line_color\":{\"value\":\"#4DC26B\"},\"marker\":{\"value\":\"diamond\"},\"size\":{\"value\":10},\"x\":{\"field\":\"date_time\"},\"y\":{\"field\":\"y_index\"}},\"id\":\"10803\",\"type\":\"Scatter\"},{\"attributes\":{\"label\":{\"value\":\"u51\"},\"renderers\":[{\"id\":\"10798\"}]},\"id\":\"10800\",\"type\":\"LegendItem\"},{\"attributes\":{\"fill_alpha\":{\"value\":0.1},\"fill_color\":{\"value\":\"#77D052\"},\"hatch_alpha\":{\"value\":0.1},\"hatch_color\":{\"value\":\"#77D052\"},\"line_alpha\":{\"value\":0.1},\"line_color\":{\"value\":\"#77D052\"},\"x\":{\"field\":\"date_time\"},\"y\":{\"field\":\"y_index\"}},\"id\":\"10505\",\"type\":\"Circle\"},{\"attributes\":{\"fill_color\":{\"value\":\"#77D052\"},\"hatch_color\":{\"value\":\"#77D052\"},\"line_color\":{\"value\":\"#77D052\"},\"x\":{\"field\":\"date_time\"},\"y\":{\"field\":\"y_index\"}},\"id\":\"10504\",\"type\":\"Circle\"},{\"attributes\":{},\"id\":\"10888\",\"type\":\"Selection\"},{\"attributes\":{\"source\":{\"id\":\"10185\"}},\"id\":\"10799\",\"type\":\"CDSView\"},{\"attributes\":{\"source\":{\"id\":\"10189\"}},\"id\":\"10502\",\"type\":\"CDSView\"},{\"attributes\":{\"coordinates\":null,\"data_source\":{\"id\":\"10189\"},\"glyph\":{\"id\":\"10498\"},\"group\":null,\"hover_glyph\":null,\"muted_glyph\":{\"id\":\"10500\"},\"nonselection_glyph\":{\"id\":\"10499\"},\"view\":{\"id\":\"10502\"}},\"id\":\"10501\",\"type\":\"GlyphRenderer\"},{\"attributes\":{\"fill_alpha\":{\"value\":0.5},\"fill_color\":{\"value\":\"#4DC26B\"},\"hatch_alpha\":{\"value\":0.5},\"hatch_color\":{\"value\":\"#4DC26B\"},\"line_alpha\":{\"value\":0.5},\"line_color\":{\"value\":\"#4DC26B\"},\"marker\":{\"value\":\"diamond\"},\"size\":{\"value\":10},\"x\":{\"field\":\"date_time\"},\"y\":{\"field\":\"y_index\"}},\"id\":\"10802\",\"type\":\"Scatter\"},{\"attributes\":{\"fill_alpha\":{\"value\":0.2},\"fill_color\":{\"value\":\"#6BCD59\"},\"hatch_alpha\":{\"value\":0.2},\"hatch_color\":{\"value\":\"#6BCD59\"},\"line_alpha\":{\"value\":0.2},\"line_color\":{\"value\":\"#6BCD59\"},\"x\":{\"field\":\"date_time\"},\"y\":{\"field\":\"y_index\"}},\"id\":\"10500\",\"type\":\"Circle\"},{\"attributes\":{\"label\":{\"value\":\"u54\"},\"renderers\":[{\"id\":\"10819\"}]},\"id\":\"10821\",\"type\":\"LegendItem\"},{\"attributes\":{\"fill_alpha\":{\"value\":0.2},\"fill_color\":{\"value\":\"#4DC26B\"},\"hatch_alpha\":{\"value\":0.2},\"hatch_color\":{\"value\":\"#4DC26B\"},\"line_alpha\":{\"value\":0.2},\"line_color\":{\"value\":\"#4DC26B\"},\"marker\":{\"value\":\"diamond\"},\"size\":{\"value\":10},\"x\":{\"field\":\"date_time\"},\"y\":{\"field\":\"y_index\"}},\"id\":\"10804\",\"type\":\"Scatter\"},{\"attributes\":{\"label\":{\"value\":\"u02\"},\"renderers\":[{\"id\":\"10546\"}]},\"id\":\"10548\",\"type\":\"LegendItem\"},{\"attributes\":{\"source\":{\"id\":\"10188\"}},\"id\":\"10820\",\"type\":\"CDSView\"},{\"attributes\":{\"fill_alpha\":{\"value\":0.1},\"fill_color\":{\"value\":\"#81D34C\"},\"hatch_alpha\":{\"value\":0.1},\"hatch_color\":{\"value\":\"#81D34C\"},\"line_alpha\":{\"value\":0.1},\"line_color\":{\"value\":\"#81D34C\"},\"x\":{\"field\":\"date_time\"},\"y\":{\"field\":\"y_index\"}},\"id\":\"10511\",\"type\":\"Circle\"},{\"attributes\":{\"coordinates\":null,\"data_source\":{\"id\":\"10186\"},\"glyph\":{\"id\":\"10802\"},\"group\":null,\"hover_glyph\":null,\"muted_glyph\":{\"id\":\"10804\"},\"nonselection_glyph\":{\"id\":\"10803\"},\"view\":{\"id\":\"10806\"}},\"id\":\"10805\",\"type\":\"GlyphRenderer\"},{\"attributes\":{\"fill_color\":{\"value\":\"#81D34C\"},\"hatch_color\":{\"value\":\"#81D34C\"},\"line_color\":{\"value\":\"#81D34C\"},\"x\":{\"field\":\"date_time\"},\"y\":{\"field\":\"y_index\"}},\"id\":\"10510\",\"type\":\"Circle\"},{\"attributes\":{\"data\":{\"date_time\":{\"__ndarray__\":\"AADQE3fcc0IAAFCMFN1zQgAAxNRm3XNCAABokrndc0IAAFY4B95zQgAA4C9Y3nNCAACIOw3fc0IAAHh8Q+FzQgAA+Amf4XNCAADYR8nkc0IAABBgeOVzQgAA+swh5XNCAAAKV8Hnc0IAADYOv+hzQgAAstIW53NCAACE8gXoc0IAAO6JTepzQgAABFjH5nNCAABW2qTpc0IAAGjYg+tzQgAAvm1N63NCAABUJjrsc0IAAACHO+1zQgAAFl/F7XNCAAD6i1jvc0I=\",\"dtype\":\"float64\",\"order\":\"little\",\"shape\":[25]},\"index\":[671,672,673,674,675,676,677,678,679,680,681,682,683,684,685,686,687,688,689,690,691,692,693,694,695],\"y_index\":[36,36,36,36,36,36,36,36,36,36,36,36,36,36,36,36,36,36,36,36,36,36,36,36,36]},\"selected\":{\"id\":\"10934\"},\"selection_policy\":{\"id\":\"10933\"}},\"id\":\"10183\",\"type\":\"ColumnDataSource\"},{\"attributes\":{\"source\":{\"id\":\"10190\"}},\"id\":\"10508\",\"type\":\"CDSView\"},{\"attributes\":{\"coordinates\":null,\"data_source\":{\"id\":\"10190\"},\"glyph\":{\"id\":\"10504\"},\"group\":null,\"hover_glyph\":null,\"muted_glyph\":{\"id\":\"10506\"},\"nonselection_glyph\":{\"id\":\"10505\"},\"view\":{\"id\":\"10508\"}},\"id\":\"10507\",\"type\":\"GlyphRenderer\"},{\"attributes\":{\"label\":{\"value\":\"u52\"},\"renderers\":[{\"id\":\"10805\"}]},\"id\":\"10807\",\"type\":\"LegendItem\"},{\"attributes\":{\"fill_alpha\":{\"value\":0.2},\"fill_color\":{\"value\":\"#60C960\"},\"hatch_alpha\":{\"value\":0.2},\"hatch_color\":{\"value\":\"#60C960\"},\"line_alpha\":{\"value\":0.2},\"line_color\":{\"value\":\"#60C960\"},\"marker\":{\"value\":\"diamond\"},\"size\":{\"value\":10},\"x\":{\"field\":\"date_time\"},\"y\":{\"field\":\"y_index\"}},\"id\":\"10818\",\"type\":\"Scatter\"},{\"attributes\":{\"fill_alpha\":{\"value\":0.2},\"fill_color\":{\"value\":\"#77D052\"},\"hatch_alpha\":{\"value\":0.2},\"hatch_color\":{\"value\":\"#77D052\"},\"line_alpha\":{\"value\":0.2},\"line_color\":{\"value\":\"#77D052\"},\"x\":{\"field\":\"date_time\"},\"y\":{\"field\":\"y_index\"}},\"id\":\"10506\",\"type\":\"Circle\"},{\"attributes\":{\"fill_alpha\":{\"value\":0.1},\"fill_color\":{\"value\":\"#471567\"},\"hatch_alpha\":{\"value\":0.1},\"hatch_color\":{\"value\":\"#471567\"},\"line_alpha\":{\"value\":0.1},\"line_color\":{\"value\":\"#471567\"},\"marker\":{\"value\":\"diamond\"},\"size\":{\"value\":10},\"x\":{\"field\":\"date_time\"},\"y\":{\"field\":\"y_index\"}},\"id\":\"10551\",\"type\":\"Scatter\"},{\"attributes\":{\"source\":{\"id\":\"10186\"}},\"id\":\"10806\",\"type\":\"CDSView\"},{\"attributes\":{\"coordinates\":null,\"data_source\":{\"id\":\"10149\"},\"glyph\":{\"id\":\"10543\"},\"group\":null,\"hover_glyph\":null,\"muted_glyph\":{\"id\":\"10545\"},\"nonselection_glyph\":{\"id\":\"10544\"},\"view\":{\"id\":\"10547\"}},\"id\":\"10546\",\"type\":\"GlyphRenderer\"},{\"attributes\":{\"fill_alpha\":{\"value\":0.1},\"fill_color\":{\"value\":\"#60C960\"},\"hatch_alpha\":{\"value\":0.1},\"hatch_color\":{\"value\":\"#60C960\"},\"line_alpha\":{\"value\":0.1},\"line_color\":{\"value\":\"#60C960\"},\"marker\":{\"value\":\"diamond\"},\"size\":{\"value\":10},\"x\":{\"field\":\"date_time\"},\"y\":{\"field\":\"y_index\"}},\"id\":\"10817\",\"type\":\"Scatter\"},{\"attributes\":{\"fill_alpha\":{\"value\":0.1},\"fill_color\":{\"value\":\"#8DD644\"},\"hatch_alpha\":{\"value\":0.1},\"hatch_color\":{\"value\":\"#8DD644\"},\"line_alpha\":{\"value\":0.1},\"line_color\":{\"value\":\"#8DD644\"},\"x\":{\"field\":\"date_time\"},\"y\":{\"field\":\"y_index\"}},\"id\":\"10517\",\"type\":\"Circle\"},{\"attributes\":{\"fill_color\":{\"value\":\"#8DD644\"},\"hatch_color\":{\"value\":\"#8DD644\"},\"line_color\":{\"value\":\"#8DD644\"},\"x\":{\"field\":\"date_time\"},\"y\":{\"field\":\"y_index\"}},\"id\":\"10516\",\"type\":\"Circle\"},{\"attributes\":{},\"id\":\"10921\",\"type\":\"UnionRenderers\"},{\"attributes\":{\"fill_alpha\":{\"value\":0.1},\"fill_color\":{\"value\":\"#6BCD59\"},\"hatch_alpha\":{\"value\":0.1},\"hatch_color\":{\"value\":\"#6BCD59\"},\"line_alpha\":{\"value\":0.1},\"line_color\":{\"value\":\"#6BCD59\"},\"marker\":{\"value\":\"diamond\"},\"size\":{\"value\":10},\"x\":{\"field\":\"date_time\"},\"y\":{\"field\":\"y_index\"}},\"id\":\"10824\",\"type\":\"Scatter\"},{\"attributes\":{\"source\":{\"id\":\"10191\"}},\"id\":\"10514\",\"type\":\"CDSView\"},{\"attributes\":{\"coordinates\":null,\"data_source\":{\"id\":\"10188\"},\"glyph\":{\"id\":\"10816\"},\"group\":null,\"hover_glyph\":null,\"muted_glyph\":{\"id\":\"10818\"},\"nonselection_glyph\":{\"id\":\"10817\"},\"view\":{\"id\":\"10820\"}},\"id\":\"10819\",\"type\":\"GlyphRenderer\"},{\"attributes\":{\"coordinates\":null,\"data_source\":{\"id\":\"10191\"},\"glyph\":{\"id\":\"10510\"},\"group\":null,\"hover_glyph\":null,\"muted_glyph\":{\"id\":\"10512\"},\"nonselection_glyph\":{\"id\":\"10511\"},\"view\":{\"id\":\"10514\"}},\"id\":\"10513\",\"type\":\"GlyphRenderer\"},{\"attributes\":{\"fill_alpha\":{\"value\":0.2},\"fill_color\":{\"value\":\"#81D34C\"},\"hatch_alpha\":{\"value\":0.2},\"hatch_color\":{\"value\":\"#81D34C\"},\"line_alpha\":{\"value\":0.2},\"line_color\":{\"value\":\"#81D34C\"},\"x\":{\"field\":\"date_time\"},\"y\":{\"field\":\"y_index\"}},\"id\":\"10512\",\"type\":\"Circle\"},{\"attributes\":{},\"id\":\"10922\",\"type\":\"Selection\"},{\"attributes\":{\"source\":{\"id\":\"10163\"}},\"id\":\"10645\",\"type\":\"CDSView\"},{\"attributes\":{},\"id\":\"10889\",\"type\":\"UnionRenderers\"},{\"attributes\":{\"fill_alpha\":{\"value\":0.2},\"fill_color\":{\"value\":\"#460E61\"},\"hatch_alpha\":{\"value\":0.2},\"hatch_color\":{\"value\":\"#460E61\"},\"line_alpha\":{\"value\":0.2},\"line_color\":{\"value\":\"#460E61\"},\"marker\":{\"value\":\"diamond\"},\"size\":{\"value\":10},\"x\":{\"field\":\"date_time\"},\"y\":{\"field\":\"y_index\"}},\"id\":\"10545\",\"type\":\"Scatter\"},{\"attributes\":{\"fill_alpha\":{\"value\":0.2},\"fill_color\":{\"value\":\"#77D052\"},\"hatch_alpha\":{\"value\":0.2},\"hatch_color\":{\"value\":\"#77D052\"},\"line_alpha\":{\"value\":0.2},\"line_color\":{\"value\":\"#77D052\"},\"marker\":{\"value\":\"diamond\"},\"size\":{\"value\":10},\"x\":{\"field\":\"date_time\"},\"y\":{\"field\":\"y_index\"}},\"id\":\"10832\",\"type\":\"Scatter\"},{\"attributes\":{\"coordinates\":null,\"data_source\":{\"id\":\"10190\"},\"glyph\":{\"id\":\"10830\"},\"group\":null,\"hover_glyph\":null,\"muted_glyph\":{\"id\":\"10832\"},\"nonselection_glyph\":{\"id\":\"10831\"},\"view\":{\"id\":\"10834\"}},\"id\":\"10833\",\"type\":\"GlyphRenderer\"},{\"attributes\":{\"overlay\":{\"id\":\"10522\"},\"x_range\":{\"id\":\"10197\"},\"y_range\":null},\"id\":\"10521\",\"type\":\"RangeTool\"},{\"attributes\":{},\"id\":\"10890\",\"type\":\"Selection\"},{\"attributes\":{\"fill_alpha\":{\"value\":0.1},\"fill_color\":{\"value\":\"#81D34C\"},\"hatch_alpha\":{\"value\":0.1},\"hatch_color\":{\"value\":\"#81D34C\"},\"line_alpha\":{\"value\":0.1},\"line_color\":{\"value\":\"#81D34C\"},\"marker\":{\"value\":\"diamond\"},\"size\":{\"value\":10},\"x\":{\"field\":\"date_time\"},\"y\":{\"field\":\"y_index\"}},\"id\":\"10838\",\"type\":\"Scatter\"},{\"attributes\":{\"source\":{\"id\":\"10192\"}},\"id\":\"10520\",\"type\":\"CDSView\"},{\"attributes\":{\"coordinates\":null,\"data_source\":{\"id\":\"10192\"},\"glyph\":{\"id\":\"10516\"},\"group\":null,\"hover_glyph\":null,\"muted_glyph\":{\"id\":\"10518\"},\"nonselection_glyph\":{\"id\":\"10517\"},\"view\":{\"id\":\"10520\"}},\"id\":\"10519\",\"type\":\"GlyphRenderer\"},{\"attributes\":{\"data\":{\"date_time\":{\"__ndarray__\":\"AACcqRTdc0IAAFiYedxzQgAAglLC3HNCAABY/lzec0IAADgdud1zQgAAUnQL3nNCAAAyKrHec0IAAATODd9zQgAAOJha33NCAAB4fEPhc0IAANzQTuFzQgAAwGaY4XNCAABgYO/hc0IAAPov3+JzQgAAYC6Y43NCAAAgQePjc0IAANgrIeVzQgAAYg3D5nNCAAAqHa7nc0IAAFZPTepzQg==\",\"dtype\":\"float64\",\"order\":\"little\",\"shape\":[20]},\"index\":[630,631,632,633,634,635,636,637,638,639,640,641,642,643,644,645,646,647,648,649],\"y_index\":[7,7,7,7,7,7,7,7,7,7,7,7,7,7,7,7,7,7,7,7]},\"selected\":{\"id\":\"10876\"},\"selection_policy\":{\"id\":\"10875\"}},\"id\":\"10154\",\"type\":\"ColumnDataSource\"},{\"attributes\":{\"label\":{\"value\":\"u57\"},\"renderers\":[{\"id\":\"10833\"}]},\"id\":\"10835\",\"type\":\"LegendItem\"},{\"attributes\":{\"fill_alpha\":{\"value\":0.2},\"fill_color\":{\"value\":\"#8DD644\"},\"hatch_alpha\":{\"value\":0.2},\"hatch_color\":{\"value\":\"#8DD644\"},\"line_alpha\":{\"value\":0.2},\"line_color\":{\"value\":\"#8DD644\"},\"x\":{\"field\":\"date_time\"},\"y\":{\"field\":\"y_index\"}},\"id\":\"10518\",\"type\":\"Circle\"},{\"attributes\":{\"source\":{\"id\":\"10190\"}},\"id\":\"10834\",\"type\":\"CDSView\"},{\"attributes\":{\"fill_alpha\":{\"value\":0.5},\"fill_color\":{\"value\":\"#81D34C\"},\"hatch_alpha\":{\"value\":0.5},\"hatch_color\":{\"value\":\"#81D34C\"},\"line_alpha\":{\"value\":0.5},\"line_color\":{\"value\":\"#81D34C\"},\"marker\":{\"value\":\"diamond\"},\"size\":{\"value\":10},\"x\":{\"field\":\"date_time\"},\"y\":{\"field\":\"y_index\"}},\"id\":\"10837\",\"type\":\"Scatter\"},{\"attributes\":{\"coordinates\":null,\"fill_alpha\":0.2,\"fill_color\":\"navy\",\"group\":null,\"level\":\"overlay\",\"line_alpha\":1.0,\"line_color\":\"black\",\"line_dash\":[2,2],\"line_width\":0.5,\"syncable\":false},\"id\":\"10522\",\"type\":\"BoxAnnotation\"},{\"attributes\":{\"fill_alpha\":{\"value\":0.5},\"fill_color\":{\"value\":\"#440154\"},\"hatch_alpha\":{\"value\":0.5},\"hatch_color\":{\"value\":\"#440154\"},\"line_alpha\":{\"value\":0.5},\"line_color\":{\"value\":\"#440154\"},\"marker\":{\"value\":\"diamond\"},\"size\":{\"value\":10},\"x\":{\"field\":\"date_time\"},\"y\":{\"field\":\"y_index\"}},\"id\":\"10529\",\"type\":\"Scatter\"},{\"attributes\":{\"fill_alpha\":{\"value\":0.2},\"fill_color\":{\"value\":\"#81D34C\"},\"hatch_alpha\":{\"value\":0.2},\"hatch_color\":{\"value\":\"#81D34C\"},\"line_alpha\":{\"value\":0.2},\"line_color\":{\"value\":\"#81D34C\"},\"marker\":{\"value\":\"diamond\"},\"size\":{\"value\":10},\"x\":{\"field\":\"date_time\"},\"y\":{\"field\":\"y_index\"}},\"id\":\"10839\",\"type\":\"Scatter\"},{\"attributes\":{\"fill_alpha\":{\"value\":0.5},\"fill_color\":{\"value\":\"#460E61\"},\"hatch_alpha\":{\"value\":0.5},\"hatch_color\":{\"value\":\"#460E61\"},\"line_alpha\":{\"value\":0.5},\"line_color\":{\"value\":\"#460E61\"},\"marker\":{\"value\":\"diamond\"},\"size\":{\"value\":10},\"x\":{\"field\":\"date_time\"},\"y\":{\"field\":\"y_index\"}},\"id\":\"10543\",\"type\":\"Scatter\"},{\"attributes\":{\"coordinates\":null,\"data_source\":{\"id\":\"10191\"},\"glyph\":{\"id\":\"10837\"},\"group\":null,\"hover_glyph\":null,\"muted_glyph\":{\"id\":\"10839\"},\"nonselection_glyph\":{\"id\":\"10838\"},\"view\":{\"id\":\"10841\"}},\"id\":\"10840\",\"type\":\"GlyphRenderer\"},{\"attributes\":{\"coordinates\":null,\"data_source\":{\"id\":\"10147\"},\"glyph\":{\"id\":\"10529\"},\"group\":null,\"hover_glyph\":null,\"muted_glyph\":{\"id\":\"10531\"},\"nonselection_glyph\":{\"id\":\"10530\"},\"view\":{\"id\":\"10533\"}},\"id\":\"10532\",\"type\":\"GlyphRenderer\"},{\"attributes\":{\"fill_alpha\":{\"value\":0.1},\"fill_color\":{\"value\":\"#8DD644\"},\"hatch_alpha\":{\"value\":0.1},\"hatch_color\":{\"value\":\"#8DD644\"},\"line_alpha\":{\"value\":0.1},\"line_color\":{\"value\":\"#8DD644\"},\"marker\":{\"value\":\"diamond\"},\"size\":{\"value\":10},\"x\":{\"field\":\"date_time\"},\"y\":{\"field\":\"y_index\"}},\"id\":\"10845\",\"type\":\"Scatter\"},{\"attributes\":{\"label\":{\"value\":\"u58\"},\"renderers\":[{\"id\":\"10840\"}]},\"id\":\"10842\",\"type\":\"LegendItem\"},{\"attributes\":{\"source\":{\"id\":\"10191\"}},\"id\":\"10841\",\"type\":\"CDSView\"},{\"attributes\":{},\"id\":\"10923\",\"type\":\"UnionRenderers\"},{\"attributes\":{\"fill_alpha\":{\"value\":0.1},\"fill_color\":{\"value\":\"#440154\"},\"hatch_alpha\":{\"value\":0.1},\"hatch_color\":{\"value\":\"#440154\"},\"line_alpha\":{\"value\":0.1},\"line_color\":{\"value\":\"#440154\"},\"marker\":{\"value\":\"diamond\"},\"size\":{\"value\":10},\"x\":{\"field\":\"date_time\"},\"y\":{\"field\":\"y_index\"}},\"id\":\"10530\",\"type\":\"Scatter\"},{\"attributes\":{\"fill_alpha\":{\"value\":0.5},\"fill_color\":{\"value\":\"#8DD644\"},\"hatch_alpha\":{\"value\":0.5},\"hatch_color\":{\"value\":\"#8DD644\"},\"line_alpha\":{\"value\":0.5},\"line_color\":{\"value\":\"#8DD644\"},\"marker\":{\"value\":\"diamond\"},\"size\":{\"value\":10},\"x\":{\"field\":\"date_time\"},\"y\":{\"field\":\"y_index\"}},\"id\":\"10844\",\"type\":\"Scatter\"},{\"attributes\":{\"fill_alpha\":{\"value\":0.2},\"fill_color\":{\"value\":\"#440154\"},\"hatch_alpha\":{\"value\":0.2},\"hatch_color\":{\"value\":\"#440154\"},\"line_alpha\":{\"value\":0.2},\"line_color\":{\"value\":\"#440154\"},\"marker\":{\"value\":\"diamond\"},\"size\":{\"value\":10},\"x\":{\"field\":\"date_time\"},\"y\":{\"field\":\"y_index\"}},\"id\":\"10531\",\"type\":\"Scatter\"},{\"attributes\":{},\"id\":\"10924\",\"type\":\"Selection\"},{\"attributes\":{\"fill_alpha\":{\"value\":0.2},\"fill_color\":{\"value\":\"#8DD644\"},\"hatch_alpha\":{\"value\":0.2},\"hatch_color\":{\"value\":\"#8DD644\"},\"line_alpha\":{\"value\":0.2},\"line_color\":{\"value\":\"#8DD644\"},\"marker\":{\"value\":\"diamond\"},\"size\":{\"value\":10},\"x\":{\"field\":\"date_time\"},\"y\":{\"field\":\"y_index\"}},\"id\":\"10846\",\"type\":\"Scatter\"},{\"attributes\":{\"label\":{\"value\":\"u00\"},\"renderers\":[{\"id\":\"10532\"}]},\"id\":\"10534\",\"type\":\"LegendItem\"},{\"attributes\":{},\"id\":\"10891\",\"type\":\"UnionRenderers\"},{\"attributes\":{\"source\":{\"id\":\"10148\"}},\"id\":\"10540\",\"type\":\"CDSView\"},{\"attributes\":{\"coordinates\":null,\"data_source\":{\"id\":\"10192\"},\"glyph\":{\"id\":\"10844\"},\"group\":null,\"hover_glyph\":null,\"muted_glyph\":{\"id\":\"10846\"},\"nonselection_glyph\":{\"id\":\"10845\"},\"view\":{\"id\":\"10848\"}},\"id\":\"10847\",\"type\":\"GlyphRenderer\"},{\"attributes\":{\"source\":{\"id\":\"10147\"}},\"id\":\"10533\",\"type\":\"CDSView\"},{\"attributes\":{},\"id\":\"10892\",\"type\":\"Selection\"},{\"attributes\":{\"fill_alpha\":{\"value\":0.5},\"fill_color\":{\"value\":\"#32628D\"},\"hatch_alpha\":{\"value\":0.5},\"hatch_color\":{\"value\":\"#32628D\"},\"line_alpha\":{\"value\":0.5},\"line_color\":{\"value\":\"#32628D\"},\"marker\":{\"value\":\"diamond\"},\"size\":{\"value\":10},\"x\":{\"field\":\"date_time\"},\"y\":{\"field\":\"y_index\"}},\"id\":\"10648\",\"type\":\"Scatter\"},{\"attributes\":{\"label\":{\"value\":\"u59\"},\"renderers\":[{\"id\":\"10847\"}]},\"id\":\"10849\",\"type\":\"LegendItem\"},{\"attributes\":{\"fill_alpha\":{\"value\":0.1},\"fill_color\":{\"value\":\"#460E61\"},\"hatch_alpha\":{\"value\":0.1},\"hatch_color\":{\"value\":\"#460E61\"},\"line_alpha\":{\"value\":0.1},\"line_color\":{\"value\":\"#460E61\"},\"marker\":{\"value\":\"diamond\"},\"size\":{\"value\":10},\"x\":{\"field\":\"date_time\"},\"y\":{\"field\":\"y_index\"}},\"id\":\"10544\",\"type\":\"Scatter\"},{\"attributes\":{\"source\":{\"id\":\"10192\"}},\"id\":\"10848\",\"type\":\"CDSView\"},{\"attributes\":{\"data\":{\"date_time\":{\"__ndarray__\":\"AABELFTcc0IAAEBhbtxzQgAA5g6T3HNCAAAseMXcc0IAABD3bt9zQgAAqiZJ4XNCAABc/c7hc0IAAL5o8uFzQgAAalRL4nNCAAA46I7ic0IAAITp5uJzQgAASuB043NCAACeHafjc0I=\",\"dtype\":\"float64\",\"order\":\"little\",\"shape\":[13]},\"index\":[368,369,370,371,372,373,374,375,376,377,378,379,380],\"y_index\":[5,5,5,5,5,5,5,5,5,5,5,5,5]},\"selected\":{\"id\":\"10872\"},\"selection_policy\":{\"id\":\"10871\"}},\"id\":\"10152\",\"type\":\"ColumnDataSource\"},{\"attributes\":{\"label\":{\"value\":\"u01\"},\"renderers\":[{\"id\":\"10539\"}]},\"id\":\"10541\",\"type\":\"LegendItem\"},{\"attributes\":{\"fill_alpha\":{\"value\":0.2},\"fill_color\":{\"value\":\"#481A6C\"},\"hatch_alpha\":{\"value\":0.2},\"hatch_color\":{\"value\":\"#481A6C\"},\"line_alpha\":{\"value\":0.2},\"line_color\":{\"value\":\"#481A6C\"},\"marker\":{\"value\":\"diamond\"},\"size\":{\"value\":10},\"x\":{\"field\":\"date_time\"},\"y\":{\"field\":\"y_index\"}},\"id\":\"10559\",\"type\":\"Scatter\"},{\"attributes\":{\"coordinates\":null,\"data_source\":{\"id\":\"10163\"},\"glyph\":{\"id\":\"10641\"},\"group\":null,\"hover_glyph\":null,\"muted_glyph\":{\"id\":\"10643\"},\"nonselection_glyph\":{\"id\":\"10642\"},\"view\":{\"id\":\"10645\"}},\"id\":\"10644\",\"type\":\"GlyphRenderer\"},{\"attributes\":{\"coordinates\":null,\"data_source\":{\"id\":\"10151\"},\"glyph\":{\"id\":\"10557\"},\"group\":null,\"hover_glyph\":null,\"muted_glyph\":{\"id\":\"10559\"},\"nonselection_glyph\":{\"id\":\"10558\"},\"view\":{\"id\":\"10561\"}},\"id\":\"10560\",\"type\":\"GlyphRenderer\"},{\"attributes\":{\"click_policy\":\"hide\",\"coordinates\":null,\"group\":null,\"items\":[{\"id\":\"10849\"},{\"id\":\"10842\"},{\"id\":\"10835\"},{\"id\":\"10828\"},{\"id\":\"10821\"},{\"id\":\"10814\"},{\"id\":\"10807\"},{\"id\":\"10800\"},{\"id\":\"10793\"},{\"id\":\"10786\"},{\"id\":\"10779\"},{\"id\":\"10772\"},{\"id\":\"10765\"},{\"id\":\"10758\"},{\"id\":\"10751\"},{\"id\":\"10744\"},{\"id\":\"10737\"},{\"id\":\"10730\"},{\"id\":\"10723\"},{\"id\":\"10716\"},{\"id\":\"10709\"},{\"id\":\"10702\"},{\"id\":\"10695\"},{\"id\":\"10688\"},{\"id\":\"10681\"},{\"id\":\"10674\"},{\"id\":\"10667\"},{\"id\":\"10660\"},{\"id\":\"10653\"},{\"id\":\"10646\"},{\"id\":\"10639\"},{\"id\":\"10632\"},{\"id\":\"10625\"},{\"id\":\"10618\"},{\"id\":\"10611\"},{\"id\":\"10604\"},{\"id\":\"10597\"},{\"id\":\"10590\"},{\"id\":\"10583\"},{\"id\":\"10576\"},{\"id\":\"10569\"},{\"id\":\"10562\"},{\"id\":\"10555\"},{\"id\":\"10548\"},{\"id\":\"10541\"},{\"id\":\"10534\"}],\"label_text_font_size\":\"8pt\",\"location\":\"center\"},\"id\":\"10850\",\"type\":\"Legend\"},{\"attributes\":{\"fill_alpha\":{\"value\":0.1},\"fill_color\":{\"value\":\"#482172\"},\"hatch_alpha\":{\"value\":0.1},\"hatch_color\":{\"value\":\"#482172\"},\"line_alpha\":{\"value\":0.1},\"line_color\":{\"value\":\"#482172\"},\"marker\":{\"value\":\"diamond\"},\"size\":{\"value\":10},\"x\":{\"field\":\"date_time\"},\"y\":{\"field\":\"y_index\"}},\"id\":\"10565\",\"type\":\"Scatter\"},{\"attributes\":{\"label\":{\"value\":\"u04\"},\"renderers\":[{\"id\":\"10560\"}]},\"id\":\"10562\",\"type\":\"LegendItem\"},{\"attributes\":{\"source\":{\"id\":\"10151\"}},\"id\":\"10561\",\"type\":\"CDSView\"},{\"attributes\":{\"fill_alpha\":{\"value\":0.5},\"fill_color\":{\"value\":\"#482172\"},\"hatch_alpha\":{\"value\":0.5},\"hatch_color\":{\"value\":\"#482172\"},\"line_alpha\":{\"value\":0.5},\"line_color\":{\"value\":\"#482172\"},\"marker\":{\"value\":\"diamond\"},\"size\":{\"value\":10},\"x\":{\"field\":\"date_time\"},\"y\":{\"field\":\"y_index\"}},\"id\":\"10564\",\"type\":\"Scatter\"},{\"attributes\":{\"coordinates\":null,\"data_source\":{\"id\":\"10176\"},\"glyph\":{\"id\":\"10732\"},\"group\":null,\"hover_glyph\":null,\"muted_glyph\":{\"id\":\"10734\"},\"nonselection_glyph\":{\"id\":\"10733\"},\"view\":{\"id\":\"10736\"}},\"id\":\"10735\",\"type\":\"GlyphRenderer\"},{\"attributes\":{},\"id\":\"10925\",\"type\":\"UnionRenderers\"},{\"attributes\":{\"fill_alpha\":{\"value\":0.2},\"fill_color\":{\"value\":\"#482172\"},\"hatch_alpha\":{\"value\":0.2},\"hatch_color\":{\"value\":\"#482172\"},\"line_alpha\":{\"value\":0.2},\"line_color\":{\"value\":\"#482172\"},\"marker\":{\"value\":\"diamond\"},\"size\":{\"value\":10},\"x\":{\"field\":\"date_time\"},\"y\":{\"field\":\"y_index\"}},\"id\":\"10566\",\"type\":\"Scatter\"},{\"attributes\":{\"fill_alpha\":{\"value\":0.2},\"fill_color\":{\"value\":\"#355D8C\"},\"hatch_alpha\":{\"value\":0.2},\"hatch_color\":{\"value\":\"#355D8C\"},\"line_alpha\":{\"value\":0.2},\"line_color\":{\"value\":\"#355D8C\"},\"marker\":{\"value\":\"diamond\"},\"size\":{\"value\":10},\"x\":{\"field\":\"date_time\"},\"y\":{\"field\":\"y_index\"}},\"id\":\"10643\",\"type\":\"Scatter\"},{\"attributes\":{\"coordinates\":null,\"data_source\":{\"id\":\"10152\"},\"glyph\":{\"id\":\"10564\"},\"group\":null,\"hover_glyph\":null,\"muted_glyph\":{\"id\":\"10566\"},\"nonselection_glyph\":{\"id\":\"10565\"},\"view\":{\"id\":\"10568\"}},\"id\":\"10567\",\"type\":\"GlyphRenderer\"},{\"attributes\":{},\"id\":\"10926\",\"type\":\"Selection\"},{\"attributes\":{\"fill_alpha\":{\"value\":0.5},\"fill_color\":{\"value\":\"#472777\"},\"hatch_alpha\":{\"value\":0.5},\"hatch_color\":{\"value\":\"#472777\"},\"line_alpha\":{\"value\":0.5},\"line_color\":{\"value\":\"#472777\"},\"marker\":{\"value\":\"diamond\"},\"size\":{\"value\":10},\"x\":{\"field\":\"date_time\"},\"y\":{\"field\":\"y_index\"}},\"id\":\"10571\",\"type\":\"Scatter\"},{\"attributes\":{},\"id\":\"10893\",\"type\":\"UnionRenderers\"},{\"attributes\":{\"label\":{\"value\":\"u07\"},\"renderers\":[{\"id\":\"10567\"}]},\"id\":\"10569\",\"type\":\"LegendItem\"},{\"attributes\":{\"source\":{\"id\":\"10152\"}},\"id\":\"10568\",\"type\":\"CDSView\"},{\"attributes\":{},\"id\":\"10894\",\"type\":\"Selection\"},{\"attributes\":{\"fill_alpha\":{\"value\":0.1},\"fill_color\":{\"value\":\"#472777\"},\"hatch_alpha\":{\"value\":0.1},\"hatch_color\":{\"value\":\"#472777\"},\"line_alpha\":{\"value\":0.1},\"line_color\":{\"value\":\"#472777\"},\"marker\":{\"value\":\"diamond\"},\"size\":{\"value\":10},\"x\":{\"field\":\"date_time\"},\"y\":{\"field\":\"y_index\"}},\"id\":\"10572\",\"type\":\"Scatter\"},{\"attributes\":{\"fill_alpha\":{\"value\":0.5},\"fill_color\":{\"value\":\"#355D8C\"},\"hatch_alpha\":{\"value\":0.5},\"hatch_color\":{\"value\":\"#355D8C\"},\"line_alpha\":{\"value\":0.5},\"line_color\":{\"value\":\"#355D8C\"},\"marker\":{\"value\":\"diamond\"},\"size\":{\"value\":10},\"x\":{\"field\":\"date_time\"},\"y\":{\"field\":\"y_index\"}},\"id\":\"10641\",\"type\":\"Scatter\"},{\"attributes\":{\"fill_alpha\":{\"value\":0.2},\"fill_color\":{\"value\":\"#472777\"},\"hatch_alpha\":{\"value\":0.2},\"hatch_color\":{\"value\":\"#472777\"},\"line_alpha\":{\"value\":0.2},\"line_color\":{\"value\":\"#472777\"},\"marker\":{\"value\":\"diamond\"},\"size\":{\"value\":10},\"x\":{\"field\":\"date_time\"},\"y\":{\"field\":\"y_index\"}},\"id\":\"10573\",\"type\":\"Scatter\"},{\"attributes\":{\"coordinates\":null,\"data_source\":{\"id\":\"10153\"},\"glyph\":{\"id\":\"10571\"},\"group\":null,\"hover_glyph\":null,\"muted_glyph\":{\"id\":\"10573\"},\"nonselection_glyph\":{\"id\":\"10572\"},\"view\":{\"id\":\"10575\"}},\"id\":\"10574\",\"type\":\"GlyphRenderer\"},{\"attributes\":{\"fill_alpha\":{\"value\":0.5},\"fill_color\":{\"value\":\"#462D7C\"},\"hatch_alpha\":{\"value\":0.5},\"hatch_color\":{\"value\":\"#462D7C\"},\"line_alpha\":{\"value\":0.5},\"line_color\":{\"value\":\"#462D7C\"},\"marker\":{\"value\":\"diamond\"},\"size\":{\"value\":10},\"x\":{\"field\":\"date_time\"},\"y\":{\"field\":\"y_index\"}},\"id\":\"10578\",\"type\":\"Scatter\"},{\"attributes\":{\"label\":{\"value\":\"u08\"},\"renderers\":[{\"id\":\"10574\"}]},\"id\":\"10576\",\"type\":\"LegendItem\"},{\"attributes\":{\"source\":{\"id\":\"10153\"}},\"id\":\"10575\",\"type\":\"CDSView\"},{\"attributes\":{\"fill_alpha\":{\"value\":0.1},\"fill_color\":{\"value\":\"#462D7C\"},\"hatch_alpha\":{\"value\":0.1},\"hatch_color\":{\"value\":\"#462D7C\"},\"line_alpha\":{\"value\":0.1},\"line_color\":{\"value\":\"#462D7C\"},\"marker\":{\"value\":\"diamond\"},\"size\":{\"value\":10},\"x\":{\"field\":\"date_time\"},\"y\":{\"field\":\"y_index\"}},\"id\":\"10579\",\"type\":\"Scatter\"},{\"attributes\":{\"fill_alpha\":{\"value\":0.2},\"fill_color\":{\"value\":\"#462D7C\"},\"hatch_alpha\":{\"value\":0.2},\"hatch_color\":{\"value\":\"#462D7C\"},\"line_alpha\":{\"value\":0.2},\"line_color\":{\"value\":\"#462D7C\"},\"marker\":{\"value\":\"diamond\"},\"size\":{\"value\":10},\"x\":{\"field\":\"date_time\"},\"y\":{\"field\":\"y_index\"}},\"id\":\"10580\",\"type\":\"Scatter\"},{\"attributes\":{},\"id\":\"10927\",\"type\":\"UnionRenderers\"},{\"attributes\":{\"source\":{\"id\":\"10162\"}},\"id\":\"10638\",\"type\":\"CDSView\"},{\"attributes\":{\"coordinates\":null,\"data_source\":{\"id\":\"10154\"},\"glyph\":{\"id\":\"10578\"},\"group\":null,\"hover_glyph\":null,\"muted_glyph\":{\"id\":\"10580\"},\"nonselection_glyph\":{\"id\":\"10579\"},\"view\":{\"id\":\"10582\"}},\"id\":\"10581\",\"type\":\"GlyphRenderer\"},{\"attributes\":{\"fill_alpha\":{\"value\":0.1},\"fill_color\":{\"value\":\"#45327F\"},\"hatch_alpha\":{\"value\":0.1},\"hatch_color\":{\"value\":\"#45327F\"},\"line_alpha\":{\"value\":0.1},\"line_color\":{\"value\":\"#45327F\"},\"marker\":{\"value\":\"diamond\"},\"size\":{\"value\":10},\"x\":{\"field\":\"date_time\"},\"y\":{\"field\":\"y_index\"}},\"id\":\"10586\",\"type\":\"Scatter\"},{\"attributes\":{},\"id\":\"10928\",\"type\":\"Selection\"},{\"attributes\":{\"label\":{\"value\":\"u10\"},\"renderers\":[{\"id\":\"10581\"}]},\"id\":\"10583\",\"type\":\"LegendItem\"},{\"attributes\":{},\"id\":\"10895\",\"type\":\"UnionRenderers\"},{\"attributes\":{\"source\":{\"id\":\"10154\"}},\"id\":\"10582\",\"type\":\"CDSView\"},{\"attributes\":{\"fill_alpha\":{\"value\":0.5},\"fill_color\":{\"value\":\"#45327F\"},\"hatch_alpha\":{\"value\":0.5},\"hatch_color\":{\"value\":\"#45327F\"},\"line_alpha\":{\"value\":0.5},\"line_color\":{\"value\":\"#45327F\"},\"marker\":{\"value\":\"diamond\"},\"size\":{\"value\":10},\"x\":{\"field\":\"date_time\"},\"y\":{\"field\":\"y_index\"}},\"id\":\"10585\",\"type\":\"Scatter\"},{\"attributes\":{},\"id\":\"10896\",\"type\":\"Selection\"},{\"attributes\":{\"fill_alpha\":{\"value\":0.1},\"fill_color\":{\"value\":\"#355D8C\"},\"hatch_alpha\":{\"value\":0.1},\"hatch_color\":{\"value\":\"#355D8C\"},\"line_alpha\":{\"value\":0.1},\"line_color\":{\"value\":\"#355D8C\"},\"marker\":{\"value\":\"diamond\"},\"size\":{\"value\":10},\"x\":{\"field\":\"date_time\"},\"y\":{\"field\":\"y_index\"}},\"id\":\"10642\",\"type\":\"Scatter\"},{\"attributes\":{\"fill_alpha\":{\"value\":0.2},\"fill_color\":{\"value\":\"#45327F\"},\"hatch_alpha\":{\"value\":0.2},\"hatch_color\":{\"value\":\"#45327F\"},\"line_alpha\":{\"value\":0.2},\"line_color\":{\"value\":\"#45327F\"},\"marker\":{\"value\":\"diamond\"},\"size\":{\"value\":10},\"x\":{\"field\":\"date_time\"},\"y\":{\"field\":\"y_index\"}},\"id\":\"10587\",\"type\":\"Scatter\"},{\"attributes\":{\"label\":{\"value\":\"u20\"},\"renderers\":[{\"id\":\"10637\"}]},\"id\":\"10639\",\"type\":\"LegendItem\"},{\"attributes\":{\"coordinates\":null,\"data_source\":{\"id\":\"10155\"},\"glyph\":{\"id\":\"10585\"},\"group\":null,\"hover_glyph\":null,\"muted_glyph\":{\"id\":\"10587\"},\"nonselection_glyph\":{\"id\":\"10586\"},\"view\":{\"id\":\"10589\"}},\"id\":\"10588\",\"type\":\"GlyphRenderer\"},{\"attributes\":{\"fill_alpha\":{\"value\":0.1},\"fill_color\":{\"value\":\"#443982\"},\"hatch_alpha\":{\"value\":0.1},\"hatch_color\":{\"value\":\"#443982\"},\"line_alpha\":{\"value\":0.1},\"line_color\":{\"value\":\"#443982\"},\"marker\":{\"value\":\"diamond\"},\"size\":{\"value\":10},\"x\":{\"field\":\"date_time\"},\"y\":{\"field\":\"y_index\"}},\"id\":\"10593\",\"type\":\"Scatter\"},{\"attributes\":{\"label\":{\"value\":\"u12\"},\"renderers\":[{\"id\":\"10588\"}]},\"id\":\"10590\",\"type\":\"LegendItem\"},{\"attributes\":{\"source\":{\"id\":\"10155\"}},\"id\":\"10589\",\"type\":\"CDSView\"},{\"attributes\":{\"fill_alpha\":{\"value\":0.5},\"fill_color\":{\"value\":\"#443982\"},\"hatch_alpha\":{\"value\":0.5},\"hatch_color\":{\"value\":\"#443982\"},\"line_alpha\":{\"value\":0.5},\"line_color\":{\"value\":\"#443982\"},\"marker\":{\"value\":\"diamond\"},\"size\":{\"value\":10},\"x\":{\"field\":\"date_time\"},\"y\":{\"field\":\"y_index\"}},\"id\":\"10592\",\"type\":\"Scatter\"},{\"attributes\":{\"fill_alpha\":{\"value\":0.2},\"fill_color\":{\"value\":\"#443982\"},\"hatch_alpha\":{\"value\":0.2},\"hatch_color\":{\"value\":\"#443982\"},\"line_alpha\":{\"value\":0.2},\"line_color\":{\"value\":\"#443982\"},\"marker\":{\"value\":\"diamond\"},\"size\":{\"value\":10},\"x\":{\"field\":\"date_time\"},\"y\":{\"field\":\"y_index\"}},\"id\":\"10594\",\"type\":\"Scatter\"},{\"attributes\":{\"coordinates\":null,\"data_source\":{\"id\":\"10162\"},\"glyph\":{\"id\":\"10634\"},\"group\":null,\"hover_glyph\":null,\"muted_glyph\":{\"id\":\"10636\"},\"nonselection_glyph\":{\"id\":\"10635\"},\"view\":{\"id\":\"10638\"}},\"id\":\"10637\",\"type\":\"GlyphRenderer\"},{\"attributes\":{},\"id\":\"10929\",\"type\":\"UnionRenderers\"},{\"attributes\":{\"coordinates\":null,\"data_source\":{\"id\":\"10156\"},\"glyph\":{\"id\":\"10592\"},\"group\":null,\"hover_glyph\":null,\"muted_glyph\":{\"id\":\"10594\"},\"nonselection_glyph\":{\"id\":\"10593\"},\"view\":{\"id\":\"10596\"}},\"id\":\"10595\",\"type\":\"GlyphRenderer\"},{\"attributes\":{\"fill_alpha\":{\"value\":0.1},\"fill_color\":{\"value\":\"#423E85\"},\"hatch_alpha\":{\"value\":0.1},\"hatch_color\":{\"value\":\"#423E85\"},\"line_alpha\":{\"value\":0.1},\"line_color\":{\"value\":\"#423E85\"},\"marker\":{\"value\":\"diamond\"},\"size\":{\"value\":10},\"x\":{\"field\":\"date_time\"},\"y\":{\"field\":\"y_index\"}},\"id\":\"10600\",\"type\":\"Scatter\"},{\"attributes\":{\"label\":{\"value\":\"u14\"},\"renderers\":[{\"id\":\"10595\"}]},\"id\":\"10597\",\"type\":\"LegendItem\"},{\"attributes\":{},\"id\":\"10930\",\"type\":\"Selection\"},{\"attributes\":{},\"id\":\"10897\",\"type\":\"UnionRenderers\"},{\"attributes\":{\"source\":{\"id\":\"10156\"}},\"id\":\"10596\",\"type\":\"CDSView\"},{\"attributes\":{\"fill_alpha\":{\"value\":0.5},\"fill_color\":{\"value\":\"#423E85\"},\"hatch_alpha\":{\"value\":0.5},\"hatch_color\":{\"value\":\"#423E85\"},\"line_alpha\":{\"value\":0.5},\"line_color\":{\"value\":\"#423E85\"},\"marker\":{\"value\":\"diamond\"},\"size\":{\"value\":10},\"x\":{\"field\":\"date_time\"},\"y\":{\"field\":\"y_index\"}},\"id\":\"10599\",\"type\":\"Scatter\"},{\"attributes\":{},\"id\":\"10898\",\"type\":\"Selection\"},{\"attributes\":{\"label\":{\"value\":\"u41\"},\"renderers\":[{\"id\":\"10735\"}]},\"id\":\"10737\",\"type\":\"LegendItem\"},{\"attributes\":{\"fill_alpha\":{\"value\":0.2},\"fill_color\":{\"value\":\"#423E85\"},\"hatch_alpha\":{\"value\":0.2},\"hatch_color\":{\"value\":\"#423E85\"},\"line_alpha\":{\"value\":0.2},\"line_color\":{\"value\":\"#423E85\"},\"marker\":{\"value\":\"diamond\"},\"size\":{\"value\":10},\"x\":{\"field\":\"date_time\"},\"y\":{\"field\":\"y_index\"}},\"id\":\"10601\",\"type\":\"Scatter\"},{\"attributes\":{\"fill_alpha\":{\"value\":0.2},\"fill_color\":{\"value\":\"#37588C\"},\"hatch_alpha\":{\"value\":0.2},\"hatch_color\":{\"value\":\"#37588C\"},\"line_alpha\":{\"value\":0.2},\"line_color\":{\"value\":\"#37588C\"},\"marker\":{\"value\":\"diamond\"},\"size\":{\"value\":10},\"x\":{\"field\":\"date_time\"},\"y\":{\"field\":\"y_index\"}},\"id\":\"10636\",\"type\":\"Scatter\"},{\"attributes\":{\"coordinates\":null,\"data_source\":{\"id\":\"10157\"},\"glyph\":{\"id\":\"10599\"},\"group\":null,\"hover_glyph\":null,\"muted_glyph\":{\"id\":\"10601\"},\"nonselection_glyph\":{\"id\":\"10600\"},\"view\":{\"id\":\"10603\"}},\"id\":\"10602\",\"type\":\"GlyphRenderer\"},{\"attributes\":{\"fill_alpha\":{\"value\":0.1},\"fill_color\":{\"value\":\"#404387\"},\"hatch_alpha\":{\"value\":0.1},\"hatch_color\":{\"value\":\"#404387\"},\"line_alpha\":{\"value\":0.1},\"line_color\":{\"value\":\"#404387\"},\"marker\":{\"value\":\"diamond\"},\"size\":{\"value\":10},\"x\":{\"field\":\"date_time\"},\"y\":{\"field\":\"y_index\"}},\"id\":\"10607\",\"type\":\"Scatter\"},{\"attributes\":{\"label\":{\"value\":\"u15\"},\"renderers\":[{\"id\":\"10602\"}]},\"id\":\"10604\",\"type\":\"LegendItem\"},{\"attributes\":{\"source\":{\"id\":\"10157\"}},\"id\":\"10603\",\"type\":\"CDSView\"},{\"attributes\":{\"fill_alpha\":{\"value\":0.5},\"fill_color\":{\"value\":\"#404387\"},\"hatch_alpha\":{\"value\":0.5},\"hatch_color\":{\"value\":\"#404387\"},\"line_alpha\":{\"value\":0.5},\"line_color\":{\"value\":\"#404387\"},\"marker\":{\"value\":\"diamond\"},\"size\":{\"value\":10},\"x\":{\"field\":\"date_time\"},\"y\":{\"field\":\"y_index\"}},\"id\":\"10606\",\"type\":\"Scatter\"},{\"attributes\":{\"fill_alpha\":{\"value\":0.5},\"fill_color\":{\"value\":\"#37588C\"},\"hatch_alpha\":{\"value\":0.5},\"hatch_color\":{\"value\":\"#37588C\"},\"line_alpha\":{\"value\":0.5},\"line_color\":{\"value\":\"#37588C\"},\"marker\":{\"value\":\"diamond\"},\"size\":{\"value\":10},\"x\":{\"field\":\"date_time\"},\"y\":{\"field\":\"y_index\"}},\"id\":\"10634\",\"type\":\"Scatter\"},{\"attributes\":{\"fill_alpha\":{\"value\":0.2},\"fill_color\":{\"value\":\"#404387\"},\"hatch_alpha\":{\"value\":0.2},\"hatch_color\":{\"value\":\"#404387\"},\"line_alpha\":{\"value\":0.2},\"line_color\":{\"value\":\"#404387\"},\"marker\":{\"value\":\"diamond\"},\"size\":{\"value\":10},\"x\":{\"field\":\"date_time\"},\"y\":{\"field\":\"y_index\"}},\"id\":\"10608\",\"type\":\"Scatter\"},{\"attributes\":{\"coordinates\":null,\"data_source\":{\"id\":\"10158\"},\"glyph\":{\"id\":\"10606\"},\"group\":null,\"hover_glyph\":null,\"muted_glyph\":{\"id\":\"10608\"},\"nonselection_glyph\":{\"id\":\"10607\"},\"view\":{\"id\":\"10610\"}},\"id\":\"10609\",\"type\":\"GlyphRenderer\"},{\"attributes\":{},\"id\":\"10931\",\"type\":\"UnionRenderers\"},{\"attributes\":{\"fill_alpha\":{\"value\":0.1},\"fill_color\":{\"value\":\"#3E4989\"},\"hatch_alpha\":{\"value\":0.1},\"hatch_color\":{\"value\":\"#3E4989\"},\"line_alpha\":{\"value\":0.1},\"line_color\":{\"value\":\"#3E4989\"},\"marker\":{\"value\":\"diamond\"},\"size\":{\"value\":10},\"x\":{\"field\":\"date_time\"},\"y\":{\"field\":\"y_index\"}},\"id\":\"10614\",\"type\":\"Scatter\"},{\"attributes\":{\"label\":{\"value\":\"u16\"},\"renderers\":[{\"id\":\"10609\"}]},\"id\":\"10611\",\"type\":\"LegendItem\"},{\"attributes\":{},\"id\":\"10932\",\"type\":\"Selection\"},{\"attributes\":{\"source\":{\"id\":\"10158\"}},\"id\":\"10610\",\"type\":\"CDSView\"},{\"attributes\":{},\"id\":\"10899\",\"type\":\"UnionRenderers\"},{\"attributes\":{\"fill_alpha\":{\"value\":0.5},\"fill_color\":{\"value\":\"#3E4989\"},\"hatch_alpha\":{\"value\":0.5},\"hatch_color\":{\"value\":\"#3E4989\"},\"line_alpha\":{\"value\":0.5},\"line_color\":{\"value\":\"#3E4989\"},\"marker\":{\"value\":\"diamond\"},\"size\":{\"value\":10},\"x\":{\"field\":\"date_time\"},\"y\":{\"field\":\"y_index\"}},\"id\":\"10613\",\"type\":\"Scatter\"},{\"attributes\":{},\"id\":\"10900\",\"type\":\"Selection\"},{\"attributes\":{\"fill_alpha\":{\"value\":0.2},\"fill_color\":{\"value\":\"#3E4989\"},\"hatch_alpha\":{\"value\":0.2},\"hatch_color\":{\"value\":\"#3E4989\"},\"line_alpha\":{\"value\":0.2},\"line_color\":{\"value\":\"#3E4989\"},\"marker\":{\"value\":\"diamond\"},\"size\":{\"value\":10},\"x\":{\"field\":\"date_time\"},\"y\":{\"field\":\"y_index\"}},\"id\":\"10615\",\"type\":\"Scatter\"},{\"attributes\":{\"source\":{\"id\":\"10161\"}},\"id\":\"10631\",\"type\":\"CDSView\"},{\"attributes\":{\"coordinates\":null,\"data_source\":{\"id\":\"10159\"},\"glyph\":{\"id\":\"10613\"},\"group\":null,\"hover_glyph\":null,\"muted_glyph\":{\"id\":\"10615\"},\"nonselection_glyph\":{\"id\":\"10614\"},\"view\":{\"id\":\"10617\"}},\"id\":\"10616\",\"type\":\"GlyphRenderer\"},{\"attributes\":{\"fill_alpha\":{\"value\":0.1},\"fill_color\":{\"value\":\"#3C4E8A\"},\"hatch_alpha\":{\"value\":0.1},\"hatch_color\":{\"value\":\"#3C4E8A\"},\"line_alpha\":{\"value\":0.1},\"line_color\":{\"value\":\"#3C4E8A\"},\"marker\":{\"value\":\"diamond\"},\"size\":{\"value\":10},\"x\":{\"field\":\"date_time\"},\"y\":{\"field\":\"y_index\"}},\"id\":\"10621\",\"type\":\"Scatter\"},{\"attributes\":{\"label\":{\"value\":\"u17\"},\"renderers\":[{\"id\":\"10616\"}]},\"id\":\"10618\",\"type\":\"LegendItem\"},{\"attributes\":{\"source\":{\"id\":\"10159\"}},\"id\":\"10617\",\"type\":\"CDSView\"},{\"attributes\":{\"fill_alpha\":{\"value\":0.5},\"fill_color\":{\"value\":\"#3C4E8A\"},\"hatch_alpha\":{\"value\":0.5},\"hatch_color\":{\"value\":\"#3C4E8A\"},\"line_alpha\":{\"value\":0.5},\"line_color\":{\"value\":\"#3C4E8A\"},\"marker\":{\"value\":\"diamond\"},\"size\":{\"value\":10},\"x\":{\"field\":\"date_time\"},\"y\":{\"field\":\"y_index\"}},\"id\":\"10620\",\"type\":\"Scatter\"},{\"attributes\":{\"coordinates\":null,\"data_source\":{\"id\":\"10161\"},\"glyph\":{\"id\":\"10627\"},\"group\":null,\"hover_glyph\":null,\"muted_glyph\":{\"id\":\"10629\"},\"nonselection_glyph\":{\"id\":\"10628\"},\"view\":{\"id\":\"10631\"}},\"id\":\"10630\",\"type\":\"GlyphRenderer\"},{\"attributes\":{\"fill_alpha\":{\"value\":0.2},\"fill_color\":{\"value\":\"#3C4E8A\"},\"hatch_alpha\":{\"value\":0.2},\"hatch_color\":{\"value\":\"#3C4E8A\"},\"line_alpha\":{\"value\":0.2},\"line_color\":{\"value\":\"#3C4E8A\"},\"marker\":{\"value\":\"diamond\"},\"size\":{\"value\":10},\"x\":{\"field\":\"date_time\"},\"y\":{\"field\":\"y_index\"}},\"id\":\"10622\",\"type\":\"Scatter\"},{\"attributes\":{\"label\":{\"value\":\"u19\"},\"renderers\":[{\"id\":\"10630\"}]},\"id\":\"10632\",\"type\":\"LegendItem\"},{\"attributes\":{\"coordinates\":null,\"data_source\":{\"id\":\"10160\"},\"glyph\":{\"id\":\"10620\"},\"group\":null,\"hover_glyph\":null,\"muted_glyph\":{\"id\":\"10622\"},\"nonselection_glyph\":{\"id\":\"10621\"},\"view\":{\"id\":\"10624\"}},\"id\":\"10623\",\"type\":\"GlyphRenderer\"},{\"attributes\":{\"data\":{\"date_time\":{\"__ndarray__\":\"AADQE3fcc0IAALYAZ91zQgAAjogG3nNCAACARVfec0IAAMgl7+FzQgAAeBON4nNCAABYAJLjc0IAADQbx+RzQgAA5K5z5XNCAABMJnTnc0IAACqCoOpzQgAASHtN6nNC\",\"dtype\":\"float64\",\"order\":\"little\",\"shape\":[12]},\"index\":[302,303,304,305,306,307,308,309,310,311,312,313],\"y_index\":[2,2,2,2,2,2,2,2,2,2,2,2]},\"selected\":{\"id\":\"10866\"},\"selection_policy\":{\"id\":\"10865\"}},\"id\":\"10149\",\"type\":\"ColumnDataSource\"},{\"attributes\":{\"fill_alpha\":{\"value\":0.1},\"fill_color\":{\"value\":\"#37588C\"},\"hatch_alpha\":{\"value\":0.1},\"hatch_color\":{\"value\":\"#37588C\"},\"line_alpha\":{\"value\":0.1},\"line_color\":{\"value\":\"#37588C\"},\"marker\":{\"value\":\"diamond\"},\"size\":{\"value\":10},\"x\":{\"field\":\"date_time\"},\"y\":{\"field\":\"y_index\"}},\"id\":\"10635\",\"type\":\"Scatter\"},{\"attributes\":{},\"id\":\"10933\",\"type\":\"UnionRenderers\"},{\"attributes\":{\"label\":{\"value\":\"u18\"},\"renderers\":[{\"id\":\"10623\"}]},\"id\":\"10625\",\"type\":\"LegendItem\"},{\"attributes\":{\"source\":{\"id\":\"10176\"}},\"id\":\"10736\",\"type\":\"CDSView\"},{\"attributes\":{\"source\":{\"id\":\"10160\"}},\"id\":\"10624\",\"type\":\"CDSView\"},{\"attributes\":{},\"id\":\"10934\",\"type\":\"Selection\"},{\"attributes\":{},\"id\":\"10901\",\"type\":\"UnionRenderers\"},{\"attributes\":{\"fill_alpha\":{\"value\":0.2},\"fill_color\":{\"value\":\"#39548B\"},\"hatch_alpha\":{\"value\":0.2},\"hatch_color\":{\"value\":\"#39548B\"},\"line_alpha\":{\"value\":0.2},\"line_color\":{\"value\":\"#39548B\"},\"marker\":{\"value\":\"diamond\"},\"size\":{\"value\":10},\"x\":{\"field\":\"date_time\"},\"y\":{\"field\":\"y_index\"}},\"id\":\"10629\",\"type\":\"Scatter\"},{\"attributes\":{\"fill_alpha\":{\"value\":0.1},\"fill_color\":{\"value\":\"#39548B\"},\"hatch_alpha\":{\"value\":0.1},\"hatch_color\":{\"value\":\"#39548B\"},\"line_alpha\":{\"value\":0.1},\"line_color\":{\"value\":\"#39548B\"},\"marker\":{\"value\":\"diamond\"},\"size\":{\"value\":10},\"x\":{\"field\":\"date_time\"},\"y\":{\"field\":\"y_index\"}},\"id\":\"10628\",\"type\":\"Scatter\"},{\"attributes\":{},\"id\":\"10902\",\"type\":\"Selection\"},{\"attributes\":{\"fill_alpha\":{\"value\":0.5},\"fill_color\":{\"value\":\"#1E9C89\"},\"hatch_alpha\":{\"value\":0.5},\"hatch_color\":{\"value\":\"#1E9C89\"},\"line_alpha\":{\"value\":0.5},\"line_color\":{\"value\":\"#1E9C89\"},\"marker\":{\"value\":\"diamond\"},\"size\":{\"value\":10},\"x\":{\"field\":\"date_time\"},\"y\":{\"field\":\"y_index\"}},\"id\":\"10739\",\"type\":\"Scatter\"},{\"attributes\":{\"fill_alpha\":{\"value\":0.2},\"fill_color\":{\"value\":\"#1E988A\"},\"hatch_alpha\":{\"value\":0.2},\"hatch_color\":{\"value\":\"#1E988A\"},\"line_alpha\":{\"value\":0.2},\"line_color\":{\"value\":\"#1E988A\"},\"marker\":{\"value\":\"diamond\"},\"size\":{\"value\":10},\"x\":{\"field\":\"date_time\"},\"y\":{\"field\":\"y_index\"}},\"id\":\"10734\",\"type\":\"Scatter\"},{\"attributes\":{\"fill_alpha\":{\"value\":0.2},\"fill_color\":{\"value\":\"#32628D\"},\"hatch_alpha\":{\"value\":0.2},\"hatch_color\":{\"value\":\"#32628D\"},\"line_alpha\":{\"value\":0.2},\"line_color\":{\"value\":\"#32628D\"},\"marker\":{\"value\":\"diamond\"},\"size\":{\"value\":10},\"x\":{\"field\":\"date_time\"},\"y\":{\"field\":\"y_index\"}},\"id\":\"10650\",\"type\":\"Scatter\"},{\"attributes\":{\"coordinates\":null,\"data_source\":{\"id\":\"10164\"},\"glyph\":{\"id\":\"10648\"},\"group\":null,\"hover_glyph\":null,\"muted_glyph\":{\"id\":\"10650\"},\"nonselection_glyph\":{\"id\":\"10649\"},\"view\":{\"id\":\"10652\"}},\"id\":\"10651\",\"type\":\"GlyphRenderer\"},{\"attributes\":{\"fill_alpha\":{\"value\":0.1},\"fill_color\":{\"value\":\"#30678D\"},\"hatch_alpha\":{\"value\":0.1},\"hatch_color\":{\"value\":\"#30678D\"},\"line_alpha\":{\"value\":0.1},\"line_color\":{\"value\":\"#30678D\"},\"marker\":{\"value\":\"diamond\"},\"size\":{\"value\":10},\"x\":{\"field\":\"date_time\"},\"y\":{\"field\":\"y_index\"}},\"id\":\"10656\",\"type\":\"Scatter\"},{\"attributes\":{\"label\":{\"value\":\"u23\"},\"renderers\":[{\"id\":\"10651\"}]},\"id\":\"10653\",\"type\":\"LegendItem\"},{\"attributes\":{\"source\":{\"id\":\"10164\"}},\"id\":\"10652\",\"type\":\"CDSView\"},{\"attributes\":{\"mantissas\":[1,2,5],\"max_interval\":500.0,\"num_minor_ticks\":0},\"id\":\"10954\",\"type\":\"AdaptiveTicker\"},{\"attributes\":{\"data\":{\"date_time\":{\"__ndarray__\":\"AADe35vdc0IAAEAhQ95zQgAA6PuR33NCAAAIV+bic0IAAFjVJOVzQgAASnDU5HNCAAA4p3Llc0IAACKxXudzQg==\",\"dtype\":\"float64\",\"order\":\"little\",\"shape\":[8]},\"index\":[0,1,2,3,4,5,6,7],\"y_index\":[3,3,3,3,3,3,3,3]},\"selected\":{\"id\":\"10868\"},\"selection_policy\":{\"id\":\"10867\"}},\"id\":\"10150\",\"type\":\"ColumnDataSource\"},{\"attributes\":{\"fill_alpha\":{\"value\":0.5},\"fill_color\":{\"value\":\"#30678D\"},\"hatch_alpha\":{\"value\":0.5},\"hatch_color\":{\"value\":\"#30678D\"},\"line_alpha\":{\"value\":0.5},\"line_color\":{\"value\":\"#30678D\"},\"marker\":{\"value\":\"diamond\"},\"size\":{\"value\":10},\"x\":{\"field\":\"date_time\"},\"y\":{\"field\":\"y_index\"}},\"id\":\"10655\",\"type\":\"Scatter\"},{\"attributes\":{\"base\":60,\"mantissas\":[1,2,5,10,15,20,30],\"max_interval\":1800000.0,\"min_interval\":1000.0,\"num_minor_ticks\":0},\"id\":\"10955\",\"type\":\"AdaptiveTicker\"},{\"attributes\":{\"fill_alpha\":{\"value\":0.2},\"fill_color\":{\"value\":\"#30678D\"},\"hatch_alpha\":{\"value\":0.2},\"hatch_color\":{\"value\":\"#30678D\"},\"line_alpha\":{\"value\":0.2},\"line_color\":{\"value\":\"#30678D\"},\"marker\":{\"value\":\"diamond\"},\"size\":{\"value\":10},\"x\":{\"field\":\"date_time\"},\"y\":{\"field\":\"y_index\"}},\"id\":\"10657\",\"type\":\"Scatter\"},{\"attributes\":{},\"id\":\"10935\",\"type\":\"UnionRenderers\"},{\"attributes\":{\"base\":24,\"mantissas\":[1,2,4,6,8,12],\"max_interval\":43200000.0,\"min_interval\":3600000.0,\"num_minor_ticks\":0},\"id\":\"10956\",\"type\":\"AdaptiveTicker\"},{\"attributes\":{\"coordinates\":null,\"data_source\":{\"id\":\"10187\"},\"glyph\":{\"id\":\"10809\"},\"group\":null,\"hover_glyph\":null,\"muted_glyph\":{\"id\":\"10811\"},\"nonselection_glyph\":{\"id\":\"10810\"},\"view\":{\"id\":\"10813\"}},\"id\":\"10812\",\"type\":\"GlyphRenderer\"},{\"attributes\":{},\"id\":\"10965\",\"type\":\"YearsTicker\"},{\"attributes\":{\"coordinates\":null,\"data_source\":{\"id\":\"10165\"},\"glyph\":{\"id\":\"10655\"},\"group\":null,\"hover_glyph\":null,\"muted_glyph\":{\"id\":\"10657\"},\"nonselection_glyph\":{\"id\":\"10656\"},\"view\":{\"id\":\"10659\"}},\"id\":\"10658\",\"type\":\"GlyphRenderer\"},{\"attributes\":{\"months\":[0,1,2,3,4,5,6,7,8,9,10,11]},\"id\":\"10961\",\"type\":\"MonthsTicker\"},{\"attributes\":{\"fill_alpha\":{\"value\":0.1},\"fill_color\":{\"value\":\"#2E6B8E\"},\"hatch_alpha\":{\"value\":0.1},\"hatch_color\":{\"value\":\"#2E6B8E\"},\"line_alpha\":{\"value\":0.1},\"line_color\":{\"value\":\"#2E6B8E\"},\"marker\":{\"value\":\"diamond\"},\"size\":{\"value\":10},\"x\":{\"field\":\"date_time\"},\"y\":{\"field\":\"y_index\"}},\"id\":\"10663\",\"type\":\"Scatter\"},{\"attributes\":{},\"id\":\"10936\",\"type\":\"Selection\"},{\"attributes\":{\"days\":[1,15]},\"id\":\"10960\",\"type\":\"DaysTicker\"},{\"attributes\":{\"label\":{\"value\":\"u24\"},\"renderers\":[{\"id\":\"10658\"}]},\"id\":\"10660\",\"type\":\"LegendItem\"},{\"attributes\":{},\"id\":\"10903\",\"type\":\"UnionRenderers\"},{\"attributes\":{\"days\":[1,2,3,4,5,6,7,8,9,10,11,12,13,14,15,16,17,18,19,20,21,22,23,24,25,26,27,28,29,30,31]},\"id\":\"10957\",\"type\":\"DaysTicker\"},{\"attributes\":{\"days\":[1,4,7,10,13,16,19,22,25,28]},\"id\":\"10958\",\"type\":\"DaysTicker\"},{\"attributes\":{\"source\":{\"id\":\"10165\"}},\"id\":\"10659\",\"type\":\"CDSView\"},{\"attributes\":{\"days\":[1,8,15,22]},\"id\":\"10959\",\"type\":\"DaysTicker\"},{\"attributes\":{\"fill_alpha\":{\"value\":0.5},\"fill_color\":{\"value\":\"#2E6B8E\"},\"hatch_alpha\":{\"value\":0.5},\"hatch_color\":{\"value\":\"#2E6B8E\"},\"line_alpha\":{\"value\":0.5},\"line_color\":{\"value\":\"#2E6B8E\"},\"marker\":{\"value\":\"diamond\"},\"size\":{\"value\":10},\"x\":{\"field\":\"date_time\"},\"y\":{\"field\":\"y_index\"}},\"id\":\"10662\",\"type\":\"Scatter\"},{\"attributes\":{},\"id\":\"10904\",\"type\":\"Selection\"},{\"attributes\":{\"months\":[0,6]},\"id\":\"10964\",\"type\":\"MonthsTicker\"},{\"attributes\":{\"months\":[0,2,4,6,8,10]},\"id\":\"10962\",\"type\":\"MonthsTicker\"},{\"attributes\":{\"source\":{\"id\":\"10175\"}},\"id\":\"10729\",\"type\":\"CDSView\"},{\"attributes\":{\"fill_alpha\":{\"value\":0.2},\"fill_color\":{\"value\":\"#2E6B8E\"},\"hatch_alpha\":{\"value\":0.2},\"hatch_color\":{\"value\":\"#2E6B8E\"},\"line_alpha\":{\"value\":0.2},\"line_color\":{\"value\":\"#2E6B8E\"},\"marker\":{\"value\":\"diamond\"},\"size\":{\"value\":10},\"x\":{\"field\":\"date_time\"},\"y\":{\"field\":\"y_index\"}},\"id\":\"10664\",\"type\":\"Scatter\"},{\"attributes\":{\"fill_alpha\":{\"value\":0.5},\"fill_color\":{\"value\":\"#1E988A\"},\"hatch_alpha\":{\"value\":0.5},\"hatch_color\":{\"value\":\"#1E988A\"},\"line_alpha\":{\"value\":0.5},\"line_color\":{\"value\":\"#1E988A\"},\"marker\":{\"value\":\"diamond\"},\"size\":{\"value\":10},\"x\":{\"field\":\"date_time\"},\"y\":{\"field\":\"y_index\"}},\"id\":\"10732\",\"type\":\"Scatter\"},{\"attributes\":{\"months\":[0,4,8]},\"id\":\"10963\",\"type\":\"MonthsTicker\"},{\"attributes\":{\"coordinates\":null,\"data_source\":{\"id\":\"10166\"},\"glyph\":{\"id\":\"10662\"},\"group\":null,\"hover_glyph\":null,\"muted_glyph\":{\"id\":\"10664\"},\"nonselection_glyph\":{\"id\":\"10663\"},\"view\":{\"id\":\"10666\"}},\"id\":\"10665\",\"type\":\"GlyphRenderer\"},{\"attributes\":{\"fill_alpha\":{\"value\":0.1},\"fill_color\":{\"value\":\"#2C708E\"},\"hatch_alpha\":{\"value\":0.1},\"hatch_color\":{\"value\":\"#2C708E\"},\"line_alpha\":{\"value\":0.1},\"line_color\":{\"value\":\"#2C708E\"},\"marker\":{\"value\":\"diamond\"},\"size\":{\"value\":10},\"x\":{\"field\":\"date_time\"},\"y\":{\"field\":\"y_index\"}},\"id\":\"10670\",\"type\":\"Scatter\"},{\"attributes\":{\"label\":{\"value\":\"u25\"},\"renderers\":[{\"id\":\"10665\"}]},\"id\":\"10667\",\"type\":\"LegendItem\"},{\"attributes\":{\"source\":{\"id\":\"10166\"}},\"id\":\"10666\",\"type\":\"CDSView\"},{\"attributes\":{\"fill_alpha\":{\"value\":0.5},\"fill_color\":{\"value\":\"#2C708E\"},\"hatch_alpha\":{\"value\":0.5},\"hatch_color\":{\"value\":\"#2C708E\"},\"line_alpha\":{\"value\":0.5},\"line_color\":{\"value\":\"#2C708E\"},\"marker\":{\"value\":\"diamond\"},\"size\":{\"value\":10},\"x\":{\"field\":\"date_time\"},\"y\":{\"field\":\"y_index\"}},\"id\":\"10669\",\"type\":\"Scatter\"},{\"attributes\":{\"label\":{\"value\":\"u39\"},\"renderers\":[{\"id\":\"10728\"}]},\"id\":\"10730\",\"type\":\"LegendItem\"},{\"attributes\":{\"fill_alpha\":{\"value\":0.2},\"fill_color\":{\"value\":\"#2C708E\"},\"hatch_alpha\":{\"value\":0.2},\"hatch_color\":{\"value\":\"#2C708E\"},\"line_alpha\":{\"value\":0.2},\"line_color\":{\"value\":\"#2C708E\"},\"marker\":{\"value\":\"diamond\"},\"size\":{\"value\":10},\"x\":{\"field\":\"date_time\"},\"y\":{\"field\":\"y_index\"}},\"id\":\"10671\",\"type\":\"Scatter\"},{\"attributes\":{},\"id\":\"10937\",\"type\":\"UnionRenderers\"},{\"attributes\":{\"coordinates\":null,\"data_source\":{\"id\":\"10167\"},\"glyph\":{\"id\":\"10669\"},\"group\":null,\"hover_glyph\":null,\"muted_glyph\":{\"id\":\"10671\"},\"nonselection_glyph\":{\"id\":\"10670\"},\"view\":{\"id\":\"10673\"}},\"id\":\"10672\",\"type\":\"GlyphRenderer\"},{\"attributes\":{\"fill_alpha\":{\"value\":0.1},\"fill_color\":{\"value\":\"#2A758E\"},\"hatch_alpha\":{\"value\":0.1},\"hatch_color\":{\"value\":\"#2A758E\"},\"line_alpha\":{\"value\":0.1},\"line_color\":{\"value\":\"#2A758E\"},\"marker\":{\"value\":\"diamond\"},\"size\":{\"value\":10},\"x\":{\"field\":\"date_time\"},\"y\":{\"field\":\"y_index\"}},\"id\":\"10677\",\"type\":\"Scatter\"},{\"attributes\":{\"label\":{\"value\":\"u27\"},\"renderers\":[{\"id\":\"10672\"}]},\"id\":\"10674\",\"type\":\"LegendItem\"},{\"attributes\":{},\"id\":\"10938\",\"type\":\"Selection\"},{\"attributes\":{},\"id\":\"10905\",\"type\":\"UnionRenderers\"},{\"attributes\":{\"source\":{\"id\":\"10167\"}},\"id\":\"10673\",\"type\":\"CDSView\"},{\"attributes\":{\"fill_alpha\":{\"value\":0.5},\"fill_color\":{\"value\":\"#2A758E\"},\"hatch_alpha\":{\"value\":0.5},\"hatch_color\":{\"value\":\"#2A758E\"},\"line_alpha\":{\"value\":0.5},\"line_color\":{\"value\":\"#2A758E\"},\"marker\":{\"value\":\"diamond\"},\"size\":{\"value\":10},\"x\":{\"field\":\"date_time\"},\"y\":{\"field\":\"y_index\"}},\"id\":\"10676\",\"type\":\"Scatter\"},{\"attributes\":{},\"id\":\"10906\",\"type\":\"Selection\"},{\"attributes\":{\"coordinates\":null,\"data_source\":{\"id\":\"10175\"},\"glyph\":{\"id\":\"10725\"},\"group\":null,\"hover_glyph\":null,\"muted_glyph\":{\"id\":\"10727\"},\"nonselection_glyph\":{\"id\":\"10726\"},\"view\":{\"id\":\"10729\"}},\"id\":\"10728\",\"type\":\"GlyphRenderer\"},{\"attributes\":{\"fill_alpha\":{\"value\":0.2},\"fill_color\":{\"value\":\"#2A758E\"},\"hatch_alpha\":{\"value\":0.2},\"hatch_color\":{\"value\":\"#2A758E\"},\"line_alpha\":{\"value\":0.2},\"line_color\":{\"value\":\"#2A758E\"},\"marker\":{\"value\":\"diamond\"},\"size\":{\"value\":10},\"x\":{\"field\":\"date_time\"},\"y\":{\"field\":\"y_index\"}},\"id\":\"10678\",\"type\":\"Scatter\"},{\"attributes\":{\"fill_alpha\":{\"value\":0.1},\"fill_color\":{\"value\":\"#1E988A\"},\"hatch_alpha\":{\"value\":0.1},\"hatch_color\":{\"value\":\"#1E988A\"},\"line_alpha\":{\"value\":0.1},\"line_color\":{\"value\":\"#1E988A\"},\"marker\":{\"value\":\"diamond\"},\"size\":{\"value\":10},\"x\":{\"field\":\"date_time\"},\"y\":{\"field\":\"y_index\"}},\"id\":\"10733\",\"type\":\"Scatter\"},{\"attributes\":{\"coordinates\":null,\"data_source\":{\"id\":\"10168\"},\"glyph\":{\"id\":\"10676\"},\"group\":null,\"hover_glyph\":null,\"muted_glyph\":{\"id\":\"10678\"},\"nonselection_glyph\":{\"id\":\"10677\"},\"view\":{\"id\":\"10680\"}},\"id\":\"10679\",\"type\":\"GlyphRenderer\"},{\"attributes\":{\"fill_alpha\":{\"value\":0.1},\"fill_color\":{\"value\":\"#29798E\"},\"hatch_alpha\":{\"value\":0.1},\"hatch_color\":{\"value\":\"#29798E\"},\"line_alpha\":{\"value\":0.1},\"line_color\":{\"value\":\"#29798E\"},\"marker\":{\"value\":\"diamond\"},\"size\":{\"value\":10},\"x\":{\"field\":\"date_time\"},\"y\":{\"field\":\"y_index\"}},\"id\":\"10684\",\"type\":\"Scatter\"},{\"attributes\":{\"label\":{\"value\":\"u30\"},\"renderers\":[{\"id\":\"10679\"}]},\"id\":\"10681\",\"type\":\"LegendItem\"},{\"attributes\":{\"source\":{\"id\":\"10168\"}},\"id\":\"10680\",\"type\":\"CDSView\"},{\"attributes\":{\"fill_alpha\":{\"value\":0.5},\"fill_color\":{\"value\":\"#29798E\"},\"hatch_alpha\":{\"value\":0.5},\"hatch_color\":{\"value\":\"#29798E\"},\"line_alpha\":{\"value\":0.5},\"line_color\":{\"value\":\"#29798E\"},\"marker\":{\"value\":\"diamond\"},\"size\":{\"value\":10},\"x\":{\"field\":\"date_time\"},\"y\":{\"field\":\"y_index\"}},\"id\":\"10683\",\"type\":\"Scatter\"},{\"attributes\":{\"fill_alpha\":{\"value\":0.2},\"fill_color\":{\"value\":\"#1F948B\"},\"hatch_alpha\":{\"value\":0.2},\"hatch_color\":{\"value\":\"#1F948B\"},\"line_alpha\":{\"value\":0.2},\"line_color\":{\"value\":\"#1F948B\"},\"marker\":{\"value\":\"diamond\"},\"size\":{\"value\":10},\"x\":{\"field\":\"date_time\"},\"y\":{\"field\":\"y_index\"}},\"id\":\"10727\",\"type\":\"Scatter\"},{\"attributes\":{\"fill_alpha\":{\"value\":0.2},\"fill_color\":{\"value\":\"#29798E\"},\"hatch_alpha\":{\"value\":0.2},\"hatch_color\":{\"value\":\"#29798E\"},\"line_alpha\":{\"value\":0.2},\"line_color\":{\"value\":\"#29798E\"},\"marker\":{\"value\":\"diamond\"},\"size\":{\"value\":10},\"x\":{\"field\":\"date_time\"},\"y\":{\"field\":\"y_index\"}},\"id\":\"10685\",\"type\":\"Scatter\"},{\"attributes\":{\"coordinates\":null,\"data_source\":{\"id\":\"10169\"},\"glyph\":{\"id\":\"10683\"},\"group\":null,\"hover_glyph\":null,\"muted_glyph\":{\"id\":\"10685\"},\"nonselection_glyph\":{\"id\":\"10684\"},\"view\":{\"id\":\"10687\"}},\"id\":\"10686\",\"type\":\"GlyphRenderer\"},{\"attributes\":{},\"id\":\"10939\",\"type\":\"UnionRenderers\"},{\"attributes\":{\"fill_alpha\":{\"value\":0.1},\"fill_color\":{\"value\":\"#277D8E\"},\"hatch_alpha\":{\"value\":0.1},\"hatch_color\":{\"value\":\"#277D8E\"},\"line_alpha\":{\"value\":0.1},\"line_color\":{\"value\":\"#277D8E\"},\"marker\":{\"value\":\"diamond\"},\"size\":{\"value\":10},\"x\":{\"field\":\"date_time\"},\"y\":{\"field\":\"y_index\"}},\"id\":\"10691\",\"type\":\"Scatter\"},{\"attributes\":{\"label\":{\"value\":\"u31\"},\"renderers\":[{\"id\":\"10686\"}]},\"id\":\"10688\",\"type\":\"LegendItem\"},{\"attributes\":{},\"id\":\"10940\",\"type\":\"Selection\"},{\"attributes\":{\"source\":{\"id\":\"10169\"}},\"id\":\"10687\",\"type\":\"CDSView\"},{\"attributes\":{},\"id\":\"10907\",\"type\":\"UnionRenderers\"},{\"attributes\":{\"fill_alpha\":{\"value\":0.5},\"fill_color\":{\"value\":\"#277D8E\"},\"hatch_alpha\":{\"value\":0.5},\"hatch_color\":{\"value\":\"#277D8E\"},\"line_alpha\":{\"value\":0.5},\"line_color\":{\"value\":\"#277D8E\"},\"marker\":{\"value\":\"diamond\"},\"size\":{\"value\":10},\"x\":{\"field\":\"date_time\"},\"y\":{\"field\":\"y_index\"}},\"id\":\"10690\",\"type\":\"Scatter\"},{\"attributes\":{},\"id\":\"10908\",\"type\":\"Selection\"},{\"attributes\":{\"fill_alpha\":{\"value\":0.2},\"fill_color\":{\"value\":\"#277D8E\"},\"hatch_alpha\":{\"value\":0.2},\"hatch_color\":{\"value\":\"#277D8E\"},\"line_alpha\":{\"value\":0.2},\"line_color\":{\"value\":\"#277D8E\"},\"marker\":{\"value\":\"diamond\"},\"size\":{\"value\":10},\"x\":{\"field\":\"date_time\"},\"y\":{\"field\":\"y_index\"}},\"id\":\"10692\",\"type\":\"Scatter\"},{\"attributes\":{\"label\":{\"value\":\"u53\"},\"renderers\":[{\"id\":\"10812\"}]},\"id\":\"10814\",\"type\":\"LegendItem\"},{\"attributes\":{\"coordinates\":null,\"data_source\":{\"id\":\"10170\"},\"glyph\":{\"id\":\"10690\"},\"group\":null,\"hover_glyph\":null,\"muted_glyph\":{\"id\":\"10692\"},\"nonselection_glyph\":{\"id\":\"10691\"},\"view\":{\"id\":\"10694\"}},\"id\":\"10693\",\"type\":\"GlyphRenderer\"},{\"attributes\":{\"data\":{\"date_time\":{\"__ndarray__\":\"AAAiKnjcc0IAAJ6p7+FzQgAAEE6N4nNCAAA4zObic0IAABzd0eRzQgAACBzD5nNCAAAuu0Trc0IAABiI2OtzQgAAiJSz7nNC\",\"dtype\":\"float64\",\"order\":\"little\",\"shape\":[9]},\"index\":[110,111,112,113,114,115,116,117,118],\"y_index\":[35,35,35,35,35,35,35,35,35]},\"selected\":{\"id\":\"10932\"},\"selection_policy\":{\"id\":\"10931\"}},\"id\":\"10182\",\"type\":\"ColumnDataSource\"},{\"attributes\":{\"fill_alpha\":{\"value\":0.1},\"fill_color\":{\"value\":\"#25828E\"},\"hatch_alpha\":{\"value\":0.1},\"hatch_color\":{\"value\":\"#25828E\"},\"line_alpha\":{\"value\":0.1},\"line_color\":{\"value\":\"#25828E\"},\"marker\":{\"value\":\"diamond\"},\"size\":{\"value\":10},\"x\":{\"field\":\"date_time\"},\"y\":{\"field\":\"y_index\"}},\"id\":\"10698\",\"type\":\"Scatter\"},{\"attributes\":{},\"id\":\"10855\",\"type\":\"BasicTickFormatter\"},{\"attributes\":{\"label\":{\"value\":\"u32\"},\"renderers\":[{\"id\":\"10693\"}]},\"id\":\"10695\",\"type\":\"LegendItem\"},{\"attributes\":{\"source\":{\"id\":\"10170\"}},\"id\":\"10694\",\"type\":\"CDSView\"},{\"attributes\":{\"fill_alpha\":{\"value\":0.5},\"fill_color\":{\"value\":\"#25828E\"},\"hatch_alpha\":{\"value\":0.5},\"hatch_color\":{\"value\":\"#25828E\"},\"line_alpha\":{\"value\":0.5},\"line_color\":{\"value\":\"#25828E\"},\"marker\":{\"value\":\"diamond\"},\"size\":{\"value\":10},\"x\":{\"field\":\"date_time\"},\"y\":{\"field\":\"y_index\"}},\"id\":\"10697\",\"type\":\"Scatter\"},{\"attributes\":{},\"id\":\"10856\",\"type\":\"AllLabels\"},{\"attributes\":{\"source\":{\"id\":\"10174\"}},\"id\":\"10722\",\"type\":\"CDSView\"},{\"attributes\":{\"fill_alpha\":{\"value\":0.2},\"fill_color\":{\"value\":\"#25828E\"},\"hatch_alpha\":{\"value\":0.2},\"hatch_color\":{\"value\":\"#25828E\"},\"line_alpha\":{\"value\":0.2},\"line_color\":{\"value\":\"#25828E\"},\"marker\":{\"value\":\"diamond\"},\"size\":{\"value\":10},\"x\":{\"field\":\"date_time\"},\"y\":{\"field\":\"y_index\"}},\"id\":\"10699\",\"type\":\"Scatter\"},{\"attributes\":{\"fill_alpha\":{\"value\":0.5},\"fill_color\":{\"value\":\"#1F948B\"},\"hatch_alpha\":{\"value\":0.5},\"hatch_color\":{\"value\":\"#1F948B\"},\"line_alpha\":{\"value\":0.5},\"line_color\":{\"value\":\"#1F948B\"},\"marker\":{\"value\":\"diamond\"},\"size\":{\"value\":10},\"x\":{\"field\":\"date_time\"},\"y\":{\"field\":\"y_index\"}},\"id\":\"10725\",\"type\":\"Scatter\"},{\"attributes\":{\"coordinates\":null,\"data_source\":{\"id\":\"10171\"},\"glyph\":{\"id\":\"10697\"},\"group\":null,\"hover_glyph\":null,\"muted_glyph\":{\"id\":\"10699\"},\"nonselection_glyph\":{\"id\":\"10698\"},\"view\":{\"id\":\"10701\"}},\"id\":\"10700\",\"type\":\"GlyphRenderer\"},{\"attributes\":{},\"id\":\"10858\",\"type\":\"AllLabels\"},{\"attributes\":{\"fill_alpha\":{\"value\":0.1},\"fill_color\":{\"value\":\"#23878D\"},\"hatch_alpha\":{\"value\":0.1},\"hatch_color\":{\"value\":\"#23878D\"},\"line_alpha\":{\"value\":0.1},\"line_color\":{\"value\":\"#23878D\"},\"marker\":{\"value\":\"diamond\"},\"size\":{\"value\":10},\"x\":{\"field\":\"date_time\"},\"y\":{\"field\":\"y_index\"}},\"id\":\"10705\",\"type\":\"Scatter\"},{\"attributes\":{},\"id\":\"10941\",\"type\":\"UnionRenderers\"},{\"attributes\":{\"label\":{\"value\":\"u33\"},\"renderers\":[{\"id\":\"10700\"}]},\"id\":\"10702\",\"type\":\"LegendItem\"},{\"attributes\":{\"source\":{\"id\":\"10171\"}},\"id\":\"10701\",\"type\":\"CDSView\"},{\"attributes\":{},\"id\":\"10942\",\"type\":\"Selection\"},{\"attributes\":{\"fill_alpha\":{\"value\":0.5},\"fill_color\":{\"value\":\"#23878D\"},\"hatch_alpha\":{\"value\":0.5},\"hatch_color\":{\"value\":\"#23878D\"},\"line_alpha\":{\"value\":0.5},\"line_color\":{\"value\":\"#23878D\"},\"marker\":{\"value\":\"diamond\"},\"size\":{\"value\":10},\"x\":{\"field\":\"date_time\"},\"y\":{\"field\":\"y_index\"}},\"id\":\"10704\",\"type\":\"Scatter\"},{\"attributes\":{},\"id\":\"10909\",\"type\":\"UnionRenderers\"},{\"attributes\":{\"label\":{\"value\":\"u36\"},\"renderers\":[{\"id\":\"10721\"}]},\"id\":\"10723\",\"type\":\"LegendItem\"},{\"attributes\":{\"fill_alpha\":{\"value\":0.2},\"fill_color\":{\"value\":\"#23878D\"},\"hatch_alpha\":{\"value\":0.2},\"hatch_color\":{\"value\":\"#23878D\"},\"line_alpha\":{\"value\":0.2},\"line_color\":{\"value\":\"#23878D\"},\"marker\":{\"value\":\"diamond\"},\"size\":{\"value\":10},\"x\":{\"field\":\"date_time\"},\"y\":{\"field\":\"y_index\"}},\"id\":\"10706\",\"type\":\"Scatter\"},{\"attributes\":{},\"id\":\"10910\",\"type\":\"Selection\"},{\"attributes\":{\"coordinates\":null,\"data_source\":{\"id\":\"10172\"},\"glyph\":{\"id\":\"10704\"},\"group\":null,\"hover_glyph\":null,\"muted_glyph\":{\"id\":\"10706\"},\"nonselection_glyph\":{\"id\":\"10705\"},\"view\":{\"id\":\"10708\"}},\"id\":\"10707\",\"type\":\"GlyphRenderer\"},{\"attributes\":{\"fill_alpha\":{\"value\":0.1},\"fill_color\":{\"value\":\"#228A8D\"},\"hatch_alpha\":{\"value\":0.1},\"hatch_color\":{\"value\":\"#228A8D\"},\"line_alpha\":{\"value\":0.1},\"line_color\":{\"value\":\"#228A8D\"},\"marker\":{\"value\":\"diamond\"},\"size\":{\"value\":10},\"x\":{\"field\":\"date_time\"},\"y\":{\"field\":\"y_index\"}},\"id\":\"10712\",\"type\":\"Scatter\"},{\"attributes\":{\"label\":{\"value\":\"u34\"},\"renderers\":[{\"id\":\"10707\"}]},\"id\":\"10709\",\"type\":\"LegendItem\"},{\"attributes\":{\"source\":{\"id\":\"10172\"}},\"id\":\"10708\",\"type\":\"CDSView\"},{\"attributes\":{\"fill_alpha\":{\"value\":0.5},\"fill_color\":{\"value\":\"#228A8D\"},\"hatch_alpha\":{\"value\":0.5},\"hatch_color\":{\"value\":\"#228A8D\"},\"line_alpha\":{\"value\":0.5},\"line_color\":{\"value\":\"#228A8D\"},\"marker\":{\"value\":\"diamond\"},\"size\":{\"value\":10},\"x\":{\"field\":\"date_time\"},\"y\":{\"field\":\"y_index\"}},\"id\":\"10711\",\"type\":\"Scatter\"},{\"attributes\":{\"mantissas\":[1,2,5],\"max_interval\":500.0,\"num_minor_ticks\":0},\"id\":\"10967\",\"type\":\"AdaptiveTicker\"},{\"attributes\":{\"base\":60,\"mantissas\":[1,2,5,10,15,20,30],\"max_interval\":1800000.0,\"min_interval\":1000.0,\"num_minor_ticks\":0},\"id\":\"10968\",\"type\":\"AdaptiveTicker\"},{\"attributes\":{\"data\":{\"date_time\":{\"__ndarray__\":\"AACsE/Xcc0IAAH4RQ91zQgAA/nsM3nNCAABm0lzec0IAAGxumeFzQgAAUozv4XNCAACclZrjc0IAAMJ8IuVzQgAAYnZ55XNCAAD247Hnc0IAAMBJUupzQgAAtOig6nNC\",\"dtype\":\"float64\",\"order\":\"little\",\"shape\":[12]},\"index\":[557,558,559,560,561,562,563,564,565,566,567,568],\"y_index\":[4,4,4,4,4,4,4,4,4,4,4,4]},\"selected\":{\"id\":\"10870\"},\"selection_policy\":{\"id\":\"10869\"}},\"id\":\"10151\",\"type\":\"ColumnDataSource\"},{\"attributes\":{\"fill_alpha\":{\"value\":0.1},\"fill_color\":{\"value\":\"#208F8C\"},\"hatch_alpha\":{\"value\":0.1},\"hatch_color\":{\"value\":\"#208F8C\"},\"line_alpha\":{\"value\":0.1},\"line_color\":{\"value\":\"#208F8C\"},\"marker\":{\"value\":\"diamond\"},\"size\":{\"value\":10},\"x\":{\"field\":\"date_time\"},\"y\":{\"field\":\"y_index\"}},\"id\":\"10719\",\"type\":\"Scatter\"},{\"attributes\":{\"fill_alpha\":{\"value\":0.2},\"fill_color\":{\"value\":\"#228A8D\"},\"hatch_alpha\":{\"value\":0.2},\"hatch_color\":{\"value\":\"#228A8D\"},\"line_alpha\":{\"value\":0.2},\"line_color\":{\"value\":\"#228A8D\"},\"marker\":{\"value\":\"diamond\"},\"size\":{\"value\":10},\"x\":{\"field\":\"date_time\"},\"y\":{\"field\":\"y_index\"}},\"id\":\"10713\",\"type\":\"Scatter\"},{\"attributes\":{\"base\":24,\"mantissas\":[1,2,4,6,8,12],\"max_interval\":43200000.0,\"min_interval\":3600000.0,\"num_minor_ticks\":0},\"id\":\"10969\",\"type\":\"AdaptiveTicker\"},{\"attributes\":{\"fill_alpha\":{\"value\":0.1},\"fill_color\":{\"value\":\"#1F948B\"},\"hatch_alpha\":{\"value\":0.1},\"hatch_color\":{\"value\":\"#1F948B\"},\"line_alpha\":{\"value\":0.1},\"line_color\":{\"value\":\"#1F948B\"},\"marker\":{\"value\":\"diamond\"},\"size\":{\"value\":10},\"x\":{\"field\":\"date_time\"},\"y\":{\"field\":\"y_index\"}},\"id\":\"10726\",\"type\":\"Scatter\"},{\"attributes\":{\"coordinates\":null,\"data_source\":{\"id\":\"10173\"},\"glyph\":{\"id\":\"10711\"},\"group\":null,\"hover_glyph\":null,\"muted_glyph\":{\"id\":\"10713\"},\"nonselection_glyph\":{\"id\":\"10712\"},\"view\":{\"id\":\"10715\"}},\"id\":\"10714\",\"type\":\"GlyphRenderer\"},{\"attributes\":{},\"id\":\"10978\",\"type\":\"YearsTicker\"},{\"attributes\":{\"coordinates\":null,\"data_source\":{\"id\":\"10174\"},\"glyph\":{\"id\":\"10718\"},\"group\":null,\"hover_glyph\":null,\"muted_glyph\":{\"id\":\"10720\"},\"nonselection_glyph\":{\"id\":\"10719\"},\"view\":{\"id\":\"10722\"}},\"id\":\"10721\",\"type\":\"GlyphRenderer\"},{\"attributes\":{\"months\":[0,1,2,3,4,5,6,7,8,9,10,11]},\"id\":\"10974\",\"type\":\"MonthsTicker\"},{\"attributes\":{\"label\":{\"value\":\"u35\"},\"renderers\":[{\"id\":\"10714\"}]},\"id\":\"10716\",\"type\":\"LegendItem\"},{\"attributes\":{},\"id\":\"10943\",\"type\":\"UnionRenderers\"},{\"attributes\":{\"days\":[1,15]},\"id\":\"10973\",\"type\":\"DaysTicker\"},{\"attributes\":{\"fill_alpha\":{\"value\":0.5},\"fill_color\":{\"value\":\"#60C960\"},\"hatch_alpha\":{\"value\":0.5},\"hatch_color\":{\"value\":\"#60C960\"},\"line_alpha\":{\"value\":0.5},\"line_color\":{\"value\":\"#60C960\"},\"marker\":{\"value\":\"diamond\"},\"size\":{\"value\":10},\"x\":{\"field\":\"date_time\"},\"y\":{\"field\":\"y_index\"}},\"id\":\"10816\",\"type\":\"Scatter\"},{\"attributes\":{\"days\":[1,2,3,4,5,6,7,8,9,10,11,12,13,14,15,16,17,18,19,20,21,22,23,24,25,26,27,28,29,30,31]},\"id\":\"10970\",\"type\":\"DaysTicker\"},{\"attributes\":{\"source\":{\"id\":\"10173\"}},\"id\":\"10715\",\"type\":\"CDSView\"},{\"attributes\":{\"days\":[1,4,7,10,13,16,19,22,25,28]},\"id\":\"10971\",\"type\":\"DaysTicker\"},{\"attributes\":{\"source\":{\"id\":\"10187\"}},\"id\":\"10813\",\"type\":\"CDSView\"},{\"attributes\":{},\"id\":\"10944\",\"type\":\"Selection\"},{\"attributes\":{\"days\":[1,8,15,22]},\"id\":\"10972\",\"type\":\"DaysTicker\"},{\"attributes\":{},\"id\":\"10911\",\"type\":\"UnionRenderers\"},{\"attributes\":{\"months\":[0,6]},\"id\":\"10977\",\"type\":\"MonthsTicker\"},{\"attributes\":{\"data\":{\"date_time\":{\"__ndarray__\":\"AACK08/cc0IAACCMvN1zQgAANswL3nNCAAAKxw7fc0IAAOwzReFzQgAANFzj4XNCAABicIDkc0I=\",\"dtype\":\"float64\",\"order\":\"little\",\"shape\":[7]},\"index\":[453,454,455,456,457,458,459],\"y_index\":[1,1,1,1,1,1,1]},\"selected\":{\"id\":\"10864\"},\"selection_policy\":{\"id\":\"10863\"}},\"id\":\"10148\",\"type\":\"ColumnDataSource\"},{\"attributes\":{\"months\":[0,2,4,6,8,10]},\"id\":\"10975\",\"type\":\"MonthsTicker\"},{\"attributes\":{\"fill_alpha\":{\"value\":0.2},\"fill_color\":{\"value\":\"#208F8C\"},\"hatch_alpha\":{\"value\":0.2},\"hatch_color\":{\"value\":\"#208F8C\"},\"line_alpha\":{\"value\":0.2},\"line_color\":{\"value\":\"#208F8C\"},\"marker\":{\"value\":\"diamond\"},\"size\":{\"value\":10},\"x\":{\"field\":\"date_time\"},\"y\":{\"field\":\"y_index\"}},\"id\":\"10720\",\"type\":\"Scatter\"},{\"attributes\":{},\"id\":\"10912\",\"type\":\"Selection\"},{\"attributes\":{\"months\":[0,4,8]},\"id\":\"10976\",\"type\":\"MonthsTicker\"},{\"attributes\":{\"fill_alpha\":{\"value\":0.2},\"fill_color\":{\"value\":\"#1E9C89\"},\"hatch_alpha\":{\"value\":0.2},\"hatch_color\":{\"value\":\"#1E9C89\"},\"line_alpha\":{\"value\":0.2},\"line_color\":{\"value\":\"#1E9C89\"},\"marker\":{\"value\":\"diamond\"},\"size\":{\"value\":10},\"x\":{\"field\":\"date_time\"},\"y\":{\"field\":\"y_index\"}},\"id\":\"10741\",\"type\":\"Scatter\"},{\"attributes\":{\"fill_alpha\":{\"value\":0.1},\"fill_color\":{\"value\":\"#55C666\"},\"hatch_alpha\":{\"value\":0.1},\"hatch_color\":{\"value\":\"#55C666\"},\"line_alpha\":{\"value\":0.1},\"line_color\":{\"value\":\"#55C666\"},\"marker\":{\"value\":\"diamond\"},\"size\":{\"value\":10},\"x\":{\"field\":\"date_time\"},\"y\":{\"field\":\"y_index\"}},\"id\":\"10810\",\"type\":\"Scatter\"},{\"attributes\":{\"coordinates\":null,\"data_source\":{\"id\":\"10177\"},\"glyph\":{\"id\":\"10739\"},\"group\":null,\"hover_glyph\":null,\"muted_glyph\":{\"id\":\"10741\"},\"nonselection_glyph\":{\"id\":\"10740\"},\"view\":{\"id\":\"10743\"}},\"id\":\"10742\",\"type\":\"GlyphRenderer\"},{\"attributes\":{\"data\":{\"date_time\":{\"__ndarray__\":\"AAAoYcLcc0IAAJQNUNxzQgAAJu5z3HNCAAA0mPfcc0IAAOjGFN1zQgAA9FBR3XNCAACaWGfdc0IAABCDt91zQgAAkp8J3nNCAABiDmHec0IAAChmyt5zQgAA3g4g33NCAABQpPjgc0IAAHh8Q+FzQgAArL0a4HNCAACOqbbfc0IAADrTWOBzQgAAUvWl4HNCAADukdXhc0IAALz1o+FzQgAAAJ954nNCAABmE8zic0IAAIyMleNzQgAADFJB43NCAACeD9Pjc0IAAFoLG+RzQgAAUDJ25HNCAABWDt7lc0IAAICduedzQgAASNEn53NCAADw7dbrc0I=\",\"dtype\":\"float64\",\"order\":\"little\",\"shape\":[31]},\"index\":[728,729,730,731,732,733,734,735,736,737,738,739,740,741,742,743,744,745,746,747,748,749,750,751,752,753,754,755,756,757,758],\"y_index\":[6,6,6,6,6,6,6,6,6,6,6,6,6,6,6,6,6,6,6,6,6,6,6,6,6,6,6,6,6,6,6]},\"selected\":{\"id\":\"10874\"},\"selection_policy\":{\"id\":\"10873\"}},\"id\":\"10153\",\"type\":\"ColumnDataSource\"},{\"attributes\":{\"fill_alpha\":{\"value\":0.1},\"fill_color\":{\"value\":\"#1FA187\"},\"hatch_alpha\":{\"value\":0.1},\"hatch_color\":{\"value\":\"#1FA187\"},\"line_alpha\":{\"value\":0.1},\"line_color\":{\"value\":\"#1FA187\"},\"marker\":{\"value\":\"diamond\"},\"size\":{\"value\":10},\"x\":{\"field\":\"date_time\"},\"y\":{\"field\":\"y_index\"}},\"id\":\"10747\",\"type\":\"Scatter\"},{\"attributes\":{\"label\":{\"value\":\"u42\"},\"renderers\":[{\"id\":\"10742\"}]},\"id\":\"10744\",\"type\":\"LegendItem\"},{\"attributes\":{\"source\":{\"id\":\"10177\"}},\"id\":\"10743\",\"type\":\"CDSView\"},{\"attributes\":{\"fill_alpha\":{\"value\":0.5},\"fill_color\":{\"value\":\"#1FA187\"},\"hatch_alpha\":{\"value\":0.5},\"hatch_color\":{\"value\":\"#1FA187\"},\"line_alpha\":{\"value\":0.5},\"line_color\":{\"value\":\"#1FA187\"},\"marker\":{\"value\":\"diamond\"},\"size\":{\"value\":10},\"x\":{\"field\":\"date_time\"},\"y\":{\"field\":\"y_index\"}},\"id\":\"10746\",\"type\":\"Scatter\"},{\"attributes\":{\"fill_alpha\":{\"value\":0.2},\"fill_color\":{\"value\":\"#1FA187\"},\"hatch_alpha\":{\"value\":0.2},\"hatch_color\":{\"value\":\"#1FA187\"},\"line_alpha\":{\"value\":0.2},\"line_color\":{\"value\":\"#1FA187\"},\"marker\":{\"value\":\"diamond\"},\"size\":{\"value\":10},\"x\":{\"field\":\"date_time\"},\"y\":{\"field\":\"y_index\"}},\"id\":\"10748\",\"type\":\"Scatter\"},{\"attributes\":{\"data\":{\"date_time\":{\"__ndarray__\":\"AADC0Mfcc0IAAAJ5SdxzQgAA2E9R3HNCAAD6j3bcc0IAABAOD91zQgAAqn0U3XNCAACKM7rdc0IAAMLyaN1zQgAAxqGm3XNCAAAqckTec0IAAGBIC95zQgAAgGAO33NCAABK1ILhc0IAANxA799zQgAAAAFG4XNCAADQHJbhc0IAAJbO8OFzQgAA8qfn4nNCAACIdZLjc0IAABxuIuVzQgAAdHRY53NCAAAYrj3oc0IAAJJHoOpzQgAAeGX26nNCAACyHUPoc0IAAHasg+tzQgAA6vTV63NCAABKUazvc0IAACy7vO1zQgAAGPS07nNCAADIownvc0IAAJLGWO9zQgAAjiT+73NCAAAmuP7wc0IAAOwWUvFzQgAAONRn8HNCAAAKQk8FdEI=\",\"dtype\":\"float64\",\"order\":\"little\",\"shape\":[37]},\"index\":[331,332,333,334,335,336,337,338,339,340,341,342,343,344,345,346,347,348,349,350,351,352,353,354,355,356,357,358,359,360,361,362,363,364,365,366,367],\"y_index\":[0,0,0,0,0,0,0,0,0,0,0,0,0,0,0,0,0,0,0,0,0,0,0,0,0,0,0,0,0,0,0,0,0,0,0,0,0]},\"selected\":{\"id\":\"10862\"},\"selection_policy\":{\"id\":\"10861\"}},\"id\":\"10147\",\"type\":\"ColumnDataSource\"},{\"attributes\":{\"fill_alpha\":{\"value\":0.2},\"fill_color\":{\"value\":\"#55C666\"},\"hatch_alpha\":{\"value\":0.2},\"hatch_color\":{\"value\":\"#55C666\"},\"line_alpha\":{\"value\":0.2},\"line_color\":{\"value\":\"#55C666\"},\"marker\":{\"value\":\"diamond\"},\"size\":{\"value\":10},\"x\":{\"field\":\"date_time\"},\"y\":{\"field\":\"y_index\"}},\"id\":\"10811\",\"type\":\"Scatter\"},{\"attributes\":{},\"id\":\"10945\",\"type\":\"UnionRenderers\"},{\"attributes\":{\"coordinates\":null,\"data_source\":{\"id\":\"10178\"},\"glyph\":{\"id\":\"10746\"},\"group\":null,\"hover_glyph\":null,\"muted_glyph\":{\"id\":\"10748\"},\"nonselection_glyph\":{\"id\":\"10747\"},\"view\":{\"id\":\"10750\"}},\"id\":\"10749\",\"type\":\"GlyphRenderer\"},{\"attributes\":{\"fill_alpha\":{\"value\":0.1},\"fill_color\":{\"value\":\"#21A685\"},\"hatch_alpha\":{\"value\":0.1},\"hatch_color\":{\"value\":\"#21A685\"},\"line_alpha\":{\"value\":0.1},\"line_color\":{\"value\":\"#21A685\"},\"marker\":{\"value\":\"diamond\"},\"size\":{\"value\":10},\"x\":{\"field\":\"date_time\"},\"y\":{\"field\":\"y_index\"}},\"id\":\"10754\",\"type\":\"Scatter\"},{\"attributes\":{\"label\":{\"value\":\"u43\"},\"renderers\":[{\"id\":\"10749\"}]},\"id\":\"10751\",\"type\":\"LegendItem\"},{\"attributes\":{},\"id\":\"10946\",\"type\":\"Selection\"},{\"attributes\":{},\"id\":\"10913\",\"type\":\"UnionRenderers\"},{\"attributes\":{\"source\":{\"id\":\"10178\"}},\"id\":\"10750\",\"type\":\"CDSView\"},{\"attributes\":{\"fill_alpha\":{\"value\":0.5},\"fill_color\":{\"value\":\"#21A685\"},\"hatch_alpha\":{\"value\":0.5},\"hatch_color\":{\"value\":\"#21A685\"},\"line_alpha\":{\"value\":0.5},\"line_color\":{\"value\":\"#21A685\"},\"marker\":{\"value\":\"diamond\"},\"size\":{\"value\":10},\"x\":{\"field\":\"date_time\"},\"y\":{\"field\":\"y_index\"}},\"id\":\"10753\",\"type\":\"Scatter\"},{\"attributes\":{},\"id\":\"10914\",\"type\":\"Selection\"},{\"attributes\":{\"fill_alpha\":{\"value\":0.2},\"fill_color\":{\"value\":\"#21A685\"},\"hatch_alpha\":{\"value\":0.2},\"hatch_color\":{\"value\":\"#21A685\"},\"line_alpha\":{\"value\":0.2},\"line_color\":{\"value\":\"#21A685\"},\"marker\":{\"value\":\"diamond\"},\"size\":{\"value\":10},\"x\":{\"field\":\"date_time\"},\"y\":{\"field\":\"y_index\"}},\"id\":\"10755\",\"type\":\"Scatter\"},{\"attributes\":{\"coordinates\":null,\"data_source\":{\"id\":\"10179\"},\"glyph\":{\"id\":\"10753\"},\"group\":null,\"hover_glyph\":null,\"muted_glyph\":{\"id\":\"10755\"},\"nonselection_glyph\":{\"id\":\"10754\"},\"view\":{\"id\":\"10757\"}},\"id\":\"10756\",\"type\":\"GlyphRenderer\"},{\"attributes\":{\"fill_alpha\":{\"value\":0.1},\"fill_color\":{\"value\":\"#23A982\"},\"hatch_alpha\":{\"value\":0.1},\"hatch_color\":{\"value\":\"#23A982\"},\"line_alpha\":{\"value\":0.1},\"line_color\":{\"value\":\"#23A982\"},\"marker\":{\"value\":\"diamond\"},\"size\":{\"value\":10},\"x\":{\"field\":\"date_time\"},\"y\":{\"field\":\"y_index\"}},\"id\":\"10761\",\"type\":\"Scatter\"},{\"attributes\":{\"label\":{\"value\":\"u44\"},\"renderers\":[{\"id\":\"10756\"}]},\"id\":\"10758\",\"type\":\"LegendItem\"},{\"attributes\":{\"source\":{\"id\":\"10179\"}},\"id\":\"10757\",\"type\":\"CDSView\"},{\"attributes\":{\"fill_alpha\":{\"value\":0.5},\"fill_color\":{\"value\":\"#23A982\"},\"hatch_alpha\":{\"value\":0.5},\"hatch_color\":{\"value\":\"#23A982\"},\"line_alpha\":{\"value\":0.5},\"line_color\":{\"value\":\"#23A982\"},\"marker\":{\"value\":\"diamond\"},\"size\":{\"value\":10},\"x\":{\"field\":\"date_time\"},\"y\":{\"field\":\"y_index\"}},\"id\":\"10760\",\"type\":\"Scatter\"},{\"attributes\":{\"fill_alpha\":{\"value\":0.2},\"fill_color\":{\"value\":\"#23A982\"},\"hatch_alpha\":{\"value\":0.2},\"hatch_color\":{\"value\":\"#23A982\"},\"line_alpha\":{\"value\":0.2},\"line_color\":{\"value\":\"#23A982\"},\"marker\":{\"value\":\"diamond\"},\"size\":{\"value\":10},\"x\":{\"field\":\"date_time\"},\"y\":{\"field\":\"y_index\"}},\"id\":\"10762\",\"type\":\"Scatter\"},{\"attributes\":{\"coordinates\":null,\"data_source\":{\"id\":\"10180\"},\"glyph\":{\"id\":\"10760\"},\"group\":null,\"hover_glyph\":null,\"muted_glyph\":{\"id\":\"10762\"},\"nonselection_glyph\":{\"id\":\"10761\"},\"view\":{\"id\":\"10764\"}},\"id\":\"10763\",\"type\":\"GlyphRenderer\"},{\"attributes\":{\"fill_alpha\":{\"value\":0.5},\"fill_color\":{\"value\":\"#55C666\"},\"hatch_alpha\":{\"value\":0.5},\"hatch_color\":{\"value\":\"#55C666\"},\"line_alpha\":{\"value\":0.5},\"line_color\":{\"value\":\"#55C666\"},\"marker\":{\"value\":\"diamond\"},\"size\":{\"value\":10},\"x\":{\"field\":\"date_time\"},\"y\":{\"field\":\"y_index\"}},\"id\":\"10809\",\"type\":\"Scatter\"},{\"attributes\":{\"label\":{\"value\":\"u45\"},\"renderers\":[{\"id\":\"10763\"}]},\"id\":\"10765\",\"type\":\"LegendItem\"},{\"attributes\":{\"source\":{\"id\":\"10180\"}},\"id\":\"10764\",\"type\":\"CDSView\"}],\"root_ids\":[\"10851\"]},\"title\":\"Bokeh Application\",\"version\":\"2.4.3\"}};\n  const render_items = [{\"docid\":\"6d23a091-1dd9-4b34-95a7-04b676e16f1e\",\"root_ids\":[\"10851\"],\"roots\":{\"10851\":\"1fa9462c-2eee-44f9-af80-0c0491a57558\"}}];\n  root.Bokeh.embed.embed_items_notebook(docs_json, render_items);\n  }\n  if (root.Bokeh !== undefined) {\n    embed_document(root);\n  } else {\n    let attempts = 0;\n    const timer = setInterval(function(root) {\n      if (root.Bokeh !== undefined) {\n        clearInterval(timer);\n        embed_document(root);\n      } else {\n        attempts++;\n        if (attempts > 100) {\n          clearInterval(timer);\n          console.log(\"Bokeh: ERROR: Unable to run BokehJS code because BokehJS library is missing\");\n        }\n      }\n    }, 10, root)\n  }\n})(window);",
      "application/vnd.bokehjs_exec.v0+json": ""
     },
     "metadata": {
      "application/vnd.bokehjs_exec.v0+json": {
       "id": "10851"
      }
     },
     "output_type": "display_data"
    },
    {
     "data": {
      "text/html": [
       "<div style=\"display: table;\"><div style=\"display: table-row;\"><div style=\"display: table-cell;\"><b title=\"bokeh.models.layouts.Column\">Column</b>(</div><div style=\"display: table-cell;\">id&nbsp;=&nbsp;'10851', <span id=\"11615\" style=\"cursor: pointer;\">&hellip;)</span></div></div><div class=\"11614\" style=\"display: none;\"><div style=\"display: table-cell;\"></div><div style=\"display: table-cell;\">align&nbsp;=&nbsp;'start',</div></div><div class=\"11614\" style=\"display: none;\"><div style=\"display: table-cell;\"></div><div style=\"display: table-cell;\">aspect_ratio&nbsp;=&nbsp;None,</div></div><div class=\"11614\" style=\"display: none;\"><div style=\"display: table-cell;\"></div><div style=\"display: table-cell;\">background&nbsp;=&nbsp;None,</div></div><div class=\"11614\" style=\"display: none;\"><div style=\"display: table-cell;\"></div><div style=\"display: table-cell;\">children&nbsp;=&nbsp;[Figure(id='10194', ...), Figure(id='10226', ...)],</div></div><div class=\"11614\" style=\"display: none;\"><div style=\"display: table-cell;\"></div><div style=\"display: table-cell;\">css_classes&nbsp;=&nbsp;[],</div></div><div class=\"11614\" style=\"display: none;\"><div style=\"display: table-cell;\"></div><div style=\"display: table-cell;\">disabled&nbsp;=&nbsp;False,</div></div><div class=\"11614\" style=\"display: none;\"><div style=\"display: table-cell;\"></div><div style=\"display: table-cell;\">height&nbsp;=&nbsp;None,</div></div><div class=\"11614\" style=\"display: none;\"><div style=\"display: table-cell;\"></div><div style=\"display: table-cell;\">height_policy&nbsp;=&nbsp;'auto',</div></div><div class=\"11614\" style=\"display: none;\"><div style=\"display: table-cell;\"></div><div style=\"display: table-cell;\">js_event_callbacks&nbsp;=&nbsp;{},</div></div><div class=\"11614\" style=\"display: none;\"><div style=\"display: table-cell;\"></div><div style=\"display: table-cell;\">js_property_callbacks&nbsp;=&nbsp;{},</div></div><div class=\"11614\" style=\"display: none;\"><div style=\"display: table-cell;\"></div><div style=\"display: table-cell;\">margin&nbsp;=&nbsp;(0, 0, 0, 0),</div></div><div class=\"11614\" style=\"display: none;\"><div style=\"display: table-cell;\"></div><div style=\"display: table-cell;\">max_height&nbsp;=&nbsp;None,</div></div><div class=\"11614\" style=\"display: none;\"><div style=\"display: table-cell;\"></div><div style=\"display: table-cell;\">max_width&nbsp;=&nbsp;None,</div></div><div class=\"11614\" style=\"display: none;\"><div style=\"display: table-cell;\"></div><div style=\"display: table-cell;\">min_height&nbsp;=&nbsp;None,</div></div><div class=\"11614\" style=\"display: none;\"><div style=\"display: table-cell;\"></div><div style=\"display: table-cell;\">min_width&nbsp;=&nbsp;None,</div></div><div class=\"11614\" style=\"display: none;\"><div style=\"display: table-cell;\"></div><div style=\"display: table-cell;\">name&nbsp;=&nbsp;None,</div></div><div class=\"11614\" style=\"display: none;\"><div style=\"display: table-cell;\"></div><div style=\"display: table-cell;\">rows&nbsp;=&nbsp;'auto',</div></div><div class=\"11614\" style=\"display: none;\"><div style=\"display: table-cell;\"></div><div style=\"display: table-cell;\">sizing_mode&nbsp;=&nbsp;None,</div></div><div class=\"11614\" style=\"display: none;\"><div style=\"display: table-cell;\"></div><div style=\"display: table-cell;\">spacing&nbsp;=&nbsp;0,</div></div><div class=\"11614\" style=\"display: none;\"><div style=\"display: table-cell;\"></div><div style=\"display: table-cell;\">subscribed_events&nbsp;=&nbsp;[],</div></div><div class=\"11614\" style=\"display: none;\"><div style=\"display: table-cell;\"></div><div style=\"display: table-cell;\">syncable&nbsp;=&nbsp;True,</div></div><div class=\"11614\" style=\"display: none;\"><div style=\"display: table-cell;\"></div><div style=\"display: table-cell;\">tags&nbsp;=&nbsp;[],</div></div><div class=\"11614\" style=\"display: none;\"><div style=\"display: table-cell;\"></div><div style=\"display: table-cell;\">visible&nbsp;=&nbsp;True,</div></div><div class=\"11614\" style=\"display: none;\"><div style=\"display: table-cell;\"></div><div style=\"display: table-cell;\">width&nbsp;=&nbsp;None,</div></div><div class=\"11614\" style=\"display: none;\"><div style=\"display: table-cell;\"></div><div style=\"display: table-cell;\">width_policy&nbsp;=&nbsp;'auto')</div></div></div>\n",
       "<script>\n",
       "(function() {\n",
       "  let expanded = false;\n",
       "  const ellipsis = document.getElementById(\"11615\");\n",
       "  ellipsis.addEventListener(\"click\", function() {\n",
       "    const rows = document.getElementsByClassName(\"11614\");\n",
       "    for (let i = 0; i < rows.length; i++) {\n",
       "      const el = rows[i];\n",
       "      el.style.display = expanded ? \"none\" : \"table-row\";\n",
       "    }\n",
       "    ellipsis.innerHTML = expanded ? \"&hellip;)\" : \"&lsaquo;&lsaquo;&lsaquo;\";\n",
       "    expanded = !expanded;\n",
       "  });\n",
       "})();\n",
       "</script>\n"
      ],
      "text/plain": [
       "Column(id='10851', ...)"
      ]
     },
     "execution_count": 110,
     "metadata": {},
     "output_type": "execute_result"
    }
   ],
   "source": [
    "display_timeline(ema_df_di['Exercise'][['user_id','date_time']],time_column=\"date_time\",group_by='user_id')"
   ]
  },
  {
   "cell_type": "code",
   "execution_count": null,
   "metadata": {},
   "outputs": [],
   "source": []
  },
  {
   "cell_type": "code",
   "execution_count": null,
   "metadata": {},
   "outputs": [],
   "source": [
    "# from matplotlib import pyplot as plt\n",
    "\n",
    "# A = [23,45,56,78,32,11]\n",
    "# B = [44,56,78,98]\n",
    "# C = [23,46,67,79]\n",
    "\n",
    "# x = []\n",
    "# y = []\n",
    "# for idx, lst in enumerate((A, B, C)):\n",
    "#     for time in lst:\n",
    "#         x.append(time)\n",
    "#         y.append(idx) \n",
    "\n",
    "# x        \n"
   ]
  },
  {
   "cell_type": "code",
   "execution_count": null,
   "metadata": {},
   "outputs": [],
   "source": [
    "# from matplotlib import pyplot as plt\n",
    "\n",
    "# A = [23,45,56,78,32,11]\n",
    "# B = [44,56,78,98]\n",
    "# C = [23,46,67,79]\n",
    "\n",
    "# x = []\n",
    "# y = []\n",
    "# for idx, lst in enumerate((A, B, C)):\n",
    "#     for time in lst:\n",
    "#         x.append(time)\n",
    "#         y.append(idx) \n",
    "\n",
    "# plt.ylim((-3,5))\n",
    "# plt.yticks([0, 1, 2], ['A', 'B', 'C'])\n",
    "# plt.scatter(x,y, color='r', s=70)\n",
    "# plt.show()"
   ]
  }
 ],
 "metadata": {
  "kernelspec": {
   "display_name": "Python 3.10.4 ('ucsd_hw')",
   "language": "python",
   "name": "python3"
  },
  "language_info": {
   "codemirror_mode": {
    "name": "ipython",
    "version": 3
   },
   "file_extension": ".py",
   "mimetype": "text/x-python",
   "name": "python",
   "nbconvert_exporter": "python",
   "pygments_lexer": "ipython3",
   "version": "3.10.4"
  },
  "orig_nbformat": 4,
  "vscode": {
   "interpreter": {
    "hash": "b527c3883f97d0c80049be9d21bf79bee304fc8cc62c9f8bd8d0aa656b2e9faa"
   }
  }
 },
 "nbformat": 4,
 "nbformat_minor": 2
}
