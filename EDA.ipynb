{
 "cells": [
  {
   "cell_type": "markdown",
   "metadata": {},
   "source": [
    "## Importing libraries"
   ]
  },
  {
   "cell_type": "code",
   "execution_count": 52,
   "metadata": {},
   "outputs": [],
   "source": [
    "### importing libraries\n",
    "\n",
    "from datetime import datetime\n",
    "from collections import defaultdict\n",
    "from tqdm import tqdm\n",
    "\n",
    "import numpy as np\n",
    "import pandas as pd\n",
    "\n",
    "import json\n",
    "import os"
   ]
  },
  {
   "cell_type": "markdown",
   "metadata": {
    "tags": []
   },
   "source": [
    "## Data Setup"
   ]
  },
  {
   "cell_type": "code",
   "execution_count": 16,
   "metadata": {},
   "outputs": [],
   "source": [
    "### seting the data directory\n",
    "\n",
    "EMA_rel_path = 'data/dataset/EMA/response/'"
   ]
  },
  {
   "cell_type": "code",
   "execution_count": 17,
   "metadata": {},
   "outputs": [
    {
     "data": {
      "text/plain": [
       "'/home/sidd/workspace/Student-Stress-Prediction'"
      ]
     },
     "execution_count": 17,
     "metadata": {},
     "output_type": "execute_result"
    }
   ],
   "source": [
    "cwd = os.getcwd()\n",
    "cwd"
   ]
  },
  {
   "cell_type": "code",
   "execution_count": 18,
   "metadata": {},
   "outputs": [
    {
     "data": {
      "text/plain": [
       "'/home/sidd/workspace/Student-Stress-Prediction/data/dataset/EMA/response/'"
      ]
     },
     "execution_count": 18,
     "metadata": {},
     "output_type": "execute_result"
    }
   ],
   "source": [
    "EMA_abs_path = os.path.join(cwd,EMA_rel_path)\n",
    "EMA_abs_path"
   ]
  },
  {
   "cell_type": "code",
   "execution_count": 21,
   "metadata": {},
   "outputs": [
    {
     "data": {
      "text/plain": [
       "49"
      ]
     },
     "execution_count": 21,
     "metadata": {},
     "output_type": "execute_result"
    }
   ],
   "source": [
    "stress_EMA_usr_files = os.listdir(os.path.join(EMA_abs_path,'Stress'))\n",
    "len(stress_EMA_usr_files)"
   ]
  },
  {
   "cell_type": "code",
   "execution_count": 23,
   "metadata": {},
   "outputs": [
    {
     "data": {
      "text/plain": [
       "'Stress_u52.json'"
      ]
     },
     "execution_count": 23,
     "metadata": {},
     "output_type": "execute_result"
    }
   ],
   "source": [
    "stress_EMA_usr_files[0]"
   ]
  },
  {
   "cell_type": "code",
   "execution_count": 33,
   "metadata": {},
   "outputs": [
    {
     "name": "stdout",
     "output_type": "stream",
     "text": [
      "49\n"
     ]
    }
   ],
   "source": [
    "stress_json_di = {}\n",
    "\n",
    "for filename in stress_EMA_usr_files:\n",
    "    filename_abs_path = os.path.join(os.path.join(EMA_abs_path,'Stress'),filename)\n",
    "    #print(filename_abs_path)\n",
    "    with open(filename_abs_path) as f:\n",
    "        stress_json_di[filename] = json.load(f)\n",
    "\n",
    "\n",
    "print(len(stress_json_di))"
   ]
  },
  {
   "cell_type": "code",
   "execution_count": 71,
   "metadata": {},
   "outputs": [],
   "source": [
    "def get_info_from_timestamp(timestamp,date_and_time = True,year=True,month=True,day=True,hour=True,minute=True,second=False,weekday=True,weeknumber=True):\n",
    "    base = datetime.fromtimestamp(timestamp)\n",
    "    return_di = {}\n",
    "    if date_and_time:\n",
    "        return_di['date_time'] = base.strftime(\"%m/%d/%Y, %H:%M\")\n",
    "    if year:\n",
    "        return_di['year'] = base.strftime('%Y')\n",
    "    if month:\n",
    "        return_di['month'] = base.strftime(\"%m\")\n",
    "    if day:\n",
    "        return_di['day'] = base.strftime(\"%d\")\n",
    "    if hour:\n",
    "        return_di['hour'] = base.strftime(\"%H\")\n",
    "    if minute:\n",
    "        return_di['minute'] = base.strftime(\"%M\")\n",
    "    if second:\n",
    "        return_di['second'] = base.strftime(\"%H\")\n",
    "    if weekday:\n",
    "        return_di['weekday'] = base.strftime(\"%a\")\n",
    "    if weeknumber:\n",
    "        return_di['weeknumber'] = base.strftime(\"%W\")\n",
    "\n",
    "    return return_di"
   ]
  },
  {
   "cell_type": "code",
   "execution_count": 68,
   "metadata": {},
   "outputs": [
    {
     "name": "stderr",
     "output_type": "stream",
     "text": [
      "100%|██████████| 49/49 [00:00<00:00, 1185.34it/s]\n"
     ]
    }
   ],
   "source": [
    "ema_stress_data_di = defaultdict(list)\n",
    "\n",
    "\n",
    "for user, val in tqdm(stress_json_di.items()):\n",
    "    usr_id = user.split('.')[0].split('_')[1]\n",
    "    \n",
    "\n",
    "    for json_val in val:\n",
    "        if 'level' in json_val:\n",
    "            \n",
    "            ema_stress_data_di['user_id'].append(usr_id)\n",
    "            stress_level = json_val['level']\n",
    "            ema_stress_data_di['stress_level'].append(stress_level)\n",
    "\n",
    "            time_info_di = get_info_from_timestamp(json_val['resp_time'])\n",
    "            for k,v in time_info_di.items():\n",
    "                ema_stress_data_di[k].append(v)\n",
    "\n"
   ]
  },
  {
   "cell_type": "code",
   "execution_count": 69,
   "metadata": {},
   "outputs": [
    {
     "name": "stdout",
     "output_type": "stream",
     "text": [
      "user_id 2167\n",
      "stress_level 2167\n",
      "year 2167\n",
      "month 2167\n",
      "day 2167\n",
      "hour 2167\n",
      "minute 2167\n",
      "weekday 2167\n",
      "weeknumber 2167\n"
     ]
    }
   ],
   "source": [
    "for a,b in ema_stress_data_di.items():\n",
    "    print(a,len(b))"
   ]
  },
  {
   "cell_type": "code",
   "execution_count": 70,
   "metadata": {},
   "outputs": [
    {
     "data": {
      "text/html": [
       "<div>\n",
       "<style scoped>\n",
       "    .dataframe tbody tr th:only-of-type {\n",
       "        vertical-align: middle;\n",
       "    }\n",
       "\n",
       "    .dataframe tbody tr th {\n",
       "        vertical-align: top;\n",
       "    }\n",
       "\n",
       "    .dataframe thead th {\n",
       "        text-align: right;\n",
       "    }\n",
       "</style>\n",
       "<table border=\"1\" class=\"dataframe\">\n",
       "  <thead>\n",
       "    <tr style=\"text-align: right;\">\n",
       "      <th></th>\n",
       "      <th>user_id</th>\n",
       "      <th>stress_level</th>\n",
       "      <th>year</th>\n",
       "      <th>month</th>\n",
       "      <th>day</th>\n",
       "      <th>hour</th>\n",
       "      <th>minute</th>\n",
       "      <th>weekday</th>\n",
       "      <th>weeknumber</th>\n",
       "    </tr>\n",
       "  </thead>\n",
       "  <tbody>\n",
       "    <tr>\n",
       "      <th>0</th>\n",
       "      <td>u52</td>\n",
       "      <td>2</td>\n",
       "      <td>2013</td>\n",
       "      <td>03</td>\n",
       "      <td>30</td>\n",
       "      <td>15</td>\n",
       "      <td>24</td>\n",
       "      <td>Sat</td>\n",
       "      <td>12</td>\n",
       "    </tr>\n",
       "    <tr>\n",
       "      <th>1</th>\n",
       "      <td>u52</td>\n",
       "      <td>1</td>\n",
       "      <td>2013</td>\n",
       "      <td>03</td>\n",
       "      <td>28</td>\n",
       "      <td>15</td>\n",
       "      <td>03</td>\n",
       "      <td>Thu</td>\n",
       "      <td>12</td>\n",
       "    </tr>\n",
       "    <tr>\n",
       "      <th>2</th>\n",
       "      <td>u52</td>\n",
       "      <td>2</td>\n",
       "      <td>2013</td>\n",
       "      <td>03</td>\n",
       "      <td>31</td>\n",
       "      <td>15</td>\n",
       "      <td>11</td>\n",
       "      <td>Sun</td>\n",
       "      <td>12</td>\n",
       "    </tr>\n",
       "    <tr>\n",
       "      <th>3</th>\n",
       "      <td>u52</td>\n",
       "      <td>1</td>\n",
       "      <td>2013</td>\n",
       "      <td>04</td>\n",
       "      <td>02</td>\n",
       "      <td>17</td>\n",
       "      <td>24</td>\n",
       "      <td>Tue</td>\n",
       "      <td>13</td>\n",
       "    </tr>\n",
       "    <tr>\n",
       "      <th>4</th>\n",
       "      <td>u52</td>\n",
       "      <td>5</td>\n",
       "      <td>2013</td>\n",
       "      <td>04</td>\n",
       "      <td>02</td>\n",
       "      <td>23</td>\n",
       "      <td>44</td>\n",
       "      <td>Tue</td>\n",
       "      <td>13</td>\n",
       "    </tr>\n",
       "  </tbody>\n",
       "</table>\n",
       "</div>"
      ],
      "text/plain": [
       "  user_id stress_level  year month day hour minute weekday weeknumber\n",
       "0     u52            2  2013    03  30   15     24     Sat         12\n",
       "1     u52            1  2013    03  28   15     03     Thu         12\n",
       "2     u52            2  2013    03  31   15     11     Sun         12\n",
       "3     u52            1  2013    04  02   17     24     Tue         13\n",
       "4     u52            5  2013    04  02   23     44     Tue         13"
      ]
     },
     "execution_count": 70,
     "metadata": {},
     "output_type": "execute_result"
    }
   ],
   "source": [
    "pd.DataFrame(ema_stress_data_di).head()"
   ]
  },
  {
   "cell_type": "code",
   "execution_count": 35,
   "metadata": {},
   "outputs": [
    {
     "data": {
      "text/plain": [
       "[('Stress_u52.json',\n",
       "  [{'null': '1', 'resp_time': 1364121887},\n",
       "   {'null': '1', 'resp_time': 1364121892},\n",
       "   {'null': '43.70667971,-72.28698867', 'resp_time': 1364121910},\n",
       "   {'null': '43.70427927,-72.28971705', 'resp_time': 1364121891},\n",
       "   {'null': '1', 'resp_time': 1364118754},\n",
       "   {'null': '5', 'resp_time': 1364121889},\n",
       "   {'level': '2',\n",
       "    'location': '43.7029945,-72.29112495',\n",
       "    'resp_time': 1364682245},\n",
       "   {'level': '1',\n",
       "    'location': '43.70716035,-72.28937596666667',\n",
       "    'resp_time': 1364508232},\n",
       "   {'level': '2',\n",
       "    'location': '43.70538861666667,-72.2896257',\n",
       "    'resp_time': 1364767884},\n",
       "   {'level': '1',\n",
       "    'location': '43.70710476666667,-72.28895371666667',\n",
       "    'resp_time': 1364948671},\n",
       "   {'level': '5',\n",
       "    'location': '43.70712738333334,-72.28893718333333',\n",
       "    'resp_time': 1364971464},\n",
       "   {'level': '5',\n",
       "    'location': '43.7069955,-72.28824085',\n",
       "    'resp_time': 1365035814},\n",
       "   {'level': '5',\n",
       "    'location': '43.707083266666665,-72.28889416666667',\n",
       "    'resp_time': 1365065874},\n",
       "   {'level': '3',\n",
       "    'location': '43.70326943333333,-72.290563',\n",
       "    'resp_time': 1365452631},\n",
       "   {'level': '1',\n",
       "    'location': '43.706978783333334,-72.28869071666666',\n",
       "    'resp_time': 1365122716},\n",
       "   {'level': '1',\n",
       "    'location': '43.707280983333334,-72.2890027',\n",
       "    'resp_time': 1365174204},\n",
       "   {'level': '3',\n",
       "    'location': '43.70726605,-72.28919321666666',\n",
       "    'resp_time': 1365209113},\n",
       "   {'level': '3',\n",
       "    'location': '43.70713713333333,-72.28891073333334',\n",
       "    'resp_time': 1365274587},\n",
       "   {'level': '3',\n",
       "    'location': '43.707121433333334,-72.28947938333333',\n",
       "    'resp_time': 1365304983},\n",
       "   {'level': '5',\n",
       "    'location': '43.70704988333333,-72.28903018333334',\n",
       "    'resp_time': 1365495923},\n",
       "   {'level': '1',\n",
       "    'location': '43.7030312,-72.28956423333334',\n",
       "    'resp_time': 1365634058},\n",
       "   {'level': '4',\n",
       "    'location': '43.707109683333336,-72.28891951666667',\n",
       "    'resp_time': 1366260396},\n",
       "   {'level': '5',\n",
       "    'location': '43.70706548333333,-72.28899323333333',\n",
       "    'resp_time': 1365718338},\n",
       "   {'level': '1',\n",
       "    'location': '43.70716755,-72.2888156',\n",
       "    'resp_time': 1365803998},\n",
       "   {'level': '5',\n",
       "    'location': '43.70729465,-72.288737',\n",
       "    'resp_time': 1365895486},\n",
       "   {'level': '1',\n",
       "    'location': '43.7032011,-72.29047235',\n",
       "    'resp_time': 1366185604},\n",
       "   {'level': '2',\n",
       "    'location': '43.706763233333334,-72.28900886666666',\n",
       "    'resp_time': 1365981928},\n",
       "   {'level': '1',\n",
       "    'location': '43.70699183333333,-72.2890747',\n",
       "    'resp_time': 1366056000},\n",
       "   {'level': '1',\n",
       "    'location': '43.707300599999996,-72.2890433',\n",
       "    'resp_time': 1366099216},\n",
       "   {'level': '4',\n",
       "    'location': '43.7032011,-72.29047235',\n",
       "    'resp_time': 1366171612},\n",
       "   {'level': '5',\n",
       "    'location': '43.7069446,-72.28889408333333',\n",
       "    'resp_time': 1366273148},\n",
       "   {'level': '2',\n",
       "    'location': '43.70727278333333,-72.28916668333333',\n",
       "    'resp_time': 1367216409},\n",
       "   {'level': '2',\n",
       "    'location': '43.70715625,-72.2889859',\n",
       "    'resp_time': 1366704227},\n",
       "   {'level': '1',\n",
       "    'location': '43.70723443333333,-72.28894548333334',\n",
       "    'resp_time': 1367309207},\n",
       "   {'level': '2',\n",
       "    'location': '43.7070872,-72.28909465',\n",
       "    'resp_time': 1366999576},\n",
       "   {'level': '1',\n",
       "    'location': '43.707265416666665,-72.28896075',\n",
       "    'resp_time': 1367200430},\n",
       "   {'level': '1',\n",
       "    'location': '43.70781448333334,-72.28638735',\n",
       "    'resp_time': 1367389749},\n",
       "   {'level': '2',\n",
       "    'location': '43.7072038,-72.28910031666666',\n",
       "    'resp_time': 1368733353},\n",
       "   {'level': '2',\n",
       "    'location': '43.707834016666666,-72.28659761666667',\n",
       "    'resp_time': 1368672823},\n",
       "   {'level': '1',\n",
       "    'location': '43.70797026666666,-72.28684785',\n",
       "    'resp_time': 1368823788},\n",
       "   {'level': '1',\n",
       "    'location': '43.70704741666667,-72.28891435',\n",
       "    'resp_time': 1368991593},\n",
       "   {'level': '3',\n",
       "    'location': '43.70768413333333,-72.28665698333333',\n",
       "    'resp_time': 1368936004},\n",
       "   {'level': '3',\n",
       "    'location': '43.70696515,-72.288993',\n",
       "    'resp_time': 1369119510},\n",
       "   {'level': '1',\n",
       "    'location': '43.70773375,-72.28618268333334',\n",
       "    'resp_time': 1369195743},\n",
       "   {'level': '3',\n",
       "    'location': '43.707672716666664,-72.28611655',\n",
       "    'resp_time': 1369163714},\n",
       "   {'level': '1',\n",
       "    'location': '43.70609388333333,-72.28685355',\n",
       "    'resp_time': 1369250370},\n",
       "   {'level': '5',\n",
       "    'location': '43.70400668333333,-72.28917318333333',\n",
       "    'resp_time': 1369455023}]),\n",
       " ('Stress_u34.json',\n",
       "  [{'level': '4', 'location': 'Unknown', 'resp_time': 1364768218},\n",
       "   {'null': '3', 'resp_time': 1364122257},\n",
       "   {'null': '1', 'resp_time': 1364118560},\n",
       "   {'null': '43.70631289,-72.2870632', 'resp_time': 1364122255},\n",
       "   {'null': '1', 'resp_time': 1364122260},\n",
       "   {'null': '43.70631289,-72.2870632', 'resp_time': 1364122259},\n",
       "   {'level': '1',\n",
       "    'location': '43.63793018,-72.2756428',\n",
       "    'resp_time': 1364955998},\n",
       "   {'level': '4',\n",
       "    'location': '43.70794976,-72.28483945',\n",
       "    'resp_time': 1364972147},\n",
       "   {'level': '1',\n",
       "    'location': '43.71793329,-72.30801423',\n",
       "    'resp_time': 1365121151},\n",
       "   {'level': '1',\n",
       "    'location': '43.70897262,-72.28222525',\n",
       "    'resp_time': 1366064593},\n",
       "   {'level': '1',\n",
       "    'location': '43.7087934,-72.2859773',\n",
       "    'resp_time': 1367267109}])]"
      ]
     },
     "execution_count": 35,
     "metadata": {},
     "output_type": "execute_result"
    }
   ],
   "source": [
    "list(stress_json_di.items())[:2]"
   ]
  },
  {
   "cell_type": "code",
   "execution_count": 48,
   "metadata": {},
   "outputs": [],
   "source": []
  },
  {
   "cell_type": "code",
   "execution_count": 49,
   "metadata": {},
   "outputs": [
    {
     "data": {
      "text/plain": [
       "datetime.datetime(2013, 3, 24, 3, 44, 47)"
      ]
     },
     "execution_count": 49,
     "metadata": {},
     "output_type": "execute_result"
    }
   ],
   "source": [
    "datetime.fromtimestamp(list(stress_json_di.items())[0][1][0]['resp_time'])"
   ]
  },
  {
   "cell_type": "code",
   "execution_count": 50,
   "metadata": {},
   "outputs": [
    {
     "data": {
      "text/plain": [
       "{'year': '2013',\n",
       " 'month': '03',\n",
       " 'day': '24',\n",
       " 'hour': '03',\n",
       " 'minute': '44',\n",
       " 'weekday': 'Sun',\n",
       " 'weeknumber': '11'}"
      ]
     },
     "execution_count": 50,
     "metadata": {},
     "output_type": "execute_result"
    }
   ],
   "source": [
    "get_info_from_timestamp(list(stress_json_di.items())[0][1][0]['resp_time'])"
   ]
  },
  {
   "cell_type": "code",
   "execution_count": null,
   "metadata": {},
   "outputs": [],
   "source": []
  }
 ],
 "metadata": {
  "kernelspec": {
   "display_name": "Python 3.10.4 ('ucsd_hw')",
   "language": "python",
   "name": "python3"
  },
  "language_info": {
   "codemirror_mode": {
    "name": "ipython",
    "version": 3
   },
   "file_extension": ".py",
   "mimetype": "text/x-python",
   "name": "python",
   "nbconvert_exporter": "python",
   "pygments_lexer": "ipython3",
   "version": "3.10.4"
  },
  "orig_nbformat": 4,
  "vscode": {
   "interpreter": {
    "hash": "b527c3883f97d0c80049be9d21bf79bee304fc8cc62c9f8bd8d0aa656b2e9faa"
   }
  }
 },
 "nbformat": 4,
 "nbformat_minor": 2
}
