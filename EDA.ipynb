{
 "cells": [
  {
   "cell_type": "markdown",
   "metadata": {},
   "source": [
    "## Importing libraries"
   ]
  },
  {
   "cell_type": "code",
   "execution_count": 2,
   "metadata": {},
   "outputs": [],
   "source": [
    "### importing libraries\n",
    "\n",
    "from datetime import datetime\n",
    "from collections import defaultdict\n",
    "from tqdm import tqdm\n",
    "\n",
    "import numpy as np\n",
    "import pandas as pd\n",
    "\n",
    "import json\n",
    "import os"
   ]
  },
  {
   "cell_type": "markdown",
   "metadata": {},
   "source": [
    "## Utility functions"
   ]
  },
  {
   "cell_type": "code",
   "execution_count": 87,
   "metadata": {},
   "outputs": [],
   "source": [
    "def get_info_from_timestamp(timestamp,date_and_time = True,year=True,month=True,day=True,hour=True,minute=True,second=False,weekday=True,weeknumber=True):\n",
    "    base = datetime.fromtimestamp(timestamp)\n",
    "    return_di = {}\n",
    "    if date_and_time:\n",
    "        return_di['date_time'] = base.strftime(\"%m/%d/%Y, %H:%M\")\n",
    "    if year:\n",
    "        return_di['year'] = base.strftime('%Y')\n",
    "    if month:\n",
    "        return_di['month'] = base.strftime(\"%m\")\n",
    "    if day:\n",
    "        return_di['day'] = base.strftime(\"%d\")\n",
    "    if hour:\n",
    "        return_di['hours'] = base.strftime(\"%H\")\n",
    "    if minute:\n",
    "        return_di['minute'] = base.strftime(\"%M\")\n",
    "    if second:\n",
    "        return_di['second'] = base.strftime(\"%H\")\n",
    "    if weekday:\n",
    "        return_di['weekday'] = base.strftime(\"%a\")\n",
    "    if weeknumber:\n",
    "        return_di['weeknumber'] = base.strftime(\"%W\")\n",
    "\n",
    "    return return_di"
   ]
  },
  {
   "cell_type": "markdown",
   "metadata": {
    "tags": []
   },
   "source": [
    "## Data Setup"
   ]
  },
  {
   "cell_type": "code",
   "execution_count": 4,
   "metadata": {},
   "outputs": [],
   "source": [
    "### seting the data directory\n",
    "\n",
    "EMA_rel_path = 'data/dataset/EMA/response/'"
   ]
  },
  {
   "cell_type": "code",
   "execution_count": 5,
   "metadata": {},
   "outputs": [
    {
     "data": {
      "text/plain": [
       "'/home/sidd/workspace/Student-Stress-Prediction'"
      ]
     },
     "execution_count": 5,
     "metadata": {},
     "output_type": "execute_result"
    }
   ],
   "source": [
    "cwd = os.getcwd()\n",
    "cwd"
   ]
  },
  {
   "cell_type": "code",
   "execution_count": 6,
   "metadata": {},
   "outputs": [
    {
     "data": {
      "text/plain": [
       "'/home/sidd/workspace/Student-Stress-Prediction/data/dataset/EMA/response/'"
      ]
     },
     "execution_count": 6,
     "metadata": {},
     "output_type": "execute_result"
    }
   ],
   "source": [
    "EMA_abs_path = os.path.join(cwd,EMA_rel_path)\n",
    "EMA_abs_path"
   ]
  },
  {
   "cell_type": "markdown",
   "metadata": {},
   "source": [
    "### Different \"LABEL\" EMA files"
   ]
  },
  {
   "cell_type": "code",
   "execution_count": 7,
   "metadata": {},
   "outputs": [
    {
     "data": {
      "text/plain": [
       "(49, 49)"
      ]
     },
     "execution_count": 7,
     "metadata": {},
     "output_type": "execute_result"
    }
   ],
   "source": [
    "### counting length of different \"category\" EMA files\n",
    "\n",
    "stress_EMA_usr_files = os.listdir(os.path.join(EMA_abs_path,'Stress'))\n",
    "mood2_EMA_usr_files = os.listdir(os.path.join(EMA_abs_path,'Mood 2'))\n",
    "\n",
    "\n",
    "len(stress_EMA_usr_files),len(mood2_EMA_usr_files)"
   ]
  },
  {
   "cell_type": "code",
   "execution_count": 8,
   "metadata": {},
   "outputs": [
    {
     "data": {
      "text/plain": [
       "('Stress_u52.json', 'Mood 2_u30.json')"
      ]
     },
     "execution_count": 8,
     "metadata": {},
     "output_type": "execute_result"
    }
   ],
   "source": [
    "stress_EMA_usr_files[0],mood2_EMA_usr_files[0]"
   ]
  },
  {
   "cell_type": "code",
   "execution_count": 9,
   "metadata": {},
   "outputs": [],
   "source": [
    "### Loading and Reading stress EMA files\n",
    "\n",
    "def get_json_di(EMA_usr_files_li,ema_abs_path,EMA_folder_name):\n",
    "    json_di = {}\n",
    "\n",
    "    for filename in EMA_usr_files_li:\n",
    "        filename_abs_path = os.path.join(ema_abs_path,EMA_folder_name,filename)\n",
    "        #print(filename_abs_path)\n",
    "        with open(filename_abs_path) as f:\n",
    "            json_di[filename] = json.load(f)\n",
    "\n",
    "\n",
    "    print(\"No of EMA files in : \", EMA_folder_name,\" : \", len(json_di))\n",
    "\n",
    "    return json_di\n",
    "\n"
   ]
  },
  {
   "cell_type": "code",
   "execution_count": 10,
   "metadata": {},
   "outputs": [
    {
     "name": "stdout",
     "output_type": "stream",
     "text": [
      "No of EMA files in :  Stress  :  49\n",
      "No of EMA files in :  Mood 2  :  49\n"
     ]
    }
   ],
   "source": [
    "### Loading and Reading EMA files\n",
    "\n",
    "stress_json_di = get_json_di(stress_EMA_usr_files,EMA_abs_path,'Stress')\n",
    "mood2_json_di = get_json_di(mood2_EMA_usr_files,EMA_abs_path,'Mood 2')"
   ]
  },
  {
   "cell_type": "code",
   "execution_count": 11,
   "metadata": {},
   "outputs": [],
   "source": [
    "# ### Loading and Reading mood 2 EMA files\n",
    "\n",
    "# mood2_json_di = {}\n",
    "\n",
    "# for filename in mood2_EMA_usr_files:\n",
    "#     filename_abs_path = os.path.join(EMA_abs_path,'Mood 2',filename)\n",
    "#     #print(filename_abs_path)\n",
    "#     with open(filename_abs_path) as f:\n",
    "#         stress_json_di[filename] = json.load(f)\n",
    "\n",
    "\n",
    "# print(len(stress_json_di))"
   ]
  },
  {
   "cell_type": "markdown",
   "metadata": {},
   "source": [
    "### Extracting different EMA files data"
   ]
  },
  {
   "cell_type": "code",
   "execution_count": 32,
   "metadata": {},
   "outputs": [],
   "source": [
    "def get_mood2_ema_df(json_di):\n",
    "    \n",
    "    ema_mood2_data_di = defaultdict(list)\n",
    "\n",
    "\n",
    "    for user, val in tqdm(json_di.items()):\n",
    "        usr_id = user.split('.')[0].split('_')[1]\n",
    "        \n",
    "\n",
    "        for json_val in val:\n",
    "            if 'how' in json_val:\n",
    "                \n",
    "                ema_mood2_data_di['user_id'].append(usr_id)\n",
    "                \n",
    "\n",
    "                time_info_di = get_info_from_timestamp(json_val['resp_time'])\n",
    "                for k,v in time_info_di.items():\n",
    "                    ema_mood2_data_di[k].append(v)\n",
    "\n",
    "                ema_mood2_data_di['label_source'].append(\"mood2_ema\")                \n",
    "                ema_mood2_data_di['rating'].append(json_val['how'])\n",
    "\n",
    "    return pd.DataFrame(ema_mood2_data_di)"
   ]
  },
  {
   "cell_type": "code",
   "execution_count": null,
   "metadata": {},
   "outputs": [],
   "source": []
  },
  {
   "cell_type": "code",
   "execution_count": 13,
   "metadata": {},
   "outputs": [],
   "source": [
    "def get_stress_ema_df(stress_json_di):\n",
    "    \n",
    "    ema_stress_data_di = defaultdict(list)\n",
    "\n",
    "\n",
    "    for user, val in tqdm(stress_json_di.items()):\n",
    "        usr_id = user.split('.')[0].split('_')[1]\n",
    "        \n",
    "\n",
    "        for json_val in val:\n",
    "            if 'level' in json_val:\n",
    "                \n",
    "                ema_stress_data_di['user_id'].append(usr_id)\n",
    "                \n",
    "\n",
    "                time_info_di = get_info_from_timestamp(json_val['resp_time'])\n",
    "                for k,v in time_info_di.items():\n",
    "                    ema_stress_data_di[k].append(v)\n",
    "\n",
    "                ema_stress_data_di['label_source'].append(\"stress_ema\")                \n",
    "                ema_stress_data_di['rating'].append(json_val['level'])\n",
    "\n",
    "    return pd.DataFrame(ema_stress_data_di)"
   ]
  },
  {
   "cell_type": "markdown",
   "metadata": {},
   "source": [
    "### Stres and Mood 2 EMA df's info"
   ]
  },
  {
   "cell_type": "code",
   "execution_count": 14,
   "metadata": {},
   "outputs": [
    {
     "name": "stderr",
     "output_type": "stream",
     "text": [
      "100%|██████████| 49/49 [00:00<00:00, 1841.04it/s]\n"
     ]
    },
    {
     "data": {
      "text/html": [
       "<div>\n",
       "<style scoped>\n",
       "    .dataframe tbody tr th:only-of-type {\n",
       "        vertical-align: middle;\n",
       "    }\n",
       "\n",
       "    .dataframe tbody tr th {\n",
       "        vertical-align: top;\n",
       "    }\n",
       "\n",
       "    .dataframe thead th {\n",
       "        text-align: right;\n",
       "    }\n",
       "</style>\n",
       "<table border=\"1\" class=\"dataframe\">\n",
       "  <thead>\n",
       "    <tr style=\"text-align: right;\">\n",
       "      <th></th>\n",
       "      <th>user_id</th>\n",
       "      <th>date_time</th>\n",
       "      <th>year</th>\n",
       "      <th>month</th>\n",
       "      <th>day</th>\n",
       "      <th>hour</th>\n",
       "      <th>minute</th>\n",
       "      <th>weekday</th>\n",
       "      <th>weeknumber</th>\n",
       "      <th>label_source</th>\n",
       "      <th>stress_level</th>\n",
       "    </tr>\n",
       "  </thead>\n",
       "  <tbody>\n",
       "    <tr>\n",
       "      <th>0</th>\n",
       "      <td>u52</td>\n",
       "      <td>03/30/2013, 15:24</td>\n",
       "      <td>2013</td>\n",
       "      <td>03</td>\n",
       "      <td>30</td>\n",
       "      <td>15</td>\n",
       "      <td>24</td>\n",
       "      <td>Sat</td>\n",
       "      <td>12</td>\n",
       "      <td>stress_ema</td>\n",
       "      <td>2</td>\n",
       "    </tr>\n",
       "    <tr>\n",
       "      <th>1</th>\n",
       "      <td>u52</td>\n",
       "      <td>03/28/2013, 15:03</td>\n",
       "      <td>2013</td>\n",
       "      <td>03</td>\n",
       "      <td>28</td>\n",
       "      <td>15</td>\n",
       "      <td>03</td>\n",
       "      <td>Thu</td>\n",
       "      <td>12</td>\n",
       "      <td>stress_ema</td>\n",
       "      <td>1</td>\n",
       "    </tr>\n",
       "    <tr>\n",
       "      <th>2</th>\n",
       "      <td>u52</td>\n",
       "      <td>03/31/2013, 15:11</td>\n",
       "      <td>2013</td>\n",
       "      <td>03</td>\n",
       "      <td>31</td>\n",
       "      <td>15</td>\n",
       "      <td>11</td>\n",
       "      <td>Sun</td>\n",
       "      <td>12</td>\n",
       "      <td>stress_ema</td>\n",
       "      <td>2</td>\n",
       "    </tr>\n",
       "    <tr>\n",
       "      <th>3</th>\n",
       "      <td>u52</td>\n",
       "      <td>04/02/2013, 17:24</td>\n",
       "      <td>2013</td>\n",
       "      <td>04</td>\n",
       "      <td>02</td>\n",
       "      <td>17</td>\n",
       "      <td>24</td>\n",
       "      <td>Tue</td>\n",
       "      <td>13</td>\n",
       "      <td>stress_ema</td>\n",
       "      <td>1</td>\n",
       "    </tr>\n",
       "    <tr>\n",
       "      <th>4</th>\n",
       "      <td>u52</td>\n",
       "      <td>04/02/2013, 23:44</td>\n",
       "      <td>2013</td>\n",
       "      <td>04</td>\n",
       "      <td>02</td>\n",
       "      <td>23</td>\n",
       "      <td>44</td>\n",
       "      <td>Tue</td>\n",
       "      <td>13</td>\n",
       "      <td>stress_ema</td>\n",
       "      <td>5</td>\n",
       "    </tr>\n",
       "  </tbody>\n",
       "</table>\n",
       "</div>"
      ],
      "text/plain": [
       "  user_id          date_time  year month day hour minute weekday weeknumber  \\\n",
       "0     u52  03/30/2013, 15:24  2013    03  30   15     24     Sat         12   \n",
       "1     u52  03/28/2013, 15:03  2013    03  28   15     03     Thu         12   \n",
       "2     u52  03/31/2013, 15:11  2013    03  31   15     11     Sun         12   \n",
       "3     u52  04/02/2013, 17:24  2013    04  02   17     24     Tue         13   \n",
       "4     u52  04/02/2013, 23:44  2013    04  02   23     44     Tue         13   \n",
       "\n",
       "  label_source stress_level  \n",
       "0   stress_ema            2  \n",
       "1   stress_ema            1  \n",
       "2   stress_ema            2  \n",
       "3   stress_ema            1  \n",
       "4   stress_ema            5  "
      ]
     },
     "execution_count": 14,
     "metadata": {},
     "output_type": "execute_result"
    }
   ],
   "source": [
    "stress_ema_df = get_stress_ema_df(stress_json_di)\n",
    "\n",
    "stress_ema_df.head()"
   ]
  },
  {
   "cell_type": "code",
   "execution_count": 15,
   "metadata": {},
   "outputs": [],
   "source": [
    "# for a,b in ema_stress_data_di.items():\n",
    "#     print(a,len(b))"
   ]
  },
  {
   "cell_type": "code",
   "execution_count": 16,
   "metadata": {},
   "outputs": [
    {
     "name": "stdout",
     "output_type": "stream",
     "text": [
      "<class 'pandas.core.frame.DataFrame'>\n",
      "RangeIndex: 2167 entries, 0 to 2166\n",
      "Data columns (total 11 columns):\n",
      " #   Column        Non-Null Count  Dtype \n",
      "---  ------        --------------  ----- \n",
      " 0   user_id       2167 non-null   object\n",
      " 1   date_time     2167 non-null   object\n",
      " 2   year          2167 non-null   object\n",
      " 3   month         2167 non-null   object\n",
      " 4   day           2167 non-null   object\n",
      " 5   hour          2167 non-null   object\n",
      " 6   minute        2167 non-null   object\n",
      " 7   weekday       2167 non-null   object\n",
      " 8   weeknumber    2167 non-null   object\n",
      " 9   label_source  2167 non-null   object\n",
      " 10  stress_level  2167 non-null   object\n",
      "dtypes: object(11)\n",
      "memory usage: 186.4+ KB\n"
     ]
    }
   ],
   "source": [
    "stress_ema_df.info()"
   ]
  },
  {
   "cell_type": "code",
   "execution_count": 17,
   "metadata": {},
   "outputs": [
    {
     "data": {
      "text/html": [
       "<div>\n",
       "<style scoped>\n",
       "    .dataframe tbody tr th:only-of-type {\n",
       "        vertical-align: middle;\n",
       "    }\n",
       "\n",
       "    .dataframe tbody tr th {\n",
       "        vertical-align: top;\n",
       "    }\n",
       "\n",
       "    .dataframe thead th {\n",
       "        text-align: right;\n",
       "    }\n",
       "</style>\n",
       "<table border=\"1\" class=\"dataframe\">\n",
       "  <thead>\n",
       "    <tr style=\"text-align: right;\">\n",
       "      <th></th>\n",
       "      <th>user_id</th>\n",
       "      <th>date_time</th>\n",
       "      <th>year</th>\n",
       "      <th>month</th>\n",
       "      <th>day</th>\n",
       "      <th>hour</th>\n",
       "      <th>minute</th>\n",
       "      <th>weekday</th>\n",
       "      <th>weeknumber</th>\n",
       "      <th>label_source</th>\n",
       "      <th>stress_level</th>\n",
       "    </tr>\n",
       "  </thead>\n",
       "  <tbody>\n",
       "    <tr>\n",
       "      <th>count</th>\n",
       "      <td>2167</td>\n",
       "      <td>2167</td>\n",
       "      <td>2167</td>\n",
       "      <td>2167</td>\n",
       "      <td>2167</td>\n",
       "      <td>2167</td>\n",
       "      <td>2167</td>\n",
       "      <td>2167</td>\n",
       "      <td>2167</td>\n",
       "      <td>2167</td>\n",
       "      <td>2167</td>\n",
       "    </tr>\n",
       "    <tr>\n",
       "      <th>unique</th>\n",
       "      <td>48</td>\n",
       "      <td>1907</td>\n",
       "      <td>1</td>\n",
       "      <td>5</td>\n",
       "      <td>31</td>\n",
       "      <td>24</td>\n",
       "      <td>60</td>\n",
       "      <td>7</td>\n",
       "      <td>13</td>\n",
       "      <td>1</td>\n",
       "      <td>5</td>\n",
       "    </tr>\n",
       "    <tr>\n",
       "      <th>top</th>\n",
       "      <td>u59</td>\n",
       "      <td>05/01/2013, 02:16</td>\n",
       "      <td>2013</td>\n",
       "      <td>04</td>\n",
       "      <td>29</td>\n",
       "      <td>21</td>\n",
       "      <td>00</td>\n",
       "      <td>Wed</td>\n",
       "      <td>13</td>\n",
       "      <td>stress_ema</td>\n",
       "      <td>1</td>\n",
       "    </tr>\n",
       "    <tr>\n",
       "      <th>freq</th>\n",
       "      <td>269</td>\n",
       "      <td>8</td>\n",
       "      <td>2167</td>\n",
       "      <td>1328</td>\n",
       "      <td>134</td>\n",
       "      <td>215</td>\n",
       "      <td>166</td>\n",
       "      <td>374</td>\n",
       "      <td>429</td>\n",
       "      <td>2167</td>\n",
       "      <td>974</td>\n",
       "    </tr>\n",
       "  </tbody>\n",
       "</table>\n",
       "</div>"
      ],
      "text/plain": [
       "       user_id          date_time  year month   day  hour minute weekday  \\\n",
       "count     2167               2167  2167  2167  2167  2167   2167    2167   \n",
       "unique      48               1907     1     5    31    24     60       7   \n",
       "top        u59  05/01/2013, 02:16  2013    04    29    21     00     Wed   \n",
       "freq       269                  8  2167  1328   134   215    166     374   \n",
       "\n",
       "       weeknumber label_source stress_level  \n",
       "count        2167         2167         2167  \n",
       "unique         13            1            5  \n",
       "top            13   stress_ema            1  \n",
       "freq          429         2167          974  "
      ]
     },
     "execution_count": 17,
     "metadata": {},
     "output_type": "execute_result"
    }
   ],
   "source": [
    "stress_ema_df.describe()"
   ]
  },
  {
   "cell_type": "code",
   "execution_count": null,
   "metadata": {},
   "outputs": [],
   "source": []
  },
  {
   "cell_type": "code",
   "execution_count": 33,
   "metadata": {},
   "outputs": [
    {
     "name": "stderr",
     "output_type": "stream",
     "text": [
      "100%|██████████| 49/49 [00:00<00:00, 5400.63it/s]\n"
     ]
    },
    {
     "data": {
      "text/html": [
       "<div>\n",
       "<style scoped>\n",
       "    .dataframe tbody tr th:only-of-type {\n",
       "        vertical-align: middle;\n",
       "    }\n",
       "\n",
       "    .dataframe tbody tr th {\n",
       "        vertical-align: top;\n",
       "    }\n",
       "\n",
       "    .dataframe thead th {\n",
       "        text-align: right;\n",
       "    }\n",
       "</style>\n",
       "<table border=\"1\" class=\"dataframe\">\n",
       "  <thead>\n",
       "    <tr style=\"text-align: right;\">\n",
       "      <th></th>\n",
       "      <th>user_id</th>\n",
       "      <th>date_time</th>\n",
       "      <th>year</th>\n",
       "      <th>month</th>\n",
       "      <th>day</th>\n",
       "      <th>hour</th>\n",
       "      <th>minute</th>\n",
       "      <th>weekday</th>\n",
       "      <th>weeknumber</th>\n",
       "      <th>label_source</th>\n",
       "      <th>rating</th>\n",
       "    </tr>\n",
       "  </thead>\n",
       "  <tbody>\n",
       "    <tr>\n",
       "      <th>0</th>\n",
       "      <td>u17</td>\n",
       "      <td>04/26/2013, 16:09</td>\n",
       "      <td>2013</td>\n",
       "      <td>04</td>\n",
       "      <td>26</td>\n",
       "      <td>16</td>\n",
       "      <td>09</td>\n",
       "      <td>Fri</td>\n",
       "      <td>16</td>\n",
       "      <td>mood2_ema</td>\n",
       "      <td>2</td>\n",
       "    </tr>\n",
       "    <tr>\n",
       "      <th>1</th>\n",
       "      <td>u17</td>\n",
       "      <td>04/26/2013, 00:27</td>\n",
       "      <td>2013</td>\n",
       "      <td>04</td>\n",
       "      <td>26</td>\n",
       "      <td>00</td>\n",
       "      <td>27</td>\n",
       "      <td>Fri</td>\n",
       "      <td>16</td>\n",
       "      <td>mood2_ema</td>\n",
       "      <td>2</td>\n",
       "    </tr>\n",
       "    <tr>\n",
       "      <th>2</th>\n",
       "      <td>u17</td>\n",
       "      <td>04/27/2013, 17:23</td>\n",
       "      <td>2013</td>\n",
       "      <td>04</td>\n",
       "      <td>27</td>\n",
       "      <td>17</td>\n",
       "      <td>23</td>\n",
       "      <td>Sat</td>\n",
       "      <td>16</td>\n",
       "      <td>mood2_ema</td>\n",
       "      <td>3</td>\n",
       "    </tr>\n",
       "    <tr>\n",
       "      <th>3</th>\n",
       "      <td>u17</td>\n",
       "      <td>04/28/2013, 21:33</td>\n",
       "      <td>2013</td>\n",
       "      <td>04</td>\n",
       "      <td>28</td>\n",
       "      <td>21</td>\n",
       "      <td>33</td>\n",
       "      <td>Sun</td>\n",
       "      <td>16</td>\n",
       "      <td>mood2_ema</td>\n",
       "      <td>2</td>\n",
       "    </tr>\n",
       "    <tr>\n",
       "      <th>4</th>\n",
       "      <td>u17</td>\n",
       "      <td>05/13/2013, 20:59</td>\n",
       "      <td>2013</td>\n",
       "      <td>05</td>\n",
       "      <td>13</td>\n",
       "      <td>20</td>\n",
       "      <td>59</td>\n",
       "      <td>Mon</td>\n",
       "      <td>19</td>\n",
       "      <td>mood2_ema</td>\n",
       "      <td>2</td>\n",
       "    </tr>\n",
       "  </tbody>\n",
       "</table>\n",
       "</div>"
      ],
      "text/plain": [
       "  user_id          date_time  year month day hour minute weekday weeknumber  \\\n",
       "0     u17  04/26/2013, 16:09  2013    04  26   16     09     Fri         16   \n",
       "1     u17  04/26/2013, 00:27  2013    04  26   00     27     Fri         16   \n",
       "2     u17  04/27/2013, 17:23  2013    04  27   17     23     Sat         16   \n",
       "3     u17  04/28/2013, 21:33  2013    04  28   21     33     Sun         16   \n",
       "4     u17  05/13/2013, 20:59  2013    05  13   20     59     Mon         19   \n",
       "\n",
       "  label_source rating  \n",
       "0    mood2_ema      2  \n",
       "1    mood2_ema      2  \n",
       "2    mood2_ema      3  \n",
       "3    mood2_ema      2  \n",
       "4    mood2_ema      2  "
      ]
     },
     "execution_count": 33,
     "metadata": {},
     "output_type": "execute_result"
    }
   ],
   "source": [
    "mood2_ema_df = get_mood2_ema_df(mood2_json_di)\n",
    "\n",
    "mood2_ema_df.head()"
   ]
  },
  {
   "cell_type": "code",
   "execution_count": 34,
   "metadata": {},
   "outputs": [
    {
     "name": "stdout",
     "output_type": "stream",
     "text": [
      "<class 'pandas.core.frame.DataFrame'>\n",
      "RangeIndex: 417 entries, 0 to 416\n",
      "Data columns (total 11 columns):\n",
      " #   Column        Non-Null Count  Dtype \n",
      "---  ------        --------------  ----- \n",
      " 0   user_id       417 non-null    object\n",
      " 1   date_time     417 non-null    object\n",
      " 2   year          417 non-null    object\n",
      " 3   month         417 non-null    object\n",
      " 4   day           417 non-null    object\n",
      " 5   hour          417 non-null    object\n",
      " 6   minute        417 non-null    object\n",
      " 7   weekday       417 non-null    object\n",
      " 8   weeknumber    417 non-null    object\n",
      " 9   label_source  417 non-null    object\n",
      " 10  rating        417 non-null    object\n",
      "dtypes: object(11)\n",
      "memory usage: 36.0+ KB\n"
     ]
    }
   ],
   "source": [
    "mood2_ema_df.info()"
   ]
  },
  {
   "cell_type": "code",
   "execution_count": 35,
   "metadata": {},
   "outputs": [
    {
     "data": {
      "text/html": [
       "<div>\n",
       "<style scoped>\n",
       "    .dataframe tbody tr th:only-of-type {\n",
       "        vertical-align: middle;\n",
       "    }\n",
       "\n",
       "    .dataframe tbody tr th {\n",
       "        vertical-align: top;\n",
       "    }\n",
       "\n",
       "    .dataframe thead th {\n",
       "        text-align: right;\n",
       "    }\n",
       "</style>\n",
       "<table border=\"1\" class=\"dataframe\">\n",
       "  <thead>\n",
       "    <tr style=\"text-align: right;\">\n",
       "      <th></th>\n",
       "      <th>user_id</th>\n",
       "      <th>date_time</th>\n",
       "      <th>year</th>\n",
       "      <th>month</th>\n",
       "      <th>day</th>\n",
       "      <th>hour</th>\n",
       "      <th>minute</th>\n",
       "      <th>weekday</th>\n",
       "      <th>weeknumber</th>\n",
       "      <th>label_source</th>\n",
       "      <th>rating</th>\n",
       "    </tr>\n",
       "  </thead>\n",
       "  <tbody>\n",
       "    <tr>\n",
       "      <th>count</th>\n",
       "      <td>417</td>\n",
       "      <td>417</td>\n",
       "      <td>417</td>\n",
       "      <td>417</td>\n",
       "      <td>417</td>\n",
       "      <td>417</td>\n",
       "      <td>417</td>\n",
       "      <td>417</td>\n",
       "      <td>417</td>\n",
       "      <td>417</td>\n",
       "      <td>417</td>\n",
       "    </tr>\n",
       "    <tr>\n",
       "      <th>unique</th>\n",
       "      <td>37</td>\n",
       "      <td>398</td>\n",
       "      <td>1</td>\n",
       "      <td>3</td>\n",
       "      <td>31</td>\n",
       "      <td>22</td>\n",
       "      <td>60</td>\n",
       "      <td>7</td>\n",
       "      <td>7</td>\n",
       "      <td>1</td>\n",
       "      <td>3</td>\n",
       "    </tr>\n",
       "    <tr>\n",
       "      <th>top</th>\n",
       "      <td>u59</td>\n",
       "      <td>05/10/2013, 17:00</td>\n",
       "      <td>2013</td>\n",
       "      <td>05</td>\n",
       "      <td>26</td>\n",
       "      <td>17</td>\n",
       "      <td>00</td>\n",
       "      <td>Fri</td>\n",
       "      <td>18</td>\n",
       "      <td>mood2_ema</td>\n",
       "      <td>1</td>\n",
       "    </tr>\n",
       "    <tr>\n",
       "      <th>freq</th>\n",
       "      <td>98</td>\n",
       "      <td>3</td>\n",
       "      <td>417</td>\n",
       "      <td>338</td>\n",
       "      <td>30</td>\n",
       "      <td>124</td>\n",
       "      <td>30</td>\n",
       "      <td>81</td>\n",
       "      <td>109</td>\n",
       "      <td>417</td>\n",
       "      <td>180</td>\n",
       "    </tr>\n",
       "  </tbody>\n",
       "</table>\n",
       "</div>"
      ],
      "text/plain": [
       "       user_id          date_time  year month  day hour minute weekday  \\\n",
       "count      417                417   417   417  417  417    417     417   \n",
       "unique      37                398     1     3   31   22     60       7   \n",
       "top        u59  05/10/2013, 17:00  2013    05   26   17     00     Fri   \n",
       "freq        98                  3   417   338   30  124     30      81   \n",
       "\n",
       "       weeknumber label_source rating  \n",
       "count         417          417    417  \n",
       "unique          7            1      3  \n",
       "top            18    mood2_ema      1  \n",
       "freq          109          417    180  "
      ]
     },
     "execution_count": 35,
     "metadata": {},
     "output_type": "execute_result"
    }
   ],
   "source": [
    "mood2_ema_df.describe()"
   ]
  },
  {
   "cell_type": "markdown",
   "metadata": {},
   "source": [
    "### Plotting Stress and Mood 2 df value spread"
   ]
  },
  {
   "cell_type": "code",
   "execution_count": 36,
   "metadata": {},
   "outputs": [
    {
     "data": {
      "text/plain": [
       "[Text(0, 0, '98'),\n",
       " Text(0, 0, '36'),\n",
       " Text(0, 0, '24'),\n",
       " Text(0, 0, '19'),\n",
       " Text(0, 0, '18'),\n",
       " Text(0, 0, '18'),\n",
       " Text(0, 0, '16'),\n",
       " Text(0, 0, '15'),\n",
       " Text(0, 0, '15'),\n",
       " Text(0, 0, '13'),\n",
       " Text(0, 0, '12'),\n",
       " Text(0, 0, '12'),\n",
       " Text(0, 0, '12'),\n",
       " Text(0, 0, '11'),\n",
       " Text(0, 0, '11'),\n",
       " Text(0, 0, '8'),\n",
       " Text(0, 0, '7'),\n",
       " Text(0, 0, '7'),\n",
       " Text(0, 0, '7'),\n",
       " Text(0, 0, '7'),\n",
       " Text(0, 0, '6'),\n",
       " Text(0, 0, '6'),\n",
       " Text(0, 0, '4'),\n",
       " Text(0, 0, '4'),\n",
       " Text(0, 0, '4'),\n",
       " Text(0, 0, '4'),\n",
       " Text(0, 0, '3'),\n",
       " Text(0, 0, '3'),\n",
       " Text(0, 0, '3'),\n",
       " Text(0, 0, '3'),\n",
       " Text(0, 0, '2'),\n",
       " Text(0, 0, '2'),\n",
       " Text(0, 0, '2'),\n",
       " Text(0, 0, '2'),\n",
       " Text(0, 0, '1'),\n",
       " Text(0, 0, '1'),\n",
       " Text(0, 0, '1')]"
      ]
     },
     "execution_count": 36,
     "metadata": {},
     "output_type": "execute_result"
    },
    {
     "data": {
      "image/png": "[encoded data removed]",
      "text/plain": [
       "<Figure size 2500x1000 with 1 Axes>"
      ]
     },
     "metadata": {},
     "output_type": "display_data"
    }
   ],
   "source": [
    "ax = mood2_ema_df['user_id'].value_counts().plot.bar(figsize=(25, 10))\n",
    "ax.bar_label(ax.containers[0])"
   ]
  },
  {
   "cell_type": "code",
   "execution_count": 37,
   "metadata": {},
   "outputs": [
    {
     "data": {
      "text/plain": [
       "[Text(0, 0, '180'), Text(0, 0, '131'), Text(0, 0, '106')]"
      ]
     },
     "execution_count": 37,
     "metadata": {},
     "output_type": "execute_result"
    },
    {
     "data": {
      "image/png": "[encoded data removed]",
      "text/plain": [
       "<Figure size 2500x1000 with 1 Axes>"
      ]
     },
     "metadata": {},
     "output_type": "display_data"
    }
   ],
   "source": [
    "ax = mood2_ema_df['rating'].value_counts().plot.bar(figsize=(25, 10))\n",
    "ax.bar_label(ax.containers[0])"
   ]
  },
  {
   "cell_type": "code",
   "execution_count": null,
   "metadata": {},
   "outputs": [],
   "source": []
  },
  {
   "cell_type": "code",
   "execution_count": 18,
   "metadata": {},
   "outputs": [],
   "source": [
    "### Data processing\n",
    "\n",
    "\n",
    "stress_ema_df['date_time'] = pd.to_datetime(stress_ema_df['date_time'])\n",
    "stress_ema_df = stress_ema_df.set_index('date_time')\n"
   ]
  },
  {
   "cell_type": "code",
   "execution_count": 19,
   "metadata": {},
   "outputs": [
    {
     "data": {
      "text/html": [
       "<div>\n",
       "<style scoped>\n",
       "    .dataframe tbody tr th:only-of-type {\n",
       "        vertical-align: middle;\n",
       "    }\n",
       "\n",
       "    .dataframe tbody tr th {\n",
       "        vertical-align: top;\n",
       "    }\n",
       "\n",
       "    .dataframe thead th {\n",
       "        text-align: right;\n",
       "    }\n",
       "</style>\n",
       "<table border=\"1\" class=\"dataframe\">\n",
       "  <thead>\n",
       "    <tr style=\"text-align: right;\">\n",
       "      <th></th>\n",
       "      <th>user_id</th>\n",
       "      <th>year</th>\n",
       "      <th>month</th>\n",
       "      <th>day</th>\n",
       "      <th>hour</th>\n",
       "      <th>minute</th>\n",
       "      <th>weekday</th>\n",
       "      <th>weeknumber</th>\n",
       "      <th>label_source</th>\n",
       "      <th>stress_level</th>\n",
       "    </tr>\n",
       "    <tr>\n",
       "      <th>date_time</th>\n",
       "      <th></th>\n",
       "      <th></th>\n",
       "      <th></th>\n",
       "      <th></th>\n",
       "      <th></th>\n",
       "      <th></th>\n",
       "      <th></th>\n",
       "      <th></th>\n",
       "      <th></th>\n",
       "      <th></th>\n",
       "    </tr>\n",
       "  </thead>\n",
       "  <tbody>\n",
       "    <tr>\n",
       "      <th>2013-03-30 15:24:00</th>\n",
       "      <td>u52</td>\n",
       "      <td>2013</td>\n",
       "      <td>03</td>\n",
       "      <td>30</td>\n",
       "      <td>15</td>\n",
       "      <td>24</td>\n",
       "      <td>Sat</td>\n",
       "      <td>12</td>\n",
       "      <td>stress_ema</td>\n",
       "      <td>2</td>\n",
       "    </tr>\n",
       "    <tr>\n",
       "      <th>2013-03-28 15:03:00</th>\n",
       "      <td>u52</td>\n",
       "      <td>2013</td>\n",
       "      <td>03</td>\n",
       "      <td>28</td>\n",
       "      <td>15</td>\n",
       "      <td>03</td>\n",
       "      <td>Thu</td>\n",
       "      <td>12</td>\n",
       "      <td>stress_ema</td>\n",
       "      <td>1</td>\n",
       "    </tr>\n",
       "    <tr>\n",
       "      <th>2013-03-31 15:11:00</th>\n",
       "      <td>u52</td>\n",
       "      <td>2013</td>\n",
       "      <td>03</td>\n",
       "      <td>31</td>\n",
       "      <td>15</td>\n",
       "      <td>11</td>\n",
       "      <td>Sun</td>\n",
       "      <td>12</td>\n",
       "      <td>stress_ema</td>\n",
       "      <td>2</td>\n",
       "    </tr>\n",
       "    <tr>\n",
       "      <th>2013-04-02 17:24:00</th>\n",
       "      <td>u52</td>\n",
       "      <td>2013</td>\n",
       "      <td>04</td>\n",
       "      <td>02</td>\n",
       "      <td>17</td>\n",
       "      <td>24</td>\n",
       "      <td>Tue</td>\n",
       "      <td>13</td>\n",
       "      <td>stress_ema</td>\n",
       "      <td>1</td>\n",
       "    </tr>\n",
       "    <tr>\n",
       "      <th>2013-04-02 23:44:00</th>\n",
       "      <td>u52</td>\n",
       "      <td>2013</td>\n",
       "      <td>04</td>\n",
       "      <td>02</td>\n",
       "      <td>23</td>\n",
       "      <td>44</td>\n",
       "      <td>Tue</td>\n",
       "      <td>13</td>\n",
       "      <td>stress_ema</td>\n",
       "      <td>5</td>\n",
       "    </tr>\n",
       "  </tbody>\n",
       "</table>\n",
       "</div>"
      ],
      "text/plain": [
       "                    user_id  year month day hour minute weekday weeknumber  \\\n",
       "date_time                                                                    \n",
       "2013-03-30 15:24:00     u52  2013    03  30   15     24     Sat         12   \n",
       "2013-03-28 15:03:00     u52  2013    03  28   15     03     Thu         12   \n",
       "2013-03-31 15:11:00     u52  2013    03  31   15     11     Sun         12   \n",
       "2013-04-02 17:24:00     u52  2013    04  02   17     24     Tue         13   \n",
       "2013-04-02 23:44:00     u52  2013    04  02   23     44     Tue         13   \n",
       "\n",
       "                    label_source stress_level  \n",
       "date_time                                      \n",
       "2013-03-30 15:24:00   stress_ema            2  \n",
       "2013-03-28 15:03:00   stress_ema            1  \n",
       "2013-03-31 15:11:00   stress_ema            2  \n",
       "2013-04-02 17:24:00   stress_ema            1  \n",
       "2013-04-02 23:44:00   stress_ema            5  "
      ]
     },
     "execution_count": 19,
     "metadata": {},
     "output_type": "execute_result"
    }
   ],
   "source": [
    "stress_ema_df.head()"
   ]
  },
  {
   "cell_type": "code",
   "execution_count": 20,
   "metadata": {},
   "outputs": [
    {
     "data": {
      "text/plain": [
       "48"
      ]
     },
     "execution_count": 20,
     "metadata": {},
     "output_type": "execute_result"
    }
   ],
   "source": [
    "len(stress_ema_df['user_id'].value_counts())"
   ]
  },
  {
   "cell_type": "code",
   "execution_count": 27,
   "metadata": {},
   "outputs": [
    {
     "data": {
      "text/plain": [
       "[Text(0, 0, '269'),\n",
       " Text(0, 0, '107'),\n",
       " Text(0, 0, '106'),\n",
       " Text(0, 0, '91'),\n",
       " Text(0, 0, '90'),\n",
       " Text(0, 0, '87'),\n",
       " Text(0, 0, '77'),\n",
       " Text(0, 0, '74'),\n",
       " Text(0, 0, '67'),\n",
       " Text(0, 0, '66'),\n",
       " Text(0, 0, '61'),\n",
       " Text(0, 0, '58'),\n",
       " Text(0, 0, '56'),\n",
       " Text(0, 0, '55'),\n",
       " Text(0, 0, '55'),\n",
       " Text(0, 0, '53'),\n",
       " Text(0, 0, '44'),\n",
       " Text(0, 0, '44'),\n",
       " Text(0, 0, '43'),\n",
       " Text(0, 0, '42'),\n",
       " Text(0, 0, '41'),\n",
       " Text(0, 0, '39'),\n",
       " Text(0, 0, '39'),\n",
       " Text(0, 0, '38'),\n",
       " Text(0, 0, '37'),\n",
       " Text(0, 0, '33'),\n",
       " Text(0, 0, '32'),\n",
       " Text(0, 0, '30'),\n",
       " Text(0, 0, '30'),\n",
       " Text(0, 0, '30'),\n",
       " Text(0, 0, '29'),\n",
       " Text(0, 0, '29'),\n",
       " Text(0, 0, '28'),\n",
       " Text(0, 0, '25'),\n",
       " Text(0, 0, '20'),\n",
       " Text(0, 0, '20'),\n",
       " Text(0, 0, '19'),\n",
       " Text(0, 0, '16'),\n",
       " Text(0, 0, '13'),\n",
       " Text(0, 0, '12'),\n",
       " Text(0, 0, '11'),\n",
       " Text(0, 0, '10'),\n",
       " Text(0, 0, '10'),\n",
       " Text(0, 0, '10'),\n",
       " Text(0, 0, '8'),\n",
       " Text(0, 0, '6'),\n",
       " Text(0, 0, '4'),\n",
       " Text(0, 0, '3')]"
      ]
     },
     "execution_count": 27,
     "metadata": {},
     "output_type": "execute_result"
    },
    {
     "data": {
      "image/png": "[encoded data removed]",
      "text/plain": [
       "<Figure size 2500x1000 with 1 Axes>"
      ]
     },
     "metadata": {},
     "output_type": "display_data"
    }
   ],
   "source": [
    "ax = stress_ema_df['user_id'].value_counts().plot.bar(figsize=(25, 10))\n",
    "ax.bar_label(ax.containers[0])"
   ]
  },
  {
   "cell_type": "code",
   "execution_count": 22,
   "metadata": {},
   "outputs": [
    {
     "data": {
      "text/plain": [
       "[Text(0, 0, '974'),\n",
       " Text(0, 0, '457'),\n",
       " Text(0, 0, '347'),\n",
       " Text(0, 0, '266'),\n",
       " Text(0, 0, '123')]"
      ]
     },
     "execution_count": 22,
     "metadata": {},
     "output_type": "execute_result"
    },
    {
     "data": {
      "image/png": "[encoded data removed]",
      "text/plain": [
       "<Figure size 640x480 with 1 Axes>"
      ]
     },
     "metadata": {},
     "output_type": "display_data"
    }
   ],
   "source": [
    "ax = stress_ema_df['stress_level'].value_counts().plot.bar()\n",
    "ax.bar_label(ax.containers[0])"
   ]
  },
  {
   "cell_type": "markdown",
   "metadata": {},
   "source": [
    "### Getting Predictor dfs"
   ]
  },
  {
   "cell_type": "code",
   "execution_count": 82,
   "metadata": {},
   "outputs": [],
   "source": [
    "# social_EMA_usr_files = os.listdir(os.path.join(EMA_abs_path,'Social')) ## number\n",
    "# class_EMA_usr_files = os.listdir(os.path.join(EMA_abs_path,'Class')) ## course_id,experience ## due\n",
    "# sleep_EMA_usr_files = os.listdir(os.path.join(EMA_abs_path,'Sleep')) ## hour, rate, social\n",
    "# activity_EMA_usr_files = os.listdir(os.path.join(EMA_abs_path,'Activity')) ## working, relaxing, other_working, other_relaxing\n",
    "# exercise_EMA_usr_files = os.listdir(os.path.join(EMA_abs_path,'Exercise')) ## have, schedule, exercise, walk\n",
    "# study_space_EMA_usr_files = os.listdir(os.path.join(EMA_abs_path,'Study Spaces')) ## productivity, noise\n",
    "# events_EMA_usr_files = os.listdir(os.path.join(EMA_abs_path,'Events')) ## positive, negative\n",
    "# dining_halls_EMA_usr_files = os.listdir(os.path.join(EMA_abs_path,'Dining Halls')) # breakfast, lunch, dinner\n",
    "# lab_EMA_usr_files = os.listdir(os.path.join(EMA_abs_path,'Lab')) # enjoy\n",
    "# mood_EMA_usr_files = os.listdir(os.path.join(EMA_abs_path,'Mood')) # happyornot, happy, sadornot, sad\n",
    "# class_2_EMA_usr_files = os.listdir(os.path.join(EMA_abs_path,'Class 2')) # challenge, effort, grade\n",
    "\n",
    "# len(social_EMA_usr_files),len(class_EMA_usr_files),len(sleep_EMA_usr_files),len(activity_EMA_usr_files),len(exercise_EMA_usr_files),len(study_space_EMA_usr_files),len(events_EMA_usr_files),len(dining_halls_EMA_usr_files),len(lab_EMA_usr_files),len(mood_EMA_usr_files),len(class_2_EMA_usr_files)\n"
   ]
  },
  {
   "cell_type": "code",
   "execution_count": 48,
   "metadata": {},
   "outputs": [
    {
     "name": "stdout",
     "output_type": "stream",
     "text": [
      "Social  EMA number of user files :  49\n",
      "Social  EMA number of question ID used :  1\n",
      "\n",
      "Class  EMA number of user files :  49\n",
      "Class  EMA number of question ID used :  3\n",
      "\n",
      "Sleep  EMA number of user files :  49\n",
      "Sleep  EMA number of question ID used :  3\n",
      "\n",
      "Activity  EMA number of user files :  49\n",
      "Activity  EMA number of question ID used :  4\n",
      "\n",
      "Exercise  EMA number of user files :  49\n",
      "Exercise  EMA number of question ID used :  4\n",
      "\n",
      "Study Spaces  EMA number of user files :  49\n",
      "Study Spaces  EMA number of question ID used :  2\n",
      "\n",
      "Events  EMA number of user files :  49\n",
      "Events  EMA number of question ID used :  2\n",
      "\n",
      "Dining Halls  EMA number of user files :  49\n",
      "Dining Halls  EMA number of question ID used :  3\n",
      "\n",
      "Lab  EMA number of user files :  49\n",
      "Lab  EMA number of question ID used :  1\n",
      "\n",
      "Mood  EMA number of user files :  49\n",
      "Mood  EMA number of question ID used :  4\n",
      "\n",
      "Class 2  EMA number of user files :  49\n",
      "Class 2  EMA number of question ID used :  3\n",
      "\n"
     ]
    },
    {
     "data": {
      "text/plain": [
       "(11, 11)"
      ]
     },
     "execution_count": 48,
     "metadata": {},
     "output_type": "execute_result"
    }
   ],
   "source": [
    "# gettting predictor dfs\n",
    "\n",
    "ema_folder_name_usr_files_di  = {}\n",
    "ema_folder_name_questions_id_li_di = {} \n",
    "ema_folder_name_li = ['Social','Class','Sleep','Activity','Exercise','Study Spaces','Events','Dining Halls','Lab' ,'Mood','Class 2']\n",
    "ema_questions_id_li = [['number'],['course_id','experience','due'],['hour','rate','social'],['working','relaxing','other_working','other_relaxing'],['have','schedule','exercise','walk'],['productivity','noise'],['positive','negative'],['breakfast','lunch','dinner'],['enjoy'],['happyornot','happy','sadornot','sad'],['challenge','effort','grade']]\n",
    "\n",
    "\n",
    "for ema_folder_name,ema_questions_id in zip(ema_folder_name_li,ema_questions_id_li):\n",
    "    ema_folder_name_usr_files_di[ema_folder_name] = os.listdir(os.path.join(EMA_abs_path,ema_folder_name)) \n",
    "    ema_folder_name_questions_id_li_di[ema_folder_name] = ema_questions_id\n",
    "    print(ema_folder_name,\" EMA number of user files : \", len(ema_folder_name_usr_files_di[ema_folder_name]))\n",
    "    print(ema_folder_name,\" EMA number of question ID used : \", len(ema_folder_name_questions_id_li_di[ema_folder_name]))\n",
    "    print()\n",
    "\n",
    "len(ema_folder_name_usr_files_di),len(ema_folder_name_questions_id_li_di)"
   ]
  },
  {
   "cell_type": "code",
   "execution_count": 92,
   "metadata": {},
   "outputs": [],
   "source": [
    "def get_ema_df(json_di,ema_type,question_id_li):\n",
    "    print(question_id_li)\n",
    "    print()\n",
    "    ema_data_di = defaultdict(list)\n",
    "\n",
    "\n",
    "    for user, val in tqdm(json_di.items()):\n",
    "        usr_id = user.split('.')[0].split('_')[1]\n",
    "        \n",
    "\n",
    "        for json_val in val:\n",
    "            if \"null\" in json_val: continue\n",
    "\n",
    "            ema_data_di['user_id'].append(usr_id)\n",
    "\n",
    "            for question_id in question_id_li:\n",
    "                if question_id in json_val:                \n",
    "                    ema_data_di[question_id+'_'+ ema_type].append(json_val[question_id])\n",
    "                else:\n",
    "                    ema_data_di[question_id+'_'+ ema_type].append('N/A')                    \n",
    "            \n",
    "            # store resp time info\n",
    "            time_info_di = get_info_from_timestamp(json_val['resp_time'])\n",
    "            for k,v in time_info_di.items():\n",
    "                ema_data_di[k].append(v)\n",
    "\n",
    "            # if len(ema_data_di['hour']) != len(ema_data_di['rate']) :\n",
    "            #     print(json_val)\n",
    "            #     print(usr_id)\n",
    "            #     break\n",
    "\n",
    "    # [print(k,len(v)) for k,v in ema_data_di.items()]\n",
    "\n",
    "    return pd.DataFrame(ema_data_di)"
   ]
  },
  {
   "cell_type": "code",
   "execution_count": 90,
   "metadata": {},
   "outputs": [],
   "source": [
    "# get_ema_df(get_json_di(ema_folder_name_usr_files_di['Sleep'],EMA_abs_path,'Sleep'),ema_folder_name_questions_id_li_di['Sleep'])"
   ]
  },
  {
   "cell_type": "code",
   "execution_count": 74,
   "metadata": {},
   "outputs": [
    {
     "name": "stdout",
     "output_type": "stream",
     "text": [
      "No of EMA files in :  Social  :  49\n",
      "['number']\n",
      "\n"
     ]
    },
    {
     "name": "stderr",
     "output_type": "stream",
     "text": [
      "100%|██████████| 49/49 [00:00<00:00, 1694.92it/s]\n"
     ]
    },
    {
     "data": {
      "text/html": [
       "<div>\n",
       "<style scoped>\n",
       "    .dataframe tbody tr th:only-of-type {\n",
       "        vertical-align: middle;\n",
       "    }\n",
       "\n",
       "    .dataframe tbody tr th {\n",
       "        vertical-align: top;\n",
       "    }\n",
       "\n",
       "    .dataframe thead th {\n",
       "        text-align: right;\n",
       "    }\n",
       "</style>\n",
       "<table border=\"1\" class=\"dataframe\">\n",
       "  <thead>\n",
       "    <tr style=\"text-align: right;\">\n",
       "      <th></th>\n",
       "      <th>user_id</th>\n",
       "      <th>number</th>\n",
       "      <th>date_time</th>\n",
       "      <th>year</th>\n",
       "      <th>month</th>\n",
       "      <th>day</th>\n",
       "      <th>hour</th>\n",
       "      <th>minute</th>\n",
       "      <th>weekday</th>\n",
       "      <th>weeknumber</th>\n",
       "    </tr>\n",
       "  </thead>\n",
       "  <tbody>\n",
       "    <tr>\n",
       "      <th>0</th>\n",
       "      <td>u22</td>\n",
       "      <td>2</td>\n",
       "      <td>04/02/2013, 11:22</td>\n",
       "      <td>2013</td>\n",
       "      <td>04</td>\n",
       "      <td>02</td>\n",
       "      <td>11</td>\n",
       "      <td>22</td>\n",
       "      <td>Tue</td>\n",
       "      <td>13</td>\n",
       "    </tr>\n",
       "    <tr>\n",
       "      <th>1</th>\n",
       "      <td>u22</td>\n",
       "      <td>3</td>\n",
       "      <td>03/29/2013, 17:21</td>\n",
       "      <td>2013</td>\n",
       "      <td>03</td>\n",
       "      <td>29</td>\n",
       "      <td>17</td>\n",
       "      <td>21</td>\n",
       "      <td>Fri</td>\n",
       "      <td>12</td>\n",
       "    </tr>\n",
       "    <tr>\n",
       "      <th>2</th>\n",
       "      <td>u22</td>\n",
       "      <td>3</td>\n",
       "      <td>03/29/2013, 21:41</td>\n",
       "      <td>2013</td>\n",
       "      <td>03</td>\n",
       "      <td>29</td>\n",
       "      <td>21</td>\n",
       "      <td>41</td>\n",
       "      <td>Fri</td>\n",
       "      <td>12</td>\n",
       "    </tr>\n",
       "    <tr>\n",
       "      <th>3</th>\n",
       "      <td>u22</td>\n",
       "      <td>1</td>\n",
       "      <td>04/03/2013, 21:21</td>\n",
       "      <td>2013</td>\n",
       "      <td>04</td>\n",
       "      <td>03</td>\n",
       "      <td>21</td>\n",
       "      <td>21</td>\n",
       "      <td>Wed</td>\n",
       "      <td>13</td>\n",
       "    </tr>\n",
       "    <tr>\n",
       "      <th>4</th>\n",
       "      <td>u22</td>\n",
       "      <td>3</td>\n",
       "      <td>04/03/2013, 18:14</td>\n",
       "      <td>2013</td>\n",
       "      <td>04</td>\n",
       "      <td>03</td>\n",
       "      <td>18</td>\n",
       "      <td>14</td>\n",
       "      <td>Wed</td>\n",
       "      <td>13</td>\n",
       "    </tr>\n",
       "    <tr>\n",
       "      <th>...</th>\n",
       "      <td>...</td>\n",
       "      <td>...</td>\n",
       "      <td>...</td>\n",
       "      <td>...</td>\n",
       "      <td>...</td>\n",
       "      <td>...</td>\n",
       "      <td>...</td>\n",
       "      <td>...</td>\n",
       "      <td>...</td>\n",
       "      <td>...</td>\n",
       "    </tr>\n",
       "    <tr>\n",
       "      <th>1164</th>\n",
       "      <td>u59</td>\n",
       "      <td>4</td>\n",
       "      <td>05/26/2013, 12:17</td>\n",
       "      <td>2013</td>\n",
       "      <td>05</td>\n",
       "      <td>26</td>\n",
       "      <td>12</td>\n",
       "      <td>17</td>\n",
       "      <td>Sun</td>\n",
       "      <td>20</td>\n",
       "    </tr>\n",
       "    <tr>\n",
       "      <th>1165</th>\n",
       "      <td>u59</td>\n",
       "      <td>3</td>\n",
       "      <td>06/05/2013, 17:05</td>\n",
       "      <td>2013</td>\n",
       "      <td>06</td>\n",
       "      <td>05</td>\n",
       "      <td>17</td>\n",
       "      <td>05</td>\n",
       "      <td>Wed</td>\n",
       "      <td>22</td>\n",
       "    </tr>\n",
       "    <tr>\n",
       "      <th>1166</th>\n",
       "      <td>u59</td>\n",
       "      <td>4</td>\n",
       "      <td>06/01/2013, 23:00</td>\n",
       "      <td>2013</td>\n",
       "      <td>06</td>\n",
       "      <td>01</td>\n",
       "      <td>23</td>\n",
       "      <td>00</td>\n",
       "      <td>Sat</td>\n",
       "      <td>21</td>\n",
       "    </tr>\n",
       "    <tr>\n",
       "      <th>1167</th>\n",
       "      <td>u59</td>\n",
       "      <td>3</td>\n",
       "      <td>06/04/2013, 16:18</td>\n",
       "      <td>2013</td>\n",
       "      <td>06</td>\n",
       "      <td>04</td>\n",
       "      <td>16</td>\n",
       "      <td>18</td>\n",
       "      <td>Tue</td>\n",
       "      <td>22</td>\n",
       "    </tr>\n",
       "    <tr>\n",
       "      <th>1168</th>\n",
       "      <td>u59</td>\n",
       "      <td>3</td>\n",
       "      <td>06/07/2013, 16:46</td>\n",
       "      <td>2013</td>\n",
       "      <td>06</td>\n",
       "      <td>07</td>\n",
       "      <td>16</td>\n",
       "      <td>46</td>\n",
       "      <td>Fri</td>\n",
       "      <td>22</td>\n",
       "    </tr>\n",
       "  </tbody>\n",
       "</table>\n",
       "<p>1169 rows × 10 columns</p>\n",
       "</div>"
      ],
      "text/plain": [
       "     user_id number          date_time  year month day hour minute weekday  \\\n",
       "0        u22      2  04/02/2013, 11:22  2013    04  02   11     22     Tue   \n",
       "1        u22      3  03/29/2013, 17:21  2013    03  29   17     21     Fri   \n",
       "2        u22      3  03/29/2013, 21:41  2013    03  29   21     41     Fri   \n",
       "3        u22      1  04/03/2013, 21:21  2013    04  03   21     21     Wed   \n",
       "4        u22      3  04/03/2013, 18:14  2013    04  03   18     14     Wed   \n",
       "...      ...    ...                ...   ...   ...  ..  ...    ...     ...   \n",
       "1164     u59      4  05/26/2013, 12:17  2013    05  26   12     17     Sun   \n",
       "1165     u59      3  06/05/2013, 17:05  2013    06  05   17     05     Wed   \n",
       "1166     u59      4  06/01/2013, 23:00  2013    06  01   23     00     Sat   \n",
       "1167     u59      3  06/04/2013, 16:18  2013    06  04   16     18     Tue   \n",
       "1168     u59      3  06/07/2013, 16:46  2013    06  07   16     46     Fri   \n",
       "\n",
       "     weeknumber  \n",
       "0            13  \n",
       "1            12  \n",
       "2            12  \n",
       "3            13  \n",
       "4            13  \n",
       "...         ...  \n",
       "1164         20  \n",
       "1165         22  \n",
       "1166         21  \n",
       "1167         22  \n",
       "1168         22  \n",
       "\n",
       "[1169 rows x 10 columns]"
      ]
     },
     "execution_count": 74,
     "metadata": {},
     "output_type": "execute_result"
    }
   ],
   "source": [
    "# get_ema_df(get_json_di(ema_folder_name_usr_files_di[k],EMA_abs_path,k),v)"
   ]
  },
  {
   "cell_type": "code",
   "execution_count": 93,
   "metadata": {},
   "outputs": [
    {
     "name": "stdout",
     "output_type": "stream",
     "text": [
      "Social\n",
      "No of EMA files in :  Social  :  49\n",
      "['number']\n",
      "\n"
     ]
    },
    {
     "name": "stderr",
     "output_type": "stream",
     "text": [
      "100%|██████████| 49/49 [00:00<00:00, 2295.66it/s]\n"
     ]
    },
    {
     "name": "stdout",
     "output_type": "stream",
     "text": [
      "Class\n",
      "No of EMA files in :  Class  :  49\n",
      "['course_id', 'experience', 'due']\n",
      "\n"
     ]
    },
    {
     "name": "stderr",
     "output_type": "stream",
     "text": [
      "100%|██████████| 49/49 [00:00<00:00, 3911.85it/s]\n"
     ]
    },
    {
     "name": "stdout",
     "output_type": "stream",
     "text": [
      "Sleep\n",
      "No of EMA files in :  Sleep  :  49\n",
      "['hour', 'rate', 'social']\n",
      "\n"
     ]
    },
    {
     "name": "stderr",
     "output_type": "stream",
     "text": [
      "100%|██████████| 49/49 [00:00<00:00, 2936.01it/s]\n"
     ]
    },
    {
     "name": "stdout",
     "output_type": "stream",
     "text": [
      "Activity\n",
      "No of EMA files in :  Activity  :  49\n",
      "['working', 'relaxing', 'other_working', 'other_relaxing']\n",
      "\n"
     ]
    },
    {
     "name": "stderr",
     "output_type": "stream",
     "text": [
      "100%|██████████| 49/49 [00:00<00:00, 8046.71it/s]\n"
     ]
    },
    {
     "name": "stdout",
     "output_type": "stream",
     "text": [
      "Exercise\n",
      "No of EMA files in :  Exercise  :  49\n",
      "['have', 'schedule', 'exercise', 'walk']\n",
      "\n"
     ]
    },
    {
     "name": "stderr",
     "output_type": "stream",
     "text": [
      "100%|██████████| 49/49 [00:00<00:00, 2507.09it/s]\n"
     ]
    },
    {
     "name": "stdout",
     "output_type": "stream",
     "text": [
      "Study Spaces\n",
      "No of EMA files in :  Study Spaces  :  49\n",
      "['productivity', 'noise']\n",
      "\n"
     ]
    },
    {
     "name": "stderr",
     "output_type": "stream",
     "text": [
      "100%|██████████| 49/49 [00:00<00:00, 6309.35it/s]\n"
     ]
    },
    {
     "name": "stdout",
     "output_type": "stream",
     "text": [
      "Events\n",
      "No of EMA files in :  Events  :  49\n",
      "['positive', 'negative']\n",
      "\n"
     ]
    },
    {
     "name": "stderr",
     "output_type": "stream",
     "text": [
      "100%|██████████| 49/49 [00:00<00:00, 17671.62it/s]\n"
     ]
    },
    {
     "name": "stdout",
     "output_type": "stream",
     "text": [
      "Dining Halls\n",
      "No of EMA files in :  Dining Halls  :  49\n",
      "['breakfast', 'lunch', 'dinner']\n",
      "\n"
     ]
    },
    {
     "name": "stderr",
     "output_type": "stream",
     "text": [
      "100%|██████████| 49/49 [00:00<00:00, 5554.92it/s]\n"
     ]
    },
    {
     "name": "stdout",
     "output_type": "stream",
     "text": [
      "Lab\n",
      "No of EMA files in :  Lab  :  49\n",
      "['enjoy']\n",
      "\n"
     ]
    },
    {
     "name": "stderr",
     "output_type": "stream",
     "text": [
      "100%|██████████| 49/49 [00:00<00:00, 19659.55it/s]\n"
     ]
    },
    {
     "name": "stdout",
     "output_type": "stream",
     "text": [
      "Mood\n",
      "No of EMA files in :  Mood  :  49\n",
      "['happyornot', 'happy', 'sadornot', 'sad']\n",
      "\n"
     ]
    },
    {
     "name": "stderr",
     "output_type": "stream",
     "text": [
      "100%|██████████| 49/49 [00:00<00:00, 6557.36it/s]\n"
     ]
    },
    {
     "name": "stdout",
     "output_type": "stream",
     "text": [
      "Class 2\n",
      "No of EMA files in :  Class 2  :  49\n",
      "['challenge', 'effort', 'grade']\n",
      "\n"
     ]
    },
    {
     "name": "stderr",
     "output_type": "stream",
     "text": [
      "100%|██████████| 49/49 [00:00<00:00, 15752.35it/s]\n"
     ]
    }
   ],
   "source": [
    "ema_df_di = {}\n",
    "\n",
    "for k,v in ema_folder_name_questions_id_li_di.items():\n",
    "    print(k)\n",
    "    ema_df_di[k] = get_ema_df(get_json_di(ema_folder_name_usr_files_di[k],EMA_abs_path,k),k,v)\n"
   ]
  },
  {
   "cell_type": "code",
   "execution_count": null,
   "metadata": {},
   "outputs": [],
   "source": []
  }
 ],
 "metadata": {
  "kernelspec": {
   "display_name": "Python 3.10.4 ('ucsd_hw')",
   "language": "python",
   "name": "python3"
  },
  "language_info": {
   "codemirror_mode": {
    "name": "ipython",
    "version": 3
   },
   "file_extension": ".py",
   "mimetype": "text/x-python",
   "name": "python",
   "nbconvert_exporter": "python",
   "pygments_lexer": "ipython3",
   "version": "3.10.4"
  },
  "orig_nbformat": 4,
  "vscode": {
   "interpreter": {
    "hash": "b527c3883f97d0c80049be9d21bf79bee304fc8cc62c9f8bd8d0aa656b2e9faa"
   }
  }
 },
 "nbformat": 4,
 "nbformat_minor": 2
}
