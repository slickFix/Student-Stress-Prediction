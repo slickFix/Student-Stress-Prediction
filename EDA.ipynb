{
 "cells": [
  {
   "cell_type": "markdown",
   "metadata": {},
   "source": [
    "## Importing libraries"
   ]
  },
  {
   "cell_type": "code",
   "execution_count": 1,
   "metadata": {},
   "outputs": [],
   "source": [
    "### importing libraries\n",
    "\n",
    "from datetime import datetime\n",
    "from collections import defaultdict\n",
    "from tqdm import tqdm\n",
    "\n",
    "import numpy as np\n",
    "import pandas as pd\n",
    "\n",
    "import json\n",
    "import os"
   ]
  },
  {
   "cell_type": "markdown",
   "metadata": {},
   "source": [
    "## Utility functions"
   ]
  },
  {
   "cell_type": "code",
   "execution_count": 2,
   "metadata": {},
   "outputs": [],
   "source": [
    "def get_info_from_timestamp(timestamp,date_and_time = True,year=True,month=True,day=True,hour=True,minute=True,second=False,weekday=True,weeknumber=True):\n",
    "    base = datetime.fromtimestamp(timestamp)\n",
    "    return_di = {}\n",
    "    if date_and_time:\n",
    "        return_di['date_time'] = base.strftime(\"%m/%d/%Y, %H:%M\")\n",
    "    if year:\n",
    "        return_di['year'] = base.strftime('%Y')\n",
    "    if month:\n",
    "        return_di['month'] = base.strftime(\"%m\")\n",
    "    if day:\n",
    "        return_di['day'] = base.strftime(\"%d\")\n",
    "    if hour:\n",
    "        return_di['hours'] = base.strftime(\"%H\")\n",
    "    if minute:\n",
    "        return_di['minute'] = base.strftime(\"%M\")\n",
    "    if second:\n",
    "        return_di['second'] = base.strftime(\"%S\")\n",
    "    if weekday:\n",
    "        return_di['weekday'] = base.strftime(\"%a\")\n",
    "    if weeknumber:\n",
    "        return_di['weeknumber'] = base.strftime(\"%W\")\n",
    "\n",
    "    return return_di"
   ]
  },
  {
   "cell_type": "markdown",
   "metadata": {
    "tags": []
   },
   "source": [
    "## Data Setup"
   ]
  },
  {
   "cell_type": "code",
   "execution_count": 3,
   "metadata": {},
   "outputs": [],
   "source": [
    "### seting the data directory\n",
    "\n",
    "EMA_rel_path = 'data/dataset/EMA/response/'"
   ]
  },
  {
   "cell_type": "code",
   "execution_count": 4,
   "metadata": {},
   "outputs": [
    {
     "data": {
      "text/plain": [
       "'/home/sidd/workspace/Student-Stress-Prediction'"
      ]
     },
     "execution_count": 4,
     "metadata": {},
     "output_type": "execute_result"
    }
   ],
   "source": [
    "cwd = os.getcwd()\n",
    "cwd"
   ]
  },
  {
   "cell_type": "code",
   "execution_count": 5,
   "metadata": {},
   "outputs": [
    {
     "data": {
      "text/plain": [
       "'/home/sidd/workspace/Student-Stress-Prediction/data/dataset/EMA/response/'"
      ]
     },
     "execution_count": 5,
     "metadata": {},
     "output_type": "execute_result"
    }
   ],
   "source": [
    "EMA_abs_path = os.path.join(cwd,EMA_rel_path)\n",
    "EMA_abs_path"
   ]
  },
  {
   "cell_type": "markdown",
   "metadata": {},
   "source": [
    "### Different \"LABEL\" EMA files"
   ]
  },
  {
   "cell_type": "code",
   "execution_count": 6,
   "metadata": {},
   "outputs": [
    {
     "data": {
      "text/plain": [
       "(49, 49)"
      ]
     },
     "execution_count": 6,
     "metadata": {},
     "output_type": "execute_result"
    }
   ],
   "source": [
    "### counting length of different \"category\" EMA files\n",
    "\n",
    "stress_EMA_usr_files = os.listdir(os.path.join(EMA_abs_path,'Stress'))\n",
    "mood2_EMA_usr_files = os.listdir(os.path.join(EMA_abs_path,'Mood 2'))\n",
    "\n",
    "\n",
    "len(stress_EMA_usr_files),len(mood2_EMA_usr_files)"
   ]
  },
  {
   "cell_type": "code",
   "execution_count": 7,
   "metadata": {},
   "outputs": [
    {
     "data": {
      "text/plain": [
       "('Stress_u52.json', 'Mood 2_u30.json')"
      ]
     },
     "execution_count": 7,
     "metadata": {},
     "output_type": "execute_result"
    }
   ],
   "source": [
    "stress_EMA_usr_files[0],mood2_EMA_usr_files[0]"
   ]
  },
  {
   "cell_type": "code",
   "execution_count": 8,
   "metadata": {},
   "outputs": [],
   "source": [
    "### Loading and Reading stress EMA files\n",
    "\n",
    "def get_json_di(EMA_usr_files_li,ema_abs_path,EMA_folder_name):\n",
    "    json_di = {}\n",
    "\n",
    "    for filename in EMA_usr_files_li:\n",
    "        filename_abs_path = os.path.join(ema_abs_path,EMA_folder_name,filename)\n",
    "        #print(filename_abs_path)\n",
    "        with open(filename_abs_path) as f:\n",
    "            json_di[filename] = json.load(f)\n",
    "\n",
    "\n",
    "    print(\"No of EMA files in : \", EMA_folder_name,\" : \", len(json_di))\n",
    "\n",
    "    return json_di\n",
    "\n"
   ]
  },
  {
   "cell_type": "code",
   "execution_count": 9,
   "metadata": {},
   "outputs": [
    {
     "name": "stdout",
     "output_type": "stream",
     "text": [
      "No of EMA files in :  Stress  :  49\n",
      "No of EMA files in :  Mood 2  :  49\n"
     ]
    }
   ],
   "source": [
    "### Loading and Reading EMA files\n",
    "\n",
    "stress_json_di = get_json_di(stress_EMA_usr_files,EMA_abs_path,'Stress')\n",
    "mood2_json_di = get_json_di(mood2_EMA_usr_files,EMA_abs_path,'Mood 2')"
   ]
  },
  {
   "cell_type": "code",
   "execution_count": 10,
   "metadata": {},
   "outputs": [],
   "source": [
    "# ### Loading and Reading mood 2 EMA files\n",
    "\n",
    "# mood2_json_di = {}\n",
    "\n",
    "# for filename in mood2_EMA_usr_files:\n",
    "#     filename_abs_path = os.path.join(EMA_abs_path,'Mood 2',filename)\n",
    "#     #print(filename_abs_path)\n",
    "#     with open(filename_abs_path) as f:\n",
    "#         stress_json_di[filename] = json.load(f)\n",
    "\n",
    "\n",
    "# print(len(stress_json_di))"
   ]
  },
  {
   "cell_type": "markdown",
   "metadata": {},
   "source": [
    "### Extracting different EMA files data"
   ]
  },
  {
   "cell_type": "code",
   "execution_count": 11,
   "metadata": {},
   "outputs": [],
   "source": [
    "def get_mood2_ema_df(json_di):\n",
    "    \n",
    "    ema_mood2_data_di = defaultdict(list)\n",
    "\n",
    "\n",
    "    for user, val in tqdm(json_di.items()):\n",
    "        usr_id = user.split('.')[0].split('_')[1]\n",
    "        \n",
    "\n",
    "        for json_val in val:\n",
    "            if 'how' in json_val:\n",
    "                \n",
    "                ema_mood2_data_di['user_id'].append(usr_id)\n",
    "                \n",
    "\n",
    "                time_info_di = get_info_from_timestamp(json_val['resp_time'])\n",
    "                for k,v in time_info_di.items():\n",
    "                    ema_mood2_data_di[k].append(v)\n",
    "\n",
    "                ema_mood2_data_di['label_source'].append(\"mood2_ema\")                \n",
    "                ema_mood2_data_di['rating'].append(json_val['how'])\n",
    "\n",
    "    return pd.DataFrame(ema_mood2_data_di)"
   ]
  },
  {
   "cell_type": "code",
   "execution_count": null,
   "metadata": {},
   "outputs": [],
   "source": []
  },
  {
   "cell_type": "code",
   "execution_count": 12,
   "metadata": {},
   "outputs": [],
   "source": [
    "def get_stress_ema_df(stress_json_di):\n",
    "    \n",
    "    ema_stress_data_di = defaultdict(list)\n",
    "\n",
    "\n",
    "    for user, val in tqdm(stress_json_di.items()):\n",
    "        usr_id = user.split('.')[0].split('_')[1]\n",
    "        \n",
    "\n",
    "        for json_val in val:\n",
    "            if 'level' in json_val:\n",
    "                \n",
    "                ema_stress_data_di['user_id'].append(usr_id)\n",
    "                \n",
    "\n",
    "                time_info_di = get_info_from_timestamp(json_val['resp_time'])\n",
    "                for k,v in time_info_di.items():\n",
    "                    ema_stress_data_di[k].append(v)\n",
    "\n",
    "                ema_stress_data_di['label_source'].append(\"stress_ema\")                \n",
    "                ema_stress_data_di['rating'].append(json_val['level'])\n",
    "\n",
    "    return pd.DataFrame(ema_stress_data_di)"
   ]
  },
  {
   "cell_type": "markdown",
   "metadata": {},
   "source": [
    "### Stress and Mood 2 EMA df's info"
   ]
  },
  {
   "cell_type": "code",
   "execution_count": 13,
   "metadata": {},
   "outputs": [
    {
     "name": "stderr",
     "output_type": "stream",
     "text": [
      "100%|██████████| 49/49 [00:00<00:00, 1792.13it/s]\n"
     ]
    },
    {
     "data": {
      "text/html": [
       "<div>\n",
       "<style scoped>\n",
       "    .dataframe tbody tr th:only-of-type {\n",
       "        vertical-align: middle;\n",
       "    }\n",
       "\n",
       "    .dataframe tbody tr th {\n",
       "        vertical-align: top;\n",
       "    }\n",
       "\n",
       "    .dataframe thead th {\n",
       "        text-align: right;\n",
       "    }\n",
       "</style>\n",
       "<table border=\"1\" class=\"dataframe\">\n",
       "  <thead>\n",
       "    <tr style=\"text-align: right;\">\n",
       "      <th></th>\n",
       "      <th>user_id</th>\n",
       "      <th>date_time</th>\n",
       "      <th>year</th>\n",
       "      <th>month</th>\n",
       "      <th>day</th>\n",
       "      <th>hours</th>\n",
       "      <th>minute</th>\n",
       "      <th>weekday</th>\n",
       "      <th>weeknumber</th>\n",
       "      <th>label_source</th>\n",
       "      <th>rating</th>\n",
       "    </tr>\n",
       "  </thead>\n",
       "  <tbody>\n",
       "    <tr>\n",
       "      <th>0</th>\n",
       "      <td>u52</td>\n",
       "      <td>03/30/2013, 15:24</td>\n",
       "      <td>2013</td>\n",
       "      <td>03</td>\n",
       "      <td>30</td>\n",
       "      <td>15</td>\n",
       "      <td>24</td>\n",
       "      <td>Sat</td>\n",
       "      <td>12</td>\n",
       "      <td>stress_ema</td>\n",
       "      <td>2</td>\n",
       "    </tr>\n",
       "    <tr>\n",
       "      <th>1</th>\n",
       "      <td>u52</td>\n",
       "      <td>03/28/2013, 15:03</td>\n",
       "      <td>2013</td>\n",
       "      <td>03</td>\n",
       "      <td>28</td>\n",
       "      <td>15</td>\n",
       "      <td>03</td>\n",
       "      <td>Thu</td>\n",
       "      <td>12</td>\n",
       "      <td>stress_ema</td>\n",
       "      <td>1</td>\n",
       "    </tr>\n",
       "    <tr>\n",
       "      <th>2</th>\n",
       "      <td>u52</td>\n",
       "      <td>03/31/2013, 15:11</td>\n",
       "      <td>2013</td>\n",
       "      <td>03</td>\n",
       "      <td>31</td>\n",
       "      <td>15</td>\n",
       "      <td>11</td>\n",
       "      <td>Sun</td>\n",
       "      <td>12</td>\n",
       "      <td>stress_ema</td>\n",
       "      <td>2</td>\n",
       "    </tr>\n",
       "    <tr>\n",
       "      <th>3</th>\n",
       "      <td>u52</td>\n",
       "      <td>04/02/2013, 17:24</td>\n",
       "      <td>2013</td>\n",
       "      <td>04</td>\n",
       "      <td>02</td>\n",
       "      <td>17</td>\n",
       "      <td>24</td>\n",
       "      <td>Tue</td>\n",
       "      <td>13</td>\n",
       "      <td>stress_ema</td>\n",
       "      <td>1</td>\n",
       "    </tr>\n",
       "    <tr>\n",
       "      <th>4</th>\n",
       "      <td>u52</td>\n",
       "      <td>04/02/2013, 23:44</td>\n",
       "      <td>2013</td>\n",
       "      <td>04</td>\n",
       "      <td>02</td>\n",
       "      <td>23</td>\n",
       "      <td>44</td>\n",
       "      <td>Tue</td>\n",
       "      <td>13</td>\n",
       "      <td>stress_ema</td>\n",
       "      <td>5</td>\n",
       "    </tr>\n",
       "  </tbody>\n",
       "</table>\n",
       "</div>"
      ],
      "text/plain": [
       "  user_id          date_time  year month day hours minute weekday weeknumber  \\\n",
       "0     u52  03/30/2013, 15:24  2013    03  30    15     24     Sat         12   \n",
       "1     u52  03/28/2013, 15:03  2013    03  28    15     03     Thu         12   \n",
       "2     u52  03/31/2013, 15:11  2013    03  31    15     11     Sun         12   \n",
       "3     u52  04/02/2013, 17:24  2013    04  02    17     24     Tue         13   \n",
       "4     u52  04/02/2013, 23:44  2013    04  02    23     44     Tue         13   \n",
       "\n",
       "  label_source rating  \n",
       "0   stress_ema      2  \n",
       "1   stress_ema      1  \n",
       "2   stress_ema      2  \n",
       "3   stress_ema      1  \n",
       "4   stress_ema      5  "
      ]
     },
     "execution_count": 13,
     "metadata": {},
     "output_type": "execute_result"
    }
   ],
   "source": [
    "stress_ema_df = get_stress_ema_df(stress_json_di)\n",
    "\n",
    "stress_ema_df.head()"
   ]
  },
  {
   "cell_type": "code",
   "execution_count": 14,
   "metadata": {},
   "outputs": [],
   "source": [
    "# for a,b in ema_stress_data_di.items():\n",
    "#     print(a,len(b))"
   ]
  },
  {
   "cell_type": "code",
   "execution_count": 15,
   "metadata": {},
   "outputs": [
    {
     "name": "stdout",
     "output_type": "stream",
     "text": [
      "<class 'pandas.core.frame.DataFrame'>\n",
      "RangeIndex: 2167 entries, 0 to 2166\n",
      "Data columns (total 11 columns):\n",
      " #   Column        Non-Null Count  Dtype \n",
      "---  ------        --------------  ----- \n",
      " 0   user_id       2167 non-null   object\n",
      " 1   date_time     2167 non-null   object\n",
      " 2   year          2167 non-null   object\n",
      " 3   month         2167 non-null   object\n",
      " 4   day           2167 non-null   object\n",
      " 5   hours         2167 non-null   object\n",
      " 6   minute        2167 non-null   object\n",
      " 7   weekday       2167 non-null   object\n",
      " 8   weeknumber    2167 non-null   object\n",
      " 9   label_source  2167 non-null   object\n",
      " 10  rating        2167 non-null   object\n",
      "dtypes: object(11)\n",
      "memory usage: 186.4+ KB\n"
     ]
    }
   ],
   "source": [
    "stress_ema_df.info()"
   ]
  },
  {
   "cell_type": "code",
   "execution_count": 16,
   "metadata": {},
   "outputs": [
    {
     "data": {
      "text/html": [
       "<div>\n",
       "<style scoped>\n",
       "    .dataframe tbody tr th:only-of-type {\n",
       "        vertical-align: middle;\n",
       "    }\n",
       "\n",
       "    .dataframe tbody tr th {\n",
       "        vertical-align: top;\n",
       "    }\n",
       "\n",
       "    .dataframe thead th {\n",
       "        text-align: right;\n",
       "    }\n",
       "</style>\n",
       "<table border=\"1\" class=\"dataframe\">\n",
       "  <thead>\n",
       "    <tr style=\"text-align: right;\">\n",
       "      <th></th>\n",
       "      <th>user_id</th>\n",
       "      <th>date_time</th>\n",
       "      <th>year</th>\n",
       "      <th>month</th>\n",
       "      <th>day</th>\n",
       "      <th>hours</th>\n",
       "      <th>minute</th>\n",
       "      <th>weekday</th>\n",
       "      <th>weeknumber</th>\n",
       "      <th>label_source</th>\n",
       "      <th>rating</th>\n",
       "    </tr>\n",
       "  </thead>\n",
       "  <tbody>\n",
       "    <tr>\n",
       "      <th>count</th>\n",
       "      <td>2167</td>\n",
       "      <td>2167</td>\n",
       "      <td>2167</td>\n",
       "      <td>2167</td>\n",
       "      <td>2167</td>\n",
       "      <td>2167</td>\n",
       "      <td>2167</td>\n",
       "      <td>2167</td>\n",
       "      <td>2167</td>\n",
       "      <td>2167</td>\n",
       "      <td>2167</td>\n",
       "    </tr>\n",
       "    <tr>\n",
       "      <th>unique</th>\n",
       "      <td>48</td>\n",
       "      <td>1907</td>\n",
       "      <td>1</td>\n",
       "      <td>5</td>\n",
       "      <td>31</td>\n",
       "      <td>24</td>\n",
       "      <td>60</td>\n",
       "      <td>7</td>\n",
       "      <td>13</td>\n",
       "      <td>1</td>\n",
       "      <td>5</td>\n",
       "    </tr>\n",
       "    <tr>\n",
       "      <th>top</th>\n",
       "      <td>u59</td>\n",
       "      <td>05/01/2013, 02:16</td>\n",
       "      <td>2013</td>\n",
       "      <td>04</td>\n",
       "      <td>29</td>\n",
       "      <td>21</td>\n",
       "      <td>00</td>\n",
       "      <td>Wed</td>\n",
       "      <td>13</td>\n",
       "      <td>stress_ema</td>\n",
       "      <td>1</td>\n",
       "    </tr>\n",
       "    <tr>\n",
       "      <th>freq</th>\n",
       "      <td>269</td>\n",
       "      <td>8</td>\n",
       "      <td>2167</td>\n",
       "      <td>1328</td>\n",
       "      <td>134</td>\n",
       "      <td>215</td>\n",
       "      <td>166</td>\n",
       "      <td>374</td>\n",
       "      <td>429</td>\n",
       "      <td>2167</td>\n",
       "      <td>974</td>\n",
       "    </tr>\n",
       "  </tbody>\n",
       "</table>\n",
       "</div>"
      ],
      "text/plain": [
       "       user_id          date_time  year month   day hours minute weekday  \\\n",
       "count     2167               2167  2167  2167  2167  2167   2167    2167   \n",
       "unique      48               1907     1     5    31    24     60       7   \n",
       "top        u59  05/01/2013, 02:16  2013    04    29    21     00     Wed   \n",
       "freq       269                  8  2167  1328   134   215    166     374   \n",
       "\n",
       "       weeknumber label_source rating  \n",
       "count        2167         2167   2167  \n",
       "unique         13            1      5  \n",
       "top            13   stress_ema      1  \n",
       "freq          429         2167    974  "
      ]
     },
     "execution_count": 16,
     "metadata": {},
     "output_type": "execute_result"
    }
   ],
   "source": [
    "stress_ema_df.describe()"
   ]
  },
  {
   "cell_type": "code",
   "execution_count": 17,
   "metadata": {},
   "outputs": [
    {
     "data": {
      "text/plain": [
       "48"
      ]
     },
     "execution_count": 17,
     "metadata": {},
     "output_type": "execute_result"
    }
   ],
   "source": [
    "stress_ema_df['user_id'].nunique()"
   ]
  },
  {
   "cell_type": "code",
   "execution_count": 18,
   "metadata": {},
   "outputs": [
    {
     "name": "stderr",
     "output_type": "stream",
     "text": [
      "100%|██████████| 49/49 [00:00<00:00, 4694.40it/s]\n"
     ]
    },
    {
     "data": {
      "text/html": [
       "<div>\n",
       "<style scoped>\n",
       "    .dataframe tbody tr th:only-of-type {\n",
       "        vertical-align: middle;\n",
       "    }\n",
       "\n",
       "    .dataframe tbody tr th {\n",
       "        vertical-align: top;\n",
       "    }\n",
       "\n",
       "    .dataframe thead th {\n",
       "        text-align: right;\n",
       "    }\n",
       "</style>\n",
       "<table border=\"1\" class=\"dataframe\">\n",
       "  <thead>\n",
       "    <tr style=\"text-align: right;\">\n",
       "      <th></th>\n",
       "      <th>user_id</th>\n",
       "      <th>date_time</th>\n",
       "      <th>year</th>\n",
       "      <th>month</th>\n",
       "      <th>day</th>\n",
       "      <th>hours</th>\n",
       "      <th>minute</th>\n",
       "      <th>weekday</th>\n",
       "      <th>weeknumber</th>\n",
       "      <th>label_source</th>\n",
       "      <th>rating</th>\n",
       "    </tr>\n",
       "  </thead>\n",
       "  <tbody>\n",
       "    <tr>\n",
       "      <th>0</th>\n",
       "      <td>u17</td>\n",
       "      <td>04/26/2013, 16:09</td>\n",
       "      <td>2013</td>\n",
       "      <td>04</td>\n",
       "      <td>26</td>\n",
       "      <td>16</td>\n",
       "      <td>09</td>\n",
       "      <td>Fri</td>\n",
       "      <td>16</td>\n",
       "      <td>mood2_ema</td>\n",
       "      <td>2</td>\n",
       "    </tr>\n",
       "    <tr>\n",
       "      <th>1</th>\n",
       "      <td>u17</td>\n",
       "      <td>04/26/2013, 00:27</td>\n",
       "      <td>2013</td>\n",
       "      <td>04</td>\n",
       "      <td>26</td>\n",
       "      <td>00</td>\n",
       "      <td>27</td>\n",
       "      <td>Fri</td>\n",
       "      <td>16</td>\n",
       "      <td>mood2_ema</td>\n",
       "      <td>2</td>\n",
       "    </tr>\n",
       "    <tr>\n",
       "      <th>2</th>\n",
       "      <td>u17</td>\n",
       "      <td>04/27/2013, 17:23</td>\n",
       "      <td>2013</td>\n",
       "      <td>04</td>\n",
       "      <td>27</td>\n",
       "      <td>17</td>\n",
       "      <td>23</td>\n",
       "      <td>Sat</td>\n",
       "      <td>16</td>\n",
       "      <td>mood2_ema</td>\n",
       "      <td>3</td>\n",
       "    </tr>\n",
       "    <tr>\n",
       "      <th>3</th>\n",
       "      <td>u17</td>\n",
       "      <td>04/28/2013, 21:33</td>\n",
       "      <td>2013</td>\n",
       "      <td>04</td>\n",
       "      <td>28</td>\n",
       "      <td>21</td>\n",
       "      <td>33</td>\n",
       "      <td>Sun</td>\n",
       "      <td>16</td>\n",
       "      <td>mood2_ema</td>\n",
       "      <td>2</td>\n",
       "    </tr>\n",
       "    <tr>\n",
       "      <th>4</th>\n",
       "      <td>u17</td>\n",
       "      <td>05/13/2013, 20:59</td>\n",
       "      <td>2013</td>\n",
       "      <td>05</td>\n",
       "      <td>13</td>\n",
       "      <td>20</td>\n",
       "      <td>59</td>\n",
       "      <td>Mon</td>\n",
       "      <td>19</td>\n",
       "      <td>mood2_ema</td>\n",
       "      <td>2</td>\n",
       "    </tr>\n",
       "  </tbody>\n",
       "</table>\n",
       "</div>"
      ],
      "text/plain": [
       "  user_id          date_time  year month day hours minute weekday weeknumber  \\\n",
       "0     u17  04/26/2013, 16:09  2013    04  26    16     09     Fri         16   \n",
       "1     u17  04/26/2013, 00:27  2013    04  26    00     27     Fri         16   \n",
       "2     u17  04/27/2013, 17:23  2013    04  27    17     23     Sat         16   \n",
       "3     u17  04/28/2013, 21:33  2013    04  28    21     33     Sun         16   \n",
       "4     u17  05/13/2013, 20:59  2013    05  13    20     59     Mon         19   \n",
       "\n",
       "  label_source rating  \n",
       "0    mood2_ema      2  \n",
       "1    mood2_ema      2  \n",
       "2    mood2_ema      3  \n",
       "3    mood2_ema      2  \n",
       "4    mood2_ema      2  "
      ]
     },
     "execution_count": 18,
     "metadata": {},
     "output_type": "execute_result"
    }
   ],
   "source": [
    "mood2_ema_df = get_mood2_ema_df(mood2_json_di)\n",
    "\n",
    "mood2_ema_df.head()"
   ]
  },
  {
   "cell_type": "code",
   "execution_count": 19,
   "metadata": {},
   "outputs": [
    {
     "name": "stdout",
     "output_type": "stream",
     "text": [
      "<class 'pandas.core.frame.DataFrame'>\n",
      "RangeIndex: 417 entries, 0 to 416\n",
      "Data columns (total 11 columns):\n",
      " #   Column        Non-Null Count  Dtype \n",
      "---  ------        --------------  ----- \n",
      " 0   user_id       417 non-null    object\n",
      " 1   date_time     417 non-null    object\n",
      " 2   year          417 non-null    object\n",
      " 3   month         417 non-null    object\n",
      " 4   day           417 non-null    object\n",
      " 5   hours         417 non-null    object\n",
      " 6   minute        417 non-null    object\n",
      " 7   weekday       417 non-null    object\n",
      " 8   weeknumber    417 non-null    object\n",
      " 9   label_source  417 non-null    object\n",
      " 10  rating        417 non-null    object\n",
      "dtypes: object(11)\n",
      "memory usage: 36.0+ KB\n"
     ]
    }
   ],
   "source": [
    "mood2_ema_df.info()"
   ]
  },
  {
   "cell_type": "code",
   "execution_count": 20,
   "metadata": {},
   "outputs": [
    {
     "data": {
      "text/html": [
       "<div>\n",
       "<style scoped>\n",
       "    .dataframe tbody tr th:only-of-type {\n",
       "        vertical-align: middle;\n",
       "    }\n",
       "\n",
       "    .dataframe tbody tr th {\n",
       "        vertical-align: top;\n",
       "    }\n",
       "\n",
       "    .dataframe thead th {\n",
       "        text-align: right;\n",
       "    }\n",
       "</style>\n",
       "<table border=\"1\" class=\"dataframe\">\n",
       "  <thead>\n",
       "    <tr style=\"text-align: right;\">\n",
       "      <th></th>\n",
       "      <th>user_id</th>\n",
       "      <th>date_time</th>\n",
       "      <th>year</th>\n",
       "      <th>month</th>\n",
       "      <th>day</th>\n",
       "      <th>hours</th>\n",
       "      <th>minute</th>\n",
       "      <th>weekday</th>\n",
       "      <th>weeknumber</th>\n",
       "      <th>label_source</th>\n",
       "      <th>rating</th>\n",
       "    </tr>\n",
       "  </thead>\n",
       "  <tbody>\n",
       "    <tr>\n",
       "      <th>count</th>\n",
       "      <td>417</td>\n",
       "      <td>417</td>\n",
       "      <td>417</td>\n",
       "      <td>417</td>\n",
       "      <td>417</td>\n",
       "      <td>417</td>\n",
       "      <td>417</td>\n",
       "      <td>417</td>\n",
       "      <td>417</td>\n",
       "      <td>417</td>\n",
       "      <td>417</td>\n",
       "    </tr>\n",
       "    <tr>\n",
       "      <th>unique</th>\n",
       "      <td>37</td>\n",
       "      <td>398</td>\n",
       "      <td>1</td>\n",
       "      <td>3</td>\n",
       "      <td>31</td>\n",
       "      <td>22</td>\n",
       "      <td>60</td>\n",
       "      <td>7</td>\n",
       "      <td>7</td>\n",
       "      <td>1</td>\n",
       "      <td>3</td>\n",
       "    </tr>\n",
       "    <tr>\n",
       "      <th>top</th>\n",
       "      <td>u59</td>\n",
       "      <td>05/10/2013, 17:00</td>\n",
       "      <td>2013</td>\n",
       "      <td>05</td>\n",
       "      <td>26</td>\n",
       "      <td>17</td>\n",
       "      <td>00</td>\n",
       "      <td>Fri</td>\n",
       "      <td>18</td>\n",
       "      <td>mood2_ema</td>\n",
       "      <td>1</td>\n",
       "    </tr>\n",
       "    <tr>\n",
       "      <th>freq</th>\n",
       "      <td>98</td>\n",
       "      <td>3</td>\n",
       "      <td>417</td>\n",
       "      <td>338</td>\n",
       "      <td>30</td>\n",
       "      <td>124</td>\n",
       "      <td>30</td>\n",
       "      <td>81</td>\n",
       "      <td>109</td>\n",
       "      <td>417</td>\n",
       "      <td>180</td>\n",
       "    </tr>\n",
       "  </tbody>\n",
       "</table>\n",
       "</div>"
      ],
      "text/plain": [
       "       user_id          date_time  year month  day hours minute weekday  \\\n",
       "count      417                417   417   417  417   417    417     417   \n",
       "unique      37                398     1     3   31    22     60       7   \n",
       "top        u59  05/10/2013, 17:00  2013    05   26    17     00     Fri   \n",
       "freq        98                  3   417   338   30   124     30      81   \n",
       "\n",
       "       weeknumber label_source rating  \n",
       "count         417          417    417  \n",
       "unique          7            1      3  \n",
       "top            18    mood2_ema      1  \n",
       "freq          109          417    180  "
      ]
     },
     "execution_count": 20,
     "metadata": {},
     "output_type": "execute_result"
    }
   ],
   "source": [
    "mood2_ema_df.describe()"
   ]
  },
  {
   "cell_type": "markdown",
   "metadata": {},
   "source": [
    "### Plotting Stress and Mood 2 df value spread"
   ]
  },
  {
   "cell_type": "code",
   "execution_count": 21,
   "metadata": {},
   "outputs": [
    {
     "data": {
      "text/plain": [
       "[Text(0, 0, '98'),\n",
       " Text(0, 0, '36'),\n",
       " Text(0, 0, '24'),\n",
       " Text(0, 0, '19'),\n",
       " Text(0, 0, '18'),\n",
       " Text(0, 0, '18'),\n",
       " Text(0, 0, '16'),\n",
       " Text(0, 0, '15'),\n",
       " Text(0, 0, '15'),\n",
       " Text(0, 0, '13'),\n",
       " Text(0, 0, '12'),\n",
       " Text(0, 0, '12'),\n",
       " Text(0, 0, '12'),\n",
       " Text(0, 0, '11'),\n",
       " Text(0, 0, '11'),\n",
       " Text(0, 0, '8'),\n",
       " Text(0, 0, '7'),\n",
       " Text(0, 0, '7'),\n",
       " Text(0, 0, '7'),\n",
       " Text(0, 0, '7'),\n",
       " Text(0, 0, '6'),\n",
       " Text(0, 0, '6'),\n",
       " Text(0, 0, '4'),\n",
       " Text(0, 0, '4'),\n",
       " Text(0, 0, '4'),\n",
       " Text(0, 0, '4'),\n",
       " Text(0, 0, '3'),\n",
       " Text(0, 0, '3'),\n",
       " Text(0, 0, '3'),\n",
       " Text(0, 0, '3'),\n",
       " Text(0, 0, '2'),\n",
       " Text(0, 0, '2'),\n",
       " Text(0, 0, '2'),\n",
       " Text(0, 0, '2'),\n",
       " Text(0, 0, '1'),\n",
       " Text(0, 0, '1'),\n",
       " Text(0, 0, '1')]"
      ]
     },
     "execution_count": 21,
     "metadata": {},
     "output_type": "execute_result"
    },
    {
     "data": {
      "image/png": "[encoded data removed]",
      "text/plain": [
       "<Figure size 2500x1000 with 1 Axes>"
      ]
     },
     "metadata": {},
     "output_type": "display_data"
    }
   ],
   "source": [
    "ax = mood2_ema_df['user_id'].value_counts().plot.bar(figsize=(25, 10))\n",
    "ax.bar_label(ax.containers[0])"
   ]
  },
  {
   "cell_type": "code",
   "execution_count": 22,
   "metadata": {},
   "outputs": [
    {
     "data": {
      "text/plain": [
       "[Text(0, 0, '180'), Text(0, 0, '131'), Text(0, 0, '106')]"
      ]
     },
     "execution_count": 22,
     "metadata": {},
     "output_type": "execute_result"
    },
    {
     "data": {
      "image/png": "[encoded data removed]",
      "text/plain": [
       "<Figure size 2500x1000 with 1 Axes>"
      ]
     },
     "metadata": {},
     "output_type": "display_data"
    }
   ],
   "source": [
    "ax = mood2_ema_df['rating'].value_counts().plot.bar(figsize=(25, 10))\n",
    "ax.bar_label(ax.containers[0])"
   ]
  },
  {
   "cell_type": "code",
   "execution_count": null,
   "metadata": {},
   "outputs": [],
   "source": []
  },
  {
   "cell_type": "code",
   "execution_count": 23,
   "metadata": {},
   "outputs": [],
   "source": [
    "# ### Data processing\n",
    "\n",
    "\n",
    "# stress_ema_df['date_time'] = pd.to_datetime(stress_ema_df['date_time'])\n",
    "# stress_ema_df = stress_ema_df.set_index('date_time')\n"
   ]
  },
  {
   "cell_type": "code",
   "execution_count": 24,
   "metadata": {},
   "outputs": [
    {
     "data": {
      "text/html": [
       "<div>\n",
       "<style scoped>\n",
       "    .dataframe tbody tr th:only-of-type {\n",
       "        vertical-align: middle;\n",
       "    }\n",
       "\n",
       "    .dataframe tbody tr th {\n",
       "        vertical-align: top;\n",
       "    }\n",
       "\n",
       "    .dataframe thead th {\n",
       "        text-align: right;\n",
       "    }\n",
       "</style>\n",
       "<table border=\"1\" class=\"dataframe\">\n",
       "  <thead>\n",
       "    <tr style=\"text-align: right;\">\n",
       "      <th></th>\n",
       "      <th>user_id</th>\n",
       "      <th>date_time</th>\n",
       "      <th>year</th>\n",
       "      <th>month</th>\n",
       "      <th>day</th>\n",
       "      <th>hours</th>\n",
       "      <th>minute</th>\n",
       "      <th>weekday</th>\n",
       "      <th>weeknumber</th>\n",
       "      <th>label_source</th>\n",
       "      <th>rating</th>\n",
       "    </tr>\n",
       "  </thead>\n",
       "  <tbody>\n",
       "    <tr>\n",
       "      <th>0</th>\n",
       "      <td>u52</td>\n",
       "      <td>03/30/2013, 15:24</td>\n",
       "      <td>2013</td>\n",
       "      <td>03</td>\n",
       "      <td>30</td>\n",
       "      <td>15</td>\n",
       "      <td>24</td>\n",
       "      <td>Sat</td>\n",
       "      <td>12</td>\n",
       "      <td>stress_ema</td>\n",
       "      <td>2</td>\n",
       "    </tr>\n",
       "    <tr>\n",
       "      <th>1</th>\n",
       "      <td>u52</td>\n",
       "      <td>03/28/2013, 15:03</td>\n",
       "      <td>2013</td>\n",
       "      <td>03</td>\n",
       "      <td>28</td>\n",
       "      <td>15</td>\n",
       "      <td>03</td>\n",
       "      <td>Thu</td>\n",
       "      <td>12</td>\n",
       "      <td>stress_ema</td>\n",
       "      <td>1</td>\n",
       "    </tr>\n",
       "    <tr>\n",
       "      <th>2</th>\n",
       "      <td>u52</td>\n",
       "      <td>03/31/2013, 15:11</td>\n",
       "      <td>2013</td>\n",
       "      <td>03</td>\n",
       "      <td>31</td>\n",
       "      <td>15</td>\n",
       "      <td>11</td>\n",
       "      <td>Sun</td>\n",
       "      <td>12</td>\n",
       "      <td>stress_ema</td>\n",
       "      <td>2</td>\n",
       "    </tr>\n",
       "    <tr>\n",
       "      <th>3</th>\n",
       "      <td>u52</td>\n",
       "      <td>04/02/2013, 17:24</td>\n",
       "      <td>2013</td>\n",
       "      <td>04</td>\n",
       "      <td>02</td>\n",
       "      <td>17</td>\n",
       "      <td>24</td>\n",
       "      <td>Tue</td>\n",
       "      <td>13</td>\n",
       "      <td>stress_ema</td>\n",
       "      <td>1</td>\n",
       "    </tr>\n",
       "    <tr>\n",
       "      <th>4</th>\n",
       "      <td>u52</td>\n",
       "      <td>04/02/2013, 23:44</td>\n",
       "      <td>2013</td>\n",
       "      <td>04</td>\n",
       "      <td>02</td>\n",
       "      <td>23</td>\n",
       "      <td>44</td>\n",
       "      <td>Tue</td>\n",
       "      <td>13</td>\n",
       "      <td>stress_ema</td>\n",
       "      <td>5</td>\n",
       "    </tr>\n",
       "  </tbody>\n",
       "</table>\n",
       "</div>"
      ],
      "text/plain": [
       "  user_id          date_time  year month day hours minute weekday weeknumber  \\\n",
       "0     u52  03/30/2013, 15:24  2013    03  30    15     24     Sat         12   \n",
       "1     u52  03/28/2013, 15:03  2013    03  28    15     03     Thu         12   \n",
       "2     u52  03/31/2013, 15:11  2013    03  31    15     11     Sun         12   \n",
       "3     u52  04/02/2013, 17:24  2013    04  02    17     24     Tue         13   \n",
       "4     u52  04/02/2013, 23:44  2013    04  02    23     44     Tue         13   \n",
       "\n",
       "  label_source rating  \n",
       "0   stress_ema      2  \n",
       "1   stress_ema      1  \n",
       "2   stress_ema      2  \n",
       "3   stress_ema      1  \n",
       "4   stress_ema      5  "
      ]
     },
     "execution_count": 24,
     "metadata": {},
     "output_type": "execute_result"
    }
   ],
   "source": [
    "stress_ema_df.head()"
   ]
  },
  {
   "cell_type": "code",
   "execution_count": 25,
   "metadata": {},
   "outputs": [
    {
     "data": {
      "text/plain": [
       "48"
      ]
     },
     "execution_count": 25,
     "metadata": {},
     "output_type": "execute_result"
    }
   ],
   "source": [
    "len(stress_ema_df['user_id'].value_counts())"
   ]
  },
  {
   "cell_type": "code",
   "execution_count": 26,
   "metadata": {},
   "outputs": [
    {
     "data": {
      "text/plain": [
       "[Text(0, 0, '269'),\n",
       " Text(0, 0, '107'),\n",
       " Text(0, 0, '106'),\n",
       " Text(0, 0, '91'),\n",
       " Text(0, 0, '90'),\n",
       " Text(0, 0, '87'),\n",
       " Text(0, 0, '77'),\n",
       " Text(0, 0, '74'),\n",
       " Text(0, 0, '67'),\n",
       " Text(0, 0, '66'),\n",
       " Text(0, 0, '61'),\n",
       " Text(0, 0, '58'),\n",
       " Text(0, 0, '56'),\n",
       " Text(0, 0, '55'),\n",
       " Text(0, 0, '55'),\n",
       " Text(0, 0, '53'),\n",
       " Text(0, 0, '44'),\n",
       " Text(0, 0, '44'),\n",
       " Text(0, 0, '43'),\n",
       " Text(0, 0, '42'),\n",
       " Text(0, 0, '41'),\n",
       " Text(0, 0, '39'),\n",
       " Text(0, 0, '39'),\n",
       " Text(0, 0, '38'),\n",
       " Text(0, 0, '37'),\n",
       " Text(0, 0, '33'),\n",
       " Text(0, 0, '32'),\n",
       " Text(0, 0, '30'),\n",
       " Text(0, 0, '30'),\n",
       " Text(0, 0, '30'),\n",
       " Text(0, 0, '29'),\n",
       " Text(0, 0, '29'),\n",
       " Text(0, 0, '28'),\n",
       " Text(0, 0, '25'),\n",
       " Text(0, 0, '20'),\n",
       " Text(0, 0, '20'),\n",
       " Text(0, 0, '19'),\n",
       " Text(0, 0, '16'),\n",
       " Text(0, 0, '13'),\n",
       " Text(0, 0, '12'),\n",
       " Text(0, 0, '11'),\n",
       " Text(0, 0, '10'),\n",
       " Text(0, 0, '10'),\n",
       " Text(0, 0, '10'),\n",
       " Text(0, 0, '8'),\n",
       " Text(0, 0, '6'),\n",
       " Text(0, 0, '4'),\n",
       " Text(0, 0, '3')]"
      ]
     },
     "execution_count": 26,
     "metadata": {},
     "output_type": "execute_result"
    },
    {
     "data": {
      "image/png": "[encoded data removed]",
      "text/plain": [
       "<Figure size 2500x1000 with 1 Axes>"
      ]
     },
     "metadata": {},
     "output_type": "display_data"
    }
   ],
   "source": [
    "ax = stress_ema_df['user_id'].value_counts().plot.bar(figsize=(25, 10))\n",
    "ax.bar_label(ax.containers[0])"
   ]
  },
  {
   "cell_type": "code",
   "execution_count": 27,
   "metadata": {},
   "outputs": [
    {
     "data": {
      "text/html": [
       "<div>\n",
       "<style scoped>\n",
       "    .dataframe tbody tr th:only-of-type {\n",
       "        vertical-align: middle;\n",
       "    }\n",
       "\n",
       "    .dataframe tbody tr th {\n",
       "        vertical-align: top;\n",
       "    }\n",
       "\n",
       "    .dataframe thead th {\n",
       "        text-align: right;\n",
       "    }\n",
       "</style>\n",
       "<table border=\"1\" class=\"dataframe\">\n",
       "  <thead>\n",
       "    <tr style=\"text-align: right;\">\n",
       "      <th></th>\n",
       "      <th>user_id</th>\n",
       "      <th>date_time</th>\n",
       "      <th>year</th>\n",
       "      <th>month</th>\n",
       "      <th>day</th>\n",
       "      <th>hours</th>\n",
       "      <th>minute</th>\n",
       "      <th>weekday</th>\n",
       "      <th>weeknumber</th>\n",
       "      <th>label_source</th>\n",
       "      <th>rating</th>\n",
       "    </tr>\n",
       "  </thead>\n",
       "  <tbody>\n",
       "    <tr>\n",
       "      <th>0</th>\n",
       "      <td>u52</td>\n",
       "      <td>03/30/2013, 15:24</td>\n",
       "      <td>2013</td>\n",
       "      <td>03</td>\n",
       "      <td>30</td>\n",
       "      <td>15</td>\n",
       "      <td>24</td>\n",
       "      <td>Sat</td>\n",
       "      <td>12</td>\n",
       "      <td>stress_ema</td>\n",
       "      <td>2</td>\n",
       "    </tr>\n",
       "    <tr>\n",
       "      <th>1</th>\n",
       "      <td>u52</td>\n",
       "      <td>03/28/2013, 15:03</td>\n",
       "      <td>2013</td>\n",
       "      <td>03</td>\n",
       "      <td>28</td>\n",
       "      <td>15</td>\n",
       "      <td>03</td>\n",
       "      <td>Thu</td>\n",
       "      <td>12</td>\n",
       "      <td>stress_ema</td>\n",
       "      <td>1</td>\n",
       "    </tr>\n",
       "    <tr>\n",
       "      <th>2</th>\n",
       "      <td>u52</td>\n",
       "      <td>03/31/2013, 15:11</td>\n",
       "      <td>2013</td>\n",
       "      <td>03</td>\n",
       "      <td>31</td>\n",
       "      <td>15</td>\n",
       "      <td>11</td>\n",
       "      <td>Sun</td>\n",
       "      <td>12</td>\n",
       "      <td>stress_ema</td>\n",
       "      <td>2</td>\n",
       "    </tr>\n",
       "    <tr>\n",
       "      <th>3</th>\n",
       "      <td>u52</td>\n",
       "      <td>04/02/2013, 17:24</td>\n",
       "      <td>2013</td>\n",
       "      <td>04</td>\n",
       "      <td>02</td>\n",
       "      <td>17</td>\n",
       "      <td>24</td>\n",
       "      <td>Tue</td>\n",
       "      <td>13</td>\n",
       "      <td>stress_ema</td>\n",
       "      <td>1</td>\n",
       "    </tr>\n",
       "    <tr>\n",
       "      <th>4</th>\n",
       "      <td>u52</td>\n",
       "      <td>04/02/2013, 23:44</td>\n",
       "      <td>2013</td>\n",
       "      <td>04</td>\n",
       "      <td>02</td>\n",
       "      <td>23</td>\n",
       "      <td>44</td>\n",
       "      <td>Tue</td>\n",
       "      <td>13</td>\n",
       "      <td>stress_ema</td>\n",
       "      <td>5</td>\n",
       "    </tr>\n",
       "  </tbody>\n",
       "</table>\n",
       "</div>"
      ],
      "text/plain": [
       "  user_id          date_time  year month day hours minute weekday weeknumber  \\\n",
       "0     u52  03/30/2013, 15:24  2013    03  30    15     24     Sat         12   \n",
       "1     u52  03/28/2013, 15:03  2013    03  28    15     03     Thu         12   \n",
       "2     u52  03/31/2013, 15:11  2013    03  31    15     11     Sun         12   \n",
       "3     u52  04/02/2013, 17:24  2013    04  02    17     24     Tue         13   \n",
       "4     u52  04/02/2013, 23:44  2013    04  02    23     44     Tue         13   \n",
       "\n",
       "  label_source rating  \n",
       "0   stress_ema      2  \n",
       "1   stress_ema      1  \n",
       "2   stress_ema      2  \n",
       "3   stress_ema      1  \n",
       "4   stress_ema      5  "
      ]
     },
     "execution_count": 27,
     "metadata": {},
     "output_type": "execute_result"
    }
   ],
   "source": [
    "stress_ema_df.head()"
   ]
  },
  {
   "cell_type": "code",
   "execution_count": 28,
   "metadata": {},
   "outputs": [
    {
     "data": {
      "text/plain": [
       "[Text(0, 0, '974'),\n",
       " Text(0, 0, '457'),\n",
       " Text(0, 0, '347'),\n",
       " Text(0, 0, '266'),\n",
       " Text(0, 0, '123')]"
      ]
     },
     "execution_count": 28,
     "metadata": {},
     "output_type": "execute_result"
    },
    {
     "data": {
      "image/png": "[encoded data removed]",
      "text/plain": [
       "<Figure size 640x480 with 1 Axes>"
      ]
     },
     "metadata": {},
     "output_type": "display_data"
    }
   ],
   "source": [
    "ax = stress_ema_df['rating'].value_counts().plot.bar()\n",
    "ax.bar_label(ax.containers[0])"
   ]
  },
  {
   "cell_type": "markdown",
   "metadata": {},
   "source": [
    "### Getting Predictor dfs"
   ]
  },
  {
   "cell_type": "code",
   "execution_count": 29,
   "metadata": {},
   "outputs": [],
   "source": [
    "# social_EMA_usr_files = os.listdir(os.path.join(EMA_abs_path,'Social')) ## number\n",
    "# class_EMA_usr_files = os.listdir(os.path.join(EMA_abs_path,'Class')) ## course_id,experience ## due\n",
    "# sleep_EMA_usr_files = os.listdir(os.path.join(EMA_abs_path,'Sleep')) ## hour, rate, social\n",
    "# activity_EMA_usr_files = os.listdir(os.path.join(EMA_abs_path,'Activity')) ## working, relaxing, other_working, other_relaxing\n",
    "# exercise_EMA_usr_files = os.listdir(os.path.join(EMA_abs_path,'Exercise')) ## have, schedule, exercise, walk\n",
    "# study_space_EMA_usr_files = os.listdir(os.path.join(EMA_abs_path,'Study Spaces')) ## productivity, noise\n",
    "# events_EMA_usr_files = os.listdir(os.path.join(EMA_abs_path,'Events')) ## positive, negative\n",
    "# dining_halls_EMA_usr_files = os.listdir(os.path.join(EMA_abs_path,'Dining Halls')) # breakfast, lunch, dinner\n",
    "# lab_EMA_usr_files = os.listdir(os.path.join(EMA_abs_path,'Lab')) # enjoy\n",
    "# mood_EMA_usr_files = os.listdir(os.path.join(EMA_abs_path,'Mood')) # happyornot, happy, sadornot, sad\n",
    "# class_2_EMA_usr_files = os.listdir(os.path.join(EMA_abs_path,'Class 2')) # challenge, effort, grade\n",
    "\n",
    "# len(social_EMA_usr_files),len(class_EMA_usr_files),len(sleep_EMA_usr_files),len(activity_EMA_usr_files),len(exercise_EMA_usr_files),len(study_space_EMA_usr_files),len(events_EMA_usr_files),len(dining_halls_EMA_usr_files),len(lab_EMA_usr_files),len(mood_EMA_usr_files),len(class_2_EMA_usr_files)\n"
   ]
  },
  {
   "cell_type": "code",
   "execution_count": 30,
   "metadata": {},
   "outputs": [
    {
     "name": "stdout",
     "output_type": "stream",
     "text": [
      "Social  EMA number of user files :  49\n",
      "Social  EMA number of question ID used :  1\n",
      "\n",
      "Class  EMA number of user files :  49\n",
      "Class  EMA number of question ID used :  3\n",
      "\n",
      "Sleep  EMA number of user files :  49\n",
      "Sleep  EMA number of question ID used :  3\n",
      "\n",
      "Activity  EMA number of user files :  49\n",
      "Activity  EMA number of question ID used :  4\n",
      "\n",
      "Exercise  EMA number of user files :  49\n",
      "Exercise  EMA number of question ID used :  4\n",
      "\n",
      "Study Spaces  EMA number of user files :  49\n",
      "Study Spaces  EMA number of question ID used :  2\n",
      "\n",
      "Events  EMA number of user files :  49\n",
      "Events  EMA number of question ID used :  2\n",
      "\n",
      "Dining Halls  EMA number of user files :  49\n",
      "Dining Halls  EMA number of question ID used :  3\n",
      "\n",
      "Lab  EMA number of user files :  49\n",
      "Lab  EMA number of question ID used :  1\n",
      "\n",
      "Mood  EMA number of user files :  49\n",
      "Mood  EMA number of question ID used :  4\n",
      "\n",
      "Class 2  EMA number of user files :  49\n",
      "Class 2  EMA number of question ID used :  3\n",
      "\n"
     ]
    },
    {
     "data": {
      "text/plain": [
       "(11, 11)"
      ]
     },
     "execution_count": 30,
     "metadata": {},
     "output_type": "execute_result"
    }
   ],
   "source": [
    "# gettting predictor dfs\n",
    "\n",
    "ema_folder_name_usr_files_di  = {}\n",
    "ema_folder_name_questions_id_li_di = {} \n",
    "ema_folder_name_li = ['Social','Class','Sleep','Activity','Exercise','Study Spaces','Events','Dining Halls','Lab' ,'Mood','Class 2']\n",
    "ema_questions_id_li = [['number'],['course_id','experience','due'],['hour','rate','social'],['working','relaxing','other_working','other_relaxing'],['have','schedule','exercise','walk'],['productivity','noise'],['positive','negative'],['breakfast','lunch','dinner'],['enjoy'],['happyornot','happy','sadornot','sad'],['challenge','effort','grade']]\n",
    "\n",
    "\n",
    "for ema_folder_name,ema_questions_id in zip(ema_folder_name_li,ema_questions_id_li):\n",
    "    ema_folder_name_usr_files_di[ema_folder_name] = os.listdir(os.path.join(EMA_abs_path,ema_folder_name)) \n",
    "    ema_folder_name_questions_id_li_di[ema_folder_name] = ema_questions_id\n",
    "    print(ema_folder_name,\" EMA number of user files : \", len(ema_folder_name_usr_files_di[ema_folder_name]))\n",
    "    print(ema_folder_name,\" EMA number of question ID used : \", len(ema_folder_name_questions_id_li_di[ema_folder_name]))\n",
    "    print()\n",
    "\n",
    "len(ema_folder_name_usr_files_di),len(ema_folder_name_questions_id_li_di)"
   ]
  },
  {
   "cell_type": "code",
   "execution_count": 31,
   "metadata": {},
   "outputs": [],
   "source": [
    "def get_ema_df(json_di,ema_type,question_id_li):\n",
    "    print(question_id_li)\n",
    "    print()\n",
    "    ema_data_di = defaultdict(list)\n",
    "\n",
    "\n",
    "    for user, val in tqdm(json_di.items()):\n",
    "        usr_id = user.split('.')[0].split('_')[1]\n",
    "        \n",
    "\n",
    "        for json_val in val:\n",
    "            if \"null\" in json_val: continue\n",
    "\n",
    "            ema_data_di['user_id'].append(usr_id)\n",
    "\n",
    "            for question_id in question_id_li:\n",
    "                if question_id in json_val:                \n",
    "                    ema_data_di[question_id+'_'+ ema_type].append(json_val[question_id])\n",
    "                else:\n",
    "                    ema_data_di[question_id+'_'+ ema_type].append('N/A')                    \n",
    "            \n",
    "            # store resp time info\n",
    "            time_info_di = get_info_from_timestamp(json_val['resp_time'])\n",
    "            for k,v in time_info_di.items():\n",
    "                ema_data_di[k].append(v)\n",
    "\n",
    "            # if len(ema_data_di['hour']) != len(ema_data_di['rate']) :\n",
    "            #     print(json_val)\n",
    "            #     print(usr_id)\n",
    "            #     break\n",
    "\n",
    "    # [print(k,len(v)) for k,v in ema_data_di.items()]\n",
    "\n",
    "    return pd.DataFrame(ema_data_di)"
   ]
  },
  {
   "cell_type": "code",
   "execution_count": 32,
   "metadata": {},
   "outputs": [],
   "source": [
    "# get_ema_df(get_json_di(ema_folder_name_usr_files_di['Sleep'],EMA_abs_path,'Sleep'),ema_folder_name_questions_id_li_di['Sleep'])"
   ]
  },
  {
   "cell_type": "code",
   "execution_count": 33,
   "metadata": {},
   "outputs": [],
   "source": [
    "# get_ema_df(get_json_di(ema_folder_name_usr_files_di[k],EMA_abs_path,k),v)"
   ]
  },
  {
   "cell_type": "code",
   "execution_count": 34,
   "metadata": {},
   "outputs": [
    {
     "name": "stdout",
     "output_type": "stream",
     "text": [
      "Social\n",
      "No of EMA files in :  Social  :  49\n",
      "['number']\n",
      "\n"
     ]
    },
    {
     "name": "stderr",
     "output_type": "stream",
     "text": [
      "100%|██████████| 49/49 [00:00<00:00, 3791.69it/s]\n"
     ]
    },
    {
     "name": "stdout",
     "output_type": "stream",
     "text": [
      "Class\n",
      "No of EMA files in :  Class  :  49\n",
      "['course_id', 'experience', 'due']\n",
      "\n"
     ]
    },
    {
     "name": "stderr",
     "output_type": "stream",
     "text": [
      "100%|██████████| 49/49 [00:00<00:00, 3834.77it/s]\n"
     ]
    },
    {
     "name": "stdout",
     "output_type": "stream",
     "text": [
      "Sleep\n",
      "No of EMA files in :  Sleep  :  49\n",
      "['hour', 'rate', 'social']\n",
      "\n"
     ]
    },
    {
     "name": "stderr",
     "output_type": "stream",
     "text": [
      "100%|██████████| 49/49 [00:00<00:00, 3284.66it/s]\n"
     ]
    },
    {
     "name": "stdout",
     "output_type": "stream",
     "text": [
      "Activity\n",
      "No of EMA files in :  Activity  :  49\n",
      "['working', 'relaxing', 'other_working', 'other_relaxing']\n",
      "\n"
     ]
    },
    {
     "name": "stderr",
     "output_type": "stream",
     "text": [
      "100%|██████████| 49/49 [00:00<00:00, 7097.94it/s]\n"
     ]
    },
    {
     "name": "stdout",
     "output_type": "stream",
     "text": [
      "Exercise\n",
      "No of EMA files in :  Exercise  :  49\n",
      "['have', 'schedule', 'exercise', 'walk']\n",
      "\n"
     ]
    },
    {
     "name": "stderr",
     "output_type": "stream",
     "text": [
      "100%|██████████| 49/49 [00:00<00:00, 4259.50it/s]\n"
     ]
    },
    {
     "name": "stdout",
     "output_type": "stream",
     "text": [
      "Study Spaces\n",
      "No of EMA files in :  Study Spaces  :  49\n",
      "['productivity', 'noise']\n",
      "\n"
     ]
    },
    {
     "name": "stderr",
     "output_type": "stream",
     "text": [
      "100%|██████████| 49/49 [00:00<00:00, 9043.03it/s]\n"
     ]
    },
    {
     "name": "stdout",
     "output_type": "stream",
     "text": [
      "Events\n",
      "No of EMA files in :  Events  :  49\n",
      "['positive', 'negative']\n",
      "\n"
     ]
    },
    {
     "name": "stderr",
     "output_type": "stream",
     "text": [
      "100%|██████████| 49/49 [00:00<00:00, 12987.10it/s]\n"
     ]
    },
    {
     "name": "stdout",
     "output_type": "stream",
     "text": [
      "Dining Halls\n",
      "No of EMA files in :  Dining Halls  :  49\n",
      "['breakfast', 'lunch', 'dinner']\n",
      "\n"
     ]
    },
    {
     "name": "stderr",
     "output_type": "stream",
     "text": [
      "100%|██████████| 49/49 [00:00<00:00, 19301.36it/s]\n"
     ]
    },
    {
     "name": "stdout",
     "output_type": "stream",
     "text": [
      "Lab\n",
      "No of EMA files in :  Lab  :  49\n",
      "['enjoy']\n",
      "\n"
     ]
    },
    {
     "name": "stderr",
     "output_type": "stream",
     "text": [
      "100%|██████████| 49/49 [00:00<00:00, 23141.64it/s]"
     ]
    },
    {
     "name": "stdout",
     "output_type": "stream",
     "text": [
      "Mood\n"
     ]
    },
    {
     "name": "stderr",
     "output_type": "stream",
     "text": [
      "\n"
     ]
    },
    {
     "name": "stdout",
     "output_type": "stream",
     "text": [
      "No of EMA files in :  Mood  :  49\n",
      "['happyornot', 'happy', 'sadornot', 'sad']\n",
      "\n"
     ]
    },
    {
     "name": "stderr",
     "output_type": "stream",
     "text": [
      "100%|██████████| 49/49 [00:00<00:00, 15683.83it/s]\n"
     ]
    },
    {
     "name": "stdout",
     "output_type": "stream",
     "text": [
      "Class 2\n",
      "No of EMA files in :  Class 2  :  49\n",
      "['challenge', 'effort', 'grade']\n",
      "\n"
     ]
    },
    {
     "name": "stderr",
     "output_type": "stream",
     "text": [
      "100%|██████████| 49/49 [00:00<00:00, 29176.73it/s]\n"
     ]
    }
   ],
   "source": [
    "ema_df_di = {}\n",
    "\n",
    "for k,v in ema_folder_name_questions_id_li_di.items():\n",
    "    print(k)\n",
    "    ema_df_di[k] = get_ema_df(get_json_di(ema_folder_name_usr_files_di[k],EMA_abs_path,k),k,v)\n"
   ]
  },
  {
   "cell_type": "markdown",
   "metadata": {},
   "source": [
    "## Plotting events on time line"
   ]
  },
  {
   "cell_type": "code",
   "execution_count": 35,
   "metadata": {},
   "outputs": [
    {
     "name": "stdout",
     "output_type": "stream",
     "text": [
      "Social  data points :  1169\n",
      "Class  data points :  1097\n",
      "Sleep  data points :  1390\n",
      "Activity  data points :  538\n",
      "Exercise  data points :  763\n",
      "Study Spaces  data points :  200\n",
      "Events  data points :  232\n",
      "Dining Halls  data points :  214\n",
      "Lab  data points :  142\n",
      "Mood  data points :  277\n",
      "Class 2  data points :  97\n"
     ]
    }
   ],
   "source": [
    "for k,v in ema_df_di.items():\n",
    "    print(k,' data points : ',len(v))"
   ]
  },
  {
   "cell_type": "code",
   "execution_count": 36,
   "metadata": {},
   "outputs": [],
   "source": [
    "# stress_ema_df\n",
    "# mood2_ema_df"
   ]
  },
  {
   "cell_type": "code",
   "execution_count": 37,
   "metadata": {},
   "outputs": [
    {
     "data": {
      "text/html": [
       "<div>\n",
       "<style scoped>\n",
       "    .dataframe tbody tr th:only-of-type {\n",
       "        vertical-align: middle;\n",
       "    }\n",
       "\n",
       "    .dataframe tbody tr th {\n",
       "        vertical-align: top;\n",
       "    }\n",
       "\n",
       "    .dataframe thead th {\n",
       "        text-align: right;\n",
       "    }\n",
       "</style>\n",
       "<table border=\"1\" class=\"dataframe\">\n",
       "  <thead>\n",
       "    <tr style=\"text-align: right;\">\n",
       "      <th></th>\n",
       "      <th>user_id</th>\n",
       "      <th>date_time</th>\n",
       "      <th>year</th>\n",
       "      <th>month</th>\n",
       "      <th>day</th>\n",
       "      <th>hours</th>\n",
       "      <th>minute</th>\n",
       "      <th>weekday</th>\n",
       "      <th>weeknumber</th>\n",
       "      <th>label_source</th>\n",
       "      <th>rating</th>\n",
       "    </tr>\n",
       "  </thead>\n",
       "  <tbody>\n",
       "    <tr>\n",
       "      <th>0</th>\n",
       "      <td>u52</td>\n",
       "      <td>2013-03-30 15:24:00</td>\n",
       "      <td>2013</td>\n",
       "      <td>03</td>\n",
       "      <td>30</td>\n",
       "      <td>15</td>\n",
       "      <td>24</td>\n",
       "      <td>Sat</td>\n",
       "      <td>12</td>\n",
       "      <td>stress_ema</td>\n",
       "      <td>2</td>\n",
       "    </tr>\n",
       "    <tr>\n",
       "      <th>1</th>\n",
       "      <td>u52</td>\n",
       "      <td>2013-03-28 15:03:00</td>\n",
       "      <td>2013</td>\n",
       "      <td>03</td>\n",
       "      <td>28</td>\n",
       "      <td>15</td>\n",
       "      <td>03</td>\n",
       "      <td>Thu</td>\n",
       "      <td>12</td>\n",
       "      <td>stress_ema</td>\n",
       "      <td>1</td>\n",
       "    </tr>\n",
       "    <tr>\n",
       "      <th>2</th>\n",
       "      <td>u52</td>\n",
       "      <td>2013-03-31 15:11:00</td>\n",
       "      <td>2013</td>\n",
       "      <td>03</td>\n",
       "      <td>31</td>\n",
       "      <td>15</td>\n",
       "      <td>11</td>\n",
       "      <td>Sun</td>\n",
       "      <td>12</td>\n",
       "      <td>stress_ema</td>\n",
       "      <td>2</td>\n",
       "    </tr>\n",
       "    <tr>\n",
       "      <th>3</th>\n",
       "      <td>u52</td>\n",
       "      <td>2013-04-02 17:24:00</td>\n",
       "      <td>2013</td>\n",
       "      <td>04</td>\n",
       "      <td>02</td>\n",
       "      <td>17</td>\n",
       "      <td>24</td>\n",
       "      <td>Tue</td>\n",
       "      <td>13</td>\n",
       "      <td>stress_ema</td>\n",
       "      <td>1</td>\n",
       "    </tr>\n",
       "    <tr>\n",
       "      <th>4</th>\n",
       "      <td>u52</td>\n",
       "      <td>2013-04-02 23:44:00</td>\n",
       "      <td>2013</td>\n",
       "      <td>04</td>\n",
       "      <td>02</td>\n",
       "      <td>23</td>\n",
       "      <td>44</td>\n",
       "      <td>Tue</td>\n",
       "      <td>13</td>\n",
       "      <td>stress_ema</td>\n",
       "      <td>5</td>\n",
       "    </tr>\n",
       "  </tbody>\n",
       "</table>\n",
       "</div>"
      ],
      "text/plain": [
       "  user_id           date_time  year month day hours minute weekday weeknumber  \\\n",
       "0     u52 2013-03-30 15:24:00  2013    03  30    15     24     Sat         12   \n",
       "1     u52 2013-03-28 15:03:00  2013    03  28    15     03     Thu         12   \n",
       "2     u52 2013-03-31 15:11:00  2013    03  31    15     11     Sun         12   \n",
       "3     u52 2013-04-02 17:24:00  2013    04  02    17     24     Tue         13   \n",
       "4     u52 2013-04-02 23:44:00  2013    04  02    23     44     Tue         13   \n",
       "\n",
       "  label_source rating  \n",
       "0   stress_ema      2  \n",
       "1   stress_ema      1  \n",
       "2   stress_ema      2  \n",
       "3   stress_ema      1  \n",
       "4   stress_ema      5  "
      ]
     },
     "execution_count": 37,
     "metadata": {},
     "output_type": "execute_result"
    }
   ],
   "source": [
    "stress_ema_df['date_time'] = pd.to_datetime(stress_ema_df['date_time'])\n",
    "stress_ema_df.head()"
   ]
  },
  {
   "cell_type": "code",
   "execution_count": 38,
   "metadata": {},
   "outputs": [
    {
     "name": "stdout",
     "output_type": "stream",
     "text": [
      "<class 'pandas.core.frame.DataFrame'>\n",
      "RangeIndex: 2167 entries, 0 to 2166\n",
      "Data columns (total 11 columns):\n",
      " #   Column        Non-Null Count  Dtype         \n",
      "---  ------        --------------  -----         \n",
      " 0   user_id       2167 non-null   object        \n",
      " 1   date_time     2167 non-null   datetime64[ns]\n",
      " 2   year          2167 non-null   object        \n",
      " 3   month         2167 non-null   object        \n",
      " 4   day           2167 non-null   object        \n",
      " 5   hours         2167 non-null   object        \n",
      " 6   minute        2167 non-null   object        \n",
      " 7   weekday       2167 non-null   object        \n",
      " 8   weeknumber    2167 non-null   object        \n",
      " 9   label_source  2167 non-null   object        \n",
      " 10  rating        2167 non-null   object        \n",
      "dtypes: datetime64[ns](1), object(10)\n",
      "memory usage: 186.4+ KB\n"
     ]
    }
   ],
   "source": [
    "stress_ema_df.info()"
   ]
  },
  {
   "cell_type": "code",
   "execution_count": 39,
   "metadata": {},
   "outputs": [
    {
     "data": {
      "text/html": [
       "<div>\n",
       "<style scoped>\n",
       "    .dataframe tbody tr th:only-of-type {\n",
       "        vertical-align: middle;\n",
       "    }\n",
       "\n",
       "    .dataframe tbody tr th {\n",
       "        vertical-align: top;\n",
       "    }\n",
       "\n",
       "    .dataframe thead th {\n",
       "        text-align: right;\n",
       "    }\n",
       "</style>\n",
       "<table border=\"1\" class=\"dataframe\">\n",
       "  <thead>\n",
       "    <tr style=\"text-align: right;\">\n",
       "      <th></th>\n",
       "      <th>user_id</th>\n",
       "      <th>date_time</th>\n",
       "      <th>year</th>\n",
       "      <th>month</th>\n",
       "      <th>day</th>\n",
       "      <th>hours</th>\n",
       "      <th>minute</th>\n",
       "      <th>weekday</th>\n",
       "      <th>weeknumber</th>\n",
       "      <th>label_source</th>\n",
       "      <th>rating</th>\n",
       "    </tr>\n",
       "  </thead>\n",
       "  <tbody>\n",
       "    <tr>\n",
       "      <th>0</th>\n",
       "      <td>u00</td>\n",
       "      <td>2013-03-25 11:54:00</td>\n",
       "      <td>2013</td>\n",
       "      <td>03</td>\n",
       "      <td>25</td>\n",
       "      <td>11</td>\n",
       "      <td>54</td>\n",
       "      <td>Mon</td>\n",
       "      <td>12</td>\n",
       "      <td>stress_ema</td>\n",
       "      <td>2</td>\n",
       "    </tr>\n",
       "    <tr>\n",
       "      <th>1</th>\n",
       "      <td>u00</td>\n",
       "      <td>2013-03-25 20:33:00</td>\n",
       "      <td>2013</td>\n",
       "      <td>03</td>\n",
       "      <td>25</td>\n",
       "      <td>20</td>\n",
       "      <td>33</td>\n",
       "      <td>Mon</td>\n",
       "      <td>12</td>\n",
       "      <td>stress_ema</td>\n",
       "      <td>2</td>\n",
       "    </tr>\n",
       "    <tr>\n",
       "      <th>2</th>\n",
       "      <td>u00</td>\n",
       "      <td>2013-03-25 20:33:00</td>\n",
       "      <td>2013</td>\n",
       "      <td>03</td>\n",
       "      <td>25</td>\n",
       "      <td>20</td>\n",
       "      <td>33</td>\n",
       "      <td>Mon</td>\n",
       "      <td>12</td>\n",
       "      <td>stress_ema</td>\n",
       "      <td>2</td>\n",
       "    </tr>\n",
       "    <tr>\n",
       "      <th>3</th>\n",
       "      <td>u00</td>\n",
       "      <td>2013-03-26 18:12:00</td>\n",
       "      <td>2013</td>\n",
       "      <td>03</td>\n",
       "      <td>26</td>\n",
       "      <td>18</td>\n",
       "      <td>12</td>\n",
       "      <td>Tue</td>\n",
       "      <td>12</td>\n",
       "      <td>stress_ema</td>\n",
       "      <td>1</td>\n",
       "    </tr>\n",
       "    <tr>\n",
       "      <th>4</th>\n",
       "      <td>u00</td>\n",
       "      <td>2013-03-27 19:25:00</td>\n",
       "      <td>2013</td>\n",
       "      <td>03</td>\n",
       "      <td>27</td>\n",
       "      <td>19</td>\n",
       "      <td>25</td>\n",
       "      <td>Wed</td>\n",
       "      <td>12</td>\n",
       "      <td>stress_ema</td>\n",
       "      <td>1</td>\n",
       "    </tr>\n",
       "  </tbody>\n",
       "</table>\n",
       "</div>"
      ],
      "text/plain": [
       "  user_id           date_time  year month day hours minute weekday weeknumber  \\\n",
       "0     u00 2013-03-25 11:54:00  2013    03  25    11     54     Mon         12   \n",
       "1     u00 2013-03-25 20:33:00  2013    03  25    20     33     Mon         12   \n",
       "2     u00 2013-03-25 20:33:00  2013    03  25    20     33     Mon         12   \n",
       "3     u00 2013-03-26 18:12:00  2013    03  26    18     12     Tue         12   \n",
       "4     u00 2013-03-27 19:25:00  2013    03  27    19     25     Wed         12   \n",
       "\n",
       "  label_source rating  \n",
       "0   stress_ema      2  \n",
       "1   stress_ema      2  \n",
       "2   stress_ema      2  \n",
       "3   stress_ema      1  \n",
       "4   stress_ema      1  "
      ]
     },
     "execution_count": 39,
     "metadata": {},
     "output_type": "execute_result"
    }
   ],
   "source": [
    "stress_ema_sort_df = stress_ema_df.groupby('user_id').apply(lambda x : x.sort_values(['date_time'])).reset_index(drop=True)\n",
    "stress_ema_sort_df.head()"
   ]
  },
  {
   "cell_type": "markdown",
   "metadata": {},
   "source": [
    "### Dropping duplicates !!!!\n",
    "\n",
    "Exact same value in one row"
   ]
  },
  {
   "cell_type": "code",
   "execution_count": 40,
   "metadata": {},
   "outputs": [
    {
     "data": {
      "text/plain": [
       "2167"
      ]
     },
     "execution_count": 40,
     "metadata": {},
     "output_type": "execute_result"
    }
   ],
   "source": [
    "len(stress_ema_sort_df)"
   ]
  },
  {
   "cell_type": "code",
   "execution_count": 41,
   "metadata": {},
   "outputs": [
    {
     "data": {
      "text/plain": [
       "2132"
      ]
     },
     "execution_count": 41,
     "metadata": {},
     "output_type": "execute_result"
    }
   ],
   "source": [
    "stress_ema_sort_df.drop_duplicates(inplace=True)\n",
    "len(stress_ema_sort_df)"
   ]
  },
  {
   "cell_type": "markdown",
   "metadata": {},
   "source": [
    "### Removing outliers\n",
    "\n",
    "Data from other time zone (ex: u00)"
   ]
  },
  {
   "cell_type": "code",
   "execution_count": 42,
   "metadata": {},
   "outputs": [
    {
     "data": {
      "text/html": [
       "<div>\n",
       "<style scoped>\n",
       "    .dataframe tbody tr th:only-of-type {\n",
       "        vertical-align: middle;\n",
       "    }\n",
       "\n",
       "    .dataframe tbody tr th {\n",
       "        vertical-align: top;\n",
       "    }\n",
       "\n",
       "    .dataframe thead th {\n",
       "        text-align: right;\n",
       "    }\n",
       "</style>\n",
       "<table border=\"1\" class=\"dataframe\">\n",
       "  <thead>\n",
       "    <tr style=\"text-align: right;\">\n",
       "      <th></th>\n",
       "      <th>user_id</th>\n",
       "      <th>date_time</th>\n",
       "      <th>year</th>\n",
       "      <th>month</th>\n",
       "      <th>day</th>\n",
       "      <th>hours</th>\n",
       "      <th>minute</th>\n",
       "      <th>weekday</th>\n",
       "      <th>weeknumber</th>\n",
       "      <th>label_source</th>\n",
       "      <th>rating</th>\n",
       "    </tr>\n",
       "  </thead>\n",
       "  <tbody>\n",
       "    <tr>\n",
       "      <th>70</th>\n",
       "      <td>u00</td>\n",
       "      <td>2013-08-06 18:48:00</td>\n",
       "      <td>2013</td>\n",
       "      <td>08</td>\n",
       "      <td>06</td>\n",
       "      <td>18</td>\n",
       "      <td>48</td>\n",
       "      <td>Tue</td>\n",
       "      <td>31</td>\n",
       "      <td>stress_ema</td>\n",
       "      <td>1</td>\n",
       "    </tr>\n",
       "    <tr>\n",
       "      <th>71</th>\n",
       "      <td>u00</td>\n",
       "      <td>2013-08-07 17:47:00</td>\n",
       "      <td>2013</td>\n",
       "      <td>08</td>\n",
       "      <td>07</td>\n",
       "      <td>17</td>\n",
       "      <td>47</td>\n",
       "      <td>Wed</td>\n",
       "      <td>31</td>\n",
       "      <td>stress_ema</td>\n",
       "      <td>3</td>\n",
       "    </tr>\n",
       "    <tr>\n",
       "      <th>72</th>\n",
       "      <td>u00</td>\n",
       "      <td>2013-08-09 20:44:00</td>\n",
       "      <td>2013</td>\n",
       "      <td>08</td>\n",
       "      <td>09</td>\n",
       "      <td>20</td>\n",
       "      <td>44</td>\n",
       "      <td>Fri</td>\n",
       "      <td>31</td>\n",
       "      <td>stress_ema</td>\n",
       "      <td>1</td>\n",
       "    </tr>\n",
       "    <tr>\n",
       "      <th>73</th>\n",
       "      <td>u00</td>\n",
       "      <td>2013-08-15 17:56:00</td>\n",
       "      <td>2013</td>\n",
       "      <td>08</td>\n",
       "      <td>15</td>\n",
       "      <td>17</td>\n",
       "      <td>56</td>\n",
       "      <td>Thu</td>\n",
       "      <td>32</td>\n",
       "      <td>stress_ema</td>\n",
       "      <td>2</td>\n",
       "    </tr>\n",
       "  </tbody>\n",
       "</table>\n",
       "</div>"
      ],
      "text/plain": [
       "   user_id           date_time  year month day hours minute weekday  \\\n",
       "70     u00 2013-08-06 18:48:00  2013    08  06    18     48     Tue   \n",
       "71     u00 2013-08-07 17:47:00  2013    08  07    17     47     Wed   \n",
       "72     u00 2013-08-09 20:44:00  2013    08  09    20     44     Fri   \n",
       "73     u00 2013-08-15 17:56:00  2013    08  15    17     56     Thu   \n",
       "\n",
       "   weeknumber label_source rating  \n",
       "70         31   stress_ema      1  \n",
       "71         31   stress_ema      3  \n",
       "72         31   stress_ema      1  \n",
       "73         32   stress_ema      2  "
      ]
     },
     "execution_count": 42,
     "metadata": {},
     "output_type": "execute_result"
    }
   ],
   "source": [
    "stress_ema_sort_df[stress_ema_sort_df['date_time'] >  datetime(2013,6,8)] ## for finding the threshold for date (so that other users are not removed)"
   ]
  },
  {
   "cell_type": "code",
   "execution_count": 43,
   "metadata": {},
   "outputs": [
    {
     "data": {
      "text/plain": [
       "Int64Index([70, 71, 72, 73], dtype='int64')"
      ]
     },
     "execution_count": 43,
     "metadata": {},
     "output_type": "execute_result"
    }
   ],
   "source": [
    "user00_df = stress_ema_sort_df[stress_ema_sort_df['user_id'] == 'u00']\n",
    "\n",
    "drop_ind = user00_df[user00_df['date_time']> datetime(2013,6,8)].index\n",
    "drop_ind"
   ]
  },
  {
   "cell_type": "code",
   "execution_count": 44,
   "metadata": {},
   "outputs": [
    {
     "data": {
      "text/plain": [
       "2132"
      ]
     },
     "execution_count": 44,
     "metadata": {},
     "output_type": "execute_result"
    }
   ],
   "source": [
    "len(stress_ema_sort_df)"
   ]
  },
  {
   "cell_type": "code",
   "execution_count": 45,
   "metadata": {},
   "outputs": [
    {
     "data": {
      "text/plain": [
       "2128"
      ]
     },
     "execution_count": 45,
     "metadata": {},
     "output_type": "execute_result"
    }
   ],
   "source": [
    "stress_ema_sort_df.drop(index = drop_ind,inplace=True)\n",
    "\n",
    "len(stress_ema_sort_df)"
   ]
  },
  {
   "cell_type": "code",
   "execution_count": 46,
   "metadata": {},
   "outputs": [
    {
     "data": {
      "text/html": [
       "\n",
       "This product includes GeoLite2 data created by MaxMind, available from\n",
       "<a href=\"https://www.maxmind.com\">https://www.maxmind.com</a>.\n"
      ],
      "text/plain": [
       "<IPython.core.display.HTML object>"
      ]
     },
     "metadata": {},
     "output_type": "display_data"
    }
   ],
   "source": [
    "from msticpy.vis.timeline import display_timeline"
   ]
  },
  {
   "cell_type": "code",
   "execution_count": 47,
   "metadata": {},
   "outputs": [
    {
     "data": {
      "text/html": [
       "<div>\n",
       "<style scoped>\n",
       "    .dataframe tbody tr th:only-of-type {\n",
       "        vertical-align: middle;\n",
       "    }\n",
       "\n",
       "    .dataframe tbody tr th {\n",
       "        vertical-align: top;\n",
       "    }\n",
       "\n",
       "    .dataframe thead th {\n",
       "        text-align: right;\n",
       "    }\n",
       "</style>\n",
       "<table border=\"1\" class=\"dataframe\">\n",
       "  <thead>\n",
       "    <tr style=\"text-align: right;\">\n",
       "      <th></th>\n",
       "      <th>user_id</th>\n",
       "      <th>date_time</th>\n",
       "      <th>year</th>\n",
       "      <th>month</th>\n",
       "      <th>day</th>\n",
       "      <th>hours</th>\n",
       "      <th>minute</th>\n",
       "      <th>weekday</th>\n",
       "      <th>weeknumber</th>\n",
       "      <th>label_source</th>\n",
       "      <th>rating</th>\n",
       "    </tr>\n",
       "  </thead>\n",
       "  <tbody>\n",
       "    <tr>\n",
       "      <th>0</th>\n",
       "      <td>u00</td>\n",
       "      <td>2013-03-25 11:54:00</td>\n",
       "      <td>2013</td>\n",
       "      <td>03</td>\n",
       "      <td>25</td>\n",
       "      <td>11</td>\n",
       "      <td>54</td>\n",
       "      <td>Mon</td>\n",
       "      <td>12</td>\n",
       "      <td>stress_ema</td>\n",
       "      <td>2</td>\n",
       "    </tr>\n",
       "    <tr>\n",
       "      <th>1</th>\n",
       "      <td>u00</td>\n",
       "      <td>2013-03-25 20:33:00</td>\n",
       "      <td>2013</td>\n",
       "      <td>03</td>\n",
       "      <td>25</td>\n",
       "      <td>20</td>\n",
       "      <td>33</td>\n",
       "      <td>Mon</td>\n",
       "      <td>12</td>\n",
       "      <td>stress_ema</td>\n",
       "      <td>2</td>\n",
       "    </tr>\n",
       "    <tr>\n",
       "      <th>3</th>\n",
       "      <td>u00</td>\n",
       "      <td>2013-03-26 18:12:00</td>\n",
       "      <td>2013</td>\n",
       "      <td>03</td>\n",
       "      <td>26</td>\n",
       "      <td>18</td>\n",
       "      <td>12</td>\n",
       "      <td>Tue</td>\n",
       "      <td>12</td>\n",
       "      <td>stress_ema</td>\n",
       "      <td>1</td>\n",
       "    </tr>\n",
       "    <tr>\n",
       "      <th>4</th>\n",
       "      <td>u00</td>\n",
       "      <td>2013-03-27 19:25:00</td>\n",
       "      <td>2013</td>\n",
       "      <td>03</td>\n",
       "      <td>27</td>\n",
       "      <td>19</td>\n",
       "      <td>25</td>\n",
       "      <td>Wed</td>\n",
       "      <td>12</td>\n",
       "      <td>stress_ema</td>\n",
       "      <td>1</td>\n",
       "    </tr>\n",
       "    <tr>\n",
       "      <th>5</th>\n",
       "      <td>u00</td>\n",
       "      <td>2013-03-28 11:43:00</td>\n",
       "      <td>2013</td>\n",
       "      <td>03</td>\n",
       "      <td>28</td>\n",
       "      <td>11</td>\n",
       "      <td>43</td>\n",
       "      <td>Thu</td>\n",
       "      <td>12</td>\n",
       "      <td>stress_ema</td>\n",
       "      <td>2</td>\n",
       "    </tr>\n",
       "    <tr>\n",
       "      <th>...</th>\n",
       "      <td>...</td>\n",
       "      <td>...</td>\n",
       "      <td>...</td>\n",
       "      <td>...</td>\n",
       "      <td>...</td>\n",
       "      <td>...</td>\n",
       "      <td>...</td>\n",
       "      <td>...</td>\n",
       "      <td>...</td>\n",
       "      <td>...</td>\n",
       "      <td>...</td>\n",
       "    </tr>\n",
       "    <tr>\n",
       "      <th>65</th>\n",
       "      <td>u00</td>\n",
       "      <td>2013-05-24 21:00:00</td>\n",
       "      <td>2013</td>\n",
       "      <td>05</td>\n",
       "      <td>24</td>\n",
       "      <td>21</td>\n",
       "      <td>00</td>\n",
       "      <td>Fri</td>\n",
       "      <td>20</td>\n",
       "      <td>stress_ema</td>\n",
       "      <td>2</td>\n",
       "    </tr>\n",
       "    <tr>\n",
       "      <th>66</th>\n",
       "      <td>u00</td>\n",
       "      <td>2013-05-24 23:14:00</td>\n",
       "      <td>2013</td>\n",
       "      <td>05</td>\n",
       "      <td>24</td>\n",
       "      <td>23</td>\n",
       "      <td>14</td>\n",
       "      <td>Fri</td>\n",
       "      <td>20</td>\n",
       "      <td>stress_ema</td>\n",
       "      <td>1</td>\n",
       "    </tr>\n",
       "    <tr>\n",
       "      <th>67</th>\n",
       "      <td>u00</td>\n",
       "      <td>2013-05-25 08:53:00</td>\n",
       "      <td>2013</td>\n",
       "      <td>05</td>\n",
       "      <td>25</td>\n",
       "      <td>08</td>\n",
       "      <td>53</td>\n",
       "      <td>Sat</td>\n",
       "      <td>20</td>\n",
       "      <td>stress_ema</td>\n",
       "      <td>2</td>\n",
       "    </tr>\n",
       "    <tr>\n",
       "      <th>68</th>\n",
       "      <td>u00</td>\n",
       "      <td>2013-05-25 09:39:00</td>\n",
       "      <td>2013</td>\n",
       "      <td>05</td>\n",
       "      <td>25</td>\n",
       "      <td>09</td>\n",
       "      <td>39</td>\n",
       "      <td>Sat</td>\n",
       "      <td>20</td>\n",
       "      <td>stress_ema</td>\n",
       "      <td>3</td>\n",
       "    </tr>\n",
       "    <tr>\n",
       "      <th>69</th>\n",
       "      <td>u00</td>\n",
       "      <td>2013-06-02 23:00:00</td>\n",
       "      <td>2013</td>\n",
       "      <td>06</td>\n",
       "      <td>02</td>\n",
       "      <td>23</td>\n",
       "      <td>00</td>\n",
       "      <td>Sun</td>\n",
       "      <td>21</td>\n",
       "      <td>stress_ema</td>\n",
       "      <td>1</td>\n",
       "    </tr>\n",
       "  </tbody>\n",
       "</table>\n",
       "<p>69 rows × 11 columns</p>\n",
       "</div>"
      ],
      "text/plain": [
       "   user_id           date_time  year month day hours minute weekday  \\\n",
       "0      u00 2013-03-25 11:54:00  2013    03  25    11     54     Mon   \n",
       "1      u00 2013-03-25 20:33:00  2013    03  25    20     33     Mon   \n",
       "3      u00 2013-03-26 18:12:00  2013    03  26    18     12     Tue   \n",
       "4      u00 2013-03-27 19:25:00  2013    03  27    19     25     Wed   \n",
       "5      u00 2013-03-28 11:43:00  2013    03  28    11     43     Thu   \n",
       "..     ...                 ...   ...   ...  ..   ...    ...     ...   \n",
       "65     u00 2013-05-24 21:00:00  2013    05  24    21     00     Fri   \n",
       "66     u00 2013-05-24 23:14:00  2013    05  24    23     14     Fri   \n",
       "67     u00 2013-05-25 08:53:00  2013    05  25    08     53     Sat   \n",
       "68     u00 2013-05-25 09:39:00  2013    05  25    09     39     Sat   \n",
       "69     u00 2013-06-02 23:00:00  2013    06  02    23     00     Sun   \n",
       "\n",
       "   weeknumber label_source rating  \n",
       "0          12   stress_ema      2  \n",
       "1          12   stress_ema      2  \n",
       "3          12   stress_ema      1  \n",
       "4          12   stress_ema      1  \n",
       "5          12   stress_ema      2  \n",
       "..        ...          ...    ...  \n",
       "65         20   stress_ema      2  \n",
       "66         20   stress_ema      1  \n",
       "67         20   stress_ema      2  \n",
       "68         20   stress_ema      3  \n",
       "69         21   stress_ema      1  \n",
       "\n",
       "[69 rows x 11 columns]"
      ]
     },
     "execution_count": 47,
     "metadata": {},
     "output_type": "execute_result"
    }
   ],
   "source": [
    "stress_ema_sort_df[stress_ema_sort_df['user_id'] == 'u00']"
   ]
  },
  {
   "cell_type": "code",
   "execution_count": 48,
   "metadata": {},
   "outputs": [
    {
     "data": {
      "text/plain": [
       "Timestamp('2013-06-07 16:46:00')"
      ]
     },
     "execution_count": 48,
     "metadata": {},
     "output_type": "execute_result"
    }
   ],
   "source": [
    "max(stress_ema_sort_df['date_time'])"
   ]
  },
  {
   "cell_type": "code",
   "execution_count": 49,
   "metadata": {},
   "outputs": [
    {
     "data": {
      "text/html": [
       "<div class=\"bk-root\">\n",
       "        <a href=\"https://bokeh.org\" target=\"_blank\" class=\"bk-logo bk-logo-small bk-logo-notebook\"></a>\n",
       "        <span id=\"1002\">Loading BokehJS ...</span>\n",
       "    </div>\n"
      ]
     },
     "metadata": {},
     "output_type": "display_data"
    },
    {
     "data": {
      "application/javascript": "(function(root) {\n  function now() {\n    return new Date();\n  }\n\n  const force = true;\n\n  if (typeof root._bokeh_onload_callbacks === \"undefined\" || force === true) {\n    root._bokeh_onload_callbacks = [];\n    root._bokeh_is_loading = undefined;\n  }\n\nconst JS_MIME_TYPE = 'application/javascript';\n  const HTML_MIME_TYPE = 'text/html';\n  const EXEC_MIME_TYPE = 'application/vnd.bokehjs_exec.v0+json';\n  const CLASS_NAME = 'output_bokeh rendered_html';\n\n  /**\n   * Render data to the DOM node\n   */\n  function render(props, node) {\n    const script = document.createElement(\"script\");\n    node.appendChild(script);\n  }\n\n  /**\n   * Handle when an output is cleared or removed\n   */\n  function handleClearOutput(event, handle) {\n    const cell = handle.cell;\n\n    const id = cell.output_area._bokeh_element_id;\n    const server_id = cell.output_area._bokeh_server_id;\n    // Clean up Bokeh references\n    if (id != null && id in Bokeh.index) {\n      Bokeh.index[id].model.document.clear();\n      delete Bokeh.index[id];\n    }\n\n    if (server_id !== undefined) {\n      // Clean up Bokeh references\n      const cmd_clean = \"from bokeh.io.state import curstate; print(curstate().uuid_to_server['\" + server_id + \"'].get_sessions()[0].document.roots[0]._id)\";\n      cell.notebook.kernel.execute(cmd_clean, {\n        iopub: {\n          output: function(msg) {\n            const id = msg.content.text.trim();\n            if (id in Bokeh.index) {\n              Bokeh.index[id].model.document.clear();\n              delete Bokeh.index[id];\n            }\n          }\n        }\n      });\n      // Destroy server and session\n      const cmd_destroy = \"import bokeh.io.notebook as ion; ion.destroy_server('\" + server_id + \"')\";\n      cell.notebook.kernel.execute(cmd_destroy);\n    }\n  }\n\n  /**\n   * Handle when a new output is added\n   */\n  function handleAddOutput(event, handle) {\n    const output_area = handle.output_area;\n    const output = handle.output;\n\n    // limit handleAddOutput to display_data with EXEC_MIME_TYPE content only\n    if ((output.output_type != \"display_data\") || (!Object.prototype.hasOwnProperty.call(output.data, EXEC_MIME_TYPE))) {\n      return\n    }\n\n    const toinsert = output_area.element.find(\".\" + CLASS_NAME.split(' ')[0]);\n\n    if (output.metadata[EXEC_MIME_TYPE][\"id\"] !== undefined) {\n      toinsert[toinsert.length - 1].firstChild.textContent = output.data[JS_MIME_TYPE];\n      // store reference to embed id on output_area\n      output_area._bokeh_element_id = output.metadata[EXEC_MIME_TYPE][\"id\"];\n    }\n    if (output.metadata[EXEC_MIME_TYPE][\"server_id\"] !== undefined) {\n      const bk_div = document.createElement(\"div\");\n      bk_div.innerHTML = output.data[HTML_MIME_TYPE];\n      const script_attrs = bk_div.children[0].attributes;\n      for (let i = 0; i < script_attrs.length; i++) {\n        toinsert[toinsert.length - 1].firstChild.setAttribute(script_attrs[i].name, script_attrs[i].value);\n        toinsert[toinsert.length - 1].firstChild.textContent = bk_div.children[0].textContent\n      }\n      // store reference to server id on output_area\n      output_area._bokeh_server_id = output.metadata[EXEC_MIME_TYPE][\"server_id\"];\n    }\n  }\n\n  function register_renderer(events, OutputArea) {\n\n    function append_mime(data, metadata, element) {\n      // create a DOM node to render to\n      const toinsert = this.create_output_subarea(\n        metadata,\n        CLASS_NAME,\n        EXEC_MIME_TYPE\n      );\n      this.keyboard_manager.register_events(toinsert);\n      // Render to node\n      const props = {data: data, metadata: metadata[EXEC_MIME_TYPE]};\n      render(props, toinsert[toinsert.length - 1]);\n      element.append(toinsert);\n      return toinsert\n    }\n\n    /* Handle when an output is cleared or removed */\n    events.on('clear_output.CodeCell', handleClearOutput);\n    events.on('delete.Cell', handleClearOutput);\n\n    /* Handle when a new output is added */\n    events.on('output_added.OutputArea', handleAddOutput);\n\n    /**\n     * Register the mime type and append_mime function with output_area\n     */\n    OutputArea.prototype.register_mime_type(EXEC_MIME_TYPE, append_mime, {\n      /* Is output safe? */\n      safe: true,\n      /* Index of renderer in `output_area.display_order` */\n      index: 0\n    });\n  }\n\n  // register the mime type if in Jupyter Notebook environment and previously unregistered\n  if (root.Jupyter !== undefined) {\n    const events = require('base/js/events');\n    const OutputArea = require('notebook/js/outputarea').OutputArea;\n\n    if (OutputArea.prototype.mime_types().indexOf(EXEC_MIME_TYPE) == -1) {\n      register_renderer(events, OutputArea);\n    }\n  }\n  if (typeof (root._bokeh_timeout) === \"undefined\" || force === true) {\n    root._bokeh_timeout = Date.now() + 5000;\n    root._bokeh_failed_load = false;\n  }\n\n  const NB_LOAD_WARNING = {'data': {'text/html':\n     \"<div style='background-color: #fdd'>\\n\"+\n     \"<p>\\n\"+\n     \"BokehJS does not appear to have successfully loaded. If loading BokehJS from CDN, this \\n\"+\n     \"may be due to a slow or bad network connection. Possible fixes:\\n\"+\n     \"</p>\\n\"+\n     \"<ul>\\n\"+\n     \"<li>re-rerun `output_notebook()` to attempt to load from CDN again, or</li>\\n\"+\n     \"<li>use INLINE resources instead, as so:</li>\\n\"+\n     \"</ul>\\n\"+\n     \"<code>\\n\"+\n     \"from bokeh.resources import INLINE\\n\"+\n     \"output_notebook(resources=INLINE)\\n\"+\n     \"</code>\\n\"+\n     \"</div>\"}};\n\n  function display_loaded() {\n    const el = document.getElementById(\"1002\");\n    if (el != null) {\n      el.textContent = \"BokehJS is loading...\";\n    }\n    if (root.Bokeh !== undefined) {\n      if (el != null) {\n        el.textContent = \"BokehJS \" + root.Bokeh.version + \" successfully loaded.\";\n      }\n    } else if (Date.now() < root._bokeh_timeout) {\n      setTimeout(display_loaded, 100)\n    }\n  }\n\n  function run_callbacks() {\n    try {\n      root._bokeh_onload_callbacks.forEach(function(callback) {\n        if (callback != null)\n          callback();\n      });\n    } finally {\n      delete root._bokeh_onload_callbacks\n    }\n    console.debug(\"Bokeh: all callbacks have finished\");\n  }\n\n  function load_libs(css_urls, js_urls, callback) {\n    if (css_urls == null) css_urls = [];\n    if (js_urls == null) js_urls = [];\n\n    root._bokeh_onload_callbacks.push(callback);\n    if (root._bokeh_is_loading > 0) {\n      console.debug(\"Bokeh: BokehJS is being loaded, scheduling callback at\", now());\n      return null;\n    }\n    if (js_urls == null || js_urls.length === 0) {\n      run_callbacks();\n      return null;\n    }\n    console.debug(\"Bokeh: BokehJS not loaded, scheduling load and callback at\", now());\n    root._bokeh_is_loading = css_urls.length + js_urls.length;\n\n    function on_load() {\n      root._bokeh_is_loading--;\n      if (root._bokeh_is_loading === 0) {\n        console.debug(\"Bokeh: all BokehJS libraries/stylesheets loaded\");\n        run_callbacks()\n      }\n    }\n\n    function on_error(url) {\n      console.error(\"failed to load \" + url);\n    }\n\n    for (let i = 0; i < css_urls.length; i++) {\n      const url = css_urls[i];\n      const element = document.createElement(\"link\");\n      element.onload = on_load;\n      element.onerror = on_error.bind(null, url);\n      element.rel = \"stylesheet\";\n      element.type = \"text/css\";\n      element.href = url;\n      console.debug(\"Bokeh: injecting link tag for BokehJS stylesheet: \", url);\n      document.body.appendChild(element);\n    }\n\n    for (let i = 0; i < js_urls.length; i++) {\n      const url = js_urls[i];\n      const element = document.createElement('script');\n      element.onload = on_load;\n      element.onerror = on_error.bind(null, url);\n      element.async = false;\n      element.src = url;\n      console.debug(\"Bokeh: injecting script tag for BokehJS library: \", url);\n      document.head.appendChild(element);\n    }\n  };\n\n  function inject_raw_css(css) {\n    const element = document.createElement(\"style\");\n    element.appendChild(document.createTextNode(css));\n    document.body.appendChild(element);\n  }\n\n  const js_urls = [\"https://cdn.bokeh.org/bokeh/release/bokeh-2.4.3.min.js\", \"https://cdn.bokeh.org/bokeh/release/bokeh-gl-2.4.3.min.js\", \"https://cdn.bokeh.org/bokeh/release/bokeh-widgets-2.4.3.min.js\", \"https://cdn.bokeh.org/bokeh/release/bokeh-tables-2.4.3.min.js\", \"https://cdn.bokeh.org/bokeh/release/bokeh-mathjax-2.4.3.min.js\"];\n  const css_urls = [];\n\n  const inline_js = [    function(Bokeh) {\n      Bokeh.set_log_level(\"info\");\n    },\nfunction(Bokeh) {\n    }\n  ];\n\n  function run_inline_js() {\n    if (root.Bokeh !== undefined || force === true) {\n          for (let i = 0; i < inline_js.length; i++) {\n      inline_js[i].call(root, root.Bokeh);\n    }\nif (force === true) {\n        display_loaded();\n      }} else if (Date.now() < root._bokeh_timeout) {\n      setTimeout(run_inline_js, 100);\n    } else if (!root._bokeh_failed_load) {\n      console.log(\"Bokeh: BokehJS failed to load within specified timeout.\");\n      root._bokeh_failed_load = true;\n    } else if (force !== true) {\n      const cell = $(document.getElementById(\"1002\")).parents('.cell').data().cell;\n      cell.output_area.append_execute_result(NB_LOAD_WARNING)\n    }\n  }\n\n  if (root._bokeh_is_loading === 0) {\n    console.debug(\"Bokeh: BokehJS loaded, going straight to plotting\");\n    run_inline_js();\n  } else {\n    load_libs(css_urls, js_urls, function() {\n      console.debug(\"Bokeh: BokehJS plotting callback run at\", now());\n      run_inline_js();\n    });\n  }\n}(window));",
      "application/vnd.bokehjs_load.v0+json": ""
     },
     "metadata": {},
     "output_type": "display_data"
    },
    {
     "data": {
      "text/html": [
       "\n",
       "  <div class=\"bk-root\" id=\"768bedeb-fc6d-4668-9a90-0a0c7e029644\" data-root-id=\"1735\"></div>\n"
      ]
     },
     "metadata": {},
     "output_type": "display_data"
    },
    {
     "data": {
      "application/javascript": "(function(root) {\n  function embed_document(root) {\n  const docs_json = {\"b4135961-6baa-4ac7-9067-581194e3d2ce\":{\"defs\":[],\"roots\":{\"references\":[{\"attributes\":{\"children\":[{\"id\":\"1052\"},{\"id\":\"1084\"}]},\"id\":\"1735\",\"type\":\"Column\"},{\"attributes\":{},\"id\":\"1074\",\"type\":\"SaveTool\"},{\"attributes\":{\"dimensions\":\"width\"},\"id\":\"1075\",\"type\":\"PanTool\"},{\"attributes\":{},\"id\":\"1073\",\"type\":\"ResetTool\"},{\"attributes\":{\"dimensions\":\"width\"},\"id\":\"1071\",\"type\":\"WheelZoomTool\"},{\"attributes\":{\"fill_color\":{\"value\":\"#2E6D8E\"},\"hatch_color\":{\"value\":\"#2E6D8E\"},\"line_color\":{\"value\":\"#2E6D8E\"},\"x\":{\"field\":\"date_time\"},\"y\":{\"field\":\"y_index\"}},\"id\":\"1224\",\"type\":\"Circle\"},{\"attributes\":{\"data\":{\"date_time\":{\"__ndarray__\":\"AAAY/7zbc0IAAOwxENxzQgAAHlG+3HNCAABIxtPcc0IAAPxADt1zQgAA1J8i3XNCAAAwV3jdc0IAAJbStN1zQgAA6OHL3XNCAAAo+Avec0IAABbxYN5zQgAAPm+63nNCAAB4R8bec0IAAFBF/95zQgAAiNNH33NCAACoI5vfc0IAAIKp4N9zQgAACJ/s33NCAAAYTgDgc0IAAPgfTuBzQgAAPoKW4HNCAACs0efgc0IAABhU+eBzQgAAahAJ4XNCAAB4z0rhc0IAAJI7W+FzQgAAQuuv4XNCAADuFFLic0IAAGLlKOVzQgAA8txk5XNCAAACOXHlc0IAAComeuVzQgAAOsDP5XNCAACst3Tmc0IAABhHaedzQgAARmu853NCAAByb8jnc0IAABY77+dzQgAAMtUa6HNCAAB4mD7oc0IAAFS0ZOhzQgAANiGb6nNCAAA8stbqc0IAAO6r7upzQgAAlFIp63NCAADQskHrc0IAAO7UeetzQgAAGtKb63NCAAC0M83rc0IAAHi+9utzQgAAaE0s7HNCAAAuBnHsc0IAALT0kuxzQgAAQvz87HNCAAAQRCPtc0IAAHIJOO1zQg==\",\"dtype\":\"float64\",\"order\":\"little\",\"shape\":[56]},\"index\":[1205,1206,1207,1208,1209,1210,1211,1212,1213,1214,1215,1216,1217,1218,1219,1220,1221,1222,1223,1224,1225,1226,1227,1228,1229,1230,1231,1232,1233,1234,1235,1236,1237,1238,1239,1240,1241,1242,1243,1244,1245,1246,1247,1248,1249,1250,1251,1252,1253,1254,1255,1256,1257,1258,1259,1260],\"y_index\":[29,29,29,29,29,29,29,29,29,29,29,29,29,29,29,29,29,29,29,29,29,29,29,29,29,29,29,29,29,29,29,29,29,29,29,29,29,29,29,29,29,29,29,29,29,29,29,29,29,29,29,29,29,29,29,29]},\"selected\":{\"id\":\"1804\"},\"selection_policy\":{\"id\":\"1803\"}},\"id\":\"1032\",\"type\":\"ColumnDataSource\"},{\"attributes\":{\"overlay\":{\"id\":\"1076\"}},\"id\":\"1072\",\"type\":\"BoxZoomTool\"},{\"attributes\":{},\"id\":\"1811\",\"type\":\"UnionRenderers\"},{\"attributes\":{\"data\":{\"date_time\":{\"__ndarray__\":\"AACMabDcc0IAAE62CN9zQgAAmPEK33NCAABW6gfgc0IAACYo+eBzQgAAJCpT4XNCAACISxbkc0I=\",\"dtype\":\"float64\",\"order\":\"little\",\"shape\":[7]},\"index\":[1261,1262,1264,1266,1267,1269,1270],\"y_index\":[30,30,30,30,30,30,30]},\"selected\":{\"id\":\"1806\"},\"selection_policy\":{\"id\":\"1805\"}},\"id\":\"1033\",\"type\":\"ColumnDataSource\"},{\"attributes\":{},\"id\":\"1812\",\"type\":\"Selection\"},{\"attributes\":{\"fill_alpha\":{\"value\":0.1},\"fill_color\":{\"value\":\"#345F8D\"},\"hatch_alpha\":{\"value\":0.1},\"hatch_color\":{\"value\":\"#345F8D\"},\"line_alpha\":{\"value\":0.1},\"line_color\":{\"value\":\"#345F8D\"},\"x\":{\"field\":\"date_time\"},\"y\":{\"field\":\"y_index\"}},\"id\":\"1207\",\"type\":\"Circle\"},{\"attributes\":{\"fill_alpha\":{\"value\":0.1},\"fill_color\":{\"value\":\"#46317E\"},\"hatch_alpha\":{\"value\":0.1},\"hatch_color\":{\"value\":\"#46317E\"},\"line_alpha\":{\"value\":0.1},\"line_color\":{\"value\":\"#46317E\"},\"x\":{\"field\":\"date_time\"},\"y\":{\"field\":\"y_index\"}},\"id\":\"1153\",\"type\":\"Circle\"},{\"attributes\":{\"fill_alpha\":{\"value\":0.1},\"fill_color\":{\"value\":\"#38568B\"},\"hatch_alpha\":{\"value\":0.1},\"hatch_color\":{\"value\":\"#38568B\"},\"line_alpha\":{\"value\":0.1},\"line_color\":{\"value\":\"#38568B\"},\"x\":{\"field\":\"date_time\"},\"y\":{\"field\":\"y_index\"}},\"id\":\"1195\",\"type\":\"Circle\"},{\"attributes\":{\"bottom_units\":\"screen\",\"coordinates\":null,\"fill_alpha\":0.5,\"fill_color\":\"lightgrey\",\"group\":null,\"left_units\":\"screen\",\"level\":\"overlay\",\"line_alpha\":1.0,\"line_color\":\"black\",\"line_dash\":[4,4],\"line_width\":2,\"right_units\":\"screen\",\"syncable\":false,\"top_units\":\"screen\"},\"id\":\"1076\",\"type\":\"BoxAnnotation\"},{\"attributes\":{\"data\":{\"date_time\":{\"__ndarray__\":\"AAD6427bc0IAAKLZdN1zQgAA8A3w33NCAACwc0Lgc0IAAMDOXeFzQgAA+Amf4XNCAAAiLK3hc0IAAGjJa+VzQgAAIkt75XNCAAC4qXbmc0IAAMZq7etzQgAAJGsV7XNCAACYs2ftc0I=\",\"dtype\":\"float64\",\"order\":\"little\",\"shape\":[13]},\"index\":[1536,1537,1538,1539,1540,1541,1542,1543,1544,1545,1546,1547,1548],\"y_index\":[37,37,37,37,37,37,37,37,37,37,37,37,37]},\"selected\":{\"id\":\"1820\"},\"selection_policy\":{\"id\":\"1819\"}},\"id\":\"1040\",\"type\":\"ColumnDataSource\"},{\"attributes\":{\"active_multi\":{\"id\":\"1391\"},\"tools\":[{\"id\":\"1391\"}]},\"id\":\"1099\",\"type\":\"Toolbar\"},{\"attributes\":{\"fill_alpha\":{\"value\":0.1},\"fill_color\":{\"value\":\"#3B518A\"},\"hatch_alpha\":{\"value\":0.1},\"hatch_color\":{\"value\":\"#3B518A\"},\"line_alpha\":{\"value\":0.1},\"line_color\":{\"value\":\"#3B518A\"},\"x\":{\"field\":\"date_time\"},\"y\":{\"field\":\"y_index\"}},\"id\":\"1189\",\"type\":\"Circle\"},{\"attributes\":{\"fill_alpha\":{\"value\":0.1},\"fill_color\":{\"value\":\"#433C84\"},\"hatch_alpha\":{\"value\":0.1},\"hatch_color\":{\"value\":\"#433C84\"},\"line_alpha\":{\"value\":0.1},\"line_color\":{\"value\":\"#433C84\"},\"x\":{\"field\":\"date_time\"},\"y\":{\"field\":\"y_index\"}},\"id\":\"1165\",\"type\":\"Circle\"},{\"attributes\":{\"fill_color\":{\"value\":\"#433C84\"},\"hatch_color\":{\"value\":\"#433C84\"},\"line_color\":{\"value\":\"#433C84\"},\"x\":{\"field\":\"date_time\"},\"y\":{\"field\":\"y_index\"}},\"id\":\"1164\",\"type\":\"Circle\"},{\"attributes\":{\"source\":{\"id\":\"1012\"}},\"id\":\"1162\",\"type\":\"CDSView\"},{\"attributes\":{\"coordinates\":null,\"data_source\":{\"id\":\"1012\"},\"glyph\":{\"id\":\"1158\"},\"group\":null,\"hover_glyph\":null,\"muted_glyph\":{\"id\":\"1160\"},\"nonselection_glyph\":{\"id\":\"1159\"},\"view\":{\"id\":\"1162\"}},\"id\":\"1161\",\"type\":\"GlyphRenderer\"},{\"attributes\":{\"fill_alpha\":{\"value\":0.2},\"fill_color\":{\"value\":\"#453681\"},\"hatch_alpha\":{\"value\":0.2},\"hatch_color\":{\"value\":\"#453681\"},\"line_alpha\":{\"value\":0.2},\"line_color\":{\"value\":\"#453681\"},\"x\":{\"field\":\"date_time\"},\"y\":{\"field\":\"y_index\"}},\"id\":\"1160\",\"type\":\"Circle\"},{\"attributes\":{},\"id\":\"1813\",\"type\":\"UnionRenderers\"},{\"attributes\":{\"source\":{\"id\":\"1031\"}},\"id\":\"1276\",\"type\":\"CDSView\"},{\"attributes\":{\"source\":{\"id\":\"1016\"}},\"id\":\"1186\",\"type\":\"CDSView\"},{\"attributes\":{},\"id\":\"1814\",\"type\":\"Selection\"},{\"attributes\":{\"fill_color\":{\"value\":\"#345F8D\"},\"hatch_color\":{\"value\":\"#345F8D\"},\"line_color\":{\"value\":\"#345F8D\"},\"x\":{\"field\":\"date_time\"},\"y\":{\"field\":\"y_index\"}},\"id\":\"1206\",\"type\":\"Circle\"},{\"attributes\":{\"data\":{\"date_time\":{\"__ndarray__\":\"AABQXoHac0IAAAB9hdpzQgAAEruP2nNCAAAyzZnac0IAADT7tNpzQgAAINTC2nNCAAC0Ssfac0IAALTw1dpzQgAApm/d2nNCAABQ6Ofac0IAAFzMFdtzQgAAIpoY23NCAABIUhzbc0IAAOSjH9tzQgAAVJcl23NCAAAM1lvbc0IAAAhlZ9tzQgAA7E2423NCAAAWw83bc0IAAID7G9xzQgAA9Fgs3HNCAABuXDbcc0IAAO7+T9xzQgAAPKRc3HNCAAAm7nPcc0IAACgOu9xzQgAAErLD3HNCAAA81NHcc0IAAI6J99xzQgAA7mwO3XNCAAAgFxTdc0IAAIKJId1zQgAAWA0i3XNCAACoM1Hdc0IAAKjZX91zQgAAWJCe3XNCAAAQg7fdc0IAAFRrx91zQgAAkp8J3nNCAADU/wzec0IAALz/YN5zQgAAKGbK3nNCAADIbfXec0IAAIQdIN9zQgAAlgE533NCAADeplrfc0IAALCkqN9zQgAAjqm233NCAAB61cvfc0IAAOCq+d9zQgAArL0a4HNCAACUxFjgc0IAAFL1peBzQgAAHg+x4HNCAADmsN3gc0IAAO7X+eBzQgAAui9O4XNCAAC89aPhc0IAAJSg1eFzQgAAAJ954nNCAABmE8zic0IAAAxSQeNzQgAALkZJ43NCAACmBnrjc0IAAJ4P0+NzQgAAABob5HNCAADUBzvkc0IAAPq/PuRzQgAAoG1j5HNCAABCXnbkc0IAAOasGeVzQgAADFBf5XNCAACW7b7lc0IAALD/3eVzQgAA2m0J5nNCAAB6zyXmc0IAAKLCJ+dzQgAAvua553NCAACuBkDoc0IAAHLWnOhzQgAA8O3W63NCAAC6ygHtc0IAADzuPe1zQg==\",\"dtype\":\"float64\",\"order\":\"little\",\"shape\":[83]},\"index\":[269,270,271,272,273,274,275,276,277,278,279,280,281,282,283,284,285,286,287,288,289,290,291,292,293,294,295,296,297,298,299,300,301,302,303,304,305,306,307,308,309,310,311,312,313,314,315,316,317,318,319,320,321,322,323,324,325,326,327,328,329,330,331,332,333,334,335,336,337,338,339,340,341,342,350,351,352,353,354,355,356,357,358],\"y_index\":[7,7,7,7,7,7,7,7,7,7,7,7,7,7,7,7,7,7,7,7,7,7,7,7,7,7,7,7,7,7,7,7,7,7,7,7,7,7,7,7,7,7,7,7,7,7,7,7,7,7,7,7,7,7,7,7,7,7,7,7,7,7,7,7,7,7,7,7,7,7,7,7,7,7,7,7,7,7,7,7,7,7,7]},\"selected\":{\"id\":\"1760\"},\"selection_policy\":{\"id\":\"1759\"}},\"id\":\"1010\",\"type\":\"ColumnDataSource\"},{\"attributes\":{\"fill_alpha\":{\"value\":0.1},\"fill_color\":{\"value\":\"#2E6D8E\"},\"hatch_alpha\":{\"value\":0.1},\"hatch_color\":{\"value\":\"#2E6D8E\"},\"line_alpha\":{\"value\":0.1},\"line_color\":{\"value\":\"#2E6D8E\"},\"x\":{\"field\":\"date_time\"},\"y\":{\"field\":\"y_index\"}},\"id\":\"1225\",\"type\":\"Circle\"},{\"attributes\":{\"source\":{\"id\":\"1035\"}},\"id\":\"1300\",\"type\":\"CDSView\"},{\"attributes\":{\"data\":{\"date_time\":{\"__ndarray__\":\"AAB+uTPbc0IAAP6nattzQgAA/Fa923NCAAAQcNvbc0IAADKwANxzQgAAMHQR3HNCAADK3Czcc0IAAED5qNxzQgAAckm93HNCAACO6tLcc0IAAFCMFN1zQgAA/hsi3XNCAACaBWDdc0IAAGiSud1zQgAADBLD3XNCAAB6Dg3ec0IAAJ4pRt5zQgAAXBVg3nNCAABU0pvec0IAAL5rxd5zQgAA9K9K33NCAAAc25zfc0IAANgp7N9zQgAAZL4H4HNCAABuwDfgc0IAANbYPuBzQgAAPE2R4HNCAAAWJt7gc0IAAAYIG+FzQgAAoA9b4XNCAACs7J7hc0IAABwzrOFzQgAAFglF4nNCAABapEbjc0IAAKoqYORzQgAASB8n5XNCAABa9Wvlc0IAAJLreeVzQgAAEETQ5XNCAABwvyHmc0IAAP72AOdzQgAAjP5q53NCAABkSMHnc0IAANy16udzQgAA+iNA6HNCAABE4r7oc0IAAIT/6OhzQgAAyK+o6XNCAAB+lkfqc0IAABoK7OpzQgAAnCY+63NCAAAYX03rc0IAAAKieutzQgAAZjTP63NCAABaeSzsc0IAAJTG4OxzQgAA9PUU7XNCAADwfTbtc0IAAOrkH+5zQgAA2KUk73NCAAC4HYHvc0I=\",\"dtype\":\"float64\",\"order\":\"little\",\"shape\":[61]},\"index\":[1549,1550,1551,1552,1553,1554,1555,1556,1557,1558,1559,1560,1561,1562,1563,1564,1565,1566,1567,1568,1569,1570,1571,1572,1573,1574,1575,1576,1577,1578,1579,1580,1581,1582,1583,1584,1585,1586,1587,1588,1589,1590,1591,1592,1593,1594,1595,1596,1597,1598,1599,1600,1601,1602,1603,1604,1605,1606,1607,1608,1609],\"y_index\":[38,38,38,38,38,38,38,38,38,38,38,38,38,38,38,38,38,38,38,38,38,38,38,38,38,38,38,38,38,38,38,38,38,38,38,38,38,38,38,38,38,38,38,38,38,38,38,38,38,38,38,38,38,38,38,38,38,38,38,38,38]},\"selected\":{\"id\":\"1822\"},\"selection_policy\":{\"id\":\"1821\"}},\"id\":\"1041\",\"type\":\"ColumnDataSource\"},{\"attributes\":{\"source\":{\"id\":\"1013\"}},\"id\":\"1168\",\"type\":\"CDSView\"},{\"attributes\":{\"coordinates\":null,\"data_source\":{\"id\":\"1013\"},\"glyph\":{\"id\":\"1164\"},\"group\":null,\"hover_glyph\":null,\"muted_glyph\":{\"id\":\"1166\"},\"nonselection_glyph\":{\"id\":\"1165\"},\"view\":{\"id\":\"1168\"}},\"id\":\"1167\",\"type\":\"GlyphRenderer\"},{\"attributes\":{\"fill_alpha\":{\"value\":0.2},\"fill_color\":{\"value\":\"#433C84\"},\"hatch_alpha\":{\"value\":0.2},\"hatch_color\":{\"value\":\"#433C84\"},\"line_alpha\":{\"value\":0.2},\"line_color\":{\"value\":\"#433C84\"},\"x\":{\"field\":\"date_time\"},\"y\":{\"field\":\"y_index\"}},\"id\":\"1166\",\"type\":\"Circle\"},{\"attributes\":{\"fill_alpha\":{\"value\":0.1},\"fill_color\":{\"value\":\"#414286\"},\"hatch_alpha\":{\"value\":0.1},\"hatch_color\":{\"value\":\"#414286\"},\"line_alpha\":{\"value\":0.1},\"line_color\":{\"value\":\"#414286\"},\"x\":{\"field\":\"date_time\"},\"y\":{\"field\":\"y_index\"}},\"id\":\"1171\",\"type\":\"Circle\"},{\"attributes\":{\"days\":[\"%m-%d %H:%M\"],\"hours\":[\"%H:%M:%S\"],\"milliseconds\":[\"%H:%M:%S.%3N\"],\"minutes\":[\"%H:%M:%S\"],\"seconds\":[\"%H:%M:%S\"]},\"id\":\"1396\",\"type\":\"DatetimeTickFormatter\"},{\"attributes\":{\"coordinates\":null,\"data_source\":{\"id\":\"1016\"},\"glyph\":{\"id\":\"1182\"},\"group\":null,\"hover_glyph\":null,\"muted_glyph\":{\"id\":\"1184\"},\"nonselection_glyph\":{\"id\":\"1183\"},\"view\":{\"id\":\"1186\"}},\"id\":\"1185\",\"type\":\"GlyphRenderer\"},{\"attributes\":{\"fill_alpha\":{\"value\":0.1},\"fill_color\":{\"value\":\"#365A8C\"},\"hatch_alpha\":{\"value\":0.1},\"hatch_color\":{\"value\":\"#365A8C\"},\"line_alpha\":{\"value\":0.1},\"line_color\":{\"value\":\"#365A8C\"},\"x\":{\"field\":\"date_time\"},\"y\":{\"field\":\"y_index\"}},\"id\":\"1201\",\"type\":\"Circle\"},{\"attributes\":{\"fill_color\":{\"value\":\"#365A8C\"},\"hatch_color\":{\"value\":\"#365A8C\"},\"line_color\":{\"value\":\"#365A8C\"},\"x\":{\"field\":\"date_time\"},\"y\":{\"field\":\"y_index\"}},\"id\":\"1200\",\"type\":\"Circle\"},{\"attributes\":{\"source\":{\"id\":\"1018\"}},\"id\":\"1198\",\"type\":\"CDSView\"},{\"attributes\":{\"coordinates\":null,\"data_source\":{\"id\":\"1008\"},\"glyph\":{\"id\":\"1134\"},\"group\":null,\"hover_glyph\":null,\"muted_glyph\":{\"id\":\"1136\"},\"nonselection_glyph\":{\"id\":\"1135\"},\"view\":{\"id\":\"1138\"}},\"id\":\"1137\",\"type\":\"GlyphRenderer\"},{\"attributes\":{\"fill_color\":{\"value\":\"#3B518A\"},\"hatch_color\":{\"value\":\"#3B518A\"},\"line_color\":{\"value\":\"#3B518A\"},\"x\":{\"field\":\"date_time\"},\"y\":{\"field\":\"y_index\"}},\"id\":\"1188\",\"type\":\"Circle\"},{\"attributes\":{\"source\":{\"id\":\"1008\"}},\"id\":\"1138\",\"type\":\"CDSView\"},{\"attributes\":{\"fill_alpha\":{\"value\":0.2},\"fill_color\":{\"value\":\"#345F8D\"},\"hatch_alpha\":{\"value\":0.2},\"hatch_color\":{\"value\":\"#345F8D\"},\"line_alpha\":{\"value\":0.2},\"line_color\":{\"value\":\"#345F8D\"},\"x\":{\"field\":\"date_time\"},\"y\":{\"field\":\"y_index\"}},\"id\":\"1208\",\"type\":\"Circle\"},{\"attributes\":{},\"id\":\"1815\",\"type\":\"UnionRenderers\"},{\"attributes\":{\"coordinates\":null,\"data_source\":{\"id\":\"1018\"},\"glyph\":{\"id\":\"1194\"},\"group\":null,\"hover_glyph\":null,\"muted_glyph\":{\"id\":\"1196\"},\"nonselection_glyph\":{\"id\":\"1195\"},\"view\":{\"id\":\"1198\"}},\"id\":\"1197\",\"type\":\"GlyphRenderer\"},{\"attributes\":{},\"id\":\"1816\",\"type\":\"Selection\"},{\"attributes\":{\"fill_alpha\":{\"value\":0.2},\"fill_color\":{\"value\":\"#482071\"},\"hatch_alpha\":{\"value\":0.2},\"hatch_color\":{\"value\":\"#482071\"},\"line_alpha\":{\"value\":0.2},\"line_color\":{\"value\":\"#482071\"},\"x\":{\"field\":\"date_time\"},\"y\":{\"field\":\"y_index\"}},\"id\":\"1136\",\"type\":\"Circle\"},{\"attributes\":{\"coordinates\":null,\"data_source\":{\"id\":\"1009\"},\"glyph\":{\"id\":\"1140\"},\"group\":null,\"hover_glyph\":null,\"muted_glyph\":{\"id\":\"1142\"},\"nonselection_glyph\":{\"id\":\"1141\"},\"view\":{\"id\":\"1144\"}},\"id\":\"1143\",\"type\":\"GlyphRenderer\"},{\"attributes\":{\"fill_alpha\":{\"value\":0.2},\"fill_color\":{\"value\":\"#472676\"},\"hatch_alpha\":{\"value\":0.2},\"hatch_color\":{\"value\":\"#472676\"},\"line_alpha\":{\"value\":0.2},\"line_color\":{\"value\":\"#472676\"},\"x\":{\"field\":\"date_time\"},\"y\":{\"field\":\"y_index\"}},\"id\":\"1142\",\"type\":\"Circle\"},{\"attributes\":{\"fill_color\":{\"value\":\"#472B7A\"},\"hatch_color\":{\"value\":\"#472B7A\"},\"line_color\":{\"value\":\"#472B7A\"},\"x\":{\"field\":\"date_time\"},\"y\":{\"field\":\"y_index\"}},\"id\":\"1146\",\"type\":\"Circle\"},{\"attributes\":{\"coordinates\":null,\"data_source\":{\"id\":\"1020\"},\"glyph\":{\"id\":\"1206\"},\"group\":null,\"hover_glyph\":null,\"muted_glyph\":{\"id\":\"1208\"},\"nonselection_glyph\":{\"id\":\"1207\"},\"view\":{\"id\":\"1210\"}},\"id\":\"1209\",\"type\":\"GlyphRenderer\"},{\"attributes\":{\"coordinates\":null,\"data_source\":{\"id\":\"1035\"},\"glyph\":{\"id\":\"1296\"},\"group\":null,\"hover_glyph\":null,\"muted_glyph\":{\"id\":\"1298\"},\"nonselection_glyph\":{\"id\":\"1297\"},\"view\":{\"id\":\"1300\"}},\"id\":\"1299\",\"type\":\"GlyphRenderer\"},{\"attributes\":{\"fill_color\":{\"value\":\"#1EA087\"},\"hatch_color\":{\"value\":\"#1EA087\"},\"line_color\":{\"value\":\"#1EA087\"},\"x\":{\"field\":\"date_time\"},\"y\":{\"field\":\"y_index\"}},\"id\":\"1296\",\"type\":\"Circle\"},{\"attributes\":{\"coordinates\":null,\"data_source\":{\"id\":\"1017\"},\"glyph\":{\"id\":\"1188\"},\"group\":null,\"hover_glyph\":null,\"muted_glyph\":{\"id\":\"1190\"},\"nonselection_glyph\":{\"id\":\"1189\"},\"view\":{\"id\":\"1192\"}},\"id\":\"1191\",\"type\":\"GlyphRenderer\"},{\"attributes\":{\"fill_alpha\":{\"value\":0.1},\"fill_color\":{\"value\":\"#30688D\"},\"hatch_alpha\":{\"value\":0.1},\"hatch_color\":{\"value\":\"#30688D\"},\"line_alpha\":{\"value\":0.1},\"line_color\":{\"value\":\"#30688D\"},\"x\":{\"field\":\"date_time\"},\"y\":{\"field\":\"y_index\"}},\"id\":\"1219\",\"type\":\"Circle\"},{\"attributes\":{\"fill_alpha\":{\"value\":0.2},\"fill_color\":{\"value\":\"#38568B\"},\"hatch_alpha\":{\"value\":0.2},\"hatch_color\":{\"value\":\"#38568B\"},\"line_alpha\":{\"value\":0.2},\"line_color\":{\"value\":\"#38568B\"},\"x\":{\"field\":\"date_time\"},\"y\":{\"field\":\"y_index\"}},\"id\":\"1196\",\"type\":\"Circle\"},{\"attributes\":{\"source\":{\"id\":\"1034\"}},\"id\":\"1294\",\"type\":\"CDSView\"},{\"attributes\":{\"fill_color\":{\"value\":\"#30688D\"},\"hatch_color\":{\"value\":\"#30688D\"},\"line_color\":{\"value\":\"#30688D\"},\"x\":{\"field\":\"date_time\"},\"y\":{\"field\":\"y_index\"}},\"id\":\"1218\",\"type\":\"Circle\"},{\"attributes\":{\"below\":[{\"id\":\"1063\"}],\"center\":[{\"id\":\"1066\"},{\"id\":\"1070\"}],\"height\":1200,\"left\":[{\"id\":\"1067\"},{\"id\":\"1734\"}],\"min_border_left\":50,\"renderers\":[{\"id\":\"1402\"},{\"id\":\"1409\"},{\"id\":\"1416\"},{\"id\":\"1423\"},{\"id\":\"1430\"},{\"id\":\"1437\"},{\"id\":\"1444\"},{\"id\":\"1451\"},{\"id\":\"1458\"},{\"id\":\"1465\"},{\"id\":\"1472\"},{\"id\":\"1479\"},{\"id\":\"1486\"},{\"id\":\"1493\"},{\"id\":\"1500\"},{\"id\":\"1507\"},{\"id\":\"1514\"},{\"id\":\"1521\"},{\"id\":\"1528\"},{\"id\":\"1535\"},{\"id\":\"1542\"},{\"id\":\"1549\"},{\"id\":\"1556\"},{\"id\":\"1563\"},{\"id\":\"1570\"},{\"id\":\"1577\"},{\"id\":\"1584\"},{\"id\":\"1591\"},{\"id\":\"1598\"},{\"id\":\"1605\"},{\"id\":\"1612\"},{\"id\":\"1619\"},{\"id\":\"1626\"},{\"id\":\"1633\"},{\"id\":\"1640\"},{\"id\":\"1647\"},{\"id\":\"1654\"},{\"id\":\"1661\"},{\"id\":\"1668\"},{\"id\":\"1675\"},{\"id\":\"1682\"},{\"id\":\"1689\"},{\"id\":\"1696\"},{\"id\":\"1703\"},{\"id\":\"1710\"},{\"id\":\"1717\"},{\"id\":\"1724\"},{\"id\":\"1731\"}],\"title\":{\"id\":\"1053\"},\"toolbar\":{\"id\":\"1077\"},\"width\":900,\"x_range\":{\"id\":\"1055\"},\"x_scale\":{\"id\":\"1059\"},\"y_range\":{\"id\":\"1057\"},\"y_scale\":{\"id\":\"1061\"}},\"id\":\"1052\",\"subtype\":\"Figure\",\"type\":\"Plot\"},{\"attributes\":{\"fill_color\":{\"value\":\"#472676\"},\"hatch_color\":{\"value\":\"#472676\"},\"line_color\":{\"value\":\"#472676\"},\"x\":{\"field\":\"date_time\"},\"y\":{\"field\":\"y_index\"}},\"id\":\"1140\",\"type\":\"Circle\"},{\"attributes\":{\"source\":{\"id\":\"1021\"}},\"id\":\"1216\",\"type\":\"CDSView\"},{\"attributes\":{\"coordinates\":null,\"data_source\":{\"id\":\"1021\"},\"glyph\":{\"id\":\"1212\"},\"group\":null,\"hover_glyph\":null,\"muted_glyph\":{\"id\":\"1214\"},\"nonselection_glyph\":{\"id\":\"1213\"},\"view\":{\"id\":\"1216\"}},\"id\":\"1215\",\"type\":\"GlyphRenderer\"},{\"attributes\":{\"source\":{\"id\":\"1003\"}},\"id\":\"1108\",\"type\":\"CDSView\"},{\"attributes\":{\"fill_alpha\":{\"value\":0.2},\"fill_color\":{\"value\":\"#32638D\"},\"hatch_alpha\":{\"value\":0.2},\"hatch_color\":{\"value\":\"#32638D\"},\"line_alpha\":{\"value\":0.2},\"line_color\":{\"value\":\"#32638D\"},\"x\":{\"field\":\"date_time\"},\"y\":{\"field\":\"y_index\"}},\"id\":\"1214\",\"type\":\"Circle\"},{\"attributes\":{},\"id\":\"1817\",\"type\":\"UnionRenderers\"},{\"attributes\":{\"source\":{\"id\":\"1020\"}},\"id\":\"1210\",\"type\":\"CDSView\"},{\"attributes\":{\"data\":{\"date_time\":{\"__ndarray__\":\"AACIgxPcc0IAALJYE91zQgAAWA0i3XNCAACqS73ec0IAAJiPPuBzQgAAIKWR4HNCAAASW/jgc0IAAKZmZORzQgAAqGMZ5XNCAABmM4vlc0IAAOa3GuhzQg==\",\"dtype\":\"float64\",\"order\":\"little\",\"shape\":[11]},\"index\":[1271,1272,1273,1274,1275,1276,1277,1278,1279,1280,1281],\"y_index\":[31,31,31,31,31,31,31,31,31,31,31]},\"selected\":{\"id\":\"1808\"},\"selection_policy\":{\"id\":\"1807\"}},\"id\":\"1034\",\"type\":\"ColumnDataSource\"},{\"attributes\":{},\"id\":\"1818\",\"type\":\"Selection\"},{\"attributes\":{\"data\":{\"date_time\":{\"__ndarray__\":\"AADEbZLcc0IAAHp3w9xzQgAAUPvD3HNCAACO6tLcc0IAAPxADt1zQgAACg4k3XNCAABEK2Pdc0IAAOYbdt1zQgAAiuCy3XNCAABCT17ec0IAAI6jvd5zQgAA7rxC4HNCAACUy0Lgc0IAAHqWkeBzQgAAcKZM43NCAADetmPkc0IAALpOHOVzQgAAJJwo5XNCAAB8ag7oc0IAAEq5HuhzQgAApElD6HNCAABQed7pc0IAAOYPKupzQgAAjB4q6nNCAAC8yonqc0IAAPJ8zetzQgAAsEw/7HNCAADEo6bsc0I=\",\"dtype\":\"float64\",\"order\":\"little\",\"shape\":[28]},\"index\":[1282,1283,1284,1285,1286,1287,1288,1289,1290,1291,1292,1293,1294,1295,1296,1297,1298,1299,1300,1301,1302,1303,1305,1306,1307,1308,1309,1310],\"y_index\":[32,32,32,32,32,32,32,32,32,32,32,32,32,32,32,32,32,32,32,32,32,32,32,32,32,32,32,32]},\"selected\":{\"id\":\"1810\"},\"selection_policy\":{\"id\":\"1809\"}},\"id\":\"1035\",\"type\":\"ColumnDataSource\"},{\"attributes\":{\"fill_color\":{\"value\":\"#32638D\"},\"hatch_color\":{\"value\":\"#32638D\"},\"line_color\":{\"value\":\"#32638D\"},\"x\":{\"field\":\"date_time\"},\"y\":{\"field\":\"y_index\"}},\"id\":\"1212\",\"type\":\"Circle\"},{\"attributes\":{\"fill_alpha\":{\"value\":0.1},\"fill_color\":{\"value\":\"#32638D\"},\"hatch_alpha\":{\"value\":0.1},\"hatch_color\":{\"value\":\"#32638D\"},\"line_alpha\":{\"value\":0.1},\"line_color\":{\"value\":\"#32638D\"},\"x\":{\"field\":\"date_time\"},\"y\":{\"field\":\"y_index\"}},\"id\":\"1213\",\"type\":\"Circle\"},{\"attributes\":{\"coordinates\":null,\"data_source\":{\"id\":\"1034\"},\"glyph\":{\"id\":\"1290\"},\"group\":null,\"hover_glyph\":null,\"muted_glyph\":{\"id\":\"1292\"},\"nonselection_glyph\":{\"id\":\"1291\"},\"view\":{\"id\":\"1294\"}},\"id\":\"1293\",\"type\":\"GlyphRenderer\"},{\"attributes\":{\"fill_alpha\":{\"value\":0.2},\"fill_color\":{\"value\":\"#1E9C89\"},\"hatch_alpha\":{\"value\":0.2},\"hatch_color\":{\"value\":\"#1E9C89\"},\"line_alpha\":{\"value\":0.2},\"line_color\":{\"value\":\"#1E9C89\"},\"x\":{\"field\":\"date_time\"},\"y\":{\"field\":\"y_index\"}},\"id\":\"1292\",\"type\":\"Circle\"},{\"attributes\":{\"fill_alpha\":{\"value\":0.2},\"fill_color\":{\"value\":\"#365A8C\"},\"hatch_alpha\":{\"value\":0.2},\"hatch_color\":{\"value\":\"#365A8C\"},\"line_alpha\":{\"value\":0.2},\"line_color\":{\"value\":\"#365A8C\"},\"x\":{\"field\":\"date_time\"},\"y\":{\"field\":\"y_index\"}},\"id\":\"1202\",\"type\":\"Circle\"},{\"attributes\":{\"coordinates\":null,\"data_source\":{\"id\":\"1019\"},\"glyph\":{\"id\":\"1200\"},\"group\":null,\"hover_glyph\":null,\"muted_glyph\":{\"id\":\"1202\"},\"nonselection_glyph\":{\"id\":\"1201\"},\"view\":{\"id\":\"1204\"}},\"id\":\"1203\",\"type\":\"GlyphRenderer\"},{\"attributes\":{\"source\":{\"id\":\"1019\"}},\"id\":\"1204\",\"type\":\"CDSView\"},{\"attributes\":{\"source\":{\"id\":\"1015\"}},\"id\":\"1180\",\"type\":\"CDSView\"},{\"attributes\":{\"fill_alpha\":{\"value\":0.2},\"fill_color\":{\"value\":\"#3B518A\"},\"hatch_alpha\":{\"value\":0.2},\"hatch_color\":{\"value\":\"#3B518A\"},\"line_alpha\":{\"value\":0.2},\"line_color\":{\"value\":\"#3B518A\"},\"x\":{\"field\":\"date_time\"},\"y\":{\"field\":\"y_index\"}},\"id\":\"1190\",\"type\":\"Circle\"},{\"attributes\":{\"fill_alpha\":{\"value\":0.1},\"fill_color\":{\"value\":\"#472B7A\"},\"hatch_alpha\":{\"value\":0.1},\"hatch_color\":{\"value\":\"#472B7A\"},\"line_alpha\":{\"value\":0.1},\"line_color\":{\"value\":\"#472B7A\"},\"x\":{\"field\":\"date_time\"},\"y\":{\"field\":\"y_index\"}},\"id\":\"1147\",\"type\":\"Circle\"},{\"attributes\":{\"fill_color\":{\"value\":\"#46317E\"},\"hatch_color\":{\"value\":\"#46317E\"},\"line_color\":{\"value\":\"#46317E\"},\"x\":{\"field\":\"date_time\"},\"y\":{\"field\":\"y_index\"}},\"id\":\"1152\",\"type\":\"Circle\"},{\"attributes\":{\"source\":{\"id\":\"1010\"}},\"id\":\"1150\",\"type\":\"CDSView\"},{\"attributes\":{},\"id\":\"1819\",\"type\":\"UnionRenderers\"},{\"attributes\":{\"coordinates\":null,\"data_source\":{\"id\":\"1010\"},\"glyph\":{\"id\":\"1146\"},\"group\":null,\"hover_glyph\":null,\"muted_glyph\":{\"id\":\"1148\"},\"nonselection_glyph\":{\"id\":\"1147\"},\"view\":{\"id\":\"1150\"}},\"id\":\"1149\",\"type\":\"GlyphRenderer\"},{\"attributes\":{},\"id\":\"1820\",\"type\":\"Selection\"},{\"attributes\":{\"coordinates\":null,\"data_source\":{\"id\":\"1003\"},\"glyph\":{\"id\":\"1399\"},\"group\":null,\"hover_glyph\":null,\"muted_glyph\":{\"id\":\"1401\"},\"nonselection_glyph\":{\"id\":\"1400\"},\"view\":{\"id\":\"1403\"}},\"id\":\"1402\",\"type\":\"GlyphRenderer\"},{\"attributes\":{\"source\":{\"id\":\"1007\"}},\"id\":\"1132\",\"type\":\"CDSView\"},{\"attributes\":{\"fill_alpha\":{\"value\":0.1},\"fill_color\":{\"value\":\"#1EA087\"},\"hatch_alpha\":{\"value\":0.1},\"hatch_color\":{\"value\":\"#1EA087\"},\"line_alpha\":{\"value\":0.1},\"line_color\":{\"value\":\"#1EA087\"},\"x\":{\"field\":\"date_time\"},\"y\":{\"field\":\"y_index\"}},\"id\":\"1297\",\"type\":\"Circle\"},{\"attributes\":{\"fill_alpha\":{\"value\":0.2},\"fill_color\":{\"value\":\"#472B7A\"},\"hatch_alpha\":{\"value\":0.2},\"hatch_color\":{\"value\":\"#472B7A\"},\"line_alpha\":{\"value\":0.2},\"line_color\":{\"value\":\"#472B7A\"},\"x\":{\"field\":\"date_time\"},\"y\":{\"field\":\"y_index\"}},\"id\":\"1148\",\"type\":\"Circle\"},{\"attributes\":{\"source\":{\"id\":\"1009\"}},\"id\":\"1144\",\"type\":\"CDSView\"},{\"attributes\":{\"fill_alpha\":{\"value\":0.1},\"fill_color\":{\"value\":\"#472676\"},\"hatch_alpha\":{\"value\":0.1},\"hatch_color\":{\"value\":\"#472676\"},\"line_alpha\":{\"value\":0.1},\"line_color\":{\"value\":\"#472676\"},\"x\":{\"field\":\"date_time\"},\"y\":{\"field\":\"y_index\"}},\"id\":\"1141\",\"type\":\"Circle\"},{\"attributes\":{\"source\":{\"id\":\"1017\"}},\"id\":\"1192\",\"type\":\"CDSView\"},{\"attributes\":{\"source\":{\"id\":\"1014\"}},\"id\":\"1174\",\"type\":\"CDSView\"},{\"attributes\":{\"fill_color\":{\"value\":\"#38568B\"},\"hatch_color\":{\"value\":\"#38568B\"},\"line_color\":{\"value\":\"#38568B\"},\"x\":{\"field\":\"date_time\"},\"y\":{\"field\":\"y_index\"}},\"id\":\"1194\",\"type\":\"Circle\"},{\"attributes\":{\"fill_alpha\":{\"value\":0.1},\"fill_color\":{\"value\":\"#453681\"},\"hatch_alpha\":{\"value\":0.1},\"hatch_color\":{\"value\":\"#453681\"},\"line_alpha\":{\"value\":0.1},\"line_color\":{\"value\":\"#453681\"},\"x\":{\"field\":\"date_time\"},\"y\":{\"field\":\"y_index\"}},\"id\":\"1159\",\"type\":\"Circle\"},{\"attributes\":{\"fill_color\":{\"value\":\"#453681\"},\"hatch_color\":{\"value\":\"#453681\"},\"line_color\":{\"value\":\"#453681\"},\"x\":{\"field\":\"date_time\"},\"y\":{\"field\":\"y_index\"}},\"id\":\"1158\",\"type\":\"Circle\"},{\"attributes\":{\"data\":{\"date_time\":{\"__ndarray__\":\"AAAWF8bac0IAALjyGttzQgAAnhBx23NCAACair7bc0IAAA7TENxzQgAAmKfP3HNCAADIBxLdc0IAANJOdd1zQgAAwDIM3nNCAAAEBl7ec0IAAAi1m95zQgAAck7F3nNCAAAYxJnfc0IAAESXP+BzQgAASD+T4HNCAAC2O93gc0IAADT8+OBzQgAAcAkK4XNCAACAUFjhc0IAAAjAnOFzQgAAMHVV4nNCAAAOh0bjc0IAALJ0DuRzQgAATnIZ5XNCAADgWSflc0IAAJLreeVzQgAAxJt45nNCAABMJnTnc0IAAASj8+dzQgAAmLgc6HNC\",\"dtype\":\"float64\",\"order\":\"little\",\"shape\":[30]},\"index\":[106,107,108,109,110,111,112,113,114,115,116,117,118,119,120,121,122,123,124,125,126,127,128,129,130,131,132,133,134,135],\"y_index\":[2,2,2,2,2,2,2,2,2,2,2,2,2,2,2,2,2,2,2,2,2,2,2,2,2,2,2,2,2,2]},\"selected\":{\"id\":\"1750\"},\"selection_policy\":{\"id\":\"1749\"}},\"id\":\"1005\",\"type\":\"ColumnDataSource\"},{\"attributes\":{\"source\":{\"id\":\"1011\"}},\"id\":\"1156\",\"type\":\"CDSView\"},{\"attributes\":{\"coordinates\":null,\"data_source\":{\"id\":\"1011\"},\"glyph\":{\"id\":\"1152\"},\"group\":null,\"hover_glyph\":null,\"muted_glyph\":{\"id\":\"1154\"},\"nonselection_glyph\":{\"id\":\"1153\"},\"view\":{\"id\":\"1156\"}},\"id\":\"1155\",\"type\":\"GlyphRenderer\"},{\"attributes\":{\"fill_alpha\":{\"value\":0.2},\"fill_color\":{\"value\":\"#46317E\"},\"hatch_alpha\":{\"value\":0.2},\"hatch_color\":{\"value\":\"#46317E\"},\"line_alpha\":{\"value\":0.2},\"line_color\":{\"value\":\"#46317E\"},\"x\":{\"field\":\"date_time\"},\"y\":{\"field\":\"y_index\"}},\"id\":\"1154\",\"type\":\"Circle\"},{\"attributes\":{\"source\":{\"id\":\"1022\"}},\"id\":\"1222\",\"type\":\"CDSView\"},{\"attributes\":{\"coordinates\":null,\"data_source\":{\"id\":\"1022\"},\"glyph\":{\"id\":\"1218\"},\"group\":null,\"hover_glyph\":null,\"muted_glyph\":{\"id\":\"1220\"},\"nonselection_glyph\":{\"id\":\"1219\"},\"view\":{\"id\":\"1222\"}},\"id\":\"1221\",\"type\":\"GlyphRenderer\"},{\"attributes\":{\"fill_alpha\":{\"value\":0.2},\"fill_color\":{\"value\":\"#30688D\"},\"hatch_alpha\":{\"value\":0.2},\"hatch_color\":{\"value\":\"#30688D\"},\"line_alpha\":{\"value\":0.2},\"line_color\":{\"value\":\"#30688D\"},\"x\":{\"field\":\"date_time\"},\"y\":{\"field\":\"y_index\"}},\"id\":\"1220\",\"type\":\"Circle\"},{\"attributes\":{\"fill_alpha\":{\"value\":0.2},\"fill_color\":{\"value\":\"#1E988A\"},\"hatch_alpha\":{\"value\":0.2},\"hatch_color\":{\"value\":\"#1E988A\"},\"line_alpha\":{\"value\":0.2},\"line_color\":{\"value\":\"#1E988A\"},\"x\":{\"field\":\"date_time\"},\"y\":{\"field\":\"y_index\"}},\"id\":\"1286\",\"type\":\"Circle\"},{\"attributes\":{\"fill_alpha\":{\"value\":0.1},\"fill_color\":{\"value\":\"#2C718E\"},\"hatch_alpha\":{\"value\":0.1},\"hatch_color\":{\"value\":\"#2C718E\"},\"line_alpha\":{\"value\":0.1},\"line_color\":{\"value\":\"#2C718E\"},\"x\":{\"field\":\"date_time\"},\"y\":{\"field\":\"y_index\"}},\"id\":\"1231\",\"type\":\"Circle\"},{\"attributes\":{\"fill_color\":{\"value\":\"#2C718E\"},\"hatch_color\":{\"value\":\"#2C718E\"},\"line_color\":{\"value\":\"#2C718E\"},\"x\":{\"field\":\"date_time\"},\"y\":{\"field\":\"y_index\"}},\"id\":\"1230\",\"type\":\"Circle\"},{\"attributes\":{},\"id\":\"1821\",\"type\":\"UnionRenderers\"},{\"attributes\":{\"source\":{\"id\":\"1023\"}},\"id\":\"1228\",\"type\":\"CDSView\"},{\"attributes\":{\"coordinates\":null,\"data_source\":{\"id\":\"1023\"},\"glyph\":{\"id\":\"1224\"},\"group\":null,\"hover_glyph\":null,\"muted_glyph\":{\"id\":\"1226\"},\"nonselection_glyph\":{\"id\":\"1225\"},\"view\":{\"id\":\"1228\"}},\"id\":\"1227\",\"type\":\"GlyphRenderer\"},{\"attributes\":{},\"id\":\"1822\",\"type\":\"Selection\"},{\"attributes\":{\"fill_alpha\":{\"value\":0.2},\"fill_color\":{\"value\":\"#2E6D8E\"},\"hatch_alpha\":{\"value\":0.2},\"hatch_color\":{\"value\":\"#2E6D8E\"},\"line_alpha\":{\"value\":0.2},\"line_color\":{\"value\":\"#2E6D8E\"},\"x\":{\"field\":\"date_time\"},\"y\":{\"field\":\"y_index\"}},\"id\":\"1226\",\"type\":\"Circle\"},{\"attributes\":{\"coordinates\":null,\"data_source\":{\"id\":\"1033\"},\"glyph\":{\"id\":\"1284\"},\"group\":null,\"hover_glyph\":null,\"muted_glyph\":{\"id\":\"1286\"},\"nonselection_glyph\":{\"id\":\"1285\"},\"view\":{\"id\":\"1288\"}},\"id\":\"1287\",\"type\":\"GlyphRenderer\"},{\"attributes\":{\"source\":{\"id\":\"1033\"}},\"id\":\"1288\",\"type\":\"CDSView\"},{\"attributes\":{\"fill_alpha\":{\"value\":0.1},\"fill_color\":{\"value\":\"#2A768E\"},\"hatch_alpha\":{\"value\":0.1},\"hatch_color\":{\"value\":\"#2A768E\"},\"line_alpha\":{\"value\":0.1},\"line_color\":{\"value\":\"#2A768E\"},\"x\":{\"field\":\"date_time\"},\"y\":{\"field\":\"y_index\"}},\"id\":\"1237\",\"type\":\"Circle\"},{\"attributes\":{\"fill_color\":{\"value\":\"#2A768E\"},\"hatch_color\":{\"value\":\"#2A768E\"},\"line_color\":{\"value\":\"#2A768E\"},\"x\":{\"field\":\"date_time\"},\"y\":{\"field\":\"y_index\"}},\"id\":\"1236\",\"type\":\"Circle\"},{\"attributes\":{\"source\":{\"id\":\"1024\"}},\"id\":\"1234\",\"type\":\"CDSView\"},{\"attributes\":{\"coordinates\":null,\"data_source\":{\"id\":\"1024\"},\"glyph\":{\"id\":\"1230\"},\"group\":null,\"hover_glyph\":null,\"muted_glyph\":{\"id\":\"1232\"},\"nonselection_glyph\":{\"id\":\"1231\"},\"view\":{\"id\":\"1234\"}},\"id\":\"1233\",\"type\":\"GlyphRenderer\"},{\"attributes\":{\"fill_alpha\":{\"value\":0.2},\"fill_color\":{\"value\":\"#2C718E\"},\"hatch_alpha\":{\"value\":0.2},\"hatch_color\":{\"value\":\"#2C718E\"},\"line_alpha\":{\"value\":0.2},\"line_color\":{\"value\":\"#2C718E\"},\"x\":{\"field\":\"date_time\"},\"y\":{\"field\":\"y_index\"}},\"id\":\"1232\",\"type\":\"Circle\"},{\"attributes\":{\"fill_color\":{\"value\":\"#1E9C89\"},\"hatch_color\":{\"value\":\"#1E9C89\"},\"line_color\":{\"value\":\"#1E9C89\"},\"x\":{\"field\":\"date_time\"},\"y\":{\"field\":\"y_index\"}},\"id\":\"1290\",\"type\":\"Circle\"},{\"attributes\":{\"fill_alpha\":{\"value\":0.1},\"fill_color\":{\"value\":\"#1E9C89\"},\"hatch_alpha\":{\"value\":0.1},\"hatch_color\":{\"value\":\"#1E9C89\"},\"line_alpha\":{\"value\":0.1},\"line_color\":{\"value\":\"#1E9C89\"},\"x\":{\"field\":\"date_time\"},\"y\":{\"field\":\"y_index\"}},\"id\":\"1291\",\"type\":\"Circle\"},{\"attributes\":{\"fill_alpha\":{\"value\":0.1},\"fill_color\":{\"value\":\"#287A8E\"},\"hatch_alpha\":{\"value\":0.1},\"hatch_color\":{\"value\":\"#287A8E\"},\"line_alpha\":{\"value\":0.1},\"line_color\":{\"value\":\"#287A8E\"},\"x\":{\"field\":\"date_time\"},\"y\":{\"field\":\"y_index\"}},\"id\":\"1243\",\"type\":\"Circle\"},{\"attributes\":{\"fill_alpha\":{\"value\":0.1},\"fill_color\":{\"value\":\"#482071\"},\"hatch_alpha\":{\"value\":0.1},\"hatch_color\":{\"value\":\"#482071\"},\"line_alpha\":{\"value\":0.1},\"line_color\":{\"value\":\"#482071\"},\"x\":{\"field\":\"date_time\"},\"y\":{\"field\":\"y_index\"}},\"id\":\"1135\",\"type\":\"Circle\"},{\"attributes\":{\"fill_color\":{\"value\":\"#287A8E\"},\"hatch_color\":{\"value\":\"#287A8E\"},\"line_color\":{\"value\":\"#287A8E\"},\"x\":{\"field\":\"date_time\"},\"y\":{\"field\":\"y_index\"}},\"id\":\"1242\",\"type\":\"Circle\"},{\"attributes\":{\"source\":{\"id\":\"1025\"}},\"id\":\"1240\",\"type\":\"CDSView\"},{\"attributes\":{},\"id\":\"1091\",\"type\":\"LinearScale\"},{\"attributes\":{\"coordinates\":null,\"data_source\":{\"id\":\"1025\"},\"glyph\":{\"id\":\"1236\"},\"group\":null,\"hover_glyph\":null,\"muted_glyph\":{\"id\":\"1238\"},\"nonselection_glyph\":{\"id\":\"1237\"},\"view\":{\"id\":\"1240\"}},\"id\":\"1239\",\"type\":\"GlyphRenderer\"},{\"attributes\":{\"axis\":{\"id\":\"1063\"},\"coordinates\":null,\"group\":null,\"minor_grid_line_alpha\":0.3,\"minor_grid_line_color\":\"navy\",\"ticker\":null},\"id\":\"1066\",\"type\":\"Grid\"},{\"attributes\":{\"fill_alpha\":{\"value\":0.2},\"fill_color\":{\"value\":\"#2A768E\"},\"hatch_alpha\":{\"value\":0.2},\"hatch_color\":{\"value\":\"#2A768E\"},\"line_alpha\":{\"value\":0.2},\"line_color\":{\"value\":\"#2A768E\"},\"x\":{\"field\":\"date_time\"},\"y\":{\"field\":\"y_index\"}},\"id\":\"1238\",\"type\":\"Circle\"},{\"attributes\":{\"fill_alpha\":{\"value\":0.2},\"fill_color\":{\"value\":\"#46317E\"},\"hatch_alpha\":{\"value\":0.2},\"hatch_color\":{\"value\":\"#46317E\"},\"line_alpha\":{\"value\":0.2},\"line_color\":{\"value\":\"#46317E\"},\"marker\":{\"value\":\"diamond\"},\"size\":{\"value\":10},\"x\":{\"field\":\"date_time\"},\"y\":{\"field\":\"y_index\"}},\"id\":\"1457\",\"type\":\"Scatter\"},{\"attributes\":{\"fill_color\":{\"value\":\"#414286\"},\"hatch_color\":{\"value\":\"#414286\"},\"line_color\":{\"value\":\"#414286\"},\"x\":{\"field\":\"date_time\"},\"y\":{\"field\":\"y_index\"}},\"id\":\"1170\",\"type\":\"Circle\"},{\"attributes\":{\"fill_alpha\":{\"value\":0.1},\"fill_color\":{\"value\":\"#277E8E\"},\"hatch_alpha\":{\"value\":0.1},\"hatch_color\":{\"value\":\"#277E8E\"},\"line_alpha\":{\"value\":0.1},\"line_color\":{\"value\":\"#277E8E\"},\"x\":{\"field\":\"date_time\"},\"y\":{\"field\":\"y_index\"}},\"id\":\"1249\",\"type\":\"Circle\"},{\"attributes\":{\"fill_color\":{\"value\":\"#277E8E\"},\"hatch_color\":{\"value\":\"#277E8E\"},\"line_color\":{\"value\":\"#277E8E\"},\"x\":{\"field\":\"date_time\"},\"y\":{\"field\":\"y_index\"}},\"id\":\"1248\",\"type\":\"Circle\"},{\"attributes\":{\"fill_alpha\":{\"value\":0.2},\"fill_color\":{\"value\":\"#208F8C\"},\"hatch_alpha\":{\"value\":0.2},\"hatch_color\":{\"value\":\"#208F8C\"},\"line_alpha\":{\"value\":0.2},\"line_color\":{\"value\":\"#208F8C\"},\"x\":{\"field\":\"date_time\"},\"y\":{\"field\":\"y_index\"}},\"id\":\"1274\",\"type\":\"Circle\"},{\"attributes\":{},\"id\":\"1823\",\"type\":\"UnionRenderers\"},{\"attributes\":{\"source\":{\"id\":\"1026\"}},\"id\":\"1246\",\"type\":\"CDSView\"},{\"attributes\":{\"coordinates\":null,\"data_source\":{\"id\":\"1026\"},\"glyph\":{\"id\":\"1242\"},\"group\":null,\"hover_glyph\":null,\"muted_glyph\":{\"id\":\"1244\"},\"nonselection_glyph\":{\"id\":\"1243\"},\"view\":{\"id\":\"1246\"}},\"id\":\"1245\",\"type\":\"GlyphRenderer\"},{\"attributes\":{},\"id\":\"1824\",\"type\":\"Selection\"},{\"attributes\":{\"fill_alpha\":{\"value\":0.2},\"fill_color\":{\"value\":\"#287A8E\"},\"hatch_alpha\":{\"value\":0.2},\"hatch_color\":{\"value\":\"#287A8E\"},\"line_alpha\":{\"value\":0.2},\"line_color\":{\"value\":\"#287A8E\"},\"x\":{\"field\":\"date_time\"},\"y\":{\"field\":\"y_index\"}},\"id\":\"1244\",\"type\":\"Circle\"},{\"attributes\":{\"fill_alpha\":{\"value\":0.2},\"fill_color\":{\"value\":\"#1F948B\"},\"hatch_alpha\":{\"value\":0.2},\"hatch_color\":{\"value\":\"#1F948B\"},\"line_alpha\":{\"value\":0.2},\"line_color\":{\"value\":\"#1F948B\"},\"x\":{\"field\":\"date_time\"},\"y\":{\"field\":\"y_index\"}},\"id\":\"1280\",\"type\":\"Circle\"},{\"attributes\":{\"coordinates\":null,\"data_source\":{\"id\":\"1032\"},\"glyph\":{\"id\":\"1278\"},\"group\":null,\"hover_glyph\":null,\"muted_glyph\":{\"id\":\"1280\"},\"nonselection_glyph\":{\"id\":\"1279\"},\"view\":{\"id\":\"1282\"}},\"id\":\"1281\",\"type\":\"GlyphRenderer\"},{\"attributes\":{\"data\":{\"date_time\":{\"__ndarray__\":\"AACgZxfcc0IAALDDI9xzQgAAbrYn3HNCAAAKCCvcc0IAAA5yNdxzQgAAwBFc3HNCAAC+IYrcc0IAAC4HvNxzQgAAFDrQ3HNCAABWMg7dc0IAADqDJN1zQgAAjDFg3XNCAABop3fdc0IAAFprst1zQgAABIrL3XNCAABKmQzec0IAANbFYt5zQgAACLWb3nNCAACO9sTec0IAAOZsm99zQgAAkgXt33NCAACKuz7gc0IAAFrC0OBzQgAA6BVY4XNCAAC4/l/kc0IAAJK0GuVzQgAAOksn5XNCAADIDV7lc0IAAFSieeVzQgAArggi5nNCAABkZGnnc0IAAFbHyOdzQgAA6rlf6HNC\",\"dtype\":\"float64\",\"order\":\"little\",\"shape\":[33]},\"index\":[1503,1504,1505,1506,1507,1508,1509,1510,1511,1512,1513,1514,1515,1516,1517,1518,1519,1520,1521,1522,1523,1524,1525,1526,1527,1528,1529,1530,1531,1532,1533,1534,1535],\"y_index\":[36,36,36,36,36,36,36,36,36,36,36,36,36,36,36,36,36,36,36,36,36,36,36,36,36,36,36,36,36,36,36,36,36]},\"selected\":{\"id\":\"1818\"},\"selection_policy\":{\"id\":\"1817\"}},\"id\":\"1039\",\"type\":\"ColumnDataSource\"},{\"attributes\":{\"fill_alpha\":{\"value\":0.1},\"fill_color\":{\"value\":\"#25828E\"},\"hatch_alpha\":{\"value\":0.1},\"hatch_color\":{\"value\":\"#25828E\"},\"line_alpha\":{\"value\":0.1},\"line_color\":{\"value\":\"#25828E\"},\"x\":{\"field\":\"date_time\"},\"y\":{\"field\":\"y_index\"}},\"id\":\"1255\",\"type\":\"Circle\"},{\"attributes\":{\"fill_color\":{\"value\":\"#25828E\"},\"hatch_color\":{\"value\":\"#25828E\"},\"line_color\":{\"value\":\"#25828E\"},\"x\":{\"field\":\"date_time\"},\"y\":{\"field\":\"y_index\"}},\"id\":\"1254\",\"type\":\"Circle\"},{\"attributes\":{\"source\":{\"id\":\"1027\"}},\"id\":\"1252\",\"type\":\"CDSView\"},{\"attributes\":{\"coordinates\":null,\"data_source\":{\"id\":\"1027\"},\"glyph\":{\"id\":\"1248\"},\"group\":null,\"hover_glyph\":null,\"muted_glyph\":{\"id\":\"1250\"},\"nonselection_glyph\":{\"id\":\"1249\"},\"view\":{\"id\":\"1252\"}},\"id\":\"1251\",\"type\":\"GlyphRenderer\"},{\"attributes\":{\"data\":{\"date_time\":{\"__ndarray__\":\"AAC0ZI3cc0IAALRkjdxzQgAArMfX3HNCAACsx9fcc0IAAFRQEN1zQgAAMFd43XNCAAAOTrLdc0IAAMoEx91zQgAA+o2U3nNCAAAaoJ7ec0IAAEgst95zQgAAylXs33NCAABuEz/gc0IAAFj1kOBzQgAAWCUG4XNCAACWbgbhc0IAAFSDq+FzQgAAuFdg5XNCAAByP1Pnc0IAAPyeaedzQgAA6onq53NCAADsCg3oc0IAAI5HPehzQgAAuM4963NCAAAAnerrc0IAALTEHexzQgAAWgmM7XNC\",\"dtype\":\"float64\",\"order\":\"little\",\"shape\":[27]},\"index\":[1475,1476,1477,1478,1479,1480,1481,1482,1483,1484,1485,1486,1487,1488,1489,1490,1491,1492,1493,1495,1496,1497,1498,1499,1500,1501,1502],\"y_index\":[35,35,35,35,35,35,35,35,35,35,35,35,35,35,35,35,35,35,35,35,35,35,35,35,35,35,35]},\"selected\":{\"id\":\"1816\"},\"selection_policy\":{\"id\":\"1815\"}},\"id\":\"1038\",\"type\":\"ColumnDataSource\"},{\"attributes\":{\"fill_alpha\":{\"value\":0.2},\"fill_color\":{\"value\":\"#277E8E\"},\"hatch_alpha\":{\"value\":0.2},\"hatch_color\":{\"value\":\"#277E8E\"},\"line_alpha\":{\"value\":0.2},\"line_color\":{\"value\":\"#277E8E\"},\"x\":{\"field\":\"date_time\"},\"y\":{\"field\":\"y_index\"}},\"id\":\"1250\",\"type\":\"Circle\"},{\"attributes\":{\"fill_alpha\":{\"value\":0.2},\"fill_color\":{\"value\":\"#3D4C89\"},\"hatch_alpha\":{\"value\":0.2},\"hatch_color\":{\"value\":\"#3D4C89\"},\"line_alpha\":{\"value\":0.2},\"line_color\":{\"value\":\"#3D4C89\"},\"x\":{\"field\":\"date_time\"},\"y\":{\"field\":\"y_index\"}},\"id\":\"1184\",\"type\":\"Circle\"},{\"attributes\":{\"source\":{\"id\":\"1032\"}},\"id\":\"1282\",\"type\":\"CDSView\"},{\"attributes\":{\"mantissas\":[1,2,5],\"max_interval\":500.0,\"num_minor_ticks\":0},\"id\":\"1842\",\"type\":\"AdaptiveTicker\"},{\"attributes\":{\"fill_color\":{\"value\":\"#1E988A\"},\"hatch_color\":{\"value\":\"#1E988A\"},\"line_color\":{\"value\":\"#1E988A\"},\"x\":{\"field\":\"date_time\"},\"y\":{\"field\":\"y_index\"}},\"id\":\"1284\",\"type\":\"Circle\"},{\"attributes\":{\"data\":{\"date_time\":{\"__ndarray__\":\"AADCcc7ac0IAAJgzGNtzQgAAIElr23NCAAAWHb/bc0IAAJZXE9xzQgAAqLe+3HNCAACYp8/cc0IAADSRDd1zQgAAMF5i3XNCAACMKnbdc0IAAJDZs91zQgAA2ole3nNCAAD0M7jec0IAAOjnxN5zQgAAVuv43nNCAADKxJvfc0IAAMhz7t9zQgAAmI8+4HNCAACuz43gc0IAAB4Wm+BzQgAA3ijm4HNCAABoJyHhc0IAADhRReFzQgAALoZ04XNCAAAqYZ3hc0IAAKh7quFzQgAABNIk4nNCAAD68ZXic0IAAK4S3+JzQgAAMNU/43NCAACQC17jc0IAABagjuNzQgAAuP5f5HNCAAAIqAvlc0IAAIKkK+VzQgAArppj5XNCAADgPX/lc0IAAIjnZ+dzQgAAAs/J53NCAADKHe/nc0IAAChrJehzQgAAqu886HNCAAAO1Kfpc0IAANiOMepzQgAAoM+C6nNCAAAaZN3qc0IAAEKk7epzQgAAvs4o63NCAACedvrrc0IAAAqRRuxzQgAASMxy7HNCAADwrpzsc0IAANDT8exzQgAAfHoX7XNCAABea7vuc0I=\",\"dtype\":\"float64\",\"order\":\"little\",\"shape\":[55]},\"index\":[1843,1844,1845,1846,1847,1848,1849,1850,1851,1852,1853,1854,1855,1856,1857,1858,1859,1860,1861,1862,1863,1864,1865,1866,1867,1868,1869,1870,1871,1872,1873,1874,1875,1876,1877,1878,1879,1880,1881,1882,1883,1884,1885,1886,1887,1888,1889,1890,1891,1892,1893,1894,1895,1896,1897],\"y_index\":[46,46,46,46,46,46,46,46,46,46,46,46,46,46,46,46,46,46,46,46,46,46,46,46,46,46,46,46,46,46,46,46,46,46,46,46,46,46,46,46,46,46,46,46,46,46,46,46,46,46,46,46,46,46,46]},\"selected\":{\"id\":\"1838\"},\"selection_policy\":{\"id\":\"1837\"}},\"id\":\"1049\",\"type\":\"ColumnDataSource\"},{\"attributes\":{\"fill_alpha\":{\"value\":0.1},\"fill_color\":{\"value\":\"#23878D\"},\"hatch_alpha\":{\"value\":0.1},\"hatch_color\":{\"value\":\"#23878D\"},\"line_alpha\":{\"value\":0.1},\"line_color\":{\"value\":\"#23878D\"},\"x\":{\"field\":\"date_time\"},\"y\":{\"field\":\"y_index\"}},\"id\":\"1261\",\"type\":\"Circle\"},{\"attributes\":{\"fill_color\":{\"value\":\"#23878D\"},\"hatch_color\":{\"value\":\"#23878D\"},\"line_color\":{\"value\":\"#23878D\"},\"x\":{\"field\":\"date_time\"},\"y\":{\"field\":\"y_index\"}},\"id\":\"1260\",\"type\":\"Circle\"},{\"attributes\":{\"base\":60,\"mantissas\":[1,2,5,10,15,20,30],\"max_interval\":1800000.0,\"min_interval\":1000.0,\"num_minor_ticks\":0},\"id\":\"1843\",\"type\":\"AdaptiveTicker\"},{\"attributes\":{\"source\":{\"id\":\"1028\"}},\"id\":\"1258\",\"type\":\"CDSView\"},{\"attributes\":{\"days\":[1,8,15,22]},\"id\":\"1847\",\"type\":\"DaysTicker\"},{\"attributes\":{\"coordinates\":null,\"data_source\":{\"id\":\"1028\"},\"glyph\":{\"id\":\"1254\"},\"group\":null,\"hover_glyph\":null,\"muted_glyph\":{\"id\":\"1256\"},\"nonselection_glyph\":{\"id\":\"1255\"},\"view\":{\"id\":\"1258\"}},\"id\":\"1257\",\"type\":\"GlyphRenderer\"},{\"attributes\":{\"base\":24,\"mantissas\":[1,2,4,6,8,12],\"max_interval\":43200000.0,\"min_interval\":3600000.0,\"num_minor_ticks\":0},\"id\":\"1844\",\"type\":\"AdaptiveTicker\"},{\"attributes\":{\"axis\":{\"id\":\"1095\"},\"coordinates\":null,\"group\":null,\"ticker\":null},\"id\":\"1098\",\"type\":\"Grid\"},{\"attributes\":{\"fill_alpha\":{\"value\":0.2},\"fill_color\":{\"value\":\"#25828E\"},\"hatch_alpha\":{\"value\":0.2},\"hatch_color\":{\"value\":\"#25828E\"},\"line_alpha\":{\"value\":0.2},\"line_color\":{\"value\":\"#25828E\"},\"x\":{\"field\":\"date_time\"},\"y\":{\"field\":\"y_index\"}},\"id\":\"1256\",\"type\":\"Circle\"},{\"attributes\":{},\"id\":\"1853\",\"type\":\"YearsTicker\"},{\"attributes\":{\"fill_alpha\":{\"value\":0.1},\"fill_color\":{\"value\":\"#1E988A\"},\"hatch_alpha\":{\"value\":0.1},\"hatch_color\":{\"value\":\"#1E988A\"},\"line_alpha\":{\"value\":0.1},\"line_color\":{\"value\":\"#1E988A\"},\"x\":{\"field\":\"date_time\"},\"y\":{\"field\":\"y_index\"}},\"id\":\"1285\",\"type\":\"Circle\"},{\"attributes\":{\"days\":[1,4,7,10,13,16,19,22,25,28]},\"id\":\"1846\",\"type\":\"DaysTicker\"},{\"attributes\":{\"fill_alpha\":{\"value\":0.1},\"fill_color\":{\"value\":\"#440154\"},\"hatch_alpha\":{\"value\":0.1},\"hatch_color\":{\"value\":\"#440154\"},\"line_alpha\":{\"value\":0.1},\"line_color\":{\"value\":\"#440154\"},\"marker\":{\"value\":\"diamond\"},\"size\":{\"value\":10},\"x\":{\"field\":\"date_time\"},\"y\":{\"field\":\"y_index\"}},\"id\":\"1400\",\"type\":\"Scatter\"},{\"attributes\":{\"days\":[1,2,3,4,5,6,7,8,9,10,11,12,13,14,15,16,17,18,19,20,21,22,23,24,25,26,27,28,29,30,31]},\"id\":\"1845\",\"type\":\"DaysTicker\"},{\"attributes\":{\"coordinates\":null,\"data_source\":{\"id\":\"1007\"},\"glyph\":{\"id\":\"1128\"},\"group\":null,\"hover_glyph\":null,\"muted_glyph\":{\"id\":\"1130\"},\"nonselection_glyph\":{\"id\":\"1129\"},\"view\":{\"id\":\"1132\"}},\"id\":\"1131\",\"type\":\"GlyphRenderer\"},{\"attributes\":{\"fill_alpha\":{\"value\":0.1},\"fill_color\":{\"value\":\"#228A8D\"},\"hatch_alpha\":{\"value\":0.1},\"hatch_color\":{\"value\":\"#228A8D\"},\"line_alpha\":{\"value\":0.1},\"line_color\":{\"value\":\"#228A8D\"},\"x\":{\"field\":\"date_time\"},\"y\":{\"field\":\"y_index\"}},\"id\":\"1267\",\"type\":\"Circle\"},{\"attributes\":{\"fill_color\":{\"value\":\"#228A8D\"},\"hatch_color\":{\"value\":\"#228A8D\"},\"line_color\":{\"value\":\"#228A8D\"},\"x\":{\"field\":\"date_time\"},\"y\":{\"field\":\"y_index\"}},\"id\":\"1266\",\"type\":\"Circle\"},{\"attributes\":{},\"id\":\"1825\",\"type\":\"UnionRenderers\"},{\"attributes\":{\"months\":[0,6]},\"id\":\"1852\",\"type\":\"MonthsTicker\"},{\"attributes\":{\"source\":{\"id\":\"1029\"}},\"id\":\"1264\",\"type\":\"CDSView\"},{\"attributes\":{\"days\":[1,15]},\"id\":\"1848\",\"type\":\"DaysTicker\"},{\"attributes\":{\"coordinates\":null,\"data_source\":{\"id\":\"1029\"},\"glyph\":{\"id\":\"1260\"},\"group\":null,\"hover_glyph\":null,\"muted_glyph\":{\"id\":\"1262\"},\"nonselection_glyph\":{\"id\":\"1261\"},\"view\":{\"id\":\"1264\"}},\"id\":\"1263\",\"type\":\"GlyphRenderer\"},{\"attributes\":{},\"id\":\"1826\",\"type\":\"Selection\"},{\"attributes\":{\"months\":[0,1,2,3,4,5,6,7,8,9,10,11]},\"id\":\"1849\",\"type\":\"MonthsTicker\"},{\"attributes\":{\"fill_alpha\":{\"value\":0.2},\"fill_color\":{\"value\":\"#23878D\"},\"hatch_alpha\":{\"value\":0.2},\"hatch_color\":{\"value\":\"#23878D\"},\"line_alpha\":{\"value\":0.2},\"line_color\":{\"value\":\"#23878D\"},\"x\":{\"field\":\"date_time\"},\"y\":{\"field\":\"y_index\"}},\"id\":\"1262\",\"type\":\"Circle\"},{\"attributes\":{\"months\":[0,2,4,6,8,10]},\"id\":\"1850\",\"type\":\"MonthsTicker\"},{\"attributes\":{\"fill_alpha\":{\"value\":0.1},\"fill_color\":{\"value\":\"#20A585\"},\"hatch_alpha\":{\"value\":0.1},\"hatch_color\":{\"value\":\"#20A585\"},\"line_alpha\":{\"value\":0.1},\"line_color\":{\"value\":\"#20A585\"},\"x\":{\"field\":\"date_time\"},\"y\":{\"field\":\"y_index\"}},\"id\":\"1303\",\"type\":\"Circle\"},{\"attributes\":{},\"id\":\"1059\",\"type\":\"LinearScale\"},{\"attributes\":{\"fill_color\":{\"value\":\"#1F948B\"},\"hatch_color\":{\"value\":\"#1F948B\"},\"line_color\":{\"value\":\"#1F948B\"},\"x\":{\"field\":\"date_time\"},\"y\":{\"field\":\"y_index\"}},\"id\":\"1278\",\"type\":\"Circle\"},{\"attributes\":{\"fill_alpha\":{\"value\":0.2},\"fill_color\":{\"value\":\"#440154\"},\"hatch_alpha\":{\"value\":0.2},\"hatch_color\":{\"value\":\"#440154\"},\"line_alpha\":{\"value\":0.2},\"line_color\":{\"value\":\"#440154\"},\"marker\":{\"value\":\"diamond\"},\"size\":{\"value\":10},\"x\":{\"field\":\"date_time\"},\"y\":{\"field\":\"y_index\"}},\"id\":\"1401\",\"type\":\"Scatter\"},{\"attributes\":{\"months\":[0,4,8]},\"id\":\"1851\",\"type\":\"MonthsTicker\"},{\"attributes\":{\"fill_color\":{\"value\":\"#482071\"},\"hatch_color\":{\"value\":\"#482071\"},\"line_color\":{\"value\":\"#482071\"},\"x\":{\"field\":\"date_time\"},\"y\":{\"field\":\"y_index\"}},\"id\":\"1134\",\"type\":\"Circle\"},{\"attributes\":{\"fill_alpha\":{\"value\":0.1},\"fill_color\":{\"value\":\"#1F948B\"},\"hatch_alpha\":{\"value\":0.1},\"hatch_color\":{\"value\":\"#1F948B\"},\"line_alpha\":{\"value\":0.1},\"line_color\":{\"value\":\"#1F948B\"},\"x\":{\"field\":\"date_time\"},\"y\":{\"field\":\"y_index\"}},\"id\":\"1279\",\"type\":\"Circle\"},{\"attributes\":{\"source\":{\"id\":\"1030\"}},\"id\":\"1270\",\"type\":\"CDSView\"},{\"attributes\":{\"fill_color\":{\"value\":\"#208F8C\"},\"hatch_color\":{\"value\":\"#208F8C\"},\"line_color\":{\"value\":\"#208F8C\"},\"x\":{\"field\":\"date_time\"},\"y\":{\"field\":\"y_index\"}},\"id\":\"1272\",\"type\":\"Circle\"},{\"attributes\":{\"coordinates\":null,\"data_source\":{\"id\":\"1030\"},\"glyph\":{\"id\":\"1266\"},\"group\":null,\"hover_glyph\":null,\"muted_glyph\":{\"id\":\"1268\"},\"nonselection_glyph\":{\"id\":\"1267\"},\"view\":{\"id\":\"1270\"}},\"id\":\"1269\",\"type\":\"GlyphRenderer\"},{\"attributes\":{\"fill_alpha\":{\"value\":0.2},\"fill_color\":{\"value\":\"#228A8D\"},\"hatch_alpha\":{\"value\":0.2},\"hatch_color\":{\"value\":\"#228A8D\"},\"line_alpha\":{\"value\":0.2},\"line_color\":{\"value\":\"#228A8D\"},\"x\":{\"field\":\"date_time\"},\"y\":{\"field\":\"y_index\"}},\"id\":\"1268\",\"type\":\"Circle\"},{\"attributes\":{},\"id\":\"1742\",\"type\":\"AllLabels\"},{\"attributes\":{\"fill_alpha\":{\"value\":0.2},\"fill_color\":{\"value\":\"#471466\"},\"hatch_alpha\":{\"value\":0.2},\"hatch_color\":{\"value\":\"#471466\"},\"line_alpha\":{\"value\":0.2},\"line_color\":{\"value\":\"#471466\"},\"x\":{\"field\":\"date_time\"},\"y\":{\"field\":\"y_index\"}},\"id\":\"1124\",\"type\":\"Circle\"},{\"attributes\":{\"fill_alpha\":{\"value\":0.2},\"fill_color\":{\"value\":\"#1EA087\"},\"hatch_alpha\":{\"value\":0.2},\"hatch_color\":{\"value\":\"#1EA087\"},\"line_alpha\":{\"value\":0.2},\"line_color\":{\"value\":\"#1EA087\"},\"x\":{\"field\":\"date_time\"},\"y\":{\"field\":\"y_index\"}},\"id\":\"1298\",\"type\":\"Circle\"},{\"attributes\":{\"fill_color\":{\"value\":\"#20A585\"},\"hatch_color\":{\"value\":\"#20A585\"},\"line_color\":{\"value\":\"#20A585\"},\"x\":{\"field\":\"date_time\"},\"y\":{\"field\":\"y_index\"}},\"id\":\"1302\",\"type\":\"Circle\"},{\"attributes\":{\"fill_alpha\":{\"value\":0.2},\"fill_color\":{\"value\":\"#414286\"},\"hatch_alpha\":{\"value\":0.2},\"hatch_color\":{\"value\":\"#414286\"},\"line_alpha\":{\"value\":0.2},\"line_color\":{\"value\":\"#414286\"},\"x\":{\"field\":\"date_time\"},\"y\":{\"field\":\"y_index\"}},\"id\":\"1172\",\"type\":\"Circle\"},{\"attributes\":{\"fill_alpha\":{\"value\":0.1},\"fill_color\":{\"value\":\"#23A883\"},\"hatch_alpha\":{\"value\":0.1},\"hatch_color\":{\"value\":\"#23A883\"},\"line_alpha\":{\"value\":0.1},\"line_color\":{\"value\":\"#23A883\"},\"x\":{\"field\":\"date_time\"},\"y\":{\"field\":\"y_index\"}},\"id\":\"1309\",\"type\":\"Circle\"},{\"attributes\":{\"fill_color\":{\"value\":\"#23A883\"},\"hatch_color\":{\"value\":\"#23A883\"},\"line_color\":{\"value\":\"#23A883\"},\"x\":{\"field\":\"date_time\"},\"y\":{\"field\":\"y_index\"}},\"id\":\"1308\",\"type\":\"Circle\"},{\"attributes\":{\"data\":{\"date_time\":{\"__ndarray__\":\"AACGYtvcc0IAAE4ym99zQgAAAN+k4HNCAAB0gejgc0I=\",\"dtype\":\"float64\",\"order\":\"little\",\"shape\":[4]},\"index\":[1610,1611,1612,1613],\"y_index\":[39,39,39,39]},\"selected\":{\"id\":\"1824\"},\"selection_policy\":{\"id\":\"1823\"}},\"id\":\"1042\",\"type\":\"ColumnDataSource\"},{\"attributes\":{\"source\":{\"id\":\"1036\"}},\"id\":\"1306\",\"type\":\"CDSView\"},{\"attributes\":{\"coordinates\":null,\"data_source\":{\"id\":\"1036\"},\"glyph\":{\"id\":\"1302\"},\"group\":null,\"hover_glyph\":null,\"muted_glyph\":{\"id\":\"1304\"},\"nonselection_glyph\":{\"id\":\"1303\"},\"view\":{\"id\":\"1306\"}},\"id\":\"1305\",\"type\":\"GlyphRenderer\"},{\"attributes\":{},\"id\":\"1827\",\"type\":\"UnionRenderers\"},{\"attributes\":{\"fill_alpha\":{\"value\":0.2},\"fill_color\":{\"value\":\"#20A585\"},\"hatch_alpha\":{\"value\":0.2},\"hatch_color\":{\"value\":\"#20A585\"},\"line_alpha\":{\"value\":0.2},\"line_color\":{\"value\":\"#20A585\"},\"x\":{\"field\":\"date_time\"},\"y\":{\"field\":\"y_index\"}},\"id\":\"1304\",\"type\":\"Circle\"},{\"attributes\":{\"fill_alpha\":{\"value\":0.5},\"fill_color\":{\"value\":\"#440154\"},\"hatch_alpha\":{\"value\":0.5},\"hatch_color\":{\"value\":\"#440154\"},\"line_alpha\":{\"value\":0.5},\"line_color\":{\"value\":\"#440154\"},\"marker\":{\"value\":\"diamond\"},\"size\":{\"value\":10},\"x\":{\"field\":\"date_time\"},\"y\":{\"field\":\"y_index\"}},\"id\":\"1399\",\"type\":\"Scatter\"},{\"attributes\":{},\"id\":\"1828\",\"type\":\"Selection\"},{\"attributes\":{\"coordinates\":null,\"fill_alpha\":0.2,\"fill_color\":\"navy\",\"group\":null,\"level\":\"overlay\",\"line_alpha\":1.0,\"line_color\":\"black\",\"line_dash\":[2,2],\"line_width\":0.5,\"syncable\":false},\"id\":\"1392\",\"type\":\"BoxAnnotation\"},{\"attributes\":{\"coordinates\":null,\"data_source\":{\"id\":\"1005\"},\"glyph\":{\"id\":\"1116\"},\"group\":null,\"hover_glyph\":null,\"muted_glyph\":{\"id\":\"1118\"},\"nonselection_glyph\":{\"id\":\"1117\"},\"view\":{\"id\":\"1120\"}},\"id\":\"1119\",\"type\":\"GlyphRenderer\"},{\"attributes\":{\"fill_alpha\":{\"value\":0.1},\"fill_color\":{\"value\":\"#27AD80\"},\"hatch_alpha\":{\"value\":0.1},\"hatch_color\":{\"value\":\"#27AD80\"},\"line_alpha\":{\"value\":0.1},\"line_color\":{\"value\":\"#27AD80\"},\"x\":{\"field\":\"date_time\"},\"y\":{\"field\":\"y_index\"}},\"id\":\"1315\",\"type\":\"Circle\"},{\"attributes\":{\"fill_color\":{\"value\":\"#27AD80\"},\"hatch_color\":{\"value\":\"#27AD80\"},\"line_color\":{\"value\":\"#27AD80\"},\"x\":{\"field\":\"date_time\"},\"y\":{\"field\":\"y_index\"}},\"id\":\"1314\",\"type\":\"Circle\"},{\"attributes\":{\"source\":{\"id\":\"1037\"}},\"id\":\"1312\",\"type\":\"CDSView\"},{\"attributes\":{\"coordinates\":null,\"data_source\":{\"id\":\"1037\"},\"glyph\":{\"id\":\"1308\"},\"group\":null,\"hover_glyph\":null,\"muted_glyph\":{\"id\":\"1310\"},\"nonselection_glyph\":{\"id\":\"1309\"},\"view\":{\"id\":\"1312\"}},\"id\":\"1311\",\"type\":\"GlyphRenderer\"},{\"attributes\":{\"fill_alpha\":{\"value\":0.2},\"fill_color\":{\"value\":\"#23A883\"},\"hatch_alpha\":{\"value\":0.2},\"hatch_color\":{\"value\":\"#23A883\"},\"line_alpha\":{\"value\":0.2},\"line_color\":{\"value\":\"#23A883\"},\"x\":{\"field\":\"date_time\"},\"y\":{\"field\":\"y_index\"}},\"id\":\"1310\",\"type\":\"Circle\"},{\"attributes\":{\"fill_color\":{\"value\":\"#3D4C89\"},\"hatch_color\":{\"value\":\"#3D4C89\"},\"line_color\":{\"value\":\"#3D4C89\"},\"x\":{\"field\":\"date_time\"},\"y\":{\"field\":\"y_index\"}},\"id\":\"1182\",\"type\":\"Circle\"},{\"attributes\":{\"coordinates\":null,\"data_source\":{\"id\":\"1014\"},\"glyph\":{\"id\":\"1170\"},\"group\":null,\"hover_glyph\":null,\"muted_glyph\":{\"id\":\"1172\"},\"nonselection_glyph\":{\"id\":\"1171\"},\"view\":{\"id\":\"1174\"}},\"id\":\"1173\",\"type\":\"GlyphRenderer\"},{\"attributes\":{\"fill_alpha\":{\"value\":0.2},\"fill_color\":{\"value\":\"#92D741\"},\"hatch_alpha\":{\"value\":0.2},\"hatch_color\":{\"value\":\"#92D741\"},\"line_alpha\":{\"value\":0.2},\"line_color\":{\"value\":\"#92D741\"},\"x\":{\"field\":\"date_time\"},\"y\":{\"field\":\"y_index\"}},\"id\":\"1388\",\"type\":\"Circle\"},{\"attributes\":{\"fill_alpha\":{\"value\":0.1},\"fill_color\":{\"value\":\"#2BB17D\"},\"hatch_alpha\":{\"value\":0.1},\"hatch_color\":{\"value\":\"#2BB17D\"},\"line_alpha\":{\"value\":0.1},\"line_color\":{\"value\":\"#2BB17D\"},\"x\":{\"field\":\"date_time\"},\"y\":{\"field\":\"y_index\"}},\"id\":\"1321\",\"type\":\"Circle\"},{\"attributes\":{\"fill_color\":{\"value\":\"#471466\"},\"hatch_color\":{\"value\":\"#471466\"},\"line_color\":{\"value\":\"#471466\"},\"x\":{\"field\":\"date_time\"},\"y\":{\"field\":\"y_index\"}},\"id\":\"1122\",\"type\":\"Circle\"},{\"attributes\":{\"fill_color\":{\"value\":\"#2BB17D\"},\"hatch_color\":{\"value\":\"#2BB17D\"},\"line_color\":{\"value\":\"#2BB17D\"},\"x\":{\"field\":\"date_time\"},\"y\":{\"field\":\"y_index\"}},\"id\":\"1320\",\"type\":\"Circle\"},{\"attributes\":{\"fill_color\":{\"value\":\"#481A6C\"},\"hatch_color\":{\"value\":\"#481A6C\"},\"line_color\":{\"value\":\"#481A6C\"},\"x\":{\"field\":\"date_time\"},\"y\":{\"field\":\"y_index\"}},\"id\":\"1128\",\"type\":\"Circle\"},{\"attributes\":{\"source\":{\"id\":\"1038\"}},\"id\":\"1318\",\"type\":\"CDSView\"},{\"attributes\":{\"coordinates\":null,\"data_source\":{\"id\":\"1038\"},\"glyph\":{\"id\":\"1314\"},\"group\":null,\"hover_glyph\":null,\"muted_glyph\":{\"id\":\"1316\"},\"nonselection_glyph\":{\"id\":\"1315\"},\"view\":{\"id\":\"1318\"}},\"id\":\"1317\",\"type\":\"GlyphRenderer\"},{\"attributes\":{\"data\":{\"date_time\":{\"__ndarray__\":\"AAAkclnec0IAAKRuZN5zQgAAbuuk3nNCAAA6WLfec0IAACRPx95zQgAA2GE833NCAACgClPfc0IAAERZ9t9zQgAAosHj4HNCAADSL/rgc0IAAM78TuFzQgAAMM9G4nNCAAASKaHic0IAAGQGYeRzQgAAAlQo5nNCAACmosvmc0IAAH7Fy+tzQgAARA1/7nNCAAAeRcXwc0I=\",\"dtype\":\"float64\",\"order\":\"little\",\"shape\":[19]},\"index\":[1757,1758,1759,1760,1761,1762,1763,1764,1765,1766,1767,1768,1769,1770,1771,1772,1773,1774,1775],\"y_index\":[44,44,44,44,44,44,44,44,44,44,44,44,44,44,44,44,44,44,44]},\"selected\":{\"id\":\"1834\"},\"selection_policy\":{\"id\":\"1833\"}},\"id\":\"1047\",\"type\":\"ColumnDataSource\"},{\"attributes\":{\"fill_color\":{\"value\":\"#45065A\"},\"hatch_color\":{\"value\":\"#45065A\"},\"line_color\":{\"value\":\"#45065A\"},\"x\":{\"field\":\"date_time\"},\"y\":{\"field\":\"y_index\"}},\"id\":\"1110\",\"type\":\"Circle\"},{\"attributes\":{\"fill_alpha\":{\"value\":0.2},\"fill_color\":{\"value\":\"#27AD80\"},\"hatch_alpha\":{\"value\":0.2},\"hatch_color\":{\"value\":\"#27AD80\"},\"line_alpha\":{\"value\":0.2},\"line_color\":{\"value\":\"#27AD80\"},\"x\":{\"field\":\"date_time\"},\"y\":{\"field\":\"y_index\"}},\"id\":\"1316\",\"type\":\"Circle\"},{\"attributes\":{\"coordinates\":null,\"data_source\":{\"id\":\"1050\"},\"glyph\":{\"id\":\"1386\"},\"group\":null,\"hover_glyph\":null,\"muted_glyph\":{\"id\":\"1388\"},\"nonselection_glyph\":{\"id\":\"1387\"},\"view\":{\"id\":\"1390\"}},\"id\":\"1389\",\"type\":\"GlyphRenderer\"},{\"attributes\":{\"source\":{\"id\":\"1050\"}},\"id\":\"1390\",\"type\":\"CDSView\"},{\"attributes\":{\"fill_alpha\":{\"value\":0.1},\"fill_color\":{\"value\":\"#32B57A\"},\"hatch_alpha\":{\"value\":0.1},\"hatch_color\":{\"value\":\"#32B57A\"},\"line_alpha\":{\"value\":0.1},\"line_color\":{\"value\":\"#32B57A\"},\"x\":{\"field\":\"date_time\"},\"y\":{\"field\":\"y_index\"}},\"id\":\"1327\",\"type\":\"Circle\"},{\"attributes\":{\"fill_color\":{\"value\":\"#32B57A\"},\"hatch_color\":{\"value\":\"#32B57A\"},\"line_color\":{\"value\":\"#32B57A\"},\"x\":{\"field\":\"date_time\"},\"y\":{\"field\":\"y_index\"}},\"id\":\"1326\",\"type\":\"Circle\"},{\"attributes\":{\"source\":{\"id\":\"1039\"}},\"id\":\"1324\",\"type\":\"CDSView\"},{\"attributes\":{\"coordinates\":null,\"data_source\":{\"id\":\"1039\"},\"glyph\":{\"id\":\"1320\"},\"group\":null,\"hover_glyph\":null,\"muted_glyph\":{\"id\":\"1322\"},\"nonselection_glyph\":{\"id\":\"1321\"},\"view\":{\"id\":\"1324\"}},\"id\":\"1323\",\"type\":\"GlyphRenderer\"},{\"attributes\":{},\"id\":\"1829\",\"type\":\"UnionRenderers\"},{\"attributes\":{\"fill_alpha\":{\"value\":0.2},\"fill_color\":{\"value\":\"#2BB17D\"},\"hatch_alpha\":{\"value\":0.2},\"hatch_color\":{\"value\":\"#2BB17D\"},\"line_alpha\":{\"value\":0.2},\"line_color\":{\"value\":\"#2BB17D\"},\"x\":{\"field\":\"date_time\"},\"y\":{\"field\":\"y_index\"}},\"id\":\"1322\",\"type\":\"Circle\"},{\"attributes\":{\"fill_alpha\":{\"value\":0.1},\"fill_color\":{\"value\":\"#471466\"},\"hatch_alpha\":{\"value\":0.1},\"hatch_color\":{\"value\":\"#471466\"},\"line_alpha\":{\"value\":0.1},\"line_color\":{\"value\":\"#471466\"},\"x\":{\"field\":\"date_time\"},\"y\":{\"field\":\"y_index\"}},\"id\":\"1123\",\"type\":\"Circle\"},{\"attributes\":{\"overlay\":{\"id\":\"1392\"},\"x_range\":{\"id\":\"1055\"},\"y_range\":null},\"id\":\"1391\",\"type\":\"RangeTool\"},{\"attributes\":{},\"id\":\"1830\",\"type\":\"Selection\"},{\"attributes\":{\"data\":{\"date_time\":{\"__ndarray__\":\"AAC8XRbac0IAAEYQNNpzQgAAmGR+2nNCAACu99Tac0IAANrtDNtzQgAA5t8O23NCAAAWVQ/bc0IAAOA5FdtzQgAA6kkZ23NCAAB2OCbbc0IAAPbTVdtzQgAAjNJm23NCAABwfW7bc0IAABpJgNtzQgAAVFEB3HNCAACCihLcc0IAAF4ptdxzQgAAGFi93HNCAACEefPcc0IAAGr/Dt1zQgAA2uRA3XNCAAC46U7dc0IAAPbYXd1zQgAAjHaT3XNCAADaG6Ddc0IAAEq1tN1zQgAA9vMU3nNCAAAGO2Pec0IAAJZ+vN5zQgAAem733nNCAAD+Lv7ec0IAADYy799zQgAAhoiT4HNCAABwF97gc0IAAC4D+OBzQgAA4osG4XNCAAAM7F3hc0IAAEwCnuFzQgAAiurC4XNCAABsj0njc0IAAOrEDeRzQgAABBxg5HNCAAAIqAvlc0IAAB6jJ+VzQgAAihB75XNCAADCV67nc0IAABiuPehzQgAAGK496HNCAABoLl7oc0IAAA72SOpzQgAAjjeH6nNCAABapJnqc0IAAPho6+pzQgAAjlko63NCAACGdz/rc0IAAPqj6etzQgAAtuRk7HNCAACq5I7sc0IAALYbxOxzQgAA+l3F7HNCAAD0og3tc0IAADI/Fe1zQgAA8NA97XNCAABM6W7tc0IAAMh0he1zQgAArB+N7XNCAAAeQa7tc0IAAPLisO1zQgAAWOZx8HNC\",\"dtype\":\"float64\",\"order\":\"little\",\"shape\":[69]},\"index\":[0,1,3,4,5,6,7,8,9,10,11,12,13,14,15,16,17,18,19,20,21,22,23,24,25,26,27,28,29,30,31,32,33,34,35,36,37,38,39,40,41,42,43,44,45,46,47,48,49,50,51,52,53,54,55,56,57,58,59,60,61,62,63,64,65,66,67,68,69],\"y_index\":[0,0,0,0,0,0,0,0,0,0,0,0,0,0,0,0,0,0,0,0,0,0,0,0,0,0,0,0,0,0,0,0,0,0,0,0,0,0,0,0,0,0,0,0,0,0,0,0,0,0,0,0,0,0,0,0,0,0,0,0,0,0,0,0,0,0,0,0,0]},\"selected\":{\"id\":\"1746\"},\"selection_policy\":{\"id\":\"1745\"}},\"id\":\"1003\",\"type\":\"ColumnDataSource\"},{\"attributes\":{\"fill_color\":{\"value\":\"#39B976\"},\"hatch_color\":{\"value\":\"#39B976\"},\"line_color\":{\"value\":\"#39B976\"},\"x\":{\"field\":\"date_time\"},\"y\":{\"field\":\"y_index\"}},\"id\":\"1332\",\"type\":\"Circle\"},{\"attributes\":{\"coordinates\":null,\"data_source\":{\"id\":\"1031\"},\"glyph\":{\"id\":\"1272\"},\"group\":null,\"hover_glyph\":null,\"muted_glyph\":{\"id\":\"1274\"},\"nonselection_glyph\":{\"id\":\"1273\"},\"view\":{\"id\":\"1276\"}},\"id\":\"1275\",\"type\":\"GlyphRenderer\"},{\"attributes\":{\"source\":{\"id\":\"1040\"}},\"id\":\"1330\",\"type\":\"CDSView\"},{\"attributes\":{\"coordinates\":null,\"data_source\":{\"id\":\"1040\"},\"glyph\":{\"id\":\"1326\"},\"group\":null,\"hover_glyph\":null,\"muted_glyph\":{\"id\":\"1328\"},\"nonselection_glyph\":{\"id\":\"1327\"},\"view\":{\"id\":\"1330\"}},\"id\":\"1329\",\"type\":\"GlyphRenderer\"},{\"attributes\":{\"data\":{\"date_time\":{\"__ndarray__\":\"AADsoL/bc0IAANIzvtxzQgAA9q/S3HNCAABaQifdc0IAADR1Zd1zQgAAwut+3XNCAABoP7Ldc0IAAK5cx91zQgAAojlf3nNCAAC0CLrec0IAAP7pyt5zQgAAUINI33NCAAA2wz/gc0IAAOJbkeBzQgAAAMrm4HNCAABM4Pzgc0IAADx9BuFzQgAATHg34XNCAABqoVnhc0IAADg1neFzQgAALDyx4XNCAAC+n1Hic0IAAPQTTONzQgAAvIQS5HNCAADmkWLkc0IAAAyHvuVzQgAAOqQn5nNCAABmk3Xmc0IAANBiDehzQgAARqIb6HNCAADC00Doc0IAAOZbR+pzQgAA9MeB6nNCAACEIJnqc0IAAPSr2epzQgAAjlko63NCAAC27D/rc0IAAEzPqOtzQgAAriz463NCAAAsMkfsc0IAADhikuxzQgAApIPI7HNCAACe1uTsc0IAAAgPM+1zQg==\",\"dtype\":\"float64\",\"order\":\"little\",\"shape\":[44]},\"index\":[1614,1615,1616,1617,1618,1619,1620,1621,1622,1623,1624,1625,1626,1627,1628,1629,1630,1631,1632,1633,1634,1635,1636,1637,1638,1639,1640,1641,1642,1643,1644,1645,1646,1647,1648,1649,1650,1651,1652,1653,1654,1655,1656,1657],\"y_index\":[40,40,40,40,40,40,40,40,40,40,40,40,40,40,40,40,40,40,40,40,40,40,40,40,40,40,40,40,40,40,40,40,40,40,40,40,40,40,40,40,40,40,40,40]},\"selected\":{\"id\":\"1826\"},\"selection_policy\":{\"id\":\"1825\"}},\"id\":\"1043\",\"type\":\"ColumnDataSource\"},{\"attributes\":{\"fill_alpha\":{\"value\":0.2},\"fill_color\":{\"value\":\"#32B57A\"},\"hatch_alpha\":{\"value\":0.2},\"hatch_color\":{\"value\":\"#32B57A\"},\"line_alpha\":{\"value\":0.2},\"line_color\":{\"value\":\"#32B57A\"},\"x\":{\"field\":\"date_time\"},\"y\":{\"field\":\"y_index\"}},\"id\":\"1328\",\"type\":\"Circle\"},{\"attributes\":{\"coordinates\":null,\"data_source\":{\"id\":\"1011\"},\"glyph\":{\"id\":\"1455\"},\"group\":null,\"hover_glyph\":null,\"muted_glyph\":{\"id\":\"1457\"},\"nonselection_glyph\":{\"id\":\"1456\"},\"view\":{\"id\":\"1459\"}},\"id\":\"1458\",\"type\":\"GlyphRenderer\"},{\"attributes\":{\"fill_alpha\":{\"value\":0.1},\"fill_color\":{\"value\":\"#39B976\"},\"hatch_alpha\":{\"value\":0.1},\"hatch_color\":{\"value\":\"#39B976\"},\"line_alpha\":{\"value\":0.1},\"line_color\":{\"value\":\"#39B976\"},\"x\":{\"field\":\"date_time\"},\"y\":{\"field\":\"y_index\"}},\"id\":\"1333\",\"type\":\"Circle\"},{\"attributes\":{\"fill_alpha\":{\"value\":0.1},\"fill_color\":{\"value\":\"#453681\"},\"hatch_alpha\":{\"value\":0.1},\"hatch_color\":{\"value\":\"#453681\"},\"line_alpha\":{\"value\":0.1},\"line_color\":{\"value\":\"#453681\"},\"marker\":{\"value\":\"diamond\"},\"size\":{\"value\":10},\"x\":{\"field\":\"date_time\"},\"y\":{\"field\":\"y_index\"}},\"id\":\"1463\",\"type\":\"Scatter\"},{\"attributes\":{\"coordinates\":null,\"data_source\":{\"id\":\"1015\"},\"glyph\":{\"id\":\"1176\"},\"group\":null,\"hover_glyph\":null,\"muted_glyph\":{\"id\":\"1178\"},\"nonselection_glyph\":{\"id\":\"1177\"},\"view\":{\"id\":\"1180\"}},\"id\":\"1179\",\"type\":\"GlyphRenderer\"},{\"attributes\":{\"fill_alpha\":{\"value\":0.1},\"fill_color\":{\"value\":\"#40BD72\"},\"hatch_alpha\":{\"value\":0.1},\"hatch_color\":{\"value\":\"#40BD72\"},\"line_alpha\":{\"value\":0.1},\"line_color\":{\"value\":\"#40BD72\"},\"x\":{\"field\":\"date_time\"},\"y\":{\"field\":\"y_index\"}},\"id\":\"1339\",\"type\":\"Circle\"},{\"attributes\":{\"fill_color\":{\"value\":\"#40BD72\"},\"hatch_color\":{\"value\":\"#40BD72\"},\"line_color\":{\"value\":\"#40BD72\"},\"x\":{\"field\":\"date_time\"},\"y\":{\"field\":\"y_index\"}},\"id\":\"1338\",\"type\":\"Circle\"},{\"attributes\":{\"source\":{\"id\":\"1041\"}},\"id\":\"1336\",\"type\":\"CDSView\"},{\"attributes\":{\"coordinates\":null,\"data_source\":{\"id\":\"1041\"},\"glyph\":{\"id\":\"1332\"},\"group\":null,\"hover_glyph\":null,\"muted_glyph\":{\"id\":\"1334\"},\"nonselection_glyph\":{\"id\":\"1333\"},\"view\":{\"id\":\"1336\"}},\"id\":\"1335\",\"type\":\"GlyphRenderer\"},{\"attributes\":{\"fill_alpha\":{\"value\":0.2},\"fill_color\":{\"value\":\"#39B976\"},\"hatch_alpha\":{\"value\":0.2},\"hatch_color\":{\"value\":\"#39B976\"},\"line_alpha\":{\"value\":0.2},\"line_color\":{\"value\":\"#39B976\"},\"x\":{\"field\":\"date_time\"},\"y\":{\"field\":\"y_index\"}},\"id\":\"1334\",\"type\":\"Circle\"},{\"attributes\":{\"data\":{\"date_time\":{\"__ndarray__\":\"AACgKr/ac0IAAAxaydpzQgAAmDMY23NCAABACG7bc0IAAHCfD9xzQgAAWhKy3HNCAADGQbzcc0IAALpI0NxzQgAAaB0R3XNCAABKOSLdc0IAAAjEYN1zQgAAjCp23XNCAABegrXdc0IAAN7Rx91zQgAA2jZX3nNCAAA0e17ec0IAAKDvm95zQgAAvmvF3nNCAAAGt/Xec0IAADL5St9zQgAACvCZ33NCAAC86bHfc0IAAFbx8d9zQgAACs0H4HNCAADkrD7gc0IAAGxviuBzQgAAXAyU4HNCAABsrdPgc0IAAGoe3eBzQgAAElv44HNCAABoIDfhc0IAAEhaSuFzQgAAjh1u4XNCAADWDq3hc0IAAHD6ROJzQgAAhJ3J4nNCAAAGrEfjc0IAAE7iueNzQgAAIDMP5HNCAAAEHGDkc0IAAE5yGeVzQgAAjGEo5XNCAACekV7lc0IAAPqweeVzQgAA5sfQ5XNCAACEjCLmc0IAADAldOZzQgAAiOdn53NCAAAynrvnc0IAADZbzedzQgAA4Mzt53NCAACobhroc0IAAKrvPOhzQgAAukRf6HNCAACAfy/qc0IAAPTHgepzQgAAtC3U6nNCAADwJSfrc0IAAATsPetzQgAA5kWY63NCAAAAUc3rc0IAAFrTHexzQgAANpw87HNCAAAaOXDsc0IAAO634OxzQgAACMMV7XNCAADGpHLwc0I=\",\"dtype\":\"float64\",\"order\":\"little\",\"shape\":[67]},\"index\":[1776,1777,1778,1779,1780,1781,1782,1783,1784,1785,1786,1787,1788,1789,1790,1791,1792,1793,1794,1795,1796,1797,1798,1799,1800,1801,1802,1803,1804,1805,1806,1807,1808,1809,1810,1811,1812,1813,1814,1815,1816,1817,1818,1819,1820,1821,1822,1823,1824,1825,1826,1827,1828,1829,1830,1831,1832,1833,1834,1835,1836,1837,1838,1839,1840,1841,1842],\"y_index\":[45,45,45,45,45,45,45,45,45,45,45,45,45,45,45,45,45,45,45,45,45,45,45,45,45,45,45,45,45,45,45,45,45,45,45,45,45,45,45,45,45,45,45,45,45,45,45,45,45,45,45,45,45,45,45,45,45,45,45,45,45,45,45,45,45,45,45]},\"selected\":{\"id\":\"1836\"},\"selection_policy\":{\"id\":\"1835\"}},\"id\":\"1048\",\"type\":\"ColumnDataSource\"},{\"attributes\":{\"fill_alpha\":{\"value\":0.2},\"fill_color\":{\"value\":\"#86D449\"},\"hatch_alpha\":{\"value\":0.2},\"hatch_color\":{\"value\":\"#86D449\"},\"line_alpha\":{\"value\":0.2},\"line_color\":{\"value\":\"#86D449\"},\"x\":{\"field\":\"date_time\"},\"y\":{\"field\":\"y_index\"}},\"id\":\"1382\",\"type\":\"Circle\"},{\"attributes\":{\"coordinates\":null,\"data_source\":{\"id\":\"1049\"},\"glyph\":{\"id\":\"1380\"},\"group\":null,\"hover_glyph\":null,\"muted_glyph\":{\"id\":\"1382\"},\"nonselection_glyph\":{\"id\":\"1381\"},\"view\":{\"id\":\"1384\"}},\"id\":\"1383\",\"type\":\"GlyphRenderer\"},{\"attributes\":{\"data\":{\"date_time\":{\"__ndarray__\":\"AACywrrac0IAALLCutpzQgAAMhLN2nNCAAAssBXcc0IAACywFdxzQgAALLAV3HNCAABIVyTdc0IAAGAfgN1zQgAAvrHp3XNCAAA0kBzec0IAAPJtYt5zQgAAvInH3nNCAABY9ZDgc0IAAKI9duFzQgAACLjB4nNCAAACNGnjc0IAAP6RDuRzQgAA6HNg5HNCAAAIqAvlc0IAAKhjGeVzQgAASB8n5XNCAAB0FV/lc0IAAPzlfuVzQgAAUsqL6XNC\",\"dtype\":\"float64\",\"order\":\"little\",\"shape\":[24]},\"index\":[136,137,138,139,141,142,147,148,149,150,151,152,153,154,155,156,157,158,159,160,161,162,163,164],\"y_index\":[3,3,3,3,3,3,3,3,3,3,3,3,3,3,3,3,3,3,3,3,3,3,3,3]},\"selected\":{\"id\":\"1752\"},\"selection_policy\":{\"id\":\"1751\"}},\"id\":\"1006\",\"type\":\"ColumnDataSource\"},{\"attributes\":{\"fill_alpha\":{\"value\":0.2},\"fill_color\":{\"value\":\"#440154\"},\"hatch_alpha\":{\"value\":0.2},\"hatch_color\":{\"value\":\"#440154\"},\"line_alpha\":{\"value\":0.2},\"line_color\":{\"value\":\"#440154\"},\"x\":{\"field\":\"date_time\"},\"y\":{\"field\":\"y_index\"}},\"id\":\"1106\",\"type\":\"Circle\"},{\"attributes\":{\"fill_alpha\":{\"value\":0.1},\"fill_color\":{\"value\":\"#49C16D\"},\"hatch_alpha\":{\"value\":0.1},\"hatch_color\":{\"value\":\"#49C16D\"},\"line_alpha\":{\"value\":0.1},\"line_color\":{\"value\":\"#49C16D\"},\"x\":{\"field\":\"date_time\"},\"y\":{\"field\":\"y_index\"}},\"id\":\"1345\",\"type\":\"Circle\"},{\"attributes\":{\"fill_color\":{\"value\":\"#49C16D\"},\"hatch_color\":{\"value\":\"#49C16D\"},\"line_color\":{\"value\":\"#49C16D\"},\"x\":{\"field\":\"date_time\"},\"y\":{\"field\":\"y_index\"}},\"id\":\"1344\",\"type\":\"Circle\"},{\"attributes\":{\"source\":{\"id\":\"1042\"}},\"id\":\"1342\",\"type\":\"CDSView\"},{\"attributes\":{},\"id\":\"1831\",\"type\":\"UnionRenderers\"},{\"attributes\":{\"coordinates\":null,\"data_source\":{\"id\":\"1042\"},\"glyph\":{\"id\":\"1338\"},\"group\":null,\"hover_glyph\":null,\"muted_glyph\":{\"id\":\"1340\"},\"nonselection_glyph\":{\"id\":\"1339\"},\"view\":{\"id\":\"1342\"}},\"id\":\"1341\",\"type\":\"GlyphRenderer\"},{\"attributes\":{\"fill_alpha\":{\"value\":0.2},\"fill_color\":{\"value\":\"#40BD72\"},\"hatch_alpha\":{\"value\":0.2},\"hatch_color\":{\"value\":\"#40BD72\"},\"line_alpha\":{\"value\":0.2},\"line_color\":{\"value\":\"#40BD72\"},\"x\":{\"field\":\"date_time\"},\"y\":{\"field\":\"y_index\"}},\"id\":\"1340\",\"type\":\"Circle\"},{\"attributes\":{},\"id\":\"1832\",\"type\":\"Selection\"},{\"attributes\":{\"source\":{\"id\":\"1049\"}},\"id\":\"1384\",\"type\":\"CDSView\"},{\"attributes\":{\"fill_alpha\":{\"value\":0.2},\"fill_color\":{\"value\":\"#3F4788\"},\"hatch_alpha\":{\"value\":0.2},\"hatch_color\":{\"value\":\"#3F4788\"},\"line_alpha\":{\"value\":0.2},\"line_color\":{\"value\":\"#3F4788\"},\"x\":{\"field\":\"date_time\"},\"y\":{\"field\":\"y_index\"}},\"id\":\"1178\",\"type\":\"Circle\"},{\"attributes\":{\"fill_color\":{\"value\":\"#92D741\"},\"hatch_color\":{\"value\":\"#92D741\"},\"line_color\":{\"value\":\"#92D741\"},\"x\":{\"field\":\"date_time\"},\"y\":{\"field\":\"y_index\"}},\"id\":\"1386\",\"type\":\"Circle\"},{\"attributes\":{\"fill_alpha\":{\"value\":0.1},\"fill_color\":{\"value\":\"#51C468\"},\"hatch_alpha\":{\"value\":0.1},\"hatch_color\":{\"value\":\"#51C468\"},\"line_alpha\":{\"value\":0.1},\"line_color\":{\"value\":\"#51C468\"},\"x\":{\"field\":\"date_time\"},\"y\":{\"field\":\"y_index\"}},\"id\":\"1351\",\"type\":\"Circle\"},{\"attributes\":{\"fill_color\":{\"value\":\"#51C468\"},\"hatch_color\":{\"value\":\"#51C468\"},\"line_color\":{\"value\":\"#51C468\"},\"x\":{\"field\":\"date_time\"},\"y\":{\"field\":\"y_index\"}},\"id\":\"1350\",\"type\":\"Circle\"},{\"attributes\":{\"source\":{\"id\":\"1043\"}},\"id\":\"1348\",\"type\":\"CDSView\"},{\"attributes\":{\"coordinates\":null,\"data_source\":{\"id\":\"1043\"},\"glyph\":{\"id\":\"1344\"},\"group\":null,\"hover_glyph\":null,\"muted_glyph\":{\"id\":\"1346\"},\"nonselection_glyph\":{\"id\":\"1345\"},\"view\":{\"id\":\"1348\"}},\"id\":\"1347\",\"type\":\"GlyphRenderer\"},{\"attributes\":{\"fill_alpha\":{\"value\":0.2},\"fill_color\":{\"value\":\"#49C16D\"},\"hatch_alpha\":{\"value\":0.2},\"hatch_color\":{\"value\":\"#49C16D\"},\"line_alpha\":{\"value\":0.2},\"line_color\":{\"value\":\"#49C16D\"},\"x\":{\"field\":\"date_time\"},\"y\":{\"field\":\"y_index\"}},\"id\":\"1346\",\"type\":\"Circle\"},{\"attributes\":{\"fill_alpha\":{\"value\":0.1},\"fill_color\":{\"value\":\"#92D741\"},\"hatch_alpha\":{\"value\":0.1},\"hatch_color\":{\"value\":\"#92D741\"},\"line_alpha\":{\"value\":0.1},\"line_color\":{\"value\":\"#92D741\"},\"x\":{\"field\":\"date_time\"},\"y\":{\"field\":\"y_index\"}},\"id\":\"1387\",\"type\":\"Circle\"},{\"attributes\":{\"label\":{\"value\":\"u09\"},\"renderers\":[{\"id\":\"1458\"}]},\"id\":\"1460\",\"type\":\"LegendItem\"},{\"attributes\":{\"fill_alpha\":{\"value\":0.1},\"fill_color\":{\"value\":\"#208F8C\"},\"hatch_alpha\":{\"value\":0.1},\"hatch_color\":{\"value\":\"#208F8C\"},\"line_alpha\":{\"value\":0.1},\"line_color\":{\"value\":\"#208F8C\"},\"x\":{\"field\":\"date_time\"},\"y\":{\"field\":\"y_index\"}},\"id\":\"1273\",\"type\":\"Circle\"},{\"attributes\":{\"fill_alpha\":{\"value\":0.1},\"fill_color\":{\"value\":\"#5BC862\"},\"hatch_alpha\":{\"value\":0.1},\"hatch_color\":{\"value\":\"#5BC862\"},\"line_alpha\":{\"value\":0.1},\"line_color\":{\"value\":\"#5BC862\"},\"x\":{\"field\":\"date_time\"},\"y\":{\"field\":\"y_index\"}},\"id\":\"1357\",\"type\":\"Circle\"},{\"attributes\":{\"fill_color\":{\"value\":\"#5BC862\"},\"hatch_color\":{\"value\":\"#5BC862\"},\"line_color\":{\"value\":\"#5BC862\"},\"x\":{\"field\":\"date_time\"},\"y\":{\"field\":\"y_index\"}},\"id\":\"1356\",\"type\":\"Circle\"},{\"attributes\":{\"data\":{\"date_time\":{\"__ndarray__\":\"AACKXxjbc0IAAKhevttzQgAA+gUQ3HNCAAC4bbzcc0IAACAs0txzQgAAQIMP3XNCAAAeLizdc0IAANZsYt1zQgAAMoWT3XNCAACW0rTdc0IAAAhA891zQgAAykIQ3nNCAADyBZ3ec0IAAB5Wxt5zQgAA0g5K33NCAADgc5rfc0IAADIb7N9zQgAAEF5D4HNCAAB20pXgc0IAAEh93OBzQgAAKLAF4XNCAAAsskrhc0IAAOgVWOFzQgAA3GGf4XNCAAD6kavhc0IAAFqkRuNzQgAAnFZg5HNCAADu2h/lc0IAABAiL+VzQgAAjJiH5XNCAABmcdTlc0IAAJYLnOpzQgAA3MfV6nNCAAAOAyzrc0IAAEgSl+tzQgAAvA7M63NCAAA0DUbsc0IAABo5cOxzQgAAXseO7HNCAABy2cLsc0IAAEQHhu1zQg==\",\"dtype\":\"float64\",\"order\":\"little\",\"shape\":[41]},\"index\":[1658,1659,1660,1661,1662,1663,1664,1665,1666,1667,1668,1669,1670,1671,1672,1673,1674,1675,1676,1677,1678,1679,1680,1681,1682,1683,1684,1685,1686,1687,1688,1689,1690,1691,1692,1693,1694,1695,1696,1697,1698],\"y_index\":[41,41,41,41,41,41,41,41,41,41,41,41,41,41,41,41,41,41,41,41,41,41,41,41,41,41,41,41,41,41,41,41,41,41,41,41,41,41,41,41,41]},\"selected\":{\"id\":\"1828\"},\"selection_policy\":{\"id\":\"1827\"}},\"id\":\"1044\",\"type\":\"ColumnDataSource\"},{\"attributes\":{\"source\":{\"id\":\"1044\"}},\"id\":\"1354\",\"type\":\"CDSView\"},{\"attributes\":{\"coordinates\":null,\"data_source\":{\"id\":\"1044\"},\"glyph\":{\"id\":\"1350\"},\"group\":null,\"hover_glyph\":null,\"muted_glyph\":{\"id\":\"1352\"},\"nonselection_glyph\":{\"id\":\"1351\"},\"view\":{\"id\":\"1354\"}},\"id\":\"1353\",\"type\":\"GlyphRenderer\"},{\"attributes\":{\"fill_alpha\":{\"value\":0.2},\"fill_color\":{\"value\":\"#51C468\"},\"hatch_alpha\":{\"value\":0.2},\"hatch_color\":{\"value\":\"#51C468\"},\"line_alpha\":{\"value\":0.2},\"line_color\":{\"value\":\"#51C468\"},\"x\":{\"field\":\"date_time\"},\"y\":{\"field\":\"y_index\"}},\"id\":\"1352\",\"type\":\"Circle\"},{\"attributes\":{\"fill_alpha\":{\"value\":0.2},\"fill_color\":{\"value\":\"#79D151\"},\"hatch_alpha\":{\"value\":0.2},\"hatch_color\":{\"value\":\"#79D151\"},\"line_alpha\":{\"value\":0.2},\"line_color\":{\"value\":\"#79D151\"},\"x\":{\"field\":\"date_time\"},\"y\":{\"field\":\"y_index\"}},\"id\":\"1376\",\"type\":\"Circle\"},{\"attributes\":{\"fill_alpha\":{\"value\":0.1},\"fill_color\":{\"value\":\"#460E61\"},\"hatch_alpha\":{\"value\":0.1},\"hatch_color\":{\"value\":\"#460E61\"},\"line_alpha\":{\"value\":0.1},\"line_color\":{\"value\":\"#460E61\"},\"x\":{\"field\":\"date_time\"},\"y\":{\"field\":\"y_index\"}},\"id\":\"1117\",\"type\":\"Circle\"},{\"attributes\":{\"fill_alpha\":{\"value\":0.1},\"fill_color\":{\"value\":\"#64CB5D\"},\"hatch_alpha\":{\"value\":0.1},\"hatch_color\":{\"value\":\"#64CB5D\"},\"line_alpha\":{\"value\":0.1},\"line_color\":{\"value\":\"#64CB5D\"},\"x\":{\"field\":\"date_time\"},\"y\":{\"field\":\"y_index\"}},\"id\":\"1363\",\"type\":\"Circle\"},{\"attributes\":{\"fill_color\":{\"value\":\"#64CB5D\"},\"hatch_color\":{\"value\":\"#64CB5D\"},\"line_color\":{\"value\":\"#64CB5D\"},\"x\":{\"field\":\"date_time\"},\"y\":{\"field\":\"y_index\"}},\"id\":\"1362\",\"type\":\"Circle\"},{\"attributes\":{\"source\":{\"id\":\"1045\"}},\"id\":\"1360\",\"type\":\"CDSView\"},{\"attributes\":{},\"id\":\"1833\",\"type\":\"UnionRenderers\"},{\"attributes\":{\"coordinates\":null,\"data_source\":{\"id\":\"1045\"},\"glyph\":{\"id\":\"1356\"},\"group\":null,\"hover_glyph\":null,\"muted_glyph\":{\"id\":\"1358\"},\"nonselection_glyph\":{\"id\":\"1357\"},\"view\":{\"id\":\"1360\"}},\"id\":\"1359\",\"type\":\"GlyphRenderer\"},{\"attributes\":{\"source\":{\"id\":\"1004\"}},\"id\":\"1114\",\"type\":\"CDSView\"},{\"attributes\":{\"fill_alpha\":{\"value\":0.2},\"fill_color\":{\"value\":\"#5BC862\"},\"hatch_alpha\":{\"value\":0.2},\"hatch_color\":{\"value\":\"#5BC862\"},\"line_alpha\":{\"value\":0.2},\"line_color\":{\"value\":\"#5BC862\"},\"x\":{\"field\":\"date_time\"},\"y\":{\"field\":\"y_index\"}},\"id\":\"1358\",\"type\":\"Circle\"},{\"attributes\":{},\"id\":\"1834\",\"type\":\"Selection\"},{\"attributes\":{\"coordinates\":null,\"data_source\":{\"id\":\"1048\"},\"glyph\":{\"id\":\"1374\"},\"group\":null,\"hover_glyph\":null,\"muted_glyph\":{\"id\":\"1376\"},\"nonselection_glyph\":{\"id\":\"1375\"},\"view\":{\"id\":\"1378\"}},\"id\":\"1377\",\"type\":\"GlyphRenderer\"},{\"attributes\":{\"fill_alpha\":{\"value\":0.1},\"fill_color\":{\"value\":\"#481A6C\"},\"hatch_alpha\":{\"value\":0.1},\"hatch_color\":{\"value\":\"#481A6C\"},\"line_alpha\":{\"value\":0.1},\"line_color\":{\"value\":\"#481A6C\"},\"x\":{\"field\":\"date_time\"},\"y\":{\"field\":\"y_index\"}},\"id\":\"1129\",\"type\":\"Circle\"},{\"attributes\":{\"fill_color\":{\"value\":\"#440154\"},\"hatch_color\":{\"value\":\"#440154\"},\"line_color\":{\"value\":\"#440154\"},\"x\":{\"field\":\"date_time\"},\"y\":{\"field\":\"y_index\"}},\"id\":\"1104\",\"type\":\"Circle\"},{\"attributes\":{\"source\":{\"id\":\"1048\"}},\"id\":\"1378\",\"type\":\"CDSView\"},{\"attributes\":{\"coordinates\":null,\"data_source\":{\"id\":\"1003\"},\"glyph\":{\"id\":\"1104\"},\"group\":null,\"hover_glyph\":null,\"muted_glyph\":{\"id\":\"1106\"},\"nonselection_glyph\":{\"id\":\"1105\"},\"view\":{\"id\":\"1108\"}},\"id\":\"1107\",\"type\":\"GlyphRenderer\"},{\"attributes\":{\"fill_alpha\":{\"value\":0.1},\"fill_color\":{\"value\":\"#70CE56\"},\"hatch_alpha\":{\"value\":0.1},\"hatch_color\":{\"value\":\"#70CE56\"},\"line_alpha\":{\"value\":0.1},\"line_color\":{\"value\":\"#70CE56\"},\"x\":{\"field\":\"date_time\"},\"y\":{\"field\":\"y_index\"}},\"id\":\"1369\",\"type\":\"Circle\"},{\"attributes\":{\"fill_alpha\":{\"value\":0.1},\"fill_color\":{\"value\":\"#440154\"},\"hatch_alpha\":{\"value\":0.1},\"hatch_color\":{\"value\":\"#440154\"},\"line_alpha\":{\"value\":0.1},\"line_color\":{\"value\":\"#440154\"},\"x\":{\"field\":\"date_time\"},\"y\":{\"field\":\"y_index\"}},\"id\":\"1105\",\"type\":\"Circle\"},{\"attributes\":{\"fill_color\":{\"value\":\"#70CE56\"},\"hatch_color\":{\"value\":\"#70CE56\"},\"line_color\":{\"value\":\"#70CE56\"},\"x\":{\"field\":\"date_time\"},\"y\":{\"field\":\"y_index\"}},\"id\":\"1368\",\"type\":\"Circle\"},{\"attributes\":{\"end\":47.020833333333336,\"start\":-0.020833333333333332},\"id\":\"1057\",\"type\":\"Range1d\"},{\"attributes\":{\"source\":{\"id\":\"1046\"}},\"id\":\"1366\",\"type\":\"CDSView\"},{\"attributes\":{\"coordinates\":null,\"data_source\":{\"id\":\"1046\"},\"glyph\":{\"id\":\"1362\"},\"group\":null,\"hover_glyph\":null,\"muted_glyph\":{\"id\":\"1364\"},\"nonselection_glyph\":{\"id\":\"1363\"},\"view\":{\"id\":\"1366\"}},\"id\":\"1365\",\"type\":\"GlyphRenderer\"},{\"attributes\":{\"fill_alpha\":{\"value\":0.2},\"fill_color\":{\"value\":\"#64CB5D\"},\"hatch_alpha\":{\"value\":0.2},\"hatch_color\":{\"value\":\"#64CB5D\"},\"line_alpha\":{\"value\":0.2},\"line_color\":{\"value\":\"#64CB5D\"},\"x\":{\"field\":\"date_time\"},\"y\":{\"field\":\"y_index\"}},\"id\":\"1364\",\"type\":\"Circle\"},{\"attributes\":{\"fill_color\":{\"value\":\"#86D449\"},\"hatch_color\":{\"value\":\"#86D449\"},\"line_color\":{\"value\":\"#86D449\"},\"x\":{\"field\":\"date_time\"},\"y\":{\"field\":\"y_index\"}},\"id\":\"1380\",\"type\":\"Circle\"},{\"attributes\":{\"fill_alpha\":{\"value\":0.1},\"fill_color\":{\"value\":\"#86D449\"},\"hatch_alpha\":{\"value\":0.1},\"hatch_color\":{\"value\":\"#86D449\"},\"line_alpha\":{\"value\":0.1},\"line_color\":{\"value\":\"#86D449\"},\"x\":{\"field\":\"date_time\"},\"y\":{\"field\":\"y_index\"}},\"id\":\"1381\",\"type\":\"Circle\"},{\"attributes\":{\"fill_alpha\":{\"value\":0.1},\"fill_color\":{\"value\":\"#79D151\"},\"hatch_alpha\":{\"value\":0.1},\"hatch_color\":{\"value\":\"#79D151\"},\"line_alpha\":{\"value\":0.1},\"line_color\":{\"value\":\"#79D151\"},\"x\":{\"field\":\"date_time\"},\"y\":{\"field\":\"y_index\"}},\"id\":\"1375\",\"type\":\"Circle\"},{\"attributes\":{\"fill_color\":{\"value\":\"#79D151\"},\"hatch_color\":{\"value\":\"#79D151\"},\"line_color\":{\"value\":\"#79D151\"},\"x\":{\"field\":\"date_time\"},\"y\":{\"field\":\"y_index\"}},\"id\":\"1374\",\"type\":\"Circle\"},{\"attributes\":{\"source\":{\"id\":\"1047\"}},\"id\":\"1372\",\"type\":\"CDSView\"},{\"attributes\":{\"coordinates\":null,\"data_source\":{\"id\":\"1047\"},\"glyph\":{\"id\":\"1368\"},\"group\":null,\"hover_glyph\":null,\"muted_glyph\":{\"id\":\"1370\"},\"nonselection_glyph\":{\"id\":\"1369\"},\"view\":{\"id\":\"1372\"}},\"id\":\"1371\",\"type\":\"GlyphRenderer\"},{\"attributes\":{\"fill_color\":{\"value\":\"#3F4788\"},\"hatch_color\":{\"value\":\"#3F4788\"},\"line_color\":{\"value\":\"#3F4788\"},\"x\":{\"field\":\"date_time\"},\"y\":{\"field\":\"y_index\"}},\"id\":\"1176\",\"type\":\"Circle\"},{\"attributes\":{\"fill_alpha\":{\"value\":0.2},\"fill_color\":{\"value\":\"#70CE56\"},\"hatch_alpha\":{\"value\":0.2},\"hatch_color\":{\"value\":\"#70CE56\"},\"line_alpha\":{\"value\":0.2},\"line_color\":{\"value\":\"#70CE56\"},\"x\":{\"field\":\"date_time\"},\"y\":{\"field\":\"y_index\"}},\"id\":\"1370\",\"type\":\"Circle\"},{\"attributes\":{\"data\":{\"date_time\":{\"__ndarray__\":\"AABYCBrbc0IAAOp5jttzQgAASjki3XNCAABO6F/dc0IAAEpwgd1zQgAATJey3XNCAABQmffdc0IAAFw3Ad9zQgAAWF5H33NCAABytZnfc0IAAEr/799zQgAAnog/4HNCAADui9zgc0IAAJxnB+FzQgAA/OJY4XNCAAAOh0bjc0IAAGjJa+VzQgAAkmAi5nNCAADIGF/oc0IAAK6XkOhzQg==\",\"dtype\":\"float64\",\"order\":\"little\",\"shape\":[20]},\"index\":[1737,1738,1739,1740,1741,1742,1743,1744,1745,1746,1747,1748,1749,1750,1751,1752,1753,1754,1755,1756],\"y_index\":[43,43,43,43,43,43,43,43,43,43,43,43,43,43,43,43,43,43,43,43]},\"selected\":{\"id\":\"1832\"},\"selection_policy\":{\"id\":\"1831\"}},\"id\":\"1046\",\"type\":\"ColumnDataSource\"},{\"attributes\":{\"fill_alpha\":{\"value\":0.5},\"fill_color\":{\"value\":\"#2E6D8E\"},\"hatch_alpha\":{\"value\":0.5},\"hatch_color\":{\"value\":\"#2E6D8E\"},\"line_alpha\":{\"value\":0.5},\"line_color\":{\"value\":\"#2E6D8E\"},\"marker\":{\"value\":\"diamond\"},\"size\":{\"value\":10},\"x\":{\"field\":\"date_time\"},\"y\":{\"field\":\"y_index\"}},\"id\":\"1539\",\"type\":\"Scatter\"},{\"attributes\":{\"label\":{\"value\":\"u00\"},\"renderers\":[{\"id\":\"1402\"}]},\"id\":\"1404\",\"type\":\"LegendItem\"},{\"attributes\":{\"fill_alpha\":{\"value\":0.2},\"fill_color\":{\"value\":\"#30688D\"},\"hatch_alpha\":{\"value\":0.2},\"hatch_color\":{\"value\":\"#30688D\"},\"line_alpha\":{\"value\":0.2},\"line_color\":{\"value\":\"#30688D\"},\"marker\":{\"value\":\"diamond\"},\"size\":{\"value\":10},\"x\":{\"field\":\"date_time\"},\"y\":{\"field\":\"y_index\"}},\"id\":\"1534\",\"type\":\"Scatter\"},{\"attributes\":{\"fill_alpha\":{\"value\":0.2},\"fill_color\":{\"value\":\"#481A6C\"},\"hatch_alpha\":{\"value\":0.2},\"hatch_color\":{\"value\":\"#481A6C\"},\"line_alpha\":{\"value\":0.2},\"line_color\":{\"value\":\"#481A6C\"},\"x\":{\"field\":\"date_time\"},\"y\":{\"field\":\"y_index\"}},\"id\":\"1130\",\"type\":\"Circle\"},{\"attributes\":{},\"id\":\"1835\",\"type\":\"UnionRenderers\"},{\"attributes\":{\"source\":{\"id\":\"1003\"}},\"id\":\"1403\",\"type\":\"CDSView\"},{\"attributes\":{},\"id\":\"1836\",\"type\":\"Selection\"},{\"attributes\":{\"fill_alpha\":{\"value\":0.1},\"fill_color\":{\"value\":\"#45065A\"},\"hatch_alpha\":{\"value\":0.1},\"hatch_color\":{\"value\":\"#45065A\"},\"line_alpha\":{\"value\":0.1},\"line_color\":{\"value\":\"#45065A\"},\"marker\":{\"value\":\"diamond\"},\"size\":{\"value\":10},\"x\":{\"field\":\"date_time\"},\"y\":{\"field\":\"y_index\"}},\"id\":\"1407\",\"type\":\"Scatter\"},{\"attributes\":{\"fill_alpha\":{\"value\":0.5},\"fill_color\":{\"value\":\"#45065A\"},\"hatch_alpha\":{\"value\":0.5},\"hatch_color\":{\"value\":\"#45065A\"},\"line_alpha\":{\"value\":0.5},\"line_color\":{\"value\":\"#45065A\"},\"marker\":{\"value\":\"diamond\"},\"size\":{\"value\":10},\"x\":{\"field\":\"date_time\"},\"y\":{\"field\":\"y_index\"}},\"id\":\"1406\",\"type\":\"Scatter\"},{\"attributes\":{\"base\":60,\"mantissas\":[1,2,5,10,15,20,30],\"max_interval\":1800000.0,\"min_interval\":1000.0,\"num_minor_ticks\":0},\"id\":\"1856\",\"type\":\"AdaptiveTicker\"},{\"attributes\":{\"mantissas\":[1,2,5],\"max_interval\":500.0,\"num_minor_ticks\":0},\"id\":\"1855\",\"type\":\"AdaptiveTicker\"},{\"attributes\":{\"fill_alpha\":{\"value\":0.5},\"fill_color\":{\"value\":\"#46317E\"},\"hatch_alpha\":{\"value\":0.5},\"hatch_color\":{\"value\":\"#46317E\"},\"line_alpha\":{\"value\":0.5},\"line_color\":{\"value\":\"#46317E\"},\"marker\":{\"value\":\"diamond\"},\"size\":{\"value\":10},\"x\":{\"field\":\"date_time\"},\"y\":{\"field\":\"y_index\"}},\"id\":\"1455\",\"type\":\"Scatter\"},{\"attributes\":{\"fill_alpha\":{\"value\":0.1},\"fill_color\":{\"value\":\"#45065A\"},\"hatch_alpha\":{\"value\":0.1},\"hatch_color\":{\"value\":\"#45065A\"},\"line_alpha\":{\"value\":0.1},\"line_color\":{\"value\":\"#45065A\"},\"x\":{\"field\":\"date_time\"},\"y\":{\"field\":\"y_index\"}},\"id\":\"1111\",\"type\":\"Circle\"},{\"attributes\":{\"base\":24,\"mantissas\":[1,2,4,6,8,12],\"max_interval\":43200000.0,\"min_interval\":3600000.0,\"num_minor_ticks\":0},\"id\":\"1857\",\"type\":\"AdaptiveTicker\"},{\"attributes\":{\"fill_alpha\":{\"value\":0.2},\"fill_color\":{\"value\":\"#45065A\"},\"hatch_alpha\":{\"value\":0.2},\"hatch_color\":{\"value\":\"#45065A\"},\"line_alpha\":{\"value\":0.2},\"line_color\":{\"value\":\"#45065A\"},\"marker\":{\"value\":\"diamond\"},\"size\":{\"value\":10},\"x\":{\"field\":\"date_time\"},\"y\":{\"field\":\"y_index\"}},\"id\":\"1408\",\"type\":\"Scatter\"},{\"attributes\":{},\"id\":\"1866\",\"type\":\"YearsTicker\"},{\"attributes\":{\"months\":[0,1,2,3,4,5,6,7,8,9,10,11]},\"id\":\"1862\",\"type\":\"MonthsTicker\"},{\"attributes\":{\"coordinates\":null,\"data_source\":{\"id\":\"1004\"},\"glyph\":{\"id\":\"1406\"},\"group\":null,\"hover_glyph\":null,\"muted_glyph\":{\"id\":\"1408\"},\"nonselection_glyph\":{\"id\":\"1407\"},\"view\":{\"id\":\"1410\"}},\"id\":\"1409\",\"type\":\"GlyphRenderer\"},{\"attributes\":{\"days\":[1,15]},\"id\":\"1861\",\"type\":\"DaysTicker\"},{\"attributes\":{\"axis\":{\"id\":\"1067\"},\"coordinates\":null,\"dimension\":1,\"grid_line_color\":null,\"group\":null,\"ticker\":null},\"id\":\"1070\",\"type\":\"Grid\"},{\"attributes\":{\"fill_alpha\":{\"value\":0.1},\"fill_color\":{\"value\":\"#460E61\"},\"hatch_alpha\":{\"value\":0.1},\"hatch_color\":{\"value\":\"#460E61\"},\"line_alpha\":{\"value\":0.1},\"line_color\":{\"value\":\"#460E61\"},\"marker\":{\"value\":\"diamond\"},\"size\":{\"value\":10},\"x\":{\"field\":\"date_time\"},\"y\":{\"field\":\"y_index\"}},\"id\":\"1414\",\"type\":\"Scatter\"},{\"attributes\":{\"days\":[1,2,3,4,5,6,7,8,9,10,11,12,13,14,15,16,17,18,19,20,21,22,23,24,25,26,27,28,29,30,31]},\"id\":\"1858\",\"type\":\"DaysTicker\"},{\"attributes\":{\"label\":{\"value\":\"u01\"},\"renderers\":[{\"id\":\"1409\"}]},\"id\":\"1411\",\"type\":\"LegendItem\"},{\"attributes\":{\"days\":[1,4,7,10,13,16,19,22,25,28]},\"id\":\"1859\",\"type\":\"DaysTicker\"},{\"attributes\":{\"days\":[1,8,15,22]},\"id\":\"1860\",\"type\":\"DaysTicker\"},{\"attributes\":{\"source\":{\"id\":\"1004\"}},\"id\":\"1410\",\"type\":\"CDSView\"},{\"attributes\":{\"months\":[0,6]},\"id\":\"1865\",\"type\":\"MonthsTicker\"},{\"attributes\":{\"fill_alpha\":{\"value\":0.5},\"fill_color\":{\"value\":\"#460E61\"},\"hatch_alpha\":{\"value\":0.5},\"hatch_color\":{\"value\":\"#460E61\"},\"line_alpha\":{\"value\":0.5},\"line_color\":{\"value\":\"#460E61\"},\"marker\":{\"value\":\"diamond\"},\"size\":{\"value\":10},\"x\":{\"field\":\"date_time\"},\"y\":{\"field\":\"y_index\"}},\"id\":\"1413\",\"type\":\"Scatter\"},{\"attributes\":{\"months\":[0,2,4,6,8,10]},\"id\":\"1863\",\"type\":\"MonthsTicker\"},{\"attributes\":{\"data\":{\"date_time\":{\"__ndarray__\":\"AADSJ8zac0IAAHw4EdtzQgAAwgIf23NCAAAw/2jbc0IAAFiZattzQgAAgqa623NCAABcHizcc0IAAFweLNxzQgAAfFnB3HNCAACO6tLcc0IAAPT2X91zQgAAKl533XNCAABe1bzdc0IAAJwdzN5zQgAAnKZB4HNCAAAMfp/gc0IAANxG6OBzQgAApOgU4XNCAAA8MPjhc0IAALCh1eJzQgAA9khR43NCAABmVw7kc0IAAMA5SeVzQgAAkvJj5XNCAAD85X7lc0IAAFKk0+VzQgAAcL8h5nNCAAD0TdHnc0IAACbx7OdzQgAAcp896HNCAACklWDoc0IAADAvhOpzQgAAmO2Z6nNCAADORt3qc0IAADpaP+tzQgAATkL363NCAADansLsc0I=\",\"dtype\":\"float64\",\"order\":\"little\",\"shape\":[37]},\"index\":[1699,1700,1701,1702,1703,1704,1705,1706,1707,1708,1709,1710,1711,1712,1713,1714,1715,1716,1717,1718,1720,1721,1722,1723,1724,1725,1726,1727,1728,1729,1730,1731,1732,1733,1734,1735,1736],\"y_index\":[42,42,42,42,42,42,42,42,42,42,42,42,42,42,42,42,42,42,42,42,42,42,42,42,42,42,42,42,42,42,42,42,42,42,42,42,42]},\"selected\":{\"id\":\"1830\"},\"selection_policy\":{\"id\":\"1829\"}},\"id\":\"1045\",\"type\":\"ColumnDataSource\"},{\"attributes\":{\"coordinates\":null,\"data_source\":{\"id\":\"1006\"},\"glyph\":{\"id\":\"1122\"},\"group\":null,\"hover_glyph\":null,\"muted_glyph\":{\"id\":\"1124\"},\"nonselection_glyph\":{\"id\":\"1123\"},\"view\":{\"id\":\"1126\"}},\"id\":\"1125\",\"type\":\"GlyphRenderer\"},{\"attributes\":{\"fill_alpha\":{\"value\":0.2},\"fill_color\":{\"value\":\"#460E61\"},\"hatch_alpha\":{\"value\":0.2},\"hatch_color\":{\"value\":\"#460E61\"},\"line_alpha\":{\"value\":0.2},\"line_color\":{\"value\":\"#460E61\"},\"marker\":{\"value\":\"diamond\"},\"size\":{\"value\":10},\"x\":{\"field\":\"date_time\"},\"y\":{\"field\":\"y_index\"}},\"id\":\"1415\",\"type\":\"Scatter\"},{\"attributes\":{\"months\":[0,4,8]},\"id\":\"1864\",\"type\":\"MonthsTicker\"},{\"attributes\":{\"source\":{\"id\":\"1010\"}},\"id\":\"1452\",\"type\":\"CDSView\"},{\"attributes\":{\"fill_alpha\":{\"value\":0.1},\"fill_color\":{\"value\":\"#3F4788\"},\"hatch_alpha\":{\"value\":0.1},\"hatch_color\":{\"value\":\"#3F4788\"},\"line_alpha\":{\"value\":0.1},\"line_color\":{\"value\":\"#3F4788\"},\"x\":{\"field\":\"date_time\"},\"y\":{\"field\":\"y_index\"}},\"id\":\"1177\",\"type\":\"Circle\"},{\"attributes\":{\"coordinates\":null,\"data_source\":{\"id\":\"1005\"},\"glyph\":{\"id\":\"1413\"},\"group\":null,\"hover_glyph\":null,\"muted_glyph\":{\"id\":\"1415\"},\"nonselection_glyph\":{\"id\":\"1414\"},\"view\":{\"id\":\"1417\"}},\"id\":\"1416\",\"type\":\"GlyphRenderer\"},{\"attributes\":{\"num_minor_ticks\":10,\"tickers\":[{\"id\":\"1842\"},{\"id\":\"1843\"},{\"id\":\"1844\"},{\"id\":\"1845\"},{\"id\":\"1846\"},{\"id\":\"1847\"},{\"id\":\"1848\"},{\"id\":\"1849\"},{\"id\":\"1850\"},{\"id\":\"1851\"},{\"id\":\"1852\"},{\"id\":\"1853\"}]},\"id\":\"1064\",\"type\":\"DatetimeTicker\"},{\"attributes\":{\"fill_alpha\":{\"value\":0.1},\"fill_color\":{\"value\":\"#471466\"},\"hatch_alpha\":{\"value\":0.1},\"hatch_color\":{\"value\":\"#471466\"},\"line_alpha\":{\"value\":0.1},\"line_color\":{\"value\":\"#471466\"},\"marker\":{\"value\":\"diamond\"},\"size\":{\"value\":10},\"x\":{\"field\":\"date_time\"},\"y\":{\"field\":\"y_index\"}},\"id\":\"1421\",\"type\":\"Scatter\"},{\"attributes\":{\"label\":{\"value\":\"u02\"},\"renderers\":[{\"id\":\"1416\"}]},\"id\":\"1418\",\"type\":\"LegendItem\"},{\"attributes\":{},\"id\":\"1837\",\"type\":\"UnionRenderers\"},{\"attributes\":{\"source\":{\"id\":\"1005\"}},\"id\":\"1417\",\"type\":\"CDSView\"},{\"attributes\":{},\"id\":\"1838\",\"type\":\"Selection\"},{\"attributes\":{\"fill_alpha\":{\"value\":0.5},\"fill_color\":{\"value\":\"#471466\"},\"hatch_alpha\":{\"value\":0.5},\"hatch_color\":{\"value\":\"#471466\"},\"line_alpha\":{\"value\":0.5},\"line_color\":{\"value\":\"#471466\"},\"marker\":{\"value\":\"diamond\"},\"size\":{\"value\":10},\"x\":{\"field\":\"date_time\"},\"y\":{\"field\":\"y_index\"}},\"id\":\"1420\",\"type\":\"Scatter\"},{\"attributes\":{\"source\":{\"id\":\"1006\"}},\"id\":\"1126\",\"type\":\"CDSView\"},{\"attributes\":{\"num_minor_ticks\":5,\"tickers\":[{\"id\":\"1855\"},{\"id\":\"1856\"},{\"id\":\"1857\"},{\"id\":\"1858\"},{\"id\":\"1859\"},{\"id\":\"1860\"},{\"id\":\"1861\"},{\"id\":\"1862\"},{\"id\":\"1863\"},{\"id\":\"1864\"},{\"id\":\"1865\"},{\"id\":\"1866\"}]},\"id\":\"1096\",\"type\":\"DatetimeTicker\"},{\"attributes\":{\"fill_alpha\":{\"value\":0.1},\"fill_color\":{\"value\":\"#46317E\"},\"hatch_alpha\":{\"value\":0.1},\"hatch_color\":{\"value\":\"#46317E\"},\"line_alpha\":{\"value\":0.1},\"line_color\":{\"value\":\"#46317E\"},\"marker\":{\"value\":\"diamond\"},\"size\":{\"value\":10},\"x\":{\"field\":\"date_time\"},\"y\":{\"field\":\"y_index\"}},\"id\":\"1456\",\"type\":\"Scatter\"},{\"attributes\":{\"fill_alpha\":{\"value\":0.2},\"fill_color\":{\"value\":\"#471466\"},\"hatch_alpha\":{\"value\":0.2},\"hatch_color\":{\"value\":\"#471466\"},\"line_alpha\":{\"value\":0.2},\"line_color\":{\"value\":\"#471466\"},\"marker\":{\"value\":\"diamond\"},\"size\":{\"value\":10},\"x\":{\"field\":\"date_time\"},\"y\":{\"field\":\"y_index\"}},\"id\":\"1422\",\"type\":\"Scatter\"},{\"attributes\":{\"label\":{\"value\":\"u08\"},\"renderers\":[{\"id\":\"1451\"}]},\"id\":\"1453\",\"type\":\"LegendItem\"},{\"attributes\":{\"source\":{\"id\":\"1005\"}},\"id\":\"1120\",\"type\":\"CDSView\"},{\"attributes\":{\"coordinates\":null,\"data_source\":{\"id\":\"1006\"},\"glyph\":{\"id\":\"1420\"},\"group\":null,\"hover_glyph\":null,\"muted_glyph\":{\"id\":\"1422\"},\"nonselection_glyph\":{\"id\":\"1421\"},\"view\":{\"id\":\"1424\"}},\"id\":\"1423\",\"type\":\"GlyphRenderer\"},{\"attributes\":{\"fill_alpha\":{\"value\":0.1},\"fill_color\":{\"value\":\"#481A6C\"},\"hatch_alpha\":{\"value\":0.1},\"hatch_color\":{\"value\":\"#481A6C\"},\"line_alpha\":{\"value\":0.1},\"line_color\":{\"value\":\"#481A6C\"},\"marker\":{\"value\":\"diamond\"},\"size\":{\"value\":10},\"x\":{\"field\":\"date_time\"},\"y\":{\"field\":\"y_index\"}},\"id\":\"1428\",\"type\":\"Scatter\"},{\"attributes\":{\"fill_color\":{\"value\":\"#460E61\"},\"hatch_color\":{\"value\":\"#460E61\"},\"line_color\":{\"value\":\"#460E61\"},\"x\":{\"field\":\"date_time\"},\"y\":{\"field\":\"y_index\"}},\"id\":\"1116\",\"type\":\"Circle\"},{\"attributes\":{\"label\":{\"value\":\"u03\"},\"renderers\":[{\"id\":\"1423\"}]},\"id\":\"1425\",\"type\":\"LegendItem\"},{\"attributes\":{\"source\":{\"id\":\"1006\"}},\"id\":\"1424\",\"type\":\"CDSView\"},{\"attributes\":{\"fill_alpha\":{\"value\":0.1},\"fill_color\":{\"value\":\"#3D4C89\"},\"hatch_alpha\":{\"value\":0.1},\"hatch_color\":{\"value\":\"#3D4C89\"},\"line_alpha\":{\"value\":0.1},\"line_color\":{\"value\":\"#3D4C89\"},\"x\":{\"field\":\"date_time\"},\"y\":{\"field\":\"y_index\"}},\"id\":\"1183\",\"type\":\"Circle\"},{\"attributes\":{\"fill_alpha\":{\"value\":0.5},\"fill_color\":{\"value\":\"#481A6C\"},\"hatch_alpha\":{\"value\":0.5},\"hatch_color\":{\"value\":\"#481A6C\"},\"line_alpha\":{\"value\":0.5},\"line_color\":{\"value\":\"#481A6C\"},\"marker\":{\"value\":\"diamond\"},\"size\":{\"value\":10},\"x\":{\"field\":\"date_time\"},\"y\":{\"field\":\"y_index\"}},\"id\":\"1427\",\"type\":\"Scatter\"},{\"attributes\":{\"fill_alpha\":{\"value\":0.2},\"fill_color\":{\"value\":\"#460E61\"},\"hatch_alpha\":{\"value\":0.2},\"hatch_color\":{\"value\":\"#460E61\"},\"line_alpha\":{\"value\":0.2},\"line_color\":{\"value\":\"#460E61\"},\"x\":{\"field\":\"date_time\"},\"y\":{\"field\":\"y_index\"}},\"id\":\"1118\",\"type\":\"Circle\"},{\"attributes\":{\"coordinates\":null,\"data_source\":{\"id\":\"1004\"},\"glyph\":{\"id\":\"1110\"},\"group\":null,\"hover_glyph\":null,\"muted_glyph\":{\"id\":\"1112\"},\"nonselection_glyph\":{\"id\":\"1111\"},\"view\":{\"id\":\"1114\"}},\"id\":\"1113\",\"type\":\"GlyphRenderer\"},{\"attributes\":{\"source\":{\"id\":\"1022\"}},\"id\":\"1536\",\"type\":\"CDSView\"},{\"attributes\":{\"fill_alpha\":{\"value\":0.2},\"fill_color\":{\"value\":\"#45065A\"},\"hatch_alpha\":{\"value\":0.2},\"hatch_color\":{\"value\":\"#45065A\"},\"line_alpha\":{\"value\":0.2},\"line_color\":{\"value\":\"#45065A\"},\"x\":{\"field\":\"date_time\"},\"y\":{\"field\":\"y_index\"}},\"id\":\"1112\",\"type\":\"Circle\"},{\"attributes\":{\"fill_alpha\":{\"value\":0.2},\"fill_color\":{\"value\":\"#481A6C\"},\"hatch_alpha\":{\"value\":0.2},\"hatch_color\":{\"value\":\"#481A6C\"},\"line_alpha\":{\"value\":0.2},\"line_color\":{\"value\":\"#481A6C\"},\"marker\":{\"value\":\"diamond\"},\"size\":{\"value\":10},\"x\":{\"field\":\"date_time\"},\"y\":{\"field\":\"y_index\"}},\"id\":\"1429\",\"type\":\"Scatter\"},{\"attributes\":{\"coordinates\":null,\"data_source\":{\"id\":\"1010\"},\"glyph\":{\"id\":\"1448\"},\"group\":null,\"hover_glyph\":null,\"muted_glyph\":{\"id\":\"1450\"},\"nonselection_glyph\":{\"id\":\"1449\"},\"view\":{\"id\":\"1452\"}},\"id\":\"1451\",\"type\":\"GlyphRenderer\"},{\"attributes\":{\"coordinates\":null,\"data_source\":{\"id\":\"1007\"},\"glyph\":{\"id\":\"1427\"},\"group\":null,\"hover_glyph\":null,\"muted_glyph\":{\"id\":\"1429\"},\"nonselection_glyph\":{\"id\":\"1428\"},\"view\":{\"id\":\"1431\"}},\"id\":\"1430\",\"type\":\"GlyphRenderer\"},{\"attributes\":{\"coordinates\":null,\"formatter\":{\"id\":\"1739\"},\"group\":null,\"major_label_overrides\":{\"0\":\"u00\",\"1\":\"u01\",\"10\":\"u12\",\"11\":\"u14\",\"12\":\"u15\",\"13\":\"u16\",\"14\":\"u17\",\"15\":\"u18\",\"16\":\"u19\",\"17\":\"u20\",\"18\":\"u22\",\"19\":\"u23\",\"2\":\"u02\",\"20\":\"u24\",\"21\":\"u25\",\"22\":\"u27\",\"23\":\"u30\",\"24\":\"u31\",\"25\":\"u32\",\"26\":\"u33\",\"27\":\"u34\",\"28\":\"u35\",\"29\":\"u36\",\"3\":\"u03\",\"30\":\"u39\",\"31\":\"u41\",\"32\":\"u42\",\"33\":\"u43\",\"34\":\"u44\",\"35\":\"u45\",\"36\":\"u46\",\"37\":\"u47\",\"38\":\"u49\",\"39\":\"u50\",\"4\":\"u04\",\"40\":\"u51\",\"41\":\"u52\",\"42\":\"u53\",\"43\":\"u54\",\"44\":\"u56\",\"45\":\"u57\",\"46\":\"u58\",\"47\":\"u59\",\"5\":\"u05\",\"6\":\"u07\",\"7\":\"u08\",\"8\":\"u09\",\"9\":\"u10\"},\"major_label_policy\":{\"id\":\"1740\"},\"ticker\":{\"id\":\"1068\"}},\"id\":\"1067\",\"type\":\"LinearAxis\"},{\"attributes\":{\"fill_alpha\":{\"value\":0.1},\"fill_color\":{\"value\":\"#482071\"},\"hatch_alpha\":{\"value\":0.1},\"hatch_color\":{\"value\":\"#482071\"},\"line_alpha\":{\"value\":0.1},\"line_color\":{\"value\":\"#482071\"},\"marker\":{\"value\":\"diamond\"},\"size\":{\"value\":10},\"x\":{\"field\":\"date_time\"},\"y\":{\"field\":\"y_index\"}},\"id\":\"1435\",\"type\":\"Scatter\"},{\"attributes\":{},\"id\":\"1068\",\"type\":\"BasicTicker\"},{\"attributes\":{\"label\":{\"value\":\"u04\"},\"renderers\":[{\"id\":\"1430\"}]},\"id\":\"1432\",\"type\":\"LegendItem\"},{\"attributes\":{\"source\":{\"id\":\"1007\"}},\"id\":\"1431\",\"type\":\"CDSView\"},{\"attributes\":{},\"id\":\"1839\",\"type\":\"UnionRenderers\"},{\"attributes\":{\"days\":[\"%m-%d %H:%M\"],\"hours\":[\"%H:%M:%S\"],\"milliseconds\":[\"%H:%M:%S.%3N\"],\"minutes\":[\"%H:%M:%S\"],\"seconds\":[\"%H:%M:%S\"]},\"id\":\"1101\",\"type\":\"DatetimeTickFormatter\"},{\"attributes\":{\"fill_alpha\":{\"value\":0.5},\"fill_color\":{\"value\":\"#482071\"},\"hatch_alpha\":{\"value\":0.5},\"hatch_color\":{\"value\":\"#482071\"},\"line_alpha\":{\"value\":0.5},\"line_color\":{\"value\":\"#482071\"},\"marker\":{\"value\":\"diamond\"},\"size\":{\"value\":10},\"x\":{\"field\":\"date_time\"},\"y\":{\"field\":\"y_index\"}},\"id\":\"1434\",\"type\":\"Scatter\"},{\"attributes\":{},\"id\":\"1840\",\"type\":\"Selection\"},{\"attributes\":{\"axis_label\":\"Event Time\",\"coordinates\":null,\"formatter\":{\"id\":\"1396\"},\"group\":null,\"major_label_policy\":{\"id\":\"1742\"},\"ticker\":{\"id\":\"1064\"}},\"id\":\"1063\",\"type\":\"DatetimeAxis\"},{\"attributes\":{\"label\":{\"value\":\"u23\"},\"renderers\":[{\"id\":\"1535\"}]},\"id\":\"1537\",\"type\":\"LegendItem\"},{\"attributes\":{\"fill_alpha\":{\"value\":0.2},\"fill_color\":{\"value\":\"#482071\"},\"hatch_alpha\":{\"value\":0.2},\"hatch_color\":{\"value\":\"#482071\"},\"line_alpha\":{\"value\":0.2},\"line_color\":{\"value\":\"#482071\"},\"marker\":{\"value\":\"diamond\"},\"size\":{\"value\":10},\"x\":{\"field\":\"date_time\"},\"y\":{\"field\":\"y_index\"}},\"id\":\"1436\",\"type\":\"Scatter\"},{\"attributes\":{},\"id\":\"1061\",\"type\":\"LinearScale\"},{\"attributes\":{\"fill_alpha\":{\"value\":0.2},\"fill_color\":{\"value\":\"#472B7A\"},\"hatch_alpha\":{\"value\":0.2},\"hatch_color\":{\"value\":\"#472B7A\"},\"line_alpha\":{\"value\":0.2},\"line_color\":{\"value\":\"#472B7A\"},\"marker\":{\"value\":\"diamond\"},\"size\":{\"value\":10},\"x\":{\"field\":\"date_time\"},\"y\":{\"field\":\"y_index\"}},\"id\":\"1450\",\"type\":\"Scatter\"},{\"attributes\":{\"coordinates\":null,\"data_source\":{\"id\":\"1008\"},\"glyph\":{\"id\":\"1434\"},\"group\":null,\"hover_glyph\":null,\"muted_glyph\":{\"id\":\"1436\"},\"nonselection_glyph\":{\"id\":\"1435\"},\"view\":{\"id\":\"1438\"}},\"id\":\"1437\",\"type\":\"GlyphRenderer\"},{\"attributes\":{\"fill_alpha\":{\"value\":0.5},\"fill_color\":{\"value\":\"#472676\"},\"hatch_alpha\":{\"value\":0.5},\"hatch_color\":{\"value\":\"#472676\"},\"line_alpha\":{\"value\":0.5},\"line_color\":{\"value\":\"#472676\"},\"marker\":{\"value\":\"diamond\"},\"size\":{\"value\":10},\"x\":{\"field\":\"date_time\"},\"y\":{\"field\":\"y_index\"}},\"id\":\"1441\",\"type\":\"Scatter\"},{\"attributes\":{\"data\":{\"date_time\":{\"__ndarray__\":\"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\",\"dtype\":\"float64\",\"order\":\"little\",\"shape\":[266]},\"index\":[1898,1900,1901,1902,1903,1904,1905,1906,1907,1908,1909,1910,1911,1912,1913,1914,1915,1916,1917,1918,1919,1920,1921,1922,1923,1924,1925,1926,1927,1928,1929,1930,1931,1932,1933,1934,1935,1936,1937,1938,1939,1940,1941,1942,1943,1945,1947,1948,1949,1950,1951,1952,1953,1954,1955,1956,1957,1958,1959,1960,1961,1962,1963,1964,1965,1966,1967,1968,1969,1970,1971,1972,1973,1974,1975,1976,1977,1978,1979,1980,1981,1982,1983,1984,1985,1986,1987,1988,1989,1990,1991,1992,1993,1994,1995,1996,1997,1998,1999,2000,2001,2002,2003,2004,2005,2006,2007,2008,2009,2010,2011,2012,2013,2014,2015,2016,2017,2018,2019,2020,2021,2022,2023,2024,2025,2026,2027,2028,2029,2030,2031,2032,2033,2034,2035,2036,2037,2038,2039,2040,2041,2042,2043,2044,2045,2046,2047,2048,2049,2050,2051,2052,2053,2054,2055,2056,2057,2058,2059,2060,2061,2062,2063,2064,2065,2066,2067,2068,2069,2070,2071,2072,2073,2074,2075,2076,2077,2078,2079,2080,2081,2082,2083,2084,2085,2086,2087,2088,2089,2090,2091,2092,2093,2094,2095,2096,2097,2098,2099,2100,2101,2102,2103,2104,2105,2106,2107,2108,2109,2110,2111,2112,2113,2114,2115,2116,2117,2118,2119,2120,2121,2122,2123,2124,2125,2126,2127,2128,2129,2130,2131,2132,2133,2134,2135,2136,2137,2138,2139,2140,2141,2142,2143,2144,2145,2146,2147,2148,2149,2150,2151,2152,2153,2154,2155,2156,2157,2158,2159,2160,2161,2162,2163,2164,2165,2166],\"y_index\":[47,47,47,47,47,47,47,47,47,47,47,47,47,47,47,47,47,47,47,47,47,47,47,47,47,47,47,47,47,47,47,47,47,47,47,47,47,47,47,47,47,47,47,47,47,47,47,47,47,47,47,47,47,47,47,47,47,47,47,47,47,47,47,47,47,47,47,47,47,47,47,47,47,47,47,47,47,47,47,47,47,47,47,47,47,47,47,47,47,47,47,47,47,47,47,47,47,47,47,47,47,47,47,47,47,47,47,47,47,47,47,47,47,47,47,47,47,47,47,47,47,47,47,47,47,47,47,47,47,47,47,47,47,47,47,47,47,47,47,47,47,47,47,47,47,47,47,47,47,47,47,47,47,47,47,47,47,47,47,47,47,47,47,47,47,47,47,47,47,47,47,47,47,47,47,47,47,47,47,47,47,47,47,47,47,47,47,47,47,47,47,47,47,47,47,47,47,47,47,47,47,47,47,47,47,47,47,47,47,47,47,47,47,47,47,47,47,47,47,47,47,47,47,47,47,47,47,47,47,47,47,47,47,47,47,47,47,47,47,47,47,47,47,47,47,47,47,47,47,47,47,47,47,47,47,47,47,47,47,47,47,47,47,47,47,47]},\"selected\":{\"id\":\"1840\"},\"selection_policy\":{\"id\":\"1839\"}},\"id\":\"1050\",\"type\":\"ColumnDataSource\"},{\"attributes\":{\"label\":{\"value\":\"u05\"},\"renderers\":[{\"id\":\"1437\"}]},\"id\":\"1439\",\"type\":\"LegendItem\"},{\"attributes\":{\"source\":{\"id\":\"1008\"}},\"id\":\"1438\",\"type\":\"CDSView\"},{\"attributes\":{\"align\":\"right\",\"coordinates\":null,\"group\":null,\"text\":\"Drag the middle or edges of the selection box to change the range in the main chart\",\"text_font_size\":\"10px\"},\"id\":\"1100\",\"type\":\"Title\"},{\"attributes\":{\"fill_alpha\":{\"value\":0.1},\"fill_color\":{\"value\":\"#472676\"},\"hatch_alpha\":{\"value\":0.1},\"hatch_color\":{\"value\":\"#472676\"},\"line_alpha\":{\"value\":0.1},\"line_color\":{\"value\":\"#472676\"},\"marker\":{\"value\":\"diamond\"},\"size\":{\"value\":10},\"x\":{\"field\":\"date_time\"},\"y\":{\"field\":\"y_index\"}},\"id\":\"1442\",\"type\":\"Scatter\"},{\"attributes\":{},\"id\":\"1089\",\"type\":\"DataRange1d\"},{\"attributes\":{\"data\":{\"date_time\":{\"__ndarray__\":\"AAC2lIrac0IAAN6qHttzQgAAzt9i23NCAADoS3Pbc0IAAJqKvttzQgAA/nYE3HNCAACmsx/cc0IAAIrTz9xzQgAAaBYn3XNCAABI6HTdc0IAACwrt91zQgAA2mDT3XNCAADO8U3ec0IAALQIut5zQgAAehQG33NCAAC+QUnfc0IAAOpFVd9zQgAAQASq33NCAACcpkHgc0IAAFQxleBzQgAAiKHw4HNCAAAYVPngc0IAAO5oSuFzQgAA6D7j4XNCAADg7Uric0IAAKoqYORzQgAAurbh5HNCAAAsKwrlc0IAAHibEeVzQgAAnGot5XNCAACMRYDlc0IAAMj2vedzQg==\",\"dtype\":\"float64\",\"order\":\"little\",\"shape\":[32]},\"index\":[74,75,76,77,78,79,80,81,82,83,84,85,86,87,88,89,90,91,92,93,94,95,96,97,98,99,100,101,102,103,104,105],\"y_index\":[1,1,1,1,1,1,1,1,1,1,1,1,1,1,1,1,1,1,1,1,1,1,1,1,1,1,1,1,1,1,1,1]},\"selected\":{\"id\":\"1748\"},\"selection_policy\":{\"id\":\"1747\"}},\"id\":\"1004\",\"type\":\"ColumnDataSource\"},{\"attributes\":{\"coordinates\":null,\"formatter\":{\"id\":\"1101\"},\"group\":null,\"major_label_policy\":{\"id\":\"1744\"},\"ticker\":{\"id\":\"1096\"}},\"id\":\"1095\",\"type\":\"DatetimeAxis\"},{\"attributes\":{\"fill_alpha\":{\"value\":0.2},\"fill_color\":{\"value\":\"#472676\"},\"hatch_alpha\":{\"value\":0.2},\"hatch_color\":{\"value\":\"#472676\"},\"line_alpha\":{\"value\":0.2},\"line_color\":{\"value\":\"#472676\"},\"marker\":{\"value\":\"diamond\"},\"size\":{\"value\":10},\"x\":{\"field\":\"date_time\"},\"y\":{\"field\":\"y_index\"}},\"id\":\"1443\",\"type\":\"Scatter\"},{\"attributes\":{\"fill_alpha\":{\"value\":0.1},\"fill_color\":{\"value\":\"#472B7A\"},\"hatch_alpha\":{\"value\":0.1},\"hatch_color\":{\"value\":\"#472B7A\"},\"line_alpha\":{\"value\":0.1},\"line_color\":{\"value\":\"#472B7A\"},\"marker\":{\"value\":\"diamond\"},\"size\":{\"value\":10},\"x\":{\"field\":\"date_time\"},\"y\":{\"field\":\"y_index\"}},\"id\":\"1449\",\"type\":\"Scatter\"},{\"attributes\":{\"coordinates\":null,\"data_source\":{\"id\":\"1009\"},\"glyph\":{\"id\":\"1441\"},\"group\":null,\"hover_glyph\":null,\"muted_glyph\":{\"id\":\"1443\"},\"nonselection_glyph\":{\"id\":\"1442\"},\"view\":{\"id\":\"1445\"}},\"id\":\"1444\",\"type\":\"GlyphRenderer\"},{\"attributes\":{\"fill_alpha\":{\"value\":0.5},\"fill_color\":{\"value\":\"#472B7A\"},\"hatch_alpha\":{\"value\":0.5},\"hatch_color\":{\"value\":\"#472B7A\"},\"line_alpha\":{\"value\":0.5},\"line_color\":{\"value\":\"#472B7A\"},\"marker\":{\"value\":\"diamond\"},\"size\":{\"value\":10},\"x\":{\"field\":\"date_time\"},\"y\":{\"field\":\"y_index\"}},\"id\":\"1448\",\"type\":\"Scatter\"},{\"attributes\":{\"label\":{\"value\":\"u07\"},\"renderers\":[{\"id\":\"1444\"}]},\"id\":\"1446\",\"type\":\"LegendItem\"},{\"attributes\":{\"source\":{\"id\":\"1009\"}},\"id\":\"1445\",\"type\":\"CDSView\"},{\"attributes\":{\"end\":1371264672000.0,\"start\":1363571328000.0},\"id\":\"1055\",\"type\":\"Range1d\"},{\"attributes\":{\"coordinates\":null,\"group\":null,\"text\":\"Timeline: Events\"},\"id\":\"1053\",\"type\":\"Title\"},{\"attributes\":{\"source\":{\"id\":\"1011\"}},\"id\":\"1459\",\"type\":\"CDSView\"},{\"attributes\":{\"fill_alpha\":{\"value\":0.5},\"fill_color\":{\"value\":\"#453681\"},\"hatch_alpha\":{\"value\":0.5},\"hatch_color\":{\"value\":\"#453681\"},\"line_alpha\":{\"value\":0.5},\"line_color\":{\"value\":\"#453681\"},\"marker\":{\"value\":\"diamond\"},\"size\":{\"value\":10},\"x\":{\"field\":\"date_time\"},\"y\":{\"field\":\"y_index\"}},\"id\":\"1462\",\"type\":\"Scatter\"},{\"attributes\":{\"coordinates\":null,\"data_source\":{\"id\":\"1012\"},\"glyph\":{\"id\":\"1462\"},\"group\":null,\"hover_glyph\":null,\"muted_glyph\":{\"id\":\"1464\"},\"nonselection_glyph\":{\"id\":\"1463\"},\"view\":{\"id\":\"1466\"}},\"id\":\"1465\",\"type\":\"GlyphRenderer\"},{\"attributes\":{\"coordinates\":null,\"group\":null,\"text\":\"Range Selector\"},\"id\":\"1085\",\"type\":\"Title\"},{\"attributes\":{\"label\":{\"value\":\"u10\"},\"renderers\":[{\"id\":\"1465\"}]},\"id\":\"1467\",\"type\":\"LegendItem\"},{\"attributes\":{\"coordinates\":null,\"data_source\":{\"id\":\"1022\"},\"glyph\":{\"id\":\"1532\"},\"group\":null,\"hover_glyph\":null,\"muted_glyph\":{\"id\":\"1534\"},\"nonselection_glyph\":{\"id\":\"1533\"},\"view\":{\"id\":\"1536\"}},\"id\":\"1535\",\"type\":\"GlyphRenderer\"},{\"attributes\":{},\"id\":\"1093\",\"type\":\"LinearScale\"},{\"attributes\":{\"source\":{\"id\":\"1012\"}},\"id\":\"1466\",\"type\":\"CDSView\"},{\"attributes\":{\"fill_alpha\":{\"value\":0.2},\"fill_color\":{\"value\":\"#453681\"},\"hatch_alpha\":{\"value\":0.2},\"hatch_color\":{\"value\":\"#453681\"},\"line_alpha\":{\"value\":0.2},\"line_color\":{\"value\":\"#453681\"},\"marker\":{\"value\":\"diamond\"},\"size\":{\"value\":10},\"x\":{\"field\":\"date_time\"},\"y\":{\"field\":\"y_index\"}},\"id\":\"1464\",\"type\":\"Scatter\"},{\"attributes\":{\"end\":1371585228000.0,\"start\":1363250772000.0},\"id\":\"1087\",\"type\":\"Range1d\"},{\"attributes\":{\"fill_alpha\":{\"value\":0.5},\"fill_color\":{\"value\":\"#433C84\"},\"hatch_alpha\":{\"value\":0.5},\"hatch_color\":{\"value\":\"#433C84\"},\"line_alpha\":{\"value\":0.5},\"line_color\":{\"value\":\"#433C84\"},\"marker\":{\"value\":\"diamond\"},\"size\":{\"value\":10},\"x\":{\"field\":\"date_time\"},\"y\":{\"field\":\"y_index\"}},\"id\":\"1469\",\"type\":\"Scatter\"},{\"attributes\":{\"callback\":null,\"formatters\":{\"@date_time\":\"datetime\"},\"tooltips\":[[\"date_time\",\"@date_time{%F %T.%3N}\"]]},\"id\":\"1051\",\"type\":\"HoverTool\"},{\"attributes\":{\"coordinates\":null,\"data_source\":{\"id\":\"1025\"},\"glyph\":{\"id\":\"1553\"},\"group\":null,\"hover_glyph\":null,\"muted_glyph\":{\"id\":\"1555\"},\"nonselection_glyph\":{\"id\":\"1554\"},\"view\":{\"id\":\"1557\"}},\"id\":\"1556\",\"type\":\"GlyphRenderer\"},{\"attributes\":{\"fill_alpha\":{\"value\":0.1},\"fill_color\":{\"value\":\"#433C84\"},\"hatch_alpha\":{\"value\":0.1},\"hatch_color\":{\"value\":\"#433C84\"},\"line_alpha\":{\"value\":0.1},\"line_color\":{\"value\":\"#433C84\"},\"marker\":{\"value\":\"diamond\"},\"size\":{\"value\":10},\"x\":{\"field\":\"date_time\"},\"y\":{\"field\":\"y_index\"}},\"id\":\"1470\",\"type\":\"Scatter\"},{\"attributes\":{\"fill_alpha\":{\"value\":0.2},\"fill_color\":{\"value\":\"#2A768E\"},\"hatch_alpha\":{\"value\":0.2},\"hatch_color\":{\"value\":\"#2A768E\"},\"line_alpha\":{\"value\":0.2},\"line_color\":{\"value\":\"#2A768E\"},\"marker\":{\"value\":\"diamond\"},\"size\":{\"value\":10},\"x\":{\"field\":\"date_time\"},\"y\":{\"field\":\"y_index\"}},\"id\":\"1555\",\"type\":\"Scatter\"},{\"attributes\":{\"fill_alpha\":{\"value\":0.2},\"fill_color\":{\"value\":\"#433C84\"},\"hatch_alpha\":{\"value\":0.2},\"hatch_color\":{\"value\":\"#433C84\"},\"line_alpha\":{\"value\":0.2},\"line_color\":{\"value\":\"#433C84\"},\"marker\":{\"value\":\"diamond\"},\"size\":{\"value\":10},\"x\":{\"field\":\"date_time\"},\"y\":{\"field\":\"y_index\"}},\"id\":\"1471\",\"type\":\"Scatter\"},{\"attributes\":{\"fill_alpha\":{\"value\":0.5},\"fill_color\":{\"value\":\"#27AD80\"},\"hatch_alpha\":{\"value\":0.5},\"hatch_color\":{\"value\":\"#27AD80\"},\"line_alpha\":{\"value\":0.5},\"line_color\":{\"value\":\"#27AD80\"},\"marker\":{\"value\":\"diamond\"},\"size\":{\"value\":10},\"x\":{\"field\":\"date_time\"},\"y\":{\"field\":\"y_index\"}},\"id\":\"1644\",\"type\":\"Scatter\"},{\"attributes\":{\"coordinates\":null,\"data_source\":{\"id\":\"1013\"},\"glyph\":{\"id\":\"1469\"},\"group\":null,\"hover_glyph\":null,\"muted_glyph\":{\"id\":\"1471\"},\"nonselection_glyph\":{\"id\":\"1470\"},\"view\":{\"id\":\"1473\"}},\"id\":\"1472\",\"type\":\"GlyphRenderer\"},{\"attributes\":{\"fill_alpha\":{\"value\":0.1},\"fill_color\":{\"value\":\"#414286\"},\"hatch_alpha\":{\"value\":0.1},\"hatch_color\":{\"value\":\"#414286\"},\"line_alpha\":{\"value\":0.1},\"line_color\":{\"value\":\"#414286\"},\"marker\":{\"value\":\"diamond\"},\"size\":{\"value\":10},\"x\":{\"field\":\"date_time\"},\"y\":{\"field\":\"y_index\"}},\"id\":\"1477\",\"type\":\"Scatter\"},{\"attributes\":{\"label\":{\"value\":\"u12\"},\"renderers\":[{\"id\":\"1472\"}]},\"id\":\"1474\",\"type\":\"LegendItem\"},{\"attributes\":{\"source\":{\"id\":\"1013\"}},\"id\":\"1473\",\"type\":\"CDSView\"},{\"attributes\":{\"fill_alpha\":{\"value\":0.5},\"fill_color\":{\"value\":\"#414286\"},\"hatch_alpha\":{\"value\":0.5},\"hatch_color\":{\"value\":\"#414286\"},\"line_alpha\":{\"value\":0.5},\"line_color\":{\"value\":\"#414286\"},\"marker\":{\"value\":\"diamond\"},\"size\":{\"value\":10},\"x\":{\"field\":\"date_time\"},\"y\":{\"field\":\"y_index\"}},\"id\":\"1476\",\"type\":\"Scatter\"},{\"attributes\":{\"fill_alpha\":{\"value\":0.2},\"fill_color\":{\"value\":\"#414286\"},\"hatch_alpha\":{\"value\":0.2},\"hatch_color\":{\"value\":\"#414286\"},\"line_alpha\":{\"value\":0.2},\"line_color\":{\"value\":\"#414286\"},\"marker\":{\"value\":\"diamond\"},\"size\":{\"value\":10},\"x\":{\"field\":\"date_time\"},\"y\":{\"field\":\"y_index\"}},\"id\":\"1478\",\"type\":\"Scatter\"},{\"attributes\":{\"source\":{\"id\":\"1037\"}},\"id\":\"1641\",\"type\":\"CDSView\"},{\"attributes\":{\"coordinates\":null,\"data_source\":{\"id\":\"1014\"},\"glyph\":{\"id\":\"1476\"},\"group\":null,\"hover_glyph\":null,\"muted_glyph\":{\"id\":\"1478\"},\"nonselection_glyph\":{\"id\":\"1477\"},\"view\":{\"id\":\"1480\"}},\"id\":\"1479\",\"type\":\"GlyphRenderer\"},{\"attributes\":{},\"id\":\"1779\",\"type\":\"UnionRenderers\"},{\"attributes\":{\"fill_alpha\":{\"value\":0.1},\"fill_color\":{\"value\":\"#3F4788\"},\"hatch_alpha\":{\"value\":0.1},\"hatch_color\":{\"value\":\"#3F4788\"},\"line_alpha\":{\"value\":0.1},\"line_color\":{\"value\":\"#3F4788\"},\"marker\":{\"value\":\"diamond\"},\"size\":{\"value\":10},\"x\":{\"field\":\"date_time\"},\"y\":{\"field\":\"y_index\"}},\"id\":\"1484\",\"type\":\"Scatter\"},{\"attributes\":{\"data\":{\"date_time\":{\"__ndarray__\":\"AABOuszac0IAAIK7eNtzQgAAgrt423NCAACCu3jbc0IAAPDMgNtzQgAAvg2923NCAAC4Z8Pbc0IAAMLKzttzQgAAEv/R23NCAACCkfzbc0IAAMrqANxzQgAAzqcS3HNCAAASkCLcc0IAAFJhL9xzQgAAVJY03HNCAADoBU/cc0IAAPhacdxzQgAACKmp3HNCAADOHLvcc0IAAFpez9xzQgAA6r3Q3HNCAABsNBTdc0IAAM75KN1zQgAAcJBK3XNCAACkHE7dc0IAAMp6YN1zQgAABABl3XNCAACAi3vdc0IAANrImN1zQgAAIhuz3XNCAAA4Hbndc0IAADr4zN1zQgAAFsHr3XNCAABSdAvec0IAAKZlIN5zQgAAou1B3nNCAAC+4V7ec0IAAL40Zt5zQgAA3BFr3nNCAADcsI/ec0IAAIwbsd5zQgAA4Ga33nNCAABo67nec0IAAATc4d5zQgAAlI7q3nNCAACyvvbec0IAABoqBd9zQgAAXldI33NCAADWy1vfc0IAAIbqX99zQgAA1nFq33NCAAAiLo/fc0IAAER1nt9zQgAADMut33NCAABUvOzfc0IAABZXROBzQgAAghef4HNCAAAWJt7gc0IAADx9BuFzQgAASAdD4XNCAADc0E7hc0IAAJxEdeFzQgAAwpud4XNCAADEb8fhc0IAAI6EQuJzQgAAhMdF4nNCAAB69Yric0IAAAqav+JzQgAA+i/f4nNCAAAm4ePic0IAANKO8+JzQgAA2NMR43NCAACELhrjc0IAAEr1MuNzQgAAFNo443NCAAB2TEbjc0IAACp7Y+NzQgAAyK5k43NCAADgkmjjc0IAAGAumONzQgAA8Nm243NCAAB6jNTjc0IAAHoy4+NzQgAANK0I5HNCAABkdRDkc0IAAALnWuRzQgAABBxg5HNCAADOTIPkc0IAAK62C+VzQgAA4Fkn5XNCAAD+e1/lc0IAANi8ceVzQgAArpN55XNCAADilCXmc0IAAM5YdeZzQgAAyDvx53NCAAD01zfoc0IAAJbBYOhzQgAAUFZM6nNCAAAQw4jqc0IAALbRiOpzQgAATi4q63NCAADCdnzrc0IAAPx9DO1zQg==\",\"dtype\":\"float64\",\"order\":\"little\",\"shape\":[104]},\"index\":[362,363,364,365,367,368,369,370,371,372,373,374,375,376,377,378,379,380,381,382,384,385,386,387,388,389,390,391,392,393,394,395,396,397,398,399,400,401,402,403,404,405,406,407,408,409,410,411,412,413,414,415,416,417,418,419,420,421,422,423,424,425,426,427,428,429,430,431,432,433,434,435,436,437,438,439,440,441,442,443,444,445,446,447,448,449,450,451,452,453,454,455,456,457,458,459,460,461,462,463,464,465,466,467],\"y_index\":[9,9,9,9,9,9,9,9,9,9,9,9,9,9,9,9,9,9,9,9,9,9,9,9,9,9,9,9,9,9,9,9,9,9,9,9,9,9,9,9,9,9,9,9,9,9,9,9,9,9,9,9,9,9,9,9,9,9,9,9,9,9,9,9,9,9,9,9,9,9,9,9,9,9,9,9,9,9,9,9,9,9,9,9,9,9,9,9,9,9,9,9,9,9,9,9,9,9,9,9,9,9,9,9]},\"selected\":{\"id\":\"1764\"},\"selection_policy\":{\"id\":\"1763\"}},\"id\":\"1012\",\"type\":\"ColumnDataSource\"},{\"attributes\":{\"label\":{\"value\":\"u14\"},\"renderers\":[{\"id\":\"1479\"}]},\"id\":\"1481\",\"type\":\"LegendItem\"},{\"attributes\":{},\"id\":\"1780\",\"type\":\"Selection\"},{\"attributes\":{\"source\":{\"id\":\"1014\"}},\"id\":\"1480\",\"type\":\"CDSView\"},{\"attributes\":{},\"id\":\"1747\",\"type\":\"UnionRenderers\"},{\"attributes\":{\"fill_alpha\":{\"value\":0.5},\"fill_color\":{\"value\":\"#3F4788\"},\"hatch_alpha\":{\"value\":0.5},\"hatch_color\":{\"value\":\"#3F4788\"},\"line_alpha\":{\"value\":0.5},\"line_color\":{\"value\":\"#3F4788\"},\"marker\":{\"value\":\"diamond\"},\"size\":{\"value\":10},\"x\":{\"field\":\"date_time\"},\"y\":{\"field\":\"y_index\"}},\"id\":\"1483\",\"type\":\"Scatter\"},{\"attributes\":{},\"id\":\"1748\",\"type\":\"Selection\"},{\"attributes\":{\"source\":{\"id\":\"1024\"}},\"id\":\"1550\",\"type\":\"CDSView\"},{\"attributes\":{\"fill_alpha\":{\"value\":0.2},\"fill_color\":{\"value\":\"#3F4788\"},\"hatch_alpha\":{\"value\":0.2},\"hatch_color\":{\"value\":\"#3F4788\"},\"line_alpha\":{\"value\":0.2},\"line_color\":{\"value\":\"#3F4788\"},\"marker\":{\"value\":\"diamond\"},\"size\":{\"value\":10},\"x\":{\"field\":\"date_time\"},\"y\":{\"field\":\"y_index\"}},\"id\":\"1485\",\"type\":\"Scatter\"},{\"attributes\":{\"data\":{\"date_time\":{\"__ndarray__\":\"AACYMxjbc0IAAFiZattzQgAADkLA23NCAAB0K7vcc0IAAPBHIt1zQgAAFphg3XNCAABoP7Ldc0IAANgp7N9zQgAAlj6R4HNCAABIfdzgc0IAAIj09+BzQgAAlHdK4XNC\",\"dtype\":\"float64\",\"order\":\"little\",\"shape\":[12]},\"index\":[1024,1025,1026,1027,1028,1029,1030,1031,1032,1033,1034,1035],\"y_index\":[24,24,24,24,24,24,24,24,24,24,24,24]},\"selected\":{\"id\":\"1794\"},\"selection_policy\":{\"id\":\"1793\"}},\"id\":\"1027\",\"type\":\"ColumnDataSource\"},{\"attributes\":{\"data\":{\"date_time\":{\"__ndarray__\":\"AAB0JrPac0IAAKLUbNtzQgAAOqC923NCAADwCdncc0IAAEZZft1zQgAAZmSe3XNCAADkMZ3ec0IAAIZ1t95zQgAAhH773nNCAAB+693gc0IAABYl7eFzQgAAEkVJ4nNCAAAMfL3ic0IAAHjTYeRzQgAAPk1s5XNCAAAIhXnlc0I=\",\"dtype\":\"float64\",\"order\":\"little\",\"shape\":[16]},\"index\":[694,695,696,697,698,699,700,701,702,703,704,705,706,707,708,709],\"y_index\":[15,15,15,15,15,15,15,15,15,15,15,15,15,15,15,15]},\"selected\":{\"id\":\"1776\"},\"selection_policy\":{\"id\":\"1775\"}},\"id\":\"1018\",\"type\":\"ColumnDataSource\"},{\"attributes\":{\"fill_alpha\":{\"value\":0.5},\"fill_color\":{\"value\":\"#2A768E\"},\"hatch_alpha\":{\"value\":0.5},\"hatch_color\":{\"value\":\"#2A768E\"},\"line_alpha\":{\"value\":0.5},\"line_color\":{\"value\":\"#2A768E\"},\"marker\":{\"value\":\"diamond\"},\"size\":{\"value\":10},\"x\":{\"field\":\"date_time\"},\"y\":{\"field\":\"y_index\"}},\"id\":\"1553\",\"type\":\"Scatter\"},{\"attributes\":{\"coordinates\":null,\"data_source\":{\"id\":\"1015\"},\"glyph\":{\"id\":\"1483\"},\"group\":null,\"hover_glyph\":null,\"muted_glyph\":{\"id\":\"1485\"},\"nonselection_glyph\":{\"id\":\"1484\"},\"view\":{\"id\":\"1487\"}},\"id\":\"1486\",\"type\":\"GlyphRenderer\"},{\"attributes\":{\"fill_alpha\":{\"value\":0.1},\"fill_color\":{\"value\":\"#3D4C89\"},\"hatch_alpha\":{\"value\":0.1},\"hatch_color\":{\"value\":\"#3D4C89\"},\"line_alpha\":{\"value\":0.1},\"line_color\":{\"value\":\"#3D4C89\"},\"marker\":{\"value\":\"diamond\"},\"size\":{\"value\":10},\"x\":{\"field\":\"date_time\"},\"y\":{\"field\":\"y_index\"}},\"id\":\"1491\",\"type\":\"Scatter\"},{\"attributes\":{\"data\":{\"date_time\":{\"__ndarray__\":\"AAA4TxDcc0IAANRow9xzQgAAQs3S3HNCAAD672Ddc0IAAAKs5OBzQgAA/ntf5XNC\",\"dtype\":\"float64\",\"order\":\"little\",\"shape\":[6]},\"index\":[1160,1161,1162,1163,1164,1165],\"y_index\":[27,27,27,27,27,27]},\"selected\":{\"id\":\"1800\"},\"selection_policy\":{\"id\":\"1799\"}},\"id\":\"1030\",\"type\":\"ColumnDataSource\"},{\"attributes\":{\"data\":{\"date_time\":{\"__ndarray__\":\"AACCCIfac0IAAIinltpzQgAAFiWa2nNCAAD8qrXac0IAAFIrwdpzQgAARozG2nNCAABqCNvac0IAAEAy6tpzQgAAkLIK23NCAABOSx3bc0IAAH7AHdtzQgAAgtcg23NCAAAwFCfbc0IAACZXKttzQgAAilgu23NCAAAynDPbc0IAAA64WdtzQgAA1Nhj23NCAACOB2zbc0IAADjTfdtzQgAA3tqT23NCAABCIcvbc0IAAHBa3NtzQgAAuujl23NCAABEou3bc0IAAO4TDtxzQgAAREES3HNCAABa6Sbcc0IAALQtLtxzQgAAPNTR3HNCAAAAE97cc0IAAIau+NxzQgAAiNwT3XNCAABcHTvdc0IAACyTfN1zQgAARG+l3nNCAAAQ927fc0IAANwJkN9zQgAA4CCT33NCAABABKrfc0IAAPrK7N9zQgAAguA/4HNCAABIfdzgc0IAAIj09+BzQgAABBhJ4XNCAABkqFjhc0IAAHT2kOFzQgAAAN6z4XNCAACuQ0Xic0IAAEhfUuNzQgAA8O5043NC\",\"dtype\":\"float64\",\"order\":\"little\",\"shape\":[51]},\"index\":[216,217,218,219,220,221,222,223,224,225,227,228,229,230,231,232,233,234,235,236,237,238,240,241,242,243,244,245,246,247,248,249,250,251,252,253,254,255,256,257,258,259,260,261,262,263,264,265,266,267,268],\"y_index\":[6,6,6,6,6,6,6,6,6,6,6,6,6,6,6,6,6,6,6,6,6,6,6,6,6,6,6,6,6,6,6,6,6,6,6,6,6,6,6,6,6,6,6,6,6,6,6,6,6,6,6]},\"selected\":{\"id\":\"1758\"},\"selection_policy\":{\"id\":\"1757\"}},\"id\":\"1009\",\"type\":\"ColumnDataSource\"},{\"attributes\":{\"label\":{\"value\":\"u15\"},\"renderers\":[{\"id\":\"1486\"}]},\"id\":\"1488\",\"type\":\"LegendItem\"},{\"attributes\":{\"source\":{\"id\":\"1015\"}},\"id\":\"1487\",\"type\":\"CDSView\"},{\"attributes\":{\"data\":{\"date_time\":{\"__ndarray__\":\"AABaWcfac0IAAJgzGNtzQgAAWJlq23NC\",\"dtype\":\"float64\",\"order\":\"little\",\"shape\":[3]},\"index\":[359,360,361],\"y_index\":[8,8,8]},\"selected\":{\"id\":\"1762\"},\"selection_policy\":{\"id\":\"1761\"}},\"id\":\"1011\",\"type\":\"ColumnDataSource\"},{\"attributes\":{\"fill_alpha\":{\"value\":0.5},\"fill_color\":{\"value\":\"#3D4C89\"},\"hatch_alpha\":{\"value\":0.5},\"hatch_color\":{\"value\":\"#3D4C89\"},\"line_alpha\":{\"value\":0.5},\"line_color\":{\"value\":\"#3D4C89\"},\"marker\":{\"value\":\"diamond\"},\"size\":{\"value\":10},\"x\":{\"field\":\"date_time\"},\"y\":{\"field\":\"y_index\"}},\"id\":\"1490\",\"type\":\"Scatter\"},{\"attributes\":{\"label\":{\"value\":\"u25\"},\"renderers\":[{\"id\":\"1549\"}]},\"id\":\"1551\",\"type\":\"LegendItem\"},{\"attributes\":{\"fill_alpha\":{\"value\":0.2},\"fill_color\":{\"value\":\"#3D4C89\"},\"hatch_alpha\":{\"value\":0.2},\"hatch_color\":{\"value\":\"#3D4C89\"},\"line_alpha\":{\"value\":0.2},\"line_color\":{\"value\":\"#3D4C89\"},\"marker\":{\"value\":\"diamond\"},\"size\":{\"value\":10},\"x\":{\"field\":\"date_time\"},\"y\":{\"field\":\"y_index\"}},\"id\":\"1492\",\"type\":\"Scatter\"},{\"attributes\":{\"coordinates\":null,\"data_source\":{\"id\":\"1016\"},\"glyph\":{\"id\":\"1490\"},\"group\":null,\"hover_glyph\":null,\"muted_glyph\":{\"id\":\"1492\"},\"nonselection_glyph\":{\"id\":\"1491\"},\"view\":{\"id\":\"1494\"}},\"id\":\"1493\",\"type\":\"GlyphRenderer\"},{\"attributes\":{\"tools\":[{\"id\":\"1051\"},{\"id\":\"1071\"},{\"id\":\"1072\"},{\"id\":\"1073\"},{\"id\":\"1074\"},{\"id\":\"1075\"}]},\"id\":\"1077\",\"type\":\"Toolbar\"},{\"attributes\":{\"fill_alpha\":{\"value\":0.1},\"fill_color\":{\"value\":\"#3B518A\"},\"hatch_alpha\":{\"value\":0.1},\"hatch_color\":{\"value\":\"#3B518A\"},\"line_alpha\":{\"value\":0.1},\"line_color\":{\"value\":\"#3B518A\"},\"marker\":{\"value\":\"diamond\"},\"size\":{\"value\":10},\"x\":{\"field\":\"date_time\"},\"y\":{\"field\":\"y_index\"}},\"id\":\"1498\",\"type\":\"Scatter\"},{\"attributes\":{},\"id\":\"1781\",\"type\":\"UnionRenderers\"},{\"attributes\":{\"label\":{\"value\":\"u16\"},\"renderers\":[{\"id\":\"1493\"}]},\"id\":\"1495\",\"type\":\"LegendItem\"},{\"attributes\":{},\"id\":\"1782\",\"type\":\"Selection\"},{\"attributes\":{\"source\":{\"id\":\"1016\"}},\"id\":\"1494\",\"type\":\"CDSView\"},{\"attributes\":{\"fill_alpha\":{\"value\":0.5},\"fill_color\":{\"value\":\"#3B518A\"},\"hatch_alpha\":{\"value\":0.5},\"hatch_color\":{\"value\":\"#3B518A\"},\"line_alpha\":{\"value\":0.5},\"line_color\":{\"value\":\"#3B518A\"},\"marker\":{\"value\":\"diamond\"},\"size\":{\"value\":10},\"x\":{\"field\":\"date_time\"},\"y\":{\"field\":\"y_index\"}},\"id\":\"1497\",\"type\":\"Scatter\"},{\"attributes\":{},\"id\":\"1749\",\"type\":\"UnionRenderers\"},{\"attributes\":{\"coordinates\":null,\"data_source\":{\"id\":\"1024\"},\"glyph\":{\"id\":\"1546\"},\"group\":null,\"hover_glyph\":null,\"muted_glyph\":{\"id\":\"1548\"},\"nonselection_glyph\":{\"id\":\"1547\"},\"view\":{\"id\":\"1550\"}},\"id\":\"1549\",\"type\":\"GlyphRenderer\"},{\"attributes\":{},\"id\":\"1750\",\"type\":\"Selection\"},{\"attributes\":{\"fill_alpha\":{\"value\":0.2},\"fill_color\":{\"value\":\"#3B518A\"},\"hatch_alpha\":{\"value\":0.2},\"hatch_color\":{\"value\":\"#3B518A\"},\"line_alpha\":{\"value\":0.2},\"line_color\":{\"value\":\"#3B518A\"},\"marker\":{\"value\":\"diamond\"},\"size\":{\"value\":10},\"x\":{\"field\":\"date_time\"},\"y\":{\"field\":\"y_index\"}},\"id\":\"1499\",\"type\":\"Scatter\"},{\"attributes\":{\"fill_alpha\":{\"value\":0.1},\"fill_color\":{\"value\":\"#2A768E\"},\"hatch_alpha\":{\"value\":0.1},\"hatch_color\":{\"value\":\"#2A768E\"},\"line_alpha\":{\"value\":0.1},\"line_color\":{\"value\":\"#2A768E\"},\"marker\":{\"value\":\"diamond\"},\"size\":{\"value\":10},\"x\":{\"field\":\"date_time\"},\"y\":{\"field\":\"y_index\"}},\"id\":\"1554\",\"type\":\"Scatter\"},{\"attributes\":{\"coordinates\":null,\"data_source\":{\"id\":\"1017\"},\"glyph\":{\"id\":\"1497\"},\"group\":null,\"hover_glyph\":null,\"muted_glyph\":{\"id\":\"1499\"},\"nonselection_glyph\":{\"id\":\"1498\"},\"view\":{\"id\":\"1501\"}},\"id\":\"1500\",\"type\":\"GlyphRenderer\"},{\"attributes\":{\"fill_alpha\":{\"value\":0.1},\"fill_color\":{\"value\":\"#38568B\"},\"hatch_alpha\":{\"value\":0.1},\"hatch_color\":{\"value\":\"#38568B\"},\"line_alpha\":{\"value\":0.1},\"line_color\":{\"value\":\"#38568B\"},\"marker\":{\"value\":\"diamond\"},\"size\":{\"value\":10},\"x\":{\"field\":\"date_time\"},\"y\":{\"field\":\"y_index\"}},\"id\":\"1505\",\"type\":\"Scatter\"},{\"attributes\":{\"label\":{\"value\":\"u17\"},\"renderers\":[{\"id\":\"1500\"}]},\"id\":\"1502\",\"type\":\"LegendItem\"},{\"attributes\":{\"data\":{\"date_time\":{\"__ndarray__\":\"AAAeWorac0IAAFpZx9pzQgAAvMvU2nNCAAB8I1Pbc0IAANorVttzQgAA5hZu23NCAADK/77bc0IAAIb7BtxzQgAAYJYK3HNCAABq+RXcc0IAAJaOctxzQgAAulak3HNCAAAuB7zcc0IAAO4g8dxzQgAAJCBD3XNCAAB2x5Tdc0IAAOz/uN1zQgAAbOcF3nNCAABuYT7ec0IAAKoUXt5zQgAARund3nNCAADkip3fc0IAAJ6/nuBzQgAA8vXm4HNCAAAuA/jgc0IAAGb5BeFzQgAASABZ4XNCAADcB67hc0IAAHhK7OJzQgAA8Bjx4nNCAACG0d3jc0IAAKbHP+RzQgAAvvdg5HNCAAAE5A/lc0IAAJ7rT+VzQgAAtJNk5XNCAADK6HHlc0IAALbBf+VzQgAAOnm653NCAACebOrnc0IAAIJjD+hzQgAApspl6HNC\",\"dtype\":\"float64\",\"order\":\"little\",\"shape\":[42]},\"index\":[165,166,167,168,169,170,171,172,173,174,175,176,177,178,179,180,181,182,183,184,185,186,187,188,189,190,191,192,193,195,196,197,198,199,200,201,202,203,204,205,206,207],\"y_index\":[4,4,4,4,4,4,4,4,4,4,4,4,4,4,4,4,4,4,4,4,4,4,4,4,4,4,4,4,4,4,4,4,4,4,4,4,4,4,4,4,4,4]},\"selected\":{\"id\":\"1754\"},\"selection_policy\":{\"id\":\"1753\"}},\"id\":\"1007\",\"type\":\"ColumnDataSource\"},{\"attributes\":{\"source\":{\"id\":\"1017\"}},\"id\":\"1501\",\"type\":\"CDSView\"},{\"attributes\":{\"fill_alpha\":{\"value\":0.5},\"fill_color\":{\"value\":\"#38568B\"},\"hatch_alpha\":{\"value\":0.5},\"hatch_color\":{\"value\":\"#38568B\"},\"line_alpha\":{\"value\":0.5},\"line_color\":{\"value\":\"#38568B\"},\"marker\":{\"value\":\"diamond\"},\"size\":{\"value\":10},\"x\":{\"field\":\"date_time\"},\"y\":{\"field\":\"y_index\"}},\"id\":\"1504\",\"type\":\"Scatter\"},{\"attributes\":{\"fill_alpha\":{\"value\":0.2},\"fill_color\":{\"value\":\"#2C718E\"},\"hatch_alpha\":{\"value\":0.2},\"hatch_color\":{\"value\":\"#2C718E\"},\"line_alpha\":{\"value\":0.2},\"line_color\":{\"value\":\"#2C718E\"},\"marker\":{\"value\":\"diamond\"},\"size\":{\"value\":10},\"x\":{\"field\":\"date_time\"},\"y\":{\"field\":\"y_index\"}},\"id\":\"1548\",\"type\":\"Scatter\"},{\"attributes\":{\"fill_alpha\":{\"value\":0.2},\"fill_color\":{\"value\":\"#38568B\"},\"hatch_alpha\":{\"value\":0.2},\"hatch_color\":{\"value\":\"#38568B\"},\"line_alpha\":{\"value\":0.2},\"line_color\":{\"value\":\"#38568B\"},\"marker\":{\"value\":\"diamond\"},\"size\":{\"value\":10},\"x\":{\"field\":\"date_time\"},\"y\":{\"field\":\"y_index\"}},\"id\":\"1506\",\"type\":\"Scatter\"},{\"attributes\":{\"source\":{\"id\":\"1050\"}},\"id\":\"1732\",\"type\":\"CDSView\"},{\"attributes\":{\"coordinates\":null,\"data_source\":{\"id\":\"1018\"},\"glyph\":{\"id\":\"1504\"},\"group\":null,\"hover_glyph\":null,\"muted_glyph\":{\"id\":\"1506\"},\"nonselection_glyph\":{\"id\":\"1505\"},\"view\":{\"id\":\"1508\"}},\"id\":\"1507\",\"type\":\"GlyphRenderer\"},{\"attributes\":{\"fill_alpha\":{\"value\":0.1},\"fill_color\":{\"value\":\"#365A8C\"},\"hatch_alpha\":{\"value\":0.1},\"hatch_color\":{\"value\":\"#365A8C\"},\"line_alpha\":{\"value\":0.1},\"line_color\":{\"value\":\"#365A8C\"},\"marker\":{\"value\":\"diamond\"},\"size\":{\"value\":10},\"x\":{\"field\":\"date_time\"},\"y\":{\"field\":\"y_index\"}},\"id\":\"1512\",\"type\":\"Scatter\"},{\"attributes\":{\"data\":{\"date_time\":{\"__ndarray__\":\"AADSJ8zac0IAADy6C9tzQgAAqDwd23NCAAD4wyfbc0IAANiqM9tzQgAAbqJa23NCAADGV2vbc0IAADBLhttzQgAASrCs23NCAAAOQsDbc0IAABjq/ttzQgAA2GQP3HNCAADCWx/cc0IAANxfatxzQgAAZHW93HNCAAA+ts/cc0IAAEJs99xzQgAActMj3XNCAACaBWDdc0IAAL6BdN1zQgAAzEC23XNCAAAuWdLdc0IAAESgC95zQgAAKEsT3nNCAABw4mDec0IAAK7Dm95zQgAAwoLI3nNCAAA6Q/nec0IAAJDDBN9zQgAA/mxH33NCAABugu7fc0IAAD6ePuBzQgAAsuaQ4HNCAABO+Vnhc0IAAK7OnOFzQgAAMuKq4XNCAABiJkXic0IAABLwX+RzQgAACIV55XNCAABWaM/lc0I=\",\"dtype\":\"float64\",\"order\":\"little\",\"shape\":[40]},\"index\":[866,867,869,870,871,872,873,874,875,878,879,880,881,882,883,884,885,886,887,888,889,891,892,893,894,895,896,897,898,899,900,901,902,903,904,905,906,907,908,909],\"y_index\":[19,19,19,19,19,19,19,19,19,19,19,19,19,19,19,19,19,19,19,19,19,19,19,19,19,19,19,19,19,19,19,19,19,19,19,19,19,19,19,19]},\"selected\":{\"id\":\"1784\"},\"selection_policy\":{\"id\":\"1783\"}},\"id\":\"1022\",\"type\":\"ColumnDataSource\"},{\"attributes\":{\"label\":{\"value\":\"u18\"},\"renderers\":[{\"id\":\"1507\"}]},\"id\":\"1509\",\"type\":\"LegendItem\"},{\"attributes\":{},\"id\":\"1783\",\"type\":\"UnionRenderers\"},{\"attributes\":{\"source\":{\"id\":\"1018\"}},\"id\":\"1508\",\"type\":\"CDSView\"},{\"attributes\":{},\"id\":\"1784\",\"type\":\"Selection\"},{\"attributes\":{\"fill_alpha\":{\"value\":0.5},\"fill_color\":{\"value\":\"#365A8C\"},\"hatch_alpha\":{\"value\":0.5},\"hatch_color\":{\"value\":\"#365A8C\"},\"line_alpha\":{\"value\":0.5},\"line_color\":{\"value\":\"#365A8C\"},\"marker\":{\"value\":\"diamond\"},\"size\":{\"value\":10},\"x\":{\"field\":\"date_time\"},\"y\":{\"field\":\"y_index\"}},\"id\":\"1511\",\"type\":\"Scatter\"},{\"attributes\":{},\"id\":\"1751\",\"type\":\"UnionRenderers\"},{\"attributes\":{\"fill_alpha\":{\"value\":0.2},\"fill_color\":{\"value\":\"#365A8C\"},\"hatch_alpha\":{\"value\":0.2},\"hatch_color\":{\"value\":\"#365A8C\"},\"line_alpha\":{\"value\":0.2},\"line_color\":{\"value\":\"#365A8C\"},\"marker\":{\"value\":\"diamond\"},\"size\":{\"value\":10},\"x\":{\"field\":\"date_time\"},\"y\":{\"field\":\"y_index\"}},\"id\":\"1513\",\"type\":\"Scatter\"},{\"attributes\":{\"data\":{\"date_time\":{\"__ndarray__\":\"AACmAC7bc0IAAKYALttzQgAAHvi923NCAAAcpxDcc0IAAIIUedxzQgAAenfD3HNCAAAAwNbcc0IAAEgLB91zQgAA/EAO3XNCAAD+GyLdc0IAALymYN1zQgAANG573XNCAABOzLfdc0IAAELTy91zQgAAsJfF3nNCAABYXkffc0IAAARKoN9zQgAAYK7u33NCAADkrD7gc0IAAAIblOBzQgAA5rDd4HNCAAA2Mf7gc0IAANKkouFzQgAAjNOq4XNCAAB2oD7ic0IAANB1luJzQgAAjHjI4nNCAAD43jHjc0IAAEgfJ+VzQgAAZkFf5XNCAADkW2zlc0IAAKwmJOZzQgAAXLL153NCAADkdEHoc0IAACKokulzQgAAWkLN63NCAAD2Fk3sc0IAAI7wcexzQgAALLXD7HNC\",\"dtype\":\"float64\",\"order\":\"little\",\"shape\":[39]},\"index\":[1166,1167,1168,1169,1170,1171,1172,1173,1174,1175,1176,1177,1178,1179,1180,1181,1182,1183,1184,1185,1186,1187,1188,1189,1190,1191,1192,1193,1194,1195,1196,1197,1198,1199,1200,1201,1202,1203,1204],\"y_index\":[28,28,28,28,28,28,28,28,28,28,28,28,28,28,28,28,28,28,28,28,28,28,28,28,28,28,28,28,28,28,28,28,28,28,28,28,28,28,28]},\"selected\":{\"id\":\"1802\"},\"selection_policy\":{\"id\":\"1801\"}},\"id\":\"1031\",\"type\":\"ColumnDataSource\"},{\"attributes\":{},\"id\":\"1752\",\"type\":\"Selection\"},{\"attributes\":{\"coordinates\":null,\"data_source\":{\"id\":\"1019\"},\"glyph\":{\"id\":\"1511\"},\"group\":null,\"hover_glyph\":null,\"muted_glyph\":{\"id\":\"1513\"},\"nonselection_glyph\":{\"id\":\"1512\"},\"view\":{\"id\":\"1515\"}},\"id\":\"1514\",\"type\":\"GlyphRenderer\"},{\"attributes\":{\"fill_alpha\":{\"value\":0.1},\"fill_color\":{\"value\":\"#345F8D\"},\"hatch_alpha\":{\"value\":0.1},\"hatch_color\":{\"value\":\"#345F8D\"},\"line_alpha\":{\"value\":0.1},\"line_color\":{\"value\":\"#345F8D\"},\"marker\":{\"value\":\"diamond\"},\"size\":{\"value\":10},\"x\":{\"field\":\"date_time\"},\"y\":{\"field\":\"y_index\"}},\"id\":\"1519\",\"type\":\"Scatter\"},{\"attributes\":{\"label\":{\"value\":\"u19\"},\"renderers\":[{\"id\":\"1514\"}]},\"id\":\"1516\",\"type\":\"LegendItem\"},{\"attributes\":{\"source\":{\"id\":\"1019\"}},\"id\":\"1515\",\"type\":\"CDSView\"},{\"attributes\":{\"fill_alpha\":{\"value\":0.5},\"fill_color\":{\"value\":\"#345F8D\"},\"hatch_alpha\":{\"value\":0.5},\"hatch_color\":{\"value\":\"#345F8D\"},\"line_alpha\":{\"value\":0.5},\"line_color\":{\"value\":\"#345F8D\"},\"marker\":{\"value\":\"diamond\"},\"size\":{\"value\":10},\"x\":{\"field\":\"date_time\"},\"y\":{\"field\":\"y_index\"}},\"id\":\"1518\",\"type\":\"Scatter\"},{\"attributes\":{\"source\":{\"id\":\"1023\"}},\"id\":\"1543\",\"type\":\"CDSView\"},{\"attributes\":{\"fill_alpha\":{\"value\":0.2},\"fill_color\":{\"value\":\"#345F8D\"},\"hatch_alpha\":{\"value\":0.2},\"hatch_color\":{\"value\":\"#345F8D\"},\"line_alpha\":{\"value\":0.2},\"line_color\":{\"value\":\"#345F8D\"},\"marker\":{\"value\":\"diamond\"},\"size\":{\"value\":10},\"x\":{\"field\":\"date_time\"},\"y\":{\"field\":\"y_index\"}},\"id\":\"1520\",\"type\":\"Scatter\"},{\"attributes\":{\"fill_alpha\":{\"value\":0.5},\"fill_color\":{\"value\":\"#2C718E\"},\"hatch_alpha\":{\"value\":0.5},\"hatch_color\":{\"value\":\"#2C718E\"},\"line_alpha\":{\"value\":0.5},\"line_color\":{\"value\":\"#2C718E\"},\"marker\":{\"value\":\"diamond\"},\"size\":{\"value\":10},\"x\":{\"field\":\"date_time\"},\"y\":{\"field\":\"y_index\"}},\"id\":\"1546\",\"type\":\"Scatter\"},{\"attributes\":{\"coordinates\":null,\"data_source\":{\"id\":\"1020\"},\"glyph\":{\"id\":\"1518\"},\"group\":null,\"hover_glyph\":null,\"muted_glyph\":{\"id\":\"1520\"},\"nonselection_glyph\":{\"id\":\"1519\"},\"view\":{\"id\":\"1522\"}},\"id\":\"1521\",\"type\":\"GlyphRenderer\"},{\"attributes\":{\"fill_alpha\":{\"value\":0.1},\"fill_color\":{\"value\":\"#32638D\"},\"hatch_alpha\":{\"value\":0.1},\"hatch_color\":{\"value\":\"#32638D\"},\"line_alpha\":{\"value\":0.1},\"line_color\":{\"value\":\"#32638D\"},\"marker\":{\"value\":\"diamond\"},\"size\":{\"value\":10},\"x\":{\"field\":\"date_time\"},\"y\":{\"field\":\"y_index\"}},\"id\":\"1526\",\"type\":\"Scatter\"},{\"attributes\":{\"below\":[{\"id\":\"1095\"},{\"id\":\"1100\"}],\"center\":[{\"id\":\"1098\"}],\"height\":240,\"renderers\":[{\"id\":\"1107\"},{\"id\":\"1113\"},{\"id\":\"1119\"},{\"id\":\"1125\"},{\"id\":\"1131\"},{\"id\":\"1137\"},{\"id\":\"1143\"},{\"id\":\"1149\"},{\"id\":\"1155\"},{\"id\":\"1161\"},{\"id\":\"1167\"},{\"id\":\"1173\"},{\"id\":\"1179\"},{\"id\":\"1185\"},{\"id\":\"1191\"},{\"id\":\"1197\"},{\"id\":\"1203\"},{\"id\":\"1209\"},{\"id\":\"1215\"},{\"id\":\"1221\"},{\"id\":\"1227\"},{\"id\":\"1233\"},{\"id\":\"1239\"},{\"id\":\"1245\"},{\"id\":\"1251\"},{\"id\":\"1257\"},{\"id\":\"1263\"},{\"id\":\"1269\"},{\"id\":\"1275\"},{\"id\":\"1281\"},{\"id\":\"1287\"},{\"id\":\"1293\"},{\"id\":\"1299\"},{\"id\":\"1305\"},{\"id\":\"1311\"},{\"id\":\"1317\"},{\"id\":\"1323\"},{\"id\":\"1329\"},{\"id\":\"1335\"},{\"id\":\"1341\"},{\"id\":\"1347\"},{\"id\":\"1353\"},{\"id\":\"1359\"},{\"id\":\"1365\"},{\"id\":\"1371\"},{\"id\":\"1377\"},{\"id\":\"1383\"},{\"id\":\"1389\"}],\"title\":{\"id\":\"1085\"},\"toolbar\":{\"id\":\"1099\"},\"toolbar_location\":null,\"width\":900,\"x_range\":{\"id\":\"1087\"},\"x_scale\":{\"id\":\"1091\"},\"y_range\":{\"id\":\"1089\"},\"y_scale\":{\"id\":\"1093\"}},\"id\":\"1084\",\"subtype\":\"Figure\",\"type\":\"Plot\"},{\"attributes\":{\"label\":{\"value\":\"u20\"},\"renderers\":[{\"id\":\"1521\"}]},\"id\":\"1523\",\"type\":\"LegendItem\"},{\"attributes\":{},\"id\":\"1785\",\"type\":\"UnionRenderers\"},{\"attributes\":{\"source\":{\"id\":\"1020\"}},\"id\":\"1522\",\"type\":\"CDSView\"},{\"attributes\":{\"data\":{\"date_time\":{\"__ndarray__\":\"AADYzcXac0IAAEZ3CNtzQgAAWpcQ23NCAADeozTbc0IAACBJa9tzQgAAjpi823NCAAAQWx3cc0IAAHQru9xzQgAAJnHw3HNCAABs6Pbcc0IAAEB8Jd1zQgAAwph33XNCAAAKg8zdc0IAAMq3uN5zQgAA9kwV33NCAACWp0ffc0IAAMg8j99zQgAAguA/4HNCAACMv93gc0IAAJhJGuFzQgAAnF8s4nNCAAD8rxDkc0IAAAxQX+VzQgAAjid+5XNCAAAe0brnc0IAAHJo3udzQgAArEDq53NCAAC6sw7oc0IAAMQPMOhzQgAACgbv7HNC\",\"dtype\":\"float64\",\"order\":\"little\",\"shape\":[30]},\"index\":[468,469,470,471,472,473,474,475,476,477,478,479,480,481,482,483,484,485,486,487,488,489,490,491,492,493,494,495,496,497],\"y_index\":[10,10,10,10,10,10,10,10,10,10,10,10,10,10,10,10,10,10,10,10,10,10,10,10,10,10,10,10,10,10]},\"selected\":{\"id\":\"1766\"},\"selection_policy\":{\"id\":\"1765\"}},\"id\":\"1013\",\"type\":\"ColumnDataSource\"},{\"attributes\":{\"fill_alpha\":{\"value\":0.5},\"fill_color\":{\"value\":\"#32638D\"},\"hatch_alpha\":{\"value\":0.5},\"hatch_color\":{\"value\":\"#32638D\"},\"line_alpha\":{\"value\":0.5},\"line_color\":{\"value\":\"#32638D\"},\"marker\":{\"value\":\"diamond\"},\"size\":{\"value\":10},\"x\":{\"field\":\"date_time\"},\"y\":{\"field\":\"y_index\"}},\"id\":\"1525\",\"type\":\"Scatter\"},{\"attributes\":{},\"id\":\"1786\",\"type\":\"Selection\"},{\"attributes\":{\"label\":{\"value\":\"u24\"},\"renderers\":[{\"id\":\"1542\"}]},\"id\":\"1544\",\"type\":\"LegendItem\"},{\"attributes\":{},\"id\":\"1753\",\"type\":\"UnionRenderers\"},{\"attributes\":{\"data\":{\"date_time\":{\"__ndarray__\":\"AABsRMrac0IAAMICH9tzQgAA5I5h23NCAAA6D23bc0IAAAhXk9tzQgAAFJWy23NCAAD82Tncc0IAAMZBvNxzQgAA1GHZ3HNCAAAKFQ7dc0IAADSKI91zQgAAdoJh3XNCAAAqldbdc0IAAAQGXt5zQgAAOHa53nNCAAA6/sXec0IAAP5sR99zQgAAknSc33NCAADYKezfc0IAAD6ePuBzQgAAWPWQ4HNCAABMlN/gc0IAAIwL++BzQgAAYiBM4XNCAAA2YXPhc0IAAMKbneFzQgAAKJpW4nNCAAC4/l/kc0IAADT/HuVzQgAAKugw5XNCAADIDV7lc0IAALAicOVzQgAAuoV75XNCAADaETboc0IAAAThPOhzQgAARuBk6HNCAADiEu3rc0I=\",\"dtype\":\"float64\",\"order\":\"little\",\"shape\":[37]},\"index\":[498,499,500,501,502,503,504,505,506,507,508,509,510,511,512,513,514,515,516,517,518,519,520,521,522,523,524,525,526,527,528,529,530,531,532,533,534],\"y_index\":[11,11,11,11,11,11,11,11,11,11,11,11,11,11,11,11,11,11,11,11,11,11,11,11,11,11,11,11,11,11,11,11,11,11,11,11,11]},\"selected\":{\"id\":\"1768\"},\"selection_policy\":{\"id\":\"1767\"}},\"id\":\"1014\",\"type\":\"ColumnDataSource\"},{\"attributes\":{\"fill_alpha\":{\"value\":0.2},\"fill_color\":{\"value\":\"#32638D\"},\"hatch_alpha\":{\"value\":0.2},\"hatch_color\":{\"value\":\"#32638D\"},\"line_alpha\":{\"value\":0.2},\"line_color\":{\"value\":\"#32638D\"},\"marker\":{\"value\":\"diamond\"},\"size\":{\"value\":10},\"x\":{\"field\":\"date_time\"},\"y\":{\"field\":\"y_index\"}},\"id\":\"1527\",\"type\":\"Scatter\"},{\"attributes\":{},\"id\":\"1754\",\"type\":\"Selection\"},{\"attributes\":{\"coordinates\":null,\"data_source\":{\"id\":\"1021\"},\"glyph\":{\"id\":\"1525\"},\"group\":null,\"hover_glyph\":null,\"muted_glyph\":{\"id\":\"1527\"},\"nonselection_glyph\":{\"id\":\"1526\"},\"view\":{\"id\":\"1529\"}},\"id\":\"1528\",\"type\":\"GlyphRenderer\"},{\"attributes\":{\"fill_alpha\":{\"value\":0.1},\"fill_color\":{\"value\":\"#30688D\"},\"hatch_alpha\":{\"value\":0.1},\"hatch_color\":{\"value\":\"#30688D\"},\"line_alpha\":{\"value\":0.1},\"line_color\":{\"value\":\"#30688D\"},\"marker\":{\"value\":\"diamond\"},\"size\":{\"value\":10},\"x\":{\"field\":\"date_time\"},\"y\":{\"field\":\"y_index\"}},\"id\":\"1533\",\"type\":\"Scatter\"},{\"attributes\":{\"label\":{\"value\":\"u22\"},\"renderers\":[{\"id\":\"1528\"}]},\"id\":\"1530\",\"type\":\"LegendItem\"},{\"attributes\":{\"source\":{\"id\":\"1021\"}},\"id\":\"1529\",\"type\":\"CDSView\"},{\"attributes\":{\"fill_alpha\":{\"value\":0.5},\"fill_color\":{\"value\":\"#30688D\"},\"hatch_alpha\":{\"value\":0.5},\"hatch_color\":{\"value\":\"#30688D\"},\"line_alpha\":{\"value\":0.5},\"line_color\":{\"value\":\"#30688D\"},\"marker\":{\"value\":\"diamond\"},\"size\":{\"value\":10},\"x\":{\"field\":\"date_time\"},\"y\":{\"field\":\"y_index\"}},\"id\":\"1532\",\"type\":\"Scatter\"},{\"attributes\":{\"fill_alpha\":{\"value\":0.2},\"fill_color\":{\"value\":\"#27AD80\"},\"hatch_alpha\":{\"value\":0.2},\"hatch_color\":{\"value\":\"#27AD80\"},\"line_alpha\":{\"value\":0.2},\"line_color\":{\"value\":\"#27AD80\"},\"marker\":{\"value\":\"diamond\"},\"size\":{\"value\":10},\"x\":{\"field\":\"date_time\"},\"y\":{\"field\":\"y_index\"}},\"id\":\"1646\",\"type\":\"Scatter\"},{\"attributes\":{\"coordinates\":null,\"data_source\":{\"id\":\"1038\"},\"glyph\":{\"id\":\"1644\"},\"group\":null,\"hover_glyph\":null,\"muted_glyph\":{\"id\":\"1646\"},\"nonselection_glyph\":{\"id\":\"1645\"},\"view\":{\"id\":\"1648\"}},\"id\":\"1647\",\"type\":\"GlyphRenderer\"},{\"attributes\":{\"fill_alpha\":{\"value\":0.1},\"fill_color\":{\"value\":\"#2C718E\"},\"hatch_alpha\":{\"value\":0.1},\"hatch_color\":{\"value\":\"#2C718E\"},\"line_alpha\":{\"value\":0.1},\"line_color\":{\"value\":\"#2C718E\"},\"marker\":{\"value\":\"diamond\"},\"size\":{\"value\":10},\"x\":{\"field\":\"date_time\"},\"y\":{\"field\":\"y_index\"}},\"id\":\"1547\",\"type\":\"Scatter\"},{\"attributes\":{\"coordinates\":null,\"data_source\":{\"id\":\"1023\"},\"glyph\":{\"id\":\"1539\"},\"group\":null,\"hover_glyph\":null,\"muted_glyph\":{\"id\":\"1541\"},\"nonselection_glyph\":{\"id\":\"1540\"},\"view\":{\"id\":\"1543\"}},\"id\":\"1542\",\"type\":\"GlyphRenderer\"},{\"attributes\":{\"fill_alpha\":{\"value\":0.1},\"fill_color\":{\"value\":\"#2E6D8E\"},\"hatch_alpha\":{\"value\":0.1},\"hatch_color\":{\"value\":\"#2E6D8E\"},\"line_alpha\":{\"value\":0.1},\"line_color\":{\"value\":\"#2E6D8E\"},\"marker\":{\"value\":\"diamond\"},\"size\":{\"value\":10},\"x\":{\"field\":\"date_time\"},\"y\":{\"field\":\"y_index\"}},\"id\":\"1540\",\"type\":\"Scatter\"},{\"attributes\":{\"fill_alpha\":{\"value\":0.2},\"fill_color\":{\"value\":\"#2E6D8E\"},\"hatch_alpha\":{\"value\":0.2},\"hatch_color\":{\"value\":\"#2E6D8E\"},\"line_alpha\":{\"value\":0.2},\"line_color\":{\"value\":\"#2E6D8E\"},\"marker\":{\"value\":\"diamond\"},\"size\":{\"value\":10},\"x\":{\"field\":\"date_time\"},\"y\":{\"field\":\"y_index\"}},\"id\":\"1541\",\"type\":\"Scatter\"},{\"attributes\":{},\"id\":\"1787\",\"type\":\"UnionRenderers\"},{\"attributes\":{\"fill_alpha\":{\"value\":0.1},\"fill_color\":{\"value\":\"#287A8E\"},\"hatch_alpha\":{\"value\":0.1},\"hatch_color\":{\"value\":\"#287A8E\"},\"line_alpha\":{\"value\":0.1},\"line_color\":{\"value\":\"#287A8E\"},\"marker\":{\"value\":\"diamond\"},\"size\":{\"value\":10},\"x\":{\"field\":\"date_time\"},\"y\":{\"field\":\"y_index\"}},\"id\":\"1561\",\"type\":\"Scatter\"},{\"attributes\":{\"label\":{\"value\":\"u27\"},\"renderers\":[{\"id\":\"1556\"}]},\"id\":\"1558\",\"type\":\"LegendItem\"},{\"attributes\":{},\"id\":\"1788\",\"type\":\"Selection\"},{\"attributes\":{\"data\":{\"date_time\":{\"__ndarray__\":\"AADyTpTac0IAAMr5xdpzQgAARFDX2nNCAAD42OXac0IAALgA79pzQgAAeBok23NCAADwLVzbc0IAAOQ0cNtzQgAAxqpy23NCAABei4Hbc0IAAKgEzdtzQgAAqATN23NCAACyDefbc0IAAG5qCtxzQgAAYssP3HNCAAAWTTTcc0IAAFDEZNxzQgAAkOh43HNCAADOHLvcc0IAAOAA1NxzQgAAwrQf3XNCAADGyyLdc0IAAD6MU91zQgAAqNlf3XNCAAAMbLTdc0IAAGbnGt5zQgAAUCNe3nNCAAD0lJPec0IAABCCxt5zQgAANiz23nNCAADuEDvfc0IAALKiTt9zQgAAhFtp33NCAAAi1J3fc0IAAIrlut9zQgAAAMTt33NCAAAAavzfc0IAAGpPQ+BzQgAA+AqQ4HNCAAA+gpbgc0IAAASO4uBzQgAA5lbs4HNCAAAosAXhc0IAAILfTuFzQgAA+uuc4XNCAAB+/6rhc0IAADSv6uFzQgAAcPpE4nNCAAAOh0bjc0IAAJTZaedzQgAA9tzH53NCAADMUvTnc0IAAI7sWulzQgAADoeZ6nNCAABwiBXtc0I=\",\"dtype\":\"float64\",\"order\":\"little\",\"shape\":[55]},\"index\":[811,812,813,814,815,816,817,818,819,820,821,822,823,824,825,826,827,828,829,830,831,832,833,834,835,836,837,838,839,840,841,842,843,844,845,846,847,848,849,850,851,852,853,854,855,856,857,858,859,860,861,862,863,864,865],\"y_index\":[18,18,18,18,18,18,18,18,18,18,18,18,18,18,18,18,18,18,18,18,18,18,18,18,18,18,18,18,18,18,18,18,18,18,18,18,18,18,18,18,18,18,18,18,18,18,18,18,18,18,18,18,18,18,18]},\"selected\":{\"id\":\"1782\"},\"selection_policy\":{\"id\":\"1781\"}},\"id\":\"1021\",\"type\":\"ColumnDataSource\"},{\"attributes\":{\"source\":{\"id\":\"1025\"}},\"id\":\"1557\",\"type\":\"CDSView\"},{\"attributes\":{},\"id\":\"1755\",\"type\":\"UnionRenderers\"},{\"attributes\":{\"fill_alpha\":{\"value\":0.5},\"fill_color\":{\"value\":\"#287A8E\"},\"hatch_alpha\":{\"value\":0.5},\"hatch_color\":{\"value\":\"#287A8E\"},\"line_alpha\":{\"value\":0.5},\"line_color\":{\"value\":\"#287A8E\"},\"marker\":{\"value\":\"diamond\"},\"size\":{\"value\":10},\"x\":{\"field\":\"date_time\"},\"y\":{\"field\":\"y_index\"}},\"id\":\"1560\",\"type\":\"Scatter\"},{\"attributes\":{},\"id\":\"1756\",\"type\":\"Selection\"},{\"attributes\":{\"label\":{\"value\":\"u44\"},\"renderers\":[{\"id\":\"1640\"}]},\"id\":\"1642\",\"type\":\"LegendItem\"},{\"attributes\":{\"fill_alpha\":{\"value\":0.2},\"fill_color\":{\"value\":\"#287A8E\"},\"hatch_alpha\":{\"value\":0.2},\"hatch_color\":{\"value\":\"#287A8E\"},\"line_alpha\":{\"value\":0.2},\"line_color\":{\"value\":\"#287A8E\"},\"marker\":{\"value\":\"diamond\"},\"size\":{\"value\":10},\"x\":{\"field\":\"date_time\"},\"y\":{\"field\":\"y_index\"}},\"id\":\"1562\",\"type\":\"Scatter\"},{\"attributes\":{\"coordinates\":null,\"data_source\":{\"id\":\"1026\"},\"glyph\":{\"id\":\"1560\"},\"group\":null,\"hover_glyph\":null,\"muted_glyph\":{\"id\":\"1562\"},\"nonselection_glyph\":{\"id\":\"1561\"},\"view\":{\"id\":\"1564\"}},\"id\":\"1563\",\"type\":\"GlyphRenderer\"},{\"attributes\":{\"fill_alpha\":{\"value\":0.1},\"fill_color\":{\"value\":\"#277E8E\"},\"hatch_alpha\":{\"value\":0.1},\"hatch_color\":{\"value\":\"#277E8E\"},\"line_alpha\":{\"value\":0.1},\"line_color\":{\"value\":\"#277E8E\"},\"marker\":{\"value\":\"diamond\"},\"size\":{\"value\":10},\"x\":{\"field\":\"date_time\"},\"y\":{\"field\":\"y_index\"}},\"id\":\"1568\",\"type\":\"Scatter\"},{\"attributes\":{\"label\":{\"value\":\"u30\"},\"renderers\":[{\"id\":\"1563\"}]},\"id\":\"1565\",\"type\":\"LegendItem\"},{\"attributes\":{\"source\":{\"id\":\"1026\"}},\"id\":\"1564\",\"type\":\"CDSView\"},{\"attributes\":{\"fill_alpha\":{\"value\":0.5},\"fill_color\":{\"value\":\"#277E8E\"},\"hatch_alpha\":{\"value\":0.5},\"hatch_color\":{\"value\":\"#277E8E\"},\"line_alpha\":{\"value\":0.5},\"line_color\":{\"value\":\"#277E8E\"},\"marker\":{\"value\":\"diamond\"},\"size\":{\"value\":10},\"x\":{\"field\":\"date_time\"},\"y\":{\"field\":\"y_index\"}},\"id\":\"1567\",\"type\":\"Scatter\"},{\"attributes\":{\"coordinates\":null,\"data_source\":{\"id\":\"1037\"},\"glyph\":{\"id\":\"1637\"},\"group\":null,\"hover_glyph\":null,\"muted_glyph\":{\"id\":\"1639\"},\"nonselection_glyph\":{\"id\":\"1638\"},\"view\":{\"id\":\"1641\"}},\"id\":\"1640\",\"type\":\"GlyphRenderer\"},{\"attributes\":{\"data\":{\"date_time\":{\"__ndarray__\":\"AAAAmDzbc0IAAD4fhttzQgAAQiHL23NCAAAcpxDcc0IAAP6K0dxzQgAAcNV93XNCAAB4k+Pec0IAAFIXR+FzQgAA0N5M4XNC\",\"dtype\":\"float64\",\"order\":\"little\",\"shape\":[9]},\"index\":[535,537,538,539,540,541,542,543,544],\"y_index\":[12,12,12,12,12,12,12,12,12]},\"selected\":{\"id\":\"1770\"},\"selection_policy\":{\"id\":\"1769\"}},\"id\":\"1015\",\"type\":\"ColumnDataSource\"},{\"attributes\":{\"fill_alpha\":{\"value\":0.2},\"fill_color\":{\"value\":\"#277E8E\"},\"hatch_alpha\":{\"value\":0.2},\"hatch_color\":{\"value\":\"#277E8E\"},\"line_alpha\":{\"value\":0.2},\"line_color\":{\"value\":\"#277E8E\"},\"marker\":{\"value\":\"diamond\"},\"size\":{\"value\":10},\"x\":{\"field\":\"date_time\"},\"y\":{\"field\":\"y_index\"}},\"id\":\"1569\",\"type\":\"Scatter\"},{\"attributes\":{\"fill_alpha\":{\"value\":0.1},\"fill_color\":{\"value\":\"#27AD80\"},\"hatch_alpha\":{\"value\":0.1},\"hatch_color\":{\"value\":\"#27AD80\"},\"line_alpha\":{\"value\":0.1},\"line_color\":{\"value\":\"#27AD80\"},\"marker\":{\"value\":\"diamond\"},\"size\":{\"value\":10},\"x\":{\"field\":\"date_time\"},\"y\":{\"field\":\"y_index\"}},\"id\":\"1645\",\"type\":\"Scatter\"},{\"attributes\":{\"coordinates\":null,\"data_source\":{\"id\":\"1027\"},\"glyph\":{\"id\":\"1567\"},\"group\":null,\"hover_glyph\":null,\"muted_glyph\":{\"id\":\"1569\"},\"nonselection_glyph\":{\"id\":\"1568\"},\"view\":{\"id\":\"1571\"}},\"id\":\"1570\",\"type\":\"GlyphRenderer\"},{\"attributes\":{\"fill_alpha\":{\"value\":0.1},\"fill_color\":{\"value\":\"#25828E\"},\"hatch_alpha\":{\"value\":0.1},\"hatch_color\":{\"value\":\"#25828E\"},\"line_alpha\":{\"value\":0.1},\"line_color\":{\"value\":\"#25828E\"},\"marker\":{\"value\":\"diamond\"},\"size\":{\"value\":10},\"x\":{\"field\":\"date_time\"},\"y\":{\"field\":\"y_index\"}},\"id\":\"1575\",\"type\":\"Scatter\"},{\"attributes\":{},\"id\":\"1789\",\"type\":\"UnionRenderers\"},{\"attributes\":{\"label\":{\"value\":\"u31\"},\"renderers\":[{\"id\":\"1570\"}]},\"id\":\"1572\",\"type\":\"LegendItem\"},{\"attributes\":{},\"id\":\"1790\",\"type\":\"Selection\"},{\"attributes\":{\"source\":{\"id\":\"1027\"}},\"id\":\"1571\",\"type\":\"CDSView\"},{\"attributes\":{\"fill_alpha\":{\"value\":0.5},\"fill_color\":{\"value\":\"#25828E\"},\"hatch_alpha\":{\"value\":0.5},\"hatch_color\":{\"value\":\"#25828E\"},\"line_alpha\":{\"value\":0.5},\"line_color\":{\"value\":\"#25828E\"},\"marker\":{\"value\":\"diamond\"},\"size\":{\"value\":10},\"x\":{\"field\":\"date_time\"},\"y\":{\"field\":\"y_index\"}},\"id\":\"1574\",\"type\":\"Scatter\"},{\"attributes\":{},\"id\":\"1757\",\"type\":\"UnionRenderers\"},{\"attributes\":{\"fill_alpha\":{\"value\":0.2},\"fill_color\":{\"value\":\"#23A883\"},\"hatch_alpha\":{\"value\":0.2},\"hatch_color\":{\"value\":\"#23A883\"},\"line_alpha\":{\"value\":0.2},\"line_color\":{\"value\":\"#23A883\"},\"marker\":{\"value\":\"diamond\"},\"size\":{\"value\":10},\"x\":{\"field\":\"date_time\"},\"y\":{\"field\":\"y_index\"}},\"id\":\"1639\",\"type\":\"Scatter\"},{\"attributes\":{},\"id\":\"1758\",\"type\":\"Selection\"},{\"attributes\":{\"fill_alpha\":{\"value\":0.2},\"fill_color\":{\"value\":\"#25828E\"},\"hatch_alpha\":{\"value\":0.2},\"hatch_color\":{\"value\":\"#25828E\"},\"line_alpha\":{\"value\":0.2},\"line_color\":{\"value\":\"#25828E\"},\"marker\":{\"value\":\"diamond\"},\"size\":{\"value\":10},\"x\":{\"field\":\"date_time\"},\"y\":{\"field\":\"y_index\"}},\"id\":\"1576\",\"type\":\"Scatter\"},{\"attributes\":{\"coordinates\":null,\"data_source\":{\"id\":\"1028\"},\"glyph\":{\"id\":\"1574\"},\"group\":null,\"hover_glyph\":null,\"muted_glyph\":{\"id\":\"1576\"},\"nonselection_glyph\":{\"id\":\"1575\"},\"view\":{\"id\":\"1578\"}},\"id\":\"1577\",\"type\":\"GlyphRenderer\"},{\"attributes\":{\"fill_alpha\":{\"value\":0.1},\"fill_color\":{\"value\":\"#23878D\"},\"hatch_alpha\":{\"value\":0.1},\"hatch_color\":{\"value\":\"#23878D\"},\"line_alpha\":{\"value\":0.1},\"line_color\":{\"value\":\"#23878D\"},\"marker\":{\"value\":\"diamond\"},\"size\":{\"value\":10},\"x\":{\"field\":\"date_time\"},\"y\":{\"field\":\"y_index\"}},\"id\":\"1582\",\"type\":\"Scatter\"},{\"attributes\":{\"label\":{\"value\":\"u32\"},\"renderers\":[{\"id\":\"1577\"}]},\"id\":\"1579\",\"type\":\"LegendItem\"},{\"attributes\":{\"source\":{\"id\":\"1028\"}},\"id\":\"1578\",\"type\":\"CDSView\"},{\"attributes\":{\"fill_alpha\":{\"value\":0.5},\"fill_color\":{\"value\":\"#23878D\"},\"hatch_alpha\":{\"value\":0.5},\"hatch_color\":{\"value\":\"#23878D\"},\"line_alpha\":{\"value\":0.5},\"line_color\":{\"value\":\"#23878D\"},\"marker\":{\"value\":\"diamond\"},\"size\":{\"value\":10},\"x\":{\"field\":\"date_time\"},\"y\":{\"field\":\"y_index\"}},\"id\":\"1581\",\"type\":\"Scatter\"},{\"attributes\":{\"fill_alpha\":{\"value\":0.2},\"fill_color\":{\"value\":\"#23878D\"},\"hatch_alpha\":{\"value\":0.2},\"hatch_color\":{\"value\":\"#23878D\"},\"line_alpha\":{\"value\":0.2},\"line_color\":{\"value\":\"#23878D\"},\"marker\":{\"value\":\"diamond\"},\"size\":{\"value\":10},\"x\":{\"field\":\"date_time\"},\"y\":{\"field\":\"y_index\"}},\"id\":\"1583\",\"type\":\"Scatter\"},{\"attributes\":{\"coordinates\":null,\"data_source\":{\"id\":\"1029\"},\"glyph\":{\"id\":\"1581\"},\"group\":null,\"hover_glyph\":null,\"muted_glyph\":{\"id\":\"1583\"},\"nonselection_glyph\":{\"id\":\"1582\"},\"view\":{\"id\":\"1585\"}},\"id\":\"1584\",\"type\":\"GlyphRenderer\"},{\"attributes\":{\"fill_alpha\":{\"value\":0.1},\"fill_color\":{\"value\":\"#228A8D\"},\"hatch_alpha\":{\"value\":0.1},\"hatch_color\":{\"value\":\"#228A8D\"},\"line_alpha\":{\"value\":0.1},\"line_color\":{\"value\":\"#228A8D\"},\"marker\":{\"value\":\"diamond\"},\"size\":{\"value\":10},\"x\":{\"field\":\"date_time\"},\"y\":{\"field\":\"y_index\"}},\"id\":\"1589\",\"type\":\"Scatter\"},{\"attributes\":{\"label\":{\"value\":\"u33\"},\"renderers\":[{\"id\":\"1584\"}]},\"id\":\"1586\",\"type\":\"LegendItem\"},{\"attributes\":{},\"id\":\"1791\",\"type\":\"UnionRenderers\"},{\"attributes\":{\"data\":{\"date_time\":{\"__ndarray__\":\"AADW68fac0IAAPRZHdtzQgAAWJlq23NCAABAmb7bc0IAAJxQFNxzQgAAltOl3HNCAABySb3cc0IAALzJ8txzQgAAvqQG3XNCAACArg3dc0IAANj7WN1zQgAA9itl3XNCAACMwrDdc0IAAL5stt1zQgAABkJN3nNCAACARVfec0IAAFhRZN5zQgAAQjqg3nNCAAAMH6bec0IAAEgst95zQgAAYjfs3nNCAABSegTfc0IAAChRDN9zQgAAiIBA33NCAABWfEnfc0IAAJRrWN9zQgAAbvGd33NCAAAs3bffc0IAADpJ8t9zQgAASpBA4HNCAABYt0fgc0IAANoti+BzQgAAWPWQ4HNCAAA8ma7gc0IAAAJS8+BzQgAALgP44HNCAAA6hkrhc0IAAETUl+FzQgAACMCc4XNCAAD4r63hc0IAAGok1uFzQgAAnvz24XNCAACMsBjic0IAANRcJOJzQgAAxidJ4nNCAAB058vic0IAAMb9zOJzQgAADv3f4nNCAAC0C+Dic0IAAAjaYuNzQgAA7Jg35HNCAAAEHGDkc0IAACIbBuVzQgAARvEL5XNCAAAcGxvlc0IAALbdJ+VzQgAAnK9g5XNCAABoyWvlc0IAAAiFeeVzQgAAmNam5XNCAAAaPxbmc0IAAEZDIuZzQgAA0n1M5nNCAADQjXrmc0IAAApD9OZzQgAAiLAI53NCAAAMtkLnc0IAAKbEbOdzQgAATNNs53NCAABWgpXnc0IAAEhNuudzQgAA8C/k53NCAACkZevnc0IAAHZxDehzQgAAqu886HNCAACMXlXoc0IAAAiXZOhzQgAAXBLg6HNCAABY7Qjpc0IAADQJL+lzQgAAFtI46XNCAAC0lorpc0IAAObK9ulzQgAAYvUx6nNCAAAkUkDqc0IAAKgSR+pzQgAAxoeG6nNCAAAYl53qc0IAAJY0J+tzQgAA0pQ/63NCAAA0+Xjrc0IAAHq8nOtzQgAAGhfP63NCAAByH+frc0IAAHIf5+tzQgAA7M/p63NCAABuoB7sc0IAAMyhN+xzQgAAuCc+7HNCAAAMBJXsc0IAACy1w+xzQgAA9LDh7HNCAAC4NCHtc0IAAN6SM+1zQgAAjBRt7XNCAACGbYLuc0IAAFRpi+5zQg==\",\"dtype\":\"float64\",\"order\":\"little\",\"shape\":[107]},\"index\":[545,546,547,548,549,550,551,552,553,554,555,556,557,558,559,560,561,562,563,564,565,566,567,568,569,570,571,572,573,574,575,576,577,578,579,580,581,582,583,584,585,586,587,588,589,590,591,592,593,594,595,596,597,598,599,600,601,602,603,604,605,606,607,608,609,610,611,612,613,614,615,616,617,618,619,620,621,622,623,624,625,626,627,628,629,630,631,632,633,634,635,636,637,638,639,640,641,642,643,644,645,646,647,648,649,650,651],\"y_index\":[13,13,13,13,13,13,13,13,13,13,13,13,13,13,13,13,13,13,13,13,13,13,13,13,13,13,13,13,13,13,13,13,13,13,13,13,13,13,13,13,13,13,13,13,13,13,13,13,13,13,13,13,13,13,13,13,13,13,13,13,13,13,13,13,13,13,13,13,13,13,13,13,13,13,13,13,13,13,13,13,13,13,13,13,13,13,13,13,13,13,13,13,13,13,13,13,13,13,13,13,13,13,13,13,13,13,13]},\"selected\":{\"id\":\"1772\"},\"selection_policy\":{\"id\":\"1771\"}},\"id\":\"1016\",\"type\":\"ColumnDataSource\"},{\"attributes\":{\"source\":{\"id\":\"1029\"}},\"id\":\"1585\",\"type\":\"CDSView\"},{\"attributes\":{},\"id\":\"1792\",\"type\":\"Selection\"},{\"attributes\":{\"fill_alpha\":{\"value\":0.5},\"fill_color\":{\"value\":\"#228A8D\"},\"hatch_alpha\":{\"value\":0.5},\"hatch_color\":{\"value\":\"#228A8D\"},\"line_alpha\":{\"value\":0.5},\"line_color\":{\"value\":\"#228A8D\"},\"marker\":{\"value\":\"diamond\"},\"size\":{\"value\":10},\"x\":{\"field\":\"date_time\"},\"y\":{\"field\":\"y_index\"}},\"id\":\"1588\",\"type\":\"Scatter\"},{\"attributes\":{},\"id\":\"1759\",\"type\":\"UnionRenderers\"},{\"attributes\":{\"source\":{\"id\":\"1036\"}},\"id\":\"1634\",\"type\":\"CDSView\"},{\"attributes\":{\"fill_alpha\":{\"value\":0.2},\"fill_color\":{\"value\":\"#228A8D\"},\"hatch_alpha\":{\"value\":0.2},\"hatch_color\":{\"value\":\"#228A8D\"},\"line_alpha\":{\"value\":0.2},\"line_color\":{\"value\":\"#228A8D\"},\"marker\":{\"value\":\"diamond\"},\"size\":{\"value\":10},\"x\":{\"field\":\"date_time\"},\"y\":{\"field\":\"y_index\"}},\"id\":\"1590\",\"type\":\"Scatter\"},{\"attributes\":{},\"id\":\"1760\",\"type\":\"Selection\"},{\"attributes\":{\"fill_alpha\":{\"value\":0.5},\"fill_color\":{\"value\":\"#23A883\"},\"hatch_alpha\":{\"value\":0.5},\"hatch_color\":{\"value\":\"#23A883\"},\"line_alpha\":{\"value\":0.5},\"line_color\":{\"value\":\"#23A883\"},\"marker\":{\"value\":\"diamond\"},\"size\":{\"value\":10},\"x\":{\"field\":\"date_time\"},\"y\":{\"field\":\"y_index\"}},\"id\":\"1637\",\"type\":\"Scatter\"},{\"attributes\":{\"coordinates\":null,\"data_source\":{\"id\":\"1030\"},\"glyph\":{\"id\":\"1588\"},\"group\":null,\"hover_glyph\":null,\"muted_glyph\":{\"id\":\"1590\"},\"nonselection_glyph\":{\"id\":\"1589\"},\"view\":{\"id\":\"1592\"}},\"id\":\"1591\",\"type\":\"GlyphRenderer\"},{\"attributes\":{\"fill_alpha\":{\"value\":0.1},\"fill_color\":{\"value\":\"#208F8C\"},\"hatch_alpha\":{\"value\":0.1},\"hatch_color\":{\"value\":\"#208F8C\"},\"line_alpha\":{\"value\":0.1},\"line_color\":{\"value\":\"#208F8C\"},\"marker\":{\"value\":\"diamond\"},\"size\":{\"value\":10},\"x\":{\"field\":\"date_time\"},\"y\":{\"field\":\"y_index\"}},\"id\":\"1596\",\"type\":\"Scatter\"},{\"attributes\":{\"label\":{\"value\":\"u34\"},\"renderers\":[{\"id\":\"1591\"}]},\"id\":\"1593\",\"type\":\"LegendItem\"},{\"attributes\":{\"source\":{\"id\":\"1030\"}},\"id\":\"1592\",\"type\":\"CDSView\"},{\"attributes\":{\"fill_alpha\":{\"value\":0.5},\"fill_color\":{\"value\":\"#208F8C\"},\"hatch_alpha\":{\"value\":0.5},\"hatch_color\":{\"value\":\"#208F8C\"},\"line_alpha\":{\"value\":0.5},\"line_color\":{\"value\":\"#208F8C\"},\"marker\":{\"value\":\"diamond\"},\"size\":{\"value\":10},\"x\":{\"field\":\"date_time\"},\"y\":{\"field\":\"y_index\"}},\"id\":\"1595\",\"type\":\"Scatter\"},{\"attributes\":{\"label\":{\"value\":\"u43\"},\"renderers\":[{\"id\":\"1633\"}]},\"id\":\"1635\",\"type\":\"LegendItem\"},{\"attributes\":{\"fill_alpha\":{\"value\":0.2},\"fill_color\":{\"value\":\"#208F8C\"},\"hatch_alpha\":{\"value\":0.2},\"hatch_color\":{\"value\":\"#208F8C\"},\"line_alpha\":{\"value\":0.2},\"line_color\":{\"value\":\"#208F8C\"},\"marker\":{\"value\":\"diamond\"},\"size\":{\"value\":10},\"x\":{\"field\":\"date_time\"},\"y\":{\"field\":\"y_index\"}},\"id\":\"1597\",\"type\":\"Scatter\"},{\"attributes\":{\"coordinates\":null,\"data_source\":{\"id\":\"1031\"},\"glyph\":{\"id\":\"1595\"},\"group\":null,\"hover_glyph\":null,\"muted_glyph\":{\"id\":\"1597\"},\"nonselection_glyph\":{\"id\":\"1596\"},\"view\":{\"id\":\"1599\"}},\"id\":\"1598\",\"type\":\"GlyphRenderer\"},{\"attributes\":{\"fill_alpha\":{\"value\":0.1},\"fill_color\":{\"value\":\"#1F948B\"},\"hatch_alpha\":{\"value\":0.1},\"hatch_color\":{\"value\":\"#1F948B\"},\"line_alpha\":{\"value\":0.1},\"line_color\":{\"value\":\"#1F948B\"},\"marker\":{\"value\":\"diamond\"},\"size\":{\"value\":10},\"x\":{\"field\":\"date_time\"},\"y\":{\"field\":\"y_index\"}},\"id\":\"1603\",\"type\":\"Scatter\"},{\"attributes\":{\"label\":{\"value\":\"u35\"},\"renderers\":[{\"id\":\"1598\"}]},\"id\":\"1600\",\"type\":\"LegendItem\"},{\"attributes\":{},\"id\":\"1793\",\"type\":\"UnionRenderers\"},{\"attributes\":{\"source\":{\"id\":\"1031\"}},\"id\":\"1599\",\"type\":\"CDSView\"},{\"attributes\":{\"fill_alpha\":{\"value\":0.5},\"fill_color\":{\"value\":\"#1F948B\"},\"hatch_alpha\":{\"value\":0.5},\"hatch_color\":{\"value\":\"#1F948B\"},\"line_alpha\":{\"value\":0.5},\"line_color\":{\"value\":\"#1F948B\"},\"marker\":{\"value\":\"diamond\"},\"size\":{\"value\":10},\"x\":{\"field\":\"date_time\"},\"y\":{\"field\":\"y_index\"}},\"id\":\"1602\",\"type\":\"Scatter\"},{\"attributes\":{},\"id\":\"1794\",\"type\":\"Selection\"},{\"attributes\":{\"coordinates\":null,\"data_source\":{\"id\":\"1036\"},\"glyph\":{\"id\":\"1630\"},\"group\":null,\"hover_glyph\":null,\"muted_glyph\":{\"id\":\"1632\"},\"nonselection_glyph\":{\"id\":\"1631\"},\"view\":{\"id\":\"1634\"}},\"id\":\"1633\",\"type\":\"GlyphRenderer\"},{\"attributes\":{},\"id\":\"1761\",\"type\":\"UnionRenderers\"},{\"attributes\":{\"fill_alpha\":{\"value\":0.2},\"fill_color\":{\"value\":\"#1F948B\"},\"hatch_alpha\":{\"value\":0.2},\"hatch_color\":{\"value\":\"#1F948B\"},\"line_alpha\":{\"value\":0.2},\"line_color\":{\"value\":\"#1F948B\"},\"marker\":{\"value\":\"diamond\"},\"size\":{\"value\":10},\"x\":{\"field\":\"date_time\"},\"y\":{\"field\":\"y_index\"}},\"id\":\"1604\",\"type\":\"Scatter\"},{\"attributes\":{\"fill_alpha\":{\"value\":0.1},\"fill_color\":{\"value\":\"#23A883\"},\"hatch_alpha\":{\"value\":0.1},\"hatch_color\":{\"value\":\"#23A883\"},\"line_alpha\":{\"value\":0.1},\"line_color\":{\"value\":\"#23A883\"},\"marker\":{\"value\":\"diamond\"},\"size\":{\"value\":10},\"x\":{\"field\":\"date_time\"},\"y\":{\"field\":\"y_index\"}},\"id\":\"1638\",\"type\":\"Scatter\"},{\"attributes\":{},\"id\":\"1762\",\"type\":\"Selection\"},{\"attributes\":{\"coordinates\":null,\"data_source\":{\"id\":\"1032\"},\"glyph\":{\"id\":\"1602\"},\"group\":null,\"hover_glyph\":null,\"muted_glyph\":{\"id\":\"1604\"},\"nonselection_glyph\":{\"id\":\"1603\"},\"view\":{\"id\":\"1606\"}},\"id\":\"1605\",\"type\":\"GlyphRenderer\"},{\"attributes\":{\"fill_alpha\":{\"value\":0.1},\"fill_color\":{\"value\":\"#1E988A\"},\"hatch_alpha\":{\"value\":0.1},\"hatch_color\":{\"value\":\"#1E988A\"},\"line_alpha\":{\"value\":0.1},\"line_color\":{\"value\":\"#1E988A\"},\"marker\":{\"value\":\"diamond\"},\"size\":{\"value\":10},\"x\":{\"field\":\"date_time\"},\"y\":{\"field\":\"y_index\"}},\"id\":\"1610\",\"type\":\"Scatter\"},{\"attributes\":{\"label\":{\"value\":\"u36\"},\"renderers\":[{\"id\":\"1605\"}]},\"id\":\"1607\",\"type\":\"LegendItem\"},{\"attributes\":{\"source\":{\"id\":\"1032\"}},\"id\":\"1606\",\"type\":\"CDSView\"},{\"attributes\":{\"fill_alpha\":{\"value\":0.5},\"fill_color\":{\"value\":\"#1E988A\"},\"hatch_alpha\":{\"value\":0.5},\"hatch_color\":{\"value\":\"#1E988A\"},\"line_alpha\":{\"value\":0.5},\"line_color\":{\"value\":\"#1E988A\"},\"marker\":{\"value\":\"diamond\"},\"size\":{\"value\":10},\"x\":{\"field\":\"date_time\"},\"y\":{\"field\":\"y_index\"}},\"id\":\"1609\",\"type\":\"Scatter\"},{\"attributes\":{\"fill_alpha\":{\"value\":0.2},\"fill_color\":{\"value\":\"#20A585\"},\"hatch_alpha\":{\"value\":0.2},\"hatch_color\":{\"value\":\"#20A585\"},\"line_alpha\":{\"value\":0.2},\"line_color\":{\"value\":\"#20A585\"},\"marker\":{\"value\":\"diamond\"},\"size\":{\"value\":10},\"x\":{\"field\":\"date_time\"},\"y\":{\"field\":\"y_index\"}},\"id\":\"1632\",\"type\":\"Scatter\"},{\"attributes\":{\"fill_alpha\":{\"value\":0.2},\"fill_color\":{\"value\":\"#1E988A\"},\"hatch_alpha\":{\"value\":0.2},\"hatch_color\":{\"value\":\"#1E988A\"},\"line_alpha\":{\"value\":0.2},\"line_color\":{\"value\":\"#1E988A\"},\"marker\":{\"value\":\"diamond\"},\"size\":{\"value\":10},\"x\":{\"field\":\"date_time\"},\"y\":{\"field\":\"y_index\"}},\"id\":\"1611\",\"type\":\"Scatter\"},{\"attributes\":{\"click_policy\":\"hide\",\"coordinates\":null,\"group\":null,\"items\":[{\"id\":\"1733\"},{\"id\":\"1726\"},{\"id\":\"1719\"},{\"id\":\"1712\"},{\"id\":\"1705\"},{\"id\":\"1698\"},{\"id\":\"1691\"},{\"id\":\"1684\"},{\"id\":\"1677\"},{\"id\":\"1670\"},{\"id\":\"1663\"},{\"id\":\"1656\"},{\"id\":\"1649\"},{\"id\":\"1642\"},{\"id\":\"1635\"},{\"id\":\"1628\"},{\"id\":\"1621\"},{\"id\":\"1614\"},{\"id\":\"1607\"},{\"id\":\"1600\"},{\"id\":\"1593\"},{\"id\":\"1586\"},{\"id\":\"1579\"},{\"id\":\"1572\"},{\"id\":\"1565\"},{\"id\":\"1558\"},{\"id\":\"1551\"},{\"id\":\"1544\"},{\"id\":\"1537\"},{\"id\":\"1530\"},{\"id\":\"1523\"},{\"id\":\"1516\"},{\"id\":\"1509\"},{\"id\":\"1502\"},{\"id\":\"1495\"},{\"id\":\"1488\"},{\"id\":\"1481\"},{\"id\":\"1474\"},{\"id\":\"1467\"},{\"id\":\"1460\"},{\"id\":\"1453\"},{\"id\":\"1446\"},{\"id\":\"1439\"},{\"id\":\"1432\"},{\"id\":\"1425\"},{\"id\":\"1418\"},{\"id\":\"1411\"},{\"id\":\"1404\"}],\"label_text_font_size\":\"8pt\",\"location\":\"center\"},\"id\":\"1734\",\"type\":\"Legend\"},{\"attributes\":{\"coordinates\":null,\"data_source\":{\"id\":\"1033\"},\"glyph\":{\"id\":\"1609\"},\"group\":null,\"hover_glyph\":null,\"muted_glyph\":{\"id\":\"1611\"},\"nonselection_glyph\":{\"id\":\"1610\"},\"view\":{\"id\":\"1613\"}},\"id\":\"1612\",\"type\":\"GlyphRenderer\"},{\"attributes\":{\"fill_alpha\":{\"value\":0.1},\"fill_color\":{\"value\":\"#1E9C89\"},\"hatch_alpha\":{\"value\":0.1},\"hatch_color\":{\"value\":\"#1E9C89\"},\"line_alpha\":{\"value\":0.1},\"line_color\":{\"value\":\"#1E9C89\"},\"marker\":{\"value\":\"diamond\"},\"size\":{\"value\":10},\"x\":{\"field\":\"date_time\"},\"y\":{\"field\":\"y_index\"}},\"id\":\"1617\",\"type\":\"Scatter\"},{\"attributes\":{\"label\":{\"value\":\"u39\"},\"renderers\":[{\"id\":\"1612\"}]},\"id\":\"1614\",\"type\":\"LegendItem\"},{\"attributes\":{\"source\":{\"id\":\"1033\"}},\"id\":\"1613\",\"type\":\"CDSView\"},{\"attributes\":{},\"id\":\"1795\",\"type\":\"UnionRenderers\"},{\"attributes\":{\"fill_alpha\":{\"value\":0.5},\"fill_color\":{\"value\":\"#1E9C89\"},\"hatch_alpha\":{\"value\":0.5},\"hatch_color\":{\"value\":\"#1E9C89\"},\"line_alpha\":{\"value\":0.5},\"line_color\":{\"value\":\"#1E9C89\"},\"marker\":{\"value\":\"diamond\"},\"size\":{\"value\":10},\"x\":{\"field\":\"date_time\"},\"y\":{\"field\":\"y_index\"}},\"id\":\"1616\",\"type\":\"Scatter\"},{\"attributes\":{},\"id\":\"1796\",\"type\":\"Selection\"},{\"attributes\":{\"fill_alpha\":{\"value\":0.2},\"fill_color\":{\"value\":\"#1E9C89\"},\"hatch_alpha\":{\"value\":0.2},\"hatch_color\":{\"value\":\"#1E9C89\"},\"line_alpha\":{\"value\":0.2},\"line_color\":{\"value\":\"#1E9C89\"},\"marker\":{\"value\":\"diamond\"},\"size\":{\"value\":10},\"x\":{\"field\":\"date_time\"},\"y\":{\"field\":\"y_index\"}},\"id\":\"1618\",\"type\":\"Scatter\"},{\"attributes\":{},\"id\":\"1763\",\"type\":\"UnionRenderers\"},{\"attributes\":{\"coordinates\":null,\"data_source\":{\"id\":\"1034\"},\"glyph\":{\"id\":\"1616\"},\"group\":null,\"hover_glyph\":null,\"muted_glyph\":{\"id\":\"1618\"},\"nonselection_glyph\":{\"id\":\"1617\"},\"view\":{\"id\":\"1620\"}},\"id\":\"1619\",\"type\":\"GlyphRenderer\"},{\"attributes\":{},\"id\":\"1764\",\"type\":\"Selection\"},{\"attributes\":{\"fill_alpha\":{\"value\":0.1},\"fill_color\":{\"value\":\"#1EA087\"},\"hatch_alpha\":{\"value\":0.1},\"hatch_color\":{\"value\":\"#1EA087\"},\"line_alpha\":{\"value\":0.1},\"line_color\":{\"value\":\"#1EA087\"},\"marker\":{\"value\":\"diamond\"},\"size\":{\"value\":10},\"x\":{\"field\":\"date_time\"},\"y\":{\"field\":\"y_index\"}},\"id\":\"1624\",\"type\":\"Scatter\"},{\"attributes\":{\"label\":{\"value\":\"u41\"},\"renderers\":[{\"id\":\"1619\"}]},\"id\":\"1621\",\"type\":\"LegendItem\"},{\"attributes\":{\"source\":{\"id\":\"1034\"}},\"id\":\"1620\",\"type\":\"CDSView\"},{\"attributes\":{\"fill_alpha\":{\"value\":0.5},\"fill_color\":{\"value\":\"#1EA087\"},\"hatch_alpha\":{\"value\":0.5},\"hatch_color\":{\"value\":\"#1EA087\"},\"line_alpha\":{\"value\":0.5},\"line_color\":{\"value\":\"#1EA087\"},\"marker\":{\"value\":\"diamond\"},\"size\":{\"value\":10},\"x\":{\"field\":\"date_time\"},\"y\":{\"field\":\"y_index\"}},\"id\":\"1623\",\"type\":\"Scatter\"},{\"attributes\":{\"data\":{\"date_time\":{\"__ndarray__\":\"AAAqn5Pac0IAAEgbvdpzQgAAwh7H2nNCAACQE+bac0IAACiTGdtzQgAAlK1l23NCAACqr2vbc0IAANxEs9tzQgAAGP+823NCAABOnTPcc0IAANKbg9xzQgAA1BW83HNCAABgV9Dcc0IAAO5sDt1zQgAAWA0i3XNCAAA8uCndc0IAAADpYd1zQgAAflZ23XNCAACYrcjdc0IAAKiaJd5zQgAA6FZ03nNCAAC0vJzec0IAAOJItd5zQgAA8lG63nNCAADgDMbec0IAALqZ9d5zQgAAqnRI33NCAAD2MG3fc0IAAAIVm99zQgAAhDHt33NCAAAGTj/gc0IAAGgTVOBzQgAAxgaZ4HNCAABUHNfgc0IAAO6L3OBzQgAAVLv74HNCAAAsxwjhc0IAACYMUeFzQgAAgFBY4XNCAAAIwJzhc0IAAErGruFzQgAA8GX/4XNCAABWa6Lic0IAAAiOReNzQgAAsnQO5HNCAABQOWDkc0IAAPSAGeVzQgAABIM05XNCAADIDV7lc0IAAHiv3uVzQgAAXEUo5nNCAAAiUXTmc0IAAFj9vuZzQgAAhOUi53NCAABa+nPnc0IAAPRUu+dzQgAAXF/u53NCAAAang/oc0IAAKhuGuhzQgAAuMM86HNCAAAoA2Doc0IAAAoRnehzQgAAdMxn6XNCAADKKeHpc0IAAOKsCepzQgAAkmNI6nNCAAD0x4Hqc0IAAOQKmupzQgAAjtar6nNCAACCz+vqc0IAALYB/upzQgAAPI9E63NCAAAWAMzrc0IAAISw+OtzQgAAgm0f7HNCAAA+ykLsc0IAABi4TexzQgAAdCpw7HNCAAD2AY/sc0IAAKSRnOxzQgAActnC7HNCAADia+3sc0IAACRrFe1zQgAAztw17XNCAAAgOGrtc0IAAFLbhe1zQgAAUoGU7XNCAABuDeztc0IAAJLiAO9zQgAAyNN+73NCAACk4dDvc0I=\",\"dtype\":\"float64\",\"order\":\"little\",\"shape\":[91]},\"index\":[710,711,712,713,714,715,716,717,718,719,720,721,722,723,724,725,726,727,728,729,730,731,732,733,734,735,736,737,738,739,740,741,742,743,744,745,746,747,748,749,750,751,752,753,754,755,756,757,758,759,760,761,762,763,764,765,766,767,768,769,770,771,772,773,774,775,776,777,778,779,780,781,782,783,784,785,786,787,788,789,790,791,792,793,794,795,796,797,798,799,800],\"y_index\":[16,16,16,16,16,16,16,16,16,16,16,16,16,16,16,16,16,16,16,16,16,16,16,16,16,16,16,16,16,16,16,16,16,16,16,16,16,16,16,16,16,16,16,16,16,16,16,16,16,16,16,16,16,16,16,16,16,16,16,16,16,16,16,16,16,16,16,16,16,16,16,16,16,16,16,16,16,16,16,16,16,16,16,16,16,16,16,16,16,16,16]},\"selected\":{\"id\":\"1778\"},\"selection_policy\":{\"id\":\"1777\"}},\"id\":\"1019\",\"type\":\"ColumnDataSource\"},{\"attributes\":{\"fill_alpha\":{\"value\":0.2},\"fill_color\":{\"value\":\"#1EA087\"},\"hatch_alpha\":{\"value\":0.2},\"hatch_color\":{\"value\":\"#1EA087\"},\"line_alpha\":{\"value\":0.2},\"line_color\":{\"value\":\"#1EA087\"},\"marker\":{\"value\":\"diamond\"},\"size\":{\"value\":10},\"x\":{\"field\":\"date_time\"},\"y\":{\"field\":\"y_index\"}},\"id\":\"1625\",\"type\":\"Scatter\"},{\"attributes\":{\"fill_alpha\":{\"value\":0.5},\"fill_color\":{\"value\":\"#20A585\"},\"hatch_alpha\":{\"value\":0.5},\"hatch_color\":{\"value\":\"#20A585\"},\"line_alpha\":{\"value\":0.5},\"line_color\":{\"value\":\"#20A585\"},\"marker\":{\"value\":\"diamond\"},\"size\":{\"value\":10},\"x\":{\"field\":\"date_time\"},\"y\":{\"field\":\"y_index\"}},\"id\":\"1630\",\"type\":\"Scatter\"},{\"attributes\":{\"coordinates\":null,\"data_source\":{\"id\":\"1035\"},\"glyph\":{\"id\":\"1623\"},\"group\":null,\"hover_glyph\":null,\"muted_glyph\":{\"id\":\"1625\"},\"nonselection_glyph\":{\"id\":\"1624\"},\"view\":{\"id\":\"1627\"}},\"id\":\"1626\",\"type\":\"GlyphRenderer\"},{\"attributes\":{\"data\":{\"date_time\":{\"__ndarray__\":\"AAAMWsnac0IAAJphM9tzQgAArsZu23NCAAAqPNbcc0IAAJptJd1zQgAAvDDH3XNCAACsCxrec0IAAE5BYN5zQgAAgr6e33NC\",\"dtype\":\"float64\",\"order\":\"little\",\"shape\":[9]},\"index\":[801,803,804,805,806,807,808,809,810],\"y_index\":[17,17,17,17,17,17,17,17,17]},\"selected\":{\"id\":\"1780\"},\"selection_policy\":{\"id\":\"1779\"}},\"id\":\"1020\",\"type\":\"ColumnDataSource\"},{\"attributes\":{\"fill_alpha\":{\"value\":0.1},\"fill_color\":{\"value\":\"#20A585\"},\"hatch_alpha\":{\"value\":0.1},\"hatch_color\":{\"value\":\"#20A585\"},\"line_alpha\":{\"value\":0.1},\"line_color\":{\"value\":\"#20A585\"},\"marker\":{\"value\":\"diamond\"},\"size\":{\"value\":10},\"x\":{\"field\":\"date_time\"},\"y\":{\"field\":\"y_index\"}},\"id\":\"1631\",\"type\":\"Scatter\"},{\"attributes\":{\"label\":{\"value\":\"u42\"},\"renderers\":[{\"id\":\"1626\"}]},\"id\":\"1628\",\"type\":\"LegendItem\"},{\"attributes\":{\"source\":{\"id\":\"1035\"}},\"id\":\"1627\",\"type\":\"CDSView\"},{\"attributes\":{\"fill_alpha\":{\"value\":0.1},\"fill_color\":{\"value\":\"#2BB17D\"},\"hatch_alpha\":{\"value\":0.1},\"hatch_color\":{\"value\":\"#2BB17D\"},\"line_alpha\":{\"value\":0.1},\"line_color\":{\"value\":\"#2BB17D\"},\"marker\":{\"value\":\"diamond\"},\"size\":{\"value\":10},\"x\":{\"field\":\"date_time\"},\"y\":{\"field\":\"y_index\"}},\"id\":\"1652\",\"type\":\"Scatter\"},{\"attributes\":{},\"id\":\"1797\",\"type\":\"UnionRenderers\"},{\"attributes\":{\"label\":{\"value\":\"u45\"},\"renderers\":[{\"id\":\"1647\"}]},\"id\":\"1649\",\"type\":\"LegendItem\"},{\"attributes\":{},\"id\":\"1798\",\"type\":\"Selection\"},{\"attributes\":{\"source\":{\"id\":\"1038\"}},\"id\":\"1648\",\"type\":\"CDSView\"},{\"attributes\":{\"data\":{\"date_time\":{\"__ndarray__\":\"AADKdGfcc0IAAPRDbtxzQgAAXoOm3HNCAAAO9bHcc0IAAKi3vtxzQgAAFDrQ3HNCAABYfNHcc0IAAJ7z19xzQgAA6lz13HNCAAD87Qbdc0IAACy2Dt1zQgAAgKcj3XNCAADAF1Xdc0IAAKjZX91zQgAA1mxi3XNCAAAYc3Tdc0IAADpnfN1zQgAA2hug3XNCAAB6KrXdc0IAAPJLwd1zQgAAYj/H3XNCAADgBs3dc0IAAET6/N1zQgAA/EYH3nNCAABIXR3ec0IAAAZQId5zQgAA8iFF3nNCAADsdGHec0IAABItZd5zQgAApuic3nNCAABQYafec0IAAGTUtt5zQgAAdr+53nNCAACm097ec0IAAGiD9N5zQgAAVjcW33NCAABYC0Dfc0IAAErBpt9zQgAAFKas33NCAAA4bt7fc0IAAFLa7t9zQgAAdHQF4HNCAABcKDzgc0IAADL/Q+BzQgAApL+J4HNCAACIapHgc0IAAJqT3eBzQgAAJi/j4HNCAACK1vXgc0IAAMY9+OBzQgAAAFRN4XNCAADsLFvhc0IAAGrmjOFzQgAAdn6d4XNCAADKHKvhc0IAADqv1eFzQgAA5IDg4nNCAADkgODic0IAAOQKR+NzQgAAAMcT5HNCAAAEHGDkc0IAAOasGeVzQgAAaMlr5XNCAACuk3nlc0IAAIbdz+VzQgAANKsm5nNCAAAGqXTmc0IAADb68edzQgAAKMUW6HNCAAA0Vj3oc0IAAJrYY+hzQgAADKyF6nNCAACo9p7qc0IAACoZ6utzQgAAbuw77HNCAACuHTPtc0IAANZPb+1zQg==\",\"dtype\":\"float64\",\"order\":\"little\",\"shape\":[77]},\"index\":[1311,1312,1313,1314,1315,1316,1317,1318,1319,1320,1321,1322,1323,1324,1325,1326,1327,1328,1329,1330,1331,1332,1333,1334,1335,1336,1337,1338,1339,1340,1341,1342,1343,1344,1345,1346,1347,1348,1349,1350,1351,1352,1353,1354,1355,1356,1357,1358,1359,1360,1361,1362,1363,1364,1365,1366,1367,1368,1369,1370,1371,1372,1373,1374,1375,1376,1377,1378,1379,1380,1381,1382,1383,1384,1385,1386,1387],\"y_index\":[33,33,33,33,33,33,33,33,33,33,33,33,33,33,33,33,33,33,33,33,33,33,33,33,33,33,33,33,33,33,33,33,33,33,33,33,33,33,33,33,33,33,33,33,33,33,33,33,33,33,33,33,33,33,33,33,33,33,33,33,33,33,33,33,33,33,33,33,33,33,33,33,33,33,33,33,33]},\"selected\":{\"id\":\"1812\"},\"selection_policy\":{\"id\":\"1811\"}},\"id\":\"1036\",\"type\":\"ColumnDataSource\"},{\"attributes\":{\"fill_alpha\":{\"value\":0.5},\"fill_color\":{\"value\":\"#2BB17D\"},\"hatch_alpha\":{\"value\":0.5},\"hatch_color\":{\"value\":\"#2BB17D\"},\"line_alpha\":{\"value\":0.5},\"line_color\":{\"value\":\"#2BB17D\"},\"marker\":{\"value\":\"diamond\"},\"size\":{\"value\":10},\"x\":{\"field\":\"date_time\"},\"y\":{\"field\":\"y_index\"}},\"id\":\"1651\",\"type\":\"Scatter\"},{\"attributes\":{},\"id\":\"1765\",\"type\":\"UnionRenderers\"},{\"attributes\":{\"label\":{\"value\":\"u59\"},\"renderers\":[{\"id\":\"1731\"}]},\"id\":\"1733\",\"type\":\"LegendItem\"},{\"attributes\":{},\"id\":\"1766\",\"type\":\"Selection\"},{\"attributes\":{\"fill_alpha\":{\"value\":0.2},\"fill_color\":{\"value\":\"#2BB17D\"},\"hatch_alpha\":{\"value\":0.2},\"hatch_color\":{\"value\":\"#2BB17D\"},\"line_alpha\":{\"value\":0.2},\"line_color\":{\"value\":\"#2BB17D\"},\"marker\":{\"value\":\"diamond\"},\"size\":{\"value\":10},\"x\":{\"field\":\"date_time\"},\"y\":{\"field\":\"y_index\"}},\"id\":\"1653\",\"type\":\"Scatter\"},{\"attributes\":{\"coordinates\":null,\"data_source\":{\"id\":\"1039\"},\"glyph\":{\"id\":\"1651\"},\"group\":null,\"hover_glyph\":null,\"muted_glyph\":{\"id\":\"1653\"},\"nonselection_glyph\":{\"id\":\"1652\"},\"view\":{\"id\":\"1655\"}},\"id\":\"1654\",\"type\":\"GlyphRenderer\"},{\"attributes\":{\"fill_alpha\":{\"value\":0.1},\"fill_color\":{\"value\":\"#32B57A\"},\"hatch_alpha\":{\"value\":0.1},\"hatch_color\":{\"value\":\"#32B57A\"},\"line_alpha\":{\"value\":0.1},\"line_color\":{\"value\":\"#32B57A\"},\"marker\":{\"value\":\"diamond\"},\"size\":{\"value\":10},\"x\":{\"field\":\"date_time\"},\"y\":{\"field\":\"y_index\"}},\"id\":\"1659\",\"type\":\"Scatter\"},{\"attributes\":{\"label\":{\"value\":\"u46\"},\"renderers\":[{\"id\":\"1654\"}]},\"id\":\"1656\",\"type\":\"LegendItem\"},{\"attributes\":{\"source\":{\"id\":\"1039\"}},\"id\":\"1655\",\"type\":\"CDSView\"},{\"attributes\":{\"fill_alpha\":{\"value\":0.5},\"fill_color\":{\"value\":\"#32B57A\"},\"hatch_alpha\":{\"value\":0.5},\"hatch_color\":{\"value\":\"#32B57A\"},\"line_alpha\":{\"value\":0.5},\"line_color\":{\"value\":\"#32B57A\"},\"marker\":{\"value\":\"diamond\"},\"size\":{\"value\":10},\"x\":{\"field\":\"date_time\"},\"y\":{\"field\":\"y_index\"}},\"id\":\"1658\",\"type\":\"Scatter\"},{\"attributes\":{\"coordinates\":null,\"data_source\":{\"id\":\"1050\"},\"glyph\":{\"id\":\"1728\"},\"group\":null,\"hover_glyph\":null,\"muted_glyph\":{\"id\":\"1730\"},\"nonselection_glyph\":{\"id\":\"1729\"},\"view\":{\"id\":\"1732\"}},\"id\":\"1731\",\"type\":\"GlyphRenderer\"},{\"attributes\":{\"data\":{\"date_time\":{\"__ndarray__\":\"AACQx8jac0IAALJMIdtzQgAANrM223NCAABYpz7bc0IAABY5Z9tzQgAAmpiS23NCAAB6eLTbc0IAAJTd2ttzQgAASGbp23NCAAAEwwzcc0IAAAh5NNxzQgAAat1t3HNCAAA0s67dc0IAABZ8uN1zQgAA1knQ3XNCAABA1SXec0IAACagdN5zQgAA5DGd3nNCAABILLfec0IAAFpc7d5zQgAAzmb23nNCAAA85rzfc0IAAGR51N9zQgAAUFLi33NCAABkAzvgc0IAAL6aSeBzQgAADJNd4HNCAAD+EWXgc0IAAP4DkeBzQgAAfuvd4HNCAAAKt1jhc0IAAN7wleFzQgAASB8n5XNCAAC2Cdnpc0IAAMhphOpzQgAAYBJD63NCAADs8nvrc0IAALoe+utzQgAAbJuO7HNC\",\"dtype\":\"float64\",\"order\":\"little\",\"shape\":[39]},\"index\":[910,911,912,913,914,915,916,917,918,919,920,921,922,923,924,925,926,927,928,929,930,931,932,933,934,935,936,937,938,939,940,941,942,943,944,945,946,947,948],\"y_index\":[20,20,20,20,20,20,20,20,20,20,20,20,20,20,20,20,20,20,20,20,20,20,20,20,20,20,20,20,20,20,20,20,20,20,20,20,20,20,20]},\"selected\":{\"id\":\"1786\"},\"selection_policy\":{\"id\":\"1785\"}},\"id\":\"1023\",\"type\":\"ColumnDataSource\"},{\"attributes\":{\"fill_alpha\":{\"value\":0.2},\"fill_color\":{\"value\":\"#32B57A\"},\"hatch_alpha\":{\"value\":0.2},\"hatch_color\":{\"value\":\"#32B57A\"},\"line_alpha\":{\"value\":0.2},\"line_color\":{\"value\":\"#32B57A\"},\"marker\":{\"value\":\"diamond\"},\"size\":{\"value\":10},\"x\":{\"field\":\"date_time\"},\"y\":{\"field\":\"y_index\"}},\"id\":\"1660\",\"type\":\"Scatter\"},{\"attributes\":{\"coordinates\":null,\"data_source\":{\"id\":\"1040\"},\"glyph\":{\"id\":\"1658\"},\"group\":null,\"hover_glyph\":null,\"muted_glyph\":{\"id\":\"1660\"},\"nonselection_glyph\":{\"id\":\"1659\"},\"view\":{\"id\":\"1662\"}},\"id\":\"1661\",\"type\":\"GlyphRenderer\"},{\"attributes\":{\"fill_alpha\":{\"value\":0.1},\"fill_color\":{\"value\":\"#39B976\"},\"hatch_alpha\":{\"value\":0.1},\"hatch_color\":{\"value\":\"#39B976\"},\"line_alpha\":{\"value\":0.1},\"line_color\":{\"value\":\"#39B976\"},\"marker\":{\"value\":\"diamond\"},\"size\":{\"value\":10},\"x\":{\"field\":\"date_time\"},\"y\":{\"field\":\"y_index\"}},\"id\":\"1666\",\"type\":\"Scatter\"},{\"attributes\":{\"label\":{\"value\":\"u47\"},\"renderers\":[{\"id\":\"1661\"}]},\"id\":\"1663\",\"type\":\"LegendItem\"},{\"attributes\":{},\"id\":\"1799\",\"type\":\"UnionRenderers\"},{\"attributes\":{\"source\":{\"id\":\"1040\"}},\"id\":\"1662\",\"type\":\"CDSView\"},{\"attributes\":{},\"id\":\"1800\",\"type\":\"Selection\"},{\"attributes\":{\"data\":{\"date_time\":{\"__ndarray__\":\"AADqErrac0IAACqRv9pzQgAAiOzJ2nNCAAD4yhHbc0IAAIpfGNtzQgAAAhJ123NCAAAKK73bc0IAABZp3NtzQg==\",\"dtype\":\"float64\",\"order\":\"little\",\"shape\":[8]},\"index\":[208,209,210,211,212,213,214,215],\"y_index\":[5,5,5,5,5,5,5,5]},\"selected\":{\"id\":\"1756\"},\"selection_policy\":{\"id\":\"1755\"}},\"id\":\"1008\",\"type\":\"ColumnDataSource\"},{\"attributes\":{\"fill_alpha\":{\"value\":0.5},\"fill_color\":{\"value\":\"#39B976\"},\"hatch_alpha\":{\"value\":0.5},\"hatch_color\":{\"value\":\"#39B976\"},\"line_alpha\":{\"value\":0.5},\"line_color\":{\"value\":\"#39B976\"},\"marker\":{\"value\":\"diamond\"},\"size\":{\"value\":10},\"x\":{\"field\":\"date_time\"},\"y\":{\"field\":\"y_index\"}},\"id\":\"1665\",\"type\":\"Scatter\"},{\"attributes\":{},\"id\":\"1767\",\"type\":\"UnionRenderers\"},{\"attributes\":{\"fill_alpha\":{\"value\":0.2},\"fill_color\":{\"value\":\"#92D741\"},\"hatch_alpha\":{\"value\":0.2},\"hatch_color\":{\"value\":\"#92D741\"},\"line_alpha\":{\"value\":0.2},\"line_color\":{\"value\":\"#92D741\"},\"marker\":{\"value\":\"diamond\"},\"size\":{\"value\":10},\"x\":{\"field\":\"date_time\"},\"y\":{\"field\":\"y_index\"}},\"id\":\"1730\",\"type\":\"Scatter\"},{\"attributes\":{\"fill_alpha\":{\"value\":0.2},\"fill_color\":{\"value\":\"#39B976\"},\"hatch_alpha\":{\"value\":0.2},\"hatch_color\":{\"value\":\"#39B976\"},\"line_alpha\":{\"value\":0.2},\"line_color\":{\"value\":\"#39B976\"},\"marker\":{\"value\":\"diamond\"},\"size\":{\"value\":10},\"x\":{\"field\":\"date_time\"},\"y\":{\"field\":\"y_index\"}},\"id\":\"1667\",\"type\":\"Scatter\"},{\"attributes\":{},\"id\":\"1768\",\"type\":\"Selection\"},{\"attributes\":{},\"id\":\"1739\",\"type\":\"BasicTickFormatter\"},{\"attributes\":{\"coordinates\":null,\"data_source\":{\"id\":\"1041\"},\"glyph\":{\"id\":\"1665\"},\"group\":null,\"hover_glyph\":null,\"muted_glyph\":{\"id\":\"1667\"},\"nonselection_glyph\":{\"id\":\"1666\"},\"view\":{\"id\":\"1669\"}},\"id\":\"1668\",\"type\":\"GlyphRenderer\"},{\"attributes\":{\"fill_alpha\":{\"value\":0.1},\"fill_color\":{\"value\":\"#40BD72\"},\"hatch_alpha\":{\"value\":0.1},\"hatch_color\":{\"value\":\"#40BD72\"},\"line_alpha\":{\"value\":0.1},\"line_color\":{\"value\":\"#40BD72\"},\"marker\":{\"value\":\"diamond\"},\"size\":{\"value\":10},\"x\":{\"field\":\"date_time\"},\"y\":{\"field\":\"y_index\"}},\"id\":\"1673\",\"type\":\"Scatter\"},{\"attributes\":{\"label\":{\"value\":\"u49\"},\"renderers\":[{\"id\":\"1668\"}]},\"id\":\"1670\",\"type\":\"LegendItem\"},{\"attributes\":{\"source\":{\"id\":\"1041\"}},\"id\":\"1669\",\"type\":\"CDSView\"},{\"attributes\":{\"fill_alpha\":{\"value\":0.5},\"fill_color\":{\"value\":\"#40BD72\"},\"hatch_alpha\":{\"value\":0.5},\"hatch_color\":{\"value\":\"#40BD72\"},\"line_alpha\":{\"value\":0.5},\"line_color\":{\"value\":\"#40BD72\"},\"marker\":{\"value\":\"diamond\"},\"size\":{\"value\":10},\"x\":{\"field\":\"date_time\"},\"y\":{\"field\":\"y_index\"}},\"id\":\"1672\",\"type\":\"Scatter\"},{\"attributes\":{\"fill_alpha\":{\"value\":0.2},\"fill_color\":{\"value\":\"#40BD72\"},\"hatch_alpha\":{\"value\":0.2},\"hatch_color\":{\"value\":\"#40BD72\"},\"line_alpha\":{\"value\":0.2},\"line_color\":{\"value\":\"#40BD72\"},\"marker\":{\"value\":\"diamond\"},\"size\":{\"value\":10},\"x\":{\"field\":\"date_time\"},\"y\":{\"field\":\"y_index\"}},\"id\":\"1674\",\"type\":\"Scatter\"},{\"attributes\":{\"coordinates\":null,\"data_source\":{\"id\":\"1042\"},\"glyph\":{\"id\":\"1672\"},\"group\":null,\"hover_glyph\":null,\"muted_glyph\":{\"id\":\"1674\"},\"nonselection_glyph\":{\"id\":\"1673\"},\"view\":{\"id\":\"1676\"}},\"id\":\"1675\",\"type\":\"GlyphRenderer\"},{\"attributes\":{\"fill_alpha\":{\"value\":0.1},\"fill_color\":{\"value\":\"#49C16D\"},\"hatch_alpha\":{\"value\":0.1},\"hatch_color\":{\"value\":\"#49C16D\"},\"line_alpha\":{\"value\":0.1},\"line_color\":{\"value\":\"#49C16D\"},\"marker\":{\"value\":\"diamond\"},\"size\":{\"value\":10},\"x\":{\"field\":\"date_time\"},\"y\":{\"field\":\"y_index\"}},\"id\":\"1680\",\"type\":\"Scatter\"},{\"attributes\":{\"label\":{\"value\":\"u50\"},\"renderers\":[{\"id\":\"1675\"}]},\"id\":\"1677\",\"type\":\"LegendItem\"},{\"attributes\":{\"data\":{\"date_time\":{\"__ndarray__\":\"AAAkPs3ac0IAADBuGNtzQgAAkOlp23NCAABum3Dbc0IAANgtsNtzQgAAap8k3HNCAABYByncc0IAAGDUU9xzQgAA0FHA3HNCAADeHtbcc0IAAFgNIt1zQgAA+uh23XNCAAACr7fdc0IAANb2yN1zQgAAANqc3nNCAAAczrnec0IAAMSv8t9zQgAAnMji4HNCAACg2Pvgc0IAAHo7r+FzQg==\",\"dtype\":\"float64\",\"order\":\"little\",\"shape\":[20]},\"index\":[949,950,951,952,953,954,955,956,957,958,959,960,961,962,963,964,965,966,967,968],\"y_index\":[21,21,21,21,21,21,21,21,21,21,21,21,21,21,21,21,21,21,21,21]},\"selected\":{\"id\":\"1788\"},\"selection_policy\":{\"id\":\"1787\"}},\"id\":\"1024\",\"type\":\"ColumnDataSource\"},{\"attributes\":{},\"id\":\"1801\",\"type\":\"UnionRenderers\"},{\"attributes\":{\"source\":{\"id\":\"1042\"}},\"id\":\"1676\",\"type\":\"CDSView\"},{\"attributes\":{\"fill_alpha\":{\"value\":0.5},\"fill_color\":{\"value\":\"#49C16D\"},\"hatch_alpha\":{\"value\":0.5},\"hatch_color\":{\"value\":\"#49C16D\"},\"line_alpha\":{\"value\":0.5},\"line_color\":{\"value\":\"#49C16D\"},\"marker\":{\"value\":\"diamond\"},\"size\":{\"value\":10},\"x\":{\"field\":\"date_time\"},\"y\":{\"field\":\"y_index\"}},\"id\":\"1679\",\"type\":\"Scatter\"},{\"attributes\":{},\"id\":\"1802\",\"type\":\"Selection\"},{\"attributes\":{\"source\":{\"id\":\"1049\"}},\"id\":\"1725\",\"type\":\"CDSView\"},{\"attributes\":{},\"id\":\"1769\",\"type\":\"UnionRenderers\"},{\"attributes\":{\"fill_alpha\":{\"value\":0.2},\"fill_color\":{\"value\":\"#49C16D\"},\"hatch_alpha\":{\"value\":0.2},\"hatch_color\":{\"value\":\"#49C16D\"},\"line_alpha\":{\"value\":0.2},\"line_color\":{\"value\":\"#49C16D\"},\"marker\":{\"value\":\"diamond\"},\"size\":{\"value\":10},\"x\":{\"field\":\"date_time\"},\"y\":{\"field\":\"y_index\"}},\"id\":\"1681\",\"type\":\"Scatter\"},{\"attributes\":{\"fill_alpha\":{\"value\":0.5},\"fill_color\":{\"value\":\"#92D741\"},\"hatch_alpha\":{\"value\":0.5},\"hatch_color\":{\"value\":\"#92D741\"},\"line_alpha\":{\"value\":0.5},\"line_color\":{\"value\":\"#92D741\"},\"marker\":{\"value\":\"diamond\"},\"size\":{\"value\":10},\"x\":{\"field\":\"date_time\"},\"y\":{\"field\":\"y_index\"}},\"id\":\"1728\",\"type\":\"Scatter\"},{\"attributes\":{},\"id\":\"1770\",\"type\":\"Selection\"},{\"attributes\":{\"coordinates\":null,\"data_source\":{\"id\":\"1043\"},\"glyph\":{\"id\":\"1679\"},\"group\":null,\"hover_glyph\":null,\"muted_glyph\":{\"id\":\"1681\"},\"nonselection_glyph\":{\"id\":\"1680\"},\"view\":{\"id\":\"1683\"}},\"id\":\"1682\",\"type\":\"GlyphRenderer\"},{\"attributes\":{\"fill_alpha\":{\"value\":0.1},\"fill_color\":{\"value\":\"#51C468\"},\"hatch_alpha\":{\"value\":0.1},\"hatch_color\":{\"value\":\"#51C468\"},\"line_alpha\":{\"value\":0.1},\"line_color\":{\"value\":\"#51C468\"},\"marker\":{\"value\":\"diamond\"},\"size\":{\"value\":10},\"x\":{\"field\":\"date_time\"},\"y\":{\"field\":\"y_index\"}},\"id\":\"1687\",\"type\":\"Scatter\"},{\"attributes\":{\"label\":{\"value\":\"u51\"},\"renderers\":[{\"id\":\"1682\"}]},\"id\":\"1684\",\"type\":\"LegendItem\"},{\"attributes\":{\"source\":{\"id\":\"1043\"}},\"id\":\"1683\",\"type\":\"CDSView\"},{\"attributes\":{\"fill_alpha\":{\"value\":0.5},\"fill_color\":{\"value\":\"#51C468\"},\"hatch_alpha\":{\"value\":0.5},\"hatch_color\":{\"value\":\"#51C468\"},\"line_alpha\":{\"value\":0.5},\"line_color\":{\"value\":\"#51C468\"},\"marker\":{\"value\":\"diamond\"},\"size\":{\"value\":10},\"x\":{\"field\":\"date_time\"},\"y\":{\"field\":\"y_index\"}},\"id\":\"1686\",\"type\":\"Scatter\"},{\"attributes\":{\"label\":{\"value\":\"u58\"},\"renderers\":[{\"id\":\"1724\"}]},\"id\":\"1726\",\"type\":\"LegendItem\"},{\"attributes\":{\"fill_alpha\":{\"value\":0.2},\"fill_color\":{\"value\":\"#51C468\"},\"hatch_alpha\":{\"value\":0.2},\"hatch_color\":{\"value\":\"#51C468\"},\"line_alpha\":{\"value\":0.2},\"line_color\":{\"value\":\"#51C468\"},\"marker\":{\"value\":\"diamond\"},\"size\":{\"value\":10},\"x\":{\"field\":\"date_time\"},\"y\":{\"field\":\"y_index\"}},\"id\":\"1688\",\"type\":\"Scatter\"},{\"attributes\":{\"coordinates\":null,\"data_source\":{\"id\":\"1044\"},\"glyph\":{\"id\":\"1686\"},\"group\":null,\"hover_glyph\":null,\"muted_glyph\":{\"id\":\"1688\"},\"nonselection_glyph\":{\"id\":\"1687\"},\"view\":{\"id\":\"1690\"}},\"id\":\"1689\",\"type\":\"GlyphRenderer\"},{\"attributes\":{\"fill_alpha\":{\"value\":0.1},\"fill_color\":{\"value\":\"#5BC862\"},\"hatch_alpha\":{\"value\":0.1},\"hatch_color\":{\"value\":\"#5BC862\"},\"line_alpha\":{\"value\":0.1},\"line_color\":{\"value\":\"#5BC862\"},\"marker\":{\"value\":\"diamond\"},\"size\":{\"value\":10},\"x\":{\"field\":\"date_time\"},\"y\":{\"field\":\"y_index\"}},\"id\":\"1694\",\"type\":\"Scatter\"},{\"attributes\":{\"label\":{\"value\":\"u52\"},\"renderers\":[{\"id\":\"1689\"}]},\"id\":\"1691\",\"type\":\"LegendItem\"},{\"attributes\":{\"source\":{\"id\":\"1044\"}},\"id\":\"1690\",\"type\":\"CDSView\"},{\"attributes\":{},\"id\":\"1803\",\"type\":\"UnionRenderers\"},{\"attributes\":{\"fill_alpha\":{\"value\":0.5},\"fill_color\":{\"value\":\"#5BC862\"},\"hatch_alpha\":{\"value\":0.5},\"hatch_color\":{\"value\":\"#5BC862\"},\"line_alpha\":{\"value\":0.5},\"line_color\":{\"value\":\"#5BC862\"},\"marker\":{\"value\":\"diamond\"},\"size\":{\"value\":10},\"x\":{\"field\":\"date_time\"},\"y\":{\"field\":\"y_index\"}},\"id\":\"1693\",\"type\":\"Scatter\"},{\"attributes\":{},\"id\":\"1804\",\"type\":\"Selection\"},{\"attributes\":{\"coordinates\":null,\"data_source\":{\"id\":\"1049\"},\"glyph\":{\"id\":\"1721\"},\"group\":null,\"hover_glyph\":null,\"muted_glyph\":{\"id\":\"1723\"},\"nonselection_glyph\":{\"id\":\"1722\"},\"view\":{\"id\":\"1725\"}},\"id\":\"1724\",\"type\":\"GlyphRenderer\"},{\"attributes\":{\"fill_alpha\":{\"value\":0.2},\"fill_color\":{\"value\":\"#5BC862\"},\"hatch_alpha\":{\"value\":0.2},\"hatch_color\":{\"value\":\"#5BC862\"},\"line_alpha\":{\"value\":0.2},\"line_color\":{\"value\":\"#5BC862\"},\"marker\":{\"value\":\"diamond\"},\"size\":{\"value\":10},\"x\":{\"field\":\"date_time\"},\"y\":{\"field\":\"y_index\"}},\"id\":\"1695\",\"type\":\"Scatter\"},{\"attributes\":{},\"id\":\"1771\",\"type\":\"UnionRenderers\"},{\"attributes\":{\"data\":{\"date_time\":{\"__ndarray__\":\"AADGcxPbc0IAAMZzE9tzQgAAGgs323NCAADMUGzbc0IAAJ6hwdtzQgAAKA673HNCAAB8/8/cc0IAAAoVDt1zQgAAqNlf3XNCAADQEobdc0IAAPDQl95zQgAApDYU33NCAADU2pjgc0IAANzz4OBzQgAAiPT34HNCAADOvgXhc0IAAI4kWOFzQgAACMCc4XNCAACoe6rhc0IAAPxl1eFzQgAARusS5HNCAABq/2Hkc0IAAKhjGeVzQgAAJqXP53NCAABQ/jzoc0I=\",\"dtype\":\"float64\",\"order\":\"little\",\"shape\":[25]},\"index\":[969,970,971,972,973,974,975,976,977,978,979,980,981,982,983,984,985,986,987,988,989,990,991,992,993],\"y_index\":[22,22,22,22,22,22,22,22,22,22,22,22,22,22,22,22,22,22,22,22,22,22,22,22,22]},\"selected\":{\"id\":\"1790\"},\"selection_policy\":{\"id\":\"1789\"}},\"id\":\"1025\",\"type\":\"ColumnDataSource\"},{\"attributes\":{\"fill_alpha\":{\"value\":0.1},\"fill_color\":{\"value\":\"#92D741\"},\"hatch_alpha\":{\"value\":0.1},\"hatch_color\":{\"value\":\"#92D741\"},\"line_alpha\":{\"value\":0.1},\"line_color\":{\"value\":\"#92D741\"},\"marker\":{\"value\":\"diamond\"},\"size\":{\"value\":10},\"x\":{\"field\":\"date_time\"},\"y\":{\"field\":\"y_index\"}},\"id\":\"1729\",\"type\":\"Scatter\"},{\"attributes\":{\"coordinates\":null,\"data_source\":{\"id\":\"1045\"},\"glyph\":{\"id\":\"1693\"},\"group\":null,\"hover_glyph\":null,\"muted_glyph\":{\"id\":\"1695\"},\"nonselection_glyph\":{\"id\":\"1694\"},\"view\":{\"id\":\"1697\"}},\"id\":\"1696\",\"type\":\"GlyphRenderer\"},{\"attributes\":{},\"id\":\"1772\",\"type\":\"Selection\"},{\"attributes\":{\"fill_alpha\":{\"value\":0.1},\"fill_color\":{\"value\":\"#64CB5D\"},\"hatch_alpha\":{\"value\":0.1},\"hatch_color\":{\"value\":\"#64CB5D\"},\"line_alpha\":{\"value\":0.1},\"line_color\":{\"value\":\"#64CB5D\"},\"marker\":{\"value\":\"diamond\"},\"size\":{\"value\":10},\"x\":{\"field\":\"date_time\"},\"y\":{\"field\":\"y_index\"}},\"id\":\"1701\",\"type\":\"Scatter\"},{\"attributes\":{\"label\":{\"value\":\"u53\"},\"renderers\":[{\"id\":\"1696\"}]},\"id\":\"1698\",\"type\":\"LegendItem\"},{\"attributes\":{\"data\":{\"date_time\":{\"__ndarray__\":\"AAAMZrvcc0IAAEqo0dxzQgAAOooO3XNCAAAaHhPdc0IAAHquIt1zQgAAfC9F3XNCAAAwZUzdc0IAAPSjWN1zQgAAwp9h3XNCAAAW62fdc0IAAFa8dN1zQgAAVluZ3XNCAADGk9Ldc0IAAFzl6t1zQgAAXMlC3nNCAAAOaWnec0IAAFhDkN5zQgAAng2e3nNCAADkfbrec0IAANoTxd5zQgAAzIvi3nNCAAAMsPbec0IAAHw7N99zQgAAjOpK33NCAACCxYjfc0IAAGThmd9zQgAARkLe33NCAABsoPDfc0IAAO7DLOBzQgAA5Fk34HNCAACgvUTgc0IAAHwXtOBzQgAARvXP4HNCAAAk8/Pgc0IAAMw2+eBzQgAAkMEi4XNCAACa88fhc0IAAKxhR+JzQgAAzqFs4nNCAADmFsHic0IAAL4NEONzQgAAgutA43NCAAA4T2Pjc0IAAHZ10eNzQgAA9mMI5HNCAADEnVrkc0IAAAQcYORzQgAADIiv5HNCAAC81ijlc0IAAAiTTeVzQgAAVjFw5XNCAAD6sHnlc0IAACjjoOVzQgAAWOnx5XNCAACSYCLmc0IAAOoOSeZzQgAATGyY5nNCAADyXvDmc0IAAGTFROdzQgAABHpo53NCAACEaJ/nc0IAAIi96+dzQgAAanE36HNCAACq7zzoc0IAANr1jehzQgAAfAFY6XNCAAAONYPpc0IAALLy1elzQgAAan0p6nNCAAAyeUfqc0IAAO57eepzQgAAlhKG6nNCAADy3pnqc0IAAJZQz+pzQgAAzvPV6nNCAAAYbSHrc0IAAECYc+tzQgAAOKHM63NCAABwLxXsc0IAACzfP+xzQgAAJJWR7HNCAADmPb3sc0IAAH4JDu1zQgAAyNVg7XNCAAA4fFjuc0IAAGoQr+9zQg==\",\"dtype\":\"float64\",\"order\":\"little\",\"shape\":[86]},\"index\":[1388,1389,1390,1391,1392,1393,1394,1395,1396,1397,1398,1399,1400,1401,1402,1403,1404,1405,1406,1407,1408,1409,1410,1411,1412,1413,1414,1415,1416,1417,1418,1419,1420,1421,1422,1423,1424,1425,1426,1427,1428,1429,1430,1431,1432,1433,1434,1435,1436,1437,1438,1439,1440,1441,1442,1443,1444,1445,1446,1447,1448,1449,1451,1452,1453,1454,1455,1456,1457,1458,1459,1460,1461,1462,1463,1464,1465,1466,1467,1468,1469,1470,1471,1472,1473,1474],\"y_index\":[34,34,34,34,34,34,34,34,34,34,34,34,34,34,34,34,34,34,34,34,34,34,34,34,34,34,34,34,34,34,34,34,34,34,34,34,34,34,34,34,34,34,34,34,34,34,34,34,34,34,34,34,34,34,34,34,34,34,34,34,34,34,34,34,34,34,34,34,34,34,34,34,34,34,34,34,34,34,34,34,34,34,34,34,34,34]},\"selected\":{\"id\":\"1814\"},\"selection_policy\":{\"id\":\"1813\"}},\"id\":\"1037\",\"type\":\"ColumnDataSource\"},{\"attributes\":{\"source\":{\"id\":\"1045\"}},\"id\":\"1697\",\"type\":\"CDSView\"},{\"attributes\":{\"fill_alpha\":{\"value\":0.5},\"fill_color\":{\"value\":\"#64CB5D\"},\"hatch_alpha\":{\"value\":0.5},\"hatch_color\":{\"value\":\"#64CB5D\"},\"line_alpha\":{\"value\":0.5},\"line_color\":{\"value\":\"#64CB5D\"},\"marker\":{\"value\":\"diamond\"},\"size\":{\"value\":10},\"x\":{\"field\":\"date_time\"},\"y\":{\"field\":\"y_index\"}},\"id\":\"1700\",\"type\":\"Scatter\"},{\"attributes\":{\"fill_alpha\":{\"value\":0.2},\"fill_color\":{\"value\":\"#86D449\"},\"hatch_alpha\":{\"value\":0.2},\"hatch_color\":{\"value\":\"#86D449\"},\"line_alpha\":{\"value\":0.2},\"line_color\":{\"value\":\"#86D449\"},\"marker\":{\"value\":\"diamond\"},\"size\":{\"value\":10},\"x\":{\"field\":\"date_time\"},\"y\":{\"field\":\"y_index\"}},\"id\":\"1723\",\"type\":\"Scatter\"},{\"attributes\":{\"fill_alpha\":{\"value\":0.2},\"fill_color\":{\"value\":\"#64CB5D\"},\"hatch_alpha\":{\"value\":0.2},\"hatch_color\":{\"value\":\"#64CB5D\"},\"line_alpha\":{\"value\":0.2},\"line_color\":{\"value\":\"#64CB5D\"},\"marker\":{\"value\":\"diamond\"},\"size\":{\"value\":10},\"x\":{\"field\":\"date_time\"},\"y\":{\"field\":\"y_index\"}},\"id\":\"1702\",\"type\":\"Scatter\"},{\"attributes\":{\"coordinates\":null,\"data_source\":{\"id\":\"1046\"},\"glyph\":{\"id\":\"1700\"},\"group\":null,\"hover_glyph\":null,\"muted_glyph\":{\"id\":\"1702\"},\"nonselection_glyph\":{\"id\":\"1701\"},\"view\":{\"id\":\"1704\"}},\"id\":\"1703\",\"type\":\"GlyphRenderer\"},{\"attributes\":{\"data\":{\"date_time\":{\"__ndarray__\":\"AABEOxnbc0IAANQra9tzQgAA7oK923NCAADYZA/cc0IAAJZCVdxzQgAAfFnB3HNCAADIHNDcc0IAAFgNIt1zQgAAVNp23XNCAACO97Xdc0IAAIrZyN1zQgAAuOhd3nNCAACg75vec0IAADpYt95zQgAAck7F3nNCAACscu7ec0IAAJj49N5zQgAAGEgH33NCAABubiHfc0IAAFheR99zQgAAhA9M33NCAAC2DFnfc0IAAL7Smd9zQgAAdnKr33NCAAB63LXfc0IAAP7h799zQgAApIFA4HNCAABY9ZDgc0IAAAhS3uBzQgAAJs4H4XNCAADuaErhc0IAAORRXOFzQgAACMCc4XNCAACoe6rhc0IAAJKbReJzQgAAqGMZ5XNCAABIHyflc0IAAMgNXuVzQgAAaMlr5XNCAAAS6ITlc0IAAKoiheVzQgAAooXP5XNCAAAAHyPmc0IAAPyeaedzQgAA9onA53NCAABYm/Lnc0IAAOQvDuhzQgAAqkJE6HNCAAAYBk3qc0IAAE65gepzQgAABkTV6nNCAAAIA0Hrc0IAAGCqfetzQgAA5kWY63NCAADUYI7sc0IAAAgPM+1zQgAAPDNx7XNCAACwuBvvc0I=\",\"dtype\":\"float64\",\"order\":\"little\",\"shape\":[58]},\"index\":[1102,1103,1104,1105,1106,1107,1108,1109,1110,1111,1112,1113,1114,1115,1116,1117,1118,1119,1120,1121,1122,1123,1124,1125,1126,1127,1128,1129,1130,1131,1132,1133,1134,1135,1136,1137,1138,1139,1140,1141,1142,1143,1144,1145,1146,1147,1148,1149,1150,1151,1152,1153,1154,1155,1156,1157,1158,1159],\"y_index\":[26,26,26,26,26,26,26,26,26,26,26,26,26,26,26,26,26,26,26,26,26,26,26,26,26,26,26,26,26,26,26,26,26,26,26,26,26,26,26,26,26,26,26,26,26,26,26,26,26,26,26,26,26,26,26,26,26,26]},\"selected\":{\"id\":\"1798\"},\"selection_policy\":{\"id\":\"1797\"}},\"id\":\"1029\",\"type\":\"ColumnDataSource\"},{\"attributes\":{\"fill_alpha\":{\"value\":0.1},\"fill_color\":{\"value\":\"#70CE56\"},\"hatch_alpha\":{\"value\":0.1},\"hatch_color\":{\"value\":\"#70CE56\"},\"line_alpha\":{\"value\":0.1},\"line_color\":{\"value\":\"#70CE56\"},\"marker\":{\"value\":\"diamond\"},\"size\":{\"value\":10},\"x\":{\"field\":\"date_time\"},\"y\":{\"field\":\"y_index\"}},\"id\":\"1708\",\"type\":\"Scatter\"},{\"attributes\":{\"label\":{\"value\":\"u54\"},\"renderers\":[{\"id\":\"1703\"}]},\"id\":\"1705\",\"type\":\"LegendItem\"},{\"attributes\":{\"source\":{\"id\":\"1046\"}},\"id\":\"1704\",\"type\":\"CDSView\"},{\"attributes\":{\"fill_alpha\":{\"value\":0.5},\"fill_color\":{\"value\":\"#70CE56\"},\"hatch_alpha\":{\"value\":0.5},\"hatch_color\":{\"value\":\"#70CE56\"},\"line_alpha\":{\"value\":0.5},\"line_color\":{\"value\":\"#70CE56\"},\"marker\":{\"value\":\"diamond\"},\"size\":{\"value\":10},\"x\":{\"field\":\"date_time\"},\"y\":{\"field\":\"y_index\"}},\"id\":\"1707\",\"type\":\"Scatter\"},{\"attributes\":{},\"id\":\"1805\",\"type\":\"UnionRenderers\"},{\"attributes\":{\"data\":{\"date_time\":{\"__ndarray__\":\"AAAKryrbc0IAAAqvKttzQgAAmHFh23NCAACktmrbc0IAAJgXcNtzQgAAogTi23NCAAC+Swbcc0IAAMgO/NxzQgAA/tX93XNCAAD+1f3dc0IAAP7V/d1zQgAApOT93XNCAABSbSHec0IAAAiSCd9zQgAAMHE+33NCAAAYxJnfc0IAAGJ0ROBzQgAA5Dal4HNCAAAa3AXhc0IAAEhaSuFzQgAAcsh14XNCAABMTrvhc0IAAMjS5+FzQgAArtt/4nNCAADo6uric0IAAO6W3eNzQgAAUDlg5HNCAACePlflc0IAAOY8eeZzQg==\",\"dtype\":\"float64\",\"order\":\"little\",\"shape\":[29]},\"index\":[994,995,996,997,998,999,1000,1001,1002,1003,1004,1006,1007,1008,1009,1010,1011,1012,1013,1014,1015,1016,1017,1018,1019,1020,1021,1022,1023],\"y_index\":[23,23,23,23,23,23,23,23,23,23,23,23,23,23,23,23,23,23,23,23,23,23,23,23,23,23,23,23,23]},\"selected\":{\"id\":\"1792\"},\"selection_policy\":{\"id\":\"1791\"}},\"id\":\"1026\",\"type\":\"ColumnDataSource\"},{\"attributes\":{},\"id\":\"1806\",\"type\":\"Selection\"},{\"attributes\":{\"fill_alpha\":{\"value\":0.2},\"fill_color\":{\"value\":\"#70CE56\"},\"hatch_alpha\":{\"value\":0.2},\"hatch_color\":{\"value\":\"#70CE56\"},\"line_alpha\":{\"value\":0.2},\"line_color\":{\"value\":\"#70CE56\"},\"marker\":{\"value\":\"diamond\"},\"size\":{\"value\":10},\"x\":{\"field\":\"date_time\"},\"y\":{\"field\":\"y_index\"}},\"id\":\"1709\",\"type\":\"Scatter\"},{\"attributes\":{},\"id\":\"1740\",\"type\":\"AllLabels\"},{\"attributes\":{},\"id\":\"1773\",\"type\":\"UnionRenderers\"},{\"attributes\":{\"coordinates\":null,\"data_source\":{\"id\":\"1047\"},\"glyph\":{\"id\":\"1707\"},\"group\":null,\"hover_glyph\":null,\"muted_glyph\":{\"id\":\"1709\"},\"nonselection_glyph\":{\"id\":\"1708\"},\"view\":{\"id\":\"1711\"}},\"id\":\"1710\",\"type\":\"GlyphRenderer\"},{\"attributes\":{\"fill_alpha\":{\"value\":0.1},\"fill_color\":{\"value\":\"#79D151\"},\"hatch_alpha\":{\"value\":0.1},\"hatch_color\":{\"value\":\"#79D151\"},\"line_alpha\":{\"value\":0.1},\"line_color\":{\"value\":\"#79D151\"},\"marker\":{\"value\":\"diamond\"},\"size\":{\"value\":10},\"x\":{\"field\":\"date_time\"},\"y\":{\"field\":\"y_index\"}},\"id\":\"1715\",\"type\":\"Scatter\"},{\"attributes\":{},\"id\":\"1774\",\"type\":\"Selection\"},{\"attributes\":{\"label\":{\"value\":\"u56\"},\"renderers\":[{\"id\":\"1710\"}]},\"id\":\"1712\",\"type\":\"LegendItem\"},{\"attributes\":{\"source\":{\"id\":\"1047\"}},\"id\":\"1711\",\"type\":\"CDSView\"},{\"attributes\":{\"fill_alpha\":{\"value\":0.5},\"fill_color\":{\"value\":\"#79D151\"},\"hatch_alpha\":{\"value\":0.5},\"hatch_color\":{\"value\":\"#79D151\"},\"line_alpha\":{\"value\":0.5},\"line_color\":{\"value\":\"#79D151\"},\"marker\":{\"value\":\"diamond\"},\"size\":{\"value\":10},\"x\":{\"field\":\"date_time\"},\"y\":{\"field\":\"y_index\"}},\"id\":\"1714\",\"type\":\"Scatter\"},{\"attributes\":{\"fill_alpha\":{\"value\":0.2},\"fill_color\":{\"value\":\"#79D151\"},\"hatch_alpha\":{\"value\":0.2},\"hatch_color\":{\"value\":\"#79D151\"},\"line_alpha\":{\"value\":0.2},\"line_color\":{\"value\":\"#79D151\"},\"marker\":{\"value\":\"diamond\"},\"size\":{\"value\":10},\"x\":{\"field\":\"date_time\"},\"y\":{\"field\":\"y_index\"}},\"id\":\"1716\",\"type\":\"Scatter\"},{\"attributes\":{\"fill_alpha\":{\"value\":0.5},\"fill_color\":{\"value\":\"#86D449\"},\"hatch_alpha\":{\"value\":0.5},\"hatch_color\":{\"value\":\"#86D449\"},\"line_alpha\":{\"value\":0.5},\"line_color\":{\"value\":\"#86D449\"},\"marker\":{\"value\":\"diamond\"},\"size\":{\"value\":10},\"x\":{\"field\":\"date_time\"},\"y\":{\"field\":\"y_index\"}},\"id\":\"1721\",\"type\":\"Scatter\"},{\"attributes\":{\"coordinates\":null,\"data_source\":{\"id\":\"1048\"},\"glyph\":{\"id\":\"1714\"},\"group\":null,\"hover_glyph\":null,\"muted_glyph\":{\"id\":\"1716\"},\"nonselection_glyph\":{\"id\":\"1715\"},\"view\":{\"id\":\"1718\"}},\"id\":\"1717\",\"type\":\"GlyphRenderer\"},{\"attributes\":{\"fill_alpha\":{\"value\":0.1},\"fill_color\":{\"value\":\"#86D449\"},\"hatch_alpha\":{\"value\":0.1},\"hatch_color\":{\"value\":\"#86D449\"},\"line_alpha\":{\"value\":0.1},\"line_color\":{\"value\":\"#86D449\"},\"marker\":{\"value\":\"diamond\"},\"size\":{\"value\":10},\"x\":{\"field\":\"date_time\"},\"y\":{\"field\":\"y_index\"}},\"id\":\"1722\",\"type\":\"Scatter\"},{\"attributes\":{\"label\":{\"value\":\"u57\"},\"renderers\":[{\"id\":\"1717\"}]},\"id\":\"1719\",\"type\":\"LegendItem\"},{\"attributes\":{\"source\":{\"id\":\"1048\"}},\"id\":\"1718\",\"type\":\"CDSView\"},{\"attributes\":{},\"id\":\"1807\",\"type\":\"UnionRenderers\"},{\"attributes\":{},\"id\":\"1808\",\"type\":\"Selection\"},{\"attributes\":{},\"id\":\"1775\",\"type\":\"UnionRenderers\"},{\"attributes\":{\"data\":{\"date_time\":{\"__ndarray__\":\"AADIqBjbc0IAAOTFwNtzQgAAXjug33NCAAC+2JLgc0IAALpS4OBzQgAAGtwF4XNCAADkUVzhc0IAAHizouFzQgAAqHuq4XNCAABQV+rhc0IAAMAuSOJzQgAAmrt34nNCAACE/qTic0IAABh1qeJzQgAAFFDS4nNCAADuGkvjc0IAAJR7YeRzQgAAVBEp5XNCAABGznnlc0IAAPx2z+VzQgAATDwj5nNCAAB8xfDmc0IAABb2u+dzQgAAcm/I53NCAACebOrnc0IAAK7BDOhzQgAAXJ036HNCAACmymXoc0IAAFZeEulzQgAAVvxF6nNCAACueQbrc0IAAPouQetzQgAAPBmr63NCAACedvrrc0IAANCxUOxzQgAA2p7C7HNCAADS7E7tc0IAAC5Dye1zQgAAxJvL7XNCAADKTqjuc0IAAEb1de9zQgAA/h7u73NC\",\"dtype\":\"float64\",\"order\":\"little\",\"shape\":[42]},\"index\":[652,653,654,655,656,657,658,659,660,661,662,663,664,665,666,667,668,669,670,671,672,673,674,675,676,677,678,679,680,681,682,683,684,685,686,687,688,689,690,691,692,693],\"y_index\":[14,14,14,14,14,14,14,14,14,14,14,14,14,14,14,14,14,14,14,14,14,14,14,14,14,14,14,14,14,14,14,14,14,14,14,14,14,14,14,14,14,14]},\"selected\":{\"id\":\"1774\"},\"selection_policy\":{\"id\":\"1773\"}},\"id\":\"1017\",\"type\":\"ColumnDataSource\"},{\"attributes\":{},\"id\":\"1776\",\"type\":\"Selection\"},{\"attributes\":{},\"id\":\"1744\",\"type\":\"AllLabels\"},{\"attributes\":{\"data\":{\"date_time\":{\"__ndarray__\":\"AAAC9szbc0IAACSXzdtzQgAAfiAI3HNCAAAS1VXcc0IAAM4cu9xzQgAASgLD3HNCAAD+itHcc0IAABAV+dxzQgAAwg4R3XNCAACyUSndc0IAALrEYt1zQgAAAsR13XNCAACKcQPec0IAAIC0Bt5zQgAA0h0P3nNCAADI+Ezec0IAALANX95zQgAAjgSZ3nNCAACKQJ3ec0IAANyppd5zQgAA/unK3nNCAAA2LPbec0IAAFwwF99zQgAADtA933NCAAAu4kffc0IAACqvnN9zQgAAjGbd33NCAAAUke7fc0IAAATUBuBzQgAAPHcN4HNCAACukUTgc0IAACBgXuBzQgAA/gOR4HNCAAAwmdjgc0IAACrz3uBzQgAAiPT34HNCAAASAQfhc0IAAK6XPeFzQgAAHPxM4XNCAABqoVnhc0IAAPrrnOFzQgAAKlqz4XNCAADU+0jic0IAACyOx+JzQgAAlnr44nNCAACiCx/jc0IAAIwCL+NzQgAAphRO43NCAAC43L7jc0IAAPyhPORzQgAAuP5f5HNCAAA2Ow7lc0IAAE5yGeVzQgAA8i9s5XNCAABUonnlc0IAABihWudzQgAAEGxq53NCAACYvwboc0IAABiuPehzQgAApGvk6HNCAAAygDHqc0IAAPQvR+pzQgAACn1563NCAADkCLjsc0IAAEyWZ+1zQgAA5sYy7nNC\",\"dtype\":\"float64\",\"order\":\"little\",\"shape\":[66]},\"index\":[1036,1037,1038,1039,1040,1041,1042,1043,1044,1045,1046,1047,1048,1049,1050,1051,1052,1053,1054,1055,1056,1057,1058,1059,1060,1061,1062,1063,1064,1065,1066,1067,1068,1069,1070,1071,1072,1073,1074,1075,1076,1077,1078,1079,1080,1081,1082,1083,1084,1085,1086,1087,1088,1089,1090,1091,1092,1093,1094,1095,1096,1097,1098,1099,1100,1101],\"y_index\":[25,25,25,25,25,25,25,25,25,25,25,25,25,25,25,25,25,25,25,25,25,25,25,25,25,25,25,25,25,25,25,25,25,25,25,25,25,25,25,25,25,25,25,25,25,25,25,25,25,25,25,25,25,25,25,25,25,25,25,25,25,25,25,25,25,25]},\"selected\":{\"id\":\"1796\"},\"selection_policy\":{\"id\":\"1795\"}},\"id\":\"1028\",\"type\":\"ColumnDataSource\"},{\"attributes\":{},\"id\":\"1809\",\"type\":\"UnionRenderers\"},{\"attributes\":{},\"id\":\"1810\",\"type\":\"Selection\"},{\"attributes\":{},\"id\":\"1745\",\"type\":\"UnionRenderers\"},{\"attributes\":{},\"id\":\"1777\",\"type\":\"UnionRenderers\"},{\"attributes\":{},\"id\":\"1778\",\"type\":\"Selection\"},{\"attributes\":{},\"id\":\"1746\",\"type\":\"Selection\"}],\"root_ids\":[\"1735\"]},\"title\":\"Bokeh Application\",\"version\":\"2.4.3\"}};\n  const render_items = [{\"docid\":\"b4135961-6baa-4ac7-9067-581194e3d2ce\",\"root_ids\":[\"1735\"],\"roots\":{\"1735\":\"768bedeb-fc6d-4668-9a90-0a0c7e029644\"}}];\n  root.Bokeh.embed.embed_items_notebook(docs_json, render_items);\n  }\n  if (root.Bokeh !== undefined) {\n    embed_document(root);\n  } else {\n    let attempts = 0;\n    const timer = setInterval(function(root) {\n      if (root.Bokeh !== undefined) {\n        clearInterval(timer);\n        embed_document(root);\n      } else {\n        attempts++;\n        if (attempts > 100) {\n          clearInterval(timer);\n          console.log(\"Bokeh: ERROR: Unable to run BokehJS code because BokehJS library is missing\");\n        }\n      }\n    }, 10, root)\n  }\n})(window);",
      "application/vnd.bokehjs_exec.v0+json": ""
     },
     "metadata": {
      "application/vnd.bokehjs_exec.v0+json": {
       "id": "1735"
      }
     },
     "output_type": "display_data"
    },
    {
     "data": {
      "text/html": [
       "<div style=\"display: table;\"><div style=\"display: table-row;\"><div style=\"display: table-cell;\"><b title=\"bokeh.models.layouts.Column\">Column</b>(</div><div style=\"display: table-cell;\">id&nbsp;=&nbsp;'1735', <span id=\"2523\" style=\"cursor: pointer;\">&hellip;)</span></div></div><div class=\"2522\" style=\"display: none;\"><div style=\"display: table-cell;\"></div><div style=\"display: table-cell;\">align&nbsp;=&nbsp;'start',</div></div><div class=\"2522\" style=\"display: none;\"><div style=\"display: table-cell;\"></div><div style=\"display: table-cell;\">aspect_ratio&nbsp;=&nbsp;None,</div></div><div class=\"2522\" style=\"display: none;\"><div style=\"display: table-cell;\"></div><div style=\"display: table-cell;\">background&nbsp;=&nbsp;None,</div></div><div class=\"2522\" style=\"display: none;\"><div style=\"display: table-cell;\"></div><div style=\"display: table-cell;\">children&nbsp;=&nbsp;[Figure(id='1052', ...), Figure(id='1084', ...)],</div></div><div class=\"2522\" style=\"display: none;\"><div style=\"display: table-cell;\"></div><div style=\"display: table-cell;\">css_classes&nbsp;=&nbsp;[],</div></div><div class=\"2522\" style=\"display: none;\"><div style=\"display: table-cell;\"></div><div style=\"display: table-cell;\">disabled&nbsp;=&nbsp;False,</div></div><div class=\"2522\" style=\"display: none;\"><div style=\"display: table-cell;\"></div><div style=\"display: table-cell;\">height&nbsp;=&nbsp;None,</div></div><div class=\"2522\" style=\"display: none;\"><div style=\"display: table-cell;\"></div><div style=\"display: table-cell;\">height_policy&nbsp;=&nbsp;'auto',</div></div><div class=\"2522\" style=\"display: none;\"><div style=\"display: table-cell;\"></div><div style=\"display: table-cell;\">js_event_callbacks&nbsp;=&nbsp;{},</div></div><div class=\"2522\" style=\"display: none;\"><div style=\"display: table-cell;\"></div><div style=\"display: table-cell;\">js_property_callbacks&nbsp;=&nbsp;{},</div></div><div class=\"2522\" style=\"display: none;\"><div style=\"display: table-cell;\"></div><div style=\"display: table-cell;\">margin&nbsp;=&nbsp;(0, 0, 0, 0),</div></div><div class=\"2522\" style=\"display: none;\"><div style=\"display: table-cell;\"></div><div style=\"display: table-cell;\">max_height&nbsp;=&nbsp;None,</div></div><div class=\"2522\" style=\"display: none;\"><div style=\"display: table-cell;\"></div><div style=\"display: table-cell;\">max_width&nbsp;=&nbsp;None,</div></div><div class=\"2522\" style=\"display: none;\"><div style=\"display: table-cell;\"></div><div style=\"display: table-cell;\">min_height&nbsp;=&nbsp;None,</div></div><div class=\"2522\" style=\"display: none;\"><div style=\"display: table-cell;\"></div><div style=\"display: table-cell;\">min_width&nbsp;=&nbsp;None,</div></div><div class=\"2522\" style=\"display: none;\"><div style=\"display: table-cell;\"></div><div style=\"display: table-cell;\">name&nbsp;=&nbsp;None,</div></div><div class=\"2522\" style=\"display: none;\"><div style=\"display: table-cell;\"></div><div style=\"display: table-cell;\">rows&nbsp;=&nbsp;'auto',</div></div><div class=\"2522\" style=\"display: none;\"><div style=\"display: table-cell;\"></div><div style=\"display: table-cell;\">sizing_mode&nbsp;=&nbsp;None,</div></div><div class=\"2522\" style=\"display: none;\"><div style=\"display: table-cell;\"></div><div style=\"display: table-cell;\">spacing&nbsp;=&nbsp;0,</div></div><div class=\"2522\" style=\"display: none;\"><div style=\"display: table-cell;\"></div><div style=\"display: table-cell;\">subscribed_events&nbsp;=&nbsp;[],</div></div><div class=\"2522\" style=\"display: none;\"><div style=\"display: table-cell;\"></div><div style=\"display: table-cell;\">syncable&nbsp;=&nbsp;True,</div></div><div class=\"2522\" style=\"display: none;\"><div style=\"display: table-cell;\"></div><div style=\"display: table-cell;\">tags&nbsp;=&nbsp;[],</div></div><div class=\"2522\" style=\"display: none;\"><div style=\"display: table-cell;\"></div><div style=\"display: table-cell;\">visible&nbsp;=&nbsp;True,</div></div><div class=\"2522\" style=\"display: none;\"><div style=\"display: table-cell;\"></div><div style=\"display: table-cell;\">width&nbsp;=&nbsp;None,</div></div><div class=\"2522\" style=\"display: none;\"><div style=\"display: table-cell;\"></div><div style=\"display: table-cell;\">width_policy&nbsp;=&nbsp;'auto')</div></div></div>\n",
       "<script>\n",
       "(function() {\n",
       "  let expanded = false;\n",
       "  const ellipsis = document.getElementById(\"2523\");\n",
       "  ellipsis.addEventListener(\"click\", function() {\n",
       "    const rows = document.getElementsByClassName(\"2522\");\n",
       "    for (let i = 0; i < rows.length; i++) {\n",
       "      const el = rows[i];\n",
       "      el.style.display = expanded ? \"none\" : \"table-row\";\n",
       "    }\n",
       "    ellipsis.innerHTML = expanded ? \"&hellip;)\" : \"&lsaquo;&lsaquo;&lsaquo;\";\n",
       "    expanded = !expanded;\n",
       "  });\n",
       "})();\n",
       "</script>\n"
      ],
      "text/plain": [
       "Column(id='1735', ...)"
      ]
     },
     "execution_count": 49,
     "metadata": {},
     "output_type": "execute_result"
    }
   ],
   "source": [
    "display_timeline(stress_ema_sort_df[['user_id','date_time']],time_column=\"date_time\",group_by='user_id')"
   ]
  },
  {
   "cell_type": "code",
   "execution_count": 50,
   "metadata": {},
   "outputs": [
    {
     "data": {
      "text/html": [
       "<div>\n",
       "<style scoped>\n",
       "    .dataframe tbody tr th:only-of-type {\n",
       "        vertical-align: middle;\n",
       "    }\n",
       "\n",
       "    .dataframe tbody tr th {\n",
       "        vertical-align: top;\n",
       "    }\n",
       "\n",
       "    .dataframe thead th {\n",
       "        text-align: right;\n",
       "    }\n",
       "</style>\n",
       "<table border=\"1\" class=\"dataframe\">\n",
       "  <thead>\n",
       "    <tr style=\"text-align: right;\">\n",
       "      <th></th>\n",
       "      <th>user_id</th>\n",
       "      <th>date_time</th>\n",
       "      <th>year</th>\n",
       "      <th>month</th>\n",
       "      <th>day</th>\n",
       "      <th>hours</th>\n",
       "      <th>minute</th>\n",
       "      <th>weekday</th>\n",
       "      <th>weeknumber</th>\n",
       "      <th>label_source</th>\n",
       "      <th>rating</th>\n",
       "    </tr>\n",
       "  </thead>\n",
       "  <tbody>\n",
       "    <tr>\n",
       "      <th>362</th>\n",
       "      <td>u10</td>\n",
       "      <td>2013-03-27 17:01:00</td>\n",
       "      <td>2013</td>\n",
       "      <td>03</td>\n",
       "      <td>27</td>\n",
       "      <td>17</td>\n",
       "      <td>01</td>\n",
       "      <td>Wed</td>\n",
       "      <td>12</td>\n",
       "      <td>stress_ema</td>\n",
       "      <td>2</td>\n",
       "    </tr>\n",
       "    <tr>\n",
       "      <th>363</th>\n",
       "      <td>u10</td>\n",
       "      <td>2013-03-29 19:07:00</td>\n",
       "      <td>2013</td>\n",
       "      <td>03</td>\n",
       "      <td>29</td>\n",
       "      <td>19</td>\n",
       "      <td>07</td>\n",
       "      <td>Fri</td>\n",
       "      <td>12</td>\n",
       "      <td>stress_ema</td>\n",
       "      <td>2</td>\n",
       "    </tr>\n",
       "    <tr>\n",
       "      <th>364</th>\n",
       "      <td>u10</td>\n",
       "      <td>2013-03-29 19:07:00</td>\n",
       "      <td>2013</td>\n",
       "      <td>03</td>\n",
       "      <td>29</td>\n",
       "      <td>19</td>\n",
       "      <td>07</td>\n",
       "      <td>Fri</td>\n",
       "      <td>12</td>\n",
       "      <td>stress_ema</td>\n",
       "      <td>4</td>\n",
       "    </tr>\n",
       "    <tr>\n",
       "      <th>365</th>\n",
       "      <td>u10</td>\n",
       "      <td>2013-03-29 19:07:00</td>\n",
       "      <td>2013</td>\n",
       "      <td>03</td>\n",
       "      <td>29</td>\n",
       "      <td>19</td>\n",
       "      <td>07</td>\n",
       "      <td>Fri</td>\n",
       "      <td>12</td>\n",
       "      <td>stress_ema</td>\n",
       "      <td>1</td>\n",
       "    </tr>\n",
       "    <tr>\n",
       "      <th>367</th>\n",
       "      <td>u10</td>\n",
       "      <td>2013-03-29 21:28:00</td>\n",
       "      <td>2013</td>\n",
       "      <td>03</td>\n",
       "      <td>29</td>\n",
       "      <td>21</td>\n",
       "      <td>28</td>\n",
       "      <td>Fri</td>\n",
       "      <td>12</td>\n",
       "      <td>stress_ema</td>\n",
       "      <td>1</td>\n",
       "    </tr>\n",
       "    <tr>\n",
       "      <th>...</th>\n",
       "      <td>...</td>\n",
       "      <td>...</td>\n",
       "      <td>...</td>\n",
       "      <td>...</td>\n",
       "      <td>...</td>\n",
       "      <td>...</td>\n",
       "      <td>...</td>\n",
       "      <td>...</td>\n",
       "      <td>...</td>\n",
       "      <td>...</td>\n",
       "      <td>...</td>\n",
       "    </tr>\n",
       "    <tr>\n",
       "      <th>463</th>\n",
       "      <td>u10</td>\n",
       "      <td>2013-05-15 14:16:00</td>\n",
       "      <td>2013</td>\n",
       "      <td>05</td>\n",
       "      <td>15</td>\n",
       "      <td>14</td>\n",
       "      <td>16</td>\n",
       "      <td>Wed</td>\n",
       "      <td>19</td>\n",
       "      <td>stress_ema</td>\n",
       "      <td>4</td>\n",
       "    </tr>\n",
       "    <tr>\n",
       "      <th>464</th>\n",
       "      <td>u10</td>\n",
       "      <td>2013-05-15 14:17:00</td>\n",
       "      <td>2013</td>\n",
       "      <td>05</td>\n",
       "      <td>15</td>\n",
       "      <td>14</td>\n",
       "      <td>17</td>\n",
       "      <td>Wed</td>\n",
       "      <td>19</td>\n",
       "      <td>stress_ema</td>\n",
       "      <td>4</td>\n",
       "    </tr>\n",
       "    <tr>\n",
       "      <th>465</th>\n",
       "      <td>u10</td>\n",
       "      <td>2013-05-17 13:17:00</td>\n",
       "      <td>2013</td>\n",
       "      <td>05</td>\n",
       "      <td>17</td>\n",
       "      <td>13</td>\n",
       "      <td>17</td>\n",
       "      <td>Fri</td>\n",
       "      <td>19</td>\n",
       "      <td>stress_ema</td>\n",
       "      <td>1</td>\n",
       "    </tr>\n",
       "    <tr>\n",
       "      <th>466</th>\n",
       "      <td>u10</td>\n",
       "      <td>2013-05-18 13:15:00</td>\n",
       "      <td>2013</td>\n",
       "      <td>05</td>\n",
       "      <td>18</td>\n",
       "      <td>13</td>\n",
       "      <td>15</td>\n",
       "      <td>Sat</td>\n",
       "      <td>19</td>\n",
       "      <td>stress_ema</td>\n",
       "      <td>2</td>\n",
       "    </tr>\n",
       "    <tr>\n",
       "      <th>467</th>\n",
       "      <td>u10</td>\n",
       "      <td>2013-05-23 09:46:00</td>\n",
       "      <td>2013</td>\n",
       "      <td>05</td>\n",
       "      <td>23</td>\n",
       "      <td>09</td>\n",
       "      <td>46</td>\n",
       "      <td>Thu</td>\n",
       "      <td>20</td>\n",
       "      <td>stress_ema</td>\n",
       "      <td>4</td>\n",
       "    </tr>\n",
       "  </tbody>\n",
       "</table>\n",
       "<p>104 rows × 11 columns</p>\n",
       "</div>"
      ],
      "text/plain": [
       "    user_id           date_time  year month day hours minute weekday  \\\n",
       "362     u10 2013-03-27 17:01:00  2013    03  27    17     01     Wed   \n",
       "363     u10 2013-03-29 19:07:00  2013    03  29    19     07     Fri   \n",
       "364     u10 2013-03-29 19:07:00  2013    03  29    19     07     Fri   \n",
       "365     u10 2013-03-29 19:07:00  2013    03  29    19     07     Fri   \n",
       "367     u10 2013-03-29 21:28:00  2013    03  29    21     28     Fri   \n",
       "..      ...                 ...   ...   ...  ..   ...    ...     ...   \n",
       "463     u10 2013-05-15 14:16:00  2013    05  15    14     16     Wed   \n",
       "464     u10 2013-05-15 14:17:00  2013    05  15    14     17     Wed   \n",
       "465     u10 2013-05-17 13:17:00  2013    05  17    13     17     Fri   \n",
       "466     u10 2013-05-18 13:15:00  2013    05  18    13     15     Sat   \n",
       "467     u10 2013-05-23 09:46:00  2013    05  23    09     46     Thu   \n",
       "\n",
       "    weeknumber label_source rating  \n",
       "362         12   stress_ema      2  \n",
       "363         12   stress_ema      2  \n",
       "364         12   stress_ema      4  \n",
       "365         12   stress_ema      1  \n",
       "367         12   stress_ema      1  \n",
       "..         ...          ...    ...  \n",
       "463         19   stress_ema      4  \n",
       "464         19   stress_ema      4  \n",
       "465         19   stress_ema      1  \n",
       "466         19   stress_ema      2  \n",
       "467         20   stress_ema      4  \n",
       "\n",
       "[104 rows x 11 columns]"
      ]
     },
     "execution_count": 50,
     "metadata": {},
     "output_type": "execute_result"
    }
   ],
   "source": [
    "stress_ema_sort_df[stress_ema_sort_df['user_id'] == 'u10']"
   ]
  },
  {
   "cell_type": "code",
   "execution_count": 51,
   "metadata": {},
   "outputs": [
    {
     "data": {
      "text/html": [
       "<div>\n",
       "<style scoped>\n",
       "    .dataframe tbody tr th:only-of-type {\n",
       "        vertical-align: middle;\n",
       "    }\n",
       "\n",
       "    .dataframe tbody tr th {\n",
       "        vertical-align: top;\n",
       "    }\n",
       "\n",
       "    .dataframe thead th {\n",
       "        text-align: right;\n",
       "    }\n",
       "</style>\n",
       "<table border=\"1\" class=\"dataframe\">\n",
       "  <thead>\n",
       "    <tr style=\"text-align: right;\">\n",
       "      <th></th>\n",
       "      <th>user_id</th>\n",
       "      <th>date_time</th>\n",
       "      <th>year</th>\n",
       "      <th>month</th>\n",
       "      <th>day</th>\n",
       "      <th>hours</th>\n",
       "      <th>minute</th>\n",
       "      <th>weekday</th>\n",
       "      <th>weeknumber</th>\n",
       "      <th>label_source</th>\n",
       "      <th>rating</th>\n",
       "    </tr>\n",
       "  </thead>\n",
       "  <tbody>\n",
       "    <tr>\n",
       "      <th>0</th>\n",
       "      <td>u00</td>\n",
       "      <td>2013-03-25 11:54:00</td>\n",
       "      <td>2013</td>\n",
       "      <td>03</td>\n",
       "      <td>25</td>\n",
       "      <td>11</td>\n",
       "      <td>54</td>\n",
       "      <td>Mon</td>\n",
       "      <td>12</td>\n",
       "      <td>stress_ema</td>\n",
       "      <td>2</td>\n",
       "    </tr>\n",
       "    <tr>\n",
       "      <th>1</th>\n",
       "      <td>u00</td>\n",
       "      <td>2013-03-25 20:33:00</td>\n",
       "      <td>2013</td>\n",
       "      <td>03</td>\n",
       "      <td>25</td>\n",
       "      <td>20</td>\n",
       "      <td>33</td>\n",
       "      <td>Mon</td>\n",
       "      <td>12</td>\n",
       "      <td>stress_ema</td>\n",
       "      <td>2</td>\n",
       "    </tr>\n",
       "    <tr>\n",
       "      <th>3</th>\n",
       "      <td>u00</td>\n",
       "      <td>2013-03-26 18:12:00</td>\n",
       "      <td>2013</td>\n",
       "      <td>03</td>\n",
       "      <td>26</td>\n",
       "      <td>18</td>\n",
       "      <td>12</td>\n",
       "      <td>Tue</td>\n",
       "      <td>12</td>\n",
       "      <td>stress_ema</td>\n",
       "      <td>1</td>\n",
       "    </tr>\n",
       "    <tr>\n",
       "      <th>4</th>\n",
       "      <td>u00</td>\n",
       "      <td>2013-03-27 19:25:00</td>\n",
       "      <td>2013</td>\n",
       "      <td>03</td>\n",
       "      <td>27</td>\n",
       "      <td>19</td>\n",
       "      <td>25</td>\n",
       "      <td>Wed</td>\n",
       "      <td>12</td>\n",
       "      <td>stress_ema</td>\n",
       "      <td>1</td>\n",
       "    </tr>\n",
       "    <tr>\n",
       "      <th>5</th>\n",
       "      <td>u00</td>\n",
       "      <td>2013-03-28 11:43:00</td>\n",
       "      <td>2013</td>\n",
       "      <td>03</td>\n",
       "      <td>28</td>\n",
       "      <td>11</td>\n",
       "      <td>43</td>\n",
       "      <td>Thu</td>\n",
       "      <td>12</td>\n",
       "      <td>stress_ema</td>\n",
       "      <td>2</td>\n",
       "    </tr>\n",
       "    <tr>\n",
       "      <th>...</th>\n",
       "      <td>...</td>\n",
       "      <td>...</td>\n",
       "      <td>...</td>\n",
       "      <td>...</td>\n",
       "      <td>...</td>\n",
       "      <td>...</td>\n",
       "      <td>...</td>\n",
       "      <td>...</td>\n",
       "      <td>...</td>\n",
       "      <td>...</td>\n",
       "      <td>...</td>\n",
       "    </tr>\n",
       "    <tr>\n",
       "      <th>65</th>\n",
       "      <td>u00</td>\n",
       "      <td>2013-05-24 21:00:00</td>\n",
       "      <td>2013</td>\n",
       "      <td>05</td>\n",
       "      <td>24</td>\n",
       "      <td>21</td>\n",
       "      <td>00</td>\n",
       "      <td>Fri</td>\n",
       "      <td>20</td>\n",
       "      <td>stress_ema</td>\n",
       "      <td>2</td>\n",
       "    </tr>\n",
       "    <tr>\n",
       "      <th>66</th>\n",
       "      <td>u00</td>\n",
       "      <td>2013-05-24 23:14:00</td>\n",
       "      <td>2013</td>\n",
       "      <td>05</td>\n",
       "      <td>24</td>\n",
       "      <td>23</td>\n",
       "      <td>14</td>\n",
       "      <td>Fri</td>\n",
       "      <td>20</td>\n",
       "      <td>stress_ema</td>\n",
       "      <td>1</td>\n",
       "    </tr>\n",
       "    <tr>\n",
       "      <th>67</th>\n",
       "      <td>u00</td>\n",
       "      <td>2013-05-25 08:53:00</td>\n",
       "      <td>2013</td>\n",
       "      <td>05</td>\n",
       "      <td>25</td>\n",
       "      <td>08</td>\n",
       "      <td>53</td>\n",
       "      <td>Sat</td>\n",
       "      <td>20</td>\n",
       "      <td>stress_ema</td>\n",
       "      <td>2</td>\n",
       "    </tr>\n",
       "    <tr>\n",
       "      <th>68</th>\n",
       "      <td>u00</td>\n",
       "      <td>2013-05-25 09:39:00</td>\n",
       "      <td>2013</td>\n",
       "      <td>05</td>\n",
       "      <td>25</td>\n",
       "      <td>09</td>\n",
       "      <td>39</td>\n",
       "      <td>Sat</td>\n",
       "      <td>20</td>\n",
       "      <td>stress_ema</td>\n",
       "      <td>3</td>\n",
       "    </tr>\n",
       "    <tr>\n",
       "      <th>69</th>\n",
       "      <td>u00</td>\n",
       "      <td>2013-06-02 23:00:00</td>\n",
       "      <td>2013</td>\n",
       "      <td>06</td>\n",
       "      <td>02</td>\n",
       "      <td>23</td>\n",
       "      <td>00</td>\n",
       "      <td>Sun</td>\n",
       "      <td>21</td>\n",
       "      <td>stress_ema</td>\n",
       "      <td>1</td>\n",
       "    </tr>\n",
       "  </tbody>\n",
       "</table>\n",
       "<p>69 rows × 11 columns</p>\n",
       "</div>"
      ],
      "text/plain": [
       "   user_id           date_time  year month day hours minute weekday  \\\n",
       "0      u00 2013-03-25 11:54:00  2013    03  25    11     54     Mon   \n",
       "1      u00 2013-03-25 20:33:00  2013    03  25    20     33     Mon   \n",
       "3      u00 2013-03-26 18:12:00  2013    03  26    18     12     Tue   \n",
       "4      u00 2013-03-27 19:25:00  2013    03  27    19     25     Wed   \n",
       "5      u00 2013-03-28 11:43:00  2013    03  28    11     43     Thu   \n",
       "..     ...                 ...   ...   ...  ..   ...    ...     ...   \n",
       "65     u00 2013-05-24 21:00:00  2013    05  24    21     00     Fri   \n",
       "66     u00 2013-05-24 23:14:00  2013    05  24    23     14     Fri   \n",
       "67     u00 2013-05-25 08:53:00  2013    05  25    08     53     Sat   \n",
       "68     u00 2013-05-25 09:39:00  2013    05  25    09     39     Sat   \n",
       "69     u00 2013-06-02 23:00:00  2013    06  02    23     00     Sun   \n",
       "\n",
       "   weeknumber label_source rating  \n",
       "0          12   stress_ema      2  \n",
       "1          12   stress_ema      2  \n",
       "3          12   stress_ema      1  \n",
       "4          12   stress_ema      1  \n",
       "5          12   stress_ema      2  \n",
       "..        ...          ...    ...  \n",
       "65         20   stress_ema      2  \n",
       "66         20   stress_ema      1  \n",
       "67         20   stress_ema      2  \n",
       "68         20   stress_ema      3  \n",
       "69         21   stress_ema      1  \n",
       "\n",
       "[69 rows x 11 columns]"
      ]
     },
     "execution_count": 51,
     "metadata": {},
     "output_type": "execute_result"
    }
   ],
   "source": [
    "stress_ema_sort_df[stress_ema_sort_df['user_id'] == 'u00']"
   ]
  },
  {
   "cell_type": "code",
   "execution_count": 52,
   "metadata": {},
   "outputs": [
    {
     "data": {
      "text/plain": [
       "417"
      ]
     },
     "execution_count": 52,
     "metadata": {},
     "output_type": "execute_result"
    }
   ],
   "source": [
    "len(mood2_ema_df)"
   ]
  },
  {
   "cell_type": "code",
   "execution_count": 53,
   "metadata": {},
   "outputs": [
    {
     "data": {
      "text/plain": [
       "414"
      ]
     },
     "execution_count": 53,
     "metadata": {},
     "output_type": "execute_result"
    }
   ],
   "source": [
    "mood2_ema_df.drop_duplicates(inplace=True)\n",
    "len(mood2_ema_df)"
   ]
  },
  {
   "cell_type": "code",
   "execution_count": 54,
   "metadata": {},
   "outputs": [
    {
     "data": {
      "text/html": [
       "<div class=\"bk-root\">\n",
       "        <a href=\"https://bokeh.org\" target=\"_blank\" class=\"bk-logo bk-logo-small bk-logo-notebook\"></a>\n",
       "        <span id=\"2524\">Loading BokehJS ...</span>\n",
       "    </div>\n"
      ]
     },
     "metadata": {},
     "output_type": "display_data"
    },
    {
     "data": {
      "application/javascript": "(function(root) {\n  function now() {\n    return new Date();\n  }\n\n  const force = true;\n\n  if (typeof root._bokeh_onload_callbacks === \"undefined\" || force === true) {\n    root._bokeh_onload_callbacks = [];\n    root._bokeh_is_loading = undefined;\n  }\n\nconst JS_MIME_TYPE = 'application/javascript';\n  const HTML_MIME_TYPE = 'text/html';\n  const EXEC_MIME_TYPE = 'application/vnd.bokehjs_exec.v0+json';\n  const CLASS_NAME = 'output_bokeh rendered_html';\n\n  /**\n   * Render data to the DOM node\n   */\n  function render(props, node) {\n    const script = document.createElement(\"script\");\n    node.appendChild(script);\n  }\n\n  /**\n   * Handle when an output is cleared or removed\n   */\n  function handleClearOutput(event, handle) {\n    const cell = handle.cell;\n\n    const id = cell.output_area._bokeh_element_id;\n    const server_id = cell.output_area._bokeh_server_id;\n    // Clean up Bokeh references\n    if (id != null && id in Bokeh.index) {\n      Bokeh.index[id].model.document.clear();\n      delete Bokeh.index[id];\n    }\n\n    if (server_id !== undefined) {\n      // Clean up Bokeh references\n      const cmd_clean = \"from bokeh.io.state import curstate; print(curstate().uuid_to_server['\" + server_id + \"'].get_sessions()[0].document.roots[0]._id)\";\n      cell.notebook.kernel.execute(cmd_clean, {\n        iopub: {\n          output: function(msg) {\n            const id = msg.content.text.trim();\n            if (id in Bokeh.index) {\n              Bokeh.index[id].model.document.clear();\n              delete Bokeh.index[id];\n            }\n          }\n        }\n      });\n      // Destroy server and session\n      const cmd_destroy = \"import bokeh.io.notebook as ion; ion.destroy_server('\" + server_id + \"')\";\n      cell.notebook.kernel.execute(cmd_destroy);\n    }\n  }\n\n  /**\n   * Handle when a new output is added\n   */\n  function handleAddOutput(event, handle) {\n    const output_area = handle.output_area;\n    const output = handle.output;\n\n    // limit handleAddOutput to display_data with EXEC_MIME_TYPE content only\n    if ((output.output_type != \"display_data\") || (!Object.prototype.hasOwnProperty.call(output.data, EXEC_MIME_TYPE))) {\n      return\n    }\n\n    const toinsert = output_area.element.find(\".\" + CLASS_NAME.split(' ')[0]);\n\n    if (output.metadata[EXEC_MIME_TYPE][\"id\"] !== undefined) {\n      toinsert[toinsert.length - 1].firstChild.textContent = output.data[JS_MIME_TYPE];\n      // store reference to embed id on output_area\n      output_area._bokeh_element_id = output.metadata[EXEC_MIME_TYPE][\"id\"];\n    }\n    if (output.metadata[EXEC_MIME_TYPE][\"server_id\"] !== undefined) {\n      const bk_div = document.createElement(\"div\");\n      bk_div.innerHTML = output.data[HTML_MIME_TYPE];\n      const script_attrs = bk_div.children[0].attributes;\n      for (let i = 0; i < script_attrs.length; i++) {\n        toinsert[toinsert.length - 1].firstChild.setAttribute(script_attrs[i].name, script_attrs[i].value);\n        toinsert[toinsert.length - 1].firstChild.textContent = bk_div.children[0].textContent\n      }\n      // store reference to server id on output_area\n      output_area._bokeh_server_id = output.metadata[EXEC_MIME_TYPE][\"server_id\"];\n    }\n  }\n\n  function register_renderer(events, OutputArea) {\n\n    function append_mime(data, metadata, element) {\n      // create a DOM node to render to\n      const toinsert = this.create_output_subarea(\n        metadata,\n        CLASS_NAME,\n        EXEC_MIME_TYPE\n      );\n      this.keyboard_manager.register_events(toinsert);\n      // Render to node\n      const props = {data: data, metadata: metadata[EXEC_MIME_TYPE]};\n      render(props, toinsert[toinsert.length - 1]);\n      element.append(toinsert);\n      return toinsert\n    }\n\n    /* Handle when an output is cleared or removed */\n    events.on('clear_output.CodeCell', handleClearOutput);\n    events.on('delete.Cell', handleClearOutput);\n\n    /* Handle when a new output is added */\n    events.on('output_added.OutputArea', handleAddOutput);\n\n    /**\n     * Register the mime type and append_mime function with output_area\n     */\n    OutputArea.prototype.register_mime_type(EXEC_MIME_TYPE, append_mime, {\n      /* Is output safe? */\n      safe: true,\n      /* Index of renderer in `output_area.display_order` */\n      index: 0\n    });\n  }\n\n  // register the mime type if in Jupyter Notebook environment and previously unregistered\n  if (root.Jupyter !== undefined) {\n    const events = require('base/js/events');\n    const OutputArea = require('notebook/js/outputarea').OutputArea;\n\n    if (OutputArea.prototype.mime_types().indexOf(EXEC_MIME_TYPE) == -1) {\n      register_renderer(events, OutputArea);\n    }\n  }\n  if (typeof (root._bokeh_timeout) === \"undefined\" || force === true) {\n    root._bokeh_timeout = Date.now() + 5000;\n    root._bokeh_failed_load = false;\n  }\n\n  const NB_LOAD_WARNING = {'data': {'text/html':\n     \"<div style='background-color: #fdd'>\\n\"+\n     \"<p>\\n\"+\n     \"BokehJS does not appear to have successfully loaded. If loading BokehJS from CDN, this \\n\"+\n     \"may be due to a slow or bad network connection. Possible fixes:\\n\"+\n     \"</p>\\n\"+\n     \"<ul>\\n\"+\n     \"<li>re-rerun `output_notebook()` to attempt to load from CDN again, or</li>\\n\"+\n     \"<li>use INLINE resources instead, as so:</li>\\n\"+\n     \"</ul>\\n\"+\n     \"<code>\\n\"+\n     \"from bokeh.resources import INLINE\\n\"+\n     \"output_notebook(resources=INLINE)\\n\"+\n     \"</code>\\n\"+\n     \"</div>\"}};\n\n  function display_loaded() {\n    const el = document.getElementById(\"2524\");\n    if (el != null) {\n      el.textContent = \"BokehJS is loading...\";\n    }\n    if (root.Bokeh !== undefined) {\n      if (el != null) {\n        el.textContent = \"BokehJS \" + root.Bokeh.version + \" successfully loaded.\";\n      }\n    } else if (Date.now() < root._bokeh_timeout) {\n      setTimeout(display_loaded, 100)\n    }\n  }\n\n  function run_callbacks() {\n    try {\n      root._bokeh_onload_callbacks.forEach(function(callback) {\n        if (callback != null)\n          callback();\n      });\n    } finally {\n      delete root._bokeh_onload_callbacks\n    }\n    console.debug(\"Bokeh: all callbacks have finished\");\n  }\n\n  function load_libs(css_urls, js_urls, callback) {\n    if (css_urls == null) css_urls = [];\n    if (js_urls == null) js_urls = [];\n\n    root._bokeh_onload_callbacks.push(callback);\n    if (root._bokeh_is_loading > 0) {\n      console.debug(\"Bokeh: BokehJS is being loaded, scheduling callback at\", now());\n      return null;\n    }\n    if (js_urls == null || js_urls.length === 0) {\n      run_callbacks();\n      return null;\n    }\n    console.debug(\"Bokeh: BokehJS not loaded, scheduling load and callback at\", now());\n    root._bokeh_is_loading = css_urls.length + js_urls.length;\n\n    function on_load() {\n      root._bokeh_is_loading--;\n      if (root._bokeh_is_loading === 0) {\n        console.debug(\"Bokeh: all BokehJS libraries/stylesheets loaded\");\n        run_callbacks()\n      }\n    }\n\n    function on_error(url) {\n      console.error(\"failed to load \" + url);\n    }\n\n    for (let i = 0; i < css_urls.length; i++) {\n      const url = css_urls[i];\n      const element = document.createElement(\"link\");\n      element.onload = on_load;\n      element.onerror = on_error.bind(null, url);\n      element.rel = \"stylesheet\";\n      element.type = \"text/css\";\n      element.href = url;\n      console.debug(\"Bokeh: injecting link tag for BokehJS stylesheet: \", url);\n      document.body.appendChild(element);\n    }\n\n    for (let i = 0; i < js_urls.length; i++) {\n      const url = js_urls[i];\n      const element = document.createElement('script');\n      element.onload = on_load;\n      element.onerror = on_error.bind(null, url);\n      element.async = false;\n      element.src = url;\n      console.debug(\"Bokeh: injecting script tag for BokehJS library: \", url);\n      document.head.appendChild(element);\n    }\n  };\n\n  function inject_raw_css(css) {\n    const element = document.createElement(\"style\");\n    element.appendChild(document.createTextNode(css));\n    document.body.appendChild(element);\n  }\n\n  const js_urls = [\"https://cdn.bokeh.org/bokeh/release/bokeh-2.4.3.min.js\", \"https://cdn.bokeh.org/bokeh/release/bokeh-gl-2.4.3.min.js\", \"https://cdn.bokeh.org/bokeh/release/bokeh-widgets-2.4.3.min.js\", \"https://cdn.bokeh.org/bokeh/release/bokeh-tables-2.4.3.min.js\", \"https://cdn.bokeh.org/bokeh/release/bokeh-mathjax-2.4.3.min.js\"];\n  const css_urls = [];\n\n  const inline_js = [    function(Bokeh) {\n      Bokeh.set_log_level(\"info\");\n    },\nfunction(Bokeh) {\n    }\n  ];\n\n  function run_inline_js() {\n    if (root.Bokeh !== undefined || force === true) {\n          for (let i = 0; i < inline_js.length; i++) {\n      inline_js[i].call(root, root.Bokeh);\n    }\nif (force === true) {\n        display_loaded();\n      }} else if (Date.now() < root._bokeh_timeout) {\n      setTimeout(run_inline_js, 100);\n    } else if (!root._bokeh_failed_load) {\n      console.log(\"Bokeh: BokehJS failed to load within specified timeout.\");\n      root._bokeh_failed_load = true;\n    } else if (force !== true) {\n      const cell = $(document.getElementById(\"2524\")).parents('.cell').data().cell;\n      cell.output_area.append_execute_result(NB_LOAD_WARNING)\n    }\n  }\n\n  if (root._bokeh_is_loading === 0) {\n    console.debug(\"Bokeh: BokehJS loaded, going straight to plotting\");\n    run_inline_js();\n  } else {\n    load_libs(css_urls, js_urls, function() {\n      console.debug(\"Bokeh: BokehJS plotting callback run at\", now());\n      run_inline_js();\n    });\n  }\n}(window));",
      "application/vnd.bokehjs_load.v0+json": ""
     },
     "metadata": {},
     "output_type": "display_data"
    },
    {
     "data": {
      "text/html": [
       "\n",
       "  <div class=\"bk-root\" id=\"c1ce9c39-7075-4581-a3d1-f40ee31332c8\" data-root-id=\"3103\"></div>\n"
      ]
     },
     "metadata": {},
     "output_type": "display_data"
    },
    {
     "data": {
      "application/javascript": "(function(root) {\n  function embed_document(root) {\n  const docs_json = {\"10209f6f-41bb-4c58-b4cd-11b4c4cd83de\":{\"defs\":[],\"roots\":{\"references\":[{\"attributes\":{\"children\":[{\"id\":\"2563\"},{\"id\":\"2595\"}]},\"id\":\"3103\",\"type\":\"Column\"},{\"attributes\":{\"fill_alpha\":{\"value\":0.1},\"fill_color\":{\"value\":\"#1E988A\"},\"hatch_alpha\":{\"value\":0.1},\"hatch_color\":{\"value\":\"#1E988A\"},\"line_alpha\":{\"value\":0.1},\"line_color\":{\"value\":\"#1E988A\"},\"marker\":{\"value\":\"diamond\"},\"size\":{\"value\":10},\"x\":{\"field\":\"date_time\"},\"y\":{\"field\":\"y_index\"}},\"id\":\"3006\",\"type\":\"Scatter\"},{\"attributes\":{\"fill_color\":{\"value\":\"#31658D\"},\"hatch_color\":{\"value\":\"#31658D\"},\"line_color\":{\"value\":\"#31658D\"},\"x\":{\"field\":\"date_time\"},\"y\":{\"field\":\"y_index\"}},\"id\":\"2699\",\"type\":\"Circle\"},{\"attributes\":{\"fill_alpha\":{\"value\":0.1},\"fill_color\":{\"value\":\"#287B8E\"},\"hatch_alpha\":{\"value\":0.1},\"hatch_color\":{\"value\":\"#287B8E\"},\"line_alpha\":{\"value\":0.1},\"line_color\":{\"value\":\"#287B8E\"},\"marker\":{\"value\":\"diamond\"},\"size\":{\"value\":10},\"x\":{\"field\":\"date_time\"},\"y\":{\"field\":\"y_index\"}},\"id\":\"2971\",\"type\":\"Scatter\"},{\"attributes\":{\"fill_alpha\":{\"value\":0.2},\"fill_color\":{\"value\":\"#287B8E\"},\"hatch_alpha\":{\"value\":0.2},\"hatch_color\":{\"value\":\"#287B8E\"},\"line_alpha\":{\"value\":0.2},\"line_color\":{\"value\":\"#287B8E\"},\"marker\":{\"value\":\"diamond\"},\"size\":{\"value\":10},\"x\":{\"field\":\"date_time\"},\"y\":{\"field\":\"y_index\"}},\"id\":\"2972\",\"type\":\"Scatter\"},{\"attributes\":{\"coordinates\":null,\"data_source\":{\"id\":\"2547\"},\"glyph\":{\"id\":\"2998\"},\"group\":null,\"hover_glyph\":null,\"muted_glyph\":{\"id\":\"3000\"},\"nonselection_glyph\":{\"id\":\"2999\"},\"view\":{\"id\":\"3002\"}},\"id\":\"3001\",\"type\":\"GlyphRenderer\"},{\"attributes\":{\"coordinates\":null,\"data_source\":{\"id\":\"2543\"},\"glyph\":{\"id\":\"2970\"},\"group\":null,\"hover_glyph\":null,\"muted_glyph\":{\"id\":\"2972\"},\"nonselection_glyph\":{\"id\":\"2971\"},\"view\":{\"id\":\"2974\"}},\"id\":\"2973\",\"type\":\"GlyphRenderer\"},{\"attributes\":{\"fill_alpha\":{\"value\":0.1},\"fill_color\":{\"value\":\"#1F928C\"},\"hatch_alpha\":{\"value\":0.1},\"hatch_color\":{\"value\":\"#1F928C\"},\"line_alpha\":{\"value\":0.1},\"line_color\":{\"value\":\"#1F928C\"},\"marker\":{\"value\":\"diamond\"},\"size\":{\"value\":10},\"x\":{\"field\":\"date_time\"},\"y\":{\"field\":\"y_index\"}},\"id\":\"2999\",\"type\":\"Scatter\"},{\"attributes\":{\"label\":{\"value\":\"u33\"},\"renderers\":[{\"id\":\"2973\"}]},\"id\":\"2975\",\"type\":\"LegendItem\"},{\"attributes\":{\"source\":{\"id\":\"2543\"}},\"id\":\"2974\",\"type\":\"CDSView\"},{\"attributes\":{\"data\":{\"date_time\":{\"__ndarray__\":\"AAAgam7kc0IAAHjYaeZzQgAA0g2s53NCAABkSMHnc0IAACaj7elzQgAAWOgA53NCAADkfBznc0IAAAi0/eZzQgAAkP++6HNCAABW2qTpc0IAANzB3OlzQgAAGF9N63NCAADqtozrc0IAAGqBQO1zQgAAuB2B73NCAADsNc3tc0IAAETWH+5zQgAAnOsa73NC\",\"dtype\":\"float64\",\"order\":\"little\",\"shape\":[18]},\"index\":[184,185,186,187,188,189,190,191,192,193,194,195,196,197,198,199,200,201],\"y_index\":[29,29,29,29,29,29,29,29,29,29,29,29,29,29,29,29,29,29]},\"selected\":{\"id\":\"3172\"},\"selection_policy\":{\"id\":\"3171\"}},\"id\":\"2554\",\"type\":\"ColumnDataSource\"},{\"attributes\":{\"fill_alpha\":{\"value\":0.2},\"fill_color\":{\"value\":\"#1F928C\"},\"hatch_alpha\":{\"value\":0.2},\"hatch_color\":{\"value\":\"#1F928C\"},\"line_alpha\":{\"value\":0.2},\"line_color\":{\"value\":\"#1F928C\"},\"marker\":{\"value\":\"diamond\"},\"size\":{\"value\":10},\"x\":{\"field\":\"date_time\"},\"y\":{\"field\":\"y_index\"}},\"id\":\"3000\",\"type\":\"Scatter\"},{\"attributes\":{\"fill_alpha\":{\"value\":0.5},\"fill_color\":{\"value\":\"#1F928C\"},\"hatch_alpha\":{\"value\":0.5},\"hatch_color\":{\"value\":\"#1F928C\"},\"line_alpha\":{\"value\":0.5},\"line_color\":{\"value\":\"#1F928C\"},\"marker\":{\"value\":\"diamond\"},\"size\":{\"value\":10},\"x\":{\"field\":\"date_time\"},\"y\":{\"field\":\"y_index\"}},\"id\":\"2998\",\"type\":\"Scatter\"},{\"attributes\":{\"fill_alpha\":{\"value\":0.5},\"fill_color\":{\"value\":\"#81D34C\"},\"hatch_alpha\":{\"value\":0.5},\"hatch_color\":{\"value\":\"#81D34C\"},\"line_alpha\":{\"value\":0.5},\"line_color\":{\"value\":\"#81D34C\"},\"marker\":{\"value\":\"diamond\"},\"size\":{\"value\":10},\"x\":{\"field\":\"date_time\"},\"y\":{\"field\":\"y_index\"}},\"id\":\"3089\",\"type\":\"Scatter\"},{\"attributes\":{\"coordinates\":null,\"data_source\":{\"id\":\"2527\"},\"glyph\":{\"id\":\"2627\"},\"group\":null,\"hover_glyph\":null,\"muted_glyph\":{\"id\":\"2629\"},\"nonselection_glyph\":{\"id\":\"2628\"},\"view\":{\"id\":\"2631\"}},\"id\":\"2630\",\"type\":\"GlyphRenderer\"},{\"attributes\":{\"coordinates\":null,\"data_source\":{\"id\":\"2538\"},\"glyph\":{\"id\":\"2693\"},\"group\":null,\"hover_glyph\":null,\"muted_glyph\":{\"id\":\"2695\"},\"nonselection_glyph\":{\"id\":\"2694\"},\"view\":{\"id\":\"2697\"}},\"id\":\"2696\",\"type\":\"GlyphRenderer\"},{\"attributes\":{\"label\":{\"value\":\"u41\"},\"renderers\":[{\"id\":\"3001\"}]},\"id\":\"3003\",\"type\":\"LegendItem\"},{\"attributes\":{\"source\":{\"id\":\"2547\"}},\"id\":\"3002\",\"type\":\"CDSView\"},{\"attributes\":{\"fill_alpha\":{\"value\":0.5},\"fill_color\":{\"value\":\"#1E988A\"},\"hatch_alpha\":{\"value\":0.5},\"hatch_color\":{\"value\":\"#1E988A\"},\"line_alpha\":{\"value\":0.5},\"line_color\":{\"value\":\"#1E988A\"},\"marker\":{\"value\":\"diamond\"},\"size\":{\"value\":10},\"x\":{\"field\":\"date_time\"},\"y\":{\"field\":\"y_index\"}},\"id\":\"3005\",\"type\":\"Scatter\"},{\"attributes\":{\"fill_alpha\":{\"value\":0.2},\"fill_color\":{\"value\":\"#1E988A\"},\"hatch_alpha\":{\"value\":0.2},\"hatch_color\":{\"value\":\"#1E988A\"},\"line_alpha\":{\"value\":0.2},\"line_color\":{\"value\":\"#1E988A\"},\"marker\":{\"value\":\"diamond\"},\"size\":{\"value\":10},\"x\":{\"field\":\"date_time\"},\"y\":{\"field\":\"y_index\"}},\"id\":\"3007\",\"type\":\"Scatter\"},{\"attributes\":{\"source\":{\"id\":\"2559\"}},\"id\":\"3086\",\"type\":\"CDSView\"},{\"attributes\":{\"coordinates\":null,\"data_source\":{\"id\":\"2548\"},\"glyph\":{\"id\":\"3005\"},\"group\":null,\"hover_glyph\":null,\"muted_glyph\":{\"id\":\"3007\"},\"nonselection_glyph\":{\"id\":\"3006\"},\"view\":{\"id\":\"3009\"}},\"id\":\"3008\",\"type\":\"GlyphRenderer\"},{\"attributes\":{\"coordinates\":null,\"group\":null,\"text\":\"Timeline: Events\"},\"id\":\"2564\",\"type\":\"Title\"},{\"attributes\":{\"fill_alpha\":{\"value\":0.1},\"fill_color\":{\"value\":\"#1E9D88\"},\"hatch_alpha\":{\"value\":0.1},\"hatch_color\":{\"value\":\"#1E9D88\"},\"line_alpha\":{\"value\":0.1},\"line_color\":{\"value\":\"#1E9D88\"},\"marker\":{\"value\":\"diamond\"},\"size\":{\"value\":10},\"x\":{\"field\":\"date_time\"},\"y\":{\"field\":\"y_index\"}},\"id\":\"3013\",\"type\":\"Scatter\"},{\"attributes\":{\"data\":{\"date_time\":{\"__ndarray__\":\"AAACccHkc0IAAAT88+hzQgAAngJD6nNCAACYMdzrc0IAAIqRaO9zQgAAmt6v8HNC\",\"dtype\":\"float64\",\"order\":\"little\",\"shape\":[6]},\"index\":[384,385,386,387,388,389],\"y_index\":[33,33,33,33,33,33]},\"selected\":{\"id\":\"3180\"},\"selection_policy\":{\"id\":\"3179\"}},\"id\":\"2558\",\"type\":\"ColumnDataSource\"},{\"attributes\":{\"label\":{\"value\":\"u42\"},\"renderers\":[{\"id\":\"3008\"}]},\"id\":\"3010\",\"type\":\"LegendItem\"},{\"attributes\":{\"fill_alpha\":{\"value\":0.1},\"fill_color\":{\"value\":\"#48196B\"},\"hatch_alpha\":{\"value\":0.1},\"hatch_color\":{\"value\":\"#48196B\"},\"line_alpha\":{\"value\":0.1},\"line_color\":{\"value\":\"#48196B\"},\"x\":{\"field\":\"date_time\"},\"y\":{\"field\":\"y_index\"}},\"id\":\"2634\",\"type\":\"Circle\"},{\"attributes\":{\"coordinates\":null,\"data_source\":{\"id\":\"2530\"},\"glyph\":{\"id\":\"2645\"},\"group\":null,\"hover_glyph\":null,\"muted_glyph\":{\"id\":\"2647\"},\"nonselection_glyph\":{\"id\":\"2646\"},\"view\":{\"id\":\"2649\"}},\"id\":\"2648\",\"type\":\"GlyphRenderer\"},{\"attributes\":{\"source\":{\"id\":\"2548\"}},\"id\":\"3009\",\"type\":\"CDSView\"},{\"attributes\":{\"fill_alpha\":{\"value\":0.5},\"fill_color\":{\"value\":\"#1E9D88\"},\"hatch_alpha\":{\"value\":0.5},\"hatch_color\":{\"value\":\"#1E9D88\"},\"line_alpha\":{\"value\":0.5},\"line_color\":{\"value\":\"#1E9D88\"},\"marker\":{\"value\":\"diamond\"},\"size\":{\"value\":10},\"x\":{\"field\":\"date_time\"},\"y\":{\"field\":\"y_index\"}},\"id\":\"3012\",\"type\":\"Scatter\"},{\"attributes\":{\"data\":{\"date_time\":{\"__ndarray__\":\"AADcNFDlc0IAAAYMMuRzQgAA3ssh5HNCAACu2Z3kc0IAAK6iPuRzQgAAcJ5x5HNCAADqjL3kc0IAAD7skOVzQgAAErgP5XNCAAA6RD3lc0IAAPynNeVzQgAAHuha5XNCAACGWlPlc0IAAJIwreVzQgAAsFnP5XNCAABiPinmc0IAAASQF+ZzQgAAtKBH5nNCAACSUk7mc0IAAKj6YuZzQgAAMCV05nNCAABcebTpc0IAAPpA2eZzQgAAgAV/53NCAAA8DMjqc0IAAAxxD+dzQgAA0pAo6HNCAACsFm7oc0IAAJCEHedzQgAAYN+n5nNCAADsJrXnc0IAAEADDOhzQgAARr+05nNCAACAggLnc0IAAJTRjuhzQgAA0idy6XNCAACYpE/nc0IAAChkO+hzQgAAsJNU6nNCAACuKsPmc0IAALDmW+pzQgAAHsPm53NCAACoKPboc0IAABjlnOhzQgAAHHgy6XNCAACAKzfrc0IAADzNjetzQgAA+Bvd63NCAADsg8zrc0IAACB/f+tzQgAAAhcj7HNCAAC2TCrsc0IAAL7GTexzQgAAzN+A7HNCAAAiFG/sc0IAABTfk+xzQgAAqiLY7HNCAADUpcHsc0IAAJoZ0+xzQgAAYlM67XNCAAAwAybtc0IAAPi5EO1zQgAAEvuz7nNCAADQsF/tc0IAAHL0ee1zQgAATipm73NCAAAGp+Xvc0IAAEaBvu1zQgAA5Hxv7nNCAACKRUvvc0IAADr2kO5zQgAAJlMM7nNCAADKcTruc0IAALZDXu5zQgAA+C3I7nNCAAAIpnzuc0IAAAZVz+5zQgAAfg4W73NCAAD6i1jvc0IAACA2iO9zQgAANiq673NCAAAoXaTvc0IAAPpoxu9zQgAAEHiv8HNCAADYc83wc0IAAJiAH/BzQgAAKq1g8HNCAAA2mHjwc0IAAHr8GvFzQgAAJgsG8XNCAABmx1Txc0IAAErGVPBzQgAA1JoT8XNCAAAaSmrwc0IAACyx//BzQgAAXsq08HNCAADWBnjxc0IAAPxB+PFzQg==\",\"dtype\":\"float64\",\"order\":\"little\",\"shape\":[98]},\"index\":[46,47,48,49,50,51,52,53,54,55,56,57,58,59,60,61,62,63,64,65,66,67,68,69,70,71,72,73,74,75,76,77,78,79,80,81,82,83,84,85,86,87,88,89,90,91,92,93,94,95,96,97,98,99,100,101,102,103,104,105,106,107,108,109,110,111,112,113,114,115,116,117,118,119,120,121,122,123,124,125,126,127,128,129,130,131,132,133,134,135,136,137,138,139,140,141,142,143],\"y_index\":[36,36,36,36,36,36,36,36,36,36,36,36,36,36,36,36,36,36,36,36,36,36,36,36,36,36,36,36,36,36,36,36,36,36,36,36,36,36,36,36,36,36,36,36,36,36,36,36,36,36,36,36,36,36,36,36,36,36,36,36,36,36,36,36,36,36,36,36,36,36,36,36,36,36,36,36,36,36,36,36,36,36,36,36,36,36,36,36,36,36,36,36,36,36,36,36,36,36]},\"selected\":{\"id\":\"3186\"},\"selection_policy\":{\"id\":\"3185\"}},\"id\":\"2561\",\"type\":\"ColumnDataSource\"},{\"attributes\":{\"fill_alpha\":{\"value\":0.2},\"fill_color\":{\"value\":\"#472878\"},\"hatch_alpha\":{\"value\":0.2},\"hatch_color\":{\"value\":\"#472878\"},\"line_alpha\":{\"value\":0.2},\"line_color\":{\"value\":\"#472878\"},\"x\":{\"field\":\"date_time\"},\"y\":{\"field\":\"y_index\"}},\"id\":\"2647\",\"type\":\"Circle\"},{\"attributes\":{\"fill_alpha\":{\"value\":0.1},\"fill_color\":{\"value\":\"#81D34C\"},\"hatch_alpha\":{\"value\":0.1},\"hatch_color\":{\"value\":\"#81D34C\"},\"line_alpha\":{\"value\":0.1},\"line_color\":{\"value\":\"#81D34C\"},\"marker\":{\"value\":\"diamond\"},\"size\":{\"value\":10},\"x\":{\"field\":\"date_time\"},\"y\":{\"field\":\"y_index\"}},\"id\":\"3090\",\"type\":\"Scatter\"},{\"attributes\":{\"fill_alpha\":{\"value\":0.2},\"fill_color\":{\"value\":\"#46307D\"},\"hatch_alpha\":{\"value\":0.2},\"hatch_color\":{\"value\":\"#46307D\"},\"line_alpha\":{\"value\":0.2},\"line_color\":{\"value\":\"#46307D\"},\"x\":{\"field\":\"date_time\"},\"y\":{\"field\":\"y_index\"}},\"id\":\"2653\",\"type\":\"Circle\"},{\"attributes\":{\"fill_alpha\":{\"value\":0.2},\"fill_color\":{\"value\":\"#1E9D88\"},\"hatch_alpha\":{\"value\":0.2},\"hatch_color\":{\"value\":\"#1E9D88\"},\"line_alpha\":{\"value\":0.2},\"line_color\":{\"value\":\"#1E9D88\"},\"marker\":{\"value\":\"diamond\"},\"size\":{\"value\":10},\"x\":{\"field\":\"date_time\"},\"y\":{\"field\":\"y_index\"}},\"id\":\"3014\",\"type\":\"Scatter\"},{\"attributes\":{\"label\":{\"value\":\"u57\"},\"renderers\":[{\"id\":\"3085\"}]},\"id\":\"3087\",\"type\":\"LegendItem\"},{\"attributes\":{\"coordinates\":null,\"data_source\":{\"id\":\"2549\"},\"glyph\":{\"id\":\"3012\"},\"group\":null,\"hover_glyph\":null,\"muted_glyph\":{\"id\":\"3014\"},\"nonselection_glyph\":{\"id\":\"3013\"},\"view\":{\"id\":\"3016\"}},\"id\":\"3015\",\"type\":\"GlyphRenderer\"},{\"attributes\":{\"fill_alpha\":{\"value\":0.1},\"fill_color\":{\"value\":\"#1FA386\"},\"hatch_alpha\":{\"value\":0.1},\"hatch_color\":{\"value\":\"#1FA386\"},\"line_alpha\":{\"value\":0.1},\"line_color\":{\"value\":\"#1FA386\"},\"marker\":{\"value\":\"diamond\"},\"size\":{\"value\":10},\"x\":{\"field\":\"date_time\"},\"y\":{\"field\":\"y_index\"}},\"id\":\"3020\",\"type\":\"Scatter\"},{\"attributes\":{\"coordinates\":null,\"data_source\":{\"id\":\"2537\"},\"glyph\":{\"id\":\"2687\"},\"group\":null,\"hover_glyph\":null,\"muted_glyph\":{\"id\":\"2689\"},\"nonselection_glyph\":{\"id\":\"2688\"},\"view\":{\"id\":\"2691\"}},\"id\":\"2690\",\"type\":\"GlyphRenderer\"},{\"attributes\":{\"data\":{\"date_time\":{\"__ndarray__\":\"AAA+Yxvkc0IAAPr9h+RzQgAAaqp45nNCAACYGfjnc0I=\",\"dtype\":\"float64\",\"order\":\"little\",\"shape\":[4]},\"index\":[251,252,253,254],\"y_index\":[2,2,2,2]},\"selected\":{\"id\":\"3118\"},\"selection_policy\":{\"id\":\"3117\"}},\"id\":\"2527\",\"type\":\"ColumnDataSource\"},{\"attributes\":{\"label\":{\"value\":\"u43\"},\"renderers\":[{\"id\":\"3015\"}]},\"id\":\"3017\",\"type\":\"LegendItem\"},{\"attributes\":{\"coordinates\":null,\"data_source\":{\"id\":\"2529\"},\"glyph\":{\"id\":\"2639\"},\"group\":null,\"hover_glyph\":null,\"muted_glyph\":{\"id\":\"2641\"},\"nonselection_glyph\":{\"id\":\"2640\"},\"view\":{\"id\":\"2643\"}},\"id\":\"2642\",\"type\":\"GlyphRenderer\"},{\"attributes\":{\"source\":{\"id\":\"2549\"}},\"id\":\"3016\",\"type\":\"CDSView\"},{\"attributes\":{\"fill_alpha\":{\"value\":0.5},\"fill_color\":{\"value\":\"#1FA386\"},\"hatch_alpha\":{\"value\":0.5},\"hatch_color\":{\"value\":\"#1FA386\"},\"line_alpha\":{\"value\":0.5},\"line_color\":{\"value\":\"#1FA386\"},\"marker\":{\"value\":\"diamond\"},\"size\":{\"value\":10},\"x\":{\"field\":\"date_time\"},\"y\":{\"field\":\"y_index\"}},\"id\":\"3019\",\"type\":\"Scatter\"},{\"attributes\":{\"fill_alpha\":{\"value\":0.2},\"fill_color\":{\"value\":\"#345F8D\"},\"hatch_alpha\":{\"value\":0.2},\"hatch_color\":{\"value\":\"#345F8D\"},\"line_alpha\":{\"value\":0.2},\"line_color\":{\"value\":\"#345F8D\"},\"x\":{\"field\":\"date_time\"},\"y\":{\"field\":\"y_index\"}},\"id\":\"2695\",\"type\":\"Circle\"},{\"attributes\":{\"fill_alpha\":{\"value\":0.2},\"fill_color\":{\"value\":\"#1FA386\"},\"hatch_alpha\":{\"value\":0.2},\"hatch_color\":{\"value\":\"#1FA386\"},\"line_alpha\":{\"value\":0.2},\"line_color\":{\"value\":\"#1FA386\"},\"marker\":{\"value\":\"diamond\"},\"size\":{\"value\":10},\"x\":{\"field\":\"date_time\"},\"y\":{\"field\":\"y_index\"}},\"id\":\"3021\",\"type\":\"Scatter\"},{\"attributes\":{\"source\":{\"id\":\"2525\"}},\"id\":\"2619\",\"type\":\"CDSView\"},{\"attributes\":{\"coordinates\":null,\"data_source\":{\"id\":\"2559\"},\"glyph\":{\"id\":\"3082\"},\"group\":null,\"hover_glyph\":null,\"muted_glyph\":{\"id\":\"3084\"},\"nonselection_glyph\":{\"id\":\"3083\"},\"view\":{\"id\":\"3086\"}},\"id\":\"3085\",\"type\":\"GlyphRenderer\"},{\"attributes\":{\"coordinates\":null,\"data_source\":{\"id\":\"2550\"},\"glyph\":{\"id\":\"3019\"},\"group\":null,\"hover_glyph\":null,\"muted_glyph\":{\"id\":\"3021\"},\"nonselection_glyph\":{\"id\":\"3020\"},\"view\":{\"id\":\"3023\"}},\"id\":\"3022\",\"type\":\"GlyphRenderer\"},{\"attributes\":{\"fill_alpha\":{\"value\":0.1},\"fill_color\":{\"value\":\"#23A883\"},\"hatch_alpha\":{\"value\":0.1},\"hatch_color\":{\"value\":\"#23A883\"},\"line_alpha\":{\"value\":0.1},\"line_color\":{\"value\":\"#23A883\"},\"marker\":{\"value\":\"diamond\"},\"size\":{\"value\":10},\"x\":{\"field\":\"date_time\"},\"y\":{\"field\":\"y_index\"}},\"id\":\"3027\",\"type\":\"Scatter\"},{\"attributes\":{\"label\":{\"value\":\"u44\"},\"renderers\":[{\"id\":\"3022\"}]},\"id\":\"3024\",\"type\":\"LegendItem\"},{\"attributes\":{\"num_minor_ticks\":5,\"tickers\":[{\"id\":\"3201\"},{\"id\":\"3202\"},{\"id\":\"3203\"},{\"id\":\"3204\"},{\"id\":\"3205\"},{\"id\":\"3206\"},{\"id\":\"3207\"},{\"id\":\"3208\"},{\"id\":\"3209\"},{\"id\":\"3210\"},{\"id\":\"3211\"},{\"id\":\"3212\"}]},\"id\":\"2607\",\"type\":\"DatetimeTicker\"},{\"attributes\":{\"source\":{\"id\":\"2550\"}},\"id\":\"3023\",\"type\":\"CDSView\"},{\"attributes\":{\"fill_alpha\":{\"value\":0.5},\"fill_color\":{\"value\":\"#23A883\"},\"hatch_alpha\":{\"value\":0.5},\"hatch_color\":{\"value\":\"#23A883\"},\"line_alpha\":{\"value\":0.5},\"line_color\":{\"value\":\"#23A883\"},\"marker\":{\"value\":\"diamond\"},\"size\":{\"value\":10},\"x\":{\"field\":\"date_time\"},\"y\":{\"field\":\"y_index\"}},\"id\":\"3026\",\"type\":\"Scatter\"},{\"attributes\":{\"fill_alpha\":{\"value\":0.2},\"fill_color\":{\"value\":\"#23A883\"},\"hatch_alpha\":{\"value\":0.2},\"hatch_color\":{\"value\":\"#23A883\"},\"line_alpha\":{\"value\":0.2},\"line_color\":{\"value\":\"#23A883\"},\"marker\":{\"value\":\"diamond\"},\"size\":{\"value\":10},\"x\":{\"field\":\"date_time\"},\"y\":{\"field\":\"y_index\"}},\"id\":\"3028\",\"type\":\"Scatter\"},{\"attributes\":{\"fill_alpha\":{\"value\":0.2},\"fill_color\":{\"value\":\"#72CF55\"},\"hatch_alpha\":{\"value\":0.2},\"hatch_color\":{\"value\":\"#72CF55\"},\"line_alpha\":{\"value\":0.2},\"line_color\":{\"value\":\"#72CF55\"},\"marker\":{\"value\":\"diamond\"},\"size\":{\"value\":10},\"x\":{\"field\":\"date_time\"},\"y\":{\"field\":\"y_index\"}},\"id\":\"3084\",\"type\":\"Scatter\"},{\"attributes\":{\"fill_alpha\":{\"value\":0.1},\"fill_color\":{\"value\":\"#472878\"},\"hatch_alpha\":{\"value\":0.1},\"hatch_color\":{\"value\":\"#472878\"},\"line_alpha\":{\"value\":0.1},\"line_color\":{\"value\":\"#472878\"},\"x\":{\"field\":\"date_time\"},\"y\":{\"field\":\"y_index\"}},\"id\":\"2646\",\"type\":\"Circle\"},{\"attributes\":{\"coordinates\":null,\"data_source\":{\"id\":\"2551\"},\"glyph\":{\"id\":\"3026\"},\"group\":null,\"hover_glyph\":null,\"muted_glyph\":{\"id\":\"3028\"},\"nonselection_glyph\":{\"id\":\"3027\"},\"view\":{\"id\":\"3030\"}},\"id\":\"3029\",\"type\":\"GlyphRenderer\"},{\"attributes\":{\"fill_alpha\":{\"value\":0.1},\"fill_color\":{\"value\":\"#28AE7F\"},\"hatch_alpha\":{\"value\":0.1},\"hatch_color\":{\"value\":\"#28AE7F\"},\"line_alpha\":{\"value\":0.1},\"line_color\":{\"value\":\"#28AE7F\"},\"marker\":{\"value\":\"diamond\"},\"size\":{\"value\":10},\"x\":{\"field\":\"date_time\"},\"y\":{\"field\":\"y_index\"}},\"id\":\"3034\",\"type\":\"Scatter\"},{\"attributes\":{\"label\":{\"value\":\"u45\"},\"renderers\":[{\"id\":\"3029\"}]},\"id\":\"3031\",\"type\":\"LegendItem\"},{\"attributes\":{\"source\":{\"id\":\"2551\"}},\"id\":\"3030\",\"type\":\"CDSView\"},{\"attributes\":{\"fill_alpha\":{\"value\":0.5},\"fill_color\":{\"value\":\"#28AE7F\"},\"hatch_alpha\":{\"value\":0.5},\"hatch_color\":{\"value\":\"#28AE7F\"},\"line_alpha\":{\"value\":0.5},\"line_color\":{\"value\":\"#28AE7F\"},\"marker\":{\"value\":\"diamond\"},\"size\":{\"value\":10},\"x\":{\"field\":\"date_time\"},\"y\":{\"field\":\"y_index\"}},\"id\":\"3033\",\"type\":\"Scatter\"},{\"attributes\":{\"fill_alpha\":{\"value\":0.5},\"fill_color\":{\"value\":\"#72CF55\"},\"hatch_alpha\":{\"value\":0.5},\"hatch_color\":{\"value\":\"#72CF55\"},\"line_alpha\":{\"value\":0.5},\"line_color\":{\"value\":\"#72CF55\"},\"marker\":{\"value\":\"diamond\"},\"size\":{\"value\":10},\"x\":{\"field\":\"date_time\"},\"y\":{\"field\":\"y_index\"}},\"id\":\"3082\",\"type\":\"Scatter\"},{\"attributes\":{\"fill_alpha\":{\"value\":0.2},\"fill_color\":{\"value\":\"#28AE7F\"},\"hatch_alpha\":{\"value\":0.2},\"hatch_color\":{\"value\":\"#28AE7F\"},\"line_alpha\":{\"value\":0.2},\"line_color\":{\"value\":\"#28AE7F\"},\"marker\":{\"value\":\"diamond\"},\"size\":{\"value\":10},\"x\":{\"field\":\"date_time\"},\"y\":{\"field\":\"y_index\"}},\"id\":\"3035\",\"type\":\"Scatter\"},{\"attributes\":{\"coordinates\":null,\"data_source\":{\"id\":\"2552\"},\"glyph\":{\"id\":\"3033\"},\"group\":null,\"hover_glyph\":null,\"muted_glyph\":{\"id\":\"3035\"},\"nonselection_glyph\":{\"id\":\"3034\"},\"view\":{\"id\":\"3037\"}},\"id\":\"3036\",\"type\":\"GlyphRenderer\"},{\"attributes\":{\"fill_color\":{\"value\":\"#2F6A8D\"},\"hatch_color\":{\"value\":\"#2F6A8D\"},\"line_color\":{\"value\":\"#2F6A8D\"},\"x\":{\"field\":\"date_time\"},\"y\":{\"field\":\"y_index\"}},\"id\":\"2705\",\"type\":\"Circle\"},{\"attributes\":{\"months\":[0,2,4,6,8,10]},\"id\":\"3196\",\"type\":\"MonthsTicker\"},{\"attributes\":{\"fill_alpha\":{\"value\":0.1},\"fill_color\":{\"value\":\"#2FB37B\"},\"hatch_alpha\":{\"value\":0.1},\"hatch_color\":{\"value\":\"#2FB37B\"},\"line_alpha\":{\"value\":0.1},\"line_color\":{\"value\":\"#2FB37B\"},\"marker\":{\"value\":\"diamond\"},\"size\":{\"value\":10},\"x\":{\"field\":\"date_time\"},\"y\":{\"field\":\"y_index\"}},\"id\":\"3041\",\"type\":\"Scatter\"},{\"attributes\":{\"source\":{\"id\":\"2530\"}},\"id\":\"2649\",\"type\":\"CDSView\"},{\"attributes\":{\"label\":{\"value\":\"u46\"},\"renderers\":[{\"id\":\"3036\"}]},\"id\":\"3038\",\"type\":\"LegendItem\"},{\"attributes\":{\"data\":{\"date_time\":{\"__ndarray__\":\"AAA6wcDkc0IAAILJ8ulzQgAAhMGf6HNCAAA671Pnc0IAAI4kq+hzQgAA9hFF6nNCAADe6f7oc0I=\",\"dtype\":\"float64\",\"order\":\"little\",\"shape\":[7]},\"index\":[162,163,164,165,166,167,168],\"y_index\":[4,4,4,4,4,4,4]},\"selected\":{\"id\":\"3122\"},\"selection_policy\":{\"id\":\"3121\"}},\"id\":\"2529\",\"type\":\"ColumnDataSource\"},{\"attributes\":{\"source\":{\"id\":\"2552\"}},\"id\":\"3037\",\"type\":\"CDSView\"},{\"attributes\":{\"fill_alpha\":{\"value\":0.5},\"fill_color\":{\"value\":\"#2FB37B\"},\"hatch_alpha\":{\"value\":0.5},\"hatch_color\":{\"value\":\"#2FB37B\"},\"line_alpha\":{\"value\":0.5},\"line_color\":{\"value\":\"#2FB37B\"},\"marker\":{\"value\":\"diamond\"},\"size\":{\"value\":10},\"x\":{\"field\":\"date_time\"},\"y\":{\"field\":\"y_index\"}},\"id\":\"3040\",\"type\":\"Scatter\"},{\"attributes\":{\"fill_alpha\":{\"value\":0.2},\"fill_color\":{\"value\":\"#2FB37B\"},\"hatch_alpha\":{\"value\":0.2},\"hatch_color\":{\"value\":\"#2FB37B\"},\"line_alpha\":{\"value\":0.2},\"line_color\":{\"value\":\"#2FB37B\"},\"marker\":{\"value\":\"diamond\"},\"size\":{\"value\":10},\"x\":{\"field\":\"date_time\"},\"y\":{\"field\":\"y_index\"}},\"id\":\"3042\",\"type\":\"Scatter\"},{\"attributes\":{\"source\":{\"id\":\"2529\"}},\"id\":\"2643\",\"type\":\"CDSView\"},{\"attributes\":{\"source\":{\"id\":\"2558\"}},\"id\":\"3079\",\"type\":\"CDSView\"},{\"attributes\":{\"coordinates\":null,\"data_source\":{\"id\":\"2553\"},\"glyph\":{\"id\":\"3040\"},\"group\":null,\"hover_glyph\":null,\"muted_glyph\":{\"id\":\"3042\"},\"nonselection_glyph\":{\"id\":\"3041\"},\"view\":{\"id\":\"3044\"}},\"id\":\"3043\",\"type\":\"GlyphRenderer\"},{\"attributes\":{},\"id\":\"3199\",\"type\":\"YearsTicker\"},{\"attributes\":{\"fill_alpha\":{\"value\":0.1},\"fill_color\":{\"value\":\"#36B877\"},\"hatch_alpha\":{\"value\":0.1},\"hatch_color\":{\"value\":\"#36B877\"},\"line_alpha\":{\"value\":0.1},\"line_color\":{\"value\":\"#36B877\"},\"marker\":{\"value\":\"diamond\"},\"size\":{\"value\":10},\"x\":{\"field\":\"date_time\"},\"y\":{\"field\":\"y_index\"}},\"id\":\"3048\",\"type\":\"Scatter\"},{\"attributes\":{\"label\":{\"value\":\"u47\"},\"renderers\":[{\"id\":\"3043\"}]},\"id\":\"3045\",\"type\":\"LegendItem\"},{\"attributes\":{\"num_minor_ticks\":10,\"tickers\":[{\"id\":\"3188\"},{\"id\":\"3189\"},{\"id\":\"3190\"},{\"id\":\"3191\"},{\"id\":\"3192\"},{\"id\":\"3193\"},{\"id\":\"3194\"},{\"id\":\"3195\"},{\"id\":\"3196\"},{\"id\":\"3197\"},{\"id\":\"3198\"},{\"id\":\"3199\"}]},\"id\":\"2575\",\"type\":\"DatetimeTicker\"},{\"attributes\":{\"source\":{\"id\":\"2553\"}},\"id\":\"3044\",\"type\":\"CDSView\"},{\"attributes\":{\"fill_alpha\":{\"value\":0.5},\"fill_color\":{\"value\":\"#36B877\"},\"hatch_alpha\":{\"value\":0.5},\"hatch_color\":{\"value\":\"#36B877\"},\"line_alpha\":{\"value\":0.5},\"line_color\":{\"value\":\"#36B877\"},\"marker\":{\"value\":\"diamond\"},\"size\":{\"value\":10},\"x\":{\"field\":\"date_time\"},\"y\":{\"field\":\"y_index\"}},\"id\":\"3047\",\"type\":\"Scatter\"},{\"attributes\":{\"fill_alpha\":{\"value\":0.1},\"fill_color\":{\"value\":\"#72CF55\"},\"hatch_alpha\":{\"value\":0.1},\"hatch_color\":{\"value\":\"#72CF55\"},\"line_alpha\":{\"value\":0.1},\"line_color\":{\"value\":\"#72CF55\"},\"marker\":{\"value\":\"diamond\"},\"size\":{\"value\":10},\"x\":{\"field\":\"date_time\"},\"y\":{\"field\":\"y_index\"}},\"id\":\"3083\",\"type\":\"Scatter\"},{\"attributes\":{\"fill_alpha\":{\"value\":0.2},\"fill_color\":{\"value\":\"#36B877\"},\"hatch_alpha\":{\"value\":0.2},\"hatch_color\":{\"value\":\"#36B877\"},\"line_alpha\":{\"value\":0.2},\"line_color\":{\"value\":\"#36B877\"},\"marker\":{\"value\":\"diamond\"},\"size\":{\"value\":10},\"x\":{\"field\":\"date_time\"},\"y\":{\"field\":\"y_index\"}},\"id\":\"3049\",\"type\":\"Scatter\"},{\"attributes\":{\"label\":{\"value\":\"u56\"},\"renderers\":[{\"id\":\"3078\"}]},\"id\":\"3080\",\"type\":\"LegendItem\"},{\"attributes\":{\"coordinates\":null,\"data_source\":{\"id\":\"2554\"},\"glyph\":{\"id\":\"3047\"},\"group\":null,\"hover_glyph\":null,\"muted_glyph\":{\"id\":\"3049\"},\"nonselection_glyph\":{\"id\":\"3048\"},\"view\":{\"id\":\"3051\"}},\"id\":\"3050\",\"type\":\"GlyphRenderer\"},{\"attributes\":{\"fill_alpha\":{\"value\":0.1},\"fill_color\":{\"value\":\"#40BD72\"},\"hatch_alpha\":{\"value\":0.1},\"hatch_color\":{\"value\":\"#40BD72\"},\"line_alpha\":{\"value\":0.1},\"line_color\":{\"value\":\"#40BD72\"},\"marker\":{\"value\":\"diamond\"},\"size\":{\"value\":10},\"x\":{\"field\":\"date_time\"},\"y\":{\"field\":\"y_index\"}},\"id\":\"3055\",\"type\":\"Scatter\"},{\"attributes\":{},\"id\":\"2579\",\"type\":\"BasicTicker\"},{\"attributes\":{\"label\":{\"value\":\"u49\"},\"renderers\":[{\"id\":\"3050\"}]},\"id\":\"3052\",\"type\":\"LegendItem\"},{\"attributes\":{\"source\":{\"id\":\"2554\"}},\"id\":\"3051\",\"type\":\"CDSView\"},{\"attributes\":{\"fill_alpha\":{\"value\":0.5},\"fill_color\":{\"value\":\"#40BD72\"},\"hatch_alpha\":{\"value\":0.5},\"hatch_color\":{\"value\":\"#40BD72\"},\"line_alpha\":{\"value\":0.5},\"line_color\":{\"value\":\"#40BD72\"},\"marker\":{\"value\":\"diamond\"},\"size\":{\"value\":10},\"x\":{\"field\":\"date_time\"},\"y\":{\"field\":\"y_index\"}},\"id\":\"3054\",\"type\":\"Scatter\"},{\"attributes\":{\"fill_alpha\":{\"value\":0.2},\"fill_color\":{\"value\":\"#40BD72\"},\"hatch_alpha\":{\"value\":0.2},\"hatch_color\":{\"value\":\"#40BD72\"},\"line_alpha\":{\"value\":0.2},\"line_color\":{\"value\":\"#40BD72\"},\"marker\":{\"value\":\"diamond\"},\"size\":{\"value\":10},\"x\":{\"field\":\"date_time\"},\"y\":{\"field\":\"y_index\"}},\"id\":\"3056\",\"type\":\"Scatter\"},{\"attributes\":{\"coordinates\":null,\"data_source\":{\"id\":\"2558\"},\"glyph\":{\"id\":\"3075\"},\"group\":null,\"hover_glyph\":null,\"muted_glyph\":{\"id\":\"3077\"},\"nonselection_glyph\":{\"id\":\"3076\"},\"view\":{\"id\":\"3079\"}},\"id\":\"3078\",\"type\":\"GlyphRenderer\"},{\"attributes\":{\"data\":{\"date_time\":{\"__ndarray__\":\"AABkGEznc0IAAMrJ9uhzQgAAtKtI6XNCAACUYe7pc0IAAApqnelzQgAAMMbN63NCAADWetzrc0IAALy60+xzQgAAIsZv7nNCAADoHsrtc0IAAATTu+9zQgAA5mRm73NCAAB+FA/wc0IAADjUZ/BzQgAAQO2v8HNC\",\"dtype\":\"float64\",\"order\":\"little\",\"shape\":[15]},\"index\":[144,145,146,147,148,149,150,151,152,153,154,155,156,157,158],\"y_index\":[0,0,0,0,0,0,0,0,0,0,0,0,0,0,0]},\"selected\":{\"id\":\"3114\"},\"selection_policy\":{\"id\":\"3113\"}},\"id\":\"2525\",\"type\":\"ColumnDataSource\"},{\"attributes\":{\"coordinates\":null,\"data_source\":{\"id\":\"2555\"},\"glyph\":{\"id\":\"3054\"},\"group\":null,\"hover_glyph\":null,\"muted_glyph\":{\"id\":\"3056\"},\"nonselection_glyph\":{\"id\":\"3055\"},\"view\":{\"id\":\"3058\"}},\"id\":\"3057\",\"type\":\"GlyphRenderer\"},{\"attributes\":{\"fill_alpha\":{\"value\":0.1},\"fill_color\":{\"value\":\"#4BC26C\"},\"hatch_alpha\":{\"value\":0.1},\"hatch_color\":{\"value\":\"#4BC26C\"},\"line_alpha\":{\"value\":0.1},\"line_color\":{\"value\":\"#4BC26C\"},\"marker\":{\"value\":\"diamond\"},\"size\":{\"value\":10},\"x\":{\"field\":\"date_time\"},\"y\":{\"field\":\"y_index\"}},\"id\":\"3062\",\"type\":\"Scatter\"},{\"attributes\":{\"overlay\":{\"id\":\"2587\"}},\"id\":\"2583\",\"type\":\"BoxZoomTool\"},{\"attributes\":{\"label\":{\"value\":\"u51\"},\"renderers\":[{\"id\":\"3057\"}]},\"id\":\"3059\",\"type\":\"LegendItem\"},{\"attributes\":{\"source\":{\"id\":\"2555\"}},\"id\":\"3058\",\"type\":\"CDSView\"},{\"attributes\":{\"fill_alpha\":{\"value\":0.5},\"fill_color\":{\"value\":\"#4BC26C\"},\"hatch_alpha\":{\"value\":0.5},\"hatch_color\":{\"value\":\"#4BC26C\"},\"line_alpha\":{\"value\":0.5},\"line_color\":{\"value\":\"#4BC26C\"},\"marker\":{\"value\":\"diamond\"},\"size\":{\"value\":10},\"x\":{\"field\":\"date_time\"},\"y\":{\"field\":\"y_index\"}},\"id\":\"3061\",\"type\":\"Scatter\"},{\"attributes\":{\"fill_alpha\":{\"value\":0.2},\"fill_color\":{\"value\":\"#4BC26C\"},\"hatch_alpha\":{\"value\":0.2},\"hatch_color\":{\"value\":\"#4BC26C\"},\"line_alpha\":{\"value\":0.2},\"line_color\":{\"value\":\"#4BC26C\"},\"marker\":{\"value\":\"diamond\"},\"size\":{\"value\":10},\"x\":{\"field\":\"date_time\"},\"y\":{\"field\":\"y_index\"}},\"id\":\"3063\",\"type\":\"Scatter\"},{\"attributes\":{\"fill_alpha\":{\"value\":0.2},\"fill_color\":{\"value\":\"#64CB5D\"},\"hatch_alpha\":{\"value\":0.2},\"hatch_color\":{\"value\":\"#64CB5D\"},\"line_alpha\":{\"value\":0.2},\"line_color\":{\"value\":\"#64CB5D\"},\"marker\":{\"value\":\"diamond\"},\"size\":{\"value\":10},\"x\":{\"field\":\"date_time\"},\"y\":{\"field\":\"y_index\"}},\"id\":\"3077\",\"type\":\"Scatter\"},{\"attributes\":{\"fill_alpha\":{\"value\":0.2},\"fill_color\":{\"value\":\"#45085B\"},\"hatch_alpha\":{\"value\":0.2},\"hatch_color\":{\"value\":\"#45085B\"},\"line_alpha\":{\"value\":0.2},\"line_color\":{\"value\":\"#45085B\"},\"x\":{\"field\":\"date_time\"},\"y\":{\"field\":\"y_index\"}},\"id\":\"2623\",\"type\":\"Circle\"},{\"attributes\":{\"coordinates\":null,\"data_source\":{\"id\":\"2556\"},\"glyph\":{\"id\":\"3061\"},\"group\":null,\"hover_glyph\":null,\"muted_glyph\":{\"id\":\"3063\"},\"nonselection_glyph\":{\"id\":\"3062\"},\"view\":{\"id\":\"3065\"}},\"id\":\"3064\",\"type\":\"GlyphRenderer\"},{\"attributes\":{\"label\":{\"value\":\"u53\"},\"renderers\":[{\"id\":\"3071\"}]},\"id\":\"3073\",\"type\":\"LegendItem\"},{\"attributes\":{\"label\":{\"value\":\"u52\"},\"renderers\":[{\"id\":\"3064\"}]},\"id\":\"3066\",\"type\":\"LegendItem\"},{\"attributes\":{\"source\":{\"id\":\"2556\"}},\"id\":\"3065\",\"type\":\"CDSView\"},{\"attributes\":{\"source\":{\"id\":\"2557\"}},\"id\":\"3072\",\"type\":\"CDSView\"},{\"attributes\":{\"fill_alpha\":{\"value\":0.1},\"fill_color\":{\"value\":\"#64CB5D\"},\"hatch_alpha\":{\"value\":0.1},\"hatch_color\":{\"value\":\"#64CB5D\"},\"line_alpha\":{\"value\":0.1},\"line_color\":{\"value\":\"#64CB5D\"},\"marker\":{\"value\":\"diamond\"},\"size\":{\"value\":10},\"x\":{\"field\":\"date_time\"},\"y\":{\"field\":\"y_index\"}},\"id\":\"3076\",\"type\":\"Scatter\"},{\"attributes\":{\"fill_alpha\":{\"value\":0.2},\"fill_color\":{\"value\":\"#37598C\"},\"hatch_alpha\":{\"value\":0.2},\"hatch_color\":{\"value\":\"#37598C\"},\"line_alpha\":{\"value\":0.2},\"line_color\":{\"value\":\"#37598C\"},\"x\":{\"field\":\"date_time\"},\"y\":{\"field\":\"y_index\"}},\"id\":\"2689\",\"type\":\"Circle\"},{\"attributes\":{},\"id\":\"2602\",\"type\":\"LinearScale\"},{\"attributes\":{\"data\":{\"date_time\":{\"__ndarray__\":\"AAC62XPkc0IAAIjYouhzQg==\",\"dtype\":\"float64\",\"order\":\"little\",\"shape\":[2]},\"index\":[249,250],\"y_index\":[1,1]},\"selected\":{\"id\":\"3116\"},\"selection_policy\":{\"id\":\"3115\"}},\"id\":\"2526\",\"type\":\"ColumnDataSource\"},{\"attributes\":{\"fill_color\":{\"value\":\"#46307D\"},\"hatch_color\":{\"value\":\"#46307D\"},\"line_color\":{\"value\":\"#46307D\"},\"x\":{\"field\":\"date_time\"},\"y\":{\"field\":\"y_index\"}},\"id\":\"2651\",\"type\":\"Circle\"},{\"attributes\":{\"fill_alpha\":{\"value\":0.5},\"fill_color\":{\"value\":\"#64CB5D\"},\"hatch_alpha\":{\"value\":0.5},\"hatch_color\":{\"value\":\"#64CB5D\"},\"line_alpha\":{\"value\":0.5},\"line_color\":{\"value\":\"#64CB5D\"},\"marker\":{\"value\":\"diamond\"},\"size\":{\"value\":10},\"x\":{\"field\":\"date_time\"},\"y\":{\"field\":\"y_index\"}},\"id\":\"3075\",\"type\":\"Scatter\"},{\"attributes\":{\"fill_color\":{\"value\":\"#472878\"},\"hatch_color\":{\"value\":\"#472878\"},\"line_color\":{\"value\":\"#472878\"},\"x\":{\"field\":\"date_time\"},\"y\":{\"field\":\"y_index\"}},\"id\":\"2645\",\"type\":\"Circle\"},{\"attributes\":{\"fill_alpha\":{\"value\":0.2},\"fill_color\":{\"value\":\"#81D34C\"},\"hatch_alpha\":{\"value\":0.2},\"hatch_color\":{\"value\":\"#81D34C\"},\"line_alpha\":{\"value\":0.2},\"line_color\":{\"value\":\"#81D34C\"},\"marker\":{\"value\":\"diamond\"},\"size\":{\"value\":10},\"x\":{\"field\":\"date_time\"},\"y\":{\"field\":\"y_index\"}},\"id\":\"3091\",\"type\":\"Scatter\"},{\"attributes\":{\"fill_color\":{\"value\":\"#45085B\"},\"hatch_color\":{\"value\":\"#45085B\"},\"line_color\":{\"value\":\"#45085B\"},\"x\":{\"field\":\"date_time\"},\"y\":{\"field\":\"y_index\"}},\"id\":\"2621\",\"type\":\"Circle\"},{\"attributes\":{\"fill_alpha\":{\"value\":0.1},\"fill_color\":{\"value\":\"#482172\"},\"hatch_alpha\":{\"value\":0.1},\"hatch_color\":{\"value\":\"#482172\"},\"line_alpha\":{\"value\":0.1},\"line_color\":{\"value\":\"#482172\"},\"x\":{\"field\":\"date_time\"},\"y\":{\"field\":\"y_index\"}},\"id\":\"2640\",\"type\":\"Circle\"},{\"attributes\":{\"coordinates\":null,\"data_source\":{\"id\":\"2560\"},\"glyph\":{\"id\":\"3089\"},\"group\":null,\"hover_glyph\":null,\"muted_glyph\":{\"id\":\"3091\"},\"nonselection_glyph\":{\"id\":\"3090\"},\"view\":{\"id\":\"3093\"}},\"id\":\"3092\",\"type\":\"GlyphRenderer\"},{\"attributes\":{\"fill_alpha\":{\"value\":0.1},\"fill_color\":{\"value\":\"#90D643\"},\"hatch_alpha\":{\"value\":0.1},\"hatch_color\":{\"value\":\"#90D643\"},\"line_alpha\":{\"value\":0.1},\"line_color\":{\"value\":\"#90D643\"},\"marker\":{\"value\":\"diamond\"},\"size\":{\"value\":10},\"x\":{\"field\":\"date_time\"},\"y\":{\"field\":\"y_index\"}},\"id\":\"3097\",\"type\":\"Scatter\"},{\"attributes\":{\"label\":{\"value\":\"u58\"},\"renderers\":[{\"id\":\"3092\"}]},\"id\":\"3094\",\"type\":\"LegendItem\"},{\"attributes\":{\"source\":{\"id\":\"2531\"}},\"id\":\"2655\",\"type\":\"CDSView\"},{\"attributes\":{\"source\":{\"id\":\"2560\"}},\"id\":\"3093\",\"type\":\"CDSView\"},{\"attributes\":{\"data\":{\"date_time\":{\"__ndarray__\":\"AADIv17nc0IAAI4qpOlzQgAArLuL6XNC\",\"dtype\":\"float64\",\"order\":\"little\",\"shape\":[3]},\"index\":[403,404,405],\"y_index\":[3,3,3]},\"selected\":{\"id\":\"3120\"},\"selection_policy\":{\"id\":\"3119\"}},\"id\":\"2528\",\"type\":\"ColumnDataSource\"},{\"attributes\":{\"fill_alpha\":{\"value\":0.5},\"fill_color\":{\"value\":\"#46307D\"},\"hatch_alpha\":{\"value\":0.5},\"hatch_color\":{\"value\":\"#46307D\"},\"line_alpha\":{\"value\":0.5},\"line_color\":{\"value\":\"#46307D\"},\"marker\":{\"value\":\"diamond\"},\"size\":{\"value\":10},\"x\":{\"field\":\"date_time\"},\"y\":{\"field\":\"y_index\"}},\"id\":\"2886\",\"type\":\"Scatter\"},{\"attributes\":{\"data\":{\"date_time\":{\"__ndarray__\":\"AACo7nDkc0IAANr3b+ZzQgAAdlxP6HNCAABMa6fnc0IAAIhdAedzQgAAcNj26HNCAAAE9vrnc0IAADA+SelzQgAAbqy95nNCAACyraLpc0IAAOhZ7elzQgAAPkDc63NCAABa7tTsc0IAAM7Hd+1zQgAADBdx7nNCAADSb8vtc0IAAAgGZ+9zQgAAQO2v8HNCAADSnV7wc0I=\",\"dtype\":\"float64\",\"order\":\"little\",\"shape\":[19]},\"index\":[281,282,283,284,285,286,287,288,289,290,291,292,293,294,295,296,297,298,299],\"y_index\":[34,34,34,34,34,34,34,34,34,34,34,34,34,34,34,34,34,34,34]},\"selected\":{\"id\":\"3182\"},\"selection_policy\":{\"id\":\"3181\"}},\"id\":\"2559\",\"type\":\"ColumnDataSource\"},{\"attributes\":{\"fill_alpha\":{\"value\":0.5},\"fill_color\":{\"value\":\"#90D643\"},\"hatch_alpha\":{\"value\":0.5},\"hatch_color\":{\"value\":\"#90D643\"},\"line_alpha\":{\"value\":0.5},\"line_color\":{\"value\":\"#90D643\"},\"marker\":{\"value\":\"diamond\"},\"size\":{\"value\":10},\"x\":{\"field\":\"date_time\"},\"y\":{\"field\":\"y_index\"}},\"id\":\"3096\",\"type\":\"Scatter\"},{\"attributes\":{\"fill_alpha\":{\"value\":0.2},\"fill_color\":{\"value\":\"#482172\"},\"hatch_alpha\":{\"value\":0.2},\"hatch_color\":{\"value\":\"#482172\"},\"line_alpha\":{\"value\":0.2},\"line_color\":{\"value\":\"#482172\"},\"x\":{\"field\":\"date_time\"},\"y\":{\"field\":\"y_index\"}},\"id\":\"2641\",\"type\":\"Circle\"},{\"attributes\":{\"fill_alpha\":{\"value\":0.2},\"fill_color\":{\"value\":\"#90D643\"},\"hatch_alpha\":{\"value\":0.2},\"hatch_color\":{\"value\":\"#90D643\"},\"line_alpha\":{\"value\":0.2},\"line_color\":{\"value\":\"#90D643\"},\"marker\":{\"value\":\"diamond\"},\"size\":{\"value\":10},\"x\":{\"field\":\"date_time\"},\"y\":{\"field\":\"y_index\"}},\"id\":\"3098\",\"type\":\"Scatter\"},{\"attributes\":{},\"id\":\"3110\",\"type\":\"AllLabels\"},{\"attributes\":{\"fill_color\":{\"value\":\"#40BD72\"},\"hatch_color\":{\"value\":\"#40BD72\"},\"line_color\":{\"value\":\"#40BD72\"},\"x\":{\"field\":\"date_time\"},\"y\":{\"field\":\"y_index\"}},\"id\":\"2795\",\"type\":\"Circle\"},{\"attributes\":{\"coordinates\":null,\"data_source\":{\"id\":\"2561\"},\"glyph\":{\"id\":\"3096\"},\"group\":null,\"hover_glyph\":null,\"muted_glyph\":{\"id\":\"3098\"},\"nonselection_glyph\":{\"id\":\"3097\"},\"view\":{\"id\":\"3100\"}},\"id\":\"3099\",\"type\":\"GlyphRenderer\"},{\"attributes\":{\"label\":{\"value\":\"u59\"},\"renderers\":[{\"id\":\"3099\"}]},\"id\":\"3101\",\"type\":\"LegendItem\"},{\"attributes\":{\"fill_color\":{\"value\":\"#482172\"},\"hatch_color\":{\"value\":\"#482172\"},\"line_color\":{\"value\":\"#482172\"},\"x\":{\"field\":\"date_time\"},\"y\":{\"field\":\"y_index\"}},\"id\":\"2639\",\"type\":\"Circle\"},{\"attributes\":{\"source\":{\"id\":\"2561\"}},\"id\":\"3100\",\"type\":\"CDSView\"},{\"attributes\":{\"dimensions\":\"width\"},\"id\":\"2582\",\"type\":\"WheelZoomTool\"},{\"attributes\":{},\"id\":\"2584\",\"type\":\"ResetTool\"},{\"attributes\":{\"active_multi\":{\"id\":\"2836\"},\"tools\":[{\"id\":\"2836\"}]},\"id\":\"2610\",\"type\":\"Toolbar\"},{\"attributes\":{\"data\":{\"date_time\":{\"__ndarray__\":\"AABaCxvkc0IAAEJeduRzQgAAVg7e5XNCAABI0Sfnc0IAAL7muedzQgAA0i9N6HNCAADoh4Dsc0I=\",\"dtype\":\"float64\",\"order\":\"little\",\"shape\":[7]},\"index\":[255,256,257,258,259,260,261],\"y_index\":[5,5,5,5,5,5,5]},\"selected\":{\"id\":\"3124\"},\"selection_policy\":{\"id\":\"3123\"}},\"id\":\"2530\",\"type\":\"ColumnDataSource\"},{\"attributes\":{\"click_policy\":\"hide\",\"coordinates\":null,\"group\":null,\"items\":[{\"id\":\"3101\"},{\"id\":\"3094\"},{\"id\":\"3087\"},{\"id\":\"3080\"},{\"id\":\"3073\"},{\"id\":\"3066\"},{\"id\":\"3059\"},{\"id\":\"3052\"},{\"id\":\"3045\"},{\"id\":\"3038\"},{\"id\":\"3031\"},{\"id\":\"3024\"},{\"id\":\"3017\"},{\"id\":\"3010\"},{\"id\":\"3003\"},{\"id\":\"2996\"},{\"id\":\"2989\"},{\"id\":\"2982\"},{\"id\":\"2975\"},{\"id\":\"2968\"},{\"id\":\"2961\"},{\"id\":\"2954\"},{\"id\":\"2947\"},{\"id\":\"2940\"},{\"id\":\"2933\"},{\"id\":\"2926\"},{\"id\":\"2919\"},{\"id\":\"2912\"},{\"id\":\"2905\"},{\"id\":\"2898\"},{\"id\":\"2891\"},{\"id\":\"2884\"},{\"id\":\"2877\"},{\"id\":\"2870\"},{\"id\":\"2863\"},{\"id\":\"2856\"},{\"id\":\"2849\"}],\"label_text_font_size\":\"8pt\",\"location\":\"center\"},\"id\":\"3102\",\"type\":\"Legend\"},{\"attributes\":{\"source\":{\"id\":\"2539\"}},\"id\":\"2703\",\"type\":\"CDSView\"},{\"attributes\":{\"fill_color\":{\"value\":\"#345F8D\"},\"hatch_color\":{\"value\":\"#345F8D\"},\"line_color\":{\"value\":\"#345F8D\"},\"x\":{\"field\":\"date_time\"},\"y\":{\"field\":\"y_index\"}},\"id\":\"2693\",\"type\":\"Circle\"},{\"attributes\":{\"end\":36.027027027027025,\"start\":-0.02702702702702703},\"id\":\"2568\",\"type\":\"Range1d\"},{\"attributes\":{\"fill_alpha\":{\"value\":0.1},\"fill_color\":{\"value\":\"#37598C\"},\"hatch_alpha\":{\"value\":0.1},\"hatch_color\":{\"value\":\"#37598C\"},\"line_alpha\":{\"value\":0.1},\"line_color\":{\"value\":\"#37598C\"},\"x\":{\"field\":\"date_time\"},\"y\":{\"field\":\"y_index\"}},\"id\":\"2688\",\"type\":\"Circle\"},{\"attributes\":{\"fill_alpha\":{\"value\":0.1},\"fill_color\":{\"value\":\"#471163\"},\"hatch_alpha\":{\"value\":0.1},\"hatch_color\":{\"value\":\"#471163\"},\"line_alpha\":{\"value\":0.1},\"line_color\":{\"value\":\"#471163\"},\"x\":{\"field\":\"date_time\"},\"y\":{\"field\":\"y_index\"}},\"id\":\"2628\",\"type\":\"Circle\"},{\"attributes\":{\"fill_alpha\":{\"value\":0.2},\"fill_color\":{\"value\":\"#48196B\"},\"hatch_alpha\":{\"value\":0.2},\"hatch_color\":{\"value\":\"#48196B\"},\"line_alpha\":{\"value\":0.2},\"line_color\":{\"value\":\"#48196B\"},\"x\":{\"field\":\"date_time\"},\"y\":{\"field\":\"y_index\"}},\"id\":\"2635\",\"type\":\"Circle\"},{\"attributes\":{\"dimensions\":\"width\"},\"id\":\"2586\",\"type\":\"PanTool\"},{\"attributes\":{\"data\":{\"date_time\":{\"__ndarray__\":\"AACG+mjkc0IAAP7IbeRzQgAANOlv5nNCAAD8KcHmc0IAABSKV+dzQgAAqCj26HNCAABcZPbpc0IAAFK9qOhzQgAADtSn6XNCAADS2IHsc0IAAALDKu1zQgAA5mRm73NCAADG0NDtc0IAAJSFxO9zQgAARA1/7nNCAACytsHuc0IAAAw/C/BzQg==\",\"dtype\":\"float64\",\"order\":\"little\",\"shape\":[17]},\"index\":[263,264,265,266,267,268,269,270,271,273,274,275,276,277,278,279,280],\"y_index\":[35,35,35,35,35,35,35,35,35,35,35,35,35,35,35,35,35]},\"selected\":{\"id\":\"3184\"},\"selection_policy\":{\"id\":\"3183\"}},\"id\":\"2560\",\"type\":\"ColumnDataSource\"},{\"attributes\":{\"source\":{\"id\":\"2528\"}},\"id\":\"2637\",\"type\":\"CDSView\"},{\"attributes\":{\"data\":{\"date_time\":{\"__ndarray__\":\"AACy2+Lkc0IAAHb2a+ZzQgAA1mL453NCAADYs6Xnc0IAAKIZRupzQgAAlMqk6HNCAACOaO3pc0IAAMYF++hzQgAA5CBJ6XNCAAAMei7sc0IAAB6Ny+1zQgAAZghx7nNC\",\"dtype\":\"float64\",\"order\":\"little\",\"shape\":[12]},\"index\":[34,35,36,37,38,39,40,41,42,43,44,45],\"y_index\":[32,32,32,32,32,32,32,32,32,32,32,32]},\"selected\":{\"id\":\"3178\"},\"selection_policy\":{\"id\":\"3177\"}},\"id\":\"2557\",\"type\":\"ColumnDataSource\"},{\"attributes\":{\"fill_color\":{\"value\":\"#440154\"},\"hatch_color\":{\"value\":\"#440154\"},\"line_color\":{\"value\":\"#440154\"},\"x\":{\"field\":\"date_time\"},\"y\":{\"field\":\"y_index\"}},\"id\":\"2615\",\"type\":\"Circle\"},{\"attributes\":{\"source\":{\"id\":\"2526\"}},\"id\":\"2625\",\"type\":\"CDSView\"},{\"attributes\":{\"below\":[{\"id\":\"2574\"}],\"center\":[{\"id\":\"2577\"},{\"id\":\"2581\"}],\"height\":925,\"left\":[{\"id\":\"2578\"},{\"id\":\"3102\"}],\"min_border_left\":50,\"renderers\":[{\"id\":\"2847\"},{\"id\":\"2854\"},{\"id\":\"2861\"},{\"id\":\"2868\"},{\"id\":\"2875\"},{\"id\":\"2882\"},{\"id\":\"2889\"},{\"id\":\"2896\"},{\"id\":\"2903\"},{\"id\":\"2910\"},{\"id\":\"2917\"},{\"id\":\"2924\"},{\"id\":\"2931\"},{\"id\":\"2938\"},{\"id\":\"2945\"},{\"id\":\"2952\"},{\"id\":\"2959\"},{\"id\":\"2966\"},{\"id\":\"2973\"},{\"id\":\"2980\"},{\"id\":\"2987\"},{\"id\":\"2994\"},{\"id\":\"3001\"},{\"id\":\"3008\"},{\"id\":\"3015\"},{\"id\":\"3022\"},{\"id\":\"3029\"},{\"id\":\"3036\"},{\"id\":\"3043\"},{\"id\":\"3050\"},{\"id\":\"3057\"},{\"id\":\"3064\"},{\"id\":\"3071\"},{\"id\":\"3078\"},{\"id\":\"3085\"},{\"id\":\"3092\"},{\"id\":\"3099\"}],\"title\":{\"id\":\"2564\"},\"toolbar\":{\"id\":\"2588\"},\"width\":900,\"x_range\":{\"id\":\"2566\"},\"x_scale\":{\"id\":\"2570\"},\"y_range\":{\"id\":\"2568\"},\"y_scale\":{\"id\":\"2572\"}},\"id\":\"2563\",\"subtype\":\"Figure\",\"type\":\"Plot\"},{\"attributes\":{},\"id\":\"2572\",\"type\":\"LinearScale\"},{\"attributes\":{\"source\":{\"id\":\"2536\"}},\"id\":\"2685\",\"type\":\"CDSView\"},{\"attributes\":{\"axis\":{\"id\":\"2578\"},\"coordinates\":null,\"dimension\":1,\"grid_line_color\":null,\"group\":null,\"ticker\":null},\"id\":\"2581\",\"type\":\"Grid\"},{\"attributes\":{\"callback\":null,\"tooltips\":[[\"date_time\",\"@date_time\"]]},\"id\":\"2562\",\"type\":\"HoverTool\"},{\"attributes\":{\"fill_color\":{\"value\":\"#471163\"},\"hatch_color\":{\"value\":\"#471163\"},\"line_color\":{\"value\":\"#471163\"},\"x\":{\"field\":\"date_time\"},\"y\":{\"field\":\"y_index\"}},\"id\":\"2627\",\"type\":\"Circle\"},{\"attributes\":{\"coordinates\":null,\"formatter\":{\"id\":\"3107\"},\"group\":null,\"major_label_overrides\":{\"0\":\"u00\",\"1\":\"u01\",\"10\":\"u17\",\"11\":\"u18\",\"12\":\"u19\",\"13\":\"u22\",\"14\":\"u23\",\"15\":\"u24\",\"16\":\"u27\",\"17\":\"u32\",\"18\":\"u33\",\"19\":\"u34\",\"2\":\"u02\",\"20\":\"u35\",\"21\":\"u36\",\"22\":\"u41\",\"23\":\"u42\",\"24\":\"u43\",\"25\":\"u44\",\"26\":\"u45\",\"27\":\"u46\",\"28\":\"u47\",\"29\":\"u49\",\"3\":\"u03\",\"30\":\"u51\",\"31\":\"u52\",\"32\":\"u53\",\"33\":\"u56\",\"34\":\"u57\",\"35\":\"u58\",\"36\":\"u59\",\"4\":\"u04\",\"5\":\"u08\",\"6\":\"u10\",\"7\":\"u12\",\"8\":\"u14\",\"9\":\"u16\"},\"major_label_policy\":{\"id\":\"3108\"},\"ticker\":{\"id\":\"2579\"}},\"id\":\"2578\",\"type\":\"LinearAxis\"},{\"attributes\":{\"source\":{\"id\":\"2527\"}},\"id\":\"2631\",\"type\":\"CDSView\"},{\"attributes\":{\"axis_label\":\"Event Time\",\"coordinates\":null,\"formatter\":{\"id\":\"2841\"},\"group\":null,\"major_label_policy\":{\"id\":\"3110\"},\"ticker\":{\"id\":\"2575\"}},\"id\":\"2574\",\"type\":\"DatetimeAxis\"},{\"attributes\":{\"fill_color\":{\"value\":\"#443781\"},\"hatch_color\":{\"value\":\"#443781\"},\"line_color\":{\"value\":\"#443781\"},\"x\":{\"field\":\"date_time\"},\"y\":{\"field\":\"y_index\"}},\"id\":\"2657\",\"type\":\"Circle\"},{\"attributes\":{\"source\":{\"id\":\"2538\"}},\"id\":\"2697\",\"type\":\"CDSView\"},{\"attributes\":{\"fill_alpha\":{\"value\":0.1},\"fill_color\":{\"value\":\"#46307D\"},\"hatch_alpha\":{\"value\":0.1},\"hatch_color\":{\"value\":\"#46307D\"},\"line_alpha\":{\"value\":0.1},\"line_color\":{\"value\":\"#46307D\"},\"marker\":{\"value\":\"diamond\"},\"size\":{\"value\":10},\"x\":{\"field\":\"date_time\"},\"y\":{\"field\":\"y_index\"}},\"id\":\"2887\",\"type\":\"Scatter\"},{\"attributes\":{\"fill_alpha\":{\"value\":0.2},\"fill_color\":{\"value\":\"#471163\"},\"hatch_alpha\":{\"value\":0.2},\"hatch_color\":{\"value\":\"#471163\"},\"line_alpha\":{\"value\":0.2},\"line_color\":{\"value\":\"#471163\"},\"x\":{\"field\":\"date_time\"},\"y\":{\"field\":\"y_index\"}},\"id\":\"2629\",\"type\":\"Circle\"},{\"attributes\":{\"axis\":{\"id\":\"2606\"},\"coordinates\":null,\"group\":null,\"ticker\":null},\"id\":\"2609\",\"type\":\"Grid\"},{\"attributes\":{\"coordinates\":null,\"data_source\":{\"id\":\"2526\"},\"glyph\":{\"id\":\"2621\"},\"group\":null,\"hover_glyph\":null,\"muted_glyph\":{\"id\":\"2623\"},\"nonselection_glyph\":{\"id\":\"2622\"},\"view\":{\"id\":\"2625\"}},\"id\":\"2624\",\"type\":\"GlyphRenderer\"},{\"attributes\":{\"coordinates\":null,\"group\":null,\"text\":\"Range Selector\"},\"id\":\"2596\",\"type\":\"Title\"},{\"attributes\":{\"fill_alpha\":{\"value\":0.1},\"fill_color\":{\"value\":\"#46307D\"},\"hatch_alpha\":{\"value\":0.1},\"hatch_color\":{\"value\":\"#46307D\"},\"line_alpha\":{\"value\":0.1},\"line_color\":{\"value\":\"#46307D\"},\"x\":{\"field\":\"date_time\"},\"y\":{\"field\":\"y_index\"}},\"id\":\"2652\",\"type\":\"Circle\"},{\"attributes\":{\"fill_alpha\":{\"value\":0.1},\"fill_color\":{\"value\":\"#440154\"},\"hatch_alpha\":{\"value\":0.1},\"hatch_color\":{\"value\":\"#440154\"},\"line_alpha\":{\"value\":0.1},\"line_color\":{\"value\":\"#440154\"},\"x\":{\"field\":\"date_time\"},\"y\":{\"field\":\"y_index\"}},\"id\":\"2616\",\"type\":\"Circle\"},{\"attributes\":{\"source\":{\"id\":\"2537\"}},\"id\":\"2691\",\"type\":\"CDSView\"},{\"attributes\":{},\"id\":\"2570\",\"type\":\"LinearScale\"},{\"attributes\":{\"fill_color\":{\"value\":\"#48196B\"},\"hatch_color\":{\"value\":\"#48196B\"},\"line_color\":{\"value\":\"#48196B\"},\"x\":{\"field\":\"date_time\"},\"y\":{\"field\":\"y_index\"}},\"id\":\"2633\",\"type\":\"Circle\"},{\"attributes\":{\"mantissas\":[1,2,5],\"max_interval\":500.0,\"num_minor_ticks\":0},\"id\":\"3201\",\"type\":\"AdaptiveTicker\"},{\"attributes\":{\"base\":60,\"mantissas\":[1,2,5,10,15,20,30],\"max_interval\":1800000.0,\"min_interval\":1000.0,\"num_minor_ticks\":0},\"id\":\"3202\",\"type\":\"AdaptiveTicker\"},{\"attributes\":{\"end\":1370997432000.0,\"start\":1366508088000.0},\"id\":\"2566\",\"type\":\"Range1d\"},{\"attributes\":{\"base\":24,\"mantissas\":[1,2,4,6,8,12],\"max_interval\":43200000.0,\"min_interval\":3600000.0,\"num_minor_ticks\":0},\"id\":\"3203\",\"type\":\"AdaptiveTicker\"},{\"attributes\":{\"source\":{\"id\":\"2554\"}},\"id\":\"2793\",\"type\":\"CDSView\"},{\"attributes\":{},\"id\":\"3212\",\"type\":\"YearsTicker\"},{\"attributes\":{\"months\":[0,1,2,3,4,5,6,7,8,9,10,11]},\"id\":\"3208\",\"type\":\"MonthsTicker\"},{\"attributes\":{\"coordinates\":null,\"data_source\":{\"id\":\"2531\"},\"glyph\":{\"id\":\"2651\"},\"group\":null,\"hover_glyph\":null,\"muted_glyph\":{\"id\":\"2653\"},\"nonselection_glyph\":{\"id\":\"2652\"},\"view\":{\"id\":\"2655\"}},\"id\":\"2654\",\"type\":\"GlyphRenderer\"},{\"attributes\":{\"days\":[1,15]},\"id\":\"3207\",\"type\":\"DaysTicker\"},{\"attributes\":{\"days\":[1,2,3,4,5,6,7,8,9,10,11,12,13,14,15,16,17,18,19,20,21,22,23,24,25,26,27,28,29,30,31]},\"id\":\"3204\",\"type\":\"DaysTicker\"},{\"attributes\":{\"days\":[1,4,7,10,13,16,19,22,25,28]},\"id\":\"3205\",\"type\":\"DaysTicker\"},{\"attributes\":{\"days\":[1,8,15,22]},\"id\":\"3206\",\"type\":\"DaysTicker\"},{\"attributes\":{\"months\":[0,6]},\"id\":\"3211\",\"type\":\"MonthsTicker\"},{\"attributes\":{\"fill_alpha\":{\"value\":0.1},\"fill_color\":{\"value\":\"#45085B\"},\"hatch_alpha\":{\"value\":0.1},\"hatch_color\":{\"value\":\"#45085B\"},\"line_alpha\":{\"value\":0.1},\"line_color\":{\"value\":\"#45085B\"},\"x\":{\"field\":\"date_time\"},\"y\":{\"field\":\"y_index\"}},\"id\":\"2622\",\"type\":\"Circle\"},{\"attributes\":{\"months\":[0,2,4,6,8,10]},\"id\":\"3209\",\"type\":\"MonthsTicker\"},{\"attributes\":{\"months\":[0,4,8]},\"id\":\"3210\",\"type\":\"MonthsTicker\"},{\"attributes\":{},\"id\":\"2604\",\"type\":\"LinearScale\"},{\"attributes\":{},\"id\":\"3107\",\"type\":\"BasicTickFormatter\"},{\"attributes\":{},\"id\":\"3108\",\"type\":\"AllLabels\"},{\"attributes\":{\"coordinates\":null,\"data_source\":{\"id\":\"2554\"},\"glyph\":{\"id\":\"2789\"},\"group\":null,\"hover_glyph\":null,\"muted_glyph\":{\"id\":\"2791\"},\"nonselection_glyph\":{\"id\":\"2790\"},\"view\":{\"id\":\"2793\"}},\"id\":\"2792\",\"type\":\"GlyphRenderer\"},{\"attributes\":{\"coordinates\":null,\"formatter\":{\"id\":\"2612\"},\"group\":null,\"major_label_policy\":{\"id\":\"3112\"},\"ticker\":{\"id\":\"2607\"}},\"id\":\"2606\",\"type\":\"DatetimeAxis\"},{\"attributes\":{\"coordinates\":null,\"data_source\":{\"id\":\"2525\"},\"glyph\":{\"id\":\"2615\"},\"group\":null,\"hover_glyph\":null,\"muted_glyph\":{\"id\":\"2617\"},\"nonselection_glyph\":{\"id\":\"2616\"},\"view\":{\"id\":\"2619\"}},\"id\":\"2618\",\"type\":\"GlyphRenderer\"},{\"attributes\":{},\"id\":\"2585\",\"type\":\"SaveTool\"},{\"attributes\":{\"fill_alpha\":{\"value\":0.1},\"fill_color\":{\"value\":\"#345F8D\"},\"hatch_alpha\":{\"value\":0.1},\"hatch_color\":{\"value\":\"#345F8D\"},\"line_alpha\":{\"value\":0.1},\"line_color\":{\"value\":\"#345F8D\"},\"x\":{\"field\":\"date_time\"},\"y\":{\"field\":\"y_index\"}},\"id\":\"2694\",\"type\":\"Circle\"},{\"attributes\":{\"coordinates\":null,\"data_source\":{\"id\":\"2528\"},\"glyph\":{\"id\":\"2633\"},\"group\":null,\"hover_glyph\":null,\"muted_glyph\":{\"id\":\"2635\"},\"nonselection_glyph\":{\"id\":\"2634\"},\"view\":{\"id\":\"2637\"}},\"id\":\"2636\",\"type\":\"GlyphRenderer\"},{\"attributes\":{\"fill_alpha\":{\"value\":0.2},\"fill_color\":{\"value\":\"#440154\"},\"hatch_alpha\":{\"value\":0.2},\"hatch_color\":{\"value\":\"#440154\"},\"line_alpha\":{\"value\":0.2},\"line_color\":{\"value\":\"#440154\"},\"x\":{\"field\":\"date_time\"},\"y\":{\"field\":\"y_index\"}},\"id\":\"2617\",\"type\":\"Circle\"},{\"attributes\":{\"coordinates\":null,\"data_source\":{\"id\":\"2539\"},\"glyph\":{\"id\":\"2699\"},\"group\":null,\"hover_glyph\":null,\"muted_glyph\":{\"id\":\"2701\"},\"nonselection_glyph\":{\"id\":\"2700\"},\"view\":{\"id\":\"2703\"}},\"id\":\"2702\",\"type\":\"GlyphRenderer\"},{\"attributes\":{\"axis\":{\"id\":\"2574\"},\"coordinates\":null,\"group\":null,\"minor_grid_line_alpha\":0.3,\"minor_grid_line_color\":\"navy\",\"ticker\":null},\"id\":\"2577\",\"type\":\"Grid\"},{\"attributes\":{\"fill_alpha\":{\"value\":0.2},\"fill_color\":{\"value\":\"#31658D\"},\"hatch_alpha\":{\"value\":0.2},\"hatch_color\":{\"value\":\"#31658D\"},\"line_alpha\":{\"value\":0.2},\"line_color\":{\"value\":\"#31658D\"},\"x\":{\"field\":\"date_time\"},\"y\":{\"field\":\"y_index\"}},\"id\":\"2701\",\"type\":\"Circle\"},{\"attributes\":{\"fill_alpha\":{\"value\":0.2},\"fill_color\":{\"value\":\"#3D4C89\"},\"hatch_alpha\":{\"value\":0.2},\"hatch_color\":{\"value\":\"#3D4C89\"},\"line_alpha\":{\"value\":0.2},\"line_color\":{\"value\":\"#3D4C89\"},\"x\":{\"field\":\"date_time\"},\"y\":{\"field\":\"y_index\"}},\"id\":\"2677\",\"type\":\"Circle\"},{\"attributes\":{\"fill_alpha\":{\"value\":0.1},\"fill_color\":{\"value\":\"#3D4C89\"},\"hatch_alpha\":{\"value\":0.1},\"hatch_color\":{\"value\":\"#3D4C89\"},\"line_alpha\":{\"value\":0.1},\"line_color\":{\"value\":\"#3D4C89\"},\"x\":{\"field\":\"date_time\"},\"y\":{\"field\":\"y_index\"}},\"id\":\"2676\",\"type\":\"Circle\"},{\"attributes\":{\"fill_color\":{\"value\":\"#3D4C89\"},\"hatch_color\":{\"value\":\"#3D4C89\"},\"line_color\":{\"value\":\"#3D4C89\"},\"x\":{\"field\":\"date_time\"},\"y\":{\"field\":\"y_index\"}},\"id\":\"2675\",\"type\":\"Circle\"},{\"attributes\":{\"fill_alpha\":{\"value\":0.1},\"fill_color\":{\"value\":\"#31658D\"},\"hatch_alpha\":{\"value\":0.1},\"hatch_color\":{\"value\":\"#31658D\"},\"line_alpha\":{\"value\":0.1},\"line_color\":{\"value\":\"#31658D\"},\"x\":{\"field\":\"date_time\"},\"y\":{\"field\":\"y_index\"}},\"id\":\"2700\",\"type\":\"Circle\"},{\"attributes\":{},\"id\":\"3135\",\"type\":\"UnionRenderers\"},{\"attributes\":{},\"id\":\"3136\",\"type\":\"Selection\"},{\"attributes\":{\"data\":{\"date_time\":{\"__ndarray__\":\"AADo3kvoc0IAADYVqehzQgAAzk+p6HNCAACoKPboc0IAAFYM/OdzQgAA1umL63NC\",\"dtype\":\"float64\",\"order\":\"little\",\"shape\":[6]},\"index\":[337,338,339,340,341,342],\"y_index\":[13,13,13,13,13,13]},\"selected\":{\"id\":\"3140\"},\"selection_policy\":{\"id\":\"3139\"}},\"id\":\"2538\",\"type\":\"ColumnDataSource\"},{\"attributes\":{\"data\":{\"date_time\":{\"__ndarray__\":\"AAAAyUjpc0IAACj0mulzQg==\",\"dtype\":\"float64\",\"order\":\"little\",\"shape\":[2]},\"index\":[301,302],\"y_index\":[22,22]},\"selected\":{\"id\":\"3158\"},\"selection_policy\":{\"id\":\"3157\"}},\"id\":\"2547\",\"type\":\"ColumnDataSource\"},{\"attributes\":{\"data\":{\"date_time\":{\"__ndarray__\":\"AACG3sDkc0IAAFxAIORzQgAAsMlv5HNCAACagjbkc0IAAB6+3uVzQgAALvBu5nNCAABwmq3oc0IAAP4Lv+ZzQgAAAJH46XNCAACE5SLnc0IAACKPveZzQgAA+AP553NCAACcq5zpc0IAAMBfAelzQgAAtgH+6nNCAAAokd3rc0IAAHbc+OtzQgAAGLhN7HNCAACkkZzsc0IAAGjOxu5zQgAACLVB7XNCAADI037vc0IAAMbQ0O1zQgAAiEC773NC\",\"dtype\":\"float64\",\"order\":\"little\",\"shape\":[24]},\"index\":[220,221,222,223,224,225,226,227,228,229,230,231,232,233,234,235,236,237,238,239,240,241,242,243],\"y_index\":[12,12,12,12,12,12,12,12,12,12,12,12,12,12,12,12,12,12,12,12,12,12,12,12]},\"selected\":{\"id\":\"3138\"},\"selection_policy\":{\"id\":\"3137\"}},\"id\":\"2537\",\"type\":\"ColumnDataSource\"},{\"attributes\":{},\"id\":\"3169\",\"type\":\"UnionRenderers\"},{\"attributes\":{},\"id\":\"3170\",\"type\":\"Selection\"},{\"attributes\":{},\"id\":\"3137\",\"type\":\"UnionRenderers\"},{\"attributes\":{},\"id\":\"3138\",\"type\":\"Selection\"},{\"attributes\":{\"source\":{\"id\":\"2541\"}},\"id\":\"2715\",\"type\":\"CDSView\"},{\"attributes\":{},\"id\":\"3171\",\"type\":\"UnionRenderers\"},{\"attributes\":{},\"id\":\"3172\",\"type\":\"Selection\"},{\"attributes\":{\"fill_color\":{\"value\":\"#2C708E\"},\"hatch_color\":{\"value\":\"#2C708E\"},\"line_color\":{\"value\":\"#2C708E\"},\"x\":{\"field\":\"date_time\"},\"y\":{\"field\":\"y_index\"}},\"id\":\"2711\",\"type\":\"Circle\"},{\"attributes\":{},\"id\":\"3139\",\"type\":\"UnionRenderers\"},{\"attributes\":{},\"id\":\"3140\",\"type\":\"Selection\"},{\"attributes\":{\"data\":{\"date_time\":{\"__ndarray__\":\"AAAkgXHkc0IAAKQFAedzQgAApkb46HNCAACohBzuc0I=\",\"dtype\":\"float64\",\"order\":\"little\",\"shape\":[4]},\"index\":[303,304,305,306],\"y_index\":[11,11,11,11]},\"selected\":{\"id\":\"3136\"},\"selection_policy\":{\"id\":\"3135\"}},\"id\":\"2536\",\"type\":\"ColumnDataSource\"},{\"attributes\":{\"fill_color\":{\"value\":\"#4BC26C\"},\"hatch_color\":{\"value\":\"#4BC26C\"},\"line_color\":{\"value\":\"#4BC26C\"},\"x\":{\"field\":\"date_time\"},\"y\":{\"field\":\"y_index\"}},\"id\":\"2801\",\"type\":\"Circle\"},{\"attributes\":{\"fill_alpha\":{\"value\":0.2},\"fill_color\":{\"value\":\"#423E85\"},\"hatch_alpha\":{\"value\":0.2},\"hatch_color\":{\"value\":\"#423E85\"},\"line_alpha\":{\"value\":0.2},\"line_color\":{\"value\":\"#423E85\"},\"marker\":{\"value\":\"diamond\"},\"size\":{\"value\":10},\"x\":{\"field\":\"date_time\"},\"y\":{\"field\":\"y_index\"}},\"id\":\"2902\",\"type\":\"Scatter\"},{\"attributes\":{\"coordinates\":null,\"data_source\":{\"id\":\"2536\"},\"glyph\":{\"id\":\"2681\"},\"group\":null,\"hover_glyph\":null,\"muted_glyph\":{\"id\":\"2683\"},\"nonselection_glyph\":{\"id\":\"2682\"},\"view\":{\"id\":\"2685\"}},\"id\":\"2684\",\"type\":\"GlyphRenderer\"},{\"attributes\":{\"data\":{\"date_time\":{\"__ndarray__\":\"AABYum3kc0IAAJp5auZzQgAAMGO95nNCAACQPvnnc0I=\",\"dtype\":\"float64\",\"order\":\"little\",\"shape\":[4]},\"index\":[202,203,204,205],\"y_index\":[27,27,27,27]},\"selected\":{\"id\":\"3168\"},\"selection_policy\":{\"id\":\"3167\"}},\"id\":\"2552\",\"type\":\"ColumnDataSource\"},{\"attributes\":{\"fill_color\":{\"value\":\"#37598C\"},\"hatch_color\":{\"value\":\"#37598C\"},\"line_color\":{\"value\":\"#37598C\"},\"x\":{\"field\":\"date_time\"},\"y\":{\"field\":\"y_index\"}},\"id\":\"2687\",\"type\":\"Circle\"},{\"attributes\":{\"align\":\"right\",\"coordinates\":null,\"group\":null,\"text\":\"Drag the middle or edges of the selection box to change the range in the main chart\",\"text_font_size\":\"10px\"},\"id\":\"2611\",\"type\":\"Title\"},{\"attributes\":{\"fill_alpha\":{\"value\":0.5},\"fill_color\":{\"value\":\"#2A768E\"},\"hatch_alpha\":{\"value\":0.5},\"hatch_color\":{\"value\":\"#2A768E\"},\"line_alpha\":{\"value\":0.5},\"line_color\":{\"value\":\"#2A768E\"},\"marker\":{\"value\":\"diamond\"},\"size\":{\"value\":10},\"x\":{\"field\":\"date_time\"},\"y\":{\"field\":\"y_index\"}},\"id\":\"2963\",\"type\":\"Scatter\"},{\"attributes\":{},\"id\":\"3173\",\"type\":\"UnionRenderers\"},{\"attributes\":{},\"id\":\"3174\",\"type\":\"Selection\"},{\"attributes\":{\"coordinates\":null,\"data_source\":{\"id\":\"2541\"},\"glyph\":{\"id\":\"2956\"},\"group\":null,\"hover_glyph\":null,\"muted_glyph\":{\"id\":\"2958\"},\"nonselection_glyph\":{\"id\":\"2957\"},\"view\":{\"id\":\"2960\"}},\"id\":\"2959\",\"type\":\"GlyphRenderer\"},{\"attributes\":{},\"id\":\"3141\",\"type\":\"UnionRenderers\"},{\"attributes\":{\"fill_alpha\":{\"value\":0.5},\"fill_color\":{\"value\":\"#287B8E\"},\"hatch_alpha\":{\"value\":0.5},\"hatch_color\":{\"value\":\"#287B8E\"},\"line_alpha\":{\"value\":0.5},\"line_color\":{\"value\":\"#287B8E\"},\"marker\":{\"value\":\"diamond\"},\"size\":{\"value\":10},\"x\":{\"field\":\"date_time\"},\"y\":{\"field\":\"y_index\"}},\"id\":\"2970\",\"type\":\"Scatter\"},{\"attributes\":{},\"id\":\"3142\",\"type\":\"Selection\"},{\"attributes\":{\"fill_alpha\":{\"value\":0.2},\"fill_color\":{\"value\":\"#2A768E\"},\"hatch_alpha\":{\"value\":0.2},\"hatch_color\":{\"value\":\"#2A768E\"},\"line_alpha\":{\"value\":0.2},\"line_color\":{\"value\":\"#2A768E\"},\"marker\":{\"value\":\"diamond\"},\"size\":{\"value\":10},\"x\":{\"field\":\"date_time\"},\"y\":{\"field\":\"y_index\"}},\"id\":\"2965\",\"type\":\"Scatter\"},{\"attributes\":{\"label\":{\"value\":\"u32\"},\"renderers\":[{\"id\":\"2966\"}]},\"id\":\"2968\",\"type\":\"LegendItem\"},{\"attributes\":{\"fill_alpha\":{\"value\":0.1},\"fill_color\":{\"value\":\"#2A768E\"},\"hatch_alpha\":{\"value\":0.1},\"hatch_color\":{\"value\":\"#2A768E\"},\"line_alpha\":{\"value\":0.1},\"line_color\":{\"value\":\"#2A768E\"},\"marker\":{\"value\":\"diamond\"},\"size\":{\"value\":10},\"x\":{\"field\":\"date_time\"},\"y\":{\"field\":\"y_index\"}},\"id\":\"2964\",\"type\":\"Scatter\"},{\"attributes\":{\"fill_alpha\":{\"value\":0.5},\"fill_color\":{\"value\":\"#26818E\"},\"hatch_alpha\":{\"value\":0.5},\"hatch_color\":{\"value\":\"#26818E\"},\"line_alpha\":{\"value\":0.5},\"line_color\":{\"value\":\"#26818E\"},\"marker\":{\"value\":\"diamond\"},\"size\":{\"value\":10},\"x\":{\"field\":\"date_time\"},\"y\":{\"field\":\"y_index\"}},\"id\":\"2977\",\"type\":\"Scatter\"},{\"attributes\":{\"source\":{\"id\":\"2542\"}},\"id\":\"2967\",\"type\":\"CDSView\"},{\"attributes\":{\"fill_alpha\":{\"value\":0.2},\"fill_color\":{\"value\":\"#3A538B\"},\"hatch_alpha\":{\"value\":0.2},\"hatch_color\":{\"value\":\"#3A538B\"},\"line_alpha\":{\"value\":0.2},\"line_color\":{\"value\":\"#3A538B\"},\"x\":{\"field\":\"date_time\"},\"y\":{\"field\":\"y_index\"}},\"id\":\"2683\",\"type\":\"Circle\"},{\"attributes\":{\"data\":{\"date_time\":{\"__ndarray__\":\"AAC49oTlc0IAAF6zbuRzQgAArply5nNCAADKEAznc0IAANSA+udzQgAAvHpV53NCAACOaO3pc0IAAJrfTehzQgAAwJ1K6XNCAAACSInrc0IAANwELuxzQgAAlCbL7XNCAACwuBvvc0IAAKgbZu9zQgAAptCx8HNC\",\"dtype\":\"float64\",\"order\":\"little\",\"shape\":[15]},\"index\":[19,20,21,22,23,24,25,26,27,28,29,30,31,32,33],\"y_index\":[18,18,18,18,18,18,18,18,18,18,18,18,18,18,18]},\"selected\":{\"id\":\"3150\"},\"selection_policy\":{\"id\":\"3149\"}},\"id\":\"2543\",\"type\":\"ColumnDataSource\"},{\"attributes\":{\"coordinates\":null,\"data_source\":{\"id\":\"2542\"},\"glyph\":{\"id\":\"2963\"},\"group\":null,\"hover_glyph\":null,\"muted_glyph\":{\"id\":\"2965\"},\"nonselection_glyph\":{\"id\":\"2964\"},\"view\":{\"id\":\"2967\"}},\"id\":\"2966\",\"type\":\"GlyphRenderer\"},{\"attributes\":{\"fill_alpha\":{\"value\":0.2},\"fill_color\":{\"value\":\"#26818E\"},\"hatch_alpha\":{\"value\":0.2},\"hatch_color\":{\"value\":\"#26818E\"},\"line_alpha\":{\"value\":0.2},\"line_color\":{\"value\":\"#26818E\"},\"marker\":{\"value\":\"diamond\"},\"size\":{\"value\":10},\"x\":{\"field\":\"date_time\"},\"y\":{\"field\":\"y_index\"}},\"id\":\"2979\",\"type\":\"Scatter\"},{\"attributes\":{\"fill_alpha\":{\"value\":0.2},\"fill_color\":{\"value\":\"#2C708E\"},\"hatch_alpha\":{\"value\":0.2},\"hatch_color\":{\"value\":\"#2C708E\"},\"line_alpha\":{\"value\":0.2},\"line_color\":{\"value\":\"#2C708E\"},\"marker\":{\"value\":\"diamond\"},\"size\":{\"value\":10},\"x\":{\"field\":\"date_time\"},\"y\":{\"field\":\"y_index\"}},\"id\":\"2958\",\"type\":\"Scatter\"},{\"attributes\":{\"source\":{\"id\":\"2535\"}},\"id\":\"2679\",\"type\":\"CDSView\"},{\"attributes\":{\"fill_alpha\":{\"value\":0.1},\"fill_color\":{\"value\":\"#26818E\"},\"hatch_alpha\":{\"value\":0.1},\"hatch_color\":{\"value\":\"#26818E\"},\"line_alpha\":{\"value\":0.1},\"line_color\":{\"value\":\"#26818E\"},\"marker\":{\"value\":\"diamond\"},\"size\":{\"value\":10},\"x\":{\"field\":\"date_time\"},\"y\":{\"field\":\"y_index\"}},\"id\":\"2978\",\"type\":\"Scatter\"},{\"attributes\":{\"data\":{\"date_time\":{\"__ndarray__\":\"AADU3/Ppc0IAACCbJ+tzQg==\",\"dtype\":\"float64\",\"order\":\"little\",\"shape\":[2]},\"index\":[247,248],\"y_index\":[15,15]},\"selected\":{\"id\":\"3144\"},\"selection_policy\":{\"id\":\"3143\"}},\"id\":\"2540\",\"type\":\"ColumnDataSource\"},{\"attributes\":{\"source\":{\"id\":\"2541\"}},\"id\":\"2960\",\"type\":\"CDSView\"},{\"attributes\":{\"label\":{\"value\":\"u27\"},\"renderers\":[{\"id\":\"2959\"}]},\"id\":\"2961\",\"type\":\"LegendItem\"},{\"attributes\":{},\"id\":\"3175\",\"type\":\"UnionRenderers\"},{\"attributes\":{\"data\":{\"date_time\":{\"__ndarray__\":\"AAC2wnDkc0IAAIjSqedzQgAA5sYy7nNC\",\"dtype\":\"float64\",\"order\":\"little\",\"shape\":[3]},\"index\":[181,182,183],\"y_index\":[17,17,17]},\"selected\":{\"id\":\"3148\"},\"selection_policy\":{\"id\":\"3147\"}},\"id\":\"2542\",\"type\":\"ColumnDataSource\"},{\"attributes\":{\"fill_alpha\":{\"value\":0.1},\"fill_color\":{\"value\":\"#3A538B\"},\"hatch_alpha\":{\"value\":0.1},\"hatch_color\":{\"value\":\"#3A538B\"},\"line_alpha\":{\"value\":0.1},\"line_color\":{\"value\":\"#3A538B\"},\"x\":{\"field\":\"date_time\"},\"y\":{\"field\":\"y_index\"}},\"id\":\"2682\",\"type\":\"Circle\"},{\"attributes\":{},\"id\":\"3176\",\"type\":\"Selection\"},{\"attributes\":{\"fill_alpha\":{\"value\":0.5},\"fill_color\":{\"value\":\"#2C708E\"},\"hatch_alpha\":{\"value\":0.5},\"hatch_color\":{\"value\":\"#2C708E\"},\"line_alpha\":{\"value\":0.5},\"line_color\":{\"value\":\"#2C708E\"},\"marker\":{\"value\":\"diamond\"},\"size\":{\"value\":10},\"x\":{\"field\":\"date_time\"},\"y\":{\"field\":\"y_index\"}},\"id\":\"2956\",\"type\":\"Scatter\"},{\"attributes\":{},\"id\":\"3143\",\"type\":\"UnionRenderers\"},{\"attributes\":{\"source\":{\"id\":\"2540\"}},\"id\":\"2953\",\"type\":\"CDSView\"},{\"attributes\":{},\"id\":\"3144\",\"type\":\"Selection\"},{\"attributes\":{\"label\":{\"value\":\"u24\"},\"renderers\":[{\"id\":\"2952\"}]},\"id\":\"2954\",\"type\":\"LegendItem\"},{\"attributes\":{\"source\":{\"id\":\"2532\"}},\"id\":\"2661\",\"type\":\"CDSView\"},{\"attributes\":{\"fill_alpha\":{\"value\":0.1},\"fill_color\":{\"value\":\"#2C708E\"},\"hatch_alpha\":{\"value\":0.1},\"hatch_color\":{\"value\":\"#2C708E\"},\"line_alpha\":{\"value\":0.1},\"line_color\":{\"value\":\"#2C708E\"},\"marker\":{\"value\":\"diamond\"},\"size\":{\"value\":10},\"x\":{\"field\":\"date_time\"},\"y\":{\"field\":\"y_index\"}},\"id\":\"2957\",\"type\":\"Scatter\"},{\"attributes\":{\"coordinates\":null,\"data_source\":{\"id\":\"2540\"},\"glyph\":{\"id\":\"2949\"},\"group\":null,\"hover_glyph\":null,\"muted_glyph\":{\"id\":\"2951\"},\"nonselection_glyph\":{\"id\":\"2950\"},\"view\":{\"id\":\"2953\"}},\"id\":\"2952\",\"type\":\"GlyphRenderer\"},{\"attributes\":{\"coordinates\":null,\"data_source\":{\"id\":\"2532\"},\"glyph\":{\"id\":\"2657\"},\"group\":null,\"hover_glyph\":null,\"muted_glyph\":{\"id\":\"2659\"},\"nonselection_glyph\":{\"id\":\"2658\"},\"view\":{\"id\":\"2661\"}},\"id\":\"2660\",\"type\":\"GlyphRenderer\"},{\"attributes\":{\"fill_alpha\":{\"value\":0.2},\"fill_color\":{\"value\":\"#2F6A8D\"},\"hatch_alpha\":{\"value\":0.2},\"hatch_color\":{\"value\":\"#2F6A8D\"},\"line_alpha\":{\"value\":0.2},\"line_color\":{\"value\":\"#2F6A8D\"},\"marker\":{\"value\":\"diamond\"},\"size\":{\"value\":10},\"x\":{\"field\":\"date_time\"},\"y\":{\"field\":\"y_index\"}},\"id\":\"2951\",\"type\":\"Scatter\"},{\"attributes\":{\"fill_alpha\":{\"value\":0.1},\"fill_color\":{\"value\":\"#23878D\"},\"hatch_alpha\":{\"value\":0.1},\"hatch_color\":{\"value\":\"#23878D\"},\"line_alpha\":{\"value\":0.1},\"line_color\":{\"value\":\"#23878D\"},\"marker\":{\"value\":\"diamond\"},\"size\":{\"value\":10},\"x\":{\"field\":\"date_time\"},\"y\":{\"field\":\"y_index\"}},\"id\":\"2985\",\"type\":\"Scatter\"},{\"attributes\":{\"fill_alpha\":{\"value\":0.1},\"fill_color\":{\"value\":\"#2F6A8D\"},\"hatch_alpha\":{\"value\":0.1},\"hatch_color\":{\"value\":\"#2F6A8D\"},\"line_alpha\":{\"value\":0.1},\"line_color\":{\"value\":\"#2F6A8D\"},\"x\":{\"field\":\"date_time\"},\"y\":{\"field\":\"y_index\"}},\"id\":\"2706\",\"type\":\"Circle\"},{\"attributes\":{\"fill_alpha\":{\"value\":0.5},\"fill_color\":{\"value\":\"#2F6A8D\"},\"hatch_alpha\":{\"value\":0.5},\"hatch_color\":{\"value\":\"#2F6A8D\"},\"line_alpha\":{\"value\":0.5},\"line_color\":{\"value\":\"#2F6A8D\"},\"marker\":{\"value\":\"diamond\"},\"size\":{\"value\":10},\"x\":{\"field\":\"date_time\"},\"y\":{\"field\":\"y_index\"}},\"id\":\"2949\",\"type\":\"Scatter\"},{\"attributes\":{\"source\":{\"id\":\"2539\"}},\"id\":\"2946\",\"type\":\"CDSView\"},{\"attributes\":{},\"id\":\"3112\",\"type\":\"AllLabels\"},{\"attributes\":{\"below\":[{\"id\":\"2606\"},{\"id\":\"2611\"}],\"center\":[{\"id\":\"2609\"}],\"height\":185,\"renderers\":[{\"id\":\"2618\"},{\"id\":\"2624\"},{\"id\":\"2630\"},{\"id\":\"2636\"},{\"id\":\"2642\"},{\"id\":\"2648\"},{\"id\":\"2654\"},{\"id\":\"2660\"},{\"id\":\"2666\"},{\"id\":\"2672\"},{\"id\":\"2678\"},{\"id\":\"2684\"},{\"id\":\"2690\"},{\"id\":\"2696\"},{\"id\":\"2702\"},{\"id\":\"2708\"},{\"id\":\"2714\"},{\"id\":\"2720\"},{\"id\":\"2726\"},{\"id\":\"2732\"},{\"id\":\"2738\"},{\"id\":\"2744\"},{\"id\":\"2750\"},{\"id\":\"2756\"},{\"id\":\"2762\"},{\"id\":\"2768\"},{\"id\":\"2774\"},{\"id\":\"2780\"},{\"id\":\"2786\"},{\"id\":\"2792\"},{\"id\":\"2798\"},{\"id\":\"2804\"},{\"id\":\"2810\"},{\"id\":\"2816\"},{\"id\":\"2822\"},{\"id\":\"2828\"},{\"id\":\"2834\"}],\"title\":{\"id\":\"2596\"},\"toolbar\":{\"id\":\"2610\"},\"toolbar_location\":null,\"width\":900,\"x_range\":{\"id\":\"2598\"},\"x_scale\":{\"id\":\"2602\"},\"y_range\":{\"id\":\"2600\"},\"y_scale\":{\"id\":\"2604\"}},\"id\":\"2595\",\"subtype\":\"Figure\",\"type\":\"Plot\"},{\"attributes\":{\"label\":{\"value\":\"u23\"},\"renderers\":[{\"id\":\"2945\"}]},\"id\":\"2947\",\"type\":\"LegendItem\"},{\"attributes\":{\"fill_alpha\":{\"value\":0.1},\"fill_color\":{\"value\":\"#2F6A8D\"},\"hatch_alpha\":{\"value\":0.1},\"hatch_color\":{\"value\":\"#2F6A8D\"},\"line_alpha\":{\"value\":0.1},\"line_color\":{\"value\":\"#2F6A8D\"},\"marker\":{\"value\":\"diamond\"},\"size\":{\"value\":10},\"x\":{\"field\":\"date_time\"},\"y\":{\"field\":\"y_index\"}},\"id\":\"2950\",\"type\":\"Scatter\"},{\"attributes\":{\"fill_color\":{\"value\":\"#423E85\"},\"hatch_color\":{\"value\":\"#423E85\"},\"line_color\":{\"value\":\"#423E85\"},\"x\":{\"field\":\"date_time\"},\"y\":{\"field\":\"y_index\"}},\"id\":\"2663\",\"type\":\"Circle\"},{\"attributes\":{\"data\":{\"date_time\":{\"__ndarray__\":\"AACwWsDkc0I=\",\"dtype\":\"float64\",\"order\":\"little\",\"shape\":[1]},\"index\":[383],\"y_index\":[14]},\"selected\":{\"id\":\"3142\"},\"selection_policy\":{\"id\":\"3141\"}},\"id\":\"2539\",\"type\":\"ColumnDataSource\"},{\"attributes\":{\"fill_alpha\":{\"value\":0.2},\"fill_color\":{\"value\":\"#2C708E\"},\"hatch_alpha\":{\"value\":0.2},\"hatch_color\":{\"value\":\"#2C708E\"},\"line_alpha\":{\"value\":0.2},\"line_color\":{\"value\":\"#2C708E\"},\"x\":{\"field\":\"date_time\"},\"y\":{\"field\":\"y_index\"}},\"id\":\"2713\",\"type\":\"Circle\"},{\"attributes\":{\"fill_alpha\":{\"value\":0.1},\"fill_color\":{\"value\":\"#2A768E\"},\"hatch_alpha\":{\"value\":0.1},\"hatch_color\":{\"value\":\"#2A768E\"},\"line_alpha\":{\"value\":0.1},\"line_color\":{\"value\":\"#2A768E\"},\"x\":{\"field\":\"date_time\"},\"y\":{\"field\":\"y_index\"}},\"id\":\"2718\",\"type\":\"Circle\"},{\"attributes\":{},\"id\":\"3177\",\"type\":\"UnionRenderers\"},{\"attributes\":{\"fill_alpha\":{\"value\":0.1},\"fill_color\":{\"value\":\"#287B8E\"},\"hatch_alpha\":{\"value\":0.1},\"hatch_color\":{\"value\":\"#287B8E\"},\"line_alpha\":{\"value\":0.1},\"line_color\":{\"value\":\"#287B8E\"},\"x\":{\"field\":\"date_time\"},\"y\":{\"field\":\"y_index\"}},\"id\":\"2724\",\"type\":\"Circle\"},{\"attributes\":{\"fill_color\":{\"value\":\"#2A768E\"},\"hatch_color\":{\"value\":\"#2A768E\"},\"line_color\":{\"value\":\"#2A768E\"},\"x\":{\"field\":\"date_time\"},\"y\":{\"field\":\"y_index\"}},\"id\":\"2717\",\"type\":\"Circle\"},{\"attributes\":{},\"id\":\"3178\",\"type\":\"Selection\"},{\"attributes\":{\"coordinates\":null,\"data_source\":{\"id\":\"2541\"},\"glyph\":{\"id\":\"2711\"},\"group\":null,\"hover_glyph\":null,\"muted_glyph\":{\"id\":\"2713\"},\"nonselection_glyph\":{\"id\":\"2712\"},\"view\":{\"id\":\"2715\"}},\"id\":\"2714\",\"type\":\"GlyphRenderer\"},{\"attributes\":{\"fill_color\":{\"value\":\"#287B8E\"},\"hatch_color\":{\"value\":\"#287B8E\"},\"line_color\":{\"value\":\"#287B8E\"},\"x\":{\"field\":\"date_time\"},\"y\":{\"field\":\"y_index\"}},\"id\":\"2723\",\"type\":\"Circle\"},{\"attributes\":{},\"id\":\"3145\",\"type\":\"UnionRenderers\"},{\"attributes\":{\"source\":{\"id\":\"2542\"}},\"id\":\"2721\",\"type\":\"CDSView\"},{\"attributes\":{\"coordinates\":null,\"data_source\":{\"id\":\"2539\"},\"glyph\":{\"id\":\"2942\"},\"group\":null,\"hover_glyph\":null,\"muted_glyph\":{\"id\":\"2944\"},\"nonselection_glyph\":{\"id\":\"2943\"},\"view\":{\"id\":\"2946\"}},\"id\":\"2945\",\"type\":\"GlyphRenderer\"},{\"attributes\":{},\"id\":\"3146\",\"type\":\"Selection\"},{\"attributes\":{\"coordinates\":null,\"data_source\":{\"id\":\"2557\"},\"glyph\":{\"id\":\"3068\"},\"group\":null,\"hover_glyph\":null,\"muted_glyph\":{\"id\":\"3070\"},\"nonselection_glyph\":{\"id\":\"3069\"},\"view\":{\"id\":\"3072\"}},\"id\":\"3071\",\"type\":\"GlyphRenderer\"},{\"attributes\":{},\"id\":\"3113\",\"type\":\"UnionRenderers\"},{\"attributes\":{\"fill_alpha\":{\"value\":0.2},\"fill_color\":{\"value\":\"#31658D\"},\"hatch_alpha\":{\"value\":0.2},\"hatch_color\":{\"value\":\"#31658D\"},\"line_alpha\":{\"value\":0.2},\"line_color\":{\"value\":\"#31658D\"},\"marker\":{\"value\":\"diamond\"},\"size\":{\"value\":10},\"x\":{\"field\":\"date_time\"},\"y\":{\"field\":\"y_index\"}},\"id\":\"2944\",\"type\":\"Scatter\"},{\"attributes\":{\"label\":{\"value\":\"u34\"},\"renderers\":[{\"id\":\"2980\"}]},\"id\":\"2982\",\"type\":\"LegendItem\"},{\"attributes\":{\"fill_color\":{\"value\":\"#3A538B\"},\"hatch_color\":{\"value\":\"#3A538B\"},\"line_color\":{\"value\":\"#3A538B\"},\"x\":{\"field\":\"date_time\"},\"y\":{\"field\":\"y_index\"}},\"id\":\"2681\",\"type\":\"Circle\"},{\"attributes\":{},\"id\":\"3114\",\"type\":\"Selection\"},{\"attributes\":{\"fill_alpha\":{\"value\":0.5},\"fill_color\":{\"value\":\"#31658D\"},\"hatch_alpha\":{\"value\":0.5},\"hatch_color\":{\"value\":\"#31658D\"},\"line_alpha\":{\"value\":0.5},\"line_color\":{\"value\":\"#31658D\"},\"marker\":{\"value\":\"diamond\"},\"size\":{\"value\":10},\"x\":{\"field\":\"date_time\"},\"y\":{\"field\":\"y_index\"}},\"id\":\"2942\",\"type\":\"Scatter\"},{\"attributes\":{\"source\":{\"id\":\"2538\"}},\"id\":\"2939\",\"type\":\"CDSView\"},{\"attributes\":{\"label\":{\"value\":\"u22\"},\"renderers\":[{\"id\":\"2938\"}]},\"id\":\"2940\",\"type\":\"LegendItem\"},{\"attributes\":{\"fill_alpha\":{\"value\":0.1},\"fill_color\":{\"value\":\"#31658D\"},\"hatch_alpha\":{\"value\":0.1},\"hatch_color\":{\"value\":\"#31658D\"},\"line_alpha\":{\"value\":0.1},\"line_color\":{\"value\":\"#31658D\"},\"marker\":{\"value\":\"diamond\"},\"size\":{\"value\":10},\"x\":{\"field\":\"date_time\"},\"y\":{\"field\":\"y_index\"}},\"id\":\"2943\",\"type\":\"Scatter\"},{\"attributes\":{\"fill_alpha\":{\"value\":0.1},\"fill_color\":{\"value\":\"#423E85\"},\"hatch_alpha\":{\"value\":0.1},\"hatch_color\":{\"value\":\"#423E85\"},\"line_alpha\":{\"value\":0.1},\"line_color\":{\"value\":\"#423E85\"},\"x\":{\"field\":\"date_time\"},\"y\":{\"field\":\"y_index\"}},\"id\":\"2664\",\"type\":\"Circle\"},{\"attributes\":{\"coordinates\":null,\"data_source\":{\"id\":\"2538\"},\"glyph\":{\"id\":\"2935\"},\"group\":null,\"hover_glyph\":null,\"muted_glyph\":{\"id\":\"2937\"},\"nonselection_glyph\":{\"id\":\"2936\"},\"view\":{\"id\":\"2939\"}},\"id\":\"2938\",\"type\":\"GlyphRenderer\"},{\"attributes\":{\"data\":{\"date_time\":{\"__ndarray__\":\"AAAmY2/kc0IAAJLQwuRzQgAArLd05nNCAADaO7Lnc0IAALLDUehzQgAAst/553NCAABAtv3oc0IAANYqqOhzQgAAdkag6XNCAADexIrrc0IAAJT+MOxzQgAAIp7V7HNCAACewSbtc0IAAHjteu1zQgAAAJQe7nNCAAACfBXvc0I=\",\"dtype\":\"float64\",\"order\":\"little\",\"shape\":[16]},\"index\":[309,310,311,312,313,314,315,316,317,318,319,320,321,322,323,324],\"y_index\":[21,21,21,21,21,21,21,21,21,21,21,21,21,21,21,21]},\"selected\":{\"id\":\"3156\"},\"selection_policy\":{\"id\":\"3155\"}},\"id\":\"2546\",\"type\":\"ColumnDataSource\"},{\"attributes\":{\"source\":{\"id\":\"2534\"}},\"id\":\"2673\",\"type\":\"CDSView\"},{\"attributes\":{\"source\":{\"id\":\"2544\"}},\"id\":\"2981\",\"type\":\"CDSView\"},{\"attributes\":{\"fill_alpha\":{\"value\":0.1},\"fill_color\":{\"value\":\"#3F4587\"},\"hatch_alpha\":{\"value\":0.1},\"hatch_color\":{\"value\":\"#3F4587\"},\"line_alpha\":{\"value\":0.1},\"line_color\":{\"value\":\"#3F4587\"},\"x\":{\"field\":\"date_time\"},\"y\":{\"field\":\"y_index\"}},\"id\":\"2670\",\"type\":\"Circle\"},{\"attributes\":{\"fill_alpha\":{\"value\":0.2},\"fill_color\":{\"value\":\"#345F8D\"},\"hatch_alpha\":{\"value\":0.2},\"hatch_color\":{\"value\":\"#345F8D\"},\"line_alpha\":{\"value\":0.2},\"line_color\":{\"value\":\"#345F8D\"},\"marker\":{\"value\":\"diamond\"},\"size\":{\"value\":10},\"x\":{\"field\":\"date_time\"},\"y\":{\"field\":\"y_index\"}},\"id\":\"2937\",\"type\":\"Scatter\"},{\"attributes\":{\"coordinates\":null,\"data_source\":{\"id\":\"2544\"},\"glyph\":{\"id\":\"2977\"},\"group\":null,\"hover_glyph\":null,\"muted_glyph\":{\"id\":\"2979\"},\"nonselection_glyph\":{\"id\":\"2978\"},\"view\":{\"id\":\"2981\"}},\"id\":\"2980\",\"type\":\"GlyphRenderer\"},{\"attributes\":{\"fill_alpha\":{\"value\":0.5},\"fill_color\":{\"value\":\"#345F8D\"},\"hatch_alpha\":{\"value\":0.5},\"hatch_color\":{\"value\":\"#345F8D\"},\"line_alpha\":{\"value\":0.5},\"line_color\":{\"value\":\"#345F8D\"},\"marker\":{\"value\":\"diamond\"},\"size\":{\"value\":10},\"x\":{\"field\":\"date_time\"},\"y\":{\"field\":\"y_index\"}},\"id\":\"2935\",\"type\":\"Scatter\"},{\"attributes\":{},\"id\":\"3179\",\"type\":\"UnionRenderers\"},{\"attributes\":{\"source\":{\"id\":\"2537\"}},\"id\":\"2932\",\"type\":\"CDSView\"},{\"attributes\":{},\"id\":\"3180\",\"type\":\"Selection\"},{\"attributes\":{\"data\":{\"date_time\":{\"__ndarray__\":\"AAAC51rkc0IAAKTXbeRzQgAAdFuD5HNCAAC4oKroc0IAANB4vOZzQgAA1N/z6XNCAAA4pJ/oc0IAAPyJq+dzQgAA4EnE7nNCAABeM2vvc0IAAKY/YfBzQg==\",\"dtype\":\"float64\",\"order\":\"little\",\"shape\":[11]},\"index\":[406,407,408,409,410,411,412,413,414,415,416],\"y_index\":[6,6,6,6,6,6,6,6,6,6,6]},\"selected\":{\"id\":\"3126\"},\"selection_policy\":{\"id\":\"3125\"}},\"id\":\"2531\",\"type\":\"ColumnDataSource\"},{\"attributes\":{\"label\":{\"value\":\"u19\"},\"renderers\":[{\"id\":\"2931\"}]},\"id\":\"2933\",\"type\":\"LegendItem\"},{\"attributes\":{\"fill_alpha\":{\"value\":0.1},\"fill_color\":{\"value\":\"#345F8D\"},\"hatch_alpha\":{\"value\":0.1},\"hatch_color\":{\"value\":\"#345F8D\"},\"line_alpha\":{\"value\":0.1},\"line_color\":{\"value\":\"#345F8D\"},\"marker\":{\"value\":\"diamond\"},\"size\":{\"value\":10},\"x\":{\"field\":\"date_time\"},\"y\":{\"field\":\"y_index\"}},\"id\":\"2936\",\"type\":\"Scatter\"},{\"attributes\":{},\"id\":\"3147\",\"type\":\"UnionRenderers\"},{\"attributes\":{\"coordinates\":null,\"data_source\":{\"id\":\"2537\"},\"glyph\":{\"id\":\"2928\"},\"group\":null,\"hover_glyph\":null,\"muted_glyph\":{\"id\":\"2930\"},\"nonselection_glyph\":{\"id\":\"2929\"},\"view\":{\"id\":\"2932\"}},\"id\":\"2931\",\"type\":\"GlyphRenderer\"},{\"attributes\":{},\"id\":\"3148\",\"type\":\"Selection\"},{\"attributes\":{\"fill_alpha\":{\"value\":0.2},\"fill_color\":{\"value\":\"#37598C\"},\"hatch_alpha\":{\"value\":0.2},\"hatch_color\":{\"value\":\"#37598C\"},\"line_alpha\":{\"value\":0.2},\"line_color\":{\"value\":\"#37598C\"},\"marker\":{\"value\":\"diamond\"},\"size\":{\"value\":10},\"x\":{\"field\":\"date_time\"},\"y\":{\"field\":\"y_index\"}},\"id\":\"2930\",\"type\":\"Scatter\"},{\"attributes\":{\"fill_alpha\":{\"value\":0.5},\"fill_color\":{\"value\":\"#23878D\"},\"hatch_alpha\":{\"value\":0.5},\"hatch_color\":{\"value\":\"#23878D\"},\"line_alpha\":{\"value\":0.5},\"line_color\":{\"value\":\"#23878D\"},\"marker\":{\"value\":\"diamond\"},\"size\":{\"value\":10},\"x\":{\"field\":\"date_time\"},\"y\":{\"field\":\"y_index\"}},\"id\":\"2984\",\"type\":\"Scatter\"},{\"attributes\":{},\"id\":\"3115\",\"type\":\"UnionRenderers\"},{\"attributes\":{\"fill_alpha\":{\"value\":0.5},\"fill_color\":{\"value\":\"#37598C\"},\"hatch_alpha\":{\"value\":0.5},\"hatch_color\":{\"value\":\"#37598C\"},\"line_alpha\":{\"value\":0.5},\"line_color\":{\"value\":\"#37598C\"},\"marker\":{\"value\":\"diamond\"},\"size\":{\"value\":10},\"x\":{\"field\":\"date_time\"},\"y\":{\"field\":\"y_index\"}},\"id\":\"2928\",\"type\":\"Scatter\"},{\"attributes\":{},\"id\":\"3116\",\"type\":\"Selection\"},{\"attributes\":{\"source\":{\"id\":\"2536\"}},\"id\":\"2925\",\"type\":\"CDSView\"},{\"attributes\":{\"label\":{\"value\":\"u18\"},\"renderers\":[{\"id\":\"2924\"}]},\"id\":\"2926\",\"type\":\"LegendItem\"},{\"attributes\":{\"fill_alpha\":{\"value\":0.1},\"fill_color\":{\"value\":\"#37598C\"},\"hatch_alpha\":{\"value\":0.1},\"hatch_color\":{\"value\":\"#37598C\"},\"line_alpha\":{\"value\":0.1},\"line_color\":{\"value\":\"#37598C\"},\"marker\":{\"value\":\"diamond\"},\"size\":{\"value\":10},\"x\":{\"field\":\"date_time\"},\"y\":{\"field\":\"y_index\"}},\"id\":\"2929\",\"type\":\"Scatter\"},{\"attributes\":{\"coordinates\":null,\"data_source\":{\"id\":\"2536\"},\"glyph\":{\"id\":\"2921\"},\"group\":null,\"hover_glyph\":null,\"muted_glyph\":{\"id\":\"2923\"},\"nonselection_glyph\":{\"id\":\"2922\"},\"view\":{\"id\":\"2925\"}},\"id\":\"2924\",\"type\":\"GlyphRenderer\"},{\"attributes\":{\"fill_alpha\":{\"value\":0.2},\"fill_color\":{\"value\":\"#23878D\"},\"hatch_alpha\":{\"value\":0.2},\"hatch_color\":{\"value\":\"#23878D\"},\"line_alpha\":{\"value\":0.2},\"line_color\":{\"value\":\"#23878D\"},\"marker\":{\"value\":\"diamond\"},\"size\":{\"value\":10},\"x\":{\"field\":\"date_time\"},\"y\":{\"field\":\"y_index\"}},\"id\":\"2986\",\"type\":\"Scatter\"},{\"attributes\":{\"coordinates\":null,\"data_source\":{\"id\":\"2542\"},\"glyph\":{\"id\":\"2717\"},\"group\":null,\"hover_glyph\":null,\"muted_glyph\":{\"id\":\"2719\"},\"nonselection_glyph\":{\"id\":\"2718\"},\"view\":{\"id\":\"2721\"}},\"id\":\"2720\",\"type\":\"GlyphRenderer\"},{\"attributes\":{\"fill_alpha\":{\"value\":0.2},\"fill_color\":{\"value\":\"#2A768E\"},\"hatch_alpha\":{\"value\":0.2},\"hatch_color\":{\"value\":\"#2A768E\"},\"line_alpha\":{\"value\":0.2},\"line_color\":{\"value\":\"#2A768E\"},\"x\":{\"field\":\"date_time\"},\"y\":{\"field\":\"y_index\"}},\"id\":\"2719\",\"type\":\"Circle\"},{\"attributes\":{\"fill_color\":{\"value\":\"#3F4587\"},\"hatch_color\":{\"value\":\"#3F4587\"},\"line_color\":{\"value\":\"#3F4587\"},\"x\":{\"field\":\"date_time\"},\"y\":{\"field\":\"y_index\"}},\"id\":\"2669\",\"type\":\"Circle\"},{\"attributes\":{\"fill_alpha\":{\"value\":0.2},\"fill_color\":{\"value\":\"#64CB5D\"},\"hatch_alpha\":{\"value\":0.2},\"hatch_color\":{\"value\":\"#64CB5D\"},\"line_alpha\":{\"value\":0.2},\"line_color\":{\"value\":\"#64CB5D\"},\"x\":{\"field\":\"date_time\"},\"y\":{\"field\":\"y_index\"}},\"id\":\"2815\",\"type\":\"Circle\"},{\"attributes\":{\"coordinates\":null,\"data_source\":{\"id\":\"2558\"},\"glyph\":{\"id\":\"2813\"},\"group\":null,\"hover_glyph\":null,\"muted_glyph\":{\"id\":\"2815\"},\"nonselection_glyph\":{\"id\":\"2814\"},\"view\":{\"id\":\"2817\"}},\"id\":\"2816\",\"type\":\"GlyphRenderer\"},{\"attributes\":{\"data\":{\"date_time\":{\"__ndarray__\":\"AAAiw0nqc0I=\",\"dtype\":\"float64\",\"order\":\"little\",\"shape\":[1]},\"index\":[300],\"y_index\":[19]},\"selected\":{\"id\":\"3152\"},\"selection_policy\":{\"id\":\"3151\"}},\"id\":\"2544\",\"type\":\"ColumnDataSource\"},{\"attributes\":{\"fill_alpha\":{\"value\":0.1},\"fill_color\":{\"value\":\"#26818E\"},\"hatch_alpha\":{\"value\":0.1},\"hatch_color\":{\"value\":\"#26818E\"},\"line_alpha\":{\"value\":0.1},\"line_color\":{\"value\":\"#26818E\"},\"x\":{\"field\":\"date_time\"},\"y\":{\"field\":\"y_index\"}},\"id\":\"2730\",\"type\":\"Circle\"},{\"attributes\":{},\"id\":\"3181\",\"type\":\"UnionRenderers\"},{\"attributes\":{\"fill_color\":{\"value\":\"#26818E\"},\"hatch_color\":{\"value\":\"#26818E\"},\"line_color\":{\"value\":\"#26818E\"},\"x\":{\"field\":\"date_time\"},\"y\":{\"field\":\"y_index\"}},\"id\":\"2729\",\"type\":\"Circle\"},{\"attributes\":{\"source\":{\"id\":\"2543\"}},\"id\":\"2727\",\"type\":\"CDSView\"},{\"attributes\":{},\"id\":\"3182\",\"type\":\"Selection\"},{\"attributes\":{\"coordinates\":null,\"data_source\":{\"id\":\"2543\"},\"glyph\":{\"id\":\"2723\"},\"group\":null,\"hover_glyph\":null,\"muted_glyph\":{\"id\":\"2725\"},\"nonselection_glyph\":{\"id\":\"2724\"},\"view\":{\"id\":\"2727\"}},\"id\":\"2726\",\"type\":\"GlyphRenderer\"},{\"attributes\":{\"fill_alpha\":{\"value\":0.2},\"fill_color\":{\"value\":\"#287B8E\"},\"hatch_alpha\":{\"value\":0.2},\"hatch_color\":{\"value\":\"#287B8E\"},\"line_alpha\":{\"value\":0.2},\"line_color\":{\"value\":\"#287B8E\"},\"x\":{\"field\":\"date_time\"},\"y\":{\"field\":\"y_index\"}},\"id\":\"2725\",\"type\":\"Circle\"},{\"attributes\":{},\"id\":\"3149\",\"type\":\"UnionRenderers\"},{\"attributes\":{\"source\":{\"id\":\"2558\"}},\"id\":\"2817\",\"type\":\"CDSView\"},{\"attributes\":{\"fill_color\":{\"value\":\"#72CF55\"},\"hatch_color\":{\"value\":\"#72CF55\"},\"line_color\":{\"value\":\"#72CF55\"},\"x\":{\"field\":\"date_time\"},\"y\":{\"field\":\"y_index\"}},\"id\":\"2819\",\"type\":\"Circle\"},{\"attributes\":{},\"id\":\"3150\",\"type\":\"Selection\"},{\"attributes\":{\"fill_alpha\":{\"value\":0.1},\"fill_color\":{\"value\":\"#23878D\"},\"hatch_alpha\":{\"value\":0.1},\"hatch_color\":{\"value\":\"#23878D\"},\"line_alpha\":{\"value\":0.1},\"line_color\":{\"value\":\"#23878D\"},\"x\":{\"field\":\"date_time\"},\"y\":{\"field\":\"y_index\"}},\"id\":\"2736\",\"type\":\"Circle\"},{\"attributes\":{\"fill_color\":{\"value\":\"#36B877\"},\"hatch_color\":{\"value\":\"#36B877\"},\"line_color\":{\"value\":\"#36B877\"},\"x\":{\"field\":\"date_time\"},\"y\":{\"field\":\"y_index\"}},\"id\":\"2789\",\"type\":\"Circle\"},{\"attributes\":{\"fill_color\":{\"value\":\"#23878D\"},\"hatch_color\":{\"value\":\"#23878D\"},\"line_color\":{\"value\":\"#23878D\"},\"x\":{\"field\":\"date_time\"},\"y\":{\"field\":\"y_index\"}},\"id\":\"2735\",\"type\":\"Circle\"},{\"attributes\":{},\"id\":\"3117\",\"type\":\"UnionRenderers\"},{\"attributes\":{\"data\":{\"date_time\":{\"__ndarray__\":\"AACIpkvqc0IAAOSroOhzQgAAmBn453NCAACk6Lrvc0I=\",\"dtype\":\"float64\",\"order\":\"little\",\"shape\":[4]},\"index\":[379,380,381,382],\"y_index\":[16,16,16,16]},\"selected\":{\"id\":\"3146\"},\"selection_policy\":{\"id\":\"3145\"}},\"id\":\"2541\",\"type\":\"ColumnDataSource\"},{\"attributes\":{\"source\":{\"id\":\"2544\"}},\"id\":\"2733\",\"type\":\"CDSView\"},{\"attributes\":{\"fill_alpha\":{\"value\":0.2},\"fill_color\":{\"value\":\"#3A538B\"},\"hatch_alpha\":{\"value\":0.2},\"hatch_color\":{\"value\":\"#3A538B\"},\"line_alpha\":{\"value\":0.2},\"line_color\":{\"value\":\"#3A538B\"},\"marker\":{\"value\":\"diamond\"},\"size\":{\"value\":10},\"x\":{\"field\":\"date_time\"},\"y\":{\"field\":\"y_index\"}},\"id\":\"2923\",\"type\":\"Scatter\"},{\"attributes\":{},\"id\":\"3118\",\"type\":\"Selection\"},{\"attributes\":{\"fill_alpha\":{\"value\":0.1},\"fill_color\":{\"value\":\"#57C665\"},\"hatch_alpha\":{\"value\":0.1},\"hatch_color\":{\"value\":\"#57C665\"},\"line_alpha\":{\"value\":0.1},\"line_color\":{\"value\":\"#57C665\"},\"marker\":{\"value\":\"diamond\"},\"size\":{\"value\":10},\"x\":{\"field\":\"date_time\"},\"y\":{\"field\":\"y_index\"}},\"id\":\"3069\",\"type\":\"Scatter\"},{\"attributes\":{\"fill_alpha\":{\"value\":0.5},\"fill_color\":{\"value\":\"#3A538B\"},\"hatch_alpha\":{\"value\":0.5},\"hatch_color\":{\"value\":\"#3A538B\"},\"line_alpha\":{\"value\":0.5},\"line_color\":{\"value\":\"#3A538B\"},\"marker\":{\"value\":\"diamond\"},\"size\":{\"value\":10},\"x\":{\"field\":\"date_time\"},\"y\":{\"field\":\"y_index\"}},\"id\":\"2921\",\"type\":\"Scatter\"},{\"attributes\":{\"bottom_units\":\"screen\",\"coordinates\":null,\"fill_alpha\":0.5,\"fill_color\":\"lightgrey\",\"group\":null,\"left_units\":\"screen\",\"level\":\"overlay\",\"line_alpha\":1.0,\"line_color\":\"black\",\"line_dash\":[4,4],\"line_width\":2,\"right_units\":\"screen\",\"syncable\":false,\"top_units\":\"screen\"},\"id\":\"2587\",\"type\":\"BoxAnnotation\"},{\"attributes\":{\"source\":{\"id\":\"2535\"}},\"id\":\"2918\",\"type\":\"CDSView\"},{\"attributes\":{\"label\":{\"value\":\"u17\"},\"renderers\":[{\"id\":\"2917\"}]},\"id\":\"2919\",\"type\":\"LegendItem\"},{\"attributes\":{\"fill_alpha\":{\"value\":0.1},\"fill_color\":{\"value\":\"#3A538B\"},\"hatch_alpha\":{\"value\":0.1},\"hatch_color\":{\"value\":\"#3A538B\"},\"line_alpha\":{\"value\":0.1},\"line_color\":{\"value\":\"#3A538B\"},\"marker\":{\"value\":\"diamond\"},\"size\":{\"value\":10},\"x\":{\"field\":\"date_time\"},\"y\":{\"field\":\"y_index\"}},\"id\":\"2922\",\"type\":\"Scatter\"},{\"attributes\":{\"coordinates\":null,\"data_source\":{\"id\":\"2535\"},\"glyph\":{\"id\":\"2914\"},\"group\":null,\"hover_glyph\":null,\"muted_glyph\":{\"id\":\"2916\"},\"nonselection_glyph\":{\"id\":\"2915\"},\"view\":{\"id\":\"2918\"}},\"id\":\"2917\",\"type\":\"GlyphRenderer\"},{\"attributes\":{\"coordinates\":null,\"data_source\":{\"id\":\"2545\"},\"glyph\":{\"id\":\"2984\"},\"group\":null,\"hover_glyph\":null,\"muted_glyph\":{\"id\":\"2986\"},\"nonselection_glyph\":{\"id\":\"2985\"},\"view\":{\"id\":\"2988\"}},\"id\":\"2987\",\"type\":\"GlyphRenderer\"},{\"attributes\":{\"fill_alpha\":{\"value\":0.2},\"fill_color\":{\"value\":\"#3D4C89\"},\"hatch_alpha\":{\"value\":0.2},\"hatch_color\":{\"value\":\"#3D4C89\"},\"line_alpha\":{\"value\":0.2},\"line_color\":{\"value\":\"#3D4C89\"},\"marker\":{\"value\":\"diamond\"},\"size\":{\"value\":10},\"x\":{\"field\":\"date_time\"},\"y\":{\"field\":\"y_index\"}},\"id\":\"2916\",\"type\":\"Scatter\"},{\"attributes\":{\"fill_alpha\":{\"value\":0.2},\"fill_color\":{\"value\":\"#57C665\"},\"hatch_alpha\":{\"value\":0.2},\"hatch_color\":{\"value\":\"#57C665\"},\"line_alpha\":{\"value\":0.2},\"line_color\":{\"value\":\"#57C665\"},\"marker\":{\"value\":\"diamond\"},\"size\":{\"value\":10},\"x\":{\"field\":\"date_time\"},\"y\":{\"field\":\"y_index\"}},\"id\":\"3070\",\"type\":\"Scatter\"},{\"attributes\":{},\"id\":\"3183\",\"type\":\"UnionRenderers\"},{\"attributes\":{\"fill_alpha\":{\"value\":0.5},\"fill_color\":{\"value\":\"#3D4C89\"},\"hatch_alpha\":{\"value\":0.5},\"hatch_color\":{\"value\":\"#3D4C89\"},\"line_alpha\":{\"value\":0.5},\"line_color\":{\"value\":\"#3D4C89\"},\"marker\":{\"value\":\"diamond\"},\"size\":{\"value\":10},\"x\":{\"field\":\"date_time\"},\"y\":{\"field\":\"y_index\"}},\"id\":\"2914\",\"type\":\"Scatter\"},{\"attributes\":{},\"id\":\"3184\",\"type\":\"Selection\"},{\"attributes\":{\"source\":{\"id\":\"2534\"}},\"id\":\"2911\",\"type\":\"CDSView\"},{\"attributes\":{},\"id\":\"3151\",\"type\":\"UnionRenderers\"},{\"attributes\":{\"label\":{\"value\":\"u16\"},\"renderers\":[{\"id\":\"2910\"}]},\"id\":\"2912\",\"type\":\"LegendItem\"},{\"attributes\":{\"fill_alpha\":{\"value\":0.1},\"fill_color\":{\"value\":\"#3D4C89\"},\"hatch_alpha\":{\"value\":0.1},\"hatch_color\":{\"value\":\"#3D4C89\"},\"line_alpha\":{\"value\":0.1},\"line_color\":{\"value\":\"#3D4C89\"},\"marker\":{\"value\":\"diamond\"},\"size\":{\"value\":10},\"x\":{\"field\":\"date_time\"},\"y\":{\"field\":\"y_index\"}},\"id\":\"2915\",\"type\":\"Scatter\"},{\"attributes\":{},\"id\":\"3152\",\"type\":\"Selection\"},{\"attributes\":{\"coordinates\":null,\"data_source\":{\"id\":\"2534\"},\"glyph\":{\"id\":\"2907\"},\"group\":null,\"hover_glyph\":null,\"muted_glyph\":{\"id\":\"2909\"},\"nonselection_glyph\":{\"id\":\"2908\"},\"view\":{\"id\":\"2911\"}},\"id\":\"2910\",\"type\":\"GlyphRenderer\"},{\"attributes\":{\"label\":{\"value\":\"u35\"},\"renderers\":[{\"id\":\"2987\"}]},\"id\":\"2989\",\"type\":\"LegendItem\"},{\"attributes\":{},\"id\":\"3119\",\"type\":\"UnionRenderers\"},{\"attributes\":{\"fill_alpha\":{\"value\":0.2},\"fill_color\":{\"value\":\"#3F4587\"},\"hatch_alpha\":{\"value\":0.2},\"hatch_color\":{\"value\":\"#3F4587\"},\"line_alpha\":{\"value\":0.2},\"line_color\":{\"value\":\"#3F4587\"},\"marker\":{\"value\":\"diamond\"},\"size\":{\"value\":10},\"x\":{\"field\":\"date_time\"},\"y\":{\"field\":\"y_index\"}},\"id\":\"2909\",\"type\":\"Scatter\"},{\"attributes\":{\"fill_alpha\":{\"value\":0.1},\"fill_color\":{\"value\":\"#218C8D\"},\"hatch_alpha\":{\"value\":0.1},\"hatch_color\":{\"value\":\"#218C8D\"},\"line_alpha\":{\"value\":0.1},\"line_color\":{\"value\":\"#218C8D\"},\"marker\":{\"value\":\"diamond\"},\"size\":{\"value\":10},\"x\":{\"field\":\"date_time\"},\"y\":{\"field\":\"y_index\"}},\"id\":\"2992\",\"type\":\"Scatter\"},{\"attributes\":{},\"id\":\"3120\",\"type\":\"Selection\"},{\"attributes\":{\"coordinates\":null,\"data_source\":{\"id\":\"2546\"},\"glyph\":{\"id\":\"2991\"},\"group\":null,\"hover_glyph\":null,\"muted_glyph\":{\"id\":\"2993\"},\"nonselection_glyph\":{\"id\":\"2992\"},\"view\":{\"id\":\"2995\"}},\"id\":\"2994\",\"type\":\"GlyphRenderer\"},{\"attributes\":{\"label\":{\"value\":\"u10\"},\"renderers\":[{\"id\":\"2889\"}]},\"id\":\"2891\",\"type\":\"LegendItem\"},{\"attributes\":{\"fill_alpha\":{\"value\":0.2},\"fill_color\":{\"value\":\"#423E85\"},\"hatch_alpha\":{\"value\":0.2},\"hatch_color\":{\"value\":\"#423E85\"},\"line_alpha\":{\"value\":0.2},\"line_color\":{\"value\":\"#423E85\"},\"x\":{\"field\":\"date_time\"},\"y\":{\"field\":\"y_index\"}},\"id\":\"2665\",\"type\":\"Circle\"},{\"attributes\":{\"fill_alpha\":{\"value\":0.5},\"fill_color\":{\"value\":\"#3F4587\"},\"hatch_alpha\":{\"value\":0.5},\"hatch_color\":{\"value\":\"#3F4587\"},\"line_alpha\":{\"value\":0.5},\"line_color\":{\"value\":\"#3F4587\"},\"marker\":{\"value\":\"diamond\"},\"size\":{\"value\":10},\"x\":{\"field\":\"date_time\"},\"y\":{\"field\":\"y_index\"}},\"id\":\"2907\",\"type\":\"Scatter\"},{\"attributes\":{\"fill_alpha\":{\"value\":0.5},\"fill_color\":{\"value\":\"#443781\"},\"hatch_alpha\":{\"value\":0.5},\"hatch_color\":{\"value\":\"#443781\"},\"line_alpha\":{\"value\":0.5},\"line_color\":{\"value\":\"#443781\"},\"marker\":{\"value\":\"diamond\"},\"size\":{\"value\":10},\"x\":{\"field\":\"date_time\"},\"y\":{\"field\":\"y_index\"}},\"id\":\"2893\",\"type\":\"Scatter\"},{\"attributes\":{\"data\":{\"date_time\":{\"__ndarray__\":\"AAAOEvHpc0I=\",\"dtype\":\"float64\",\"order\":\"little\",\"shape\":[1]},\"index\":[262],\"y_index\":[8]},\"selected\":{\"id\":\"3130\"},\"selection_policy\":{\"id\":\"3129\"}},\"id\":\"2533\",\"type\":\"ColumnDataSource\"},{\"attributes\":{\"source\":{\"id\":\"2530\"}},\"id\":\"2883\",\"type\":\"CDSView\"},{\"attributes\":{\"label\":{\"value\":\"u08\"},\"renderers\":[{\"id\":\"2882\"}]},\"id\":\"2884\",\"type\":\"LegendItem\"},{\"attributes\":{\"fill_alpha\":{\"value\":0.2},\"fill_color\":{\"value\":\"#46307D\"},\"hatch_alpha\":{\"value\":0.2},\"hatch_color\":{\"value\":\"#46307D\"},\"line_alpha\":{\"value\":0.2},\"line_color\":{\"value\":\"#46307D\"},\"marker\":{\"value\":\"diamond\"},\"size\":{\"value\":10},\"x\":{\"field\":\"date_time\"},\"y\":{\"field\":\"y_index\"}},\"id\":\"2888\",\"type\":\"Scatter\"},{\"attributes\":{\"coordinates\":null,\"data_source\":{\"id\":\"2530\"},\"glyph\":{\"id\":\"2879\"},\"group\":null,\"hover_glyph\":null,\"muted_glyph\":{\"id\":\"2881\"},\"nonselection_glyph\":{\"id\":\"2880\"},\"view\":{\"id\":\"2883\"}},\"id\":\"2882\",\"type\":\"GlyphRenderer\"},{\"attributes\":{},\"id\":\"3185\",\"type\":\"UnionRenderers\"},{\"attributes\":{\"coordinates\":null,\"data_source\":{\"id\":\"2531\"},\"glyph\":{\"id\":\"2886\"},\"group\":null,\"hover_glyph\":null,\"muted_glyph\":{\"id\":\"2888\"},\"nonselection_glyph\":{\"id\":\"2887\"},\"view\":{\"id\":\"2890\"}},\"id\":\"2889\",\"type\":\"GlyphRenderer\"},{\"attributes\":{\"fill_alpha\":{\"value\":0.2},\"fill_color\":{\"value\":\"#472878\"},\"hatch_alpha\":{\"value\":0.2},\"hatch_color\":{\"value\":\"#472878\"},\"line_alpha\":{\"value\":0.2},\"line_color\":{\"value\":\"#472878\"},\"marker\":{\"value\":\"diamond\"},\"size\":{\"value\":10},\"x\":{\"field\":\"date_time\"},\"y\":{\"field\":\"y_index\"}},\"id\":\"2881\",\"type\":\"Scatter\"},{\"attributes\":{\"data\":{\"date_time\":{\"__ndarray__\":\"AAAkDv7oc0IAACaRAudzQgAA2rOA7HNC\",\"dtype\":\"float64\",\"order\":\"little\",\"shape\":[3]},\"index\":[159,160,161],\"y_index\":[7,7,7]},\"selected\":{\"id\":\"3128\"},\"selection_policy\":{\"id\":\"3127\"}},\"id\":\"2532\",\"type\":\"ColumnDataSource\"},{\"attributes\":{},\"id\":\"3186\",\"type\":\"Selection\"},{\"attributes\":{\"data\":{\"date_time\":{\"__ndarray__\":\"AACSpzfkc0IAAO4ScORzQgAAelSE5HNCAAASQ2fkc0IAAJjWpuVzQgAAgl4H5nNCAAAQE2rmc0IAAGoEauZzQgAAfHH453NCAABKj6Loc0IAALBR9OZzQgAA6MKj6HNCAAD8efXpc0IAAFaCledzQgAAip/p53NCAADOcUrpc0IAALSWiulzQgAAXHSs53NCAACAJi/pc0IAAJ5r+ehzQgAAymBA6nNCAAD2GwLnc0IAAPjnUOhzQgAAZqdC53NCAABEh9zpc0IAAAjoiepzQgAAisyL63NCAABysDfsc0IAAHDAZexzQgAATvzS7HNCAACg9ivtc0IAAArAyu1zQgAAzsd37XNCAACCR7rvc0IAAF4YtO5zQgAAaF8X73NC\",\"dtype\":\"float64\",\"order\":\"little\",\"shape\":[36]},\"index\":[343,344,345,346,347,348,349,350,351,352,353,354,355,356,357,358,359,360,361,362,363,364,365,366,367,368,369,370,371,372,373,374,375,376,377,378],\"y_index\":[9,9,9,9,9,9,9,9,9,9,9,9,9,9,9,9,9,9,9,9,9,9,9,9,9,9,9,9,9,9,9,9,9,9,9,9]},\"selected\":{\"id\":\"3132\"},\"selection_policy\":{\"id\":\"3131\"}},\"id\":\"2534\",\"type\":\"ColumnDataSource\"},{\"attributes\":{\"fill_alpha\":{\"value\":0.5},\"fill_color\":{\"value\":\"#57C665\"},\"hatch_alpha\":{\"value\":0.5},\"hatch_color\":{\"value\":\"#57C665\"},\"line_alpha\":{\"value\":0.5},\"line_color\":{\"value\":\"#57C665\"},\"marker\":{\"value\":\"diamond\"},\"size\":{\"value\":10},\"x\":{\"field\":\"date_time\"},\"y\":{\"field\":\"y_index\"}},\"id\":\"3068\",\"type\":\"Scatter\"},{\"attributes\":{\"fill_alpha\":{\"value\":0.1},\"fill_color\":{\"value\":\"#2C708E\"},\"hatch_alpha\":{\"value\":0.1},\"hatch_color\":{\"value\":\"#2C708E\"},\"line_alpha\":{\"value\":0.1},\"line_color\":{\"value\":\"#2C708E\"},\"x\":{\"field\":\"date_time\"},\"y\":{\"field\":\"y_index\"}},\"id\":\"2712\",\"type\":\"Circle\"},{\"attributes\":{},\"id\":\"3153\",\"type\":\"UnionRenderers\"},{\"attributes\":{\"fill_alpha\":{\"value\":0.5},\"fill_color\":{\"value\":\"#472878\"},\"hatch_alpha\":{\"value\":0.5},\"hatch_color\":{\"value\":\"#472878\"},\"line_alpha\":{\"value\":0.5},\"line_color\":{\"value\":\"#472878\"},\"marker\":{\"value\":\"diamond\"},\"size\":{\"value\":10},\"x\":{\"field\":\"date_time\"},\"y\":{\"field\":\"y_index\"}},\"id\":\"2879\",\"type\":\"Scatter\"},{\"attributes\":{\"source\":{\"id\":\"2529\"}},\"id\":\"2876\",\"type\":\"CDSView\"},{\"attributes\":{},\"id\":\"3154\",\"type\":\"Selection\"},{\"attributes\":{\"label\":{\"value\":\"u04\"},\"renderers\":[{\"id\":\"2875\"}]},\"id\":\"2877\",\"type\":\"LegendItem\"},{\"attributes\":{},\"id\":\"3121\",\"type\":\"UnionRenderers\"},{\"attributes\":{\"fill_alpha\":{\"value\":0.1},\"fill_color\":{\"value\":\"#472878\"},\"hatch_alpha\":{\"value\":0.1},\"hatch_color\":{\"value\":\"#472878\"},\"line_alpha\":{\"value\":0.1},\"line_color\":{\"value\":\"#472878\"},\"marker\":{\"value\":\"diamond\"},\"size\":{\"value\":10},\"x\":{\"field\":\"date_time\"},\"y\":{\"field\":\"y_index\"}},\"id\":\"2880\",\"type\":\"Scatter\"},{\"attributes\":{\"coordinates\":null,\"data_source\":{\"id\":\"2529\"},\"glyph\":{\"id\":\"2872\"},\"group\":null,\"hover_glyph\":null,\"muted_glyph\":{\"id\":\"2874\"},\"nonselection_glyph\":{\"id\":\"2873\"},\"view\":{\"id\":\"2876\"}},\"id\":\"2875\",\"type\":\"GlyphRenderer\"},{\"attributes\":{\"data\":{\"date_time\":{\"__ndarray__\":\"AAAW8MLmc0IAACiR3etzQgAA/qUu7HNCAACo7dLsc0IAAKacJe1zQgAA4EPL7XNCAAB+7HTuc0I=\",\"dtype\":\"float64\",\"order\":\"little\",\"shape\":[7]},\"index\":[213,214,215,216,217,218,219],\"y_index\":[28,28,28,28,28,28,28]},\"selected\":{\"id\":\"3170\"},\"selection_policy\":{\"id\":\"3169\"}},\"id\":\"2553\",\"type\":\"ColumnDataSource\"},{\"attributes\":{},\"id\":\"3122\",\"type\":\"Selection\"},{\"attributes\":{\"data\":{\"date_time\":{\"__ndarray__\":\"AAD85m/kc0IAAD51BudzQgAA6IeA7HNC\",\"dtype\":\"float64\",\"order\":\"little\",\"shape\":[3]},\"index\":[244,245,246],\"y_index\":[31,31,31]},\"selected\":{\"id\":\"3176\"},\"selection_policy\":{\"id\":\"3175\"}},\"id\":\"2556\",\"type\":\"ColumnDataSource\"},{\"attributes\":{\"fill_alpha\":{\"value\":0.2},\"fill_color\":{\"value\":\"#482172\"},\"hatch_alpha\":{\"value\":0.2},\"hatch_color\":{\"value\":\"#482172\"},\"line_alpha\":{\"value\":0.2},\"line_color\":{\"value\":\"#482172\"},\"marker\":{\"value\":\"diamond\"},\"size\":{\"value\":10},\"x\":{\"field\":\"date_time\"},\"y\":{\"field\":\"y_index\"}},\"id\":\"2874\",\"type\":\"Scatter\"},{\"attributes\":{\"fill_alpha\":{\"value\":0.2},\"fill_color\":{\"value\":\"#218C8D\"},\"hatch_alpha\":{\"value\":0.2},\"hatch_color\":{\"value\":\"#218C8D\"},\"line_alpha\":{\"value\":0.2},\"line_color\":{\"value\":\"#218C8D\"},\"marker\":{\"value\":\"diamond\"},\"size\":{\"value\":10},\"x\":{\"field\":\"date_time\"},\"y\":{\"field\":\"y_index\"}},\"id\":\"2993\",\"type\":\"Scatter\"},{\"attributes\":{\"fill_alpha\":{\"value\":0.5},\"fill_color\":{\"value\":\"#482172\"},\"hatch_alpha\":{\"value\":0.5},\"hatch_color\":{\"value\":\"#482172\"},\"line_alpha\":{\"value\":0.5},\"line_color\":{\"value\":\"#482172\"},\"marker\":{\"value\":\"diamond\"},\"size\":{\"value\":10},\"x\":{\"field\":\"date_time\"},\"y\":{\"field\":\"y_index\"}},\"id\":\"2872\",\"type\":\"Scatter\"},{\"attributes\":{\"source\":{\"id\":\"2528\"}},\"id\":\"2869\",\"type\":\"CDSView\"},{\"attributes\":{\"fill_alpha\":{\"value\":0.2},\"fill_color\":{\"value\":\"#2F6A8D\"},\"hatch_alpha\":{\"value\":0.2},\"hatch_color\":{\"value\":\"#2F6A8D\"},\"line_alpha\":{\"value\":0.2},\"line_color\":{\"value\":\"#2F6A8D\"},\"x\":{\"field\":\"date_time\"},\"y\":{\"field\":\"y_index\"}},\"id\":\"2707\",\"type\":\"Circle\"},{\"attributes\":{\"label\":{\"value\":\"u03\"},\"renderers\":[{\"id\":\"2868\"}]},\"id\":\"2870\",\"type\":\"LegendItem\"},{\"attributes\":{\"coordinates\":null,\"data_source\":{\"id\":\"2535\"},\"glyph\":{\"id\":\"2675\"},\"group\":null,\"hover_glyph\":null,\"muted_glyph\":{\"id\":\"2677\"},\"nonselection_glyph\":{\"id\":\"2676\"},\"view\":{\"id\":\"2679\"}},\"id\":\"2678\",\"type\":\"GlyphRenderer\"},{\"attributes\":{\"fill_alpha\":{\"value\":0.1},\"fill_color\":{\"value\":\"#482172\"},\"hatch_alpha\":{\"value\":0.1},\"hatch_color\":{\"value\":\"#482172\"},\"line_alpha\":{\"value\":0.1},\"line_color\":{\"value\":\"#482172\"},\"marker\":{\"value\":\"diamond\"},\"size\":{\"value\":10},\"x\":{\"field\":\"date_time\"},\"y\":{\"field\":\"y_index\"}},\"id\":\"2873\",\"type\":\"Scatter\"},{\"attributes\":{\"coordinates\":null,\"data_source\":{\"id\":\"2528\"},\"glyph\":{\"id\":\"2865\"},\"group\":null,\"hover_glyph\":null,\"muted_glyph\":{\"id\":\"2867\"},\"nonselection_glyph\":{\"id\":\"2866\"},\"view\":{\"id\":\"2869\"}},\"id\":\"2868\",\"type\":\"GlyphRenderer\"},{\"attributes\":{\"fill_alpha\":{\"value\":0.2},\"fill_color\":{\"value\":\"#48196B\"},\"hatch_alpha\":{\"value\":0.2},\"hatch_color\":{\"value\":\"#48196B\"},\"line_alpha\":{\"value\":0.2},\"line_color\":{\"value\":\"#48196B\"},\"marker\":{\"value\":\"diamond\"},\"size\":{\"value\":10},\"x\":{\"field\":\"date_time\"},\"y\":{\"field\":\"y_index\"}},\"id\":\"2867\",\"type\":\"Scatter\"},{\"attributes\":{\"data\":{\"date_time\":{\"__ndarray__\":\"AAAWrXHkc0IAAELGO+RzQgAA0k7I5HNCAACuAinlc0IAAOIG++lzQgAAWMxY53NCAABunfjnc0IAAO4UpelzQgAAzjAu7HNCAABG9XXvc0I=\",\"dtype\":\"float64\",\"order\":\"little\",\"shape\":[10]},\"index\":[0,1,2,3,4,5,6,7,8,10],\"y_index\":[10,10,10,10,10,10,10,10,10,10]},\"selected\":{\"id\":\"3134\"},\"selection_policy\":{\"id\":\"3133\"}},\"id\":\"2535\",\"type\":\"ColumnDataSource\"},{\"attributes\":{\"source\":{\"id\":\"2531\"}},\"id\":\"2890\",\"type\":\"CDSView\"},{\"attributes\":{\"fill_alpha\":{\"value\":0.5},\"fill_color\":{\"value\":\"#48196B\"},\"hatch_alpha\":{\"value\":0.5},\"hatch_color\":{\"value\":\"#48196B\"},\"line_alpha\":{\"value\":0.5},\"line_color\":{\"value\":\"#48196B\"},\"marker\":{\"value\":\"diamond\"},\"size\":{\"value\":10},\"x\":{\"field\":\"date_time\"},\"y\":{\"field\":\"y_index\"}},\"id\":\"2865\",\"type\":\"Scatter\"},{\"attributes\":{},\"id\":\"3155\",\"type\":\"UnionRenderers\"},{\"attributes\":{\"source\":{\"id\":\"2527\"}},\"id\":\"2862\",\"type\":\"CDSView\"},{\"attributes\":{},\"id\":\"3156\",\"type\":\"Selection\"},{\"attributes\":{\"label\":{\"value\":\"u02\"},\"renderers\":[{\"id\":\"2861\"}]},\"id\":\"2863\",\"type\":\"LegendItem\"},{\"attributes\":{\"fill_alpha\":{\"value\":0.1},\"fill_color\":{\"value\":\"#48196B\"},\"hatch_alpha\":{\"value\":0.1},\"hatch_color\":{\"value\":\"#48196B\"},\"line_alpha\":{\"value\":0.1},\"line_color\":{\"value\":\"#48196B\"},\"marker\":{\"value\":\"diamond\"},\"size\":{\"value\":10},\"x\":{\"field\":\"date_time\"},\"y\":{\"field\":\"y_index\"}},\"id\":\"2866\",\"type\":\"Scatter\"},{\"attributes\":{},\"id\":\"3123\",\"type\":\"UnionRenderers\"},{\"attributes\":{\"coordinates\":null,\"data_source\":{\"id\":\"2527\"},\"glyph\":{\"id\":\"2858\"},\"group\":null,\"hover_glyph\":null,\"muted_glyph\":{\"id\":\"2860\"},\"nonselection_glyph\":{\"id\":\"2859\"},\"view\":{\"id\":\"2862\"}},\"id\":\"2861\",\"type\":\"GlyphRenderer\"},{\"attributes\":{\"source\":{\"id\":\"2533\"}},\"id\":\"2667\",\"type\":\"CDSView\"},{\"attributes\":{\"fill_alpha\":{\"value\":0.5},\"fill_color\":{\"value\":\"#218C8D\"},\"hatch_alpha\":{\"value\":0.5},\"hatch_color\":{\"value\":\"#218C8D\"},\"line_alpha\":{\"value\":0.5},\"line_color\":{\"value\":\"#218C8D\"},\"marker\":{\"value\":\"diamond\"},\"size\":{\"value\":10},\"x\":{\"field\":\"date_time\"},\"y\":{\"field\":\"y_index\"}},\"id\":\"2991\",\"type\":\"Scatter\"},{\"attributes\":{},\"id\":\"3124\",\"type\":\"Selection\"},{\"attributes\":{\"coordinates\":null,\"data_source\":{\"id\":\"2544\"},\"glyph\":{\"id\":\"2729\"},\"group\":null,\"hover_glyph\":null,\"muted_glyph\":{\"id\":\"2731\"},\"nonselection_glyph\":{\"id\":\"2730\"},\"view\":{\"id\":\"2733\"}},\"id\":\"2732\",\"type\":\"GlyphRenderer\"},{\"attributes\":{\"fill_alpha\":{\"value\":0.2},\"fill_color\":{\"value\":\"#26818E\"},\"hatch_alpha\":{\"value\":0.2},\"hatch_color\":{\"value\":\"#26818E\"},\"line_alpha\":{\"value\":0.2},\"line_color\":{\"value\":\"#26818E\"},\"x\":{\"field\":\"date_time\"},\"y\":{\"field\":\"y_index\"}},\"id\":\"2731\",\"type\":\"Circle\"},{\"attributes\":{\"fill_alpha\":{\"value\":0.1},\"fill_color\":{\"value\":\"#72CF55\"},\"hatch_alpha\":{\"value\":0.1},\"hatch_color\":{\"value\":\"#72CF55\"},\"line_alpha\":{\"value\":0.1},\"line_color\":{\"value\":\"#72CF55\"},\"x\":{\"field\":\"date_time\"},\"y\":{\"field\":\"y_index\"}},\"id\":\"2820\",\"type\":\"Circle\"},{\"attributes\":{\"source\":{\"id\":\"2545\"}},\"id\":\"2988\",\"type\":\"CDSView\"},{\"attributes\":{\"fill_alpha\":{\"value\":0.1},\"fill_color\":{\"value\":\"#218C8D\"},\"hatch_alpha\":{\"value\":0.1},\"hatch_color\":{\"value\":\"#218C8D\"},\"line_alpha\":{\"value\":0.1},\"line_color\":{\"value\":\"#218C8D\"},\"x\":{\"field\":\"date_time\"},\"y\":{\"field\":\"y_index\"}},\"id\":\"2742\",\"type\":\"Circle\"},{\"attributes\":{\"fill_color\":{\"value\":\"#218C8D\"},\"hatch_color\":{\"value\":\"#218C8D\"},\"line_color\":{\"value\":\"#218C8D\"},\"x\":{\"field\":\"date_time\"},\"y\":{\"field\":\"y_index\"}},\"id\":\"2741\",\"type\":\"Circle\"},{\"attributes\":{\"source\":{\"id\":\"2545\"}},\"id\":\"2739\",\"type\":\"CDSView\"},{\"attributes\":{},\"id\":\"3168\",\"type\":\"Selection\"},{\"attributes\":{\"coordinates\":null,\"data_source\":{\"id\":\"2545\"},\"glyph\":{\"id\":\"2735\"},\"group\":null,\"hover_glyph\":null,\"muted_glyph\":{\"id\":\"2737\"},\"nonselection_glyph\":{\"id\":\"2736\"},\"view\":{\"id\":\"2739\"}},\"id\":\"2738\",\"type\":\"GlyphRenderer\"},{\"attributes\":{\"fill_alpha\":{\"value\":0.2},\"fill_color\":{\"value\":\"#23878D\"},\"hatch_alpha\":{\"value\":0.2},\"hatch_color\":{\"value\":\"#23878D\"},\"line_alpha\":{\"value\":0.2},\"line_color\":{\"value\":\"#23878D\"},\"x\":{\"field\":\"date_time\"},\"y\":{\"field\":\"y_index\"}},\"id\":\"2737\",\"type\":\"Circle\"},{\"attributes\":{\"coordinates\":null,\"data_source\":{\"id\":\"2533\"},\"glyph\":{\"id\":\"2900\"},\"group\":null,\"hover_glyph\":null,\"muted_glyph\":{\"id\":\"2902\"},\"nonselection_glyph\":{\"id\":\"2901\"},\"view\":{\"id\":\"2904\"}},\"id\":\"2903\",\"type\":\"GlyphRenderer\"},{\"attributes\":{\"fill_alpha\":{\"value\":0.2},\"fill_color\":{\"value\":\"#57C665\"},\"hatch_alpha\":{\"value\":0.2},\"hatch_color\":{\"value\":\"#57C665\"},\"line_alpha\":{\"value\":0.2},\"line_color\":{\"value\":\"#57C665\"},\"x\":{\"field\":\"date_time\"},\"y\":{\"field\":\"y_index\"}},\"id\":\"2809\",\"type\":\"Circle\"},{\"attributes\":{\"fill_alpha\":{\"value\":0.1},\"fill_color\":{\"value\":\"#1F928C\"},\"hatch_alpha\":{\"value\":0.1},\"hatch_color\":{\"value\":\"#1F928C\"},\"line_alpha\":{\"value\":0.1},\"line_color\":{\"value\":\"#1F928C\"},\"x\":{\"field\":\"date_time\"},\"y\":{\"field\":\"y_index\"}},\"id\":\"2748\",\"type\":\"Circle\"},{\"attributes\":{\"fill_color\":{\"value\":\"#1F928C\"},\"hatch_color\":{\"value\":\"#1F928C\"},\"line_color\":{\"value\":\"#1F928C\"},\"x\":{\"field\":\"date_time\"},\"y\":{\"field\":\"y_index\"}},\"id\":\"2747\",\"type\":\"Circle\"},{\"attributes\":{\"source\":{\"id\":\"2546\"}},\"id\":\"2745\",\"type\":\"CDSView\"},{\"attributes\":{\"coordinates\":null,\"data_source\":{\"id\":\"2546\"},\"glyph\":{\"id\":\"2741\"},\"group\":null,\"hover_glyph\":null,\"muted_glyph\":{\"id\":\"2743\"},\"nonselection_glyph\":{\"id\":\"2742\"},\"view\":{\"id\":\"2745\"}},\"id\":\"2744\",\"type\":\"GlyphRenderer\"},{\"attributes\":{},\"id\":\"3157\",\"type\":\"UnionRenderers\"},{\"attributes\":{\"fill_alpha\":{\"value\":0.2},\"fill_color\":{\"value\":\"#218C8D\"},\"hatch_alpha\":{\"value\":0.2},\"hatch_color\":{\"value\":\"#218C8D\"},\"line_alpha\":{\"value\":0.2},\"line_color\":{\"value\":\"#218C8D\"},\"x\":{\"field\":\"date_time\"},\"y\":{\"field\":\"y_index\"}},\"id\":\"2743\",\"type\":\"Circle\"},{\"attributes\":{\"coordinates\":null,\"data_source\":{\"id\":\"2540\"},\"glyph\":{\"id\":\"2705\"},\"group\":null,\"hover_glyph\":null,\"muted_glyph\":{\"id\":\"2707\"},\"nonselection_glyph\":{\"id\":\"2706\"},\"view\":{\"id\":\"2709\"}},\"id\":\"2708\",\"type\":\"GlyphRenderer\"},{\"attributes\":{\"coordinates\":null,\"data_source\":{\"id\":\"2557\"},\"glyph\":{\"id\":\"2807\"},\"group\":null,\"hover_glyph\":null,\"muted_glyph\":{\"id\":\"2809\"},\"nonselection_glyph\":{\"id\":\"2808\"},\"view\":{\"id\":\"2811\"}},\"id\":\"2810\",\"type\":\"GlyphRenderer\"},{\"attributes\":{},\"id\":\"3158\",\"type\":\"Selection\"},{\"attributes\":{\"data\":{\"date_time\":{\"__ndarray__\":\"AACccgjkc0IAAERAdORzQgAAIoD453NCAACUZMHmc0IAAGA4qOdzQgAADtHU7HNCAADOx3ftc0I=\",\"dtype\":\"float64\",\"order\":\"little\",\"shape\":[7]},\"index\":[206,207,208,209,210,211,212],\"y_index\":[25,25,25,25,25,25,25]},\"selected\":{\"id\":\"3164\"},\"selection_policy\":{\"id\":\"3163\"}},\"id\":\"2550\",\"type\":\"ColumnDataSource\"},{\"attributes\":{\"source\":{\"id\":\"2557\"}},\"id\":\"2811\",\"type\":\"CDSView\"},{\"attributes\":{\"fill_alpha\":{\"value\":0.1},\"fill_color\":{\"value\":\"#1E988A\"},\"hatch_alpha\":{\"value\":0.1},\"hatch_color\":{\"value\":\"#1E988A\"},\"line_alpha\":{\"value\":0.1},\"line_color\":{\"value\":\"#1E988A\"},\"x\":{\"field\":\"date_time\"},\"y\":{\"field\":\"y_index\"}},\"id\":\"2754\",\"type\":\"Circle\"},{\"attributes\":{},\"id\":\"3125\",\"type\":\"UnionRenderers\"},{\"attributes\":{\"fill_color\":{\"value\":\"#1E988A\"},\"hatch_color\":{\"value\":\"#1E988A\"},\"line_color\":{\"value\":\"#1E988A\"},\"x\":{\"field\":\"date_time\"},\"y\":{\"field\":\"y_index\"}},\"id\":\"2753\",\"type\":\"Circle\"},{\"attributes\":{\"source\":{\"id\":\"2547\"}},\"id\":\"2751\",\"type\":\"CDSView\"},{\"attributes\":{},\"id\":\"3126\",\"type\":\"Selection\"},{\"attributes\":{\"coordinates\":null,\"data_source\":{\"id\":\"2547\"},\"glyph\":{\"id\":\"2747\"},\"group\":null,\"hover_glyph\":null,\"muted_glyph\":{\"id\":\"2749\"},\"nonselection_glyph\":{\"id\":\"2748\"},\"view\":{\"id\":\"2751\"}},\"id\":\"2750\",\"type\":\"GlyphRenderer\"},{\"attributes\":{\"fill_alpha\":{\"value\":0.2},\"fill_color\":{\"value\":\"#1F928C\"},\"hatch_alpha\":{\"value\":0.2},\"hatch_color\":{\"value\":\"#1F928C\"},\"line_alpha\":{\"value\":0.2},\"line_color\":{\"value\":\"#1F928C\"},\"x\":{\"field\":\"date_time\"},\"y\":{\"field\":\"y_index\"}},\"id\":\"2749\",\"type\":\"Circle\"},{\"attributes\":{\"source\":{\"id\":\"2540\"}},\"id\":\"2709\",\"type\":\"CDSView\"},{\"attributes\":{\"fill_color\":{\"value\":\"#64CB5D\"},\"hatch_color\":{\"value\":\"#64CB5D\"},\"line_color\":{\"value\":\"#64CB5D\"},\"x\":{\"field\":\"date_time\"},\"y\":{\"field\":\"y_index\"}},\"id\":\"2813\",\"type\":\"Circle\"},{\"attributes\":{\"fill_alpha\":{\"value\":0.1},\"fill_color\":{\"value\":\"#64CB5D\"},\"hatch_alpha\":{\"value\":0.1},\"hatch_color\":{\"value\":\"#64CB5D\"},\"line_alpha\":{\"value\":0.1},\"line_color\":{\"value\":\"#64CB5D\"},\"x\":{\"field\":\"date_time\"},\"y\":{\"field\":\"y_index\"}},\"id\":\"2814\",\"type\":\"Circle\"},{\"attributes\":{\"fill_alpha\":{\"value\":0.2},\"fill_color\":{\"value\":\"#471163\"},\"hatch_alpha\":{\"value\":0.2},\"hatch_color\":{\"value\":\"#471163\"},\"line_alpha\":{\"value\":0.2},\"line_color\":{\"value\":\"#471163\"},\"marker\":{\"value\":\"diamond\"},\"size\":{\"value\":10},\"x\":{\"field\":\"date_time\"},\"y\":{\"field\":\"y_index\"}},\"id\":\"2860\",\"type\":\"Scatter\"},{\"attributes\":{\"fill_alpha\":{\"value\":0.1},\"fill_color\":{\"value\":\"#443781\"},\"hatch_alpha\":{\"value\":0.1},\"hatch_color\":{\"value\":\"#443781\"},\"line_alpha\":{\"value\":0.1},\"line_color\":{\"value\":\"#443781\"},\"marker\":{\"value\":\"diamond\"},\"size\":{\"value\":10},\"x\":{\"field\":\"date_time\"},\"y\":{\"field\":\"y_index\"}},\"id\":\"2894\",\"type\":\"Scatter\"},{\"attributes\":{\"fill_alpha\":{\"value\":0.5},\"fill_color\":{\"value\":\"#471163\"},\"hatch_alpha\":{\"value\":0.5},\"hatch_color\":{\"value\":\"#471163\"},\"line_alpha\":{\"value\":0.5},\"line_color\":{\"value\":\"#471163\"},\"marker\":{\"value\":\"diamond\"},\"size\":{\"value\":10},\"x\":{\"field\":\"date_time\"},\"y\":{\"field\":\"y_index\"}},\"id\":\"2858\",\"type\":\"Scatter\"},{\"attributes\":{\"source\":{\"id\":\"2526\"}},\"id\":\"2855\",\"type\":\"CDSView\"},{\"attributes\":{\"label\":{\"value\":\"u01\"},\"renderers\":[{\"id\":\"2854\"}]},\"id\":\"2856\",\"type\":\"LegendItem\"},{\"attributes\":{\"fill_alpha\":{\"value\":0.1},\"fill_color\":{\"value\":\"#471163\"},\"hatch_alpha\":{\"value\":0.1},\"hatch_color\":{\"value\":\"#471163\"},\"line_alpha\":{\"value\":0.1},\"line_color\":{\"value\":\"#471163\"},\"marker\":{\"value\":\"diamond\"},\"size\":{\"value\":10},\"x\":{\"field\":\"date_time\"},\"y\":{\"field\":\"y_index\"}},\"id\":\"2859\",\"type\":\"Scatter\"},{\"attributes\":{\"fill_alpha\":{\"value\":0.1},\"fill_color\":{\"value\":\"#36B877\"},\"hatch_alpha\":{\"value\":0.1},\"hatch_color\":{\"value\":\"#36B877\"},\"line_alpha\":{\"value\":0.1},\"line_color\":{\"value\":\"#36B877\"},\"x\":{\"field\":\"date_time\"},\"y\":{\"field\":\"y_index\"}},\"id\":\"2790\",\"type\":\"Circle\"},{\"attributes\":{\"coordinates\":null,\"data_source\":{\"id\":\"2526\"},\"glyph\":{\"id\":\"2851\"},\"group\":null,\"hover_glyph\":null,\"muted_glyph\":{\"id\":\"2853\"},\"nonselection_glyph\":{\"id\":\"2852\"},\"view\":{\"id\":\"2855\"}},\"id\":\"2854\",\"type\":\"GlyphRenderer\"},{\"attributes\":{\"fill_alpha\":{\"value\":0.2},\"fill_color\":{\"value\":\"#45085B\"},\"hatch_alpha\":{\"value\":0.2},\"hatch_color\":{\"value\":\"#45085B\"},\"line_alpha\":{\"value\":0.2},\"line_color\":{\"value\":\"#45085B\"},\"marker\":{\"value\":\"diamond\"},\"size\":{\"value\":10},\"x\":{\"field\":\"date_time\"},\"y\":{\"field\":\"y_index\"}},\"id\":\"2853\",\"type\":\"Scatter\"},{\"attributes\":{},\"id\":\"3159\",\"type\":\"UnionRenderers\"},{\"attributes\":{\"fill_alpha\":{\"value\":0.2},\"fill_color\":{\"value\":\"#443781\"},\"hatch_alpha\":{\"value\":0.2},\"hatch_color\":{\"value\":\"#443781\"},\"line_alpha\":{\"value\":0.2},\"line_color\":{\"value\":\"#443781\"},\"marker\":{\"value\":\"diamond\"},\"size\":{\"value\":10},\"x\":{\"field\":\"date_time\"},\"y\":{\"field\":\"y_index\"}},\"id\":\"2895\",\"type\":\"Scatter\"},{\"attributes\":{},\"id\":\"3160\",\"type\":\"Selection\"},{\"attributes\":{\"fill_alpha\":{\"value\":0.5},\"fill_color\":{\"value\":\"#45085B\"},\"hatch_alpha\":{\"value\":0.5},\"hatch_color\":{\"value\":\"#45085B\"},\"line_alpha\":{\"value\":0.5},\"line_color\":{\"value\":\"#45085B\"},\"marker\":{\"value\":\"diamond\"},\"size\":{\"value\":10},\"x\":{\"field\":\"date_time\"},\"y\":{\"field\":\"y_index\"}},\"id\":\"2851\",\"type\":\"Scatter\"},{\"attributes\":{\"fill_alpha\":{\"value\":0.1},\"fill_color\":{\"value\":\"#45085B\"},\"hatch_alpha\":{\"value\":0.1},\"hatch_color\":{\"value\":\"#45085B\"},\"line_alpha\":{\"value\":0.1},\"line_color\":{\"value\":\"#45085B\"},\"marker\":{\"value\":\"diamond\"},\"size\":{\"value\":10},\"x\":{\"field\":\"date_time\"},\"y\":{\"field\":\"y_index\"}},\"id\":\"2852\",\"type\":\"Scatter\"},{\"attributes\":{},\"id\":\"3127\",\"type\":\"UnionRenderers\"},{\"attributes\":{\"source\":{\"id\":\"2525\"}},\"id\":\"2848\",\"type\":\"CDSView\"},{\"attributes\":{},\"id\":\"3128\",\"type\":\"Selection\"},{\"attributes\":{\"coordinates\":null,\"data_source\":{\"id\":\"2532\"},\"glyph\":{\"id\":\"2893\"},\"group\":null,\"hover_glyph\":null,\"muted_glyph\":{\"id\":\"2895\"},\"nonselection_glyph\":{\"id\":\"2894\"},\"view\":{\"id\":\"2897\"}},\"id\":\"2896\",\"type\":\"GlyphRenderer\"},{\"attributes\":{\"tools\":[{\"id\":\"2562\"},{\"id\":\"2582\"},{\"id\":\"2583\"},{\"id\":\"2584\"},{\"id\":\"2585\"},{\"id\":\"2586\"}]},\"id\":\"2588\",\"type\":\"Toolbar\"},{\"attributes\":{\"label\":{\"value\":\"u00\"},\"renderers\":[{\"id\":\"2847\"}]},\"id\":\"2849\",\"type\":\"LegendItem\"},{\"attributes\":{\"fill_alpha\":{\"value\":0.2},\"fill_color\":{\"value\":\"#3F4587\"},\"hatch_alpha\":{\"value\":0.2},\"hatch_color\":{\"value\":\"#3F4587\"},\"line_alpha\":{\"value\":0.2},\"line_color\":{\"value\":\"#3F4587\"},\"x\":{\"field\":\"date_time\"},\"y\":{\"field\":\"y_index\"}},\"id\":\"2671\",\"type\":\"Circle\"},{\"attributes\":{\"label\":{\"value\":\"u12\"},\"renderers\":[{\"id\":\"2896\"}]},\"id\":\"2898\",\"type\":\"LegendItem\"},{\"attributes\":{\"fill_alpha\":{\"value\":0.2},\"fill_color\":{\"value\":\"#440154\"},\"hatch_alpha\":{\"value\":0.2},\"hatch_color\":{\"value\":\"#440154\"},\"line_alpha\":{\"value\":0.2},\"line_color\":{\"value\":\"#440154\"},\"marker\":{\"value\":\"diamond\"},\"size\":{\"value\":10},\"x\":{\"field\":\"date_time\"},\"y\":{\"field\":\"y_index\"}},\"id\":\"2846\",\"type\":\"Scatter\"},{\"attributes\":{\"fill_alpha\":{\"value\":0.1},\"fill_color\":{\"value\":\"#440154\"},\"hatch_alpha\":{\"value\":0.1},\"hatch_color\":{\"value\":\"#440154\"},\"line_alpha\":{\"value\":0.1},\"line_color\":{\"value\":\"#440154\"},\"marker\":{\"value\":\"diamond\"},\"size\":{\"value\":10},\"x\":{\"field\":\"date_time\"},\"y\":{\"field\":\"y_index\"}},\"id\":\"2845\",\"type\":\"Scatter\"},{\"attributes\":{\"fill_alpha\":{\"value\":0.1},\"fill_color\":{\"value\":\"#423E85\"},\"hatch_alpha\":{\"value\":0.1},\"hatch_color\":{\"value\":\"#423E85\"},\"line_alpha\":{\"value\":0.1},\"line_color\":{\"value\":\"#423E85\"},\"marker\":{\"value\":\"diamond\"},\"size\":{\"value\":10},\"x\":{\"field\":\"date_time\"},\"y\":{\"field\":\"y_index\"}},\"id\":\"2901\",\"type\":\"Scatter\"},{\"attributes\":{\"coordinates\":null,\"data_source\":{\"id\":\"2525\"},\"glyph\":{\"id\":\"2844\"},\"group\":null,\"hover_glyph\":null,\"muted_glyph\":{\"id\":\"2846\"},\"nonselection_glyph\":{\"id\":\"2845\"},\"view\":{\"id\":\"2848\"}},\"id\":\"2847\",\"type\":\"GlyphRenderer\"},{\"attributes\":{\"fill_alpha\":{\"value\":0.5},\"fill_color\":{\"value\":\"#440154\"},\"hatch_alpha\":{\"value\":0.5},\"hatch_color\":{\"value\":\"#440154\"},\"line_alpha\":{\"value\":0.5},\"line_color\":{\"value\":\"#440154\"},\"marker\":{\"value\":\"diamond\"},\"size\":{\"value\":10},\"x\":{\"field\":\"date_time\"},\"y\":{\"field\":\"y_index\"}},\"id\":\"2844\",\"type\":\"Scatter\"},{\"attributes\":{},\"id\":\"3161\",\"type\":\"UnionRenderers\"},{\"attributes\":{\"coordinates\":null,\"fill_alpha\":0.2,\"fill_color\":\"navy\",\"group\":null,\"level\":\"overlay\",\"line_alpha\":1.0,\"line_color\":\"black\",\"line_dash\":[2,2],\"line_width\":0.5,\"syncable\":false},\"id\":\"2837\",\"type\":\"BoxAnnotation\"},{\"attributes\":{\"fill_alpha\":{\"value\":0.2},\"fill_color\":{\"value\":\"#90D643\"},\"hatch_alpha\":{\"value\":0.2},\"hatch_color\":{\"value\":\"#90D643\"},\"line_alpha\":{\"value\":0.2},\"line_color\":{\"value\":\"#90D643\"},\"x\":{\"field\":\"date_time\"},\"y\":{\"field\":\"y_index\"}},\"id\":\"2833\",\"type\":\"Circle\"},{\"attributes\":{},\"id\":\"3162\",\"type\":\"Selection\"},{\"attributes\":{\"coordinates\":null,\"data_source\":{\"id\":\"2561\"},\"glyph\":{\"id\":\"2831\"},\"group\":null,\"hover_glyph\":null,\"muted_glyph\":{\"id\":\"2833\"},\"nonselection_glyph\":{\"id\":\"2832\"},\"view\":{\"id\":\"2835\"}},\"id\":\"2834\",\"type\":\"GlyphRenderer\"},{\"attributes\":{\"source\":{\"id\":\"2561\"}},\"id\":\"2835\",\"type\":\"CDSView\"},{\"attributes\":{},\"id\":\"3129\",\"type\":\"UnionRenderers\"},{\"attributes\":{\"overlay\":{\"id\":\"2837\"},\"x_range\":{\"id\":\"2566\"},\"y_range\":null},\"id\":\"2836\",\"type\":\"RangeTool\"},{\"attributes\":{},\"id\":\"3130\",\"type\":\"Selection\"},{\"attributes\":{\"source\":{\"id\":\"2532\"}},\"id\":\"2897\",\"type\":\"CDSView\"},{\"attributes\":{\"fill_alpha\":{\"value\":0.2},\"fill_color\":{\"value\":\"#81D34C\"},\"hatch_alpha\":{\"value\":0.2},\"hatch_color\":{\"value\":\"#81D34C\"},\"line_alpha\":{\"value\":0.2},\"line_color\":{\"value\":\"#81D34C\"},\"x\":{\"field\":\"date_time\"},\"y\":{\"field\":\"y_index\"}},\"id\":\"2827\",\"type\":\"Circle\"},{\"attributes\":{\"coordinates\":null,\"data_source\":{\"id\":\"2560\"},\"glyph\":{\"id\":\"2825\"},\"group\":null,\"hover_glyph\":null,\"muted_glyph\":{\"id\":\"2827\"},\"nonselection_glyph\":{\"id\":\"2826\"},\"view\":{\"id\":\"2829\"}},\"id\":\"2828\",\"type\":\"GlyphRenderer\"},{\"attributes\":{\"source\":{\"id\":\"2560\"}},\"id\":\"2829\",\"type\":\"CDSView\"},{\"attributes\":{\"fill_color\":{\"value\":\"#90D643\"},\"hatch_color\":{\"value\":\"#90D643\"},\"line_color\":{\"value\":\"#90D643\"},\"x\":{\"field\":\"date_time\"},\"y\":{\"field\":\"y_index\"}},\"id\":\"2831\",\"type\":\"Circle\"},{\"attributes\":{\"fill_alpha\":{\"value\":0.1},\"fill_color\":{\"value\":\"#90D643\"},\"hatch_alpha\":{\"value\":0.1},\"hatch_color\":{\"value\":\"#90D643\"},\"line_alpha\":{\"value\":0.1},\"line_color\":{\"value\":\"#90D643\"},\"x\":{\"field\":\"date_time\"},\"y\":{\"field\":\"y_index\"}},\"id\":\"2832\",\"type\":\"Circle\"},{\"attributes\":{\"fill_alpha\":{\"value\":0.5},\"fill_color\":{\"value\":\"#423E85\"},\"hatch_alpha\":{\"value\":0.5},\"hatch_color\":{\"value\":\"#423E85\"},\"line_alpha\":{\"value\":0.5},\"line_color\":{\"value\":\"#423E85\"},\"marker\":{\"value\":\"diamond\"},\"size\":{\"value\":10},\"x\":{\"field\":\"date_time\"},\"y\":{\"field\":\"y_index\"}},\"id\":\"2900\",\"type\":\"Scatter\"},{\"attributes\":{\"fill_alpha\":{\"value\":0.2},\"fill_color\":{\"value\":\"#72CF55\"},\"hatch_alpha\":{\"value\":0.2},\"hatch_color\":{\"value\":\"#72CF55\"},\"line_alpha\":{\"value\":0.2},\"line_color\":{\"value\":\"#72CF55\"},\"x\":{\"field\":\"date_time\"},\"y\":{\"field\":\"y_index\"}},\"id\":\"2821\",\"type\":\"Circle\"},{\"attributes\":{\"coordinates\":null,\"data_source\":{\"id\":\"2559\"},\"glyph\":{\"id\":\"2819\"},\"group\":null,\"hover_glyph\":null,\"muted_glyph\":{\"id\":\"2821\"},\"nonselection_glyph\":{\"id\":\"2820\"},\"view\":{\"id\":\"2823\"}},\"id\":\"2822\",\"type\":\"GlyphRenderer\"},{\"attributes\":{\"source\":{\"id\":\"2559\"}},\"id\":\"2823\",\"type\":\"CDSView\"},{\"attributes\":{\"fill_color\":{\"value\":\"#81D34C\"},\"hatch_color\":{\"value\":\"#81D34C\"},\"line_color\":{\"value\":\"#81D34C\"},\"x\":{\"field\":\"date_time\"},\"y\":{\"field\":\"y_index\"}},\"id\":\"2825\",\"type\":\"Circle\"},{\"attributes\":{\"fill_alpha\":{\"value\":0.1},\"fill_color\":{\"value\":\"#81D34C\"},\"hatch_alpha\":{\"value\":0.1},\"hatch_color\":{\"value\":\"#81D34C\"},\"line_alpha\":{\"value\":0.1},\"line_color\":{\"value\":\"#81D34C\"},\"x\":{\"field\":\"date_time\"},\"y\":{\"field\":\"y_index\"}},\"id\":\"2826\",\"type\":\"Circle\"},{\"attributes\":{\"coordinates\":null,\"data_source\":{\"id\":\"2555\"},\"glyph\":{\"id\":\"2795\"},\"group\":null,\"hover_glyph\":null,\"muted_glyph\":{\"id\":\"2797\"},\"nonselection_glyph\":{\"id\":\"2796\"},\"view\":{\"id\":\"2799\"}},\"id\":\"2798\",\"type\":\"GlyphRenderer\"},{\"attributes\":{},\"id\":\"3163\",\"type\":\"UnionRenderers\"},{\"attributes\":{\"source\":{\"id\":\"2555\"}},\"id\":\"2799\",\"type\":\"CDSView\"},{\"attributes\":{\"fill_alpha\":{\"value\":0.1},\"fill_color\":{\"value\":\"#4BC26C\"},\"hatch_alpha\":{\"value\":0.1},\"hatch_color\":{\"value\":\"#4BC26C\"},\"line_alpha\":{\"value\":0.1},\"line_color\":{\"value\":\"#4BC26C\"},\"x\":{\"field\":\"date_time\"},\"y\":{\"field\":\"y_index\"}},\"id\":\"2802\",\"type\":\"Circle\"},{\"attributes\":{},\"id\":\"3164\",\"type\":\"Selection\"},{\"attributes\":{\"label\":{\"value\":\"u36\"},\"renderers\":[{\"id\":\"2994\"}]},\"id\":\"2996\",\"type\":\"LegendItem\"},{\"attributes\":{\"source\":{\"id\":\"2546\"}},\"id\":\"2995\",\"type\":\"CDSView\"},{\"attributes\":{\"fill_alpha\":{\"value\":0.2},\"fill_color\":{\"value\":\"#36B877\"},\"hatch_alpha\":{\"value\":0.2},\"hatch_color\":{\"value\":\"#36B877\"},\"line_alpha\":{\"value\":0.2},\"line_color\":{\"value\":\"#36B877\"},\"x\":{\"field\":\"date_time\"},\"y\":{\"field\":\"y_index\"}},\"id\":\"2791\",\"type\":\"Circle\"},{\"attributes\":{},\"id\":\"3131\",\"type\":\"UnionRenderers\"},{\"attributes\":{\"fill_alpha\":{\"value\":0.2},\"fill_color\":{\"value\":\"#2FB37B\"},\"hatch_alpha\":{\"value\":0.2},\"hatch_color\":{\"value\":\"#2FB37B\"},\"line_alpha\":{\"value\":0.2},\"line_color\":{\"value\":\"#2FB37B\"},\"x\":{\"field\":\"date_time\"},\"y\":{\"field\":\"y_index\"}},\"id\":\"2785\",\"type\":\"Circle\"},{\"attributes\":{\"coordinates\":null,\"data_source\":{\"id\":\"2553\"},\"glyph\":{\"id\":\"2783\"},\"group\":null,\"hover_glyph\":null,\"muted_glyph\":{\"id\":\"2785\"},\"nonselection_glyph\":{\"id\":\"2784\"},\"view\":{\"id\":\"2787\"}},\"id\":\"2786\",\"type\":\"GlyphRenderer\"},{\"attributes\":{\"data\":{\"date_time\":{\"__ndarray__\":\"AAAwVPjnc0IAABjP7elzQgAAbExL6HNCAAB8yvjoc0IAANRqS+lzQgAATGun53NCAAAwIqHpc0IAACi5d+1zQg==\",\"dtype\":\"float64\",\"order\":\"little\",\"shape\":[8]},\"index\":[11,12,13,14,15,16,17,18],\"y_index\":[26,26,26,26,26,26,26,26]},\"selected\":{\"id\":\"3166\"},\"selection_policy\":{\"id\":\"3165\"}},\"id\":\"2551\",\"type\":\"ColumnDataSource\"},{\"attributes\":{\"fill_alpha\":{\"value\":0.2},\"fill_color\":{\"value\":\"#443781\"},\"hatch_alpha\":{\"value\":0.2},\"hatch_color\":{\"value\":\"#443781\"},\"line_alpha\":{\"value\":0.2},\"line_color\":{\"value\":\"#443781\"},\"x\":{\"field\":\"date_time\"},\"y\":{\"field\":\"y_index\"}},\"id\":\"2659\",\"type\":\"Circle\"},{\"attributes\":{\"source\":{\"id\":\"2553\"}},\"id\":\"2787\",\"type\":\"CDSView\"},{\"attributes\":{},\"id\":\"3132\",\"type\":\"Selection\"},{\"attributes\":{},\"id\":\"2600\",\"type\":\"DataRange1d\"},{\"attributes\":{\"days\":[\"%m-%d %H:%M\"],\"hours\":[\"%H:%M:%S\"],\"milliseconds\":[\"%H:%M:%S.%3N\"],\"minutes\":[\"%H:%M:%S\"],\"seconds\":[\"%H:%M:%S\"]},\"id\":\"2841\",\"type\":\"DatetimeTickFormatter\"},{\"attributes\":{\"fill_alpha\":{\"value\":0.1},\"fill_color\":{\"value\":\"#40BD72\"},\"hatch_alpha\":{\"value\":0.1},\"hatch_color\":{\"value\":\"#40BD72\"},\"line_alpha\":{\"value\":0.1},\"line_color\":{\"value\":\"#40BD72\"},\"x\":{\"field\":\"date_time\"},\"y\":{\"field\":\"y_index\"}},\"id\":\"2796\",\"type\":\"Circle\"},{\"attributes\":{\"coordinates\":null,\"data_source\":{\"id\":\"2534\"},\"glyph\":{\"id\":\"2669\"},\"group\":null,\"hover_glyph\":null,\"muted_glyph\":{\"id\":\"2671\"},\"nonselection_glyph\":{\"id\":\"2670\"},\"view\":{\"id\":\"2673\"}},\"id\":\"2672\",\"type\":\"GlyphRenderer\"},{\"attributes\":{\"fill_alpha\":{\"value\":0.2},\"fill_color\":{\"value\":\"#40BD72\"},\"hatch_alpha\":{\"value\":0.2},\"hatch_color\":{\"value\":\"#40BD72\"},\"line_alpha\":{\"value\":0.2},\"line_color\":{\"value\":\"#40BD72\"},\"x\":{\"field\":\"date_time\"},\"y\":{\"field\":\"y_index\"}},\"id\":\"2797\",\"type\":\"Circle\"},{\"attributes\":{\"source\":{\"id\":\"2533\"}},\"id\":\"2904\",\"type\":\"CDSView\"},{\"attributes\":{\"data\":{\"date_time\":{\"__ndarray__\":\"AADcW/nnc0IAAIr0Je1zQg==\",\"dtype\":\"float64\",\"order\":\"little\",\"shape\":[2]},\"index\":[307,308],\"y_index\":[24,24]},\"selected\":{\"id\":\"3162\"},\"selection_policy\":{\"id\":\"3161\"}},\"id\":\"2549\",\"type\":\"ColumnDataSource\"},{\"attributes\":{\"fill_alpha\":{\"value\":0.2},\"fill_color\":{\"value\":\"#28AE7F\"},\"hatch_alpha\":{\"value\":0.2},\"hatch_color\":{\"value\":\"#28AE7F\"},\"line_alpha\":{\"value\":0.2},\"line_color\":{\"value\":\"#28AE7F\"},\"x\":{\"field\":\"date_time\"},\"y\":{\"field\":\"y_index\"}},\"id\":\"2779\",\"type\":\"Circle\"},{\"attributes\":{\"coordinates\":null,\"data_source\":{\"id\":\"2552\"},\"glyph\":{\"id\":\"2777\"},\"group\":null,\"hover_glyph\":null,\"muted_glyph\":{\"id\":\"2779\"},\"nonselection_glyph\":{\"id\":\"2778\"},\"view\":{\"id\":\"2781\"}},\"id\":\"2780\",\"type\":\"GlyphRenderer\"},{\"attributes\":{\"source\":{\"id\":\"2552\"}},\"id\":\"2781\",\"type\":\"CDSView\"},{\"attributes\":{\"fill_color\":{\"value\":\"#2FB37B\"},\"hatch_color\":{\"value\":\"#2FB37B\"},\"line_color\":{\"value\":\"#2FB37B\"},\"x\":{\"field\":\"date_time\"},\"y\":{\"field\":\"y_index\"}},\"id\":\"2783\",\"type\":\"Circle\"},{\"attributes\":{\"fill_alpha\":{\"value\":0.1},\"fill_color\":{\"value\":\"#2FB37B\"},\"hatch_alpha\":{\"value\":0.1},\"hatch_color\":{\"value\":\"#2FB37B\"},\"line_alpha\":{\"value\":0.1},\"line_color\":{\"value\":\"#2FB37B\"},\"x\":{\"field\":\"date_time\"},\"y\":{\"field\":\"y_index\"}},\"id\":\"2784\",\"type\":\"Circle\"},{\"attributes\":{\"fill_alpha\":{\"value\":0.1},\"fill_color\":{\"value\":\"#57C665\"},\"hatch_alpha\":{\"value\":0.1},\"hatch_color\":{\"value\":\"#57C665\"},\"line_alpha\":{\"value\":0.1},\"line_color\":{\"value\":\"#57C665\"},\"x\":{\"field\":\"date_time\"},\"y\":{\"field\":\"y_index\"}},\"id\":\"2808\",\"type\":\"Circle\"},{\"attributes\":{\"fill_alpha\":{\"value\":0.2},\"fill_color\":{\"value\":\"#23A883\"},\"hatch_alpha\":{\"value\":0.2},\"hatch_color\":{\"value\":\"#23A883\"},\"line_alpha\":{\"value\":0.2},\"line_color\":{\"value\":\"#23A883\"},\"x\":{\"field\":\"date_time\"},\"y\":{\"field\":\"y_index\"}},\"id\":\"2773\",\"type\":\"Circle\"},{\"attributes\":{\"coordinates\":null,\"data_source\":{\"id\":\"2551\"},\"glyph\":{\"id\":\"2771\"},\"group\":null,\"hover_glyph\":null,\"muted_glyph\":{\"id\":\"2773\"},\"nonselection_glyph\":{\"id\":\"2772\"},\"view\":{\"id\":\"2775\"}},\"id\":\"2774\",\"type\":\"GlyphRenderer\"},{\"attributes\":{\"source\":{\"id\":\"2551\"}},\"id\":\"2775\",\"type\":\"CDSView\"},{\"attributes\":{},\"id\":\"3165\",\"type\":\"UnionRenderers\"},{\"attributes\":{\"fill_color\":{\"value\":\"#28AE7F\"},\"hatch_color\":{\"value\":\"#28AE7F\"},\"line_color\":{\"value\":\"#28AE7F\"},\"x\":{\"field\":\"date_time\"},\"y\":{\"field\":\"y_index\"}},\"id\":\"2777\",\"type\":\"Circle\"},{\"attributes\":{\"fill_alpha\":{\"value\":0.1},\"fill_color\":{\"value\":\"#28AE7F\"},\"hatch_alpha\":{\"value\":0.1},\"hatch_color\":{\"value\":\"#28AE7F\"},\"line_alpha\":{\"value\":0.1},\"line_color\":{\"value\":\"#28AE7F\"},\"x\":{\"field\":\"date_time\"},\"y\":{\"field\":\"y_index\"}},\"id\":\"2778\",\"type\":\"Circle\"},{\"attributes\":{},\"id\":\"3166\",\"type\":\"Selection\"},{\"attributes\":{\"data\":{\"date_time\":{\"__ndarray__\":\"AAB2k67oc0IAAHogS+hzQgAAcMwE53NCAAAo9Jrpc0IAAPJj+OhzQgAA+lSm53NCAAAsek3pc0IAAMgVjOtzQgAA1Jje63NCAAAmaMrtc0IAAMbseO1zQgAAyqC+73NC\",\"dtype\":\"float64\",\"order\":\"little\",\"shape\":[12]},\"index\":[169,170,171,172,173,174,175,176,177,178,179,180],\"y_index\":[20,20,20,20,20,20,20,20,20,20,20,20]},\"selected\":{\"id\":\"3154\"},\"selection_policy\":{\"id\":\"3153\"}},\"id\":\"2545\",\"type\":\"ColumnDataSource\"},{\"attributes\":{\"fill_color\":{\"value\":\"#57C665\"},\"hatch_color\":{\"value\":\"#57C665\"},\"line_color\":{\"value\":\"#57C665\"},\"x\":{\"field\":\"date_time\"},\"y\":{\"field\":\"y_index\"}},\"id\":\"2807\",\"type\":\"Circle\"},{\"attributes\":{\"source\":{\"id\":\"2556\"}},\"id\":\"2805\",\"type\":\"CDSView\"},{\"attributes\":{},\"id\":\"3133\",\"type\":\"UnionRenderers\"},{\"attributes\":{\"data\":{\"date_time\":{\"__ndarray__\":\"AACaOE7pc0IAAFB53ulzQgAAqpVL6HNCAABWLp3oc0IAAEIdWudzQgAA2vSc6XNCAACGcUbqc0IAAISr8OlzQgAAWujb63NCAADKjtPsc0IAAKRRce5zQgAAuLW773NC\",\"dtype\":\"float64\",\"order\":\"little\",\"shape\":[12]},\"index\":[390,391,392,393,394,395,397,398,399,400,401,402],\"y_index\":[23,23,23,23,23,23,23,23,23,23,23,23]},\"selected\":{\"id\":\"3160\"},\"selection_policy\":{\"id\":\"3159\"}},\"id\":\"2548\",\"type\":\"ColumnDataSource\"},{\"attributes\":{\"fill_alpha\":{\"value\":0.2},\"fill_color\":{\"value\":\"#1FA386\"},\"hatch_alpha\":{\"value\":0.2},\"hatch_color\":{\"value\":\"#1FA386\"},\"line_alpha\":{\"value\":0.2},\"line_color\":{\"value\":\"#1FA386\"},\"x\":{\"field\":\"date_time\"},\"y\":{\"field\":\"y_index\"}},\"id\":\"2767\",\"type\":\"Circle\"},{\"attributes\":{\"coordinates\":null,\"data_source\":{\"id\":\"2550\"},\"glyph\":{\"id\":\"2765\"},\"group\":null,\"hover_glyph\":null,\"muted_glyph\":{\"id\":\"2767\"},\"nonselection_glyph\":{\"id\":\"2766\"},\"view\":{\"id\":\"2769\"}},\"id\":\"2768\",\"type\":\"GlyphRenderer\"},{\"attributes\":{},\"id\":\"3134\",\"type\":\"Selection\"},{\"attributes\":{\"source\":{\"id\":\"2550\"}},\"id\":\"2769\",\"type\":\"CDSView\"},{\"attributes\":{\"fill_alpha\":{\"value\":0.1},\"fill_color\":{\"value\":\"#443781\"},\"hatch_alpha\":{\"value\":0.1},\"hatch_color\":{\"value\":\"#443781\"},\"line_alpha\":{\"value\":0.1},\"line_color\":{\"value\":\"#443781\"},\"x\":{\"field\":\"date_time\"},\"y\":{\"field\":\"y_index\"}},\"id\":\"2658\",\"type\":\"Circle\"},{\"attributes\":{\"fill_color\":{\"value\":\"#23A883\"},\"hatch_color\":{\"value\":\"#23A883\"},\"line_color\":{\"value\":\"#23A883\"},\"x\":{\"field\":\"date_time\"},\"y\":{\"field\":\"y_index\"}},\"id\":\"2771\",\"type\":\"Circle\"},{\"attributes\":{\"fill_alpha\":{\"value\":0.1},\"fill_color\":{\"value\":\"#23A883\"},\"hatch_alpha\":{\"value\":0.1},\"hatch_color\":{\"value\":\"#23A883\"},\"line_alpha\":{\"value\":0.1},\"line_color\":{\"value\":\"#23A883\"},\"x\":{\"field\":\"date_time\"},\"y\":{\"field\":\"y_index\"}},\"id\":\"2772\",\"type\":\"Circle\"},{\"attributes\":{\"coordinates\":null,\"data_source\":{\"id\":\"2556\"},\"glyph\":{\"id\":\"2801\"},\"group\":null,\"hover_glyph\":null,\"muted_glyph\":{\"id\":\"2803\"},\"nonselection_glyph\":{\"id\":\"2802\"},\"view\":{\"id\":\"2805\"}},\"id\":\"2804\",\"type\":\"GlyphRenderer\"},{\"attributes\":{\"days\":[\"%m-%d %H:%M\"],\"hours\":[\"%H:%M:%S\"],\"milliseconds\":[\"%H:%M:%S.%3N\"],\"minutes\":[\"%H:%M:%S\"],\"seconds\":[\"%H:%M:%S\"]},\"id\":\"2612\",\"type\":\"DatetimeTickFormatter\"},{\"attributes\":{\"mantissas\":[1,2,5],\"max_interval\":500.0,\"num_minor_ticks\":0},\"id\":\"3188\",\"type\":\"AdaptiveTicker\"},{\"attributes\":{\"fill_alpha\":{\"value\":0.2},\"fill_color\":{\"value\":\"#4BC26C\"},\"hatch_alpha\":{\"value\":0.2},\"hatch_color\":{\"value\":\"#4BC26C\"},\"line_alpha\":{\"value\":0.2},\"line_color\":{\"value\":\"#4BC26C\"},\"x\":{\"field\":\"date_time\"},\"y\":{\"field\":\"y_index\"}},\"id\":\"2803\",\"type\":\"Circle\"},{\"attributes\":{\"fill_alpha\":{\"value\":0.2},\"fill_color\":{\"value\":\"#1E9D88\"},\"hatch_alpha\":{\"value\":0.2},\"hatch_color\":{\"value\":\"#1E9D88\"},\"line_alpha\":{\"value\":0.2},\"line_color\":{\"value\":\"#1E9D88\"},\"x\":{\"field\":\"date_time\"},\"y\":{\"field\":\"y_index\"}},\"id\":\"2761\",\"type\":\"Circle\"},{\"attributes\":{\"coordinates\":null,\"data_source\":{\"id\":\"2549\"},\"glyph\":{\"id\":\"2759\"},\"group\":null,\"hover_glyph\":null,\"muted_glyph\":{\"id\":\"2761\"},\"nonselection_glyph\":{\"id\":\"2760\"},\"view\":{\"id\":\"2763\"}},\"id\":\"2762\",\"type\":\"GlyphRenderer\"},{\"attributes\":{\"base\":60,\"mantissas\":[1,2,5,10,15,20,30],\"max_interval\":1800000.0,\"min_interval\":1000.0,\"num_minor_ticks\":0},\"id\":\"3189\",\"type\":\"AdaptiveTicker\"},{\"attributes\":{\"source\":{\"id\":\"2549\"}},\"id\":\"2763\",\"type\":\"CDSView\"},{\"attributes\":{\"base\":24,\"mantissas\":[1,2,4,6,8,12],\"max_interval\":43200000.0,\"min_interval\":3600000.0,\"num_minor_ticks\":0},\"id\":\"3190\",\"type\":\"AdaptiveTicker\"},{\"attributes\":{\"coordinates\":null,\"data_source\":{\"id\":\"2533\"},\"glyph\":{\"id\":\"2663\"},\"group\":null,\"hover_glyph\":null,\"muted_glyph\":{\"id\":\"2665\"},\"nonselection_glyph\":{\"id\":\"2664\"},\"view\":{\"id\":\"2667\"}},\"id\":\"2666\",\"type\":\"GlyphRenderer\"},{\"attributes\":{\"fill_color\":{\"value\":\"#1FA386\"},\"hatch_color\":{\"value\":\"#1FA386\"},\"line_color\":{\"value\":\"#1FA386\"},\"x\":{\"field\":\"date_time\"},\"y\":{\"field\":\"y_index\"}},\"id\":\"2765\",\"type\":\"Circle\"},{\"attributes\":{\"months\":[0,4,8]},\"id\":\"3197\",\"type\":\"MonthsTicker\"},{\"attributes\":{\"end\":1371184488000.0,\"start\":1366321032000.0},\"id\":\"2598\",\"type\":\"Range1d\"},{\"attributes\":{\"fill_alpha\":{\"value\":0.1},\"fill_color\":{\"value\":\"#1FA386\"},\"hatch_alpha\":{\"value\":0.1},\"hatch_color\":{\"value\":\"#1FA386\"},\"line_alpha\":{\"value\":0.1},\"line_color\":{\"value\":\"#1FA386\"},\"x\":{\"field\":\"date_time\"},\"y\":{\"field\":\"y_index\"}},\"id\":\"2766\",\"type\":\"Circle\"},{\"attributes\":{\"months\":[0,1,2,3,4,5,6,7,8,9,10,11]},\"id\":\"3195\",\"type\":\"MonthsTicker\"},{\"attributes\":{\"label\":{\"value\":\"u14\"},\"renderers\":[{\"id\":\"2903\"}]},\"id\":\"2905\",\"type\":\"LegendItem\"},{\"attributes\":{\"days\":[1,15]},\"id\":\"3194\",\"type\":\"DaysTicker\"},{\"attributes\":{\"fill_alpha\":{\"value\":0.1},\"fill_color\":{\"value\":\"#3F4587\"},\"hatch_alpha\":{\"value\":0.1},\"hatch_color\":{\"value\":\"#3F4587\"},\"line_alpha\":{\"value\":0.1},\"line_color\":{\"value\":\"#3F4587\"},\"marker\":{\"value\":\"diamond\"},\"size\":{\"value\":10},\"x\":{\"field\":\"date_time\"},\"y\":{\"field\":\"y_index\"}},\"id\":\"2908\",\"type\":\"Scatter\"},{\"attributes\":{\"days\":[1,2,3,4,5,6,7,8,9,10,11,12,13,14,15,16,17,18,19,20,21,22,23,24,25,26,27,28,29,30,31]},\"id\":\"3191\",\"type\":\"DaysTicker\"},{\"attributes\":{\"fill_alpha\":{\"value\":0.2},\"fill_color\":{\"value\":\"#1E988A\"},\"hatch_alpha\":{\"value\":0.2},\"hatch_color\":{\"value\":\"#1E988A\"},\"line_alpha\":{\"value\":0.2},\"line_color\":{\"value\":\"#1E988A\"},\"x\":{\"field\":\"date_time\"},\"y\":{\"field\":\"y_index\"}},\"id\":\"2755\",\"type\":\"Circle\"},{\"attributes\":{\"days\":[1,4,7,10,13,16,19,22,25,28]},\"id\":\"3192\",\"type\":\"DaysTicker\"},{\"attributes\":{\"coordinates\":null,\"data_source\":{\"id\":\"2548\"},\"glyph\":{\"id\":\"2753\"},\"group\":null,\"hover_glyph\":null,\"muted_glyph\":{\"id\":\"2755\"},\"nonselection_glyph\":{\"id\":\"2754\"},\"view\":{\"id\":\"2757\"}},\"id\":\"2756\",\"type\":\"GlyphRenderer\"},{\"attributes\":{\"days\":[1,8,15,22]},\"id\":\"3193\",\"type\":\"DaysTicker\"},{\"attributes\":{\"source\":{\"id\":\"2548\"}},\"id\":\"2757\",\"type\":\"CDSView\"},{\"attributes\":{},\"id\":\"3167\",\"type\":\"UnionRenderers\"},{\"attributes\":{\"months\":[0,6]},\"id\":\"3198\",\"type\":\"MonthsTicker\"},{\"attributes\":{\"fill_color\":{\"value\":\"#1E9D88\"},\"hatch_color\":{\"value\":\"#1E9D88\"},\"line_color\":{\"value\":\"#1E9D88\"},\"x\":{\"field\":\"date_time\"},\"y\":{\"field\":\"y_index\"}},\"id\":\"2759\",\"type\":\"Circle\"},{\"attributes\":{\"fill_alpha\":{\"value\":0.1},\"fill_color\":{\"value\":\"#1E9D88\"},\"hatch_alpha\":{\"value\":0.1},\"hatch_color\":{\"value\":\"#1E9D88\"},\"line_alpha\":{\"value\":0.1},\"line_color\":{\"value\":\"#1E9D88\"},\"x\":{\"field\":\"date_time\"},\"y\":{\"field\":\"y_index\"}},\"id\":\"2760\",\"type\":\"Circle\"},{\"attributes\":{\"data\":{\"date_time\":{\"__ndarray__\":\"AAAMT27mc0IAAKriWedzQgAAuOvW6XNCAACq4lnnc0IAAAKJpehzQgAAkD7553NCAAB+//3oc0IAAORekulzQgAANHft6XNCAABYly7sc0IAAHy9aO9zQgAAxDIV73NC\",\"dtype\":\"float64\",\"order\":\"little\",\"shape\":[12]},\"index\":[325,326,327,328,329,330,331,332,333,334,335,336],\"y_index\":[30,30,30,30,30,30,30,30,30,30,30,30]},\"selected\":{\"id\":\"3174\"},\"selection_policy\":{\"id\":\"3173\"}},\"id\":\"2555\",\"type\":\"ColumnDataSource\"}],\"root_ids\":[\"3103\"]},\"title\":\"Bokeh Application\",\"version\":\"2.4.3\"}};\n  const render_items = [{\"docid\":\"10209f6f-41bb-4c58-b4cd-11b4c4cd83de\",\"root_ids\":[\"3103\"],\"roots\":{\"3103\":\"c1ce9c39-7075-4581-a3d1-f40ee31332c8\"}}];\n  root.Bokeh.embed.embed_items_notebook(docs_json, render_items);\n  }\n  if (root.Bokeh !== undefined) {\n    embed_document(root);\n  } else {\n    let attempts = 0;\n    const timer = setInterval(function(root) {\n      if (root.Bokeh !== undefined) {\n        clearInterval(timer);\n        embed_document(root);\n      } else {\n        attempts++;\n        if (attempts > 100) {\n          clearInterval(timer);\n          console.log(\"Bokeh: ERROR: Unable to run BokehJS code because BokehJS library is missing\");\n        }\n      }\n    }, 10, root)\n  }\n})(window);",
      "application/vnd.bokehjs_exec.v0+json": ""
     },
     "metadata": {
      "application/vnd.bokehjs_exec.v0+json": {
       "id": "3103"
      }
     },
     "output_type": "display_data"
    },
    {
     "data": {
      "text/html": [
       "<div style=\"display: table;\"><div style=\"display: table-row;\"><div style=\"display: table-cell;\"><b title=\"bokeh.models.layouts.Column\">Column</b>(</div><div style=\"display: table-cell;\">id&nbsp;=&nbsp;'3103', <span id=\"3759\" style=\"cursor: pointer;\">&hellip;)</span></div></div><div class=\"3758\" style=\"display: none;\"><div style=\"display: table-cell;\"></div><div style=\"display: table-cell;\">align&nbsp;=&nbsp;'start',</div></div><div class=\"3758\" style=\"display: none;\"><div style=\"display: table-cell;\"></div><div style=\"display: table-cell;\">aspect_ratio&nbsp;=&nbsp;None,</div></div><div class=\"3758\" style=\"display: none;\"><div style=\"display: table-cell;\"></div><div style=\"display: table-cell;\">background&nbsp;=&nbsp;None,</div></div><div class=\"3758\" style=\"display: none;\"><div style=\"display: table-cell;\"></div><div style=\"display: table-cell;\">children&nbsp;=&nbsp;[Figure(id='2563', ...), Figure(id='2595', ...)],</div></div><div class=\"3758\" style=\"display: none;\"><div style=\"display: table-cell;\"></div><div style=\"display: table-cell;\">css_classes&nbsp;=&nbsp;[],</div></div><div class=\"3758\" style=\"display: none;\"><div style=\"display: table-cell;\"></div><div style=\"display: table-cell;\">disabled&nbsp;=&nbsp;False,</div></div><div class=\"3758\" style=\"display: none;\"><div style=\"display: table-cell;\"></div><div style=\"display: table-cell;\">height&nbsp;=&nbsp;None,</div></div><div class=\"3758\" style=\"display: none;\"><div style=\"display: table-cell;\"></div><div style=\"display: table-cell;\">height_policy&nbsp;=&nbsp;'auto',</div></div><div class=\"3758\" style=\"display: none;\"><div style=\"display: table-cell;\"></div><div style=\"display: table-cell;\">js_event_callbacks&nbsp;=&nbsp;{},</div></div><div class=\"3758\" style=\"display: none;\"><div style=\"display: table-cell;\"></div><div style=\"display: table-cell;\">js_property_callbacks&nbsp;=&nbsp;{},</div></div><div class=\"3758\" style=\"display: none;\"><div style=\"display: table-cell;\"></div><div style=\"display: table-cell;\">margin&nbsp;=&nbsp;(0, 0, 0, 0),</div></div><div class=\"3758\" style=\"display: none;\"><div style=\"display: table-cell;\"></div><div style=\"display: table-cell;\">max_height&nbsp;=&nbsp;None,</div></div><div class=\"3758\" style=\"display: none;\"><div style=\"display: table-cell;\"></div><div style=\"display: table-cell;\">max_width&nbsp;=&nbsp;None,</div></div><div class=\"3758\" style=\"display: none;\"><div style=\"display: table-cell;\"></div><div style=\"display: table-cell;\">min_height&nbsp;=&nbsp;None,</div></div><div class=\"3758\" style=\"display: none;\"><div style=\"display: table-cell;\"></div><div style=\"display: table-cell;\">min_width&nbsp;=&nbsp;None,</div></div><div class=\"3758\" style=\"display: none;\"><div style=\"display: table-cell;\"></div><div style=\"display: table-cell;\">name&nbsp;=&nbsp;None,</div></div><div class=\"3758\" style=\"display: none;\"><div style=\"display: table-cell;\"></div><div style=\"display: table-cell;\">rows&nbsp;=&nbsp;'auto',</div></div><div class=\"3758\" style=\"display: none;\"><div style=\"display: table-cell;\"></div><div style=\"display: table-cell;\">sizing_mode&nbsp;=&nbsp;None,</div></div><div class=\"3758\" style=\"display: none;\"><div style=\"display: table-cell;\"></div><div style=\"display: table-cell;\">spacing&nbsp;=&nbsp;0,</div></div><div class=\"3758\" style=\"display: none;\"><div style=\"display: table-cell;\"></div><div style=\"display: table-cell;\">subscribed_events&nbsp;=&nbsp;[],</div></div><div class=\"3758\" style=\"display: none;\"><div style=\"display: table-cell;\"></div><div style=\"display: table-cell;\">syncable&nbsp;=&nbsp;True,</div></div><div class=\"3758\" style=\"display: none;\"><div style=\"display: table-cell;\"></div><div style=\"display: table-cell;\">tags&nbsp;=&nbsp;[],</div></div><div class=\"3758\" style=\"display: none;\"><div style=\"display: table-cell;\"></div><div style=\"display: table-cell;\">visible&nbsp;=&nbsp;True,</div></div><div class=\"3758\" style=\"display: none;\"><div style=\"display: table-cell;\"></div><div style=\"display: table-cell;\">width&nbsp;=&nbsp;None,</div></div><div class=\"3758\" style=\"display: none;\"><div style=\"display: table-cell;\"></div><div style=\"display: table-cell;\">width_policy&nbsp;=&nbsp;'auto')</div></div></div>\n",
       "<script>\n",
       "(function() {\n",
       "  let expanded = false;\n",
       "  const ellipsis = document.getElementById(\"3759\");\n",
       "  ellipsis.addEventListener(\"click\", function() {\n",
       "    const rows = document.getElementsByClassName(\"3758\");\n",
       "    for (let i = 0; i < rows.length; i++) {\n",
       "      const el = rows[i];\n",
       "      el.style.display = expanded ? \"none\" : \"table-row\";\n",
       "    }\n",
       "    ellipsis.innerHTML = expanded ? \"&hellip;)\" : \"&lsaquo;&lsaquo;&lsaquo;\";\n",
       "    expanded = !expanded;\n",
       "  });\n",
       "})();\n",
       "</script>\n"
      ],
      "text/plain": [
       "Column(id='3103', ...)"
      ]
     },
     "execution_count": 54,
     "metadata": {},
     "output_type": "execute_result"
    }
   ],
   "source": [
    "display_timeline(mood2_ema_df[['user_id','date_time']],time_column=\"date_time\",group_by='user_id')"
   ]
  },
  {
   "cell_type": "code",
   "execution_count": 55,
   "metadata": {},
   "outputs": [
    {
     "data": {
      "text/html": [
       "<div>\n",
       "<style scoped>\n",
       "    .dataframe tbody tr th:only-of-type {\n",
       "        vertical-align: middle;\n",
       "    }\n",
       "\n",
       "    .dataframe tbody tr th {\n",
       "        vertical-align: top;\n",
       "    }\n",
       "\n",
       "    .dataframe thead th {\n",
       "        text-align: right;\n",
       "    }\n",
       "</style>\n",
       "<table border=\"1\" class=\"dataframe\">\n",
       "  <thead>\n",
       "    <tr style=\"text-align: right;\">\n",
       "      <th></th>\n",
       "      <th>user_id</th>\n",
       "      <th>date_time</th>\n",
       "      <th>year</th>\n",
       "      <th>month</th>\n",
       "      <th>day</th>\n",
       "      <th>hours</th>\n",
       "      <th>minute</th>\n",
       "      <th>weekday</th>\n",
       "      <th>weeknumber</th>\n",
       "      <th>label_source</th>\n",
       "      <th>rating</th>\n",
       "    </tr>\n",
       "  </thead>\n",
       "  <tbody>\n",
       "    <tr>\n",
       "      <th>0</th>\n",
       "      <td>u00</td>\n",
       "      <td>2013-03-25 11:54:00</td>\n",
       "      <td>2013</td>\n",
       "      <td>03</td>\n",
       "      <td>25</td>\n",
       "      <td>11</td>\n",
       "      <td>54</td>\n",
       "      <td>Mon</td>\n",
       "      <td>12</td>\n",
       "      <td>stress_ema</td>\n",
       "      <td>2</td>\n",
       "    </tr>\n",
       "    <tr>\n",
       "      <th>1</th>\n",
       "      <td>u00</td>\n",
       "      <td>2013-03-25 20:33:00</td>\n",
       "      <td>2013</td>\n",
       "      <td>03</td>\n",
       "      <td>25</td>\n",
       "      <td>20</td>\n",
       "      <td>33</td>\n",
       "      <td>Mon</td>\n",
       "      <td>12</td>\n",
       "      <td>stress_ema</td>\n",
       "      <td>2</td>\n",
       "    </tr>\n",
       "    <tr>\n",
       "      <th>3</th>\n",
       "      <td>u00</td>\n",
       "      <td>2013-03-26 18:12:00</td>\n",
       "      <td>2013</td>\n",
       "      <td>03</td>\n",
       "      <td>26</td>\n",
       "      <td>18</td>\n",
       "      <td>12</td>\n",
       "      <td>Tue</td>\n",
       "      <td>12</td>\n",
       "      <td>stress_ema</td>\n",
       "      <td>1</td>\n",
       "    </tr>\n",
       "    <tr>\n",
       "      <th>4</th>\n",
       "      <td>u00</td>\n",
       "      <td>2013-03-27 19:25:00</td>\n",
       "      <td>2013</td>\n",
       "      <td>03</td>\n",
       "      <td>27</td>\n",
       "      <td>19</td>\n",
       "      <td>25</td>\n",
       "      <td>Wed</td>\n",
       "      <td>12</td>\n",
       "      <td>stress_ema</td>\n",
       "      <td>1</td>\n",
       "    </tr>\n",
       "    <tr>\n",
       "      <th>5</th>\n",
       "      <td>u00</td>\n",
       "      <td>2013-03-28 11:43:00</td>\n",
       "      <td>2013</td>\n",
       "      <td>03</td>\n",
       "      <td>28</td>\n",
       "      <td>11</td>\n",
       "      <td>43</td>\n",
       "      <td>Thu</td>\n",
       "      <td>12</td>\n",
       "      <td>stress_ema</td>\n",
       "      <td>2</td>\n",
       "    </tr>\n",
       "  </tbody>\n",
       "</table>\n",
       "</div>"
      ],
      "text/plain": [
       "  user_id           date_time  year month day hours minute weekday weeknumber  \\\n",
       "0     u00 2013-03-25 11:54:00  2013    03  25    11     54     Mon         12   \n",
       "1     u00 2013-03-25 20:33:00  2013    03  25    20     33     Mon         12   \n",
       "3     u00 2013-03-26 18:12:00  2013    03  26    18     12     Tue         12   \n",
       "4     u00 2013-03-27 19:25:00  2013    03  27    19     25     Wed         12   \n",
       "5     u00 2013-03-28 11:43:00  2013    03  28    11     43     Thu         12   \n",
       "\n",
       "  label_source rating  \n",
       "0   stress_ema      2  \n",
       "1   stress_ema      2  \n",
       "3   stress_ema      1  \n",
       "4   stress_ema      1  \n",
       "5   stress_ema      2  "
      ]
     },
     "execution_count": 55,
     "metadata": {},
     "output_type": "execute_result"
    }
   ],
   "source": [
    "stress_ema_sort_df.head()"
   ]
  },
  {
   "cell_type": "code",
   "execution_count": 56,
   "metadata": {},
   "outputs": [
    {
     "data": {
      "text/html": [
       "<div>\n",
       "<style scoped>\n",
       "    .dataframe tbody tr th:only-of-type {\n",
       "        vertical-align: middle;\n",
       "    }\n",
       "\n",
       "    .dataframe tbody tr th {\n",
       "        vertical-align: top;\n",
       "    }\n",
       "\n",
       "    .dataframe thead th {\n",
       "        text-align: right;\n",
       "    }\n",
       "</style>\n",
       "<table border=\"1\" class=\"dataframe\">\n",
       "  <thead>\n",
       "    <tr style=\"text-align: right;\">\n",
       "      <th></th>\n",
       "      <th>user_id</th>\n",
       "      <th>date_time</th>\n",
       "      <th>year</th>\n",
       "      <th>month</th>\n",
       "      <th>day</th>\n",
       "      <th>hours</th>\n",
       "      <th>minute</th>\n",
       "      <th>weekday</th>\n",
       "      <th>weeknumber</th>\n",
       "      <th>label_source</th>\n",
       "      <th>rating</th>\n",
       "    </tr>\n",
       "  </thead>\n",
       "  <tbody>\n",
       "    <tr>\n",
       "      <th>0</th>\n",
       "      <td>u17</td>\n",
       "      <td>04/26/2013, 16:09</td>\n",
       "      <td>2013</td>\n",
       "      <td>04</td>\n",
       "      <td>26</td>\n",
       "      <td>16</td>\n",
       "      <td>09</td>\n",
       "      <td>Fri</td>\n",
       "      <td>16</td>\n",
       "      <td>mood2_ema</td>\n",
       "      <td>2</td>\n",
       "    </tr>\n",
       "    <tr>\n",
       "      <th>1</th>\n",
       "      <td>u17</td>\n",
       "      <td>04/26/2013, 00:27</td>\n",
       "      <td>2013</td>\n",
       "      <td>04</td>\n",
       "      <td>26</td>\n",
       "      <td>00</td>\n",
       "      <td>27</td>\n",
       "      <td>Fri</td>\n",
       "      <td>16</td>\n",
       "      <td>mood2_ema</td>\n",
       "      <td>2</td>\n",
       "    </tr>\n",
       "    <tr>\n",
       "      <th>2</th>\n",
       "      <td>u17</td>\n",
       "      <td>04/27/2013, 17:23</td>\n",
       "      <td>2013</td>\n",
       "      <td>04</td>\n",
       "      <td>27</td>\n",
       "      <td>17</td>\n",
       "      <td>23</td>\n",
       "      <td>Sat</td>\n",
       "      <td>16</td>\n",
       "      <td>mood2_ema</td>\n",
       "      <td>3</td>\n",
       "    </tr>\n",
       "    <tr>\n",
       "      <th>3</th>\n",
       "      <td>u17</td>\n",
       "      <td>04/28/2013, 21:33</td>\n",
       "      <td>2013</td>\n",
       "      <td>04</td>\n",
       "      <td>28</td>\n",
       "      <td>21</td>\n",
       "      <td>33</td>\n",
       "      <td>Sun</td>\n",
       "      <td>16</td>\n",
       "      <td>mood2_ema</td>\n",
       "      <td>2</td>\n",
       "    </tr>\n",
       "    <tr>\n",
       "      <th>4</th>\n",
       "      <td>u17</td>\n",
       "      <td>05/13/2013, 20:59</td>\n",
       "      <td>2013</td>\n",
       "      <td>05</td>\n",
       "      <td>13</td>\n",
       "      <td>20</td>\n",
       "      <td>59</td>\n",
       "      <td>Mon</td>\n",
       "      <td>19</td>\n",
       "      <td>mood2_ema</td>\n",
       "      <td>2</td>\n",
       "    </tr>\n",
       "  </tbody>\n",
       "</table>\n",
       "</div>"
      ],
      "text/plain": [
       "  user_id          date_time  year month day hours minute weekday weeknumber  \\\n",
       "0     u17  04/26/2013, 16:09  2013    04  26    16     09     Fri         16   \n",
       "1     u17  04/26/2013, 00:27  2013    04  26    00     27     Fri         16   \n",
       "2     u17  04/27/2013, 17:23  2013    04  27    17     23     Sat         16   \n",
       "3     u17  04/28/2013, 21:33  2013    04  28    21     33     Sun         16   \n",
       "4     u17  05/13/2013, 20:59  2013    05  13    20     59     Mon         19   \n",
       "\n",
       "  label_source rating  \n",
       "0    mood2_ema      2  \n",
       "1    mood2_ema      2  \n",
       "2    mood2_ema      3  \n",
       "3    mood2_ema      2  \n",
       "4    mood2_ema      2  "
      ]
     },
     "execution_count": 56,
     "metadata": {},
     "output_type": "execute_result"
    }
   ],
   "source": [
    "mood2_ema_df.head()"
   ]
  },
  {
   "cell_type": "code",
   "execution_count": 57,
   "metadata": {},
   "outputs": [
    {
     "data": {
      "text/plain": [
       "(2128, 414, 2542)"
      ]
     },
     "execution_count": 57,
     "metadata": {},
     "output_type": "execute_result"
    }
   ],
   "source": [
    "len(stress_ema_sort_df),len(mood2_ema_df),len(stress_ema_sort_df)+len(mood2_ema_df)"
   ]
  },
  {
   "cell_type": "code",
   "execution_count": 58,
   "metadata": {},
   "outputs": [
    {
     "data": {
      "text/html": [
       "<div>\n",
       "<style scoped>\n",
       "    .dataframe tbody tr th:only-of-type {\n",
       "        vertical-align: middle;\n",
       "    }\n",
       "\n",
       "    .dataframe tbody tr th {\n",
       "        vertical-align: top;\n",
       "    }\n",
       "\n",
       "    .dataframe thead th {\n",
       "        text-align: right;\n",
       "    }\n",
       "</style>\n",
       "<table border=\"1\" class=\"dataframe\">\n",
       "  <thead>\n",
       "    <tr style=\"text-align: right;\">\n",
       "      <th></th>\n",
       "      <th>user_id</th>\n",
       "      <th>date_time</th>\n",
       "      <th>year</th>\n",
       "      <th>month</th>\n",
       "      <th>day</th>\n",
       "      <th>hours</th>\n",
       "      <th>minute</th>\n",
       "      <th>weekday</th>\n",
       "      <th>weeknumber</th>\n",
       "      <th>label_source</th>\n",
       "      <th>rating</th>\n",
       "    </tr>\n",
       "  </thead>\n",
       "  <tbody>\n",
       "    <tr>\n",
       "      <th>0</th>\n",
       "      <td>u00</td>\n",
       "      <td>2013-03-25 11:54:00</td>\n",
       "      <td>2013</td>\n",
       "      <td>03</td>\n",
       "      <td>25</td>\n",
       "      <td>11</td>\n",
       "      <td>54</td>\n",
       "      <td>Mon</td>\n",
       "      <td>12</td>\n",
       "      <td>stress_ema</td>\n",
       "      <td>2</td>\n",
       "    </tr>\n",
       "    <tr>\n",
       "      <th>1</th>\n",
       "      <td>u00</td>\n",
       "      <td>2013-03-25 20:33:00</td>\n",
       "      <td>2013</td>\n",
       "      <td>03</td>\n",
       "      <td>25</td>\n",
       "      <td>20</td>\n",
       "      <td>33</td>\n",
       "      <td>Mon</td>\n",
       "      <td>12</td>\n",
       "      <td>stress_ema</td>\n",
       "      <td>2</td>\n",
       "    </tr>\n",
       "    <tr>\n",
       "      <th>2</th>\n",
       "      <td>u00</td>\n",
       "      <td>2013-03-26 18:12:00</td>\n",
       "      <td>2013</td>\n",
       "      <td>03</td>\n",
       "      <td>26</td>\n",
       "      <td>18</td>\n",
       "      <td>12</td>\n",
       "      <td>Tue</td>\n",
       "      <td>12</td>\n",
       "      <td>stress_ema</td>\n",
       "      <td>1</td>\n",
       "    </tr>\n",
       "    <tr>\n",
       "      <th>3</th>\n",
       "      <td>u00</td>\n",
       "      <td>2013-03-27 19:25:00</td>\n",
       "      <td>2013</td>\n",
       "      <td>03</td>\n",
       "      <td>27</td>\n",
       "      <td>19</td>\n",
       "      <td>25</td>\n",
       "      <td>Wed</td>\n",
       "      <td>12</td>\n",
       "      <td>stress_ema</td>\n",
       "      <td>1</td>\n",
       "    </tr>\n",
       "    <tr>\n",
       "      <th>4</th>\n",
       "      <td>u00</td>\n",
       "      <td>2013-03-28 11:43:00</td>\n",
       "      <td>2013</td>\n",
       "      <td>03</td>\n",
       "      <td>28</td>\n",
       "      <td>11</td>\n",
       "      <td>43</td>\n",
       "      <td>Thu</td>\n",
       "      <td>12</td>\n",
       "      <td>stress_ema</td>\n",
       "      <td>2</td>\n",
       "    </tr>\n",
       "    <tr>\n",
       "      <th>...</th>\n",
       "      <td>...</td>\n",
       "      <td>...</td>\n",
       "      <td>...</td>\n",
       "      <td>...</td>\n",
       "      <td>...</td>\n",
       "      <td>...</td>\n",
       "      <td>...</td>\n",
       "      <td>...</td>\n",
       "      <td>...</td>\n",
       "      <td>...</td>\n",
       "      <td>...</td>\n",
       "    </tr>\n",
       "    <tr>\n",
       "      <th>2537</th>\n",
       "      <td>u10</td>\n",
       "      <td>05/09/2013, 15:48</td>\n",
       "      <td>2013</td>\n",
       "      <td>05</td>\n",
       "      <td>09</td>\n",
       "      <td>15</td>\n",
       "      <td>48</td>\n",
       "      <td>Thu</td>\n",
       "      <td>18</td>\n",
       "      <td>mood2_ema</td>\n",
       "      <td>2</td>\n",
       "    </tr>\n",
       "    <tr>\n",
       "      <th>2538</th>\n",
       "      <td>u10</td>\n",
       "      <td>05/06/2013, 16:42</td>\n",
       "      <td>2013</td>\n",
       "      <td>05</td>\n",
       "      <td>06</td>\n",
       "      <td>16</td>\n",
       "      <td>42</td>\n",
       "      <td>Mon</td>\n",
       "      <td>18</td>\n",
       "      <td>mood2_ema</td>\n",
       "      <td>3</td>\n",
       "    </tr>\n",
       "    <tr>\n",
       "      <th>2539</th>\n",
       "      <td>u10</td>\n",
       "      <td>05/28/2013, 17:52</td>\n",
       "      <td>2013</td>\n",
       "      <td>05</td>\n",
       "      <td>28</td>\n",
       "      <td>17</td>\n",
       "      <td>52</td>\n",
       "      <td>Tue</td>\n",
       "      <td>21</td>\n",
       "      <td>mood2_ema</td>\n",
       "      <td>3</td>\n",
       "    </tr>\n",
       "    <tr>\n",
       "      <th>2540</th>\n",
       "      <td>u10</td>\n",
       "      <td>05/30/2013, 18:29</td>\n",
       "      <td>2013</td>\n",
       "      <td>05</td>\n",
       "      <td>30</td>\n",
       "      <td>18</td>\n",
       "      <td>29</td>\n",
       "      <td>Thu</td>\n",
       "      <td>21</td>\n",
       "      <td>mood2_ema</td>\n",
       "      <td>1</td>\n",
       "    </tr>\n",
       "    <tr>\n",
       "      <th>2541</th>\n",
       "      <td>u10</td>\n",
       "      <td>06/02/2013, 18:09</td>\n",
       "      <td>2013</td>\n",
       "      <td>06</td>\n",
       "      <td>02</td>\n",
       "      <td>18</td>\n",
       "      <td>09</td>\n",
       "      <td>Sun</td>\n",
       "      <td>21</td>\n",
       "      <td>mood2_ema</td>\n",
       "      <td>1</td>\n",
       "    </tr>\n",
       "  </tbody>\n",
       "</table>\n",
       "<p>2542 rows × 11 columns</p>\n",
       "</div>"
      ],
      "text/plain": [
       "     user_id            date_time  year month day hours minute weekday  \\\n",
       "0        u00  2013-03-25 11:54:00  2013    03  25    11     54     Mon   \n",
       "1        u00  2013-03-25 20:33:00  2013    03  25    20     33     Mon   \n",
       "2        u00  2013-03-26 18:12:00  2013    03  26    18     12     Tue   \n",
       "3        u00  2013-03-27 19:25:00  2013    03  27    19     25     Wed   \n",
       "4        u00  2013-03-28 11:43:00  2013    03  28    11     43     Thu   \n",
       "...      ...                  ...   ...   ...  ..   ...    ...     ...   \n",
       "2537     u10    05/09/2013, 15:48  2013    05  09    15     48     Thu   \n",
       "2538     u10    05/06/2013, 16:42  2013    05  06    16     42     Mon   \n",
       "2539     u10    05/28/2013, 17:52  2013    05  28    17     52     Tue   \n",
       "2540     u10    05/30/2013, 18:29  2013    05  30    18     29     Thu   \n",
       "2541     u10    06/02/2013, 18:09  2013    06  02    18     09     Sun   \n",
       "\n",
       "     weeknumber label_source rating  \n",
       "0            12   stress_ema      2  \n",
       "1            12   stress_ema      2  \n",
       "2            12   stress_ema      1  \n",
       "3            12   stress_ema      1  \n",
       "4            12   stress_ema      2  \n",
       "...         ...          ...    ...  \n",
       "2537         18    mood2_ema      2  \n",
       "2538         18    mood2_ema      3  \n",
       "2539         21    mood2_ema      3  \n",
       "2540         21    mood2_ema      1  \n",
       "2541         21    mood2_ema      1  \n",
       "\n",
       "[2542 rows x 11 columns]"
      ]
     },
     "execution_count": 58,
     "metadata": {},
     "output_type": "execute_result"
    }
   ],
   "source": [
    "label_df = pd.concat([stress_ema_sort_df,mood2_ema_df],ignore_index=True)\n",
    "\n",
    "label_df"
   ]
  },
  {
   "cell_type": "code",
   "execution_count": 59,
   "metadata": {},
   "outputs": [],
   "source": [
    "label_df['date_time'] = pd.to_datetime(label_df['date_time'])"
   ]
  },
  {
   "cell_type": "code",
   "execution_count": 60,
   "metadata": {},
   "outputs": [],
   "source": [
    "label_df = label_df.groupby('user_id').apply(lambda x : x.sort_values(['date_time'])).reset_index(drop=True)"
   ]
  },
  {
   "cell_type": "code",
   "execution_count": 61,
   "metadata": {},
   "outputs": [
    {
     "data": {
      "text/plain": [
       "(2542, 2542)"
      ]
     },
     "execution_count": 61,
     "metadata": {},
     "output_type": "execute_result"
    }
   ],
   "source": [
    "label_stress = []\n",
    "\n",
    "\n",
    "for i in range(len(label_df)):\n",
    "    lab_so = label_df.iloc[i]['label_source']\n",
    "    rating = label_df.iloc[i]['rating']\n",
    "    if lab_so == 'stress_ema':\n",
    "        if int(rating) == 4 or int(rating) == 5 or int(rating) == 1:\n",
    "            \n",
    "            label_stress.append(0)\n",
    "        elif int(rating) == 2 or int(rating) == 3:# or int(rating) == 1:\n",
    "            #print(rating)\n",
    "            label_stress.append(1)\n",
    "            #break\n",
    "    if lab_so == 'mood2_ema':\n",
    "        if int(rating) == 2 :\n",
    "            label_stress.append(1)\n",
    "        elif int(rating) ==  1 or int(rating) ==  3:\n",
    "            label_stress.append(0)\n",
    "\n",
    "label_df['stress_label'] = label_stress\n",
    "\n",
    "len(label_stress),len(label_df)\n"
   ]
  },
  {
   "cell_type": "code",
   "execution_count": 62,
   "metadata": {},
   "outputs": [
    {
     "data": {
      "text/plain": [
       "0    1802\n",
       "1     740\n",
       "Name: stress_label, dtype: int64"
      ]
     },
     "execution_count": 62,
     "metadata": {},
     "output_type": "execute_result"
    }
   ],
   "source": [
    "# label_df['stress_label'].value_counts()  when little stressed (raing 1 of stress ema) is labeled as 0\n",
    "# 1    1685\n",
    "# 0     857\n",
    "# Name: stress_label, dtype: int64\n",
    "\n",
    "\n",
    "label_df['stress_label'].value_counts() ## when little stressed (raing 1 of stress ema) is labeled as 0"
   ]
  },
  {
   "cell_type": "code",
   "execution_count": null,
   "metadata": {},
   "outputs": [],
   "source": []
  },
  {
   "cell_type": "code",
   "execution_count": null,
   "metadata": {},
   "outputs": [],
   "source": []
  },
  {
   "cell_type": "code",
   "execution_count": 63,
   "metadata": {},
   "outputs": [],
   "source": [
    "label_df.to_csv('./data/label_after_EDA_df.csv',index= False)"
   ]
  },
  {
   "cell_type": "code",
   "execution_count": null,
   "metadata": {},
   "outputs": [],
   "source": [
    "display_timeline(label_df[['user_id','date_time']],time_column=\"date_time\",group_by='user_id')"
   ]
  },
  {
   "cell_type": "code",
   "execution_count": null,
   "metadata": {},
   "outputs": [],
   "source": [
    "import pickle as pkl\n",
    "\n",
    "with open('./data/ema_df_di.pkl','wb') as f:\n",
    "\n",
    "    pkl.dump(ema_df_di,f)"
   ]
  },
  {
   "cell_type": "code",
   "execution_count": null,
   "metadata": {},
   "outputs": [],
   "source": [
    "ema_df_di['Exercise']"
   ]
  },
  {
   "cell_type": "code",
   "execution_count": null,
   "metadata": {},
   "outputs": [],
   "source": [
    "display_timeline(ema_df_di['Exercise'][['user_id','date_time']],time_column=\"date_time\",group_by='user_id')"
   ]
  },
  {
   "cell_type": "code",
   "execution_count": null,
   "metadata": {},
   "outputs": [],
   "source": []
  },
  {
   "cell_type": "code",
   "execution_count": null,
   "metadata": {},
   "outputs": [],
   "source": [
    "# from matplotlib import pyplot as plt\n",
    "\n",
    "# A = [23,45,56,78,32,11]\n",
    "# B = [44,56,78,98]\n",
    "# C = [23,46,67,79]\n",
    "\n",
    "# x = []\n",
    "# y = []\n",
    "# for idx, lst in enumerate((A, B, C)):\n",
    "#     for time in lst:\n",
    "#         x.append(time)\n",
    "#         y.append(idx) \n",
    "\n",
    "# x        \n"
   ]
  },
  {
   "cell_type": "code",
   "execution_count": null,
   "metadata": {},
   "outputs": [],
   "source": [
    "# from matplotlib import pyplot as plt\n",
    "\n",
    "# A = [23,45,56,78,32,11]\n",
    "# B = [44,56,78,98]\n",
    "# C = [23,46,67,79]\n",
    "\n",
    "# x = []\n",
    "# y = []\n",
    "# for idx, lst in enumerate((A, B, C)):\n",
    "#     for time in lst:\n",
    "#         x.append(time)\n",
    "#         y.append(idx) \n",
    "\n",
    "# plt.ylim((-3,5))\n",
    "# plt.yticks([0, 1, 2], ['A', 'B', 'C'])\n",
    "# plt.scatter(x,y, color='r', s=70)\n",
    "# plt.show()"
   ]
  }
 ],
 "metadata": {
  "kernelspec": {
   "display_name": "Python 3.10.4 ('ucsd_hw')",
   "language": "python",
   "name": "python3"
  },
  "language_info": {
   "codemirror_mode": {
    "name": "ipython",
    "version": 3
   },
   "file_extension": ".py",
   "mimetype": "text/x-python",
   "name": "python",
   "nbconvert_exporter": "python",
   "pygments_lexer": "ipython3",
   "version": "3.10.4"
  },
  "orig_nbformat": 4,
  "vscode": {
   "interpreter": {
    "hash": "b527c3883f97d0c80049be9d21bf79bee304fc8cc62c9f8bd8d0aa656b2e9faa"
   }
  }
 },
 "nbformat": 4,
 "nbformat_minor": 2
}
